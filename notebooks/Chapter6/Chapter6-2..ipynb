{
 "cells": [
  {
   "cell_type": "code",
   "execution_count": 1,
   "metadata": {
    "ExecuteTime": {
     "end_time": "2023-01-27T14:44:55.866000+09:00",
     "start_time": "2023-01-27T05:44:55.174Z"
    }
   },
   "outputs": [
    {
     "name": "stdout",
     "output_type": "stream",
     "text": [
      "Julia Version 1.8.5\n",
      "Commit 17cfb8e65ea (2023-01-08 06:45 UTC)\n",
      "Platform Info:\n",
      "  OS: Linux (x86_64-linux-gnu)\n",
      "  CPU: 12 × Intel(R) Core(TM) i7-9750H CPU @ 2.60GHz\n",
      "  WORD_SIZE: 64\n",
      "  LIBM: libopenlibm\n",
      "  LLVM: libLLVM-13.0.1 (ORCJIT, skylake)\n",
      "  Threads: 1 on 12 virtual cores\n"
     ]
    }
   ],
   "source": [
    "versioninfo()"
   ]
  },
  {
   "cell_type": "markdown",
   "metadata": {},
   "source": [
    "## 6-2. イテレーションプロトコルの実装"
   ]
  },
  {
   "cell_type": "markdown",
   "metadata": {},
   "source": [
    "### 6-2-1. サイズが決まっているパターン"
   ]
  },
  {
   "cell_type": "markdown",
   "metadata": {},
   "source": [
    "#### 例1. 配列（`AbstractArray`）の派生型とする場合（推奨）"
   ]
  },
  {
   "cell_type": "markdown",
   "metadata": {},
   "source": [
    "##### コード6-19. `GeometricArray`（多次元に対応した等比数列型）"
   ]
  },
  {
   "cell_type": "markdown",
   "metadata": {
    "ExecuteTime": {
     "end_time": "2022-09-18T01:49:47.305000+09:00",
     "start_time": "2022-09-17T16:49:47.936Z"
    }
   },
   "source": [
    "```julia\n",
    "struct GeometricArray{T<:Number, N} <: AbstractArray{T, N}\n",
    "    a::T\n",
    "    r::T\n",
    "    ns::NTuple{N, Int}\n",
    "end\n",
    "\n",
    "function GeometricArray(a::T1, r::T2, ns::NTuple{N, Integer}) where {T1, T2, N}\n",
    "    GeometricArray(promote(a, r)..., Int.(ns))\n",
    "end\n",
    "\n",
    "function Base.show(io::IO, box::GeometricArray)\n",
    "    print(io, \"GeometricArray(\", box.a, \", \", box.r, \", \", box.ns, \")\")\n",
    "end\n",
    "Base.show(io::IO, ::MIME\"text/plain\", box::GeometricArray) = show(io, box)\n",
    "\n",
    "# Base.IteratorSize(GeometricArray{Int, 3}) == Base.HasShape{3}()\n",
    "\n",
    "Base.size(box::GeometricArray) = box.ns\n",
    "# `Base.length()` はデフォルト実装を利用\n",
    "\n",
    "# Base.IteratorEltype(GeometricArray) == Base.HasEltype()\n",
    "# eltype(GeometricArray{Int, 3}) == Int\n",
    "\n",
    "Base.IndexStyle(::Type{<:GeometricArray}) = IndexLinear()\n",
    "@inline function Base.getindex(box::GeometricArray, idx::Int) where {T, N}\n",
    "    @boundscheck checkbounds(box, idx::Int)\n",
    "    box.a * box.r ^ (idx - 1)\n",
    "end\n",
    "```"
   ]
  },
  {
   "cell_type": "code",
   "execution_count": 2,
   "metadata": {
    "ExecuteTime": {
     "end_time": "2023-01-27T14:44:55.926000+09:00",
     "start_time": "2023-01-27T05:44:55.176Z"
    }
   },
   "outputs": [
    {
     "name": "stderr",
     "output_type": "stream",
     "text": [
      "WARNING: method definition for getindex at /path/to/JuliaBook2023Samples/notebooks/Chapter6/GeometricArray.jl:25 declares type variable N but does not use it.\n",
      "WARNING: method definition for getindex at /path/to/JuliaBook2023Samples/notebooks/Chapter6/GeometricArray.jl:25 declares type variable T but does not use it.\n"
     ]
    }
   ],
   "source": [
    "include(\"GeometricArray.jl\")"
   ]
  },
  {
   "cell_type": "markdown",
   "metadata": {},
   "source": [
    "##### コード6-20. `GeometricArray` の動作確認"
   ]
  },
  {
   "cell_type": "code",
   "execution_count": 3,
   "metadata": {
    "ExecuteTime": {
     "end_time": "2023-01-27T14:44:56.423000+09:00",
     "start_time": "2023-01-27T05:44:55.177Z"
    }
   },
   "outputs": [
    {
     "data": {
      "text/plain": [
       "GeometricArray(10.0, 0.5, (5, 4, 3))"
      ]
     },
     "execution_count": 3,
     "metadata": {},
     "output_type": "execute_result"
    }
   ],
   "source": [
    "garray3 = GeometricArray(10, 0.5, (5, 4, 3))"
   ]
  },
  {
   "cell_type": "code",
   "execution_count": 4,
   "metadata": {
    "ExecuteTime": {
     "end_time": "2023-01-27T14:44:56.895000+09:00",
     "start_time": "2023-01-27T05:44:55.178Z"
    }
   },
   "outputs": [
    {
     "data": {
      "text/plain": [
       "Base.HasShape{3}()"
      ]
     },
     "execution_count": 4,
     "metadata": {},
     "output_type": "execute_result"
    }
   ],
   "source": [
    "Base.IteratorSize(typeof(garray3))  # GeometricArray <: AbstractArray なので `HasShape{N}`"
   ]
  },
  {
   "cell_type": "code",
   "execution_count": 5,
   "metadata": {
    "ExecuteTime": {
     "end_time": "2023-01-27T14:44:57.081000+09:00",
     "start_time": "2023-01-27T05:44:55.180Z"
    }
   },
   "outputs": [
    {
     "data": {
      "text/plain": [
       "(5, 4, 3)"
      ]
     },
     "execution_count": 5,
     "metadata": {},
     "output_type": "execute_result"
    }
   ],
   "source": [
    "size(garray3)"
   ]
  },
  {
   "cell_type": "code",
   "execution_count": 6,
   "metadata": {
    "ExecuteTime": {
     "end_time": "2023-01-27T14:44:57.239000+09:00",
     "start_time": "2023-01-27T05:44:55.182Z"
    }
   },
   "outputs": [
    {
     "data": {
      "text/plain": [
       "60"
      ]
     },
     "execution_count": 6,
     "metadata": {},
     "output_type": "execute_result"
    }
   ],
   "source": [
    "length(garray3)"
   ]
  },
  {
   "cell_type": "code",
   "execution_count": 7,
   "metadata": {
    "ExecuteTime": {
     "end_time": "2023-01-27T14:44:57.410000+09:00",
     "start_time": "2023-01-27T05:44:55.183Z"
    }
   },
   "outputs": [
    {
     "data": {
      "text/plain": [
       "Base.HasEltype()"
      ]
     },
     "execution_count": 7,
     "metadata": {},
     "output_type": "execute_result"
    }
   ],
   "source": [
    "Base.IteratorEltype(typeof(garray3))  # GeometricArray <: AbstractArray なので `HasEleType`"
   ]
  },
  {
   "cell_type": "code",
   "execution_count": 8,
   "metadata": {
    "ExecuteTime": {
     "end_time": "2023-01-27T14:44:57.701000+09:00",
     "start_time": "2023-01-27T05:44:55.185Z"
    }
   },
   "outputs": [
    {
     "data": {
      "text/plain": [
       "Float64"
      ]
     },
     "execution_count": 8,
     "metadata": {},
     "output_type": "execute_result"
    }
   ],
   "source": [
    "Base.eltype(garray3)"
   ]
  },
  {
   "cell_type": "code",
   "execution_count": 9,
   "metadata": {
    "ExecuteTime": {
     "end_time": "2023-01-27T14:44:57.768000+09:00",
     "start_time": "2023-01-27T05:44:55.186Z"
    }
   },
   "outputs": [
    {
     "name": "stdout",
     "output_type": "stream",
     "text": [
      "10.0\n",
      "5.0\n",
      "2.5\n",
      "1.25\n",
      "0.625\n",
      "0.3125\n",
      "0.15625\n",
      "0.078125\n",
      "0.0390625\n",
      "0.01953125\n",
      "0.009765625\n",
      "0.0048828125\n",
      "0.00244140625\n",
      "0.001220703125\n",
      "0.0006103515625\n",
      "0.00030517578125\n",
      "0.000152587890625\n",
      "7.62939453125e-5\n",
      "3.814697265625e-5\n",
      "1.9073486328125e-5\n",
      "9.5367431640625e-6\n",
      "4.76837158203125e-6\n",
      "2.384185791015625e-6\n",
      "1.1920928955078125e-6\n",
      "5.960464477539062e-7\n",
      "2.980232238769531e-7\n",
      "1.4901161193847656e-7\n",
      "7.450580596923828e-8\n",
      "3.725290298461914e-8\n",
      "1.862645149230957e-8\n",
      "9.313225746154785e-9\n",
      "4.6566128730773926e-9\n",
      "2.3283064365386963e-9\n",
      "1.1641532182693481e-9\n",
      "5.820766091346741e-10\n",
      "2.9103830456733704e-10\n",
      "1.4551915228366852e-10\n",
      "7.275957614183426e-11\n",
      "3.637978807091713e-11\n",
      "1.8189894035458565e-11\n",
      "9.094947017729282e-12\n",
      "4.547473508864641e-12\n",
      "2.2737367544323206e-12\n",
      "1.1368683772161603e-12\n",
      "5.684341886080801e-13\n",
      "2.8421709430404007e-13\n",
      "1.4210854715202004e-13\n",
      "7.105427357601002e-14\n",
      "3.552713678800501e-14\n",
      "1.7763568394002505e-14\n",
      "8.881784197001252e-15\n",
      "4.440892098500626e-15\n",
      "2.220446049250313e-15\n",
      "1.1102230246251565e-15\n",
      "5.551115123125783e-16\n",
      "2.7755575615628914e-16\n",
      "1.3877787807814457e-16\n",
      "6.938893903907228e-17\n",
      "3.469446951953614e-17\n",
      "1.734723475976807e-17\n"
     ]
    }
   ],
   "source": [
    "for v in garray3\n",
    "    println(v)\n",
    "end"
   ]
  },
  {
   "cell_type": "code",
   "execution_count": 10,
   "metadata": {
    "ExecuteTime": {
     "end_time": "2023-01-27T14:44:58.650000+09:00",
     "start_time": "2023-01-27T05:44:55.188Z"
    }
   },
   "outputs": [
    {
     "data": {
      "text/plain": [
       "5×4×3 Array{Float64, 3}:\n",
       "[:, :, 1] =\n",
       " 10.0    0.3125     0.00976562   0.000305176\n",
       "  5.0    0.15625    0.00488281   0.000152588\n",
       "  2.5    0.078125   0.00244141   7.62939e-5\n",
       "  1.25   0.0390625  0.0012207    3.8147e-5\n",
       "  0.625  0.0195312  0.000610352  1.90735e-5\n",
       "\n",
       "[:, :, 2] =\n",
       " 9.53674e-6  2.98023e-7  9.31323e-9   2.91038e-10\n",
       " 4.76837e-6  1.49012e-7  4.65661e-9   1.45519e-10\n",
       " 2.38419e-6  7.45058e-8  2.32831e-9   7.27596e-11\n",
       " 1.19209e-6  3.72529e-8  1.16415e-9   3.63798e-11\n",
       " 5.96046e-7  1.86265e-8  5.82077e-10  1.81899e-11\n",
       "\n",
       "[:, :, 3] =\n",
       " 9.09495e-12  2.84217e-13  8.88178e-15  2.77556e-16\n",
       " 4.54747e-12  1.42109e-13  4.44089e-15  1.38778e-16\n",
       " 2.27374e-12  7.10543e-14  2.22045e-15  6.93889e-17\n",
       " 1.13687e-12  3.55271e-14  1.11022e-15  3.46945e-17\n",
       " 5.68434e-13  1.77636e-14  5.55112e-16  1.73472e-17"
      ]
     },
     "execution_count": 10,
     "metadata": {},
     "output_type": "execute_result"
    }
   ],
   "source": [
    "[v for v in garray3]"
   ]
  },
  {
   "cell_type": "code",
   "execution_count": 11,
   "metadata": {
    "ExecuteTime": {
     "end_time": "2023-01-27T14:44:58.691000+09:00",
     "start_time": "2023-01-27T05:44:55.190Z"
    }
   },
   "outputs": [
    {
     "data": {
      "text/plain": [
       "5×4×3 Array{Float64, 3}:\n",
       "[:, :, 1] =\n",
       " 10.0    0.3125     0.00976562   0.000305176\n",
       "  5.0    0.15625    0.00488281   0.000152588\n",
       "  2.5    0.078125   0.00244141   7.62939e-5\n",
       "  1.25   0.0390625  0.0012207    3.8147e-5\n",
       "  0.625  0.0195312  0.000610352  1.90735e-5\n",
       "\n",
       "[:, :, 2] =\n",
       " 9.53674e-6  2.98023e-7  9.31323e-9   2.91038e-10\n",
       " 4.76837e-6  1.49012e-7  4.65661e-9   1.45519e-10\n",
       " 2.38419e-6  7.45058e-8  2.32831e-9   7.27596e-11\n",
       " 1.19209e-6  3.72529e-8  1.16415e-9   3.63798e-11\n",
       " 5.96046e-7  1.86265e-8  5.82077e-10  1.81899e-11\n",
       "\n",
       "[:, :, 3] =\n",
       " 9.09495e-12  2.84217e-13  8.88178e-15  2.77556e-16\n",
       " 4.54747e-12  1.42109e-13  4.44089e-15  1.38778e-16\n",
       " 2.27374e-12  7.10543e-14  2.22045e-15  6.93889e-17\n",
       " 1.13687e-12  3.55271e-14  1.11022e-15  3.46945e-17\n",
       " 5.68434e-13  1.77636e-14  5.55112e-16  1.73472e-17"
      ]
     },
     "execution_count": 11,
     "metadata": {},
     "output_type": "execute_result"
    }
   ],
   "source": [
    "collect(garray3)"
   ]
  },
  {
   "cell_type": "markdown",
   "metadata": {},
   "source": [
    "#### 例2. 配列（`AbstractArray`）の派生型としない場合"
   ]
  },
  {
   "cell_type": "markdown",
   "metadata": {},
   "source": [
    "##### コード6-21. `GeometricBox`（多次元に対応した等比数列型（配列型の派生型としない実装））"
   ]
  },
  {
   "cell_type": "markdown",
   "metadata": {},
   "source": [
    "```julia\n",
    "struct GeometricBox{T<:Number, N}\n",
    "    a::T\n",
    "    r::T\n",
    "    ns::NTuple{N, Int}\n",
    "end\n",
    "\n",
    "function GeometricBox(a::T1, r::T2, ns::NTuple{N, Integer}) where {T1, T2, N}\n",
    "    GeometricBox(promote(a, r)..., Int.(ns))\n",
    "end\n",
    "\n",
    "#### `IteratorSize()`\n",
    "Base.IteratorSize(::Type{GeometricBox{T, N}}) where {T, N} = Base.HasShape{N}()\n",
    "Base.size(box::GeometricBox) = box.ns\n",
    "Base.length(box::GeometricBox) = prod(box.ns)\n",
    "\n",
    "#### `IteratorEltype()`\n",
    "# Base.IteratorEltype(::Type{<:GeometricBox}) = Base.HasEltype()\n",
    "Base.eltype(::Type{<:GeometricBox{T}}) where {T} = T\n",
    "\n",
    "#### `iterate()`\n",
    "Base.iterate(box::GeometricBox) = (box.a, (box.a, length(box) - 1))\n",
    "function Base.iterate(box::GeometricBox{T}, (prev, rest)::Tuple{T, Int}) where {T}\n",
    "    rest == 0 && return nothing\n",
    "    next = prev * box.r\n",
    "    (next, (next, rest - 1))\n",
    "end\n",
    "```"
   ]
  },
  {
   "cell_type": "code",
   "execution_count": 12,
   "metadata": {
    "ExecuteTime": {
     "end_time": "2023-01-27T14:44:58.701000+09:00",
     "start_time": "2023-01-27T05:44:55.191Z"
    }
   },
   "outputs": [],
   "source": [
    "include(\"GeometricBox.jl\")"
   ]
  },
  {
   "cell_type": "markdown",
   "metadata": {},
   "source": [
    "##### コード6-22. `GeometricBox` の動作確認"
   ]
  },
  {
   "cell_type": "code",
   "execution_count": 13,
   "metadata": {
    "ExecuteTime": {
     "end_time": "2023-01-27T14:44:58.905000+09:00",
     "start_time": "2023-01-27T05:44:55.193Z"
    }
   },
   "outputs": [
    {
     "data": {
      "text/plain": [
       "GeometricBox{Float64, 3}(10.0, 0.5, (5, 4, 3))"
      ]
     },
     "execution_count": 13,
     "metadata": {},
     "output_type": "execute_result"
    }
   ],
   "source": [
    "gbox3 = GeometricBox(10, 0.5, (5, 4, 3))"
   ]
  },
  {
   "cell_type": "code",
   "execution_count": 14,
   "metadata": {
    "ExecuteTime": {
     "end_time": "2023-01-27T14:44:58.907000+09:00",
     "start_time": "2023-01-27T05:44:55.194Z"
    }
   },
   "outputs": [
    {
     "data": {
      "text/plain": [
       "Base.HasShape{3}()"
      ]
     },
     "execution_count": 14,
     "metadata": {},
     "output_type": "execute_result"
    }
   ],
   "source": [
    "Base.IteratorSize(typeof(gbox3))"
   ]
  },
  {
   "cell_type": "code",
   "execution_count": 15,
   "metadata": {
    "ExecuteTime": {
     "end_time": "2023-01-27T14:44:58.912000+09:00",
     "start_time": "2023-01-27T05:44:55.196Z"
    }
   },
   "outputs": [
    {
     "data": {
      "text/plain": [
       "(5, 4, 3)"
      ]
     },
     "execution_count": 15,
     "metadata": {},
     "output_type": "execute_result"
    }
   ],
   "source": [
    "size(gbox3)"
   ]
  },
  {
   "cell_type": "code",
   "execution_count": 16,
   "metadata": {
    "ExecuteTime": {
     "end_time": "2023-01-27T14:44:58.916000+09:00",
     "start_time": "2023-01-27T05:44:55.197Z"
    }
   },
   "outputs": [
    {
     "data": {
      "text/plain": [
       "60"
      ]
     },
     "execution_count": 16,
     "metadata": {},
     "output_type": "execute_result"
    }
   ],
   "source": [
    "length(gbox3)"
   ]
  },
  {
   "cell_type": "code",
   "execution_count": 17,
   "metadata": {
    "ExecuteTime": {
     "end_time": "2023-01-27T14:44:58.919000+09:00",
     "start_time": "2023-01-27T05:44:55.199Z"
    }
   },
   "outputs": [
    {
     "data": {
      "text/plain": [
       "Base.HasEltype()"
      ]
     },
     "execution_count": 17,
     "metadata": {},
     "output_type": "execute_result"
    }
   ],
   "source": [
    "Base.IteratorEltype(typeof(gbox3))"
   ]
  },
  {
   "cell_type": "code",
   "execution_count": 18,
   "metadata": {
    "ExecuteTime": {
     "end_time": "2023-01-27T14:44:58.920000+09:00",
     "start_time": "2023-01-27T05:44:55.200Z"
    }
   },
   "outputs": [
    {
     "data": {
      "text/plain": [
       "Float64"
      ]
     },
     "execution_count": 18,
     "metadata": {},
     "output_type": "execute_result"
    }
   ],
   "source": [
    "Base.eltype(gbox3)"
   ]
  },
  {
   "cell_type": "code",
   "execution_count": 19,
   "metadata": {
    "ExecuteTime": {
     "end_time": "2023-01-27T14:44:58.939000+09:00",
     "start_time": "2023-01-27T05:44:55.202Z"
    }
   },
   "outputs": [
    {
     "name": "stdout",
     "output_type": "stream",
     "text": [
      "10.0\n",
      "5.0\n",
      "2.5\n",
      "1.25\n",
      "0.625\n",
      "0.3125\n",
      "0.15625\n",
      "0.078125\n",
      "0.0390625\n",
      "0.01953125\n",
      "0.009765625\n",
      "0.0048828125\n",
      "0.00244140625\n",
      "0.001220703125\n",
      "0.0006103515625\n",
      "0.00030517578125\n",
      "0.000152587890625\n",
      "7.62939453125e-5\n",
      "3.814697265625e-5\n",
      "1.9073486328125e-5\n",
      "9.5367431640625e-6\n",
      "4.76837158203125e-6\n",
      "2.384185791015625e-6\n",
      "1.1920928955078125e-6\n",
      "5.960464477539062e-7\n",
      "2.980232238769531e-7\n",
      "1.4901161193847656e-7\n",
      "7.450580596923828e-8\n",
      "3.725290298461914e-8\n",
      "1.862645149230957e-8\n",
      "9.313225746154785e-9\n",
      "4.6566128730773926e-9\n",
      "2.3283064365386963e-9\n",
      "1.1641532182693481e-9\n",
      "5.820766091346741e-10\n",
      "2.9103830456733704e-10\n",
      "1.4551915228366852e-10\n",
      "7.275957614183426e-11\n",
      "3.637978807091713e-11\n",
      "1.8189894035458565e-11\n",
      "9.094947017729282e-12\n",
      "4.547473508864641e-12\n",
      "2.2737367544323206e-12\n",
      "1.1368683772161603e-12\n",
      "5.684341886080801e-13\n",
      "2.8421709430404007e-13\n",
      "1.4210854715202004e-13\n",
      "7.105427357601002e-14\n",
      "3.552713678800501e-14\n",
      "1.7763568394002505e-14\n",
      "8.881784197001252e-15\n",
      "4.440892098500626e-15\n",
      "2.220446049250313e-15\n",
      "1.1102230246251565e-15\n",
      "5.551115123125783e-16\n",
      "2.7755575615628914e-16\n",
      "1.3877787807814457e-16\n",
      "6.938893903907228e-17\n",
      "3.469446951953614e-17\n",
      "1.734723475976807e-17\n"
     ]
    }
   ],
   "source": [
    "for v in gbox3\n",
    "    println(v)\n",
    "end"
   ]
  },
  {
   "cell_type": "code",
   "execution_count": 20,
   "metadata": {
    "ExecuteTime": {
     "end_time": "2023-01-27T14:44:58.955000+09:00",
     "start_time": "2023-01-27T05:44:55.204Z"
    }
   },
   "outputs": [
    {
     "data": {
      "text/plain": [
       "5×4×3 Array{Float64, 3}:\n",
       "[:, :, 1] =\n",
       " 10.0    0.3125     0.00976562   0.000305176\n",
       "  5.0    0.15625    0.00488281   0.000152588\n",
       "  2.5    0.078125   0.00244141   7.62939e-5\n",
       "  1.25   0.0390625  0.0012207    3.8147e-5\n",
       "  0.625  0.0195312  0.000610352  1.90735e-5\n",
       "\n",
       "[:, :, 2] =\n",
       " 9.53674e-6  2.98023e-7  9.31323e-9   2.91038e-10\n",
       " 4.76837e-6  1.49012e-7  4.65661e-9   1.45519e-10\n",
       " 2.38419e-6  7.45058e-8  2.32831e-9   7.27596e-11\n",
       " 1.19209e-6  3.72529e-8  1.16415e-9   3.63798e-11\n",
       " 5.96046e-7  1.86265e-8  5.82077e-10  1.81899e-11\n",
       "\n",
       "[:, :, 3] =\n",
       " 9.09495e-12  2.84217e-13  8.88178e-15  2.77556e-16\n",
       " 4.54747e-12  1.42109e-13  4.44089e-15  1.38778e-16\n",
       " 2.27374e-12  7.10543e-14  2.22045e-15  6.93889e-17\n",
       " 1.13687e-12  3.55271e-14  1.11022e-15  3.46945e-17\n",
       " 5.68434e-13  1.77636e-14  5.55112e-16  1.73472e-17"
      ]
     },
     "execution_count": 20,
     "metadata": {},
     "output_type": "execute_result"
    }
   ],
   "source": [
    "[v for v in gbox3]"
   ]
  },
  {
   "cell_type": "code",
   "execution_count": 21,
   "metadata": {
    "ExecuteTime": {
     "end_time": "2023-01-27T14:44:58.968000+09:00",
     "start_time": "2023-01-27T05:44:55.205Z"
    }
   },
   "outputs": [
    {
     "data": {
      "text/plain": [
       "5×4×3 Array{Float64, 3}:\n",
       "[:, :, 1] =\n",
       " 10.0    0.3125     0.00976562   0.000305176\n",
       "  5.0    0.15625    0.00488281   0.000152588\n",
       "  2.5    0.078125   0.00244141   7.62939e-5\n",
       "  1.25   0.0390625  0.0012207    3.8147e-5\n",
       "  0.625  0.0195312  0.000610352  1.90735e-5\n",
       "\n",
       "[:, :, 2] =\n",
       " 9.53674e-6  2.98023e-7  9.31323e-9   2.91038e-10\n",
       " 4.76837e-6  1.49012e-7  4.65661e-9   1.45519e-10\n",
       " 2.38419e-6  7.45058e-8  2.32831e-9   7.27596e-11\n",
       " 1.19209e-6  3.72529e-8  1.16415e-9   3.63798e-11\n",
       " 5.96046e-7  1.86265e-8  5.82077e-10  1.81899e-11\n",
       "\n",
       "[:, :, 3] =\n",
       " 9.09495e-12  2.84217e-13  8.88178e-15  2.77556e-16\n",
       " 4.54747e-12  1.42109e-13  4.44089e-15  1.38778e-16\n",
       " 2.27374e-12  7.10543e-14  2.22045e-15  6.93889e-17\n",
       " 1.13687e-12  3.55271e-14  1.11022e-15  3.46945e-17\n",
       " 5.68434e-13  1.77636e-14  5.55112e-16  1.73472e-17"
      ]
     },
     "execution_count": 21,
     "metadata": {},
     "output_type": "execute_result"
    }
   ],
   "source": [
    "collect(gbox3)"
   ]
  },
  {
   "cell_type": "markdown",
   "metadata": {},
   "source": [
    "### 6-2-2. 長さが不定のパターン"
   ]
  },
  {
   "cell_type": "markdown",
   "metadata": {},
   "source": [
    "#### 例. コラッツの予想"
   ]
  },
  {
   "cell_type": "markdown",
   "metadata": {},
   "source": [
    "##### コード6-23. Collatz（コラッツの予想をイテレーションで実現する例）"
   ]
  },
  {
   "cell_type": "markdown",
   "metadata": {},
   "source": [
    "```julia\n",
    "struct Collatz{I <: Integer}\n",
    "    start::I\n",
    "end\n",
    "\n",
    "Base.IteratorSize(::Type{<:Collatz}) = Base.SizeUnknown()\n",
    "\n",
    "Base.IteratorEltype(::Type{<:Collatz}) = Base.HasEltype()\n",
    "Base.eltype(::Type{Collatz{I}}) where I = I\n",
    "\n",
    "Base.iterate(c::Collatz) = (c.start, c.start)\n",
    "function Base.iterate(::Collatz, prev)\n",
    "    prev == 1 && return nothing\n",
    "    next = if iseven(prev)\n",
    "        prev ÷ 2\n",
    "    else\n",
    "        3prev + 1\n",
    "    end\n",
    "    (next, next)\n",
    "end\n",
    "```"
   ]
  },
  {
   "cell_type": "code",
   "execution_count": 22,
   "metadata": {
    "ExecuteTime": {
     "end_time": "2023-01-27T14:44:58.976000+09:00",
     "start_time": "2023-01-27T05:44:55.207Z"
    }
   },
   "outputs": [],
   "source": [
    "include(\"Collatz.jl\");"
   ]
  },
  {
   "cell_type": "markdown",
   "metadata": {},
   "source": [
    "##### コード6-24. コラッツの予想（長さが有限のものの確認）"
   ]
  },
  {
   "cell_type": "code",
   "execution_count": 23,
   "metadata": {
    "ExecuteTime": {
     "end_time": "2023-01-27T14:44:59.009000+09:00",
     "start_time": "2023-01-27T05:44:55.208Z"
    }
   },
   "outputs": [
    {
     "name": "stdout",
     "output_type": "stream",
     "text": [
      "3\n",
      "10\n",
      "5\n",
      "16\n",
      "8\n",
      "4\n",
      "2\n",
      "1\n"
     ]
    }
   ],
   "source": [
    "for n in Collatz(3)\n",
    "    println(n)\n",
    "end"
   ]
  },
  {
   "cell_type": "code",
   "execution_count": 24,
   "metadata": {
    "ExecuteTime": {
     "end_time": "2023-01-27T14:44:59.513000+09:00",
     "start_time": "2023-01-27T05:44:55.210Z"
    }
   },
   "outputs": [
    {
     "data": {
      "text/plain": [
       "112-element Vector{Int64}:\n",
       "  27\n",
       "  82\n",
       "  41\n",
       " 124\n",
       "  62\n",
       "  31\n",
       "  94\n",
       "  47\n",
       " 142\n",
       "  71\n",
       " 214\n",
       " 107\n",
       " 322\n",
       "   ⋮\n",
       "  53\n",
       " 160\n",
       "  80\n",
       "  40\n",
       "  20\n",
       "  10\n",
       "   5\n",
       "  16\n",
       "   8\n",
       "   4\n",
       "   2\n",
       "   1"
      ]
     },
     "execution_count": 24,
     "metadata": {},
     "output_type": "execute_result"
    }
   ],
   "source": [
    "collect(Collatz(27))"
   ]
  },
  {
   "cell_type": "code",
   "execution_count": 25,
   "metadata": {
    "ExecuteTime": {
     "end_time": "2023-01-27T14:44:59.526000+09:00",
     "start_time": "2023-01-27T05:44:55.211Z"
    }
   },
   "outputs": [
    {
     "data": {
      "text/plain": [
       "9232"
      ]
     },
     "execution_count": 25,
     "metadata": {},
     "output_type": "execute_result"
    }
   ],
   "source": [
    "maximum(Collatz(27))"
   ]
  },
  {
   "cell_type": "markdown",
   "metadata": {},
   "source": [
    "##### コード6-25. コラッツの予想（初期値が負数のもの）"
   ]
  },
  {
   "cell_type": "markdown",
   "metadata": {},
   "source": [
    "Do not execute below:\n",
    "\n",
    "```julia\n",
    "julia> for n in Collatz(-3)\n",
    "           println(n)\n",
    "       end\n",
    "-3\n",
    "-8\n",
    "-4\n",
    "-2\n",
    "-1\n",
    "-2\n",
    "-1\n",
    "-2\n",
    "-1\n",
    "-2\n",
    "-1\n",
    "-2\n",
    "-1\n",
    " : 《以下延々と繰り返し…》\n",
    "```"
   ]
  },
  {
   "cell_type": "code",
   "execution_count": 26,
   "metadata": {
    "ExecuteTime": {
     "end_time": "2023-01-27T14:44:59.551000+09:00",
     "start_time": "2023-01-27T05:44:55.213Z"
    }
   },
   "outputs": [
    {
     "data": {
      "text/plain": [
       "20-element Vector{Int64}:\n",
       " -3\n",
       " -8\n",
       " -4\n",
       " -2\n",
       " -1\n",
       " -2\n",
       " -1\n",
       " -2\n",
       " -1\n",
       " -2\n",
       " -1\n",
       " -2\n",
       " -1\n",
       " -2\n",
       " -1\n",
       " -2\n",
       " -1\n",
       " -2\n",
       " -1\n",
       " -2"
      ]
     },
     "execution_count": 26,
     "metadata": {},
     "output_type": "execute_result"
    }
   ],
   "source": [
    "# collect(Collatz(-3))  # ←実行してはいけません！\n",
    "collect(Iterators.take(Collatz(-3), 20))"
   ]
  },
  {
   "cell_type": "markdown",
   "metadata": {},
   "source": [
    "### 6-2-3. 無限列挙"
   ]
  },
  {
   "cell_type": "markdown",
   "metadata": {},
   "source": [
    "#### 例. フィボナッチ数列"
   ]
  },
  {
   "cell_type": "markdown",
   "metadata": {},
   "source": [
    "##### コード6-26. フィボナッチ数列"
   ]
  },
  {
   "cell_type": "markdown",
   "metadata": {},
   "source": [
    "```julia\n",
    "struct FibSequence end\n",
    "const Fib = FibSequence()\n",
    "\n",
    "Base.IteratorSize(::Type{FibSequence}) = Base.IsInfinite()\n",
    "\n",
    "# Base.IteratorEltype(::Type{FibSequence}) = Base.HasEltype()\n",
    "Base.eltype(::Type{FibSequence}) = BigInt\n",
    "\n",
    "Base.iterate(::FibSequence) = iterate(Fib, (big\"1\", big\"0\"))\n",
    "\n",
    "function Base.iterate(::FibSequence, (Fₙ₋₂, Fₙ₋₁)::NTuple{2, BigInt})\n",
    "    Fₙ = Fₙ₋₂ + Fₙ₋₁\n",
    "    (Fₙ, (Fₙ₋₁, Fₙ))\n",
    "end\n",
    "```"
   ]
  },
  {
   "cell_type": "code",
   "execution_count": 27,
   "metadata": {
    "ExecuteTime": {
     "end_time": "2023-01-27T14:44:59.589000+09:00",
     "start_time": "2023-01-27T05:44:55.215Z"
    }
   },
   "outputs": [],
   "source": [
    "include(\"FibSequence.jl\");"
   ]
  },
  {
   "cell_type": "markdown",
   "metadata": {},
   "source": [
    "##### コード6-27. フィボナッチ数列の動作確認"
   ]
  },
  {
   "cell_type": "code",
   "execution_count": 28,
   "metadata": {
    "ExecuteTime": {
     "end_time": "2023-01-27T14:44:59.670000+09:00",
     "start_time": "2023-01-27T05:44:55.217Z"
    }
   },
   "outputs": [
    {
     "name": "stdout",
     "output_type": "stream",
     "text": [
      "1\n",
      "1\n",
      "2\n",
      "3\n",
      "5\n",
      "8\n",
      "13\n",
      "21\n",
      "34\n",
      "55\n"
     ]
    }
   ],
   "source": [
    "for n in Iterators.take(Fib, 10)\n",
    "    println(n)\n",
    "end"
   ]
  },
  {
   "cell_type": "code",
   "execution_count": 29,
   "metadata": {
    "ExecuteTime": {
     "end_time": "2023-01-27T14:45:00.048000+09:00",
     "start_time": "2023-01-27T05:44:55.218Z"
    }
   },
   "outputs": [
    {
     "data": {
      "text/plain": [
       "20-element Vector{BigInt}:\n",
       "    1\n",
       "    1\n",
       "    2\n",
       "    3\n",
       "    5\n",
       "    8\n",
       "   13\n",
       "   21\n",
       "   34\n",
       "   55\n",
       "   89\n",
       "  144\n",
       "  233\n",
       "  377\n",
       "  610\n",
       "  987\n",
       " 1597\n",
       " 2584\n",
       " 4181\n",
       " 6765"
      ]
     },
     "execution_count": 29,
     "metadata": {},
     "output_type": "execute_result"
    }
   ],
   "source": [
    "collect(Iterators.take(Fib, 20))"
   ]
  },
  {
   "cell_type": "code",
   "execution_count": 30,
   "metadata": {
    "ExecuteTime": {
     "end_time": "2023-01-27T14:45:00.225000+09:00",
     "start_time": "2023-01-27T05:44:55.219Z"
    }
   },
   "outputs": [
    {
     "data": {
      "text/plain": [
       "354224848179261915075"
      ]
     },
     "execution_count": 30,
     "metadata": {},
     "output_type": "execute_result"
    }
   ],
   "source": [
    "first(Iterators.drop(Fib, 99))  # the 100th number"
   ]
  },
  {
   "cell_type": "code",
   "execution_count": 31,
   "metadata": {
    "ExecuteTime": {
     "end_time": "2023-01-27T14:45:01.245000+09:00",
     "start_time": "2023-01-27T05:44:55.221Z"
    }
   },
   "outputs": [
    {
     "ename": "LoadError",
     "evalue": "MethodError: no method matching _collect(::UnitRange{Int64}, ::FibSequence, ::Base.HasEltype, ::Base.IsInfinite)\n\u001b[0mClosest candidates are:\n\u001b[0m  _collect(::Any, ::Any, ::Base.HasEltype, \u001b[91m::Union{Base.HasLength, Base.HasShape}\u001b[39m) at array.jl:718\n\u001b[0m  _collect(::Any, ::Any, ::Base.HasEltype, \u001b[91m::Base.SizeUnknown\u001b[39m) at array.jl:721\n\u001b[0m  _collect(::Any, ::Any, \u001b[91m::Base.EltypeUnknown\u001b[39m, \u001b[91m::Union{Base.HasLength, Base.HasShape}\u001b[39m) at array.jl:804\n\u001b[0m  ...",
     "output_type": "error",
     "traceback": [
      "MethodError: no method matching _collect(::UnitRange{Int64}, ::FibSequence, ::Base.HasEltype, ::Base.IsInfinite)\n\u001b[0mClosest candidates are:\n\u001b[0m  _collect(::Any, ::Any, ::Base.HasEltype, \u001b[91m::Union{Base.HasLength, Base.HasShape}\u001b[39m) at array.jl:718\n\u001b[0m  _collect(::Any, ::Any, ::Base.HasEltype, \u001b[91m::Base.SizeUnknown\u001b[39m) at array.jl:721\n\u001b[0m  _collect(::Any, ::Any, \u001b[91m::Base.EltypeUnknown\u001b[39m, \u001b[91m::Union{Base.HasLength, Base.HasShape}\u001b[39m) at array.jl:804\n\u001b[0m  ...",
      "",
      "Stacktrace:",
      " [1] collect(itr::FibSequence)",
      "   @ Base ./array.jl:712",
      " [2] top-level scope",
      "   @ In[31]:1"
     ]
    }
   ],
   "source": [
    "collect(Fib)  # `Base.IsInfinite()` ならばエラーとなる"
   ]
  }
 ],
 "metadata": {
  "jupytext": {
   "formats": "ipynb,auto:light"
  },
  "kernelspec": {
   "display_name": "Julia 1.8.5",
   "language": "julia",
   "name": "julia-1.8"
  },
  "language_info": {
   "file_extension": ".jl",
   "mimetype": "application/julia",
   "name": "julia",
   "version": "1.8.5"
  }
 },
 "nbformat": 4,
 "nbformat_minor": 2
}
