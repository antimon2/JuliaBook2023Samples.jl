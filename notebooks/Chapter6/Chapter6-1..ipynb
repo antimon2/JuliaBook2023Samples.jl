{
 "cells": [
  {
   "cell_type": "code",
   "execution_count": 1,
   "metadata": {
    "ExecuteTime": {
     "end_time": "2023-01-27T14:41:53.424000+09:00",
     "start_time": "2023-01-27T05:41:52.883Z"
    }
   },
   "outputs": [
    {
     "name": "stdout",
     "output_type": "stream",
     "text": [
      "Julia Version 1.8.5\n",
      "Commit 17cfb8e65ea (2023-01-08 06:45 UTC)\n",
      "Platform Info:\n",
      "  OS: Linux (x86_64-linux-gnu)\n",
      "  CPU: 12 × Intel(R) Core(TM) i7-9750H CPU @ 2.60GHz\n",
      "  WORD_SIZE: 64\n",
      "  LIBM: libopenlibm\n",
      "  LLVM: libLLVM-13.0.1 (ORCJIT, skylake)\n",
      "  Threads: 1 on 12 virtual cores\n"
     ]
    }
   ],
   "source": [
    "versioninfo()"
   ]
  },
  {
   "cell_type": "markdown",
   "metadata": {},
   "source": [
    "## 6-1. イテレーションの仕組み"
   ]
  },
  {
   "cell_type": "markdown",
   "metadata": {},
   "source": [
    "### 6-1-1. イテレーションも糖衣構文"
   ]
  },
  {
   "cell_type": "markdown",
   "metadata": {},
   "source": [
    "#### 仮想コード6-1. `for` 文の例"
   ]
  },
  {
   "cell_type": "markdown",
   "metadata": {},
   "source": [
    "```julia\n",
    "for value in iter\n",
    "    println(value)\n",
    "end\n",
    "```"
   ]
  },
  {
   "cell_type": "markdown",
   "metadata": {},
   "source": [
    "#### 仮想コード6-2. `for` 文と等価なコード例"
   ]
  },
  {
   "cell_type": "markdown",
   "metadata": {},
   "source": [
    "```julia\n",
    "next = iterate(iter)\n",
    "while next !== nothing\n",
    "    value, state = next\n",
    "    println(value)\n",
    "    next = iterate(iter, state)\n",
    "end\n",
    "```"
   ]
  },
  {
   "cell_type": "markdown",
   "metadata": {},
   "source": [
    "#### コード6-1. 仮想コード6-1./6-2. の動作確認"
   ]
  },
  {
   "cell_type": "code",
   "execution_count": 2,
   "metadata": {
    "ExecuteTime": {
     "end_time": "2023-01-27T14:41:53.469000+09:00",
     "start_time": "2023-01-27T05:41:52.888Z"
    }
   },
   "outputs": [],
   "source": [
    "iter = [31, 41, 59, 26, 53];"
   ]
  },
  {
   "cell_type": "code",
   "execution_count": 3,
   "metadata": {
    "ExecuteTime": {
     "end_time": "2023-01-27T14:41:53.491000+09:00",
     "start_time": "2023-01-27T05:41:52.889Z"
    }
   },
   "outputs": [
    {
     "name": "stdout",
     "output_type": "stream",
     "text": [
      "31\n",
      "41\n",
      "59\n",
      "26\n",
      "53\n"
     ]
    }
   ],
   "source": [
    "for value in iter\n",
    "    println(value)\n",
    "end"
   ]
  },
  {
   "cell_type": "code",
   "execution_count": 4,
   "metadata": {
    "ExecuteTime": {
     "end_time": "2023-01-27T14:41:53.504000+09:00",
     "start_time": "2023-01-27T05:41:52.891Z"
    }
   },
   "outputs": [
    {
     "name": "stdout",
     "output_type": "stream",
     "text": [
      "31\n",
      "41\n",
      "59\n",
      "26\n",
      "53\n"
     ]
    }
   ],
   "source": [
    "next = iterate(iter);\n",
    "\n",
    "while next !== nothing\n",
    "    value, state = next\n",
    "    println(value)\n",
    "    next = iterate(iter, state)\n",
    "end"
   ]
  },
  {
   "cell_type": "markdown",
   "metadata": {},
   "source": [
    "### 6-1-2. `iterate()` 関数"
   ]
  },
  {
   "cell_type": "markdown",
   "metadata": {},
   "source": [
    "#### 仮想コード6-2. `for` 文と等価なコード例（再掲）"
   ]
  },
  {
   "cell_type": "markdown",
   "metadata": {},
   "source": [
    "```julia\n",
    "next = iterate(iter)\n",
    "while next !== nothing\n",
    "    value, state = next\n",
    "    println(value)\n",
    "    next = iterate(iter, state)\n",
    "end\n",
    "```"
   ]
  },
  {
   "cell_type": "markdown",
   "metadata": {},
   "source": [
    "#### 仮想コード6-3. `AbstractArray` の `iterate()` 関数の実装イメージ"
   ]
  },
  {
   "cell_type": "markdown",
   "metadata": {},
   "source": [
    "```julia\n",
    "function Base.iterate(a::AbstractArray)\n",
    "    isempty(a) && return nothing\n",
    "    (a[1], 2)\n",
    "end\n",
    "function Base.iterate(a::AbstractArray, i)\n",
    "    i > length(a) && return nothing\n",
    "    (a[i], i + 1)\n",
    "end\n",
    "```"
   ]
  },
  {
   "cell_type": "markdown",
   "metadata": {},
   "source": [
    "#### 仮想コード6-4. `AbstractString` の `iterate()` 関数の実装イメージ"
   ]
  },
  {
   "cell_type": "markdown",
   "metadata": {},
   "source": [
    "```julia\n",
    "function Base.iterate(s::AbstractString)\n",
    "    isempty(a) && return nothing\n",
    "    (s[1], nextind(s, 1))\n",
    "end\n",
    "function Base.iterate(s::AbstractString, i)\n",
    "    i > ncodeunits(s) && return nothing\n",
    "    (s[i], nextind(s, i))\n",
    "end\n",
    "```"
   ]
  },
  {
   "cell_type": "markdown",
   "metadata": {},
   "source": [
    "#### コード6-2. `iterate()` 関数の動作確認（配列、文字列）"
   ]
  },
  {
   "cell_type": "code",
   "execution_count": 5,
   "metadata": {
    "ExecuteTime": {
     "end_time": "2023-01-27T14:41:53.924000+09:00",
     "start_time": "2023-01-27T05:41:52.896Z"
    }
   },
   "outputs": [
    {
     "data": {
      "text/plain": [
       "(31, 2)"
      ]
     },
     "execution_count": 5,
     "metadata": {},
     "output_type": "execute_result"
    }
   ],
   "source": [
    "iterate([31, 41, 59, 26, 53])"
   ]
  },
  {
   "cell_type": "code",
   "execution_count": 6,
   "metadata": {
    "ExecuteTime": {
     "end_time": "2023-01-27T14:41:53.925000+09:00",
     "start_time": "2023-01-27T05:41:52.898Z"
    }
   },
   "outputs": [
    {
     "data": {
      "text/plain": [
       "(41, 3)"
      ]
     },
     "execution_count": 6,
     "metadata": {},
     "output_type": "execute_result"
    }
   ],
   "source": [
    "iterate([31, 41, 59, 26, 53], 2)"
   ]
  },
  {
   "cell_type": "code",
   "execution_count": 7,
   "metadata": {
    "ExecuteTime": {
     "end_time": "2023-01-27T14:41:53.926000+09:00",
     "start_time": "2023-01-27T05:41:52.900Z"
    }
   },
   "outputs": [
    {
     "data": {
      "text/plain": [
       "(53, 6)"
      ]
     },
     "execution_count": 7,
     "metadata": {},
     "output_type": "execute_result"
    }
   ],
   "source": [
    "iterate([31, 41, 59, 26, 53], 5)"
   ]
  },
  {
   "cell_type": "code",
   "execution_count": 8,
   "metadata": {
    "ExecuteTime": {
     "end_time": "2023-01-27T14:41:54.141000+09:00",
     "start_time": "2023-01-27T05:41:52.902Z"
    }
   },
   "outputs": [
    {
     "data": {
      "text/plain": [
       "true"
      ]
     },
     "execution_count": 8,
     "metadata": {},
     "output_type": "execute_result"
    }
   ],
   "source": [
    "iterate([31, 41, 59, 26, 53], 6) === nothing"
   ]
  },
  {
   "cell_type": "code",
   "execution_count": 9,
   "metadata": {
    "ExecuteTime": {
     "end_time": "2023-01-27T14:41:54.414000+09:00",
     "start_time": "2023-01-27T05:41:52.903Z"
    }
   },
   "outputs": [
    {
     "data": {
      "text/plain": [
       "('あ', 4)"
      ]
     },
     "execution_count": 9,
     "metadata": {},
     "output_type": "execute_result"
    }
   ],
   "source": [
    "iterate(\"あいうえお\")"
   ]
  },
  {
   "cell_type": "code",
   "execution_count": 10,
   "metadata": {
    "ExecuteTime": {
     "end_time": "2023-01-27T14:41:54.415000+09:00",
     "start_time": "2023-01-27T05:41:52.905Z"
    }
   },
   "outputs": [
    {
     "data": {
      "text/plain": [
       "('い', 7)"
      ]
     },
     "execution_count": 10,
     "metadata": {},
     "output_type": "execute_result"
    }
   ],
   "source": [
    "iterate(\"あいうえお\", 4)"
   ]
  },
  {
   "cell_type": "code",
   "execution_count": 11,
   "metadata": {
    "ExecuteTime": {
     "end_time": "2023-01-27T14:41:54.415000+09:00",
     "start_time": "2023-01-27T05:41:52.907Z"
    }
   },
   "outputs": [
    {
     "data": {
      "text/plain": [
       "('お', 16)"
      ]
     },
     "execution_count": 11,
     "metadata": {},
     "output_type": "execute_result"
    }
   ],
   "source": [
    "iterate(\"あいうえお\", 13)"
   ]
  },
  {
   "cell_type": "code",
   "execution_count": 12,
   "metadata": {
    "ExecuteTime": {
     "end_time": "2023-01-27T14:41:54.416000+09:00",
     "start_time": "2023-01-27T05:41:52.908Z"
    }
   },
   "outputs": [
    {
     "data": {
      "text/plain": [
       "true"
      ]
     },
     "execution_count": 12,
     "metadata": {},
     "output_type": "execute_result"
    }
   ],
   "source": [
    "iterate(\"あいうえお\", 16) === nothing"
   ]
  },
  {
   "cell_type": "markdown",
   "metadata": {},
   "source": [
    "#### コード6-3(1). `GeometricSequence.jl`（1～18行目）"
   ]
  },
  {
   "cell_type": "code",
   "execution_count": 13,
   "metadata": {
    "ExecuteTime": {
     "end_time": "2023-01-27T14:41:54.423000+09:00",
     "start_time": "2023-01-27T05:41:52.910Z"
    }
   },
   "outputs": [],
   "source": [
    "struct GeometricSequence{T<:Number} <: AbstractVector{T}\n",
    "    a::T\n",
    "    r::T\n",
    "    n::Int\n",
    "end\n",
    "\n",
    "function GeometricSequence(a::T1, r::T2, n::Integer) where {T1<:Number, T2<:Number}\n",
    "    GeometricSequence(promote(a, r)..., Int(n))\n",
    "end\n",
    "\n",
    "Base.length(seq::GeometricSequence) = seq.n\n",
    "Base.size(seq::GeometricSequence) = (seq.n,)\n",
    "Base.getindex(seq::GeometricSequence, index::Integer) = seq.a * seq.r ^ (index - 1)\n",
    "\n",
    "function Base.show(io::IO, seq::GeometricSequence)\n",
    "    print(io, \"GeometricSequence(\", seq.a, \", \", seq.r, \", \", seq.n, \")\")\n",
    "end\n",
    "Base.show(io::IO, ::MIME\"text/plain\", seq::GeometricSequence) = show(io, seq)"
   ]
  },
  {
   "cell_type": "markdown",
   "metadata": {},
   "source": [
    "#### コード6-3(2). `GeometricSequence.jl`（37～44行目）"
   ]
  },
  {
   "cell_type": "code",
   "execution_count": 14,
   "metadata": {
    "ExecuteTime": {
     "end_time": "2023-01-27T14:41:54.425000+09:00",
     "start_time": "2023-01-27T05:41:52.912Z"
    }
   },
   "outputs": [],
   "source": [
    "function Base.iterate(seq::GeometricSequence)\n",
    "    seq.n > 0 || return nothing\n",
    "    (seq.a, (seq.a * seq.r, seq.n - 1))\n",
    "end\n",
    "function Base.iterate(seq::GeometricSequence, (next, count)::NTuple{2})\n",
    "    count == 0 && return nothing\n",
    "    (next, (next * seq.r, count - 1))\n",
    "end"
   ]
  },
  {
   "cell_type": "code",
   "execution_count": 15,
   "metadata": {
    "ExecuteTime": {
     "end_time": "2023-01-27T14:41:54.436000+09:00",
     "start_time": "2023-01-27T05:41:52.914Z"
    }
   },
   "outputs": [],
   "source": [
    "include(\"GeometricSequence.jl\")"
   ]
  },
  {
   "cell_type": "markdown",
   "metadata": {},
   "source": [
    "#### コード6-4. `GeometricSequence` のイテレーション動作確認"
   ]
  },
  {
   "cell_type": "code",
   "execution_count": 16,
   "metadata": {
    "ExecuteTime": {
     "end_time": "2023-01-27T14:41:54.440000+09:00",
     "start_time": "2023-01-27T05:41:52.916Z"
    }
   },
   "outputs": [],
   "source": [
    "seq0 = GeometricSequence(1, 3, 5);"
   ]
  },
  {
   "cell_type": "code",
   "execution_count": 17,
   "metadata": {
    "ExecuteTime": {
     "end_time": "2023-01-27T14:41:54.454000+09:00",
     "start_time": "2023-01-27T05:41:52.918Z"
    },
    "scrolled": true
   },
   "outputs": [
    {
     "name": "stdout",
     "output_type": "stream",
     "text": [
      "1\n",
      "3\n",
      "9\n",
      "27\n",
      "81\n"
     ]
    }
   ],
   "source": [
    "for value in seq0\n",
    "    println(value)\n",
    "end"
   ]
  },
  {
   "cell_type": "code",
   "execution_count": 18,
   "metadata": {
    "ExecuteTime": {
     "end_time": "2023-01-27T14:41:54.467000+09:00",
     "start_time": "2023-01-27T05:41:52.919Z"
    }
   },
   "outputs": [
    {
     "name": "stdout",
     "output_type": "stream",
     "text": [
      "1\n",
      "3\n",
      "9\n",
      "27\n",
      "81\n"
     ]
    }
   ],
   "source": [
    "for i = 1:length(seq0)\n",
    "    println(seq0[i])\n",
    "end  # 参考：出力結果が同じになることの確認のため"
   ]
  },
  {
   "cell_type": "code",
   "execution_count": 19,
   "metadata": {
    "ExecuteTime": {
     "end_time": "2023-01-27T14:41:54.471000+09:00",
     "start_time": "2023-01-27T05:41:52.921Z"
    }
   },
   "outputs": [],
   "source": [
    "seq1 = GeometricSequence(1, 0.5, 20);"
   ]
  },
  {
   "cell_type": "code",
   "execution_count": 20,
   "metadata": {
    "ExecuteTime": {
     "end_time": "2023-01-27T14:41:54.545000+09:00",
     "start_time": "2023-01-27T05:41:52.923Z"
    }
   },
   "outputs": [
    {
     "name": "stdout",
     "output_type": "stream",
     "text": [
      "  0.025670 seconds (25.87 k allocations: 1.408 MiB, 99.58% compilation time)\n"
     ]
    }
   ],
   "source": [
    "@time for i = 1:length(seq1)\n",
    "    println(devnull, seq1[i])\n",
    "end"
   ]
  },
  {
   "cell_type": "code",
   "execution_count": 21,
   "metadata": {
    "ExecuteTime": {
     "end_time": "2023-01-27T14:41:54.564000+09:00",
     "start_time": "2023-01-27T05:41:52.924Z"
    }
   },
   "outputs": [
    {
     "name": "stdout",
     "output_type": "stream",
     "text": [
      "  0.004581 seconds (5.06 k allocations: 288.839 KiB, 97.93% compilation time)\n"
     ]
    }
   ],
   "source": [
    "@time for value in seq1\n",
    "    println(devnull, value)\n",
    "end"
   ]
  },
  {
   "cell_type": "markdown",
   "metadata": {},
   "source": [
    "#### コード6-5. `GeometricSequence` の分割代入動作確認"
   ]
  },
  {
   "cell_type": "code",
   "execution_count": 22,
   "metadata": {
    "ExecuteTime": {
     "end_time": "2023-01-27T14:41:54.565000+09:00",
     "start_time": "2023-01-27T05:41:52.926Z"
    }
   },
   "outputs": [],
   "source": [
    "seq0 = GeometricSequence(1, 3, 5);"
   ]
  },
  {
   "cell_type": "code",
   "execution_count": 23,
   "metadata": {
    "ExecuteTime": {
     "end_time": "2023-01-27T14:41:54.755000+09:00",
     "start_time": "2023-01-27T05:41:52.928Z"
    }
   },
   "outputs": [
    {
     "data": {
      "text/plain": [
       "GeometricSequence(1, 3, 5)"
      ]
     },
     "execution_count": 23,
     "metadata": {},
     "output_type": "execute_result"
    }
   ],
   "source": [
    "x₁, x₂, x₃, x₄, x₅ = seq0"
   ]
  },
  {
   "cell_type": "code",
   "execution_count": 24,
   "metadata": {
    "ExecuteTime": {
     "end_time": "2023-01-27T14:41:54.965000+09:00",
     "start_time": "2023-01-27T05:41:52.929Z"
    }
   },
   "outputs": [
    {
     "data": {
      "text/plain": [
       "(1, 3, 9, 27, 81)"
      ]
     },
     "execution_count": 24,
     "metadata": {},
     "output_type": "execute_result"
    }
   ],
   "source": [
    "(x₁, x₂, x₃, x₄, x₅)"
   ]
  },
  {
   "cell_type": "code",
   "execution_count": 25,
   "metadata": {
    "ExecuteTime": {
     "end_time": "2023-01-27T14:41:54.966000+09:00",
     "start_time": "2023-01-27T05:41:52.931Z"
    }
   },
   "outputs": [
    {
     "data": {
      "text/plain": [
       "GeometricSequence(1, 3, 5)"
      ]
     },
     "execution_count": 25,
     "metadata": {},
     "output_type": "execute_result"
    }
   ],
   "source": [
    "x₁, x₂, x₃ = seq0"
   ]
  },
  {
   "cell_type": "code",
   "execution_count": 26,
   "metadata": {
    "ExecuteTime": {
     "end_time": "2023-01-27T14:41:55.173000+09:00",
     "start_time": "2023-01-27T05:41:52.932Z"
    }
   },
   "outputs": [
    {
     "data": {
      "text/plain": [
       "(1, 3, 9)"
      ]
     },
     "execution_count": 26,
     "metadata": {},
     "output_type": "execute_result"
    }
   ],
   "source": [
    "(x₁, x₂, x₃)"
   ]
  },
  {
   "cell_type": "code",
   "execution_count": 27,
   "metadata": {
    "ExecuteTime": {
     "end_time": "2023-01-27T14:41:55.895000+09:00",
     "start_time": "2023-01-27T05:41:52.934Z"
    }
   },
   "outputs": [
    {
     "ename": "LoadError",
     "evalue": "BoundsError: attempt to access 5-element GeometricSequence{Int64} at index [6]",
     "output_type": "error",
     "traceback": [
      "BoundsError: attempt to access 5-element GeometricSequence{Int64} at index [6]",
      "",
      "Stacktrace:",
      " [1] indexed_iterate(I::GeometricSequence{Int64}, i::Int64, state::Tuple{Int64, Int64})",
      "   @ Base ./tuple.jl:97",
      " [2] top-level scope",
      "   @ In[27]:1"
     ]
    }
   ],
   "source": [
    "x₁, x₂, x₃, x₄, x₅, x₆ = seq0  # エラー"
   ]
  },
  {
   "cell_type": "code",
   "execution_count": 28,
   "metadata": {
    "ExecuteTime": {
     "end_time": "2023-01-27T14:41:56.348000+09:00",
     "start_time": "2023-01-27T05:41:52.936Z"
    }
   },
   "outputs": [
    {
     "ename": "LoadError",
     "evalue": "MethodError: no method matching iterate(::NotIterable)\n\u001b[0mClosest candidates are:\n\u001b[0m  iterate(\u001b[91m::Union{LinRange, StepRangeLen}\u001b[39m) at range.jl:872\n\u001b[0m  iterate(\u001b[91m::Union{LinRange, StepRangeLen}\u001b[39m, \u001b[91m::Integer\u001b[39m) at range.jl:872\n\u001b[0m  iterate(\u001b[91m::T\u001b[39m) where T<:Union{Base.KeySet{<:Any, <:Dict}, Base.ValueIterator{<:Dict}} at dict.jl:712\n\u001b[0m  ...",
     "output_type": "error",
     "traceback": [
      "MethodError: no method matching iterate(::NotIterable)\n\u001b[0mClosest candidates are:\n\u001b[0m  iterate(\u001b[91m::Union{LinRange, StepRangeLen}\u001b[39m) at range.jl:872\n\u001b[0m  iterate(\u001b[91m::Union{LinRange, StepRangeLen}\u001b[39m, \u001b[91m::Integer\u001b[39m) at range.jl:872\n\u001b[0m  iterate(\u001b[91m::T\u001b[39m) where T<:Union{Base.KeySet{<:Any, <:Dict}, Base.ValueIterator{<:Dict}} at dict.jl:712\n\u001b[0m  ...",
      "",
      "Stacktrace:",
      " [1] indexed_iterate(I::NotIterable, i::Int64)",
      "   @ Base ./tuple.jl:91",
      " [2] top-level scope",
      "   @ In[28]:2"
     ]
    }
   ],
   "source": [
    "struct NotIterable end\n",
    "x₁, x₂, x₃ = NotIterable()  # エラー"
   ]
  },
  {
   "cell_type": "markdown",
   "metadata": {},
   "source": [
    "#### コード6-6. `GeometricSequence` の `in`演算子（`in()`関数） 動作確認"
   ]
  },
  {
   "cell_type": "code",
   "execution_count": 29,
   "metadata": {
    "ExecuteTime": {
     "end_time": "2023-01-27T14:41:56.349000+09:00",
     "start_time": "2023-01-27T05:41:52.938Z"
    }
   },
   "outputs": [],
   "source": [
    "seq2 = GeometricSequence(2, 3, 20);"
   ]
  },
  {
   "cell_type": "code",
   "execution_count": 30,
   "metadata": {
    "ExecuteTime": {
     "end_time": "2023-01-27T14:41:56.354000+09:00",
     "start_time": "2023-01-27T05:41:52.939Z"
    }
   },
   "outputs": [
    {
     "data": {
      "text/plain": [
       "true"
      ]
     },
     "execution_count": 30,
     "metadata": {},
     "output_type": "execute_result"
    }
   ],
   "source": [
    "54 in seq2"
   ]
  },
  {
   "cell_type": "code",
   "execution_count": 31,
   "metadata": {
    "ExecuteTime": {
     "end_time": "2023-01-27T14:41:56.355000+09:00",
     "start_time": "2023-01-27T05:41:52.941Z"
    }
   },
   "outputs": [
    {
     "data": {
      "text/plain": [
       "true"
      ]
     },
     "execution_count": 31,
     "metadata": {},
     "output_type": "execute_result"
    }
   ],
   "source": [
    "486 ∈ seq2"
   ]
  },
  {
   "cell_type": "code",
   "execution_count": 32,
   "metadata": {
    "ExecuteTime": {
     "end_time": "2023-01-27T14:41:56.361000+09:00",
     "start_time": "2023-01-27T05:41:52.943Z"
    }
   },
   "outputs": [
    {
     "data": {
      "text/plain": [
       "true"
      ]
     },
     "execution_count": 32,
     "metadata": {},
     "output_type": "execute_result"
    }
   ],
   "source": [
    "888 ∉ seq2"
   ]
  },
  {
   "cell_type": "code",
   "execution_count": 33,
   "metadata": {
    "ExecuteTime": {
     "end_time": "2023-01-27T14:41:56.366000+09:00",
     "start_time": "2023-01-27T05:41:52.944Z"
    }
   },
   "outputs": [
    {
     "data": {
      "text/plain": [
       "true"
      ]
     },
     "execution_count": 33,
     "metadata": {},
     "output_type": "execute_result"
    }
   ],
   "source": [
    "seq2 ∋ 9565938"
   ]
  },
  {
   "cell_type": "code",
   "execution_count": 34,
   "metadata": {
    "ExecuteTime": {
     "end_time": "2023-01-27T14:41:56.372000+09:00",
     "start_time": "2023-01-27T05:41:52.946Z"
    }
   },
   "outputs": [
    {
     "data": {
      "text/plain": [
       "true"
      ]
     },
     "execution_count": 34,
     "metadata": {},
     "output_type": "execute_result"
    }
   ],
   "source": [
    "seq2 ∌ 2147483647"
   ]
  },
  {
   "cell_type": "code",
   "execution_count": 35,
   "metadata": {
    "ExecuteTime": {
     "end_time": "2023-01-27T14:41:57.160000+09:00",
     "start_time": "2023-01-27T05:41:52.948Z"
    }
   },
   "outputs": [
    {
     "data": {
      "text/plain": [
       "1-element Vector{Int64}:\n",
       " 162"
      ]
     },
     "execution_count": 35,
     "metadata": {},
     "output_type": "execute_result"
    }
   ],
   "source": [
    "filter(in(seq2), 100:200)"
   ]
  },
  {
   "cell_type": "markdown",
   "metadata": {},
   "source": [
    "### 6-1-3. `Base.IteratorSize` と `Base.IteratorEltype`"
   ]
  },
  {
   "cell_type": "markdown",
   "metadata": {},
   "source": [
    "#### コード6-7. `GeometricSequence` の内包表記および `collect()`関数 動作確認"
   ]
  },
  {
   "cell_type": "code",
   "execution_count": 36,
   "metadata": {
    "ExecuteTime": {
     "end_time": "2023-01-27T14:41:57.175000+09:00",
     "start_time": "2023-01-27T05:41:52.950Z"
    }
   },
   "outputs": [
    {
     "data": {
      "text/plain": [
       "5-element Vector{Int64}:\n",
       "  1\n",
       "  3\n",
       "  9\n",
       " 27\n",
       " 81"
      ]
     },
     "execution_count": 36,
     "metadata": {},
     "output_type": "execute_result"
    }
   ],
   "source": [
    "[i for i in GeometricSequence(1, 3, 5)]"
   ]
  },
  {
   "cell_type": "code",
   "execution_count": 37,
   "metadata": {
    "ExecuteTime": {
     "end_time": "2023-01-27T14:41:57.207000+09:00",
     "start_time": "2023-01-27T05:41:52.952Z"
    }
   },
   "outputs": [
    {
     "data": {
      "text/plain": [
       "5-element Vector{Int64}:\n",
       "  1\n",
       "  3\n",
       "  9\n",
       " 27\n",
       " 81"
      ]
     },
     "execution_count": 37,
     "metadata": {},
     "output_type": "execute_result"
    }
   ],
   "source": [
    "collect(GeometricSequence(1, 3, 5))"
   ]
  },
  {
   "cell_type": "markdown",
   "metadata": {},
   "source": [
    "#### コード6-8. 約数を列挙するイテレータの定義例（`Divisors1`）"
   ]
  },
  {
   "cell_type": "code",
   "execution_count": 38,
   "metadata": {
    "ExecuteTime": {
     "end_time": "2023-01-27T14:41:57.209000+09:00",
     "start_time": "2023-01-27T05:41:52.954Z"
    }
   },
   "outputs": [],
   "source": [
    "struct Divisors1{I <: Integer}\n",
    "    n::I\n",
    "end"
   ]
  },
  {
   "cell_type": "code",
   "execution_count": 39,
   "metadata": {
    "ExecuteTime": {
     "end_time": "2023-01-27T14:41:57.210000+09:00",
     "start_time": "2023-01-27T05:41:52.956Z"
    }
   },
   "outputs": [],
   "source": [
    "Base.iterate(ds::Divisors1{I}) where {I} = (one(I), one(I))\n",
    "\n",
    "function Base.iterate(ds::Divisors1{I}, next::I) where {I}\n",
    "    while next < ds.n\n",
    "        next += one(I)\n",
    "        ds.n % next == 0 && return (next, next)\n",
    "    end\n",
    "    nothing\n",
    "end"
   ]
  },
  {
   "cell_type": "markdown",
   "metadata": {},
   "source": [
    "#### コード6-9. `Divisors1` の動作確認（`for`文）"
   ]
  },
  {
   "cell_type": "code",
   "execution_count": 40,
   "metadata": {
    "ExecuteTime": {
     "end_time": "2023-01-27T14:41:57.656000+09:00",
     "start_time": "2023-01-27T05:41:52.958Z"
    }
   },
   "outputs": [
    {
     "data": {
      "text/plain": [
       "Divisors1{Int64}(36)"
      ]
     },
     "execution_count": 40,
     "metadata": {},
     "output_type": "execute_result"
    }
   ],
   "source": [
    "ds1_36 = Divisors1(36)"
   ]
  },
  {
   "cell_type": "code",
   "execution_count": 41,
   "metadata": {
    "ExecuteTime": {
     "end_time": "2023-01-27T14:41:57.667000+09:00",
     "start_time": "2023-01-27T05:41:52.960Z"
    }
   },
   "outputs": [
    {
     "name": "stdout",
     "output_type": "stream",
     "text": [
      "1\n",
      "2\n",
      "3\n",
      "4\n",
      "6\n",
      "9\n",
      "12\n",
      "18\n",
      "36\n"
     ]
    }
   ],
   "source": [
    "for n in ds1_36\n",
    "    println(n)\n",
    "end"
   ]
  },
  {
   "cell_type": "markdown",
   "metadata": {},
   "source": [
    "#### コード6-10. `Divisors1` の動作確認（内包表記/`collect`関数、エラー例）"
   ]
  },
  {
   "cell_type": "code",
   "execution_count": 42,
   "metadata": {
    "ExecuteTime": {
     "end_time": "2023-01-27T14:41:57.702000+09:00",
     "start_time": "2023-01-27T05:41:52.962Z"
    }
   },
   "outputs": [
    {
     "ename": "LoadError",
     "evalue": "MethodError: no method matching length(::Divisors1{Int64})\n\u001b[0mClosest candidates are:\n\u001b[0m  length(\u001b[91m::Union{Base.KeySet, Base.ValueIterator}\u001b[39m) at abstractdict.jl:58\n\u001b[0m  length(\u001b[91m::Union{LinearAlgebra.Adjoint{T, S}, LinearAlgebra.Transpose{T, S}} where {T, S}\u001b[39m) at ~/julia-1.8.5/share/julia/stdlib/v1.8/LinearAlgebra/src/adjtrans.jl:172\n\u001b[0m  length(\u001b[91m::Union{ZMQ._Message, Base.RefValue{ZMQ._Message}}\u001b[39m) at ~/.julia/packages/ZMQ/lrABE/src/_message.jl:31\n\u001b[0m  ...",
     "output_type": "error",
     "traceback": [
      "MethodError: no method matching length(::Divisors1{Int64})\n\u001b[0mClosest candidates are:\n\u001b[0m  length(\u001b[91m::Union{Base.KeySet, Base.ValueIterator}\u001b[39m) at abstractdict.jl:58\n\u001b[0m  length(\u001b[91m::Union{LinearAlgebra.Adjoint{T, S}, LinearAlgebra.Transpose{T, S}} where {T, S}\u001b[39m) at ~/julia-1.8.5/share/julia/stdlib/v1.8/LinearAlgebra/src/adjtrans.jl:172\n\u001b[0m  length(\u001b[91m::Union{ZMQ._Message, Base.RefValue{ZMQ._Message}}\u001b[39m) at ~/.julia/packages/ZMQ/lrABE/src/_message.jl:31\n\u001b[0m  ...",
      "",
      "Stacktrace:",
      " [1] length(g::Base.Generator{Divisors1{Int64}, typeof(identity)})",
      "   @ Base ./generator.jl:50",
      " [2] _similar_shape(itr::Base.Generator{Divisors1{Int64}, typeof(identity)}, #unused#::Base.HasLength)",
      "   @ Base ./array.jl:663",
      " [3] collect(itr::Base.Generator{Divisors1{Int64}, typeof(identity)})",
      "   @ Base ./array.jl:786",
      " [4] top-level scope",
      "   @ In[42]:1"
     ]
    }
   ],
   "source": [
    "[n for n in ds1_36]"
   ]
  },
  {
   "cell_type": "code",
   "execution_count": 43,
   "metadata": {
    "ExecuteTime": {
     "end_time": "2023-01-27T14:41:57.741000+09:00",
     "start_time": "2023-01-27T05:41:52.964Z"
    }
   },
   "outputs": [
    {
     "ename": "LoadError",
     "evalue": "MethodError: no method matching length(::Divisors1{Int64})\n\u001b[0mClosest candidates are:\n\u001b[0m  length(\u001b[91m::Union{Base.KeySet, Base.ValueIterator}\u001b[39m) at abstractdict.jl:58\n\u001b[0m  length(\u001b[91m::Union{LinearAlgebra.Adjoint{T, S}, LinearAlgebra.Transpose{T, S}} where {T, S}\u001b[39m) at ~/julia-1.8.5/share/julia/stdlib/v1.8/LinearAlgebra/src/adjtrans.jl:172\n\u001b[0m  length(\u001b[91m::Union{ZMQ._Message, Base.RefValue{ZMQ._Message}}\u001b[39m) at ~/.julia/packages/ZMQ/lrABE/src/_message.jl:31\n\u001b[0m  ...",
     "output_type": "error",
     "traceback": [
      "MethodError: no method matching length(::Divisors1{Int64})\n\u001b[0mClosest candidates are:\n\u001b[0m  length(\u001b[91m::Union{Base.KeySet, Base.ValueIterator}\u001b[39m) at abstractdict.jl:58\n\u001b[0m  length(\u001b[91m::Union{LinearAlgebra.Adjoint{T, S}, LinearAlgebra.Transpose{T, S}} where {T, S}\u001b[39m) at ~/julia-1.8.5/share/julia/stdlib/v1.8/LinearAlgebra/src/adjtrans.jl:172\n\u001b[0m  length(\u001b[91m::Union{ZMQ._Message, Base.RefValue{ZMQ._Message}}\u001b[39m) at ~/.julia/packages/ZMQ/lrABE/src/_message.jl:31\n\u001b[0m  ...",
      "",
      "Stacktrace:",
      " [1] _similar_shape(itr::Divisors1{Int64}, #unused#::Base.HasLength)",
      "   @ Base ./array.jl:663",
      " [2] _collect(cont::UnitRange{Int64}, itr::Divisors1{Int64}, #unused#::Base.HasEltype, isz::Base.HasLength)",
      "   @ Base ./array.jl:718",
      " [3] collect(itr::Divisors1{Int64})",
      "   @ Base ./array.jl:712",
      " [4] top-level scope",
      "   @ In[43]:1"
     ]
    }
   ],
   "source": [
    "collect(ds1_36)"
   ]
  },
  {
   "cell_type": "markdown",
   "metadata": {},
   "source": [
    "#### `Base.IteratorSize`"
   ]
  },
  {
   "cell_type": "markdown",
   "metadata": {},
   "source": [
    "##### コード6-11. `Divisors1` が `Base.SizeUnknown` トレイトを準拠するようにした場合の動作例"
   ]
  },
  {
   "cell_type": "code",
   "execution_count": 44,
   "metadata": {
    "ExecuteTime": {
     "end_time": "2023-01-27T14:41:57.743000+09:00",
     "start_time": "2023-01-27T05:41:52.966Z"
    }
   },
   "outputs": [],
   "source": [
    "Base.IteratorSize(::Type{<:Divisors1}) = Base.SizeUnknown()"
   ]
  },
  {
   "cell_type": "code",
   "execution_count": 45,
   "metadata": {
    "ExecuteTime": {
     "end_time": "2023-01-27T14:41:57.743000+09:00",
     "start_time": "2023-01-27T05:41:52.967Z"
    }
   },
   "outputs": [],
   "source": [
    "ds1_36 = Divisors1(36);"
   ]
  },
  {
   "cell_type": "code",
   "execution_count": 46,
   "metadata": {
    "ExecuteTime": {
     "end_time": "2023-01-27T14:41:57.757000+09:00",
     "start_time": "2023-01-27T05:41:52.969Z"
    }
   },
   "outputs": [
    {
     "data": {
      "text/plain": [
       "9-element Vector{Int64}:\n",
       "  1\n",
       "  2\n",
       "  3\n",
       "  4\n",
       "  6\n",
       "  9\n",
       " 12\n",
       " 18\n",
       " 36"
      ]
     },
     "execution_count": 46,
     "metadata": {},
     "output_type": "execute_result"
    }
   ],
   "source": [
    "[n for n in ds1_36]"
   ]
  },
  {
   "cell_type": "code",
   "execution_count": 47,
   "metadata": {
    "ExecuteTime": {
     "end_time": "2023-01-27T14:41:58.118000+09:00",
     "start_time": "2023-01-27T05:41:52.971Z"
    }
   },
   "outputs": [
    {
     "data": {
      "text/plain": [
       "9-element Vector{Any}:\n",
       "  1\n",
       "  2\n",
       "  3\n",
       "  4\n",
       "  6\n",
       "  9\n",
       " 12\n",
       " 18\n",
       " 36"
      ]
     },
     "execution_count": 47,
     "metadata": {},
     "output_type": "execute_result"
    }
   ],
   "source": [
    "collect(ds1_36)"
   ]
  },
  {
   "cell_type": "markdown",
   "metadata": {},
   "source": [
    "##### コード6-12. 約数を列挙するイテレータの定義例（`Divisors2`）"
   ]
  },
  {
   "cell_type": "code",
   "execution_count": 48,
   "metadata": {
    "ExecuteTime": {
     "end_time": "2023-01-27T14:41:58.120000+09:00",
     "start_time": "2023-01-27T05:41:52.973Z"
    }
   },
   "outputs": [],
   "source": [
    "struct Divisors2{I <: Integer}\n",
    "    n::I\n",
    "end"
   ]
  },
  {
   "cell_type": "code",
   "execution_count": 49,
   "metadata": {
    "ExecuteTime": {
     "end_time": "2023-01-27T14:41:58.122000+09:00",
     "start_time": "2023-01-27T05:41:52.975Z"
    }
   },
   "outputs": [],
   "source": [
    "Base.iterate(ds::Divisors2{I}) where {I} = (one(I), one(I))\n",
    "function Base.iterate(ds::Divisors2{I}, next::I) where {I}\n",
    "    while next < ds.n\n",
    "        next += one(I)\n",
    "        ds.n % next == 0 && return (next, next)\n",
    "    end\n",
    "    nothing\n",
    "end"
   ]
  },
  {
   "cell_type": "code",
   "execution_count": 50,
   "metadata": {
    "ExecuteTime": {
     "end_time": "2023-01-27T14:41:58.124000+09:00",
     "start_time": "2023-01-27T05:41:52.976Z"
    }
   },
   "outputs": [],
   "source": [
    "# ↓デフォルトでこうなっているので明示的に多重定義せず\n",
    "# Base.IteratorSize(::Type{<:Divisors2}) = Base.HasLength()\n",
    "\n",
    "function Base.length(ds::Divisors2)\n",
    "    n = ds.n\n",
    "    sqrtn = isqrt(n)\n",
    "    l = trailing_zeros(n) + 1\n",
    "    n >>= l - 1\n",
    "    p = oftype(n, 3)\n",
    "    d = 2\n",
    "    while p ≤ n && p ≤ sqrtn\n",
    "        if n % p == 0\n",
    "            cnt_1 = 1\n",
    "            while n % p == 0\n",
    "                n ÷= p\n",
    "                cnt_1 += 1\n",
    "            end\n",
    "            l *= cnt_1\n",
    "        end\n",
    "        p += d\n",
    "        d = 6 - d\n",
    "    end\n",
    "    n > 1 ? 2l : l\n",
    "end"
   ]
  },
  {
   "cell_type": "markdown",
   "metadata": {},
   "source": [
    "##### コード6-13. `Divisors2` の動作例"
   ]
  },
  {
   "cell_type": "code",
   "execution_count": 51,
   "metadata": {
    "ExecuteTime": {
     "end_time": "2023-01-27T14:41:58.314000+09:00",
     "start_time": "2023-01-27T05:41:52.978Z"
    }
   },
   "outputs": [
    {
     "data": {
      "text/plain": [
       "Divisors2{Int64}(36)"
      ]
     },
     "execution_count": 51,
     "metadata": {},
     "output_type": "execute_result"
    }
   ],
   "source": [
    "ds2_36 = Divisors2(36)"
   ]
  },
  {
   "cell_type": "code",
   "execution_count": 52,
   "metadata": {
    "ExecuteTime": {
     "end_time": "2023-01-27T14:41:58.483000+09:00",
     "start_time": "2023-01-27T05:41:52.979Z"
    }
   },
   "outputs": [
    {
     "data": {
      "text/plain": [
       "Base.HasLength()"
      ]
     },
     "execution_count": 52,
     "metadata": {},
     "output_type": "execute_result"
    }
   ],
   "source": [
    "Base.IteratorSize(typeof(ds2_36))"
   ]
  },
  {
   "cell_type": "code",
   "execution_count": 53,
   "metadata": {
    "ExecuteTime": {
     "end_time": "2023-01-27T14:41:58.647000+09:00",
     "start_time": "2023-01-27T05:41:52.981Z"
    }
   },
   "outputs": [
    {
     "data": {
      "text/plain": [
       "9"
      ]
     },
     "execution_count": 53,
     "metadata": {},
     "output_type": "execute_result"
    }
   ],
   "source": [
    "length(ds2_36)"
   ]
  },
  {
   "cell_type": "code",
   "execution_count": 54,
   "metadata": {
    "ExecuteTime": {
     "end_time": "2023-01-27T14:41:58.658000+09:00",
     "start_time": "2023-01-27T05:41:52.982Z"
    }
   },
   "outputs": [
    {
     "name": "stdout",
     "output_type": "stream",
     "text": [
      "1\n",
      "2\n",
      "3\n",
      "4\n",
      "6\n",
      "9\n",
      "12\n",
      "18\n",
      "36\n"
     ]
    }
   ],
   "source": [
    "for n in ds2_36\n",
    "    println(n)\n",
    "end"
   ]
  },
  {
   "cell_type": "code",
   "execution_count": 55,
   "metadata": {
    "ExecuteTime": {
     "end_time": "2023-01-27T14:41:58.675000+09:00",
     "start_time": "2023-01-27T05:41:52.984Z"
    }
   },
   "outputs": [
    {
     "data": {
      "text/plain": [
       "9-element Vector{Int64}:\n",
       "  1\n",
       "  2\n",
       "  3\n",
       "  4\n",
       "  6\n",
       "  9\n",
       " 12\n",
       " 18\n",
       " 36"
      ]
     },
     "execution_count": 55,
     "metadata": {},
     "output_type": "execute_result"
    }
   ],
   "source": [
    "[n for n in ds2_36]"
   ]
  },
  {
   "cell_type": "code",
   "execution_count": 56,
   "metadata": {
    "ExecuteTime": {
     "end_time": "2023-01-27T14:41:58.705000+09:00",
     "start_time": "2023-01-27T05:41:52.985Z"
    }
   },
   "outputs": [
    {
     "data": {
      "text/plain": [
       "9-element Vector{Any}:\n",
       "  1\n",
       "  2\n",
       "  3\n",
       "  4\n",
       "  6\n",
       "  9\n",
       " 12\n",
       " 18\n",
       " 36"
      ]
     },
     "execution_count": 56,
     "metadata": {},
     "output_type": "execute_result"
    }
   ],
   "source": [
    "collect(ds2_36)"
   ]
  },
  {
   "cell_type": "markdown",
   "metadata": {},
   "source": [
    "##### コード6-14. `Divisors1` と `Divisors2` のパフォーマンス比較その1（`Base.IteratorSize` の差異）"
   ]
  },
  {
   "cell_type": "code",
   "execution_count": 57,
   "metadata": {
    "ExecuteTime": {
     "end_time": "2023-01-27T14:41:58.706000+09:00",
     "start_time": "2023-01-27T05:41:52.987Z"
    }
   },
   "outputs": [],
   "source": [
    "ds1_360 = Divisors1(360);\n",
    "ds2_360 = Divisors2(360);"
   ]
  },
  {
   "cell_type": "code",
   "execution_count": 58,
   "metadata": {
    "ExecuteTime": {
     "end_time": "2023-01-27T14:41:58.867000+09:00",
     "start_time": "2023-01-27T05:41:52.989Z"
    }
   },
   "outputs": [
    {
     "data": {
      "text/plain": [
       "Base.SizeUnknown()"
      ]
     },
     "execution_count": 58,
     "metadata": {},
     "output_type": "execute_result"
    }
   ],
   "source": [
    "Base.IteratorSize(typeof(ds1_360))"
   ]
  },
  {
   "cell_type": "code",
   "execution_count": 59,
   "metadata": {
    "ExecuteTime": {
     "end_time": "2023-01-27T14:41:58.868000+09:00",
     "start_time": "2023-01-27T05:41:52.990Z"
    }
   },
   "outputs": [
    {
     "data": {
      "text/plain": [
       "Base.HasLength()"
      ]
     },
     "execution_count": 59,
     "metadata": {},
     "output_type": "execute_result"
    }
   ],
   "source": [
    "Base.IteratorSize(typeof(ds2_360))"
   ]
  },
  {
   "cell_type": "code",
   "execution_count": 60,
   "metadata": {
    "ExecuteTime": {
     "end_time": "2023-01-27T14:41:58.869000+09:00",
     "start_time": "2023-01-27T05:41:52.992Z"
    }
   },
   "outputs": [
    {
     "data": {
      "text/plain": [
       "24-element Vector{Int64}:\n",
       "   1\n",
       "   2\n",
       "   3\n",
       "   4\n",
       "   5\n",
       "   6\n",
       "   8\n",
       "   9\n",
       "  10\n",
       "  12\n",
       "  15\n",
       "  18\n",
       "  20\n",
       "  24\n",
       "  30\n",
       "  36\n",
       "  40\n",
       "  45\n",
       "  60\n",
       "  72\n",
       "  90\n",
       " 120\n",
       " 180\n",
       " 360"
      ]
     },
     "execution_count": 60,
     "metadata": {},
     "output_type": "execute_result"
    }
   ],
   "source": [
    "[n for n in ds1_360]"
   ]
  },
  {
   "cell_type": "code",
   "execution_count": 61,
   "metadata": {
    "ExecuteTime": {
     "end_time": "2023-01-27T14:41:58.870000+09:00",
     "start_time": "2023-01-27T05:41:52.993Z"
    }
   },
   "outputs": [
    {
     "data": {
      "text/plain": [
       "24-element Vector{Int64}:\n",
       "   1\n",
       "   2\n",
       "   3\n",
       "   4\n",
       "   5\n",
       "   6\n",
       "   8\n",
       "   9\n",
       "  10\n",
       "  12\n",
       "  15\n",
       "  18\n",
       "  20\n",
       "  24\n",
       "  30\n",
       "  36\n",
       "  40\n",
       "  45\n",
       "  60\n",
       "  72\n",
       "  90\n",
       " 120\n",
       " 180\n",
       " 360"
      ]
     },
     "execution_count": 61,
     "metadata": {},
     "output_type": "execute_result"
    }
   ],
   "source": [
    "[n for n in ds2_360]"
   ]
  },
  {
   "cell_type": "code",
   "execution_count": 62,
   "metadata": {
    "ExecuteTime": {
     "end_time": "2023-01-27T14:41:58.874000+09:00",
     "start_time": "2023-01-27T05:41:52.995Z"
    }
   },
   "outputs": [
    {
     "data": {
      "text/plain": [
       "true"
      ]
     },
     "execution_count": 62,
     "metadata": {},
     "output_type": "execute_result"
    }
   ],
   "source": [
    "[n for n in ds1_360] == [n for n in ds2_360]"
   ]
  },
  {
   "cell_type": "code",
   "execution_count": 63,
   "metadata": {
    "ExecuteTime": {
     "end_time": "2023-01-27T14:41:58.901000+09:00",
     "start_time": "2023-01-27T05:41:52.996Z"
    }
   },
   "outputs": [
    {
     "name": "stdout",
     "output_type": "stream",
     "text": [
      "  0.000010 seconds (4 allocations: 496 bytes)\n"
     ]
    }
   ],
   "source": [
    "@time [n for n in ds1_360];"
   ]
  },
  {
   "cell_type": "code",
   "execution_count": 64,
   "metadata": {
    "ExecuteTime": {
     "end_time": "2023-01-27T14:41:58.913000+09:00",
     "start_time": "2023-01-27T05:41:52.998Z"
    }
   },
   "outputs": [
    {
     "name": "stdout",
     "output_type": "stream",
     "text": [
      "  0.000009 seconds (2 allocations: 272 bytes)\n"
     ]
    }
   ],
   "source": [
    "@time [n for n in ds2_360];"
   ]
  },
  {
   "cell_type": "markdown",
   "metadata": {},
   "source": [
    "#### `Base.IteratorEltype`"
   ]
  },
  {
   "cell_type": "markdown",
   "metadata": {},
   "source": [
    "##### コード6-15. `Base.eltype()` を適切に定義した `Divisors1` および `Divisors2` の挙動確認"
   ]
  },
  {
   "cell_type": "code",
   "execution_count": 65,
   "metadata": {
    "ExecuteTime": {
     "end_time": "2023-01-27T14:41:58.915000+09:00",
     "start_time": "2023-01-27T05:41:53.000Z"
    }
   },
   "outputs": [],
   "source": [
    "Base.eltype(::Type{Divisors1{I}}) where {I} = I\n",
    "Base.eltype(::Type{Divisors2{I}}) where {I} = I"
   ]
  },
  {
   "cell_type": "code",
   "execution_count": 66,
   "metadata": {
    "ExecuteTime": {
     "end_time": "2023-01-27T14:41:58.915000+09:00",
     "start_time": "2023-01-27T05:41:53.002Z"
    }
   },
   "outputs": [
    {
     "data": {
      "text/plain": [
       "Divisors1{Int64}(36)"
      ]
     },
     "execution_count": 66,
     "metadata": {},
     "output_type": "execute_result"
    }
   ],
   "source": [
    "ds1_36 = Divisors1(36)"
   ]
  },
  {
   "cell_type": "code",
   "execution_count": 67,
   "metadata": {
    "ExecuteTime": {
     "end_time": "2023-01-27T14:41:58.916000+09:00",
     "start_time": "2023-01-27T05:41:53.004Z"
    }
   },
   "outputs": [
    {
     "data": {
      "text/plain": [
       "Divisors2{Int64}(36)"
      ]
     },
     "execution_count": 67,
     "metadata": {},
     "output_type": "execute_result"
    }
   ],
   "source": [
    "ds2_36 = Divisors2(36)"
   ]
  },
  {
   "cell_type": "code",
   "execution_count": 68,
   "metadata": {
    "ExecuteTime": {
     "end_time": "2023-01-27T14:41:59.083000+09:00",
     "start_time": "2023-01-27T05:41:53.005Z"
    }
   },
   "outputs": [
    {
     "data": {
      "text/plain": [
       "Base.HasEltype()"
      ]
     },
     "execution_count": 68,
     "metadata": {},
     "output_type": "execute_result"
    }
   ],
   "source": [
    "Base.IteratorEltype(typeof(ds1_36))"
   ]
  },
  {
   "cell_type": "code",
   "execution_count": 69,
   "metadata": {
    "ExecuteTime": {
     "end_time": "2023-01-27T14:41:59.366000+09:00",
     "start_time": "2023-01-27T05:41:53.007Z"
    }
   },
   "outputs": [
    {
     "data": {
      "text/plain": [
       "Int64"
      ]
     },
     "execution_count": 69,
     "metadata": {},
     "output_type": "execute_result"
    }
   ],
   "source": [
    "Base.eltype(ds1_36)"
   ]
  },
  {
   "cell_type": "code",
   "execution_count": 70,
   "metadata": {
    "ExecuteTime": {
     "end_time": "2023-01-27T14:41:59.367000+09:00",
     "start_time": "2023-01-27T05:41:53.009Z"
    }
   },
   "outputs": [
    {
     "data": {
      "text/plain": [
       "Base.HasEltype()"
      ]
     },
     "execution_count": 70,
     "metadata": {},
     "output_type": "execute_result"
    }
   ],
   "source": [
    "Base.IteratorEltype(typeof(ds2_36))"
   ]
  },
  {
   "cell_type": "code",
   "execution_count": 71,
   "metadata": {
    "ExecuteTime": {
     "end_time": "2023-01-27T14:41:59.368000+09:00",
     "start_time": "2023-01-27T05:41:53.011Z"
    }
   },
   "outputs": [
    {
     "data": {
      "text/plain": [
       "Int64"
      ]
     },
     "execution_count": 71,
     "metadata": {},
     "output_type": "execute_result"
    }
   ],
   "source": [
    "Base.eltype(ds2_36)"
   ]
  },
  {
   "cell_type": "code",
   "execution_count": 72,
   "metadata": {
    "ExecuteTime": {
     "end_time": "2023-01-27T14:41:59.379000+09:00",
     "start_time": "2023-01-27T05:41:53.013Z"
    }
   },
   "outputs": [
    {
     "data": {
      "text/plain": [
       "9-element Vector{Int64}:\n",
       "  1\n",
       "  2\n",
       "  3\n",
       "  4\n",
       "  6\n",
       "  9\n",
       " 12\n",
       " 18\n",
       " 36"
      ]
     },
     "execution_count": 72,
     "metadata": {},
     "output_type": "execute_result"
    }
   ],
   "source": [
    "collect(ds1_36)"
   ]
  },
  {
   "cell_type": "code",
   "execution_count": 73,
   "metadata": {
    "ExecuteTime": {
     "end_time": "2023-01-27T14:41:59.391000+09:00",
     "start_time": "2023-01-27T05:41:53.014Z"
    }
   },
   "outputs": [
    {
     "data": {
      "text/plain": [
       "9-element Vector{Int64}:\n",
       "  1\n",
       "  2\n",
       "  3\n",
       "  4\n",
       "  6\n",
       "  9\n",
       " 12\n",
       " 18\n",
       " 36"
      ]
     },
     "execution_count": 73,
     "metadata": {},
     "output_type": "execute_result"
    }
   ],
   "source": [
    "collect(ds2_36)"
   ]
  },
  {
   "cell_type": "markdown",
   "metadata": {},
   "source": [
    "#### コード6-16. `Divisors3` の定義（`Base.SizeUnknown`/`Base.EltypeUnknown`）"
   ]
  },
  {
   "cell_type": "code",
   "execution_count": 74,
   "metadata": {
    "ExecuteTime": {
     "end_time": "2023-01-27T14:41:59.393000+09:00",
     "start_time": "2023-01-27T05:41:53.016Z"
    }
   },
   "outputs": [],
   "source": [
    "struct Divisors3{I <: Integer}\n",
    "    n::I\n",
    "end"
   ]
  },
  {
   "cell_type": "code",
   "execution_count": 75,
   "metadata": {
    "ExecuteTime": {
     "end_time": "2023-01-27T14:41:59.394000+09:00",
     "start_time": "2023-01-27T05:41:53.018Z"
    }
   },
   "outputs": [],
   "source": [
    "Base.iterate(ds::Divisors3{I}) where {I} = (one(I), one(I))\n",
    "function Base.iterate(ds::Divisors3{I}, next::I) where {I}\n",
    "    while next < ds.n\n",
    "        next += one(I)\n",
    "        ds.n % next == 0 && return (next, next)\n",
    "    end\n",
    "    nothing\n",
    "end"
   ]
  },
  {
   "cell_type": "code",
   "execution_count": 76,
   "metadata": {
    "ExecuteTime": {
     "end_time": "2023-01-27T14:41:59.396000+09:00",
     "start_time": "2023-01-27T05:41:53.019Z"
    }
   },
   "outputs": [],
   "source": [
    "Base.IteratorSize(::Type{<:Divisors3}) = Base.SizeUnknown()"
   ]
  },
  {
   "cell_type": "code",
   "execution_count": 77,
   "metadata": {
    "ExecuteTime": {
     "end_time": "2023-01-27T14:41:59.397000+09:00",
     "start_time": "2023-01-27T05:41:53.021Z"
    }
   },
   "outputs": [],
   "source": [
    "Base.IteratorEltype(::Type{<:Divisors3}) = Base.EltypeUnknown()"
   ]
  },
  {
   "cell_type": "markdown",
   "metadata": {},
   "source": [
    "##### コード6-17. `Divisors3` の挙動確認"
   ]
  },
  {
   "cell_type": "code",
   "execution_count": 78,
   "metadata": {
    "ExecuteTime": {
     "end_time": "2023-01-27T14:41:59.592000+09:00",
     "start_time": "2023-01-27T05:41:53.023Z"
    }
   },
   "outputs": [
    {
     "data": {
      "text/plain": [
       "Divisors3{Int64}(36)"
      ]
     },
     "execution_count": 78,
     "metadata": {},
     "output_type": "execute_result"
    }
   ],
   "source": [
    "ds3_36 = Divisors3(36)"
   ]
  },
  {
   "cell_type": "code",
   "execution_count": 79,
   "metadata": {
    "ExecuteTime": {
     "end_time": "2023-01-27T14:41:59.610000+09:00",
     "start_time": "2023-01-27T05:41:53.025Z"
    }
   },
   "outputs": [
    {
     "data": {
      "text/plain": [
       "9-element Vector{Int64}:\n",
       "  1\n",
       "  2\n",
       "  3\n",
       "  4\n",
       "  6\n",
       "  9\n",
       " 12\n",
       " 18\n",
       " 36"
      ]
     },
     "execution_count": 79,
     "metadata": {},
     "output_type": "execute_result"
    }
   ],
   "source": [
    "[n for n in ds3_36]"
   ]
  },
  {
   "cell_type": "code",
   "execution_count": 80,
   "metadata": {
    "ExecuteTime": {
     "end_time": "2023-01-27T14:41:59.624000+09:00",
     "start_time": "2023-01-27T05:41:53.026Z"
    }
   },
   "outputs": [
    {
     "data": {
      "text/plain": [
       "9-element Vector{Int64}:\n",
       "  1\n",
       "  2\n",
       "  3\n",
       "  4\n",
       "  6\n",
       "  9\n",
       " 12\n",
       " 18\n",
       " 36"
      ]
     },
     "execution_count": 80,
     "metadata": {},
     "output_type": "execute_result"
    }
   ],
   "source": [
    "collect(ds3_36)"
   ]
  },
  {
   "cell_type": "markdown",
   "metadata": {},
   "source": [
    "##### コード6-18. `Divisors1` と `Divisors3` のパフォーマンス比較（`Base.IteratorEltype` の差異による比較）"
   ]
  },
  {
   "cell_type": "code",
   "execution_count": 81,
   "metadata": {
    "ExecuteTime": {
     "end_time": "2023-01-27T14:41:59.625000+09:00",
     "start_time": "2023-01-27T05:41:53.028Z"
    }
   },
   "outputs": [],
   "source": [
    "ds1_360 = Divisors1(360);\n",
    "ds3_360 = Divisors3(360);"
   ]
  },
  {
   "cell_type": "code",
   "execution_count": 82,
   "metadata": {
    "ExecuteTime": {
     "end_time": "2023-01-27T14:41:59.627000+09:00",
     "start_time": "2023-01-27T05:41:53.030Z"
    }
   },
   "outputs": [
    {
     "data": {
      "text/plain": [
       "Base.HasEltype()"
      ]
     },
     "execution_count": 82,
     "metadata": {},
     "output_type": "execute_result"
    }
   ],
   "source": [
    "Base.IteratorEltype(typeof(ds1_360))"
   ]
  },
  {
   "cell_type": "code",
   "execution_count": 83,
   "metadata": {
    "ExecuteTime": {
     "end_time": "2023-01-27T14:41:59.627000+09:00",
     "start_time": "2023-01-27T05:41:53.031Z"
    }
   },
   "outputs": [
    {
     "data": {
      "text/plain": [
       "Int64"
      ]
     },
     "execution_count": 83,
     "metadata": {},
     "output_type": "execute_result"
    }
   ],
   "source": [
    "Base.eltype(ds1_36)"
   ]
  },
  {
   "cell_type": "code",
   "execution_count": 84,
   "metadata": {
    "ExecuteTime": {
     "end_time": "2023-01-27T14:41:59.798000+09:00",
     "start_time": "2023-01-27T05:41:53.033Z"
    }
   },
   "outputs": [
    {
     "data": {
      "text/plain": [
       "Base.EltypeUnknown()"
      ]
     },
     "execution_count": 84,
     "metadata": {},
     "output_type": "execute_result"
    }
   ],
   "source": [
    "Base.IteratorEltype(typeof(ds3_360))"
   ]
  },
  {
   "cell_type": "code",
   "execution_count": 85,
   "metadata": {
    "ExecuteTime": {
     "end_time": "2023-01-27T14:41:59.800000+09:00",
     "start_time": "2023-01-27T05:41:53.034Z"
    }
   },
   "outputs": [
    {
     "data": {
      "text/plain": [
       "24-element Vector{Int64}:\n",
       "   1\n",
       "   2\n",
       "   3\n",
       "   4\n",
       "   5\n",
       "   6\n",
       "   8\n",
       "   9\n",
       "  10\n",
       "  12\n",
       "  15\n",
       "  18\n",
       "  20\n",
       "  24\n",
       "  30\n",
       "  36\n",
       "  40\n",
       "  45\n",
       "  60\n",
       "  72\n",
       "  90\n",
       " 120\n",
       " 180\n",
       " 360"
      ]
     },
     "execution_count": 85,
     "metadata": {},
     "output_type": "execute_result"
    }
   ],
   "source": [
    "collect(ds1_360)"
   ]
  },
  {
   "cell_type": "code",
   "execution_count": 86,
   "metadata": {
    "ExecuteTime": {
     "end_time": "2023-01-27T14:41:59.801000+09:00",
     "start_time": "2023-01-27T05:41:53.036Z"
    }
   },
   "outputs": [
    {
     "data": {
      "text/plain": [
       "24-element Vector{Int64}:\n",
       "   1\n",
       "   2\n",
       "   3\n",
       "   4\n",
       "   5\n",
       "   6\n",
       "   8\n",
       "   9\n",
       "  10\n",
       "  12\n",
       "  15\n",
       "  18\n",
       "  20\n",
       "  24\n",
       "  30\n",
       "  36\n",
       "  40\n",
       "  45\n",
       "  60\n",
       "  72\n",
       "  90\n",
       " 120\n",
       " 180\n",
       " 360"
      ]
     },
     "execution_count": 86,
     "metadata": {},
     "output_type": "execute_result"
    }
   ],
   "source": [
    "collect(ds3_360)"
   ]
  },
  {
   "cell_type": "code",
   "execution_count": 87,
   "metadata": {
    "ExecuteTime": {
     "end_time": "2023-01-27T14:41:59.802000+09:00",
     "start_time": "2023-01-27T05:41:53.038Z"
    }
   },
   "outputs": [
    {
     "data": {
      "text/plain": [
       "true"
      ]
     },
     "execution_count": 87,
     "metadata": {},
     "output_type": "execute_result"
    }
   ],
   "source": [
    "collect(ds1_360) == collect(ds3_360)"
   ]
  },
  {
   "cell_type": "code",
   "execution_count": 88,
   "metadata": {
    "ExecuteTime": {
     "end_time": "2023-01-27T14:41:59.816000+09:00",
     "start_time": "2023-01-27T05:41:53.040Z"
    }
   },
   "outputs": [
    {
     "name": "stdout",
     "output_type": "stream",
     "text": [
      "  0.000007 seconds (3 allocations: 480 bytes)\n"
     ]
    }
   ],
   "source": [
    "@time collect(ds1_360);"
   ]
  },
  {
   "cell_type": "code",
   "execution_count": 89,
   "metadata": {
    "ExecuteTime": {
     "end_time": "2023-01-27T14:41:59.828000+09:00",
     "start_time": "2023-01-27T05:41:53.042Z"
    }
   },
   "outputs": [
    {
     "name": "stdout",
     "output_type": "stream",
     "text": [
      "  0.000006 seconds (3 allocations: 480 bytes)\n"
     ]
    }
   ],
   "source": [
    "@time collect(ds3_360);"
   ]
  }
 ],
 "metadata": {
  "jupytext": {
   "formats": "ipynb,auto:light"
  },
  "kernelspec": {
   "display_name": "Julia 1.8.5",
   "language": "julia",
   "name": "julia-1.8"
  },
  "language_info": {
   "file_extension": ".jl",
   "mimetype": "application/julia",
   "name": "julia",
   "version": "1.8.5"
  }
 },
 "nbformat": 4,
 "nbformat_minor": 2
}
