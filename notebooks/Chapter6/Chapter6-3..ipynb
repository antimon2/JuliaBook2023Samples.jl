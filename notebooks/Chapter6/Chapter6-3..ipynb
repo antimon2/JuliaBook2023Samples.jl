{
 "cells": [
  {
   "cell_type": "code",
   "execution_count": 1,
   "metadata": {
    "ExecuteTime": {
     "end_time": "2023-01-27T14:46:24.362000+09:00",
     "start_time": "2023-01-27T05:46:23.813Z"
    }
   },
   "outputs": [
    {
     "name": "stdout",
     "output_type": "stream",
     "text": [
      "Julia Version 1.8.5\n",
      "Commit 17cfb8e65ea (2023-01-08 06:45 UTC)\n",
      "Platform Info:\n",
      "  OS: Linux (x86_64-linux-gnu)\n",
      "  CPU: 12 × Intel(R) Core(TM) i7-9750H CPU @ 2.60GHz\n",
      "  WORD_SIZE: 64\n",
      "  LIBM: libopenlibm\n",
      "  LLVM: libLLVM-13.0.1 (ORCJIT, skylake)\n",
      "  Threads: 1 on 12 virtual cores\n"
     ]
    }
   ],
   "source": [
    "versioninfo()"
   ]
  },
  {
   "cell_type": "markdown",
   "metadata": {},
   "source": [
    "## 6-3. `Iterators` サブモジュール"
   ]
  },
  {
   "cell_type": "markdown",
   "metadata": {},
   "source": [
    "#### コード6-28. `zip()` 関数の動作例"
   ]
  },
  {
   "cell_type": "code",
   "execution_count": 2,
   "metadata": {
    "ExecuteTime": {
     "end_time": "2023-01-27T14:46:24.409000+09:00",
     "start_time": "2023-01-27T05:46:23.816Z"
    }
   },
   "outputs": [],
   "source": [
    "a = 1:10;\n",
    "b = 'a':'j';"
   ]
  },
  {
   "cell_type": "code",
   "execution_count": 3,
   "metadata": {
    "ExecuteTime": {
     "end_time": "2023-01-27T14:46:24.958000+09:00",
     "start_time": "2023-01-27T05:46:23.817Z"
    }
   },
   "outputs": [
    {
     "data": {
      "text/plain": [
       "zip(1:10, 'a':1:'j')"
      ]
     },
     "execution_count": 3,
     "metadata": {},
     "output_type": "execute_result"
    }
   ],
   "source": [
    "zip(a, b)"
   ]
  },
  {
   "cell_type": "code",
   "execution_count": 4,
   "metadata": {
    "ExecuteTime": {
     "end_time": "2023-01-27T14:46:26.017000+09:00",
     "start_time": "2023-01-27T05:46:23.819Z"
    }
   },
   "outputs": [
    {
     "data": {
      "text/plain": [
       "10-element Vector{Tuple{Int64, Char}}:\n",
       " (1, 'a')\n",
       " (2, 'b')\n",
       " (3, 'c')\n",
       " (4, 'd')\n",
       " (5, 'e')\n",
       " (6, 'f')\n",
       " (7, 'g')\n",
       " (8, 'h')\n",
       " (9, 'i')\n",
       " (10, 'j')"
      ]
     },
     "execution_count": 4,
     "metadata": {},
     "output_type": "execute_result"
    }
   ],
   "source": [
    "collect(zip(a, b))"
   ]
  },
  {
   "cell_type": "code",
   "execution_count": 5,
   "metadata": {
    "ExecuteTime": {
     "end_time": "2023-01-27T14:46:26.635000+09:00",
     "start_time": "2023-01-27T05:46:23.821Z"
    }
   },
   "outputs": [
    {
     "data": {
      "text/plain": [
       "4-element Vector{Tuple{Int64, Char, String}}:\n",
       " (1, 'a', \"春\")\n",
       " (2, 'b', \"夏\")\n",
       " (3, 'c', \"秋\")\n",
       " (4, 'd', \"冬\")"
      ]
     },
     "execution_count": 5,
     "metadata": {},
     "output_type": "execute_result"
    }
   ],
   "source": [
    "c = [\"春\", \"夏\", \"秋\", \"冬\"];\n",
    "collect(zip(a, b, c))"
   ]
  },
  {
   "cell_type": "code",
   "execution_count": 6,
   "metadata": {
    "ExecuteTime": {
     "end_time": "2023-01-27T14:46:27.089000+09:00",
     "start_time": "2023-01-27T05:46:23.823Z"
    }
   },
   "outputs": [
    {
     "data": {
      "text/plain": [
       "10-element Vector{Tuple{Int64}}:\n",
       " (1,)\n",
       " (2,)\n",
       " (3,)\n",
       " (4,)\n",
       " (5,)\n",
       " (6,)\n",
       " (7,)\n",
       " (8,)\n",
       " (9,)\n",
       " (10,)"
      ]
     },
     "execution_count": 6,
     "metadata": {},
     "output_type": "execute_result"
    }
   ],
   "source": [
    "collect(zip(a))"
   ]
  },
  {
   "cell_type": "markdown",
   "metadata": {},
   "source": [
    "#### コード6-29. `enumerate()` 関数の動作例"
   ]
  },
  {
   "cell_type": "code",
   "execution_count": 7,
   "metadata": {
    "ExecuteTime": {
     "end_time": "2023-01-27T14:46:27.090000+09:00",
     "start_time": "2023-01-27T05:46:23.824Z"
    }
   },
   "outputs": [],
   "source": [
    "b = 'a':'j';"
   ]
  },
  {
   "cell_type": "code",
   "execution_count": 8,
   "metadata": {
    "ExecuteTime": {
     "end_time": "2023-01-27T14:46:27.272000+09:00",
     "start_time": "2023-01-27T05:46:23.826Z"
    }
   },
   "outputs": [
    {
     "data": {
      "text/plain": [
       "enumerate('a':1:'j')"
      ]
     },
     "execution_count": 8,
     "metadata": {},
     "output_type": "execute_result"
    }
   ],
   "source": [
    "enumerate(b)"
   ]
  },
  {
   "cell_type": "code",
   "execution_count": 9,
   "metadata": {
    "ExecuteTime": {
     "end_time": "2023-01-27T14:46:27.298000+09:00",
     "start_time": "2023-01-27T05:46:23.827Z"
    }
   },
   "outputs": [
    {
     "data": {
      "text/plain": [
       "10-element Vector{Tuple{Int64, Char}}:\n",
       " (1, 'a')\n",
       " (2, 'b')\n",
       " (3, 'c')\n",
       " (4, 'd')\n",
       " (5, 'e')\n",
       " (6, 'f')\n",
       " (7, 'g')\n",
       " (8, 'h')\n",
       " (9, 'i')\n",
       " (10, 'j')"
      ]
     },
     "execution_count": 9,
     "metadata": {},
     "output_type": "execute_result"
    }
   ],
   "source": [
    "collect(enumerate(b))"
   ]
  },
  {
   "cell_type": "code",
   "execution_count": 10,
   "metadata": {
    "ExecuteTime": {
     "end_time": "2023-01-27T14:46:27.353000+09:00",
     "start_time": "2023-01-27T05:46:23.829Z"
    }
   },
   "outputs": [
    {
     "name": "stdout",
     "output_type": "stream",
     "text": [
      "0a\n",
      "1b\n",
      "2c\n",
      "3d\n",
      "4e\n",
      "5f\n",
      "6g\n",
      "7h\n",
      "8i\n",
      "9j\n"
     ]
    }
   ],
   "source": [
    "for (n, c) in enumerate(b)\n",
    "    println(n-1, c)\n",
    "end"
   ]
  },
  {
   "cell_type": "code",
   "execution_count": 11,
   "metadata": {
    "ExecuteTime": {
     "end_time": "2023-01-27T14:46:27.464000+09:00",
     "start_time": "2023-01-27T05:46:23.830Z"
    }
   },
   "outputs": [
    {
     "data": {
      "text/plain": [
       "10-element Vector{Tuple{Int64, Char}}:\n",
       " (2, 'a')\n",
       " (3, 'b')\n",
       " (4, 'c')\n",
       " (5, 'd')\n",
       " (6, 'e')\n",
       " (7, 'f')\n",
       " (8, 'g')\n",
       " (9, 'h')\n",
       " (10, 'i')\n",
       " (11, 'j')"
      ]
     },
     "execution_count": 11,
     "metadata": {},
     "output_type": "execute_result"
    }
   ],
   "source": [
    "collect(zip(Iterators.countfrom(2), b))"
   ]
  },
  {
   "cell_type": "markdown",
   "metadata": {},
   "source": [
    "#### コード6-30. `pairs()` 関数の動作例(1): 配列の例"
   ]
  },
  {
   "cell_type": "code",
   "execution_count": 12,
   "metadata": {
    "ExecuteTime": {
     "end_time": "2023-01-27T14:46:27.464000+09:00",
     "start_time": "2023-01-27T05:46:23.832Z"
    }
   },
   "outputs": [],
   "source": [
    "b = 'a':'j';"
   ]
  },
  {
   "cell_type": "code",
   "execution_count": 13,
   "metadata": {
    "ExecuteTime": {
     "end_time": "2023-01-27T14:46:28.098000+09:00",
     "start_time": "2023-01-27T05:46:23.833Z"
    }
   },
   "outputs": [
    {
     "data": {
      "text/plain": [
       "pairs(::StepRange{Char, Int64})(...):\n",
       "  1  => 'a'\n",
       "  2  => 'b'\n",
       "  3  => 'c'\n",
       "  4  => 'd'\n",
       "  5  => 'e'\n",
       "  6  => 'f'\n",
       "  7  => 'g'\n",
       "  8  => 'h'\n",
       "  9  => 'i'\n",
       "  10 => 'j'"
      ]
     },
     "execution_count": 13,
     "metadata": {},
     "output_type": "execute_result"
    }
   ],
   "source": [
    "pairs(b)"
   ]
  },
  {
   "cell_type": "code",
   "execution_count": 14,
   "metadata": {
    "ExecuteTime": {
     "end_time": "2023-01-27T14:46:28.518000+09:00",
     "start_time": "2023-01-27T05:46:23.835Z"
    }
   },
   "outputs": [
    {
     "data": {
      "text/plain": [
       "10-element Vector{Pair{Int64, Char}}:\n",
       "  1 => 'a'\n",
       "  2 => 'b'\n",
       "  3 => 'c'\n",
       "  4 => 'd'\n",
       "  5 => 'e'\n",
       "  6 => 'f'\n",
       "  7 => 'g'\n",
       "  8 => 'h'\n",
       "  9 => 'i'\n",
       " 10 => 'j'"
      ]
     },
     "execution_count": 14,
     "metadata": {},
     "output_type": "execute_result"
    }
   ],
   "source": [
    "collect(pairs(b))"
   ]
  },
  {
   "cell_type": "code",
   "execution_count": 15,
   "metadata": {
    "ExecuteTime": {
     "end_time": "2023-01-27T14:46:28.519000+09:00",
     "start_time": "2023-01-27T05:46:23.837Z"
    }
   },
   "outputs": [],
   "source": [
    "A = [1 2; 3 4];"
   ]
  },
  {
   "cell_type": "code",
   "execution_count": 16,
   "metadata": {
    "ExecuteTime": {
     "end_time": "2023-01-27T14:46:29.280000+09:00",
     "start_time": "2023-01-27T05:46:23.838Z"
    }
   },
   "outputs": [
    {
     "data": {
      "text/plain": [
       "2×2 Matrix{Pair{CartesianIndex{2}, Int64}}:\n",
       " CartesianIndex(1, 1)=>1  CartesianIndex(1, 2)=>2\n",
       " CartesianIndex(2, 1)=>3  CartesianIndex(2, 2)=>4"
      ]
     },
     "execution_count": 16,
     "metadata": {},
     "output_type": "execute_result"
    }
   ],
   "source": [
    "collect(pairs(A))  # == collect(IndexStyle(A), pairs(A))"
   ]
  },
  {
   "cell_type": "code",
   "execution_count": 17,
   "metadata": {
    "ExecuteTime": {
     "end_time": "2023-01-27T14:46:29.624000+09:00",
     "start_time": "2023-01-27T05:46:23.840Z"
    }
   },
   "outputs": [
    {
     "data": {
      "text/plain": [
       "2×2 Matrix{Pair{Int64, Int64}}:\n",
       " 1=>1  3=>2\n",
       " 2=>3  4=>4"
      ]
     },
     "execution_count": 17,
     "metadata": {},
     "output_type": "execute_result"
    }
   ],
   "source": [
    "collect(pairs(IndexLinear(), A))"
   ]
  },
  {
   "cell_type": "code",
   "execution_count": 18,
   "metadata": {
    "ExecuteTime": {
     "end_time": "2023-01-27T14:46:29.629000+09:00",
     "start_time": "2023-01-27T05:46:23.841Z"
    }
   },
   "outputs": [
    {
     "data": {
      "text/plain": [
       "2×2 Matrix{Pair{CartesianIndex{2}, Int64}}:\n",
       " CartesianIndex(1, 1)=>1  CartesianIndex(1, 2)=>2\n",
       " CartesianIndex(2, 1)=>3  CartesianIndex(2, 2)=>4"
      ]
     },
     "execution_count": 18,
     "metadata": {},
     "output_type": "execute_result"
    }
   ],
   "source": [
    "collect(pairs(IndexCartesian(), A))"
   ]
  },
  {
   "cell_type": "markdown",
   "metadata": {},
   "source": [
    "#### コード6-31. `pairs()` 関数の動作例(2): その他のコレクション型・イテレータ等"
   ]
  },
  {
   "cell_type": "code",
   "execution_count": 19,
   "metadata": {
    "ExecuteTime": {
     "end_time": "2023-01-27T14:46:30.036000+09:00",
     "start_time": "2023-01-27T05:46:23.843Z"
    }
   },
   "outputs": [
    {
     "data": {
      "text/plain": [
       "Dict{Int64, Int64} with 5 entries:\n",
       "  5 => 10\n",
       "  4 => 8\n",
       "  2 => 4\n",
       "  3 => 6\n",
       "  1 => 2"
      ]
     },
     "execution_count": 19,
     "metadata": {},
     "output_type": "execute_result"
    }
   ],
   "source": [
    "pairs(Dict(v=>2v for v=1:5))"
   ]
  },
  {
   "cell_type": "code",
   "execution_count": 20,
   "metadata": {
    "ExecuteTime": {
     "end_time": "2023-01-27T14:46:30.415000+09:00",
     "start_time": "2023-01-27T05:46:23.844Z"
    }
   },
   "outputs": [
    {
     "data": {
      "text/plain": [
       "5-element Vector{Pair{Int64, Int64}}:\n",
       " 5 => 10\n",
       " 4 => 8\n",
       " 2 => 4\n",
       " 3 => 6\n",
       " 1 => 2"
      ]
     },
     "execution_count": 20,
     "metadata": {},
     "output_type": "execute_result"
    }
   ],
   "source": [
    "collect(pairs(Dict(v=>2v for v=1:5)))  # == collect(Dict(v=>2v for v=1:5))"
   ]
  },
  {
   "cell_type": "code",
   "execution_count": 21,
   "metadata": {
    "ExecuteTime": {
     "end_time": "2023-01-27T14:46:30.920000+09:00",
     "start_time": "2023-01-27T05:46:23.845Z"
    }
   },
   "outputs": [
    {
     "data": {
      "text/plain": [
       "3-element Vector{Pair{Int64, Any}}:\n",
       " 1 => 1\n",
       " 2 => :b\n",
       " 3 => \"C\""
      ]
     },
     "execution_count": 21,
     "metadata": {},
     "output_type": "execute_result"
    }
   ],
   "source": [
    "collect(pairs((1, :b, \"C\")))"
   ]
  },
  {
   "cell_type": "code",
   "execution_count": 22,
   "metadata": {
    "ExecuteTime": {
     "end_time": "2023-01-27T14:46:31.496000+09:00",
     "start_time": "2023-01-27T05:46:23.846Z"
    }
   },
   "outputs": [
    {
     "data": {
      "text/plain": [
       "3-element Vector{Pair{Symbol, Any}}:\n",
       " :a => 1\n",
       " :b => :b\n",
       " :c => \"C\""
      ]
     },
     "execution_count": 22,
     "metadata": {},
     "output_type": "execute_result"
    }
   ],
   "source": [
    "collect(pairs((a=1, b=:b, c=\"C\")))"
   ]
  },
  {
   "cell_type": "code",
   "execution_count": 23,
   "metadata": {
    "ExecuteTime": {
     "end_time": "2023-01-27T14:46:31.559000+09:00",
     "start_time": "2023-01-27T05:46:23.847Z"
    }
   },
   "outputs": [
    {
     "data": {
      "text/plain": [
       "1-element Vector{Pair{Int64, Int64}}:\n",
       " 1 => 1"
      ]
     },
     "execution_count": 23,
     "metadata": {},
     "output_type": "execute_result"
    }
   ],
   "source": [
    "collect(pairs(1))  # `keys(1) == Base.OneTo(1)`"
   ]
  },
  {
   "cell_type": "code",
   "execution_count": 24,
   "metadata": {
    "ExecuteTime": {
     "end_time": "2023-01-27T14:46:32.617000+09:00",
     "start_time": "2023-01-27T05:46:23.849Z"
    }
   },
   "outputs": [
    {
     "ename": "LoadError",
     "evalue": "MethodError: no method matching keys(::Set{Int64})\n\u001b[0mClosest candidates are:\n\u001b[0m  keys(\u001b[91m::IOContext\u001b[39m) at show.jl:345\n\u001b[0m  keys(\u001b[91m::Tuple\u001b[39m) at tuple.jl:71\n\u001b[0m  keys(\u001b[91m::Tuple\u001b[39m, \u001b[91m::Tuple...\u001b[39m) at tuple.jl:76\n\u001b[0m  ...",
     "output_type": "error",
     "traceback": [
      "MethodError: no method matching keys(::Set{Int64})\n\u001b[0mClosest candidates are:\n\u001b[0m  keys(\u001b[91m::IOContext\u001b[39m) at show.jl:345\n\u001b[0m  keys(\u001b[91m::Tuple\u001b[39m) at tuple.jl:71\n\u001b[0m  keys(\u001b[91m::Tuple\u001b[39m, \u001b[91m::Tuple...\u001b[39m) at tuple.jl:76\n\u001b[0m  ...",
      "",
      "Stacktrace:",
      " [1] pairs(collection::Set{Int64})",
      "   @ Base ./abstractdict.jl:172",
      " [2] top-level scope",
      "   @ In[24]:1"
     ]
    }
   ],
   "source": [
    "pairs(Set([3, 1, 4, 1, 5, 9, 2, 6, 5, 3]))"
   ]
  },
  {
   "cell_type": "markdown",
   "metadata": {},
   "source": [
    "#### コード6-32. `Iterators.take()`/`Iterators.drop()`/`Iterators.takewhile()`/`Iterators.dropwhile()` 関数の動作例"
   ]
  },
  {
   "cell_type": "code",
   "execution_count": 25,
   "metadata": {
    "ExecuteTime": {
     "end_time": "2023-01-27T14:46:32.617000+09:00",
     "start_time": "2023-01-27T05:46:23.850Z"
    }
   },
   "outputs": [],
   "source": [
    "using .Iterators"
   ]
  },
  {
   "cell_type": "code",
   "execution_count": 26,
   "metadata": {
    "ExecuteTime": {
     "end_time": "2023-01-27T14:46:32.621000+09:00",
     "start_time": "2023-01-27T05:46:23.852Z"
    }
   },
   "outputs": [],
   "source": [
    "iter = (2^n - 1 for n=0:30);"
   ]
  },
  {
   "cell_type": "code",
   "execution_count": 27,
   "metadata": {
    "ExecuteTime": {
     "end_time": "2023-01-27T14:46:32.925000+09:00",
     "start_time": "2023-01-27T05:46:23.853Z"
    }
   },
   "outputs": [
    {
     "data": {
      "text/plain": [
       "31-element Vector{Int64}:\n",
       "          0\n",
       "          1\n",
       "          3\n",
       "          7\n",
       "         15\n",
       "         31\n",
       "         63\n",
       "        127\n",
       "        255\n",
       "        511\n",
       "       1023\n",
       "       2047\n",
       "       4095\n",
       "          ⋮\n",
       "     524287\n",
       "    1048575\n",
       "    2097151\n",
       "    4194303\n",
       "    8388607\n",
       "   16777215\n",
       "   33554431\n",
       "   67108863\n",
       "  134217727\n",
       "  268435455\n",
       "  536870911\n",
       " 1073741823"
      ]
     },
     "execution_count": 27,
     "metadata": {},
     "output_type": "execute_result"
    }
   ],
   "source": [
    "collect(iter)"
   ]
  },
  {
   "cell_type": "code",
   "execution_count": 28,
   "metadata": {
    "ExecuteTime": {
     "end_time": "2023-01-27T14:46:33.185000+09:00",
     "start_time": "2023-01-27T05:46:23.854Z"
    }
   },
   "outputs": [
    {
     "data": {
      "text/plain": [
       "Base.Iterators.Take{Base.Generator{UnitRange{Int64}, var\"#7#8\"}}(Base.Generator{UnitRange{Int64}, var\"#7#8\"}(var\"#7#8\"(), 0:30), 5)"
      ]
     },
     "execution_count": 28,
     "metadata": {},
     "output_type": "execute_result"
    }
   ],
   "source": [
    "take(iter, 5)"
   ]
  },
  {
   "cell_type": "code",
   "execution_count": 29,
   "metadata": {
    "ExecuteTime": {
     "end_time": "2023-01-27T14:46:33.209000+09:00",
     "start_time": "2023-01-27T05:46:23.856Z"
    }
   },
   "outputs": [
    {
     "data": {
      "text/plain": [
       "5-element Vector{Int64}:\n",
       "  0\n",
       "  1\n",
       "  3\n",
       "  7\n",
       " 15"
      ]
     },
     "execution_count": 29,
     "metadata": {},
     "output_type": "execute_result"
    }
   ],
   "source": [
    "collect(take(iter, 5))"
   ]
  },
  {
   "cell_type": "code",
   "execution_count": 30,
   "metadata": {
    "ExecuteTime": {
     "end_time": "2023-01-27T14:46:33.233000+09:00",
     "start_time": "2023-01-27T05:46:23.857Z"
    }
   },
   "outputs": [
    {
     "data": {
      "text/plain": [
       "5-element Vector{Int64}:\n",
       "   67108863\n",
       "  134217727\n",
       "  268435455\n",
       "  536870911\n",
       " 1073741823"
      ]
     },
     "execution_count": 30,
     "metadata": {},
     "output_type": "execute_result"
    }
   ],
   "source": [
    "collect(drop(iter, 26))"
   ]
  },
  {
   "cell_type": "code",
   "execution_count": 31,
   "metadata": {
    "ExecuteTime": {
     "end_time": "2023-01-27T14:46:33.260000+09:00",
     "start_time": "2023-01-27T05:46:23.859Z"
    }
   },
   "outputs": [
    {
     "data": {
      "text/plain": [
       "6-element Vector{Int64}:\n",
       "  0\n",
       "  1\n",
       "  3\n",
       "  7\n",
       " 15\n",
       " 31"
      ]
     },
     "execution_count": 31,
     "metadata": {},
     "output_type": "execute_result"
    }
   ],
   "source": [
    "collect(takewhile(<(50), iter))"
   ]
  },
  {
   "cell_type": "code",
   "execution_count": 32,
   "metadata": {
    "ExecuteTime": {
     "end_time": "2023-01-27T14:46:33.288000+09:00",
     "start_time": "2023-01-27T05:46:23.860Z"
    }
   },
   "outputs": [
    {
     "data": {
      "text/plain": [
       "4-element Vector{Int64}:\n",
       "  134217727\n",
       "  268435455\n",
       "  536870911\n",
       " 1073741823"
      ]
     },
     "execution_count": 32,
     "metadata": {},
     "output_type": "execute_result"
    }
   ],
   "source": [
    "collect(dropwhile(<(10^8), iter))"
   ]
  },
  {
   "cell_type": "markdown",
   "metadata": {},
   "source": [
    "#### コード6-33. `Iterators.flatten()` 関数の動作例"
   ]
  },
  {
   "cell_type": "code",
   "execution_count": 33,
   "metadata": {
    "ExecuteTime": {
     "end_time": "2023-01-27T14:46:33.289000+09:00",
     "start_time": "2023-01-27T05:46:23.861Z"
    }
   },
   "outputs": [],
   "source": [
    "using .Iterators"
   ]
  },
  {
   "cell_type": "code",
   "execution_count": 34,
   "metadata": {
    "ExecuteTime": {
     "end_time": "2023-01-27T14:46:33.290000+09:00",
     "start_time": "2023-01-27T05:46:23.862Z"
    }
   },
   "outputs": [],
   "source": [
    "a = 1:10;\n",
    "b = 'a':'j';\n",
    "c = [\"春\", \"夏\", \"秋\", \"冬\"];"
   ]
  },
  {
   "cell_type": "code",
   "execution_count": 35,
   "metadata": {
    "ExecuteTime": {
     "end_time": "2023-01-27T14:46:33.579000+09:00",
     "start_time": "2023-01-27T05:46:23.864Z"
    }
   },
   "outputs": [
    {
     "data": {
      "text/plain": [
       "Base.Iterators.Flatten{Tuple{UnitRange{Int64}, StepRange{Char, Int64}, Vector{String}}}((1:10, 'a':1:'j', [\"春\", \"夏\", \"秋\", \"冬\"]))"
      ]
     },
     "execution_count": 35,
     "metadata": {},
     "output_type": "execute_result"
    }
   ],
   "source": [
    "flatten((a, b, c))"
   ]
  },
  {
   "cell_type": "code",
   "execution_count": 36,
   "metadata": {
    "ExecuteTime": {
     "end_time": "2023-01-27T14:46:33.760000+09:00",
     "start_time": "2023-01-27T05:46:23.865Z"
    }
   },
   "outputs": [
    {
     "name": "stdout",
     "output_type": "stream",
     "text": [
      "1\n",
      "2\n",
      "3\n",
      "4\n",
      "5\n",
      "6\n",
      "7\n",
      "8\n",
      "9\n",
      "10\n",
      "a\n",
      "b\n",
      "c\n",
      "d\n",
      "e\n",
      "f\n",
      "g\n",
      "h\n",
      "i\n",
      "j\n",
      "春\n",
      "夏\n",
      "秋\n",
      "冬\n"
     ]
    }
   ],
   "source": [
    "for value in flatten((a, b, c))\n",
    "    println(value)\n",
    "end"
   ]
  },
  {
   "cell_type": "markdown",
   "metadata": {},
   "source": [
    "#### コード6-34. `Iterators.map()`/`Iterators.filter()` 関数の動作例"
   ]
  },
  {
   "cell_type": "code",
   "execution_count": 37,
   "metadata": {
    "ExecuteTime": {
     "end_time": "2023-01-27T14:46:33.761000+09:00",
     "start_time": "2023-01-27T05:46:23.867Z"
    }
   },
   "outputs": [],
   "source": [
    "a = 1:10;"
   ]
  },
  {
   "cell_type": "code",
   "execution_count": 38,
   "metadata": {
    "ExecuteTime": {
     "end_time": "2023-01-27T14:46:33.940000+09:00",
     "start_time": "2023-01-27T05:46:23.870Z"
    }
   },
   "outputs": [
    {
     "data": {
      "text/plain": [
       "collatz (generic function with 1 method)"
      ]
     },
     "execution_count": 38,
     "metadata": {},
     "output_type": "execute_result"
    }
   ],
   "source": [
    "collatz(n) = iseven(n) ? n ÷ 2 : 3n + 1"
   ]
  },
  {
   "cell_type": "code",
   "execution_count": 39,
   "metadata": {
    "ExecuteTime": {
     "end_time": "2023-01-27T14:46:33.964000+09:00",
     "start_time": "2023-01-27T05:46:23.871Z"
    }
   },
   "outputs": [
    {
     "data": {
      "text/plain": [
       "10-element Vector{Int64}:\n",
       "  4\n",
       "  1\n",
       " 10\n",
       "  2\n",
       " 16\n",
       "  3\n",
       " 22\n",
       "  4\n",
       " 28\n",
       "  5"
      ]
     },
     "execution_count": 39,
     "metadata": {},
     "output_type": "execute_result"
    }
   ],
   "source": [
    "map(collatz, a)"
   ]
  },
  {
   "cell_type": "code",
   "execution_count": 40,
   "metadata": {
    "ExecuteTime": {
     "end_time": "2023-01-27T14:46:34.162000+09:00",
     "start_time": "2023-01-27T05:46:23.873Z"
    }
   },
   "outputs": [
    {
     "data": {
      "text/plain": [
       "Base.Generator{UnitRange{Int64}, typeof(collatz)}(collatz, 1:10)"
      ]
     },
     "execution_count": 40,
     "metadata": {},
     "output_type": "execute_result"
    }
   ],
   "source": [
    "Iterators.map(collatz, a)"
   ]
  },
  {
   "cell_type": "code",
   "execution_count": 41,
   "metadata": {
    "ExecuteTime": {
     "end_time": "2023-01-27T14:46:34.171000+09:00",
     "start_time": "2023-01-27T05:46:23.874Z"
    }
   },
   "outputs": [
    {
     "data": {
      "text/plain": [
       "10-element Vector{Int64}:\n",
       "  4\n",
       "  1\n",
       " 10\n",
       "  2\n",
       " 16\n",
       "  3\n",
       " 22\n",
       "  4\n",
       " 28\n",
       "  5"
      ]
     },
     "execution_count": 41,
     "metadata": {},
     "output_type": "execute_result"
    }
   ],
   "source": [
    "collect(Iterators.map(collatz, a))"
   ]
  },
  {
   "cell_type": "code",
   "execution_count": 42,
   "metadata": {
    "ExecuteTime": {
     "end_time": "2023-01-27T14:46:34.207000+09:00",
     "start_time": "2023-01-27T05:46:23.875Z"
    }
   },
   "outputs": [
    {
     "data": {
      "text/plain": [
       "3-element Vector{Int64}:\n",
       " 3\n",
       " 6\n",
       " 9"
      ]
     },
     "execution_count": 42,
     "metadata": {},
     "output_type": "execute_result"
    }
   ],
   "source": [
    "filter(n->n%3==0, a)"
   ]
  },
  {
   "cell_type": "code",
   "execution_count": 43,
   "metadata": {
    "ExecuteTime": {
     "end_time": "2023-01-27T14:46:34.400000+09:00",
     "start_time": "2023-01-27T05:46:23.877Z"
    }
   },
   "outputs": [
    {
     "data": {
      "text/plain": [
       "Base.Iterators.Filter{var\"#11#12\", UnitRange{Int64}}(var\"#11#12\"(), 1:10)"
      ]
     },
     "execution_count": 43,
     "metadata": {},
     "output_type": "execute_result"
    }
   ],
   "source": [
    "Iterators.filter(n->n%3==0, a)"
   ]
  },
  {
   "cell_type": "code",
   "execution_count": 44,
   "metadata": {
    "ExecuteTime": {
     "end_time": "2023-01-27T14:46:34.417000+09:00",
     "start_time": "2023-01-27T05:46:23.879Z"
    }
   },
   "outputs": [
    {
     "data": {
      "text/plain": [
       "3-element Vector{Int64}:\n",
       " 3\n",
       " 6\n",
       " 9"
      ]
     },
     "execution_count": 44,
     "metadata": {},
     "output_type": "execute_result"
    }
   ],
   "source": [
    "collect(Iterators.filter(n->n%3==0, a))"
   ]
  }
 ],
 "metadata": {
  "jupytext": {
   "formats": "ipynb,auto:light"
  },
  "kernelspec": {
   "display_name": "Julia 1.8.5",
   "language": "julia",
   "name": "julia-1.8"
  },
  "language_info": {
   "file_extension": ".jl",
   "mimetype": "application/julia",
   "name": "julia",
   "version": "1.8.5"
  }
 },
 "nbformat": 4,
 "nbformat_minor": 2
}
