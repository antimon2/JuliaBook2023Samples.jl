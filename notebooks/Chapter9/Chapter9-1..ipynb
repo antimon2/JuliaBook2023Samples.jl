{
 "cells": [
  {
   "cell_type": "code",
   "execution_count": 1,
   "id": "9d3d84c6",
   "metadata": {
    "ExecuteTime": {
     "end_time": "2023-01-27T15:13:44.216000+09:00",
     "start_time": "2023-01-27T06:13:43.710Z"
    }
   },
   "outputs": [
    {
     "name": "stdout",
     "output_type": "stream",
     "text": [
      "Julia Version 1.8.5\n",
      "Commit 17cfb8e65ea (2023-01-08 06:45 UTC)\n",
      "Platform Info:\n",
      "  OS: Linux (x86_64-linux-gnu)\n",
      "  CPU: 12 × Intel(R) Core(TM) i7-9750H CPU @ 2.60GHz\n",
      "  WORD_SIZE: 64\n",
      "  LIBM: libopenlibm\n",
      "  LLVM: libLLVM-13.0.1 (ORCJIT, skylake)\n",
      "  Threads: 4 on 12 virtual cores\n",
      "Environment:\n",
      "  JULIA_NUM_THREADS = 4\n"
     ]
    }
   ],
   "source": [
    "versioninfo()"
   ]
  },
  {
   "cell_type": "markdown",
   "id": "f5427d2e",
   "metadata": {},
   "source": [
    "## 9-1. タスクとチャネル"
   ]
  },
  {
   "cell_type": "markdown",
   "id": "e3beb9b2",
   "metadata": {},
   "source": [
    "### 9-1-1. タスク"
   ]
  },
  {
   "cell_type": "markdown",
   "id": "b42e205d",
   "metadata": {},
   "source": [
    "#### コード9-1. 実行に5秒かかるコード例"
   ]
  },
  {
   "cell_type": "code",
   "execution_count": 2,
   "id": "fef23e0f",
   "metadata": {
    "ExecuteTime": {
     "end_time": "2023-01-27T15:13:50.475000+09:00",
     "start_time": "2023-01-27T06:13:46.246Z"
    }
   },
   "outputs": [
    {
     "name": "stdout",
     "output_type": "stream",
     "text": [
      "Done."
     ]
    }
   ],
   "source": [
    "begin\n",
    "    sleep(5)\n",
    "    print(\"Done.\")\n",
    "end"
   ]
  },
  {
   "cell_type": "markdown",
   "id": "c1414523",
   "metadata": {},
   "source": [
    "#### コード9-2. タスクの定義例"
   ]
  },
  {
   "cell_type": "code",
   "execution_count": 3,
   "id": "3333145e",
   "metadata": {
    "ExecuteTime": {
     "end_time": "2023-01-27T15:13:51.508000+09:00",
     "start_time": "2023-01-27T06:13:51.881Z"
    }
   },
   "outputs": [
    {
     "data": {
      "text/plain": [
       "Task (runnable) @0x00007fe8fe020740"
      ]
     },
     "execution_count": 3,
     "metadata": {},
     "output_type": "execute_result"
    }
   ],
   "source": [
    "@task begin\n",
    "    sleep(5)\n",
    "    print(\"Done.\")\n",
    "end"
   ]
  },
  {
   "cell_type": "markdown",
   "id": "27df9832",
   "metadata": {},
   "source": [
    "#### コード9-3. タスクの実行例"
   ]
  },
  {
   "cell_type": "code",
   "execution_count": 4,
   "id": "2284def0",
   "metadata": {
    "ExecuteTime": {
     "end_time": "2023-01-27T15:13:54.121000+09:00",
     "start_time": "2023-01-27T06:13:54.910Z"
    }
   },
   "outputs": [
    {
     "data": {
      "text/plain": [
       "Task (runnable) @0x00007fe8fe9f8b90"
      ]
     },
     "execution_count": 4,
     "metadata": {},
     "output_type": "execute_result"
    }
   ],
   "source": [
    "t = @task begin\n",
    "    sleep(5)\n",
    "    print(\"Done.\")\n",
    "end"
   ]
  },
  {
   "cell_type": "code",
   "execution_count": 5,
   "id": "3a7d760a",
   "metadata": {
    "ExecuteTime": {
     "end_time": "2023-01-27T15:13:55.294000+09:00",
     "start_time": "2023-01-27T06:13:56.084Z"
    }
   },
   "outputs": [
    {
     "data": {
      "text/plain": [
       "Task (runnable) @0x00007fe8fe9f8b90"
      ]
     },
     "execution_count": 5,
     "metadata": {},
     "output_type": "execute_result"
    },
    {
     "name": "stdout",
     "output_type": "stream",
     "text": [
      "Done."
     ]
    }
   ],
   "source": [
    "schedule(t)"
   ]
  },
  {
   "cell_type": "markdown",
   "id": "ceb7c5d9",
   "metadata": {},
   "source": [
    "#### コード9-4. `@async` の例"
   ]
  },
  {
   "cell_type": "code",
   "execution_count": 6,
   "id": "97b811de",
   "metadata": {
    "ExecuteTime": {
     "end_time": "2023-01-27T15:14:01.030000+09:00",
     "start_time": "2023-01-27T06:14:01.819Z"
    }
   },
   "outputs": [
    {
     "data": {
      "text/plain": [
       "Task (runnable) @0x00007fe8fe9f8e70"
      ]
     },
     "execution_count": 6,
     "metadata": {},
     "output_type": "execute_result"
    },
    {
     "name": "stdout",
     "output_type": "stream",
     "text": [
      "Done."
     ]
    }
   ],
   "source": [
    "@async begin\n",
    "    sleep(5)\n",
    "    print(\"Done.\")\n",
    "end"
   ]
  },
  {
   "cell_type": "markdown",
   "id": "c2631b50",
   "metadata": {},
   "source": [
    "#### コード9-5. `wait()` の例"
   ]
  },
  {
   "cell_type": "code",
   "execution_count": 7,
   "id": "d12dcfaf",
   "metadata": {
    "ExecuteTime": {
     "end_time": "2023-01-27T15:14:06.634000+09:00",
     "start_time": "2023-01-27T06:14:07.424Z"
    }
   },
   "outputs": [
    {
     "data": {
      "text/plain": [
       "Task (runnable) @0x00007fe8fe9f8fe0"
      ]
     },
     "execution_count": 7,
     "metadata": {},
     "output_type": "execute_result"
    }
   ],
   "source": [
    "t = @async begin\n",
    "    sleep(5)\n",
    "    print(\"Done.\")\n",
    "end"
   ]
  },
  {
   "cell_type": "code",
   "execution_count": 8,
   "id": "37dea3a7",
   "metadata": {
    "ExecuteTime": {
     "end_time": "2023-01-27T15:14:11.635000+09:00",
     "start_time": "2023-01-27T06:14:07.666Z"
    }
   },
   "outputs": [
    {
     "name": "stdout",
     "output_type": "stream",
     "text": [
      "Done."
     ]
    }
   ],
   "source": [
    "wait(t)  # ←5秒以内に実行すること！\n",
    "# ↓しばらくしてから表示される\n",
    "# Done.\n",
    "# ↑これが表示されるまではプロンプトが返ってこない"
   ]
  },
  {
   "cell_type": "code",
   "execution_count": 9,
   "id": "4fa4c49f",
   "metadata": {
    "ExecuteTime": {
     "end_time": "2023-01-27T15:14:15.497000+09:00",
     "start_time": "2023-01-27T06:14:13.279Z"
    }
   },
   "outputs": [
    {
     "name": "stdout",
     "output_type": "stream",
     "text": [
      "t1 start.\n",
      "t2 start.\n",
      "t1 end.\n",
      "t2 end.\n"
     ]
    }
   ],
   "source": [
    "t1 = @task begin\n",
    "    println(\"t1 start.\")\n",
    "    sleep(3)\n",
    "    println(\"t1 end.\")\n",
    "end;\n",
    "\n",
    "t2 = @task begin\n",
    "    println(\"t2 start.\")\n",
    "    wait(t1)\n",
    "    println(\"t2 end.\")\n",
    "end;\n",
    "\n",
    "schedule(t1); schedule(t2); wait(t2)"
   ]
  },
  {
   "cell_type": "markdown",
   "id": "19902758",
   "metadata": {},
   "source": [
    "#### コード9-6. `@sync` の例"
   ]
  },
  {
   "cell_type": "code",
   "execution_count": 10,
   "id": "dca2aece",
   "metadata": {
    "ExecuteTime": {
     "end_time": "2023-01-27T15:14:20.131000+09:00",
     "start_time": "2023-01-27T06:14:17.906Z"
    }
   },
   "outputs": [
    {
     "name": "stdout",
     "output_type": "stream",
     "text": [
      "t1 start.\n",
      "t2 start.\n",
      "t1 end.\n",
      "t2 end.\n"
     ]
    }
   ],
   "source": [
    "@sync begin\n",
    "    t1 = @async begin\n",
    "        println(\"t1 start.\")\n",
    "        sleep(3)\n",
    "        println(\"t1 end.\")\n",
    "    end\n",
    "    @async begin\n",
    "        println(\"t2 start.\")\n",
    "        wait(t1)\n",
    "        println(\"t2 end.\")\n",
    "    end\n",
    "end;"
   ]
  },
  {
   "cell_type": "markdown",
   "id": "0930a6e8",
   "metadata": {},
   "source": [
    "#### コード9-7. `fetch()` の例"
   ]
  },
  {
   "cell_type": "code",
   "execution_count": 11,
   "id": "6729778b",
   "metadata": {
    "ExecuteTime": {
     "end_time": "2023-01-27T15:14:24.081000+09:00",
     "start_time": "2023-01-27T06:14:21.864Z"
    }
   },
   "outputs": [
    {
     "name": "stdout",
     "output_type": "stream",
     "text": [
      "t1 start.\n",
      "t2 start.\n",
      "t1 end.\n",
      "t2 end.\n"
     ]
    }
   ],
   "source": [
    "begin\n",
    "    t1 = @async begin\n",
    "        println(\"t1 start.\")\n",
    "        sleep(3)\n",
    "        \"t1 end.\"\n",
    "    end\n",
    "    t2 = @async begin\n",
    "        println(\"t2 start.\")\n",
    "        msg = fetch(t1)\n",
    "        println(msg)\n",
    "        \"t2 end.\"\n",
    "    end\n",
    "    println(fetch(t2))\n",
    "end"
   ]
  },
  {
   "cell_type": "code",
   "execution_count": 12,
   "id": "548fab81",
   "metadata": {
    "ExecuteTime": {
     "end_time": "2023-01-27T15:14:24.771000+09:00",
     "start_time": "2023-01-27T06:14:25.117Z"
    }
   },
   "outputs": [
    {
     "data": {
      "text/plain": [
       "\"t1 end.\""
      ]
     },
     "execution_count": 12,
     "metadata": {},
     "output_type": "execute_result"
    }
   ],
   "source": [
    "fetch(t1)"
   ]
  },
  {
   "cell_type": "code",
   "execution_count": 13,
   "id": "4bb9fb7d",
   "metadata": {
    "ExecuteTime": {
     "end_time": "2023-01-27T15:14:24.772000+09:00",
     "start_time": "2023-01-27T06:14:25.447Z"
    }
   },
   "outputs": [
    {
     "data": {
      "text/plain": [
       "\"t2 end.\""
      ]
     },
     "execution_count": 13,
     "metadata": {},
     "output_type": "execute_result"
    }
   ],
   "source": [
    "fetch(t2)"
   ]
  },
  {
   "cell_type": "markdown",
   "id": "74a4dce8",
   "metadata": {},
   "source": [
    "### 9-1-2. 通知"
   ]
  },
  {
   "cell_type": "markdown",
   "id": "6e61496f",
   "metadata": {},
   "source": [
    "#### コード9-8. 通知による協調動作の例"
   ]
  },
  {
   "cell_type": "code",
   "execution_count": 14,
   "id": "86dc4b02",
   "metadata": {
    "ExecuteTime": {
     "end_time": "2023-01-27T15:14:31.005000+09:00",
     "start_time": "2023-01-27T06:14:31.756Z"
    }
   },
   "outputs": [
    {
     "name": "stdout",
     "output_type": "stream",
     "text": [
      "t1 start.\n",
      "t2 start.\n",
      "t1 end.\n",
      "t2 end.\n"
     ]
    }
   ],
   "source": [
    "cond1 = Condition();\n",
    "\n",
    "cond2 = Condition();\n",
    "\n",
    "@sync begin\n",
    "    @async begin\n",
    "        wait(cond2)\n",
    "        println(\"t1 start.\")\n",
    "        notify(cond1)\n",
    "        wait(cond2)\n",
    "        println(\"t1 end.\")\n",
    "        notify(cond1)\n",
    "    end\n",
    "    @async begin\n",
    "        wait(cond1)\n",
    "        println(\"t2 start.\")\n",
    "        notify(cond2)\n",
    "        wait(cond1)\n",
    "        println(\"t2 end.\")\n",
    "        notify(cond2)\n",
    "    end\n",
    "    @async notify(cond2)\n",
    "end;"
   ]
  },
  {
   "cell_type": "markdown",
   "id": "e2c1d6c3",
   "metadata": {},
   "source": [
    "### 9-1-3. チャネル"
   ]
  },
  {
   "cell_type": "markdown",
   "id": "7a584c4c",
   "metadata": {},
   "source": [
    "#### コード9-9. `Channel` の使用例(1)"
   ]
  },
  {
   "cell_type": "code",
   "execution_count": 15,
   "id": "792deabd",
   "metadata": {
    "ExecuteTime": {
     "end_time": "2023-01-27T15:14:35.652000+09:00",
     "start_time": "2023-01-27T06:14:36.201Z"
    }
   },
   "outputs": [
    {
     "data": {
      "text/plain": [
       "Channel{Any}(0) (empty)"
      ]
     },
     "execution_count": 15,
     "metadata": {},
     "output_type": "execute_result"
    }
   ],
   "source": [
    "chnl = Channel()"
   ]
  },
  {
   "cell_type": "code",
   "execution_count": 16,
   "id": "907ba7b9",
   "metadata": {
    "ExecuteTime": {
     "end_time": "2023-01-27T15:14:36.215000+09:00",
     "start_time": "2023-01-27T06:14:36.806Z"
    }
   },
   "outputs": [
    {
     "data": {
      "text/plain": [
       "true"
      ]
     },
     "execution_count": 16,
     "metadata": {},
     "output_type": "execute_result"
    }
   ],
   "source": [
    "isempty(chnl)"
   ]
  },
  {
   "cell_type": "code",
   "execution_count": 17,
   "id": "5117d76d",
   "metadata": {
    "ExecuteTime": {
     "end_time": "2023-01-27T15:14:36.722000+09:00",
     "start_time": "2023-01-27T06:14:37.464Z"
    }
   },
   "outputs": [
    {
     "data": {
      "text/plain": [
       "Task (runnable) @0x00007fe8685448b0"
      ]
     },
     "execution_count": 17,
     "metadata": {},
     "output_type": "execute_result"
    }
   ],
   "source": [
    "t = @async begin\n",
    "    put!(chnl, \"task start\")\n",
    "    n = 1\n",
    "    while true\n",
    "        put!(chnl, n)\n",
    "        n += 1\n",
    "        n > 15 && break\n",
    "    end\n",
    "    put!(chnl, \"task end\")\n",
    "end"
   ]
  },
  {
   "cell_type": "code",
   "execution_count": 18,
   "id": "d34feb43",
   "metadata": {
    "ExecuteTime": {
     "end_time": "2023-01-27T15:14:37.187000+09:00",
     "start_time": "2023-01-27T06:14:37.983Z"
    }
   },
   "outputs": [
    {
     "data": {
      "text/plain": [
       "false"
      ]
     },
     "execution_count": 18,
     "metadata": {},
     "output_type": "execute_result"
    }
   ],
   "source": [
    "isempty(chnl)  # 1件でも `put!(～)` で追加した要素がある"
   ]
  },
  {
   "cell_type": "code",
   "execution_count": 19,
   "id": "408d175d",
   "metadata": {
    "ExecuteTime": {
     "end_time": "2023-01-27T15:14:37.839000+09:00",
     "start_time": "2023-01-27T06:14:38.593Z"
    }
   },
   "outputs": [
    {
     "data": {
      "text/plain": [
       "\"task start\""
      ]
     },
     "execution_count": 19,
     "metadata": {},
     "output_type": "execute_result"
    }
   ],
   "source": [
    "take!(chnl)"
   ]
  },
  {
   "cell_type": "code",
   "execution_count": 20,
   "id": "dfe55af5",
   "metadata": {
    "ExecuteTime": {
     "end_time": "2023-01-27T15:14:38.433000+09:00",
     "start_time": "2023-01-27T06:14:39.078Z"
    }
   },
   "outputs": [
    {
     "data": {
      "text/plain": [
       "1"
      ]
     },
     "execution_count": 20,
     "metadata": {},
     "output_type": "execute_result"
    }
   ],
   "source": [
    "take!(chnl)"
   ]
  },
  {
   "cell_type": "code",
   "execution_count": 21,
   "id": "8c7a9097",
   "metadata": {
    "ExecuteTime": {
     "end_time": "2023-01-27T15:14:39.902000+09:00",
     "start_time": "2023-01-27T06:14:40.699Z"
    }
   },
   "outputs": [
    {
     "data": {
      "text/plain": [
       "2"
      ]
     },
     "execution_count": 21,
     "metadata": {},
     "output_type": "execute_result"
    }
   ],
   "source": [
    "take!(chnl)"
   ]
  },
  {
   "cell_type": "code",
   "execution_count": 22,
   "id": "b5383486",
   "metadata": {
    "ExecuteTime": {
     "end_time": "2023-01-27T15:14:40.368000+09:00",
     "start_time": "2023-01-27T06:14:41.161Z"
    }
   },
   "outputs": [],
   "source": [
    "take!(chnl);\n",
    "take!(chnl);\n",
    "take!(chnl);\n",
    "take!(chnl);\n",
    "take!(chnl);\n",
    "take!(chnl);\n",
    "take!(chnl);\n",
    "take!(chnl);\n",
    "take!(chnl);\n",
    "take!(chnl);\n",
    "take!(chnl);\n",
    "take!(chnl);"
   ]
  },
  {
   "cell_type": "code",
   "execution_count": 23,
   "id": "8325903c",
   "metadata": {
    "ExecuteTime": {
     "end_time": "2023-01-27T15:14:41.741000+09:00",
     "start_time": "2023-01-27T06:14:42.538Z"
    }
   },
   "outputs": [
    {
     "data": {
      "text/plain": [
       "15"
      ]
     },
     "execution_count": 23,
     "metadata": {},
     "output_type": "execute_result"
    }
   ],
   "source": [
    "take!(chnl)"
   ]
  },
  {
   "cell_type": "code",
   "execution_count": 24,
   "id": "6c10f8f8",
   "metadata": {
    "ExecuteTime": {
     "end_time": "2023-01-27T15:14:44.173000+09:00",
     "start_time": "2023-01-27T06:14:44.970Z"
    }
   },
   "outputs": [
    {
     "data": {
      "text/plain": [
       "\"task end\""
      ]
     },
     "execution_count": 24,
     "metadata": {},
     "output_type": "execute_result"
    }
   ],
   "source": [
    "take!(chnl)"
   ]
  },
  {
   "cell_type": "code",
   "execution_count": 25,
   "id": "df4fa9b1",
   "metadata": {
    "ExecuteTime": {
     "end_time": "2023-01-27T15:14:46.001000+09:00",
     "start_time": "2023-01-27T06:14:46.798Z"
    }
   },
   "outputs": [
    {
     "data": {
      "text/plain": [
       "true"
      ]
     },
     "execution_count": 25,
     "metadata": {},
     "output_type": "execute_result"
    }
   ],
   "source": [
    "isempty(chnl)  # 全部列挙し終わった（もう `put!()` で追加した要素がない）"
   ]
  },
  {
   "cell_type": "code",
   "execution_count": null,
   "id": "0ff47377",
   "metadata": {},
   "outputs": [],
   "source": [
    "# take!(chnl)  # ※注意：返ってこないので実行しないこと！"
   ]
  },
  {
   "cell_type": "code",
   "execution_count": 26,
   "id": "7c554e45",
   "metadata": {
    "ExecuteTime": {
     "end_time": "2023-01-27T15:14:49.114000+09:00",
     "start_time": "2023-01-27T06:14:49.906Z"
    }
   },
   "outputs": [],
   "source": [
    "close(chnl)"
   ]
  },
  {
   "cell_type": "code",
   "execution_count": 27,
   "id": "70dcbc0f",
   "metadata": {
    "ExecuteTime": {
     "end_time": "2023-01-27T15:14:50.008000+09:00",
     "start_time": "2023-01-27T06:14:50.804Z"
    }
   },
   "outputs": [
    {
     "data": {
      "text/plain": [
       "true"
      ]
     },
     "execution_count": 27,
     "metadata": {},
     "output_type": "execute_result"
    }
   ],
   "source": [
    "isempty(chnl)"
   ]
  },
  {
   "cell_type": "code",
   "execution_count": 28,
   "id": "3c03ef19",
   "metadata": {
    "ExecuteTime": {
     "end_time": "2023-01-27T15:14:52.243000+09:00",
     "start_time": "2023-01-27T06:14:52.330Z"
    }
   },
   "outputs": [
    {
     "ename": "LoadError",
     "evalue": "InvalidStateException: Channel is closed.",
     "output_type": "error",
     "traceback": [
      "InvalidStateException: Channel is closed.",
      "",
      "Stacktrace:",
      " [1] check_channel_state",
      "   @ ./channels.jl:174 [inlined]",
      " [2] take_unbuffered(c::Channel{Any})",
      "   @ Base ./channels.jl:431",
      " [3] take!(c::Channel{Any})",
      "   @ Base ./channels.jl:410",
      " [4] top-level scope",
      "   @ In[28]:1"
     ]
    }
   ],
   "source": [
    "take!(chnl)"
   ]
  },
  {
   "cell_type": "markdown",
   "id": "e4712acd",
   "metadata": {},
   "source": [
    "#### コード9-10. `Channel` の使用例(1) の動作確認用コード"
   ]
  },
  {
   "cell_type": "code",
   "execution_count": 29,
   "id": "3baea3e5",
   "metadata": {
    "ExecuteTime": {
     "end_time": "2023-01-27T15:14:54.964000+09:00",
     "start_time": "2023-01-27T06:14:55.561Z"
    }
   },
   "outputs": [
    {
     "data": {
      "text/plain": [
       "checkchannel (generic function with 1 method)"
      ]
     },
     "execution_count": 29,
     "metadata": {},
     "output_type": "execute_result"
    }
   ],
   "source": [
    "function checkchannel()\n",
    "    chnl = Channel()\n",
    "    t = @async begin\n",
    "        println(\"putting value...\")\n",
    "        put!(chnl, \"task start\")\n",
    "        println(\"put value: \", \"task start\")\n",
    "        n = 1\n",
    "        while true\n",
    "            println(\"putting value...\")\n",
    "            put!(chnl, n)\n",
    "            println(\"put value: \", n)\n",
    "            n += 1\n",
    "            n > 15 && break\n",
    "        end\n",
    "        println(\"putting value...\")\n",
    "        put!(chnl, \"task end\")\n",
    "        println(\"put value: \", \"task end\")\n",
    "    end\n",
    "\n",
    "    while true\n",
    "        println(\"taking value...\")\n",
    "        v = take!(chnl)\n",
    "        println(\"taken value: \", v)\n",
    "        v == \"task end\" && break\n",
    "    end\n",
    "    wait(t)\n",
    "    close(chnl)\n",
    "end"
   ]
  },
  {
   "cell_type": "markdown",
   "id": "401b0097",
   "metadata": {},
   "source": [
    "#### コード9-11. `Channel` の使用例(1) の動作確認"
   ]
  },
  {
   "cell_type": "code",
   "execution_count": 30,
   "id": "c91e635a",
   "metadata": {
    "ExecuteTime": {
     "end_time": "2023-01-27T15:14:55.866000+09:00",
     "start_time": "2023-01-27T06:14:56.633Z"
    },
    "scrolled": true
   },
   "outputs": [
    {
     "name": "stdout",
     "output_type": "stream",
     "text": [
      "taking value...\n",
      "putting value...\n",
      "taken value: task start\n",
      "taking value...\n",
      "put value: task start\n",
      "putting value...\n",
      "taken value: 1\n",
      "taking value...\n",
      "put value: 1\n",
      "putting value...\n",
      "taken value: 2\n",
      "taking value...\n",
      "put value: 2\n",
      "putting value...\n",
      "taken value: 3\n",
      "taking value...\n",
      "put value: 3\n",
      "putting value...\n",
      "taken value: 4\n",
      "taking value...\n",
      "put value: 4\n",
      "putting value...\n",
      "taken value: 5\n",
      "taking value...\n",
      "put value: 5\n",
      "putting value...\n",
      "taken value: 6\n",
      "taking value...\n",
      "put value: 6\n",
      "putting value...\n",
      "taken value: 7\n",
      "taking value...\n",
      "put value: 7\n",
      "putting value...\n",
      "taken value: 8\n",
      "taking value...\n",
      "put value: 8\n",
      "putting value...\n",
      "taken value: 9\n",
      "taking value...\n",
      "put value: 9\n",
      "putting value...\n",
      "taken value: 10\n",
      "taking value...\n",
      "put value: 10\n",
      "putting value...\n",
      "taken value: 11\n",
      "taking value...\n",
      "put value: 11\n",
      "putting value...\n",
      "taken value: 12\n",
      "taking value...\n",
      "put value: 12\n",
      "putting value...\n",
      "taken value: 13\n",
      "taking value...\n",
      "put value: 13\n",
      "putting value...\n",
      "taken value: 14\n",
      "taking value...\n",
      "put value: 14\n",
      "putting value...\n",
      "taken value: 15\n",
      "taking value...\n",
      "put value: 15\n",
      "putting value...\n",
      "taken value: task end\n",
      "put value: task end\n"
     ]
    }
   ],
   "source": [
    "checkchannel()"
   ]
  },
  {
   "cell_type": "markdown",
   "id": "3c8823d3",
   "metadata": {},
   "source": [
    "#### コード9-12. `Channel` の使用例(2): Doブロック構文 の利用"
   ]
  },
  {
   "cell_type": "code",
   "execution_count": 31,
   "id": "3d30b2fd",
   "metadata": {
    "ExecuteTime": {
     "end_time": "2023-01-27T15:14:58.113000+09:00",
     "start_time": "2023-01-27T06:14:58.838Z"
    }
   },
   "outputs": [
    {
     "data": {
      "text/plain": [
       "Channel{Any}(0) (1 item available)"
      ]
     },
     "execution_count": 31,
     "metadata": {},
     "output_type": "execute_result"
    }
   ],
   "source": [
    "chnl = Channel() do chnl\n",
    "    put!(chnl, \"task start\")\n",
    "    n = 1\n",
    "    while true\n",
    "        put!(chnl, n)\n",
    "        n += 1\n",
    "        n > 15 && break\n",
    "    end\n",
    "    put!(chnl, \"task end\")\n",
    "end"
   ]
  },
  {
   "cell_type": "code",
   "execution_count": 32,
   "id": "5a8ed371",
   "metadata": {
    "ExecuteTime": {
     "end_time": "2023-01-27T15:14:58.923000+09:00",
     "start_time": "2023-01-27T06:14:59.636Z"
    }
   },
   "outputs": [
    {
     "name": "stdout",
     "output_type": "stream",
     "text": [
      "task start\n",
      "1\n",
      "2\n",
      "3\n",
      "4\n",
      "5\n",
      "6\n",
      "7\n",
      "8\n",
      "9\n",
      "10\n",
      "11\n",
      "12\n",
      "13\n",
      "14\n",
      "15\n",
      "task end\n"
     ]
    }
   ],
   "source": [
    "for n in chnl\n",
    "    println(n)\n",
    "end"
   ]
  },
  {
   "cell_type": "code",
   "execution_count": 33,
   "id": "af63e655",
   "metadata": {
    "ExecuteTime": {
     "end_time": "2023-01-27T15:15:00.727000+09:00",
     "start_time": "2023-01-27T06:15:01.510Z"
    }
   },
   "outputs": [
    {
     "ename": "LoadError",
     "evalue": "InvalidStateException: Channel is closed.",
     "output_type": "error",
     "traceback": [
      "InvalidStateException: Channel is closed.",
      "",
      "Stacktrace:",
      " [1] check_channel_state",
      "   @ ./channels.jl:174 [inlined]",
      " [2] take_unbuffered(c::Channel{Any})",
      "   @ Base ./channels.jl:431",
      " [3] take!(c::Channel{Any})",
      "   @ Base ./channels.jl:410",
      " [4] top-level scope",
      "   @ In[33]:1"
     ]
    }
   ],
   "source": [
    "take!(chnl)"
   ]
  },
  {
   "cell_type": "markdown",
   "id": "1076672c",
   "metadata": {},
   "source": [
    "#### コード9-13. `Channel` の使用例(3): 要素の型の指定"
   ]
  },
  {
   "cell_type": "code",
   "execution_count": 34,
   "id": "9b63caef",
   "metadata": {
    "ExecuteTime": {
     "end_time": "2023-01-27T15:15:03.298000+09:00",
     "start_time": "2023-01-27T06:15:04.021Z"
    }
   },
   "outputs": [
    {
     "data": {
      "text/plain": [
       "collatz_channel (generic function with 1 method)"
      ]
     },
     "execution_count": 34,
     "metadata": {},
     "output_type": "execute_result"
    }
   ],
   "source": [
    "function collatz_channel(n)\n",
    "    Channel{Int}() do chnl\n",
    "        put!(chnl, n)\n",
    "        while n != 1\n",
    "            n = iseven(n) ? n ÷ 2 : 3n + 1\n",
    "            put!(chnl, n)\n",
    "        end\n",
    "    end\n",
    "end"
   ]
  },
  {
   "cell_type": "code",
   "execution_count": 35,
   "id": "48610d43",
   "metadata": {
    "ExecuteTime": {
     "end_time": "2023-01-27T15:15:05.689000+09:00",
     "start_time": "2023-01-27T06:15:06.098Z"
    }
   },
   "outputs": [
    {
     "data": {
      "text/plain": [
       "Channel{Int64}"
      ]
     },
     "execution_count": 35,
     "metadata": {},
     "output_type": "execute_result"
    }
   ],
   "source": [
    "typeof(collatz_channel(3))"
   ]
  },
  {
   "cell_type": "code",
   "execution_count": 36,
   "id": "bae33ea1",
   "metadata": {
    "ExecuteTime": {
     "end_time": "2023-01-27T15:15:06.328000+09:00",
     "start_time": "2023-01-27T06:15:07.113Z"
    }
   },
   "outputs": [
    {
     "data": {
      "text/plain": [
       "Int64"
      ]
     },
     "execution_count": 36,
     "metadata": {},
     "output_type": "execute_result"
    }
   ],
   "source": [
    "eltype(collatz_channel(3))"
   ]
  },
  {
   "cell_type": "code",
   "execution_count": 37,
   "id": "4b90c944",
   "metadata": {
    "ExecuteTime": {
     "end_time": "2023-01-27T15:15:06.871000+09:00",
     "start_time": "2023-01-27T06:15:07.598Z"
    }
   },
   "outputs": [
    {
     "name": "stdout",
     "output_type": "stream",
     "text": [
      "3\n",
      "10\n",
      "5\n",
      "16\n",
      "8\n",
      "4\n",
      "2\n",
      "1\n"
     ]
    }
   ],
   "source": [
    "for n in collatz_channel(3)\n",
    "    println(n)\n",
    "end"
   ]
  },
  {
   "cell_type": "code",
   "execution_count": 38,
   "id": "f91e8189",
   "metadata": {
    "ExecuteTime": {
     "end_time": "2023-01-27T15:15:11.284000+09:00",
     "start_time": "2023-01-27T06:15:11.368Z"
    },
    "scrolled": true
   },
   "outputs": [
    {
     "data": {
      "text/plain": [
       "112-element Vector{Int64}:\n",
       "  27\n",
       "  82\n",
       "  41\n",
       " 124\n",
       "  62\n",
       "  31\n",
       "  94\n",
       "  47\n",
       " 142\n",
       "  71\n",
       " 214\n",
       " 107\n",
       " 322\n",
       "   ⋮\n",
       "  53\n",
       " 160\n",
       "  80\n",
       "  40\n",
       "  20\n",
       "  10\n",
       "   5\n",
       "  16\n",
       "   8\n",
       "   4\n",
       "   2\n",
       "   1"
      ]
     },
     "execution_count": 38,
     "metadata": {},
     "output_type": "execute_result"
    }
   ],
   "source": [
    "collect(collatz_channel(27))"
   ]
  },
  {
   "cell_type": "markdown",
   "id": "49bc82f1",
   "metadata": {},
   "source": [
    "#### コード9-14. `Channel` の使用例(4) バッファドチャネル"
   ]
  },
  {
   "cell_type": "code",
   "execution_count": 39,
   "id": "e60c6676",
   "metadata": {
    "ExecuteTime": {
     "end_time": "2023-01-27T15:15:12.810000+09:00",
     "start_time": "2023-01-27T06:15:13.576Z"
    }
   },
   "outputs": [
    {
     "data": {
      "text/plain": [
       "Channel{Any}(3) (4 items available)"
      ]
     },
     "execution_count": 39,
     "metadata": {},
     "output_type": "execute_result"
    }
   ],
   "source": [
    "chnl = Channel(3) do chnl\n",
    "    put!(chnl, \"task start\")\n",
    "    n = 1\n",
    "    while true\n",
    "        put!(chnl, n)\n",
    "        n += 1\n",
    "        n > 15 && break\n",
    "    end\n",
    "    put!(chnl, \"task end\")\n",
    "end"
   ]
  },
  {
   "cell_type": "code",
   "execution_count": 40,
   "id": "e41a3637",
   "metadata": {
    "ExecuteTime": {
     "end_time": "2023-01-27T15:15:14.240000+09:00",
     "start_time": "2023-01-27T06:15:15.030Z"
    }
   },
   "outputs": [
    {
     "name": "stdout",
     "output_type": "stream",
     "text": [
      "task start\n",
      "1\n",
      "2\n",
      "3\n",
      "4\n",
      "5\n",
      "6\n",
      "7\n",
      "8\n",
      "9\n",
      "10\n",
      "11\n",
      "12\n",
      "13\n",
      "14\n",
      "15\n",
      "task end\n"
     ]
    }
   ],
   "source": [
    "for v in chnl\n",
    "    println(v)\n",
    "end"
   ]
  },
  {
   "cell_type": "markdown",
   "id": "b51bb158",
   "metadata": {},
   "source": [
    "#### コード9-15. `Channel` の使用例(4) の動作確認用コード"
   ]
  },
  {
   "cell_type": "code",
   "execution_count": 41,
   "id": "0e94497b",
   "metadata": {
    "ExecuteTime": {
     "end_time": "2023-01-27T15:15:15.724000+09:00",
     "start_time": "2023-01-27T06:15:16.437Z"
    }
   },
   "outputs": [
    {
     "data": {
      "text/plain": [
       "checkchannelB (generic function with 1 method)"
      ]
     },
     "execution_count": 41,
     "metadata": {},
     "output_type": "execute_result"
    }
   ],
   "source": [
    "function checkchannelB()\n",
    "    chnl = Channel(3)\n",
    "    t = @async begin\n",
    "        println(\"putting value...\")\n",
    "        put!(chnl, \"task start\")\n",
    "        println(\"put value: \", \"task start\")\n",
    "        n = 1\n",
    "        while true\n",
    "            println(\"putting value...\")\n",
    "            put!(chnl, n)\n",
    "            println(\"put value: \", n)\n",
    "            n += 1\n",
    "            n > 15 && break\n",
    "        end\n",
    "        println(\"putting value...\")\n",
    "        put!(chnl, \"task end\")\n",
    "        println(\"put value: \", \"task end\")\n",
    "    end\n",
    "\n",
    "    while true\n",
    "        println(\"taking value...\")\n",
    "        v = take!(chnl)\n",
    "        println(\"taken value: \", v)\n",
    "        v == \"task end\" && break\n",
    "    end\n",
    "    wait(t)\n",
    "    close(chnl)\n",
    "end\n"
   ]
  },
  {
   "cell_type": "markdown",
   "id": "5520fd1b",
   "metadata": {},
   "source": [
    "#### コード9-16. `Channel` の使用例(4) の動作確認"
   ]
  },
  {
   "cell_type": "code",
   "execution_count": 42,
   "id": "84d4084c",
   "metadata": {
    "ExecuteTime": {
     "end_time": "2023-01-27T15:15:17.720000+09:00",
     "start_time": "2023-01-27T06:15:18.459Z"
    },
    "scrolled": true
   },
   "outputs": [
    {
     "name": "stdout",
     "output_type": "stream",
     "text": [
      "taking value...\n",
      "putting value...\n",
      "put value: task start\n",
      "putting value...\n",
      "put value: 1\n",
      "putting value...\n",
      "put value: 2\n",
      "putting value...\n",
      "put value: 3\n",
      "putting value...\n",
      "taken value: task start\n",
      "taking value...\n",
      "taken value: 1\n",
      "taking value...\n",
      "taken value: 2\n",
      "taking value...\n",
      "taken value: 3\n",
      "taking value...\n",
      "taken value: 4\n",
      "taking value...\n",
      "put value: 4\n",
      "putting value...\n",
      "put value: 5\n",
      "putting value...\n",
      "put value: 6\n",
      "putting value...\n",
      "put value: 7\n",
      "putting value...\n",
      "put value: 8\n",
      "putting value...\n",
      "taken value: 5\n",
      "taking value...\n",
      "taken value: 6\n",
      "taking value...\n",
      "taken value: 7\n",
      "taking value...\n",
      "taken value: 8\n",
      "taking value...\n",
      "taken value: 9\n",
      "taking value...\n",
      "put value: 9\n",
      "putting value...\n",
      "put value: 10\n",
      "putting value...\n",
      "put value: 11\n",
      "putting value...\n",
      "put value: 12\n",
      "putting value...\n",
      "put value: 13\n",
      "putting value...\n",
      "taken value: 10\n",
      "taking value...\n",
      "taken value: 11\n",
      "taking value...\n",
      "taken value: 12\n",
      "taking value...\n",
      "taken value: 13\n",
      "taking value...\n",
      "taken value: 14\n",
      "taking value...\n",
      "put value: 14\n",
      "putting value...\n",
      "put value: 15\n",
      "putting value...\n",
      "put value: task end\n",
      "taken value: 15\n",
      "taking value...\n",
      "taken value: task end\n"
     ]
    }
   ],
   "source": [
    "checkchannelB()"
   ]
  },
  {
   "cell_type": "markdown",
   "id": "d43d7652",
   "metadata": {},
   "source": [
    "#### コード9-17. `fetch(chnl)` の例"
   ]
  },
  {
   "cell_type": "code",
   "execution_count": 43,
   "id": "1f1628ee",
   "metadata": {
    "ExecuteTime": {
     "end_time": "2023-01-27T15:15:19.804000+09:00",
     "start_time": "2023-01-27T06:15:20.578Z"
    }
   },
   "outputs": [
    {
     "data": {
      "text/plain": [
       "Channel{Any}(3) (closed)"
      ]
     },
     "execution_count": 43,
     "metadata": {},
     "output_type": "execute_result"
    }
   ],
   "source": [
    "chnl = Channel(3) do chnl\n",
    "    put!(chnl, 1)\n",
    "    put!(chnl, 2)\n",
    "    put!(chnl, 3)\n",
    "end"
   ]
  },
  {
   "cell_type": "code",
   "execution_count": 44,
   "id": "7eb11423",
   "metadata": {
    "ExecuteTime": {
     "end_time": "2023-01-27T15:15:20.283000+09:00",
     "start_time": "2023-01-27T06:15:21.029Z"
    }
   },
   "outputs": [
    {
     "data": {
      "text/plain": [
       "1"
      ]
     },
     "execution_count": 44,
     "metadata": {},
     "output_type": "execute_result"
    }
   ],
   "source": [
    "fetch(chnl)"
   ]
  },
  {
   "cell_type": "code",
   "execution_count": 45,
   "id": "11249741",
   "metadata": {
    "ExecuteTime": {
     "end_time": "2023-01-27T15:15:20.672000+09:00",
     "start_time": "2023-01-27T06:15:21.470Z"
    }
   },
   "outputs": [
    {
     "data": {
      "text/plain": [
       "1"
      ]
     },
     "execution_count": 45,
     "metadata": {},
     "output_type": "execute_result"
    }
   ],
   "source": [
    "fetch(chnl)"
   ]
  },
  {
   "cell_type": "code",
   "execution_count": 46,
   "id": "3e322967",
   "metadata": {
    "ExecuteTime": {
     "end_time": "2023-01-27T15:15:21.042000+09:00",
     "start_time": "2023-01-27T06:15:21.839Z"
    }
   },
   "outputs": [
    {
     "data": {
      "text/plain": [
       "1"
      ]
     },
     "execution_count": 46,
     "metadata": {},
     "output_type": "execute_result"
    }
   ],
   "source": [
    "take!(chnl)"
   ]
  },
  {
   "cell_type": "code",
   "execution_count": 47,
   "id": "ded5fc31",
   "metadata": {
    "ExecuteTime": {
     "end_time": "2023-01-27T15:15:21.400000+09:00",
     "start_time": "2023-01-27T06:15:22.198Z"
    }
   },
   "outputs": [
    {
     "data": {
      "text/plain": [
       "2"
      ]
     },
     "execution_count": 47,
     "metadata": {},
     "output_type": "execute_result"
    }
   ],
   "source": [
    "fetch(chnl)"
   ]
  },
  {
   "cell_type": "code",
   "execution_count": 48,
   "id": "11af17d8",
   "metadata": {
    "ExecuteTime": {
     "end_time": "2023-01-27T15:15:21.813000+09:00",
     "start_time": "2023-01-27T06:15:22.611Z"
    }
   },
   "outputs": [
    {
     "data": {
      "text/plain": [
       "2"
      ]
     },
     "execution_count": 48,
     "metadata": {},
     "output_type": "execute_result"
    }
   ],
   "source": [
    "take!(chnl)"
   ]
  },
  {
   "cell_type": "code",
   "execution_count": 49,
   "id": "9dac3380",
   "metadata": {
    "ExecuteTime": {
     "end_time": "2023-01-27T15:15:23.264000+09:00",
     "start_time": "2023-01-27T06:15:24.061Z"
    }
   },
   "outputs": [
    {
     "data": {
      "text/plain": [
       "3"
      ]
     },
     "execution_count": 49,
     "metadata": {},
     "output_type": "execute_result"
    }
   ],
   "source": [
    "take!(chnl)"
   ]
  },
  {
   "cell_type": "code",
   "execution_count": 50,
   "id": "ab75dc1a",
   "metadata": {
    "ExecuteTime": {
     "end_time": "2023-01-27T15:15:23.642000+09:00",
     "start_time": "2023-01-27T06:15:24.431Z"
    }
   },
   "outputs": [
    {
     "ename": "LoadError",
     "evalue": "InvalidStateException: Channel is closed.",
     "output_type": "error",
     "traceback": [
      "InvalidStateException: Channel is closed.",
      "",
      "Stacktrace:",
      " [1] check_channel_state",
      "   @ ./channels.jl:174 [inlined]",
      " [2] fetch_buffered(c::Channel{Any})",
      "   @ Base ./channels.jl:391",
      " [3] fetch(c::Channel{Any})",
      "   @ Base ./channels.jl:386",
      " [4] top-level scope",
      "   @ In[50]:1"
     ]
    }
   ],
   "source": [
    "fetch(chnl)  # もしくは `take!(chnl)`"
   ]
  },
  {
   "cell_type": "code",
   "execution_count": 51,
   "id": "e3a1bdd0",
   "metadata": {
    "ExecuteTime": {
     "end_time": "2023-01-27T15:15:25.119000+09:00",
     "start_time": "2023-01-27T06:15:25.886Z"
    }
   },
   "outputs": [
    {
     "ename": "LoadError",
     "evalue": "`fetch` is not supported on an unbuffered Channel.",
     "output_type": "error",
     "traceback": [
      "`fetch` is not supported on an unbuffered Channel.",
      "",
      "Stacktrace:",
      " [1] fetch_unbuffered(c::Channel{Any})",
      "   @ Base ./channels.jl:399",
      " [2] fetch(c::Channel{Any})",
      "   @ Base ./channels.jl:386",
      " [3] top-level scope",
      "   @ In[51]:1"
     ]
    }
   ],
   "source": [
    "fetch(Channel())  # アンバッファドチャネルを渡した場合"
   ]
  },
  {
   "cell_type": "markdown",
   "id": "77cd98b4",
   "metadata": {},
   "source": [
    "### 9-1-4. タスク・チャネル による並行処理"
   ]
  },
  {
   "cell_type": "markdown",
   "id": "c028d4f0",
   "metadata": {},
   "source": [
    "#### コード9-18. `SearchJuliaSample.jl`（`Channel` の実用例（並行処理の例））"
   ]
  },
  {
   "cell_type": "code",
   "execution_count": 52,
   "id": "4e53616c",
   "metadata": {
    "ExecuteTime": {
     "end_time": "2023-01-27T15:15:27.157000+09:00",
     "start_time": "2023-01-27T06:15:27.767Z"
    }
   },
   "outputs": [
    {
     "data": {
      "text/plain": [
       "Main.SearchJuliaSample"
      ]
     },
     "execution_count": 52,
     "metadata": {},
     "output_type": "execute_result"
    }
   ],
   "source": [
    "module SearchJuliaSample\n",
    "\n",
    "using Downloads\n",
    "\n",
    "const UA = \"Mozilla/5.0 (Julia v$(VERSION))\"\n",
    "\n",
    "struct SearchEngine <: Function\n",
    "    name::String\n",
    "    url::String\n",
    "end\n",
    "const Google = SearchEngine(\"Google\", \"https://www.google.com/search?q=julialang&oe=UTF-8\")\n",
    "const Bing = SearchEngine(\"Bing\", \"https://www.bing.com/search?q=julialang\")\n",
    "const DuckDuckGo = SearchEngine(\"DuckDuckGo\", \"https://duckduckgo.com/?q=julialang\")\n",
    "\n",
    "struct SearchSummary{R}\n",
    "    engine::String\n",
    "    exec_time::Float64\n",
    "    response::R  # Maybe Downloads.Response\n",
    "    body::Vector{UInt8}\n",
    "end\n",
    "function Base.show(io::IO, summary::SearchSummary)\n",
    "    println(io, \"engine: \", summary.engine)\n",
    "    println(io, \"exec_time: \", summary.exec_time)\n",
    "    print(io, \"response: (\")\n",
    "    print(io, \"$(summary.response.status), \")\n",
    "    print(io, \"$(length(summary.response.headers)) headers, \")\n",
    "    println(io, \"$(length(summary.body)) bytes in body)\")\n",
    "end\n",
    "\n",
    "function (engine::SearchEngine)()\n",
    "    buf = IOBuffer()\n",
    "    res, exec_time = @timed Downloads.request(\n",
    "        engine.url;\n",
    "        headers=[\"User-Agent\"=>UA],\n",
    "        output=buf\n",
    "    )\n",
    "    SearchSummary(engine.name, exec_time, res, take!(buf))\n",
    "end\n",
    "function (engine::SearchEngine)(channel)\n",
    "    summary = engine()\n",
    "    if isopen(channel)\n",
    "        put!(channel, summary)\n",
    "    end\n",
    "end\n",
    "\n",
    "# \"fcfs\" stands for \"first come, first served\"  # 日本語で「早い者勝ち」\n",
    "function fcfs()\n",
    "    results = Channel{SearchSummary{Downloads.Response}}()\n",
    "\n",
    "    @async Google(results)\n",
    "    @async Bing(results)\n",
    "    @async DuckDuckGo(results)\n",
    "\n",
    "    res0 = take!(results)  # 同期\n",
    "    close(results)\n",
    "\n",
    "    print(res0)\n",
    "end\n",
    "\n",
    "function race()\n",
    "    results = Channel{SearchSummary{Downloads.Response}}(3)\n",
    "\n",
    "    @async Google(results)\n",
    "    @async Bing(results)\n",
    "    @async DuckDuckGo(results)\n",
    "\n",
    "    res1 = take!(results)  # 同期\n",
    "    println(res1)\n",
    "\n",
    "    res2 = take!(results)  # 同期\n",
    "    println(res2)\n",
    "\n",
    "    res3 = take!(results)  # 同期\n",
    "    print(res3)\n",
    "\n",
    "    close(results)\n",
    "end\n",
    "\n",
    "end"
   ]
  },
  {
   "cell_type": "markdown",
   "id": "45bc7fab",
   "metadata": {},
   "source": [
    "#### コード9-19. `SearchJuliaSample.jl` の実行例(1) 基本動作"
   ]
  },
  {
   "cell_type": "code",
   "execution_count": 53,
   "id": "aeb98056",
   "metadata": {
    "ExecuteTime": {
     "end_time": "2023-01-27T15:15:30.585000+09:00",
     "start_time": "2023-01-27T06:15:30.335Z"
    }
   },
   "outputs": [
    {
     "data": {
      "text/plain": [
       "engine: Google\n",
       "exec_time: 0.554297135\n",
       "response: (200, 15 headers, 73248 bytes in body)\n"
      ]
     },
     "execution_count": 53,
     "metadata": {},
     "output_type": "execute_result"
    }
   ],
   "source": [
    "SearchJuliaSample.Google()"
   ]
  },
  {
   "cell_type": "code",
   "execution_count": 54,
   "id": "95f38e67",
   "metadata": {
    "ExecuteTime": {
     "end_time": "2023-01-27T15:15:31.964000+09:00",
     "start_time": "2023-01-27T06:15:32.030Z"
    }
   },
   "outputs": [
    {
     "data": {
      "text/plain": [
       "engine: Bing\n",
       "exec_time: 0.732116174\n",
       "response: (200, 20 headers, 394873 bytes in body)\n"
      ]
     },
     "execution_count": 54,
     "metadata": {},
     "output_type": "execute_result"
    }
   ],
   "source": [
    "SearchJuliaSample.Bing()"
   ]
  },
  {
   "cell_type": "code",
   "execution_count": 55,
   "id": "62c67904",
   "metadata": {
    "ExecuteTime": {
     "end_time": "2023-01-27T15:15:33.482000+09:00",
     "start_time": "2023-01-27T06:15:33.745Z"
    }
   },
   "outputs": [
    {
     "data": {
      "text/plain": [
       "engine: DuckDuckGo\n",
       "exec_time: 0.535617537\n",
       "response: (200, 17 headers, 24392 bytes in body)\n"
      ]
     },
     "execution_count": 55,
     "metadata": {},
     "output_type": "execute_result"
    }
   ],
   "source": [
    "SearchJuliaSample.DuckDuckGo()"
   ]
  },
  {
   "cell_type": "markdown",
   "id": "789a9af1",
   "metadata": {},
   "source": [
    "#### コード9-20. `SearchJuliaSample.jl` の実行例(2) 並行処理"
   ]
  },
  {
   "cell_type": "code",
   "execution_count": 56,
   "id": "5d41b68a",
   "metadata": {
    "ExecuteTime": {
     "end_time": "2023-01-27T15:15:39.855000+09:00",
     "start_time": "2023-01-27T06:15:40.236Z"
    }
   },
   "outputs": [
    {
     "name": "stdout",
     "output_type": "stream",
     "text": [
      "engine: DuckDuckGo\n",
      "exec_time: 0.186248922\n",
      "response: (200, 17 headers, 24392 bytes in body)\n"
     ]
    }
   ],
   "source": [
    "SearchJuliaSample.fcfs()"
   ]
  },
  {
   "cell_type": "code",
   "execution_count": 57,
   "id": "032a0b3d",
   "metadata": {
    "ExecuteTime": {
     "end_time": "2023-01-27T15:15:39.946000+09:00",
     "start_time": "2023-01-27T06:15:40.238Z"
    }
   },
   "outputs": [
    {
     "name": "stdout",
     "output_type": "stream",
     "text": [
      "engine: DuckDuckGo\n",
      "exec_time: 0.089702679\n",
      "response: (200, 17 headers, 24392 bytes in body)\n"
     ]
    }
   ],
   "source": [
    "SearchJuliaSample.fcfs()"
   ]
  },
  {
   "cell_type": "code",
   "execution_count": 58,
   "id": "acabde17",
   "metadata": {
    "ExecuteTime": {
     "end_time": "2023-01-27T15:15:40.046000+09:00",
     "start_time": "2023-01-27T06:15:40.239Z"
    }
   },
   "outputs": [
    {
     "name": "stdout",
     "output_type": "stream",
     "text": [
      "engine: DuckDuckGo\n",
      "exec_time: 0.097099061\n",
      "response: (200, 17 headers, 24392 bytes in body)\n"
     ]
    }
   ],
   "source": [
    "SearchJuliaSample.fcfs()"
   ]
  },
  {
   "cell_type": "code",
   "execution_count": 59,
   "id": "5de910d6",
   "metadata": {
    "ExecuteTime": {
     "end_time": "2023-01-27T15:15:46.083000+09:00",
     "start_time": "2023-01-27T06:15:46.286Z"
    }
   },
   "outputs": [
    {
     "name": "stdout",
     "output_type": "stream",
     "text": [
      "engine: DuckDuckGo\n",
      "exec_time: 0.18229694\n",
      "response: (200, 17 headers, 24392 bytes in body)\n",
      "\n",
      "engine: Google\n",
      "exec_time: 0.358032334\n",
      "response: (200, 15 headers, 73074 bytes in body)\n",
      "\n",
      "engine: Bing\n",
      "exec_time: 0.550269116\n",
      "response: (200, 20 headers, 421951 bytes in body)\n"
     ]
    }
   ],
   "source": [
    "SearchJuliaSample.race()"
   ]
  },
  {
   "cell_type": "code",
   "execution_count": 60,
   "id": "7e633658",
   "metadata": {
    "ExecuteTime": {
     "end_time": "2023-01-27T15:15:46.656000+09:00",
     "start_time": "2023-01-27T06:15:46.288Z"
    }
   },
   "outputs": [
    {
     "name": "stdout",
     "output_type": "stream",
     "text": [
      "engine: DuckDuckGo\n",
      "exec_time: 0.186398376\n",
      "response: (200, 17 headers, 24392 bytes in body)\n",
      "\n",
      "engine: Bing\n",
      "exec_time: 0.45394427\n",
      "response: (200, 20 headers, 406376 bytes in body)\n",
      "\n",
      "engine: Google\n",
      "exec_time: 0.570814537\n",
      "response: (200, 15 headers, 73448 bytes in body)\n"
     ]
    }
   ],
   "source": [
    "SearchJuliaSample.race()"
   ]
  }
 ],
 "metadata": {
  "jupytext": {
   "formats": "ipynb,auto:light"
  },
  "kernelspec": {
   "display_name": "Julia (4 threads) 1.8.5",
   "language": "julia",
   "name": "julia-_4-threads_-1.8"
  },
  "language_info": {
   "file_extension": ".jl",
   "mimetype": "application/julia",
   "name": "julia",
   "version": "1.8.5"
  }
 },
 "nbformat": 4,
 "nbformat_minor": 5
}
