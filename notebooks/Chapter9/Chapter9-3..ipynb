{
 "cells": [
  {
   "cell_type": "code",
   "execution_count": 1,
   "id": "f91b9456",
   "metadata": {
    "ExecuteTime": {
     "end_time": "2023-01-27T15:28:22.426000+09:00",
     "start_time": "2023-01-27T06:28:21.950Z"
    }
   },
   "outputs": [
    {
     "name": "stdout",
     "output_type": "stream",
     "text": [
      "Julia Version 1.8.5\n",
      "Commit 17cfb8e65ea (2023-01-08 06:45 UTC)\n",
      "Platform Info:\n",
      "  OS: Linux (x86_64-linux-gnu)\n",
      "  CPU: 12 × Intel(R) Core(TM) i7-9750H CPU @ 2.60GHz\n",
      "  WORD_SIZE: 64\n",
      "  LIBM: libopenlibm\n",
      "  LLVM: libLLVM-13.0.1 (ORCJIT, skylake)\n",
      "  Threads: 1 on 12 virtual cores\n"
     ]
    }
   ],
   "source": [
    "versioninfo()"
   ]
  },
  {
   "cell_type": "markdown",
   "id": "c102bdf2",
   "metadata": {},
   "source": [
    "## 9-3. マルチプロセス"
   ]
  },
  {
   "cell_type": "markdown",
   "id": "ecdf09e9",
   "metadata": {},
   "source": [
    "### 9-3-1. Julia のマルチプロセシング"
   ]
  },
  {
   "cell_type": "markdown",
   "id": "8e8fb008",
   "metadata": {},
   "source": [
    "#### コード9-52. プロセス数・ワーカープロセスの確認と追加(1)"
   ]
  },
  {
   "cell_type": "code",
   "execution_count": 2,
   "id": "e31c6cbf",
   "metadata": {
    "ExecuteTime": {
     "end_time": "2023-01-27T15:28:22.471000+09:00",
     "start_time": "2023-01-27T06:28:21.953Z"
    }
   },
   "outputs": [],
   "source": [
    "using Distributed"
   ]
  },
  {
   "cell_type": "code",
   "execution_count": 3,
   "id": "535cfce0",
   "metadata": {
    "ExecuteTime": {
     "end_time": "2023-01-27T15:28:22.838000+09:00",
     "start_time": "2023-01-27T06:28:21.955Z"
    }
   },
   "outputs": [
    {
     "data": {
      "text/plain": [
       "1"
      ]
     },
     "execution_count": 3,
     "metadata": {},
     "output_type": "execute_result"
    }
   ],
   "source": [
    "nprocs()"
   ]
  },
  {
   "cell_type": "code",
   "execution_count": 4,
   "id": "b9346090",
   "metadata": {
    "ExecuteTime": {
     "end_time": "2023-01-27T15:28:23.674000+09:00",
     "start_time": "2023-01-27T06:28:21.957Z"
    }
   },
   "outputs": [
    {
     "data": {
      "text/plain": [
       "1-element Vector{Int64}:\n",
       " 1"
      ]
     },
     "execution_count": 4,
     "metadata": {},
     "output_type": "execute_result"
    }
   ],
   "source": [
    "workers()"
   ]
  },
  {
   "cell_type": "code",
   "execution_count": 5,
   "id": "e3cce6d1",
   "metadata": {
    "ExecuteTime": {
     "end_time": "2023-01-27T15:28:26.914000+09:00",
     "start_time": "2023-01-27T06:28:21.960Z"
    }
   },
   "outputs": [
    {
     "data": {
      "text/plain": [
       "4-element Vector{Int64}:\n",
       " 2\n",
       " 3\n",
       " 4\n",
       " 5"
      ]
     },
     "execution_count": 5,
     "metadata": {},
     "output_type": "execute_result"
    }
   ],
   "source": [
    "addprocs(4)"
   ]
  },
  {
   "cell_type": "code",
   "execution_count": 6,
   "id": "f02ccd03",
   "metadata": {
    "ExecuteTime": {
     "end_time": "2023-01-27T15:28:26.915000+09:00",
     "start_time": "2023-01-27T06:28:21.962Z"
    }
   },
   "outputs": [
    {
     "data": {
      "text/plain": [
       "5"
      ]
     },
     "execution_count": 6,
     "metadata": {},
     "output_type": "execute_result"
    }
   ],
   "source": [
    "nprocs()"
   ]
  },
  {
   "cell_type": "code",
   "execution_count": 7,
   "id": "f676994e",
   "metadata": {
    "ExecuteTime": {
     "end_time": "2023-01-27T15:28:26.929000+09:00",
     "start_time": "2023-01-27T06:28:21.964Z"
    }
   },
   "outputs": [
    {
     "data": {
      "text/plain": [
       "4-element Vector{Int64}:\n",
       " 2\n",
       " 3\n",
       " 4\n",
       " 5"
      ]
     },
     "execution_count": 7,
     "metadata": {},
     "output_type": "execute_result"
    }
   ],
   "source": [
    "workers()"
   ]
  },
  {
   "cell_type": "markdown",
   "id": "cc7fdd4a",
   "metadata": {},
   "source": [
    "#### コード9-53. プロセス数・ワーカープロセスの確認と追加(2)"
   ]
  },
  {
   "cell_type": "markdown",
   "id": "f326abf3",
   "metadata": {},
   "source": [
    "```julia\n",
    "julia> # 起動時に `julia -t 4 -p 4` としていた場合\n",
    "\n",
    "julia> Threads.nthreads()\n",
    "4\n",
    "\n",
    "julia> using Distributed\n",
    "\n",
    "julia> nprocs()\n",
    "5\n",
    "\n",
    "julia> workers()\n",
    "4-element Vector{Int64}:\n",
    " 2\n",
    " 3\n",
    " 4\n",
    " 5\n",
    "```"
   ]
  },
  {
   "cell_type": "markdown",
   "id": "6a457cbf",
   "metadata": {},
   "source": [
    "### 9-3-2. マルチプロセスの基本"
   ]
  },
  {
   "cell_type": "markdown",
   "id": "c9d981b8",
   "metadata": {},
   "source": [
    "#### `@everywhere`"
   ]
  },
  {
   "cell_type": "markdown",
   "id": "06bef224",
   "metadata": {},
   "source": [
    "#### コード9-54. `@everywhere` の使用例"
   ]
  },
  {
   "cell_type": "code",
   "execution_count": 8,
   "id": "ec5271ab",
   "metadata": {
    "ExecuteTime": {
     "end_time": "2023-01-27T15:28:26.930000+09:00",
     "start_time": "2023-01-27T06:28:21.967Z"
    }
   },
   "outputs": [],
   "source": [
    "using Distributed"
   ]
  },
  {
   "cell_type": "code",
   "execution_count": 9,
   "id": "6c672c94",
   "metadata": {
    "ExecuteTime": {
     "end_time": "2023-01-27T15:28:27.289000+09:00",
     "start_time": "2023-01-27T06:28:21.969Z"
    }
   },
   "outputs": [],
   "source": [
    "@everywhere using Random"
   ]
  },
  {
   "cell_type": "code",
   "execution_count": 10,
   "id": "84fce05c",
   "metadata": {
    "ExecuteTime": {
     "end_time": "2023-01-27T15:28:27.358000+09:00",
     "start_time": "2023-01-27T06:28:21.971Z"
    }
   },
   "outputs": [],
   "source": [
    "@everywhere function fib(n)\n",
    "    if n ≤ 1\n",
    "        n\n",
    "    else\n",
    "        fib(n - 2) + fib(n - 1)\n",
    "    end\n",
    "end"
   ]
  },
  {
   "cell_type": "markdown",
   "id": "deaab814",
   "metadata": {},
   "source": [
    "#### `remotecall()`"
   ]
  },
  {
   "cell_type": "markdown",
   "id": "96d82a32",
   "metadata": {},
   "source": [
    "#### コード9-55. `remotecall` の使用例"
   ]
  },
  {
   "cell_type": "code",
   "execution_count": 11,
   "id": "67689490",
   "metadata": {
    "ExecuteTime": {
     "end_time": "2023-01-27T15:28:27.359000+09:00",
     "start_time": "2023-01-27T06:28:21.974Z"
    }
   },
   "outputs": [
    {
     "data": {
      "text/plain": [
       "4-element Vector{Int64}:\n",
       " 2\n",
       " 3\n",
       " 4\n",
       " 5"
      ]
     },
     "execution_count": 11,
     "metadata": {},
     "output_type": "execute_result"
    }
   ],
   "source": [
    "workers()"
   ]
  },
  {
   "cell_type": "code",
   "execution_count": 12,
   "id": "e8e0d1f2",
   "metadata": {
    "ExecuteTime": {
     "end_time": "2023-01-27T15:28:27.934000+09:00",
     "start_time": "2023-01-27T06:28:21.976Z"
    }
   },
   "outputs": [
    {
     "data": {
      "text/plain": [
       "Future(2, 1, 22, ReentrantLock(nothing, 0x00000000, 0x00, Base.GenericCondition{Base.Threads.SpinLock}(Base.InvasiveLinkedList{Task}(nothing, nothing), Base.Threads.SpinLock(0)), (8, 140262933164800, 2)), nothing)"
      ]
     },
     "execution_count": 12,
     "metadata": {},
     "output_type": "execute_result"
    }
   ],
   "source": [
    "future = remotecall(randperm, 2, 10)"
   ]
  },
  {
   "cell_type": "code",
   "execution_count": 13,
   "id": "ea84c72a",
   "metadata": {
    "ExecuteTime": {
     "end_time": "2023-01-27T15:28:28.390000+09:00",
     "start_time": "2023-01-27T06:28:21.978Z"
    }
   },
   "outputs": [
    {
     "data": {
      "text/plain": [
       "10-element Vector{Int64}:\n",
       "  3\n",
       "  7\n",
       "  5\n",
       "  1\n",
       "  8\n",
       "  6\n",
       "  2\n",
       " 10\n",
       "  4\n",
       "  9"
      ]
     },
     "execution_count": 13,
     "metadata": {},
     "output_type": "execute_result"
    }
   ],
   "source": [
    "fetch(future)"
   ]
  },
  {
   "cell_type": "code",
   "execution_count": 14,
   "id": "32c73d57",
   "metadata": {
    "ExecuteTime": {
     "end_time": "2023-01-27T15:28:28.609000+09:00",
     "start_time": "2023-01-27T06:28:21.980Z"
    }
   },
   "outputs": [],
   "source": [
    "future = remotecall(n->(myid(), fib(n)), 3, 40);"
   ]
  },
  {
   "cell_type": "code",
   "execution_count": 15,
   "id": "4b30cae9",
   "metadata": {
    "ExecuteTime": {
     "end_time": "2023-01-27T15:28:29.778000+09:00",
     "start_time": "2023-01-27T06:28:21.981Z"
    }
   },
   "outputs": [
    {
     "data": {
      "text/plain": [
       "(3, 102334155)"
      ]
     },
     "execution_count": 15,
     "metadata": {},
     "output_type": "execute_result"
    }
   ],
   "source": [
    "fetch(future)"
   ]
  },
  {
   "cell_type": "markdown",
   "id": "9650575b",
   "metadata": {},
   "source": [
    "#### コード9-56. `remotecall_fetch` の使用例"
   ]
  },
  {
   "cell_type": "code",
   "execution_count": 16,
   "id": "db5def5c",
   "metadata": {
    "ExecuteTime": {
     "end_time": "2023-01-27T15:28:29.780000+09:00",
     "start_time": "2023-01-27T06:28:21.984Z"
    }
   },
   "outputs": [
    {
     "data": {
      "text/plain": [
       "4-element Vector{Int64}:\n",
       " 2\n",
       " 3\n",
       " 4\n",
       " 5"
      ]
     },
     "execution_count": 16,
     "metadata": {},
     "output_type": "execute_result"
    }
   ],
   "source": [
    "workers()"
   ]
  },
  {
   "cell_type": "code",
   "execution_count": 17,
   "id": "cbdcf160",
   "metadata": {
    "ExecuteTime": {
     "end_time": "2023-01-27T15:28:30.238000+09:00",
     "start_time": "2023-01-27T06:28:21.987Z"
    }
   },
   "outputs": [
    {
     "data": {
      "text/plain": [
       "(3, 102334155)"
      ]
     },
     "execution_count": 17,
     "metadata": {},
     "output_type": "execute_result"
    }
   ],
   "source": [
    "remotecall_fetch(n->(myid(), fib(n)), 3, 40)  # `fetch(remotecall(～))` と同等"
   ]
  },
  {
   "cell_type": "markdown",
   "id": "7d224b20",
   "metadata": {},
   "source": [
    "#### `pmap()`"
   ]
  },
  {
   "cell_type": "markdown",
   "id": "81b02dd5",
   "metadata": {},
   "source": [
    "#### コード9-57. `pmap` の使用例"
   ]
  },
  {
   "cell_type": "code",
   "execution_count": 18,
   "id": "1b97b151",
   "metadata": {
    "ExecuteTime": {
     "end_time": "2023-01-27T15:28:30.240000+09:00",
     "start_time": "2023-01-27T06:28:21.990Z"
    }
   },
   "outputs": [
    {
     "data": {
      "text/plain": [
       "4-element Vector{Int64}:\n",
       " 2\n",
       " 3\n",
       " 4\n",
       " 5"
      ]
     },
     "execution_count": 18,
     "metadata": {},
     "output_type": "execute_result"
    }
   ],
   "source": [
    "# `using Distributed`/`addprocs()` 等は実行済とする\n",
    "workers()"
   ]
  },
  {
   "cell_type": "code",
   "execution_count": 19,
   "id": "c614f02b",
   "metadata": {
    "ExecuteTime": {
     "end_time": "2023-01-27T15:28:31.941000+09:00",
     "start_time": "2023-01-27T06:28:21.991Z"
    }
   },
   "outputs": [
    {
     "data": {
      "text/plain": [
       "20-element Vector{Tuple{Int64, Int64}}:\n",
       " (2, 102334155)\n",
       " (5, 63245986)\n",
       " (4, 39088169)\n",
       " (3, 24157817)\n",
       " (3, 14930352)\n",
       " (3, 9227465)\n",
       " (3, 5702887)\n",
       " (3, 3524578)\n",
       " (3, 2178309)\n",
       " (3, 1346269)\n",
       " (3, 832040)\n",
       " (3, 514229)\n",
       " (3, 317811)\n",
       " (3, 196418)\n",
       " (3, 121393)\n",
       " (3, 75025)\n",
       " (3, 46368)\n",
       " (3, 28657)\n",
       " (3, 17711)\n",
       " (3, 10946)"
      ]
     },
     "execution_count": 19,
     "metadata": {},
     "output_type": "execute_result"
    }
   ],
   "source": [
    "pmap(n->(myid(), fib(n)), 40:-1:21)"
   ]
  },
  {
   "cell_type": "markdown",
   "id": "19c2f519",
   "metadata": {},
   "source": [
    "#### コード9-43. `threaded_map()`（マルチスレッド版 `map()`）の実装例（再掲）"
   ]
  },
  {
   "cell_type": "code",
   "execution_count": 20,
   "id": "30b7d6e4",
   "metadata": {
    "ExecuteTime": {
     "end_time": "2023-01-27T15:28:32.117000+09:00",
     "start_time": "2023-01-27T06:28:21.993Z"
    }
   },
   "outputs": [
    {
     "data": {
      "text/plain": [
       "threaded_map (generic function with 3 methods)"
      ]
     },
     "execution_count": 20,
     "metadata": {},
     "output_type": "execute_result"
    }
   ],
   "source": [
    "threaded_map(f) = map(f)\n",
    "\n",
    "function threaded_map(f, itr)\n",
    "    ntasks = Threads.nthreads()\n",
    "    intermediate_channel = Channel{Task}(ntasks; spawn=true) do chnl\n",
    "        for arg in itr\n",
    "            put!(chnl, Threads.@spawn(f(arg)))\n",
    "        end\n",
    "    end\n",
    "    (fetch(task) for task in intermediate_channel)\n",
    "end\n",
    "\n",
    "function threaded_map(f, itrs...)\n",
    "    ntasks = Threads.nthreads()\n",
    "    intermediate_channel = Channel{Task}(ntasks; spawn=true) do chnl\n",
    "        for args in zip(itrs...)\n",
    "            put!(chnl, Threads.@spawn(f(args...)))\n",
    "        end\n",
    "    end\n",
    "    (fetch(task) for task in intermediate_channel)\n",
    "end"
   ]
  },
  {
   "cell_type": "markdown",
   "id": "18a0f4d5",
   "metadata": {},
   "source": [
    "#### コード9-58. `map()`/`pmap()`/`threaded_map()` の実行結果比較"
   ]
  },
  {
   "cell_type": "code",
   "execution_count": 21,
   "id": "ea2b917f",
   "metadata": {
    "ExecuteTime": {
     "end_time": "2023-01-27T15:28:32.118000+09:00",
     "start_time": "2023-01-27T06:28:21.995Z"
    }
   },
   "outputs": [
    {
     "data": {
      "text/plain": [
       "1"
      ]
     },
     "execution_count": 21,
     "metadata": {},
     "output_type": "execute_result"
    }
   ],
   "source": [
    "# `julia -t 4 -p 4` 等として起動している前提\n",
    "Threads.nthreads()"
   ]
  },
  {
   "cell_type": "code",
   "execution_count": 22,
   "id": "21a38890",
   "metadata": {
    "ExecuteTime": {
     "end_time": "2023-01-27T15:28:35.124000+09:00",
     "start_time": "2023-01-27T06:28:21.996Z"
    }
   },
   "outputs": [
    {
     "data": {
      "text/plain": [
       "true"
      ]
     },
     "execution_count": 22,
     "metadata": {},
     "output_type": "execute_result"
    }
   ],
   "source": [
    "last.(map(n->(myid(), fib(n)), 40:-1:21)) ==\n",
    "last.(pmap(n->(myid(), fib(n)), 40:-1:21)) == \n",
    "last.(collect(threaded_map(n->(myid(), fib(n)), 40:-1:21)))"
   ]
  },
  {
   "cell_type": "code",
   "execution_count": 23,
   "id": "62d2b841",
   "metadata": {
    "ExecuteTime": {
     "end_time": "2023-01-27T15:28:35.391000+09:00",
     "start_time": "2023-01-27T06:28:21.998Z"
    }
   },
   "outputs": [],
   "source": [
    "using BenchmarkTools"
   ]
  },
  {
   "cell_type": "code",
   "execution_count": 24,
   "id": "a6cd727d",
   "metadata": {
    "ExecuteTime": {
     "end_time": "2023-01-27T15:28:50.381000+09:00",
     "start_time": "2023-01-27T06:28:21.999Z"
    }
   },
   "outputs": [
    {
     "name": "stdout",
     "output_type": "stream",
     "text": [
      "  1.038 s (1 allocation: 400 bytes)\n"
     ]
    }
   ],
   "source": [
    "@btime map(n->(myid(), fib(n)), 40:-1:21);"
   ]
  },
  {
   "cell_type": "code",
   "execution_count": 25,
   "id": "4d77f10f",
   "metadata": {
    "ExecuteTime": {
     "end_time": "2023-01-27T15:29:03.866000+09:00",
     "start_time": "2023-01-27T06:28:22.001Z"
    }
   },
   "outputs": [
    {
     "name": "stdout",
     "output_type": "stream",
     "text": [
      "  408.577 ms (1193 allocations: 51.58 KiB)\n"
     ]
    }
   ],
   "source": [
    "@btime pmap(n->(myid(), fib(n)), 40:-1:21);"
   ]
  },
  {
   "cell_type": "code",
   "execution_count": 26,
   "id": "4ab26fe4",
   "metadata": {
    "ExecuteTime": {
     "end_time": "2023-01-27T15:29:18.144000+09:00",
     "start_time": "2023-01-27T06:28:22.003Z"
    }
   },
   "outputs": [
    {
     "name": "stdout",
     "output_type": "stream",
     "text": [
      "  1.045 s (176 allocations: 12.55 KiB)\n"
     ]
    }
   ],
   "source": [
    "@btime collect(threaded_map(n->(myid(), fib(n)), 40:-1:21));"
   ]
  },
  {
   "cell_type": "markdown",
   "id": "eb2c6372",
   "metadata": {},
   "source": [
    "#### `RemoteChannel`"
   ]
  },
  {
   "cell_type": "markdown",
   "id": "0d497e5f",
   "metadata": {},
   "source": [
    "#### コード9-59. `RemoteChannel` の使用例"
   ]
  },
  {
   "cell_type": "code",
   "execution_count": 27,
   "id": "9d175bae",
   "metadata": {
    "ExecuteTime": {
     "end_time": "2023-01-27T15:29:18.445000+09:00",
     "start_time": "2023-01-27T06:28:22.005Z"
    }
   },
   "outputs": [
    {
     "data": {
      "text/plain": [
       "RemoteChannel{Channel{Int64}}(1, 1, 655)"
      ]
     },
     "execution_count": 27,
     "metadata": {},
     "output_type": "execute_result"
    }
   ],
   "source": [
    "jobs = RemoteChannel(()->Channel{Int}(8))"
   ]
  },
  {
   "cell_type": "code",
   "execution_count": 28,
   "id": "18ad8c28",
   "metadata": {
    "ExecuteTime": {
     "end_time": "2023-01-27T15:29:18.708000+09:00",
     "start_time": "2023-01-27T06:28:22.007Z"
    }
   },
   "outputs": [
    {
     "data": {
      "text/plain": [
       "RemoteChannel{Channel{Tuple{Int64, Int64}}}(1, 1, 656)"
      ]
     },
     "execution_count": 28,
     "metadata": {},
     "output_type": "execute_result"
    }
   ],
   "source": [
    "results = RemoteChannel(()->Channel{Tuple{Int,Int}}(8))"
   ]
  },
  {
   "cell_type": "code",
   "execution_count": 29,
   "id": "533b8781",
   "metadata": {
    "ExecuteTime": {
     "end_time": "2023-01-27T15:29:18.711000+09:00",
     "start_time": "2023-01-27T06:28:22.008Z"
    }
   },
   "outputs": [],
   "source": [
    "@everywhere function do_work(jobs, results)\n",
    "    while true\n",
    "        n = take!(jobs)\n",
    "        value = fib(n)\n",
    "        put!(results, (myid(), value))\n",
    "    end\n",
    "end"
   ]
  },
  {
   "cell_type": "code",
   "execution_count": 30,
   "id": "6b9f8233",
   "metadata": {
    "ExecuteTime": {
     "end_time": "2023-01-27T15:29:18.753000+09:00",
     "start_time": "2023-01-27T06:28:22.010Z"
    }
   },
   "outputs": [],
   "source": [
    "@async for n=40:-1:21\n",
    "    put!(jobs, n)\n",
    "end;"
   ]
  },
  {
   "cell_type": "code",
   "execution_count": 31,
   "id": "a9ccf8e7",
   "metadata": {
    "ExecuteTime": {
     "end_time": "2023-01-27T15:29:18.852000+09:00",
     "start_time": "2023-01-27T06:28:22.011Z"
    }
   },
   "outputs": [],
   "source": [
    "for p in workers()\n",
    "    remote_do(do_work, p, jobs, results)\n",
    "end"
   ]
  },
  {
   "cell_type": "code",
   "execution_count": 32,
   "id": "13e84328",
   "metadata": {
    "ExecuteTime": {
     "end_time": "2023-01-27T15:29:19.790000+09:00",
     "start_time": "2023-01-27T06:28:22.013Z"
    }
   },
   "outputs": [
    {
     "name": "stdout",
     "output_type": "stream",
     "text": [
      "(3, 24157817)\n",
      "(5, 39088169)\n",
      "(2, 102334155)\n",
      "(4, 63245986)\n",
      "(2, 5702887)\n",
      "(2, 2178309)\n",
      "(2, 1346269)\n",
      "(4, 3524578)\n",
      "(4, 514229)\n",
      "(2, 832040)\n",
      "(5, 9227465)\n",
      "(2, 196418)\n",
      "(4, 317811)\n",
      "(5, 121393)\n",
      "(4, 46368)\n",
      "(2, 75025)\n",
      "(5, 28657)\n",
      "(4, 17711)\n",
      "(2, 10946)\n",
      "(3, 14930352)\n"
     ]
    }
   ],
   "source": [
    "for _=1:20\n",
    "    (pid, value) = take!(results)\n",
    "    println((pid, value))\n",
    "end"
   ]
  },
  {
   "cell_type": "markdown",
   "id": "0259d4b7",
   "metadata": {},
   "source": [
    "#### `SharedArray`"
   ]
  },
  {
   "cell_type": "markdown",
   "id": "18c9a7cf",
   "metadata": {},
   "source": [
    "#### コード9-60. `SharedArray` の使用例"
   ]
  },
  {
   "cell_type": "code",
   "execution_count": 33,
   "id": "4e2dc35c",
   "metadata": {
    "ExecuteTime": {
     "end_time": "2023-01-27T15:29:19.792000+09:00",
     "start_time": "2023-01-27T06:28:22.015Z"
    }
   },
   "outputs": [],
   "source": [
    "@everywhere using SharedArrays"
   ]
  },
  {
   "cell_type": "code",
   "execution_count": 34,
   "id": "b8f0611b",
   "metadata": {
    "ExecuteTime": {
     "end_time": "2023-01-27T15:29:21.147000+09:00",
     "start_time": "2023-01-27T06:28:22.017Z"
    }
   },
   "outputs": [
    {
     "data": {
      "text/plain": [
       "20-element SharedVector{Tuple{Int64, Int64}}:\n",
       " (0, 0)\n",
       " (0, 0)\n",
       " (0, 0)\n",
       " (0, 0)\n",
       " (0, 0)\n",
       " (0, 0)\n",
       " (0, 0)\n",
       " (0, 0)\n",
       " (0, 0)\n",
       " (0, 0)\n",
       " (0, 0)\n",
       " (0, 0)\n",
       " (0, 0)\n",
       " (0, 0)\n",
       " (0, 0)\n",
       " (0, 0)\n",
       " (0, 0)\n",
       " (0, 0)\n",
       " (0, 0)\n",
       " (0, 0)"
      ]
     },
     "execution_count": 34,
     "metadata": {},
     "output_type": "execute_result"
    }
   ],
   "source": [
    "S = SharedArray{Tuple{Int,Int},1}(20)"
   ]
  },
  {
   "cell_type": "code",
   "execution_count": 35,
   "id": "06ebcad4",
   "metadata": {
    "ExecuteTime": {
     "end_time": "2023-01-27T15:29:21.182000+09:00",
     "start_time": "2023-01-27T06:28:22.019Z"
    }
   },
   "outputs": [
    {
     "data": {
      "text/plain": [
       "RemoteChannel{Channel{Int64}}(1, 1, 682)"
      ]
     },
     "execution_count": 35,
     "metadata": {},
     "output_type": "execute_result"
    }
   ],
   "source": [
    "inputs = RemoteChannel(()->Channel{Int}(8))"
   ]
  },
  {
   "cell_type": "code",
   "execution_count": 36,
   "id": "a0b24c82",
   "metadata": {
    "ExecuteTime": {
     "end_time": "2023-01-27T15:29:21.189000+09:00",
     "start_time": "2023-01-27T06:28:22.022Z"
    }
   },
   "outputs": [],
   "source": [
    "@async for n=40:-1:21\n",
    "    put!(inputs, n)\n",
    "end;"
   ]
  },
  {
   "cell_type": "code",
   "execution_count": 37,
   "id": "6736b005",
   "metadata": {
    "ExecuteTime": {
     "end_time": "2023-01-27T15:29:21.941000+09:00",
     "start_time": "2023-01-27T06:28:22.024Z"
    }
   },
   "outputs": [],
   "source": [
    "@sync for p in procs(S)\n",
    "    @async remotecall_wait(p, p, S, inputs) do p, S, inputs\n",
    "        for idx in localindices(S)\n",
    "            n = take!(inputs)\n",
    "            value = fib(n)\n",
    "            S[idx] = (p, value)\n",
    "        end\n",
    "    end\n",
    "end"
   ]
  },
  {
   "cell_type": "code",
   "execution_count": 38,
   "id": "6ab054e9",
   "metadata": {
    "ExecuteTime": {
     "end_time": "2023-01-27T15:29:21.941000+09:00",
     "start_time": "2023-01-27T06:28:22.026Z"
    }
   },
   "outputs": [
    {
     "data": {
      "text/plain": [
       "20-element SharedVector{Tuple{Int64, Int64}}:\n",
       " (2, 63245986)\n",
       " (2, 317811)\n",
       " (2, 196418)\n",
       " (2, 121393)\n",
       " (2, 75025)\n",
       " (3, 39088169)\n",
       " (3, 9227465)\n",
       " (3, 2178309)\n",
       " (3, 832040)\n",
       " (3, 514229)\n",
       " (4, 102334155)\n",
       " (4, 46368)\n",
       " (4, 28657)\n",
       " (4, 17711)\n",
       " (4, 10946)\n",
       " (5, 24157817)\n",
       " (5, 14930352)\n",
       " (5, 5702887)\n",
       " (5, 3524578)\n",
       " (5, 1346269)"
      ]
     },
     "execution_count": 38,
     "metadata": {},
     "output_type": "execute_result"
    }
   ],
   "source": [
    "S"
   ]
  },
  {
   "cell_type": "markdown",
   "id": "ab1d12a3",
   "metadata": {},
   "source": [
    "#### `@distributed`"
   ]
  },
  {
   "cell_type": "markdown",
   "id": "1caca278",
   "metadata": {},
   "source": [
    "#### コード9-61. `@distributed` の使用例(1)：単純な `for` ループのマルチプロセス化"
   ]
  },
  {
   "cell_type": "code",
   "execution_count": 39,
   "id": "71e505e5",
   "metadata": {
    "ExecuteTime": {
     "end_time": "2023-01-27T15:29:21.943000+09:00",
     "start_time": "2023-01-27T06:28:22.029Z"
    }
   },
   "outputs": [],
   "source": [
    "@everywhere using SharedArrays"
   ]
  },
  {
   "cell_type": "code",
   "execution_count": 40,
   "id": "d9c3ed58",
   "metadata": {
    "ExecuteTime": {
     "end_time": "2023-01-27T15:29:21.944000+09:00",
     "start_time": "2023-01-27T06:28:22.031Z"
    }
   },
   "outputs": [],
   "source": [
    "S = SharedArray{Tuple{Int,Int},1}(20);"
   ]
  },
  {
   "cell_type": "code",
   "execution_count": 41,
   "id": "e31ac3f2",
   "metadata": {
    "ExecuteTime": {
     "end_time": "2023-01-27T15:29:21.977000+09:00",
     "start_time": "2023-01-27T06:28:22.034Z"
    }
   },
   "outputs": [],
   "source": [
    "inputs = RemoteChannel(()->Channel{Int}(8));"
   ]
  },
  {
   "cell_type": "code",
   "execution_count": 42,
   "id": "109fa2df",
   "metadata": {
    "ExecuteTime": {
     "end_time": "2023-01-27T15:29:21.982000+09:00",
     "start_time": "2023-01-27T06:28:22.036Z"
    }
   },
   "outputs": [],
   "source": [
    "@async for n=40:-1:21\n",
    "    put!(inputs, n)\n",
    "end;"
   ]
  },
  {
   "cell_type": "code",
   "execution_count": 43,
   "id": "a1cf781e",
   "metadata": {
    "ExecuteTime": {
     "end_time": "2023-01-27T15:29:22.797000+09:00",
     "start_time": "2023-01-27T06:28:22.038Z"
    }
   },
   "outputs": [
    {
     "data": {
      "text/plain": [
       "Task (done) @0x00007f910c326f80"
      ]
     },
     "execution_count": 43,
     "metadata": {},
     "output_type": "execute_result"
    }
   ],
   "source": [
    "@sync @distributed for idx = 1:20\n",
    "    p = myid()\n",
    "    n = take!(inputs)\n",
    "    value = fib(n)\n",
    "    S[idx] = (p, value)\n",
    "end"
   ]
  },
  {
   "cell_type": "code",
   "execution_count": 44,
   "id": "265117ef",
   "metadata": {
    "ExecuteTime": {
     "end_time": "2023-01-27T15:29:22.798000+09:00",
     "start_time": "2023-01-27T06:28:22.040Z"
    }
   },
   "outputs": [
    {
     "data": {
      "text/plain": [
       "20-element SharedVector{Tuple{Int64, Int64}}:\n",
       " (2, 39088169)\n",
       " (2, 9227465)\n",
       " (2, 3524578)\n",
       " (2, 832040)\n",
       " (2, 514229)\n",
       " (3, 24157817)\n",
       " (3, 14930352)\n",
       " (3, 5702887)\n",
       " (3, 2178309)\n",
       " (3, 1346269)\n",
       " (4, 63245986)\n",
       " (4, 317811)\n",
       " (4, 196418)\n",
       " (4, 121393)\n",
       " (4, 75025)\n",
       " (5, 102334155)\n",
       " (5, 46368)\n",
       " (5, 28657)\n",
       " (5, 17711)\n",
       " (5, 10946)"
      ]
     },
     "execution_count": 44,
     "metadata": {},
     "output_type": "execute_result"
    }
   ],
   "source": [
    "S"
   ]
  },
  {
   "cell_type": "markdown",
   "id": "5d5e9fec",
   "metadata": {},
   "source": [
    "#### コード9-62. `@distributed` の使用例(2)：マルチプロセシング＋畳み込み演算"
   ]
  },
  {
   "cell_type": "code",
   "execution_count": 45,
   "id": "3c7e2fd3",
   "metadata": {
    "ExecuteTime": {
     "end_time": "2023-01-27T15:29:22.799000+09:00",
     "start_time": "2023-01-27T06:28:22.042Z"
    }
   },
   "outputs": [
    {
     "data": {
      "text/plain": [
       "5"
      ]
     },
     "execution_count": 45,
     "metadata": {},
     "output_type": "execute_result"
    }
   ],
   "source": [
    "# `using Distributeed` 等略\n",
    "nprocs()"
   ]
  },
  {
   "cell_type": "code",
   "execution_count": 46,
   "id": "0fd16117",
   "metadata": {
    "ExecuteTime": {
     "end_time": "2023-01-27T15:29:22.801000+09:00",
     "start_time": "2023-01-27T06:28:22.043Z"
    }
   },
   "outputs": [
    {
     "data": {
      "text/plain": [
       "4-element Vector{Int64}:\n",
       " 2\n",
       " 3\n",
       " 4\n",
       " 5"
      ]
     },
     "execution_count": 46,
     "metadata": {},
     "output_type": "execute_result"
    }
   ],
   "source": [
    "workers()"
   ]
  },
  {
   "cell_type": "code",
   "execution_count": 47,
   "id": "d1e77b8e",
   "metadata": {
    "ExecuteTime": {
     "end_time": "2023-01-27T15:29:22.876000+09:00",
     "start_time": "2023-01-27T06:28:22.045Z"
    }
   },
   "outputs": [
    {
     "data": {
      "text/plain": [
       "mcpi_st (generic function with 2 methods)"
      ]
     },
     "execution_count": 47,
     "metadata": {},
     "output_type": "execute_result"
    }
   ],
   "source": [
    "function mcpi_st(N=10000)  # シングルプロセス（シングルスレッド）版\n",
    "    T = sum(1:N) do n\n",
    "        x = rand()\n",
    "        y = rand()\n",
    "        Int(x^2 + y^2 ≤ 1.0)\n",
    "    end\n",
    "    T / N * 4\n",
    "end"
   ]
  },
  {
   "cell_type": "code",
   "execution_count": 48,
   "id": "db4ebe7f",
   "metadata": {
    "ExecuteTime": {
     "end_time": "2023-01-27T15:29:23.080000+09:00",
     "start_time": "2023-01-27T06:28:22.046Z"
    }
   },
   "outputs": [
    {
     "data": {
      "text/plain": [
       "3.1404"
      ]
     },
     "execution_count": 48,
     "metadata": {},
     "output_type": "execute_result"
    }
   ],
   "source": [
    "mcpi_st()"
   ]
  },
  {
   "cell_type": "code",
   "execution_count": 49,
   "id": "d3d6e77b",
   "metadata": {
    "ExecuteTime": {
     "end_time": "2023-01-27T15:29:23.093000+09:00",
     "start_time": "2023-01-27T06:28:22.048Z"
    }
   },
   "outputs": [
    {
     "data": {
      "text/plain": [
       "3.13592"
      ]
     },
     "execution_count": 49,
     "metadata": {},
     "output_type": "execute_result"
    }
   ],
   "source": [
    "mcpi_st(100000)"
   ]
  },
  {
   "cell_type": "code",
   "execution_count": 50,
   "id": "6a887d3e",
   "metadata": {
    "ExecuteTime": {
     "end_time": "2023-01-27T15:29:23.169000+09:00",
     "start_time": "2023-01-27T06:28:22.052Z"
    }
   },
   "outputs": [
    {
     "data": {
      "text/plain": [
       "mcpi_mp (generic function with 2 methods)"
      ]
     },
     "execution_count": 50,
     "metadata": {},
     "output_type": "execute_result"
    }
   ],
   "source": [
    "function mcpi_mp(N=10000)  # マルチプロセス版\n",
    "    T = @distributed (+) for _=1:N\n",
    "        x = rand()\n",
    "        y = rand()\n",
    "        Int(x^2 + y^2 ≤ 1.0)\n",
    "    end\n",
    "    T / N * 4\n",
    "end"
   ]
  },
  {
   "cell_type": "code",
   "execution_count": 51,
   "id": "eb998c5b",
   "metadata": {
    "ExecuteTime": {
     "end_time": "2023-01-27T15:29:23.354000+09:00",
     "start_time": "2023-01-27T06:28:22.055Z"
    }
   },
   "outputs": [
    {
     "data": {
      "text/plain": [
       "3.1356"
      ]
     },
     "execution_count": 51,
     "metadata": {},
     "output_type": "execute_result"
    }
   ],
   "source": [
    "mcpi_mp()"
   ]
  },
  {
   "cell_type": "code",
   "execution_count": 52,
   "id": "904471be",
   "metadata": {
    "ExecuteTime": {
     "end_time": "2023-01-27T15:29:23.355000+09:00",
     "start_time": "2023-01-27T06:28:22.057Z"
    }
   },
   "outputs": [
    {
     "data": {
      "text/plain": [
       "3.14736"
      ]
     },
     "execution_count": 52,
     "metadata": {},
     "output_type": "execute_result"
    }
   ],
   "source": [
    "mcpi_mp(100000)"
   ]
  },
  {
   "cell_type": "code",
   "execution_count": 53,
   "id": "6a5ff1b3",
   "metadata": {
    "ExecuteTime": {
     "end_time": "2023-01-27T15:29:23.356000+09:00",
     "start_time": "2023-01-27T06:28:22.058Z"
    }
   },
   "outputs": [],
   "source": [
    "using BenchmarkTools"
   ]
  },
  {
   "cell_type": "code",
   "execution_count": 54,
   "id": "32b35c23",
   "metadata": {
    "ExecuteTime": {
     "end_time": "2023-01-27T15:29:34.103000+09:00",
     "start_time": "2023-01-27T06:28:22.060Z"
    }
   },
   "outputs": [
    {
     "name": "stdout",
     "output_type": "stream",
     "text": [
      "  5.106 ms (0 allocations: 0 bytes)\n"
     ]
    }
   ],
   "source": [
    "@btime mcpi_st(1_000_000);"
   ]
  },
  {
   "cell_type": "code",
   "execution_count": 55,
   "id": "b9bd9998",
   "metadata": {
    "ExecuteTime": {
     "end_time": "2023-01-27T15:29:44.692000+09:00",
     "start_time": "2023-01-27T06:28:22.062Z"
    }
   },
   "outputs": [
    {
     "name": "stdout",
     "output_type": "stream",
     "text": [
      "  905.034 μs (306 allocations: 12.75 KiB)\n"
     ]
    }
   ],
   "source": [
    "@btime mcpi_mp(1_000_000);"
   ]
  },
  {
   "cell_type": "markdown",
   "id": "56b5143b",
   "metadata": {},
   "source": [
    "### コラム. 分散処理"
   ]
  },
  {
   "cell_type": "markdown",
   "id": "fbf94bc6",
   "metadata": {},
   "source": [
    "#### 仮想コード9-a. 分散処理のサンプル"
   ]
  },
  {
   "cell_type": "markdown",
   "id": "6a091982",
   "metadata": {},
   "source": [
    "```julia\n",
    "julia> using Distributed\n",
    "\n",
    "julia> addprocs(2)\n",
    "2-element Vector{Int64}:\n",
    " 2\n",
    " 3\n",
    "\n",
    "julia> addprocs([(\"username@xxxxxxxx.local\", 2)]; \n",
    "       dir=\"/home/username/Documents\", exename=\"/home/username/bin/julia\")\n",
    "2-element Vector{Int64}:\n",
    " 4\n",
    " 5\n",
    "\n",
    "julia> addprocs([(\"username@yyyyyyyy.local\", 2)]; \n",
    "       dir=\"/Users/username/Documents\", exename=\"/opt/homebrew/bin/julia\")\n",
    "2-element Vector{Int64}:\n",
    " 6\n",
    " 7\n",
    "\n",
    "julia> pmap(n->(myid(), Sys.MACHINE, n), 1:10)\n",
    "10-element Vector{Tuple{Int64, String, Int64}}:\n",
    " (2, \"x86_64-w64-mingw32\", 1)\n",
    " (3, \"x86_64-w64-mingw32\", 2)\n",
    " (4, \"x86_64-pc-linux-gnu\", 3)\n",
    " (5, \"x86_64-pc-linux-gnu\", 4)\n",
    " (6, \"arm64-apple-darwin21.2.0\", 5)\n",
    " (7, \"arm64-apple-darwin21.2.0\", 6)\n",
    " (6, \"arm64-apple-darwin21.2.0\", 7)\n",
    " (7, \"arm64-apple-darwin21.2.0\", 8)\n",
    " (7, \"arm64-apple-darwin21.2.0\", 9)\n",
    " (6, \"arm64-apple-darwin21.2.0\", 10)\n",
    "\n",
    "julia> @everywhere function fib(n)\n",
    "           if n ≤ 1\n",
    "               n\n",
    "           else\n",
    "               fib(n - 2) + fib(n - 1)\n",
    "           end\n",
    "       end\n",
    "\n",
    "julia> pmap(n->(myid(), Sys.MACHINE, fib(n)), 40:-1:21)\n",
    "20-element Vector{Tuple{Int64, String, Int64}}:\n",
    " (4, \"x86_64-pc-linux-gnu\", 102334155)\n",
    " (6, \"arm64-apple-darwin21.2.0\", 63245986)\n",
    " (7, \"arm64-apple-darwin21.2.0\", 39088169)\n",
    " (5, \"x86_64-pc-linux-gnu\", 24157817)\n",
    " (2, \"x86_64-w64-mingw32\", 14930352)\n",
    " (3, \"x86_64-w64-mingw32\", 9227465)\n",
    " (3, \"x86_64-w64-mingw32\", 5702887)\n",
    " (3, \"x86_64-w64-mingw32\", 3524578)\n",
    " (2, \"x86_64-w64-mingw32\", 2178309)\n",
    " (2, \"x86_64-w64-mingw32\", 1346269)\n",
    " (5, \"x86_64-pc-linux-gnu\", 832040)\n",
    " (3, \"x86_64-w64-mingw32\", 514229)\n",
    " (2, \"x86_64-w64-mingw32\", 317811)\n",
    " (3, \"x86_64-w64-mingw32\", 196418)\n",
    " (2, \"x86_64-w64-mingw32\", 121393)\n",
    " (2, \"x86_64-w64-mingw32\", 75025)\n",
    " (3, \"x86_64-w64-mingw32\", 46368)\n",
    " (3, \"x86_64-w64-mingw32\", 28657)\n",
    " (2, \"x86_64-w64-mingw32\", 17711)\n",
    " (3, \"x86_64-w64-mingw32\", 10946)\n",
    "\n",
    "julia> # 本節で紹介したモンテカルロ法による円周率計算\n",
    "       function mcpi_mp(N=10000)\n",
    "           T = @distributed (+) for _=1:N\n",
    "               x = rand()\n",
    "               y = rand()\n",
    "               Int(x^2 + y^2 ≤ 1.0)\n",
    "           end\n",
    "           T / N * 4\n",
    "       end\n",
    "mcpi_mp (generic function with 2 methods)\n",
    "\n",
    "julia> using BenchmarkTools\n",
    "\n",
    "julia> @btime mcpi_mp(6_000_000)\n",
    "  7.260 ms (426 allocations: 18.78 KiB)\n",
    "3.1428073333333333\n",
    "```"
   ]
  }
 ],
 "metadata": {
  "jupytext": {
   "formats": "ipynb,auto:light"
  },
  "kernelspec": {
   "display_name": "Julia 1.8.5",
   "language": "julia",
   "name": "julia-1.8"
  },
  "language_info": {
   "file_extension": ".jl",
   "mimetype": "application/julia",
   "name": "julia",
   "version": "1.8.5"
  }
 },
 "nbformat": 4,
 "nbformat_minor": 5
}
