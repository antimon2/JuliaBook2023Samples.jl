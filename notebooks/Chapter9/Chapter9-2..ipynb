{
 "cells": [
  {
   "cell_type": "code",
   "execution_count": 1,
   "id": "bf1ba648",
   "metadata": {
    "ExecuteTime": {
     "end_time": "2023-01-27T15:25:09.833000+09:00",
     "start_time": "2023-01-27T06:25:09.336Z"
    }
   },
   "outputs": [
    {
     "name": "stdout",
     "output_type": "stream",
     "text": [
      "Julia Version 1.8.5\n",
      "Commit 17cfb8e65ea (2023-01-08 06:45 UTC)\n",
      "Platform Info:\n",
      "  OS: Linux (x86_64-linux-gnu)\n",
      "  CPU: 12 × Intel(R) Core(TM) i7-9750H CPU @ 2.60GHz\n",
      "  WORD_SIZE: 64\n",
      "  LIBM: libopenlibm\n",
      "  LLVM: libLLVM-13.0.1 (ORCJIT, skylake)\n",
      "  Threads: 4 on 12 virtual cores\n",
      "Environment:\n",
      "  JULIA_NUM_THREADS = 4\n"
     ]
    }
   ],
   "source": [
    "versioninfo()"
   ]
  },
  {
   "cell_type": "markdown",
   "id": "3559f9b9",
   "metadata": {},
   "source": [
    "## 9-2. スレッド"
   ]
  },
  {
   "cell_type": "markdown",
   "id": "13f729a4",
   "metadata": {},
   "source": [
    "### 9-2-1. Julia でスレッドを利用する"
   ]
  },
  {
   "cell_type": "markdown",
   "id": "67236a25",
   "metadata": {},
   "source": [
    "#### コード9-21. `Threads.nthreads()` の実行結果（スレッドが有効でない場合）"
   ]
  },
  {
   "cell_type": "markdown",
   "id": "f3cc5bda",
   "metadata": {},
   "source": [
    "```julia\n",
    "julia> Threads.nthreads()\n",
    "1\n",
    "```"
   ]
  },
  {
   "cell_type": "markdown",
   "id": "95f0b9d2",
   "metadata": {},
   "source": [
    "#### コード9-22. `-t` の使用例（数値を指定する場合）"
   ]
  },
  {
   "cell_type": "markdown",
   "id": "11b52430",
   "metadata": {},
   "source": [
    "```bash\n",
    "$ julia -t 4  # `julia --threads 4` でも同じ\n",
    "```"
   ]
  },
  {
   "cell_type": "markdown",
   "id": "eb700c9a",
   "metadata": {},
   "source": [
    "#### コード9-23. `-t` の使用例（数値を指定する場合）の動作確認"
   ]
  },
  {
   "cell_type": "markdown",
   "id": "36f502ba",
   "metadata": {},
   "source": [
    "```julia\n",
    "julia> Threads.nthreads()\n",
    "4\n",
    "```"
   ]
  },
  {
   "cell_type": "markdown",
   "id": "4d34ae2d",
   "metadata": {},
   "source": [
    "#### コード9-24. `-t` の使用例（`auto` を指定する場合）"
   ]
  },
  {
   "cell_type": "markdown",
   "id": "c41d72c3",
   "metadata": {},
   "source": [
    "```bash\n",
    "$ julia -t auto  # `julia --threads auto` でも同じ\n",
    "```"
   ]
  },
  {
   "cell_type": "markdown",
   "id": "0c179f41",
   "metadata": {},
   "source": [
    "#### コード9-25. `-t` の使用例（`auto` を指定する場合）の動作確認"
   ]
  },
  {
   "cell_type": "markdown",
   "id": "ea4b1593",
   "metadata": {},
   "source": [
    "```julia\n",
    "julia> Threads.nthreads()\n",
    "12  # 結果は環境によって異なります\n",
    "```"
   ]
  },
  {
   "cell_type": "markdown",
   "id": "fd5dff7b",
   "metadata": {},
   "source": [
    "#### コード9-26. Bash/Zsh など（Linux/macOS など）の環境変数指定方法"
   ]
  },
  {
   "cell_type": "markdown",
   "id": "e32f6fb3",
   "metadata": {},
   "source": [
    "```bash\n",
    "# グローバルに境変数を設定してから julia を起動する例\n",
    "$ export JULIA_NUM_THREADS=4\n",
    "$ julia\n",
    "\n",
    "# 一時的な環境変数の指定と同時に julia を起動する例\n",
    "$ JULIA_NUM_THREADS=4 julia\n",
    "```"
   ]
  },
  {
   "cell_type": "markdown",
   "id": "7d702f97",
   "metadata": {},
   "source": [
    "#### コード9-27. Powershell（Windows など）の環境変数指定方法"
   ]
  },
  {
   "cell_type": "markdown",
   "id": "6fbce720",
   "metadata": {},
   "source": [
    "```shell\n",
    "> $env:JULIA_NUM_THREADS=4\n",
    "> julia\n",
    "```"
   ]
  },
  {
   "cell_type": "markdown",
   "id": "5b4bcbca",
   "metadata": {},
   "source": [
    "#### コード9-28. `-t` の使用例（環境変数 `JULIA_NUM_THREADS` と同時に指定した場合）の動作確認"
   ]
  },
  {
   "cell_type": "markdown",
   "id": "44d01ab9",
   "metadata": {},
   "source": [
    "```julia\n",
    "julia> # Bash で `JULIA_NUM_THREADS=4 julia -t auto` 等として実行したと仮定\n",
    "\n",
    "julia> ENV[\"JULIA_NUM_THREADS\"]  # ←環境変数の指定はこれで確認できる\n",
    "\"4\"\n",
    "\n",
    "julia> Threads.nthreads()\n",
    "12  # 環境によって変わります。\n",
    "```"
   ]
  },
  {
   "cell_type": "markdown",
   "id": "6aa52c2f",
   "metadata": {},
   "source": [
    "### 9-2-2. スレッドの基本"
   ]
  },
  {
   "cell_type": "markdown",
   "id": "8924ec8d",
   "metadata": {},
   "source": [
    "#### `Threads.@threads` マクロ"
   ]
  },
  {
   "cell_type": "markdown",
   "id": "e39b3d1a",
   "metadata": {},
   "source": [
    "#### コード9-29. `@threads` マクロの利用例(1)"
   ]
  },
  {
   "cell_type": "code",
   "execution_count": 2,
   "id": "80c98419",
   "metadata": {
    "ExecuteTime": {
     "end_time": "2023-01-27T15:25:10.235000+09:00",
     "start_time": "2023-01-27T06:25:09.353Z"
    }
   },
   "outputs": [
    {
     "data": {
      "text/plain": [
       "4"
      ]
     },
     "execution_count": 2,
     "metadata": {},
     "output_type": "execute_result"
    }
   ],
   "source": [
    "Threads.nthreads()"
   ]
  },
  {
   "cell_type": "code",
   "execution_count": 3,
   "id": "5daaae9d",
   "metadata": {
    "ExecuteTime": {
     "end_time": "2023-01-27T15:25:10.452000+09:00",
     "start_time": "2023-01-27T06:25:09.357Z"
    }
   },
   "outputs": [
    {
     "data": {
      "text/plain": [
       "fib (generic function with 1 method)"
      ]
     },
     "execution_count": 3,
     "metadata": {},
     "output_type": "execute_result"
    }
   ],
   "source": [
    "function fib(n)\n",
    "    if n ≤ 1\n",
    "        n\n",
    "    else\n",
    "        fib(n - 2) + fib(n - 1)\n",
    "    end\n",
    "end"
   ]
  },
  {
   "cell_type": "code",
   "execution_count": 4,
   "id": "0a3c2b3a",
   "metadata": {
    "ExecuteTime": {
     "end_time": "2023-01-27T15:25:10.893000+09:00",
     "start_time": "2023-01-27T06:25:09.360Z"
    }
   },
   "outputs": [
    {
     "name": "stdout",
     "output_type": "stream",
     "text": [
      "  0.402024 seconds\n"
     ]
    },
    {
     "data": {
      "text/plain": [
       "102334155"
      ]
     },
     "execution_count": 4,
     "metadata": {},
     "output_type": "execute_result"
    }
   ],
   "source": [
    "@time fib(40)"
   ]
  },
  {
   "cell_type": "code",
   "execution_count": 5,
   "id": "a4a2ec3f",
   "metadata": {
    "ExecuteTime": {
     "end_time": "2023-01-27T15:25:12.541000+09:00",
     "start_time": "2023-01-27T06:25:09.363Z"
    }
   },
   "outputs": [
    {
     "name": "stdout",
     "output_type": "stream",
     "text": [
      "102334155\n",
      "102334155\n",
      "102334155\n",
      "102334155\n",
      "  1.618738 seconds (10.84 k allocations: 585.193 KiB, 0.87% compilation time)\n"
     ]
    }
   ],
   "source": [
    "@time for _=1:4\n",
    "    println(fib(40))\n",
    "end"
   ]
  },
  {
   "cell_type": "code",
   "execution_count": 6,
   "id": "2dedc54e",
   "metadata": {
    "ExecuteTime": {
     "end_time": "2023-01-27T15:25:13.073000+09:00",
     "start_time": "2023-01-27T06:25:09.366Z"
    }
   },
   "outputs": [
    {
     "name": "stdout",
     "output_type": "stream",
     "text": [
      "102334155\n",
      "102334155\n",
      "102334155\n",
      "102334155\n",
      "  0.451954 seconds (52.91 k allocations: 2.824 MiB, 6.90% compilation time)\n"
     ]
    }
   ],
   "source": [
    "@time Threads.@threads for _=1:4\n",
    "    println(fib(40))\n",
    "end"
   ]
  },
  {
   "cell_type": "markdown",
   "id": "e4223a11",
   "metadata": {},
   "source": [
    "#### コード9-30. `@threads` マクロの利用例(2)、および `Threads.threadid()` の例"
   ]
  },
  {
   "cell_type": "code",
   "execution_count": 7,
   "id": "4532f3ec",
   "metadata": {
    "ExecuteTime": {
     "end_time": "2023-01-27T15:25:13.074000+09:00",
     "start_time": "2023-01-27T06:25:09.369Z"
    }
   },
   "outputs": [
    {
     "data": {
      "text/plain": [
       "4"
      ]
     },
     "execution_count": 7,
     "metadata": {},
     "output_type": "execute_result"
    }
   ],
   "source": [
    "Threads.nthreads()"
   ]
  },
  {
   "cell_type": "code",
   "execution_count": 8,
   "id": "4cbfa1e8",
   "metadata": {
    "ExecuteTime": {
     "end_time": "2023-01-27T15:25:14.365000+09:00",
     "start_time": "2023-01-27T06:25:09.372Z"
    }
   },
   "outputs": [
    {
     "name": "stdout",
     "output_type": "stream",
     "text": [
      "i: 1, ThreadID: 1, 102334155\n",
      "i: 7, ThreadID: 2, 102334155\n",
      "i: 4, ThreadID: 3, 102334155\n",
      "i: 9, ThreadID: 4, 102334155\n",
      "i: 2, ThreadID: 1, 102334155\n",
      "i: 8, ThreadID: 2, 102334155\n",
      "i: 5, ThreadID: 3, 102334155\n",
      "i: 10, ThreadID: 4, 102334155\n",
      "i: 3, ThreadID: 1, 102334155\n",
      "i: 6, ThreadID: 3, 102334155\n"
     ]
    }
   ],
   "source": [
    "Threads.@threads for i=1:10\n",
    "    println(\"i: \", i, \", ThreadID: \", Threads.threadid(), \", \", fib(40))\n",
    "end"
   ]
  },
  {
   "cell_type": "markdown",
   "id": "e4d73f4d",
   "metadata": {},
   "source": [
    "#### `Threads.@spawn` マクロ"
   ]
  },
  {
   "cell_type": "markdown",
   "id": "6ee19b43",
   "metadata": {},
   "source": [
    "#### コード9-31. `Threads.@spawn` マクロの利用例(1)"
   ]
  },
  {
   "cell_type": "code",
   "execution_count": 9,
   "id": "39a0249d",
   "metadata": {
    "ExecuteTime": {
     "end_time": "2023-01-27T15:25:14.366000+09:00",
     "start_time": "2023-01-27T06:25:09.376Z"
    }
   },
   "outputs": [
    {
     "data": {
      "text/plain": [
       "4"
      ]
     },
     "execution_count": 9,
     "metadata": {},
     "output_type": "execute_result"
    }
   ],
   "source": [
    "Threads.nthreads()"
   ]
  },
  {
   "cell_type": "code",
   "execution_count": 10,
   "id": "2f1cee44",
   "metadata": {
    "ExecuteTime": {
     "end_time": "2023-01-27T15:25:14.834000+09:00",
     "start_time": "2023-01-27T06:25:09.380Z"
    }
   },
   "outputs": [
    {
     "name": "stdout",
     "output_type": "stream",
     "text": [
      "102334155\n",
      "102334155\n",
      "102334155\n",
      "102334155\n",
      "  0.437198 seconds (20.42 k allocations: 990.414 KiB, 4.70% compilation time)\n"
     ]
    }
   ],
   "source": [
    "@time @sync for _=1:4\n",
    "    Threads.@spawn println(fib(40))\n",
    "end"
   ]
  },
  {
   "cell_type": "code",
   "execution_count": 11,
   "id": "81066a9b",
   "metadata": {
    "ExecuteTime": {
     "end_time": "2023-01-27T15:25:14.897000+09:00",
     "start_time": "2023-01-27T06:25:09.389Z"
    }
   },
   "outputs": [
    {
     "name": "stdout",
     "output_type": "stream",
     "text": [
      "(2, 3)\n",
      "(1, 3)\n",
      "(1, 4)\n",
      "(2, 4)\n"
     ]
    }
   ],
   "source": [
    "@sync for x=1:2, y=3:4\n",
    "    Threads.@spawn println((x, y))\n",
    "end"
   ]
  },
  {
   "cell_type": "markdown",
   "id": "11dd1e3b",
   "metadata": {},
   "source": [
    "#### `Threads.@threads` と `Threads.@spawn` の使い分け"
   ]
  },
  {
   "cell_type": "markdown",
   "id": "d2790ad2",
   "metadata": {},
   "source": [
    "#### コード9-32. `Threads.@threads` と `Threads.@spawn` の違い(1)"
   ]
  },
  {
   "cell_type": "code",
   "execution_count": 12,
   "id": "ac79c279",
   "metadata": {
    "ExecuteTime": {
     "end_time": "2023-01-27T15:25:14.898000+09:00",
     "start_time": "2023-01-27T06:25:09.404Z"
    }
   },
   "outputs": [
    {
     "data": {
      "text/plain": [
       "4"
      ]
     },
     "execution_count": 12,
     "metadata": {},
     "output_type": "execute_result"
    }
   ],
   "source": [
    "Threads.nthreads()"
   ]
  },
  {
   "cell_type": "code",
   "execution_count": 13,
   "id": "7c242362",
   "metadata": {
    "ExecuteTime": {
     "end_time": "2023-01-27T15:25:14.915000+09:00",
     "start_time": "2023-01-27T06:25:09.409Z"
    }
   },
   "outputs": [
    {
     "name": "stdout",
     "output_type": "stream",
     "text": [
      "  0.000004 seconds\n"
     ]
    },
    {
     "data": {
      "text/plain": [
       "610"
      ]
     },
     "execution_count": 13,
     "metadata": {},
     "output_type": "execute_result"
    }
   ],
   "source": [
    "@time fib(15)"
   ]
  },
  {
   "cell_type": "code",
   "execution_count": 14,
   "id": "ec9fa6d8",
   "metadata": {
    "ExecuteTime": {
     "end_time": "2023-01-27T15:25:14.921000+09:00",
     "start_time": "2023-01-27T06:25:09.414Z"
    }
   },
   "outputs": [],
   "source": [
    "tidhist = zeros(Int, Threads.nthreads());"
   ]
  },
  {
   "cell_type": "code",
   "execution_count": 15,
   "id": "3810e2c8",
   "metadata": {
    "ExecuteTime": {
     "end_time": "2023-01-27T15:25:15.015000+09:00",
     "start_time": "2023-01-27T06:25:09.419Z"
    }
   },
   "outputs": [
    {
     "name": "stdout",
     "output_type": "stream",
     "text": [
      "  0.063782 seconds (124.93 k allocations: 3.793 MiB, 58.63% compilation time)\n"
     ]
    }
   ],
   "source": [
    "@time Threads.@threads for i=1:40000\n",
    "    fib(15)  # 毎回ほぼ同じ負荷の処理が実行される例\n",
    "    tidhist[Threads.threadid()] += 1\n",
    "end"
   ]
  },
  {
   "cell_type": "code",
   "execution_count": 16,
   "id": "c5b03c73",
   "metadata": {
    "ExecuteTime": {
     "end_time": "2023-01-27T15:25:15.783000+09:00",
     "start_time": "2023-01-27T06:25:09.424Z"
    }
   },
   "outputs": [
    {
     "data": {
      "text/plain": [
       "4-element Vector{Int64}:\n",
       " 10000\n",
       " 10000\n",
       " 10000\n",
       " 10000"
      ]
     },
     "execution_count": 16,
     "metadata": {},
     "output_type": "execute_result"
    }
   ],
   "source": [
    "tidhist"
   ]
  },
  {
   "cell_type": "code",
   "execution_count": 17,
   "id": "183bd31e",
   "metadata": {
    "ExecuteTime": {
     "end_time": "2023-01-27T15:25:15.784000+09:00",
     "start_time": "2023-01-27T06:25:09.429Z"
    }
   },
   "outputs": [],
   "source": [
    "tidhist = zeros(Int, Threads.nthreads());"
   ]
  },
  {
   "cell_type": "code",
   "execution_count": 18,
   "id": "babb090f",
   "metadata": {
    "ExecuteTime": {
     "end_time": "2023-01-27T15:25:15.864000+09:00",
     "start_time": "2023-01-27T06:25:09.434Z"
    }
   },
   "outputs": [
    {
     "name": "stdout",
     "output_type": "stream",
     "text": [
      "  0.056646 seconds (418.82 k allocations: 24.113 MiB, 13.34% gc time, 31.42% compilation time)\n"
     ]
    }
   ],
   "source": [
    "@time @sync for i=1:40000\n",
    "    Threads.@spawn begin\n",
    "        fib(15)  # 毎回ほぼ同じ負荷の処理が実行される例\n",
    "        tidhist[Threads.threadid()] += 1\n",
    "    end\n",
    "end"
   ]
  },
  {
   "cell_type": "code",
   "execution_count": 19,
   "id": "125d3fe6",
   "metadata": {
    "ExecuteTime": {
     "end_time": "2023-01-27T15:25:15.866000+09:00",
     "start_time": "2023-01-27T06:25:09.439Z"
    }
   },
   "outputs": [
    {
     "data": {
      "text/plain": [
       "4-element Vector{Int64}:\n",
       "  4556\n",
       " 12231\n",
       " 11348\n",
       " 11865"
      ]
     },
     "execution_count": 19,
     "metadata": {},
     "output_type": "execute_result"
    }
   ],
   "source": [
    "tidhist"
   ]
  },
  {
   "cell_type": "markdown",
   "id": "504de166",
   "metadata": {},
   "source": [
    "#### コード9-33. `Threads.@threads` と `Threads.@spawn` の違い(2)"
   ]
  },
  {
   "cell_type": "code",
   "execution_count": 20,
   "id": "0a2fab36",
   "metadata": {
    "ExecuteTime": {
     "end_time": "2023-01-27T15:25:15.866000+09:00",
     "start_time": "2023-01-27T06:25:09.464Z"
    }
   },
   "outputs": [
    {
     "data": {
      "text/plain": [
       "4"
      ]
     },
     "execution_count": 20,
     "metadata": {},
     "output_type": "execute_result"
    }
   ],
   "source": [
    "Threads.nthreads()"
   ]
  },
  {
   "cell_type": "code",
   "execution_count": 21,
   "id": "907e9165",
   "metadata": {
    "ExecuteTime": {
     "end_time": "2023-01-27T15:25:15.885000+09:00",
     "start_time": "2023-01-27T06:25:09.468Z"
    }
   },
   "outputs": [
    {
     "name": "stdout",
     "output_type": "stream",
     "text": [
      "  0.000299 seconds\n"
     ]
    },
    {
     "data": {
      "text/plain": [
       "75025"
      ]
     },
     "execution_count": 21,
     "metadata": {},
     "output_type": "execute_result"
    }
   ],
   "source": [
    "@time fib(25)"
   ]
  },
  {
   "cell_type": "code",
   "execution_count": 22,
   "id": "ad8594df",
   "metadata": {
    "ExecuteTime": {
     "end_time": "2023-01-27T15:25:15.937000+09:00",
     "start_time": "2023-01-27T06:25:09.472Z"
    }
   },
   "outputs": [
    {
     "name": "stdout",
     "output_type": "stream",
     "text": [
      "  0.036699 seconds\n"
     ]
    },
    {
     "data": {
      "text/plain": [
       "9227465"
      ]
     },
     "execution_count": 22,
     "metadata": {},
     "output_type": "execute_result"
    }
   ],
   "source": [
    "@time fib(35)"
   ]
  },
  {
   "cell_type": "code",
   "execution_count": 23,
   "id": "809e2b37",
   "metadata": {
    "ExecuteTime": {
     "end_time": "2023-01-27T15:25:15.938000+09:00",
     "start_time": "2023-01-27T06:25:09.475Z"
    }
   },
   "outputs": [],
   "source": [
    "tidhist = zeros(Int, Threads.nthreads());"
   ]
  },
  {
   "cell_type": "code",
   "execution_count": 24,
   "id": "4604945a",
   "metadata": {
    "ExecuteTime": {
     "end_time": "2023-01-27T15:25:18.277000+09:00",
     "start_time": "2023-01-27T06:25:09.478Z"
    }
   },
   "outputs": [
    {
     "name": "stdout",
     "output_type": "stream",
     "text": [
      "  2.307128 seconds (76.10 k allocations: 4.009 MiB, 1.99% compilation time)\n"
     ]
    }
   ],
   "source": [
    "@time Threads.@threads for i=1:1000\n",
    "    fib(rand(25:35))  # 毎回わずかに異なる負荷の処理が実行\n",
    "    tidhist[Threads.threadid()] += 1\n",
    "end"
   ]
  },
  {
   "cell_type": "code",
   "execution_count": 25,
   "id": "5faef667",
   "metadata": {
    "ExecuteTime": {
     "end_time": "2023-01-27T15:25:18.278000+09:00",
     "start_time": "2023-01-27T06:25:09.481Z"
    }
   },
   "outputs": [
    {
     "data": {
      "text/plain": [
       "4-element Vector{Int64}:\n",
       " 250\n",
       " 250\n",
       " 250\n",
       " 250"
      ]
     },
     "execution_count": 25,
     "metadata": {},
     "output_type": "execute_result"
    }
   ],
   "source": [
    "tidhist"
   ]
  },
  {
   "cell_type": "code",
   "execution_count": 26,
   "id": "12ea44f9",
   "metadata": {
    "ExecuteTime": {
     "end_time": "2023-01-27T15:25:18.279000+09:00",
     "start_time": "2023-01-27T06:25:09.484Z"
    }
   },
   "outputs": [],
   "source": [
    "tidhist = zeros(Int, Threads.nthreads());"
   ]
  },
  {
   "cell_type": "code",
   "execution_count": 27,
   "id": "91e33a1c",
   "metadata": {
    "ExecuteTime": {
     "end_time": "2023-01-27T15:25:20.607000+09:00",
     "start_time": "2023-01-27T06:25:09.486Z"
    }
   },
   "outputs": [
    {
     "name": "stdout",
     "output_type": "stream",
     "text": [
      "  2.303401 seconds (95.39 k allocations: 5.346 MiB, 0.71% compilation time)\n"
     ]
    }
   ],
   "source": [
    "@time @sync for i=1:1000\n",
    "    Threads.@spawn begin\n",
    "        fib(rand(25:35))  # 毎回わずかに異なる負荷の処理が実行\n",
    "        tidhist[Threads.threadid()] += 1\n",
    "    end\n",
    "end"
   ]
  },
  {
   "cell_type": "code",
   "execution_count": 28,
   "id": "a4ed7320",
   "metadata": {
    "ExecuteTime": {
     "end_time": "2023-01-27T15:25:20.608000+09:00",
     "start_time": "2023-01-27T06:25:09.489Z"
    }
   },
   "outputs": [
    {
     "data": {
      "text/plain": [
       "4-element Vector{Int64}:\n",
       " 269\n",
       " 243\n",
       " 238\n",
       " 250"
      ]
     },
     "execution_count": 28,
     "metadata": {},
     "output_type": "execute_result"
    }
   ],
   "source": [
    "tidhist"
   ]
  },
  {
   "cell_type": "markdown",
   "id": "9a0963e1",
   "metadata": {},
   "source": [
    "#### `Channel(spawn=true)`"
   ]
  },
  {
   "cell_type": "markdown",
   "id": "dcaa807f",
   "metadata": {},
   "source": [
    "#### コード9-34. `Channel(spawn=true)` の例(1): 単純な動作確認例"
   ]
  },
  {
   "cell_type": "code",
   "execution_count": 29,
   "id": "af2563b0",
   "metadata": {
    "ExecuteTime": {
     "end_time": "2023-01-27T15:25:20.609000+09:00",
     "start_time": "2023-01-27T06:25:09.498Z"
    }
   },
   "outputs": [
    {
     "data": {
      "text/plain": [
       "4"
      ]
     },
     "execution_count": 29,
     "metadata": {},
     "output_type": "execute_result"
    }
   ],
   "source": [
    "Threads.nthreads()"
   ]
  },
  {
   "cell_type": "code",
   "execution_count": 30,
   "id": "9e770432",
   "metadata": {
    "ExecuteTime": {
     "end_time": "2023-01-27T15:25:21.018000+09:00",
     "start_time": "2023-01-27T06:25:09.501Z"
    }
   },
   "outputs": [
    {
     "data": {
      "text/plain": [
       "102334155"
      ]
     },
     "execution_count": 30,
     "metadata": {},
     "output_type": "execute_result"
    }
   ],
   "source": [
    "fib(40)"
   ]
  },
  {
   "cell_type": "code",
   "execution_count": 31,
   "id": "3009e64e",
   "metadata": {
    "ExecuteTime": {
     "end_time": "2023-01-27T15:25:21.147000+09:00",
     "start_time": "2023-01-27T06:25:09.503Z"
    }
   },
   "outputs": [],
   "source": [
    "chnl = Channel{Int}(spawn=true) do chnl\n",
    "    for n = 36:40\n",
    "        put!(chnl, fib(n))\n",
    "    end\n",
    "end;"
   ]
  },
  {
   "cell_type": "code",
   "execution_count": 32,
   "id": "93ee5820",
   "metadata": {
    "ExecuteTime": {
     "end_time": "2023-01-27T15:25:22.108000+09:00",
     "start_time": "2023-01-27T06:25:09.506Z"
    }
   },
   "outputs": [
    {
     "name": "stdout",
     "output_type": "stream",
     "text": [
      "14930352\n",
      "24157817\n",
      "39088169\n",
      "63245986\n",
      "102334155\n"
     ]
    }
   ],
   "source": [
    "for v in chnl\n",
    "    println(v)\n",
    "end"
   ]
  },
  {
   "cell_type": "markdown",
   "id": "35093b6a",
   "metadata": {},
   "source": [
    "#### コード9-35. `Channel(spawn=true)` の例(2): `spawn=true` 未指定時との比較"
   ]
  },
  {
   "cell_type": "code",
   "execution_count": 33,
   "id": "bfca1b40",
   "metadata": {
    "ExecuteTime": {
     "end_time": "2023-01-27T15:25:25.120000+09:00",
     "start_time": "2023-01-27T06:25:09.509Z"
    }
   },
   "outputs": [
    {
     "name": "stdout",
     "output_type": "stream",
     "text": [
      "87403803\n",
      "  0.493617 seconds (37 allocations: 976 bytes)\n",
      "78176338\n",
      "  0.553717 seconds (137 allocations: 9.656 KiB)\n",
      "63245986\n",
      "  0.643076 seconds (137 allocations: 9.688 KiB)\n",
      "39088169\n",
      "  0.793784 seconds (137 allocations: 9.688 KiB)\n",
      "0\n",
      "  0.398534 seconds (139 allocations: 9.789 KiB)\n",
      "  2.981214 seconds (27.00 k allocations: 1.369 MiB, 1.34% compilation time)\n"
     ]
    }
   ],
   "source": [
    "@time begin\n",
    "    chnl = Channel{Int}() do chnl\n",
    "        for n = 36:40\n",
    "            put!(chnl, fib(n))\n",
    "        end\n",
    "    end;\n",
    "    for v in chnl\n",
    "        @time println(fib(40) - v)\n",
    "    end\n",
    "end"
   ]
  },
  {
   "cell_type": "code",
   "execution_count": 34,
   "id": "f8e72e28",
   "metadata": {
    "ExecuteTime": {
     "end_time": "2023-01-27T15:25:27.284000+09:00",
     "start_time": "2023-01-27T06:25:09.512Z"
    }
   },
   "outputs": [
    {
     "name": "stdout",
     "output_type": "stream",
     "text": [
      "87403803\n",
      "  0.405369 seconds (39 allocations: 1.016 KiB)\n",
      "78176338\n",
      "  0.404398 seconds (137 allocations: 9.719 KiB)\n",
      "63245986\n",
      "  0.407212 seconds (137 allocations: 9.719 KiB)\n",
      "39088169\n",
      "  0.422683 seconds (136 allocations: 9.688 KiB)\n",
      "0\n",
      "  0.402679 seconds (138 allocations: 9.773 KiB)\n",
      "  2.132320 seconds (20.69 k allocations: 1.028 MiB, 1.00% compilation time)\n"
     ]
    }
   ],
   "source": [
    "@time begin\n",
    "    chnl = Channel{Int}(spawn=true) do chnl\n",
    "        for n = 36:40\n",
    "            put!(chnl, fib(n))\n",
    "        end\n",
    "    end;\n",
    "    for v in chnl\n",
    "        @time println(fib(40) - v)\n",
    "    end\n",
    "end"
   ]
  },
  {
   "cell_type": "markdown",
   "id": "2432645e",
   "metadata": {},
   "source": [
    "#### `Threads.foreach()`"
   ]
  },
  {
   "cell_type": "markdown",
   "id": "e08290c4",
   "metadata": {},
   "source": [
    "#### コード9-36. `Threads.foreach()` の例(1): 基本動作"
   ]
  },
  {
   "cell_type": "code",
   "execution_count": 35,
   "id": "3500793b",
   "metadata": {
    "ExecuteTime": {
     "end_time": "2023-01-27T15:25:27.285000+09:00",
     "start_time": "2023-01-27T06:25:09.516Z"
    }
   },
   "outputs": [
    {
     "data": {
      "text/plain": [
       "4"
      ]
     },
     "execution_count": 35,
     "metadata": {},
     "output_type": "execute_result"
    }
   ],
   "source": [
    "Threads.nthreads()"
   ]
  },
  {
   "cell_type": "code",
   "execution_count": 36,
   "id": "6384ac7f",
   "metadata": {
    "ExecuteTime": {
     "end_time": "2023-01-27T15:25:27.293000+09:00",
     "start_time": "2023-01-27T06:25:09.519Z"
    }
   },
   "outputs": [
    {
     "name": "stdout",
     "output_type": "stream",
     "text": [
      "(1, 3)\n",
      "(1, 4)\n",
      "(2, 3)\n",
      "(2, 4)\n"
     ]
    }
   ],
   "source": [
    "for x=1:2, y=3:4\n",
    "    println((x, y))\n",
    "end"
   ]
  },
  {
   "cell_type": "code",
   "execution_count": 37,
   "id": "ee6e29bd",
   "metadata": {
    "ExecuteTime": {
     "end_time": "2023-01-27T15:25:27.336000+09:00",
     "start_time": "2023-01-27T06:25:09.522Z"
    }
   },
   "outputs": [
    {
     "name": "stdout",
     "output_type": "stream",
     "text": [
      "(1, 3)\n",
      "(1, 4)\n",
      "(2, 3)\n",
      "(2, 4)\n"
     ]
    }
   ],
   "source": [
    "# ↑と同じ挙動をするコード\n",
    "# ↓`foreach(println, [(x, y) for x=1:2 for y=3:4])` と書いても同じ\n",
    "foreach([(x, y) for x=1:2 for y=3:4]) do (x, y)\n",
    "    println((x, y))\n",
    "end"
   ]
  },
  {
   "cell_type": "code",
   "execution_count": 38,
   "id": "193e629d",
   "metadata": {
    "ExecuteTime": {
     "end_time": "2023-01-27T15:25:27.432000+09:00",
     "start_time": "2023-01-27T06:25:09.524Z"
    }
   },
   "outputs": [
    {
     "name": "stdout",
     "output_type": "stream",
     "text": [
      "(1, 3)\n",
      "(2, 3)\n",
      "(2, 4)\n",
      "(1, 4)\n"
     ]
    }
   ],
   "source": [
    "# `Threads.@threads` を利用したマルチスレッド対応版\n",
    "Threads.@threads for (x, y) in [(x, y) for x=1:2 for y=3:4]\n",
    "    println((x, y))\n",
    "end"
   ]
  },
  {
   "cell_type": "code",
   "execution_count": 39,
   "id": "7c83e6f4",
   "metadata": {
    "ExecuteTime": {
     "end_time": "2023-01-27T15:25:27.504000+09:00",
     "start_time": "2023-01-27T06:25:09.527Z"
    }
   },
   "outputs": [],
   "source": [
    "# `Threads.foreach()` を利用する場合、まず `Channel` を準備\n",
    "chnl = Channel() do chnl\n",
    "    for x=1:2, y=3:4\n",
    "        put!(chnl, (x, y))\n",
    "    end\n",
    "end;"
   ]
  },
  {
   "cell_type": "code",
   "execution_count": 40,
   "id": "5347613e",
   "metadata": {
    "ExecuteTime": {
     "end_time": "2023-01-27T15:25:27.562000+09:00",
     "start_time": "2023-01-27T06:25:09.531Z"
    }
   },
   "outputs": [
    {
     "name": "stdout",
     "output_type": "stream",
     "text": [
      "(1, 3)\n",
      "(2, 4)\n",
      "(2, 3)\n",
      "(1, 4)\n"
     ]
    }
   ],
   "source": [
    "# ↓ `Threads.foreach(println, chnl)` と書いても同じ\n",
    "Threads.foreach(chnl) do (x, y)\n",
    "    println((x, y))\n",
    "end"
   ]
  },
  {
   "cell_type": "markdown",
   "id": "426ba3bc",
   "metadata": {},
   "source": [
    "#### コード9-37. `Threads.foreach()` の例(2): `Base.foreach()` と仕様を合わせる例"
   ]
  },
  {
   "cell_type": "code",
   "execution_count": 41,
   "id": "1008a8b1",
   "metadata": {
    "ExecuteTime": {
     "end_time": "2023-01-27T15:25:27.629000+09:00",
     "start_time": "2023-01-27T06:25:09.534Z"
    }
   },
   "outputs": [
    {
     "data": {
      "text/plain": [
       "threaded_foreach (generic function with 1 method)"
      ]
     },
     "execution_count": 41,
     "metadata": {},
     "output_type": "execute_result"
    }
   ],
   "source": [
    "threaded_foreach(f, c::Channel) = Threads.foreach(f, c)"
   ]
  },
  {
   "cell_type": "code",
   "execution_count": 42,
   "id": "e086397d",
   "metadata": {
    "ExecuteTime": {
     "end_time": "2023-01-27T15:25:27.632000+09:00",
     "start_time": "2023-01-27T06:25:09.536Z"
    }
   },
   "outputs": [
    {
     "data": {
      "text/plain": [
       "threaded_foreach (generic function with 2 methods)"
      ]
     },
     "execution_count": 42,
     "metadata": {},
     "output_type": "execute_result"
    }
   ],
   "source": [
    "function threaded_foreach(f, itr)\n",
    "    channel = Channel() do chnl\n",
    "        for v in itr\n",
    "            put!(chnl, v)\n",
    "        end\n",
    "    end\n",
    "    Threads.foreach(f, channel)\n",
    "end"
   ]
  },
  {
   "cell_type": "code",
   "execution_count": 43,
   "id": "e0d8a287",
   "metadata": {
    "ExecuteTime": {
     "end_time": "2023-01-27T15:25:27.634000+09:00",
     "start_time": "2023-01-27T06:25:09.539Z"
    }
   },
   "outputs": [
    {
     "data": {
      "text/plain": [
       "threaded_foreach (generic function with 3 methods)"
      ]
     },
     "execution_count": 43,
     "metadata": {},
     "output_type": "execute_result"
    }
   ],
   "source": [
    "function threaded_foreach(f, itrs...)\n",
    "    channel = Channel() do chnl\n",
    "        for args in zip(itrs...)\n",
    "            put!(chnl, args)\n",
    "        end\n",
    "    end\n",
    "    Threads.foreach(args -> f(args...), channel)\n",
    "end"
   ]
  },
  {
   "cell_type": "code",
   "execution_count": 44,
   "id": "bf357232",
   "metadata": {
    "ExecuteTime": {
     "end_time": "2023-01-27T15:25:27.635000+09:00",
     "start_time": "2023-01-27T06:25:09.541Z"
    }
   },
   "outputs": [
    {
     "data": {
      "text/plain": [
       "threaded_foreach (generic function with 4 methods)"
      ]
     },
     "execution_count": 44,
     "metadata": {},
     "output_type": "execute_result"
    }
   ],
   "source": [
    "threaded_foreach(f) = foreach(f)"
   ]
  },
  {
   "cell_type": "code",
   "execution_count": 45,
   "id": "f1bcf1e3",
   "metadata": {
    "ExecuteTime": {
     "end_time": "2023-01-27T15:25:27.642000+09:00",
     "start_time": "2023-01-27T06:25:09.545Z"
    }
   },
   "outputs": [
    {
     "name": "stdout",
     "output_type": "stream",
     "text": [
      "1\n",
      "2\n",
      "3\n"
     ]
    }
   ],
   "source": [
    "foreach(println, 1:3)"
   ]
  },
  {
   "cell_type": "code",
   "execution_count": 46,
   "id": "8834fb36",
   "metadata": {
    "ExecuteTime": {
     "end_time": "2023-01-27T15:25:27.724000+09:00",
     "start_time": "2023-01-27T06:25:09.549Z"
    }
   },
   "outputs": [
    {
     "name": "stdout",
     "output_type": "stream",
     "text": [
      "1\n",
      "3\n",
      "2\n"
     ]
    }
   ],
   "source": [
    "threaded_foreach(println, 1:3)  # 実行する度に結果は変わります"
   ]
  },
  {
   "cell_type": "code",
   "execution_count": 47,
   "id": "14526ea2",
   "metadata": {
    "ExecuteTime": {
     "end_time": "2023-01-27T15:25:27.740000+09:00",
     "start_time": "2023-01-27T06:25:09.552Z"
    }
   },
   "outputs": [
    {
     "name": "stdout",
     "output_type": "stream",
     "text": [
      "5\n",
      "7\n",
      "9\n"
     ]
    }
   ],
   "source": [
    "foreach((x, y) -> println(x + y), 1:3, 4:6)"
   ]
  },
  {
   "cell_type": "code",
   "execution_count": 48,
   "id": "6ee4a8c3",
   "metadata": {
    "ExecuteTime": {
     "end_time": "2023-01-27T15:25:27.797000+09:00",
     "start_time": "2023-01-27T06:25:09.556Z"
    }
   },
   "outputs": [
    {
     "name": "stdout",
     "output_type": "stream",
     "text": [
      "7\n",
      "5\n",
      "9\n"
     ]
    }
   ],
   "source": [
    "threaded_foreach((x, y) -> println(x + y), 1:3, 4:6)  # 実行する度に結果は変わります"
   ]
  },
  {
   "cell_type": "markdown",
   "id": "a2d2bd03",
   "metadata": {},
   "source": [
    "#### コード9-38. `Threads.foreach()` の例(3): `schedule` キーワード引数の指定による挙動の差異(1)"
   ]
  },
  {
   "cell_type": "code",
   "execution_count": 49,
   "id": "b7181f01",
   "metadata": {
    "ExecuteTime": {
     "end_time": "2023-01-27T15:25:27.798000+09:00",
     "start_time": "2023-01-27T06:25:09.560Z"
    }
   },
   "outputs": [
    {
     "data": {
      "text/plain": [
       "4"
      ]
     },
     "execution_count": 49,
     "metadata": {},
     "output_type": "execute_result"
    }
   ],
   "source": [
    "Threads.nthreads()"
   ]
  },
  {
   "cell_type": "code",
   "execution_count": 50,
   "id": "a230c6be",
   "metadata": {
    "ExecuteTime": {
     "end_time": "2023-01-27T15:25:27.815000+09:00",
     "start_time": "2023-01-27T06:25:09.563Z"
    }
   },
   "outputs": [
    {
     "name": "stdout",
     "output_type": "stream",
     "text": [
      "  0.000004 seconds\n"
     ]
    },
    {
     "data": {
      "text/plain": [
       "610"
      ]
     },
     "execution_count": 50,
     "metadata": {},
     "output_type": "execute_result"
    }
   ],
   "source": [
    "@time fib(15)"
   ]
  },
  {
   "cell_type": "code",
   "execution_count": 51,
   "id": "ebd560fb",
   "metadata": {
    "ExecuteTime": {
     "end_time": "2023-01-27T15:25:27.815000+09:00",
     "start_time": "2023-01-27T06:25:09.566Z"
    }
   },
   "outputs": [],
   "source": [
    "tidhist = zeros(Int, Threads.nthreads());"
   ]
  },
  {
   "cell_type": "code",
   "execution_count": 52,
   "id": "5190cc33",
   "metadata": {
    "ExecuteTime": {
     "end_time": "2023-01-27T15:25:27.974000+09:00",
     "start_time": "2023-01-27T06:25:09.569Z"
    }
   },
   "outputs": [
    {
     "name": "stdout",
     "output_type": "stream",
     "text": [
      "  0.136260 seconds (521.61 k allocations: 27.474 MiB, 39.77% compilation time)\n"
     ]
    }
   ],
   "source": [
    "@time begin\n",
    "    chnl = Channel{Int}() do chnl\n",
    "        for i=1:40000\n",
    "            put!(chnl, i)\n",
    "        end\n",
    "    end\n",
    "    Threads.foreach(chnl) do i\n",
    "        fib(15)  # 毎回ほぼ同じ負荷の処理が実行される例\n",
    "        tidhist[Threads.threadid()] += 1\n",
    "    end\n",
    "end"
   ]
  },
  {
   "cell_type": "code",
   "execution_count": 53,
   "id": "9dc58d3b",
   "metadata": {
    "ExecuteTime": {
     "end_time": "2023-01-27T15:25:27.976000+09:00",
     "start_time": "2023-01-27T06:25:09.572Z"
    }
   },
   "outputs": [
    {
     "data": {
      "text/plain": [
       "4-element Vector{Int64}:\n",
       "  6299\n",
       " 11361\n",
       " 11003\n",
       " 11337"
      ]
     },
     "execution_count": 53,
     "metadata": {},
     "output_type": "execute_result"
    }
   ],
   "source": [
    "tidhist"
   ]
  },
  {
   "cell_type": "code",
   "execution_count": 54,
   "id": "0199dc84",
   "metadata": {
    "ExecuteTime": {
     "end_time": "2023-01-27T15:25:27.976000+09:00",
     "start_time": "2023-01-27T06:25:09.574Z"
    }
   },
   "outputs": [],
   "source": [
    "tidhist = zeros(Int, Threads.nthreads());"
   ]
  },
  {
   "cell_type": "code",
   "execution_count": 55,
   "id": "42f47894",
   "metadata": {
    "ExecuteTime": {
     "end_time": "2023-01-27T15:25:28.120000+09:00",
     "start_time": "2023-01-27T06:25:09.577Z"
    }
   },
   "outputs": [
    {
     "name": "stdout",
     "output_type": "stream",
     "text": [
      "  0.118810 seconds (237.21 k allocations: 7.182 MiB, 42.53% compilation time)\n"
     ]
    }
   ],
   "source": [
    "@time begin\n",
    "    chnl = Channel{Int}() do chnl\n",
    "        for i=1:40000\n",
    "            put!(chnl, i)\n",
    "        end\n",
    "    end\n",
    "    Threads.foreach(chnl, schedule=Threads.StaticSchedule()) do i\n",
    "        fib(15)  # 毎回ほぼ同じ負荷の処理が実行される例\n",
    "        tidhist[Threads.threadid()] += 1\n",
    "    end\n",
    "end"
   ]
  },
  {
   "cell_type": "code",
   "execution_count": 56,
   "id": "930cdb0c",
   "metadata": {
    "ExecuteTime": {
     "end_time": "2023-01-27T15:25:28.122000+09:00",
     "start_time": "2023-01-27T06:25:09.580Z"
    }
   },
   "outputs": [
    {
     "data": {
      "text/plain": [
       "4-element Vector{Int64}:\n",
       "  6591\n",
       " 11275\n",
       " 10913\n",
       " 11221"
      ]
     },
     "execution_count": 56,
     "metadata": {},
     "output_type": "execute_result"
    }
   ],
   "source": [
    "tidhist"
   ]
  },
  {
   "cell_type": "markdown",
   "id": "7da8a509",
   "metadata": {},
   "source": [
    "#### コード9-39. `Threads.foreach()` の例(3): `schedule` キーワード引数の指定による挙動の差異(2)"
   ]
  },
  {
   "cell_type": "code",
   "execution_count": 57,
   "id": "58bc6daf",
   "metadata": {
    "ExecuteTime": {
     "end_time": "2023-01-27T15:25:28.122000+09:00",
     "start_time": "2023-01-27T06:25:09.583Z"
    }
   },
   "outputs": [
    {
     "data": {
      "text/plain": [
       "4"
      ]
     },
     "execution_count": 57,
     "metadata": {},
     "output_type": "execute_result"
    }
   ],
   "source": [
    "Threads.nthreads()"
   ]
  },
  {
   "cell_type": "code",
   "execution_count": 58,
   "id": "ef7aa1f0",
   "metadata": {
    "ExecuteTime": {
     "end_time": "2023-01-27T15:25:28.140000+09:00",
     "start_time": "2023-01-27T06:25:09.585Z"
    }
   },
   "outputs": [
    {
     "name": "stdout",
     "output_type": "stream",
     "text": [
      "  0.000004 seconds\n"
     ]
    },
    {
     "data": {
      "text/plain": [
       "610"
      ]
     },
     "execution_count": 58,
     "metadata": {},
     "output_type": "execute_result"
    }
   ],
   "source": [
    "@time fib(15)"
   ]
  },
  {
   "cell_type": "code",
   "execution_count": 59,
   "id": "15f5c56e",
   "metadata": {
    "ExecuteTime": {
     "end_time": "2023-01-27T15:25:28.156000+09:00",
     "start_time": "2023-01-27T06:25:09.588Z"
    }
   },
   "outputs": [
    {
     "name": "stdout",
     "output_type": "stream",
     "text": [
      "  0.000299 seconds\n"
     ]
    },
    {
     "data": {
      "text/plain": [
       "75025"
      ]
     },
     "execution_count": 59,
     "metadata": {},
     "output_type": "execute_result"
    }
   ],
   "source": [
    "@time fib(25)"
   ]
  },
  {
   "cell_type": "code",
   "execution_count": 60,
   "id": "2448b5a5",
   "metadata": {
    "ExecuteTime": {
     "end_time": "2023-01-27T15:25:28.156000+09:00",
     "start_time": "2023-01-27T06:25:09.590Z"
    }
   },
   "outputs": [],
   "source": [
    "tidhist = zeros(Int, Threads.nthreads());"
   ]
  },
  {
   "cell_type": "code",
   "execution_count": 61,
   "id": "aa87667c",
   "metadata": {
    "ExecuteTime": {
     "end_time": "2023-01-27T15:25:28.563000+09:00",
     "start_time": "2023-01-27T06:25:09.594Z"
    }
   },
   "outputs": [
    {
     "name": "stdout",
     "output_type": "stream",
     "text": [
      "  0.386899 seconds (172.29 k allocations: 9.126 MiB, 10.54% compilation time)\n"
     ]
    }
   ],
   "source": [
    "@time begin\n",
    "    chnl = Channel{Int}() do chnl\n",
    "        for i=1:10000\n",
    "            put!(chnl, i)\n",
    "        end\n",
    "    end\n",
    "    Threads.foreach(chnl) do i\n",
    "        fib(rand(15:25))  # 毎回わずかに異なる負荷の処理が実行される例\n",
    "        tidhist[Threads.threadid()] += 1\n",
    "    end\n",
    "end"
   ]
  },
  {
   "cell_type": "code",
   "execution_count": 62,
   "id": "81ddd883",
   "metadata": {
    "ExecuteTime": {
     "end_time": "2023-01-27T15:25:28.564000+09:00",
     "start_time": "2023-01-27T06:25:09.597Z"
    }
   },
   "outputs": [
    {
     "data": {
      "text/plain": [
       "4-element Vector{Int64}:\n",
       " 4176\n",
       " 1971\n",
       " 1920\n",
       " 1933"
      ]
     },
     "execution_count": 62,
     "metadata": {},
     "output_type": "execute_result"
    }
   ],
   "source": [
    "tidhist"
   ]
  },
  {
   "cell_type": "code",
   "execution_count": 63,
   "id": "7ea2db9c",
   "metadata": {
    "ExecuteTime": {
     "end_time": "2023-01-27T15:25:28.564000+09:00",
     "start_time": "2023-01-27T06:25:09.600Z"
    }
   },
   "outputs": [],
   "source": [
    "tidhist = zeros(Int, Threads.nthreads());"
   ]
  },
  {
   "cell_type": "code",
   "execution_count": 64,
   "id": "5453b01d",
   "metadata": {
    "ExecuteTime": {
     "end_time": "2023-01-27T15:25:28.969000+09:00",
     "start_time": "2023-01-27T06:25:09.602Z"
    }
   },
   "outputs": [
    {
     "name": "stdout",
     "output_type": "stream",
     "text": [
      "  0.384014 seconds (94.44 k allocations: 3.683 MiB, 8.70% compilation time)\n"
     ]
    }
   ],
   "source": [
    "@time begin\n",
    "    chnl = Channel{Int}() do chnl\n",
    "        for i=1:10000\n",
    "            put!(chnl, i)\n",
    "        end\n",
    "    end\n",
    "    Threads.foreach(chnl, schedule=Threads.StaticSchedule()) do i\n",
    "        fib(rand(15:25))  # 毎回わずかに異なる負荷の処理が実行される例\n",
    "        tidhist[Threads.threadid()] += 1\n",
    "    end\n",
    "end"
   ]
  },
  {
   "cell_type": "code",
   "execution_count": 65,
   "id": "acd41785",
   "metadata": {
    "ExecuteTime": {
     "end_time": "2023-01-27T15:25:28.970000+09:00",
     "start_time": "2023-01-27T06:25:09.605Z"
    }
   },
   "outputs": [
    {
     "data": {
      "text/plain": [
       "4-element Vector{Int64}:\n",
       " 4063\n",
       " 1960\n",
       " 1994\n",
       " 1983"
      ]
     },
     "execution_count": 65,
     "metadata": {},
     "output_type": "execute_result"
    }
   ],
   "source": [
    "tidhist"
   ]
  },
  {
   "cell_type": "markdown",
   "id": "356e8144",
   "metadata": {},
   "source": [
    "### 9-2-3. 実用例"
   ]
  },
  {
   "cell_type": "markdown",
   "id": "5ce8be8b",
   "metadata": {},
   "source": [
    "#### ソートアルゴリズムの並列化"
   ]
  },
  {
   "cell_type": "markdown",
   "id": "a7bbc607",
   "metadata": {},
   "source": [
    "#### コード9-40. バイトニックソートアルゴリズム（シングルスレッド版、コード5-49. 再掲）"
   ]
  },
  {
   "cell_type": "markdown",
   "id": "4635402b",
   "metadata": {},
   "source": [
    "```julia\n",
    "module BitonicSorterST\n",
    "\n",
    "# ref: https://en.wikipedia.org/wiki/Bitonic_sorter\n",
    "\n",
    "export BitonicSort\n",
    "\n",
    "using Base.Order: Ordering, lt\n",
    "\n",
    "struct BitonicSortAlg <: Base.Sort.Algorithm end\n",
    "const BitonicSort = BitonicSortAlg()\n",
    "\n",
    "function Base.sort!(x::AbstractVector, lo::Integer, hi::Integer, ::BitonicSortAlg, o::Ordering)\n",
    "    lo ≥ hi && return x\n",
    "\n",
    "    fullsize::Int = hi - lo\n",
    "    d = sizeof(Int) * 8 - leading_zeros(fullsize - 1)  # == ceil(Int, log(2, fullsize))\n",
    "\n",
    "    for p = 1:d, q = 1:p\n",
    "        _sort_kernel!(x, lo, hi, p, q, o)\n",
    "    end\n",
    "    return x\n",
    "end\n",
    "\n",
    "function _sort_kernel!(x::AbstractVector, lo, hi, p, q, o)\n",
    "    # @assert p ≥ q\n",
    "    halfsize_1 = Int(hi - lo) >> 0x01\n",
    "    d = 1 << UInt(p - q)\n",
    "    for s = 0:halfsize_1\n",
    "        ioff = s & (d - 1)\n",
    "        seg = lo + (s ⊻ ioff) << 0x01\n",
    "        joff = q == 1 ? (2d - ioff - 1) : ioff + d\n",
    "        i = seg + ioff\n",
    "        j = seg + joff\n",
    "        if !lt(o, x[i], x[j])\n",
    "            x[i], x[j] = x[j], x[i]\n",
    "        end\n",
    "    end\n",
    "end\n",
    "\n",
    "end # module\n",
    "```"
   ]
  },
  {
   "cell_type": "code",
   "execution_count": 66,
   "id": "8a92f3db",
   "metadata": {
    "ExecuteTime": {
     "end_time": "2023-01-27T15:25:29.154000+09:00",
     "start_time": "2023-01-27T06:25:09.611Z"
    }
   },
   "outputs": [
    {
     "data": {
      "text/plain": [
       "Main.BitonicSorterST"
      ]
     },
     "execution_count": 66,
     "metadata": {},
     "output_type": "execute_result"
    }
   ],
   "source": [
    "include(\"../Chapter5/BitonicSorterST.jl\")"
   ]
  },
  {
   "cell_type": "markdown",
   "id": "22f5d592",
   "metadata": {},
   "source": [
    "#### コード9-41. バイトニックソートアルゴリズム（マルチスレッド版）"
   ]
  },
  {
   "cell_type": "markdown",
   "id": "4a8386eb",
   "metadata": {},
   "source": [
    "```julia\n",
    "module BitonicSorterMT\n",
    "\n",
    "export BitonicSortMT\n",
    "\n",
    "using Base.Order: Ordering, lt\n",
    "\n",
    "struct BitonicSortMTAlg <: Base.Sort.Algorithm end\n",
    "const BitonicSortMT = BitonicSortMTAlg()\n",
    "\n",
    "function Base.sort!(x::AbstractVector, lo::Integer, hi::Integer, ::BitonicSortMTAlg, o::Ordering)\n",
    "    lo ≥ hi && return x\n",
    "\n",
    "    fullsize::Int = hi - lo\n",
    "    d = sizeof(Int) * 8 - leading_zeros(fullsize - 1)  # == ceil(Int, log(2, fullsize))\n",
    "\n",
    "    for p = 1:d, q = 1:p\n",
    "        _sort_kernel!(x, lo, hi, p, q, o)\n",
    "    end\n",
    "    return x\n",
    "end\n",
    "\n",
    "function _sort_kernel!(x::AbstractVector, lo, hi, p, q, o)\n",
    "    # @assert p ≥ q\n",
    "    halfsize_1 = (hi - lo) >> 0x01\n",
    "    d = 1 << UInt(p - q)\n",
    "    Threads.@threads for s = 0:halfsize_1\n",
    "        ioff = s & (d - 1)\n",
    "        seg = lo + (s ⊻ ioff) << 0x01\n",
    "        joff = q == 1 ? (2d - ioff - 1) : ioff + d\n",
    "        i = seg + ioff\n",
    "        j = seg + joff\n",
    "        if !lt(o, x[i], x[j])\n",
    "            x[i], x[j] = x[j], x[i]\n",
    "        end\n",
    "    end\n",
    "end\n",
    "\n",
    "end # module\n",
    "```"
   ]
  },
  {
   "cell_type": "code",
   "execution_count": 67,
   "id": "c91d6e44",
   "metadata": {
    "ExecuteTime": {
     "end_time": "2023-01-27T15:25:29.163000+09:00",
     "start_time": "2023-01-27T06:25:09.615Z"
    }
   },
   "outputs": [
    {
     "data": {
      "text/plain": [
       "Main.BitonicSorterMT"
      ]
     },
     "execution_count": 67,
     "metadata": {},
     "output_type": "execute_result"
    }
   ],
   "source": [
    "include(\"BitonicSorterMT.jl\")"
   ]
  },
  {
   "cell_type": "markdown",
   "id": "e99e06bb",
   "metadata": {},
   "source": [
    "#### コード9-42. バイトニックソートの動作確認・比較"
   ]
  },
  {
   "cell_type": "code",
   "execution_count": 68,
   "id": "7cdf6f19",
   "metadata": {
    "ExecuteTime": {
     "end_time": "2023-01-27T15:25:29.164000+09:00",
     "start_time": "2023-01-27T06:25:09.617Z"
    }
   },
   "outputs": [
    {
     "data": {
      "text/plain": [
       "4"
      ]
     },
     "execution_count": 68,
     "metadata": {},
     "output_type": "execute_result"
    }
   ],
   "source": [
    "Threads.nthreads()"
   ]
  },
  {
   "cell_type": "code",
   "execution_count": 69,
   "id": "367cc0ba",
   "metadata": {
    "ExecuteTime": {
     "end_time": "2023-01-27T15:25:29.164000+09:00",
     "start_time": "2023-01-27T06:25:09.620Z"
    }
   },
   "outputs": [],
   "source": [
    "using .BitonicSorterST, .BitonicSorterMT"
   ]
  },
  {
   "cell_type": "code",
   "execution_count": 70,
   "id": "3df7d14a",
   "metadata": {
    "ExecuteTime": {
     "end_time": "2023-01-27T15:25:29.164000+09:00",
     "start_time": "2023-01-27T06:25:09.622Z"
    }
   },
   "outputs": [],
   "source": [
    "x_org = [10, 30, 11, 20, 4, 330, 21, 110];"
   ]
  },
  {
   "cell_type": "code",
   "execution_count": 71,
   "id": "47c61188",
   "metadata": {
    "ExecuteTime": {
     "end_time": "2023-01-27T15:25:29.169000+09:00",
     "start_time": "2023-01-27T06:25:09.625Z"
    }
   },
   "outputs": [
    {
     "data": {
      "text/plain": [
       "8-element Vector{Int64}:\n",
       "   4\n",
       "  10\n",
       "  11\n",
       "  20\n",
       "  21\n",
       "  30\n",
       " 110\n",
       " 330"
      ]
     },
     "execution_count": 71,
     "metadata": {},
     "output_type": "execute_result"
    }
   ],
   "source": [
    "# デフォルトアルゴリズムでソート\n",
    "sort(x_org)"
   ]
  },
  {
   "cell_type": "code",
   "execution_count": 72,
   "id": "1da7f55e",
   "metadata": {
    "ExecuteTime": {
     "end_time": "2023-01-27T15:25:29.221000+09:00",
     "start_time": "2023-01-27T06:25:09.627Z"
    }
   },
   "outputs": [
    {
     "data": {
      "text/plain": [
       "8-element Vector{Int64}:\n",
       "   4\n",
       "  10\n",
       "  11\n",
       "  20\n",
       "  21\n",
       "  30\n",
       " 110\n",
       " 330"
      ]
     },
     "execution_count": 72,
     "metadata": {},
     "output_type": "execute_result"
    }
   ],
   "source": [
    "# BitonicSortでソート\n",
    "sort(x_org; alg=BitonicSort)"
   ]
  },
  {
   "cell_type": "code",
   "execution_count": 73,
   "id": "f97f9559",
   "metadata": {
    "ExecuteTime": {
     "end_time": "2023-01-27T15:25:29.301000+09:00",
     "start_time": "2023-01-27T06:25:09.630Z"
    }
   },
   "outputs": [
    {
     "data": {
      "text/plain": [
       "8-element Vector{Int64}:\n",
       "   4\n",
       "  10\n",
       "  11\n",
       "  20\n",
       "  21\n",
       "  30\n",
       " 110\n",
       " 330"
      ]
     },
     "execution_count": 73,
     "metadata": {},
     "output_type": "execute_result"
    }
   ],
   "source": [
    "# BitonicSortMTでソート\n",
    "sort(x_org; alg=BitonicSortMT)"
   ]
  },
  {
   "cell_type": "code",
   "execution_count": 74,
   "id": "98b807b3",
   "metadata": {
    "ExecuteTime": {
     "end_time": "2023-01-27T15:25:29.402000+09:00",
     "start_time": "2023-01-27T06:25:09.632Z"
    }
   },
   "outputs": [],
   "source": [
    "x_org_2_16 = rand(Float64, 2^16);"
   ]
  },
  {
   "cell_type": "code",
   "execution_count": 75,
   "id": "08895fda",
   "metadata": {
    "ExecuteTime": {
     "end_time": "2023-01-27T15:25:29.794000+09:00",
     "start_time": "2023-01-27T06:25:09.635Z"
    }
   },
   "outputs": [
    {
     "data": {
      "text/plain": [
       "true"
      ]
     },
     "execution_count": 75,
     "metadata": {},
     "output_type": "execute_result"
    }
   ],
   "source": [
    "sort(x_org_2_16) == \n",
    "sort(x_org_2_16; alg=BitonicSort) ==\n",
    "sort(x_org_2_16; alg=BitonicSortMT)"
   ]
  },
  {
   "cell_type": "code",
   "execution_count": 76,
   "id": "a4d526ee",
   "metadata": {
    "ExecuteTime": {
     "end_time": "2023-01-27T15:25:29.797000+09:00",
     "start_time": "2023-01-27T06:25:09.638Z"
    }
   },
   "outputs": [],
   "source": [
    "using BenchmarkTools"
   ]
  },
  {
   "cell_type": "code",
   "execution_count": 77,
   "id": "b43c360f",
   "metadata": {
    "ExecuteTime": {
     "end_time": "2023-01-27T15:25:41.166000+09:00",
     "start_time": "2023-01-27T06:25:09.641Z"
    }
   },
   "outputs": [
    {
     "name": "stdout",
     "output_type": "stream",
     "text": [
      "  2.987 ms (2 allocations: 512.05 KiB)\n"
     ]
    }
   ],
   "source": [
    "@btime sort($x_org_2_16);"
   ]
  },
  {
   "cell_type": "code",
   "execution_count": 78,
   "id": "153a1853",
   "metadata": {
    "ExecuteTime": {
     "end_time": "2023-01-27T15:25:51.787000+09:00",
     "start_time": "2023-01-27T06:25:09.643Z"
    }
   },
   "outputs": [
    {
     "name": "stdout",
     "output_type": "stream",
     "text": [
      "  10.000 ms (2 allocations: 512.05 KiB)\n"
     ]
    }
   ],
   "source": [
    "@btime sort($x_org_2_16; alg=BitonicSort);"
   ]
  },
  {
   "cell_type": "code",
   "execution_count": 79,
   "id": "00854be1",
   "metadata": {
    "ExecuteTime": {
     "end_time": "2023-01-27T15:26:02.406000+09:00",
     "start_time": "2023-01-27T06:25:09.645Z"
    }
   },
   "outputs": [
    {
     "name": "stdout",
     "output_type": "stream",
     "text": [
      "  3.392 ms (3407 allocations: 811.83 KiB)\n"
     ]
    }
   ],
   "source": [
    "@btime sort($x_org_2_16; alg=BitonicSortMT);"
   ]
  },
  {
   "cell_type": "markdown",
   "id": "b77abe0b",
   "metadata": {},
   "source": [
    "#### `Iterators.map` のマルチスレッド化"
   ]
  },
  {
   "cell_type": "markdown",
   "id": "d23503d7",
   "metadata": {},
   "source": [
    "#### コード9-43. `threaded_map()`（マルチスレッド版 `map()`）の実装例"
   ]
  },
  {
   "cell_type": "code",
   "execution_count": 80,
   "id": "23793633",
   "metadata": {
    "ExecuteTime": {
     "end_time": "2023-01-27T15:26:02.477000+09:00",
     "start_time": "2023-01-27T06:25:09.649Z"
    }
   },
   "outputs": [
    {
     "data": {
      "text/plain": [
       "threaded_map (generic function with 1 method)"
      ]
     },
     "execution_count": 80,
     "metadata": {},
     "output_type": "execute_result"
    }
   ],
   "source": [
    "threaded_map(f) = map(f)"
   ]
  },
  {
   "cell_type": "code",
   "execution_count": 81,
   "id": "92282a01",
   "metadata": {
    "ExecuteTime": {
     "end_time": "2023-01-27T15:26:02.480000+09:00",
     "start_time": "2023-01-27T06:25:09.651Z"
    }
   },
   "outputs": [
    {
     "data": {
      "text/plain": [
       "threaded_map (generic function with 2 methods)"
      ]
     },
     "execution_count": 81,
     "metadata": {},
     "output_type": "execute_result"
    }
   ],
   "source": [
    "function threaded_map(f, itr)\n",
    "    ntasks = Threads.nthreads()\n",
    "    intermediate_channel = Channel{Task}(ntasks; spawn=true) do chnl\n",
    "        for arg in itr\n",
    "            put!(chnl, Threads.@spawn(f(arg)))\n",
    "        end\n",
    "    end\n",
    "    (fetch(task) for task in intermediate_channel)\n",
    "end"
   ]
  },
  {
   "cell_type": "code",
   "execution_count": 82,
   "id": "0310d8a5",
   "metadata": {
    "ExecuteTime": {
     "end_time": "2023-01-27T15:26:02.482000+09:00",
     "start_time": "2023-01-27T06:25:09.654Z"
    }
   },
   "outputs": [
    {
     "data": {
      "text/plain": [
       "threaded_map (generic function with 3 methods)"
      ]
     },
     "execution_count": 82,
     "metadata": {},
     "output_type": "execute_result"
    }
   ],
   "source": [
    "function threaded_map(f, itrs...)\n",
    "    ntasks = Threads.nthreads()\n",
    "    intermediate_channel = Channel{Task}(ntasks; spawn=true) do chnl\n",
    "        for args in zip(itrs...)\n",
    "            put!(chnl, Threads.@spawn(f(args...)))\n",
    "        end\n",
    "    end\n",
    "    (fetch(task) for task in intermediate_channel)\n",
    "end"
   ]
  },
  {
   "cell_type": "markdown",
   "id": "babb61b4",
   "metadata": {},
   "source": [
    "#### コード9-44. `threaded_map()`（マルチスレッド版 `map()`）の動作確認例"
   ]
  },
  {
   "cell_type": "code",
   "execution_count": 83,
   "id": "747cedd4",
   "metadata": {
    "ExecuteTime": {
     "end_time": "2023-01-27T15:26:02.483000+09:00",
     "start_time": "2023-01-27T06:25:09.658Z"
    }
   },
   "outputs": [
    {
     "data": {
      "text/plain": [
       "4"
      ]
     },
     "execution_count": 83,
     "metadata": {},
     "output_type": "execute_result"
    }
   ],
   "source": [
    "Threads.nthreads()"
   ]
  },
  {
   "cell_type": "code",
   "execution_count": 84,
   "id": "b97089ed",
   "metadata": {
    "ExecuteTime": {
     "end_time": "2023-01-27T15:26:02.530000+09:00",
     "start_time": "2023-01-27T06:25:09.660Z"
    }
   },
   "outputs": [
    {
     "data": {
      "text/plain": [
       "3-element Vector{Int64}:\n",
       " 5\n",
       " 7\n",
       " 9"
      ]
     },
     "execution_count": 84,
     "metadata": {},
     "output_type": "execute_result"
    }
   ],
   "source": [
    "map(+, 1:3, 4:6)"
   ]
  },
  {
   "cell_type": "code",
   "execution_count": 85,
   "id": "93756f8f",
   "metadata": {
    "ExecuteTime": {
     "end_time": "2023-01-27T15:26:02.694000+09:00",
     "start_time": "2023-01-27T06:25:09.663Z"
    }
   },
   "outputs": [
    {
     "data": {
      "text/plain": [
       "3-element Vector{Int64}:\n",
       " 5\n",
       " 7\n",
       " 9"
      ]
     },
     "execution_count": 85,
     "metadata": {},
     "output_type": "execute_result"
    }
   ],
   "source": [
    "collect(threaded_map(+, 1:3, 4:6))  # 結果（要素順序）も同じであることにも注目"
   ]
  },
  {
   "cell_type": "code",
   "execution_count": 86,
   "id": "bc146d72",
   "metadata": {
    "ExecuteTime": {
     "end_time": "2023-01-27T15:26:02.695000+09:00",
     "start_time": "2023-01-27T06:25:09.666Z"
    }
   },
   "outputs": [
    {
     "data": {
      "text/plain": [
       "fib (generic function with 1 method)"
      ]
     },
     "execution_count": 86,
     "metadata": {},
     "output_type": "execute_result"
    }
   ],
   "source": [
    "function fib(n)\n",
    "    if n ≤ 1\n",
    "        n\n",
    "    else\n",
    "        fib(n - 2) + fib(n - 1)\n",
    "    end\n",
    "end"
   ]
  },
  {
   "cell_type": "code",
   "execution_count": 87,
   "id": "d298857f",
   "metadata": {
    "ExecuteTime": {
     "end_time": "2023-01-27T15:26:03.790000+09:00",
     "start_time": "2023-01-27T06:25:09.669Z"
    }
   },
   "outputs": [
    {
     "data": {
      "text/plain": [
       "20-element Vector{Int64}:\n",
       " 102334155\n",
       "  63245986\n",
       "  39088169\n",
       "  24157817\n",
       "  14930352\n",
       "   9227465\n",
       "   5702887\n",
       "   3524578\n",
       "   2178309\n",
       "   1346269\n",
       "    832040\n",
       "    514229\n",
       "    317811\n",
       "    196418\n",
       "    121393\n",
       "     75025\n",
       "     46368\n",
       "     28657\n",
       "     17711\n",
       "     10946"
      ]
     },
     "execution_count": 87,
     "metadata": {},
     "output_type": "execute_result"
    }
   ],
   "source": [
    "map(fib, 40:-1:21)"
   ]
  },
  {
   "cell_type": "code",
   "execution_count": 88,
   "id": "27ff5256",
   "metadata": {
    "ExecuteTime": {
     "end_time": "2023-01-27T15:26:04.298000+09:00",
     "start_time": "2023-01-27T06:25:09.672Z"
    }
   },
   "outputs": [
    {
     "data": {
      "text/plain": [
       "20-element Vector{Int64}:\n",
       " 102334155\n",
       "  63245986\n",
       "  39088169\n",
       "  24157817\n",
       "  14930352\n",
       "   9227465\n",
       "   5702887\n",
       "   3524578\n",
       "   2178309\n",
       "   1346269\n",
       "    832040\n",
       "    514229\n",
       "    317811\n",
       "    196418\n",
       "    121393\n",
       "     75025\n",
       "     46368\n",
       "     28657\n",
       "     17711\n",
       "     10946"
      ]
     },
     "execution_count": 88,
     "metadata": {},
     "output_type": "execute_result"
    }
   ],
   "source": [
    "collect(threaded_map(fib, 40:-1:21))"
   ]
  },
  {
   "cell_type": "code",
   "execution_count": 89,
   "id": "cbbeb6ac",
   "metadata": {
    "ExecuteTime": {
     "end_time": "2023-01-27T15:26:05.374000+09:00",
     "start_time": "2023-01-27T06:25:09.674Z"
    }
   },
   "outputs": [
    {
     "name": "stdout",
     "output_type": "stream",
     "text": [
      "  1.055855 seconds (1 allocation: 224 bytes)\n"
     ]
    }
   ],
   "source": [
    "@time map(fib, 40:-1:21);"
   ]
  },
  {
   "cell_type": "code",
   "execution_count": 90,
   "id": "4690589d",
   "metadata": {
    "ExecuteTime": {
     "end_time": "2023-01-27T15:26:05.819000+09:00",
     "start_time": "2023-01-27T06:25:09.677Z"
    }
   },
   "outputs": [
    {
     "name": "stdout",
     "output_type": "stream",
     "text": [
      "  0.430626 seconds (199 allocations: 12.656 KiB)\n"
     ]
    }
   ],
   "source": [
    "@time collect(threaded_map(fib, 40:-1:21));"
   ]
  },
  {
   "cell_type": "markdown",
   "id": "0ebb5790",
   "metadata": {},
   "source": [
    "#### コード9-45. `threaded_map_unordered()`の例"
   ]
  },
  {
   "cell_type": "code",
   "execution_count": 91,
   "id": "5013bf34",
   "metadata": {
    "ExecuteTime": {
     "end_time": "2023-01-27T15:26:05.895000+09:00",
     "start_time": "2023-01-27T06:25:09.681Z"
    }
   },
   "outputs": [
    {
     "data": {
      "text/plain": [
       "threaded_map_unordered (generic function with 1 method)"
      ]
     },
     "execution_count": 91,
     "metadata": {},
     "output_type": "execute_result"
    }
   ],
   "source": [
    "# 簡単のためイテレータを1つだけ受け取るもののみ実装\n",
    "function threaded_map_unordered(f, itr)\n",
    "    input_channel = Channel(spawn=true) do chnl\n",
    "        for args in itr\n",
    "            put!(chnl, args)\n",
    "        end\n",
    "    end\n",
    "    ntasks = Threads.nthreads()\n",
    "    Channel(ntasks; spawn=true) do chnl\n",
    "        Threads.foreach(input_channel; ntasks=ntasks) do arg\n",
    "            result = f(arg)\n",
    "            put!(chnl, result)\n",
    "        end\n",
    "    end\n",
    "end"
   ]
  },
  {
   "cell_type": "code",
   "execution_count": 92,
   "id": "e4e38d57",
   "metadata": {
    "ExecuteTime": {
     "end_time": "2023-01-27T15:26:06.759000+09:00",
     "start_time": "2023-01-27T06:25:09.683Z"
    }
   },
   "outputs": [
    {
     "data": {
      "text/plain": [
       "20-element Vector{Any}:\n",
       "  24157817\n",
       "  14930352\n",
       "  39088169\n",
       "   5702887\n",
       "   9227465\n",
       "   3524578\n",
       "   2178309\n",
       "   1346269\n",
       "    514229\n",
       "    832040\n",
       "    317811\n",
       "    196418\n",
       "    121393\n",
       "     46368\n",
       "     75025\n",
       "     28657\n",
       "     17711\n",
       "     10946\n",
       "  63245986\n",
       " 102334155"
      ]
     },
     "execution_count": 92,
     "metadata": {},
     "output_type": "execute_result"
    }
   ],
   "source": [
    "collect(threaded_map_unordered(fib, 40:-1:21))  # 結果は順不同"
   ]
  },
  {
   "cell_type": "code",
   "execution_count": 93,
   "id": "fc574964",
   "metadata": {
    "ExecuteTime": {
     "end_time": "2023-01-27T15:26:07.189000+09:00",
     "start_time": "2023-01-27T06:25:09.686Z"
    }
   },
   "outputs": [
    {
     "name": "stdout",
     "output_type": "stream",
     "text": [
      "  0.411094 seconds (419 allocations: 20.562 KiB)\n"
     ]
    }
   ],
   "source": [
    "@time collect(threaded_map_unordered(fib, 40:-1:21));"
   ]
  },
  {
   "cell_type": "markdown",
   "id": "2e7d67a3",
   "metadata": {},
   "source": [
    "### 9-2-4. スレッドセーフ"
   ]
  },
  {
   "cell_type": "markdown",
   "id": "86af127c",
   "metadata": {},
   "source": [
    "#### コード9-46. スレッドアンセーフの例(1)：マルチスレッドでのフィールド同時更新"
   ]
  },
  {
   "cell_type": "code",
   "execution_count": 94,
   "id": "50d36fed",
   "metadata": {
    "ExecuteTime": {
     "end_time": "2023-01-27T15:26:07.190000+09:00",
     "start_time": "2023-01-27T06:25:09.690Z"
    }
   },
   "outputs": [
    {
     "data": {
      "text/plain": [
       "4"
      ]
     },
     "execution_count": 94,
     "metadata": {},
     "output_type": "execute_result"
    }
   ],
   "source": [
    "Threads.nthreads()"
   ]
  },
  {
   "cell_type": "code",
   "execution_count": 95,
   "id": "1c4be4df",
   "metadata": {
    "ExecuteTime": {
     "end_time": "2023-01-27T15:26:07.191000+09:00",
     "start_time": "2023-01-27T06:25:09.693Z"
    }
   },
   "outputs": [],
   "source": [
    "mutable struct UnsafeCounter\n",
    "    count::Int\n",
    "    UnsafeCounter() = new(0)\n",
    "end"
   ]
  },
  {
   "cell_type": "code",
   "execution_count": 96,
   "id": "0ea685a0",
   "metadata": {
    "ExecuteTime": {
     "end_time": "2023-01-27T15:26:07.194000+09:00",
     "start_time": "2023-01-27T06:25:09.695Z"
    }
   },
   "outputs": [],
   "source": [
    "counter = UnsafeCounter();"
   ]
  },
  {
   "cell_type": "code",
   "execution_count": 97,
   "id": "7050f502",
   "metadata": {
    "ExecuteTime": {
     "end_time": "2023-01-27T15:26:07.205000+09:00",
     "start_time": "2023-01-27T06:25:09.697Z"
    }
   },
   "outputs": [],
   "source": [
    "for n=1:1000\n",
    "    counter.count += 1\n",
    "end"
   ]
  },
  {
   "cell_type": "code",
   "execution_count": 98,
   "id": "0314e8e6",
   "metadata": {
    "ExecuteTime": {
     "end_time": "2023-01-27T15:26:07.205000+09:00",
     "start_time": "2023-01-27T06:25:09.700Z"
    }
   },
   "outputs": [
    {
     "data": {
      "text/plain": [
       "1000"
      ]
     },
     "execution_count": 98,
     "metadata": {},
     "output_type": "execute_result"
    }
   ],
   "source": [
    "counter.count\n",
    "# ↓これは期待する結果"
   ]
  },
  {
   "cell_type": "code",
   "execution_count": 99,
   "id": "98cfe69a",
   "metadata": {
    "ExecuteTime": {
     "end_time": "2023-01-27T15:26:07.206000+09:00",
     "start_time": "2023-01-27T06:25:09.703Z"
    }
   },
   "outputs": [],
   "source": [
    "counter = UnsafeCounter();"
   ]
  },
  {
   "cell_type": "code",
   "execution_count": 100,
   "id": "b2c726ed",
   "metadata": {
    "ExecuteTime": {
     "end_time": "2023-01-27T15:26:07.257000+09:00",
     "start_time": "2023-01-27T06:25:09.706Z"
    }
   },
   "outputs": [],
   "source": [
    "Threads.@threads for n=1:1000\n",
    "    counter.count += 1\n",
    "end"
   ]
  },
  {
   "cell_type": "code",
   "execution_count": 101,
   "id": "59c69db1",
   "metadata": {
    "ExecuteTime": {
     "end_time": "2023-01-27T15:26:07.257000+09:00",
     "start_time": "2023-01-27T06:25:09.709Z"
    }
   },
   "outputs": [
    {
     "data": {
      "text/plain": [
       "374"
      ]
     },
     "execution_count": 101,
     "metadata": {},
     "output_type": "execute_result"
    }
   ],
   "source": [
    "counter.count\n",
    "# ↓期待する結果よりも少ない値になってしまう"
   ]
  },
  {
   "cell_type": "markdown",
   "id": "5efe4d08",
   "metadata": {},
   "source": [
    "#### `Threads.@atomic` マクロ（Julia v1.7 以降のみ）"
   ]
  },
  {
   "cell_type": "markdown",
   "id": "6235d5ea",
   "metadata": {},
   "source": [
    "#### コード9-47. スレッドセーフの例(1)：`Threads.@atomic` による不可分操作"
   ]
  },
  {
   "cell_type": "code",
   "execution_count": 102,
   "id": "deeb051f",
   "metadata": {
    "ExecuteTime": {
     "end_time": "2023-01-27T15:26:07.268000+09:00",
     "start_time": "2023-01-27T06:25:09.714Z"
    }
   },
   "outputs": [],
   "source": [
    "@assert VERSION ≥ v\"1.7\"\n",
    "# ※注意：ここでエラーが発生するなら以降のコードは（一部）動作しません。"
   ]
  },
  {
   "cell_type": "code",
   "execution_count": 103,
   "id": "f0d30779",
   "metadata": {
    "ExecuteTime": {
     "end_time": "2023-01-27T15:26:07.268000+09:00",
     "start_time": "2023-01-27T06:25:09.718Z"
    }
   },
   "outputs": [
    {
     "data": {
      "text/plain": [
       "4"
      ]
     },
     "execution_count": 103,
     "metadata": {},
     "output_type": "execute_result"
    }
   ],
   "source": [
    "Threads.nthreads()"
   ]
  },
  {
   "cell_type": "code",
   "execution_count": 104,
   "id": "b740a175",
   "metadata": {
    "ExecuteTime": {
     "end_time": "2023-01-27T15:26:07.274000+09:00",
     "start_time": "2023-01-27T06:25:09.721Z"
    }
   },
   "outputs": [],
   "source": [
    "mutable struct AtomicCounter\n",
    "    Threads.@atomic count::Int\n",
    "    AtomicCounter() = new(0)\n",
    "end"
   ]
  },
  {
   "cell_type": "code",
   "execution_count": 105,
   "id": "9bd327e4",
   "metadata": {
    "ExecuteTime": {
     "end_time": "2023-01-27T15:26:07.276000+09:00",
     "start_time": "2023-01-27T06:25:09.725Z"
    }
   },
   "outputs": [],
   "source": [
    "counter = AtomicCounter();"
   ]
  },
  {
   "cell_type": "code",
   "execution_count": 106,
   "id": "8b046e2b",
   "metadata": {
    "ExecuteTime": {
     "end_time": "2023-01-27T15:26:07.327000+09:00",
     "start_time": "2023-01-27T06:25:09.728Z"
    }
   },
   "outputs": [],
   "source": [
    "Threads.@threads for n=1:1000\n",
    "    Threads.@atomic counter.count += 1\n",
    "end"
   ]
  },
  {
   "cell_type": "code",
   "execution_count": 107,
   "id": "4ff445ed",
   "metadata": {
    "ExecuteTime": {
     "end_time": "2023-01-27T15:26:07.330000+09:00",
     "start_time": "2023-01-27T06:25:09.730Z"
    }
   },
   "outputs": [
    {
     "data": {
      "text/plain": [
       "1000"
      ]
     },
     "execution_count": 107,
     "metadata": {},
     "output_type": "execute_result"
    }
   ],
   "source": [
    "counter.count"
   ]
  },
  {
   "cell_type": "code",
   "execution_count": 108,
   "id": "65eff1d9",
   "metadata": {
    "ExecuteTime": {
     "end_time": "2023-01-27T15:26:07.330000+09:00",
     "start_time": "2023-01-27T06:25:09.733Z"
    }
   },
   "outputs": [],
   "source": [
    "counter = AtomicCounter();"
   ]
  },
  {
   "cell_type": "code",
   "execution_count": 109,
   "id": "d076ffdc",
   "metadata": {
    "ExecuteTime": {
     "end_time": "2023-01-27T15:26:07.338000+09:00",
     "start_time": "2023-01-27T06:25:09.735Z"
    }
   },
   "outputs": [],
   "source": [
    "for n=1:1000\n",
    "    Threads.@atomic counter.count += 1  # マルチスレッドでなくても `Threads.@atomic` 必須\n",
    "end"
   ]
  },
  {
   "cell_type": "code",
   "execution_count": 110,
   "id": "cf462ca4",
   "metadata": {
    "ExecuteTime": {
     "end_time": "2023-01-27T15:26:07.339000+09:00",
     "start_time": "2023-01-27T06:25:09.737Z"
    }
   },
   "outputs": [
    {
     "data": {
      "text/plain": [
       "1000"
      ]
     },
     "execution_count": 110,
     "metadata": {},
     "output_type": "execute_result"
    }
   ],
   "source": [
    "counter.count"
   ]
  },
  {
   "cell_type": "markdown",
   "id": "74e7d7dc",
   "metadata": {},
   "source": [
    "#### ロック機構による排他制御(1)"
   ]
  },
  {
   "cell_type": "markdown",
   "id": "223260ec",
   "metadata": {},
   "source": [
    "#### コード9-48. スレッドセーフの例(2)：`Threads.SpinLock` による排他制御"
   ]
  },
  {
   "cell_type": "code",
   "execution_count": 111,
   "id": "7b850332",
   "metadata": {
    "ExecuteTime": {
     "end_time": "2023-01-27T15:26:07.339000+09:00",
     "start_time": "2023-01-27T06:25:09.741Z"
    }
   },
   "outputs": [
    {
     "data": {
      "text/plain": [
       "4"
      ]
     },
     "execution_count": 111,
     "metadata": {},
     "output_type": "execute_result"
    }
   ],
   "source": [
    "Threads.nthreads()"
   ]
  },
  {
   "cell_type": "code",
   "execution_count": 112,
   "id": "3ae4647d",
   "metadata": {
    "ExecuteTime": {
     "end_time": "2023-01-27T15:26:07.340000+09:00",
     "start_time": "2023-01-27T06:25:09.743Z"
    }
   },
   "outputs": [],
   "source": [
    "mutable struct UnsafeCounter\n",
    "    count::Int\n",
    "    UnsafeCounter() = new(0)\n",
    "end"
   ]
  },
  {
   "cell_type": "code",
   "execution_count": 113,
   "id": "dcc29a5f",
   "metadata": {
    "ExecuteTime": {
     "end_time": "2023-01-27T15:26:07.343000+09:00",
     "start_time": "2023-01-27T06:25:09.746Z"
    }
   },
   "outputs": [],
   "source": [
    "counter = UnsafeCounter();"
   ]
  },
  {
   "cell_type": "code",
   "execution_count": 114,
   "id": "8b0fbc34",
   "metadata": {
    "ExecuteTime": {
     "end_time": "2023-01-27T15:26:07.349000+09:00",
     "start_time": "2023-01-27T06:25:09.749Z"
    }
   },
   "outputs": [],
   "source": [
    "for n=1:1000\n",
    "    counter.count += 1\n",
    "end"
   ]
  },
  {
   "cell_type": "code",
   "execution_count": 115,
   "id": "12439064",
   "metadata": {
    "ExecuteTime": {
     "end_time": "2023-01-27T15:26:07.349000+09:00",
     "start_time": "2023-01-27T06:25:09.752Z"
    }
   },
   "outputs": [
    {
     "data": {
      "text/plain": [
       "1000"
      ]
     },
     "execution_count": 115,
     "metadata": {},
     "output_type": "execute_result"
    }
   ],
   "source": [
    "counter.count"
   ]
  },
  {
   "cell_type": "code",
   "execution_count": 116,
   "id": "0148392f",
   "metadata": {
    "ExecuteTime": {
     "end_time": "2023-01-27T15:26:07.350000+09:00",
     "start_time": "2023-01-27T06:25:09.754Z"
    }
   },
   "outputs": [],
   "source": [
    "lck = Threads.SpinLock();"
   ]
  },
  {
   "cell_type": "code",
   "execution_count": 117,
   "id": "7631035f",
   "metadata": {
    "ExecuteTime": {
     "end_time": "2023-01-27T15:26:07.350000+09:00",
     "start_time": "2023-01-27T06:25:09.756Z"
    }
   },
   "outputs": [],
   "source": [
    "counter = UnsafeCounter();"
   ]
  },
  {
   "cell_type": "code",
   "execution_count": 118,
   "id": "b82ccd29",
   "metadata": {
    "ExecuteTime": {
     "end_time": "2023-01-27T15:26:07.407000+09:00",
     "start_time": "2023-01-27T06:25:09.759Z"
    }
   },
   "outputs": [],
   "source": [
    "Threads.@threads for n=1:1000\n",
    "    lock(lck)\n",
    "    try\n",
    "        counter.count += 1\n",
    "    finally\n",
    "        unlock(lck)\n",
    "    end\n",
    "end"
   ]
  },
  {
   "cell_type": "code",
   "execution_count": 119,
   "id": "8283034f",
   "metadata": {
    "ExecuteTime": {
     "end_time": "2023-01-27T15:26:07.408000+09:00",
     "start_time": "2023-01-27T06:25:09.762Z"
    }
   },
   "outputs": [
    {
     "data": {
      "text/plain": [
       "1000"
      ]
     },
     "execution_count": 119,
     "metadata": {},
     "output_type": "execute_result"
    }
   ],
   "source": [
    "counter.count"
   ]
  },
  {
   "cell_type": "code",
   "execution_count": 120,
   "id": "d8337ee1",
   "metadata": {
    "ExecuteTime": {
     "end_time": "2023-01-27T15:26:07.408000+09:00",
     "start_time": "2023-01-27T06:25:09.765Z"
    }
   },
   "outputs": [],
   "source": [
    "lck = Threads.SpinLock();"
   ]
  },
  {
   "cell_type": "code",
   "execution_count": 121,
   "id": "b828ef12",
   "metadata": {
    "ExecuteTime": {
     "end_time": "2023-01-27T15:26:07.409000+09:00",
     "start_time": "2023-01-27T06:25:09.767Z"
    }
   },
   "outputs": [],
   "source": [
    "counter = UnsafeCounter();"
   ]
  },
  {
   "cell_type": "code",
   "execution_count": 122,
   "id": "4f191b41",
   "metadata": {
    "ExecuteTime": {
     "end_time": "2023-01-27T15:26:07.470000+09:00",
     "start_time": "2023-01-27T06:25:09.770Z"
    }
   },
   "outputs": [],
   "source": [
    "Threads.@threads for n=1:1000\n",
    "    lock(lck) do\n",
    "        counter.count += 1\n",
    "    end\n",
    "end"
   ]
  },
  {
   "cell_type": "code",
   "execution_count": 123,
   "id": "eb4c8d8f",
   "metadata": {
    "ExecuteTime": {
     "end_time": "2023-01-27T15:26:07.471000+09:00",
     "start_time": "2023-01-27T06:25:09.772Z"
    }
   },
   "outputs": [
    {
     "data": {
      "text/plain": [
       "1000"
      ]
     },
     "execution_count": 123,
     "metadata": {},
     "output_type": "execute_result"
    }
   ],
   "source": [
    "counter.count"
   ]
  },
  {
   "cell_type": "code",
   "execution_count": 124,
   "id": "66346d1c",
   "metadata": {
    "ExecuteTime": {
     "end_time": "2023-01-27T15:26:07.471000+09:00",
     "start_time": "2023-01-27T06:25:09.778Z"
    }
   },
   "outputs": [],
   "source": [
    "lck = Threads.SpinLock();"
   ]
  },
  {
   "cell_type": "code",
   "execution_count": 125,
   "id": "c73f38d8",
   "metadata": {
    "ExecuteTime": {
     "end_time": "2023-01-27T15:26:07.471000+09:00",
     "start_time": "2023-01-27T06:25:09.787Z"
    }
   },
   "outputs": [],
   "source": [
    "counter = UnsafeCounter();"
   ]
  },
  {
   "cell_type": "code",
   "execution_count": 126,
   "id": "485eb8a6",
   "metadata": {
    "ExecuteTime": {
     "end_time": "2023-01-27T15:26:07.528000+09:00",
     "start_time": "2023-01-27T06:25:09.791Z"
    }
   },
   "outputs": [],
   "source": [
    "Threads.@threads for n=1:1000\n",
    "    # ↓ Julia v1.7 以降は単に `@lock` でもOK\n",
    "    Base.@lock lck counter.count += 1\n",
    "end"
   ]
  },
  {
   "cell_type": "code",
   "execution_count": 127,
   "id": "e967b1fc",
   "metadata": {
    "ExecuteTime": {
     "end_time": "2023-01-27T15:26:07.529000+09:00",
     "start_time": "2023-01-27T06:25:09.795Z"
    }
   },
   "outputs": [
    {
     "data": {
      "text/plain": [
       "1000"
      ]
     },
     "execution_count": 127,
     "metadata": {},
     "output_type": "execute_result"
    }
   ],
   "source": [
    "counter.count"
   ]
  },
  {
   "cell_type": "markdown",
   "id": "0282865f",
   "metadata": {},
   "source": [
    "#### コード9-49. `Threads.SpinLock` を利用したスレッドセーフなカウンタ"
   ]
  },
  {
   "cell_type": "code",
   "execution_count": 128,
   "id": "8ec1c9db",
   "metadata": {
    "ExecuteTime": {
     "end_time": "2023-01-27T15:26:07.530000+09:00",
     "start_time": "2023-01-27T06:25:09.800Z"
    }
   },
   "outputs": [],
   "source": [
    "mutable struct SpinLockCounter\n",
    "    count::Int\n",
    "    lock::Threads.SpinLock\n",
    "    SpinLockCounter() = new(0, Threads.SpinLock())\n",
    "end"
   ]
  },
  {
   "cell_type": "code",
   "execution_count": 129,
   "id": "51520b9f",
   "metadata": {
    "ExecuteTime": {
     "end_time": "2023-01-27T15:26:07.534000+09:00",
     "start_time": "2023-01-27T06:25:09.803Z"
    }
   },
   "outputs": [],
   "source": [
    "next!(counter::SpinLockCounter) = \n",
    "    Base.@lock counter.lock counter.count += 1\n",
    "\n",
    "counter = SpinLockCounter();"
   ]
  },
  {
   "cell_type": "code",
   "execution_count": 130,
   "id": "e0465e8e",
   "metadata": {
    "ExecuteTime": {
     "end_time": "2023-01-27T15:26:07.591000+09:00",
     "start_time": "2023-01-27T06:25:09.806Z"
    }
   },
   "outputs": [],
   "source": [
    "Threads.@threads for n=1:1000\n",
    "    next!(counter)\n",
    "end"
   ]
  },
  {
   "cell_type": "code",
   "execution_count": 131,
   "id": "a16178f2",
   "metadata": {
    "ExecuteTime": {
     "end_time": "2023-01-27T15:26:07.594000+09:00",
     "start_time": "2023-01-27T06:25:09.812Z"
    }
   },
   "outputs": [
    {
     "data": {
      "text/plain": [
       "1000"
      ]
     },
     "execution_count": 131,
     "metadata": {},
     "output_type": "execute_result"
    }
   ],
   "source": [
    "counter.count"
   ]
  },
  {
   "cell_type": "markdown",
   "id": "bcb2c68e",
   "metadata": {},
   "source": [
    "#### ロック機構による排他制御(2)"
   ]
  },
  {
   "cell_type": "markdown",
   "id": "d2d96c12",
   "metadata": {},
   "source": [
    "#### コード9-50. スレッドアンセーフの例(2)：再帰を伴う辞書の更新"
   ]
  },
  {
   "cell_type": "code",
   "execution_count": 132,
   "id": "ec6ce8e9",
   "metadata": {
    "ExecuteTime": {
     "end_time": "2023-01-27T15:26:07.668000+09:00",
     "start_time": "2023-01-27T06:25:09.816Z"
    }
   },
   "outputs": [
    {
     "data": {
      "text/plain": [
       "update! (generic function with 1 method)"
      ]
     },
     "execution_count": 132,
     "metadata": {},
     "output_type": "execute_result"
    }
   ],
   "source": [
    "function update!(d::AbstractDict, n, counter::SpinLockCounter)\n",
    "    get!(d, n) do\n",
    "        # println(\"recursive call $(n)->$(n-1) (threadid: $(Threads.threadid()))\")\n",
    "        update!(d, n-1, counter)\n",
    "        newcount = next!(counter)\n",
    "        # println(\"(n, count): ($n, $newcount) (threadid: $(Threads.threadid()))\")\n",
    "        newcount\n",
    "    end\n",
    "end"
   ]
  },
  {
   "cell_type": "code",
   "execution_count": 133,
   "id": "791914fb",
   "metadata": {
    "ExecuteTime": {
     "end_time": "2023-01-27T15:26:07.668000+09:00",
     "start_time": "2023-01-27T06:25:09.823Z"
    }
   },
   "outputs": [],
   "source": [
    "using Random"
   ]
  },
  {
   "cell_type": "code",
   "execution_count": 134,
   "id": "03d92b34",
   "metadata": {
    "ExecuteTime": {
     "end_time": "2023-01-27T15:26:07.696000+09:00",
     "start_time": "2023-01-27T06:25:09.847Z"
    }
   },
   "outputs": [
    {
     "data": {
      "text/plain": [
       "10-element Vector{Int64}:\n",
       "  2\n",
       "  5\n",
       "  9\n",
       " 10\n",
       "  1\n",
       "  3\n",
       "  6\n",
       "  7\n",
       "  4\n",
       "  8"
      ]
     },
     "execution_count": 134,
     "metadata": {},
     "output_type": "execute_result"
    }
   ],
   "source": [
    "ps = randperm(10)"
   ]
  },
  {
   "cell_type": "code",
   "execution_count": 135,
   "id": "fd50bcb6",
   "metadata": {
    "ExecuteTime": {
     "end_time": "2023-01-27T15:26:07.703000+09:00",
     "start_time": "2023-01-27T06:25:09.850Z"
    }
   },
   "outputs": [],
   "source": [
    "dict = Dict(0 => 0);"
   ]
  },
  {
   "cell_type": "code",
   "execution_count": 136,
   "id": "937ed678",
   "metadata": {
    "ExecuteTime": {
     "end_time": "2023-01-27T15:26:07.703000+09:00",
     "start_time": "2023-01-27T06:25:09.853Z"
    }
   },
   "outputs": [],
   "source": [
    "counter = SpinLockCounter();"
   ]
  },
  {
   "cell_type": "code",
   "execution_count": 137,
   "id": "75b90314",
   "metadata": {
    "ExecuteTime": {
     "end_time": "2023-01-27T15:26:07.720000+09:00",
     "start_time": "2023-01-27T06:25:09.857Z"
    }
   },
   "outputs": [],
   "source": [
    "for n in ps\n",
    "    update!(dict, n, counter)\n",
    "end"
   ]
  },
  {
   "cell_type": "code",
   "execution_count": 138,
   "id": "416efd02",
   "metadata": {
    "ExecuteTime": {
     "end_time": "2023-01-27T15:26:08.150000+09:00",
     "start_time": "2023-01-27T06:25:09.859Z"
    }
   },
   "outputs": [
    {
     "data": {
      "text/plain": [
       "Dict{Int64, Int64} with 11 entries:\n",
       "  5  => 5\n",
       "  8  => 8\n",
       "  1  => 1\n",
       "  0  => 0\n",
       "  6  => 6\n",
       "  9  => 9\n",
       "  3  => 3\n",
       "  7  => 7\n",
       "  4  => 4\n",
       "  2  => 2\n",
       "  10 => 10"
      ]
     },
     "execution_count": 138,
     "metadata": {},
     "output_type": "execute_result"
    }
   ],
   "source": [
    "dict"
   ]
  },
  {
   "cell_type": "code",
   "execution_count": 139,
   "id": "9f039f71",
   "metadata": {
    "ExecuteTime": {
     "end_time": "2023-01-27T15:26:08.151000+09:00",
     "start_time": "2023-01-27T06:25:09.862Z"
    }
   },
   "outputs": [],
   "source": [
    "dict = Dict(0 => 0);"
   ]
  },
  {
   "cell_type": "code",
   "execution_count": 140,
   "id": "1b0c16f8",
   "metadata": {
    "ExecuteTime": {
     "end_time": "2023-01-27T15:26:08.152000+09:00",
     "start_time": "2023-01-27T06:25:09.864Z"
    }
   },
   "outputs": [],
   "source": [
    "counter = SpinLockCounter();"
   ]
  },
  {
   "cell_type": "code",
   "execution_count": 141,
   "id": "f98b924f",
   "metadata": {
    "ExecuteTime": {
     "end_time": "2023-01-27T15:26:08.210000+09:00",
     "start_time": "2023-01-27T06:25:09.866Z"
    }
   },
   "outputs": [],
   "source": [
    "Threads.@threads for n in ps\n",
    "    update!(dict, n, counter)\n",
    "end"
   ]
  },
  {
   "cell_type": "code",
   "execution_count": 142,
   "id": "d8ea87fc",
   "metadata": {
    "ExecuteTime": {
     "end_time": "2023-01-27T15:26:08.211000+09:00",
     "start_time": "2023-01-27T06:25:09.869Z"
    }
   },
   "outputs": [
    {
     "data": {
      "text/plain": [
       "Dict{Int64, Int64} with 11 entries:\n",
       "  5  => 5\n",
       "  8  => 8\n",
       "  1  => 1\n",
       "  0  => 0\n",
       "  6  => 6\n",
       "  9  => 9\n",
       "  3  => 3\n",
       "  7  => 7\n",
       "  4  => 4\n",
       "  2  => 2\n",
       "  10 => 10"
      ]
     },
     "execution_count": 142,
     "metadata": {},
     "output_type": "execute_result"
    }
   ],
   "source": [
    "dict"
   ]
  },
  {
   "cell_type": "markdown",
   "id": "1b95c93b",
   "metadata": {},
   "source": [
    "#### 仮想コード9-1. コード9-50. のコメントアウトを外して実行"
   ]
  },
  {
   "cell_type": "markdown",
   "id": "c331850c",
   "metadata": {},
   "source": [
    "```julia\n",
    "julia> Threads.@threads for n in ps\n",
    "           update!(dict, n, counter)\n",
    "       end\n",
    "recursive call 5->4 (threadid: 1)\n",
    "recursive call 9->8 (threadid: 2)\n",
    "recursive call 4->3 (threadid: 1)\n",
    "recursive call 2->1 (threadid: 4)\n",
    "recursive call 3->2 (threadid: 1)\n",
    "recursive call 1->0 (threadid: 4)\n",
    "recursive call 2->1 (threadid: 1)\n",
    "(n, count): (1, 1) (threadid: 4)\n",
    "recursive call 8->7 (threadid: 3)\n",
    "  :《中略》\n",
    "(n, count): (7, 14) (threadid: 3)\n",
    "(n, count): (8, 15) (threadid: 3)\n",
    "(n, count): (7, 16) (threadid: 2)\n",
    "(n, count): (8, 17) (threadid: 2)\n",
    "(n, count): (9, 18) (threadid: 2)\n",
    "recursive call 10->9 (threadid: 2)\n",
    "(n, count): (10, 19) (threadid: 2)\n",
    "```"
   ]
  },
  {
   "cell_type": "markdown",
   "id": "e3d2908e",
   "metadata": {},
   "source": [
    "#### コード9-51. スレッドセーフの例(3)：再帰を伴う辞書の更新（`ReentrantLock` 利用）"
   ]
  },
  {
   "cell_type": "code",
   "execution_count": 143,
   "id": "3cde9641",
   "metadata": {
    "ExecuteTime": {
     "end_time": "2023-01-27T15:26:08.214000+09:00",
     "start_time": "2023-01-27T06:25:09.873Z"
    }
   },
   "outputs": [
    {
     "data": {
      "text/plain": [
       "update! (generic function with 2 methods)"
      ]
     },
     "execution_count": 143,
     "metadata": {},
     "output_type": "execute_result"
    }
   ],
   "source": [
    "function update!(d::AbstractDict, n, counter::SpinLockCounter, lck)\n",
    "    lock(lck) do\n",
    "        get!(d, n) do\n",
    "            # println(\"recursive call $(n)->$(n-1) (threadid: $(Threads.threadid()))\")\n",
    "            update!(d, n-1, counter)\n",
    "            newcount = next!(counter)\n",
    "            # println(\"(n, count): ($n, $newcount) (threadid: $(Threads.threadid()))\")\n",
    "            newcount\n",
    "        end\n",
    "    end\n",
    "end"
   ]
  },
  {
   "cell_type": "code",
   "execution_count": 144,
   "id": "25a1430d",
   "metadata": {
    "ExecuteTime": {
     "end_time": "2023-01-27T15:26:08.215000+09:00",
     "start_time": "2023-01-27T06:25:09.876Z"
    }
   },
   "outputs": [
    {
     "data": {
      "text/plain": [
       "10-element Vector{Int64}:\n",
       "  2\n",
       "  5\n",
       "  9\n",
       " 10\n",
       "  1\n",
       "  3\n",
       "  6\n",
       "  7\n",
       "  4\n",
       "  8"
      ]
     },
     "execution_count": 144,
     "metadata": {},
     "output_type": "execute_result"
    }
   ],
   "source": [
    "ps  # 先ほどランダムシャッフルした数列"
   ]
  },
  {
   "cell_type": "code",
   "execution_count": 145,
   "id": "54a6c05c",
   "metadata": {
    "ExecuteTime": {
     "end_time": "2023-01-27T15:26:08.215000+09:00",
     "start_time": "2023-01-27T06:25:09.879Z"
    }
   },
   "outputs": [],
   "source": [
    "dict = Dict(0 => 0);"
   ]
  },
  {
   "cell_type": "code",
   "execution_count": 146,
   "id": "d2ef8213",
   "metadata": {
    "ExecuteTime": {
     "end_time": "2023-01-27T15:26:08.216000+09:00",
     "start_time": "2023-01-27T06:25:09.881Z"
    }
   },
   "outputs": [],
   "source": [
    "counter = SpinLockCounter();"
   ]
  },
  {
   "cell_type": "code",
   "execution_count": 147,
   "id": "94fa19d7",
   "metadata": {
    "ExecuteTime": {
     "end_time": "2023-01-27T15:26:08.702000+09:00",
     "start_time": "2023-01-27T06:25:09.883Z"
    }
   },
   "outputs": [
    {
     "data": {
      "text/plain": [
       "ReentrantLock(nothing, 0x00000000, 0x00, Base.GenericCondition{Base.Threads.SpinLock}(Base.InvasiveLinkedList{Task}(nothing, nothing), Base.Threads.SpinLock(0)), (0, 139681948471808, 139681948472688))"
      ]
     },
     "execution_count": 147,
     "metadata": {},
     "output_type": "execute_result"
    }
   ],
   "source": [
    "lck = ReentrantLock()  # `Threads.SpinLock()` ではNG"
   ]
  },
  {
   "cell_type": "code",
   "execution_count": 148,
   "id": "d7aa2aa5",
   "metadata": {
    "ExecuteTime": {
     "end_time": "2023-01-27T15:26:08.777000+09:00",
     "start_time": "2023-01-27T06:25:09.886Z"
    }
   },
   "outputs": [],
   "source": [
    "Threads.@threads for n in ps\n",
    "    update!(dict, n, counter, lck)\n",
    "end"
   ]
  },
  {
   "cell_type": "code",
   "execution_count": 149,
   "id": "173af428",
   "metadata": {
    "ExecuteTime": {
     "end_time": "2023-01-27T15:26:08.778000+09:00",
     "start_time": "2023-01-27T06:25:09.888Z"
    }
   },
   "outputs": [
    {
     "data": {
      "text/plain": [
       "Dict{Int64, Int64} with 11 entries:\n",
       "  5  => 5\n",
       "  8  => 8\n",
       "  1  => 1\n",
       "  0  => 0\n",
       "  6  => 6\n",
       "  9  => 9\n",
       "  3  => 3\n",
       "  7  => 7\n",
       "  4  => 4\n",
       "  2  => 2\n",
       "  10 => 10"
      ]
     },
     "execution_count": 149,
     "metadata": {},
     "output_type": "execute_result"
    }
   ],
   "source": [
    "dict"
   ]
  }
 ],
 "metadata": {
  "jupytext": {
   "formats": "ipynb,auto:light"
  },
  "kernelspec": {
   "display_name": "Julia (4 threads) 1.8.5",
   "language": "julia",
   "name": "julia-_4-threads_-1.8"
  },
  "language_info": {
   "file_extension": ".jl",
   "mimetype": "application/julia",
   "name": "julia",
   "version": "1.8.5"
  }
 },
 "nbformat": 4,
 "nbformat_minor": 5
}
