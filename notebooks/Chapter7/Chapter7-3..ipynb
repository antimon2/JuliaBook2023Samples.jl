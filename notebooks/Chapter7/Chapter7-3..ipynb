{
 "cells": [
  {
   "cell_type": "code",
   "execution_count": 1,
   "id": "996e52de",
   "metadata": {
    "ExecuteTime": {
     "end_time": "2023-01-27T14:57:49.225000+09:00",
     "start_time": "2023-01-27T05:57:48.694Z"
    }
   },
   "outputs": [
    {
     "name": "stdout",
     "output_type": "stream",
     "text": [
      "Julia Version 1.8.5\n",
      "Commit 17cfb8e65ea (2023-01-08 06:45 UTC)\n",
      "Platform Info:\n",
      "  OS: Linux (x86_64-linux-gnu)\n",
      "  CPU: 12 × Intel(R) Core(TM) i7-9750H CPU @ 2.60GHz\n",
      "  WORD_SIZE: 64\n",
      "  LIBM: libopenlibm\n",
      "  LLVM: libLLVM-13.0.1 (ORCJIT, skylake)\n",
      "  Threads: 1 on 12 virtual cores\n"
     ]
    }
   ],
   "source": [
    "versioninfo()"
   ]
  },
  {
   "cell_type": "markdown",
   "id": "976ea792",
   "metadata": {},
   "source": [
    "## 7-3. ブロードキャスティングの適用"
   ]
  },
  {
   "cell_type": "markdown",
   "id": "950d48fb",
   "metadata": {},
   "source": [
    "### 実例(1) 配列の派生型"
   ]
  },
  {
   "cell_type": "markdown",
   "id": "fc28c62c",
   "metadata": {},
   "source": [
    "#### コード7-23. `GeometricSequence.jl`（1～18行目、コード6-3(1). 再掲）"
   ]
  },
  {
   "cell_type": "markdown",
   "id": "dadf047b",
   "metadata": {},
   "source": [
    "```julia\n",
    "struct GeometricSequence{T<:Number} <: AbstractVector{T}\n",
    "    a::T\n",
    "    r::T\n",
    "    n::Int\n",
    "end\n",
    "\n",
    "function GeometricSequence(a::T1, r::T2, n::Integer) where {T1<:Number, T2<:Number}\n",
    "    GeometricSequence(promote(a, r)..., Int(n))\n",
    "end\n",
    "\n",
    "Base.length(seq::GeometricSequence) = seq.n\n",
    "Base.size(seq::GeometricSequence) = (seq.n,)\n",
    "Base.getindex(seq::GeometricSequence, index::Integer) = seq.a * seq.r ^ (index - 1)\n",
    "\n",
    "function Base.show(io::IO, seq::GeometricSequence)\n",
    "    print(io, \"GeometricSequence(\", seq.a, \", \", seq.r, \", \", seq.n, \")\")\n",
    "end\n",
    "Base.show(io::IO, ::MIME\"text/plain\", seq::GeometricSequence) = show(io, seq)\n",
    "```"
   ]
  },
  {
   "cell_type": "code",
   "execution_count": 2,
   "id": "99b47c43",
   "metadata": {
    "ExecuteTime": {
     "end_time": "2023-01-27T14:57:49.282000+09:00",
     "start_time": "2023-01-27T05:57:48.696Z"
    }
   },
   "outputs": [],
   "source": [
    "include(\"GeometricSequence.jl\")"
   ]
  },
  {
   "cell_type": "markdown",
   "id": "81dd3839",
   "metadata": {},
   "source": [
    "#### コード7-24. `GeometricSequence` のブロードキャスティング適用確認"
   ]
  },
  {
   "cell_type": "code",
   "execution_count": 3,
   "id": "1832e360",
   "metadata": {
    "ExecuteTime": {
     "end_time": "2023-01-27T14:57:49.663000+09:00",
     "start_time": "2023-01-27T05:57:48.697Z"
    }
   },
   "outputs": [
    {
     "data": {
      "text/plain": [
       "GeometricSequence(1, 3, 8)"
      ]
     },
     "execution_count": 3,
     "metadata": {},
     "output_type": "execute_result"
    }
   ],
   "source": [
    "seq0 = GeometricSequence(1, 3, 8)"
   ]
  },
  {
   "cell_type": "code",
   "execution_count": 4,
   "id": "6fc6b67d",
   "metadata": {
    "ExecuteTime": {
     "end_time": "2023-01-27T14:57:49.879000+09:00",
     "start_time": "2023-01-27T05:57:48.699Z"
    }
   },
   "outputs": [
    {
     "data": {
      "text/plain": [
       "true"
      ]
     },
     "execution_count": 4,
     "metadata": {},
     "output_type": "execute_result"
    }
   ],
   "source": [
    "seq0 isa AbstractVector"
   ]
  },
  {
   "cell_type": "code",
   "execution_count": 5,
   "id": "1ecc51eb",
   "metadata": {
    "ExecuteTime": {
     "end_time": "2023-01-27T14:57:49.882000+09:00",
     "start_time": "2023-01-27T05:57:48.700Z"
    }
   },
   "outputs": [
    {
     "data": {
      "text/plain": [
       "GeometricSequence(1, 3, 8)"
      ]
     },
     "execution_count": 5,
     "metadata": {},
     "output_type": "execute_result"
    }
   ],
   "source": [
    "Broadcast.broadcastable(seq0)  # return `seq0` itself"
   ]
  },
  {
   "cell_type": "code",
   "execution_count": 6,
   "id": "9cc4972f",
   "metadata": {
    "ExecuteTime": {
     "end_time": "2023-01-27T14:57:50.352000+09:00",
     "start_time": "2023-01-27T05:57:48.702Z"
    }
   },
   "outputs": [
    {
     "data": {
      "text/plain": [
       "Base.Broadcast.DefaultArrayStyle{1}()"
      ]
     },
     "execution_count": 6,
     "metadata": {},
     "output_type": "execute_result"
    }
   ],
   "source": [
    "Broadcast.BroadcastStyle(typeof(seq0))"
   ]
  },
  {
   "cell_type": "code",
   "execution_count": 7,
   "id": "d41ae72b",
   "metadata": {
    "ExecuteTime": {
     "end_time": "2023-01-27T14:57:51.198000+09:00",
     "start_time": "2023-01-27T05:57:48.703Z"
    }
   },
   "outputs": [
    {
     "data": {
      "text/plain": [
       "8-element Vector{Float64}:\n",
       " 0.0\n",
       " 1.0986122886681098\n",
       " 2.1972245773362196\n",
       " 3.295836866004329\n",
       " 4.394449154672439\n",
       " 5.493061443340548\n",
       " 6.591673732008658\n",
       " 7.690286020676768"
      ]
     },
     "execution_count": 7,
     "metadata": {},
     "output_type": "execute_result"
    }
   ],
   "source": [
    "log.(seq0)"
   ]
  },
  {
   "cell_type": "code",
   "execution_count": 8,
   "id": "3ecffccb",
   "metadata": {
    "ExecuteTime": {
     "end_time": "2023-01-27T14:57:51.531000+09:00",
     "start_time": "2023-01-27T05:57:48.705Z"
    }
   },
   "outputs": [
    {
     "data": {
      "text/plain": [
       "8-element Vector{Int64}:\n",
       "    2\n",
       "    4\n",
       "   10\n",
       "   28\n",
       "   82\n",
       "  244\n",
       "  730\n",
       " 2188"
      ]
     },
     "execution_count": 8,
     "metadata": {},
     "output_type": "execute_result"
    }
   ],
   "source": [
    "seq0 .+ 1  # same as [v + 1 for v in seq0]"
   ]
  },
  {
   "cell_type": "code",
   "execution_count": 9,
   "id": "e88ef006",
   "metadata": {
    "ExecuteTime": {
     "end_time": "2023-01-27T14:57:51.993000+09:00",
     "start_time": "2023-01-27T05:57:48.707Z"
    }
   },
   "outputs": [
    {
     "data": {
      "text/plain": [
       "8×2 Matrix{Float64}:\n",
       "    1.0    6561.0\n",
       "    3.0   19683.0\n",
       "    9.0   59049.0\n",
       "   27.0  177147.0\n",
       "   81.0  531441.0\n",
       "  243.0       1.59432e6\n",
       "  729.0       4.78297e6\n",
       " 2187.0       1.43489e7"
      ]
     },
     "execution_count": 9,
     "metadata": {},
     "output_type": "execute_result"
    }
   ],
   "source": [
    "[1.0 3.0^8] .* seq0"
   ]
  },
  {
   "cell_type": "markdown",
   "id": "70367c31",
   "metadata": {},
   "source": [
    "### 実例(2) イテレーションプロトコルを実装した型"
   ]
  },
  {
   "cell_type": "markdown",
   "id": "6a263449",
   "metadata": {},
   "source": [
    "#### コード7-25. `Collatz.jl`（コード6-22. 再掲）"
   ]
  },
  {
   "cell_type": "markdown",
   "id": "64e3c054",
   "metadata": {},
   "source": [
    "```julia\n",
    "struct Collatz{I <: Integer}\n",
    "    start::I\n",
    "end\n",
    "\n",
    "Base.IteratorSize(::Type{<:Collatz}) = Base.SizeUnknown()\n",
    "\n",
    "Base.IteratorEltype(::Type{<:Collatz}) = Base.HasEltype()\n",
    "Base.eltype(::Type{Collatz{I}}) where I = I\n",
    "\n",
    "Base.iterate(c::Collatz) = (c.start, c.start)\n",
    "function Base.iterate(::Collatz, prev)\n",
    "    prev == 1 && return nothing\n",
    "    next = if iseven(prev)\n",
    "        prev ÷ 2\n",
    "    else\n",
    "        3prev + 1\n",
    "    end\n",
    "    (next, next)\n",
    "end\n",
    "```"
   ]
  },
  {
   "cell_type": "code",
   "execution_count": 10,
   "id": "e012af33",
   "metadata": {
    "ExecuteTime": {
     "end_time": "2023-01-27T14:57:51.999000+09:00",
     "start_time": "2023-01-27T05:57:48.709Z"
    }
   },
   "outputs": [],
   "source": [
    "include(\"Collatz.jl\")"
   ]
  },
  {
   "cell_type": "markdown",
   "id": "68de2cbd",
   "metadata": {},
   "source": [
    "#### コード7-26. `Collatz` のブロードキャスティング適用確認"
   ]
  },
  {
   "cell_type": "code",
   "execution_count": 11,
   "id": "058ae845",
   "metadata": {
    "ExecuteTime": {
     "end_time": "2023-01-27T14:57:52.188000+09:00",
     "start_time": "2023-01-27T05:57:48.710Z"
    }
   },
   "outputs": [
    {
     "data": {
      "text/plain": [
       "Collatz{Int64}(3)"
      ]
     },
     "execution_count": 11,
     "metadata": {},
     "output_type": "execute_result"
    }
   ],
   "source": [
    "c3 = Collatz(3)"
   ]
  },
  {
   "cell_type": "code",
   "execution_count": 12,
   "id": "78e4b9db",
   "metadata": {
    "ExecuteTime": {
     "end_time": "2023-01-27T14:57:52.188000+09:00",
     "start_time": "2023-01-27T05:57:48.713Z"
    }
   },
   "outputs": [
    {
     "data": {
      "text/plain": [
       "false"
      ]
     },
     "execution_count": 12,
     "metadata": {},
     "output_type": "execute_result"
    }
   ],
   "source": [
    "c3 isa AbstractArray"
   ]
  },
  {
   "cell_type": "code",
   "execution_count": 13,
   "id": "b6565628",
   "metadata": {
    "ExecuteTime": {
     "end_time": "2023-01-27T14:57:52.199000+09:00",
     "start_time": "2023-01-27T05:57:48.714Z"
    }
   },
   "outputs": [
    {
     "data": {
      "text/plain": [
       "8-element Vector{Int64}:\n",
       "  3\n",
       " 10\n",
       "  5\n",
       " 16\n",
       "  8\n",
       "  4\n",
       "  2\n",
       "  1"
      ]
     },
     "execution_count": 13,
     "metadata": {},
     "output_type": "execute_result"
    }
   ],
   "source": [
    "Broadcast.broadcastable(c3)  # equivalent to `collect(c3)`"
   ]
  },
  {
   "cell_type": "code",
   "execution_count": 14,
   "id": "fa7f29cd",
   "metadata": {
    "ExecuteTime": {
     "end_time": "2023-01-27T14:57:52.199000+09:00",
     "start_time": "2023-01-27T05:57:48.716Z"
    }
   },
   "outputs": [
    {
     "data": {
      "text/plain": [
       "Base.Broadcast.DefaultArrayStyle{1}()"
      ]
     },
     "execution_count": 14,
     "metadata": {},
     "output_type": "execute_result"
    }
   ],
   "source": [
    "Broadcast.BroadcastStyle(typeof(Broadcast.broadcastable(c3)))"
   ]
  },
  {
   "cell_type": "code",
   "execution_count": 15,
   "id": "ba050dc8",
   "metadata": {
    "ExecuteTime": {
     "end_time": "2023-01-27T14:57:52.200000+09:00",
     "start_time": "2023-01-27T05:57:48.718Z"
    }
   },
   "outputs": [],
   "source": [
    "seq0 = GeometricSequence(1, 3, 8);"
   ]
  },
  {
   "cell_type": "code",
   "execution_count": 16,
   "id": "c3028c8f",
   "metadata": {
    "ExecuteTime": {
     "end_time": "2023-01-27T14:57:52.233000+09:00",
     "start_time": "2023-01-27T05:57:48.719Z"
    }
   },
   "outputs": [
    {
     "data": {
      "text/plain": [
       "8-element Vector{Int64}:\n",
       "  -3\n",
       " -10\n",
       "  -5\n",
       " -16\n",
       "  -8\n",
       "  -4\n",
       "  -2\n",
       "  -1"
      ]
     },
     "execution_count": 16,
     "metadata": {},
     "output_type": "execute_result"
    }
   ],
   "source": [
    ".-c3"
   ]
  },
  {
   "cell_type": "code",
   "execution_count": 17,
   "id": "c1bdfde6",
   "metadata": {
    "ExecuteTime": {
     "end_time": "2023-01-27T14:57:52.273000+09:00",
     "start_time": "2023-01-27T05:57:48.721Z"
    }
   },
   "outputs": [
    {
     "data": {
      "text/plain": [
       "8-element Vector{Int64}:\n",
       "    3\n",
       "   10\n",
       "    9\n",
       "   27\n",
       "   81\n",
       "  243\n",
       "  729\n",
       " 2187"
      ]
     },
     "execution_count": 17,
     "metadata": {},
     "output_type": "execute_result"
    }
   ],
   "source": [
    "max.(c3, seq0)"
   ]
  },
  {
   "cell_type": "code",
   "execution_count": 18,
   "id": "d5afa7b9",
   "metadata": {
    "ExecuteTime": {
     "end_time": "2023-01-27T14:57:52.313000+09:00",
     "start_time": "2023-01-27T05:57:48.722Z"
    }
   },
   "outputs": [
    {
     "data": {
      "text/plain": [
       "8-element Vector{Int64}:\n",
       "    4\n",
       "   13\n",
       "   14\n",
       "   43\n",
       "   89\n",
       "  247\n",
       "  731\n",
       " 2188"
      ]
     },
     "execution_count": 18,
     "metadata": {},
     "output_type": "execute_result"
    }
   ],
   "source": [
    "c3 .+ seq0"
   ]
  }
 ],
 "metadata": {
  "jupytext": {
   "formats": "ipynb,auto:light"
  },
  "kernelspec": {
   "display_name": "Julia 1.8.5",
   "language": "julia",
   "name": "julia-1.8"
  },
  "language_info": {
   "file_extension": ".jl",
   "mimetype": "application/julia",
   "name": "julia",
   "version": "1.8.5"
  }
 },
 "nbformat": 4,
 "nbformat_minor": 5
}
