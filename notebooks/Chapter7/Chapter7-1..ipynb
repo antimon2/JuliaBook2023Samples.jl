{
 "cells": [
  {
   "cell_type": "code",
   "execution_count": 1,
   "metadata": {
    "ExecuteTime": {
     "end_time": "2023-01-27T14:53:29.298000+09:00",
     "start_time": "2023-01-27T05:53:28.771Z"
    }
   },
   "outputs": [
    {
     "name": "stdout",
     "output_type": "stream",
     "text": [
      "Julia Version 1.8.5\n",
      "Commit 17cfb8e65ea (2023-01-08 06:45 UTC)\n",
      "Platform Info:\n",
      "  OS: Linux (x86_64-linux-gnu)\n",
      "  CPU: 12 × Intel(R) Core(TM) i7-9750H CPU @ 2.60GHz\n",
      "  WORD_SIZE: 64\n",
      "  LIBM: libopenlibm\n",
      "  LLVM: libLLVM-13.0.1 (ORCJIT, skylake)\n",
      "  Threads: 1 on 12 virtual cores\n"
     ]
    }
   ],
   "source": [
    "versioninfo()"
   ]
  },
  {
   "cell_type": "markdown",
   "metadata": {},
   "source": [
    "## 7-1. ブロードキャスティングとは？"
   ]
  },
  {
   "cell_type": "markdown",
   "metadata": {},
   "source": [
    "### 7-1-1. ドット構文（おさらい）"
   ]
  },
  {
   "cell_type": "markdown",
   "metadata": {},
   "source": [
    "#### コード7-1. シグモイド関数（定義）"
   ]
  },
  {
   "cell_type": "code",
   "execution_count": 2,
   "metadata": {
    "ExecuteTime": {
     "end_time": "2023-01-27T14:53:29.706000+09:00",
     "start_time": "2023-01-27T05:53:28.775Z"
    }
   },
   "outputs": [
    {
     "data": {
      "text/plain": [
       "sigmoid (generic function with 1 method)"
      ]
     },
     "execution_count": 2,
     "metadata": {},
     "output_type": "execute_result"
    }
   ],
   "source": [
    "function sigmoid(x)\n",
    "    inv(1 + exp(-x))\n",
    "end"
   ]
  },
  {
   "cell_type": "markdown",
   "metadata": {},
   "source": [
    "#### コード7-2. シグモイド関数の動作確認（引数にスカラーを渡した場合）"
   ]
  },
  {
   "cell_type": "code",
   "execution_count": 3,
   "metadata": {
    "ExecuteTime": {
     "end_time": "2023-01-27T14:53:29.937000+09:00",
     "start_time": "2023-01-27T05:53:28.777Z"
    }
   },
   "outputs": [
    {
     "data": {
      "text/plain": [
       "0.0003353501304664781"
      ]
     },
     "execution_count": 3,
     "metadata": {},
     "output_type": "execute_result"
    }
   ],
   "source": [
    "sigmoid(-8)"
   ]
  },
  {
   "cell_type": "code",
   "execution_count": 4,
   "metadata": {
    "ExecuteTime": {
     "end_time": "2023-01-27T14:53:29.937000+09:00",
     "start_time": "2023-01-27T05:53:28.779Z"
    }
   },
   "outputs": [
    {
     "data": {
      "text/plain": [
       "0.0024726231566347743"
      ]
     },
     "execution_count": 4,
     "metadata": {},
     "output_type": "execute_result"
    }
   ],
   "source": [
    "sigmoid(-6)"
   ]
  },
  {
   "cell_type": "code",
   "execution_count": 5,
   "metadata": {
    "ExecuteTime": {
     "end_time": "2023-01-27T14:53:29.938000+09:00",
     "start_time": "2023-01-27T05:53:28.781Z"
    }
   },
   "outputs": [
    {
     "data": {
      "text/plain": [
       "0.01798620996209156"
      ]
     },
     "execution_count": 5,
     "metadata": {},
     "output_type": "execute_result"
    }
   ],
   "source": [
    "sigmoid(-4)"
   ]
  },
  {
   "cell_type": "code",
   "execution_count": 6,
   "metadata": {
    "ExecuteTime": {
     "end_time": "2023-01-27T14:53:29.938000+09:00",
     "start_time": "2023-01-27T05:53:28.783Z"
    }
   },
   "outputs": [
    {
     "data": {
      "text/plain": [
       "0.11920292202211755"
      ]
     },
     "execution_count": 6,
     "metadata": {},
     "output_type": "execute_result"
    }
   ],
   "source": [
    "sigmoid(-2)"
   ]
  },
  {
   "cell_type": "code",
   "execution_count": 7,
   "metadata": {
    "ExecuteTime": {
     "end_time": "2023-01-27T14:53:29.939000+09:00",
     "start_time": "2023-01-27T05:53:28.785Z"
    }
   },
   "outputs": [
    {
     "data": {
      "text/plain": [
       "0.5"
      ]
     },
     "execution_count": 7,
     "metadata": {},
     "output_type": "execute_result"
    }
   ],
   "source": [
    "sigmoid(0)"
   ]
  },
  {
   "cell_type": "code",
   "execution_count": 8,
   "metadata": {
    "ExecuteTime": {
     "end_time": "2023-01-27T14:53:29.939000+09:00",
     "start_time": "2023-01-27T05:53:28.787Z"
    }
   },
   "outputs": [
    {
     "data": {
      "text/plain": [
       "0.8807970779778823"
      ]
     },
     "execution_count": 8,
     "metadata": {},
     "output_type": "execute_result"
    }
   ],
   "source": [
    "sigmoid(2)"
   ]
  },
  {
   "cell_type": "code",
   "execution_count": 9,
   "metadata": {
    "ExecuteTime": {
     "end_time": "2023-01-27T14:53:29.939000+09:00",
     "start_time": "2023-01-27T05:53:28.789Z"
    }
   },
   "outputs": [
    {
     "data": {
      "text/plain": [
       "0.9820137900379085"
      ]
     },
     "execution_count": 9,
     "metadata": {},
     "output_type": "execute_result"
    }
   ],
   "source": [
    "sigmoid(4)"
   ]
  },
  {
   "cell_type": "code",
   "execution_count": 10,
   "metadata": {
    "ExecuteTime": {
     "end_time": "2023-01-27T14:53:29.940000+09:00",
     "start_time": "2023-01-27T05:53:28.791Z"
    }
   },
   "outputs": [
    {
     "data": {
      "text/plain": [
       "0.9975273768433653"
      ]
     },
     "execution_count": 10,
     "metadata": {},
     "output_type": "execute_result"
    }
   ],
   "source": [
    "sigmoid(6)"
   ]
  },
  {
   "cell_type": "code",
   "execution_count": 11,
   "metadata": {
    "ExecuteTime": {
     "end_time": "2023-01-27T14:53:29.940000+09:00",
     "start_time": "2023-01-27T05:53:28.793Z"
    }
   },
   "outputs": [
    {
     "data": {
      "text/plain": [
       "0.9996646498695336"
      ]
     },
     "execution_count": 11,
     "metadata": {},
     "output_type": "execute_result"
    }
   ],
   "source": [
    "sigmoid(8)"
   ]
  },
  {
   "cell_type": "code",
   "execution_count": 12,
   "metadata": {
    "ExecuteTime": {
     "end_time": "2023-01-27T14:53:29.944000+09:00",
     "start_time": "2023-01-27T05:53:28.795Z"
    }
   },
   "outputs": [
    {
     "data": {
      "text/plain": [
       "1.0"
      ]
     },
     "execution_count": 12,
     "metadata": {},
     "output_type": "execute_result"
    }
   ],
   "source": [
    "sigmoid(Inf)"
   ]
  },
  {
   "cell_type": "code",
   "execution_count": 13,
   "metadata": {
    "ExecuteTime": {
     "end_time": "2023-01-27T14:53:29.944000+09:00",
     "start_time": "2023-01-27T05:53:28.797Z"
    }
   },
   "outputs": [
    {
     "data": {
      "text/plain": [
       "0.0"
      ]
     },
     "execution_count": 13,
     "metadata": {},
     "output_type": "execute_result"
    }
   ],
   "source": [
    "sigmoid(-Inf)"
   ]
  },
  {
   "cell_type": "markdown",
   "metadata": {},
   "source": [
    "#### コード7-3. シグモイド関数の動作確認（内包表記とドット構文によるベクタ化の比較）"
   ]
  },
  {
   "cell_type": "code",
   "execution_count": 14,
   "metadata": {
    "ExecuteTime": {
     "end_time": "2023-01-27T14:53:30.795000+09:00",
     "start_time": "2023-01-27T05:53:28.799Z"
    }
   },
   "outputs": [
    {
     "data": {
      "text/plain": [
       "9-element Vector{Float64}:\n",
       " 0.0003353501304664781\n",
       " 0.0024726231566347743\n",
       " 0.01798620996209156\n",
       " 0.11920292202211755\n",
       " 0.5\n",
       " 0.8807970779778823\n",
       " 0.9820137900379085\n",
       " 0.9975273768433653\n",
       " 0.9996646498695336"
      ]
     },
     "execution_count": 14,
     "metadata": {},
     "output_type": "execute_result"
    }
   ],
   "source": [
    "[sigmoid(x) for x in -8:2:8]"
   ]
  },
  {
   "cell_type": "code",
   "execution_count": 15,
   "metadata": {
    "ExecuteTime": {
     "end_time": "2023-01-27T14:53:30.835000+09:00",
     "start_time": "2023-01-27T05:53:28.801Z"
    }
   },
   "outputs": [
    {
     "data": {
      "text/plain": [
       "9-element Vector{Float64}:\n",
       " 0.0003353501304664781\n",
       " 0.0024726231566347743\n",
       " 0.01798620996209156\n",
       " 0.11920292202211755\n",
       " 0.5\n",
       " 0.8807970779778823\n",
       " 0.9820137900379085\n",
       " 0.9975273768433653\n",
       " 0.9996646498695336"
      ]
     },
     "execution_count": 15,
     "metadata": {},
     "output_type": "execute_result"
    }
   ],
   "source": [
    "sigmoid.(-8:2:8)"
   ]
  },
  {
   "cell_type": "markdown",
   "metadata": {},
   "source": [
    "#### コード7-4. 代入におけるドット構文の利用"
   ]
  },
  {
   "cell_type": "code",
   "execution_count": 16,
   "metadata": {
    "ExecuteTime": {
     "end_time": "2023-01-27T14:53:30.841000+09:00",
     "start_time": "2023-01-27T05:53:28.804Z"
    }
   },
   "outputs": [
    {
     "data": {
      "text/plain": [
       "5-element Vector{Float64}:\n",
       " 0.0\n",
       " 0.0\n",
       " 0.0\n",
       " 0.0\n",
       " 0.0"
      ]
     },
     "execution_count": 16,
     "metadata": {},
     "output_type": "execute_result"
    }
   ],
   "source": [
    "v0 = zeros(5)"
   ]
  },
  {
   "cell_type": "code",
   "execution_count": 17,
   "metadata": {
    "ExecuteTime": {
     "end_time": "2023-01-27T14:53:31.025000+09:00",
     "start_time": "2023-01-27T05:53:28.806Z"
    }
   },
   "outputs": [
    {
     "data": {
      "text/plain": [
       "1:5"
      ]
     },
     "execution_count": 17,
     "metadata": {},
     "output_type": "execute_result"
    }
   ],
   "source": [
    "r0 = 1:5"
   ]
  },
  {
   "cell_type": "code",
   "execution_count": 18,
   "metadata": {
    "ExecuteTime": {
     "end_time": "2023-01-27T14:53:31.067000+09:00",
     "start_time": "2023-01-27T05:53:28.808Z"
    }
   },
   "outputs": [],
   "source": [
    "v0 .= r0;  # `for i in axes(v0) v0[i] = r0[i] end` と同等の処理"
   ]
  },
  {
   "cell_type": "code",
   "execution_count": 19,
   "metadata": {
    "ExecuteTime": {
     "end_time": "2023-01-27T14:53:31.069000+09:00",
     "start_time": "2023-01-27T05:53:28.810Z"
    }
   },
   "outputs": [
    {
     "data": {
      "text/plain": [
       "5-element Vector{Float64}:\n",
       " 1.0\n",
       " 2.0\n",
       " 3.0\n",
       " 4.0\n",
       " 5.0"
      ]
     },
     "execution_count": 19,
     "metadata": {},
     "output_type": "execute_result"
    }
   ],
   "source": [
    "v0"
   ]
  },
  {
   "cell_type": "code",
   "execution_count": 20,
   "metadata": {
    "ExecuteTime": {
     "end_time": "2023-01-27T14:53:31.138000+09:00",
     "start_time": "2023-01-27T05:53:28.812Z"
    }
   },
   "outputs": [
    {
     "data": {
      "text/plain": [
       "5-element Vector{Float64}:\n",
       "  1.0\n",
       "  4.0\n",
       " 12.0\n",
       " 32.0\n",
       " 80.0"
      ]
     },
     "execution_count": 20,
     "metadata": {},
     "output_type": "execute_result"
    }
   ],
   "source": [
    "v0 .*= [2^x for x=0:4];\n",
    "v0"
   ]
  },
  {
   "cell_type": "code",
   "execution_count": 21,
   "metadata": {
    "ExecuteTime": {
     "end_time": "2023-01-27T14:53:31.194000+09:00",
     "start_time": "2023-01-27T05:53:28.814Z"
    }
   },
   "outputs": [],
   "source": [
    "v1 = v0;  # `v1` にはそのまま代入（＝同じ配列を参照）\n",
    "v2 = similar(v0); v2 .= v0;  # `v2` として同じサイズ・同じ要素型の新しい配列を確保した上でドット構文による代入"
   ]
  },
  {
   "cell_type": "code",
   "execution_count": 22,
   "metadata": {
    "ExecuteTime": {
     "end_time": "2023-01-27T14:53:31.198000+09:00",
     "start_time": "2023-01-27T05:53:28.816Z"
    }
   },
   "outputs": [],
   "source": [
    "v0[1] = -1;"
   ]
  },
  {
   "cell_type": "code",
   "execution_count": 23,
   "metadata": {
    "ExecuteTime": {
     "end_time": "2023-01-27T14:53:31.199000+09:00",
     "start_time": "2023-01-27T05:53:28.819Z"
    }
   },
   "outputs": [
    {
     "data": {
      "text/plain": [
       "5-element Vector{Float64}:\n",
       " -1.0\n",
       "  4.0\n",
       " 12.0\n",
       " 32.0\n",
       " 80.0"
      ]
     },
     "execution_count": 23,
     "metadata": {},
     "output_type": "execute_result"
    }
   ],
   "source": [
    "v0"
   ]
  },
  {
   "cell_type": "code",
   "execution_count": 24,
   "metadata": {
    "ExecuteTime": {
     "end_time": "2023-01-27T14:53:31.200000+09:00",
     "start_time": "2023-01-27T05:53:28.821Z"
    }
   },
   "outputs": [
    {
     "data": {
      "text/plain": [
       "5-element Vector{Float64}:\n",
       " -1.0\n",
       "  4.0\n",
       " 12.0\n",
       " 32.0\n",
       " 80.0"
      ]
     },
     "execution_count": 24,
     "metadata": {},
     "output_type": "execute_result"
    }
   ],
   "source": [
    "v1  # === `v0`"
   ]
  },
  {
   "cell_type": "code",
   "execution_count": 25,
   "metadata": {
    "ExecuteTime": {
     "end_time": "2023-01-27T14:53:31.201000+09:00",
     "start_time": "2023-01-27T05:53:28.823Z"
    }
   },
   "outputs": [
    {
     "data": {
      "text/plain": [
       "5-element Vector{Float64}:\n",
       "  1.0\n",
       "  4.0\n",
       " 12.0\n",
       " 32.0\n",
       " 80.0"
      ]
     },
     "execution_count": 25,
     "metadata": {},
     "output_type": "execute_result"
    }
   ],
   "source": [
    "v2  # != `v0`"
   ]
  },
  {
   "cell_type": "markdown",
   "metadata": {},
   "source": [
    "#### コード7-5. シグモイド関数による内包表記とドット構文の動作比較（多次元配列、タプル）"
   ]
  },
  {
   "cell_type": "code",
   "execution_count": 26,
   "metadata": {
    "ExecuteTime": {
     "end_time": "2023-01-27T14:53:31.222000+09:00",
     "start_time": "2023-01-27T05:53:28.825Z"
    }
   },
   "outputs": [],
   "source": [
    "A = [-5.0 0.0; 0.0 5.0];"
   ]
  },
  {
   "cell_type": "code",
   "execution_count": 27,
   "metadata": {
    "ExecuteTime": {
     "end_time": "2023-01-27T14:53:31.841000+09:00",
     "start_time": "2023-01-27T05:53:28.827Z"
    }
   },
   "outputs": [
    {
     "data": {
      "text/plain": [
       "2×2 Matrix{Float64}:\n",
       " 0.00669285  0.5\n",
       " 0.5         0.993307"
      ]
     },
     "execution_count": 27,
     "metadata": {},
     "output_type": "execute_result"
    }
   ],
   "source": [
    "[sigmoid(x) for x in A]"
   ]
  },
  {
   "cell_type": "code",
   "execution_count": 28,
   "metadata": {
    "ExecuteTime": {
     "end_time": "2023-01-27T14:53:31.892000+09:00",
     "start_time": "2023-01-27T05:53:28.829Z"
    }
   },
   "outputs": [
    {
     "data": {
      "text/plain": [
       "2×2 Matrix{Float64}:\n",
       " 0.00669285  0.5\n",
       " 0.5         0.993307"
      ]
     },
     "execution_count": 28,
     "metadata": {},
     "output_type": "execute_result"
    }
   ],
   "source": [
    "sigmoid.(A)"
   ]
  },
  {
   "cell_type": "code",
   "execution_count": 29,
   "metadata": {
    "ExecuteTime": {
     "end_time": "2023-01-27T14:53:31.893000+09:00",
     "start_time": "2023-01-27T05:53:28.831Z"
    }
   },
   "outputs": [],
   "source": [
    "t = (-Inf, -1, 0, 1, Inf);"
   ]
  },
  {
   "cell_type": "code",
   "execution_count": 30,
   "metadata": {
    "ExecuteTime": {
     "end_time": "2023-01-27T14:53:31.915000+09:00",
     "start_time": "2023-01-27T05:53:28.833Z"
    }
   },
   "outputs": [
    {
     "data": {
      "text/plain": [
       "5-element Vector{Float64}:\n",
       " 0.0\n",
       " 0.2689414213699951\n",
       " 0.5\n",
       " 0.7310585786300049\n",
       " 1.0"
      ]
     },
     "execution_count": 30,
     "metadata": {},
     "output_type": "execute_result"
    }
   ],
   "source": [
    "[sigmoid(x) for x in t]"
   ]
  },
  {
   "cell_type": "code",
   "execution_count": 31,
   "metadata": {
    "ExecuteTime": {
     "end_time": "2023-01-27T14:53:32.158000+09:00",
     "start_time": "2023-01-27T05:53:28.835Z"
    }
   },
   "outputs": [
    {
     "data": {
      "text/plain": [
       "(0.0, 0.2689414213699951, 0.5, 0.7310585786300049, 1.0)"
      ]
     },
     "execution_count": 31,
     "metadata": {},
     "output_type": "execute_result"
    }
   ],
   "source": [
    "sigmoid.(t)"
   ]
  },
  {
   "cell_type": "markdown",
   "metadata": {},
   "source": [
    "### 7-1-2. ブロードキャスティング"
   ]
  },
  {
   "cell_type": "markdown",
   "metadata": {},
   "source": [
    "#### コード7-6. ブロードキャスティングの例(1)（ベクトルとスカラーの計算）"
   ]
  },
  {
   "cell_type": "code",
   "execution_count": 32,
   "metadata": {
    "ExecuteTime": {
     "end_time": "2023-01-27T14:53:32.159000+09:00",
     "start_time": "2023-01-27T05:53:28.837Z"
    }
   },
   "outputs": [],
   "source": [
    "μ = 5.0;  # `μ` は \"\\mu\"+<TAB> で入力できます。\n",
    "σ = 2.0;  # `σ` は \"\\sigma\"+<TAB> で入力できます。\n",
    "N = 500;"
   ]
  },
  {
   "cell_type": "code",
   "execution_count": 33,
   "metadata": {
    "ExecuteTime": {
     "end_time": "2023-01-27T14:53:32.274000+09:00",
     "start_time": "2023-01-27T05:53:28.839Z"
    }
   },
   "outputs": [],
   "source": [
    "snds = randn(N);  # 要素数 500 の標準正規分布に則った乱数列（ベクトル）"
   ]
  },
  {
   "cell_type": "code",
   "execution_count": 34,
   "metadata": {
    "ExecuteTime": {
     "end_time": "2023-01-27T14:53:32.312000+09:00",
     "start_time": "2023-01-27T05:53:28.841Z"
    }
   },
   "outputs": [],
   "source": [
    "nds1 = [v * σ + μ for v in snds];  # 方法1：内包表記"
   ]
  },
  {
   "cell_type": "code",
   "execution_count": 35,
   "metadata": {
    "ExecuteTime": {
     "end_time": "2023-01-27T14:53:32.394000+09:00",
     "start_time": "2023-01-27T05:53:28.843Z"
    }
   },
   "outputs": [],
   "source": [
    "nds2 = snds .* fill(σ, N) .+ fill(μ, N);  # 方法2：`fill(○, N)` を利用したドット構文（ベクタ化）"
   ]
  },
  {
   "cell_type": "code",
   "execution_count": 36,
   "metadata": {
    "ExecuteTime": {
     "end_time": "2023-01-27T14:53:32.448000+09:00",
     "start_time": "2023-01-27T05:53:28.845Z"
    }
   },
   "outputs": [],
   "source": [
    "nds3 = snds .* σ .+ μ;  # 方法3：ブロードキャスティング"
   ]
  },
  {
   "cell_type": "code",
   "execution_count": 37,
   "metadata": {
    "ExecuteTime": {
     "end_time": "2023-01-27T14:53:32.630000+09:00",
     "start_time": "2023-01-27T05:53:28.847Z"
    }
   },
   "outputs": [
    {
     "data": {
      "text/plain": [
       "true"
      ]
     },
     "execution_count": 37,
     "metadata": {},
     "output_type": "execute_result"
    }
   ],
   "source": [
    "nds1 == nds2 == nds3"
   ]
  },
  {
   "cell_type": "markdown",
   "metadata": {},
   "source": [
    "#### コード7-7. ブロードキャスティングの例(2)（コード7-6. のパフォーマンス比較）"
   ]
  },
  {
   "cell_type": "code",
   "execution_count": 38,
   "metadata": {
    "ExecuteTime": {
     "end_time": "2023-01-27T14:53:32.696000+09:00",
     "start_time": "2023-01-27T05:53:28.849Z"
    }
   },
   "outputs": [
    {
     "data": {
      "text/plain": [
       "randnds1 (generic function with 1 method)"
      ]
     },
     "execution_count": 38,
     "metadata": {},
     "output_type": "execute_result"
    }
   ],
   "source": [
    "randnds1(N, μ, σ) = [v * σ + μ for v in randn(N)]  # 方法1"
   ]
  },
  {
   "cell_type": "code",
   "execution_count": 39,
   "metadata": {
    "ExecuteTime": {
     "end_time": "2023-01-27T14:53:32.764000+09:00",
     "start_time": "2023-01-27T05:53:28.851Z"
    }
   },
   "outputs": [
    {
     "data": {
      "text/plain": [
       "randnds2 (generic function with 1 method)"
      ]
     },
     "execution_count": 39,
     "metadata": {},
     "output_type": "execute_result"
    }
   ],
   "source": [
    "randnds2(N, μ, σ) = randn(N) .* fill(σ, N) .+ fill(μ, N)  # 方法2"
   ]
  },
  {
   "cell_type": "code",
   "execution_count": 40,
   "metadata": {
    "ExecuteTime": {
     "end_time": "2023-01-27T14:53:32.837000+09:00",
     "start_time": "2023-01-27T05:53:28.853Z"
    }
   },
   "outputs": [
    {
     "data": {
      "text/plain": [
       "randnds3 (generic function with 1 method)"
      ]
     },
     "execution_count": 40,
     "metadata": {},
     "output_type": "execute_result"
    }
   ],
   "source": [
    "randnds3(N, μ, σ) = randn(N) .* σ .+ μ  # 方法3"
   ]
  },
  {
   "cell_type": "code",
   "execution_count": 41,
   "metadata": {
    "ExecuteTime": {
     "end_time": "2023-01-27T14:53:32.838000+09:00",
     "start_time": "2023-01-27T05:53:28.855Z"
    }
   },
   "outputs": [],
   "source": [
    "using Random"
   ]
  },
  {
   "cell_type": "code",
   "execution_count": 42,
   "metadata": {
    "ExecuteTime": {
     "end_time": "2023-01-27T14:53:32.968000+09:00",
     "start_time": "2023-01-27T05:53:28.857Z"
    }
   },
   "outputs": [
    {
     "data": {
      "text/plain": [
       "true"
      ]
     },
     "execution_count": 42,
     "metadata": {},
     "output_type": "execute_result"
    }
   ],
   "source": [
    "(Random.seed!(1234);randnds1(N, μ, σ)) == \n",
    "(Random.seed!(1234);randnds2(N, μ, σ)) == \n",
    "(Random.seed!(1234);randnds3(N, μ, σ))"
   ]
  },
  {
   "cell_type": "code",
   "execution_count": 43,
   "metadata": {
    "ExecuteTime": {
     "end_time": "2023-01-27T14:53:33.023000+09:00",
     "start_time": "2023-01-27T05:53:28.858Z"
    }
   },
   "outputs": [
    {
     "name": "stdout",
     "output_type": "stream",
     "text": [
      "  0.000032 seconds (4 allocations: 156.344 KiB)\n"
     ]
    }
   ],
   "source": [
    "@time randnds1(10000, μ, σ);"
   ]
  },
  {
   "cell_type": "code",
   "execution_count": 44,
   "metadata": {
    "ExecuteTime": {
     "end_time": "2023-01-27T14:53:33.035000+09:00",
     "start_time": "2023-01-27T05:53:28.861Z"
    }
   },
   "outputs": [
    {
     "name": "stdout",
     "output_type": "stream",
     "text": [
      "  0.000101 seconds (8 allocations: 312.688 KiB)\n"
     ]
    }
   ],
   "source": [
    "@time randnds2(10000, μ, σ);"
   ]
  },
  {
   "cell_type": "code",
   "execution_count": 45,
   "metadata": {
    "ExecuteTime": {
     "end_time": "2023-01-27T14:53:33.047000+09:00",
     "start_time": "2023-01-27T05:53:28.863Z"
    }
   },
   "outputs": [
    {
     "name": "stdout",
     "output_type": "stream",
     "text": [
      "  0.000049 seconds (4 allocations: 156.344 KiB)\n"
     ]
    }
   ],
   "source": [
    "@time randnds3(10000, μ, σ);"
   ]
  },
  {
   "cell_type": "markdown",
   "metadata": {},
   "source": [
    "#### コード7-8. ブロードキャスティングの例(3)（行列とベクトルとの演算例）"
   ]
  },
  {
   "cell_type": "code",
   "execution_count": 46,
   "metadata": {
    "ExecuteTime": {
     "end_time": "2023-01-27T14:53:33.054000+09:00",
     "start_time": "2023-01-27T05:53:28.865Z"
    }
   },
   "outputs": [
    {
     "data": {
      "text/plain": [
       "3×3 Matrix{Float64}:\n",
       " 0.0  0.0  0.0\n",
       " 0.0  0.0  0.0\n",
       " 0.0  0.0  0.0"
      ]
     },
     "execution_count": 46,
     "metadata": {},
     "output_type": "execute_result"
    }
   ],
   "source": [
    "A1 = zeros(3, 3)"
   ]
  },
  {
   "cell_type": "code",
   "execution_count": 47,
   "metadata": {
    "ExecuteTime": {
     "end_time": "2023-01-27T14:53:33.054000+09:00",
     "start_time": "2023-01-27T05:53:28.867Z"
    }
   },
   "outputs": [
    {
     "data": {
      "text/plain": [
       "1:3"
      ]
     },
     "execution_count": 47,
     "metadata": {},
     "output_type": "execute_result"
    }
   ],
   "source": [
    "v1 = 1:3"
   ]
  },
  {
   "cell_type": "code",
   "execution_count": 48,
   "metadata": {
    "ExecuteTime": {
     "end_time": "2023-01-27T14:53:33.802000+09:00",
     "start_time": "2023-01-27T05:53:28.868Z"
    }
   },
   "outputs": [
    {
     "ename": "LoadError",
     "evalue": "DimensionMismatch: dimensions must match: a has dims (Base.OneTo(3), Base.OneTo(3)), must have singleton at dim 2",
     "output_type": "error",
     "traceback": [
      "DimensionMismatch: dimensions must match: a has dims (Base.OneTo(3), Base.OneTo(3)), must have singleton at dim 2",
      "",
      "Stacktrace:",
      " [1] promote_shape",
      "   @ ./indices.jl:183 [inlined]",
      " [2] promote_shape(a::Matrix{Float64}, b::UnitRange{Int64})",
      "   @ Base ./indices.jl:169",
      " [3] +(A::Matrix{Float64}, B::UnitRange{Int64})",
      "   @ Base ./arraymath.jl:7",
      " [4] top-level scope",
      "   @ In[48]:1"
     ]
    }
   ],
   "source": [
    "A1 + v1"
   ]
  },
  {
   "cell_type": "code",
   "execution_count": 49,
   "metadata": {
    "ExecuteTime": {
     "end_time": "2023-01-27T14:53:33.887000+09:00",
     "start_time": "2023-01-27T05:53:28.870Z"
    }
   },
   "outputs": [
    {
     "ename": "LoadError",
     "evalue": "DimensionMismatch: dimensions must match: a has dims (Base.OneTo(3), Base.OneTo(3)), b has dims (Base.OneTo(1), Base.OneTo(3)), mismatch at 1",
     "output_type": "error",
     "traceback": [
      "DimensionMismatch: dimensions must match: a has dims (Base.OneTo(3), Base.OneTo(3)), b has dims (Base.OneTo(1), Base.OneTo(3)), mismatch at 1",
      "",
      "Stacktrace:",
      " [1] promote_shape",
      "   @ ./indices.jl:178 [inlined]",
      " [2] promote_shape",
      "   @ ./indices.jl:169 [inlined]",
      " [3] +(A::Matrix{Float64}, B::LinearAlgebra.Adjoint{Int64, UnitRange{Int64}})",
      "   @ Base ./arraymath.jl:7",
      " [4] top-level scope",
      "   @ In[49]:1"
     ]
    }
   ],
   "source": [
    "A1 + v1'"
   ]
  },
  {
   "cell_type": "code",
   "execution_count": 50,
   "metadata": {
    "ExecuteTime": {
     "end_time": "2023-01-27T14:53:33.928000+09:00",
     "start_time": "2023-01-27T05:53:28.872Z"
    }
   },
   "outputs": [
    {
     "data": {
      "text/plain": [
       "3×3 Matrix{Float64}:\n",
       " 1.0  1.0  1.0\n",
       " 2.0  2.0  2.0\n",
       " 3.0  3.0  3.0"
      ]
     },
     "execution_count": 50,
     "metadata": {},
     "output_type": "execute_result"
    }
   ],
   "source": [
    "A1 .+ v1  # `A1 + [v1 v1 v1]` と同等"
   ]
  },
  {
   "cell_type": "code",
   "execution_count": 51,
   "metadata": {
    "ExecuteTime": {
     "end_time": "2023-01-27T14:53:33.961000+09:00",
     "start_time": "2023-01-27T05:53:28.873Z"
    }
   },
   "outputs": [
    {
     "data": {
      "text/plain": [
       "3×3 Matrix{Float64}:\n",
       " 1.0  2.0  3.0\n",
       " 1.0  2.0  3.0\n",
       " 1.0  2.0  3.0"
      ]
     },
     "execution_count": 51,
     "metadata": {},
     "output_type": "execute_result"
    }
   ],
   "source": [
    "A1 .+ v1'  # `A1 + [v1'; v1'; v1']` と同等"
   ]
  },
  {
   "cell_type": "markdown",
   "metadata": {},
   "source": [
    "#### コード7-9. ブロードキャスティングの例(4)（サイズと次元拡張）"
   ]
  },
  {
   "cell_type": "code",
   "execution_count": 52,
   "metadata": {
    "ExecuteTime": {
     "end_time": "2023-01-27T14:53:34.223000+09:00",
     "start_time": "2023-01-27T05:53:28.875Z"
    }
   },
   "outputs": [
    {
     "data": {
      "text/plain": [
       "2×2 Matrix{Int64}:\n",
       " 10  30\n",
       " 20  40"
      ]
     },
     "execution_count": 52,
     "metadata": {},
     "output_type": "execute_result"
    }
   ],
   "source": [
    "A2 = [10 30; 20 40]"
   ]
  },
  {
   "cell_type": "code",
   "execution_count": 53,
   "metadata": {
    "ExecuteTime": {
     "end_time": "2023-01-27T14:53:34.890000+09:00",
     "start_time": "2023-01-27T05:53:28.877Z"
    }
   },
   "outputs": [
    {
     "data": {
      "text/plain": [
       "2×1×3 reshape(::UnitRange{Int64}, 2, 1, 3) with eltype Int64:\n",
       "[:, :, 1] =\n",
       " 1\n",
       " 2\n",
       "\n",
       "[:, :, 2] =\n",
       " 3\n",
       " 4\n",
       "\n",
       "[:, :, 3] =\n",
       " 5\n",
       " 6"
      ]
     },
     "execution_count": 53,
     "metadata": {},
     "output_type": "execute_result"
    }
   ],
   "source": [
    "A3 = reshape(1:6, (2, 1, 3))"
   ]
  },
  {
   "cell_type": "code",
   "execution_count": 54,
   "metadata": {
    "ExecuteTime": {
     "end_time": "2023-01-27T14:53:35.102000+09:00",
     "start_time": "2023-01-27T05:53:28.879Z"
    }
   },
   "outputs": [
    {
     "data": {
      "text/plain": [
       "(2, 2)"
      ]
     },
     "execution_count": 54,
     "metadata": {},
     "output_type": "execute_result"
    }
   ],
   "source": [
    "size(A2)"
   ]
  },
  {
   "cell_type": "code",
   "execution_count": 55,
   "metadata": {
    "ExecuteTime": {
     "end_time": "2023-01-27T14:53:35.314000+09:00",
     "start_time": "2023-01-27T05:53:28.881Z"
    }
   },
   "outputs": [
    {
     "data": {
      "text/plain": [
       "(2, 1, 3)"
      ]
     },
     "execution_count": 55,
     "metadata": {},
     "output_type": "execute_result"
    }
   ],
   "source": [
    "size(A3)"
   ]
  },
  {
   "cell_type": "code",
   "execution_count": 56,
   "metadata": {
    "ExecuteTime": {
     "end_time": "2023-01-27T14:53:35.432000+09:00",
     "start_time": "2023-01-27T05:53:28.883Z"
    }
   },
   "outputs": [
    {
     "data": {
      "text/plain": [
       "(2, 2, 3)"
      ]
     },
     "execution_count": 56,
     "metadata": {},
     "output_type": "execute_result"
    }
   ],
   "source": [
    "size(A2 .+ A3)"
   ]
  },
  {
   "cell_type": "code",
   "execution_count": 57,
   "metadata": {
    "ExecuteTime": {
     "end_time": "2023-01-27T14:53:35.732000+09:00",
     "start_time": "2023-01-27T05:53:28.884Z"
    }
   },
   "outputs": [
    {
     "data": {
      "text/plain": [
       "2×2×3 Array{Int64, 3}:\n",
       "[:, :, 1] =\n",
       " 11  31\n",
       " 22  42\n",
       "\n",
       "[:, :, 2] =\n",
       " 13  33\n",
       " 24  44\n",
       "\n",
       "[:, :, 3] =\n",
       " 15  35\n",
       " 26  46"
      ]
     },
     "execution_count": 57,
     "metadata": {},
     "output_type": "execute_result"
    }
   ],
   "source": [
    "A2 .+ A3"
   ]
  },
  {
   "cell_type": "code",
   "execution_count": 58,
   "metadata": {
    "ExecuteTime": {
     "end_time": "2023-01-27T14:53:35.794000+09:00",
     "start_time": "2023-01-27T05:53:28.886Z"
    }
   },
   "outputs": [
    {
     "data": {
      "text/plain": [
       "9×9 Matrix{Int64}:\n",
       " 1   2   3   4   5   6   7   8   9\n",
       " 2   4   6   8  10  12  14  16  18\n",
       " 3   6   9  12  15  18  21  24  27\n",
       " 4   8  12  16  20  24  28  32  36\n",
       " 5  10  15  20  25  30  35  40  45\n",
       " 6  12  18  24  30  36  42  48  54\n",
       " 7  14  21  28  35  42  49  56  63\n",
       " 8  16  24  32  40  48  56  64  72\n",
       " 9  18  27  36  45  54  63  72  81"
      ]
     },
     "execution_count": 58,
     "metadata": {},
     "output_type": "execute_result"
    }
   ],
   "source": [
    "(1:9) .* (1:9)'  # `(9,)` と `(1, 9)` との演算で結果は `(9, 9)` （9×9の行列）となる"
   ]
  },
  {
   "cell_type": "code",
   "execution_count": 59,
   "metadata": {
    "ExecuteTime": {
     "end_time": "2023-01-27T14:53:35.847000+09:00",
     "start_time": "2023-01-27T05:53:28.888Z"
    }
   },
   "outputs": [
    {
     "data": {
      "text/plain": [
       "6×6 Matrix{Int64}:\n",
       " 1  0   0   0  0  0\n",
       " 1  1   0   0  0  0\n",
       " 1  2   1   0  0  0\n",
       " 1  3   3   1  0  0\n",
       " 1  4   6   4  1  0\n",
       " 1  5  10  10  5  1"
      ]
     },
     "execution_count": 59,
     "metadata": {},
     "output_type": "execute_result"
    }
   ],
   "source": [
    "binomial.(0:5, (0:5)')  # 演算子だけでなく（2引数以上の）関数でもOK"
   ]
  },
  {
   "cell_type": "code",
   "execution_count": 60,
   "metadata": {
    "ExecuteTime": {
     "end_time": "2023-01-27T14:53:35.915000+09:00",
     "start_time": "2023-01-27T05:53:28.891Z"
    }
   },
   "outputs": [
    {
     "ename": "LoadError",
     "evalue": "DimensionMismatch: arrays could not be broadcast to a common size; got a dimension with lengths 2 and 4",
     "output_type": "error",
     "traceback": [
      "DimensionMismatch: arrays could not be broadcast to a common size; got a dimension with lengths 2 and 4",
      "",
      "Stacktrace:",
      " [1] _bcs1",
      "   @ ./broadcast.jl:516 [inlined]",
      " [2] _bcs",
      "   @ ./broadcast.jl:510 [inlined]",
      " [3] broadcast_shape",
      "   @ ./broadcast.jl:504 [inlined]",
      " [4] combine_axes",
      "   @ ./broadcast.jl:499 [inlined]",
      " [5] instantiate",
      "   @ ./broadcast.jl:281 [inlined]",
      " [6] materialize(bc::Base.Broadcast.Broadcasted{Base.Broadcast.DefaultArrayStyle{2}, Nothing, typeof(+), Tuple{Matrix{Float64}, Matrix{Float64}}})",
      "   @ Base.Broadcast ./broadcast.jl:860",
      " [7] top-level scope",
      "   @ In[60]:1"
     ]
    }
   ],
   "source": [
    "zeros(2, 4) .+ zeros(4, 2)  # 一方が `1` でなければ（例え倍数でも）NG"
   ]
  },
  {
   "cell_type": "markdown",
   "metadata": {},
   "source": [
    "### 7-1-3. `@.` マクロ"
   ]
  },
  {
   "cell_type": "markdown",
   "metadata": {},
   "source": [
    "#### コード7-10. `@.` マクロの使用例(1)"
   ]
  },
  {
   "cell_type": "code",
   "execution_count": 61,
   "metadata": {
    "ExecuteTime": {
     "end_time": "2023-01-27T14:53:36.004000+09:00",
     "start_time": "2023-01-27T05:53:28.893Z"
    }
   },
   "outputs": [],
   "source": [
    "a = 0.0:0.5:4.0;"
   ]
  },
  {
   "cell_type": "code",
   "execution_count": 62,
   "metadata": {
    "ExecuteTime": {
     "end_time": "2023-01-27T14:53:36.131000+09:00",
     "start_time": "2023-01-27T05:53:28.896Z"
    }
   },
   "outputs": [
    {
     "data": {
      "text/plain": [
       "9-element Vector{Float64}:\n",
       " Inf\n",
       "  2.085829642933488\n",
       "  1.1883951057781212\n",
       "  1.0025113042467249\n",
       "  1.0997501702946164\n",
       "  1.67092154555868\n",
       "  7.086167395737187\n",
       "  2.850763437540464\n",
       "  1.3213487088109024"
      ]
     },
     "execution_count": 62,
     "metadata": {},
     "output_type": "execute_result"
    }
   ],
   "source": [
    "inv.(abs.(sin.(a)))"
   ]
  },
  {
   "cell_type": "code",
   "execution_count": 63,
   "metadata": {
    "ExecuteTime": {
     "end_time": "2023-01-27T14:53:36.134000+09:00",
     "start_time": "2023-01-27T05:53:28.898Z"
    }
   },
   "outputs": [
    {
     "data": {
      "text/plain": [
       "9-element Vector{Float64}:\n",
       " Inf\n",
       "  2.085829642933488\n",
       "  1.1883951057781212\n",
       "  1.0025113042467249\n",
       "  1.0997501702946164\n",
       "  1.67092154555868\n",
       "  7.086167395737187\n",
       "  2.850763437540464\n",
       "  1.3213487088109024"
      ]
     },
     "execution_count": 63,
     "metadata": {},
     "output_type": "execute_result"
    }
   ],
   "source": [
    "@. inv(abs(sin(a)))  # equivalent to `inv.(abs.(sin.(a)))` "
   ]
  },
  {
   "cell_type": "code",
   "execution_count": 64,
   "metadata": {
    "ExecuteTime": {
     "end_time": "2023-01-27T14:53:36.217000+09:00",
     "start_time": "2023-01-27T05:53:28.899Z"
    }
   },
   "outputs": [
    {
     "data": {
      "text/plain": [
       "9-element Vector{Float64}:\n",
       "  1.0\n",
       "  0.8775825618903728\n",
       "  0.8414709848078965\n",
       "  0.9974949866040544\n",
       "  0.9092974268256817\n",
       "  0.5984721441039564\n",
       "  0.1411200080598672\n",
       " -0.35078322768961984\n",
       " -0.6536436208636119"
      ]
     },
     "execution_count": 64,
     "metadata": {},
     "output_type": "execute_result"
    }
   ],
   "source": [
    "@. max(sin(a), cos(a))  # equivalent to `max.(sin.(a), cos.(a))`"
   ]
  },
  {
   "cell_type": "code",
   "execution_count": 65,
   "metadata": {
    "ExecuteTime": {
     "end_time": "2023-01-27T14:53:36.325000+09:00",
     "start_time": "2023-01-27T05:53:28.901Z"
    }
   },
   "outputs": [
    {
     "data": {
      "text/plain": [
       "9×9 Matrix{Float64}:\n",
       " 1.0  1.0      1.0       1.0        …  1.0        1.0       1.0\n",
       " 1.0  1.2474   1.47943   1.68164       1.99749    1.98399   1.9093\n",
       " 1.0  1.47943  1.84147   1.99749       1.14112    0.649217  0.243198\n",
       " 1.0  1.68164  1.99749   1.77807       0.0224699  0.141066  0.720585\n",
       " 1.0  1.84147  1.9093    1.14112       0.720585   1.65699   1.98936\n",
       " 1.0  1.94898  1.59847   0.428439   …  1.938      1.62472   0.455979\n",
       " 1.0  1.99749  1.14112   0.0224699     1.41212    0.120304  0.463427\n",
       " 1.0  1.98399  0.649217  0.141066      0.120304   0.688881  1.99061\n",
       " 1.0  1.9093   0.243198  0.720585      0.463427   1.99061   0.712097"
      ]
     },
     "execution_count": 65,
     "metadata": {},
     "output_type": "execute_result"
    }
   ],
   "source": [
    "@. sin(a * a') + 1  # equivalent to `sin.(a .* a') .+ 1`"
   ]
  },
  {
   "cell_type": "markdown",
   "metadata": {},
   "source": [
    "#### コード7-11. `@.` マクロの使用例(2)"
   ]
  },
  {
   "cell_type": "code",
   "execution_count": 66,
   "metadata": {
    "ExecuteTime": {
     "end_time": "2023-01-27T14:53:36.326000+09:00",
     "start_time": "2023-01-27T05:53:28.906Z"
    }
   },
   "outputs": [],
   "source": [
    "A = [1 2; 3 5];\n",
    "B = [2 3; 4 1];\n",
    "c = [1, -1];"
   ]
  },
  {
   "cell_type": "code",
   "execution_count": 67,
   "metadata": {
    "ExecuteTime": {
     "end_time": "2023-01-27T14:53:36.854000+09:00",
     "start_time": "2023-01-27T05:53:28.909Z"
    }
   },
   "outputs": [
    {
     "data": {
      "text/plain": [
       "2×2 Matrix{Int64}:\n",
       " 11   6\n",
       " 25  13"
      ]
     },
     "execution_count": 67,
     "metadata": {},
     "output_type": "execute_result"
    }
   ],
   "source": [
    "A * B .+ c"
   ]
  },
  {
   "cell_type": "code",
   "execution_count": 68,
   "metadata": {
    "ExecuteTime": {
     "end_time": "2023-01-27T14:53:36.953000+09:00",
     "start_time": "2023-01-27T05:53:28.911Z"
    }
   },
   "outputs": [
    {
     "data": {
      "text/plain": [
       "2×2 Matrix{Int64}:\n",
       "  3  7\n",
       " 11  4"
      ]
     },
     "execution_count": 68,
     "metadata": {},
     "output_type": "execute_result"
    }
   ],
   "source": [
    "@. A * B + c  # equivalent to `A .* B .+ c` NOT to `A * B .+ c`"
   ]
  },
  {
   "cell_type": "code",
   "execution_count": 69,
   "metadata": {
    "ExecuteTime": {
     "end_time": "2023-01-27T14:53:36.954000+09:00",
     "start_time": "2023-01-27T05:53:28.913Z"
    }
   },
   "outputs": [
    {
     "data": {
      "text/plain": [
       "2×2 Matrix{Int64}:\n",
       " 11   6\n",
       " 25  13"
      ]
     },
     "execution_count": 69,
     "metadata": {},
     "output_type": "execute_result"
    }
   ],
   "source": [
    "@. $(A * B) + c  # equivalent to `A * B .+ c`"
   ]
  },
  {
   "cell_type": "code",
   "execution_count": 70,
   "metadata": {
    "ExecuteTime": {
     "end_time": "2023-01-27T14:53:36.955000+09:00",
     "start_time": "2023-01-27T05:53:28.914Z"
    }
   },
   "outputs": [],
   "source": [
    "μ = 5.0; σ = 2.0; N = 500;"
   ]
  },
  {
   "cell_type": "code",
   "execution_count": 71,
   "metadata": {
    "ExecuteTime": {
     "end_time": "2023-01-27T14:53:36.956000+09:00",
     "start_time": "2023-01-27T05:53:28.916Z"
    }
   },
   "outputs": [
    {
     "data": {
      "text/plain": [
       "500-element Vector{Float64}:\n",
       " 7.794812893181122\n",
       " 2.2539394225487697\n",
       " 7.270426051766719\n",
       " 4.9641694998807235\n",
       " 5.427439965097286\n",
       " 7.3901645204331246\n",
       " 5.5967628964876965\n",
       " 3.8471624077132636\n",
       " 4.57893624667025\n",
       " 6.209276914955653\n",
       " 4.0043940423298094\n",
       " 1.8151526778958895\n",
       " 3.3842103641733217\n",
       " ⋮\n",
       " 5.794005340412893\n",
       " 0.6504045141573949\n",
       " 5.983065791207082\n",
       " 4.5405974382600744\n",
       " 4.64427050016337\n",
       " 0.8239353432197962\n",
       " 2.266888688449491\n",
       " 6.343969556457196\n",
       " 5.482376813519411\n",
       " 2.0969260250961717\n",
       " 7.484360975500344\n",
       " 5.187975018681206"
      ]
     },
     "execution_count": 71,
     "metadata": {},
     "output_type": "execute_result"
    }
   ],
   "source": [
    "randn(N) .* σ .+ μ  # 実行する度に結果は変わります"
   ]
  },
  {
   "cell_type": "code",
   "execution_count": 72,
   "metadata": {
    "ExecuteTime": {
     "end_time": "2023-01-27T14:53:37.460000+09:00",
     "start_time": "2023-01-27T05:53:28.918Z"
    }
   },
   "outputs": [
    {
     "ename": "LoadError",
     "evalue": "MethodError: no method matching +(::Vector{Float64}, ::Float64)\nFor element-wise addition, use broadcasting with dot syntax: array .+ scalar\n\u001b[0mClosest candidates are:\n\u001b[0m  +(::Any, ::Any, \u001b[91m::Any\u001b[39m, \u001b[91m::Any...\u001b[39m) at operators.jl:591\n\u001b[0m  +(\u001b[91m::T\u001b[39m, ::T) where T<:Union{Float16, Float32, Float64} at float.jl:383\n\u001b[0m  +(\u001b[91m::LinearAlgebra.UniformScaling\u001b[39m, ::Number) at ~/julia-1.8.5/share/julia/stdlib/v1.8/LinearAlgebra/src/uniformscaling.jl:144\n\u001b[0m  ...",
     "output_type": "error",
     "traceback": [
      "MethodError: no method matching +(::Vector{Float64}, ::Float64)\nFor element-wise addition, use broadcasting with dot syntax: array .+ scalar\n\u001b[0mClosest candidates are:\n\u001b[0m  +(::Any, ::Any, \u001b[91m::Any\u001b[39m, \u001b[91m::Any...\u001b[39m) at operators.jl:591\n\u001b[0m  +(\u001b[91m::T\u001b[39m, ::T) where T<:Union{Float16, Float32, Float64} at float.jl:383\n\u001b[0m  +(\u001b[91m::LinearAlgebra.UniformScaling\u001b[39m, ::Number) at ~/julia-1.8.5/share/julia/stdlib/v1.8/LinearAlgebra/src/uniformscaling.jl:144\n\u001b[0m  ...",
      "",
      "Stacktrace:",
      " [1] _broadcast_getindex_evalf",
      "   @ ./broadcast.jl:670 [inlined]",
      " [2] _broadcast_getindex",
      "   @ ./broadcast.jl:643 [inlined]",
      " [3] getindex",
      "   @ ./broadcast.jl:597 [inlined]",
      " [4] copy",
      "   @ ./broadcast.jl:875 [inlined]",
      " [5] materialize(bc::Base.Broadcast.Broadcasted{Base.Broadcast.DefaultArrayStyle{0}, Nothing, typeof(+), Tuple{Base.Broadcast.Broadcasted{Base.Broadcast.DefaultArrayStyle{0}, Nothing, typeof(*), Tuple{Base.Broadcast.Broadcasted{Base.Broadcast.DefaultArrayStyle{0}, Nothing, typeof(randn), Tuple{Int64}}, Float64}}, Float64}})",
      "   @ Base.Broadcast ./broadcast.jl:860",
      " [6] top-level scope",
      "   @ In[72]:1"
     ]
    }
   ],
   "source": [
    "@. randn(N) * σ + μ"
   ]
  },
  {
   "cell_type": "code",
   "execution_count": 73,
   "metadata": {
    "ExecuteTime": {
     "end_time": "2023-01-27T14:53:37.462000+09:00",
     "start_time": "2023-01-27T05:53:28.920Z"
    }
   },
   "outputs": [
    {
     "data": {
      "text/plain": [
       "500-element Vector{Float64}:\n",
       "  4.893593155594752\n",
       "  7.295216606208635\n",
       "  6.377630597720385\n",
       "  3.441900252679032\n",
       " 10.13784226629634\n",
       "  2.586488601893259\n",
       "  7.599958421610714\n",
       "  1.086734005542469\n",
       "  8.39523063840458\n",
       "  4.383344993559679\n",
       "  1.311789175958383\n",
       "  5.183836229167832\n",
       "  6.90408727927368\n",
       "  ⋮\n",
       "  5.632956595530863\n",
       "  4.608711444121653\n",
       "  4.768199677295196\n",
       "  5.353305216441186\n",
       "  5.101133624560434\n",
       "  1.4445722658191045\n",
       "  6.062246473609266\n",
       "  3.1183942486753846\n",
       "  5.274791460615795\n",
       "  6.429438192955287\n",
       "  2.7071470475898076\n",
       "  3.0334708030094713"
      ]
     },
     "execution_count": 73,
     "metadata": {},
     "output_type": "execute_result"
    }
   ],
   "source": [
    "@. $randn(N) * σ + μ  # 実行する度に結果は変わります"
   ]
  },
  {
   "cell_type": "code",
   "execution_count": 74,
   "metadata": {
    "ExecuteTime": {
     "end_time": "2023-01-27T14:53:37.692000+09:00",
     "start_time": "2023-01-27T05:53:28.922Z"
    }
   },
   "outputs": [
    {
     "data": {
      "text/plain": [
       "25"
      ]
     },
     "execution_count": 74,
     "metadata": {},
     "output_type": "execute_result"
    }
   ],
   "source": [
    "@. $sum(A * B)  # same as `sum(A .* B)`"
   ]
  },
  {
   "cell_type": "markdown",
   "metadata": {},
   "source": [
    "### 7-1-4. ブロードキャスティングの特徴"
   ]
  },
  {
   "cell_type": "markdown",
   "metadata": {},
   "source": [
    "#### コード7-12. ブロードキャスティングの例(5)"
   ]
  },
  {
   "cell_type": "code",
   "execution_count": 75,
   "metadata": {
    "ExecuteTime": {
     "end_time": "2023-01-27T14:53:37.748000+09:00",
     "start_time": "2023-01-27T05:53:28.924Z"
    }
   },
   "outputs": [],
   "source": [
    "a = [1.2, ℯ, π, √99];"
   ]
  },
  {
   "cell_type": "code",
   "execution_count": 76,
   "metadata": {
    "ExecuteTime": {
     "end_time": "2023-01-27T14:53:38.057000+09:00",
     "start_time": "2023-01-27T05:53:28.927Z"
    }
   },
   "outputs": [
    {
     "data": {
      "text/plain": [
       "4-element Vector{Int64}:\n",
       " 1\n",
       " 2\n",
       " 3\n",
       " 9"
      ]
     },
     "execution_count": 76,
     "metadata": {},
     "output_type": "execute_result"
    }
   ],
   "source": [
    "map(x -> floor(Int, x), a)"
   ]
  },
  {
   "cell_type": "code",
   "execution_count": 77,
   "metadata": {
    "ExecuteTime": {
     "end_time": "2023-01-27T14:53:38.082000+09:00",
     "start_time": "2023-01-27T05:53:28.929Z"
    }
   },
   "outputs": [
    {
     "data": {
      "text/plain": [
       "4-element Vector{Int64}:\n",
       " 1\n",
       " 2\n",
       " 3\n",
       " 9"
      ]
     },
     "execution_count": 77,
     "metadata": {},
     "output_type": "execute_result"
    }
   ],
   "source": [
    "[floor(Int, x) for x in a]"
   ]
  },
  {
   "cell_type": "code",
   "execution_count": 78,
   "metadata": {
    "ExecuteTime": {
     "end_time": "2023-01-27T14:53:38.121000+09:00",
     "start_time": "2023-01-27T05:53:28.930Z"
    }
   },
   "outputs": [
    {
     "data": {
      "text/plain": [
       "4-element Vector{Int64}:\n",
       " 1\n",
       " 2\n",
       " 3\n",
       " 9"
      ]
     },
     "execution_count": 78,
     "metadata": {},
     "output_type": "execute_result"
    }
   ],
   "source": [
    "floor.(Int, a)"
   ]
  },
  {
   "cell_type": "markdown",
   "metadata": {},
   "source": [
    "#### コード7-13. ドット構文（ブロードキャスティング）のNG例(1)"
   ]
  },
  {
   "cell_type": "code",
   "execution_count": 79,
   "metadata": {
    "ExecuteTime": {
     "end_time": "2023-01-27T14:53:38.121000+09:00",
     "start_time": "2023-01-27T05:53:28.932Z"
    }
   },
   "outputs": [],
   "source": [
    "a2 = [1, 2]; a3 = [3, 4, 5];"
   ]
  },
  {
   "cell_type": "code",
   "execution_count": 80,
   "metadata": {
    "ExecuteTime": {
     "end_time": "2023-01-27T14:53:38.216000+09:00",
     "start_time": "2023-01-27T05:53:28.934Z"
    }
   },
   "outputs": [
    {
     "data": {
      "text/plain": [
       "true"
      ]
     },
     "execution_count": 80,
     "metadata": {},
     "output_type": "execute_result"
    }
   ],
   "source": [
    "a2 .* a2 == map(*, a2, a2) == [1, 4]  # 要素数が同じものどうしなら結果は同じ"
   ]
  },
  {
   "cell_type": "code",
   "execution_count": 81,
   "metadata": {
    "ExecuteTime": {
     "end_time": "2023-01-27T14:53:38.217000+09:00",
     "start_time": "2023-01-27T05:53:28.936Z"
    }
   },
   "outputs": [
    {
     "data": {
      "text/plain": [
       "2-element Vector{Int64}:\n",
       " 3\n",
       " 8"
      ]
     },
     "execution_count": 81,
     "metadata": {},
     "output_type": "execute_result"
    }
   ],
   "source": [
    "map(*, a2, a3)  # `map` 関数は `a2` と `a3` の要素数が異なっていても動作する"
   ]
  },
  {
   "cell_type": "code",
   "execution_count": 82,
   "metadata": {
    "ExecuteTime": {
     "end_time": "2023-01-27T14:53:38.224000+09:00",
     "start_time": "2023-01-27T05:53:28.938Z"
    }
   },
   "outputs": [
    {
     "ename": "LoadError",
     "evalue": "DimensionMismatch: arrays could not be broadcast to a common size; got a dimension with lengths 2 and 3",
     "output_type": "error",
     "traceback": [
      "DimensionMismatch: arrays could not be broadcast to a common size; got a dimension with lengths 2 and 3",
      "",
      "Stacktrace:",
      " [1] _bcs1",
      "   @ ./broadcast.jl:516 [inlined]",
      " [2] _bcs",
      "   @ ./broadcast.jl:510 [inlined]",
      " [3] broadcast_shape",
      "   @ ./broadcast.jl:504 [inlined]",
      " [4] combine_axes",
      "   @ ./broadcast.jl:499 [inlined]",
      " [5] instantiate",
      "   @ ./broadcast.jl:281 [inlined]",
      " [6] materialize(bc::Base.Broadcast.Broadcasted{Base.Broadcast.DefaultArrayStyle{1}, Nothing, typeof(*), Tuple{Vector{Int64}, Vector{Int64}}})",
      "   @ Base.Broadcast ./broadcast.jl:860",
      " [7] top-level scope",
      "   @ In[82]:1"
     ]
    }
   ],
   "source": [
    "a2 .* a3"
   ]
  },
  {
   "cell_type": "code",
   "execution_count": 83,
   "metadata": {
    "ExecuteTime": {
     "end_time": "2023-01-27T14:53:38.225000+09:00",
     "start_time": "2023-01-27T05:53:28.939Z"
    }
   },
   "outputs": [],
   "source": [
    "A = [1 2; 3 4];"
   ]
  },
  {
   "cell_type": "code",
   "execution_count": 84,
   "metadata": {
    "ExecuteTime": {
     "end_time": "2023-01-27T14:53:38.308000+09:00",
     "start_time": "2023-01-27T05:53:28.941Z"
    }
   },
   "outputs": [
    {
     "data": {
      "text/plain": [
       "3-element Vector{Int64}:\n",
       "  3\n",
       " 12\n",
       " 10"
      ]
     },
     "execution_count": 84,
     "metadata": {},
     "output_type": "execute_result"
    }
   ],
   "source": [
    "map(*, A, a3)  # `map` 関数ならこれも動作する"
   ]
  },
  {
   "cell_type": "code",
   "execution_count": 85,
   "metadata": {
    "ExecuteTime": {
     "end_time": "2023-01-27T14:53:38.369000+09:00",
     "start_time": "2023-01-27T05:53:28.943Z"
    }
   },
   "outputs": [
    {
     "ename": "LoadError",
     "evalue": "DimensionMismatch: arrays could not be broadcast to a common size; got a dimension with lengths 2 and 3",
     "output_type": "error",
     "traceback": [
      "DimensionMismatch: arrays could not be broadcast to a common size; got a dimension with lengths 2 and 3",
      "",
      "Stacktrace:",
      " [1] _bcs1",
      "   @ ./broadcast.jl:516 [inlined]",
      " [2] _bcs",
      "   @ ./broadcast.jl:510 [inlined]",
      " [3] broadcast_shape",
      "   @ ./broadcast.jl:504 [inlined]",
      " [4] combine_axes",
      "   @ ./broadcast.jl:499 [inlined]",
      " [5] instantiate",
      "   @ ./broadcast.jl:281 [inlined]",
      " [6] materialize(bc::Base.Broadcast.Broadcasted{Base.Broadcast.DefaultArrayStyle{2}, Nothing, typeof(*), Tuple{Matrix{Int64}, Vector{Int64}}})",
      "   @ Base.Broadcast ./broadcast.jl:860",
      " [7] top-level scope",
      "   @ In[85]:1"
     ]
    }
   ],
   "source": [
    "A .* a3"
   ]
  },
  {
   "cell_type": "markdown",
   "metadata": {},
   "source": [
    "#### コード7-14. ドット構文（ブロードキャスティング）のNG例(2)"
   ]
  },
  {
   "cell_type": "code",
   "execution_count": 86,
   "metadata": {
    "ExecuteTime": {
     "end_time": "2023-01-27T14:53:38.370000+09:00",
     "start_time": "2023-01-27T05:53:28.945Z"
    }
   },
   "outputs": [
    {
     "data": {
      "text/plain": [
       "randnds3 (generic function with 1 method)"
      ]
     },
     "execution_count": 86,
     "metadata": {},
     "output_type": "execute_result"
    }
   ],
   "source": [
    "randnds3(N, μ, σ) = randn(N) .* σ .+ μ  # コード7-7. 参照（再掲）"
   ]
  },
  {
   "cell_type": "code",
   "execution_count": 87,
   "metadata": {
    "ExecuteTime": {
     "end_time": "2023-01-27T14:53:38.370000+09:00",
     "start_time": "2023-01-27T05:53:28.947Z"
    }
   },
   "outputs": [],
   "source": [
    "μ = 5.0; σ = 2.0;"
   ]
  },
  {
   "cell_type": "code",
   "execution_count": 88,
   "metadata": {
    "ExecuteTime": {
     "end_time": "2023-01-27T14:53:38.384000+09:00",
     "start_time": "2023-01-27T05:53:28.949Z"
    }
   },
   "outputs": [],
   "source": [
    "xs = randnds3(5000, μ, σ);\n",
    "ys = randnds3(6000, μ, σ);"
   ]
  },
  {
   "cell_type": "code",
   "execution_count": 89,
   "metadata": {
    "ExecuteTime": {
     "end_time": "2023-01-27T14:53:38.863000+09:00",
     "start_time": "2023-01-27T05:53:28.950Z"
    }
   },
   "outputs": [
    {
     "data": {
      "text/plain": [
       "(-38.82256394972482, 152.8412525705154)"
      ]
     },
     "execution_count": 89,
     "metadata": {},
     "output_type": "execute_result"
    }
   ],
   "source": [
    "extrema(xs .* ys' .+ 1)  # 方法1：ブロードキャスティングを利用"
   ]
  },
  {
   "cell_type": "code",
   "execution_count": 90,
   "metadata": {
    "ExecuteTime": {
     "end_time": "2023-01-27T14:53:39.045000+09:00",
     "start_time": "2023-01-27T05:53:28.953Z"
    }
   },
   "outputs": [
    {
     "data": {
      "text/plain": [
       "(-38.82256394972482, 152.8412525705154)"
      ]
     },
     "execution_count": 90,
     "metadata": {},
     "output_type": "execute_result"
    }
   ],
   "source": [
    "extrema(x * y + 1 for x in xs, y in ys)  # 方法2：ジェネレータ式を利用"
   ]
  },
  {
   "cell_type": "code",
   "execution_count": 91,
   "metadata": {
    "ExecuteTime": {
     "end_time": "2023-01-27T14:53:39.112000+09:00",
     "start_time": "2023-01-27T05:53:28.955Z"
    }
   },
   "outputs": [
    {
     "data": {
      "text/plain": [
       "chk_extrema1 (generic function with 1 method)"
      ]
     },
     "execution_count": 91,
     "metadata": {},
     "output_type": "execute_result"
    }
   ],
   "source": [
    "chk_extrema1(xs, ys, c) = extrema(xs .* ys' .+ c)"
   ]
  },
  {
   "cell_type": "code",
   "execution_count": 92,
   "metadata": {
    "ExecuteTime": {
     "end_time": "2023-01-27T14:53:39.180000+09:00",
     "start_time": "2023-01-27T05:53:28.957Z"
    }
   },
   "outputs": [
    {
     "data": {
      "text/plain": [
       "chk_extrema2 (generic function with 1 method)"
      ]
     },
     "execution_count": 92,
     "metadata": {},
     "output_type": "execute_result"
    }
   ],
   "source": [
    "chk_extrema2(xs, ys, c) = extrema(x * y + c for x in xs, y in ys)"
   ]
  },
  {
   "cell_type": "code",
   "execution_count": 93,
   "metadata": {
    "ExecuteTime": {
     "end_time": "2023-01-27T14:53:39.477000+09:00",
     "start_time": "2023-01-27T05:53:28.959Z"
    }
   },
   "outputs": [
    {
     "data": {
      "text/plain": [
       "true"
      ]
     },
     "execution_count": 93,
     "metadata": {},
     "output_type": "execute_result"
    }
   ],
   "source": [
    "chk_extrema1(xs, ys, 1) == chk_extrema2(xs, ys, 1)"
   ]
  },
  {
   "cell_type": "code",
   "execution_count": 94,
   "metadata": {
    "ExecuteTime": {
     "end_time": "2023-01-27T14:53:39.661000+09:00",
     "start_time": "2023-01-27T05:53:28.961Z"
    }
   },
   "outputs": [
    {
     "name": "stdout",
     "output_type": "stream",
     "text": [
      "  0.172055 seconds (3 allocations: 228.882 MiB, 14.46% gc time)\n"
     ]
    }
   ],
   "source": [
    "@time chk_extrema1(xs, ys, 1);"
   ]
  },
  {
   "cell_type": "code",
   "execution_count": 95,
   "metadata": {
    "ExecuteTime": {
     "end_time": "2023-01-27T14:53:39.761000+09:00",
     "start_time": "2023-01-27T05:53:28.962Z"
    }
   },
   "outputs": [
    {
     "name": "stdout",
     "output_type": "stream",
     "text": [
      "  0.087048 seconds (1 allocation: 32 bytes)\n"
     ]
    }
   ],
   "source": [
    "@time chk_extrema2(xs, ys, 1);"
   ]
  },
  {
   "cell_type": "code",
   "execution_count": 96,
   "metadata": {
    "ExecuteTime": {
     "end_time": "2023-01-27T14:53:39.829000+09:00",
     "start_time": "2023-01-27T05:53:28.964Z"
    }
   },
   "outputs": [
    {
     "data": {
      "text/plain": [
       "chk_extrema1′ (generic function with 1 method)"
      ]
     },
     "execution_count": 96,
     "metadata": {},
     "output_type": "execute_result"
    }
   ],
   "source": [
    "chk_extrema1′(xs, ys, c) = @. $extrema(xs * ys' + c)"
   ]
  },
  {
   "cell_type": "code",
   "execution_count": 97,
   "metadata": {
    "ExecuteTime": {
     "end_time": "2023-01-27T14:53:40.374000+09:00",
     "start_time": "2023-01-27T05:53:28.966Z"
    }
   },
   "outputs": [
    {
     "data": {
      "text/plain": [
       "true"
      ]
     },
     "execution_count": 97,
     "metadata": {},
     "output_type": "execute_result"
    }
   ],
   "source": [
    "chk_extrema1′(xs, ys, 1) == chk_extrema1(xs, ys, 1) == chk_extrema2(xs, ys, 1)"
   ]
  },
  {
   "cell_type": "code",
   "execution_count": 98,
   "metadata": {
    "ExecuteTime": {
     "end_time": "2023-01-27T14:53:40.543000+09:00",
     "start_time": "2023-01-27T05:53:28.968Z"
    }
   },
   "outputs": [
    {
     "name": "stdout",
     "output_type": "stream",
     "text": [
      "  0.157045 seconds (3 allocations: 228.882 MiB, 6.55% gc time)\n"
     ]
    }
   ],
   "source": [
    "@time chk_extrema1′(xs, ys, 1);"
   ]
  }
 ],
 "metadata": {
  "jupytext": {
   "formats": "ipynb,auto:light"
  },
  "kernelspec": {
   "display_name": "Julia 1.8.5",
   "language": "julia",
   "name": "julia-1.8"
  },
  "language_info": {
   "file_extension": ".jl",
   "mimetype": "application/julia",
   "name": "julia",
   "version": "1.8.5"
  }
 },
 "nbformat": 4,
 "nbformat_minor": 2
}
