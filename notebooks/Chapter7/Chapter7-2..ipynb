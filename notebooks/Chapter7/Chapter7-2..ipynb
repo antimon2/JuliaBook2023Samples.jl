{
 "cells": [
  {
   "cell_type": "code",
   "execution_count": 1,
   "metadata": {
    "ExecuteTime": {
     "end_time": "2023-01-27T14:55:52.760000+09:00",
     "start_time": "2023-01-27T05:55:52.139Z"
    }
   },
   "outputs": [
    {
     "name": "stdout",
     "output_type": "stream",
     "text": [
      "Julia Version 1.8.5\n",
      "Commit 17cfb8e65ea (2023-01-08 06:45 UTC)\n",
      "Platform Info:\n",
      "  OS: Linux (x86_64-linux-gnu)\n",
      "  CPU: 12 × Intel(R) Core(TM) i7-9750H CPU @ 2.60GHz\n",
      "  WORD_SIZE: 64\n",
      "  LIBM: libopenlibm\n",
      "  LLVM: libLLVM-13.0.1 (ORCJIT, skylake)\n",
      "  Threads: 1 on 12 virtual cores\n"
     ]
    }
   ],
   "source": [
    "versioninfo()"
   ]
  },
  {
   "cell_type": "markdown",
   "metadata": {},
   "source": [
    "## 7-2. ブロードキャスティングの実装"
   ]
  },
  {
   "cell_type": "markdown",
   "metadata": {},
   "source": [
    "### 7-2-1. ドット構文も構文糖衣"
   ]
  },
  {
   "cell_type": "markdown",
   "metadata": {},
   "source": [
    "#### コード7-15. ドット構文と等価な関数呼び出し例(1)"
   ]
  },
  {
   "cell_type": "code",
   "execution_count": 2,
   "metadata": {
    "ExecuteTime": {
     "end_time": "2023-01-27T14:55:54.004000+09:00",
     "start_time": "2023-01-27T05:55:52.141Z"
    }
   },
   "outputs": [
    {
     "data": {
      "text/plain": [
       "3-element Vector{Float64}:\n",
       " 0.0\n",
       " 0.8414709848078965\n",
       " 1.0"
      ]
     },
     "execution_count": 2,
     "metadata": {},
     "output_type": "execute_result"
    }
   ],
   "source": [
    "sin.([0.0, 1.0, π/2])"
   ]
  },
  {
   "cell_type": "code",
   "execution_count": 3,
   "metadata": {
    "ExecuteTime": {
     "end_time": "2023-01-27T14:55:54.016000+09:00",
     "start_time": "2023-01-27T05:55:52.142Z"
    }
   },
   "outputs": [
    {
     "data": {
      "text/plain": [
       "3-element Vector{Float64}:\n",
       " 0.0\n",
       " 0.8414709848078965\n",
       " 1.0"
      ]
     },
     "execution_count": 3,
     "metadata": {},
     "output_type": "execute_result"
    }
   ],
   "source": [
    "broadcast(sin, [0.0, 1.0, π/2])"
   ]
  },
  {
   "cell_type": "code",
   "execution_count": 4,
   "metadata": {
    "ExecuteTime": {
     "end_time": "2023-01-27T14:55:54.709000+09:00",
     "start_time": "2023-01-27T05:55:52.144Z"
    }
   },
   "outputs": [
    {
     "data": {
      "text/plain": [
       "9×9 Matrix{Int64}:\n",
       "  2   3   4   5   6   7   8   9  10\n",
       "  3   4   5   6   7   8   9  10  11\n",
       "  4   5   6   7   8   9  10  11  12\n",
       "  5   6   7   8   9  10  11  12  13\n",
       "  6   7   8   9  10  11  12  13  14\n",
       "  7   8   9  10  11  12  13  14  15\n",
       "  8   9  10  11  12  13  14  15  16\n",
       "  9  10  11  12  13  14  15  16  17\n",
       " 10  11  12  13  14  15  16  17  18"
      ]
     },
     "execution_count": 4,
     "metadata": {},
     "output_type": "execute_result"
    }
   ],
   "source": [
    "(1:9) .+ (1:9)'"
   ]
  },
  {
   "cell_type": "code",
   "execution_count": 5,
   "metadata": {
    "ExecuteTime": {
     "end_time": "2023-01-27T14:55:54.731000+09:00",
     "start_time": "2023-01-27T05:55:52.145Z"
    }
   },
   "outputs": [
    {
     "data": {
      "text/plain": [
       "9×9 Matrix{Int64}:\n",
       "  2   3   4   5   6   7   8   9  10\n",
       "  3   4   5   6   7   8   9  10  11\n",
       "  4   5   6   7   8   9  10  11  12\n",
       "  5   6   7   8   9  10  11  12  13\n",
       "  6   7   8   9  10  11  12  13  14\n",
       "  7   8   9  10  11  12  13  14  15\n",
       "  8   9  10  11  12  13  14  15  16\n",
       "  9  10  11  12  13  14  15  16  17\n",
       " 10  11  12  13  14  15  16  17  18"
      ]
     },
     "execution_count": 5,
     "metadata": {},
     "output_type": "execute_result"
    }
   ],
   "source": [
    "broadcast(+, (1:9), (1:9)')"
   ]
  },
  {
   "cell_type": "markdown",
   "metadata": {},
   "source": [
    "#### コード7-16. ドット構文と等価な関数呼び出し例(2)"
   ]
  },
  {
   "cell_type": "code",
   "execution_count": 6,
   "metadata": {
    "ExecuteTime": {
     "end_time": "2023-01-27T14:55:54.734000+09:00",
     "start_time": "2023-01-27T05:55:52.147Z"
    }
   },
   "outputs": [],
   "source": [
    "A = Matrix{Float32}(undef, 3, 3);"
   ]
  },
  {
   "cell_type": "code",
   "execution_count": 7,
   "metadata": {
    "ExecuteTime": {
     "end_time": "2023-01-27T14:55:55.067000+09:00",
     "start_time": "2023-01-27T05:55:52.149Z"
    }
   },
   "outputs": [
    {
     "data": {
      "text/plain": [
       "3×3 Matrix{Float32}:\n",
       " 1.0  1.0  1.0\n",
       " 2.0  2.0  2.0\n",
       " 3.0  3.0  3.0"
      ]
     },
     "execution_count": 7,
     "metadata": {},
     "output_type": "execute_result"
    }
   ],
   "source": [
    "A .= sqrt.([1, 4, 9]);\n",
    "A"
   ]
  },
  {
   "cell_type": "code",
   "execution_count": 8,
   "metadata": {
    "ExecuteTime": {
     "end_time": "2023-01-27T14:55:55.176000+09:00",
     "start_time": "2023-01-27T05:55:52.150Z"
    }
   },
   "outputs": [
    {
     "data": {
      "text/plain": [
       "3×3 Matrix{Float32}:\n",
       " 1.1  1.2  1.3\n",
       " 2.1  2.2  2.3\n",
       " 3.1  3.2  3.3"
      ]
     },
     "execution_count": 8,
     "metadata": {},
     "output_type": "execute_result"
    }
   ],
   "source": [
    "A .+= [.1 .2 .3];\n",
    "A"
   ]
  },
  {
   "cell_type": "code",
   "execution_count": 9,
   "metadata": {
    "ExecuteTime": {
     "end_time": "2023-01-27T14:55:55.191000+09:00",
     "start_time": "2023-01-27T05:55:52.151Z"
    }
   },
   "outputs": [
    {
     "data": {
      "text/plain": [
       "3×3 Matrix{Float32}:\n",
       " 1.0  1.0  1.0\n",
       " 2.0  2.0  2.0\n",
       " 3.0  3.0  3.0"
      ]
     },
     "execution_count": 9,
     "metadata": {},
     "output_type": "execute_result"
    }
   ],
   "source": [
    "broadcast!(sqrt, A, [1, 4, 9]);\n",
    "A"
   ]
  },
  {
   "cell_type": "code",
   "execution_count": 10,
   "metadata": {
    "ExecuteTime": {
     "end_time": "2023-01-27T14:55:55.229000+09:00",
     "start_time": "2023-01-27T05:55:52.153Z"
    }
   },
   "outputs": [
    {
     "data": {
      "text/plain": [
       "3×3 Matrix{Float32}:\n",
       " 1.1  1.2  1.3\n",
       " 2.1  2.2  2.3\n",
       " 3.1  3.2  3.3"
      ]
     },
     "execution_count": 10,
     "metadata": {},
     "output_type": "execute_result"
    }
   ],
   "source": [
    "broadcast!(+, A, A, [.1 .2 .3]);\n",
    "A"
   ]
  },
  {
   "cell_type": "markdown",
   "metadata": {},
   "source": [
    "### 7-2-2. ブロードキャスティングの仕組み"
   ]
  },
  {
   "cell_type": "markdown",
   "metadata": {},
   "source": [
    "#### 仮想コード7-1. broadcast()/broadcast!() 関数と等価なコード"
   ]
  },
  {
   "cell_type": "markdown",
   "metadata": {},
   "source": [
    "```julia\n",
    "# equivalent to `broadcast(fn, xs...)`\n",
    "Broadcast.materialize(Broadcast.broadcasted(f, xs...))\n",
    "\n",
    "# equivalent to `broadcast!(fn, dest, xs...)`\n",
    "Broadcast.materialize!(dest, Broadcast.broadcasted(f, xs...))\n",
    "```"
   ]
  },
  {
   "cell_type": "markdown",
   "metadata": {},
   "source": [
    "#### コード7-17. ドット構文とデシュガーされたコード例(1)"
   ]
  },
  {
   "cell_type": "code",
   "execution_count": 11,
   "metadata": {
    "ExecuteTime": {
     "end_time": "2023-01-27T14:55:55.231000+09:00",
     "start_time": "2023-01-27T05:55:52.155Z"
    }
   },
   "outputs": [
    {
     "data": {
      "text/plain": [
       "3-element Vector{Float64}:\n",
       " 0.0\n",
       " 0.8414709848078965\n",
       " 1.0"
      ]
     },
     "execution_count": 11,
     "metadata": {},
     "output_type": "execute_result"
    }
   ],
   "source": [
    "sin.([0.0, 1.0, π/2])"
   ]
  },
  {
   "cell_type": "code",
   "execution_count": 12,
   "metadata": {
    "ExecuteTime": {
     "end_time": "2023-01-27T14:55:55.232000+09:00",
     "start_time": "2023-01-27T05:55:52.156Z"
    }
   },
   "outputs": [
    {
     "data": {
      "text/plain": [
       "3-element Vector{Float64}:\n",
       " 0.0\n",
       " 0.8414709848078965\n",
       " 1.0"
      ]
     },
     "execution_count": 12,
     "metadata": {},
     "output_type": "execute_result"
    }
   ],
   "source": [
    "Broadcast.materialize(Broadcast.broadcasted(sin, [0.0, 1.0, π/2]))"
   ]
  },
  {
   "cell_type": "code",
   "execution_count": 13,
   "metadata": {
    "ExecuteTime": {
     "end_time": "2023-01-27T14:55:55.233000+09:00",
     "start_time": "2023-01-27T05:55:52.158Z"
    }
   },
   "outputs": [
    {
     "data": {
      "text/plain": [
       "9×9 Matrix{Int64}:\n",
       "  2   3   4   5   6   7   8   9  10\n",
       "  3   4   5   6   7   8   9  10  11\n",
       "  4   5   6   7   8   9  10  11  12\n",
       "  5   6   7   8   9  10  11  12  13\n",
       "  6   7   8   9  10  11  12  13  14\n",
       "  7   8   9  10  11  12  13  14  15\n",
       "  8   9  10  11  12  13  14  15  16\n",
       "  9  10  11  12  13  14  15  16  17\n",
       " 10  11  12  13  14  15  16  17  18"
      ]
     },
     "execution_count": 13,
     "metadata": {},
     "output_type": "execute_result"
    }
   ],
   "source": [
    "(1:9) .+ (1:9)'"
   ]
  },
  {
   "cell_type": "code",
   "execution_count": 14,
   "metadata": {
    "ExecuteTime": {
     "end_time": "2023-01-27T14:55:55.234000+09:00",
     "start_time": "2023-01-27T05:55:52.159Z"
    }
   },
   "outputs": [
    {
     "data": {
      "text/plain": [
       "9×9 Matrix{Int64}:\n",
       "  2   3   4   5   6   7   8   9  10\n",
       "  3   4   5   6   7   8   9  10  11\n",
       "  4   5   6   7   8   9  10  11  12\n",
       "  5   6   7   8   9  10  11  12  13\n",
       "  6   7   8   9  10  11  12  13  14\n",
       "  7   8   9  10  11  12  13  14  15\n",
       "  8   9  10  11  12  13  14  15  16\n",
       "  9  10  11  12  13  14  15  16  17\n",
       " 10  11  12  13  14  15  16  17  18"
      ]
     },
     "execution_count": 14,
     "metadata": {},
     "output_type": "execute_result"
    }
   ],
   "source": [
    "Broadcast.materialize(Broadcast.broadcasted(+, (1:9), (1:9)'))"
   ]
  },
  {
   "cell_type": "markdown",
   "metadata": {},
   "source": [
    "#### コード7-18. ドット構文とデシュガーされたコード例(2)"
   ]
  },
  {
   "cell_type": "code",
   "execution_count": 15,
   "metadata": {
    "ExecuteTime": {
     "end_time": "2023-01-27T14:55:55.235000+09:00",
     "start_time": "2023-01-27T05:55:52.160Z"
    }
   },
   "outputs": [],
   "source": [
    "A = Matrix{Float32}(undef, 3, 3);"
   ]
  },
  {
   "cell_type": "code",
   "execution_count": 16,
   "metadata": {
    "ExecuteTime": {
     "end_time": "2023-01-27T14:55:55.236000+09:00",
     "start_time": "2023-01-27T05:55:52.161Z"
    }
   },
   "outputs": [
    {
     "data": {
      "text/plain": [
       "3×3 Matrix{Float32}:\n",
       " 1.0  1.0  1.0\n",
       " 2.0  2.0  2.0\n",
       " 3.0  3.0  3.0"
      ]
     },
     "execution_count": 16,
     "metadata": {},
     "output_type": "execute_result"
    }
   ],
   "source": [
    "A .= sqrt.([1, 4, 9]);\n",
    "A"
   ]
  },
  {
   "cell_type": "code",
   "execution_count": 17,
   "metadata": {
    "ExecuteTime": {
     "end_time": "2023-01-27T14:55:55.237000+09:00",
     "start_time": "2023-01-27T05:55:52.164Z"
    }
   },
   "outputs": [
    {
     "data": {
      "text/plain": [
       "3×3 Matrix{Float32}:\n",
       " 1.1  1.2  1.3\n",
       " 2.1  2.2  2.3\n",
       " 3.1  3.2  3.3"
      ]
     },
     "execution_count": 17,
     "metadata": {},
     "output_type": "execute_result"
    }
   ],
   "source": [
    "A .+= [.1 .2 .3];\n",
    "A"
   ]
  },
  {
   "cell_type": "code",
   "execution_count": 18,
   "metadata": {
    "ExecuteTime": {
     "end_time": "2023-01-27T14:55:55.238000+09:00",
     "start_time": "2023-01-27T05:55:52.165Z"
    }
   },
   "outputs": [
    {
     "data": {
      "text/plain": [
       "3×3 Matrix{Float32}:\n",
       " 1.0  1.0  1.0\n",
       " 2.0  2.0  2.0\n",
       " 3.0  3.0  3.0"
      ]
     },
     "execution_count": 18,
     "metadata": {},
     "output_type": "execute_result"
    }
   ],
   "source": [
    "Broadcast.materialize!(A, Broadcast.broadcasted(sqrt, [1, 4, 9]));\n",
    "A"
   ]
  },
  {
   "cell_type": "code",
   "execution_count": 19,
   "metadata": {
    "ExecuteTime": {
     "end_time": "2023-01-27T14:55:55.240000+09:00",
     "start_time": "2023-01-27T05:55:52.167Z"
    }
   },
   "outputs": [
    {
     "data": {
      "text/plain": [
       "3×3 Matrix{Float32}:\n",
       " 1.1  1.2  1.3\n",
       " 2.1  2.2  2.3\n",
       " 3.1  3.2  3.3"
      ]
     },
     "execution_count": 19,
     "metadata": {},
     "output_type": "execute_result"
    }
   ],
   "source": [
    "Broadcast.materialize!(A, Broadcast.broadcasted(+, A, [.1 .2 .3]));\n",
    "A"
   ]
  },
  {
   "cell_type": "markdown",
   "metadata": {},
   "source": [
    "#### `Broadcast.broadcasted()` と `Broadcast.materialize()`"
   ]
  },
  {
   "cell_type": "markdown",
   "metadata": {},
   "source": [
    "##### コード7-19. Broadcast.broadcastable() の動作例"
   ]
  },
  {
   "cell_type": "code",
   "execution_count": 20,
   "metadata": {
    "ExecuteTime": {
     "end_time": "2023-01-27T14:55:55.542000+09:00",
     "start_time": "2023-01-27T05:55:52.169Z"
    }
   },
   "outputs": [
    {
     "data": {
      "text/plain": [
       "3-element Vector{Int64}:\n",
       " 1\n",
       " 2\n",
       " 3"
      ]
     },
     "execution_count": 20,
     "metadata": {},
     "output_type": "execute_result"
    }
   ],
   "source": [
    "Broadcast.broadcastable([1, 2, 3])  # そのまま返す"
   ]
  },
  {
   "cell_type": "code",
   "execution_count": 21,
   "metadata": {
    "ExecuteTime": {
     "end_time": "2023-01-27T14:55:55.826000+09:00",
     "start_time": "2023-01-27T05:55:52.170Z"
    }
   },
   "outputs": [
    {
     "data": {
      "text/plain": [
       "2×2 Matrix{Float64}:\n",
       " 1.0  2.0\n",
       " 3.0  4.0"
      ]
     },
     "execution_count": 21,
     "metadata": {},
     "output_type": "execute_result"
    }
   ],
   "source": [
    "Broadcast.broadcastable([1. 2.; 3. 4.])  # そのまま返す"
   ]
  },
  {
   "cell_type": "code",
   "execution_count": 22,
   "metadata": {
    "ExecuteTime": {
     "end_time": "2023-01-27T14:55:57.008000+09:00",
     "start_time": "2023-01-27T05:55:52.171Z"
    }
   },
   "outputs": [
    {
     "data": {
      "text/plain": [
       "('a', :ok, π)"
      ]
     },
     "execution_count": 22,
     "metadata": {},
     "output_type": "execute_result"
    }
   ],
   "source": [
    "Broadcast.broadcastable(('a', :ok, π))  # そのまま返す"
   ]
  },
  {
   "cell_type": "code",
   "execution_count": 23,
   "metadata": {
    "ExecuteTime": {
     "end_time": "2023-01-27T14:55:57.158000+09:00",
     "start_time": "2023-01-27T05:55:52.172Z"
    }
   },
   "outputs": [
    {
     "data": {
      "text/plain": [
       "1"
      ]
     },
     "execution_count": 23,
     "metadata": {},
     "output_type": "execute_result"
    }
   ],
   "source": [
    "Broadcast.broadcastable(1)"
   ]
  },
  {
   "cell_type": "code",
   "execution_count": 24,
   "metadata": {
    "ExecuteTime": {
     "end_time": "2023-01-27T14:55:57.372000+09:00",
     "start_time": "2023-01-27T05:55:52.173Z"
    }
   },
   "outputs": [
    {
     "data": {
      "text/plain": [
       "Base.RefValue{String}(\"string\")"
      ]
     },
     "execution_count": 24,
     "metadata": {},
     "output_type": "execute_result"
    }
   ],
   "source": [
    "Broadcast.broadcastable(\"string\")"
   ]
  },
  {
   "cell_type": "code",
   "execution_count": 25,
   "metadata": {
    "ExecuteTime": {
     "end_time": "2023-01-27T14:55:57.559000+09:00",
     "start_time": "2023-01-27T05:55:52.174Z"
    }
   },
   "outputs": [
    {
     "data": {
      "text/plain": [
       "Base.RefValue{Type{Int64}}(Int64)"
      ]
     },
     "execution_count": 25,
     "metadata": {},
     "output_type": "execute_result"
    }
   ],
   "source": [
    "Broadcast.broadcastable(Int)"
   ]
  },
  {
   "cell_type": "code",
   "execution_count": 26,
   "metadata": {
    "ExecuteTime": {
     "end_time": "2023-01-27T14:55:57.579000+09:00",
     "start_time": "2023-01-27T05:55:52.176Z"
    }
   },
   "outputs": [
    {
     "data": {
      "text/plain": [
       "3-element Vector{Int64}:\n",
       " 2\n",
       " 3\n",
       " 1"
      ]
     },
     "execution_count": 26,
     "metadata": {},
     "output_type": "execute_result"
    }
   ],
   "source": [
    "Broadcast.broadcastable(Set([1, 2, 3]))  # collect(Set([1, 2, 3])) と一致"
   ]
  },
  {
   "cell_type": "code",
   "execution_count": 27,
   "metadata": {
    "ExecuteTime": {
     "end_time": "2023-01-27T14:55:58.263000+09:00",
     "start_time": "2023-01-27T05:55:52.177Z"
    }
   },
   "outputs": [
    {
     "ename": "LoadError",
     "evalue": "ArgumentError: broadcasting over dictionaries and `NamedTuple`s is reserved",
     "output_type": "error",
     "traceback": [
      "ArgumentError: broadcasting over dictionaries and `NamedTuple`s is reserved",
      "",
      "Stacktrace:",
      " [1] broadcastable(#unused#::Dict{Symbol, Int64})",
      "   @ Base.Broadcast ./broadcast.jl:705",
      " [2] top-level scope",
      "   @ In[27]:1"
     ]
    }
   ],
   "source": [
    "Broadcast.broadcastable(Dict(:a=>1, :b=>2))"
   ]
  },
  {
   "cell_type": "code",
   "execution_count": 28,
   "metadata": {
    "ExecuteTime": {
     "end_time": "2023-01-27T14:55:58.306000+09:00",
     "start_time": "2023-01-27T05:55:52.178Z"
    }
   },
   "outputs": [
    {
     "ename": "LoadError",
     "evalue": "ArgumentError: broadcasting over dictionaries and `NamedTuple`s is reserved",
     "output_type": "error",
     "traceback": [
      "ArgumentError: broadcasting over dictionaries and `NamedTuple`s is reserved",
      "",
      "Stacktrace:",
      " [1] broadcastable(#unused#::NamedTuple{(:a, :b), Tuple{Int64, String}})",
      "   @ Base.Broadcast ./broadcast.jl:705",
      " [2] top-level scope",
      "   @ In[28]:1"
     ]
    }
   ],
   "source": [
    "Broadcast.broadcastable((a=1, b=\"B\"))"
   ]
  },
  {
   "cell_type": "code",
   "execution_count": 29,
   "metadata": {
    "ExecuteTime": {
     "end_time": "2023-01-27T14:55:58.715000+09:00",
     "start_time": "2023-01-27T05:55:52.179Z"
    }
   },
   "outputs": [
    {
     "ename": "LoadError",
     "evalue": "MethodError: no method matching length(::MySingleton)\n\u001b[0mClosest candidates are:\n\u001b[0m  length(\u001b[91m::Union{Base.KeySet, Base.ValueIterator}\u001b[39m) at abstractdict.jl:58\n\u001b[0m  length(\u001b[91m::Union{LinearAlgebra.Adjoint{T, S}, LinearAlgebra.Transpose{T, S}} where {T, S}\u001b[39m) at ~/julia-1.8.5/share/julia/stdlib/v1.8/LinearAlgebra/src/adjtrans.jl:172\n\u001b[0m  length(\u001b[91m::Union{ZMQ._Message, Base.RefValue{ZMQ._Message}}\u001b[39m) at ~/.julia/packages/ZMQ/lrABE/src/_message.jl:31\n\u001b[0m  ...",
     "output_type": "error",
     "traceback": [
      "MethodError: no method matching length(::MySingleton)\n\u001b[0mClosest candidates are:\n\u001b[0m  length(\u001b[91m::Union{Base.KeySet, Base.ValueIterator}\u001b[39m) at abstractdict.jl:58\n\u001b[0m  length(\u001b[91m::Union{LinearAlgebra.Adjoint{T, S}, LinearAlgebra.Transpose{T, S}} where {T, S}\u001b[39m) at ~/julia-1.8.5/share/julia/stdlib/v1.8/LinearAlgebra/src/adjtrans.jl:172\n\u001b[0m  length(\u001b[91m::Union{ZMQ._Message, Base.RefValue{ZMQ._Message}}\u001b[39m) at ~/.julia/packages/ZMQ/lrABE/src/_message.jl:31\n\u001b[0m  ...",
      "",
      "Stacktrace:",
      " [1] _similar_shape(itr::MySingleton, #unused#::Base.HasLength)",
      "   @ Base ./array.jl:663",
      " [2] _collect(cont::UnitRange{Int64}, itr::MySingleton, #unused#::Base.HasEltype, isz::Base.HasLength)",
      "   @ Base ./array.jl:718",
      " [3] collect(itr::MySingleton)",
      "   @ Base ./array.jl:712",
      " [4] broadcastable(x::MySingleton)",
      "   @ Base.Broadcast ./broadcast.jl:704",
      " [5] top-level scope",
      "   @ In[29]:2"
     ]
    }
   ],
   "source": [
    "struct MySingleton end\n",
    "Broadcast.broadcastable(MySingleton())"
   ]
  },
  {
   "cell_type": "markdown",
   "metadata": {},
   "source": [
    "##### コード7-20. ブロードキャスティングの例(6)"
   ]
  },
  {
   "cell_type": "code",
   "execution_count": 30,
   "metadata": {
    "ExecuteTime": {
     "end_time": "2023-01-27T14:55:58.716000+09:00",
     "start_time": "2023-01-27T05:55:52.181Z"
    }
   },
   "outputs": [],
   "source": [
    "A = [1 1; 1 0];"
   ]
  },
  {
   "cell_type": "code",
   "execution_count": 31,
   "metadata": {
    "ExecuteTime": {
     "end_time": "2023-01-27T14:55:58.802000+09:00",
     "start_time": "2023-01-27T05:55:52.182Z"
    }
   },
   "outputs": [
    {
     "ename": "LoadError",
     "evalue": "DimensionMismatch: arrays could not be broadcast to a common size; got a dimension with lengths 2 and 11",
     "output_type": "error",
     "traceback": [
      "DimensionMismatch: arrays could not be broadcast to a common size; got a dimension with lengths 2 and 11",
      "",
      "Stacktrace:",
      " [1] _bcs1",
      "   @ ./broadcast.jl:516 [inlined]",
      " [2] _bcs",
      "   @ ./broadcast.jl:510 [inlined]",
      " [3] broadcast_shape",
      "   @ ./broadcast.jl:504 [inlined]",
      " [4] combine_axes",
      "   @ ./broadcast.jl:499 [inlined]",
      " [5] instantiate",
      "   @ ./broadcast.jl:281 [inlined]",
      " [6] materialize(bc::Base.Broadcast.Broadcasted{Base.Broadcast.DefaultArrayStyle{2}, Nothing, typeof(^), Tuple{Matrix{Int64}, UnitRange{Int64}}})",
      "   @ Base.Broadcast ./broadcast.jl:860",
      " [7] top-level scope",
      "   @ In[31]:1"
     ]
    }
   ],
   "source": [
    "A .^ (0:10)"
   ]
  },
  {
   "cell_type": "code",
   "execution_count": 32,
   "metadata": {
    "ExecuteTime": {
     "end_time": "2023-01-27T14:55:59.800000+09:00",
     "start_time": "2023-01-27T05:55:52.183Z"
    }
   },
   "outputs": [
    {
     "data": {
      "text/plain": [
       "11-element Vector{Matrix{Int64}}:\n",
       " [1 0; 0 1]\n",
       " [1 1; 1 0]\n",
       " [2 1; 1 1]\n",
       " [3 2; 2 1]\n",
       " [5 3; 3 2]\n",
       " [8 5; 5 3]\n",
       " [13 8; 8 5]\n",
       " [21 13; 13 8]\n",
       " [34 21; 21 13]\n",
       " [55 34; 34 21]\n",
       " [89 55; 55 34]"
      ]
     },
     "execution_count": 32,
     "metadata": {},
     "output_type": "execute_result"
    }
   ],
   "source": [
    "Ref(A) .^ (0:10)"
   ]
  },
  {
   "cell_type": "code",
   "execution_count": 33,
   "metadata": {
    "ExecuteTime": {
     "end_time": "2023-01-27T14:55:59.968000+09:00",
     "start_time": "2023-01-27T05:55:52.185Z"
    }
   },
   "outputs": [
    {
     "data": {
      "text/plain": [
       "replace_with_dict (generic function with 1 method)"
      ]
     },
     "execution_count": 33,
     "metadata": {},
     "output_type": "execute_result"
    }
   ],
   "source": [
    "replace_with_dict(str::AbstractString, dict::AbstractDict) = \n",
    "    replace(str, ∈(keys(dict))=>c->dict[c])"
   ]
  },
  {
   "cell_type": "code",
   "execution_count": 34,
   "metadata": {
    "ExecuteTime": {
     "end_time": "2023-01-27T14:55:59.981000+09:00",
     "start_time": "2023-01-27T05:55:52.186Z"
    }
   },
   "outputs": [],
   "source": [
    "dict0 = Dict('o'=>'0', 'i'=>'1', 'z'=>'2', 'e'=>'3',\n",
    "    'a'=>'4', 's'=>'5', 'b'=>'6', 't'=>'7');"
   ]
  },
  {
   "cell_type": "code",
   "execution_count": 35,
   "metadata": {
    "ExecuteTime": {
     "end_time": "2023-01-27T14:56:00.422000+09:00",
     "start_time": "2023-01-27T05:55:52.187Z"
    }
   },
   "outputs": [
    {
     "data": {
      "text/plain": [
       "\"Jul14\""
      ]
     },
     "execution_count": 35,
     "metadata": {},
     "output_type": "execute_result"
    }
   ],
   "source": [
    "replace_with_dict(\"Julia\", dict0)"
   ]
  },
  {
   "cell_type": "code",
   "execution_count": 36,
   "metadata": {
    "ExecuteTime": {
     "end_time": "2023-01-27T14:56:00.422000+09:00",
     "start_time": "2023-01-27T05:55:52.188Z"
    }
   },
   "outputs": [],
   "source": [
    "strs = [\"Julia\", \"Python\", \"Ruby\", \"Haskell\"];"
   ]
  },
  {
   "cell_type": "code",
   "execution_count": 37,
   "metadata": {
    "ExecuteTime": {
     "end_time": "2023-01-27T14:56:00.799000+09:00",
     "start_time": "2023-01-27T05:55:52.189Z"
    }
   },
   "outputs": [
    {
     "data": {
      "text/plain": [
       "4-element Vector{String}:\n",
       " \"Jul14\"\n",
       " \"Py7h0n\"\n",
       " \"Ru6y\"\n",
       " \"H45k3ll\""
      ]
     },
     "execution_count": 37,
     "metadata": {},
     "output_type": "execute_result"
    }
   ],
   "source": [
    "replace_with_dict.(strs, Ref(dict0))"
   ]
  },
  {
   "cell_type": "code",
   "execution_count": 38,
   "metadata": {
    "ExecuteTime": {
     "end_time": "2023-01-27T14:56:00.810000+09:00",
     "start_time": "2023-01-27T05:55:52.191Z"
    }
   },
   "outputs": [
    {
     "ename": "LoadError",
     "evalue": "ArgumentError: broadcasting over dictionaries and `NamedTuple`s is reserved",
     "output_type": "error",
     "traceback": [
      "ArgumentError: broadcasting over dictionaries and `NamedTuple`s is reserved",
      "",
      "Stacktrace:",
      " [1] broadcastable(#unused#::Dict{Char, Char})",
      "   @ Base.Broadcast ./broadcast.jl:705",
      " [2] broadcasted(::Function, ::Vector{String}, ::Dict{Char, Char})",
      "   @ Base.Broadcast ./broadcast.jl:1302",
      " [3] top-level scope",
      "   @ In[38]:1"
     ]
    }
   ],
   "source": [
    "replace_with_dict.(strs, dict0)"
   ]
  },
  {
   "cell_type": "markdown",
   "metadata": {},
   "source": [
    "#### `Broadcast.BroadcastStyle`"
   ]
  },
  {
   "cell_type": "markdown",
   "metadata": {},
   "source": [
    "##### コード7-21. `Broadcast.BroadcastStyle` の確認(1)"
   ]
  },
  {
   "cell_type": "code",
   "execution_count": 39,
   "metadata": {
    "ExecuteTime": {
     "end_time": "2023-01-27T14:56:00.977000+09:00",
     "start_time": "2023-01-27T05:55:52.193Z"
    }
   },
   "outputs": [
    {
     "data": {
      "text/plain": [
       "Base.Broadcast.DefaultArrayStyle{1}()"
      ]
     },
     "execution_count": 39,
     "metadata": {},
     "output_type": "execute_result"
    }
   ],
   "source": [
    "Broadcast.broadcastable([1, 2, 3]) |> typeof |> Broadcast.BroadcastStyle"
   ]
  },
  {
   "cell_type": "code",
   "execution_count": 40,
   "metadata": {
    "ExecuteTime": {
     "end_time": "2023-01-27T14:56:01.172000+09:00",
     "start_time": "2023-01-27T05:55:52.194Z"
    }
   },
   "outputs": [
    {
     "data": {
      "text/plain": [
       "Base.Broadcast.DefaultArrayStyle{2}()"
      ]
     },
     "execution_count": 40,
     "metadata": {},
     "output_type": "execute_result"
    }
   ],
   "source": [
    "Broadcast.broadcastable(Float32[1 2; 3 4]) |> typeof |> Broadcast.BroadcastStyle"
   ]
  },
  {
   "cell_type": "code",
   "execution_count": 41,
   "metadata": {
    "ExecuteTime": {
     "end_time": "2023-01-27T14:56:01.176000+09:00",
     "start_time": "2023-01-27T05:55:52.196Z"
    }
   },
   "outputs": [
    {
     "data": {
      "text/plain": [
       "Base.Broadcast.DefaultArrayStyle{1}()"
      ]
     },
     "execution_count": 41,
     "metadata": {},
     "output_type": "execute_result"
    }
   ],
   "source": [
    "Broadcast.broadcastable(1:10) |> typeof |> Broadcast.BroadcastStyle"
   ]
  },
  {
   "cell_type": "code",
   "execution_count": 42,
   "metadata": {
    "ExecuteTime": {
     "end_time": "2023-01-27T14:56:01.368000+09:00",
     "start_time": "2023-01-27T05:55:52.197Z"
    }
   },
   "outputs": [
    {
     "data": {
      "text/plain": [
       "Base.Broadcast.Style{Tuple}()"
      ]
     },
     "execution_count": 42,
     "metadata": {},
     "output_type": "execute_result"
    }
   ],
   "source": [
    "Broadcast.broadcastable((1, 2.0, 3//1)) |> typeof |> Broadcast.BroadcastStyle"
   ]
  },
  {
   "cell_type": "code",
   "execution_count": 43,
   "metadata": {
    "ExecuteTime": {
     "end_time": "2023-01-27T14:56:01.532000+09:00",
     "start_time": "2023-01-27T05:55:52.199Z"
    }
   },
   "outputs": [
    {
     "data": {
      "text/plain": [
       "Base.Broadcast.DefaultArrayStyle{0}()"
      ]
     },
     "execution_count": 43,
     "metadata": {},
     "output_type": "execute_result"
    }
   ],
   "source": [
    "Broadcast.broadcastable(1) |> typeof |> Broadcast.BroadcastStyle"
   ]
  },
  {
   "cell_type": "code",
   "execution_count": 44,
   "metadata": {
    "ExecuteTime": {
     "end_time": "2023-01-27T14:56:01.533000+09:00",
     "start_time": "2023-01-27T05:55:52.201Z"
    }
   },
   "outputs": [
    {
     "data": {
      "text/plain": [
       "Base.Broadcast.DefaultArrayStyle{0}()"
      ]
     },
     "execution_count": 44,
     "metadata": {},
     "output_type": "execute_result"
    }
   ],
   "source": [
    "Broadcast.broadcastable(\"string\") |> typeof |> Broadcast.BroadcastStyle"
   ]
  },
  {
   "cell_type": "code",
   "execution_count": 45,
   "metadata": {
    "ExecuteTime": {
     "end_time": "2023-01-27T14:56:01.535000+09:00",
     "start_time": "2023-01-27T05:55:52.202Z"
    }
   },
   "outputs": [
    {
     "data": {
      "text/plain": [
       "Base.Broadcast.DefaultArrayStyle{0}()"
      ]
     },
     "execution_count": 45,
     "metadata": {},
     "output_type": "execute_result"
    }
   ],
   "source": [
    "Broadcast.broadcastable(Ref([1 1; 1 0])) |> typeof |> Broadcast.BroadcastStyle"
   ]
  },
  {
   "cell_type": "markdown",
   "metadata": {},
   "source": [
    "##### コード7-22. `Broadcast.BroadcastStyle` の確認(2)"
   ]
  },
  {
   "cell_type": "code",
   "execution_count": 46,
   "metadata": {
    "ExecuteTime": {
     "end_time": "2023-01-27T14:56:01.536000+09:00",
     "start_time": "2023-01-27T05:55:52.204Z"
    }
   },
   "outputs": [
    {
     "data": {
      "text/plain": [
       "Base.Broadcast.DefaultArrayStyle{0}()"
      ]
     },
     "execution_count": 46,
     "metadata": {},
     "output_type": "execute_result"
    }
   ],
   "source": [
    "bs0 = Broadcast.BroadcastStyle(Int)"
   ]
  },
  {
   "cell_type": "code",
   "execution_count": 47,
   "metadata": {
    "ExecuteTime": {
     "end_time": "2023-01-27T14:56:01.536000+09:00",
     "start_time": "2023-01-27T05:55:52.205Z"
    }
   },
   "outputs": [
    {
     "data": {
      "text/plain": [
       "Base.Broadcast.DefaultArrayStyle{1}()"
      ]
     },
     "execution_count": 47,
     "metadata": {},
     "output_type": "execute_result"
    }
   ],
   "source": [
    "bs1 = Broadcast.BroadcastStyle(Vector{Int})"
   ]
  },
  {
   "cell_type": "code",
   "execution_count": 48,
   "metadata": {
    "ExecuteTime": {
     "end_time": "2023-01-27T14:56:01.537000+09:00",
     "start_time": "2023-01-27T05:55:52.206Z"
    }
   },
   "outputs": [
    {
     "data": {
      "text/plain": [
       "Base.Broadcast.DefaultArrayStyle{2}()"
      ]
     },
     "execution_count": 48,
     "metadata": {},
     "output_type": "execute_result"
    }
   ],
   "source": [
    "bs2 = Broadcast.BroadcastStyle(Matrix{Int})"
   ]
  },
  {
   "cell_type": "code",
   "execution_count": 49,
   "metadata": {
    "ExecuteTime": {
     "end_time": "2023-01-27T14:56:01.538000+09:00",
     "start_time": "2023-01-27T05:55:52.207Z"
    }
   },
   "outputs": [
    {
     "data": {
      "text/plain": [
       "Base.Broadcast.Style{Tuple}()"
      ]
     },
     "execution_count": 49,
     "metadata": {},
     "output_type": "execute_result"
    }
   ],
   "source": [
    "bst = Broadcast.BroadcastStyle(typeof((1, 2, 3)))"
   ]
  },
  {
   "cell_type": "code",
   "execution_count": 50,
   "metadata": {
    "ExecuteTime": {
     "end_time": "2023-01-27T14:56:01.538000+09:00",
     "start_time": "2023-01-27T05:55:52.209Z"
    }
   },
   "outputs": [
    {
     "data": {
      "text/plain": [
       "Base.Broadcast.DefaultArrayStyle{1}()"
      ]
     },
     "execution_count": 50,
     "metadata": {},
     "output_type": "execute_result"
    }
   ],
   "source": [
    "Broadcast.BroadcastStyle(bs0, bs1)"
   ]
  },
  {
   "cell_type": "code",
   "execution_count": 51,
   "metadata": {
    "ExecuteTime": {
     "end_time": "2023-01-27T14:56:01.539000+09:00",
     "start_time": "2023-01-27T05:55:52.210Z"
    }
   },
   "outputs": [
    {
     "data": {
      "text/plain": [
       "Base.Broadcast.DefaultArrayStyle{2}()"
      ]
     },
     "execution_count": 51,
     "metadata": {},
     "output_type": "execute_result"
    }
   ],
   "source": [
    "Broadcast.BroadcastStyle(bs0, bs2)"
   ]
  },
  {
   "cell_type": "code",
   "execution_count": 52,
   "metadata": {
    "ExecuteTime": {
     "end_time": "2023-01-27T14:56:01.539000+09:00",
     "start_time": "2023-01-27T05:55:52.211Z"
    }
   },
   "outputs": [
    {
     "data": {
      "text/plain": [
       "Base.Broadcast.DefaultArrayStyle{2}()"
      ]
     },
     "execution_count": 52,
     "metadata": {},
     "output_type": "execute_result"
    }
   ],
   "source": [
    "Broadcast.BroadcastStyle(bs1, bs2)"
   ]
  },
  {
   "cell_type": "code",
   "execution_count": 53,
   "metadata": {
    "ExecuteTime": {
     "end_time": "2023-01-27T14:56:01.540000+09:00",
     "start_time": "2023-01-27T05:55:52.213Z"
    }
   },
   "outputs": [
    {
     "data": {
      "text/plain": [
       "Base.Broadcast.Style{Tuple}()"
      ]
     },
     "execution_count": 53,
     "metadata": {},
     "output_type": "execute_result"
    }
   ],
   "source": [
    "Broadcast.BroadcastStyle(bs0, bst)"
   ]
  },
  {
   "cell_type": "code",
   "execution_count": 54,
   "metadata": {
    "ExecuteTime": {
     "end_time": "2023-01-27T14:56:01.540000+09:00",
     "start_time": "2023-01-27T05:55:52.214Z"
    }
   },
   "outputs": [
    {
     "data": {
      "text/plain": [
       "Base.Broadcast.DefaultArrayStyle{1}()"
      ]
     },
     "execution_count": 54,
     "metadata": {},
     "output_type": "execute_result"
    }
   ],
   "source": [
    "Broadcast.BroadcastStyle(bs1, bst)"
   ]
  },
  {
   "cell_type": "code",
   "execution_count": 55,
   "metadata": {
    "ExecuteTime": {
     "end_time": "2023-01-27T14:56:01.541000+09:00",
     "start_time": "2023-01-27T05:55:52.215Z"
    }
   },
   "outputs": [
    {
     "data": {
      "text/plain": [
       "Base.Broadcast.DefaultArrayStyle{2}()"
      ]
     },
     "execution_count": 55,
     "metadata": {},
     "output_type": "execute_result"
    }
   ],
   "source": [
    "Broadcast.BroadcastStyle(bs2, bst)"
   ]
  },
  {
   "cell_type": "code",
   "execution_count": 56,
   "metadata": {
    "ExecuteTime": {
     "end_time": "2023-01-27T14:56:01.541000+09:00",
     "start_time": "2023-01-27T05:55:52.217Z"
    }
   },
   "outputs": [
    {
     "data": {
      "text/plain": [
       "Base.Broadcast.DefaultArrayStyle{1}()"
      ]
     },
     "execution_count": 56,
     "metadata": {},
     "output_type": "execute_result"
    }
   ],
   "source": [
    "Broadcast.BroadcastStyle(bs1, bs0)"
   ]
  },
  {
   "cell_type": "code",
   "execution_count": 57,
   "metadata": {
    "ExecuteTime": {
     "end_time": "2023-01-27T14:56:01.715000+09:00",
     "start_time": "2023-01-27T05:55:52.219Z"
    }
   },
   "outputs": [
    {
     "data": {
      "text/plain": [
       "Base.Broadcast.Unknown()"
      ]
     },
     "execution_count": 57,
     "metadata": {},
     "output_type": "execute_result"
    }
   ],
   "source": [
    "Broadcast.BroadcastStyle(bst, bs0)"
   ]
  },
  {
   "cell_type": "code",
   "execution_count": 58,
   "metadata": {
    "ExecuteTime": {
     "end_time": "2023-01-27T14:56:01.903000+09:00",
     "start_time": "2023-01-27T05:55:52.220Z"
    }
   },
   "outputs": [
    {
     "data": {
      "text/plain": [
       "true"
      ]
     },
     "execution_count": 58,
     "metadata": {},
     "output_type": "execute_result"
    }
   ],
   "source": [
    "all(Broadcast.BroadcastStyle(bs, bs) === bs for bs in (bs0, bs1, bs2, bst))"
   ]
  }
 ],
 "metadata": {
  "jupytext": {
   "formats": "ipynb,auto:light"
  },
  "kernelspec": {
   "display_name": "Julia 1.8.5",
   "language": "julia",
   "name": "julia-1.8"
  },
  "language_info": {
   "file_extension": ".jl",
   "mimetype": "application/julia",
   "name": "julia",
   "version": "1.8.5"
  }
 },
 "nbformat": 4,
 "nbformat_minor": 2
}
