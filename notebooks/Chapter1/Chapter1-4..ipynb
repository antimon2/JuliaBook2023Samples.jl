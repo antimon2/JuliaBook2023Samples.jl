{
 "cells": [
  {
   "cell_type": "code",
   "execution_count": 1,
   "id": "470bdec6-9db5-4ef8-845a-9b01ae3a2b37",
   "metadata": {
    "ExecuteTime": {
     "end_time": "2023-01-26T21:37:42.981000+09:00",
     "start_time": "2023-01-26T12:37:41.578Z"
    }
   },
   "outputs": [
    {
     "name": "stdout",
     "output_type": "stream",
     "text": [
      "Julia Version 1.8.5\n",
      "Commit 17cfb8e65ea (2023-01-08 06:45 UTC)\n",
      "Platform Info:\n",
      "  OS: Linux (x86_64-linux-gnu)\n",
      "  CPU: 12 × Intel(R) Core(TM) i7-9750H CPU @ 2.60GHz\n",
      "  WORD_SIZE: 64\n",
      "  LIBM: libopenlibm\n",
      "  LLVM: libLLVM-13.0.1 (ORCJIT, skylake)\n",
      "  Threads: 4 on 12 virtual cores\n",
      "Environment:\n",
      "  JULIA_NUM_THREADS = 4\n"
     ]
    }
   ],
   "source": [
    "versioninfo()"
   ]
  },
  {
   "cell_type": "markdown",
   "id": "bbb6aa78",
   "metadata": {},
   "source": [
    "## 1-4. Julia を JupyterLab で使用する"
   ]
  },
  {
   "cell_type": "markdown",
   "id": "d7fedb4d",
   "metadata": {},
   "source": [
    "### 1-4-1. JupyterLab および IJulia のインストール"
   ]
  },
  {
   "cell_type": "markdown",
   "id": "6f301905",
   "metadata": {},
   "source": [
    "#### IJulia を利用して JupyterLab をインストールする"
   ]
  },
  {
   "cell_type": "markdown",
   "id": "60dcea4e",
   "metadata": {},
   "source": [
    "##### 仮想コード1-9. IJulia からの JupyterLab インストール例（Windows での例）"
   ]
  },
  {
   "cell_type": "markdown",
   "id": "528d1fe6",
   "metadata": {},
   "source": [
    "```julia\n",
    "julia> # `]` をタイプしてパッケージモードに移行\n",
    "\n",
    "(@v1.7) pkg> add IJulia\n",
    "# : 《動作例略》\n",
    "\n",
    "julia> using IJulia\n",
    "\n",
    "julia> jupyterlab()  # `IJulia.jupyterlab()`\n",
    "install Jupyter via Conda, y/n? [y]:\n",
    "[ Info: Downloading miniconda installer ...\n",
    "[ Info: Installing miniconda ...\n",
    "[ Info: Running `conda install -y jupyterlab` in root environment\n",
    "Collecting package metadata (current_repodata.json): done\n",
    "Solving environment: done\n",
    "\n",
    "# :《中略》\n",
    "done\n",
    "[ Info: running setenv(`'C:\\Users\\username\\.julia\\conda\\3\\Scripts\\jupyter.exe' lab`, # ...《以下略》\n",
    "```"
   ]
  },
  {
   "cell_type": "markdown",
   "id": "043f6aa9",
   "metadata": {},
   "source": [
    "#### JupyterLab を Python のパッケージマネージャからインストールする"
   ]
  },
  {
   "cell_type": "markdown",
   "id": "71d1d9e5",
   "metadata": {},
   "source": [
    "##### 仮想コード1-10. JupyterLab のコマンドラインインストール方法（例）"
   ]
  },
  {
   "cell_type": "markdown",
   "id": "17267839",
   "metadata": {},
   "source": [
    "```shell\n",
    "$ conda install -c conda-forge jupyterlab\n",
    "\n",
    "# または \n",
    "\n",
    "$ pip install jupyterlab\n",
    "```"
   ]
  },
  {
   "cell_type": "markdown",
   "id": "f4ff9812",
   "metadata": {},
   "source": [
    "#### Julia カーネルを追加する"
   ]
  },
  {
   "cell_type": "markdown",
   "id": "a08e819d",
   "metadata": {},
   "source": [
    "##### コード1-18. `IJulia.jl` パッケージの追加（＝Julia カーネルの追加）"
   ]
  },
  {
   "cell_type": "markdown",
   "id": "ed451431",
   "metadata": {},
   "source": [
    "```julia\n",
    "julia> # `]` をタイプしてパッケージモードに移行\n",
    "\n",
    "(@v1.7) pkg> add IJulia\n",
    "    Updating registry at `~/.julia/registries/General.toml`\n",
    "   Resolving package versions...\n",
    "   Installed Conda ─────────── v1.7.0\n",
    "   Installed VersionParsing ── v1.3.0\n",
    "   Installed Parsers ───────── v2.3.1\n",
    "   Installed ZMQ ───────────── v1.2.1\n",
    "   Installed Preferences ───── v1.3.0\n",
    "   Installed JSON ──────────── v0.21.3\n",
    "   Installed IJulia ────────── v1.23.3\n",
    "   Installed JLLWrappers ───── v1.4.1\n",
    "   Installed ZeroMQ_jll ────── v4.3.4+0\n",
    "   Installed SoftGlobalScope ─ v1.1.0\n",
    "   Installed libsodium_jll ─── v1.0.20+0\n",
    "   Installed MbedTLS ───────── v1.0.3\n",
    "  Downloaded artifact: ZeroMQ\n",
    "  Downloaded artifact: libsodium\n",
    "    Updating `~/.julia/environments/v1.7/Project.toml`\n",
    "  [7073ff75] + IJulia v1.23.3\n",
    "    Updating `~/.julia/environments/v1.7/Manifest.toml`\n",
    "  [8f4d0f93] + Conda v1.7.0\n",
    "  [7073ff75] + IJulia v1.23.3\n",
    "   # :《中略》\n",
    "  [3f19e933] + p7zip_jll\n",
    "    Building Conda ─→ `~/.julia/scratchspaces/44cfe95a-1eb2-52ea-b672-e2afdf69b78f/6e47d11ea2776bc5627421d59cdcc1296c058071/build.log`\n",
    "    Building IJulia → `~/.julia/scratchspaces/44cfe95a-1eb2-52ea-b672-e2afdf69b78f/98ab633acb0fe071b671f6c1785c46cd70bb86bd/build.log`\n",
    "Precompiling project...\n",
    "  11 dependencies successfully precompiled in 3 seconds (4 already precompiled)\n",
    "```"
   ]
  },
  {
   "cell_type": "markdown",
   "id": "1d0bca94",
   "metadata": {},
   "source": [
    "##### コード1-19. Jupyterカーネル追加例（4スレッド対応）"
   ]
  },
  {
   "cell_type": "markdown",
   "id": "2610a664",
   "metadata": {},
   "source": [
    "```julia\n",
    "julia> ENV[\"JUPYTER_DATA_DIR\"] = ENV[\"CONDA_PREFIX\"] * \"/share/jupyter\"\n",
    "       # 環境変数 CONDA_PREFIX が未設定だとエラーが発生しますのでご注意！\n",
    "\"/path/to/conda_prefix/share/jupyter\"\n",
    "\n",
    "julia> using IJulia\n",
    "\n",
    "julia> IJulia.installkernel(\"Julia (4 threads)\", \"--project=@.\", env=Dict(\"JULIA_NUM_THREADS\"=>\"4\"))\n",
    "[ Info: Installing Julia (4 threads) kernelspec in /path/to/conda_prefix/share/jupyter/kernels/julia-(4-threads)-1.7\n",
    "\"/path/to/conda_prefix/share/jupyter/kernels/julia-(4-threads)-1.7\"\n",
    "```"
   ]
  }
 ],
 "metadata": {
  "jupytext": {
   "formats": "ipynb,auto:light"
  },
  "kernelspec": {
   "display_name": "Julia (4 threads) 1.8.5",
   "language": "julia",
   "name": "julia-_4-threads_-1.8"
  },
  "language_info": {
   "file_extension": ".jl",
   "mimetype": "application/julia",
   "name": "julia",
   "version": "1.8.5"
  }
 },
 "nbformat": 4,
 "nbformat_minor": 5
}
