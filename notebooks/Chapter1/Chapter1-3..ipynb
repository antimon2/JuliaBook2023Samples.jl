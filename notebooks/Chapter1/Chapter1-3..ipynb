{
 "cells": [
  {
   "cell_type": "code",
   "execution_count": 1,
   "id": "fdc55acf",
   "metadata": {
    "ExecuteTime": {
     "end_time": "2023-01-26T21:11:37.513000+09:00",
     "start_time": "2023-01-26T12:11:36.134Z"
    }
   },
   "outputs": [
    {
     "name": "stdout",
     "output_type": "stream",
     "text": [
      "Julia Version 1.8.5\n",
      "Commit 17cfb8e65ea (2023-01-08 06:45 UTC)\n",
      "Platform Info:\n",
      "  OS: Linux (x86_64-linux-gnu)\n",
      "  CPU: 12 × Intel(R) Core(TM) i7-9750H CPU @ 2.60GHz\n",
      "  WORD_SIZE: 64\n",
      "  LIBM: libopenlibm\n",
      "  LLVM: libLLVM-13.0.1 (ORCJIT, skylake)\n",
      "  Threads: 4 on 12 virtual cores\n",
      "Environment:\n",
      "  JULIA_NUM_THREADS = 4\n"
     ]
    }
   ],
   "source": [
    "versioninfo()"
   ]
  },
  {
   "cell_type": "markdown",
   "id": "baeafee0",
   "metadata": {},
   "source": [
    "## 1-3. Julia を REPL で使用する"
   ]
  },
  {
   "cell_type": "markdown",
   "id": "6e8d9ac9",
   "metadata": {},
   "source": [
    "### 1-3-1. Julia モード"
   ]
  },
  {
   "cell_type": "markdown",
   "id": "d42269df",
   "metadata": {},
   "source": [
    "#### コード1-13. Julia の REPL（Julia モードの例）"
   ]
  },
  {
   "cell_type": "code",
   "execution_count": 2,
   "id": "40c1ebcc",
   "metadata": {
    "ExecuteTime": {
     "end_time": "2023-01-26T21:13:35.335000+09:00",
     "start_time": "2023-01-26T12:13:34.878Z"
    }
   },
   "outputs": [
    {
     "data": {
      "text/plain": [
       "2"
      ]
     },
     "execution_count": 2,
     "metadata": {},
     "output_type": "execute_result"
    }
   ],
   "source": [
    "1 + 1  # 演算（足し算）"
   ]
  },
  {
   "cell_type": "code",
   "execution_count": 3,
   "id": "e7a91a28",
   "metadata": {
    "ExecuteTime": {
     "end_time": "2023-01-26T21:13:42.381000+09:00",
     "start_time": "2023-01-26T12:13:41.971Z"
    }
   },
   "outputs": [
    {
     "data": {
      "text/plain": [
       "0.8414709848078965"
      ]
     },
     "execution_count": 3,
     "metadata": {},
     "output_type": "execute_result"
    }
   ],
   "source": [
    "sin(1.0)  # 関数呼び出し"
   ]
  },
  {
   "cell_type": "code",
   "execution_count": 4,
   "id": "bfa8a089",
   "metadata": {
    "ExecuteTime": {
     "end_time": "2023-01-26T21:13:58.098000+09:00",
     "start_time": "2023-01-26T12:13:57.559Z"
    }
   },
   "outputs": [
    {
     "data": {
      "text/plain": [
       "\"π は 3 より大きい\""
      ]
     },
     "execution_count": 4,
     "metadata": {},
     "output_type": "execute_result"
    }
   ],
   "source": [
    "if π > 3\n",
    "    \"π は 3 より大きい\"\n",
    "else\n",
    "    error(\"ここには絶対来ないはず（来たら文字通りエラー）\")\n",
    "end  # `if` 文（`if` 式）"
   ]
  },
  {
   "cell_type": "code",
   "execution_count": 5,
   "id": "3e4ca752",
   "metadata": {
    "ExecuteTime": {
     "end_time": "2023-01-26T21:14:09.649000+09:00",
     "start_time": "2023-01-26T12:14:09.383Z"
    }
   },
   "outputs": [
    {
     "data": {
      "text/plain": [
       "fib_simple (generic function with 1 method)"
      ]
     },
     "execution_count": 5,
     "metadata": {},
     "output_type": "execute_result"
    }
   ],
   "source": [
    "fib_simple(n) = n < 2 ? n : fib_simple(n - 1) + fib_simple(n - 2)  # 関数定義"
   ]
  },
  {
   "cell_type": "code",
   "execution_count": 6,
   "id": "7b7a7c2e",
   "metadata": {
    "ExecuteTime": {
     "end_time": "2023-01-26T21:14:21.593000+09:00",
     "start_time": "2023-01-26T12:14:21.485Z"
    }
   },
   "outputs": [],
   "source": [
    "using BenchmarkTools  # `using` 文（パッケージのインポート）"
   ]
  },
  {
   "cell_type": "code",
   "execution_count": 7,
   "id": "8a169a38",
   "metadata": {
    "ExecuteTime": {
     "end_time": "2023-01-26T21:14:42.112000+09:00",
     "start_time": "2023-01-26T12:14:28.841Z"
    }
   },
   "outputs": [
    {
     "name": "stdout",
     "output_type": "stream",
     "text": [
      "  392.272 ms (0 allocations: 0 bytes)\n"
     ]
    },
    {
     "data": {
      "text/plain": [
       "102334155"
      ]
     },
     "execution_count": 7,
     "metadata": {},
     "output_type": "execute_result"
    }
   ],
   "source": [
    "@btime fib_simple(40)  # マクロ呼び出し（`@btime` は `BenchmarkTools` で定義されているマクロ）"
   ]
  },
  {
   "cell_type": "code",
   "execution_count": 8,
   "id": "2501c524",
   "metadata": {
    "ExecuteTime": {
     "end_time": "2023-01-26T21:14:44.242000+09:00",
     "start_time": "2023-01-26T12:14:44.148Z"
    }
   },
   "outputs": [],
   "source": [
    "#= 複数行コメント。ここに記述した内容は…\n",
    "sin(0.0)\n",
    "のように一見有効な式を記述しても完全に無視されます。 =#"
   ]
  },
  {
   "cell_type": "markdown",
   "id": "02c49a03",
   "metadata": {},
   "source": [
    "### 1-3-2. ヘルプモード"
   ]
  },
  {
   "cell_type": "markdown",
   "id": "d0ae3c3e",
   "metadata": {},
   "source": [
    "#### コード1-14. Julia の REPL（ヘルプモードの例）"
   ]
  },
  {
   "cell_type": "markdown",
   "id": "aa1b4d6a",
   "metadata": {},
   "source": [
    "```julia\n",
    "julia> # `?` をタイプするとヘルプモードへ移行\n",
    "\n",
    "help?> sin\n",
    "search: sin sinh sind sinc sinpi sincos sincosd sincospi asin using isinf asinh asind isinteger isinvariant\n",
    "\n",
    "  sin(x)\n",
    "\n",
    "  Compute sine of x, where x is in radians.\n",
    "\n",
    "  See also [sind], [sinpi], [sincos], [cis].\n",
    "\n",
    "  # : 《以下略》\n",
    "\n",
    "help?> +\n",
    "search: +\n",
    "\n",
    "  +(x, y...)\n",
    "\n",
    "  Addition operator. x+y+z+... calls this function with all arguments, i.e. +(x, y, z, ...).\n",
    "\n",
    "  Examples\n",
    "  ≡≡≡≡≡≡≡≡≡≡\n",
    "\n",
    "  julia> 1 + 20 + 4\n",
    "  25\n",
    "\n",
    "  julia> +(1, 20, 4)\n",
    "  25\n",
    "\n",
    "  # : 《以下略》\n",
    "\n",
    "help?> π\n",
    "\"π\" can be typed by \\pi<tab>\n",
    "\n",
    "search: π\n",
    "\n",
    "  π\n",
    "  pi\n",
    "\n",
    "  The constant pi.\n",
    "\n",
    "  Unicode π can be typed by writing \\pi then pressing tab in the Julia REPL, and in many editors.\n",
    "\n",
    "  See also: sinpi, sincospi, deg2rad.\n",
    "\n",
    "  Examples\n",
    "  ≡≡≡≡≡≡≡≡≡≡\n",
    "\n",
    "  julia> pi\n",
    "  π = 3.1415926535897...\n",
    "\n",
    "  julia> 1/2pi\n",
    "  0.15915494309189535\n",
    "```\n"
   ]
  },
  {
   "cell_type": "code",
   "execution_count": 9,
   "id": "76f6e21f",
   "metadata": {
    "ExecuteTime": {
     "end_time": "2023-01-26T21:15:42.868000+09:00",
     "start_time": "2023-01-26T12:15:41.933Z"
    }
   },
   "outputs": [
    {
     "name": "stdout",
     "output_type": "stream",
     "text": [
      "search: \u001b[0m\u001b[1ms\u001b[22m\u001b[0m\u001b[1mi\u001b[22m\u001b[0m\u001b[1mn\u001b[22m \u001b[0m\u001b[1ms\u001b[22m\u001b[0m\u001b[1mi\u001b[22m\u001b[0m\u001b[1mn\u001b[22mh \u001b[0m\u001b[1ms\u001b[22m\u001b[0m\u001b[1mi\u001b[22m\u001b[0m\u001b[1mn\u001b[22md \u001b[0m\u001b[1ms\u001b[22m\u001b[0m\u001b[1mi\u001b[22m\u001b[0m\u001b[1mn\u001b[22mc \u001b[0m\u001b[1ms\u001b[22m\u001b[0m\u001b[1mi\u001b[22m\u001b[0m\u001b[1mn\u001b[22mpi \u001b[0m\u001b[1ms\u001b[22m\u001b[0m\u001b[1mi\u001b[22m\u001b[0m\u001b[1mn\u001b[22mcos \u001b[0m\u001b[1ms\u001b[22m\u001b[0m\u001b[1mi\u001b[22m\u001b[0m\u001b[1mn\u001b[22mcosd \u001b[0m\u001b[1ms\u001b[22m\u001b[0m\u001b[1mi\u001b[22m\u001b[0m\u001b[1mn\u001b[22mcospi a\u001b[0m\u001b[1ms\u001b[22m\u001b[0m\u001b[1mi\u001b[22m\u001b[0m\u001b[1mn\u001b[22m u\u001b[0m\u001b[1ms\u001b[22m\u001b[0m\u001b[1mi\u001b[22m\u001b[0m\u001b[1mn\u001b[22mg i\u001b[0m\u001b[1ms\u001b[22m\u001b[0m\u001b[1mi\u001b[22m\u001b[0m\u001b[1mn\u001b[22mf a\u001b[0m\u001b[1ms\u001b[22m\u001b[0m\u001b[1mi\u001b[22m\u001b[0m\u001b[1mn\u001b[22mh\n",
      "\n"
     ]
    },
    {
     "data": {
      "text/latex": [
       "\\begin{verbatim}\n",
       "sin(x)\n",
       "\\end{verbatim}\n",
       "Compute sine of \\texttt{x}, where \\texttt{x} is in radians.\n",
       "\n",
       "See also [\\texttt{sind}], [\\texttt{sinpi}], [\\texttt{sincos}], [\\texttt{cis}].\n",
       "\n",
       "\\rule{\\textwidth}{1pt}\n",
       "\\begin{verbatim}\n",
       "sin(A::AbstractMatrix)\n",
       "\\end{verbatim}\n",
       "Compute the matrix sine of a square matrix \\texttt{A}.\n",
       "\n",
       "If \\texttt{A} is symmetric or Hermitian, its eigendecomposition (\\href{@ref}{\\texttt{eigen}}) is used to compute the sine. Otherwise, the sine is determined by calling \\href{@ref}{\\texttt{exp}}.\n",
       "\n",
       "\\section{Examples}\n",
       "\\begin{verbatim}\n",
       "julia> sin(fill(1.0, (2,2)))\n",
       "2×2 Matrix{Float64}:\n",
       " 0.454649  0.454649\n",
       " 0.454649  0.454649\n",
       "\\end{verbatim}\n"
      ],
      "text/markdown": [
       "```\n",
       "sin(x)\n",
       "```\n",
       "\n",
       "Compute sine of `x`, where `x` is in radians.\n",
       "\n",
       "See also [`sind`], [`sinpi`], [`sincos`], [`cis`].\n",
       "\n",
       "---\n",
       "\n",
       "```\n",
       "sin(A::AbstractMatrix)\n",
       "```\n",
       "\n",
       "Compute the matrix sine of a square matrix `A`.\n",
       "\n",
       "If `A` is symmetric or Hermitian, its eigendecomposition ([`eigen`](@ref)) is used to compute the sine. Otherwise, the sine is determined by calling [`exp`](@ref).\n",
       "\n",
       "# Examples\n",
       "\n",
       "```jldoctest\n",
       "julia> sin(fill(1.0, (2,2)))\n",
       "2×2 Matrix{Float64}:\n",
       " 0.454649  0.454649\n",
       " 0.454649  0.454649\n",
       "```\n"
      ],
      "text/plain": [
       "\u001b[36m  sin(x)\u001b[39m\n",
       "\n",
       "  Compute sine of \u001b[36mx\u001b[39m, where \u001b[36mx\u001b[39m is in radians.\n",
       "\n",
       "  See also [\u001b[36msind\u001b[39m], [\u001b[36msinpi\u001b[39m], [\u001b[36msincos\u001b[39m], [\u001b[36mcis\u001b[39m].\n",
       "\n",
       "  ────────────────────────────────────────────────────────────────────────────\n",
       "\n",
       "\u001b[36m  sin(A::AbstractMatrix)\u001b[39m\n",
       "\n",
       "  Compute the matrix sine of a square matrix \u001b[36mA\u001b[39m.\n",
       "\n",
       "  If \u001b[36mA\u001b[39m is symmetric or Hermitian, its eigendecomposition (\u001b[36meigen\u001b[39m) is used to\n",
       "  compute the sine. Otherwise, the sine is determined by calling \u001b[36mexp\u001b[39m.\n",
       "\n",
       "\u001b[1m  Examples\u001b[22m\n",
       "\u001b[1m  ≡≡≡≡≡≡≡≡≡≡\u001b[22m\n",
       "\n",
       "\u001b[36m  julia> sin(fill(1.0, (2,2)))\u001b[39m\n",
       "\u001b[36m  2×2 Matrix{Float64}:\u001b[39m\n",
       "\u001b[36m   0.454649  0.454649\u001b[39m\n",
       "\u001b[36m   0.454649  0.454649\u001b[39m"
      ]
     },
     "execution_count": 9,
     "metadata": {},
     "output_type": "execute_result"
    }
   ],
   "source": [
    "?sin"
   ]
  },
  {
   "cell_type": "code",
   "execution_count": 10,
   "id": "9849be2c",
   "metadata": {
    "ExecuteTime": {
     "end_time": "2023-01-26T21:15:48.951000+09:00",
     "start_time": "2023-01-26T12:15:48.854Z"
    }
   },
   "outputs": [
    {
     "name": "stdout",
     "output_type": "stream",
     "text": [
      "search: \u001b[0m\u001b[1m+\u001b[22m\n",
      "\n"
     ]
    },
    {
     "data": {
      "text/latex": [
       "\\begin{verbatim}\n",
       "+(x, y...)\n",
       "\\end{verbatim}\n",
       "Addition operator. \\texttt{x+y+z+...} calls this function with all arguments, i.e. \\texttt{+(x, y, z, ...)}.\n",
       "\n",
       "\\section{Examples}\n",
       "\\begin{verbatim}\n",
       "julia> 1 + 20 + 4\n",
       "25\n",
       "\n",
       "julia> +(1, 20, 4)\n",
       "25\n",
       "\\end{verbatim}\n",
       "\\rule{\\textwidth}{1pt}\n",
       "\\begin{verbatim}\n",
       "dt::Date + t::Time -> DateTime\n",
       "\\end{verbatim}\n",
       "The addition of a \\texttt{Date} with a \\texttt{Time} produces a \\texttt{DateTime}. The hour, minute, second, and millisecond parts of the \\texttt{Time} are used along with the year, month, and day of the \\texttt{Date} to create the new \\texttt{DateTime}. Non-zero microseconds or nanoseconds in the \\texttt{Time} type will result in an \\texttt{InexactError} being thrown.\n",
       "\n"
      ],
      "text/markdown": [
       "```\n",
       "+(x, y...)\n",
       "```\n",
       "\n",
       "Addition operator. `x+y+z+...` calls this function with all arguments, i.e. `+(x, y, z, ...)`.\n",
       "\n",
       "# Examples\n",
       "\n",
       "```jldoctest\n",
       "julia> 1 + 20 + 4\n",
       "25\n",
       "\n",
       "julia> +(1, 20, 4)\n",
       "25\n",
       "```\n",
       "\n",
       "---\n",
       "\n",
       "```\n",
       "dt::Date + t::Time -> DateTime\n",
       "```\n",
       "\n",
       "The addition of a `Date` with a `Time` produces a `DateTime`. The hour, minute, second, and millisecond parts of the `Time` are used along with the year, month, and day of the `Date` to create the new `DateTime`. Non-zero microseconds or nanoseconds in the `Time` type will result in an `InexactError` being thrown.\n"
      ],
      "text/plain": [
       "\u001b[36m  +(x, y...)\u001b[39m\n",
       "\n",
       "  Addition operator. \u001b[36mx+y+z+...\u001b[39m calls this function with all arguments, i.e.\n",
       "  \u001b[36m+(x, y, z, ...)\u001b[39m.\n",
       "\n",
       "\u001b[1m  Examples\u001b[22m\n",
       "\u001b[1m  ≡≡≡≡≡≡≡≡≡≡\u001b[22m\n",
       "\n",
       "\u001b[36m  julia> 1 + 20 + 4\u001b[39m\n",
       "\u001b[36m  25\u001b[39m\n",
       "\u001b[36m  \u001b[39m\n",
       "\u001b[36m  julia> +(1, 20, 4)\u001b[39m\n",
       "\u001b[36m  25\u001b[39m\n",
       "\n",
       "  ────────────────────────────────────────────────────────────────────────────\n",
       "\n",
       "\u001b[36m  dt::Date + t::Time -> DateTime\u001b[39m\n",
       "\n",
       "  The addition of a \u001b[36mDate\u001b[39m with a \u001b[36mTime\u001b[39m produces a \u001b[36mDateTime\u001b[39m. The hour, minute,\n",
       "  second, and millisecond parts of the \u001b[36mTime\u001b[39m are used along with the year,\n",
       "  month, and day of the \u001b[36mDate\u001b[39m to create the new \u001b[36mDateTime\u001b[39m. Non-zero microseconds\n",
       "  or nanoseconds in the \u001b[36mTime\u001b[39m type will result in an \u001b[36mInexactError\u001b[39m being thrown."
      ]
     },
     "execution_count": 10,
     "metadata": {},
     "output_type": "execute_result"
    }
   ],
   "source": [
    "?+"
   ]
  },
  {
   "cell_type": "code",
   "execution_count": 11,
   "id": "b6f1bda9",
   "metadata": {
    "ExecuteTime": {
     "end_time": "2023-01-26T21:15:56.651000+09:00",
     "start_time": "2023-01-26T12:15:56.539Z"
    }
   },
   "outputs": [
    {
     "name": "stdout",
     "output_type": "stream",
     "text": [
      "\"\u001b[36mπ\u001b[39m\" can be typed by \u001b[36m\\pi<tab>\u001b[39m\n",
      "\n",
      "search: \u001b[0m\u001b[1mπ\u001b[22m\n",
      "\n"
     ]
    },
    {
     "data": {
      "text/latex": [
       "\\begin{verbatim}\n",
       "π\n",
       "pi\n",
       "\\end{verbatim}\n",
       "The constant pi.\n",
       "\n",
       "Unicode \\texttt{π} can be typed by writing \\texttt{{\\textbackslash}pi} then pressing tab in the Julia REPL, and in many editors.\n",
       "\n",
       "See also: \\href{@ref}{\\texttt{sinpi}}, \\href{@ref}{\\texttt{sincospi}}, \\href{@ref}{\\texttt{deg2rad}}.\n",
       "\n",
       "\\section{Examples}\n",
       "\\begin{verbatim}\n",
       "julia> pi\n",
       "π = 3.1415926535897...\n",
       "\n",
       "julia> 1/2pi\n",
       "0.15915494309189535\n",
       "\\end{verbatim}\n"
      ],
      "text/markdown": [
       "```\n",
       "π\n",
       "pi\n",
       "```\n",
       "\n",
       "The constant pi.\n",
       "\n",
       "Unicode `π` can be typed by writing `\\pi` then pressing tab in the Julia REPL, and in many editors.\n",
       "\n",
       "See also: [`sinpi`](@ref), [`sincospi`](@ref), [`deg2rad`](@ref).\n",
       "\n",
       "# Examples\n",
       "\n",
       "```jldoctest\n",
       "julia> pi\n",
       "π = 3.1415926535897...\n",
       "\n",
       "julia> 1/2pi\n",
       "0.15915494309189535\n",
       "```\n"
      ],
      "text/plain": [
       "\u001b[36m  π\u001b[39m\n",
       "\u001b[36m  pi\u001b[39m\n",
       "\n",
       "  The constant pi.\n",
       "\n",
       "  Unicode \u001b[36mπ\u001b[39m can be typed by writing \u001b[36m\\pi\u001b[39m then pressing tab in the Julia REPL,\n",
       "  and in many editors.\n",
       "\n",
       "  See also: \u001b[36msinpi\u001b[39m, \u001b[36msincospi\u001b[39m, \u001b[36mdeg2rad\u001b[39m.\n",
       "\n",
       "\u001b[1m  Examples\u001b[22m\n",
       "\u001b[1m  ≡≡≡≡≡≡≡≡≡≡\u001b[22m\n",
       "\n",
       "\u001b[36m  julia> pi\u001b[39m\n",
       "\u001b[36m  π = 3.1415926535897...\u001b[39m\n",
       "\u001b[36m  \u001b[39m\n",
       "\u001b[36m  julia> 1/2pi\u001b[39m\n",
       "\u001b[36m  0.15915494309189535\u001b[39m"
      ]
     },
     "execution_count": 11,
     "metadata": {},
     "output_type": "execute_result"
    }
   ],
   "source": [
    "?π"
   ]
  },
  {
   "cell_type": "markdown",
   "id": "a17e2bf6",
   "metadata": {},
   "source": [
    "### 1-3-3. シェルモード"
   ]
  },
  {
   "cell_type": "markdown",
   "id": "15b3ff30",
   "metadata": {},
   "source": [
    "#### コード1-15. Julia の REPL（シェルモードの例、Linux/macOS の場合）"
   ]
  },
  {
   "cell_type": "markdown",
   "id": "49aded04",
   "metadata": {},
   "source": [
    "```julia\n",
    "julia> # `;` をタイプしてシェルモードへ移行\n",
    "\n",
    "shell> echo \"Test\"\n",
    "Test\n",
    "\n",
    "shell> echo \"Is this me?\" > isthisme.txt  # ファイル出力はされない！\n",
    "Is this me? > isthisme.txt # ファイル出力はされない！\n",
    "\n",
    "shell> bash -c \"echo 'This is me.' > thisisme.txt\"  # これならOK\n",
    "\n",
    "shell> ls thisisme.txt\n",
    "thisisme.txt\n",
    "\n",
    "shell> cat thisisme.txt\n",
    "This is me.\n",
    "\n",
    "shell> # `Backspace` または `Ctrl`+`C` で Julia モードに戻る\n",
    "\n",
    "julia> \n",
    "```"
   ]
  },
  {
   "cell_type": "markdown",
   "id": "1d815088",
   "metadata": {},
   "source": [
    "#### コード1-16. Julia の REPL（シェルモードの例、Windows Powershell の場合）"
   ]
  },
  {
   "cell_type": "markdown",
   "id": "c0bab962",
   "metadata": {},
   "source": [
    "```shell\n",
    "julia> # `;` をタイプしてシェルモードへ移行\n",
    "\n",
    "shell> echo NG! '#' この例が動かない\n",
    "ERROR: IOError: could not spawn `echo NG! '#' この例が動かない`: no such file or directory (ENOENT)\n",
    "# : 《以下略》\n",
    "\n",
    "shell> powershell -c \"echo 'Test'\"  # これならOK\n",
    "Test\n",
    "\n",
    "shell> powershell -c \"echo 'This is me.' > thisisme.txt\"  # リダイレクトもOK\n",
    "\n",
    "shell> powershell -c \"ls thisisme.txt\"\n",
    "\n",
    "\n",
    "    ディレクトリ: C:\\Users\\username\n",
    "\n",
    "\n",
    "Mode                 LastWriteTime         Length Name\n",
    "----                 -------------         ------ ----\n",
    "-a----        2022/mm/dd     HH:MM             28 thisisme.txt\n",
    "\n",
    "\n",
    "shell> powershell -c \"cat thisisme.txt\"\n",
    "This is me.\n",
    "\n",
    "shell> # `Backspace` または `Ctrl`+`C` で Julia モードに戻る\n",
    "\n",
    "julia> \n",
    "```"
   ]
  },
  {
   "cell_type": "markdown",
   "id": "cdea4c16",
   "metadata": {},
   "source": [
    "### 1-3-4. パッケージモード"
   ]
  },
  {
   "cell_type": "markdown",
   "id": "550b814b",
   "metadata": {},
   "source": [
    "#### コード1-17. Julia の REPL（パッケージモードの例、`BenchmarkTools` の追加例）"
   ]
  },
  {
   "cell_type": "markdown",
   "id": "57069a6b",
   "metadata": {},
   "source": [
    "```julia\n",
    "julia> # `]` をタイプしてパッケージモードに移行\n",
    "\n",
    "(@v1.7) pkg> st\n",
    "      Status `~/.julia/environments/v1.7/Project.toml` (empty project)\n",
    "\n",
    "(@v1.7) pkg> add BenchmarkTools\n",
    "    Updating registry at `~/.julia/registries/General.toml`\n",
    "   Resolving package versions...\n",
    "    Updating `~/.julia/environments/v1.7/Project.toml`\n",
    "  [6e4b80f9] + BenchmarkTools v1.3.1\n",
    "    Updating `~/.julia/environments/v1.7/Manifest.toml`\n",
    "  [6e4b80f9] + BenchmarkTools v1.3.1\n",
    "  # : 《以下略》\n",
    "\n",
    "(@v1.7) pkg> up\n",
    "    Updating registry at `~/.julia/registries/General.toml`\n",
    "  No Changes to `~/.julia/environments/v1.7/Project.toml`\n",
    "  No Changes to `~/.julia/environments/v1.7/Manifest.toml`\n",
    "\n",
    "(@v1.7) pkg> st\n",
    "      Status `~/.julia/environments/v1.7/Project.toml`\n",
    "  [6e4b80f9] BenchmarkTools v1.3.1\n",
    "\n",
    "(@v1.7) pkg> # `Backspace` または `Ctrl`+`C` で Julia モードに戻る\n",
    "\n",
    "julia> \n",
    "```"
   ]
  },
  {
   "cell_type": "code",
   "execution_count": 21,
   "id": "08089516",
   "metadata": {
    "ExecuteTime": {
     "end_time": "2023-01-26T21:20:57.293000+09:00",
     "start_time": "2023-01-26T12:20:54.951Z"
    }
   },
   "outputs": [
    {
     "name": "stdout",
     "output_type": "stream",
     "text": [
      "\u001b[36m\u001b[1mProject\u001b[22m\u001b[39m JuliaBook2023Samples v0.1.0\n",
      "\u001b[32m\u001b[1mStatus\u001b[22m\u001b[39m `/path/to/JuliaBook2023Samples/Project.toml`\n",
      " \u001b[90m [6e4b80f9] \u001b[39mBenchmarkTools v1.3.2\n",
      " \u001b[90m [27ebfcd6] \u001b[39mPrimes v0.5.3\n",
      " \u001b[90m [90137ffa] \u001b[39mStaticArrays v1.5.12\n"
     ]
    }
   ],
   "source": [
    "]st"
   ]
  },
  {
   "cell_type": "code",
   "execution_count": 22,
   "id": "87c470a6",
   "metadata": {
    "ExecuteTime": {
     "end_time": "2023-01-26T21:21:24.485000+09:00",
     "start_time": "2023-01-26T12:21:12.450Z"
    }
   },
   "outputs": [
    {
     "name": "stderr",
     "output_type": "stream",
     "text": [
      "\u001b[32m\u001b[1m    Updating\u001b[22m\u001b[39m registry at `~/.julia/registries/General`\n",
      "\u001b[32m\u001b[1m    Updating\u001b[22m\u001b[39m git-repo `git@github.com:JuliaRegistries/General.git`\n",
      "\u001b[32m\u001b[1m   Resolving\u001b[22m\u001b[39m package versions...\n",
      "\u001b[32m\u001b[1m  No Changes\u001b[22m\u001b[39m to `/path/to/JuliaBook2023Samples/Project.toml`\n",
      "\u001b[32m\u001b[1m  No Changes\u001b[22m\u001b[39m to `/path/to/JuliaBook2023Samples/Manifest.toml`\n"
     ]
    }
   ],
   "source": [
    "]add BenchmarkTools"
   ]
  },
  {
   "cell_type": "code",
   "execution_count": 23,
   "id": "71e3514d",
   "metadata": {
    "ExecuteTime": {
     "end_time": "2023-01-26T21:21:30.357000+09:00",
     "start_time": "2023-01-26T12:21:25.869Z"
    }
   },
   "outputs": [
    {
     "name": "stderr",
     "output_type": "stream",
     "text": [
      "\u001b[32m\u001b[1m    Updating\u001b[22m\u001b[39m registry at `~/.julia/registries/General`\n",
      "\u001b[32m\u001b[1m    Updating\u001b[22m\u001b[39m git-repo `git@github.com:JuliaRegistries/General.git`\n",
      "\u001b[32m\u001b[1m  No Changes\u001b[22m\u001b[39m to `/path/to/JuliaBook2023Samples/Project.toml`\n",
      "\u001b[32m\u001b[1m  No Changes\u001b[22m\u001b[39m to `/path/to/JuliaBook2023Samples/Manifest.toml`\n"
     ]
    }
   ],
   "source": [
    "]up"
   ]
  },
  {
   "cell_type": "code",
   "execution_count": 24,
   "id": "49958763",
   "metadata": {
    "ExecuteTime": {
     "end_time": "2023-01-26T21:21:32.568000+09:00",
     "start_time": "2023-01-26T12:21:32.475Z"
    }
   },
   "outputs": [
    {
     "name": "stdout",
     "output_type": "stream",
     "text": [
      "\u001b[36m\u001b[1mProject\u001b[22m\u001b[39m JuliaBook2023Samples v0.1.0\n",
      "\u001b[32m\u001b[1mStatus\u001b[22m\u001b[39m `/path/to/JuliaBook2023Samples/Project.toml`\n",
      " \u001b[90m [6e4b80f9] \u001b[39mBenchmarkTools v1.3.2\n",
      " \u001b[90m [27ebfcd6] \u001b[39mPrimes v0.5.3\n",
      " \u001b[90m [90137ffa] \u001b[39mStaticArrays v1.5.12\n"
     ]
    }
   ],
   "source": [
    "]st"
   ]
  }
 ],
 "metadata": {
  "jupytext": {
   "formats": "ipynb,auto:light"
  },
  "kernelspec": {
   "display_name": "Julia (4 threads) 1.8.5",
   "language": "julia",
   "name": "julia-_4-threads_-1.8"
  },
  "language_info": {
   "file_extension": ".jl",
   "mimetype": "application/julia",
   "name": "julia",
   "version": "1.8.5"
  }
 },
 "nbformat": 4,
 "nbformat_minor": 5
}
