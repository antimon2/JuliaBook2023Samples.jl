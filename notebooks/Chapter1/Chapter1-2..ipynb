{
 "cells": [
  {
   "cell_type": "code",
   "execution_count": 1,
   "id": "a531464e-209b-4fdb-9a13-2087307549ef",
   "metadata": {
    "ExecuteTime": {
     "end_time": "2023-01-26T20:55:28.197000+09:00",
     "start_time": "2023-01-26T11:55:26.672Z"
    }
   },
   "outputs": [
    {
     "name": "stdout",
     "output_type": "stream",
     "text": [
      "Julia Version 1.8.5\n",
      "Commit 17cfb8e65ea (2023-01-08 06:45 UTC)\n",
      "Platform Info:\n",
      "  OS: Linux (x86_64-linux-gnu)\n",
      "  CPU: 12 × Intel(R) Core(TM) i7-9750H CPU @ 2.60GHz\n",
      "  WORD_SIZE: 64\n",
      "  LIBM: libopenlibm\n",
      "  LLVM: libLLVM-13.0.1 (ORCJIT, skylake)\n",
      "  Threads: 4 on 12 virtual cores\n",
      "Environment:\n",
      "  JULIA_NUM_THREADS = 4\n"
     ]
    }
   ],
   "source": [
    "versioninfo()"
   ]
  },
  {
   "cell_type": "markdown",
   "id": "6a306186-607a-4393-93f2-ee78b83c1ce9",
   "metadata": {},
   "source": [
    "## 1-2. Julia のインストール"
   ]
  },
  {
   "cell_type": "markdown",
   "id": "5332b506",
   "metadata": {},
   "source": [
    "### 1-2-2. `juliaup` を利用したインストール"
   ]
  },
  {
   "cell_type": "markdown",
   "id": "52cb0455",
   "metadata": {},
   "source": [
    "#### `juliaup` のインストール（Linux、macOS 等）"
   ]
  },
  {
   "cell_type": "markdown",
   "id": "d61e13cf",
   "metadata": {},
   "source": [
    "##### 仮想コード1-5. シェル（Linux, bash）での `juliaup` インストール概要（ログ）"
   ]
  },
  {
   "cell_type": "markdown",
   "id": "cf54af2c",
   "metadata": {},
   "source": [
    "```bash\n",
    "username@HOST:~$ curl -fsSL https://install.julialang.org | sh\n",
    "\n",
    "info: downloading installer\n",
    "Welcome to Julia!\n",
    "\n",
    "This will download and install the official Julia Language distribution\n",
    "and its version manager Juliaup.\n",
    "\n",
    "Juliaup will be installed into the Juliaup home directory, located at:\n",
    "\n",
    "  /home/username/.juliaup\n",
    "\n",
    "The julia, juliaup and other commands will be added to\n",
    "Juliaup's bin directory, located at:\n",
    "\n",
    "  /home/username/.juliaup/bin\n",
    "\n",
    "This path will then be added to your PATH environment variable by\n",
    "modifying the profile files located at:\n",
    "\n",
    "  /home/username/.bashrc\n",
    "  /home/username/.profile\n",
    "\n",
    "Julia will look for a new version of Juliaup itself every 1440 seconds when you start julia.\n",
    "\n",
    "You can uninstall at any time with juliaup self uninstall and these\n",
    "changes will be reverted.\n",
    "\n",
    "? Do you want to install with these default configuration choices? ›\n",
    "❯ Proceed with installation\n",
    "  Customize installation\n",
    "  Cancel installation\n",
    "# 《↑矢印キー上下で選択、Enter で決定》\n",
    "✔ Proceed with installation\n",
    "\n",
    "Now installing Juliaup\n",
    "Installing Julia 1.7.2+0 (x64).\n",
    "Julia was successfully installed on your system.\n",
    "\n",
    "Depending on which shell you are using, run one of the following\n",
    "commands to reload the the PATH environment variable:\n",
    "\n",
    "  . /home/username/.bashrc\n",
    "  . /home/username/.profile\n",
    "\n",
    "username@HOST:~$\n",
    "\n",
    "```"
   ]
  },
  {
   "cell_type": "markdown",
   "id": "6e95aecb",
   "metadata": {},
   "source": [
    "#### `juliaup` による Julia のインストール・更新（Windows/Linux/macOS 共通）"
   ]
  },
  {
   "cell_type": "markdown",
   "id": "c277efd1",
   "metadata": {},
   "source": [
    "##### 仮想コード1-6. `juliaup st` コマンド実行例"
   ]
  },
  {
   "cell_type": "markdown",
   "id": "417337b5",
   "metadata": {},
   "source": [
    "```bash\n",
    "$ juliaup st\n",
    " Default  Channel  Version      Update\n",
    "---------------------------------------\n",
    "       *  release  1.7.2+0~x64\n",
    "```"
   ]
  },
  {
   "cell_type": "markdown",
   "id": "35e3878c",
   "metadata": {},
   "source": [
    "##### 仮想コード1-7. `juliaup add` コマンド実行例"
   ]
  },
  {
   "cell_type": "markdown",
   "id": "200328d8",
   "metadata": {},
   "source": [
    "```bash\n",
    "$ juliaup add lts\n",
    "Installing Julia 1.6.6+0 (x64).\n",
    "$ juliaup add beta\n",
    "Installing Julia 1.8.0-beta3+0 (x64).\n",
    "$ juliaup st\n",
    " Default  Channel  Version            Update\n",
    "---------------------------------------------\n",
    "          beta     1.8.0-beta3+0~x64\n",
    "          lts      1.6.6+0~x64\n",
    "       *  release  1.7.2+0~x64\n",
    "\n",
    "$ julia +lts\n",
    "               _\n",
    "   _       _ _(_)_     |  Documentation: https://docs.julialang.org\n",
    "  (_)     | (_) (_)    |\n",
    "   _ _   _| |_  __ _   |  Type \"?\" for help, \"]?\" for Pkg help.\n",
    "  | | | | | | |/ _` |  |\n",
    "  | | |_| | | | (_| |  |  Version 1.6.6 (2022-03-28)\n",
    " _/ |\\__'_|_|_|\\__'_|  |  Official https://julialang.org/ release\n",
    "|__/                   |\n",
    "\n",
    "julia> \n",
    "```"
   ]
  },
  {
   "cell_type": "markdown",
   "id": "85a51678",
   "metadata": {},
   "source": [
    "##### 仮想コード1-8. `juliaup up` コマンド実行例"
   ]
  },
  {
   "cell_type": "markdown",
   "id": "7e27f8a0",
   "metadata": {},
   "source": [
    "```bash\n",
    "$ juliaup st\n",
    " Default  Channel  Version            Update\n",
    "----------------------------------------------------------------------------\n",
    "          beta     1.8.0-beta1+0~x64  Update to 1.8.0-beta3+0~x64 available\n",
    "          lts      1.6.5+0~x64        Update to 1.6.6+0~x64 available\n",
    "       *  release  1.7.2+0~x64        Update to 1.7.3+0~x64 available\n",
    "\n",
    "$ juliaup up\n",
    "Installing Julia 1.8.0-beta3+0 (x64).\n",
    "Installing Julia 1.6.6+0 (x64).\n",
    "Installing Julia 1.7.3+0 (x64).\n",
    "$ juliaup st\n",
    " Default  Channel  Version            Update\n",
    "---------------------------------------------\n",
    "          beta     1.8.0-beta3+0~x64\n",
    "          lts      1.6.6+0~x64\n",
    "       *  release  1.7.3+0~x64\n",
    "$ julia --version\n",
    "julia version 1.7.3\n",
    "$ julia +lts --version\n",
    "julia version 1.6.6\n",
    "$ julia +beta --version\n",
    "julia version 1.8.0-beta3\n",
    "```"
   ]
  }
 ],
 "metadata": {
  "jupytext": {
   "formats": "ipynb,auto:light"
  },
  "kernelspec": {
   "display_name": "Julia (4 threads) 1.8.5",
   "language": "julia",
   "name": "julia-_4-threads_-1.8"
  },
  "language_info": {
   "file_extension": ".jl",
   "mimetype": "application/julia",
   "name": "julia",
   "version": "1.8.5"
  }
 },
 "nbformat": 4,
 "nbformat_minor": 5
}
