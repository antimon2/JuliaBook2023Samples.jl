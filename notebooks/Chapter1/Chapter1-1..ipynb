{
 "cells": [
  {
   "cell_type": "code",
   "execution_count": 1,
   "id": "b8d147d8-206f-406d-a5a1-d2aa17ea4d87",
   "metadata": {
    "ExecuteTime": {
     "end_time": "2023-01-26T20:36:03.181000+09:00",
     "start_time": "2023-01-26T11:36:01.725Z"
    }
   },
   "outputs": [
    {
     "name": "stdout",
     "output_type": "stream",
     "text": [
      "Julia Version 1.8.5\n",
      "Commit 17cfb8e65ea (2023-01-08 06:45 UTC)\n",
      "Platform Info:\n",
      "  OS: Linux (x86_64-linux-gnu)\n",
      "  CPU: 12 × Intel(R) Core(TM) i7-9750H CPU @ 2.60GHz\n",
      "  WORD_SIZE: 64\n",
      "  LIBM: libopenlibm\n",
      "  LLVM: libLLVM-13.0.1 (ORCJIT, skylake)\n",
      "  Threads: 4 on 12 virtual cores\n",
      "Environment:\n",
      "  JULIA_NUM_THREADS = 4\n"
     ]
    }
   ],
   "source": [
    "versioninfo()"
   ]
  },
  {
   "cell_type": "markdown",
   "id": "2e866b4f",
   "metadata": {},
   "source": [
    "## 1-1. Julia の特徴"
   ]
  },
  {
   "cell_type": "markdown",
   "id": "7ae9d071",
   "metadata": {},
   "source": [
    "### 1-1-1. Julia は高速！"
   ]
  },
  {
   "cell_type": "markdown",
   "id": "70717585",
   "metadata": {},
   "source": [
    "#### 仮想コード1-1. Julia における `@time` マクロを利用した実行時間計測例"
   ]
  },
  {
   "cell_type": "markdown",
   "id": "cebfb93f",
   "metadata": {},
   "source": [
    "```julia\n",
    "julia> @time ex1();\n",
    "  1.783576 seconds\n",
    "\n",
    "julia> @time ex2();\n",
    "  2.629585 seconds (320.55 k allocations: 16.377 MiB, 66.23% compilation time)\n",
    "```"
   ]
  },
  {
   "cell_type": "markdown",
   "id": "e91d4ac5",
   "metadata": {},
   "source": [
    "### 1-1-2. Julia は動的！"
   ]
  },
  {
   "cell_type": "markdown",
   "id": "7f825f35",
   "metadata": {},
   "source": [
    "### 1-1-3. Julia は動的型付け！"
   ]
  },
  {
   "cell_type": "markdown",
   "id": "7e619407",
   "metadata": {},
   "source": [
    "#### コード1-1. `typeof()` 関数による具象型の調査"
   ]
  },
  {
   "cell_type": "code",
   "execution_count": 2,
   "id": "5113d73e",
   "metadata": {
    "ExecuteTime": {
     "end_time": "2023-01-26T20:36:03.808000+09:00",
     "start_time": "2023-01-26T11:36:01.730Z"
    }
   },
   "outputs": [
    {
     "data": {
      "text/plain": [
       "Int64"
      ]
     },
     "execution_count": 2,
     "metadata": {},
     "output_type": "execute_result"
    }
   ],
   "source": [
    "typeof(1)  # 環境によって結果が異なることがあります。"
   ]
  },
  {
   "cell_type": "code",
   "execution_count": 3,
   "id": "71dab57f",
   "metadata": {
    "ExecuteTime": {
     "end_time": "2023-01-26T20:36:03.818000+09:00",
     "start_time": "2023-01-26T11:36:01.733Z"
    }
   },
   "outputs": [
    {
     "data": {
      "text/plain": [
       "Float64"
      ]
     },
     "execution_count": 3,
     "metadata": {},
     "output_type": "execute_result"
    }
   ],
   "source": [
    "typeof(9.99)"
   ]
  },
  {
   "cell_type": "code",
   "execution_count": 4,
   "id": "67950c7e",
   "metadata": {
    "ExecuteTime": {
     "end_time": "2023-01-26T20:36:03.828000+09:00",
     "start_time": "2023-01-26T11:36:01.735Z"
    }
   },
   "outputs": [
    {
     "data": {
      "text/plain": [
       "String"
      ]
     },
     "execution_count": 4,
     "metadata": {},
     "output_type": "execute_result"
    }
   ],
   "source": [
    "typeof(\"123ABCあいう漢字\")"
   ]
  },
  {
   "cell_type": "markdown",
   "id": "f4e47e6f",
   "metadata": {},
   "source": [
    "#### コード1-2. Julia の型システム概観"
   ]
  },
  {
   "cell_type": "code",
   "execution_count": 5,
   "id": "18971aba",
   "metadata": {
    "ExecuteTime": {
     "end_time": "2023-01-26T20:36:03.996000+09:00",
     "start_time": "2023-01-26T11:36:01.738Z"
    }
   },
   "outputs": [
    {
     "data": {
      "text/plain": [
       "true"
      ]
     },
     "execution_count": 5,
     "metadata": {},
     "output_type": "execute_result"
    }
   ],
   "source": [
    "Int64 <: Signed <: Integer <: Number  # 型階層"
   ]
  },
  {
   "cell_type": "code",
   "execution_count": 6,
   "id": "917b7e58",
   "metadata": {
    "ExecuteTime": {
     "end_time": "2023-01-26T20:36:03.996000+09:00",
     "start_time": "2023-01-26T11:36:01.740Z"
    }
   },
   "outputs": [
    {
     "data": {
      "text/plain": [
       "true"
      ]
     },
     "execution_count": 6,
     "metadata": {},
     "output_type": "execute_result"
    }
   ],
   "source": [
    "isconcretetype(Int64)  # 具象型であることの確認"
   ]
  },
  {
   "cell_type": "code",
   "execution_count": 7,
   "id": "9550d72a",
   "metadata": {
    "ExecuteTime": {
     "end_time": "2023-01-26T20:36:03.997000+09:00",
     "start_time": "2023-01-26T11:36:01.741Z"
    }
   },
   "outputs": [
    {
     "data": {
      "text/plain": [
       "true"
      ]
     },
     "execution_count": 7,
     "metadata": {},
     "output_type": "execute_result"
    }
   ],
   "source": [
    "isabstracttype(Number)  # 抽象型であることの確認"
   ]
  },
  {
   "cell_type": "code",
   "execution_count": 8,
   "id": "61805240",
   "metadata": {
    "ExecuteTime": {
     "end_time": "2023-01-26T20:36:04.008000+09:00",
     "start_time": "2023-01-26T11:36:01.743Z"
    }
   },
   "outputs": [
    {
     "data": {
      "text/plain": [
       "Vector{Int64}\u001b[90m (alias for \u001b[39m\u001b[90mArray{Int64, 1}\u001b[39m\u001b[90m)\u001b[39m"
      ]
     },
     "execution_count": 8,
     "metadata": {},
     "output_type": "execute_result"
    }
   ],
   "source": [
    "typeof([1, 2, 3])  # パラメトリック型の例"
   ]
  },
  {
   "cell_type": "code",
   "execution_count": 9,
   "id": "d29c10d4",
   "metadata": {
    "ExecuteTime": {
     "end_time": "2023-01-26T20:36:04.009000+09:00",
     "start_time": "2023-01-26T11:36:01.745Z"
    }
   },
   "outputs": [
    {
     "data": {
      "text/plain": [
       "true"
      ]
     },
     "execution_count": 9,
     "metadata": {},
     "output_type": "execute_result"
    }
   ],
   "source": [
    "typeof([1, 2, 3]) <: Vector{<:Integer}  # 型制約"
   ]
  },
  {
   "cell_type": "markdown",
   "id": "8ed1df03",
   "metadata": {},
   "source": [
    "### 1-1-4. Julia は多重ディスパッチ！"
   ]
  },
  {
   "cell_type": "markdown",
   "id": "1c38985e",
   "metadata": {},
   "source": [
    "### 1-1-5. 直感的な記述！"
   ]
  },
  {
   "cell_type": "markdown",
   "id": "ea9326c6",
   "metadata": {},
   "source": [
    "#### コード1-3. 一般的で直感的な記述のコード例"
   ]
  },
  {
   "cell_type": "code",
   "execution_count": 10,
   "id": "413d2f90",
   "metadata": {
    "ExecuteTime": {
     "end_time": "2023-01-26T20:36:04.741000+09:00",
     "start_time": "2023-01-26T11:36:01.748Z"
    }
   },
   "outputs": [
    {
     "data": {
      "text/plain": [
       "3-element Vector{Int64}:\n",
       " 1\n",
       " 2\n",
       " 3"
      ]
     },
     "execution_count": 10,
     "metadata": {},
     "output_type": "execute_result"
    }
   ],
   "source": [
    "numbers = [1, 2, 3]"
   ]
  },
  {
   "cell_type": "code",
   "execution_count": 11,
   "id": "3877fc33",
   "metadata": {
    "ExecuteTime": {
     "end_time": "2023-01-26T20:36:04.909000+09:00",
     "start_time": "2023-01-26T11:36:01.749Z"
    }
   },
   "outputs": [
    {
     "data": {
      "text/plain": [
       "add (generic function with 1 method)"
      ]
     },
     "execution_count": 11,
     "metadata": {},
     "output_type": "execute_result"
    }
   ],
   "source": [
    "function add(x, y)\n",
    "    x + y\n",
    "end"
   ]
  },
  {
   "cell_type": "markdown",
   "id": "012c98c4",
   "metadata": {},
   "source": [
    "#### コード1-4. 数式に似た直感的な記述のコード例"
   ]
  },
  {
   "cell_type": "markdown",
   "id": "99df335b",
   "metadata": {},
   "source": [
    "$$\n",
    "f(x) = x^2 - 2x + 1\n",
    "$$"
   ]
  },
  {
   "cell_type": "code",
   "execution_count": 12,
   "id": "fc0e2dc1",
   "metadata": {
    "ExecuteTime": {
     "end_time": "2023-01-26T20:36:04.974000+09:00",
     "start_time": "2023-01-26T11:36:01.752Z"
    }
   },
   "outputs": [
    {
     "data": {
      "text/plain": [
       "f (generic function with 1 method)"
      ]
     },
     "execution_count": 12,
     "metadata": {},
     "output_type": "execute_result"
    }
   ],
   "source": [
    "f(x) = x^2 - 2x + 1"
   ]
  },
  {
   "cell_type": "markdown",
   "id": "caa2e6c6",
   "metadata": {},
   "source": [
    "$$\n",
    "A = \\begin{pmatrix}\n",
    "1 & 2 \\\\\n",
    "3 & 4\n",
    "\\end{pmatrix}\n",
    "$$"
   ]
  },
  {
   "cell_type": "code",
   "execution_count": 13,
   "id": "a47a63a0",
   "metadata": {
    "ExecuteTime": {
     "end_time": "2023-01-26T20:36:05.564000+09:00",
     "start_time": "2023-01-26T11:36:01.754Z"
    }
   },
   "outputs": [
    {
     "data": {
      "text/plain": [
       "2×2 Matrix{Int64}:\n",
       " 1  2\n",
       " 3  4"
      ]
     },
     "execution_count": 13,
     "metadata": {},
     "output_type": "execute_result"
    }
   ],
   "source": [
    "A = [1 2\n",
    "     3 4]"
   ]
  },
  {
   "cell_type": "markdown",
   "id": "5486a110",
   "metadata": {},
   "source": [
    "#### 仮想コード1-2. 変数（識別子）として有効な Unicode 文字の例"
   ]
  },
  {
   "cell_type": "markdown",
   "id": "ea35cf7b",
   "metadata": {},
   "source": [
    "```julia\n",
    "θ\n",
    "Fₙ\n",
    "σ²\n",
    "μ\n",
    "x̄\n",
    "```"
   ]
  },
  {
   "cell_type": "markdown",
   "id": "597045b7",
   "metadata": {},
   "source": [
    "+ `\\theta` + <kbd>TAB</kbd> （⇒ `θ`）\n",
    "+ `F\\_n` + <kbd>TAB</kbd> （⇒ `Fₙ`）\n",
    "+ `\\sigma` + <kbd>TAB</kbd> + `\\^2` + <kbd>TAB</kbd> （⇒ `σ²`）\n",
    "+ `\\mu` + <kbd>TAB</kbd> （⇒ `μ`）\n",
    "+ `x\\bar` + <kbd>TAB</kbd> （⇒ `x̄`）"
   ]
  },
  {
   "cell_type": "markdown",
   "id": "7a2d019a",
   "metadata": {},
   "source": [
    "#### コード1-5. REPLのhelpモード（`π`という定数の調査）の例"
   ]
  },
  {
   "cell_type": "code",
   "execution_count": 14,
   "id": "dd0f8691",
   "metadata": {
    "ExecuteTime": {
     "end_time": "2023-01-26T20:36:06.386000+09:00",
     "start_time": "2023-01-26T11:36:01.757Z"
    }
   },
   "outputs": [
    {
     "name": "stdout",
     "output_type": "stream",
     "text": [
      "\"\u001b[36mπ\u001b[39m\" can be typed by \u001b[36m\\pi<tab>\u001b[39m\n",
      "\n",
      "search: \u001b[0m\u001b[1mπ\u001b[22m\n",
      "\n"
     ]
    },
    {
     "data": {
      "text/latex": [
       "\\begin{verbatim}\n",
       "π\n",
       "pi\n",
       "\\end{verbatim}\n",
       "The constant pi.\n",
       "\n",
       "Unicode \\texttt{π} can be typed by writing \\texttt{{\\textbackslash}pi} then pressing tab in the Julia REPL, and in many editors.\n",
       "\n",
       "See also: \\href{@ref}{\\texttt{sinpi}}, \\href{@ref}{\\texttt{sincospi}}, \\href{@ref}{\\texttt{deg2rad}}.\n",
       "\n",
       "\\section{Examples}\n",
       "\\begin{verbatim}\n",
       "julia> pi\n",
       "π = 3.1415926535897...\n",
       "\n",
       "julia> 1/2pi\n",
       "0.15915494309189535\n",
       "\\end{verbatim}\n"
      ],
      "text/markdown": [
       "```\n",
       "π\n",
       "pi\n",
       "```\n",
       "\n",
       "The constant pi.\n",
       "\n",
       "Unicode `π` can be typed by writing `\\pi` then pressing tab in the Julia REPL, and in many editors.\n",
       "\n",
       "See also: [`sinpi`](@ref), [`sincospi`](@ref), [`deg2rad`](@ref).\n",
       "\n",
       "# Examples\n",
       "\n",
       "```jldoctest\n",
       "julia> pi\n",
       "π = 3.1415926535897...\n",
       "\n",
       "julia> 1/2pi\n",
       "0.15915494309189535\n",
       "```\n"
      ],
      "text/plain": [
       "\u001b[36m  π\u001b[39m\n",
       "\u001b[36m  pi\u001b[39m\n",
       "\n",
       "  The constant pi.\n",
       "\n",
       "  Unicode \u001b[36mπ\u001b[39m can be typed by writing \u001b[36m\\pi\u001b[39m then pressing tab in the Julia REPL,\n",
       "  and in many editors.\n",
       "\n",
       "  See also: \u001b[36msinpi\u001b[39m, \u001b[36msincospi\u001b[39m, \u001b[36mdeg2rad\u001b[39m.\n",
       "\n",
       "\u001b[1m  Examples\u001b[22m\n",
       "\u001b[1m  ≡≡≡≡≡≡≡≡≡≡\u001b[22m\n",
       "\n",
       "\u001b[36m  julia> pi\u001b[39m\n",
       "\u001b[36m  π = 3.1415926535897...\u001b[39m\n",
       "\u001b[36m  \u001b[39m\n",
       "\u001b[36m  julia> 1/2pi\u001b[39m\n",
       "\u001b[36m  0.15915494309189535\u001b[39m"
      ]
     },
     "execution_count": 14,
     "metadata": {},
     "output_type": "execute_result"
    }
   ],
   "source": [
    "?π"
   ]
  },
  {
   "cell_type": "markdown",
   "id": "f4472c05",
   "metadata": {},
   "source": [
    "### 1-1-6. 真のマクロ！"
   ]
  },
  {
   "cell_type": "markdown",
   "id": "b514c6b6",
   "metadata": {},
   "source": [
    "#### コード1-6. マクロの定義例"
   ]
  },
  {
   "cell_type": "code",
   "execution_count": 15,
   "id": "3aa07dc5",
   "metadata": {
    "ExecuteTime": {
     "end_time": "2023-01-26T20:36:06.459000+09:00",
     "start_time": "2023-01-26T11:36:01.759Z"
    }
   },
   "outputs": [
    {
     "data": {
      "text/plain": [
       "@time_ns (macro with 1 method)"
      ]
     },
     "execution_count": 15,
     "metadata": {},
     "output_type": "execute_result"
    }
   ],
   "source": [
    "macro time_ns(ex)\n",
    "    ex = esc(ex)\n",
    "    quote\n",
    "        t0 = time_ns()\n",
    "        val = $ex\n",
    "        t1 = time_ns()\n",
    "        println(\"elapsed time: \", Int(t1-t0), \" nanoseconds\")\n",
    "        val\n",
    "    end\n",
    "end"
   ]
  },
  {
   "cell_type": "markdown",
   "id": "1f88cf9c",
   "metadata": {},
   "source": [
    "#### 仮想コード1-3. マクロの実行例（`ex1()` という関数を定義しないと動作しません）"
   ]
  },
  {
   "cell_type": "markdown",
   "id": "cfc5202d",
   "metadata": {},
   "source": [
    "```julia\n",
    "julia> ex1()\n",
    "11\n",
    "\n",
    "julia> @time_ns ex1()\n",
    "elapsed time: 1782868700 nanoseconds\n",
    "11\n",
    "\n",
    "julia> @time ex1()\n",
    "  1.783576 seconds (162.24 k allocations: 8.645 MiB, 61.34% compilation time)\n",
    "11\n",
    "```"
   ]
  },
  {
   "cell_type": "markdown",
   "id": "09e9eb29",
   "metadata": {},
   "source": [
    "### 1-1-7. 並行・並列プログラミング！"
   ]
  },
  {
   "cell_type": "markdown",
   "id": "97580361",
   "metadata": {},
   "source": [
    "#### コード1-7. 処理に時間のかかる関数の例（フィボナッチ数を計算する再帰関数）"
   ]
  },
  {
   "cell_type": "code",
   "execution_count": 16,
   "id": "11aa55bf",
   "metadata": {
    "ExecuteTime": {
     "end_time": "2023-01-26T20:36:06.525000+09:00",
     "start_time": "2023-01-26T11:36:01.761Z"
    }
   },
   "outputs": [
    {
     "data": {
      "text/plain": [
       "fib (generic function with 1 method)"
      ]
     },
     "execution_count": 16,
     "metadata": {},
     "output_type": "execute_result"
    }
   ],
   "source": [
    "function fib(n)\n",
    "    if n ≤ 1\n",
    "        n\n",
    "    else\n",
    "        fib(n - 2) + fib(n - 1)\n",
    "    end\n",
    "end"
   ]
  },
  {
   "cell_type": "markdown",
   "id": "1161bd93",
   "metadata": {},
   "source": [
    "#### コード1-8. 処理時間計測例(1)：そのまま実行"
   ]
  },
  {
   "cell_type": "code",
   "execution_count": 17,
   "id": "563d1f07",
   "metadata": {
    "ExecuteTime": {
     "end_time": "2023-01-26T20:36:07.030000+09:00",
     "start_time": "2023-01-26T11:36:01.763Z"
    }
   },
   "outputs": [
    {
     "name": "stdout",
     "output_type": "stream",
     "text": [
      "102334155\n",
      "  0.456815 seconds (10.47 k allocations: 558.100 KiB, 3.05% compilation time)\n"
     ]
    }
   ],
   "source": [
    "@time println(fib(40))"
   ]
  },
  {
   "cell_type": "markdown",
   "id": "3cb773e5",
   "metadata": {},
   "source": [
    "#### コード1-9. 処理時間計測例(2)：`for` 文で4回実行"
   ]
  },
  {
   "cell_type": "code",
   "execution_count": 18,
   "id": "7c008e0d",
   "metadata": {
    "ExecuteTime": {
     "end_time": "2023-01-26T20:36:08.826000+09:00",
     "start_time": "2023-01-26T11:36:01.765Z"
    }
   },
   "outputs": [
    {
     "name": "stdout",
     "output_type": "stream",
     "text": [
      "102334155\n",
      "102334155\n",
      "102334155\n",
      "102334155\n",
      "  1.768262 seconds (400 allocations: 28.000 KiB)\n"
     ]
    }
   ],
   "source": [
    "@time for _=1:4\n",
    "    println(fib(40))\n",
    "end"
   ]
  },
  {
   "cell_type": "markdown",
   "id": "290b8dab",
   "metadata": {},
   "source": [
    "#### コード1-10. 処理時間計測例(3)：`for` 文で4回実行（マルチスレッド化）"
   ]
  },
  {
   "cell_type": "code",
   "execution_count": 19,
   "id": "c3c89aa3-9848-41e1-8714-9f931e133c6e",
   "metadata": {
    "ExecuteTime": {
     "end_time": "2023-01-26T20:36:09.404000+09:00",
     "start_time": "2023-01-26T11:36:01.767Z"
    }
   },
   "outputs": [
    {
     "name": "stdout",
     "output_type": "stream",
     "text": [
      "102334155\n",
      "102334155\n",
      "102334155\n",
      "102334155\n",
      "  0.499473 seconds (52.90 k allocations: 2.825 MiB, 6.29% compilation time)\n"
     ]
    }
   ],
   "source": [
    "@time Threads.@threads for _=1:4\n",
    "    println(fib(40))\n",
    "end"
   ]
  },
  {
   "cell_type": "markdown",
   "id": "b8b2dce4",
   "metadata": {},
   "source": [
    "### 1-1-8. 組み込みパッケージマネージャ！"
   ]
  },
  {
   "cell_type": "markdown",
   "id": "607d6bc3",
   "metadata": {},
   "source": [
    "#### コード1-11. REPLのパッケージモードの例(1)：パッケージの追加・状態確認"
   ]
  },
  {
   "cell_type": "markdown",
   "id": "4a17ba72",
   "metadata": {},
   "source": [
    "```julia\n",
    "(@v1.7) pkg> add BenchmarkTools Primes StaticArrays\n",
    "    Updating registry at `~/.julia/registries/General`\n",
    "   Resolving package versions...\n",
    "   Installed IntegerMathUtils ─ v0.1.0\n",
    "   Installed Primes ─────────── v0.5.2\n",
    "   Installed BenchmarkTools ─── v1.3.1\n",
    "   Installed StaticArrays ───── v1.4.4\n",
    "Updating `~/.julia/environments/v1.7/Project.toml`\n",
    "  [6e4b80f9] + BenchmarkTools v1.3.1\n",
    "  [27ebfcd6] + Primes v0.5.2\n",
    "  [90137ffa] + StaticArrays v1.4.4\n",
    "Updating `~/.julia/environments/v1.7/Manifest.toml`\n",
    "  [6e4b80f9] + BenchmarkTools v1.3.1\n",
    "    : 《一部省略》\n",
    "  [8e850b90] + libblastrampoline_jll\n",
    "Precompiling project...\n",
    "  ✓ IntegerMathUtils\n",
    "    : 《一部省略》\n",
    "  ✓ StaticArrays\n",
    "  7 dependencies successfully precompiled in 4 seconds (15 already precompiled)\n",
    "\n",
    "(@v1.7) pkg> status\n",
    "      Status `~/.julia/environments/v1.7/Project.toml`\n",
    "  [6e4b80f9] BenchmarkTools v1.3.1\n",
    "  [27ebfcd6] Primes v0.5.2\n",
    "  [90137ffa] StaticArrays v1.4.4\n",
    "\n",
    "```"
   ]
  },
  {
   "cell_type": "code",
   "execution_count": 20,
   "id": "39603a02",
   "metadata": {
    "ExecuteTime": {
     "end_time": "2023-01-26T20:36:27.956000+09:00",
     "start_time": "2023-01-26T11:36:01.769Z"
    }
   },
   "outputs": [
    {
     "name": "stderr",
     "output_type": "stream",
     "text": [
      "\u001b[32m\u001b[1m    Updating\u001b[22m\u001b[39m registry at `~/.julia/registries/General`\n",
      "\u001b[32m\u001b[1m    Updating\u001b[22m\u001b[39m git-repo `git@github.com:JuliaRegistries/General.git`\n",
      "\u001b[32m\u001b[1m   Resolving\u001b[22m\u001b[39m package versions...\n",
      "\u001b[32m\u001b[1m   Installed\u001b[22m\u001b[39m StaticArrays ─ v1.5.12\n",
      "\u001b[32m\u001b[1m    Updating\u001b[22m\u001b[39m `/path/to/JuliaBook2023Samples/Project.toml`\n",
      " \u001b[90m [6e4b80f9] \u001b[39m\u001b[92m+ BenchmarkTools v1.3.2\u001b[39m\n",
      " \u001b[90m [27ebfcd6] \u001b[39m\u001b[92m+ Primes v0.5.3\u001b[39m\n",
      " \u001b[90m [90137ffa] \u001b[39m\u001b[92m+ StaticArrays v1.5.12\u001b[39m\n",
      "\u001b[32m\u001b[1m    Updating\u001b[22m\u001b[39m `/path/to/JuliaBook2023Samples/Manifest.toml`\n",
      " \u001b[90m [6e4b80f9] \u001b[39m\u001b[92m+ BenchmarkTools v1.3.2\u001b[39m\n",
      " \u001b[90m [18e54dd8] \u001b[39m\u001b[92m+ IntegerMathUtils v0.1.0\u001b[39m\n",
      " \u001b[90m [682c06a0] \u001b[39m\u001b[92m+ JSON v0.21.3\u001b[39m\n",
      " \u001b[90m [69de0a69] \u001b[39m\u001b[92m+ Parsers v2.5.3\u001b[39m\n",
      " \u001b[90m [21216c6a] \u001b[39m\u001b[92m+ Preferences v1.3.0\u001b[39m\n",
      " \u001b[90m [27ebfcd6] \u001b[39m\u001b[92m+ Primes v0.5.3\u001b[39m\n",
      " \u001b[90m [66db9d55] \u001b[39m\u001b[92m+ SnoopPrecompile v1.0.3\u001b[39m\n",
      " \u001b[90m [90137ffa] \u001b[39m\u001b[92m+ StaticArrays v1.5.12\u001b[39m\n",
      " \u001b[90m [1e83bf80] \u001b[39m\u001b[92m+ StaticArraysCore v1.4.0\u001b[39m\n",
      " \u001b[90m [56f22d72] \u001b[39m\u001b[92m+ Artifacts\u001b[39m\n",
      " \u001b[90m [ade2ca70] \u001b[39m\u001b[92m+ Dates\u001b[39m\n",
      " \u001b[90m [8f399da3] \u001b[39m\u001b[92m+ Libdl\u001b[39m\n",
      " \u001b[90m [37e2e46d] \u001b[39m\u001b[92m+ LinearAlgebra\u001b[39m\n",
      " \u001b[90m [56ddb016] \u001b[39m\u001b[92m+ Logging\u001b[39m\n",
      " \u001b[90m [a63ad114] \u001b[39m\u001b[92m+ Mmap\u001b[39m\n",
      " \u001b[90m [de0858da] \u001b[39m\u001b[92m+ Printf\u001b[39m\n",
      " \u001b[90m [9abbd945] \u001b[39m\u001b[92m+ Profile\u001b[39m\n",
      " \u001b[90m [9a3f8284] \u001b[39m\u001b[92m+ Random\u001b[39m\n",
      " \u001b[90m [ea8e919c] \u001b[39m\u001b[92m+ SHA v0.7.0\u001b[39m\n",
      " \u001b[90m [9e88b42a] \u001b[39m\u001b[92m+ Serialization\u001b[39m\n",
      " \u001b[90m [2f01184e] \u001b[39m\u001b[92m+ SparseArrays\u001b[39m\n",
      " \u001b[90m [10745b16] \u001b[39m\u001b[92m+ Statistics\u001b[39m\n",
      " \u001b[90m [fa267f1f] \u001b[39m\u001b[92m+ TOML v1.0.0\u001b[39m\n",
      " \u001b[90m [cf7118a7] \u001b[39m\u001b[92m+ UUIDs\u001b[39m\n",
      " \u001b[90m [4ec0a83e] \u001b[39m\u001b[92m+ Unicode\u001b[39m\n",
      " \u001b[90m [e66e0078] \u001b[39m\u001b[92m+ CompilerSupportLibraries_jll v1.0.1+0\u001b[39m\n",
      " \u001b[90m [4536629a] \u001b[39m\u001b[92m+ OpenBLAS_jll v0.3.20+0\u001b[39m\n",
      " \u001b[90m [8e850b90] \u001b[39m\u001b[92m+ libblastrampoline_jll v5.1.1+0\u001b[39m\n",
      "\u001b[32m\u001b[1mPrecompiling\u001b[22m\u001b[39m project...\n",
      "\u001b[32m  ✓ \u001b[39m\u001b[90mIntegerMathUtils\u001b[39m\n",
      "\u001b[32m  ✓ \u001b[39m\u001b[90mStaticArraysCore\u001b[39m\n",
      "\u001b[32m  ✓ \u001b[39mPrimes\n",
      "\u001b[32m  ✓ \u001b[39mStaticArrays\n",
      "\u001b[32m  ✓ \u001b[39mJuliaBook2023Samples\n",
      "  5 dependencies successfully precompiled in 5 seconds. 8 already precompiled.\n"
     ]
    }
   ],
   "source": [
    "]add BenchmarkTools Primes StaticArrays"
   ]
  },
  {
   "cell_type": "code",
   "execution_count": 21,
   "id": "39baef73",
   "metadata": {
    "ExecuteTime": {
     "end_time": "2023-01-26T20:36:28.206000+09:00",
     "start_time": "2023-01-26T11:36:01.771Z"
    }
   },
   "outputs": [
    {
     "name": "stdout",
     "output_type": "stream",
     "text": [
      "\u001b[36m\u001b[1mProject\u001b[22m\u001b[39m JuliaBook2023Samples v0.1.0\n",
      "\u001b[32m\u001b[1mStatus\u001b[22m\u001b[39m `/path/to/JuliaBook2023Samples/Project.toml`\n",
      " \u001b[90m [6e4b80f9] \u001b[39mBenchmarkTools v1.3.2\n",
      " \u001b[90m [27ebfcd6] \u001b[39mPrimes v0.5.3\n",
      " \u001b[90m [90137ffa] \u001b[39mStaticArrays v1.5.12\n"
     ]
    }
   ],
   "source": [
    "]st"
   ]
  },
  {
   "cell_type": "markdown",
   "id": "bd346b74",
   "metadata": {
    "tags": []
   },
   "source": [
    "#### コード1-12. REPLのパッケージモードの例(2)：仮想環境作成"
   ]
  },
  {
   "cell_type": "markdown",
   "id": "3f6e641c",
   "metadata": {},
   "source": [
    "```julia\n",
    "(@v1.7) pkg> activate SampleEnv\n",
    "  Activating new environment at `/path/to/currentdir/SampleEnv/Project.toml`\n",
    "\n",
    "(SampleEnv) pkg> add BenchmarkTools\n",
    "    Updating registry at `~/.julia/registries/General`\n",
    "   Resolving package versions...\n",
    "Updating `/path/to/currentdir/SampleEnv/Project.toml`\n",
    "  [6e4b80f9] + BenchmarkTools v1.3.1\n",
    "Updating `/path/to/currentdir/SampleEnv/Manifest.toml`\n",
    "  [6e4b80f9] + BenchmarkTools v1.3.1\n",
    "    : 《以下省略》\n",
    "\n",
    "(SampleEnv) pkg> status\n",
    "Status `/path/to/currentdir/SampleEnv/Project.toml`\n",
    "  [6e4b80f9] BenchmarkTools v1.3.1\n",
    "\n",
    "```"
   ]
  },
  {
   "cell_type": "code",
   "execution_count": 22,
   "id": "ee93cf3d",
   "metadata": {
    "ExecuteTime": {
     "end_time": "2023-01-26T20:36:28.277000+09:00",
     "start_time": "2023-01-26T11:36:01.772Z"
    }
   },
   "outputs": [
    {
     "name": "stderr",
     "output_type": "stream",
     "text": [
      "\u001b[32m\u001b[1m  Activating\u001b[22m\u001b[39m new project at `/path/to/JuliaBook2023Samples/notebooks/Chapter1/SampleEnv`\n"
     ]
    }
   ],
   "source": [
    "]activate SampleEnv"
   ]
  },
  {
   "cell_type": "code",
   "execution_count": 23,
   "id": "6827f436",
   "metadata": {
    "ExecuteTime": {
     "end_time": "2023-01-26T20:36:28.285000+09:00",
     "start_time": "2023-01-26T11:36:01.774Z"
    }
   },
   "outputs": [
    {
     "name": "stdout",
     "output_type": "stream",
     "text": [
      "\u001b[32m\u001b[1mStatus\u001b[22m\u001b[39m `/path/to/JuliaBook2023Samples/notebooks/Chapter1/SampleEnv/Project.toml` (empty project)\n"
     ]
    }
   ],
   "source": [
    "]st"
   ]
  },
  {
   "cell_type": "markdown",
   "id": "c6f875b9-f6ac-4c2f-8597-d0f8cda223f3",
   "metadata": {},
   "source": [
    "#### 仮想コード1-4. REPLのパッケージモードの例(3)：仮想環境の再現（事前に `Project.toml` ファイルのコピー等の作業が必要）"
   ]
  },
  {
   "cell_type": "markdown",
   "id": "3105628b-5ddf-424d-a0b4-f5f507c7d89c",
   "metadata": {},
   "source": [
    "```julia\n",
    "(@v1.7) pkg> activate .\n",
    "  Activating environment at `/path/to/otherdir/SampleEnv/Project.toml`\n",
    "\n",
    "(SampleEnv) pkg> instantiate\n",
    "    Updating registry at `~/.julia/registries/General`\n",
    "Updating `/path/to/otherdir/SampleEnv/Project.toml`\n",
    "  [6e4b80f9] + BenchmarkTools v1.3.1\n",
    "Updating `/path/to/otherdir/SampleEnv/Manifest.toml`\n",
    "  [6e4b80f9] + BenchmarkTools v1.3.1\n",
    "    : 《以下省略》\n",
    "\n",
    "(SampleEnv) pkg> status\n",
    "Status `/path/to/otherdir/SampleEnv/Project.toml`\n",
    "  [6e4b80f9] BenchmarkTools v1.3.1\n",
    "```"
   ]
  },
  {
   "cell_type": "code",
   "execution_count": null,
   "id": "2fc13f3d",
   "metadata": {},
   "outputs": [],
   "source": []
  }
 ],
 "metadata": {
  "jupytext": {
   "formats": "ipynb,auto:light"
  },
  "kernelspec": {
   "display_name": "Julia (4 threads) 1.8.5",
   "language": "julia",
   "name": "julia-_4-threads_-1.8"
  },
  "language_info": {
   "file_extension": ".jl",
   "mimetype": "application/julia",
   "name": "julia",
   "version": "1.8.5"
  }
 },
 "nbformat": 4,
 "nbformat_minor": 5
}
