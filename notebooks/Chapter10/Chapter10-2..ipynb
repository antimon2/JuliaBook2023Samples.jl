{
 "cells": [
  {
   "cell_type": "code",
   "execution_count": 1,
   "id": "70667c9a",
   "metadata": {
    "ExecuteTime": {
     "end_time": "2023-01-27T15:37:41.606000+09:00",
     "start_time": "2023-01-27T06:37:41.145Z"
    }
   },
   "outputs": [
    {
     "name": "stdout",
     "output_type": "stream",
     "text": [
      "Julia Version 1.8.5\n",
      "Commit 17cfb8e65ea (2023-01-08 06:45 UTC)\n",
      "Platform Info:\n",
      "  OS: Linux (x86_64-linux-gnu)\n",
      "  CPU: 12 × Intel(R) Core(TM) i7-9750H CPU @ 2.60GHz\n",
      "  WORD_SIZE: 64\n",
      "  LIBM: libopenlibm\n",
      "  LLVM: libLLVM-13.0.1 (ORCJIT, skylake)\n",
      "  Threads: 1 on 12 virtual cores\n"
     ]
    }
   ],
   "source": [
    "versioninfo()"
   ]
  },
  {
   "cell_type": "markdown",
   "id": "3fa03dcb",
   "metadata": {},
   "source": [
    "## 10-2. 基本的な使い方"
   ]
  },
  {
   "cell_type": "markdown",
   "id": "35afcf55",
   "metadata": {},
   "source": [
    "### パッケージの追加・更新・削除"
   ]
  },
  {
   "cell_type": "markdown",
   "id": "106f3635",
   "metadata": {},
   "source": [
    "#### 仮想コード10-3. パッケージモードのコマンド実行例（パッケージ登録関連）"
   ]
  },
  {
   "cell_type": "code",
   "execution_count": 2,
   "id": "e6432b04",
   "metadata": {
    "ExecuteTime": {
     "end_time": "2023-01-27T15:37:44.074000+09:00",
     "start_time": "2023-01-27T06:37:41.147Z"
    }
   },
   "outputs": [
    {
     "name": "stdout",
     "output_type": "stream",
     "text": [
      "\u001b[36m\u001b[1mProject\u001b[22m\u001b[39m JuliaBook2023Samples v0.1.0\n",
      "\u001b[32m\u001b[1mStatus\u001b[22m\u001b[39m `/path/to/JuliaBook2023Samples/Project.toml`\n",
      " \u001b[90m [6e4b80f9] \u001b[39mBenchmarkTools v1.3.2\n",
      " \u001b[90m [27ebfcd6] \u001b[39mPrimes v0.5.3\n",
      " \u001b[90m [90137ffa] \u001b[39mStaticArrays v1.5.12\n"
     ]
    }
   ],
   "source": [
    "]st"
   ]
  },
  {
   "cell_type": "code",
   "execution_count": 3,
   "id": "1ebdabc5",
   "metadata": {
    "ExecuteTime": {
     "end_time": "2023-01-27T15:37:44.154000+09:00",
     "start_time": "2023-01-27T06:37:41.149Z"
    }
   },
   "outputs": [
    {
     "name": "stdout",
     "output_type": "stream",
     "text": [
      "\u001b[36m\u001b[1mProject\u001b[22m\u001b[39m JuliaBook2023Samples v0.1.0\n",
      "\u001b[32m\u001b[1mStatus\u001b[22m\u001b[39m `/path/to/JuliaBook2023Samples/Manifest.toml`\n",
      " \u001b[90m [6e4b80f9] \u001b[39mBenchmarkTools v1.3.2\n",
      " \u001b[90m [18e54dd8] \u001b[39mIntegerMathUtils v0.1.0\n",
      " \u001b[90m [682c06a0] \u001b[39mJSON v0.21.3\n",
      " \u001b[90m [69de0a69] \u001b[39mParsers v2.5.3\n",
      " \u001b[90m [21216c6a] \u001b[39mPreferences v1.3.0\n",
      " \u001b[90m [27ebfcd6] \u001b[39mPrimes v0.5.3\n",
      " \u001b[90m [66db9d55] \u001b[39mSnoopPrecompile v1.0.3\n",
      " \u001b[90m [90137ffa] \u001b[39mStaticArrays v1.5.12\n",
      " \u001b[90m [1e83bf80] \u001b[39mStaticArraysCore v1.4.0\n",
      " \u001b[90m [56f22d72] \u001b[39mArtifacts\n",
      " \u001b[90m [ade2ca70] \u001b[39mDates\n",
      " \u001b[90m [8f399da3] \u001b[39mLibdl\n",
      " \u001b[90m [37e2e46d] \u001b[39mLinearAlgebra\n",
      " \u001b[90m [56ddb016] \u001b[39mLogging\n",
      " \u001b[90m [a63ad114] \u001b[39mMmap\n",
      " \u001b[90m [de0858da] \u001b[39mPrintf\n",
      " \u001b[90m [9abbd945] \u001b[39mProfile\n",
      " \u001b[90m [9a3f8284] \u001b[39mRandom\n",
      " \u001b[90m [ea8e919c] \u001b[39mSHA v0.7.0\n",
      " \u001b[90m [9e88b42a] \u001b[39mSerialization\n",
      " \u001b[90m [2f01184e] \u001b[39mSparseArrays\n",
      " \u001b[90m [10745b16] \u001b[39mStatistics\n",
      " \u001b[90m [fa267f1f] \u001b[39mTOML v1.0.0\n",
      " \u001b[90m [cf7118a7] \u001b[39mUUIDs\n",
      " \u001b[90m [4ec0a83e] \u001b[39mUnicode\n",
      " \u001b[90m [e66e0078] \u001b[39mCompilerSupportLibraries_jll v1.0.1+0\n",
      " \u001b[90m [4536629a] \u001b[39mOpenBLAS_jll v0.3.20+0\n",
      " \u001b[90m [8e850b90] \u001b[39mlibblastrampoline_jll v5.1.1+0\n"
     ]
    }
   ],
   "source": [
    "]st -m"
   ]
  },
  {
   "cell_type": "code",
   "execution_count": 4,
   "id": "527aecf3",
   "metadata": {
    "ExecuteTime": {
     "end_time": "2023-01-27T15:37:54.956000+09:00",
     "start_time": "2023-01-27T06:37:41.150Z"
    }
   },
   "outputs": [
    {
     "name": "stderr",
     "output_type": "stream",
     "text": [
      "\u001b[32m\u001b[1m    Updating\u001b[22m\u001b[39m registry at `~/.julia/registries/General`\n",
      "\u001b[32m\u001b[1m    Updating\u001b[22m\u001b[39m git-repo `git@github.com:JuliaRegistries/General.git`\n",
      "\u001b[32m\u001b[1m   Resolving\u001b[22m\u001b[39m package versions...\n",
      "\u001b[32m\u001b[1m    Updating\u001b[22m\u001b[39m `/path/to/JuliaBook2023Samples/Project.toml`\n",
      " \u001b[90m [7876af07] \u001b[39m\u001b[92m+ Example v0.5.3\u001b[39m\n",
      "\u001b[32m\u001b[1m    Updating\u001b[22m\u001b[39m `/path/to/JuliaBook2023Samples/Manifest.toml`\n",
      " \u001b[90m [7876af07] \u001b[39m\u001b[92m+ Example v0.5.3\u001b[39m\n",
      "\u001b[32m\u001b[1mPrecompiling\u001b[22m\u001b[39m project...\n",
      "\u001b[32m  ✓ \u001b[39mExample\n",
      "\u001b[32m  ✓ \u001b[39mJuliaBook2023Samples\n",
      "  2 dependencies successfully precompiled in 1 seconds. 12 already precompiled.\n"
     ]
    }
   ],
   "source": [
    "]add Example"
   ]
  },
  {
   "cell_type": "code",
   "execution_count": 5,
   "id": "cc5f3de5",
   "metadata": {
    "ExecuteTime": {
     "end_time": "2023-01-27T15:37:54.967000+09:00",
     "start_time": "2023-01-27T06:37:41.152Z"
    }
   },
   "outputs": [
    {
     "name": "stdout",
     "output_type": "stream",
     "text": [
      "\u001b[36m\u001b[1mProject\u001b[22m\u001b[39m JuliaBook2023Samples v0.1.0\n",
      "\u001b[32m\u001b[1mStatus\u001b[22m\u001b[39m `/path/to/JuliaBook2023Samples/Project.toml`\n",
      " \u001b[90m [6e4b80f9] \u001b[39mBenchmarkTools v1.3.2\n",
      " \u001b[90m [7876af07] \u001b[39mExample v0.5.3\n",
      " \u001b[90m [27ebfcd6] \u001b[39mPrimes v0.5.3\n",
      " \u001b[90m [90137ffa] \u001b[39mStaticArrays v1.5.12\n"
     ]
    }
   ],
   "source": [
    "]st"
   ]
  },
  {
   "cell_type": "code",
   "execution_count": 6,
   "id": "8a45f6c8",
   "metadata": {
    "ExecuteTime": {
     "end_time": "2023-01-27T15:37:55.615000+09:00",
     "start_time": "2023-01-27T06:37:41.153Z"
    }
   },
   "outputs": [
    {
     "name": "stderr",
     "output_type": "stream",
     "text": [
      "\u001b[32m\u001b[1m    Updating\u001b[22m\u001b[39m `/path/to/JuliaBook2023Samples/Project.toml`\n",
      " \u001b[90m [7876af07] \u001b[39m\u001b[91m- Example v0.5.3\u001b[39m\n",
      "\u001b[32m\u001b[1m    Updating\u001b[22m\u001b[39m `/path/to/JuliaBook2023Samples/Manifest.toml`\n",
      " \u001b[90m [7876af07] \u001b[39m\u001b[91m- Example v0.5.3\u001b[39m\n"
     ]
    }
   ],
   "source": [
    "]rm Example"
   ]
  },
  {
   "cell_type": "code",
   "execution_count": 7,
   "id": "ffd63e4e",
   "metadata": {
    "ExecuteTime": {
     "end_time": "2023-01-27T15:37:55.625000+09:00",
     "start_time": "2023-01-27T06:37:41.154Z"
    }
   },
   "outputs": [
    {
     "name": "stdout",
     "output_type": "stream",
     "text": [
      "\u001b[36m\u001b[1mProject\u001b[22m\u001b[39m JuliaBook2023Samples v0.1.0\n",
      "\u001b[32m\u001b[1mStatus\u001b[22m\u001b[39m `/path/to/JuliaBook2023Samples/Project.toml`\n",
      " \u001b[90m [6e4b80f9] \u001b[39mBenchmarkTools v1.3.2\n",
      " \u001b[90m [27ebfcd6] \u001b[39mPrimes v0.5.3\n",
      " \u001b[90m [90137ffa] \u001b[39mStaticArrays v1.5.12\n"
     ]
    }
   ],
   "source": [
    "]st"
   ]
  },
  {
   "cell_type": "code",
   "execution_count": 8,
   "id": "6f343e17",
   "metadata": {
    "ExecuteTime": {
     "end_time": "2023-01-27T15:37:59.783000+09:00",
     "start_time": "2023-01-27T06:37:41.155Z"
    }
   },
   "outputs": [
    {
     "name": "stderr",
     "output_type": "stream",
     "text": [
      "\u001b[32m\u001b[1m    Updating\u001b[22m\u001b[39m registry at `~/.julia/registries/General`\n",
      "\u001b[32m\u001b[1m    Updating\u001b[22m\u001b[39m git-repo `git@github.com:JuliaRegistries/General.git`\n",
      "\u001b[32m\u001b[1m  No Changes\u001b[22m\u001b[39m to `/path/to/JuliaBook2023Samples/Project.toml`\n",
      "\u001b[32m\u001b[1m  No Changes\u001b[22m\u001b[39m to `/path/to/JuliaBook2023Samples/Manifest.toml`\n"
     ]
    }
   ],
   "source": [
    "]up BenchmarkTools"
   ]
  },
  {
   "cell_type": "code",
   "execution_count": 9,
   "id": "7ac31935",
   "metadata": {
    "ExecuteTime": {
     "end_time": "2023-01-27T15:37:59.799000+09:00",
     "start_time": "2023-01-27T06:37:41.157Z"
    }
   },
   "outputs": [
    {
     "name": "stdout",
     "output_type": "stream",
     "text": [
      "\u001b[36m\u001b[1mProject\u001b[22m\u001b[39m JuliaBook2023Samples v0.1.0\n",
      "\u001b[32m\u001b[1mStatus\u001b[22m\u001b[39m `/path/to/JuliaBook2023Samples/Manifest.toml`\n",
      " \u001b[90m [6e4b80f9] \u001b[39mBenchmarkTools v1.3.2\n",
      " \u001b[90m [18e54dd8] \u001b[39mIntegerMathUtils v0.1.0\n",
      " \u001b[90m [682c06a0] \u001b[39mJSON v0.21.3\n",
      " \u001b[90m [69de0a69] \u001b[39mParsers v2.5.3\n",
      " \u001b[90m [21216c6a] \u001b[39mPreferences v1.3.0\n",
      " \u001b[90m [27ebfcd6] \u001b[39mPrimes v0.5.3\n",
      " \u001b[90m [66db9d55] \u001b[39mSnoopPrecompile v1.0.3\n",
      " \u001b[90m [90137ffa] \u001b[39mStaticArrays v1.5.12\n",
      " \u001b[90m [1e83bf80] \u001b[39mStaticArraysCore v1.4.0\n",
      " \u001b[90m [56f22d72] \u001b[39mArtifacts\n",
      " \u001b[90m [ade2ca70] \u001b[39mDates\n",
      " \u001b[90m [8f399da3] \u001b[39mLibdl\n",
      " \u001b[90m [37e2e46d] \u001b[39mLinearAlgebra\n",
      " \u001b[90m [56ddb016] \u001b[39mLogging\n",
      " \u001b[90m [a63ad114] \u001b[39mMmap\n",
      " \u001b[90m [de0858da] \u001b[39mPrintf\n",
      " \u001b[90m [9abbd945] \u001b[39mProfile\n",
      " \u001b[90m [9a3f8284] \u001b[39mRandom\n",
      " \u001b[90m [ea8e919c] \u001b[39mSHA v0.7.0\n",
      " \u001b[90m [9e88b42a] \u001b[39mSerialization\n",
      " \u001b[90m [2f01184e] \u001b[39mSparseArrays\n",
      " \u001b[90m [10745b16] \u001b[39mStatistics\n",
      " \u001b[90m [fa267f1f] \u001b[39mTOML v1.0.0\n",
      " \u001b[90m [cf7118a7] \u001b[39mUUIDs\n",
      " \u001b[90m [4ec0a83e] \u001b[39mUnicode\n",
      " \u001b[90m [e66e0078] \u001b[39mCompilerSupportLibraries_jll v1.0.1+0\n",
      " \u001b[90m [4536629a] \u001b[39mOpenBLAS_jll v0.3.20+0\n",
      " \u001b[90m [8e850b90] \u001b[39mlibblastrampoline_jll v5.1.1+0\n"
     ]
    }
   ],
   "source": [
    "]st -m"
   ]
  },
  {
   "cell_type": "markdown",
   "id": "ea102953",
   "metadata": {},
   "source": [
    "#### 仮想コード10-4. `add` コマンドの他の例（実行結果例省略）"
   ]
  },
  {
   "cell_type": "markdown",
   "id": "abd3ec15",
   "metadata": {},
   "source": [
    "```julia\n",
    "(@v1.7) pkg> add Example@0.5.0\n",
    "\n",
    "(@v1.7) pkg> add Example#master\n",
    "\n",
    "(@v1.7) pkg> add Example=7876af07-990d-54b4-ab0e-23690620f79a\n",
    "\n",
    "(@v1.7) pkg> add https://github.com/JuliaLang/Example.jl.git\n",
    "```"
   ]
  },
  {
   "cell_type": "markdown",
   "id": "de40a21a",
   "metadata": {},
   "source": [
    "### パッケージの固定・固定解除、開発モード・開発モード解除"
   ]
  },
  {
   "cell_type": "markdown",
   "id": "5f24b7b8",
   "metadata": {},
   "source": [
    "#### 仮想コード10-5. パッケージモードのコマンド実行例（パッケージ固定・開発・解除）"
   ]
  },
  {
   "cell_type": "code",
   "execution_count": 10,
   "id": "135a93d2",
   "metadata": {
    "ExecuteTime": {
     "end_time": "2023-01-27T15:38:00.143000+09:00",
     "start_time": "2023-01-27T06:37:41.159Z"
    }
   },
   "outputs": [
    {
     "name": "stderr",
     "output_type": "stream",
     "text": [
      "\u001b[32m\u001b[1m   Resolving\u001b[22m\u001b[39m package versions...\n",
      "\u001b[32m\u001b[1m    Updating\u001b[22m\u001b[39m `/path/to/JuliaBook2023Samples/Project.toml`\n",
      "\u001b[32m⌃\u001b[39m\u001b[90m [7876af07] \u001b[39m\u001b[92m+ Example v0.5.0\u001b[39m\n",
      "\u001b[32m\u001b[1m    Updating\u001b[22m\u001b[39m `/path/to/JuliaBook2023Samples/Manifest.toml`\n",
      "\u001b[32m⌃\u001b[39m\u001b[90m [7876af07] \u001b[39m\u001b[92m+ Example v0.5.0\u001b[39m\n",
      "\u001b[36m\u001b[1m        Info\u001b[22m\u001b[39m Packages marked with \u001b[32m⌃\u001b[39m have new versions available and may be upgradable.\n",
      "\u001b[32m\u001b[1mPrecompiling\u001b[22m\u001b[39m project...\n",
      "\u001b[32m  ✓ \u001b[39mExample\n",
      "\u001b[32m  ✓ \u001b[39mJuliaBook2023Samples\n",
      "  2 dependencies successfully precompiled in 0 seconds. 12 already precompiled.\n"
     ]
    }
   ],
   "source": [
    "]add Example@0.5.0"
   ]
  },
  {
   "cell_type": "code",
   "execution_count": 11,
   "id": "82e8acc1",
   "metadata": {
    "ExecuteTime": {
     "end_time": "2023-01-27T15:38:00.167000+09:00",
     "start_time": "2023-01-27T06:37:41.161Z"
    }
   },
   "outputs": [
    {
     "name": "stdout",
     "output_type": "stream",
     "text": [
      "\u001b[36m\u001b[1mProject\u001b[22m\u001b[39m JuliaBook2023Samples v0.1.0\n",
      "\u001b[32m\u001b[1mStatus\u001b[22m\u001b[39m `/path/to/JuliaBook2023Samples/Project.toml`\n",
      "\u001b[32m⌃\u001b[39m\u001b[90m [7876af07] \u001b[39mExample v0.5.0\n",
      "\u001b[36m\u001b[1mInfo\u001b[22m\u001b[39m Packages marked with \u001b[32m⌃\u001b[39m have new versions available and may be upgradable.\n"
     ]
    }
   ],
   "source": [
    "]st Example"
   ]
  },
  {
   "cell_type": "code",
   "execution_count": 12,
   "id": "fcfeebf0",
   "metadata": {
    "ExecuteTime": {
     "end_time": "2023-01-27T15:38:00.303000+09:00",
     "start_time": "2023-01-27T06:37:41.162Z"
    }
   },
   "outputs": [
    {
     "name": "stderr",
     "output_type": "stream",
     "text": [
      "\u001b[32m\u001b[1m   Resolving\u001b[22m\u001b[39m package versions...\n",
      "\u001b[32m\u001b[1m    Updating\u001b[22m\u001b[39m `/path/to/JuliaBook2023Samples/Project.toml`\n",
      "\u001b[32m⌃\u001b[39m\u001b[90m [7876af07] \u001b[39m\u001b[93m~ Example v0.5.0 ⇒ v0.5.0 ⚲\u001b[39m\n",
      "\u001b[32m\u001b[1m    Updating\u001b[22m\u001b[39m `/path/to/JuliaBook2023Samples/Manifest.toml`\n",
      "\u001b[32m⌃\u001b[39m\u001b[90m [7876af07] \u001b[39m\u001b[93m~ Example v0.5.0 ⇒ v0.5.0 ⚲\u001b[39m\n",
      "\u001b[36m\u001b[1m        Info\u001b[22m\u001b[39m Packages marked with \u001b[32m⌃\u001b[39m have new versions available and may be upgradable.\n"
     ]
    }
   ],
   "source": [
    "]pin Example"
   ]
  },
  {
   "cell_type": "code",
   "execution_count": 13,
   "id": "3e7af0bf",
   "metadata": {
    "ExecuteTime": {
     "end_time": "2023-01-27T15:38:04.564000+09:00",
     "start_time": "2023-01-27T06:37:41.163Z"
    }
   },
   "outputs": [
    {
     "name": "stderr",
     "output_type": "stream",
     "text": [
      "\u001b[32m\u001b[1m    Updating\u001b[22m\u001b[39m registry at `~/.julia/registries/General`\n",
      "\u001b[32m\u001b[1m    Updating\u001b[22m\u001b[39m git-repo `git@github.com:JuliaRegistries/General.git`\n",
      "\u001b[32m\u001b[1m  No Changes\u001b[22m\u001b[39m to `/path/to/JuliaBook2023Samples/Project.toml`\n",
      "\u001b[32m\u001b[1m  No Changes\u001b[22m\u001b[39m to `/path/to/JuliaBook2023Samples/Manifest.toml`\n"
     ]
    }
   ],
   "source": [
    "]up Example"
   ]
  },
  {
   "cell_type": "code",
   "execution_count": 14,
   "id": "2f79ce94",
   "metadata": {
    "ExecuteTime": {
     "end_time": "2023-01-27T15:38:04.581000+09:00",
     "start_time": "2023-01-27T06:37:41.165Z"
    }
   },
   "outputs": [
    {
     "name": "stdout",
     "output_type": "stream",
     "text": [
      "\u001b[36m\u001b[1mProject\u001b[22m\u001b[39m JuliaBook2023Samples v0.1.0\n",
      "\u001b[32m\u001b[1mStatus\u001b[22m\u001b[39m `/path/to/JuliaBook2023Samples/Project.toml`\n",
      "\u001b[32m⌃\u001b[39m\u001b[90m [7876af07] \u001b[39mExample v0.5.0 ⚲\n",
      "\u001b[36m\u001b[1mInfo\u001b[22m\u001b[39m Packages marked with \u001b[32m⌃\u001b[39m have new versions available and may be upgradable.\n"
     ]
    }
   ],
   "source": [
    "]st Example"
   ]
  },
  {
   "cell_type": "code",
   "execution_count": 15,
   "id": "da48a393",
   "metadata": {
    "ExecuteTime": {
     "end_time": "2023-01-27T15:38:04.715000+09:00",
     "start_time": "2023-01-27T06:37:41.166Z"
    }
   },
   "outputs": [
    {
     "name": "stderr",
     "output_type": "stream",
     "text": [
      "\u001b[32m\u001b[1m    Updating\u001b[22m\u001b[39m `/path/to/JuliaBook2023Samples/Project.toml`\n",
      "\u001b[32m⌃\u001b[39m\u001b[90m [7876af07] \u001b[39m\u001b[93m~ Example v0.5.0 ⚲ ⇒ v0.5.0\u001b[39m\n",
      "\u001b[32m\u001b[1m    Updating\u001b[22m\u001b[39m `/path/to/JuliaBook2023Samples/Manifest.toml`\n",
      "\u001b[32m⌃\u001b[39m\u001b[90m [7876af07] \u001b[39m\u001b[93m~ Example v0.5.0 ⚲ ⇒ v0.5.0\u001b[39m\n",
      "\u001b[36m\u001b[1m        Info\u001b[22m\u001b[39m Packages marked with \u001b[32m⌃\u001b[39m have new versions available and may be upgradable.\n"
     ]
    }
   ],
   "source": [
    "]free Example"
   ]
  },
  {
   "cell_type": "code",
   "execution_count": 16,
   "id": "ee61ca69",
   "metadata": {
    "ExecuteTime": {
     "end_time": "2023-01-27T15:38:09.164000+09:00",
     "start_time": "2023-01-27T06:37:41.167Z"
    }
   },
   "outputs": [
    {
     "name": "stderr",
     "output_type": "stream",
     "text": [
      "\u001b[32m\u001b[1m    Updating\u001b[22m\u001b[39m registry at `~/.julia/registries/General`\n",
      "\u001b[32m\u001b[1m    Updating\u001b[22m\u001b[39m git-repo `git@github.com:JuliaRegistries/General.git`\n",
      "\u001b[32m\u001b[1m    Updating\u001b[22m\u001b[39m `/path/to/JuliaBook2023Samples/Project.toml`\n",
      " \u001b[90m [7876af07] \u001b[39m\u001b[93m↑ Example v0.5.0 ⇒ v0.5.3\u001b[39m\n",
      "\u001b[32m\u001b[1m    Updating\u001b[22m\u001b[39m `/path/to/JuliaBook2023Samples/Manifest.toml`\n",
      " \u001b[90m [7876af07] \u001b[39m\u001b[93m↑ Example v0.5.0 ⇒ v0.5.3\u001b[39m\n",
      "\u001b[32m\u001b[1mPrecompiling\u001b[22m\u001b[39m project...\n",
      "\u001b[32m  ✓ \u001b[39mExample\n",
      "\u001b[32m  ✓ \u001b[39mJuliaBook2023Samples\n",
      "  2 dependencies successfully precompiled in 0 seconds. 12 already precompiled.\n"
     ]
    }
   ],
   "source": [
    "]up Example"
   ]
  },
  {
   "cell_type": "code",
   "execution_count": 17,
   "id": "1b6fed48",
   "metadata": {
    "ExecuteTime": {
     "end_time": "2023-01-27T15:38:09.174000+09:00",
     "start_time": "2023-01-27T06:37:41.168Z"
    }
   },
   "outputs": [
    {
     "name": "stdout",
     "output_type": "stream",
     "text": [
      "\u001b[36m\u001b[1mProject\u001b[22m\u001b[39m JuliaBook2023Samples v0.1.0\n",
      "\u001b[32m\u001b[1mStatus\u001b[22m\u001b[39m `/path/to/JuliaBook2023Samples/Project.toml`\n",
      " \u001b[90m [7876af07] \u001b[39mExample v0.5.3\n"
     ]
    }
   ],
   "source": [
    "]st Example"
   ]
  },
  {
   "cell_type": "code",
   "execution_count": 18,
   "id": "24c3d188",
   "metadata": {
    "ExecuteTime": {
     "end_time": "2023-01-27T15:38:09.414000+09:00",
     "start_time": "2023-01-27T06:37:41.169Z"
    }
   },
   "outputs": [
    {
     "name": "stderr",
     "output_type": "stream",
     "text": [
      "\u001b[32m\u001b[1m   Resolving\u001b[22m\u001b[39m package versions...\n",
      "\u001b[32m\u001b[1m    Updating\u001b[22m\u001b[39m `/path/to/JuliaBook2023Samples/Project.toml`\n",
      " \u001b[90m [7876af07] \u001b[39m\u001b[93m~ Example v0.5.3 ⇒ v0.5.4 `~/.julia/dev/Example`\u001b[39m\n",
      "\u001b[32m\u001b[1m    Updating\u001b[22m\u001b[39m `/path/to/JuliaBook2023Samples/Manifest.toml`\n",
      " \u001b[90m [7876af07] \u001b[39m\u001b[93m~ Example v0.5.3 ⇒ v0.5.4 `~/.julia/dev/Example`\u001b[39m\n"
     ]
    }
   ],
   "source": [
    "]dev Example"
   ]
  },
  {
   "cell_type": "code",
   "execution_count": 19,
   "id": "9a8dc86f",
   "metadata": {
    "ExecuteTime": {
     "end_time": "2023-01-27T15:38:09.424000+09:00",
     "start_time": "2023-01-27T06:37:41.171Z"
    }
   },
   "outputs": [
    {
     "name": "stdout",
     "output_type": "stream",
     "text": [
      "\u001b[36m\u001b[1mProject\u001b[22m\u001b[39m JuliaBook2023Samples v0.1.0\n",
      "\u001b[32m\u001b[1mStatus\u001b[22m\u001b[39m `/path/to/JuliaBook2023Samples/Project.toml`\n",
      " \u001b[90m [7876af07] \u001b[39mExample v0.5.4 `~/.julia/dev/Example`\n"
     ]
    }
   ],
   "source": [
    "]st Example"
   ]
  },
  {
   "cell_type": "code",
   "execution_count": 20,
   "id": "ad0e8442",
   "metadata": {
    "ExecuteTime": {
     "end_time": "2023-01-27T15:38:09.460000+09:00",
     "start_time": "2023-01-27T06:37:41.172Z"
    }
   },
   "outputs": [
    {
     "name": "stderr",
     "output_type": "stream",
     "text": [
      "\u001b[32m\u001b[1m   Resolving\u001b[22m\u001b[39m package versions...\n",
      "\u001b[32m\u001b[1m    Updating\u001b[22m\u001b[39m `/path/to/JuliaBook2023Samples/Project.toml`\n",
      " \u001b[90m [7876af07] \u001b[39m\u001b[93m~ Example v0.5.4 `~/.julia/dev/Example` ⇒ v0.5.3\u001b[39m\n",
      "\u001b[32m\u001b[1m    Updating\u001b[22m\u001b[39m `/path/to/JuliaBook2023Samples/Manifest.toml`\n",
      " \u001b[90m [7876af07] \u001b[39m\u001b[93m~ Example v0.5.4 `~/.julia/dev/Example` ⇒ v0.5.3\u001b[39m\n"
     ]
    }
   ],
   "source": [
    "]free Example"
   ]
  },
  {
   "cell_type": "code",
   "execution_count": 21,
   "id": "09f6cd8b",
   "metadata": {
    "ExecuteTime": {
     "end_time": "2023-01-27T15:38:09.470000+09:00",
     "start_time": "2023-01-27T06:37:41.173Z"
    }
   },
   "outputs": [
    {
     "name": "stdout",
     "output_type": "stream",
     "text": [
      "\u001b[36m\u001b[1mProject\u001b[22m\u001b[39m JuliaBook2023Samples v0.1.0\n",
      "\u001b[32m\u001b[1mStatus\u001b[22m\u001b[39m `/path/to/JuliaBook2023Samples/Project.toml`\n",
      " \u001b[90m [7876af07] \u001b[39mExample v0.5.3\n"
     ]
    }
   ],
   "source": [
    "]st Example"
   ]
  },
  {
   "cell_type": "markdown",
   "id": "e913a81e",
   "metadata": {},
   "source": [
    "### その他のパッケージ関連コマンド"
   ]
  },
  {
   "cell_type": "markdown",
   "id": "44fd2a96",
   "metadata": {},
   "source": [
    "### パッケージレジストリ関連コマンド"
   ]
  },
  {
   "cell_type": "markdown",
   "id": "3946865a",
   "metadata": {},
   "source": [
    "#### 仮想コード10-6. パッケージモードのコマンド実行例（パッケージレジストリ関連）"
   ]
  },
  {
   "cell_type": "code",
   "execution_count": 22,
   "id": "ab7be154",
   "metadata": {
    "ExecuteTime": {
     "end_time": "2023-01-27T15:38:09.557000+09:00",
     "start_time": "2023-01-27T06:37:41.175Z"
    }
   },
   "outputs": [
    {
     "name": "stderr",
     "output_type": "stream",
     "text": [
      "\u001b[32m\u001b[1mRegistry Status\u001b[22m\u001b[39m \n",
      "\u001b[90m [23338594]\u001b[39m General (https://github.com/JuliaRegistries/General.git)\n"
     ]
    }
   ],
   "source": [
    "]registry st"
   ]
  },
  {
   "cell_type": "code",
   "execution_count": 23,
   "id": "2a7a0aff",
   "metadata": {
    "ExecuteTime": {
     "end_time": "2023-01-27T15:38:13.845000+09:00",
     "start_time": "2023-01-27T06:37:41.176Z"
    }
   },
   "outputs": [
    {
     "name": "stderr",
     "output_type": "stream",
     "text": [
      "\u001b[32m\u001b[1m    Updating\u001b[22m\u001b[39m registry at `~/.julia/registries/General`\n",
      "\u001b[32m\u001b[1m    Updating\u001b[22m\u001b[39m git-repo `git@github.com:JuliaRegistries/General.git`\n"
     ]
    }
   ],
   "source": [
    "]registry up"
   ]
  },
  {
   "cell_type": "markdown",
   "id": "ab5f3499",
   "metadata": {},
   "source": [
    "```julia\n",
    "(@v1.7) pkg> registry add https://github.com/githubuser/MyPkgRegistry\n",
    "# 《出力例省略》\n",
    "\n",
    "(@v1.7) pkg> registry rm MyPkgRegistry\n",
    "# 《出力例省略》\n",
    "```"
   ]
  }
 ],
 "metadata": {
  "jupytext": {
   "formats": "ipynb,auto:light"
  },
  "kernelspec": {
   "display_name": "Julia 1.8.5",
   "language": "julia",
   "name": "julia-1.8"
  },
  "language_info": {
   "file_extension": ".jl",
   "mimetype": "application/julia",
   "name": "julia",
   "version": "1.8.5"
  }
 },
 "nbformat": 4,
 "nbformat_minor": 5
}
