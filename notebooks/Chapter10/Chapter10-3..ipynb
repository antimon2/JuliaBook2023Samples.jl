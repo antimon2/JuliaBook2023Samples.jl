{
 "cells": [
  {
   "cell_type": "code",
   "execution_count": 1,
   "id": "98539a3c",
   "metadata": {
    "ExecuteTime": {
     "end_time": "2023-01-27T15:39:11.962000+09:00",
     "start_time": "2023-01-27T06:39:11.484Z"
    }
   },
   "outputs": [
    {
     "name": "stdout",
     "output_type": "stream",
     "text": [
      "Julia Version 1.8.5\n",
      "Commit 17cfb8e65ea (2023-01-08 06:45 UTC)\n",
      "Platform Info:\n",
      "  OS: Linux (x86_64-linux-gnu)\n",
      "  CPU: 12 × Intel(R) Core(TM) i7-9750H CPU @ 2.60GHz\n",
      "  WORD_SIZE: 64\n",
      "  LIBM: libopenlibm\n",
      "  LLVM: libLLVM-13.0.1 (ORCJIT, skylake)\n",
      "  Threads: 1 on 12 virtual cores\n"
     ]
    }
   ],
   "source": [
    "versioninfo()"
   ]
  },
  {
   "cell_type": "markdown",
   "id": "b9972473",
   "metadata": {},
   "source": [
    "## 10-3. 環境の管理"
   ]
  },
  {
   "cell_type": "markdown",
   "id": "eeffa9ba",
   "metadata": {},
   "source": [
    "### 10-3-1. 環境（仮想環境）"
   ]
  },
  {
   "cell_type": "markdown",
   "id": "db5bee17",
   "metadata": {},
   "source": [
    "#### 仮想コード10-7. 仮想環境の作成例"
   ]
  },
  {
   "cell_type": "code",
   "execution_count": 2,
   "id": "3f4abb3a",
   "metadata": {
    "ExecuteTime": {
     "end_time": "2023-01-27T15:39:12.679000+09:00",
     "start_time": "2023-01-27T06:39:11.486Z"
    }
   },
   "outputs": [
    {
     "data": {
      "text/plain": [
       "\"/path/to/JuliaBook2023Samples/notebooks/Chapter10\""
      ]
     },
     "execution_count": 2,
     "metadata": {},
     "output_type": "execute_result"
    }
   ],
   "source": [
    "pwd()"
   ]
  },
  {
   "cell_type": "code",
   "execution_count": 3,
   "id": "642c6620",
   "metadata": {
    "ExecuteTime": {
     "end_time": "2023-01-27T15:39:12.681000+09:00",
     "start_time": "2023-01-27T06:39:11.487Z"
    }
   },
   "outputs": [],
   "source": [
    "mkdir(\"testenv\");\n",
    "cd(\"testenv\");"
   ]
  },
  {
   "cell_type": "code",
   "execution_count": 4,
   "id": "78a5fe2e",
   "metadata": {
    "ExecuteTime": {
     "end_time": "2023-01-27T15:39:13.161000+09:00",
     "start_time": "2023-01-27T06:39:11.489Z"
    }
   },
   "outputs": [
    {
     "name": "stderr",
     "output_type": "stream",
     "text": [
      "\u001b[32m\u001b[1m  Activating\u001b[22m\u001b[39m new project at `/path/to/JuliaBook2023Samples/notebooks/Chapter10/testenv`\n"
     ]
    }
   ],
   "source": [
    "]activate ."
   ]
  },
  {
   "cell_type": "code",
   "execution_count": 5,
   "id": "113952b4",
   "metadata": {
    "ExecuteTime": {
     "end_time": "2023-01-27T15:39:15.075000+09:00",
     "start_time": "2023-01-27T06:39:11.490Z"
    }
   },
   "outputs": [
    {
     "name": "stdout",
     "output_type": "stream",
     "text": [
      "\u001b[32m\u001b[1mStatus\u001b[22m\u001b[39m `/path/to/JuliaBook2023Samples/notebooks/Chapter10/testenv/Project.toml` (empty project)\n"
     ]
    }
   ],
   "source": [
    "]st"
   ]
  },
  {
   "cell_type": "markdown",
   "id": "ba7b93ef",
   "metadata": {},
   "source": [
    "#### 仮想コード10-8. 仮想環境へのパッケージ追加例"
   ]
  },
  {
   "cell_type": "code",
   "execution_count": 6,
   "id": "5796fc05",
   "metadata": {
    "ExecuteTime": {
     "end_time": "2023-01-27T15:39:25.483000+09:00",
     "start_time": "2023-01-27T06:39:11.491Z"
    }
   },
   "outputs": [
    {
     "name": "stderr",
     "output_type": "stream",
     "text": [
      "\u001b[32m\u001b[1m    Updating\u001b[22m\u001b[39m registry at `~/.julia/registries/General`\n",
      "\u001b[32m\u001b[1m    Updating\u001b[22m\u001b[39m git-repo `git@github.com:JuliaRegistries/General.git`\n",
      "\u001b[32m\u001b[1m   Resolving\u001b[22m\u001b[39m package versions...\n",
      "\u001b[32m\u001b[1m    Updating\u001b[22m\u001b[39m `/path/to/JuliaBook2023Samples/notebooks/Chapter10/testenv/Project.toml`\n",
      "\u001b[32m⌃\u001b[39m\u001b[90m [7876af07] \u001b[39m\u001b[92m+ Example v0.5.0\u001b[39m\n",
      "\u001b[32m\u001b[1m    Updating\u001b[22m\u001b[39m `/path/to/JuliaBook2023Samples/notebooks/Chapter10/testenv/Manifest.toml`\n",
      "\u001b[32m⌃\u001b[39m\u001b[90m [7876af07] \u001b[39m\u001b[92m+ Example v0.5.0\u001b[39m\n",
      "\u001b[36m\u001b[1m        Info\u001b[22m\u001b[39m Packages marked with \u001b[32m⌃\u001b[39m have new versions available and may be upgradable.\n",
      "\u001b[32m\u001b[1mPrecompiling\u001b[22m\u001b[39m project...\n",
      "\u001b[32m  ✓ \u001b[39mExample\n",
      "  1 dependency successfully precompiled in 0 seconds\n"
     ]
    }
   ],
   "source": [
    "]add Example@0.5.0"
   ]
  },
  {
   "cell_type": "code",
   "execution_count": 7,
   "id": "99896dc5",
   "metadata": {
    "ExecuteTime": {
     "end_time": "2023-01-27T15:39:25.492000+09:00",
     "start_time": "2023-01-27T06:39:11.492Z"
    }
   },
   "outputs": [
    {
     "name": "stdout",
     "output_type": "stream",
     "text": [
      "\u001b[32m\u001b[1mStatus\u001b[22m\u001b[39m `/path/to/JuliaBook2023Samples/notebooks/Chapter10/testenv/Project.toml`\n",
      "\u001b[32m⌃\u001b[39m\u001b[90m [7876af07] \u001b[39mExample v0.5.0\n",
      "\u001b[36m\u001b[1mInfo\u001b[22m\u001b[39m Packages marked with \u001b[32m⌃\u001b[39m have new versions available and may be upgradable.\n"
     ]
    }
   ],
   "source": [
    "]st"
   ]
  },
  {
   "cell_type": "markdown",
   "id": "7227b6ff",
   "metadata": {},
   "source": [
    "#### 仮想コード10-9. 仮想環境とデフォルト環境"
   ]
  },
  {
   "cell_type": "code",
   "execution_count": 8,
   "id": "2fb8b169",
   "metadata": {
    "ExecuteTime": {
     "end_time": "2023-01-27T15:39:25.529000+09:00",
     "start_time": "2023-01-27T06:39:11.493Z"
    }
   },
   "outputs": [
    {
     "name": "stderr",
     "output_type": "stream",
     "text": [
      "\u001b[32m\u001b[1m  Activating\u001b[22m\u001b[39m project at `~/.julia/environments/v1.8`\n"
     ]
    }
   ],
   "source": [
    "]activate"
   ]
  },
  {
   "cell_type": "code",
   "execution_count": 9,
   "id": "781935ed",
   "metadata": {
    "ExecuteTime": {
     "end_time": "2023-01-27T15:39:25.552000+09:00",
     "start_time": "2023-01-27T06:39:11.495Z"
    }
   },
   "outputs": [
    {
     "name": "stdout",
     "output_type": "stream",
     "text": [
      "\u001b[32m\u001b[1mStatus\u001b[22m\u001b[39m `~/.julia/environments/v1.8/Project.toml`\n",
      " \u001b[90m [6e4b80f9] \u001b[39mBenchmarkTools v1.3.2\n",
      " \u001b[90m [861a8166] \u001b[39mCombinatorics v1.0.2\n",
      " \u001b[90m [864edb3b] \u001b[39mDataStructures v0.18.13\n",
      " \u001b[90m [7073ff75] \u001b[39mIJulia v1.24.0\n",
      "\u001b[32m⌃\u001b[39m\u001b[90m [98e50ef6] \u001b[39mJuliaFormatter v1.0.18\n",
      "\u001b[36m\u001b[1mInfo\u001b[22m\u001b[39m Packages marked with \u001b[32m⌃\u001b[39m have new versions available and may be upgradable.\n"
     ]
    }
   ],
   "source": [
    "]st"
   ]
  },
  {
   "cell_type": "code",
   "execution_count": 10,
   "id": "68418aaf",
   "metadata": {
    "ExecuteTime": {
     "end_time": "2023-01-27T15:39:25.553000+09:00",
     "start_time": "2023-01-27T06:39:11.496Z"
    }
   },
   "outputs": [
    {
     "name": "stderr",
     "output_type": "stream",
     "text": [
      "\u001b[32m\u001b[1m  Activating\u001b[22m\u001b[39m project at `/path/to/JuliaBook2023Samples/notebooks/Chapter10/testenv`\n"
     ]
    }
   ],
   "source": [
    "]activate ."
   ]
  },
  {
   "cell_type": "code",
   "execution_count": 11,
   "id": "0427f34c",
   "metadata": {
    "ExecuteTime": {
     "end_time": "2023-01-27T15:39:25.562000+09:00",
     "start_time": "2023-01-27T06:39:11.497Z"
    }
   },
   "outputs": [
    {
     "name": "stdout",
     "output_type": "stream",
     "text": [
      "\u001b[32m\u001b[1mStatus\u001b[22m\u001b[39m `/path/to/JuliaBook2023Samples/notebooks/Chapter10/testenv/Project.toml`\n",
      "\u001b[32m⌃\u001b[39m\u001b[90m [7876af07] \u001b[39mExample v0.5.0\n",
      "\u001b[36m\u001b[1mInfo\u001b[22m\u001b[39m Packages marked with \u001b[32m⌃\u001b[39m have new versions available and may be upgradable.\n"
     ]
    }
   ],
   "source": [
    "]st"
   ]
  },
  {
   "cell_type": "code",
   "execution_count": 12,
   "id": "bb5987b0",
   "metadata": {
    "ExecuteTime": {
     "end_time": "2023-01-27T15:39:25.648000+09:00",
     "start_time": "2023-01-27T06:39:11.498Z"
    }
   },
   "outputs": [
    {
     "name": "stdout",
     "output_type": "stream",
     "text": [
      "\u001b[32m\u001b[1mStatus\u001b[22m\u001b[39m `/path/to/JuliaBook2023Samples/notebooks/Chapter10/testenv/Manifest.toml`\n",
      "\u001b[32m⌃\u001b[39m\u001b[90m [7876af07] \u001b[39mExample v0.5.0\n",
      "\u001b[36m\u001b[1mInfo\u001b[22m\u001b[39m Packages marked with \u001b[32m⌃\u001b[39m have new versions available and may be upgradable.\n"
     ]
    }
   ],
   "source": [
    "]st -m"
   ]
  },
  {
   "cell_type": "markdown",
   "id": "37219a43",
   "metadata": {},
   "source": [
    "#### 仮想コード10-10. 一時的な仮想環境"
   ]
  },
  {
   "cell_type": "code",
   "execution_count": 13,
   "id": "80fcb07f",
   "metadata": {
    "ExecuteTime": {
     "end_time": "2023-01-27T15:39:25.660000+09:00",
     "start_time": "2023-01-27T06:39:11.500Z"
    }
   },
   "outputs": [
    {
     "name": "stderr",
     "output_type": "stream",
     "text": [
      "\u001b[32m\u001b[1m  Activating\u001b[22m\u001b[39m new project at `/tmp/jl_Z3kAxA`\n"
     ]
    }
   ],
   "source": [
    "]activate --temp"
   ]
  },
  {
   "cell_type": "code",
   "execution_count": 14,
   "id": "70f0e2b5",
   "metadata": {
    "ExecuteTime": {
     "end_time": "2023-01-27T15:39:25.677000+09:00",
     "start_time": "2023-01-27T06:39:11.501Z"
    }
   },
   "outputs": [
    {
     "name": "stderr",
     "output_type": "stream",
     "text": [
      "\u001b[32m\u001b[1m   Resolving\u001b[22m\u001b[39m package versions...\n",
      "\u001b[32m\u001b[1m    Updating\u001b[22m\u001b[39m `/tmp/jl_Z3kAxA/Project.toml`\n",
      "\u001b[32m⌃\u001b[39m\u001b[90m [7876af07] \u001b[39m\u001b[92m+ Example v0.5.0\u001b[39m\n",
      "\u001b[32m\u001b[1m    Updating\u001b[22m\u001b[39m `/tmp/jl_Z3kAxA/Manifest.toml`\n",
      "\u001b[32m⌃\u001b[39m\u001b[90m [7876af07] \u001b[39m\u001b[92m+ Example v0.5.0\u001b[39m\n",
      "\u001b[36m\u001b[1m        Info\u001b[22m\u001b[39m Packages marked with \u001b[32m⌃\u001b[39m have new versions available and may be upgradable.\n"
     ]
    }
   ],
   "source": [
    "]add Example@0.5.0"
   ]
  },
  {
   "cell_type": "code",
   "execution_count": 15,
   "id": "6459f0ce",
   "metadata": {
    "ExecuteTime": {
     "end_time": "2023-01-27T15:39:25.686000+09:00",
     "start_time": "2023-01-27T06:39:11.502Z"
    }
   },
   "outputs": [
    {
     "name": "stdout",
     "output_type": "stream",
     "text": [
      "\u001b[32m\u001b[1mStatus\u001b[22m\u001b[39m `/tmp/jl_Z3kAxA/Project.toml`\n",
      "\u001b[32m⌃\u001b[39m\u001b[90m [7876af07] \u001b[39mExample v0.5.0\n",
      "\u001b[36m\u001b[1mInfo\u001b[22m\u001b[39m Packages marked with \u001b[32m⌃\u001b[39m have new versions available and may be upgradable.\n"
     ]
    }
   ],
   "source": [
    "]st"
   ]
  },
  {
   "cell_type": "markdown",
   "id": "7be5fa37",
   "metadata": {},
   "source": [
    "### 10-3-2. プロジェクト"
   ]
  },
  {
   "cell_type": "markdown",
   "id": "e850348e",
   "metadata": {},
   "source": [
    "#### 仮想コード10-11. プロジェクト環境のインスタンス化（`instantiate`）"
   ]
  },
  {
   "cell_type": "code",
   "execution_count": 16,
   "id": "dbccf253",
   "metadata": {
    "ExecuteTime": {
     "end_time": "2023-01-27T15:39:25.687000+09:00",
     "start_time": "2023-01-27T06:39:11.504Z"
    }
   },
   "outputs": [],
   "source": [
    "cd(\"..\");\n",
    "mkdir(\"anotherdir\");\n",
    "cd(\"anotherdir\");"
   ]
  },
  {
   "cell_type": "code",
   "execution_count": 17,
   "id": "23417cb0",
   "metadata": {
    "ExecuteTime": {
     "end_time": "2023-01-27T15:39:25.688000+09:00",
     "start_time": "2023-01-27T06:39:11.506Z"
    }
   },
   "outputs": [
    {
     "data": {
      "text/plain": [
       "\"/path/to/JuliaBook2023Samples/notebooks/Chapter10/anotherdir\""
      ]
     },
     "execution_count": 17,
     "metadata": {},
     "output_type": "execute_result"
    }
   ],
   "source": [
    "pwd()"
   ]
  },
  {
   "cell_type": "code",
   "execution_count": 18,
   "id": "863f6717",
   "metadata": {
    "ExecuteTime": {
     "end_time": "2023-01-27T15:39:25.691000+09:00",
     "start_time": "2023-01-27T06:39:11.507Z"
    }
   },
   "outputs": [
    {
     "name": "stdout",
     "output_type": "stream",
     "text": [
      "[deps]\n",
      "Example = \"7876af07-990d-54b4-ab0e-23690620f79a\"\n"
     ]
    }
   ],
   "source": [
    "print(read(\"../testenv/Project.toml\", String))"
   ]
  },
  {
   "cell_type": "code",
   "execution_count": 19,
   "id": "4d1f2c09",
   "metadata": {
    "ExecuteTime": {
     "end_time": "2023-01-27T15:39:25.694000+09:00",
     "start_time": "2023-01-27T06:39:11.508Z"
    }
   },
   "outputs": [
    {
     "data": {
      "text/plain": [
       "\"tmpenv2/Project.toml\""
      ]
     },
     "execution_count": 19,
     "metadata": {},
     "output_type": "execute_result"
    }
   ],
   "source": [
    "mkdir(\"tmpenv2\");\n",
    "cp(\"../testenv/Project.toml\", \"tmpenv2/Project.toml\")"
   ]
  },
  {
   "cell_type": "code",
   "execution_count": 20,
   "id": "3b32e827",
   "metadata": {
    "ExecuteTime": {
     "end_time": "2023-01-27T15:39:25.695000+09:00",
     "start_time": "2023-01-27T06:39:11.509Z"
    }
   },
   "outputs": [
    {
     "name": "stderr",
     "output_type": "stream",
     "text": [
      "\u001b[32m\u001b[1m  Activating\u001b[22m\u001b[39m project at `/path/to/JuliaBook2023Samples/notebooks/Chapter10/anotherdir/tmpenv2`\n"
     ]
    }
   ],
   "source": [
    "]activate tmpenv2"
   ]
  },
  {
   "cell_type": "code",
   "execution_count": 21,
   "id": "2fb34c39",
   "metadata": {
    "ExecuteTime": {
     "end_time": "2023-01-27T15:39:25.704000+09:00",
     "start_time": "2023-01-27T06:39:11.510Z"
    }
   },
   "outputs": [
    {
     "name": "stdout",
     "output_type": "stream",
     "text": [
      "\u001b[32m\u001b[1mStatus\u001b[22m\u001b[39m `/path/to/JuliaBook2023Samples/notebooks/Chapter10/anotherdir/tmpenv2/Project.toml`\n",
      " \u001b[90m [7876af07] \u001b[39mExample\n"
     ]
    }
   ],
   "source": [
    "]st"
   ]
  },
  {
   "cell_type": "code",
   "execution_count": 22,
   "id": "1d392882",
   "metadata": {
    "ExecuteTime": {
     "end_time": "2023-01-27T15:39:30.017000+09:00",
     "start_time": "2023-01-27T06:39:11.511Z"
    }
   },
   "outputs": [
    {
     "name": "stderr",
     "output_type": "stream",
     "text": [
      "\u001b[32m\u001b[1m    Updating\u001b[22m\u001b[39m registry at `~/.julia/registries/General`\n",
      "\u001b[32m\u001b[1m    Updating\u001b[22m\u001b[39m git-repo `git@github.com:JuliaRegistries/General.git`\n",
      "\u001b[32m\u001b[1m    Updating\u001b[22m\u001b[39m `/path/to/JuliaBook2023Samples/notebooks/Chapter10/anotherdir/tmpenv2/Project.toml`\n",
      " \u001b[90m [7876af07] \u001b[39m\u001b[92m+ Example v0.5.3\u001b[39m\n",
      "\u001b[32m\u001b[1m    Updating\u001b[22m\u001b[39m `/path/to/JuliaBook2023Samples/notebooks/Chapter10/anotherdir/tmpenv2/Manifest.toml`\n",
      " \u001b[90m [7876af07] \u001b[39m\u001b[92m+ Example v0.5.3\u001b[39m\n"
     ]
    }
   ],
   "source": [
    "]instantiate"
   ]
  },
  {
   "cell_type": "code",
   "execution_count": 23,
   "id": "4383aa65",
   "metadata": {
    "ExecuteTime": {
     "end_time": "2023-01-27T15:39:30.028000+09:00",
     "start_time": "2023-01-27T06:39:11.512Z"
    }
   },
   "outputs": [
    {
     "name": "stdout",
     "output_type": "stream",
     "text": [
      "\u001b[32m\u001b[1mStatus\u001b[22m\u001b[39m `/path/to/JuliaBook2023Samples/notebooks/Chapter10/anotherdir/tmpenv2/Project.toml`\n",
      " \u001b[90m [7876af07] \u001b[39mExample v0.5.3\n"
     ]
    }
   ],
   "source": [
    "]st"
   ]
  },
  {
   "cell_type": "markdown",
   "id": "d7fab42f",
   "metadata": {},
   "source": [
    "#### リスト10-3. `Project.toml` 編集例（`[compat]` セクション追記）"
   ]
  },
  {
   "cell_type": "markdown",
   "id": "b00ef79c",
   "metadata": {},
   "source": [
    "```toml\n",
    "[deps]\n",
    "Example = \"7876af07-990d-54b4-ab0e-23690620f79a\"\n",
    "\n",
    "[compat]\n",
    "Example = \"= 0.5.0\"\n",
    "```"
   ]
  },
  {
   "cell_type": "markdown",
   "id": "29c8da1c",
   "metadata": {},
   "source": [
    "#### 仮想コード10-12. プロジェクト環境のインスタンス化（`instantiate`）その2"
   ]
  },
  {
   "cell_type": "code",
   "execution_count": 24,
   "id": "f679c0dc",
   "metadata": {
    "ExecuteTime": {
     "end_time": "2023-01-27T15:39:30.029000+09:00",
     "start_time": "2023-01-27T06:39:11.513Z"
    }
   },
   "outputs": [],
   "source": [
    "mkdir(\"tmpenv3\");\n",
    "cp(\"tmpenv2/Project.toml\", \"tmpenv3/Project.toml\");"
   ]
  },
  {
   "cell_type": "code",
   "execution_count": 25,
   "id": "f46f8f5a",
   "metadata": {
    "ExecuteTime": {
     "end_time": "2023-01-27T15:39:30.037000+09:00",
     "start_time": "2023-01-27T06:39:11.514Z"
    }
   },
   "outputs": [],
   "source": [
    "open(\"tmpenv3/Project.toml\", \"a\") do f\n",
    "    print(f, \"\"\"\n",
    "\n",
    "[compat]\n",
    "Example = \"= 0.5.0\"\n",
    "\"\"\")\n",
    "end"
   ]
  },
  {
   "cell_type": "code",
   "execution_count": 26,
   "id": "44ad513c",
   "metadata": {
    "ExecuteTime": {
     "end_time": "2023-01-27T15:39:30.038000+09:00",
     "start_time": "2023-01-27T06:39:11.515Z"
    }
   },
   "outputs": [
    {
     "name": "stderr",
     "output_type": "stream",
     "text": [
      "\u001b[32m\u001b[1m  Activating\u001b[22m\u001b[39m project at `/path/to/JuliaBook2023Samples/notebooks/Chapter10/anotherdir/tmpenv3`\n"
     ]
    }
   ],
   "source": [
    "]activate tmpenv3"
   ]
  },
  {
   "cell_type": "code",
   "execution_count": 27,
   "id": "7556f12e",
   "metadata": {
    "ExecuteTime": {
     "end_time": "2023-01-27T15:39:30.051000+09:00",
     "start_time": "2023-01-27T06:39:11.516Z"
    }
   },
   "outputs": [
    {
     "name": "stdout",
     "output_type": "stream",
     "text": [
      "\u001b[32m\u001b[1mStatus\u001b[22m\u001b[39m `/path/to/JuliaBook2023Samples/notebooks/Chapter10/anotherdir/tmpenv3/Project.toml`\n",
      " \u001b[90m [7876af07] \u001b[39mExample\n"
     ]
    }
   ],
   "source": [
    "]st"
   ]
  },
  {
   "cell_type": "code",
   "execution_count": 28,
   "id": "ce16329c",
   "metadata": {
    "ExecuteTime": {
     "end_time": "2023-01-27T15:39:33.992000+09:00",
     "start_time": "2023-01-27T06:39:11.518Z"
    }
   },
   "outputs": [
    {
     "name": "stderr",
     "output_type": "stream",
     "text": [
      "\u001b[32m\u001b[1m    Updating\u001b[22m\u001b[39m registry at `~/.julia/registries/General`\n",
      "\u001b[32m\u001b[1m    Updating\u001b[22m\u001b[39m git-repo `git@github.com:JuliaRegistries/General.git`\n",
      "\u001b[32m\u001b[1m    Updating\u001b[22m\u001b[39m `/path/to/JuliaBook2023Samples/notebooks/Chapter10/anotherdir/tmpenv3/Project.toml`\n",
      "\u001b[33m⌅\u001b[39m\u001b[90m [7876af07] \u001b[39m\u001b[92m+ Example v0.5.0\u001b[39m\n",
      "\u001b[32m\u001b[1m    Updating\u001b[22m\u001b[39m `/path/to/JuliaBook2023Samples/notebooks/Chapter10/anotherdir/tmpenv3/Manifest.toml`\n",
      "\u001b[33m⌅\u001b[39m\u001b[90m [7876af07] \u001b[39m\u001b[92m+ Example v0.5.0\u001b[39m\n",
      "\u001b[36m\u001b[1m        Info\u001b[22m\u001b[39m Packages marked with \u001b[33m⌅\u001b[39m have new versions available but compatibility constraints restrict them from upgrading. To see why use `status --outdated -m`\n"
     ]
    }
   ],
   "source": [
    "]instantiate"
   ]
  },
  {
   "cell_type": "code",
   "execution_count": 29,
   "id": "a5555a82",
   "metadata": {
    "ExecuteTime": {
     "end_time": "2023-01-27T15:39:34.002000+09:00",
     "start_time": "2023-01-27T06:39:11.519Z"
    }
   },
   "outputs": [
    {
     "name": "stdout",
     "output_type": "stream",
     "text": [
      "\u001b[32m\u001b[1mStatus\u001b[22m\u001b[39m `/path/to/JuliaBook2023Samples/notebooks/Chapter10/anotherdir/tmpenv3/Project.toml`\n",
      "\u001b[33m⌅\u001b[39m\u001b[90m [7876af07] \u001b[39mExample v0.5.0\n",
      "\u001b[36m\u001b[1mInfo\u001b[22m\u001b[39m Packages marked with \u001b[33m⌅\u001b[39m have new versions available but compatibility constraints restrict them from upgrading. To see why use `status --outdated`\n"
     ]
    }
   ],
   "source": [
    "]st"
   ]
  },
  {
   "cell_type": "markdown",
   "id": "355f4af4",
   "metadata": {},
   "source": [
    "#### 仮想コード10-13. julia 起動時のコマンドライン引数で特定の環境を活性化する例"
   ]
  },
  {
   "cell_type": "markdown",
   "id": "8d314dc6",
   "metadata": {},
   "source": [
    "```shell\n",
    "$ julia --project=tmpenv2  # tmpenv2環境（tmpenv2ディレクトリ）を活性化\n",
    "\n",
    "$ julia --project  # `--project=@.` と同じ\n",
    "\n",
    "$ julia --project main.jl  # カレントディレクトリを活性化し `main.jl` を直接実行する例\n",
    "```"
   ]
  },
  {
   "cell_type": "markdown",
   "id": "b1af7047",
   "metadata": {},
   "source": [
    "### 10-3-3. パッケージディレクトリ"
   ]
  },
  {
   "cell_type": "markdown",
   "id": "5e8e84d5",
   "metadata": {},
   "source": [
    "#### 仮想コード10-14. パッケージ `HelloWorld` 作成例"
   ]
  },
  {
   "cell_type": "code",
   "execution_count": 30,
   "id": "5f600164",
   "metadata": {
    "ExecuteTime": {
     "end_time": "2023-01-27T15:39:34.005000+09:00",
     "start_time": "2023-01-27T06:39:11.521Z"
    }
   },
   "outputs": [],
   "source": [
    "cd(mkpath(\"../newpkgwk\"))"
   ]
  },
  {
   "cell_type": "code",
   "execution_count": 31,
   "id": "133e8793",
   "metadata": {
    "ExecuteTime": {
     "end_time": "2023-01-27T15:39:34.095000+09:00",
     "start_time": "2023-01-27T06:39:11.522Z"
    }
   },
   "outputs": [
    {
     "name": "stderr",
     "output_type": "stream",
     "text": [
      "\u001b[32m\u001b[1m  Generating\u001b[22m\u001b[39m  project HelloWorld:\n",
      "    HelloWorld/Project.toml\n",
      "    HelloWorld/src/HelloWorld.jl\n"
     ]
    }
   ],
   "source": [
    "]generate HelloWorld"
   ]
  },
  {
   "cell_type": "code",
   "execution_count": 32,
   "id": "fdaca6e0",
   "metadata": {
    "ExecuteTime": {
     "end_time": "2023-01-27T15:39:34.096000+09:00",
     "start_time": "2023-01-27T06:39:11.523Z"
    }
   },
   "outputs": [
    {
     "name": "stderr",
     "output_type": "stream",
     "text": [
      "\u001b[32m\u001b[1m  Activating\u001b[22m\u001b[39m project at `/path/to/JuliaBook2023Samples/notebooks/Chapter10/newpkgwk/HelloWorld`\n"
     ]
    }
   ],
   "source": [
    "]activate HelloWorld"
   ]
  },
  {
   "cell_type": "code",
   "execution_count": 33,
   "id": "2a0276c5",
   "metadata": {
    "ExecuteTime": {
     "end_time": "2023-01-27T15:39:34.105000+09:00",
     "start_time": "2023-01-27T06:39:11.524Z"
    }
   },
   "outputs": [
    {
     "name": "stdout",
     "output_type": "stream",
     "text": [
      "\u001b[36m\u001b[1mProject\u001b[22m\u001b[39m HelloWorld v0.1.0\n",
      "\u001b[32m\u001b[1mStatus\u001b[22m\u001b[39m `/path/to/JuliaBook2023Samples/notebooks/Chapter10/newpkgwk/HelloWorld/Project.toml` (empty project)\n"
     ]
    }
   ],
   "source": [
    "]st"
   ]
  },
  {
   "cell_type": "code",
   "execution_count": 34,
   "id": "315761da",
   "metadata": {
    "ExecuteTime": {
     "end_time": "2023-01-27T15:39:34.105000+09:00",
     "start_time": "2023-01-27T06:39:11.525Z"
    }
   },
   "outputs": [
    {
     "name": "stdout",
     "output_type": "stream",
     "text": [
      "name = \"HelloWorld\"\n",
      "uuid = \"e16a6703-78b6-4dbb-8b5b-af922d7f8149\"\n",
      "authors = [\"GOTOH Shunsuke <antimon2.me@gmail.com>\"]\n",
      "version = \"0.1.0\"\n"
     ]
    }
   ],
   "source": [
    "print(read(\"HelloWorld/Project.toml\", String))  # 自動生成される"
   ]
  },
  {
   "cell_type": "code",
   "execution_count": 35,
   "id": "72cbe491",
   "metadata": {
    "ExecuteTime": {
     "end_time": "2023-01-27T15:39:34.106000+09:00",
     "start_time": "2023-01-27T06:39:11.526Z"
    }
   },
   "outputs": [
    {
     "name": "stdout",
     "output_type": "stream",
     "text": [
      "module HelloWorld\n",
      "\n",
      "greet() = print(\"Hello World!\")\n",
      "\n",
      "end # module HelloWorld\n"
     ]
    }
   ],
   "source": [
    "print(read(\"HelloWorld/src/HelloWorld.jl\", String))  # 自動生成される"
   ]
  },
  {
   "cell_type": "code",
   "execution_count": 36,
   "id": "1871b27a",
   "metadata": {
    "ExecuteTime": {
     "end_time": "2023-01-27T15:39:34.107000+09:00",
     "start_time": "2023-01-27T06:39:11.527Z"
    }
   },
   "outputs": [
    {
     "name": "stderr",
     "output_type": "stream",
     "text": [
      "\u001b[32m\u001b[1m  Activating\u001b[22m\u001b[39m new project at `/path/to/JuliaBook2023Samples/notebooks/Chapter10/newpkgwk`\n"
     ]
    }
   ],
   "source": [
    "]activate ."
   ]
  },
  {
   "cell_type": "code",
   "execution_count": 37,
   "id": "a26d985e",
   "metadata": {
    "ExecuteTime": {
     "end_time": "2023-01-27T15:39:35.090000+09:00",
     "start_time": "2023-01-27T06:39:11.528Z"
    }
   },
   "outputs": [
    {
     "name": "stderr",
     "output_type": "stream",
     "text": [
      "\u001b[36m\u001b[1m[ \u001b[22m\u001b[39m\u001b[36m\u001b[1mInfo: \u001b[22m\u001b[39mUse `./HelloWorld` to add or develop the local directory at `/path/to/JuliaBook2023Samples/notebooks/Chapter10/newpkgwk/HelloWorld`.\n"
     ]
    },
    {
     "ename": "LoadError",
     "evalue": "The following package names could not be resolved:\n * HelloWorld (not found in project, manifest or registry)\n\u001b[36m   Suggestions:\u001b[39m \u001b[0m\u001b[1mH\u001b[22m\u001b[0m\u001b[1me\u001b[22m\u001b[0m\u001b[1ml\u001b[22m\u001b[0m\u001b[1ml\u001b[22m\u001b[0m\u001b[1mo\u001b[22m\u001b[0m\u001b[1mW\u001b[22m\u001b[0m\u001b[1mo\u001b[22m\u001b[0m\u001b[1mr\u001b[22m\u001b[0m\u001b[1ml\u001b[22m\u001b[0m\u001b[1md\u001b[22mC_jll \u001b[0m\u001b[1mH\u001b[22m\u001b[0m\u001b[1me\u001b[22m\u001b[0m\u001b[1ml\u001b[22m\u001b[0m\u001b[1ml\u001b[22m\u001b[0m\u001b[1mo\u001b[22m\u001b[0m\u001b[1mW\u001b[22m\u001b[0m\u001b[1mo\u001b[22m\u001b[0m\u001b[1mr\u001b[22m\u001b[0m\u001b[1ml\u001b[22m\u001b[0m\u001b[1md\u001b[22mGo_jll \u001b[0m\u001b[1mH\u001b[22m\u001b[0m\u001b[1me\u001b[22m\u001b[0m\u001b[1ml\u001b[22m\u001b[0m\u001b[1ml\u001b[22m\u001b[0m\u001b[1mo\u001b[22m\u001b[0m\u001b[1mW\u001b[22m\u001b[0m\u001b[1mo\u001b[22m\u001b[0m\u001b[1mr\u001b[22m\u001b[0m\u001b[1ml\u001b[22m\u001b[0m\u001b[1md\u001b[22mCxx_jll",
     "output_type": "error",
     "traceback": [
      "The following package names could not be resolved:\n * HelloWorld (not found in project, manifest or registry)\n\u001b[36m   Suggestions:\u001b[39m \u001b[0m\u001b[1mH\u001b[22m\u001b[0m\u001b[1me\u001b[22m\u001b[0m\u001b[1ml\u001b[22m\u001b[0m\u001b[1ml\u001b[22m\u001b[0m\u001b[1mo\u001b[22m\u001b[0m\u001b[1mW\u001b[22m\u001b[0m\u001b[1mo\u001b[22m\u001b[0m\u001b[1mr\u001b[22m\u001b[0m\u001b[1ml\u001b[22m\u001b[0m\u001b[1md\u001b[22mC_jll \u001b[0m\u001b[1mH\u001b[22m\u001b[0m\u001b[1me\u001b[22m\u001b[0m\u001b[1ml\u001b[22m\u001b[0m\u001b[1ml\u001b[22m\u001b[0m\u001b[1mo\u001b[22m\u001b[0m\u001b[1mW\u001b[22m\u001b[0m\u001b[1mo\u001b[22m\u001b[0m\u001b[1mr\u001b[22m\u001b[0m\u001b[1ml\u001b[22m\u001b[0m\u001b[1md\u001b[22mGo_jll \u001b[0m\u001b[1mH\u001b[22m\u001b[0m\u001b[1me\u001b[22m\u001b[0m\u001b[1ml\u001b[22m\u001b[0m\u001b[1ml\u001b[22m\u001b[0m\u001b[1mo\u001b[22m\u001b[0m\u001b[1mW\u001b[22m\u001b[0m\u001b[1mo\u001b[22m\u001b[0m\u001b[1mr\u001b[22m\u001b[0m\u001b[1ml\u001b[22m\u001b[0m\u001b[1md\u001b[22mCxx_jll",
      "",
      "Stacktrace:",
      " [1] pkgerror(msg::String)",
      "   @ Pkg.Types ~/julia-1.8.5/share/julia/stdlib/v1.8/Pkg/src/Types.jl:67",
      " [2] ensure_resolved(ctx::Pkg.Types.Context, manifest::Pkg.Types.Manifest, pkgs::Vector{Pkg.Types.PackageSpec}; registry::Bool)",
      "   @ Pkg.Types ~/julia-1.8.5/share/julia/stdlib/v1.8/Pkg/src/Types.jl:952",
      " [3] add(ctx::Pkg.Types.Context, pkgs::Vector{Pkg.Types.PackageSpec}; preserve::Pkg.Types.PreserveLevel, platform::Base.BinaryPlatforms.Platform, kwargs::Base.Pairs{Symbol, IJulia.IJuliaStdio{Base.PipeEndpoint}, Tuple{Symbol}, NamedTuple{(:io,), Tuple{IJulia.IJuliaStdio{Base.PipeEndpoint}}}})",
      "   @ Pkg.API ~/julia-1.8.5/share/julia/stdlib/v1.8/Pkg/src/API.jl:264",
      " [4] add(pkgs::Vector{Pkg.Types.PackageSpec}; io::IJulia.IJuliaStdio{Base.PipeEndpoint}, kwargs::Base.Pairs{Symbol, Union{}, Tuple{}, NamedTuple{(), Tuple{}}})",
      "   @ Pkg.API ~/julia-1.8.5/share/julia/stdlib/v1.8/Pkg/src/API.jl:156",
      " [5] add(pkgs::Vector{Pkg.Types.PackageSpec})",
      "   @ Pkg.API ~/julia-1.8.5/share/julia/stdlib/v1.8/Pkg/src/API.jl:145",
      " [6] do_cmd!(command::Pkg.REPLMode.Command, repl::IJulia.MiniREPL)",
      "   @ Pkg.REPLMode ~/julia-1.8.5/share/julia/stdlib/v1.8/Pkg/src/REPLMode/REPLMode.jl:409",
      " [7] do_cmd(repl::IJulia.MiniREPL, input::String; do_rethrow::Bool)",
      "   @ Pkg.REPLMode ~/julia-1.8.5/share/julia/stdlib/v1.8/Pkg/src/REPLMode/REPLMode.jl:387",
      " [8] top-level scope",
      "   @ In[37]:1"
     ]
    }
   ],
   "source": [
    "]add HelloWorld"
   ]
  },
  {
   "cell_type": "code",
   "execution_count": 38,
   "id": "d5f11ef1",
   "metadata": {
    "ExecuteTime": {
     "end_time": "2023-01-27T15:39:35.326000+09:00",
     "start_time": "2023-01-27T06:39:11.530Z"
    }
   },
   "outputs": [
    {
     "name": "stderr",
     "output_type": "stream",
     "text": [
      "\u001b[32m\u001b[1m   Resolving\u001b[22m\u001b[39m package versions...\n",
      "\u001b[32m\u001b[1m    Updating\u001b[22m\u001b[39m `/path/to/JuliaBook2023Samples/notebooks/Chapter10/newpkgwk/Project.toml`\n",
      " \u001b[90m [e16a6703] \u001b[39m\u001b[92m+ HelloWorld v0.1.0 `HelloWorld`\u001b[39m\n",
      "\u001b[32m\u001b[1m    Updating\u001b[22m\u001b[39m `/path/to/JuliaBook2023Samples/notebooks/Chapter10/newpkgwk/Manifest.toml`\n",
      " \u001b[90m [e16a6703] \u001b[39m\u001b[92m+ HelloWorld v0.1.0 `HelloWorld`\u001b[39m\n"
     ]
    }
   ],
   "source": [
    "]dev ./HelloWorld"
   ]
  },
  {
   "cell_type": "code",
   "execution_count": 39,
   "id": "7b4f75bc",
   "metadata": {
    "ExecuteTime": {
     "end_time": "2023-01-27T15:39:35.334000+09:00",
     "start_time": "2023-01-27T06:39:11.531Z"
    }
   },
   "outputs": [
    {
     "name": "stdout",
     "output_type": "stream",
     "text": [
      "\u001b[32m\u001b[1mStatus\u001b[22m\u001b[39m `/path/to/JuliaBook2023Samples/notebooks/Chapter10/newpkgwk/Project.toml`\n",
      " \u001b[90m [e16a6703] \u001b[39mHelloWorld v0.1.0 `HelloWorld`\n"
     ]
    }
   ],
   "source": [
    "]st"
   ]
  },
  {
   "cell_type": "code",
   "execution_count": 40,
   "id": "d20702df",
   "metadata": {
    "ExecuteTime": {
     "end_time": "2023-01-27T15:39:35.335000+09:00",
     "start_time": "2023-01-27T06:39:11.532Z"
    }
   },
   "outputs": [
    {
     "name": "stdout",
     "output_type": "stream",
     "text": [
      "[deps]\n",
      "HelloWorld = \"e16a6703-78b6-4dbb-8b5b-af922d7f8149\"\n"
     ]
    }
   ],
   "source": [
    "print(read(\"./Project.toml\", String))"
   ]
  },
  {
   "cell_type": "code",
   "execution_count": 41,
   "id": "b7adf530",
   "metadata": {
    "ExecuteTime": {
     "end_time": "2023-01-27T15:39:35.516000+09:00",
     "start_time": "2023-01-27T06:39:11.533Z"
    }
   },
   "outputs": [
    {
     "name": "stderr",
     "output_type": "stream",
     "text": [
      "\u001b[36m\u001b[1m[ \u001b[22m\u001b[39m\u001b[36m\u001b[1mInfo: \u001b[22m\u001b[39mPrecompiling HelloWorld [e16a6703-78b6-4dbb-8b5b-af922d7f8149]\n"
     ]
    }
   ],
   "source": [
    "using HelloWorld"
   ]
  },
  {
   "cell_type": "code",
   "execution_count": 42,
   "id": "f40db2bb",
   "metadata": {
    "ExecuteTime": {
     "end_time": "2023-01-27T15:39:35.519000+09:00",
     "start_time": "2023-01-27T06:39:11.534Z"
    }
   },
   "outputs": [
    {
     "name": "stdout",
     "output_type": "stream",
     "text": [
      "Hello World!"
     ]
    }
   ],
   "source": [
    "HelloWorld.greet()"
   ]
  }
 ],
 "metadata": {
  "jupytext": {
   "formats": "ipynb,auto:light"
  },
  "kernelspec": {
   "display_name": "Julia 1.8.5",
   "language": "julia",
   "name": "julia-1.8"
  },
  "language_info": {
   "file_extension": ".jl",
   "mimetype": "application/julia",
   "name": "julia",
   "version": "1.8.5"
  }
 },
 "nbformat": 4,
 "nbformat_minor": 5
}
