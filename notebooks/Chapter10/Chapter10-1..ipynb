{
 "cells": [
  {
   "cell_type": "code",
   "execution_count": 1,
   "id": "f2f852eb",
   "metadata": {
    "ExecuteTime": {
     "end_time": "2023-01-27T15:35:58.026000+09:00",
     "start_time": "2023-01-27T06:35:57.541Z"
    }
   },
   "outputs": [
    {
     "name": "stdout",
     "output_type": "stream",
     "text": [
      "Julia Version 1.8.5\n",
      "Commit 17cfb8e65ea (2023-01-08 06:45 UTC)\n",
      "Platform Info:\n",
      "  OS: Linux (x86_64-linux-gnu)\n",
      "  CPU: 12 × Intel(R) Core(TM) i7-9750H CPU @ 2.60GHz\n",
      "  WORD_SIZE: 64\n",
      "  LIBM: libopenlibm\n",
      "  LLVM: libLLVM-13.0.1 (ORCJIT, skylake)\n",
      "  Threads: 1 on 12 virtual cores\n"
     ]
    }
   ],
   "source": [
    "versioninfo()"
   ]
  },
  {
   "cell_type": "markdown",
   "id": "4108e505",
   "metadata": {},
   "source": [
    "## 10-1. Julia のパッケージマネージャ"
   ]
  },
  {
   "cell_type": "markdown",
   "id": "b56b22da",
   "metadata": {},
   "source": [
    "### 10-1-1. REPL のパッケージモード"
   ]
  },
  {
   "cell_type": "markdown",
   "id": "4ab1c255",
   "metadata": {},
   "source": [
    "#### 仮想コード10-1. Julia のパッケージモード"
   ]
  },
  {
   "cell_type": "markdown",
   "id": "c70275e0",
   "metadata": {},
   "source": [
    "※本文中では「仮想コード」だが、Jupyterではパッケージモードのコマンド実行および履歴が残せるので、可能なものはそのまま載せる。以下同様"
   ]
  },
  {
   "cell_type": "code",
   "execution_count": 2,
   "id": "037f5505",
   "metadata": {
    "ExecuteTime": {
     "end_time": "2023-01-27T15:35:58.554000+09:00",
     "start_time": "2023-01-27T06:35:57.544Z"
    }
   },
   "outputs": [
    {
     "name": "stdout",
     "output_type": "stream",
     "text": [
      "  \u001b[1mWelcome to the Pkg REPL-mode\u001b[22m. To return to the \u001b[36mjulia>\u001b[39m prompt, either press\n",
      "  backspace when the input line is empty or press Ctrl+C.\n",
      "\n",
      "  Full documentation available at https://pkgdocs.julialang.org/\n",
      "\n",
      "  \u001b[1mSynopsis\u001b[22m\n",
      "\n",
      "\u001b[36m  pkg> cmd [opts] [args]\u001b[39m\n",
      "\n",
      "  Multiple commands can be given on the same line by interleaving a \u001b[36m;\u001b[39m between\n",
      "  the commands. Some commands have an alias, indicated below.\n",
      "\n",
      "  \u001b[1mCommands\u001b[22m\n",
      "\n",
      "  \u001b[36mactivate\u001b[39m: set the primary environment the package manager manipulates\n",
      "\n",
      "  \u001b[36madd\u001b[39m: add packages to project\n",
      "\n",
      "  \u001b[36mbuild\u001b[39m: run the build script for packages\n",
      "\n",
      "  \u001b[36mcompat\u001b[39m: edit compat entries in the current Project and re-resolve\n",
      "\n",
      "  \u001b[36mdevelop\u001b[39m, \u001b[36mdev\u001b[39m: clone the full package repo locally for development\n",
      "\n",
      "  \u001b[36mfree\u001b[39m: undoes a \u001b[36mpin\u001b[39m, \u001b[36mdevelop\u001b[39m, or stops tracking a repo\n",
      "\n",
      "  \u001b[36mgc\u001b[39m: garbage collect packages not used for a significant time\n",
      "\n",
      "  \u001b[36mgenerate\u001b[39m: generate files for a new project\n",
      "\n",
      "  \u001b[36mhelp\u001b[39m, \u001b[36m?\u001b[39m: show this message\n",
      "\n",
      "  \u001b[36minstantiate\u001b[39m: downloads all the dependencies for the project\n",
      "\n",
      "  \u001b[36mpin\u001b[39m: pins the version of packages\n",
      "\n",
      "  \u001b[36mprecompile\u001b[39m: precompile all the project dependencies\n",
      "\n",
      "  \u001b[36mredo\u001b[39m: redo the latest change to the active project\n",
      "\n",
      "  \u001b[36mremove\u001b[39m, \u001b[36mrm\u001b[39m: remove packages from project or manifest\n",
      "\n",
      "  \u001b[36mresolve\u001b[39m: resolves to update the manifest from changes in dependencies of\n",
      "  developed packages\n",
      "\n",
      "  \u001b[36mstatus\u001b[39m, \u001b[36mst\u001b[39m: summarize contents of and changes to environment\n",
      "\n",
      "  \u001b[36mtest\u001b[39m: run tests for packages\n",
      "\n",
      "  \u001b[36mundo\u001b[39m: undo the latest change to the active project\n",
      "\n",
      "  \u001b[36mupdate\u001b[39m, \u001b[36mup\u001b[39m: update packages in manifest\n",
      "\n",
      "  \u001b[36mregistry add\u001b[39m: add package registries\n",
      "\n",
      "  \u001b[36mregistry remove\u001b[39m, \u001b[36mrm\u001b[39m: remove package registries\n",
      "\n",
      "  \u001b[36mregistry status\u001b[39m, \u001b[36mst\u001b[39m: information about installed registries\n",
      "\n",
      "  \u001b[36mregistry update\u001b[39m, \u001b[36mup\u001b[39m: update package registries\n"
     ]
    }
   ],
   "source": [
    "]?"
   ]
  },
  {
   "cell_type": "code",
   "execution_count": 3,
   "id": "597712db",
   "metadata": {
    "ExecuteTime": {
     "end_time": "2023-01-27T15:35:58.851000+09:00",
     "start_time": "2023-01-27T06:35:57.545Z"
    }
   },
   "outputs": [
    {
     "name": "stdout",
     "output_type": "stream",
     "text": [
      "\u001b[36m  [st|status] [-d|--diff] [-o|--outdated] [pkgs...]\u001b[39m\n",
      "\u001b[36m  [st|status] [-d|--diff] [-o|--outdated] [-p|--project] [pkgs...]\u001b[39m\n",
      "\u001b[36m  [st|status] [-d|--diff] [-o|--outdated] [-m|--manifest] [pkgs...]\u001b[39m\n",
      "\u001b[36m  [st|status] [-c|--compat] [pkgs...]\u001b[39m\n",
      "\n",
      "  Show the status of the current environment. Packages marked with \u001b[36m⌃\u001b[39m have new\n",
      "  versions that may be installed, e.g. via \u001b[36mpkg> up\u001b[39m. Those marked with \u001b[36m⌅\u001b[39m have\n",
      "  new versions available, but cannot be installed due to compatibility\n",
      "  constraints. To see why use \u001b[36mpkg> status --outdated\u001b[39m which shows any packages\n",
      "  that are not at their latest version and if any packages are holding them\n",
      "  back.\n",
      "\n",
      "  In \u001b[36m--project\u001b[39m mode (default), the status of the project file is summarized.\n",
      "  In \u001b[36m--manifest\u001b[39m mode the output also includes the recursive dependencies of\n",
      "  added packages given in the manifest. If there are any packages listed as\n",
      "  arguments the output will be limited to those packages. The \u001b[36m--diff\u001b[39m option\n",
      "  will, if the environment is in a git repository, limit the output to the\n",
      "  difference as compared to the last git commit. The \u001b[36m--compat\u001b[39m option alone\n",
      "  shows project compat entries.\n",
      "\n",
      "\u001b[39m\u001b[1m  │ \u001b[22m\u001b[39m\u001b[1mJulia 1.1\u001b[22m\n",
      "\u001b[39m\u001b[1m  │\u001b[22m\n",
      "\u001b[39m\u001b[1m  │\u001b[22m  \u001b[36mpkg> status\u001b[39m with package arguments requires at least Julia 1.1.\n",
      "\n",
      "\u001b[39m\u001b[1m  │ \u001b[22m\u001b[39m\u001b[1mJulia 1.3\u001b[22m\n",
      "\u001b[39m\u001b[1m  │\u001b[22m\n",
      "\u001b[39m\u001b[1m  │\u001b[22m  The \u001b[36m--diff\u001b[39m option requires at least Julia 1.3. In earlier versions\n",
      "\u001b[39m\u001b[1m  │\u001b[22m  \u001b[36m--diff\u001b[39m is the default for environments in git repositories.\n",
      "\n",
      "\u001b[39m\u001b[1m  │ \u001b[22m\u001b[39m\u001b[1mJulia 1.8\u001b[22m\n",
      "\u001b[39m\u001b[1m  │\u001b[22m\n",
      "\u001b[39m\u001b[1m  │\u001b[22m  The \u001b[36m⌃\u001b[39m and \u001b[36m⌅\u001b[39m indicators were added in Julia 1.8 The \u001b[36m--outdated\u001b[39m and\n",
      "\u001b[39m\u001b[1m  │\u001b[22m  \u001b[36m--compat\u001b[39m options require at least Julia 1.8.\n"
     ]
    }
   ],
   "source": [
    "]? st"
   ]
  },
  {
   "cell_type": "markdown",
   "id": "dfee1e26",
   "metadata": {},
   "source": [
    "#### 仮想コード10-A2. パッケージの状態確認と追加の例"
   ]
  },
  {
   "cell_type": "code",
   "execution_count": 4,
   "id": "180fadd0",
   "metadata": {
    "ExecuteTime": {
     "end_time": "2023-01-27T15:36:01.066000+09:00",
     "start_time": "2023-01-27T06:35:57.547Z"
    }
   },
   "outputs": [
    {
     "name": "stdout",
     "output_type": "stream",
     "text": [
      "\u001b[36m\u001b[1mProject\u001b[22m\u001b[39m JuliaBook2023Samples v0.1.0\n",
      "\u001b[32m\u001b[1mStatus\u001b[22m\u001b[39m `/path/to/JuliaBook2023Samples/Project.toml`\n",
      " \u001b[90m [6e4b80f9] \u001b[39mBenchmarkTools v1.3.2\n",
      " \u001b[90m [27ebfcd6] \u001b[39mPrimes v0.5.3\n",
      " \u001b[90m [90137ffa] \u001b[39mStaticArrays v1.5.12\n"
     ]
    }
   ],
   "source": [
    "]status"
   ]
  },
  {
   "cell_type": "code",
   "execution_count": 5,
   "id": "a4b562d2",
   "metadata": {
    "ExecuteTime": {
     "end_time": "2023-01-27T15:36:12.914000+09:00",
     "start_time": "2023-01-27T06:35:57.548Z"
    }
   },
   "outputs": [
    {
     "name": "stderr",
     "output_type": "stream",
     "text": [
      "\u001b[32m\u001b[1m    Updating\u001b[22m\u001b[39m registry at `~/.julia/registries/General`\n",
      "\u001b[32m\u001b[1m    Updating\u001b[22m\u001b[39m git-repo `git@github.com:JuliaRegistries/General.git`\n",
      "\u001b[32m\u001b[1m   Resolving\u001b[22m\u001b[39m package versions...\n",
      "\u001b[32m\u001b[1m  No Changes\u001b[22m\u001b[39m to `/path/to/JuliaBook2023Samples/Project.toml`\n",
      "\u001b[32m\u001b[1m  No Changes\u001b[22m\u001b[39m to `/path/to/JuliaBook2023Samples/Manifest.toml`\n"
     ]
    }
   ],
   "source": [
    "]add Primes StaticArrays"
   ]
  },
  {
   "cell_type": "code",
   "execution_count": 6,
   "id": "6a679e46",
   "metadata": {
    "ExecuteTime": {
     "end_time": "2023-01-27T15:36:12.924000+09:00",
     "start_time": "2023-01-27T06:35:57.549Z"
    }
   },
   "outputs": [
    {
     "name": "stdout",
     "output_type": "stream",
     "text": [
      "\u001b[36m\u001b[1mProject\u001b[22m\u001b[39m JuliaBook2023Samples v0.1.0\n",
      "\u001b[32m\u001b[1mStatus\u001b[22m\u001b[39m `/path/to/JuliaBook2023Samples/Project.toml`\n",
      " \u001b[90m [6e4b80f9] \u001b[39mBenchmarkTools v1.3.2\n",
      " \u001b[90m [27ebfcd6] \u001b[39mPrimes v0.5.3\n",
      " \u001b[90m [90137ffa] \u001b[39mStaticArrays v1.5.12\n"
     ]
    }
   ],
   "source": [
    "]st"
   ]
  },
  {
   "cell_type": "markdown",
   "id": "8b591f04",
   "metadata": {},
   "source": [
    "### 10-1-2. `Project.toml`/`Manifest.toml`"
   ]
  },
  {
   "cell_type": "markdown",
   "id": "51a0c924",
   "metadata": {},
   "source": [
    "#### リスト10-1. `Project.toml`（一例）"
   ]
  },
  {
   "cell_type": "markdown",
   "id": "a4b98d03",
   "metadata": {},
   "source": [
    "```toml\n",
    "[deps]\n",
    "BenchmarkTools = \"6e4b80f9-dd63-53aa-95a3-0cdb28fa8baf\"\n",
    "Primes = \"27ebfcd6-29c5-5fa9-bf4b-fb8fc14df3ae\"\n",
    "StaticArrays = \"90137ffa-7385-5640-81b9-e52037218182\"\n",
    "```"
   ]
  },
  {
   "cell_type": "markdown",
   "id": "27754518",
   "metadata": {},
   "source": [
    "#### リスト10-2. `Manifest.toml`（一例、抜粋）"
   ]
  },
  {
   "cell_type": "markdown",
   "id": "fb1dcab9",
   "metadata": {},
   "source": [
    "```toml\n",
    "# This file is machine-generated - editing it directly is not advised\n",
    "\n",
    "julia_version = \"1.7.2\"\n",
    "manifest_format = \"2.0\"\n",
    "\n",
    "[[deps.Artifacts]]\n",
    "uuid = \"56f22d72-fd6d-98f1-02f0-08ddc0907c33\"\n",
    "\n",
    "[[deps.BenchmarkTools]]\n",
    "deps = [\"JSON\", \"Logging\", \"Printf\", \"Profile\", \"Statistics\", \"UUIDs\"]\n",
    "git-tree-sha1 = \"940001114a0147b6e4d10624276d56d531dd9b49\"\n",
    "uuid = \"6e4b80f9-dd63-53aa-95a3-0cdb28fa8baf\"\n",
    "version = \"1.2.2\"\n",
    "\n",
    "# :《中略》\n",
    "\n",
    "[[deps.JSON]]\n",
    "deps = [\"Dates\", \"Mmap\", \"Parsers\", \"Unicode\"]\n",
    "git-tree-sha1 = \"8076680b162ada2a031f707ac7b4953e30667a37\"\n",
    "uuid = \"682c06a0-de6a-54ab-a142-c8b1cf79cde6\"\n",
    "version = \"0.21.2\"\n",
    "\n",
    "# :《中略》\n",
    "\n",
    "[[deps.Primes]]\n",
    "git-tree-sha1 = \"984a3ee07d47d401e0b823b7d30546792439070a\"\n",
    "uuid = \"27ebfcd6-29c5-5fa9-bf4b-fb8fc14df3ae\"\n",
    "version = \"0.5.1\"\n",
    "\n",
    "# :《中略》\n",
    "\n",
    "[[deps.StaticArrays]]\n",
    "deps = [\"LinearAlgebra\", \"Random\", \"Statistics\"]\n",
    "git-tree-sha1 = \"74fb527333e72ada2dd9ef77d98e4991fb185f04\"\n",
    "uuid = \"90137ffa-7385-5640-81b9-e52037218182\"\n",
    "version = \"1.4.1\"\n",
    "\n",
    "[[deps.Statistics]]\n",
    "deps = [\"LinearAlgebra\", \"SparseArrays\"]\n",
    "uuid = \"10745b16-79ce-11e8-11f9-7d13ad32a3b2\"\n",
    "\n",
    "# :《以下略》\n",
    "```"
   ]
  }
 ],
 "metadata": {
  "jupytext": {
   "formats": "ipynb,auto:light"
  },
  "kernelspec": {
   "display_name": "Julia 1.8.5",
   "language": "julia",
   "name": "julia-1.8"
  },
  "language_info": {
   "file_extension": ".jl",
   "mimetype": "application/julia",
   "name": "julia",
   "version": "1.8.5"
  }
 },
 "nbformat": 4,
 "nbformat_minor": 5
}
