{
 "cells": [
  {
   "cell_type": "code",
   "execution_count": 1,
   "id": "745bd87f",
   "metadata": {
    "ExecuteTime": {
     "end_time": "2023-01-28T10:42:54.777000+09:00",
     "start_time": "2023-01-28T01:42:52.589Z"
    }
   },
   "outputs": [
    {
     "name": "stdout",
     "output_type": "stream",
     "text": [
      "Julia Version 1.8.5\n",
      "Commit 17cfb8e65ea (2023-01-08 06:45 UTC)\n",
      "Platform Info:\n",
      "  OS: Linux (x86_64-linux-gnu)\n",
      "  CPU: 12 × Intel(R) Core(TM) i7-9750H CPU @ 2.60GHz\n",
      "  WORD_SIZE: 64\n",
      "  LIBM: libopenlibm\n",
      "  LLVM: libLLVM-13.0.1 (ORCJIT, skylake)\n",
      "  Threads: 1 on 12 virtual cores\n"
     ]
    }
   ],
   "source": [
    "versioninfo()"
   ]
  },
  {
   "cell_type": "markdown",
   "id": "9183dcbe",
   "metadata": {},
   "source": [
    "## 10-4. パッケージ開発の基本"
   ]
  },
  {
   "cell_type": "markdown",
   "id": "1bc11382",
   "metadata": {},
   "source": [
    "### 10-4-1. `PkgTemplates.jl` によるパッケージディレクトリの生成"
   ]
  },
  {
   "cell_type": "markdown",
   "id": "0f2f810d",
   "metadata": {},
   "source": [
    "#### コード10-1. git のグローバル設定の確認と設定（Bash/Zsh等の例、Windows Powershell でも同様）"
   ]
  },
  {
   "cell_type": "code",
   "execution_count": 2,
   "id": "04f3e2a0",
   "metadata": {
    "ExecuteTime": {
     "end_time": "2023-01-28T10:42:55.907000+09:00",
     "start_time": "2023-01-28T01:42:54.959Z"
    }
   },
   "outputs": [
    {
     "name": "stdout",
     "output_type": "stream",
     "text": [
      "GOTOH Shunsuke\n"
     ]
    }
   ],
   "source": [
    ";git config --global user.name"
   ]
  },
  {
   "cell_type": "code",
   "execution_count": 3,
   "id": "263e88c3",
   "metadata": {
    "ExecuteTime": {
     "end_time": "2023-01-28T10:42:56.407000+09:00",
     "start_time": "2023-01-28T01:42:55.506Z"
    }
   },
   "outputs": [
    {
     "name": "stdout",
     "output_type": "stream",
     "text": [
      "antimon2.me@gmail.com\n"
     ]
    }
   ],
   "source": [
    ";git config --global user.email"
   ]
  },
  {
   "cell_type": "code",
   "execution_count": 4,
   "id": "3acf2130",
   "metadata": {
    "ExecuteTime": {
     "end_time": "2023-01-28T10:42:57.123000+09:00",
     "start_time": "2023-01-28T01:42:56.216Z"
    }
   },
   "outputs": [
    {
     "name": "stdout",
     "output_type": "stream",
     "text": [
      "antimon2\n"
     ]
    }
   ],
   "source": [
    ";git config --global github.user"
   ]
  },
  {
   "cell_type": "markdown",
   "id": "f46baadc",
   "metadata": {},
   "source": [
    "```shell\n",
    "# 確認\n",
    "$ git config --global user.name\n",
    "USER Name  # ←一例です。\n",
    "\n",
    "$ git config --global user.email\n",
    "username@email.example.com  # ←一例です。\n",
    "\n",
    "$ git config --global github.user\n",
    "githubuser  # ←一例です。\n",
    "\n",
    "# 未設定（何も表示されない）なら以下の要領で設定\n",
    "$ git config --global user.name \"USER Name\"  # ←実際にはあなたの名前を設定してください\n",
    "\n",
    "$ git config --global user.email \"username@email.example.com\"  # ←あなたのメールアドレスを設定\n",
    "\n",
    "$ git config --global github.user githubuser  # ←あなたの github ユーザ名を設定\n",
    "```"
   ]
  },
  {
   "cell_type": "code",
   "execution_count": 5,
   "id": "9777c4c5",
   "metadata": {
    "ExecuteTime": {
     "end_time": "2023-01-28T10:43:01.589000+09:00",
     "start_time": "2023-01-28T01:43:00.685Z"
    }
   },
   "outputs": [],
   "source": [
    "mkdir(\"pkgdev\") |> cd"
   ]
  },
  {
   "cell_type": "code",
   "execution_count": 6,
   "id": "69936b82",
   "metadata": {
    "ExecuteTime": {
     "end_time": "2023-01-28T10:43:04.377000+09:00",
     "start_time": "2023-01-28T01:43:02.930Z"
    }
   },
   "outputs": [
    {
     "name": "stderr",
     "output_type": "stream",
     "text": [
      "\u001b[32m\u001b[1m  Activating\u001b[22m\u001b[39m new project at `/path/to/JuliaBook2023Samples/notebooks/Chapter10/pkgdev`\n"
     ]
    }
   ],
   "source": [
    "]activate ."
   ]
  },
  {
   "cell_type": "code",
   "execution_count": 7,
   "id": "f4da5949",
   "metadata": {
    "ExecuteTime": {
     "end_time": "2023-01-28T10:43:23.867000+09:00",
     "start_time": "2023-01-28T01:43:06.499Z"
    },
    "scrolled": true
   },
   "outputs": [
    {
     "name": "stderr",
     "output_type": "stream",
     "text": [
      "\u001b[32m\u001b[1m    Updating\u001b[22m\u001b[39m registry at `~/.julia/registries/General`\n",
      "\u001b[32m\u001b[1m    Updating\u001b[22m\u001b[39m git-repo `git@github.com:JuliaRegistries/General.git`\n",
      "\u001b[32m\u001b[1m   Resolving\u001b[22m\u001b[39m package versions...\n",
      "\u001b[32m\u001b[1m   Installed\u001b[22m\u001b[39m Mocking ────── v0.7.5\n",
      "\u001b[32m\u001b[1m   Installed\u001b[22m\u001b[39m DataAPI ────── v1.14.0\n",
      "\u001b[32m\u001b[1m   Installed\u001b[22m\u001b[39m PkgTemplates ─ v0.7.30\n",
      "\u001b[32m\u001b[1m    Updating\u001b[22m\u001b[39m `/path/to/JuliaBook2023Samples/notebooks/Chapter10/pkgdev/Project.toml`\n",
      " \u001b[90m [14b8a8f1] \u001b[39m\u001b[92m+ PkgTemplates v0.7.30\u001b[39m\n",
      "\u001b[32m\u001b[1m    Updating\u001b[22m\u001b[39m `/path/to/JuliaBook2023Samples/notebooks/Chapter10/pkgdev/Manifest.toml`\n",
      " \u001b[90m [34da2185] \u001b[39m\u001b[92m+ Compat v4.5.0\u001b[39m\n",
      " \u001b[90m [9a962f9c] \u001b[39m\u001b[92m+ DataAPI v1.14.0\u001b[39m\n",
      " \u001b[90m [e2d170a0] \u001b[39m\u001b[92m+ DataValueInterfaces v1.0.0\u001b[39m\n",
      " \u001b[90m [e2ba6199] \u001b[39m\u001b[92m+ ExprTools v0.1.8\u001b[39m\n",
      " \u001b[90m [82899510] \u001b[39m\u001b[92m+ IteratorInterfaceExtensions v1.0.0\u001b[39m\n",
      " \u001b[90m [78c3b35d] \u001b[39m\u001b[92m+ Mocking v0.7.5\u001b[39m\n",
      " \u001b[90m [ffc61752] \u001b[39m\u001b[92m+ Mustache v1.0.14\u001b[39m\n",
      " \u001b[90m [bac558e1] \u001b[39m\u001b[92m+ OrderedCollections v1.4.1\u001b[39m\n",
      " \u001b[90m [d96e819e] \u001b[39m\u001b[92m+ Parameters v0.12.3\u001b[39m\n",
      " \u001b[90m [14b8a8f1] \u001b[39m\u001b[92m+ PkgTemplates v0.7.30\u001b[39m\n",
      " \u001b[90m [3783bdb8] \u001b[39m\u001b[92m+ TableTraits v1.0.1\u001b[39m\n",
      " \u001b[90m [bd369af6] \u001b[39m\u001b[92m+ Tables v1.10.0\u001b[39m\n",
      " \u001b[90m [3a884ed6] \u001b[39m\u001b[92m+ UnPack v1.0.2\u001b[39m\n",
      " \u001b[90m [0dad84c5] \u001b[39m\u001b[92m+ ArgTools v1.1.1\u001b[39m\n",
      " \u001b[90m [56f22d72] \u001b[39m\u001b[92m+ Artifacts\u001b[39m\n",
      " \u001b[90m [2a0f44e3] \u001b[39m\u001b[92m+ Base64\u001b[39m\n",
      " \u001b[90m [ade2ca70] \u001b[39m\u001b[92m+ Dates\u001b[39m\n",
      " \u001b[90m [f43a241f] \u001b[39m\u001b[92m+ Downloads v1.6.0\u001b[39m\n",
      " \u001b[90m [7b1f6079] \u001b[39m\u001b[92m+ FileWatching\u001b[39m\n",
      " \u001b[90m [b77e0a4c] \u001b[39m\u001b[92m+ InteractiveUtils\u001b[39m\n",
      " \u001b[90m [b27032c2] \u001b[39m\u001b[92m+ LibCURL v0.6.3\u001b[39m\n",
      " \u001b[90m [76f85450] \u001b[39m\u001b[92m+ LibGit2\u001b[39m\n",
      " \u001b[90m [8f399da3] \u001b[39m\u001b[92m+ Libdl\u001b[39m\n",
      " \u001b[90m [37e2e46d] \u001b[39m\u001b[92m+ LinearAlgebra\u001b[39m\n",
      " \u001b[90m [56ddb016] \u001b[39m\u001b[92m+ Logging\u001b[39m\n",
      " \u001b[90m [d6f4376e] \u001b[39m\u001b[92m+ Markdown\u001b[39m\n",
      " \u001b[90m [ca575930] \u001b[39m\u001b[92m+ NetworkOptions v1.2.0\u001b[39m\n",
      " \u001b[90m [44cfe95a] \u001b[39m\u001b[92m+ Pkg v1.8.0\u001b[39m\n",
      " \u001b[90m [de0858da] \u001b[39m\u001b[92m+ Printf\u001b[39m\n",
      " \u001b[90m [3fa0cd96] \u001b[39m\u001b[92m+ REPL\u001b[39m\n",
      " \u001b[90m [9a3f8284] \u001b[39m\u001b[92m+ Random\u001b[39m\n",
      " \u001b[90m [ea8e919c] \u001b[39m\u001b[92m+ SHA v0.7.0\u001b[39m\n",
      " \u001b[90m [9e88b42a] \u001b[39m\u001b[92m+ Serialization\u001b[39m\n",
      " \u001b[90m [6462fe0b] \u001b[39m\u001b[92m+ Sockets\u001b[39m\n",
      " \u001b[90m [fa267f1f] \u001b[39m\u001b[92m+ TOML v1.0.0\u001b[39m\n",
      " \u001b[90m [a4e569a6] \u001b[39m\u001b[92m+ Tar v1.10.1\u001b[39m\n",
      " \u001b[90m [8dfed614] \u001b[39m\u001b[92m+ Test\u001b[39m\n",
      " \u001b[90m [cf7118a7] \u001b[39m\u001b[92m+ UUIDs\u001b[39m\n",
      " \u001b[90m [4ec0a83e] \u001b[39m\u001b[92m+ Unicode\u001b[39m\n",
      " \u001b[90m [e66e0078] \u001b[39m\u001b[92m+ CompilerSupportLibraries_jll v1.0.1+0\u001b[39m\n",
      " \u001b[90m [deac9b47] \u001b[39m\u001b[92m+ LibCURL_jll v7.84.0+0\u001b[39m\n",
      " \u001b[90m [29816b5a] \u001b[39m\u001b[92m+ LibSSH2_jll v1.10.2+0\u001b[39m\n",
      " \u001b[90m [c8ffd9c3] \u001b[39m\u001b[92m+ MbedTLS_jll v2.28.0+0\u001b[39m\n",
      " \u001b[90m [14a3606d] \u001b[39m\u001b[92m+ MozillaCACerts_jll v2022.2.1\u001b[39m\n",
      " \u001b[90m [4536629a] \u001b[39m\u001b[92m+ OpenBLAS_jll v0.3.20+0\u001b[39m\n",
      " \u001b[90m [83775a58] \u001b[39m\u001b[92m+ Zlib_jll v1.2.12+3\u001b[39m\n",
      " \u001b[90m [8e850b90] \u001b[39m\u001b[92m+ libblastrampoline_jll v5.1.1+0\u001b[39m\n",
      " \u001b[90m [8e850ede] \u001b[39m\u001b[92m+ nghttp2_jll v1.48.0+0\u001b[39m\n",
      " \u001b[90m [3f19e933] \u001b[39m\u001b[92m+ p7zip_jll v17.4.0+0\u001b[39m\n",
      "\u001b[32m\u001b[1mPrecompiling\u001b[22m\u001b[39m project...\n",
      "\u001b[32m  ✓ \u001b[39m\u001b[90mIteratorInterfaceExtensions\u001b[39m\n",
      "\u001b[32m  ✓ \u001b[39m\u001b[90mDataValueInterfaces\u001b[39m\n",
      "\u001b[32m  ✓ \u001b[39m\u001b[90mUnPack\u001b[39m\n",
      "\u001b[32m  ✓ \u001b[39m\u001b[90mDataAPI\u001b[39m\n",
      "\u001b[32m  ✓ \u001b[39m\u001b[90mExprTools\u001b[39m\n",
      "\u001b[32m  ✓ \u001b[39m\u001b[90mTableTraits\u001b[39m\n",
      "\u001b[32m  ✓ \u001b[39m\u001b[90mParameters\u001b[39m\n",
      "\u001b[32m  ✓ \u001b[39m\u001b[90mMocking\u001b[39m\n",
      "\u001b[32m  ✓ \u001b[39m\u001b[90mTables\u001b[39m\n",
      "\u001b[32m  ✓ \u001b[39m\u001b[90mMustache\u001b[39m\n",
      "\u001b[32m  ✓ \u001b[39mPkgTemplates\n",
      "  11 dependencies successfully precompiled in 3 seconds. 8 already precompiled.\n"
     ]
    }
   ],
   "source": [
    "]add PkgTemplates"
   ]
  },
  {
   "cell_type": "code",
   "execution_count": 8,
   "id": "d86a93b4",
   "metadata": {
    "ExecuteTime": {
     "end_time": "2023-01-28T10:43:26.112000+09:00",
     "start_time": "2023-01-28T01:43:25.015Z"
    }
   },
   "outputs": [
    {
     "name": "stdout",
     "output_type": "stream",
     "text": [
      "\u001b[32m\u001b[1mStatus\u001b[22m\u001b[39m `/path/to/JuliaBook2023Samples/notebooks/Chapter10/pkgdev/Project.toml`\n",
      " \u001b[90m [14b8a8f1] \u001b[39mPkgTemplates v0.7.30\n"
     ]
    }
   ],
   "source": [
    "]st"
   ]
  },
  {
   "cell_type": "markdown",
   "id": "6011ef6c",
   "metadata": {},
   "source": [
    "#### コード10-3. パッケージテンプレートの作成"
   ]
  },
  {
   "cell_type": "code",
   "execution_count": 9,
   "id": "add540d4",
   "metadata": {
    "ExecuteTime": {
     "end_time": "2023-01-28T10:43:31.198000+09:00",
     "start_time": "2023-01-28T01:43:30.260Z"
    }
   },
   "outputs": [],
   "source": [
    "using PkgTemplates"
   ]
  },
  {
   "cell_type": "code",
   "execution_count": 10,
   "id": "fa88f5df",
   "metadata": {
    "ExecuteTime": {
     "end_time": "2023-01-28T10:43:35.080000+09:00",
     "start_time": "2023-01-28T01:43:31.560Z"
    }
   },
   "outputs": [
    {
     "data": {
      "text/plain": [
       "Template:\n",
       "  authors: [\"GOTOH Shunsuke <antimon2.me@gmail.com> and contributors\"]\n",
       "  dir: \"/path/to/JuliaBook2023Samples/notebooks/Chapter10/pkgdev\"\n",
       "  host: \"github.com\"\n",
       "  julia: v\"1.6.0\"\n",
       "  user: \"antimon2\"\n",
       "  plugins:\n",
       "    CompatHelper:\n",
       "      file: \"~/.julia/packages/PkgTemplates/N9g79/templates/github/workflows/CompatHelper.yml\"\n",
       "      destination: \"CompatHelper.yml\"\n",
       "      cron: \"0 0 * * *\"\n",
       "    Git:\n",
       "      ignore: String[]\n",
       "      name: nothing\n",
       "      email: nothing\n",
       "      branch: \"main\"\n",
       "      ssh: true\n",
       "      jl: true\n",
       "      manifest: false\n",
       "      gpgsign: false\n",
       "    License:\n",
       "      path: \"~/.julia/packages/PkgTemplates/N9g79/templates/licenses/MIT\"\n",
       "      destination: \"LICENSE\"\n",
       "    ProjectFile:\n",
       "      version: v\"0.1.0\"\n",
       "    Readme:\n",
       "      file: \"~/.julia/packages/PkgTemplates/N9g79/templates/README.md\"\n",
       "      destination: \"README.md\"\n",
       "      inline_badges: false\n",
       "      badge_order: DataType[Documenter{GitHubActions}, Documenter{GitLabCI}, Documenter{TravisCI}, GitHubActions, GitLabCI, TravisCI, AppVeyor, DroneCI, CirrusCI, Codecov, Coveralls, BlueStyleBadge, ColPracBadge, PkgEvalBadge]\n",
       "      badge_off: DataType[]\n",
       "    SrcDir:\n",
       "      file: \"~/.julia/packages/PkgTemplates/N9g79/templates/src/module.jl\"\n",
       "    TagBot:\n",
       "      file: \"~/.julia/packages/PkgTemplates/N9g79/templates/github/workflows/TagBot.yml\"\n",
       "      destination: \"TagBot.yml\"\n",
       "      trigger: \"JuliaTagBot\"\n",
       "      token: Secret(\"GITHUB_TOKEN\")\n",
       "      ssh: Secret(\"DOCUMENTER_KEY\")\n",
       "      ssh_password: nothing\n",
       "      changelog: nothing\n",
       "      changelog_ignore: nothing\n",
       "      gpg: nothing\n",
       "      gpg_password: nothing\n",
       "      registry: nothing\n",
       "      branches: nothing\n",
       "      dispatch: nothing\n",
       "      dispatch_delay: nothing\n",
       "    Tests:\n",
       "      file: \"~/.julia/packages/PkgTemplates/N9g79/templates/test/runtests.jl\"\n",
       "      project: false"
      ]
     },
     "execution_count": 10,
     "metadata": {},
     "output_type": "execute_result"
    }
   ],
   "source": [
    "tpl = Template(;\n",
    "    dir = pwd(),\n",
    "    julia = v\"1.6\",\n",
    "    plugins = [Git(ssh=true)]\n",
    ")"
   ]
  },
  {
   "cell_type": "code",
   "execution_count": 11,
   "id": "2548c836",
   "metadata": {
    "ExecuteTime": {
     "end_time": "2023-01-28T10:43:47.879000+09:00",
     "start_time": "2023-01-28T01:43:37.124Z"
    }
   },
   "outputs": [
    {
     "name": "stderr",
     "output_type": "stream",
     "text": [
      "\u001b[36m\u001b[1m[ \u001b[22m\u001b[39m\u001b[36m\u001b[1mInfo: \u001b[22m\u001b[39mRunning prehooks\n",
      "\u001b[36m\u001b[1m[ \u001b[22m\u001b[39m\u001b[36m\u001b[1mInfo: \u001b[22m\u001b[39mRunning hooks\n",
      "\u001b[32m\u001b[1m  Activating\u001b[22m\u001b[39m project at `/path/to/JuliaBook2023Samples/notebooks/Chapter10/pkgdev/MyPackage`\n",
      "\u001b[32m\u001b[1m    Updating\u001b[22m\u001b[39m registry at `~/.julia/registries/General`\n",
      "\u001b[32m\u001b[1m    Updating\u001b[22m\u001b[39m git-repo `git@github.com:JuliaRegistries/General.git`\n",
      "\u001b[33m\u001b[1m┌ \u001b[22m\u001b[39m\u001b[33m\u001b[1mWarning: \u001b[22m\u001b[39mThe active manifest file at `/path/to/JuliaBook2023Samples/notebooks/Chapter10/pkgdev/MyPackage/Manifest.toml` has an old format that is being maintained.\n",
      "\u001b[33m\u001b[1m│ \u001b[22m\u001b[39mTo update to the new format, which is supported by Julia versions ≥ 1.6.2, run `Pkg.upgrade_manifest()` which will upgrade the format without re-resolving.\n",
      "\u001b[33m\u001b[1m│ \u001b[22m\u001b[39mTo then record the julia version re-resolve with `Pkg.resolve()` and if there are resolve conflicts consider `Pkg.update()`.\n",
      "\u001b[33m\u001b[1m└ \u001b[22m\u001b[39m\u001b[90m@ Pkg.Types /cache/build/default-amdci4-2/julialang/julia-release-1-dot-8/usr/share/julia/stdlib/v1.8/Pkg/src/manifest.jl:287\u001b[39m\n",
      "\u001b[32m\u001b[1m  No Changes\u001b[22m\u001b[39m to `/path/to/JuliaBook2023Samples/notebooks/Chapter10/pkgdev/MyPackage/Project.toml`\n",
      "\u001b[32m\u001b[1m  No Changes\u001b[22m\u001b[39m to `/path/to/JuliaBook2023Samples/notebooks/Chapter10/pkgdev/MyPackage/Manifest.toml`\n",
      "\u001b[32m\u001b[1mPrecompiling\u001b[22m\u001b[39m project...\n",
      "\u001b[32m  ✓ \u001b[39mMyPackage\n",
      "  1 dependency successfully precompiled in 0 seconds\n",
      "\u001b[32m\u001b[1m  Activating\u001b[22m\u001b[39m project at `/path/to/JuliaBook2023Samples/notebooks/Chapter10/pkgdev`\n",
      "\u001b[36m\u001b[1m[ \u001b[22m\u001b[39m\u001b[36m\u001b[1mInfo: \u001b[22m\u001b[39mRunning posthooks\n",
      "\u001b[36m\u001b[1m[ \u001b[22m\u001b[39m\u001b[36m\u001b[1mInfo: \u001b[22m\u001b[39mNew package is at /path/to/JuliaBook2023Samples/notebooks/Chapter10/pkgdev/MyPackage\n"
     ]
    }
   ],
   "source": [
    "tpl(\"MyPackage\")"
   ]
  },
  {
   "cell_type": "markdown",
   "id": "2f9d0bec",
   "metadata": {},
   "source": [
    "#### コード10-5. `PkgTemplates` により自動生成されたファイル群の確認"
   ]
  },
  {
   "cell_type": "code",
   "execution_count": 12,
   "id": "79055cf6",
   "metadata": {
    "ExecuteTime": {
     "end_time": "2023-01-28T10:43:51.782000+09:00",
     "start_time": "2023-01-28T01:43:49.950Z"
    }
   },
   "outputs": [
    {
     "data": {
      "text/plain": [
       "9-element Vector{String}:\n",
       " \".git\"\n",
       " \".github\"\n",
       " \".gitignore\"\n",
       " \"LICENSE\"\n",
       " \"Manifest.toml\"\n",
       " \"Project.toml\"\n",
       " \"README.md\"\n",
       " \"src\"\n",
       " \"test\""
      ]
     },
     "execution_count": 12,
     "metadata": {},
     "output_type": "execute_result"
    }
   ],
   "source": [
    "readdir(\"MyPackage\")"
   ]
  },
  {
   "cell_type": "code",
   "execution_count": 13,
   "id": "826f8163",
   "metadata": {
    "ExecuteTime": {
     "end_time": "2023-01-28T10:43:54.907000+09:00",
     "start_time": "2023-01-28T01:43:54.007Z"
    }
   },
   "outputs": [
    {
     "data": {
      "text/plain": [
       "1-element Vector{String}:\n",
       " \"MyPackage.jl\""
      ]
     },
     "execution_count": 13,
     "metadata": {},
     "output_type": "execute_result"
    }
   ],
   "source": [
    "readdir(\"MyPackage/src\")"
   ]
  },
  {
   "cell_type": "code",
   "execution_count": 14,
   "id": "3c127d15",
   "metadata": {
    "ExecuteTime": {
     "end_time": "2023-01-28T10:43:55.814000+09:00",
     "start_time": "2023-01-28T01:43:54.913Z"
    }
   },
   "outputs": [
    {
     "data": {
      "text/plain": [
       "1-element Vector{String}:\n",
       " \"runtests.jl\""
      ]
     },
     "execution_count": 14,
     "metadata": {},
     "output_type": "execute_result"
    }
   ],
   "source": [
    "readdir(\"MyPackage/test\")"
   ]
  },
  {
   "cell_type": "code",
   "execution_count": 15,
   "id": "8b3241d3",
   "metadata": {
    "ExecuteTime": {
     "end_time": "2023-01-28T10:43:56.527000+09:00",
     "start_time": "2023-01-28T01:43:55.627Z"
    }
   },
   "outputs": [
    {
     "name": "stdout",
     "output_type": "stream",
     "text": [
      "name = \"MyPackage\"\n",
      "uuid = \"bb001ef6-218f-4c19-b9ab-f29ad02920a9\"\n",
      "authors = [\"GOTOH Shunsuke <antimon2.me@gmail.com> and contributors\"]\n",
      "version = \"0.1.0\"\n",
      "\n",
      "[compat]\n",
      "julia = \"1.6\"\n",
      "\n",
      "[extras]\n",
      "Test = \"8dfed614-e22c-5e08-85e1-65c5234f0b40\"\n",
      "\n",
      "[targets]\n",
      "test = [\"Test\"]\n"
     ]
    }
   ],
   "source": [
    "print(read(\"MyPackage/Project.toml\", String))"
   ]
  },
  {
   "cell_type": "code",
   "execution_count": 16,
   "id": "a16ddea6",
   "metadata": {
    "ExecuteTime": {
     "end_time": "2023-01-28T10:43:58.241000+09:00",
     "start_time": "2023-01-28T01:43:57.345Z"
    }
   },
   "outputs": [
    {
     "name": "stdout",
     "output_type": "stream",
     "text": [
      "module MyPackage\n",
      "\n",
      "# Write your package code here.\n",
      "\n",
      "end\n"
     ]
    }
   ],
   "source": [
    "print(read(\"MyPackage/src/MyPackage.jl\", String))"
   ]
  },
  {
   "cell_type": "code",
   "execution_count": 17,
   "id": "272651e8",
   "metadata": {
    "ExecuteTime": {
     "end_time": "2023-01-28T10:43:59.067000+09:00",
     "start_time": "2023-01-28T01:43:58.172Z"
    }
   },
   "outputs": [
    {
     "name": "stdout",
     "output_type": "stream",
     "text": [
      "using MyPackage\n",
      "using Test\n",
      "\n",
      "@testset \"MyPackage.jl\" begin\n",
      "    # Write your tests here.\n",
      "end\n"
     ]
    }
   ],
   "source": [
    "print(read(\"MyPackage/test/runtests.jl\", String))"
   ]
  },
  {
   "cell_type": "markdown",
   "id": "53f38d11",
   "metadata": {},
   "source": [
    "### 10-4-2. 構成ディレクトリ・ファイルについての補足"
   ]
  },
  {
   "cell_type": "markdown",
   "id": "b22067ad",
   "metadata": {},
   "source": [
    "#### コード10-6. テストコードの簡単な例"
   ]
  },
  {
   "cell_type": "code",
   "execution_count": 18,
   "id": "66662f45",
   "metadata": {
    "ExecuteTime": {
     "end_time": "2023-01-28T10:44:01.028000+09:00",
     "start_time": "2023-01-28T01:44:00.119Z"
    }
   },
   "outputs": [
    {
     "name": "stdout",
     "output_type": "stream",
     "text": [
      "using MyPackage\n",
      "using Test\n",
      "\n",
      "@testset \"MyPackage.jl\" begin\n",
      "    # Write your tests here.\n",
      "    @test 1 + 1 == 2\n",
      "end\n"
     ]
    }
   ],
   "source": [
    "lines = readlines(\"MyPackage/test/runtests.jl\")\n",
    "insert!(lines, length(lines), \"    @test 1 + 1 == 2\")\n",
    "open(\"MyPackage/test/runtests.jl\", \"w\") do f\n",
    "    for line in lines\n",
    "        println(f, line)\n",
    "    end\n",
    "end\n",
    "print(read(\"MyPackage/test/runtests.jl\", String))"
   ]
  },
  {
   "cell_type": "markdown",
   "id": "c189bda0",
   "metadata": {},
   "source": [
    "#### コード10-7. 開発中のパッケージのテスト実行例(1)"
   ]
  },
  {
   "cell_type": "code",
   "execution_count": 19,
   "id": "92b2d259",
   "metadata": {
    "ExecuteTime": {
     "end_time": "2023-01-28T10:44:05.315000+09:00",
     "start_time": "2023-01-28T01:44:04.091Z"
    }
   },
   "outputs": [
    {
     "name": "stderr",
     "output_type": "stream",
     "text": [
      "\u001b[32m\u001b[1m   Resolving\u001b[22m\u001b[39m package versions...\n",
      "\u001b[32m\u001b[1m    Updating\u001b[22m\u001b[39m `/path/to/JuliaBook2023Samples/notebooks/Chapter10/pkgdev/Project.toml`\n",
      " \u001b[90m [bb001ef6] \u001b[39m\u001b[92m+ MyPackage v0.1.0 `MyPackage`\u001b[39m\n",
      "\u001b[32m\u001b[1m    Updating\u001b[22m\u001b[39m `/path/to/JuliaBook2023Samples/notebooks/Chapter10/pkgdev/Manifest.toml`\n",
      " \u001b[90m [bb001ef6] \u001b[39m\u001b[92m+ MyPackage v0.1.0 `MyPackage`\u001b[39m\n"
     ]
    }
   ],
   "source": [
    "]dev ./MyPackage"
   ]
  },
  {
   "cell_type": "code",
   "execution_count": 20,
   "id": "605ae7af",
   "metadata": {
    "ExecuteTime": {
     "end_time": "2023-01-28T10:44:09.305000+09:00",
     "start_time": "2023-01-28T01:44:07.071Z"
    }
   },
   "outputs": [
    {
     "name": "stderr",
     "output_type": "stream",
     "text": [
      "\u001b[32m\u001b[1m     Testing\u001b[22m\u001b[39m MyPackage\n",
      "\u001b[32m\u001b[1m      Status\u001b[22m\u001b[39m `/tmp/jl_uGDYrl/Project.toml`\n",
      " \u001b[90m [bb001ef6] \u001b[39mMyPackage v0.1.0 `/path/to/JuliaBook2023Samples/notebooks/Chapter10/pkgdev/MyPackage`\n",
      " \u001b[90m [8dfed614] \u001b[39mTest `@stdlib/Test`\n",
      "\u001b[32m\u001b[1m      Status\u001b[22m\u001b[39m `/tmp/jl_uGDYrl/Manifest.toml`\n",
      " \u001b[90m [bb001ef6] \u001b[39mMyPackage v0.1.0 `/path/to/JuliaBook2023Samples/notebooks/Chapter10/pkgdev/MyPackage`\n",
      " \u001b[90m [2a0f44e3] \u001b[39mBase64 `@stdlib/Base64`\n",
      " \u001b[90m [b77e0a4c] \u001b[39mInteractiveUtils `@stdlib/InteractiveUtils`\n",
      " \u001b[90m [56ddb016] \u001b[39mLogging `@stdlib/Logging`\n",
      " \u001b[90m [d6f4376e] \u001b[39mMarkdown `@stdlib/Markdown`\n",
      " \u001b[90m [9a3f8284] \u001b[39mRandom `@stdlib/Random`\n",
      " \u001b[90m [ea8e919c] \u001b[39mSHA v0.7.0 `@stdlib/SHA`\n",
      " \u001b[90m [9e88b42a] \u001b[39mSerialization `@stdlib/Serialization`\n",
      " \u001b[90m [8dfed614] \u001b[39mTest `@stdlib/Test`\n",
      "\u001b[32m\u001b[1m     Testing\u001b[22m\u001b[39m Running tests...\n",
      "\u001b[0m\u001b[1mTest Summary: | \u001b[22m\u001b[32m\u001b[1mPass  \u001b[22m\u001b[39m\u001b[36m\u001b[1mTotal  \u001b[22m\u001b[39m\u001b[0m\u001b[1mTime\u001b[22m\n",
      "MyPackage.jl  | \u001b[32m   1  \u001b[39m\u001b[36m    1  \u001b[39m\u001b[0m0.0s\n",
      "\u001b[32m\u001b[1m     Testing\u001b[22m\u001b[39m MyPackage tests passed \n"
     ]
    }
   ],
   "source": [
    "]test MyPackage"
   ]
  },
  {
   "cell_type": "markdown",
   "id": "48423a81",
   "metadata": {},
   "source": [
    "#### 仮想コード10-15. テスト失敗・エラーの出力例"
   ]
  },
  {
   "cell_type": "code",
   "execution_count": 21,
   "id": "b258f7ba",
   "metadata": {
    "ExecuteTime": {
     "end_time": "2023-01-28T10:44:15.998000+09:00",
     "start_time": "2023-01-28T01:44:15.079Z"
    }
   },
   "outputs": [
    {
     "name": "stdout",
     "output_type": "stream",
     "text": [
      "using MyPackage\n",
      "using Test\n",
      "\n",
      "@testset \"MyPackage.jl\" begin\n",
      "    # Write your tests here.\n",
      "    @test 1 + 1 == 2\n",
      "end\n",
      "@testset \"Failure Sample\" begin\n",
      "    @test 1 + 1 == 2\n",
      "    @test 1 + 1 == 3\n",
      "    @test error(\"Error Sample\")\n",
      "end\n",
      "\n"
     ]
    }
   ],
   "source": [
    "open(\"MyPackage/test/runtests.jl\", \"a\") do f\n",
    "    println(f, \"\"\"\n",
    "@testset \"Failure Sample\" begin\n",
    "    @test 1 + 1 == 2\n",
    "    @test 1 + 1 == 3\n",
    "    @test error(\"Error Sample\")\n",
    "end\n",
    "\"\"\")\n",
    "end\n",
    "print(read(\"MyPackage/test/runtests.jl\", String))"
   ]
  },
  {
   "cell_type": "code",
   "execution_count": 22,
   "id": "36c09c68",
   "metadata": {
    "ExecuteTime": {
     "end_time": "2023-01-28T10:44:22.688000+09:00",
     "start_time": "2023-01-28T01:44:18.301Z"
    }
   },
   "outputs": [
    {
     "name": "stderr",
     "output_type": "stream",
     "text": [
      "\u001b[32m\u001b[1m     Testing\u001b[22m\u001b[39m MyPackage\n",
      "\u001b[32m\u001b[1m      Status\u001b[22m\u001b[39m `/tmp/jl_gU1Y1g/Project.toml`\n",
      " \u001b[90m [bb001ef6] \u001b[39mMyPackage v0.1.0 `/path/to/JuliaBook2023Samples/notebooks/Chapter10/pkgdev/MyPackage`\n",
      " \u001b[90m [8dfed614] \u001b[39mTest `@stdlib/Test`\n",
      "\u001b[32m\u001b[1m      Status\u001b[22m\u001b[39m `/tmp/jl_gU1Y1g/Manifest.toml`\n",
      " \u001b[90m [bb001ef6] \u001b[39mMyPackage v0.1.0 `/path/to/JuliaBook2023Samples/notebooks/Chapter10/pkgdev/MyPackage`\n",
      " \u001b[90m [2a0f44e3] \u001b[39mBase64 `@stdlib/Base64`\n",
      " \u001b[90m [b77e0a4c] \u001b[39mInteractiveUtils `@stdlib/InteractiveUtils`\n",
      " \u001b[90m [56ddb016] \u001b[39mLogging `@stdlib/Logging`\n",
      " \u001b[90m [d6f4376e] \u001b[39mMarkdown `@stdlib/Markdown`\n",
      " \u001b[90m [9a3f8284] \u001b[39mRandom `@stdlib/Random`\n",
      " \u001b[90m [ea8e919c] \u001b[39mSHA v0.7.0 `@stdlib/SHA`\n",
      " \u001b[90m [9e88b42a] \u001b[39mSerialization `@stdlib/Serialization`\n",
      " \u001b[90m [8dfed614] \u001b[39mTest `@stdlib/Test`\n",
      "\u001b[32m\u001b[1m     Testing\u001b[22m\u001b[39m Running tests...\n",
      "\u001b[0m\u001b[1mTest Summary: | \u001b[22m\u001b[32m\u001b[1mPass  \u001b[22m\u001b[39m\u001b[36m\u001b[1mTotal  \u001b[22m\u001b[39m\u001b[0m\u001b[1mTime\u001b[22m\n",
      "MyPackage.jl  | \u001b[32m   1  \u001b[39m\u001b[36m    1  \u001b[39m\u001b[0m0.0s\n",
      "Failure Sample: \u001b[91m\u001b[1mTest Failed\u001b[22m\u001b[39m at \u001b[39m\u001b[1m/path/to/JuliaBook2023Samples/notebooks/Chapter10/pkgdev/MyPackage/test/runtests.jl:10\u001b[22m\n",
      "  Expression: 1 + 1 == 3\n",
      "   Evaluated: 2 == 3\n",
      "Stacktrace:\n",
      " [1] \u001b[0m\u001b[1mmacro expansion\u001b[22m\n",
      "\u001b[90m   @ \u001b[39m\u001b[90m~/julia-1.8.5/share/julia/stdlib/v1.8/Test/src/\u001b[39m\u001b[90m\u001b[4mTest.jl:464\u001b[24m\u001b[39m\u001b[90m [inlined]\u001b[39m\n",
      " [2] \u001b[0m\u001b[1mmacro expansion\u001b[22m\n",
      "\u001b[90m   @ \u001b[39m\u001b[90m/path/to/JuliaBook2023Samples/notebooks/Chapter10/pkgdev/MyPackage/test/\u001b[39m\u001b[90m\u001b[4mruntests.jl:10\u001b[24m\u001b[39m\u001b[90m [inlined]\u001b[39m\n",
      " [3] \u001b[0m\u001b[1mmacro expansion\u001b[22m\n",
      "\u001b[90m   @ \u001b[39m\u001b[90m~/julia-1.8.5/share/julia/stdlib/v1.8/Test/src/\u001b[39m\u001b[90m\u001b[4mTest.jl:1363\u001b[24m\u001b[39m\u001b[90m [inlined]\u001b[39m\n",
      " [4] top-level scope\n",
      "\u001b[90m   @ \u001b[39m\u001b[90m/path/to/JuliaBook2023Samples/notebooks/Chapter10/pkgdev/MyPackage/test/\u001b[39m\u001b[90m\u001b[4mruntests.jl:9\u001b[24m\u001b[39m\n",
      "Failure Sample: \u001b[91m\u001b[1mError During Test\u001b[22m\u001b[39m at \u001b[39m\u001b[1m/path/to/JuliaBook2023Samples/notebooks/Chapter10/pkgdev/MyPackage/test/runtests.jl:11\u001b[22m\n",
      "  Test threw exception\n",
      "  Expression: error(\"Error Sample\")\n",
      "  Error Sample\n",
      "  Stacktrace:\n",
      "   [1] \u001b[0m\u001b[1merror\u001b[22m\u001b[0m\u001b[1m(\u001b[22m\u001b[90ms\u001b[39m::\u001b[0mString\u001b[0m\u001b[1m)\u001b[22m\n",
      "  \u001b[90m   @ \u001b[39m\u001b[90mBase\u001b[39m \u001b[90m./\u001b[39m\u001b[90m\u001b[4merror.jl:35\u001b[24m\u001b[39m\n",
      "   [2] \u001b[0m\u001b[1mmacro expansion\u001b[22m\n",
      "  \u001b[90m   @ \u001b[39m\u001b[90m~/julia-1.8.5/share/julia/stdlib/v1.8/Test/src/\u001b[39m\u001b[90m\u001b[4mTest.jl:464\u001b[24m\u001b[39m\u001b[90m [inlined]\u001b[39m\n",
      "   [3] \u001b[0m\u001b[1mmacro expansion\u001b[22m\n",
      "  \u001b[90m   @ \u001b[39m\u001b[90m/path/to/JuliaBook2023Samples/notebooks/Chapter10/pkgdev/MyPackage/test/\u001b[39m\u001b[90m\u001b[4mruntests.jl:11\u001b[24m\u001b[39m\u001b[90m [inlined]\u001b[39m\n",
      "   [4] \u001b[0m\u001b[1mmacro expansion\u001b[22m\n",
      "  \u001b[90m   @ \u001b[39m\u001b[90m~/julia-1.8.5/share/julia/stdlib/v1.8/Test/src/\u001b[39m\u001b[90m\u001b[4mTest.jl:1363\u001b[24m\u001b[39m\u001b[90m [inlined]\u001b[39m\n",
      "   [5] top-level scope\n",
      "  \u001b[90m   @ \u001b[39m\u001b[90m/path/to/JuliaBook2023Samples/notebooks/Chapter10/pkgdev/MyPackage/test/\u001b[39m\u001b[90m\u001b[4mruntests.jl:9\u001b[24m\u001b[39m\n",
      "\u001b[0m\u001b[1mTest Summary:  | \u001b[22m\u001b[32m\u001b[1mPass  \u001b[22m\u001b[39m\u001b[91m\u001b[1mFail  \u001b[22m\u001b[39m\u001b[91m\u001b[1mError  \u001b[22m\u001b[39m\u001b[36m\u001b[1mTotal  \u001b[22m\u001b[39m\u001b[0m\u001b[1mTime\u001b[22m\n",
      "Failure Sample | \u001b[32m   1  \u001b[39m\u001b[91m   1  \u001b[39m\u001b[91m    1  \u001b[39m\u001b[36m    3  \u001b[39m\u001b[0m1.9s\n",
      "\u001b[91m\u001b[1mERROR: \u001b[22m\u001b[39mLoadError: \u001b[91mSome tests did not pass: 1 passed, 1 failed, 1 errored, 0 broken.\u001b[39m\n",
      "in expression starting at /path/to/JuliaBook2023Samples/notebooks/Chapter10/pkgdev/MyPackage/test/runtests.jl:8\n"
     ]
    },
    {
     "ename": "LoadError",
     "evalue": "Package MyPackage errored during testing",
     "output_type": "error",
     "traceback": [
      "Package MyPackage errored during testing",
      "",
      "Stacktrace:",
      " [1] pkgerror(msg::String)",
      "   @ Pkg.Types ~/julia-1.8.5/share/julia/stdlib/v1.8/Pkg/src/Types.jl:67",
      " [2] test(ctx::Pkg.Types.Context, pkgs::Vector{Pkg.Types.PackageSpec}; coverage::Bool, julia_args::Cmd, test_args::Cmd, test_fn::Nothing, force_latest_compatible_version::Bool, allow_earlier_backwards_compatible_versions::Bool, allow_reresolve::Bool)",
      "   @ Pkg.Operations ~/julia-1.8.5/share/julia/stdlib/v1.8/Pkg/src/Operations.jl:1813",
      " [3] test(ctx::Pkg.Types.Context, pkgs::Vector{Pkg.Types.PackageSpec}; coverage::Bool, test_fn::Nothing, julia_args::Cmd, test_args::Cmd, force_latest_compatible_version::Bool, allow_earlier_backwards_compatible_versions::Bool, allow_reresolve::Bool, kwargs::Base.Pairs{Symbol, IJulia.IJuliaStdio{Base.PipeEndpoint}, Tuple{Symbol}, NamedTuple{(:io,), Tuple{IJulia.IJuliaStdio{Base.PipeEndpoint}}}})",
      "   @ Pkg.API ~/julia-1.8.5/share/julia/stdlib/v1.8/Pkg/src/API.jl:434",
      " [4] test(pkgs::Vector{Pkg.Types.PackageSpec}; io::IJulia.IJuliaStdio{Base.PipeEndpoint}, kwargs::Base.Pairs{Symbol, Union{}, Tuple{}, NamedTuple{(), Tuple{}}})",
      "   @ Pkg.API ~/julia-1.8.5/share/julia/stdlib/v1.8/Pkg/src/API.jl:156",
      " [5] test(pkgs::Vector{Pkg.Types.PackageSpec})",
      "   @ Pkg.API ~/julia-1.8.5/share/julia/stdlib/v1.8/Pkg/src/API.jl:145",
      " [6] do_cmd!(command::Pkg.REPLMode.Command, repl::IJulia.MiniREPL)",
      "   @ Pkg.REPLMode ~/julia-1.8.5/share/julia/stdlib/v1.8/Pkg/src/REPLMode/REPLMode.jl:409",
      " [7] do_cmd(repl::IJulia.MiniREPL, input::String; do_rethrow::Bool)",
      "   @ Pkg.REPLMode ~/julia-1.8.5/share/julia/stdlib/v1.8/Pkg/src/REPLMode/REPLMode.jl:387",
      " [8] top-level scope",
      "   @ In[22]:1"
     ]
    }
   ],
   "source": [
    "]test MyPackage"
   ]
  },
  {
   "cell_type": "code",
   "execution_count": 23,
   "id": "9f1ac7bb",
   "metadata": {
    "ExecuteTime": {
     "end_time": "2023-01-28T10:44:26.204000+09:00",
     "start_time": "2023-01-28T01:44:25.281Z"
    }
   },
   "outputs": [
    {
     "name": "stdout",
     "output_type": "stream",
     "text": [
      "using MyPackage\n",
      "using Test\n",
      "\n",
      "@testset \"MyPackage.jl\" begin\n",
      "    # Write your tests here.\n",
      "    @test 1 + 1 == 2\n",
      "end\n"
     ]
    }
   ],
   "source": [
    "lines = readlines(\"MyPackage/test/runtests.jl\")\n",
    "open(\"MyPackage/test/runtests.jl\", \"w\") do f\n",
    "    for line in lines[1:7]\n",
    "        println(f, line)\n",
    "    end\n",
    "end\n",
    "print(read(\"MyPackage/test/runtests.jl\", String))"
   ]
  },
  {
   "cell_type": "markdown",
   "id": "723d729c",
   "metadata": {},
   "source": [
    "#### 表10-6. `Test` 標準パッケージに用意されているテスト用マクロ（概要）"
   ]
  },
  {
   "cell_type": "markdown",
   "id": "ee269ea0",
   "metadata": {},
   "source": [
    "| マクロ | 説明 |\n",
    "| :-- | :-- |\n",
    "| `@test` | 結果が `true` かどうか |\n",
    "| `@test_throws` | 指定したエラー（例外）が `throw` されるかどうか |\n",
    "| `@test_warn` | 標準エラー出力に指定した警告が出力されるかどうか |\n",
    "| `@test_nowarn` | 標準エラー出力に警告が出力されないかどうか |\n",
    "| `@test_logs` | 指定した種類と内容のログが出力されるかどうか |\n",
    "| `@test_deprecated` | （指定した書式の）`Deprecated` 警告が発生するかどうか |\n",
    "| `@test_broken` | テストが失敗するかどうか |\n",
    "| `@test_skip` | テストをスキップする（broken 扱いにする） |\n",
    "| `@testset` | テストをグループ化する（ネスト可） |"
   ]
  },
  {
   "cell_type": "markdown",
   "id": "fd670129",
   "metadata": {},
   "source": [
    "#### コード10-8. 開発中のパッケージのテスト実行例(2)"
   ]
  },
  {
   "cell_type": "code",
   "execution_count": 24,
   "id": "6fa499a5",
   "metadata": {
    "ExecuteTime": {
     "end_time": "2023-01-28T10:44:32.154000+09:00",
     "start_time": "2023-01-28T01:44:31.241Z"
    }
   },
   "outputs": [
    {
     "name": "stderr",
     "output_type": "stream",
     "text": [
      "\u001b[32m\u001b[1m  Activating\u001b[22m\u001b[39m project at `/path/to/JuliaBook2023Samples/notebooks/Chapter10/pkgdev/MyPackage`\n"
     ]
    }
   ],
   "source": [
    "]activate MyPackage"
   ]
  },
  {
   "cell_type": "code",
   "execution_count": 25,
   "id": "1252322c",
   "metadata": {
    "ExecuteTime": {
     "end_time": "2023-01-28T10:44:34.069000+09:00",
     "start_time": "2023-01-28T01:44:32.617Z"
    }
   },
   "outputs": [
    {
     "name": "stderr",
     "output_type": "stream",
     "text": [
      "\u001b[32m\u001b[1m     Testing\u001b[22m\u001b[39m MyPackage\n",
      "\u001b[32m\u001b[1m      Status\u001b[22m\u001b[39m `/tmp/jl_Y1oz7Q/Project.toml`\n",
      " \u001b[90m [bb001ef6] \u001b[39mMyPackage v0.1.0 `/path/to/JuliaBook2023Samples/notebooks/Chapter10/pkgdev/MyPackage`\n",
      " \u001b[90m [8dfed614] \u001b[39mTest `@stdlib/Test`\n",
      "\u001b[32m\u001b[1m      Status\u001b[22m\u001b[39m `/tmp/jl_Y1oz7Q/Manifest.toml`\n",
      " \u001b[90m [bb001ef6] \u001b[39mMyPackage v0.1.0 `/path/to/JuliaBook2023Samples/notebooks/Chapter10/pkgdev/MyPackage`\n",
      " \u001b[90m [2a0f44e3] \u001b[39mBase64 `@stdlib/Base64`\n",
      " \u001b[90m [b77e0a4c] \u001b[39mInteractiveUtils `@stdlib/InteractiveUtils`\n",
      " \u001b[90m [56ddb016] \u001b[39mLogging `@stdlib/Logging`\n",
      " \u001b[90m [d6f4376e] \u001b[39mMarkdown `@stdlib/Markdown`\n",
      " \u001b[90m [9a3f8284] \u001b[39mRandom `@stdlib/Random`\n",
      " \u001b[90m [ea8e919c] \u001b[39mSHA v0.7.0 `@stdlib/SHA`\n",
      " \u001b[90m [9e88b42a] \u001b[39mSerialization `@stdlib/Serialization`\n",
      " \u001b[90m [8dfed614] \u001b[39mTest `@stdlib/Test`\n",
      "\u001b[32m\u001b[1m     Testing\u001b[22m\u001b[39m Running tests...\n",
      "\u001b[0m\u001b[1mTest Summary: | \u001b[22m\u001b[32m\u001b[1mPass  \u001b[22m\u001b[39m\u001b[36m\u001b[1mTotal  \u001b[22m\u001b[39m\u001b[0m\u001b[1mTime\u001b[22m\n",
      "MyPackage.jl  | \u001b[32m   1  \u001b[39m\u001b[36m    1  \u001b[39m\u001b[0m0.0s\n",
      "\u001b[32m\u001b[1m     Testing\u001b[22m\u001b[39m MyPackage tests passed \n"
     ]
    }
   ],
   "source": [
    "]test"
   ]
  },
  {
   "cell_type": "markdown",
   "id": "0b89dd6e",
   "metadata": {},
   "source": [
    "#### コード10-9. コマンドラインからテストを実行する例（Bash/Zsh での例）"
   ]
  },
  {
   "cell_type": "code",
   "execution_count": 26,
   "id": "34efe477",
   "metadata": {
    "ExecuteTime": {
     "end_time": "2023-01-28T10:44:36.588000+09:00",
     "start_time": "2023-01-28T01:44:35.680Z"
    }
   },
   "outputs": [],
   "source": [
    "cd(\"MyPackage\")"
   ]
  },
  {
   "cell_type": "code",
   "execution_count": 27,
   "id": "1745d5ea",
   "metadata": {
    "ExecuteTime": {
     "end_time": "2023-01-28T10:44:42.725000+09:00",
     "start_time": "2023-01-28T01:44:39.281Z"
    }
   },
   "outputs": [
    {
     "name": "stderr",
     "output_type": "stream",
     "text": [
      "     Testing MyPackage\n",
      "      Status `/tmp/jl_EHU45t/Project.toml`\n",
      "  [bb001ef6] MyPackage v0.1.0 `/path/to/JuliaBook2023Samples/notebooks/Chapter10/pkgdev/MyPackage`\n",
      "  [8dfed614] Test `@stdlib/Test`\n",
      "      Status `/tmp/jl_EHU45t/Manifest.toml`\n",
      "  [bb001ef6] MyPackage v0.1.0 `/path/to/JuliaBook2023Samples/notebooks/Chapter10/pkgdev/MyPackage`\n",
      "  [2a0f44e3] Base64 `@stdlib/Base64`\n",
      "  [b77e0a4c] InteractiveUtils `@stdlib/InteractiveUtils`\n",
      "  [56ddb016] Logging `@stdlib/Logging`\n",
      "  [d6f4376e] Markdown `@stdlib/Markdown`\n",
      "  [9a3f8284] Random `@stdlib/Random`\n",
      "  [ea8e919c] SHA v0.7.0 `@stdlib/SHA`\n",
      "  [9e88b42a] Serialization `@stdlib/Serialization`\n",
      "  [8dfed614] Test `@stdlib/Test`\n",
      "     Testing Running tests...\n",
      "Test Summary: | Pass  Total  Time\n",
      "MyPackage.jl  |    1      1  0.0s\n",
      "     Testing MyPackage tests passed \n"
     ]
    }
   ],
   "source": [
    ";julia --project=. -e 'using Pkg;Pkg.test()'"
   ]
  },
  {
   "cell_type": "code",
   "execution_count": 28,
   "id": "4e4b4510",
   "metadata": {
    "ExecuteTime": {
     "end_time": "2023-01-28T10:44:46.596000+09:00",
     "start_time": "2023-01-28T01:44:45.688Z"
    }
   },
   "outputs": [],
   "source": [
    "cd(\"..\")"
   ]
  },
  {
   "cell_type": "code",
   "execution_count": 29,
   "id": "1a4b1251",
   "metadata": {
    "ExecuteTime": {
     "end_time": "2023-01-28T10:44:52.544000+09:00",
     "start_time": "2023-01-28T01:44:51.626Z"
    }
   },
   "outputs": [
    {
     "name": "stdout",
     "output_type": "stream",
     "text": [
      "@info \"MyPackage is been built...\"\n"
     ]
    }
   ],
   "source": [
    "mkpath(\"MyPackage/deps\");\n",
    "open(\"MyPackage/deps/build.jl\", \"w\") do f\n",
    "    println(f, \"@info \\\"MyPackage is been built...\\\"\")\n",
    "end\n",
    "print(read(\"MyPackage/deps/build.jl\", String))"
   ]
  },
  {
   "cell_type": "code",
   "execution_count": 30,
   "id": "84f92ee0",
   "metadata": {
    "ExecuteTime": {
     "end_time": "2023-01-28T10:44:55.090000+09:00",
     "start_time": "2023-01-28T01:44:53.681Z"
    }
   },
   "outputs": [
    {
     "name": "stderr",
     "output_type": "stream",
     "text": [
      "\u001b[32m\u001b[1m    Building\u001b[22m\u001b[39m MyPackage → `/path/to/JuliaBook2023Samples/notebooks/Chapter10/pkgdev/MyPackage/deps/build.log`\n"
     ]
    }
   ],
   "source": [
    "]build MyPackage"
   ]
  },
  {
   "cell_type": "code",
   "execution_count": 31,
   "id": "338f4d4d",
   "metadata": {
    "ExecuteTime": {
     "end_time": "2023-01-28T10:45:02.209000+09:00",
     "start_time": "2023-01-28T01:45:01.301Z"
    }
   },
   "outputs": [
    {
     "name": "stdout",
     "output_type": "stream",
     "text": [
      "[ Info: MyPackage is been built...\n"
     ]
    }
   ],
   "source": [
    "print(read(\"MyPackage/deps/build.log\", String))"
   ]
  }
 ],
 "metadata": {
  "jupytext": {
   "formats": "ipynb,auto:light"
  },
  "kernelspec": {
   "display_name": "Julia 1.8.5",
   "language": "julia",
   "name": "julia-1.8"
  },
  "language_info": {
   "file_extension": ".jl",
   "mimetype": "application/julia",
   "name": "julia",
   "version": "1.8.5"
  }
 },
 "nbformat": 4,
 "nbformat_minor": 5
}
