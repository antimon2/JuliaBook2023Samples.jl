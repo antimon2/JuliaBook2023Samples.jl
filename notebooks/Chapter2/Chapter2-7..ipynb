{
 "cells": [
  {
   "cell_type": "code",
   "execution_count": 1,
   "id": "6909ebe5",
   "metadata": {
    "ExecuteTime": {
     "end_time": "2023-01-27T10:49:41.833000+09:00",
     "start_time": "2023-01-27T01:49:40.654Z"
    }
   },
   "outputs": [
    {
     "name": "stdout",
     "output_type": "stream",
     "text": [
      "Julia Version 1.8.5\n",
      "Commit 17cfb8e65ea (2023-01-08 06:45 UTC)\n",
      "Platform Info:\n",
      "  OS: Linux (x86_64-linux-gnu)\n",
      "  CPU: 12 × Intel(R) Core(TM) i7-9750H CPU @ 2.60GHz\n",
      "  WORD_SIZE: 64\n",
      "  LIBM: libopenlibm\n",
      "  LLVM: libLLVM-13.0.1 (ORCJIT, skylake)\n",
      "  Threads: 1 on 12 virtual cores\n"
     ]
    }
   ],
   "source": [
    "versioninfo()"
   ]
  },
  {
   "cell_type": "markdown",
   "id": "ccaef802",
   "metadata": {},
   "source": [
    "## 2-7. 型の基本"
   ]
  },
  {
   "cell_type": "markdown",
   "id": "56cceaaf",
   "metadata": {},
   "source": [
    "### 2-7-1. プリミティブ型"
   ]
  },
  {
   "cell_type": "markdown",
   "id": "809dc574",
   "metadata": {},
   "source": [
    "#### プリミティブ整数型"
   ]
  },
  {
   "cell_type": "markdown",
   "id": "e9c6846a",
   "metadata": {},
   "source": [
    "#### コード2-91. `Int`/`UInt` の確認"
   ]
  },
  {
   "cell_type": "code",
   "execution_count": 2,
   "id": "d1123c21",
   "metadata": {
    "ExecuteTime": {
     "end_time": "2023-01-27T10:49:42.417000+09:00",
     "start_time": "2023-01-27T01:49:40.661Z"
    }
   },
   "outputs": [
    {
     "data": {
      "text/plain": [
       "Int64"
      ]
     },
     "execution_count": 2,
     "metadata": {},
     "output_type": "execute_result"
    }
   ],
   "source": [
    "Int"
   ]
  },
  {
   "cell_type": "code",
   "execution_count": 3,
   "id": "da182c2c",
   "metadata": {
    "ExecuteTime": {
     "end_time": "2023-01-27T10:49:42.427000+09:00",
     "start_time": "2023-01-27T01:49:40.665Z"
    }
   },
   "outputs": [
    {
     "data": {
      "text/plain": [
       "UInt64"
      ]
     },
     "execution_count": 3,
     "metadata": {},
     "output_type": "execute_result"
    }
   ],
   "source": [
    "UInt"
   ]
  },
  {
   "cell_type": "markdown",
   "id": "e95c07a5",
   "metadata": {},
   "source": [
    "#### コード2-92. 整数リテラルの型の確認"
   ]
  },
  {
   "cell_type": "code",
   "execution_count": 4,
   "id": "aa6c9750",
   "metadata": {
    "ExecuteTime": {
     "end_time": "2023-01-27T10:49:42.428000+09:00",
     "start_time": "2023-01-27T01:49:40.667Z"
    }
   },
   "outputs": [
    {
     "data": {
      "text/plain": [
       "Int64"
      ]
     },
     "execution_count": 4,
     "metadata": {},
     "output_type": "execute_result"
    }
   ],
   "source": [
    "typeof(1)"
   ]
  },
  {
   "cell_type": "code",
   "execution_count": 5,
   "id": "ee49f658",
   "metadata": {
    "ExecuteTime": {
     "end_time": "2023-01-27T10:49:42.428000+09:00",
     "start_time": "2023-01-27T01:49:40.670Z"
    }
   },
   "outputs": [
    {
     "data": {
      "text/plain": [
       "Int64"
      ]
     },
     "execution_count": 5,
     "metadata": {},
     "output_type": "execute_result"
    }
   ],
   "source": [
    "typeof(2147483647)"
   ]
  },
  {
   "cell_type": "code",
   "execution_count": 6,
   "id": "487d7b1c",
   "metadata": {
    "ExecuteTime": {
     "end_time": "2023-01-27T10:49:42.429000+09:00",
     "start_time": "2023-01-27T01:49:40.673Z"
    }
   },
   "outputs": [
    {
     "data": {
      "text/plain": [
       "Int64"
      ]
     },
     "execution_count": 6,
     "metadata": {},
     "output_type": "execute_result"
    }
   ],
   "source": [
    "typeof(2147483648)"
   ]
  },
  {
   "cell_type": "code",
   "execution_count": 7,
   "id": "e8f6768f",
   "metadata": {
    "ExecuteTime": {
     "end_time": "2023-01-27T10:49:42.429000+09:00",
     "start_time": "2023-01-27T01:49:40.675Z"
    }
   },
   "outputs": [
    {
     "data": {
      "text/plain": [
       "Int64"
      ]
     },
     "execution_count": 7,
     "metadata": {},
     "output_type": "execute_result"
    }
   ],
   "source": [
    "typeof(9223372036854775807)"
   ]
  },
  {
   "cell_type": "code",
   "execution_count": 8,
   "id": "28eef97d",
   "metadata": {
    "ExecuteTime": {
     "end_time": "2023-01-27T10:49:42.522000+09:00",
     "start_time": "2023-01-27T01:49:40.678Z"
    }
   },
   "outputs": [
    {
     "data": {
      "text/plain": [
       "Int128"
      ]
     },
     "execution_count": 8,
     "metadata": {},
     "output_type": "execute_result"
    }
   ],
   "source": [
    "typeof(9223372036854775808)"
   ]
  },
  {
   "cell_type": "code",
   "execution_count": 9,
   "id": "e2ad1446",
   "metadata": {
    "ExecuteTime": {
     "end_time": "2023-01-27T10:49:42.522000+09:00",
     "start_time": "2023-01-27T01:49:40.680Z"
    }
   },
   "outputs": [
    {
     "data": {
      "text/plain": [
       "Int128"
      ]
     },
     "execution_count": 9,
     "metadata": {},
     "output_type": "execute_result"
    }
   ],
   "source": [
    "typeof(170141183460469231731687303715884105727)"
   ]
  },
  {
   "cell_type": "code",
   "execution_count": 10,
   "id": "2abba1c4",
   "metadata": {
    "ExecuteTime": {
     "end_time": "2023-01-27T10:49:42.571000+09:00",
     "start_time": "2023-01-27T01:49:40.683Z"
    }
   },
   "outputs": [
    {
     "data": {
      "text/plain": [
       "BigInt"
      ]
     },
     "execution_count": 10,
     "metadata": {},
     "output_type": "execute_result"
    }
   ],
   "source": [
    "typeof(170141183460469231731687303715884105728)"
   ]
  },
  {
   "cell_type": "code",
   "execution_count": 11,
   "id": "a2287874",
   "metadata": {
    "ExecuteTime": {
     "end_time": "2023-01-27T10:49:42.736000+09:00",
     "start_time": "2023-01-27T01:49:40.686Z"
    }
   },
   "outputs": [
    {
     "data": {
      "text/plain": [
       "true"
      ]
     },
     "execution_count": 11,
     "metadata": {},
     "output_type": "execute_result"
    }
   ],
   "source": [
    "typeof(0x0) == typeof(0xff) == \n",
    "typeof(0o0) == typeof(0o377) == \n",
    "typeof(0b0) == typeof(0b11111111) == UInt8"
   ]
  },
  {
   "cell_type": "code",
   "execution_count": 12,
   "id": "c9f8d24a",
   "metadata": {
    "ExecuteTime": {
     "end_time": "2023-01-27T10:49:42.737000+09:00",
     "start_time": "2023-01-27T01:49:40.688Z"
    }
   },
   "outputs": [
    {
     "data": {
      "text/plain": [
       "true"
      ]
     },
     "execution_count": 12,
     "metadata": {},
     "output_type": "execute_result"
    }
   ],
   "source": [
    "typeof(0x000) == typeof(0xffff) == \n",
    "typeof(0o400) == typeof(0o177777) == \n",
    "typeof(0b000000000) == typeof(0b1111111111111111) == UInt16"
   ]
  },
  {
   "cell_type": "code",
   "execution_count": 13,
   "id": "7d19d1c6",
   "metadata": {
    "ExecuteTime": {
     "end_time": "2023-01-27T10:49:42.738000+09:00",
     "start_time": "2023-01-27T01:49:40.691Z"
    }
   },
   "outputs": [
    {
     "data": {
      "text/plain": [
       "true"
      ]
     },
     "execution_count": 13,
     "metadata": {},
     "output_type": "execute_result"
    }
   ],
   "source": [
    "typeof(0x00000) == typeof(0xffffffff) == \n",
    "typeof(0o200000) == typeof(0o37777777777) == \n",
    "typeof(0b00000000000000000) == \n",
    "typeof(0b11111111111111111111111111111111) == UInt32"
   ]
  },
  {
   "cell_type": "code",
   "execution_count": 14,
   "id": "25e74290",
   "metadata": {
    "ExecuteTime": {
     "end_time": "2023-01-27T10:49:42.738000+09:00",
     "start_time": "2023-01-27T01:49:40.694Z"
    }
   },
   "outputs": [
    {
     "data": {
      "text/plain": [
       "true"
      ]
     },
     "execution_count": 14,
     "metadata": {},
     "output_type": "execute_result"
    }
   ],
   "source": [
    "# 以降煩雑になるので16進表記リテラルのみ示す\n",
    "typeof(0x000000000) == typeof(0xffffffffffffffff) == UInt64"
   ]
  },
  {
   "cell_type": "code",
   "execution_count": 15,
   "id": "c83db9a8",
   "metadata": {
    "ExecuteTime": {
     "end_time": "2023-01-27T10:49:42.741000+09:00",
     "start_time": "2023-01-27T01:49:40.696Z"
    }
   },
   "outputs": [
    {
     "data": {
      "text/plain": [
       "true"
      ]
     },
     "execution_count": 15,
     "metadata": {},
     "output_type": "execute_result"
    }
   ],
   "source": [
    "typeof(0x00000000000000000) == \n",
    "typeof(0xffffffffffffffffffffffffffffffff) == UInt128"
   ]
  },
  {
   "cell_type": "code",
   "execution_count": 16,
   "id": "9818b631",
   "metadata": {
    "ExecuteTime": {
     "end_time": "2023-01-27T10:49:42.742000+09:00",
     "start_time": "2023-01-27T01:49:40.699Z"
    }
   },
   "outputs": [
    {
     "data": {
      "text/plain": [
       "true"
      ]
     },
     "execution_count": 16,
     "metadata": {},
     "output_type": "execute_result"
    }
   ],
   "source": [
    "typeof(0x000000000000000000000000000000000) == \n",
    "typeof(0x100000000000000000000000000000000) == BigInt"
   ]
  },
  {
   "cell_type": "markdown",
   "id": "9413bf2a",
   "metadata": {},
   "source": [
    "#### コード2-93. 整数（リテラル）の型変換例"
   ]
  },
  {
   "cell_type": "code",
   "execution_count": 17,
   "id": "6c886ddf",
   "metadata": {
    "ExecuteTime": {
     "end_time": "2023-01-27T10:49:42.915000+09:00",
     "start_time": "2023-01-27T01:49:40.702Z"
    }
   },
   "outputs": [
    {
     "data": {
      "text/plain": [
       "1"
      ]
     },
     "execution_count": 17,
     "metadata": {},
     "output_type": "execute_result"
    }
   ],
   "source": [
    "Int8(1)\n",
    "# REPL の見た目上は区別が付かない"
   ]
  },
  {
   "cell_type": "code",
   "execution_count": 18,
   "id": "96757c9c",
   "metadata": {
    "ExecuteTime": {
     "end_time": "2023-01-27T10:49:42.924000+09:00",
     "start_time": "2023-01-27T01:49:40.704Z"
    }
   },
   "outputs": [
    {
     "data": {
      "text/plain": [
       "Int8"
      ]
     },
     "execution_count": 18,
     "metadata": {},
     "output_type": "execute_result"
    }
   ],
   "source": [
    "typeof(Int8(1))"
   ]
  },
  {
   "cell_type": "code",
   "execution_count": 19,
   "id": "8db74e6e",
   "metadata": {
    "ExecuteTime": {
     "end_time": "2023-01-27T10:49:43.692000+09:00",
     "start_time": "2023-01-27T01:49:40.707Z"
    },
    "scrolled": true
   },
   "outputs": [
    {
     "ename": "LoadError",
     "evalue": "InexactError: trunc(Int8, 257)",
     "output_type": "error",
     "traceback": [
      "InexactError: trunc(Int8, 257)",
      "",
      "Stacktrace:",
      " [1] throw_inexacterror(f::Symbol, #unused#::Type{Int8}, val::Int64)",
      "   @ Core ./boot.jl:614",
      " [2] checked_trunc_sint",
      "   @ ./boot.jl:636 [inlined]",
      " [3] toInt8",
      "   @ ./boot.jl:651 [inlined]",
      " [4] Int8(x::Int64)",
      "   @ Core ./boot.jl:761",
      " [5] top-level scope",
      "   @ In[19]:1"
     ]
    }
   ],
   "source": [
    "Int8(257)"
   ]
  },
  {
   "cell_type": "code",
   "execution_count": 20,
   "id": "12e5d892",
   "metadata": {
    "ExecuteTime": {
     "end_time": "2023-01-27T10:49:43.695000+09:00",
     "start_time": "2023-01-27T01:49:40.709Z"
    }
   },
   "outputs": [
    {
     "data": {
      "text/plain": [
       "1"
      ]
     },
     "execution_count": 20,
     "metadata": {},
     "output_type": "execute_result"
    }
   ],
   "source": [
    "257 % Int8  # こちらはエラーにならない"
   ]
  },
  {
   "cell_type": "code",
   "execution_count": 21,
   "id": "8ed2ff10",
   "metadata": {
    "ExecuteTime": {
     "end_time": "2023-01-27T10:49:43.696000+09:00",
     "start_time": "2023-01-27T01:49:40.711Z"
    }
   },
   "outputs": [
    {
     "data": {
      "text/plain": [
       "Int8"
      ]
     },
     "execution_count": 21,
     "metadata": {},
     "output_type": "execute_result"
    }
   ],
   "source": [
    "typeof(257 % Int8)"
   ]
  },
  {
   "cell_type": "code",
   "execution_count": 22,
   "id": "bc9ccb3b",
   "metadata": {
    "ExecuteTime": {
     "end_time": "2023-01-27T10:49:43.871000+09:00",
     "start_time": "2023-01-27T01:49:40.714Z"
    }
   },
   "outputs": [
    {
     "data": {
      "text/plain": [
       "0x1234"
      ]
     },
     "execution_count": 22,
     "metadata": {},
     "output_type": "execute_result"
    }
   ],
   "source": [
    "UInt16(4660)"
   ]
  },
  {
   "cell_type": "code",
   "execution_count": 23,
   "id": "1e7d954f",
   "metadata": {
    "ExecuteTime": {
     "end_time": "2023-01-27T10:49:43.874000+09:00",
     "start_time": "2023-01-27T01:49:40.717Z"
    }
   },
   "outputs": [
    {
     "data": {
      "text/plain": [
       "0x1234"
      ]
     },
     "execution_count": 23,
     "metadata": {},
     "output_type": "execute_result"
    }
   ],
   "source": [
    "4660 % UInt16"
   ]
  },
  {
   "cell_type": "code",
   "execution_count": 24,
   "id": "be1033a6",
   "metadata": {
    "ExecuteTime": {
     "end_time": "2023-01-27T10:49:43.875000+09:00",
     "start_time": "2023-01-27T01:49:40.719Z"
    }
   },
   "outputs": [
    {
     "data": {
      "text/plain": [
       "true"
      ]
     },
     "execution_count": 24,
     "metadata": {},
     "output_type": "execute_result"
    }
   ],
   "source": [
    "typeof(UInt16(4660)) == typeof(4660 % UInt16) == UInt16"
   ]
  },
  {
   "cell_type": "markdown",
   "id": "6c772efb",
   "metadata": {},
   "source": [
    "#### プリミティブ浮動小数点数型"
   ]
  },
  {
   "cell_type": "markdown",
   "id": "2805e21e",
   "metadata": {},
   "source": [
    "#### コード2-94. 浮動小数点数（リテラル）の型の確認と型変換例"
   ]
  },
  {
   "cell_type": "code",
   "execution_count": 25,
   "id": "3f959984",
   "metadata": {
    "ExecuteTime": {
     "end_time": "2023-01-27T10:49:43.885000+09:00",
     "start_time": "2023-01-27T01:49:40.722Z"
    }
   },
   "outputs": [
    {
     "data": {
      "text/plain": [
       "Float64"
      ]
     },
     "execution_count": 25,
     "metadata": {},
     "output_type": "execute_result"
    }
   ],
   "source": [
    "typeof(1.0)"
   ]
  },
  {
   "cell_type": "code",
   "execution_count": 26,
   "id": "49469a0a",
   "metadata": {
    "ExecuteTime": {
     "end_time": "2023-01-27T10:49:43.886000+09:00",
     "start_time": "2023-01-27T01:49:40.725Z"
    }
   },
   "outputs": [
    {
     "data": {
      "text/plain": [
       "Float64"
      ]
     },
     "execution_count": 26,
     "metadata": {},
     "output_type": "execute_result"
    }
   ],
   "source": [
    "typeof(1e0)"
   ]
  },
  {
   "cell_type": "code",
   "execution_count": 27,
   "id": "1591bda4",
   "metadata": {
    "ExecuteTime": {
     "end_time": "2023-01-27T10:49:43.896000+09:00",
     "start_time": "2023-01-27T01:49:40.727Z"
    }
   },
   "outputs": [
    {
     "data": {
      "text/plain": [
       "Float32"
      ]
     },
     "execution_count": 27,
     "metadata": {},
     "output_type": "execute_result"
    }
   ],
   "source": [
    "typeof(1f0)"
   ]
  },
  {
   "cell_type": "code",
   "execution_count": 28,
   "id": "d2e7c0ed",
   "metadata": {
    "ExecuteTime": {
     "end_time": "2023-01-27T10:49:43.896000+09:00",
     "start_time": "2023-01-27T01:49:40.730Z"
    }
   },
   "outputs": [
    {
     "data": {
      "text/plain": [
       "Float64"
      ]
     },
     "execution_count": 28,
     "metadata": {},
     "output_type": "execute_result"
    }
   ],
   "source": [
    "typeof(0x1p0)"
   ]
  },
  {
   "cell_type": "code",
   "execution_count": 29,
   "id": "8244c7f9",
   "metadata": {
    "ExecuteTime": {
     "end_time": "2023-01-27T10:49:44.065000+09:00",
     "start_time": "2023-01-27T01:49:40.732Z"
    }
   },
   "outputs": [
    {
     "data": {
      "text/plain": [
       "Float16(1.0)"
      ]
     },
     "execution_count": 29,
     "metadata": {},
     "output_type": "execute_result"
    }
   ],
   "source": [
    "Float16(1)"
   ]
  },
  {
   "cell_type": "code",
   "execution_count": 30,
   "id": "c0f8fec3",
   "metadata": {
    "ExecuteTime": {
     "end_time": "2023-01-27T10:49:44.225000+09:00",
     "start_time": "2023-01-27T01:49:40.734Z"
    }
   },
   "outputs": [
    {
     "data": {
      "text/plain": [
       "1.0f0"
      ]
     },
     "execution_count": 30,
     "metadata": {},
     "output_type": "execute_result"
    }
   ],
   "source": [
    "Float32(1.0)"
   ]
  },
  {
   "cell_type": "code",
   "execution_count": 31,
   "id": "67111a65",
   "metadata": {
    "ExecuteTime": {
     "end_time": "2023-01-27T10:49:44.225000+09:00",
     "start_time": "2023-01-27T01:49:40.737Z"
    }
   },
   "outputs": [
    {
     "data": {
      "text/plain": [
       "Inf16"
      ]
     },
     "execution_count": 31,
     "metadata": {},
     "output_type": "execute_result"
    }
   ],
   "source": [
    "Float16(65535)  # 65535 > floatmax(Float16) == 65504.0"
   ]
  },
  {
   "cell_type": "markdown",
   "id": "ecdd4568",
   "metadata": {},
   "source": [
    "#### その他の標準プリミティブ型"
   ]
  },
  {
   "cell_type": "markdown",
   "id": "38ddaa92",
   "metadata": {},
   "source": [
    "### 2-7-2. 複合型"
   ]
  },
  {
   "cell_type": "markdown",
   "id": "06d872df",
   "metadata": {},
   "source": [
    "#### コード2-95. 複合型の例(1)：簡単な定義例"
   ]
  },
  {
   "cell_type": "code",
   "execution_count": 32,
   "id": "64b1aabb",
   "metadata": {
    "ExecuteTime": {
     "end_time": "2023-01-27T10:49:44.227000+09:00",
     "start_time": "2023-01-27T01:49:40.741Z"
    }
   },
   "outputs": [],
   "source": [
    "struct Point\n",
    "    x\n",
    "    y\n",
    "end"
   ]
  },
  {
   "cell_type": "code",
   "execution_count": 33,
   "id": "a228ec1f",
   "metadata": {
    "ExecuteTime": {
     "end_time": "2023-01-27T10:49:44.684000+09:00",
     "start_time": "2023-01-27T01:49:40.743Z"
    }
   },
   "outputs": [
    {
     "data": {
      "text/plain": [
       "Point(1.0, 2.0)"
      ]
     },
     "execution_count": 33,
     "metadata": {},
     "output_type": "execute_result"
    }
   ],
   "source": [
    "pt = Point(1.0, 2.0)"
   ]
  },
  {
   "cell_type": "code",
   "execution_count": 34,
   "id": "266f6d40",
   "metadata": {
    "ExecuteTime": {
     "end_time": "2023-01-27T10:49:44.857000+09:00",
     "start_time": "2023-01-27T01:49:40.746Z"
    }
   },
   "outputs": [
    {
     "data": {
      "text/plain": [
       "1.0"
      ]
     },
     "execution_count": 34,
     "metadata": {},
     "output_type": "execute_result"
    }
   ],
   "source": [
    "pt.x"
   ]
  },
  {
   "cell_type": "code",
   "execution_count": 35,
   "id": "77388832",
   "metadata": {
    "ExecuteTime": {
     "end_time": "2023-01-27T10:49:44.858000+09:00",
     "start_time": "2023-01-27T01:49:40.748Z"
    }
   },
   "outputs": [
    {
     "data": {
      "text/plain": [
       "2.0"
      ]
     },
     "execution_count": 35,
     "metadata": {},
     "output_type": "execute_result"
    }
   ],
   "source": [
    "pt.y"
   ]
  },
  {
   "cell_type": "markdown",
   "id": "96f498bf",
   "metadata": {},
   "source": [
    "#### コード2-96. 複合型の例(2)：有理数と複素数のフィールド"
   ]
  },
  {
   "cell_type": "code",
   "execution_count": 36,
   "id": "74af9bca",
   "metadata": {
    "ExecuteTime": {
     "end_time": "2023-01-27T10:49:45.072000+09:00",
     "start_time": "2023-01-27T01:49:40.751Z"
    }
   },
   "outputs": [
    {
     "data": {
      "text/plain": [
       "1//2"
      ]
     },
     "execution_count": 36,
     "metadata": {},
     "output_type": "execute_result"
    }
   ],
   "source": [
    "r = 1//2"
   ]
  },
  {
   "cell_type": "code",
   "execution_count": 37,
   "id": "779b45ed",
   "metadata": {
    "ExecuteTime": {
     "end_time": "2023-01-27T10:49:45.223000+09:00",
     "start_time": "2023-01-27T01:49:40.754Z"
    }
   },
   "outputs": [
    {
     "data": {
      "text/plain": [
       "1"
      ]
     },
     "execution_count": 37,
     "metadata": {},
     "output_type": "execute_result"
    }
   ],
   "source": [
    "r.num"
   ]
  },
  {
   "cell_type": "code",
   "execution_count": 38,
   "id": "ecc0b89c",
   "metadata": {
    "ExecuteTime": {
     "end_time": "2023-01-27T10:49:45.224000+09:00",
     "start_time": "2023-01-27T01:49:40.757Z"
    }
   },
   "outputs": [
    {
     "data": {
      "text/plain": [
       "2"
      ]
     },
     "execution_count": 38,
     "metadata": {},
     "output_type": "execute_result"
    }
   ],
   "source": [
    "r.den"
   ]
  },
  {
   "cell_type": "code",
   "execution_count": 39,
   "id": "b3575e95",
   "metadata": {
    "ExecuteTime": {
     "end_time": "2023-01-27T10:49:45.415000+09:00",
     "start_time": "2023-01-27T01:49:40.759Z"
    }
   },
   "outputs": [
    {
     "data": {
      "text/plain": [
       "1.0 + 2.0im"
      ]
     },
     "execution_count": 39,
     "metadata": {},
     "output_type": "execute_result"
    }
   ],
   "source": [
    "c = 1.0 + 2.0im"
   ]
  },
  {
   "cell_type": "code",
   "execution_count": 40,
   "id": "86d50d78",
   "metadata": {
    "ExecuteTime": {
     "end_time": "2023-01-27T10:49:45.419000+09:00",
     "start_time": "2023-01-27T01:49:40.762Z"
    }
   },
   "outputs": [
    {
     "data": {
      "text/plain": [
       "1.0"
      ]
     },
     "execution_count": 40,
     "metadata": {},
     "output_type": "execute_result"
    }
   ],
   "source": [
    "c.re"
   ]
  },
  {
   "cell_type": "code",
   "execution_count": 41,
   "id": "9d0a897c",
   "metadata": {
    "ExecuteTime": {
     "end_time": "2023-01-27T10:49:45.420000+09:00",
     "start_time": "2023-01-27T01:49:40.764Z"
    }
   },
   "outputs": [
    {
     "data": {
      "text/plain": [
       "2.0"
      ]
     },
     "execution_count": 41,
     "metadata": {},
     "output_type": "execute_result"
    }
   ],
   "source": [
    "c.im"
   ]
  },
  {
   "cell_type": "markdown",
   "id": "4557131b",
   "metadata": {},
   "source": [
    "#### コード2-97. 有理数と複素数のフィールドと同じ値を返す関数"
   ]
  },
  {
   "cell_type": "code",
   "execution_count": 42,
   "id": "6a72108a",
   "metadata": {
    "ExecuteTime": {
     "end_time": "2023-01-27T10:49:45.423000+09:00",
     "start_time": "2023-01-27T01:49:40.767Z"
    }
   },
   "outputs": [
    {
     "data": {
      "text/plain": [
       "1"
      ]
     },
     "execution_count": 42,
     "metadata": {},
     "output_type": "execute_result"
    }
   ],
   "source": [
    "numerator(r)"
   ]
  },
  {
   "cell_type": "code",
   "execution_count": 43,
   "id": "f4eafb4c",
   "metadata": {
    "ExecuteTime": {
     "end_time": "2023-01-27T10:49:45.425000+09:00",
     "start_time": "2023-01-27T01:49:40.769Z"
    }
   },
   "outputs": [
    {
     "data": {
      "text/plain": [
       "2"
      ]
     },
     "execution_count": 43,
     "metadata": {},
     "output_type": "execute_result"
    }
   ],
   "source": [
    "denominator(r)"
   ]
  },
  {
   "cell_type": "code",
   "execution_count": 44,
   "id": "fd60fc55",
   "metadata": {
    "ExecuteTime": {
     "end_time": "2023-01-27T10:49:45.428000+09:00",
     "start_time": "2023-01-27T01:49:40.772Z"
    }
   },
   "outputs": [
    {
     "data": {
      "text/plain": [
       "2"
      ]
     },
     "execution_count": 44,
     "metadata": {},
     "output_type": "execute_result"
    }
   ],
   "source": [
    "numerator(2)"
   ]
  },
  {
   "cell_type": "code",
   "execution_count": 45,
   "id": "90c6b7ce",
   "metadata": {
    "ExecuteTime": {
     "end_time": "2023-01-27T10:49:45.428000+09:00",
     "start_time": "2023-01-27T01:49:40.775Z"
    }
   },
   "outputs": [
    {
     "data": {
      "text/plain": [
       "1"
      ]
     },
     "execution_count": 45,
     "metadata": {},
     "output_type": "execute_result"
    }
   ],
   "source": [
    "denominator(2)"
   ]
  },
  {
   "cell_type": "code",
   "execution_count": 46,
   "id": "9e987fc1",
   "metadata": {
    "ExecuteTime": {
     "end_time": "2023-01-27T10:49:45.431000+09:00",
     "start_time": "2023-01-27T01:49:40.782Z"
    }
   },
   "outputs": [
    {
     "data": {
      "text/plain": [
       "1.0"
      ]
     },
     "execution_count": 46,
     "metadata": {},
     "output_type": "execute_result"
    }
   ],
   "source": [
    "real(c)"
   ]
  },
  {
   "cell_type": "code",
   "execution_count": 47,
   "id": "44b63af7",
   "metadata": {
    "ExecuteTime": {
     "end_time": "2023-01-27T10:49:45.434000+09:00",
     "start_time": "2023-01-27T01:49:40.789Z"
    }
   },
   "outputs": [
    {
     "data": {
      "text/plain": [
       "2.0"
      ]
     },
     "execution_count": 47,
     "metadata": {},
     "output_type": "execute_result"
    }
   ],
   "source": [
    "imag(c)"
   ]
  },
  {
   "cell_type": "code",
   "execution_count": 48,
   "id": "d50f5b34",
   "metadata": {
    "ExecuteTime": {
     "end_time": "2023-01-27T10:49:45.437000+09:00",
     "start_time": "2023-01-27T01:49:40.792Z"
    }
   },
   "outputs": [
    {
     "data": {
      "text/plain": [
       "2.0"
      ]
     },
     "execution_count": 48,
     "metadata": {},
     "output_type": "execute_result"
    }
   ],
   "source": [
    "real(2.0)"
   ]
  },
  {
   "cell_type": "code",
   "execution_count": 49,
   "id": "97175a48",
   "metadata": {
    "ExecuteTime": {
     "end_time": "2023-01-27T10:49:45.437000+09:00",
     "start_time": "2023-01-27T01:49:40.795Z"
    }
   },
   "outputs": [
    {
     "data": {
      "text/plain": [
       "0.0"
      ]
     },
     "execution_count": 49,
     "metadata": {},
     "output_type": "execute_result"
    }
   ],
   "source": [
    "imag(2.0)"
   ]
  },
  {
   "cell_type": "markdown",
   "id": "901c69bd",
   "metadata": {},
   "source": [
    "### 2-7-3. コレクション型"
   ]
  },
  {
   "cell_type": "markdown",
   "id": "37679cb4",
   "metadata": {},
   "source": [
    "#### 配列"
   ]
  },
  {
   "cell_type": "markdown",
   "id": "18d393d4",
   "metadata": {},
   "source": [
    "##### コード2-98. 配列の型の確認"
   ]
  },
  {
   "cell_type": "code",
   "execution_count": 50,
   "id": "0ee4f24a",
   "metadata": {
    "ExecuteTime": {
     "end_time": "2023-01-27T10:49:45.449000+09:00",
     "start_time": "2023-01-27T01:49:40.801Z"
    }
   },
   "outputs": [
    {
     "data": {
      "text/plain": [
       "Vector{Int64}\u001b[90m (alias for \u001b[39m\u001b[90mArray{Int64, 1}\u001b[39m\u001b[90m)\u001b[39m"
      ]
     },
     "execution_count": 50,
     "metadata": {},
     "output_type": "execute_result"
    }
   ],
   "source": [
    "typeof([1, 2, 3])"
   ]
  },
  {
   "cell_type": "code",
   "execution_count": 51,
   "id": "ffeb540d",
   "metadata": {
    "ExecuteTime": {
     "end_time": "2023-01-27T10:49:45.485000+09:00",
     "start_time": "2023-01-27T01:49:40.804Z"
    }
   },
   "outputs": [
    {
     "data": {
      "text/plain": [
       "Matrix{Float64}\u001b[90m (alias for \u001b[39m\u001b[90mArray{Float64, 2}\u001b[39m\u001b[90m)\u001b[39m"
      ]
     },
     "execution_count": 51,
     "metadata": {},
     "output_type": "execute_result"
    }
   ],
   "source": [
    "typeof([1.0 2.0; 3.0 4.0; 5.0 6.0])"
   ]
  },
  {
   "cell_type": "code",
   "execution_count": 52,
   "id": "7f9ea1b9",
   "metadata": {
    "ExecuteTime": {
     "end_time": "2023-01-27T10:49:45.557000+09:00",
     "start_time": "2023-01-27T01:49:40.808Z"
    }
   },
   "outputs": [
    {
     "data": {
      "text/plain": [
       "Array{Int64, 3}"
      ]
     },
     "execution_count": 52,
     "metadata": {},
     "output_type": "execute_result"
    }
   ],
   "source": [
    "typeof([100x + 10y + z for x=1:4, y=1:5, z=1:3])"
   ]
  },
  {
   "cell_type": "markdown",
   "id": "bc84509c",
   "metadata": {},
   "source": [
    "##### コード2-99. インデクシング(1)：ベクトルのインデクシング参照"
   ]
  },
  {
   "cell_type": "code",
   "execution_count": 53,
   "id": "b33fa364",
   "metadata": {
    "ExecuteTime": {
     "end_time": "2023-01-27T10:49:45.558000+09:00",
     "start_time": "2023-01-27T01:49:40.812Z"
    }
   },
   "outputs": [],
   "source": [
    "v = [1, 2, 3];"
   ]
  },
  {
   "cell_type": "code",
   "execution_count": 54,
   "id": "2bf8b5e1",
   "metadata": {
    "ExecuteTime": {
     "end_time": "2023-01-27T10:49:45.561000+09:00",
     "start_time": "2023-01-27T01:49:40.816Z"
    }
   },
   "outputs": [
    {
     "data": {
      "text/plain": [
       "1"
      ]
     },
     "execution_count": 54,
     "metadata": {},
     "output_type": "execute_result"
    }
   ],
   "source": [
    "v[1]"
   ]
  },
  {
   "cell_type": "code",
   "execution_count": 55,
   "id": "e325bc3f",
   "metadata": {
    "ExecuteTime": {
     "end_time": "2023-01-27T10:49:45.562000+09:00",
     "start_time": "2023-01-27T01:49:40.819Z"
    }
   },
   "outputs": [
    {
     "data": {
      "text/plain": [
       "2"
      ]
     },
     "execution_count": 55,
     "metadata": {},
     "output_type": "execute_result"
    }
   ],
   "source": [
    "v[2]"
   ]
  },
  {
   "cell_type": "code",
   "execution_count": 56,
   "id": "98852188",
   "metadata": {
    "ExecuteTime": {
     "end_time": "2023-01-27T10:49:45.642000+09:00",
     "start_time": "2023-01-27T01:49:40.829Z"
    }
   },
   "outputs": [
    {
     "ename": "LoadError",
     "evalue": "BoundsError: attempt to access 3-element Vector{Int64} at index [0]",
     "output_type": "error",
     "traceback": [
      "BoundsError: attempt to access 3-element Vector{Int64} at index [0]",
      "",
      "Stacktrace:",
      " [1] getindex(A::Vector{Int64}, i1::Int64)",
      "   @ Base ./array.jl:924",
      " [2] top-level scope",
      "   @ In[56]:1"
     ]
    }
   ],
   "source": [
    "v[0]　　# v[-1], v[4] 等も同様"
   ]
  },
  {
   "cell_type": "code",
   "execution_count": 57,
   "id": "7adace2a",
   "metadata": {
    "ExecuteTime": {
     "end_time": "2023-01-27T10:49:45.643000+09:00",
     "start_time": "2023-01-27T01:49:40.832Z"
    }
   },
   "outputs": [
    {
     "data": {
      "text/plain": [
       "1"
      ]
     },
     "execution_count": 57,
     "metadata": {},
     "output_type": "execute_result"
    }
   ],
   "source": [
    "v[begin]"
   ]
  },
  {
   "cell_type": "code",
   "execution_count": 58,
   "id": "91fef0e4",
   "metadata": {
    "ExecuteTime": {
     "end_time": "2023-01-27T10:49:45.646000+09:00",
     "start_time": "2023-01-27T01:49:40.835Z"
    }
   },
   "outputs": [
    {
     "data": {
      "text/plain": [
       "3"
      ]
     },
     "execution_count": 58,
     "metadata": {},
     "output_type": "execute_result"
    }
   ],
   "source": [
    "v[end]"
   ]
  },
  {
   "cell_type": "code",
   "execution_count": 59,
   "id": "0cf20c0b",
   "metadata": {
    "ExecuteTime": {
     "end_time": "2023-01-27T10:49:45.646000+09:00",
     "start_time": "2023-01-27T01:49:40.838Z"
    }
   },
   "outputs": [
    {
     "data": {
      "text/plain": [
       "2"
      ]
     },
     "execution_count": 59,
     "metadata": {},
     "output_type": "execute_result"
    }
   ],
   "source": [
    "v[end-1]"
   ]
  },
  {
   "cell_type": "markdown",
   "id": "2747a53a",
   "metadata": {},
   "source": [
    "##### コード2-100. インデクシング(2)：ベクトルのインデクシング代入"
   ]
  },
  {
   "cell_type": "code",
   "execution_count": 60,
   "id": "238e1fd6",
   "metadata": {
    "ExecuteTime": {
     "end_time": "2023-01-27T10:49:45.647000+09:00",
     "start_time": "2023-01-27T01:49:40.841Z"
    }
   },
   "outputs": [
    {
     "data": {
      "text/plain": [
       "0"
      ]
     },
     "execution_count": 60,
     "metadata": {},
     "output_type": "execute_result"
    }
   ],
   "source": [
    "v[2] = 0"
   ]
  },
  {
   "cell_type": "code",
   "execution_count": 61,
   "id": "e9e084f5",
   "metadata": {
    "ExecuteTime": {
     "end_time": "2023-01-27T10:49:46.350000+09:00",
     "start_time": "2023-01-27T01:49:40.843Z"
    }
   },
   "outputs": [
    {
     "data": {
      "text/plain": [
       "3-element Vector{Int64}:\n",
       " 1\n",
       " 0\n",
       " 3"
      ]
     },
     "execution_count": 61,
     "metadata": {},
     "output_type": "execute_result"
    }
   ],
   "source": [
    "v"
   ]
  },
  {
   "cell_type": "code",
   "execution_count": 62,
   "id": "7b88702e",
   "metadata": {
    "ExecuteTime": {
     "end_time": "2023-01-27T10:49:46.370000+09:00",
     "start_time": "2023-01-27T01:49:40.846Z"
    }
   },
   "outputs": [
    {
     "ename": "LoadError",
     "evalue": "BoundsError: attempt to access 3-element Vector{Int64} at index [4]",
     "output_type": "error",
     "traceback": [
      "BoundsError: attempt to access 3-element Vector{Int64} at index [4]",
      "",
      "Stacktrace:",
      " [1] setindex!(A::Vector{Int64}, x::Int64, i1::Int64)",
      "   @ Base ./array.jl:966",
      " [2] top-level scope",
      "   @ In[62]:1"
     ]
    }
   ],
   "source": [
    "v[4] = 99"
   ]
  },
  {
   "cell_type": "markdown",
   "id": "75b4c5d7",
   "metadata": {},
   "source": [
    "##### コード2-101. インデクシング(3)：行列（多次元配列）のインデクシング（多次元インデックス）"
   ]
  },
  {
   "cell_type": "code",
   "execution_count": 63,
   "id": "2cda4324",
   "metadata": {
    "ExecuteTime": {
     "end_time": "2023-01-27T10:49:46.371000+09:00",
     "start_time": "2023-01-27T01:49:40.848Z"
    }
   },
   "outputs": [],
   "source": [
    "M = [1.0 2.0; 3.0 4.0; 5.0 6.0];"
   ]
  },
  {
   "cell_type": "code",
   "execution_count": 64,
   "id": "73211f82",
   "metadata": {
    "ExecuteTime": {
     "end_time": "2023-01-27T10:49:46.376000+09:00",
     "start_time": "2023-01-27T01:49:40.851Z"
    }
   },
   "outputs": [
    {
     "data": {
      "text/plain": [
       "1.0"
      ]
     },
     "execution_count": 64,
     "metadata": {},
     "output_type": "execute_result"
    }
   ],
   "source": [
    "M[1, 1]"
   ]
  },
  {
   "cell_type": "code",
   "execution_count": 65,
   "id": "7871d921",
   "metadata": {
    "ExecuteTime": {
     "end_time": "2023-01-27T10:49:46.377000+09:00",
     "start_time": "2023-01-27T01:49:40.853Z"
    }
   },
   "outputs": [
    {
     "data": {
      "text/plain": [
       "6.0"
      ]
     },
     "execution_count": 65,
     "metadata": {},
     "output_type": "execute_result"
    }
   ],
   "source": [
    "M[3, 2]"
   ]
  },
  {
   "cell_type": "code",
   "execution_count": 66,
   "id": "894bad2a",
   "metadata": {
    "ExecuteTime": {
     "end_time": "2023-01-27T10:49:46.394000+09:00",
     "start_time": "2023-01-27T01:49:40.856Z"
    }
   },
   "outputs": [
    {
     "data": {
      "text/plain": [
       "6.0"
      ]
     },
     "execution_count": 66,
     "metadata": {},
     "output_type": "execute_result"
    }
   ],
   "source": [
    "M[CartesianIndex(3, 2)]"
   ]
  },
  {
   "cell_type": "code",
   "execution_count": 67,
   "id": "eb7616fc",
   "metadata": {
    "ExecuteTime": {
     "end_time": "2023-01-27T10:49:46.421000+09:00",
     "start_time": "2023-01-27T01:49:40.859Z"
    }
   },
   "outputs": [
    {
     "ename": "LoadError",
     "evalue": "BoundsError: attempt to access 3×2 Matrix{Float64} at index [2, 3]",
     "output_type": "error",
     "traceback": [
      "BoundsError: attempt to access 3×2 Matrix{Float64} at index [2, 3]",
      "",
      "Stacktrace:",
      " [1] getindex(::Matrix{Float64}, ::Int64, ::Int64)",
      "   @ Base ./array.jl:925",
      " [2] top-level scope",
      "   @ In[67]:1"
     ]
    }
   ],
   "source": [
    "M[2, 3]"
   ]
  },
  {
   "cell_type": "code",
   "execution_count": 68,
   "id": "408e6217",
   "metadata": {
    "ExecuteTime": {
     "end_time": "2023-01-27T10:49:46.425000+09:00",
     "start_time": "2023-01-27T01:49:40.861Z"
    }
   },
   "outputs": [
    {
     "data": {
      "text/plain": [
       "1.0"
      ]
     },
     "execution_count": 68,
     "metadata": {},
     "output_type": "execute_result"
    }
   ],
   "source": [
    "M[begin, begin]"
   ]
  },
  {
   "cell_type": "code",
   "execution_count": 69,
   "id": "6026017e",
   "metadata": {
    "ExecuteTime": {
     "end_time": "2023-01-27T10:49:46.430000+09:00",
     "start_time": "2023-01-27T01:49:40.864Z"
    }
   },
   "outputs": [
    {
     "data": {
      "text/plain": [
       "6.0"
      ]
     },
     "execution_count": 69,
     "metadata": {},
     "output_type": "execute_result"
    }
   ],
   "source": [
    "M[end, end]"
   ]
  },
  {
   "cell_type": "code",
   "execution_count": 70,
   "id": "2bc5e1b4",
   "metadata": {
    "ExecuteTime": {
     "end_time": "2023-01-27T10:49:46.434000+09:00",
     "start_time": "2023-01-27T01:49:40.866Z"
    }
   },
   "outputs": [
    {
     "data": {
      "text/plain": [
       "0.0"
      ]
     },
     "execution_count": 70,
     "metadata": {},
     "output_type": "execute_result"
    }
   ],
   "source": [
    "M[2, 2] = 0.0"
   ]
  },
  {
   "cell_type": "code",
   "execution_count": 71,
   "id": "e76321d3",
   "metadata": {
    "ExecuteTime": {
     "end_time": "2023-01-27T10:49:46.824000+09:00",
     "start_time": "2023-01-27T01:49:40.868Z"
    }
   },
   "outputs": [
    {
     "data": {
      "text/plain": [
       "3×2 Matrix{Float64}:\n",
       " 1.0  2.0\n",
       " 3.0  0.0\n",
       " 5.0  6.0"
      ]
     },
     "execution_count": 71,
     "metadata": {},
     "output_type": "execute_result"
    }
   ],
   "source": [
    "M"
   ]
  },
  {
   "cell_type": "code",
   "execution_count": 72,
   "id": "a3838e48",
   "metadata": {
    "ExecuteTime": {
     "end_time": "2023-01-27T10:49:46.829000+09:00",
     "start_time": "2023-01-27T01:49:40.870Z"
    }
   },
   "outputs": [
    {
     "data": {
      "text/plain": [
       "10.0"
      ]
     },
     "execution_count": 72,
     "metadata": {},
     "output_type": "execute_result"
    }
   ],
   "source": [
    "M[CartesianIndex(2, 2)] = 10.0"
   ]
  },
  {
   "cell_type": "code",
   "execution_count": 73,
   "id": "34d5f25f",
   "metadata": {
    "ExecuteTime": {
     "end_time": "2023-01-27T10:49:46.830000+09:00",
     "start_time": "2023-01-27T01:49:40.873Z"
    }
   },
   "outputs": [
    {
     "data": {
      "text/plain": [
       "3×2 Matrix{Float64}:\n",
       " 1.0   2.0\n",
       " 3.0  10.0\n",
       " 5.0   6.0"
      ]
     },
     "execution_count": 73,
     "metadata": {},
     "output_type": "execute_result"
    }
   ],
   "source": [
    "M"
   ]
  },
  {
   "cell_type": "markdown",
   "id": "3cdcaeda",
   "metadata": {},
   "source": [
    "##### コード2-102. インデクシング(4)：行列（多次元配列）のインデクシング（線形インデックス）"
   ]
  },
  {
   "cell_type": "code",
   "execution_count": 74,
   "id": "55bcfb03",
   "metadata": {
    "ExecuteTime": {
     "end_time": "2023-01-27T10:49:46.832000+09:00",
     "start_time": "2023-01-27T01:49:40.878Z"
    }
   },
   "outputs": [
    {
     "data": {
      "text/plain": [
       "3×2 Matrix{Float64}:\n",
       " 1.0  2.0\n",
       " 3.0  4.0\n",
       " 5.0  6.0"
      ]
     },
     "execution_count": 74,
     "metadata": {},
     "output_type": "execute_result"
    }
   ],
   "source": [
    "M = [1.0 2.0; 3.0 4.0; 5.0 6.0]"
   ]
  },
  {
   "cell_type": "code",
   "execution_count": 75,
   "id": "73fd927e",
   "metadata": {
    "ExecuteTime": {
     "end_time": "2023-01-27T10:49:46.836000+09:00",
     "start_time": "2023-01-27T01:49:40.881Z"
    }
   },
   "outputs": [
    {
     "data": {
      "text/plain": [
       "1.0"
      ]
     },
     "execution_count": 75,
     "metadata": {},
     "output_type": "execute_result"
    }
   ],
   "source": [
    "M[1]"
   ]
  },
  {
   "cell_type": "code",
   "execution_count": 76,
   "id": "9c7aa0a1",
   "metadata": {
    "ExecuteTime": {
     "end_time": "2023-01-27T10:49:46.837000+09:00",
     "start_time": "2023-01-27T01:49:40.883Z"
    }
   },
   "outputs": [
    {
     "data": {
      "text/plain": [
       "3.0"
      ]
     },
     "execution_count": 76,
     "metadata": {},
     "output_type": "execute_result"
    }
   ],
   "source": [
    "M[2]"
   ]
  },
  {
   "cell_type": "code",
   "execution_count": 77,
   "id": "6a8d2c7a",
   "metadata": {
    "ExecuteTime": {
     "end_time": "2023-01-27T10:49:46.837000+09:00",
     "start_time": "2023-01-27T01:49:40.885Z"
    }
   },
   "outputs": [
    {
     "data": {
      "text/plain": [
       "5.0"
      ]
     },
     "execution_count": 77,
     "metadata": {},
     "output_type": "execute_result"
    }
   ],
   "source": [
    "M[3]"
   ]
  },
  {
   "cell_type": "code",
   "execution_count": 78,
   "id": "a4859896",
   "metadata": {
    "ExecuteTime": {
     "end_time": "2023-01-27T10:49:46.838000+09:00",
     "start_time": "2023-01-27T01:49:40.887Z"
    }
   },
   "outputs": [
    {
     "data": {
      "text/plain": [
       "2.0"
      ]
     },
     "execution_count": 78,
     "metadata": {},
     "output_type": "execute_result"
    }
   ],
   "source": [
    "M[4]"
   ]
  },
  {
   "cell_type": "code",
   "execution_count": 79,
   "id": "7e30f585",
   "metadata": {
    "ExecuteTime": {
     "end_time": "2023-01-27T10:49:46.838000+09:00",
     "start_time": "2023-01-27T01:49:40.890Z"
    }
   },
   "outputs": [
    {
     "data": {
      "text/plain": [
       "4.0"
      ]
     },
     "execution_count": 79,
     "metadata": {},
     "output_type": "execute_result"
    }
   ],
   "source": [
    "M[5]"
   ]
  },
  {
   "cell_type": "code",
   "execution_count": 80,
   "id": "6b0eb810",
   "metadata": {
    "ExecuteTime": {
     "end_time": "2023-01-27T10:49:46.839000+09:00",
     "start_time": "2023-01-27T01:49:40.892Z"
    }
   },
   "outputs": [
    {
     "data": {
      "text/plain": [
       "6.0"
      ]
     },
     "execution_count": 80,
     "metadata": {},
     "output_type": "execute_result"
    }
   ],
   "source": [
    "M[6]"
   ]
  },
  {
   "cell_type": "markdown",
   "id": "4445f1dc",
   "metadata": {},
   "source": [
    "##### コード2-103. インデクシング(5)：範囲指定"
   ]
  },
  {
   "cell_type": "code",
   "execution_count": 81,
   "id": "ef9cda32",
   "metadata": {
    "ExecuteTime": {
     "end_time": "2023-01-27T10:49:46.840000+09:00",
     "start_time": "2023-01-27T01:49:40.895Z"
    }
   },
   "outputs": [
    {
     "data": {
      "text/plain": [
       "3-element Vector{Int64}:\n",
       " 1\n",
       " 0\n",
       " 3"
      ]
     },
     "execution_count": 81,
     "metadata": {},
     "output_type": "execute_result"
    }
   ],
   "source": [
    "v = [1, 0, 3]"
   ]
  },
  {
   "cell_type": "code",
   "execution_count": 82,
   "id": "4bd8fe25",
   "metadata": {
    "ExecuteTime": {
     "end_time": "2023-01-27T10:49:46.847000+09:00",
     "start_time": "2023-01-27T01:49:40.897Z"
    }
   },
   "outputs": [
    {
     "data": {
      "text/plain": [
       "2-element Vector{Int64}:\n",
       " 1\n",
       " 0"
      ]
     },
     "execution_count": 82,
     "metadata": {},
     "output_type": "execute_result"
    }
   ],
   "source": [
    "v[1:2]"
   ]
  },
  {
   "cell_type": "code",
   "execution_count": 83,
   "id": "d59c8ecb",
   "metadata": {
    "ExecuteTime": {
     "end_time": "2023-01-27T10:49:46.849000+09:00",
     "start_time": "2023-01-27T01:49:40.899Z"
    }
   },
   "outputs": [
    {
     "data": {
      "text/plain": [
       "3×2 Matrix{Float64}:\n",
       " 1.0  2.0\n",
       " 3.0  4.0\n",
       " 5.0  6.0"
      ]
     },
     "execution_count": 83,
     "metadata": {},
     "output_type": "execute_result"
    }
   ],
   "source": [
    "M = [1.0 2.0; 3.0 4.0; 5.0 6.0]"
   ]
  },
  {
   "cell_type": "code",
   "execution_count": 84,
   "id": "7ec7fd29",
   "metadata": {
    "ExecuteTime": {
     "end_time": "2023-01-27T10:49:47.196000+09:00",
     "start_time": "2023-01-27T01:49:40.902Z"
    }
   },
   "outputs": [
    {
     "data": {
      "text/plain": [
       "2-element Vector{Float64}:\n",
       " 1.0\n",
       " 3.0"
      ]
     },
     "execution_count": 84,
     "metadata": {},
     "output_type": "execute_result"
    }
   ],
   "source": [
    "M[1:2, 1]"
   ]
  },
  {
   "cell_type": "code",
   "execution_count": 85,
   "id": "3f7baf3e",
   "metadata": {
    "ExecuteTime": {
     "end_time": "2023-01-27T10:49:47.217000+09:00",
     "start_time": "2023-01-27T01:49:40.904Z"
    }
   },
   "outputs": [
    {
     "data": {
      "text/plain": [
       "2-element Vector{Float64}:\n",
       " 1.0\n",
       " 2.0"
      ]
     },
     "execution_count": 85,
     "metadata": {},
     "output_type": "execute_result"
    }
   ],
   "source": [
    "M[1, :]"
   ]
  },
  {
   "cell_type": "code",
   "execution_count": 86,
   "id": "6c9e2c91",
   "metadata": {
    "ExecuteTime": {
     "end_time": "2023-01-27T10:49:47.248000+09:00",
     "start_time": "2023-01-27T01:49:40.907Z"
    }
   },
   "outputs": [
    {
     "data": {
      "text/plain": [
       "1×2 Matrix{Float64}:\n",
       " 1.0  2.0"
      ]
     },
     "execution_count": 86,
     "metadata": {},
     "output_type": "execute_result"
    }
   ],
   "source": [
    "M[1:1, :]"
   ]
  },
  {
   "cell_type": "code",
   "execution_count": 87,
   "id": "79e0f935",
   "metadata": {
    "ExecuteTime": {
     "end_time": "2023-01-27T10:49:47.272000+09:00",
     "start_time": "2023-01-27T01:49:40.910Z"
    }
   },
   "outputs": [
    {
     "data": {
      "text/plain": [
       "2×1 Matrix{Float64}:\n",
       " 1.0\n",
       " 3.0"
      ]
     },
     "execution_count": 87,
     "metadata": {},
     "output_type": "execute_result"
    }
   ],
   "source": [
    "M[1:2, 1:1]"
   ]
  },
  {
   "cell_type": "markdown",
   "id": "1364c691",
   "metadata": {},
   "source": [
    "##### コード2-104. インデクシング(6)：論理式によるフィルタリング"
   ]
  },
  {
   "cell_type": "code",
   "execution_count": 88,
   "id": "406c5820",
   "metadata": {
    "ExecuteTime": {
     "end_time": "2023-01-27T10:49:47.469000+09:00",
     "start_time": "2023-01-27T01:49:40.913Z"
    }
   },
   "outputs": [
    {
     "data": {
      "text/plain": [
       "3-element Vector{Float64}:\n",
       " 5.0\n",
       " 4.0\n",
       " 6.0"
      ]
     },
     "execution_count": 88,
     "metadata": {},
     "output_type": "execute_result"
    }
   ],
   "source": [
    "M[M .> 3]"
   ]
  },
  {
   "cell_type": "markdown",
   "id": "d05bc8eb",
   "metadata": {},
   "source": [
    "#### 辞書"
   ]
  },
  {
   "cell_type": "markdown",
   "id": "661813ef",
   "metadata": {},
   "source": [
    "##### コード2-105. 辞書の例(1)：定義とキー参照"
   ]
  },
  {
   "cell_type": "code",
   "execution_count": 89,
   "id": "8ce03b19",
   "metadata": {
    "ExecuteTime": {
     "end_time": "2023-01-27T10:49:48.849000+09:00",
     "start_time": "2023-01-27T01:49:40.916Z"
    }
   },
   "outputs": [
    {
     "data": {
      "text/plain": [
       "Dict{Symbol, Int64} with 3 entries:\n",
       "  :a => 1\n",
       "  :b => 2\n",
       "  :c => 3"
      ]
     },
     "execution_count": 89,
     "metadata": {},
     "output_type": "execute_result"
    }
   ],
   "source": [
    "d = Dict(:a => 1, :b => 2, :c => 3)"
   ]
  },
  {
   "cell_type": "code",
   "execution_count": 90,
   "id": "32bb1ba6",
   "metadata": {
    "ExecuteTime": {
     "end_time": "2023-01-27T10:49:48.857000+09:00",
     "start_time": "2023-01-27T01:49:40.919Z"
    }
   },
   "outputs": [
    {
     "data": {
      "text/plain": [
       "1"
      ]
     },
     "execution_count": 90,
     "metadata": {},
     "output_type": "execute_result"
    }
   ],
   "source": [
    "d[:a]"
   ]
  },
  {
   "cell_type": "code",
   "execution_count": 91,
   "id": "ed25cdea",
   "metadata": {
    "ExecuteTime": {
     "end_time": "2023-01-27T10:49:48.904000+09:00",
     "start_time": "2023-01-27T01:49:40.921Z"
    }
   },
   "outputs": [
    {
     "ename": "LoadError",
     "evalue": "KeyError: key :n not found",
     "output_type": "error",
     "traceback": [
      "KeyError: key :n not found",
      "",
      "Stacktrace:",
      " [1] getindex(h::Dict{Symbol, Int64}, key::Symbol)",
      "   @ Base ./dict.jl:498",
      " [2] top-level scope",
      "   @ In[91]:1"
     ]
    }
   ],
   "source": [
    "d[:n]"
   ]
  },
  {
   "cell_type": "markdown",
   "id": "1bcbe7a5",
   "metadata": {},
   "source": [
    "##### コード2-106. 辞書の例(2)：エントリーの登録と更新"
   ]
  },
  {
   "cell_type": "code",
   "execution_count": 92,
   "id": "cc0ca03e",
   "metadata": {
    "ExecuteTime": {
     "end_time": "2023-01-27T10:49:48.905000+09:00",
     "start_time": "2023-01-27T01:49:40.924Z"
    }
   },
   "outputs": [
    {
     "data": {
      "text/plain": [
       "20"
      ]
     },
     "execution_count": 92,
     "metadata": {},
     "output_type": "execute_result"
    }
   ],
   "source": [
    "d[:b] = 20  # エントリーの更新"
   ]
  },
  {
   "cell_type": "code",
   "execution_count": 93,
   "id": "0deabf0b",
   "metadata": {
    "ExecuteTime": {
     "end_time": "2023-01-27T10:49:48.905000+09:00",
     "start_time": "2023-01-27T01:49:40.927Z"
    }
   },
   "outputs": [
    {
     "data": {
      "text/plain": [
       "5"
      ]
     },
     "execution_count": 93,
     "metadata": {},
     "output_type": "execute_result"
    }
   ],
   "source": [
    "d[:e] = 5  # エントリーの登録"
   ]
  },
  {
   "cell_type": "code",
   "execution_count": 94,
   "id": "dd62ba62",
   "metadata": {
    "ExecuteTime": {
     "end_time": "2023-01-27T10:49:48.906000+09:00",
     "start_time": "2023-01-27T01:49:40.929Z"
    }
   },
   "outputs": [
    {
     "data": {
      "text/plain": [
       "Dict{Symbol, Int64} with 4 entries:\n",
       "  :a => 1\n",
       "  :b => 20\n",
       "  :e => 5\n",
       "  :c => 3"
      ]
     },
     "execution_count": 94,
     "metadata": {},
     "output_type": "execute_result"
    }
   ],
   "source": [
    "d"
   ]
  },
  {
   "cell_type": "markdown",
   "id": "9879a489",
   "metadata": {},
   "source": [
    "##### コード2-107. 辞書の例(3)：キーと値の型（エラー例）"
   ]
  },
  {
   "cell_type": "code",
   "execution_count": 95,
   "id": "2ababedf",
   "metadata": {
    "ExecuteTime": {
     "end_time": "2023-01-27T10:49:49.324000+09:00",
     "start_time": "2023-01-27T01:49:40.932Z"
    },
    "scrolled": true
   },
   "outputs": [
    {
     "ename": "LoadError",
     "evalue": "MethodError: no method matching Int64(::Irrational{:π})\n\u001b[0mClosest candidates are:\n\u001b[0m  (::Type{T})(::T) where T<:Number at boot.jl:772\n\u001b[0m  (::Type{T})(\u001b[91m::AbstractChar\u001b[39m) where T<:Union{Int32, Int64} at char.jl:51\n\u001b[0m  (::Type{T})(\u001b[91m::AbstractChar\u001b[39m) where T<:Union{AbstractChar, Number} at char.jl:50\n\u001b[0m  ...",
     "output_type": "error",
     "traceback": [
      "MethodError: no method matching Int64(::Irrational{:π})\n\u001b[0mClosest candidates are:\n\u001b[0m  (::Type{T})(::T) where T<:Number at boot.jl:772\n\u001b[0m  (::Type{T})(\u001b[91m::AbstractChar\u001b[39m) where T<:Union{Int32, Int64} at char.jl:51\n\u001b[0m  (::Type{T})(\u001b[91m::AbstractChar\u001b[39m) where T<:Union{AbstractChar, Number} at char.jl:50\n\u001b[0m  ...",
      "",
      "Stacktrace:",
      " [1] convert(#unused#::Type{Int64}, x::Irrational{:π})",
      "   @ Base ./number.jl:7",
      " [2] setindex!(h::Dict{Symbol, Int64}, v0::Irrational{:π}, key::Symbol)",
      "   @ Base ./dict.jl:382",
      " [3] top-level scope",
      "   @ In[95]:1"
     ]
    }
   ],
   "source": [
    "d[:pi] = π"
   ]
  },
  {
   "cell_type": "code",
   "execution_count": 96,
   "id": "278debc2",
   "metadata": {
    "ExecuteTime": {
     "end_time": "2023-01-27T10:49:49.356000+09:00",
     "start_time": "2023-01-27T01:49:40.934Z"
    },
    "scrolled": true
   },
   "outputs": [
    {
     "ename": "LoadError",
     "evalue": "MethodError: \u001b[0mCannot `convert` an object of type \u001b[92mString\u001b[39m\u001b[0m to an object of type \u001b[91mSymbol\u001b[39m\n\u001b[0mClosest candidates are:\n\u001b[0m  convert(::Type{T}, \u001b[91m::T\u001b[39m) where T at Base.jl:61\n\u001b[0m  Symbol(::String) at boot.jl:489\n\u001b[0m  Symbol(::AbstractString) at strings/basic.jl:228\n\u001b[0m  ...",
     "output_type": "error",
     "traceback": [
      "MethodError: \u001b[0mCannot `convert` an object of type \u001b[92mString\u001b[39m\u001b[0m to an object of type \u001b[91mSymbol\u001b[39m\n\u001b[0mClosest candidates are:\n\u001b[0m  convert(::Type{T}, \u001b[91m::T\u001b[39m) where T at Base.jl:61\n\u001b[0m  Symbol(::String) at boot.jl:489\n\u001b[0m  Symbol(::AbstractString) at strings/basic.jl:228\n\u001b[0m  ...",
      "",
      "Stacktrace:",
      " [1] setindex!(h::Dict{Symbol, Int64}, v0::Int64, key0::String)",
      "   @ Base ./dict.jl:374",
      " [2] top-level scope",
      "   @ In[96]:1"
     ]
    }
   ],
   "source": [
    "d[\"Invarid Key\"] = -1"
   ]
  },
  {
   "cell_type": "markdown",
   "id": "4df6cffc",
   "metadata": {},
   "source": [
    "#### 集合"
   ]
  },
  {
   "cell_type": "markdown",
   "id": "f075abc6",
   "metadata": {},
   "source": [
    "##### コード2-108. 集合の例(1)：定義"
   ]
  },
  {
   "cell_type": "code",
   "execution_count": 97,
   "id": "a8117f83",
   "metadata": {
    "ExecuteTime": {
     "end_time": "2023-01-27T10:49:49.824000+09:00",
     "start_time": "2023-01-27T01:49:40.937Z"
    }
   },
   "outputs": [
    {
     "data": {
      "text/plain": [
       "Set{Int64} with 7 elements:\n",
       "  5\n",
       "  4\n",
       "  6\n",
       "  2\n",
       "  9\n",
       "  3\n",
       "  1"
      ]
     },
     "execution_count": 97,
     "metadata": {},
     "output_type": "execute_result"
    }
   ],
   "source": [
    "s = Set([3, 1, 4, 1, 5, 9, 2, 6, 5, 3])"
   ]
  },
  {
   "cell_type": "markdown",
   "id": "67a49cbe",
   "metadata": {},
   "source": [
    "##### コード2-109. 集合の例(2)：イテレーション、`in` 演算子"
   ]
  },
  {
   "cell_type": "code",
   "execution_count": 98,
   "id": "8a8b6dc9",
   "metadata": {
    "ExecuteTime": {
     "end_time": "2023-01-27T10:49:49.863000+09:00",
     "start_time": "2023-01-27T01:49:40.940Z"
    }
   },
   "outputs": [
    {
     "name": "stdout",
     "output_type": "stream",
     "text": [
      "5\n",
      "4\n",
      "6\n",
      "2\n",
      "9\n",
      "3\n",
      "1\n"
     ]
    }
   ],
   "source": [
    "for n in s\n",
    "    println(n)\n",
    "end"
   ]
  },
  {
   "cell_type": "code",
   "execution_count": 99,
   "id": "511c61bf",
   "metadata": {
    "ExecuteTime": {
     "end_time": "2023-01-27T10:49:49.867000+09:00",
     "start_time": "2023-01-27T01:49:40.943Z"
    }
   },
   "outputs": [
    {
     "data": {
      "text/plain": [
       "true"
      ]
     },
     "execution_count": 99,
     "metadata": {},
     "output_type": "execute_result"
    }
   ],
   "source": [
    "3 ∈ s"
   ]
  },
  {
   "cell_type": "code",
   "execution_count": 100,
   "id": "b6962b48",
   "metadata": {
    "ExecuteTime": {
     "end_time": "2023-01-27T10:49:49.870000+09:00",
     "start_time": "2023-01-27T01:49:40.945Z"
    }
   },
   "outputs": [
    {
     "data": {
      "text/plain": [
       "true"
      ]
     },
     "execution_count": 100,
     "metadata": {},
     "output_type": "execute_result"
    }
   ],
   "source": [
    "0 ∉ s"
   ]
  },
  {
   "cell_type": "markdown",
   "id": "f5db46f2",
   "metadata": {},
   "source": [
    "##### コード2-110. 集合の例(3)：要素の追加と削除"
   ]
  },
  {
   "cell_type": "code",
   "execution_count": 101,
   "id": "11dfa676",
   "metadata": {
    "ExecuteTime": {
     "end_time": "2023-01-27T10:49:49.874000+09:00",
     "start_time": "2023-01-27T01:49:40.948Z"
    }
   },
   "outputs": [
    {
     "data": {
      "text/plain": [
       "Set{Int64} with 8 elements:\n",
       "  5\n",
       "  4\n",
       "  6\n",
       "  0\n",
       "  2\n",
       "  9\n",
       "  3\n",
       "  1"
      ]
     },
     "execution_count": 101,
     "metadata": {},
     "output_type": "execute_result"
    }
   ],
   "source": [
    "push!(s, 0)"
   ]
  },
  {
   "cell_type": "code",
   "execution_count": 102,
   "id": "5a1c9856",
   "metadata": {
    "ExecuteTime": {
     "end_time": "2023-01-27T10:49:49.875000+09:00",
     "start_time": "2023-01-27T01:49:40.950Z"
    }
   },
   "outputs": [
    {
     "data": {
      "text/plain": [
       "Set{Int64} with 8 elements:\n",
       "  5\n",
       "  4\n",
       "  6\n",
       "  0\n",
       "  2\n",
       "  9\n",
       "  3\n",
       "  1"
      ]
     },
     "execution_count": 102,
     "metadata": {},
     "output_type": "execute_result"
    }
   ],
   "source": [
    "push!(s, 9)"
   ]
  },
  {
   "cell_type": "code",
   "execution_count": 103,
   "id": "a864eab1",
   "metadata": {
    "ExecuteTime": {
     "end_time": "2023-01-27T10:49:49.878000+09:00",
     "start_time": "2023-01-27T01:49:40.952Z"
    }
   },
   "outputs": [
    {
     "data": {
      "text/plain": [
       "0"
      ]
     },
     "execution_count": 103,
     "metadata": {},
     "output_type": "execute_result"
    }
   ],
   "source": [
    "pop!(s, 0)"
   ]
  },
  {
   "cell_type": "code",
   "execution_count": 104,
   "id": "541eef3a",
   "metadata": {
    "ExecuteTime": {
     "end_time": "2023-01-27T10:49:49.880000+09:00",
     "start_time": "2023-01-27T01:49:40.955Z"
    }
   },
   "outputs": [
    {
     "data": {
      "text/plain": [
       "Set{Int64} with 7 elements:\n",
       "  5\n",
       "  4\n",
       "  6\n",
       "  2\n",
       "  9\n",
       "  3\n",
       "  1"
      ]
     },
     "execution_count": 104,
     "metadata": {},
     "output_type": "execute_result"
    }
   ],
   "source": [
    "s"
   ]
  },
  {
   "cell_type": "markdown",
   "id": "dc3f0617",
   "metadata": {},
   "source": [
    "#### タプル/名前付きタプル"
   ]
  },
  {
   "cell_type": "markdown",
   "id": "79e795fd",
   "metadata": {},
   "source": [
    "##### コード2-111. タプルの例（定義・インデクシング参照）"
   ]
  },
  {
   "cell_type": "code",
   "execution_count": 105,
   "id": "00ab92a7",
   "metadata": {
    "ExecuteTime": {
     "end_time": "2023-01-27T10:49:50.136000+09:00",
     "start_time": "2023-01-27T01:49:40.958Z"
    }
   },
   "outputs": [
    {
     "data": {
      "text/plain": [
       "('a', 2, 99.9, π)"
      ]
     },
     "execution_count": 105,
     "metadata": {},
     "output_type": "execute_result"
    }
   ],
   "source": [
    "t = ('a', 2, 99.9, π)"
   ]
  },
  {
   "cell_type": "code",
   "execution_count": 106,
   "id": "fe1567b5",
   "metadata": {
    "ExecuteTime": {
     "end_time": "2023-01-27T10:49:50.389000+09:00",
     "start_time": "2023-01-27T01:49:40.962Z"
    }
   },
   "outputs": [
    {
     "data": {
      "text/plain": [
       "'a': ASCII/Unicode U+0061 (category Ll: Letter, lowercase)"
      ]
     },
     "execution_count": 106,
     "metadata": {},
     "output_type": "execute_result"
    }
   ],
   "source": [
    "t[1]"
   ]
  },
  {
   "cell_type": "code",
   "execution_count": 107,
   "id": "2890c86b",
   "metadata": {
    "ExecuteTime": {
     "end_time": "2023-01-27T10:49:50.595000+09:00",
     "start_time": "2023-01-27T01:49:40.964Z"
    }
   },
   "outputs": [
    {
     "data": {
      "text/plain": [
       "π = 3.1415926535897..."
      ]
     },
     "execution_count": 107,
     "metadata": {},
     "output_type": "execute_result"
    }
   ],
   "source": [
    "t[4]"
   ]
  },
  {
   "cell_type": "code",
   "execution_count": 108,
   "id": "5f4405dd",
   "metadata": {
    "ExecuteTime": {
     "end_time": "2023-01-27T10:49:50.605000+09:00",
     "start_time": "2023-01-27T01:49:40.966Z"
    }
   },
   "outputs": [
    {
     "ename": "LoadError",
     "evalue": "MethodError: no method matching setindex!(::Tuple{Char, Int64, Float64, Irrational{:π}}, ::Float64, ::Int64)",
     "output_type": "error",
     "traceback": [
      "MethodError: no method matching setindex!(::Tuple{Char, Int64, Float64, Irrational{:π}}, ::Float64, ::Int64)",
      "",
      "Stacktrace:",
      " [1] top-level scope",
      "   @ In[108]:1"
     ]
    }
   ],
   "source": [
    "t[3] = 10.0"
   ]
  },
  {
   "cell_type": "code",
   "execution_count": 109,
   "id": "d8b9bb3c",
   "metadata": {
    "ExecuteTime": {
     "end_time": "2023-01-27T10:49:50.628000+09:00",
     "start_time": "2023-01-27T01:49:40.969Z"
    }
   },
   "outputs": [
    {
     "ename": "LoadError",
     "evalue": "MethodError: no method matching push!(::Tuple{Char, Int64, Float64, Irrational{:π}}, ::String)\n\u001b[0mClosest candidates are:\n\u001b[0m  push!(::Any, ::Any, \u001b[91m::Any\u001b[39m) at abstractarray.jl:3059\n\u001b[0m  push!(::Any, ::Any, \u001b[91m::Any\u001b[39m, \u001b[91m::Any...\u001b[39m) at abstractarray.jl:3060\n\u001b[0m  push!(\u001b[91m::Base.InvasiveLinkedList{Base.LinkedListItem{T}}\u001b[39m, ::T) where T at linked_list.jl:138\n\u001b[0m  ...",
     "output_type": "error",
     "traceback": [
      "MethodError: no method matching push!(::Tuple{Char, Int64, Float64, Irrational{:π}}, ::String)\n\u001b[0mClosest candidates are:\n\u001b[0m  push!(::Any, ::Any, \u001b[91m::Any\u001b[39m) at abstractarray.jl:3059\n\u001b[0m  push!(::Any, ::Any, \u001b[91m::Any\u001b[39m, \u001b[91m::Any...\u001b[39m) at abstractarray.jl:3060\n\u001b[0m  push!(\u001b[91m::Base.InvasiveLinkedList{Base.LinkedListItem{T}}\u001b[39m, ::T) where T at linked_list.jl:138\n\u001b[0m  ...",
      "",
      "Stacktrace:",
      " [1] top-level scope",
      "   @ In[109]:1"
     ]
    }
   ],
   "source": [
    "push!(t, \"Not Available\")"
   ]
  },
  {
   "cell_type": "markdown",
   "id": "e5468ca8",
   "metadata": {},
   "source": [
    "##### コード2-112. 名前付きタプルの例（定義・インデクシング参照・キー参照・プロパティ参照）"
   ]
  },
  {
   "cell_type": "code",
   "execution_count": 110,
   "id": "5b0734c5",
   "metadata": {
    "ExecuteTime": {
     "end_time": "2023-01-27T10:49:50.864000+09:00",
     "start_time": "2023-01-27T01:49:40.972Z"
    }
   },
   "outputs": [
    {
     "data": {
      "text/plain": [
       "(c = 'a', i = 2, f = 99.9, pi = π)"
      ]
     },
     "execution_count": 110,
     "metadata": {},
     "output_type": "execute_result"
    }
   ],
   "source": [
    "nt = (c='a', i=2, f=99.9, pi=π)"
   ]
  },
  {
   "cell_type": "code",
   "execution_count": 111,
   "id": "30fa137d",
   "metadata": {
    "ExecuteTime": {
     "end_time": "2023-01-27T10:49:50.869000+09:00",
     "start_time": "2023-01-27T01:49:40.974Z"
    }
   },
   "outputs": [
    {
     "data": {
      "text/plain": [
       "'a': ASCII/Unicode U+0061 (category Ll: Letter, lowercase)"
      ]
     },
     "execution_count": 111,
     "metadata": {},
     "output_type": "execute_result"
    }
   ],
   "source": [
    "nt.c"
   ]
  },
  {
   "cell_type": "code",
   "execution_count": 112,
   "id": "37183213",
   "metadata": {
    "ExecuteTime": {
     "end_time": "2023-01-27T10:49:50.873000+09:00",
     "start_time": "2023-01-27T01:49:40.976Z"
    }
   },
   "outputs": [
    {
     "data": {
      "text/plain": [
       "2"
      ]
     },
     "execution_count": 112,
     "metadata": {},
     "output_type": "execute_result"
    }
   ],
   "source": [
    "nt[:i]"
   ]
  },
  {
   "cell_type": "code",
   "execution_count": 113,
   "id": "09c917ba",
   "metadata": {
    "ExecuteTime": {
     "end_time": "2023-01-27T10:49:50.877000+09:00",
     "start_time": "2023-01-27T01:49:40.978Z"
    }
   },
   "outputs": [
    {
     "data": {
      "text/plain": [
       "99.9"
      ]
     },
     "execution_count": 113,
     "metadata": {},
     "output_type": "execute_result"
    }
   ],
   "source": [
    "nt[3]"
   ]
  },
  {
   "cell_type": "code",
   "execution_count": 114,
   "id": "b5c48392",
   "metadata": {
    "ExecuteTime": {
     "end_time": "2023-01-27T10:49:50.932000+09:00",
     "start_time": "2023-01-27T01:49:40.981Z"
    }
   },
   "outputs": [
    {
     "ename": "LoadError",
     "evalue": "type NamedTuple has no field notexists",
     "output_type": "error",
     "traceback": [
      "type NamedTuple has no field notexists",
      "",
      "Stacktrace:",
      " [1] getproperty(x::NamedTuple{(:c, :i, :f, :pi), Tuple{Char, Int64, Float64, Irrational{:π}}}, f::Symbol)",
      "   @ Base ./Base.jl:38",
      " [2] top-level scope",
      "   @ In[114]:1"
     ]
    }
   ],
   "source": [
    "nt.notexists"
   ]
  },
  {
   "cell_type": "code",
   "execution_count": 115,
   "id": "0706729e",
   "metadata": {
    "ExecuteTime": {
     "end_time": "2023-01-27T10:49:50.944000+09:00",
     "start_time": "2023-01-27T01:49:40.983Z"
    }
   },
   "outputs": [
    {
     "ename": "LoadError",
     "evalue": "setfield!: immutable struct of type NamedTuple cannot be changed",
     "output_type": "error",
     "traceback": [
      "setfield!: immutable struct of type NamedTuple cannot be changed",
      "",
      "Stacktrace:",
      " [1] setproperty!(x::NamedTuple{(:c, :i, :f, :pi), Tuple{Char, Int64, Float64, Irrational{:π}}}, f::Symbol, v::Float64)",
      "   @ Base ./Base.jl:39",
      " [2] top-level scope",
      "   @ In[115]:1"
     ]
    }
   ],
   "source": [
    "nt.f = 10.0"
   ]
  },
  {
   "cell_type": "code",
   "execution_count": 116,
   "id": "fa400da0",
   "metadata": {
    "ExecuteTime": {
     "end_time": "2023-01-27T10:49:50.954000+09:00",
     "start_time": "2023-01-27T01:49:40.986Z"
    }
   },
   "outputs": [
    {
     "ename": "LoadError",
     "evalue": "MethodError: no method matching setindex!(::NamedTuple{(:c, :i, :f, :pi), Tuple{Char, Int64, Float64, Irrational{:π}}}, ::String, ::Symbol)",
     "output_type": "error",
     "traceback": [
      "MethodError: no method matching setindex!(::NamedTuple{(:c, :i, :f, :pi), Tuple{Char, Int64, Float64, Irrational{:π}}}, ::String, ::Symbol)",
      "",
      "Stacktrace:",
      " [1] top-level scope",
      "   @ In[116]:1"
     ]
    }
   ],
   "source": [
    "nt[:notexists] = \"New Value\""
   ]
  },
  {
   "cell_type": "markdown",
   "id": "d2b6b01e",
   "metadata": {},
   "source": [
    "### 2-7-4. 文字列型"
   ]
  },
  {
   "cell_type": "markdown",
   "id": "de10d7c6",
   "metadata": {},
   "source": [
    "#### コード2-113. 文字列型の例"
   ]
  },
  {
   "cell_type": "code",
   "execution_count": 117,
   "id": "f697ddb2",
   "metadata": {
    "ExecuteTime": {
     "end_time": "2023-01-27T10:49:51.343000+09:00",
     "start_time": "2023-01-27T01:49:40.989Z"
    }
   },
   "outputs": [
    {
     "data": {
      "text/plain": [
       "\"abcあいう😄漢字\""
      ]
     },
     "execution_count": 117,
     "metadata": {},
     "output_type": "execute_result"
    }
   ],
   "source": [
    "str = \"abcあいう😄漢字\""
   ]
  },
  {
   "cell_type": "code",
   "execution_count": 118,
   "id": "2334e662",
   "metadata": {
    "ExecuteTime": {
     "end_time": "2023-01-27T10:49:51.347000+09:00",
     "start_time": "2023-01-27T01:49:40.992Z"
    }
   },
   "outputs": [
    {
     "data": {
      "text/plain": [
       "'a': ASCII/Unicode U+0061 (category Ll: Letter, lowercase)"
      ]
     },
     "execution_count": 118,
     "metadata": {},
     "output_type": "execute_result"
    }
   ],
   "source": [
    "str[1]"
   ]
  },
  {
   "cell_type": "code",
   "execution_count": 119,
   "id": "ad044199",
   "metadata": {
    "ExecuteTime": {
     "end_time": "2023-01-27T10:49:51.348000+09:00",
     "start_time": "2023-01-27T01:49:40.994Z"
    }
   },
   "outputs": [
    {
     "data": {
      "text/plain": [
       "'あ': Unicode U+3042 (category Lo: Letter, other)"
      ]
     },
     "execution_count": 119,
     "metadata": {},
     "output_type": "execute_result"
    }
   ],
   "source": [
    "str[4]"
   ]
  },
  {
   "cell_type": "code",
   "execution_count": 120,
   "id": "bd59a489",
   "metadata": {
    "ExecuteTime": {
     "end_time": "2023-01-27T10:49:51.348000+09:00",
     "start_time": "2023-01-27T01:49:40.996Z"
    }
   },
   "outputs": [
    {
     "data": {
      "text/plain": [
       "'い': Unicode U+3044 (category Lo: Letter, other)"
      ]
     },
     "execution_count": 120,
     "metadata": {},
     "output_type": "execute_result"
    }
   ],
   "source": [
    "str[7]"
   ]
  },
  {
   "cell_type": "code",
   "execution_count": 121,
   "id": "f1413749",
   "metadata": {
    "ExecuteTime": {
     "end_time": "2023-01-27T10:49:51.349000+09:00",
     "start_time": "2023-01-27T01:49:40.999Z"
    }
   },
   "outputs": [
    {
     "data": {
      "text/plain": [
       "'😄': Unicode U+1F604 (category So: Symbol, other)"
      ]
     },
     "execution_count": 121,
     "metadata": {},
     "output_type": "execute_result"
    }
   ],
   "source": [
    "str[13]"
   ]
  },
  {
   "cell_type": "code",
   "execution_count": 122,
   "id": "4fca9b7b",
   "metadata": {
    "ExecuteTime": {
     "end_time": "2023-01-27T10:49:51.349000+09:00",
     "start_time": "2023-01-27T01:49:41.001Z"
    }
   },
   "outputs": [
    {
     "data": {
      "text/plain": [
       "'漢': Unicode U+6F22 (category Lo: Letter, other)"
      ]
     },
     "execution_count": 122,
     "metadata": {},
     "output_type": "execute_result"
    }
   ],
   "source": [
    "str[17]"
   ]
  },
  {
   "cell_type": "code",
   "execution_count": 123,
   "id": "c4b5aae1",
   "metadata": {
    "ExecuteTime": {
     "end_time": "2023-01-27T10:49:51.416000+09:00",
     "start_time": "2023-01-27T01:49:41.004Z"
    },
    "scrolled": true
   },
   "outputs": [
    {
     "ename": "LoadError",
     "evalue": "StringIndexError: invalid index [12], valid nearby indices [10]=>'う', [13]=>'😄'",
     "output_type": "error",
     "traceback": [
      "StringIndexError: invalid index [12], valid nearby indices [10]=>'う', [13]=>'😄'",
      "",
      "Stacktrace:",
      " [1] string_index_err(s::String, i::Int64)",
      "   @ Base ./strings/string.jl:12",
      " [2] getindex_continued(s::String, i::Int64, u::UInt32)",
      "   @ Base ./strings/string.jl:237",
      " [3] getindex(s::String, i::Int64)",
      "   @ Base ./strings/string.jl:230",
      " [4] top-level scope",
      "   @ In[123]:1"
     ]
    }
   ],
   "source": [
    "str[12]"
   ]
  },
  {
   "cell_type": "markdown",
   "id": "721262f8",
   "metadata": {},
   "source": [
    "### 2-7-5. 型アノテーション"
   ]
  },
  {
   "cell_type": "markdown",
   "id": "d2d88607",
   "metadata": {},
   "source": [
    "#### コード2-95. 複合型の例(1)：簡単な定義例（再掲）"
   ]
  },
  {
   "cell_type": "markdown",
   "id": "237d93c4",
   "metadata": {},
   "source": [
    "```julia\n",
    "julia> struct Point\n",
    "           x\n",
    "           y\n",
    "       end\n",
    "\n",
    "julia> pt = Point(1.0, 2.0)\n",
    "Point(1.0, 2.0)\n",
    "\n",
    "julia> pt.x\n",
    "1.0\n",
    "\n",
    "julia> pt.y\n",
    "2.0\n",
    "```"
   ]
  },
  {
   "cell_type": "markdown",
   "id": "188f8c31",
   "metadata": {},
   "source": [
    "#### コード2-114. 型アノテーション(1)：複合型のフィールドへの型アノテーション"
   ]
  },
  {
   "cell_type": "code",
   "execution_count": 124,
   "id": "4045bed8",
   "metadata": {
    "ExecuteTime": {
     "end_time": "2023-01-27T10:49:51.417000+09:00",
     "start_time": "2023-01-27T01:49:41.009Z"
    }
   },
   "outputs": [],
   "source": [
    "struct IntPoint\n",
    "    x::Int\n",
    "    y::Int\n",
    "end"
   ]
  },
  {
   "cell_type": "code",
   "execution_count": 125,
   "id": "0f793c80",
   "metadata": {
    "ExecuteTime": {
     "end_time": "2023-01-27T10:49:51.613000+09:00",
     "start_time": "2023-01-27T01:49:41.011Z"
    }
   },
   "outputs": [
    {
     "data": {
      "text/plain": [
       "IntPoint(1, 3)"
      ]
     },
     "execution_count": 125,
     "metadata": {},
     "output_type": "execute_result"
    }
   ],
   "source": [
    "IntPoint(1, 3)"
   ]
  },
  {
   "cell_type": "code",
   "execution_count": 126,
   "id": "8f0b9840",
   "metadata": {
    "ExecuteTime": {
     "end_time": "2023-01-27T10:49:51.637000+09:00",
     "start_time": "2023-01-27T01:49:41.014Z"
    },
    "scrolled": true
   },
   "outputs": [
    {
     "ename": "LoadError",
     "evalue": "InexactError: Int64(3.2)",
     "output_type": "error",
     "traceback": [
      "InexactError: Int64(3.2)",
      "",
      "Stacktrace:",
      " [1] Int64",
      "   @ ./float.jl:788 [inlined]",
      " [2] convert",
      "   @ ./number.jl:7 [inlined]",
      " [3] IntPoint(x::Float64, y::Float64)",
      "   @ Main ./In[124]:2",
      " [4] top-level scope",
      "   @ In[126]:1"
     ]
    }
   ],
   "source": [
    "IntPoint(2.0, 3.2)"
   ]
  },
  {
   "cell_type": "markdown",
   "id": "84f6f8fc",
   "metadata": {},
   "source": [
    "#### コード2-115. 型アノテーション(2)：ローカル変数への型アノテーション（＝変数の型の指定）"
   ]
  },
  {
   "cell_type": "code",
   "execution_count": 127,
   "id": "0245a954",
   "metadata": {
    "ExecuteTime": {
     "end_time": "2023-01-27T10:49:51.802000+09:00",
     "start_time": "2023-01-27T01:49:41.017Z"
    }
   },
   "outputs": [
    {
     "data": {
      "text/plain": [
       "typeannotatesample (generic function with 1 method)"
      ]
     },
     "execution_count": 127,
     "metadata": {},
     "output_type": "execute_result"
    }
   ],
   "source": [
    "function typeannotatesample()\n",
    "    n::Int = 0\n",
    "    n = 3.0\n",
    "    n\n",
    "end"
   ]
  },
  {
   "cell_type": "code",
   "execution_count": 128,
   "id": "93de1d44",
   "metadata": {
    "ExecuteTime": {
     "end_time": "2023-01-27T10:49:51.807000+09:00",
     "start_time": "2023-01-27T01:49:41.019Z"
    }
   },
   "outputs": [
    {
     "data": {
      "text/plain": [
       "3"
      ]
     },
     "execution_count": 128,
     "metadata": {},
     "output_type": "execute_result"
    }
   ],
   "source": [
    "result = typeannotatesample()"
   ]
  },
  {
   "cell_type": "code",
   "execution_count": 129,
   "id": "8062426e",
   "metadata": {
    "ExecuteTime": {
     "end_time": "2023-01-27T10:49:51.808000+09:00",
     "start_time": "2023-01-27T01:49:41.021Z"
    }
   },
   "outputs": [
    {
     "data": {
      "text/plain": [
       "Int64"
      ]
     },
     "execution_count": 129,
     "metadata": {},
     "output_type": "execute_result"
    }
   ],
   "source": [
    "typeof(result)"
   ]
  },
  {
   "cell_type": "markdown",
   "id": "8b630f5e",
   "metadata": {},
   "source": [
    "#### コード2-116. 型アノテーション(3)：式への型アノテーション（＝型検査）"
   ]
  },
  {
   "cell_type": "code",
   "execution_count": 130,
   "id": "ad025352",
   "metadata": {
    "ExecuteTime": {
     "end_time": "2023-01-27T10:49:51.885000+09:00",
     "start_time": "2023-01-27T01:49:41.024Z"
    }
   },
   "outputs": [
    {
     "data": {
      "text/plain": [
       "typeassertsample (generic function with 1 method)"
      ]
     },
     "execution_count": 130,
     "metadata": {},
     "output_type": "execute_result"
    }
   ],
   "source": [
    "function typeassertsample(fn::Function)\n",
    "    n = fn()::Int\n",
    "    n\n",
    "end"
   ]
  },
  {
   "cell_type": "code",
   "execution_count": 131,
   "id": "904cd889",
   "metadata": {
    "ExecuteTime": {
     "end_time": "2023-01-27T10:49:51.886000+09:00",
     "start_time": "2023-01-27T01:49:41.026Z"
    }
   },
   "outputs": [
    {
     "data": {
      "text/plain": [
       "3"
      ]
     },
     "execution_count": 131,
     "metadata": {},
     "output_type": "execute_result"
    }
   ],
   "source": [
    "typeassertsample() do\n",
    "    1 + 2\n",
    "end"
   ]
  },
  {
   "cell_type": "code",
   "execution_count": 132,
   "id": "7b4b770e",
   "metadata": {
    "ExecuteTime": {
     "end_time": "2023-01-27T10:49:51.962000+09:00",
     "start_time": "2023-01-27T01:49:41.029Z"
    }
   },
   "outputs": [
    {
     "ename": "LoadError",
     "evalue": "TypeError: in typeassert, expected Int64, got a value of type Float64",
     "output_type": "error",
     "traceback": [
      "TypeError: in typeassert, expected Int64, got a value of type Float64",
      "",
      "Stacktrace:",
      " [1] typeassertsample(fn::var\"#7#8\")",
      "   @ Main ./In[130]:2",
      " [2] top-level scope",
      "   @ In[132]:1"
     ]
    }
   ],
   "source": [
    "typeassertsample() do\n",
    "    sin(π)\n",
    "end"
   ]
  },
  {
   "cell_type": "code",
   "execution_count": null,
   "id": "17fa59e1",
   "metadata": {},
   "outputs": [],
   "source": []
  }
 ],
 "metadata": {
  "jupytext": {
   "formats": "ipynb,auto:light"
  },
  "kernelspec": {
   "display_name": "Julia 1.8.5",
   "language": "julia",
   "name": "julia-1.8"
  },
  "language_info": {
   "file_extension": ".jl",
   "mimetype": "application/julia",
   "name": "julia",
   "version": "1.8.5"
  }
 },
 "nbformat": 4,
 "nbformat_minor": 5
}
