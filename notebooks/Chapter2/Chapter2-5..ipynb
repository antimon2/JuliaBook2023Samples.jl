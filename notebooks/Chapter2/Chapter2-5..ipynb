{
 "cells": [
  {
   "cell_type": "code",
   "execution_count": 1,
   "id": "57c17d9e",
   "metadata": {
    "ExecuteTime": {
     "end_time": "2023-01-26T22:52:01.229000+09:00",
     "start_time": "2023-01-26T13:52:00.041Z"
    }
   },
   "outputs": [
    {
     "name": "stdout",
     "output_type": "stream",
     "text": [
      "Julia Version 1.8.5\n",
      "Commit 17cfb8e65ea (2023-01-08 06:45 UTC)\n",
      "Platform Info:\n",
      "  OS: Linux (x86_64-linux-gnu)\n",
      "  CPU: 12 × Intel(R) Core(TM) i7-9750H CPU @ 2.60GHz\n",
      "  WORD_SIZE: 64\n",
      "  LIBM: libopenlibm\n",
      "  LLVM: libLLVM-13.0.1 (ORCJIT, skylake)\n",
      "  Threads: 4 on 12 virtual cores\n",
      "Environment:\n",
      "  JULIA_NUM_THREADS = 4\n"
     ]
    }
   ],
   "source": [
    "versioninfo()"
   ]
  },
  {
   "cell_type": "markdown",
   "id": "89dd6bdd",
   "metadata": {},
   "source": [
    "## 2-5. 制御構文"
   ]
  },
  {
   "cell_type": "markdown",
   "id": "d7fc23c2",
   "metadata": {},
   "source": [
    "### 2-5-1. 条件分岐"
   ]
  },
  {
   "cell_type": "markdown",
   "id": "7c8578c1",
   "metadata": {},
   "source": [
    "#### コード2-64. `if` の使用例(1)"
   ]
  },
  {
   "cell_type": "code",
   "execution_count": 2,
   "id": "8e0380f1",
   "metadata": {
    "ExecuteTime": {
     "end_time": "2023-01-26T22:52:01.636000+09:00",
     "start_time": "2023-01-26T13:52:00.047Z"
    }
   },
   "outputs": [
    {
     "data": {
      "text/plain": [
       "test1 (generic function with 1 method)"
      ]
     },
     "execution_count": 2,
     "metadata": {},
     "output_type": "execute_result"
    }
   ],
   "source": [
    "function test1(x, y)\n",
    "    if x < y\n",
    "        println(\"x は y より小さい\")\n",
    "    elseif x > y\n",
    "        println(\"x は y より大きい\")\n",
    "    else\n",
    "        println(\"x と y は等しい\")\n",
    "    end\n",
    "end"
   ]
  },
  {
   "cell_type": "code",
   "execution_count": 3,
   "id": "44c4a36a",
   "metadata": {
    "ExecuteTime": {
     "end_time": "2023-01-26T22:52:01.644000+09:00",
     "start_time": "2023-01-26T13:52:00.049Z"
    }
   },
   "outputs": [
    {
     "name": "stdout",
     "output_type": "stream",
     "text": [
      "x は y より小さい\n"
     ]
    }
   ],
   "source": [
    "test1(1, 2)"
   ]
  },
  {
   "cell_type": "code",
   "execution_count": 4,
   "id": "15258658",
   "metadata": {
    "ExecuteTime": {
     "end_time": "2023-01-26T22:52:01.645000+09:00",
     "start_time": "2023-01-26T13:52:00.050Z"
    }
   },
   "outputs": [
    {
     "name": "stdout",
     "output_type": "stream",
     "text": [
      "x は y より大きい\n"
     ]
    }
   ],
   "source": [
    "test1(1, 0)"
   ]
  },
  {
   "cell_type": "code",
   "execution_count": 5,
   "id": "777af051",
   "metadata": {
    "ExecuteTime": {
     "end_time": "2023-01-26T22:52:01.645000+09:00",
     "start_time": "2023-01-26T13:52:00.052Z"
    }
   },
   "outputs": [
    {
     "name": "stdout",
     "output_type": "stream",
     "text": [
      "x と y は等しい\n"
     ]
    }
   ],
   "source": [
    "test1(99, 99)"
   ]
  },
  {
   "cell_type": "markdown",
   "id": "0dd7beac",
   "metadata": {},
   "source": [
    "#### コード2-65. `if` の使用例(2)"
   ]
  },
  {
   "cell_type": "code",
   "execution_count": 6,
   "id": "388c1200",
   "metadata": {
    "ExecuteTime": {
     "end_time": "2023-01-26T22:52:01.712000+09:00",
     "start_time": "2023-01-26T13:52:00.054Z"
    }
   },
   "outputs": [
    {
     "data": {
      "text/plain": [
       "test2 (generic function with 1 method)"
      ]
     },
     "execution_count": 6,
     "metadata": {},
     "output_type": "execute_result"
    }
   ],
   "source": [
    "function test2(x, y)\n",
    "    result = if x < y\n",
    "        \"x は y より小さい\"\n",
    "    elseif x > y\n",
    "        \"x は y より大きい\"\n",
    "    else\n",
    "        \"x と y は等しい\"\n",
    "    end\n",
    "    println(result)\n",
    "end"
   ]
  },
  {
   "cell_type": "code",
   "execution_count": 7,
   "id": "da3e0c89",
   "metadata": {
    "ExecuteTime": {
     "end_time": "2023-01-26T22:52:01.715000+09:00",
     "start_time": "2023-01-26T13:52:00.055Z"
    }
   },
   "outputs": [
    {
     "name": "stdout",
     "output_type": "stream",
     "text": [
      "x は y より小さい\n"
     ]
    }
   ],
   "source": [
    "test2(1, 2)"
   ]
  },
  {
   "cell_type": "code",
   "execution_count": 8,
   "id": "e5c00464",
   "metadata": {
    "ExecuteTime": {
     "end_time": "2023-01-26T22:52:01.716000+09:00",
     "start_time": "2023-01-26T13:52:00.057Z"
    }
   },
   "outputs": [
    {
     "name": "stdout",
     "output_type": "stream",
     "text": [
      "x は y より大きい\n"
     ]
    }
   ],
   "source": [
    "test2(1, 0)"
   ]
  },
  {
   "cell_type": "code",
   "execution_count": 9,
   "id": "cff980c1",
   "metadata": {
    "ExecuteTime": {
     "end_time": "2023-01-26T22:52:01.716000+09:00",
     "start_time": "2023-01-26T13:52:00.059Z"
    }
   },
   "outputs": [
    {
     "name": "stdout",
     "output_type": "stream",
     "text": [
      "x と y は等しい\n"
     ]
    }
   ],
   "source": [
    "test2(99, 99)"
   ]
  },
  {
   "cell_type": "markdown",
   "id": "395063b6",
   "metadata": {},
   "source": [
    "#### コード2-66. 三項演算子（条件分岐演算子）の使用例"
   ]
  },
  {
   "cell_type": "code",
   "execution_count": 10,
   "id": "36e9ff84",
   "metadata": {
    "ExecuteTime": {
     "end_time": "2023-01-26T22:52:01.835000+09:00",
     "start_time": "2023-01-26T13:52:00.062Z"
    }
   },
   "outputs": [
    {
     "data": {
      "text/plain": [
       "test3 (generic function with 1 method)"
      ]
     },
     "execution_count": 10,
     "metadata": {},
     "output_type": "execute_result"
    }
   ],
   "source": [
    "function test3(x, y)\n",
    "    result = x < y ? \"x は y より小さい\" : \n",
    "        x > y ? \"x は y より大きい\" : \"x と y は等しい\"\n",
    "    println(result)\n",
    "end"
   ]
  },
  {
   "cell_type": "code",
   "execution_count": 11,
   "id": "6e84a195",
   "metadata": {
    "ExecuteTime": {
     "end_time": "2023-01-26T22:52:01.838000+09:00",
     "start_time": "2023-01-26T13:52:00.063Z"
    }
   },
   "outputs": [
    {
     "name": "stdout",
     "output_type": "stream",
     "text": [
      "x は y より小さい\n"
     ]
    }
   ],
   "source": [
    "test3(1, 2)"
   ]
  },
  {
   "cell_type": "code",
   "execution_count": 12,
   "id": "b74317ce",
   "metadata": {
    "ExecuteTime": {
     "end_time": "2023-01-26T22:52:01.838000+09:00",
     "start_time": "2023-01-26T13:52:00.065Z"
    }
   },
   "outputs": [
    {
     "name": "stdout",
     "output_type": "stream",
     "text": [
      "x は y より大きい\n"
     ]
    }
   ],
   "source": [
    "test3(1, 0)"
   ]
  },
  {
   "cell_type": "code",
   "execution_count": 13,
   "id": "d39c54bb",
   "metadata": {
    "ExecuteTime": {
     "end_time": "2023-01-26T22:52:01.839000+09:00",
     "start_time": "2023-01-26T13:52:00.067Z"
    }
   },
   "outputs": [
    {
     "name": "stdout",
     "output_type": "stream",
     "text": [
      "x と y は等しい\n"
     ]
    }
   ],
   "source": [
    "test3(99, 99)"
   ]
  },
  {
   "cell_type": "markdown",
   "id": "c3f55060",
   "metadata": {},
   "source": [
    "#### コード2-67. 論理演算子による短絡評価の例"
   ]
  },
  {
   "cell_type": "code",
   "execution_count": 14,
   "id": "d00a7107",
   "metadata": {
    "ExecuteTime": {
     "end_time": "2023-01-26T22:52:01.904000+09:00",
     "start_time": "2023-01-26T13:52:00.069Z"
    }
   },
   "outputs": [
    {
     "data": {
      "text/plain": [
       "test4 (generic function with 1 method)"
      ]
     },
     "execution_count": 14,
     "metadata": {},
     "output_type": "execute_result"
    }
   ],
   "source": [
    "function test4(x, y)\n",
    "    x < y && return \"x は y より小さい\"\n",
    "    x > y && return \"x は y より大きい\"\n",
    "    \"x と y は等しい\"\n",
    "end"
   ]
  },
  {
   "cell_type": "code",
   "execution_count": 15,
   "id": "9b1a1eb9",
   "metadata": {
    "ExecuteTime": {
     "end_time": "2023-01-26T22:52:01.907000+09:00",
     "start_time": "2023-01-26T13:52:00.070Z"
    }
   },
   "outputs": [
    {
     "name": "stdout",
     "output_type": "stream",
     "text": [
      "x は y より小さい\n"
     ]
    }
   ],
   "source": [
    "println(test4(1, 2))"
   ]
  },
  {
   "cell_type": "code",
   "execution_count": 16,
   "id": "c085a720",
   "metadata": {
    "ExecuteTime": {
     "end_time": "2023-01-26T22:52:01.908000+09:00",
     "start_time": "2023-01-26T13:52:00.072Z"
    }
   },
   "outputs": [
    {
     "name": "stdout",
     "output_type": "stream",
     "text": [
      "x は y より大きい\n"
     ]
    }
   ],
   "source": [
    "println(test4(1, 0))"
   ]
  },
  {
   "cell_type": "code",
   "execution_count": 17,
   "id": "0ff8f786",
   "metadata": {
    "ExecuteTime": {
     "end_time": "2023-01-26T22:52:01.908000+09:00",
     "start_time": "2023-01-26T13:52:00.073Z"
    }
   },
   "outputs": [
    {
     "name": "stdout",
     "output_type": "stream",
     "text": [
      "x と y は等しい\n"
     ]
    }
   ],
   "source": [
    "println(test4(99, 99))"
   ]
  },
  {
   "cell_type": "markdown",
   "id": "f83d470d",
   "metadata": {},
   "source": [
    "### 2-5-2. 繰り返し"
   ]
  },
  {
   "cell_type": "markdown",
   "id": "222b44a4",
   "metadata": {},
   "source": [
    "#### コード2-68. `while` ループの例"
   ]
  },
  {
   "cell_type": "code",
   "execution_count": 18,
   "id": "3d999f2d",
   "metadata": {
    "ExecuteTime": {
     "end_time": "2023-01-26T22:52:01.980000+09:00",
     "start_time": "2023-01-26T13:52:00.075Z"
    }
   },
   "outputs": [
    {
     "data": {
      "text/plain": [
       "while_sample (generic function with 1 method)"
      ]
     },
     "execution_count": 18,
     "metadata": {},
     "output_type": "execute_result"
    }
   ],
   "source": [
    "function while_sample()\n",
    "    i = 0\n",
    "    while i ≤ 5\n",
    "        println(i)\n",
    "        i += 1\n",
    "    end\n",
    "end"
   ]
  },
  {
   "cell_type": "code",
   "execution_count": 19,
   "id": "526c3f15",
   "metadata": {
    "ExecuteTime": {
     "end_time": "2023-01-26T22:52:02+09:00",
     "start_time": "2023-01-26T13:52:00.077Z"
    }
   },
   "outputs": [
    {
     "name": "stdout",
     "output_type": "stream",
     "text": [
      "0\n",
      "1\n",
      "2\n",
      "3\n",
      "4\n",
      "5\n"
     ]
    }
   ],
   "source": [
    "while_sample()"
   ]
  },
  {
   "cell_type": "markdown",
   "id": "e76903c3",
   "metadata": {},
   "source": [
    "#### コード2-69. `for` ループの例(1)：シンプルな例"
   ]
  },
  {
   "cell_type": "code",
   "execution_count": 20,
   "id": "9e4eea03",
   "metadata": {
    "ExecuteTime": {
     "end_time": "2023-01-26T22:52:02.065000+09:00",
     "start_time": "2023-01-26T13:52:00.079Z"
    }
   },
   "outputs": [
    {
     "data": {
      "text/plain": [
       "for_sample1 (generic function with 1 method)"
      ]
     },
     "execution_count": 20,
     "metadata": {},
     "output_type": "execute_result"
    }
   ],
   "source": [
    "function for_sample1()\n",
    "    for i = 0:5\n",
    "        println(i)\n",
    "    end\n",
    "end"
   ]
  },
  {
   "cell_type": "code",
   "execution_count": 21,
   "id": "60527658",
   "metadata": {
    "ExecuteTime": {
     "end_time": "2023-01-26T22:52:02.068000+09:00",
     "start_time": "2023-01-26T13:52:00.080Z"
    }
   },
   "outputs": [
    {
     "name": "stdout",
     "output_type": "stream",
     "text": [
      "0\n",
      "1\n",
      "2\n",
      "3\n",
      "4\n",
      "5\n"
     ]
    }
   ],
   "source": [
    "for_sample1()"
   ]
  },
  {
   "cell_type": "markdown",
   "id": "096654d0",
   "metadata": {},
   "source": [
    "#### コード2-70. `for` ループの例(2)：《in 節》の様々な表記例"
   ]
  },
  {
   "cell_type": "code",
   "execution_count": 22,
   "id": "940aef72",
   "metadata": {
    "ExecuteTime": {
     "end_time": "2023-01-26T22:52:02.078000+09:00",
     "start_time": "2023-01-26T13:52:00.082Z"
    }
   },
   "outputs": [
    {
     "name": "stdout",
     "output_type": "stream",
     "text": [
      "2\n",
      "3\n",
      "5\n",
      "7\n"
     ]
    }
   ],
   "source": [
    "for i = [2, 3, 5, 7]\n",
    "    println(i)\n",
    "end"
   ]
  },
  {
   "cell_type": "code",
   "execution_count": 23,
   "id": "e972dfed",
   "metadata": {
    "ExecuteTime": {
     "end_time": "2023-01-26T22:52:02.087000+09:00",
     "start_time": "2023-01-26T13:52:00.083Z"
    }
   },
   "outputs": [
    {
     "name": "stdout",
     "output_type": "stream",
     "text": [
      "2\n",
      "3\n",
      "5\n",
      "7\n"
     ]
    }
   ],
   "source": [
    "for i in [2, 3, 5, 7]\n",
    "    println(i)\n",
    "end"
   ]
  },
  {
   "cell_type": "code",
   "execution_count": 24,
   "id": "c12a18af",
   "metadata": {
    "ExecuteTime": {
     "end_time": "2023-01-26T22:52:02.095000+09:00",
     "start_time": "2023-01-26T13:52:00.085Z"
    }
   },
   "outputs": [
    {
     "name": "stdout",
     "output_type": "stream",
     "text": [
      "2\n",
      "3\n",
      "5\n",
      "7\n"
     ]
    }
   ],
   "source": [
    "for i ∈ [2, 3, 5, 7]\n",
    "    println(i)\n",
    "end"
   ]
  },
  {
   "cell_type": "markdown",
   "id": "478d24b9",
   "metadata": {},
   "source": [
    "#### コード2-71. `for` ループの例(3)：ネストと《in 節》の多重指定(1)"
   ]
  },
  {
   "cell_type": "code",
   "execution_count": 25,
   "id": "1acb2278",
   "metadata": {
    "ExecuteTime": {
     "end_time": "2023-01-26T22:52:02.153000+09:00",
     "start_time": "2023-01-26T13:52:00.086Z"
    }
   },
   "outputs": [
    {
     "name": "stdout",
     "output_type": "stream",
     "text": [
      "(1, 1)\n",
      "(1, 2)\n",
      "(2, 1)\n",
      "(2, 2)\n",
      "(3, 1)\n",
      "(3, 2)\n"
     ]
    }
   ],
   "source": [
    "for x = 1:3\n",
    "    for y = 1:2\n",
    "        println((x, y))\n",
    "    end\n",
    "end"
   ]
  },
  {
   "cell_type": "code",
   "execution_count": 26,
   "id": "1e8aabb0",
   "metadata": {
    "ExecuteTime": {
     "end_time": "2023-01-26T22:52:02.159000+09:00",
     "start_time": "2023-01-26T13:52:00.089Z"
    }
   },
   "outputs": [
    {
     "name": "stdout",
     "output_type": "stream",
     "text": [
      "(1, 1)\n",
      "(1, 2)\n",
      "(2, 1)\n",
      "(2, 2)\n",
      "(3, 1)\n",
      "(3, 2)\n"
     ]
    }
   ],
   "source": [
    "for x = 1:3, y = 1:2\n",
    "    println((x, y))\n",
    "end"
   ]
  },
  {
   "cell_type": "markdown",
   "id": "ac3f1cb4",
   "metadata": {},
   "source": [
    "#### コード2-72. `for` ループの例(4)：ネストと《in 節》の多重指定(2)"
   ]
  },
  {
   "cell_type": "code",
   "execution_count": 27,
   "id": "5645f11f",
   "metadata": {
    "ExecuteTime": {
     "end_time": "2023-01-26T22:52:02.167000+09:00",
     "start_time": "2023-01-26T13:52:00.092Z"
    }
   },
   "outputs": [
    {
     "name": "stdout",
     "output_type": "stream",
     "text": [
      "(1, 1)\n",
      "(2, 1)\n",
      "(2, 2)\n",
      "(3, 1)\n",
      "(3, 2)\n",
      "(3, 3)\n"
     ]
    }
   ],
   "source": [
    "for x = 1:3\n",
    "    for y = 1:x\n",
    "        println((x, y))\n",
    "    end\n",
    "end"
   ]
  },
  {
   "cell_type": "code",
   "execution_count": 28,
   "id": "01b54cc5",
   "metadata": {
    "ExecuteTime": {
     "end_time": "2023-01-26T22:52:02.175000+09:00",
     "start_time": "2023-01-26T13:52:00.094Z"
    }
   },
   "outputs": [
    {
     "name": "stdout",
     "output_type": "stream",
     "text": [
      "(1, 1)\n",
      "(2, 1)\n",
      "(2, 2)\n",
      "(3, 1)\n",
      "(3, 2)\n",
      "(3, 3)\n"
     ]
    }
   ],
   "source": [
    "for x = 1:3, y = 1:x\n",
    "    println((x, y))\n",
    "end"
   ]
  },
  {
   "cell_type": "markdown",
   "id": "b77881d4",
   "metadata": {},
   "source": [
    "#### コード2-73. `for` ループの例(5)：《in 節》における分割代入"
   ]
  },
  {
   "cell_type": "code",
   "execution_count": 29,
   "id": "c481239e",
   "metadata": {
    "ExecuteTime": {
     "end_time": "2023-01-26T22:52:02.187000+09:00",
     "start_time": "2023-01-26T13:52:00.096Z"
    }
   },
   "outputs": [],
   "source": [
    "d = Dict(:a => 1, :b => 2, :c => 3);"
   ]
  },
  {
   "cell_type": "code",
   "execution_count": 30,
   "id": "3c1b736f",
   "metadata": {
    "ExecuteTime": {
     "end_time": "2023-01-26T22:52:02.213000+09:00",
     "start_time": "2023-01-26T13:52:00.098Z"
    }
   },
   "outputs": [
    {
     "name": "stdout",
     "output_type": "stream",
     "text": [
      "a: 1\n",
      "b: 2\n",
      "c: 3\n"
     ]
    }
   ],
   "source": [
    "for (key, value) in d\n",
    "    println(\"$key: $value\")\n",
    "end"
   ]
  },
  {
   "cell_type": "markdown",
   "id": "961ba9b9",
   "metadata": {},
   "source": [
    "#### コード2-74. `break` と `continue`"
   ]
  },
  {
   "cell_type": "code",
   "execution_count": 31,
   "id": "35e52049",
   "metadata": {
    "ExecuteTime": {
     "end_time": "2023-01-26T22:52:02.285000+09:00",
     "start_time": "2023-01-26T13:52:00.100Z"
    }
   },
   "outputs": [
    {
     "data": {
      "text/plain": [
       "while_sample2 (generic function with 1 method)"
      ]
     },
     "execution_count": 31,
     "metadata": {},
     "output_type": "execute_result"
    }
   ],
   "source": [
    "function while_sample2()\n",
    "    i = 1\n",
    "    s = 0\n",
    "    while true\n",
    "        println(s)\n",
    "        s ≥ 100 && break\n",
    "        s += 2i - 1\n",
    "        i += 1\n",
    "    end\n",
    "end"
   ]
  },
  {
   "cell_type": "code",
   "execution_count": 32,
   "id": "35fa554b",
   "metadata": {
    "ExecuteTime": {
     "end_time": "2023-01-26T22:52:02.288000+09:00",
     "start_time": "2023-01-26T13:52:00.101Z"
    }
   },
   "outputs": [
    {
     "name": "stdout",
     "output_type": "stream",
     "text": [
      "0\n",
      "1\n",
      "4\n",
      "9\n",
      "16\n",
      "25\n",
      "36\n",
      "49\n",
      "64\n",
      "81\n",
      "100\n"
     ]
    }
   ],
   "source": [
    "while_sample2()"
   ]
  },
  {
   "cell_type": "code",
   "execution_count": 33,
   "id": "598c49dd",
   "metadata": {
    "ExecuteTime": {
     "end_time": "2023-01-26T22:52:02.293000+09:00",
     "start_time": "2023-01-26T13:52:00.103Z"
    }
   },
   "outputs": [
    {
     "name": "stdout",
     "output_type": "stream",
     "text": [
      "0\n",
      "3\n",
      "6\n",
      "9\n"
     ]
    }
   ],
   "source": [
    "for i = 0:10\n",
    "    i % 3 == 0 || continue\n",
    "    println(i)\n",
    "end"
   ]
  },
  {
   "cell_type": "markdown",
   "id": "dd331eeb",
   "metadata": {},
   "source": [
    "#### コード2-75. `for` ループの例(6)：《in 節》の多重指定と `break"
   ]
  },
  {
   "cell_type": "code",
   "execution_count": 34,
   "id": "e6e4638c",
   "metadata": {
    "ExecuteTime": {
     "end_time": "2023-01-26T22:52:02.304000+09:00",
     "start_time": "2023-01-26T13:52:00.105Z"
    }
   },
   "outputs": [
    {
     "name": "stdout",
     "output_type": "stream",
     "text": [
      "4 * 9 == 36\n",
      "6 * 6 == 36\n"
     ]
    }
   ],
   "source": [
    "for x = 1:9\n",
    "    for y = x:9\n",
    "        if x * y == 36\n",
    "            println(\"$x * $y == 36\")\n",
    "            break\n",
    "        end\n",
    "    end\n",
    "end"
   ]
  },
  {
   "cell_type": "code",
   "execution_count": 35,
   "id": "176c6830",
   "metadata": {
    "ExecuteTime": {
     "end_time": "2023-01-26T22:52:02.312000+09:00",
     "start_time": "2023-01-26T13:52:00.106Z"
    }
   },
   "outputs": [
    {
     "name": "stdout",
     "output_type": "stream",
     "text": [
      "4 * 9 == 36\n"
     ]
    }
   ],
   "source": [
    "for x = 1:9, y = x:9\n",
    "    if x * y == 36\n",
    "        println(\"$x * $y == 36\")\n",
    "        break\n",
    "    end\n",
    "end"
   ]
  },
  {
   "cell_type": "markdown",
   "id": "9f93ec89",
   "metadata": {},
   "source": [
    "### 2-5-3. 例外処理"
   ]
  },
  {
   "cell_type": "markdown",
   "id": "84eabed4",
   "metadata": {},
   "source": [
    "#### コード2-76. 例外（エラー）の例"
   ]
  },
  {
   "cell_type": "code",
   "execution_count": 36,
   "id": "5ca05ce8",
   "metadata": {
    "ExecuteTime": {
     "end_time": "2023-01-26T22:52:02.474000+09:00",
     "start_time": "2023-01-26T13:52:00.108Z"
    }
   },
   "outputs": [
    {
     "data": {
      "text/plain": [
       "1.4142135623730951"
      ]
     },
     "execution_count": 36,
     "metadata": {},
     "output_type": "execute_result"
    }
   ],
   "source": [
    "sqrt(2.0)"
   ]
  },
  {
   "cell_type": "code",
   "execution_count": 37,
   "id": "4e8587b0",
   "metadata": {
    "ExecuteTime": {
     "end_time": "2023-01-26T22:52:03.252000+09:00",
     "start_time": "2023-01-26T13:52:00.109Z"
    }
   },
   "outputs": [
    {
     "ename": "LoadError",
     "evalue": "DomainError with -2.0:\nsqrt will only return a complex result if called with a complex argument. Try sqrt(Complex(x)).",
     "output_type": "error",
     "traceback": [
      "DomainError with -2.0:\nsqrt will only return a complex result if called with a complex argument. Try sqrt(Complex(x)).",
      "",
      "Stacktrace:",
      " [1] throw_complex_domainerror(f::Symbol, x::Float64)",
      "   @ Base.Math ./math.jl:33",
      " [2] sqrt(x::Float64)",
      "   @ Base.Math ./math.jl:591",
      " [3] top-level scope",
      "   @ In[37]:1"
     ]
    }
   ],
   "source": [
    "sqrt(-2.0)"
   ]
  },
  {
   "cell_type": "markdown",
   "id": "a6d29ad2",
   "metadata": {},
   "source": [
    "#### コード2-77. 例外処理の例"
   ]
  },
  {
   "cell_type": "code",
   "execution_count": 38,
   "id": "d1ff092c",
   "metadata": {
    "ExecuteTime": {
     "end_time": "2023-01-26T22:52:03.318000+09:00",
     "start_time": "2023-01-26T13:52:00.112Z"
    }
   },
   "outputs": [
    {
     "data": {
      "text/plain": [
       "mysqrt (generic function with 1 method)"
      ]
     },
     "execution_count": 38,
     "metadata": {},
     "output_type": "execute_result"
    }
   ],
   "source": [
    "function mysqrt(x)\n",
    "    try\n",
    "        sqrt(x)\n",
    "    catch e\n",
    "        println(typeof(e))\n",
    "        if e isa DomainError\n",
    "            sqrt(Complex(x))\n",
    "        else\n",
    "            rethrow(e)\n",
    "        end\n",
    "    finally\n",
    "        println(\"Done\")\n",
    "    end\n",
    "end"
   ]
  },
  {
   "cell_type": "code",
   "execution_count": 39,
   "id": "62100a90",
   "metadata": {
    "ExecuteTime": {
     "end_time": "2023-01-26T22:52:03.427000+09:00",
     "start_time": "2023-01-26T13:52:00.113Z"
    }
   },
   "outputs": [
    {
     "name": "stdout",
     "output_type": "stream",
     "text": [
      "Done\n"
     ]
    },
    {
     "data": {
      "text/plain": [
       "1.4142135623730951"
      ]
     },
     "execution_count": 39,
     "metadata": {},
     "output_type": "execute_result"
    }
   ],
   "source": [
    "mysqrt(2.0)"
   ]
  },
  {
   "cell_type": "code",
   "execution_count": 40,
   "id": "3df5a23b",
   "metadata": {
    "ExecuteTime": {
     "end_time": "2023-01-26T22:52:04.033000+09:00",
     "start_time": "2023-01-26T13:52:00.115Z"
    }
   },
   "outputs": [
    {
     "name": "stdout",
     "output_type": "stream",
     "text": [
      "DomainError\n",
      "Done\n"
     ]
    },
    {
     "data": {
      "text/plain": [
       "0.0 + 1.4142135623730951im"
      ]
     },
     "execution_count": 40,
     "metadata": {},
     "output_type": "execute_result"
    }
   ],
   "source": [
    "mysqrt(-2.0)"
   ]
  },
  {
   "cell_type": "code",
   "execution_count": 41,
   "id": "81a06a36",
   "metadata": {
    "ExecuteTime": {
     "end_time": "2023-01-26T22:52:04.415000+09:00",
     "start_time": "2023-01-26T13:52:00.116Z"
    }
   },
   "outputs": [
    {
     "name": "stdout",
     "output_type": "stream",
     "text": [
      "MethodError\n",
      "Done\n"
     ]
    },
    {
     "ename": "LoadError",
     "evalue": "MethodError: no method matching sqrt(::String)\n\u001b[0mClosest candidates are:\n\u001b[0m  sqrt(\u001b[91m::Union{Float32, Float64}\u001b[39m) at math.jl:590\n\u001b[0m  sqrt(\u001b[91m::StridedMatrix{T}\u001b[39m) where T<:Union{Real, Complex} at ~/julia-1.8.5/share/julia/stdlib/v1.8/LinearAlgebra/src/dense.jl:853\n\u001b[0m  sqrt(\u001b[91m::LinearAlgebra.UniformScaling\u001b[39m) at ~/julia-1.8.5/share/julia/stdlib/v1.8/LinearAlgebra/src/uniformscaling.jl:173\n\u001b[0m  ...",
     "output_type": "error",
     "traceback": [
      "MethodError: no method matching sqrt(::String)\n\u001b[0mClosest candidates are:\n\u001b[0m  sqrt(\u001b[91m::Union{Float32, Float64}\u001b[39m) at math.jl:590\n\u001b[0m  sqrt(\u001b[91m::StridedMatrix{T}\u001b[39m) where T<:Union{Real, Complex} at ~/julia-1.8.5/share/julia/stdlib/v1.8/LinearAlgebra/src/dense.jl:853\n\u001b[0m  sqrt(\u001b[91m::LinearAlgebra.UniformScaling\u001b[39m) at ~/julia-1.8.5/share/julia/stdlib/v1.8/LinearAlgebra/src/uniformscaling.jl:173\n\u001b[0m  ...",
      "",
      "Stacktrace:",
      " [1] mysqrt(x::String)",
      "   @ Main ./In[38]:3",
      " [2] top-level scope",
      "   @ In[41]:1"
     ]
    }
   ],
   "source": [
    "mysqrt(\"ERROR!\")"
   ]
  }
 ],
 "metadata": {
  "jupytext": {
   "formats": "ipynb,auto:light"
  },
  "kernelspec": {
   "display_name": "Julia (4 threads) 1.8.5",
   "language": "julia",
   "name": "julia-_4-threads_-1.8"
  },
  "language_info": {
   "file_extension": ".jl",
   "mimetype": "application/julia",
   "name": "julia",
   "version": "1.8.5"
  }
 },
 "nbformat": 4,
 "nbformat_minor": 5
}
