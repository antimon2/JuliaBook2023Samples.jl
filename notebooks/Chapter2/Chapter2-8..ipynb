{
 "cells": [
  {
   "cell_type": "code",
   "execution_count": 1,
   "id": "49cd695a",
   "metadata": {
    "ExecuteTime": {
     "end_time": "2023-01-27T11:07:56.891000+09:00",
     "start_time": "2023-01-27T02:07:55.919Z"
    }
   },
   "outputs": [
    {
     "name": "stdout",
     "output_type": "stream",
     "text": [
      "Julia Version 1.8.5\n",
      "Commit 17cfb8e65ea (2023-01-08 06:45 UTC)\n",
      "Platform Info:\n",
      "  OS: Linux (x86_64-linux-gnu)\n",
      "  CPU: 12 × Intel(R) Core(TM) i7-9750H CPU @ 2.60GHz\n",
      "  WORD_SIZE: 64\n",
      "  LIBM: libopenlibm\n",
      "  LLVM: libLLVM-13.0.1 (ORCJIT, skylake)\n",
      "  Threads: 1 on 12 virtual cores\n"
     ]
    }
   ],
   "source": [
    "versioninfo()"
   ]
  },
  {
   "cell_type": "markdown",
   "id": "67b5eee4",
   "metadata": {},
   "source": [
    "## 2-8. モジュール"
   ]
  },
  {
   "cell_type": "markdown",
   "id": "cdde3e48",
   "metadata": {},
   "source": [
    "### 2-8-1. `import` と `using`"
   ]
  },
  {
   "cell_type": "markdown",
   "id": "875d9a0b",
   "metadata": {},
   "source": [
    "#### コード2-117. モジュールの例(1)：`Iterators` 標準モジュールの使用例"
   ]
  },
  {
   "cell_type": "code",
   "execution_count": 2,
   "id": "50809bce",
   "metadata": {
    "ExecuteTime": {
     "end_time": "2023-01-27T11:07:57.708000+09:00",
     "start_time": "2023-01-27T02:07:55.922Z"
    }
   },
   "outputs": [
    {
     "data": {
      "text/plain": [
       "Base.Iterators.Take{UnitRange{Int64}}(1:100, 10)"
      ]
     },
     "execution_count": 2,
     "metadata": {},
     "output_type": "execute_result"
    }
   ],
   "source": [
    "Iterators.take(1:100, 10)"
   ]
  },
  {
   "cell_type": "code",
   "execution_count": 3,
   "id": "9783bd3c",
   "metadata": {
    "ExecuteTime": {
     "end_time": "2023-01-27T11:07:58.431000+09:00",
     "start_time": "2023-01-27T02:07:55.924Z"
    }
   },
   "outputs": [
    {
     "data": {
      "text/plain": [
       "10-element Vector{Int64}:\n",
       "  1\n",
       "  2\n",
       "  3\n",
       "  4\n",
       "  5\n",
       "  6\n",
       "  7\n",
       "  8\n",
       "  9\n",
       " 10"
      ]
     },
     "execution_count": 3,
     "metadata": {},
     "output_type": "execute_result"
    }
   ],
   "source": [
    "collect(Iterators.take(1:100, 10))"
   ]
  },
  {
   "cell_type": "markdown",
   "id": "3d5d4b4b",
   "metadata": {},
   "source": [
    "#### コード2-118. モジュールの例(2)：`Iterators.take()` のインポート"
   ]
  },
  {
   "cell_type": "code",
   "execution_count": 4,
   "id": "b47032e8",
   "metadata": {
    "ExecuteTime": {
     "end_time": "2023-01-27T11:07:58.432000+09:00",
     "start_time": "2023-01-27T02:07:55.925Z"
    }
   },
   "outputs": [],
   "source": [
    "import .Iterators: take  # または `using .Iterators: take`"
   ]
  },
  {
   "cell_type": "code",
   "execution_count": 5,
   "id": "e08531f2",
   "metadata": {
    "ExecuteTime": {
     "end_time": "2023-01-27T11:07:58.433000+09:00",
     "start_time": "2023-01-27T02:07:55.927Z"
    }
   },
   "outputs": [
    {
     "data": {
      "text/plain": [
       "10-element Vector{Int64}:\n",
       "  1\n",
       "  2\n",
       "  3\n",
       "  4\n",
       "  5\n",
       "  6\n",
       "  7\n",
       "  8\n",
       "  9\n",
       " 10"
      ]
     },
     "execution_count": 5,
     "metadata": {},
     "output_type": "execute_result"
    }
   ],
   "source": [
    "collect(take(1:100, 10))"
   ]
  },
  {
   "cell_type": "markdown",
   "id": "e2b3b5c5",
   "metadata": {},
   "source": [
    "#### コード2-119. モジュールの例(3)：`using` の使用例（`Statistics` 標準パッケージのインポート）"
   ]
  },
  {
   "cell_type": "code",
   "execution_count": 6,
   "id": "898bea3f",
   "metadata": {
    "ExecuteTime": {
     "end_time": "2023-01-27T11:07:58.433000+09:00",
     "start_time": "2023-01-27T02:07:55.928Z"
    }
   },
   "outputs": [],
   "source": [
    "using Statistics"
   ]
  },
  {
   "cell_type": "code",
   "execution_count": 7,
   "id": "d827240c",
   "metadata": {
    "ExecuteTime": {
     "end_time": "2023-01-27T11:07:58.625000+09:00",
     "start_time": "2023-01-27T02:07:55.929Z"
    }
   },
   "outputs": [
    {
     "data": {
      "text/plain": [
       "3.0"
      ]
     },
     "execution_count": 7,
     "metadata": {},
     "output_type": "execute_result"
    }
   ],
   "source": [
    "mean([3, 1, 4, 1, 6])"
   ]
  },
  {
   "cell_type": "code",
   "execution_count": 8,
   "id": "12ed4f24",
   "metadata": {
    "ExecuteTime": {
     "end_time": "2023-01-27T11:07:58.686000+09:00",
     "start_time": "2023-01-27T02:07:55.930Z"
    }
   },
   "outputs": [
    {
     "data": {
      "text/plain": [
       "2.1213203435596424"
      ]
     },
     "execution_count": 8,
     "metadata": {},
     "output_type": "execute_result"
    }
   ],
   "source": [
    "std([3, 1, 4, 1, 6])"
   ]
  },
  {
   "cell_type": "code",
   "execution_count": 9,
   "id": "3b9c814e",
   "metadata": {
    "ExecuteTime": {
     "end_time": "2023-01-27T11:07:58.692000+09:00",
     "start_time": "2023-01-27T02:07:55.931Z"
    }
   },
   "outputs": [
    {
     "data": {
      "text/plain": [
       "4.5"
      ]
     },
     "execution_count": 9,
     "metadata": {},
     "output_type": "execute_result"
    }
   ],
   "source": [
    "var([3, 1, 4, 1, 6])"
   ]
  },
  {
   "cell_type": "markdown",
   "id": "c50f658b",
   "metadata": {},
   "source": [
    "### 2-8-2. 標準モジュールとモジュールのネスト"
   ]
  },
  {
   "cell_type": "markdown",
   "id": "027e281d",
   "metadata": {},
   "source": [
    "#### コード2-120. モジュールの例(4)：`@__MODULE__` マクロ"
   ]
  },
  {
   "cell_type": "code",
   "execution_count": 10,
   "id": "34766375",
   "metadata": {
    "ExecuteTime": {
     "end_time": "2023-01-27T11:07:58.840000+09:00",
     "start_time": "2023-01-27T02:07:55.934Z"
    }
   },
   "outputs": [
    {
     "data": {
      "text/plain": [
       "Main"
      ]
     },
     "execution_count": 10,
     "metadata": {},
     "output_type": "execute_result"
    }
   ],
   "source": [
    "@__MODULE__"
   ]
  },
  {
   "cell_type": "markdown",
   "id": "5b9fa67f",
   "metadata": {},
   "source": [
    "### 2-8-3. モジュールの定義"
   ]
  },
  {
   "cell_type": "markdown",
   "id": "8afd93bc",
   "metadata": {},
   "source": [
    "#### コード2-121. モジュールの例(5)：モジュールの定義例"
   ]
  },
  {
   "cell_type": "code",
   "execution_count": 11,
   "id": "90a772bd",
   "metadata": {
    "ExecuteTime": {
     "end_time": "2023-01-27T11:07:58.842000+09:00",
     "start_time": "2023-01-27T02:07:55.936Z"
    }
   },
   "outputs": [
    {
     "data": {
      "text/plain": [
       "Main.SampleModule"
      ]
     },
     "execution_count": 11,
     "metadata": {},
     "output_type": "execute_result"
    }
   ],
   "source": [
    "module SampleModule\n",
    "\n",
    "export hello\n",
    "const SampleConstant = :sample\n",
    "hello() = println(\"＼コンニチハ／\")\n",
    "\n",
    "end"
   ]
  },
  {
   "cell_type": "code",
   "execution_count": 12,
   "id": "7a3572bd",
   "metadata": {
    "ExecuteTime": {
     "end_time": "2023-01-27T11:07:59.901000+09:00",
     "start_time": "2023-01-27T02:07:55.937Z"
    }
   },
   "outputs": [
    {
     "data": {
      "text/plain": [
       ":sample"
      ]
     },
     "execution_count": 12,
     "metadata": {},
     "output_type": "execute_result"
    }
   ],
   "source": [
    "SampleModule.SampleConstant"
   ]
  },
  {
   "cell_type": "code",
   "execution_count": 13,
   "id": "e2310d7f",
   "metadata": {
    "ExecuteTime": {
     "end_time": "2023-01-27T11:07:59.907000+09:00",
     "start_time": "2023-01-27T02:07:55.938Z"
    }
   },
   "outputs": [
    {
     "name": "stdout",
     "output_type": "stream",
     "text": [
      "＼コンニチハ／\n"
     ]
    }
   ],
   "source": [
    "SampleModule.hello()"
   ]
  },
  {
   "cell_type": "code",
   "execution_count": 14,
   "id": "6d85df84",
   "metadata": {
    "ExecuteTime": {
     "end_time": "2023-01-27T11:07:59.908000+09:00",
     "start_time": "2023-01-27T02:07:55.940Z"
    }
   },
   "outputs": [],
   "source": [
    "using .SampleModule"
   ]
  },
  {
   "cell_type": "code",
   "execution_count": 15,
   "id": "4f16b184",
   "metadata": {
    "ExecuteTime": {
     "end_time": "2023-01-27T11:07:59.908000+09:00",
     "start_time": "2023-01-27T02:07:55.941Z"
    }
   },
   "outputs": [
    {
     "name": "stdout",
     "output_type": "stream",
     "text": [
      "＼コンニチハ／\n"
     ]
    }
   ],
   "source": [
    "hello()"
   ]
  },
  {
   "cell_type": "markdown",
   "id": "5493e497",
   "metadata": {},
   "source": [
    "#### コード2-122. モジュールの例(6)：モジュールのネスト"
   ]
  },
  {
   "cell_type": "code",
   "execution_count": 16,
   "id": "aa9f4df4",
   "metadata": {
    "ExecuteTime": {
     "end_time": "2023-01-27T11:07:59.930000+09:00",
     "start_time": "2023-01-27T02:07:55.942Z"
    }
   },
   "outputs": [
    {
     "name": "stdout",
     "output_type": "stream",
     "text": [
      "inner2\n",
      "inner1\n",
      "outer1\n"
     ]
    },
    {
     "data": {
      "text/plain": [
       "Main.OuterModule"
      ]
     },
     "execution_count": 16,
     "metadata": {},
     "output_type": "execute_result"
    }
   ],
   "source": [
    "module OuterModule\n",
    "\n",
    "const OuterConst1 = :outer1\n",
    "\n",
    "module MyInnerModule1\n",
    "    const InnerConst1 = :inner1\n",
    "\n",
    "    module MyInnerModule2\n",
    "        const InnerConst2 = :inner2\n",
    "        println(InnerConst2)\n",
    "        import ..MyInnerModule1: InnerConst1\n",
    "        println(InnerConst1)\n",
    "        import ....OuterModule: OuterConst1\n",
    "        println(OuterConst1)\n",
    "    end  # of MyInnerModule2\n",
    "end  # of MyInnerModule1\n",
    "\n",
    "end  # of OuterModule\n",
    "# => inner2\n",
    "# => inner1\n",
    "# => outer1"
   ]
  },
  {
   "cell_type": "code",
   "execution_count": null,
   "id": "36ccbf2c",
   "metadata": {},
   "outputs": [],
   "source": []
  }
 ],
 "metadata": {
  "jupytext": {
   "formats": "ipynb,auto:light"
  },
  "kernelspec": {
   "display_name": "Julia 1.8.5",
   "language": "julia",
   "name": "julia-1.8"
  },
  "language_info": {
   "file_extension": ".jl",
   "mimetype": "application/julia",
   "name": "julia",
   "version": "1.8.5"
  }
 },
 "nbformat": 4,
 "nbformat_minor": 5
}
