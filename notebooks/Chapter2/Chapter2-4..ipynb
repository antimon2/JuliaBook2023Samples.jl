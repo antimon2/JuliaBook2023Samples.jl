{
 "cells": [
  {
   "cell_type": "code",
   "execution_count": 1,
   "id": "87863b1e",
   "metadata": {
    "ExecuteTime": {
     "end_time": "2023-01-26T22:22:31.217000+09:00",
     "start_time": "2023-01-26T13:22:29.921Z"
    }
   },
   "outputs": [
    {
     "name": "stdout",
     "output_type": "stream",
     "text": [
      "Julia Version 1.8.5\n",
      "Commit 17cfb8e65ea (2023-01-08 06:45 UTC)\n",
      "Platform Info:\n",
      "  OS: Linux (x86_64-linux-gnu)\n",
      "  CPU: 12 × Intel(R) Core(TM) i7-9750H CPU @ 2.60GHz\n",
      "  WORD_SIZE: 64\n",
      "  LIBM: libopenlibm\n",
      "  LLVM: libLLVM-13.0.1 (ORCJIT, skylake)\n",
      "  Threads: 1 on 12 virtual cores\n"
     ]
    }
   ],
   "source": [
    "versioninfo()"
   ]
  },
  {
   "cell_type": "markdown",
   "id": "de3a1a26",
   "metadata": {},
   "source": [
    "## 2-4. 関数"
   ]
  },
  {
   "cell_type": "markdown",
   "id": "d002eecd",
   "metadata": {},
   "source": [
    "### 2-4-1. 関数呼び出し"
   ]
  },
  {
   "cell_type": "markdown",
   "id": "7d985597",
   "metadata": {},
   "source": [
    "#### 関数呼び出しの基本"
   ]
  },
  {
   "cell_type": "markdown",
   "id": "590bcf55",
   "metadata": {},
   "source": [
    "##### コード2-38. 関数呼び出しの例(1)：1引数の関数呼び出し（`sin()` の例）"
   ]
  },
  {
   "cell_type": "code",
   "execution_count": 2,
   "id": "cb67dde7",
   "metadata": {
    "ExecuteTime": {
     "end_time": "2023-01-26T22:22:31.692000+09:00",
     "start_time": "2023-01-26T13:22:29.925Z"
    }
   },
   "outputs": [
    {
     "data": {
      "text/plain": [
       "0.0"
      ]
     },
     "execution_count": 2,
     "metadata": {},
     "output_type": "execute_result"
    }
   ],
   "source": [
    "sin(0.0)"
   ]
  },
  {
   "cell_type": "code",
   "execution_count": 3,
   "id": "fde61dd5",
   "metadata": {
    "ExecuteTime": {
     "end_time": "2023-01-26T22:22:31.697000+09:00",
     "start_time": "2023-01-26T13:22:29.928Z"
    }
   },
   "outputs": [
    {
     "data": {
      "text/plain": [
       "0.7071067811865475"
      ]
     },
     "execution_count": 3,
     "metadata": {},
     "output_type": "execute_result"
    }
   ],
   "source": [
    "sin(π/4)"
   ]
  },
  {
   "cell_type": "markdown",
   "id": "7fedd207",
   "metadata": {},
   "source": [
    "##### コード2-39. 関数呼び出しの例(2)：引数なしの関数呼び出し（`rand()` の例）"
   ]
  },
  {
   "cell_type": "code",
   "execution_count": 4,
   "id": "ac99ee0b",
   "metadata": {
    "ExecuteTime": {
     "end_time": "2023-01-26T22:22:31.703000+09:00",
     "start_time": "2023-01-26T13:22:29.931Z"
    }
   },
   "outputs": [
    {
     "data": {
      "text/plain": [
       "0.591136671344862"
      ]
     },
     "execution_count": 4,
     "metadata": {},
     "output_type": "execute_result"
    }
   ],
   "source": [
    "rand()"
   ]
  },
  {
   "cell_type": "code",
   "execution_count": 5,
   "id": "1292b853",
   "metadata": {
    "ExecuteTime": {
     "end_time": "2023-01-26T22:22:31.703000+09:00",
     "start_time": "2023-01-26T13:22:29.934Z"
    }
   },
   "outputs": [
    {
     "data": {
      "text/plain": [
       "0.18548096329085906"
      ]
     },
     "execution_count": 5,
     "metadata": {},
     "output_type": "execute_result"
    }
   ],
   "source": [
    "rand()"
   ]
  },
  {
   "cell_type": "markdown",
   "id": "2bb23bfb",
   "metadata": {},
   "source": [
    "##### コード2-40. 関数呼び出しの例(3)：複数引数の関数呼び出し（`rand()` の例）"
   ]
  },
  {
   "cell_type": "code",
   "execution_count": 6,
   "id": "8caa53d9",
   "metadata": {
    "ExecuteTime": {
     "end_time": "2023-01-26T22:22:31.908000+09:00",
     "start_time": "2023-01-26T13:22:29.937Z"
    }
   },
   "outputs": [
    {
     "data": {
      "text/plain": [
       "-1646080212831959280"
      ]
     },
     "execution_count": 6,
     "metadata": {},
     "output_type": "execute_result"
    }
   ],
   "source": [
    "rand(Int)"
   ]
  },
  {
   "cell_type": "code",
   "execution_count": 7,
   "id": "de3527fa",
   "metadata": {
    "ExecuteTime": {
     "end_time": "2023-01-26T22:22:32.831000+09:00",
     "start_time": "2023-01-26T13:22:29.939Z"
    }
   },
   "outputs": [
    {
     "data": {
      "text/plain": [
       "2-element Vector{UInt32}:\n",
       " 0x4ba4c5fc\n",
       " 0xf344230e"
      ]
     },
     "execution_count": 7,
     "metadata": {},
     "output_type": "execute_result"
    }
   ],
   "source": [
    "rand(UInt32, 2)"
   ]
  },
  {
   "cell_type": "code",
   "execution_count": 8,
   "id": "9fbf0d12",
   "metadata": {
    "ExecuteTime": {
     "end_time": "2023-01-26T22:22:33.482000+09:00",
     "start_time": "2023-01-26T13:22:29.941Z"
    }
   },
   "outputs": [
    {
     "data": {
      "text/plain": [
       "2×3 Matrix{Float64}:\n",
       " 0.147263  0.832368  0.645685\n",
       " 0.389492  0.946734  0.54518"
      ]
     },
     "execution_count": 8,
     "metadata": {},
     "output_type": "execute_result"
    }
   ],
   "source": [
    "rand(Float64, (2, 3))"
   ]
  },
  {
   "cell_type": "markdown",
   "id": "539d1ea9",
   "metadata": {},
   "source": [
    "#### キーワード引数"
   ]
  },
  {
   "cell_type": "markdown",
   "id": "96a11e73",
   "metadata": {},
   "source": [
    "##### コード2-41. 関数呼び出しの例(4)：キーワード引数（`string()` の例）"
   ]
  },
  {
   "cell_type": "code",
   "execution_count": 9,
   "id": "31f6035b",
   "metadata": {
    "ExecuteTime": {
     "end_time": "2023-01-26T22:22:33.889000+09:00",
     "start_time": "2023-01-26T13:22:29.944Z"
    }
   },
   "outputs": [
    {
     "data": {
      "text/plain": [
       "\"123\""
      ]
     },
     "execution_count": 9,
     "metadata": {},
     "output_type": "execute_result"
    }
   ],
   "source": [
    "string(123)"
   ]
  },
  {
   "cell_type": "code",
   "execution_count": 10,
   "id": "e0951473",
   "metadata": {
    "ExecuteTime": {
     "end_time": "2023-01-26T22:22:33.892000+09:00",
     "start_time": "2023-01-26T13:22:29.946Z"
    }
   },
   "outputs": [
    {
     "data": {
      "text/plain": [
       "\"0123\""
      ]
     },
     "execution_count": 10,
     "metadata": {},
     "output_type": "execute_result"
    }
   ],
   "source": [
    "string(123, pad=4)"
   ]
  },
  {
   "cell_type": "code",
   "execution_count": 11,
   "id": "849b0e5b",
   "metadata": {
    "ExecuteTime": {
     "end_time": "2023-01-26T22:22:33.896000+09:00",
     "start_time": "2023-01-26T13:22:29.948Z"
    }
   },
   "outputs": [
    {
     "data": {
      "text/plain": [
       "\"7b\""
      ]
     },
     "execution_count": 11,
     "metadata": {},
     "output_type": "execute_result"
    }
   ],
   "source": [
    "string(123, base=16)"
   ]
  },
  {
   "cell_type": "code",
   "execution_count": 12,
   "id": "82795bcf",
   "metadata": {
    "ExecuteTime": {
     "end_time": "2023-01-26T22:22:33.899000+09:00",
     "start_time": "2023-01-26T13:22:29.950Z"
    }
   },
   "outputs": [
    {
     "data": {
      "text/plain": [
       "\"007b\""
      ]
     },
     "execution_count": 12,
     "metadata": {},
     "output_type": "execute_result"
    }
   ],
   "source": [
    "string(123, base=16, pad=4)"
   ]
  },
  {
   "cell_type": "markdown",
   "id": "b9f14524",
   "metadata": {},
   "source": [
    "#### 引数展開"
   ]
  },
  {
   "cell_type": "markdown",
   "id": "cbb7b42f",
   "metadata": {},
   "source": [
    "##### コード2-42. 関数呼び出しの例(5)：引数展開（`promote()` の例）"
   ]
  },
  {
   "cell_type": "code",
   "execution_count": 13,
   "id": "2cbbc6de",
   "metadata": {
    "ExecuteTime": {
     "end_time": "2023-01-26T22:22:33.920000+09:00",
     "start_time": "2023-01-26T13:22:29.954Z"
    }
   },
   "outputs": [],
   "source": [
    "a = (1, 2//3, 4.5);"
   ]
  },
  {
   "cell_type": "code",
   "execution_count": 14,
   "id": "a61714e8",
   "metadata": {
    "ExecuteTime": {
     "end_time": "2023-01-26T22:22:34.140000+09:00",
     "start_time": "2023-01-26T13:22:29.956Z"
    }
   },
   "outputs": [
    {
     "data": {
      "text/plain": [
       "(1.0, 0.6666666666666666, 4.5)"
      ]
     },
     "execution_count": 14,
     "metadata": {},
     "output_type": "execute_result"
    }
   ],
   "source": [
    "promote(a[1], a[2], a[3])"
   ]
  },
  {
   "cell_type": "code",
   "execution_count": 15,
   "id": "4a00f114",
   "metadata": {
    "ExecuteTime": {
     "end_time": "2023-01-26T22:22:34.141000+09:00",
     "start_time": "2023-01-26T13:22:29.957Z"
    }
   },
   "outputs": [
    {
     "data": {
      "text/plain": [
       "(1.0, 0.6666666666666666, 4.5)"
      ]
     },
     "execution_count": 15,
     "metadata": {},
     "output_type": "execute_result"
    }
   ],
   "source": [
    "promote(a...)"
   ]
  },
  {
   "cell_type": "markdown",
   "id": "68978a95",
   "metadata": {},
   "source": [
    "### 2-4-2. 関数定義"
   ]
  },
  {
   "cell_type": "markdown",
   "id": "fcf9da07",
   "metadata": {},
   "source": [
    "#### 関数定義の基本"
   ]
  },
  {
   "cell_type": "markdown",
   "id": "21570be0",
   "metadata": {},
   "source": [
    "##### コード2-43. 関数定義の例(1)"
   ]
  },
  {
   "cell_type": "code",
   "execution_count": 16,
   "id": "e2982123",
   "metadata": {
    "ExecuteTime": {
     "end_time": "2023-01-26T22:22:34.312000+09:00",
     "start_time": "2023-01-26T13:22:29.960Z"
    }
   },
   "outputs": [
    {
     "data": {
      "text/plain": [
       "add (generic function with 1 method)"
      ]
     },
     "execution_count": 16,
     "metadata": {},
     "output_type": "execute_result"
    }
   ],
   "source": [
    "function add(x, y)\n",
    "    x + y\n",
    "end"
   ]
  },
  {
   "cell_type": "code",
   "execution_count": 17,
   "id": "08f37a75",
   "metadata": {
    "ExecuteTime": {
     "end_time": "2023-01-26T22:22:34.314000+09:00",
     "start_time": "2023-01-26T13:22:29.962Z"
    }
   },
   "outputs": [
    {
     "data": {
      "text/plain": [
       "3"
      ]
     },
     "execution_count": 17,
     "metadata": {},
     "output_type": "execute_result"
    }
   ],
   "source": [
    "add(1, 2)"
   ]
  },
  {
   "cell_type": "code",
   "execution_count": 18,
   "id": "94caed64",
   "metadata": {
    "ExecuteTime": {
     "end_time": "2023-01-26T22:22:34.482000+09:00",
     "start_time": "2023-01-26T13:22:29.965Z"
    }
   },
   "outputs": [
    {
     "data": {
      "text/plain": [
       "0x07"
      ]
     },
     "execution_count": 18,
     "metadata": {},
     "output_type": "execute_result"
    }
   ],
   "source": [
    "add(0x03, 0x04)"
   ]
  },
  {
   "cell_type": "code",
   "execution_count": 19,
   "id": "b9c9a860",
   "metadata": {
    "ExecuteTime": {
     "end_time": "2023-01-26T22:22:34.485000+09:00",
     "start_time": "2023-01-26T13:22:29.967Z"
    }
   },
   "outputs": [
    {
     "data": {
      "text/plain": [
       "4.6"
      ]
     },
     "execution_count": 19,
     "metadata": {},
     "output_type": "execute_result"
    }
   ],
   "source": [
    "add(1.2, 3.4)"
   ]
  },
  {
   "cell_type": "markdown",
   "id": "9799f637",
   "metadata": {},
   "source": [
    "##### コード2-44. 関数定義の例(2)：予約語 `function` を伴わない例"
   ]
  },
  {
   "cell_type": "code",
   "execution_count": 20,
   "id": "08a969df",
   "metadata": {
    "ExecuteTime": {
     "end_time": "2023-01-26T22:22:34.551000+09:00",
     "start_time": "2023-01-26T13:22:29.970Z"
    }
   },
   "outputs": [
    {
     "data": {
      "text/plain": [
       "f (generic function with 1 method)"
      ]
     },
     "execution_count": 20,
     "metadata": {},
     "output_type": "execute_result"
    }
   ],
   "source": [
    "f(x) = x^2 + 2x - 1"
   ]
  },
  {
   "cell_type": "code",
   "execution_count": 21,
   "id": "d5574981",
   "metadata": {
    "ExecuteTime": {
     "end_time": "2023-01-26T22:22:34.554000+09:00",
     "start_time": "2023-01-26T13:22:29.972Z"
    }
   },
   "outputs": [
    {
     "data": {
      "text/plain": [
       "2"
      ]
     },
     "execution_count": 21,
     "metadata": {},
     "output_type": "execute_result"
    }
   ],
   "source": [
    "f(1)"
   ]
  },
  {
   "cell_type": "code",
   "execution_count": 22,
   "id": "1d2af1b8",
   "metadata": {
    "ExecuteTime": {
     "end_time": "2023-01-26T22:22:34.558000+09:00",
     "start_time": "2023-01-26T13:22:29.974Z"
    }
   },
   "outputs": [
    {
     "data": {
      "text/plain": [
       "10.25"
      ]
     },
     "execution_count": 22,
     "metadata": {},
     "output_type": "execute_result"
    }
   ],
   "source": [
    "f(2.5)"
   ]
  },
  {
   "cell_type": "markdown",
   "id": "cabe30f4",
   "metadata": {},
   "source": [
    "##### 仮想コード2-2. 関数定義の例(3)：先に定義した関数と同じものの別定義"
   ]
  },
  {
   "cell_type": "markdown",
   "id": "a1776838",
   "metadata": {},
   "source": [
    "```julia\n",
    "add(x, y) = x + y\n",
    "\n",
    "function f(x)\n",
    "    x^2 + 2x - 1\n",
    "end\n",
    "```"
   ]
  },
  {
   "cell_type": "markdown",
   "id": "6bf08b7e",
   "metadata": {},
   "source": [
    "#### 無名関数"
   ]
  },
  {
   "cell_type": "markdown",
   "id": "e1ad5d4c",
   "metadata": {},
   "source": [
    "##### コード2-45. 関数定義の例(4)：無名関数の定義例(1)"
   ]
  },
  {
   "cell_type": "code",
   "execution_count": 23,
   "id": "76ba013d",
   "metadata": {
    "ExecuteTime": {
     "end_time": "2023-01-26T22:22:34.627000+09:00",
     "start_time": "2023-01-26T13:22:29.977Z"
    }
   },
   "outputs": [
    {
     "data": {
      "text/plain": [
       "#3 (generic function with 1 method)"
      ]
     },
     "execution_count": 23,
     "metadata": {},
     "output_type": "execute_result"
    }
   ],
   "source": [
    "x -> x^2 + 2x - 1"
   ]
  },
  {
   "cell_type": "code",
   "execution_count": 24,
   "id": "9f3200e5",
   "metadata": {
    "ExecuteTime": {
     "end_time": "2023-01-26T22:22:34.699000+09:00",
     "start_time": "2023-01-26T13:22:29.979Z"
    }
   },
   "outputs": [
    {
     "data": {
      "text/plain": [
       "#5 (generic function with 1 method)"
      ]
     },
     "execution_count": 24,
     "metadata": {},
     "output_type": "execute_result"
    }
   ],
   "source": [
    "function (x, y)\n",
    "    x + y\n",
    "end"
   ]
  },
  {
   "cell_type": "markdown",
   "id": "b2f74965",
   "metadata": {},
   "source": [
    "##### コード2-46. 無名関数の使用例（高階関数への指定）"
   ]
  },
  {
   "cell_type": "code",
   "execution_count": 25,
   "id": "09f5f2a2",
   "metadata": {
    "ExecuteTime": {
     "end_time": "2023-01-26T22:22:35.014000+09:00",
     "start_time": "2023-01-26T13:22:29.982Z"
    }
   },
   "outputs": [
    {
     "data": {
      "text/plain": [
       "10-element Vector{Int64}:\n",
       "   2\n",
       "   7\n",
       "  14\n",
       "  23\n",
       "  34\n",
       "  47\n",
       "  62\n",
       "  79\n",
       "  98\n",
       " 119"
      ]
     },
     "execution_count": 25,
     "metadata": {},
     "output_type": "execute_result"
    }
   ],
   "source": [
    "map(x -> x^2 + 2x - 1, 1:10)"
   ]
  },
  {
   "cell_type": "code",
   "execution_count": 26,
   "id": "db218dc9",
   "metadata": {
    "ExecuteTime": {
     "end_time": "2023-01-26T22:22:35.057000+09:00",
     "start_time": "2023-01-26T13:22:29.984Z"
    }
   },
   "outputs": [
    {
     "data": {
      "text/plain": [
       "485"
      ]
     },
     "execution_count": 26,
     "metadata": {},
     "output_type": "execute_result"
    }
   ],
   "source": [
    "sum(x -> x^2 + 2x - 1, 1:10)"
   ]
  },
  {
   "cell_type": "markdown",
   "id": "3f599a55",
   "metadata": {},
   "source": [
    "##### コード2-47. 関数定義の例(5)：無名関数の定義例(2)"
   ]
  },
  {
   "cell_type": "code",
   "execution_count": 27,
   "id": "543b04cd",
   "metadata": {
    "ExecuteTime": {
     "end_time": "2023-01-26T22:22:35.124000+09:00",
     "start_time": "2023-01-26T13:22:29.987Z"
    }
   },
   "outputs": [
    {
     "data": {
      "text/plain": [
       "#11 (generic function with 1 method)"
      ]
     },
     "execution_count": 27,
     "metadata": {},
     "output_type": "execute_result"
    }
   ],
   "source": [
    "() -> time()"
   ]
  },
  {
   "cell_type": "code",
   "execution_count": 28,
   "id": "340723d5",
   "metadata": {
    "ExecuteTime": {
     "end_time": "2023-01-26T22:22:35.197000+09:00",
     "start_time": "2023-01-26T13:22:29.989Z"
    }
   },
   "outputs": [
    {
     "data": {
      "text/plain": [
       "#13 (generic function with 1 method)"
      ]
     },
     "execution_count": 28,
     "metadata": {},
     "output_type": "execute_result"
    }
   ],
   "source": [
    "(x, y) -> 2x + y"
   ]
  },
  {
   "cell_type": "markdown",
   "id": "76e5d11d",
   "metadata": {},
   "source": [
    "#### 関数の多重定義"
   ]
  },
  {
   "cell_type": "markdown",
   "id": "e12ebb3f",
   "metadata": {},
   "source": [
    "##### コード2-48. 関数定義の例(6)：関数の多重定義例（`add()` の例）"
   ]
  },
  {
   "cell_type": "code",
   "execution_count": 29,
   "id": "bcc20801",
   "metadata": {
    "ExecuteTime": {
     "end_time": "2023-01-26T22:22:35.198000+09:00",
     "start_time": "2023-01-26T13:22:29.991Z"
    }
   },
   "outputs": [
    {
     "data": {
      "text/plain": [
       "add (generic function with 2 methods)"
      ]
     },
     "execution_count": 29,
     "metadata": {},
     "output_type": "execute_result"
    }
   ],
   "source": [
    "add(x, y, z) = x + y + z"
   ]
  },
  {
   "cell_type": "code",
   "execution_count": 30,
   "id": "a82f534e",
   "metadata": {
    "ExecuteTime": {
     "end_time": "2023-01-26T22:22:35.201000+09:00",
     "start_time": "2023-01-26T13:22:29.993Z"
    }
   },
   "outputs": [
    {
     "data": {
      "text/plain": [
       "6"
      ]
     },
     "execution_count": 30,
     "metadata": {},
     "output_type": "execute_result"
    }
   ],
   "source": [
    "add(1, 2, 3)"
   ]
  },
  {
   "cell_type": "code",
   "execution_count": 31,
   "id": "6e1403e2",
   "metadata": {
    "ExecuteTime": {
     "end_time": "2023-01-26T22:22:35.202000+09:00",
     "start_time": "2023-01-26T13:22:29.995Z"
    }
   },
   "outputs": [
    {
     "data": {
      "text/plain": [
       "5"
      ]
     },
     "execution_count": 31,
     "metadata": {},
     "output_type": "execute_result"
    }
   ],
   "source": [
    "add(2, 3)"
   ]
  },
  {
   "cell_type": "markdown",
   "id": "8a323423",
   "metadata": {},
   "source": [
    "##### コード2-49. 多重定義した関数（`add()`）のメソッドの確認"
   ]
  },
  {
   "cell_type": "code",
   "execution_count": 32,
   "id": "245a4e58",
   "metadata": {
    "ExecuteTime": {
     "end_time": "2023-01-26T22:22:35.202000+09:00",
     "start_time": "2023-01-26T13:22:29.998Z"
    }
   },
   "outputs": [
    {
     "data": {
      "text/plain": [
       "add (generic function with 2 methods)"
      ]
     },
     "execution_count": 32,
     "metadata": {},
     "output_type": "execute_result"
    }
   ],
   "source": [
    "add"
   ]
  },
  {
   "cell_type": "code",
   "execution_count": 33,
   "id": "a9648f86",
   "metadata": {
    "ExecuteTime": {
     "end_time": "2023-01-26T22:22:35.700000+09:00",
     "start_time": "2023-01-26T13:22:30.000Z"
    }
   },
   "outputs": [
    {
     "data": {
      "text/html": [
       "# 2 methods for generic function <b>add</b>:<ul><li> add(x, y) in Main at In[16]:1</li> <li> add(x, y, z) in Main at In[29]:1</li> </ul>"
      ],
      "text/plain": [
       "# 2 methods for generic function \"add\":\n",
       "[1] add(x, y) in Main at In[16]:1\n",
       "[2] add(x, y, z) in Main at In[29]:1"
      ]
     },
     "execution_count": 33,
     "metadata": {},
     "output_type": "execute_result"
    }
   ],
   "source": [
    "methods(add)"
   ]
  },
  {
   "cell_type": "markdown",
   "id": "0fa36a97",
   "metadata": {},
   "source": [
    "#### 可変長引数"
   ]
  },
  {
   "cell_type": "markdown",
   "id": "b0c88c25",
   "metadata": {},
   "source": [
    "##### コード2-50. 関数定義の例(7)：可変長引数の指定例（`add()` の多重定義例）"
   ]
  },
  {
   "cell_type": "code",
   "execution_count": 34,
   "id": "a02038d7",
   "metadata": {
    "ExecuteTime": {
     "end_time": "2023-01-26T22:22:35.701000+09:00",
     "start_time": "2023-01-26T13:22:30.003Z"
    }
   },
   "outputs": [
    {
     "data": {
      "text/plain": [
       "add (generic function with 3 methods)"
      ]
     },
     "execution_count": 34,
     "metadata": {},
     "output_type": "execute_result"
    }
   ],
   "source": [
    "function add(x, y, z...)\n",
    "    add(x + y, z...)\n",
    "end"
   ]
  },
  {
   "cell_type": "code",
   "execution_count": 35,
   "id": "9c26228d",
   "metadata": {
    "ExecuteTime": {
     "end_time": "2023-01-26T22:22:35.702000+09:00",
     "start_time": "2023-01-26T13:22:30.005Z"
    }
   },
   "outputs": [
    {
     "data": {
      "text/html": [
       "# 3 methods for generic function <b>add</b>:<ul><li> add(x, y) in Main at In[16]:1</li> <li> add(x, y, z) in Main at In[29]:1</li> <li> add(x, y, z...) in Main at In[34]:1</li> </ul>"
      ],
      "text/plain": [
       "# 3 methods for generic function \"add\":\n",
       "[1] add(x, y) in Main at In[16]:1\n",
       "[2] add(x, y, z) in Main at In[29]:1\n",
       "[3] add(x, y, z...) in Main at In[34]:1"
      ]
     },
     "execution_count": 35,
     "metadata": {},
     "output_type": "execute_result"
    }
   ],
   "source": [
    "methods(add)"
   ]
  },
  {
   "cell_type": "code",
   "execution_count": 36,
   "id": "ba2cf55c",
   "metadata": {
    "ExecuteTime": {
     "end_time": "2023-01-26T22:22:35.702000+09:00",
     "start_time": "2023-01-26T13:22:30.007Z"
    }
   },
   "outputs": [
    {
     "data": {
      "text/plain": [
       "3"
      ]
     },
     "execution_count": 36,
     "metadata": {},
     "output_type": "execute_result"
    }
   ],
   "source": [
    "add(1, 2)"
   ]
  },
  {
   "cell_type": "code",
   "execution_count": 37,
   "id": "39015e6e",
   "metadata": {
    "ExecuteTime": {
     "end_time": "2023-01-26T22:22:35.703000+09:00",
     "start_time": "2023-01-26T13:22:30.009Z"
    }
   },
   "outputs": [
    {
     "data": {
      "text/plain": [
       "6"
      ]
     },
     "execution_count": 37,
     "metadata": {},
     "output_type": "execute_result"
    }
   ],
   "source": [
    "add(1, 2, 3)"
   ]
  },
  {
   "cell_type": "code",
   "execution_count": 38,
   "id": "d4529043",
   "metadata": {
    "ExecuteTime": {
     "end_time": "2023-01-26T22:22:35.705000+09:00",
     "start_time": "2023-01-26T13:22:30.011Z"
    }
   },
   "outputs": [
    {
     "data": {
      "text/plain": [
       "10"
      ]
     },
     "execution_count": 38,
     "metadata": {},
     "output_type": "execute_result"
    }
   ],
   "source": [
    "add(1, 2, 3, 4)"
   ]
  },
  {
   "cell_type": "code",
   "execution_count": 39,
   "id": "6e49d394",
   "metadata": {
    "ExecuteTime": {
     "end_time": "2023-01-26T22:22:35.709000+09:00",
     "start_time": "2023-01-26T13:22:30.013Z"
    }
   },
   "outputs": [
    {
     "data": {
      "text/plain": [
       "15"
      ]
     },
     "execution_count": 39,
     "metadata": {},
     "output_type": "execute_result"
    }
   ],
   "source": [
    "add(1, 2, 3, 4, 5)"
   ]
  },
  {
   "cell_type": "code",
   "execution_count": 40,
   "id": "29aae482",
   "metadata": {
    "ExecuteTime": {
     "end_time": "2023-01-26T22:22:35.710000+09:00",
     "start_time": "2023-01-26T13:22:30.015Z"
    }
   },
   "outputs": [
    {
     "data": {
      "text/plain": [
       "21"
      ]
     },
     "execution_count": 40,
     "metadata": {},
     "output_type": "execute_result"
    }
   ],
   "source": [
    "add(1, 2, 3, 4, 5, 6)"
   ]
  },
  {
   "cell_type": "markdown",
   "id": "d0d0c564",
   "metadata": {},
   "source": [
    "#### オプショナル引数/キーワード引数"
   ]
  },
  {
   "cell_type": "markdown",
   "id": "9db837a9",
   "metadata": {},
   "source": [
    "##### コード2-51. 関数定義の例(8)：オプショナル引数の指定例"
   ]
  },
  {
   "cell_type": "code",
   "execution_count": 41,
   "id": "21462fb7",
   "metadata": {
    "ExecuteTime": {
     "end_time": "2023-01-26T22:22:35.777000+09:00",
     "start_time": "2023-01-26T13:22:30.017Z"
    }
   },
   "outputs": [
    {
     "data": {
      "text/plain": [
       "f2 (generic function with 3 methods)"
      ]
     },
     "execution_count": 41,
     "metadata": {},
     "output_type": "execute_result"
    }
   ],
   "source": [
    "f2(x, y=1, z=0) = x + y + z"
   ]
  },
  {
   "cell_type": "code",
   "execution_count": 42,
   "id": "a80dc426",
   "metadata": {
    "ExecuteTime": {
     "end_time": "2023-01-26T22:22:35.780000+09:00",
     "start_time": "2023-01-26T13:22:30.020Z"
    }
   },
   "outputs": [
    {
     "data": {
      "text/plain": [
       "2"
      ]
     },
     "execution_count": 42,
     "metadata": {},
     "output_type": "execute_result"
    }
   ],
   "source": [
    "f2(1)"
   ]
  },
  {
   "cell_type": "code",
   "execution_count": 43,
   "id": "9e599cd4",
   "metadata": {
    "ExecuteTime": {
     "end_time": "2023-01-26T22:22:35.783000+09:00",
     "start_time": "2023-01-26T13:22:30.022Z"
    }
   },
   "outputs": [
    {
     "data": {
      "text/plain": [
       "3"
      ]
     },
     "execution_count": 43,
     "metadata": {},
     "output_type": "execute_result"
    }
   ],
   "source": [
    "f2(1, 2)"
   ]
  },
  {
   "cell_type": "code",
   "execution_count": 44,
   "id": "03c87990",
   "metadata": {
    "ExecuteTime": {
     "end_time": "2023-01-26T22:22:35.785000+09:00",
     "start_time": "2023-01-26T13:22:30.023Z"
    }
   },
   "outputs": [
    {
     "data": {
      "text/plain": [
       "6"
      ]
     },
     "execution_count": 44,
     "metadata": {},
     "output_type": "execute_result"
    }
   ],
   "source": [
    "f2(1, 2, 3)"
   ]
  },
  {
   "cell_type": "code",
   "execution_count": 45,
   "id": "125e2b7f",
   "metadata": {
    "ExecuteTime": {
     "end_time": "2023-01-26T22:22:35.786000+09:00",
     "start_time": "2023-01-26T13:22:30.026Z"
    }
   },
   "outputs": [
    {
     "data": {
      "text/html": [
       "# 3 methods for generic function <b>f2</b>:<ul><li> f2(x) in Main at In[41]:1</li> <li> f2(x, y) in Main at In[41]:1</li> <li> f2(x, y, z) in Main at In[41]:1</li> </ul>"
      ],
      "text/plain": [
       "# 3 methods for generic function \"f2\":\n",
       "[1] f2(x) in Main at In[41]:1\n",
       "[2] f2(x, y) in Main at In[41]:1\n",
       "[3] f2(x, y, z) in Main at In[41]:1"
      ]
     },
     "execution_count": 45,
     "metadata": {},
     "output_type": "execute_result"
    }
   ],
   "source": [
    "methods(f2)"
   ]
  },
  {
   "cell_type": "markdown",
   "id": "fcdd1c84",
   "metadata": {},
   "source": [
    "##### コード2-52. 関数定義の例(9):キーワード引数の指定例"
   ]
  },
  {
   "cell_type": "code",
   "execution_count": 46,
   "id": "659dc80f",
   "metadata": {
    "ExecuteTime": {
     "end_time": "2023-01-26T22:22:35.860000+09:00",
     "start_time": "2023-01-26T13:22:30.028Z"
    }
   },
   "outputs": [
    {
     "data": {
      "text/plain": [
       "f3 (generic function with 1 method)"
      ]
     },
     "execution_count": 46,
     "metadata": {},
     "output_type": "execute_result"
    }
   ],
   "source": [
    "f3(x; y=1, z=0) = x + y + z"
   ]
  },
  {
   "cell_type": "code",
   "execution_count": 47,
   "id": "009554f2",
   "metadata": {
    "ExecuteTime": {
     "end_time": "2023-01-26T22:22:35.863000+09:00",
     "start_time": "2023-01-26T13:22:30.031Z"
    }
   },
   "outputs": [
    {
     "data": {
      "text/plain": [
       "2"
      ]
     },
     "execution_count": 47,
     "metadata": {},
     "output_type": "execute_result"
    }
   ],
   "source": [
    "f3(1)"
   ]
  },
  {
   "cell_type": "code",
   "execution_count": 48,
   "id": "763b6a6c",
   "metadata": {
    "ExecuteTime": {
     "end_time": "2023-01-26T22:22:35.871000+09:00",
     "start_time": "2023-01-26T13:22:30.033Z"
    }
   },
   "outputs": [
    {
     "data": {
      "text/plain": [
       "3"
      ]
     },
     "execution_count": 48,
     "metadata": {},
     "output_type": "execute_result"
    }
   ],
   "source": [
    "f3(1, y=2)"
   ]
  },
  {
   "cell_type": "code",
   "execution_count": 49,
   "id": "325f1ca7",
   "metadata": {
    "ExecuteTime": {
     "end_time": "2023-01-26T22:22:35.879000+09:00",
     "start_time": "2023-01-26T13:22:30.035Z"
    }
   },
   "outputs": [
    {
     "data": {
      "text/plain": [
       "5"
      ]
     },
     "execution_count": 49,
     "metadata": {},
     "output_type": "execute_result"
    }
   ],
   "source": [
    "f3(1, z=3)"
   ]
  },
  {
   "cell_type": "code",
   "execution_count": 50,
   "id": "76cc6a7c",
   "metadata": {
    "ExecuteTime": {
     "end_time": "2023-01-26T22:22:35.887000+09:00",
     "start_time": "2023-01-26T13:22:30.037Z"
    }
   },
   "outputs": [
    {
     "data": {
      "text/plain": [
       "6"
      ]
     },
     "execution_count": 50,
     "metadata": {},
     "output_type": "execute_result"
    }
   ],
   "source": [
    "f3(1, y=2, z=3)"
   ]
  },
  {
   "cell_type": "code",
   "execution_count": 51,
   "id": "98283b79",
   "metadata": {
    "ExecuteTime": {
     "end_time": "2023-01-26T22:22:35.895000+09:00",
     "start_time": "2023-01-26T13:22:30.038Z"
    }
   },
   "outputs": [
    {
     "data": {
      "text/plain": [
       "6"
      ]
     },
     "execution_count": 51,
     "metadata": {},
     "output_type": "execute_result"
    }
   ],
   "source": [
    "f3(1, z=3, y=2)"
   ]
  },
  {
   "cell_type": "markdown",
   "id": "1f3d3212",
   "metadata": {},
   "source": [
    "##### コード2-53. オプショナル引数指定の実例（標準関数 `lpad()`/`rpad()` の例）"
   ]
  },
  {
   "cell_type": "code",
   "execution_count": 52,
   "id": "cd430499",
   "metadata": {
    "ExecuteTime": {
     "end_time": "2023-01-26T22:22:35.895000+09:00",
     "start_time": "2023-01-26T13:22:30.041Z"
    }
   },
   "outputs": [
    {
     "data": {
      "text/plain": [
       "\"--abc\""
      ]
     },
     "execution_count": 52,
     "metadata": {},
     "output_type": "execute_result"
    }
   ],
   "source": [
    "lpad(\"abc\", 5, '-')"
   ]
  },
  {
   "cell_type": "code",
   "execution_count": 53,
   "id": "60f9b3e3",
   "metadata": {
    "ExecuteTime": {
     "end_time": "2023-01-26T22:22:35.898000+09:00",
     "start_time": "2023-01-26T13:22:30.043Z"
    }
   },
   "outputs": [
    {
     "data": {
      "text/plain": [
       "\"  abc\""
      ]
     },
     "execution_count": 53,
     "metadata": {},
     "output_type": "execute_result"
    }
   ],
   "source": [
    "lpad(\"abc\", 5)"
   ]
  },
  {
   "cell_type": "code",
   "execution_count": 54,
   "id": "baf05c5d",
   "metadata": {
    "ExecuteTime": {
     "end_time": "2023-01-26T22:22:35.898000+09:00",
     "start_time": "2023-01-26T13:22:30.045Z"
    }
   },
   "outputs": [
    {
     "data": {
      "text/plain": [
       "\"abc__\""
      ]
     },
     "execution_count": 54,
     "metadata": {},
     "output_type": "execute_result"
    }
   ],
   "source": [
    "rpad(\"abc\", 5, '_')"
   ]
  },
  {
   "cell_type": "code",
   "execution_count": 55,
   "id": "f7b98995",
   "metadata": {
    "ExecuteTime": {
     "end_time": "2023-01-26T22:22:35.901000+09:00",
     "start_time": "2023-01-26T13:22:30.047Z"
    }
   },
   "outputs": [
    {
     "data": {
      "text/plain": [
       "\"abc  \""
      ]
     },
     "execution_count": 55,
     "metadata": {},
     "output_type": "execute_result"
    }
   ],
   "source": [
    "rpad(\"abc\", 5)"
   ]
  },
  {
   "cell_type": "markdown",
   "id": "94775688",
   "metadata": {},
   "source": [
    "##### コード2-54. キーワード引数指定の実例（標準関数 `string()` の例）"
   ]
  },
  {
   "cell_type": "code",
   "execution_count": 56,
   "id": "6e43c8ec",
   "metadata": {
    "ExecuteTime": {
     "end_time": "2023-01-26T22:22:35.901000+09:00",
     "start_time": "2023-01-26T13:22:30.050Z"
    }
   },
   "outputs": [
    {
     "data": {
      "text/plain": [
       "\"123\""
      ]
     },
     "execution_count": 56,
     "metadata": {},
     "output_type": "execute_result"
    }
   ],
   "source": [
    "string(123)"
   ]
  },
  {
   "cell_type": "code",
   "execution_count": 57,
   "id": "1377cda3",
   "metadata": {
    "ExecuteTime": {
     "end_time": "2023-01-26T22:22:35.902000+09:00",
     "start_time": "2023-01-26T13:22:30.051Z"
    }
   },
   "outputs": [
    {
     "data": {
      "text/plain": [
       "\"0123\""
      ]
     },
     "execution_count": 57,
     "metadata": {},
     "output_type": "execute_result"
    }
   ],
   "source": [
    "string(123, pad=4)"
   ]
  },
  {
   "cell_type": "code",
   "execution_count": 58,
   "id": "9563101e",
   "metadata": {
    "ExecuteTime": {
     "end_time": "2023-01-26T22:22:35.902000+09:00",
     "start_time": "2023-01-26T13:22:30.053Z"
    }
   },
   "outputs": [
    {
     "data": {
      "text/plain": [
       "\"7b\""
      ]
     },
     "execution_count": 58,
     "metadata": {},
     "output_type": "execute_result"
    }
   ],
   "source": [
    "string(123, base=16)"
   ]
  },
  {
   "cell_type": "code",
   "execution_count": 59,
   "id": "4f3eef29",
   "metadata": {
    "ExecuteTime": {
     "end_time": "2023-01-26T22:22:35.903000+09:00",
     "start_time": "2023-01-26T13:22:30.055Z"
    }
   },
   "outputs": [
    {
     "data": {
      "text/plain": [
       "\"007b\""
      ]
     },
     "execution_count": 59,
     "metadata": {},
     "output_type": "execute_result"
    }
   ],
   "source": [
    "string(123, base=16, pad=4)"
   ]
  },
  {
   "cell_type": "markdown",
   "id": "dd29faf7",
   "metadata": {},
   "source": [
    "##### コード2-55. キーワード引数展開の例"
   ]
  },
  {
   "cell_type": "code",
   "execution_count": 60,
   "id": "785e0be7",
   "metadata": {
    "ExecuteTime": {
     "end_time": "2023-01-26T22:22:36.099000+09:00",
     "start_time": "2023-01-26T13:22:30.058Z"
    }
   },
   "outputs": [
    {
     "data": {
      "text/plain": [
       "(base = 16, pad = 4)"
      ]
     },
     "execution_count": 60,
     "metadata": {},
     "output_type": "execute_result"
    }
   ],
   "source": [
    "params = (base=16, pad=4)"
   ]
  },
  {
   "cell_type": "code",
   "execution_count": 61,
   "id": "db967b79",
   "metadata": {
    "ExecuteTime": {
     "end_time": "2023-01-26T22:22:36.103000+09:00",
     "start_time": "2023-01-26T13:22:30.060Z"
    }
   },
   "outputs": [
    {
     "data": {
      "text/plain": [
       "\"007b\""
      ]
     },
     "execution_count": 61,
     "metadata": {},
     "output_type": "execute_result"
    }
   ],
   "source": [
    "string(123; params...)  # `string(123; base=16, pad=4)` と等価"
   ]
  },
  {
   "cell_type": "markdown",
   "id": "9f63d7dc",
   "metadata": {},
   "source": [
    "#### 型アノテーション"
   ]
  },
  {
   "cell_type": "markdown",
   "id": "fe283b23",
   "metadata": {},
   "source": [
    "##### コード2-56. 関数定義の例(10)：型アノテーションの指定例"
   ]
  },
  {
   "cell_type": "code",
   "execution_count": 66,
   "id": "bfb96705",
   "metadata": {
    "ExecuteTime": {
     "end_time": "2023-01-26T22:22:36.285000+09:00",
     "start_time": "2023-01-26T13:22:30.072Z"
    }
   },
   "outputs": [
    {
     "data": {
      "text/plain": [
       "addint (generic function with 1 method)"
      ]
     },
     "execution_count": 66,
     "metadata": {},
     "output_type": "execute_result"
    }
   ],
   "source": [
    "function addint(x::Integer, y::Integer)::Int\n",
    "    x + y\n",
    "end"
   ]
  },
  {
   "cell_type": "code",
   "execution_count": 67,
   "id": "361f3a8e",
   "metadata": {
    "ExecuteTime": {
     "end_time": "2023-01-26T22:22:36.288000+09:00",
     "start_time": "2023-01-26T13:22:30.076Z"
    }
   },
   "outputs": [
    {
     "data": {
      "text/plain": [
       "3"
      ]
     },
     "execution_count": 67,
     "metadata": {},
     "output_type": "execute_result"
    }
   ],
   "source": [
    "addint(1, 2)"
   ]
  },
  {
   "cell_type": "code",
   "execution_count": 68,
   "id": "72da3875",
   "metadata": {
    "ExecuteTime": {
     "end_time": "2023-01-26T22:22:36.290000+09:00",
     "start_time": "2023-01-26T13:22:30.078Z"
    }
   },
   "outputs": [
    {
     "data": {
      "text/plain": [
       "7"
      ]
     },
     "execution_count": 68,
     "metadata": {},
     "output_type": "execute_result"
    }
   ],
   "source": [
    "addint(0x03, 0x04)"
   ]
  },
  {
   "cell_type": "code",
   "execution_count": 69,
   "id": "c4c3946f",
   "metadata": {
    "ExecuteTime": {
     "end_time": "2023-01-26T22:22:37.249000+09:00",
     "start_time": "2023-01-26T13:22:30.079Z"
    }
   },
   "outputs": [
    {
     "ename": "LoadError",
     "evalue": "MethodError: no method matching addint(::Float64, ::Float64)",
     "output_type": "error",
     "traceback": [
      "MethodError: no method matching addint(::Float64, ::Float64)",
      "",
      "Stacktrace:",
      " [1] top-level scope",
      "   @ In[69]:1"
     ]
    }
   ],
   "source": [
    "addint(1.0, 2.0)"
   ]
  },
  {
   "cell_type": "markdown",
   "id": "b4e3812e",
   "metadata": {},
   "source": [
    "#### `return` 文"
   ]
  },
  {
   "cell_type": "markdown",
   "id": "cfe13caf",
   "metadata": {},
   "source": [
    "##### コード2-57. 関数定義の例(11)：`return` の指定例(1)"
   ]
  },
  {
   "cell_type": "code",
   "execution_count": 70,
   "id": "0a2d84ef",
   "metadata": {
    "ExecuteTime": {
     "end_time": "2023-01-26T22:22:37.323000+09:00",
     "start_time": "2023-01-26T13:22:30.082Z"
    }
   },
   "outputs": [
    {
     "data": {
      "text/plain": [
       "fib_simple (generic function with 1 method)"
      ]
     },
     "execution_count": 70,
     "metadata": {},
     "output_type": "execute_result"
    }
   ],
   "source": [
    "function fib_simple(n)\n",
    "    if n ≤ 1\n",
    "        return n\n",
    "    end\n",
    "    fib_simple(n - 1) + fib_simple(n - 2)\n",
    "end"
   ]
  },
  {
   "cell_type": "markdown",
   "id": "b2f6affb",
   "metadata": {},
   "source": [
    "##### コード2-58. 関数定義の例(12)：`return` の指定例(2)"
   ]
  },
  {
   "cell_type": "code",
   "execution_count": 71,
   "id": "9bc985d6",
   "metadata": {
    "ExecuteTime": {
     "end_time": "2023-01-26T22:22:37.390000+09:00",
     "start_time": "2023-01-26T13:22:30.084Z"
    }
   },
   "outputs": [
    {
     "data": {
      "text/plain": [
       "emptyfunction (generic function with 1 method)"
      ]
     },
     "execution_count": 71,
     "metadata": {},
     "output_type": "execute_result"
    }
   ],
   "source": [
    "function emptyfunction()\n",
    "    return\n",
    "end"
   ]
  },
  {
   "cell_type": "code",
   "execution_count": 72,
   "id": "b3da1293",
   "metadata": {
    "ExecuteTime": {
     "end_time": "2023-01-26T22:22:37.674000+09:00",
     "start_time": "2023-01-26T13:22:30.086Z"
    }
   },
   "outputs": [
    {
     "data": {
      "text/plain": [
       "Nothing"
      ]
     },
     "execution_count": 72,
     "metadata": {},
     "output_type": "execute_result"
    }
   ],
   "source": [
    "typeof(emptyfunction())"
   ]
  },
  {
   "cell_type": "markdown",
   "id": "3eab0440",
   "metadata": {},
   "source": [
    "### 2-4-3. 関数適用演算子"
   ]
  },
  {
   "cell_type": "markdown",
   "id": "2b72ba54",
   "metadata": {},
   "source": [
    "#### コード2-59. 複雑な関数呼び出し（多重ネスト）"
   ]
  },
  {
   "cell_type": "code",
   "execution_count": 73,
   "id": "648fa95d",
   "metadata": {
    "ExecuteTime": {
     "end_time": "2023-01-26T22:22:37.720000+09:00",
     "start_time": "2023-01-26T13:22:30.090Z"
    }
   },
   "outputs": [
    {
     "name": "stdout",
     "output_type": "stream",
     "text": [
      "10.0\n"
     ]
    }
   ],
   "source": [
    "println(sqrt(sum(1:2:20)))"
   ]
  },
  {
   "cell_type": "markdown",
   "id": "85f95547",
   "metadata": {},
   "source": [
    "#### コード2-60. パイプライン演算子の使用例"
   ]
  },
  {
   "cell_type": "code",
   "execution_count": 74,
   "id": "fbfd95ca",
   "metadata": {
    "ExecuteTime": {
     "end_time": "2023-01-26T22:22:37.729000+09:00",
     "start_time": "2023-01-26T13:22:30.093Z"
    }
   },
   "outputs": [
    {
     "name": "stdout",
     "output_type": "stream",
     "text": [
      "10.0\n"
     ]
    }
   ],
   "source": [
    "1:2:20 |> sum |> sqrt |> println"
   ]
  },
  {
   "cell_type": "markdown",
   "id": "c4c65b7e",
   "metadata": {},
   "source": [
    "#### コード2-61. 関数合成演算子の使用例"
   ]
  },
  {
   "cell_type": "code",
   "execution_count": 75,
   "id": "34eb7b93",
   "metadata": {
    "ExecuteTime": {
     "end_time": "2023-01-26T22:22:37.739000+09:00",
     "start_time": "2023-01-26T13:22:30.096Z"
    }
   },
   "outputs": [
    {
     "name": "stdout",
     "output_type": "stream",
     "text": [
      "10.0\n"
     ]
    }
   ],
   "source": [
    "(println ∘ sqrt ∘ sum)(1:2:20)"
   ]
  },
  {
   "cell_type": "markdown",
   "id": "030cb620",
   "metadata": {},
   "source": [
    "#### コード2-62. パイプライン演算子と関数合成演算子の組合せ使用例"
   ]
  },
  {
   "cell_type": "code",
   "execution_count": 76,
   "id": "dbe68f52",
   "metadata": {
    "ExecuteTime": {
     "end_time": "2023-01-26T22:22:37.747000+09:00",
     "start_time": "2023-01-26T13:22:30.098Z"
    }
   },
   "outputs": [
    {
     "name": "stdout",
     "output_type": "stream",
     "text": [
      "10.0\n"
     ]
    }
   ],
   "source": [
    "1:2:20 |> sqrt ∘ sum |> println"
   ]
  },
  {
   "cell_type": "markdown",
   "id": "3a9cbe5b",
   "metadata": {},
   "source": [
    "#### コード2-63. パイプライン演算子・関数合成演算子と無名関数の組合せ使用例"
   ]
  },
  {
   "cell_type": "code",
   "execution_count": 77,
   "id": "aad0baaa",
   "metadata": {
    "ExecuteTime": {
     "end_time": "2023-01-26T22:22:37.769000+09:00",
     "start_time": "2023-01-26T13:22:30.100Z"
    }
   },
   "outputs": [
    {
     "name": "stdout",
     "output_type": "stream",
     "text": [
      "10000\n"
     ]
    }
   ],
   "source": [
    "1:2:20 |> sum |> (x -> x^2) |> println"
   ]
  },
  {
   "cell_type": "code",
   "execution_count": 78,
   "id": "3d6def49",
   "metadata": {
    "ExecuteTime": {
     "end_time": "2023-01-26T22:22:37.778000+09:00",
     "start_time": "2023-01-26T13:22:30.102Z"
    }
   },
   "outputs": [
    {
     "name": "stdout",
     "output_type": "stream",
     "text": [
      "10000\n"
     ]
    }
   ],
   "source": [
    "(println ∘ (x -> x^2) ∘ sum)(1:2:20)"
   ]
  },
  {
   "cell_type": "code",
   "execution_count": 79,
   "id": "40905d72",
   "metadata": {
    "ExecuteTime": {
     "end_time": "2023-01-26T22:22:37.786000+09:00",
     "start_time": "2023-01-26T13:22:30.104Z"
    }
   },
   "outputs": [
    {
     "name": "stdout",
     "output_type": "stream",
     "text": [
      "10000\n"
     ]
    }
   ],
   "source": [
    "1:2:20 |> (x -> x^2) ∘ sum |> println"
   ]
  }
 ],
 "metadata": {
  "jupytext": {
   "formats": "ipynb,auto:light"
  },
  "kernelspec": {
   "display_name": "Julia 1.8.5",
   "language": "julia",
   "name": "julia-1.8"
  },
  "language_info": {
   "file_extension": ".jl",
   "mimetype": "application/julia",
   "name": "julia",
   "version": "1.8.5"
  }
 },
 "nbformat": 4,
 "nbformat_minor": 5
}
