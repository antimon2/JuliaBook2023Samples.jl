{
 "cells": [
  {
   "cell_type": "code",
   "execution_count": 1,
   "id": "a7623edb",
   "metadata": {
    "ExecuteTime": {
     "end_time": "2023-01-26T21:57:42.277000+09:00",
     "start_time": "2023-01-26T12:57:40.943Z"
    }
   },
   "outputs": [
    {
     "name": "stdout",
     "output_type": "stream",
     "text": [
      "Julia Version 1.8.5\n",
      "Commit 17cfb8e65ea (2023-01-08 06:45 UTC)\n",
      "Platform Info:\n",
      "  OS: Linux (x86_64-linux-gnu)\n",
      "  CPU: 12 × Intel(R) Core(TM) i7-9750H CPU @ 2.60GHz\n",
      "  WORD_SIZE: 64\n",
      "  LIBM: libopenlibm\n",
      "  LLVM: libLLVM-13.0.1 (ORCJIT, skylake)\n",
      "  Threads: 1 on 12 virtual cores\n"
     ]
    }
   ],
   "source": [
    "versioninfo()"
   ]
  },
  {
   "cell_type": "markdown",
   "id": "a28921d8",
   "metadata": {},
   "source": [
    "## 2-1. リテラル"
   ]
  },
  {
   "cell_type": "markdown",
   "id": "8b2c7499",
   "metadata": {},
   "source": [
    "### 2-1-1. 数値リテラル"
   ]
  },
  {
   "cell_type": "markdown",
   "id": "ccb9fd70",
   "metadata": {},
   "source": [
    "#### 整数値"
   ]
  },
  {
   "cell_type": "markdown",
   "id": "293ee2b5",
   "metadata": {},
   "source": [
    "##### コード2-1. 整数リテラルの例(1)"
   ]
  },
  {
   "cell_type": "code",
   "execution_count": 2,
   "id": "eb7bfbc3",
   "metadata": {
    "ExecuteTime": {
     "end_time": "2023-01-26T21:57:42.678000+09:00",
     "start_time": "2023-01-26T12:57:40.949Z"
    }
   },
   "outputs": [
    {
     "data": {
      "text/plain": [
       "1"
      ]
     },
     "execution_count": 2,
     "metadata": {},
     "output_type": "execute_result"
    }
   ],
   "source": [
    "1"
   ]
  },
  {
   "cell_type": "code",
   "execution_count": 3,
   "id": "3b5e5afa",
   "metadata": {
    "ExecuteTime": {
     "end_time": "2023-01-26T21:57:42.678000+09:00",
     "start_time": "2023-01-26T12:57:40.951Z"
    }
   },
   "outputs": [
    {
     "data": {
      "text/plain": [
       "-12345"
      ]
     },
     "execution_count": 3,
     "metadata": {},
     "output_type": "execute_result"
    }
   ],
   "source": [
    "-12345"
   ]
  },
  {
   "cell_type": "code",
   "execution_count": 4,
   "id": "5aeb78b2",
   "metadata": {
    "ExecuteTime": {
     "end_time": "2023-01-26T21:57:42.679000+09:00",
     "start_time": "2023-01-26T12:57:40.954Z"
    }
   },
   "outputs": [
    {
     "data": {
      "text/plain": [
       "1000000000"
      ]
     },
     "execution_count": 4,
     "metadata": {},
     "output_type": "execute_result"
    }
   ],
   "source": [
    "1_000_000_000"
   ]
  },
  {
   "cell_type": "code",
   "execution_count": 5,
   "id": "900fe849",
   "metadata": {
    "ExecuteTime": {
     "end_time": "2023-01-26T21:57:42.887000+09:00",
     "start_time": "2023-01-26T12:57:40.957Z"
    }
   },
   "outputs": [
    {
     "data": {
      "text/plain": [
       "0x0123456789abcdef"
      ]
     },
     "execution_count": 5,
     "metadata": {},
     "output_type": "execute_result"
    }
   ],
   "source": [
    "0x123456789abcdef"
   ]
  },
  {
   "cell_type": "code",
   "execution_count": 6,
   "id": "24b4ca23",
   "metadata": {
    "ExecuteTime": {
     "end_time": "2023-01-26T21:57:43.056000+09:00",
     "start_time": "2023-01-26T12:57:40.960Z"
    }
   },
   "outputs": [
    {
     "data": {
      "text/plain": [
       "0x00053977"
      ]
     },
     "execution_count": 6,
     "metadata": {},
     "output_type": "execute_result"
    }
   ],
   "source": [
    "0o1234567"
   ]
  },
  {
   "cell_type": "code",
   "execution_count": 7,
   "id": "811be8ff",
   "metadata": {
    "ExecuteTime": {
     "end_time": "2023-01-26T21:57:43.212000+09:00",
     "start_time": "2023-01-26T12:57:40.962Z"
    }
   },
   "outputs": [
    {
     "data": {
      "text/plain": [
       "0xd5"
      ]
     },
     "execution_count": 7,
     "metadata": {},
     "output_type": "execute_result"
    }
   ],
   "source": [
    "0b11010101"
   ]
  },
  {
   "cell_type": "markdown",
   "id": "48724a30",
   "metadata": {},
   "source": [
    "##### コード2-2. 整数リテラルの例(2)"
   ]
  },
  {
   "cell_type": "code",
   "execution_count": 8,
   "id": "e14641c9",
   "metadata": {
    "ExecuteTime": {
     "end_time": "2023-01-26T21:57:43.542000+09:00",
     "start_time": "2023-01-26T12:57:40.964Z"
    }
   },
   "outputs": [
    {
     "data": {
      "text/plain": [
       "18446744073709551616"
      ]
     },
     "execution_count": 8,
     "metadata": {},
     "output_type": "execute_result"
    }
   ],
   "source": [
    "int128\"18446744073709551616\""
   ]
  },
  {
   "cell_type": "code",
   "execution_count": 9,
   "id": "d3200a51",
   "metadata": {
    "ExecuteTime": {
     "end_time": "2023-01-26T21:57:43.701000+09:00",
     "start_time": "2023-01-26T12:57:40.966Z"
    }
   },
   "outputs": [
    {
     "data": {
      "text/plain": [
       "0x00000000000000010000000000000000"
      ]
     },
     "execution_count": 9,
     "metadata": {},
     "output_type": "execute_result"
    }
   ],
   "source": [
    "uint128\"18446744073709551616\""
   ]
  },
  {
   "cell_type": "code",
   "execution_count": 10,
   "id": "25c35c8d",
   "metadata": {
    "ExecuteTime": {
     "end_time": "2023-01-26T21:57:43.931000+09:00",
     "start_time": "2023-01-26T12:57:40.969Z"
    }
   },
   "outputs": [
    {
     "data": {
      "text/plain": [
       "18446744073709551616"
      ]
     },
     "execution_count": 10,
     "metadata": {},
     "output_type": "execute_result"
    }
   ],
   "source": [
    "big\"18446744073709551616\""
   ]
  },
  {
   "cell_type": "markdown",
   "id": "49aa9877",
   "metadata": {},
   "source": [
    "#### 浮動小数点数値"
   ]
  },
  {
   "cell_type": "markdown",
   "id": "df150800",
   "metadata": {},
   "source": [
    "##### コード2-3. 浮動小数点数リテラルの例(1)"
   ]
  },
  {
   "cell_type": "code",
   "execution_count": 11,
   "id": "4d48fca6",
   "metadata": {
    "ExecuteTime": {
     "end_time": "2023-01-26T21:57:44.098000+09:00",
     "start_time": "2023-01-26T12:57:40.972Z"
    }
   },
   "outputs": [
    {
     "data": {
      "text/plain": [
       "1.0"
      ]
     },
     "execution_count": 11,
     "metadata": {},
     "output_type": "execute_result"
    }
   ],
   "source": [
    "1.0"
   ]
  },
  {
   "cell_type": "code",
   "execution_count": 12,
   "id": "1c404381",
   "metadata": {
    "ExecuteTime": {
     "end_time": "2023-01-26T21:57:44.099000+09:00",
     "start_time": "2023-01-26T12:57:40.975Z"
    }
   },
   "outputs": [
    {
     "data": {
      "text/plain": [
       "-2.0"
      ]
     },
     "execution_count": 12,
     "metadata": {},
     "output_type": "execute_result"
    }
   ],
   "source": [
    "-2."
   ]
  },
  {
   "cell_type": "code",
   "execution_count": 13,
   "id": "299ff52e",
   "metadata": {
    "ExecuteTime": {
     "end_time": "2023-01-26T21:57:44.099000+09:00",
     "start_time": "2023-01-26T12:57:40.977Z"
    }
   },
   "outputs": [
    {
     "data": {
      "text/plain": [
       "0.1"
      ]
     },
     "execution_count": 13,
     "metadata": {},
     "output_type": "execute_result"
    }
   ],
   "source": [
    ".1"
   ]
  },
  {
   "cell_type": "code",
   "execution_count": 14,
   "id": "d3aca153",
   "metadata": {
    "ExecuteTime": {
     "end_time": "2023-01-26T21:57:44.099000+09:00",
     "start_time": "2023-01-26T12:57:40.979Z"
    }
   },
   "outputs": [
    {
     "data": {
      "text/plain": [
       "1000.0"
      ]
     },
     "execution_count": 14,
     "metadata": {},
     "output_type": "execute_result"
    }
   ],
   "source": [
    "1_000.000_000"
   ]
  },
  {
   "cell_type": "code",
   "execution_count": 15,
   "id": "a01afbd6",
   "metadata": {
    "ExecuteTime": {
     "end_time": "2023-01-26T21:57:44.100000+09:00",
     "start_time": "2023-01-26T12:57:40.981Z"
    }
   },
   "outputs": [
    {
     "data": {
      "text/plain": [
       "314.16"
      ]
     },
     "execution_count": 15,
     "metadata": {},
     "output_type": "execute_result"
    }
   ],
   "source": [
    "3.1416e2"
   ]
  },
  {
   "cell_type": "code",
   "execution_count": 16,
   "id": "255392d0",
   "metadata": {
    "ExecuteTime": {
     "end_time": "2023-01-26T21:57:44.100000+09:00",
     "start_time": "2023-01-26T12:57:40.983Z"
    }
   },
   "outputs": [
    {
     "data": {
      "text/plain": [
       "1.0e-17"
      ]
     },
     "execution_count": 16,
     "metadata": {},
     "output_type": "execute_result"
    }
   ],
   "source": [
    "1e-17"
   ]
  },
  {
   "cell_type": "code",
   "execution_count": 17,
   "id": "02abe835",
   "metadata": {
    "ExecuteTime": {
     "end_time": "2023-01-26T21:57:44.267000+09:00",
     "start_time": "2023-01-26T12:57:40.985Z"
    }
   },
   "outputs": [
    {
     "data": {
      "text/plain": [
       "1.0f10"
      ]
     },
     "execution_count": 17,
     "metadata": {},
     "output_type": "execute_result"
    }
   ],
   "source": [
    "1f10"
   ]
  },
  {
   "cell_type": "code",
   "execution_count": 18,
   "id": "e26ee16e",
   "metadata": {
    "ExecuteTime": {
     "end_time": "2023-01-26T21:57:44.268000+09:00",
     "start_time": "2023-01-26T12:57:40.987Z"
    }
   },
   "outputs": [
    {
     "data": {
      "text/plain": [
       "31.5"
      ]
     },
     "execution_count": 18,
     "metadata": {},
     "output_type": "execute_result"
    }
   ],
   "source": [
    "0x1f.8p0"
   ]
  },
  {
   "cell_type": "markdown",
   "id": "9edc7919",
   "metadata": {},
   "source": [
    "##### コード2-4. 浮動小数点数リテラルの例(2)"
   ]
  },
  {
   "cell_type": "code",
   "execution_count": 19,
   "id": "85995c18",
   "metadata": {
    "ExecuteTime": {
     "end_time": "2023-01-26T21:57:44.458000+09:00",
     "start_time": "2023-01-26T12:57:40.990Z"
    }
   },
   "outputs": [
    {
     "data": {
      "text/plain": [
       "3.141592653589793238462643383279502884197169399375105820974944592307816406286198"
      ]
     },
     "execution_count": 19,
     "metadata": {},
     "output_type": "execute_result"
    }
   ],
   "source": [
    "big\"3.141592653589793238462643383279502884197169399375105820974944592307816406286208\""
   ]
  },
  {
   "cell_type": "code",
   "execution_count": 20,
   "id": "6dd2881f",
   "metadata": {
    "ExecuteTime": {
     "end_time": "2023-01-26T21:57:44.477000+09:00",
     "start_time": "2023-01-26T12:57:40.992Z"
    }
   },
   "outputs": [
    {
     "data": {
      "text/plain": [
       "1.000000000000000000000000000000000000000000000000000000000000000000000000000004e-308"
      ]
     },
     "execution_count": 20,
     "metadata": {},
     "output_type": "execute_result"
    }
   ],
   "source": [
    "big\"1e-308\""
   ]
  },
  {
   "cell_type": "code",
   "execution_count": 21,
   "id": "064fd782",
   "metadata": {
    "ExecuteTime": {
     "end_time": "2023-01-26T21:57:44.478000+09:00",
     "start_time": "2023-01-26T12:57:40.995Z"
    }
   },
   "outputs": [
    {
     "data": {
      "text/plain": [
       "1.9648584303537555723198899683328e+31"
      ]
     },
     "execution_count": 21,
     "metadata": {},
     "output_type": "execute_result"
    }
   ],
   "source": [
    "big\"0x1fp99\""
   ]
  },
  {
   "cell_type": "markdown",
   "id": "da840484",
   "metadata": {},
   "source": [
    "#### 有理数/複素数"
   ]
  },
  {
   "cell_type": "markdown",
   "id": "0b6633fb",
   "metadata": {},
   "source": [
    "##### コード2-5. 有理数リテラルの例"
   ]
  },
  {
   "cell_type": "code",
   "execution_count": 22,
   "id": "a17c2d36",
   "metadata": {
    "ExecuteTime": {
     "end_time": "2023-01-26T21:57:44.688000+09:00",
     "start_time": "2023-01-26T12:57:40.997Z"
    }
   },
   "outputs": [
    {
     "data": {
      "text/plain": [
       "1//2"
      ]
     },
     "execution_count": 22,
     "metadata": {},
     "output_type": "execute_result"
    }
   ],
   "source": [
    "1//2"
   ]
  },
  {
   "cell_type": "code",
   "execution_count": 23,
   "id": "8bbfd160",
   "metadata": {
    "ExecuteTime": {
     "end_time": "2023-01-26T21:57:44.689000+09:00",
     "start_time": "2023-01-26T12:57:41.000Z"
    }
   },
   "outputs": [
    {
     "data": {
      "text/plain": [
       "-3//5"
      ]
     },
     "execution_count": 23,
     "metadata": {},
     "output_type": "execute_result"
    }
   ],
   "source": [
    "-12//20"
   ]
  },
  {
   "cell_type": "code",
   "execution_count": 24,
   "id": "fe9daeae",
   "metadata": {
    "ExecuteTime": {
     "end_time": "2023-01-26T21:57:44.690000+09:00",
     "start_time": "2023-01-26T12:57:41.002Z"
    }
   },
   "outputs": [
    {
     "data": {
      "text/plain": [
       "1//0"
      ]
     },
     "execution_count": 24,
     "metadata": {},
     "output_type": "execute_result"
    }
   ],
   "source": [
    "3//0"
   ]
  },
  {
   "cell_type": "markdown",
   "id": "63cb4fbd",
   "metadata": {},
   "source": [
    "##### コード2-6. 複素数リテラルの例"
   ]
  },
  {
   "cell_type": "code",
   "execution_count": 25,
   "id": "011ebd76",
   "metadata": {
    "ExecuteTime": {
     "end_time": "2023-01-26T21:57:44.867000+09:00",
     "start_time": "2023-01-26T12:57:41.004Z"
    }
   },
   "outputs": [
    {
     "data": {
      "text/plain": [
       "im"
      ]
     },
     "execution_count": 25,
     "metadata": {},
     "output_type": "execute_result"
    }
   ],
   "source": [
    "im"
   ]
  },
  {
   "cell_type": "code",
   "execution_count": 26,
   "id": "95184ca6",
   "metadata": {
    "ExecuteTime": {
     "end_time": "2023-01-26T21:57:45.052000+09:00",
     "start_time": "2023-01-26T12:57:41.006Z"
    }
   },
   "outputs": [
    {
     "data": {
      "text/plain": [
       "1 + 1im"
      ]
     },
     "execution_count": 26,
     "metadata": {},
     "output_type": "execute_result"
    }
   ],
   "source": [
    "1 + im"
   ]
  },
  {
   "cell_type": "code",
   "execution_count": 27,
   "id": "6f4180a3",
   "metadata": {
    "ExecuteTime": {
     "end_time": "2023-01-26T21:57:45.240000+09:00",
     "start_time": "2023-01-26T12:57:41.008Z"
    }
   },
   "outputs": [
    {
     "data": {
      "text/plain": [
       "2.0 + 3.2im"
      ]
     },
     "execution_count": 27,
     "metadata": {},
     "output_type": "execute_result"
    }
   ],
   "source": [
    "2.0 + 3.2im"
   ]
  },
  {
   "cell_type": "markdown",
   "id": "9de479d2",
   "metadata": {},
   "source": [
    "### 2-1-2. 文字リテラル/文字列リテラル"
   ]
  },
  {
   "cell_type": "markdown",
   "id": "e537f52c",
   "metadata": {},
   "source": [
    "#### 文字"
   ]
  },
  {
   "cell_type": "markdown",
   "id": "332dd2ce",
   "metadata": {},
   "source": [
    "##### コード2-7. 文字リテラルの例(1)"
   ]
  },
  {
   "cell_type": "code",
   "execution_count": 28,
   "id": "5aaa7938",
   "metadata": {
    "ExecuteTime": {
     "end_time": "2023-01-26T21:57:45.495000+09:00",
     "start_time": "2023-01-26T12:57:41.012Z"
    }
   },
   "outputs": [
    {
     "data": {
      "text/plain": [
       "'a': ASCII/Unicode U+0061 (category Ll: Letter, lowercase)"
      ]
     },
     "execution_count": 28,
     "metadata": {},
     "output_type": "execute_result"
    }
   ],
   "source": [
    "'a'"
   ]
  },
  {
   "cell_type": "code",
   "execution_count": 29,
   "id": "e9ce0686",
   "metadata": {
    "ExecuteTime": {
     "end_time": "2023-01-26T21:57:45.496000+09:00",
     "start_time": "2023-01-26T12:57:41.014Z"
    }
   },
   "outputs": [
    {
     "data": {
      "text/plain": [
       "'π': Unicode U+03C0 (category Ll: Letter, lowercase)"
      ]
     },
     "execution_count": 29,
     "metadata": {},
     "output_type": "execute_result"
    }
   ],
   "source": [
    "'π'"
   ]
  },
  {
   "cell_type": "code",
   "execution_count": 30,
   "id": "407cafed",
   "metadata": {
    "ExecuteTime": {
     "end_time": "2023-01-26T21:57:45.496000+09:00",
     "start_time": "2023-01-26T12:57:41.016Z"
    }
   },
   "outputs": [
    {
     "data": {
      "text/plain": [
       "'あ': Unicode U+3042 (category Lo: Letter, other)"
      ]
     },
     "execution_count": 30,
     "metadata": {},
     "output_type": "execute_result"
    }
   ],
   "source": [
    "'あ'"
   ]
  },
  {
   "cell_type": "code",
   "execution_count": 31,
   "id": "31dad6d1",
   "metadata": {
    "ExecuteTime": {
     "end_time": "2023-01-26T21:57:45.497000+09:00",
     "start_time": "2023-01-26T12:57:41.018Z"
    }
   },
   "outputs": [
    {
     "data": {
      "text/plain": [
       "'漢': Unicode U+6F22 (category Lo: Letter, other)"
      ]
     },
     "execution_count": 31,
     "metadata": {},
     "output_type": "execute_result"
    }
   ],
   "source": [
    "'漢'"
   ]
  },
  {
   "cell_type": "code",
   "execution_count": 32,
   "id": "6555ee09",
   "metadata": {
    "ExecuteTime": {
     "end_time": "2023-01-26T21:57:45.497000+09:00",
     "start_time": "2023-01-26T12:57:41.020Z"
    }
   },
   "outputs": [
    {
     "data": {
      "text/plain": [
       "'😄': Unicode U+1F604 (category So: Symbol, other)"
      ]
     },
     "execution_count": 32,
     "metadata": {},
     "output_type": "execute_result"
    }
   ],
   "source": [
    "'😄'"
   ]
  },
  {
   "cell_type": "markdown",
   "id": "4139885e",
   "metadata": {},
   "source": [
    "##### コード2-8. 文字リテラルの例(2)"
   ]
  },
  {
   "cell_type": "code",
   "execution_count": 33,
   "id": "43f2d966",
   "metadata": {
    "ExecuteTime": {
     "end_time": "2023-01-26T21:57:45.497000+09:00",
     "start_time": "2023-01-26T12:57:41.022Z"
    }
   },
   "outputs": [
    {
     "data": {
      "text/plain": [
       "'\\n': ASCII/Unicode U+000A (category Cc: Other, control)"
      ]
     },
     "execution_count": 33,
     "metadata": {},
     "output_type": "execute_result"
    }
   ],
   "source": [
    "'\\n'"
   ]
  },
  {
   "cell_type": "code",
   "execution_count": 34,
   "id": "2776b313",
   "metadata": {
    "ExecuteTime": {
     "end_time": "2023-01-26T21:57:45.498000+09:00",
     "start_time": "2023-01-26T12:57:41.024Z"
    }
   },
   "outputs": [
    {
     "data": {
      "text/plain": [
       "'\\'': ASCII/Unicode U+0027 (category Po: Punctuation, other)"
      ]
     },
     "execution_count": 34,
     "metadata": {},
     "output_type": "execute_result"
    }
   ],
   "source": [
    "'\\''"
   ]
  },
  {
   "cell_type": "code",
   "execution_count": 35,
   "id": "2fdae36f",
   "metadata": {
    "ExecuteTime": {
     "end_time": "2023-01-26T21:57:45.498000+09:00",
     "start_time": "2023-01-26T12:57:41.026Z"
    }
   },
   "outputs": [
    {
     "data": {
      "text/plain": [
       "'A': ASCII/Unicode U+0041 (category Lu: Letter, uppercase)"
      ]
     },
     "execution_count": 35,
     "metadata": {},
     "output_type": "execute_result"
    }
   ],
   "source": [
    "'\\x41'"
   ]
  },
  {
   "cell_type": "code",
   "execution_count": 36,
   "id": "2989d118",
   "metadata": {
    "ExecuteTime": {
     "end_time": "2023-01-26T21:57:45.498000+09:00",
     "start_time": "2023-01-26T12:57:41.028Z"
    }
   },
   "outputs": [
    {
     "data": {
      "text/plain": [
       "'㋿': Unicode U+32FF (category So: Symbol, other)"
      ]
     },
     "execution_count": 36,
     "metadata": {},
     "output_type": "execute_result"
    }
   ],
   "source": [
    "'\\u32ff'"
   ]
  },
  {
   "cell_type": "markdown",
   "id": "63f39aa2",
   "metadata": {},
   "source": [
    "#### 文字列"
   ]
  },
  {
   "cell_type": "markdown",
   "id": "2af4c3cd",
   "metadata": {},
   "source": [
    "##### コード2-9. 文字列リテラルの例(1)"
   ]
  },
  {
   "cell_type": "code",
   "execution_count": 37,
   "id": "ccb13637",
   "metadata": {
    "ExecuteTime": {
     "end_time": "2023-01-26T21:57:45.895000+09:00",
     "start_time": "2023-01-26T12:57:41.032Z"
    }
   },
   "outputs": [
    {
     "data": {
      "text/plain": [
       "\"a\""
      ]
     },
     "execution_count": 37,
     "metadata": {},
     "output_type": "execute_result"
    }
   ],
   "source": [
    "\"a\""
   ]
  },
  {
   "cell_type": "code",
   "execution_count": 38,
   "id": "062a44d5",
   "metadata": {
    "ExecuteTime": {
     "end_time": "2023-01-26T21:57:45.896000+09:00",
     "start_time": "2023-01-26T12:57:41.034Z"
    }
   },
   "outputs": [
    {
     "data": {
      "text/plain": [
       "\"abcあいう漢字\""
      ]
     },
     "execution_count": 38,
     "metadata": {},
     "output_type": "execute_result"
    }
   ],
   "source": [
    "\"abcあいう漢字\""
   ]
  },
  {
   "cell_type": "code",
   "execution_count": 39,
   "id": "20e0b4d4",
   "metadata": {
    "ExecuteTime": {
     "end_time": "2023-01-26T21:57:45.896000+09:00",
     "start_time": "2023-01-26T12:57:41.036Z"
    }
   },
   "outputs": [
    {
     "data": {
      "text/plain": [
       "\"\""
      ]
     },
     "execution_count": 39,
     "metadata": {},
     "output_type": "execute_result"
    }
   ],
   "source": [
    "\"\""
   ]
  },
  {
   "cell_type": "code",
   "execution_count": 40,
   "id": "3fcd7991",
   "metadata": {
    "ExecuteTime": {
     "end_time": "2023-01-26T21:57:45.897000+09:00",
     "start_time": "2023-01-26T12:57:41.038Z"
    }
   },
   "outputs": [
    {
     "data": {
      "text/plain": [
       "\"Aaあ\""
      ]
     },
     "execution_count": 40,
     "metadata": {},
     "output_type": "execute_result"
    }
   ],
   "source": [
    "\"\\x41a\\u3042\""
   ]
  },
  {
   "cell_type": "code",
   "execution_count": 41,
   "id": "8a1b844c",
   "metadata": {
    "ExecuteTime": {
     "end_time": "2023-01-26T21:57:45.897000+09:00",
     "start_time": "2023-01-26T12:57:41.040Z"
    }
   },
   "outputs": [
    {
     "data": {
      "text/plain": [
       "\"複数行文字列\\n    2行目（インデント：4）\\n3行目\""
      ]
     },
     "execution_count": 41,
     "metadata": {},
     "output_type": "execute_result"
    }
   ],
   "source": [
    "\"複数行文字列\n",
    "    2行目（インデント：4）\n",
    "3行目\""
   ]
  },
  {
   "cell_type": "code",
   "execution_count": 42,
   "id": "44b1bad3",
   "metadata": {
    "ExecuteTime": {
     "end_time": "2023-01-26T21:57:45.898000+09:00",
     "start_time": "2023-01-26T12:57:41.042Z"
    }
   },
   "outputs": [
    {
     "data": {
      "text/plain": [
       "\"複数行文字列\\n    2行目（インデント：4）\\n3行目\""
      ]
     },
     "execution_count": 42,
     "metadata": {},
     "output_type": "execute_result"
    }
   ],
   "source": [
    "\"\"\"\n",
    "複数行文字列\n",
    "    2行目（インデント：4）\n",
    "3行目\"\"\""
   ]
  },
  {
   "cell_type": "markdown",
   "id": "862162d8",
   "metadata": {},
   "source": [
    "##### コード2-10. 文字列リテラルの例(2)"
   ]
  },
  {
   "cell_type": "code",
   "execution_count": 43,
   "id": "514ff12c",
   "metadata": {
    "ExecuteTime": {
     "end_time": "2023-01-26T21:57:45.903000+09:00",
     "start_time": "2023-01-26T12:57:41.045Z"
    }
   },
   "outputs": [
    {
     "name": "stdout",
     "output_type": "stream",
     "text": [
      "\n",
      "  最初の改行は反映されて↑に空行ができる\n",
      "    \" ←エスケープ必要\n",
      "  ←ここもインデントされる\n"
     ]
    }
   ],
   "source": [
    "println(\"\n",
    "  最初の改行は反映されて↑に空行ができる\n",
    "    \\\" ←エスケープ必要\n",
    "  ←ここもインデントされる\")"
   ]
  },
  {
   "cell_type": "code",
   "execution_count": 44,
   "id": "c9f5ef1c",
   "metadata": {
    "ExecuteTime": {
     "end_time": "2023-01-26T21:57:45.903000+09:00",
     "start_time": "2023-01-26T12:57:41.047Z"
    }
   },
   "outputs": [
    {
     "name": "stdout",
     "output_type": "stream",
     "text": [
      "最初の改行は反映されず↑に空行ができない\n",
      "  \" ←エスケープ不要\n",
      "←ここはインデントされない\n"
     ]
    }
   ],
   "source": [
    "println(\"\"\"\n",
    "  最初の改行は反映されず↑に空行ができない\n",
    "    \" ←エスケープ不要\n",
    "  ←ここはインデントされない\"\"\")"
   ]
  },
  {
   "cell_type": "markdown",
   "id": "9bd790b1",
   "metadata": {},
   "source": [
    "##### コード2-11. 文字列リテラルの式展開"
   ]
  },
  {
   "cell_type": "code",
   "execution_count": 45,
   "id": "74964205",
   "metadata": {
    "ExecuteTime": {
     "end_time": "2023-01-26T21:57:45.904000+09:00",
     "start_time": "2023-01-26T12:57:41.050Z"
    }
   },
   "outputs": [],
   "source": [
    "x = 1;"
   ]
  },
  {
   "cell_type": "code",
   "execution_count": 46,
   "id": "922c8dd5",
   "metadata": {
    "ExecuteTime": {
     "end_time": "2023-01-26T21:57:45.904000+09:00",
     "start_time": "2023-01-26T12:57:41.052Z"
    }
   },
   "outputs": [
    {
     "data": {
      "text/plain": [
       "\"x = 1\""
      ]
     },
     "execution_count": 46,
     "metadata": {},
     "output_type": "execute_result"
    }
   ],
   "source": [
    "\"x = $x\""
   ]
  },
  {
   "cell_type": "code",
   "execution_count": 47,
   "id": "d517a12a",
   "metadata": {
    "ExecuteTime": {
     "end_time": "2023-01-26T21:57:45.910000+09:00",
     "start_time": "2023-01-26T12:57:41.054Z"
    }
   },
   "outputs": [
    {
     "data": {
      "text/plain": [
       "\"1x1\""
      ]
     },
     "execution_count": 47,
     "metadata": {},
     "output_type": "execute_result"
    }
   ],
   "source": [
    "\"$(x)x$x\""
   ]
  },
  {
   "cell_type": "code",
   "execution_count": 48,
   "id": "22a55021",
   "metadata": {
    "ExecuteTime": {
     "end_time": "2023-01-26T21:57:45.910000+09:00",
     "start_time": "2023-01-26T12:57:41.056Z"
    }
   },
   "outputs": [
    {
     "data": {
      "text/plain": [
       "\"Odd Number: 3\""
      ]
     },
     "execution_count": 48,
     "metadata": {},
     "output_type": "execute_result"
    }
   ],
   "source": [
    "\"Odd Number: $(2x + 1)\""
   ]
  },
  {
   "cell_type": "markdown",
   "id": "f8d263fd",
   "metadata": {},
   "source": [
    "##### コード2-12. raw文字列リテラルの例"
   ]
  },
  {
   "cell_type": "code",
   "execution_count": 49,
   "id": "6df0eab4",
   "metadata": {
    "ExecuteTime": {
     "end_time": "2023-01-26T21:57:45.911000+09:00",
     "start_time": "2023-01-26T12:57:41.058Z"
    }
   },
   "outputs": [],
   "source": [
    "b = 9;"
   ]
  },
  {
   "cell_type": "code",
   "execution_count": 50,
   "id": "b086d816",
   "metadata": {
    "ExecuteTime": {
     "end_time": "2023-01-26T21:57:45.913000+09:00",
     "start_time": "2023-01-26T12:57:41.060Z"
    }
   },
   "outputs": [
    {
     "data": {
      "text/plain": [
       "\"a\\\\t\\$b\\\\n\\\\u3042\""
      ]
     },
     "execution_count": 50,
     "metadata": {},
     "output_type": "execute_result"
    }
   ],
   "source": [
    "raw\"a\\t$b\\n\\u3042\""
   ]
  },
  {
   "cell_type": "code",
   "execution_count": 51,
   "id": "96dd6962",
   "metadata": {
    "ExecuteTime": {
     "end_time": "2023-01-26T21:57:45.913000+09:00",
     "start_time": "2023-01-26T12:57:41.063Z"
    }
   },
   "outputs": [
    {
     "name": "stdout",
     "output_type": "stream",
     "text": [
      "a\\t$b\\n\\u3042\n"
     ]
    }
   ],
   "source": [
    "println(raw\"a\\t$b\\n\\u3042\")"
   ]
  },
  {
   "cell_type": "code",
   "execution_count": 52,
   "id": "e8d43e99",
   "metadata": {
    "ExecuteTime": {
     "end_time": "2023-01-26T21:57:45.914000+09:00",
     "start_time": "2023-01-26T12:57:41.065Z"
    }
   },
   "outputs": [
    {
     "data": {
      "text/plain": [
       "\"a\\t9\\nあ\""
      ]
     },
     "execution_count": 52,
     "metadata": {},
     "output_type": "execute_result"
    }
   ],
   "source": [
    "\"a\\t$b\\n\\u3042\""
   ]
  },
  {
   "cell_type": "code",
   "execution_count": 53,
   "id": "cccae6a0",
   "metadata": {
    "ExecuteTime": {
     "end_time": "2023-01-26T21:57:45.914000+09:00",
     "start_time": "2023-01-26T12:57:41.067Z"
    }
   },
   "outputs": [
    {
     "name": "stdout",
     "output_type": "stream",
     "text": [
      "a\t9\n",
      "c\n"
     ]
    }
   ],
   "source": [
    "println(\"a\\t$b\\nc\")"
   ]
  },
  {
   "cell_type": "markdown",
   "id": "7343df21",
   "metadata": {},
   "source": [
    "### 2-1-3. 正規表現リテラル"
   ]
  },
  {
   "cell_type": "markdown",
   "id": "096773e9",
   "metadata": {},
   "source": [
    "#### コード2-13. 正規表現リテラルの例"
   ]
  },
  {
   "cell_type": "code",
   "execution_count": 54,
   "id": "9d22ff61",
   "metadata": {
    "ExecuteTime": {
     "end_time": "2023-01-26T21:57:46.101000+09:00",
     "start_time": "2023-01-26T12:57:41.070Z"
    }
   },
   "outputs": [
    {
     "data": {
      "text/plain": [
       "r\"^a[b-f]+$\""
      ]
     },
     "execution_count": 54,
     "metadata": {},
     "output_type": "execute_result"
    }
   ],
   "source": [
    "r\"^a[b-f]+$\""
   ]
  },
  {
   "cell_type": "code",
   "execution_count": 55,
   "id": "911377f8",
   "metadata": {
    "ExecuteTime": {
     "end_time": "2023-01-26T21:57:46.102000+09:00",
     "start_time": "2023-01-26T12:57:41.072Z"
    }
   },
   "outputs": [
    {
     "data": {
      "text/plain": [
       "r\"^a[b-f]+$\"i"
      ]
     },
     "execution_count": 55,
     "metadata": {},
     "output_type": "execute_result"
    }
   ],
   "source": [
    "r\"^a[b-f]+$\"i"
   ]
  },
  {
   "cell_type": "markdown",
   "id": "5db674d6",
   "metadata": {},
   "source": [
    "### 2-1-4. 非標準文字列リテラル"
   ]
  },
  {
   "cell_type": "markdown",
   "id": "28725d64",
   "metadata": {},
   "source": [
    "#### 表2-1. 非標準文字列リテラル"
   ]
  },
  {
   "cell_type": "markdown",
   "id": "862d73c6",
   "metadata": {},
   "source": [
    "| 表記 | 名称 | 例 | 説明 |\n",
    "| :-- | :-- | :-- | :-- |\n",
    "| `b\"～\"` | バイト列リテラル | `b\"\\x89PNG\\r\\n\\x1a\\n\"` | 文字列ではなく（UTF-8エンコードの）バイト列（`UInt8` の1次元配列）を返す |\n",
    "| `MIME\"～\"` | MIMEタイプリテラル | `MIME\"text/html\"` | MIMEタイプ[^MIME_TYPE]を表す |\n",
    "| `html\"～\"` | HTMLリテラル | `html\"<p>a<br>b</p>\"` | HTMLオブジェクトを生成 |\n",
    "| `text\"～\"` | Textリテラル | `text\"Text Node\"` | Textオブジェクトを生成 |\n",
    "| `v\"～\"` | バージョン番号リテラル | `v\"1.6.0-beta1.0\"` | バージョン番号（セマンティックバージョニング準拠）を表す |\n",
    "| `var\"～\"` | 変数参照リテラル | `var\"#example#\"` | 特殊な名前の変数を参照する |"
   ]
  },
  {
   "cell_type": "markdown",
   "id": "101d83f3",
   "metadata": {},
   "source": [
    "### 2-1-5. 範囲リテラル"
   ]
  },
  {
   "cell_type": "markdown",
   "id": "e29aeafd",
   "metadata": {},
   "source": [
    "#### コード2-14. 範囲リテラルの例"
   ]
  },
  {
   "cell_type": "code",
   "execution_count": 56,
   "id": "3db22648",
   "metadata": {
    "ExecuteTime": {
     "end_time": "2023-01-26T21:57:46.293000+09:00",
     "start_time": "2023-01-26T12:57:41.076Z"
    }
   },
   "outputs": [
    {
     "data": {
      "text/plain": [
       "1:10"
      ]
     },
     "execution_count": 56,
     "metadata": {},
     "output_type": "execute_result"
    }
   ],
   "source": [
    "1:10"
   ]
  },
  {
   "cell_type": "code",
   "execution_count": 57,
   "id": "ec283535",
   "metadata": {
    "ExecuteTime": {
     "end_time": "2023-01-26T21:57:46.476000+09:00",
     "start_time": "2023-01-26T12:57:41.079Z"
    }
   },
   "outputs": [
    {
     "data": {
      "text/plain": [
       "true"
      ]
     },
     "execution_count": 57,
     "metadata": {},
     "output_type": "execute_result"
    }
   ],
   "source": [
    "1:10 == [1, 2, 3, 4, 5, 6, 7, 8, 9, 10]"
   ]
  },
  {
   "cell_type": "code",
   "execution_count": 58,
   "id": "9016f020",
   "metadata": {
    "ExecuteTime": {
     "end_time": "2023-01-26T21:57:46.653000+09:00",
     "start_time": "2023-01-26T12:57:41.081Z"
    }
   },
   "outputs": [
    {
     "data": {
      "text/plain": [
       "1:2:9"
      ]
     },
     "execution_count": 58,
     "metadata": {},
     "output_type": "execute_result"
    }
   ],
   "source": [
    "1:2:10"
   ]
  },
  {
   "cell_type": "code",
   "execution_count": 59,
   "id": "5710d187",
   "metadata": {
    "ExecuteTime": {
     "end_time": "2023-01-26T21:57:46.667000+09:00",
     "start_time": "2023-01-26T12:57:41.083Z"
    }
   },
   "outputs": [
    {
     "data": {
      "text/plain": [
       "true"
      ]
     },
     "execution_count": 59,
     "metadata": {},
     "output_type": "execute_result"
    }
   ],
   "source": [
    "1:2:10 == [1, 3, 5, 7, 9]"
   ]
  },
  {
   "cell_type": "code",
   "execution_count": 60,
   "id": "aa979d96",
   "metadata": {
    "ExecuteTime": {
     "end_time": "2023-01-26T21:57:46.667000+09:00",
     "start_time": "2023-01-26T12:57:41.086Z"
    }
   },
   "outputs": [
    {
     "data": {
      "text/plain": [
       "5:-1:1"
      ]
     },
     "execution_count": 60,
     "metadata": {},
     "output_type": "execute_result"
    }
   ],
   "source": [
    "5:-1:1"
   ]
  },
  {
   "cell_type": "code",
   "execution_count": 61,
   "id": "7f740a49",
   "metadata": {
    "ExecuteTime": {
     "end_time": "2023-01-26T21:57:46.668000+09:00",
     "start_time": "2023-01-26T12:57:41.089Z"
    }
   },
   "outputs": [
    {
     "data": {
      "text/plain": [
       "true"
      ]
     },
     "execution_count": 61,
     "metadata": {},
     "output_type": "execute_result"
    }
   ],
   "source": [
    "5:-1:1 == [5, 4, 3, 2, 1]"
   ]
  },
  {
   "cell_type": "code",
   "execution_count": 62,
   "id": "2e59a1e2",
   "metadata": {
    "ExecuteTime": {
     "end_time": "2023-01-26T21:57:46.951000+09:00",
     "start_time": "2023-01-26T12:57:41.091Z"
    }
   },
   "outputs": [
    {
     "data": {
      "text/plain": [
       "0.0:0.1:1.0"
      ]
     },
     "execution_count": 62,
     "metadata": {},
     "output_type": "execute_result"
    }
   ],
   "source": [
    "0.0:0.1:1.0"
   ]
  },
  {
   "cell_type": "code",
   "execution_count": 63,
   "id": "7dee06e4",
   "metadata": {
    "ExecuteTime": {
     "end_time": "2023-01-26T21:57:47.769000+09:00",
     "start_time": "2023-01-26T12:57:41.093Z"
    }
   },
   "outputs": [
    {
     "data": {
      "text/plain": [
       "11-element Vector{Float64}:\n",
       " 0.0\n",
       " 0.1\n",
       " 0.2\n",
       " 0.3\n",
       " 0.4\n",
       " 0.5\n",
       " 0.6\n",
       " 0.7\n",
       " 0.8\n",
       " 0.9\n",
       " 1.0"
      ]
     },
     "execution_count": 63,
     "metadata": {},
     "output_type": "execute_result"
    }
   ],
   "source": [
    "collect(0.0:0.1:1.0)"
   ]
  },
  {
   "cell_type": "code",
   "execution_count": 64,
   "id": "352c94a5",
   "metadata": {
    "ExecuteTime": {
     "end_time": "2023-01-26T21:57:47.946000+09:00",
     "start_time": "2023-01-26T12:57:41.096Z"
    }
   },
   "outputs": [
    {
     "data": {
      "text/plain": [
       "'a':1:'j'"
      ]
     },
     "execution_count": 64,
     "metadata": {},
     "output_type": "execute_result"
    }
   ],
   "source": [
    "'a':'j'"
   ]
  },
  {
   "cell_type": "code",
   "execution_count": 65,
   "id": "9980fd7f",
   "metadata": {
    "ExecuteTime": {
     "end_time": "2023-01-26T21:57:48.297000+09:00",
     "start_time": "2023-01-26T12:57:41.098Z"
    }
   },
   "outputs": [
    {
     "data": {
      "text/plain": [
       "12-element Vector{Char}:\n",
       " '🕐': Unicode U+1F550 (category So: Symbol, other)\n",
       " '🕑': Unicode U+1F551 (category So: Symbol, other)\n",
       " '🕒': Unicode U+1F552 (category So: Symbol, other)\n",
       " '🕓': Unicode U+1F553 (category So: Symbol, other)\n",
       " '🕔': Unicode U+1F554 (category So: Symbol, other)\n",
       " '🕕': Unicode U+1F555 (category So: Symbol, other)\n",
       " '🕖': Unicode U+1F556 (category So: Symbol, other)\n",
       " '🕗': Unicode U+1F557 (category So: Symbol, other)\n",
       " '🕘': Unicode U+1F558 (category So: Symbol, other)\n",
       " '🕙': Unicode U+1F559 (category So: Symbol, other)\n",
       " '🕚': Unicode U+1F55A (category So: Symbol, other)\n",
       " '🕛': Unicode U+1F55B (category So: Symbol, other)"
      ]
     },
     "execution_count": 65,
     "metadata": {},
     "output_type": "execute_result"
    }
   ],
   "source": [
    "collect('🕐':'🕛')"
   ]
  },
  {
   "cell_type": "markdown",
   "id": "b9ea4306",
   "metadata": {},
   "source": [
    "### 2-1-6. 配列リテラル"
   ]
  },
  {
   "cell_type": "markdown",
   "id": "dc497110",
   "metadata": {},
   "source": [
    "#### ベクトル（1次元配列）"
   ]
  },
  {
   "cell_type": "markdown",
   "id": "c72254b8",
   "metadata": {},
   "source": [
    "##### コード2-15. 配列リテラルの例(1)：ベクトル（1次元配列）"
   ]
  },
  {
   "cell_type": "code",
   "execution_count": 66,
   "id": "fbc7d926",
   "metadata": {
    "ExecuteTime": {
     "end_time": "2023-01-26T21:57:48.593000+09:00",
     "start_time": "2023-01-26T12:57:41.101Z"
    }
   },
   "outputs": [
    {
     "data": {
      "text/plain": [
       "3-element Vector{Int64}:\n",
       " 1\n",
       " 2\n",
       " 3"
      ]
     },
     "execution_count": 66,
     "metadata": {},
     "output_type": "execute_result"
    }
   ],
   "source": [
    "[1, 2, 3]"
   ]
  },
  {
   "cell_type": "code",
   "execution_count": 67,
   "id": "18dad990",
   "metadata": {
    "ExecuteTime": {
     "end_time": "2023-01-26T21:57:48.595000+09:00",
     "start_time": "2023-01-26T12:57:41.103Z"
    }
   },
   "outputs": [
    {
     "data": {
      "text/plain": [
       "3-element Vector{Float64}:\n",
       " 1.0\n",
       " 2.0\n",
       " 3.0"
      ]
     },
     "execution_count": 67,
     "metadata": {},
     "output_type": "execute_result"
    }
   ],
   "source": [
    "[1.0, 2.0, 3.0]"
   ]
  },
  {
   "cell_type": "code",
   "execution_count": 68,
   "id": "6ec4095b",
   "metadata": {
    "ExecuteTime": {
     "end_time": "2023-01-26T21:57:48.596000+09:00",
     "start_time": "2023-01-26T12:57:41.106Z"
    }
   },
   "outputs": [
    {
     "data": {
      "text/plain": [
       "3-element Vector{Char}:\n",
       " 'a': ASCII/Unicode U+0061 (category Ll: Letter, lowercase)\n",
       " 'あ': Unicode U+3042 (category Lo: Letter, other)\n",
       " '😄': Unicode U+1F604 (category So: Symbol, other)"
      ]
     },
     "execution_count": 68,
     "metadata": {},
     "output_type": "execute_result"
    }
   ],
   "source": [
    "['a', 'あ', '😄']"
   ]
  },
  {
   "cell_type": "code",
   "execution_count": 69,
   "id": "af50e2df",
   "metadata": {
    "ExecuteTime": {
     "end_time": "2023-01-26T21:57:48.929000+09:00",
     "start_time": "2023-01-26T12:57:41.108Z"
    }
   },
   "outputs": [
    {
     "data": {
      "text/plain": [
       "3-element Vector{String}:\n",
       " \"abc\"\n",
       " \"あいう\"\n",
       " \"漢字\""
      ]
     },
     "execution_count": 69,
     "metadata": {},
     "output_type": "execute_result"
    }
   ],
   "source": [
    "[\"abc\", \"あいう\", \"漢字\"]"
   ]
  },
  {
   "cell_type": "code",
   "execution_count": 70,
   "id": "638b476c",
   "metadata": {
    "ExecuteTime": {
     "end_time": "2023-01-26T21:57:49.290000+09:00",
     "start_time": "2023-01-26T12:57:41.110Z"
    }
   },
   "outputs": [
    {
     "data": {
      "text/plain": [
       "3-element Vector{Float32}:\n",
       " 1.0\n",
       " 2.0\n",
       " 3.0"
      ]
     },
     "execution_count": 70,
     "metadata": {},
     "output_type": "execute_result"
    }
   ],
   "source": [
    "Float32[1.0, 2.0, 3.0]"
   ]
  },
  {
   "cell_type": "code",
   "execution_count": 71,
   "id": "0ff6add6",
   "metadata": {
    "ExecuteTime": {
     "end_time": "2023-01-26T21:57:49.322000+09:00",
     "start_time": "2023-01-26T12:57:41.112Z"
    }
   },
   "outputs": [
    {
     "data": {
      "text/plain": [
       "3-element Vector{Float64}:\n",
       " 1.0\n",
       " 2.0\n",
       " 0.75"
      ]
     },
     "execution_count": 71,
     "metadata": {},
     "output_type": "execute_result"
    }
   ],
   "source": [
    "[1, 2.0, 3//4]"
   ]
  },
  {
   "cell_type": "code",
   "execution_count": 72,
   "id": "9cc30f62",
   "metadata": {
    "ExecuteTime": {
     "end_time": "2023-01-26T21:57:49.700000+09:00",
     "start_time": "2023-01-26T12:57:41.114Z"
    }
   },
   "outputs": [
    {
     "data": {
      "text/plain": [
       "3-element Vector{Number}:\n",
       "  1\n",
       "  2.0\n",
       " 3//4"
      ]
     },
     "execution_count": 72,
     "metadata": {},
     "output_type": "execute_result"
    }
   ],
   "source": [
    "Number[1, 2.0, 3//4]"
   ]
  },
  {
   "cell_type": "markdown",
   "id": "43685c6d",
   "metadata": {},
   "source": [
    "#### 行列（2次元配列）"
   ]
  },
  {
   "cell_type": "markdown",
   "id": "101ae7b5",
   "metadata": {},
   "source": [
    "##### コード2-16. 配列リテラルの例(2)：行列（2次元配列）"
   ]
  },
  {
   "cell_type": "code",
   "execution_count": 73,
   "id": "c40aba81",
   "metadata": {
    "ExecuteTime": {
     "end_time": "2023-01-26T21:57:50.286000+09:00",
     "start_time": "2023-01-26T12:57:41.117Z"
    }
   },
   "outputs": [
    {
     "data": {
      "text/plain": [
       "2×2 Matrix{Int64}:\n",
       " 1  2\n",
       " 3  4"
      ]
     },
     "execution_count": 73,
     "metadata": {},
     "output_type": "execute_result"
    }
   ],
   "source": [
    "[1 2\n",
    " 3 4]"
   ]
  },
  {
   "cell_type": "code",
   "execution_count": 74,
   "id": "df05da9e",
   "metadata": {
    "ExecuteTime": {
     "end_time": "2023-01-26T21:57:50.288000+09:00",
     "start_time": "2023-01-26T12:57:41.119Z"
    }
   },
   "outputs": [
    {
     "data": {
      "text/plain": [
       "2×2 Matrix{Int64}:\n",
       " 1  2\n",
       " 3  4"
      ]
     },
     "execution_count": 74,
     "metadata": {},
     "output_type": "execute_result"
    }
   ],
   "source": [
    "[1 2; 3 4]"
   ]
  },
  {
   "cell_type": "code",
   "execution_count": 75,
   "id": "61854d50",
   "metadata": {
    "ExecuteTime": {
     "end_time": "2023-01-26T21:57:50.579000+09:00",
     "start_time": "2023-01-26T12:57:41.121Z"
    }
   },
   "outputs": [
    {
     "data": {
      "text/plain": [
       "3×2 Matrix{Float64}:\n",
       " 1.0  2.0\n",
       " 3.0  4.0\n",
       " 5.0  6.0"
      ]
     },
     "execution_count": 75,
     "metadata": {},
     "output_type": "execute_result"
    }
   ],
   "source": [
    "[1. 2.; 3. 4.; 5. 6.]"
   ]
  },
  {
   "cell_type": "code",
   "execution_count": 76,
   "id": "f23187cb",
   "metadata": {
    "ExecuteTime": {
     "end_time": "2023-01-26T21:57:50.863000+09:00",
     "start_time": "2023-01-26T12:57:41.123Z"
    }
   },
   "outputs": [
    {
     "data": {
      "text/plain": [
       "2×3 Matrix{Float32}:\n",
       " 1.0  2.0  3.0\n",
       " 4.0  5.0  6.0"
      ]
     },
     "execution_count": 76,
     "metadata": {},
     "output_type": "execute_result"
    }
   ],
   "source": [
    "Float32[1. 2. 3.; 4. 5. 6.]"
   ]
  },
  {
   "cell_type": "code",
   "execution_count": 77,
   "id": "e5013329",
   "metadata": {
    "ExecuteTime": {
     "end_time": "2023-01-26T21:57:50.909000+09:00",
     "start_time": "2023-01-26T12:57:41.126Z"
    }
   },
   "outputs": [
    {
     "data": {
      "text/plain": [
       "1×3 Matrix{Int64}:\n",
       " 1  2  3"
      ]
     },
     "execution_count": 77,
     "metadata": {},
     "output_type": "execute_result"
    }
   ],
   "source": [
    "[1 2 3]"
   ]
  },
  {
   "cell_type": "markdown",
   "id": "79e01c9d",
   "metadata": {},
   "source": [
    "#### 多次元配列（Julia v1.7以降）"
   ]
  },
  {
   "cell_type": "markdown",
   "id": "2a489609",
   "metadata": {},
   "source": [
    "##### コード2-17. 配列リテラルの例(3)：多次元配列"
   ]
  },
  {
   "cell_type": "code",
   "execution_count": 78,
   "id": "56e2179c",
   "metadata": {
    "ExecuteTime": {
     "end_time": "2023-01-26T21:57:50.961000+09:00",
     "start_time": "2023-01-26T12:57:41.129Z"
    }
   },
   "outputs": [
    {
     "data": {
      "text/plain": [
       "2×2 Matrix{Int64}:\n",
       " 1  3\n",
       " 2  4"
      ]
     },
     "execution_count": 78,
     "metadata": {},
     "output_type": "execute_result"
    }
   ],
   "source": [
    "[1; 2;; 3; 4]"
   ]
  },
  {
   "cell_type": "code",
   "execution_count": 79,
   "id": "71af1db9",
   "metadata": {
    "ExecuteTime": {
     "end_time": "2023-01-26T21:57:51.635000+09:00",
     "start_time": "2023-01-26T12:57:41.131Z"
    }
   },
   "outputs": [
    {
     "data": {
      "text/plain": [
       "2×2×2 Array{Int64, 3}:\n",
       "[:, :, 1] =\n",
       " 1  3\n",
       " 2  4\n",
       "\n",
       "[:, :, 2] =\n",
       " 5  7\n",
       " 6  8"
      ]
     },
     "execution_count": 79,
     "metadata": {},
     "output_type": "execute_result"
    }
   ],
   "source": [
    "[1;2;;3;4;;;5;6;;7;8]"
   ]
  },
  {
   "cell_type": "code",
   "execution_count": 80,
   "id": "d336caea",
   "metadata": {
    "ExecuteTime": {
     "end_time": "2023-01-26T21:57:51.637000+09:00",
     "start_time": "2023-01-26T12:57:41.133Z"
    }
   },
   "outputs": [
    {
     "data": {
      "text/plain": [
       "2×2×2 Array{Int64, 3}:\n",
       "[:, :, 1] =\n",
       " 1  2\n",
       " 3  4\n",
       "\n",
       "[:, :, 2] =\n",
       " 5  6\n",
       " 7  8"
      ]
     },
     "execution_count": 80,
     "metadata": {},
     "output_type": "execute_result"
    }
   ],
   "source": [
    "[1 2;3 4;;;5 6;7 8]  # 従来の行列のリテラル記法との組合せも可能（要素の順番に注意）"
   ]
  },
  {
   "cell_type": "code",
   "execution_count": 81,
   "id": "84a26f45",
   "metadata": {
    "ExecuteTime": {
     "end_time": "2023-01-26T21:57:51.638000+09:00",
     "start_time": "2023-01-26T12:57:41.135Z"
    }
   },
   "outputs": [
    {
     "data": {
      "text/plain": [
       "2×2×2 Array{Int64, 3}:\n",
       "[:, :, 1] =\n",
       " 1  2\n",
       " 3  4\n",
       "\n",
       "[:, :, 2] =\n",
       " 5  6\n",
       " 7  8"
      ]
     },
     "execution_count": 81,
     "metadata": {},
     "output_type": "execute_result"
    }
   ],
   "source": [
    "[1 2\n",
    " 3 4\n",
    " ;;;\n",
    " 5 6\n",
    " 7 8]  # このようにも書ける（より直感的）"
   ]
  },
  {
   "cell_type": "code",
   "execution_count": 82,
   "id": "b65f370e",
   "metadata": {
    "ExecuteTime": {
     "end_time": "2023-01-26T21:57:51.737000+09:00",
     "start_time": "2023-01-26T12:57:41.137Z"
    }
   },
   "outputs": [
    {
     "data": {
      "text/plain": [
       "1×3 Matrix{Int64}:\n",
       " 2  4  6"
      ]
     },
     "execution_count": 82,
     "metadata": {},
     "output_type": "execute_result"
    }
   ],
   "source": [
    "[1 + 1;; 2 + 2;; 3 + 3]  # `[(1 + 1) (2 + 2) (3 + 3)]` と同じ"
   ]
  },
  {
   "cell_type": "code",
   "execution_count": 83,
   "id": "b0be0b70",
   "metadata": {
    "ExecuteTime": {
     "end_time": "2023-01-26T21:57:52.256000+09:00",
     "start_time": "2023-01-26T12:57:41.139Z"
    }
   },
   "outputs": [
    {
     "data": {
      "text/plain": [
       "1×1×1×1 Array{Float32, 4}:\n",
       "[:, :, 1, 1] =\n",
       " 0.0"
      ]
     },
     "execution_count": 83,
     "metadata": {},
     "output_type": "execute_result"
    }
   ],
   "source": [
    "Float32[0;;;;]"
   ]
  },
  {
   "cell_type": "markdown",
   "id": "9e98da70",
   "metadata": {},
   "source": [
    "#### ベクトル・行列の結合"
   ]
  },
  {
   "cell_type": "markdown",
   "id": "5c620fcf",
   "metadata": {},
   "source": [
    "##### コード2-18. 配列リテラルの例(4)：ベクトル・行列の結合(1)"
   ]
  },
  {
   "cell_type": "code",
   "execution_count": 84,
   "id": "6f351730",
   "metadata": {
    "ExecuteTime": {
     "end_time": "2023-01-26T21:57:52.268000+09:00",
     "start_time": "2023-01-26T12:57:41.142Z"
    }
   },
   "outputs": [
    {
     "data": {
      "text/plain": [
       "6-element Vector{Int64}:\n",
       " 1\n",
       " 2\n",
       " 3\n",
       " 2\n",
       " 4\n",
       " 6"
      ]
     },
     "execution_count": 84,
     "metadata": {},
     "output_type": "execute_result"
    }
   ],
   "source": [
    "[[1, 2, 3]; [2, 4, 6]]"
   ]
  },
  {
   "cell_type": "code",
   "execution_count": 85,
   "id": "2c351289",
   "metadata": {
    "ExecuteTime": {
     "end_time": "2023-01-26T21:57:52.269000+09:00",
     "start_time": "2023-01-26T12:57:41.144Z"
    }
   },
   "outputs": [
    {
     "data": {
      "text/plain": [
       "6-element Vector{Int64}:\n",
       " 1\n",
       " 2\n",
       " 3\n",
       " 2\n",
       " 4\n",
       " 6"
      ]
     },
     "execution_count": 85,
     "metadata": {},
     "output_type": "execute_result"
    }
   ],
   "source": [
    "[1:3; 2:2:6]"
   ]
  },
  {
   "cell_type": "code",
   "execution_count": 86,
   "id": "b3393879",
   "metadata": {
    "ExecuteTime": {
     "end_time": "2023-01-26T21:57:52.508000+09:00",
     "start_time": "2023-01-26T12:57:41.146Z"
    }
   },
   "outputs": [
    {
     "data": {
      "text/plain": [
       "6-element Vector{Int64}:\n",
       " 1\n",
       " 2\n",
       " 3\n",
       " 2\n",
       " 4\n",
       " 6"
      ]
     },
     "execution_count": 86,
     "metadata": {},
     "output_type": "execute_result"
    }
   ],
   "source": [
    "[1:3; 2; 4; 6]"
   ]
  },
  {
   "cell_type": "code",
   "execution_count": 87,
   "id": "3e2bdfd3",
   "metadata": {
    "ExecuteTime": {
     "end_time": "2023-01-26T21:57:52.509000+09:00",
     "start_time": "2023-01-26T12:57:41.148Z"
    }
   },
   "outputs": [
    {
     "data": {
      "text/plain": [
       "6-element Vector{Int64}:\n",
       " 1\n",
       " 2\n",
       " 3\n",
       " 2\n",
       " 4\n",
       " 6"
      ]
     },
     "execution_count": 87,
     "metadata": {},
     "output_type": "execute_result"
    }
   ],
   "source": [
    "[1:3\n",
    " 2\n",
    " 4\n",
    " 6]"
   ]
  },
  {
   "cell_type": "code",
   "execution_count": 88,
   "id": "a9c85db9",
   "metadata": {
    "ExecuteTime": {
     "end_time": "2023-01-26T21:57:52.591000+09:00",
     "start_time": "2023-01-26T12:57:41.150Z"
    }
   },
   "outputs": [
    {
     "data": {
      "text/plain": [
       "3×2 Matrix{Int64}:\n",
       " 1  2\n",
       " 2  4\n",
       " 3  6"
      ]
     },
     "execution_count": 88,
     "metadata": {},
     "output_type": "execute_result"
    }
   ],
   "source": [
    "[1:3 [2, 4, 6]]"
   ]
  },
  {
   "cell_type": "code",
   "execution_count": 89,
   "id": "114b11ce",
   "metadata": {
    "ExecuteTime": {
     "end_time": "2023-01-26T21:57:52.612000+09:00",
     "start_time": "2023-01-26T12:57:41.153Z"
    }
   },
   "outputs": [
    {
     "data": {
      "text/plain": [
       "2×4 Matrix{Int64}:\n",
       " 1  2  2  4\n",
       " 3  4  6  8"
      ]
     },
     "execution_count": 89,
     "metadata": {},
     "output_type": "execute_result"
    }
   ],
   "source": [
    "[[1 2; 3 4] [2 4; 6 8]]"
   ]
  },
  {
   "cell_type": "code",
   "execution_count": 90,
   "id": "00e1db79",
   "metadata": {
    "ExecuteTime": {
     "end_time": "2023-01-26T21:57:52.661000+09:00",
     "start_time": "2023-01-26T12:57:41.156Z"
    }
   },
   "outputs": [
    {
     "data": {
      "text/plain": [
       "4×2 Matrix{Int64}:\n",
       " 1  2\n",
       " 3  4\n",
       " 2  4\n",
       " 6  8"
      ]
     },
     "execution_count": 90,
     "metadata": {},
     "output_type": "execute_result"
    }
   ],
   "source": [
    "[[1 2; 3 4]; [2 4; 6 8]]"
   ]
  },
  {
   "cell_type": "code",
   "execution_count": 91,
   "id": "aa15f7fb",
   "metadata": {
    "ExecuteTime": {
     "end_time": "2023-01-26T21:57:52.680000+09:00",
     "start_time": "2023-01-26T12:57:41.159Z"
    }
   },
   "outputs": [
    {
     "data": {
      "text/plain": [
       "2×3 Matrix{Int64}:\n",
       " 1  2  5\n",
       " 3  4  6"
      ]
     },
     "execution_count": 91,
     "metadata": {},
     "output_type": "execute_result"
    }
   ],
   "source": [
    "[[1 2; 3 4] [5, 6]]"
   ]
  },
  {
   "cell_type": "code",
   "execution_count": 92,
   "id": "f2447fdd",
   "metadata": {
    "ExecuteTime": {
     "end_time": "2023-01-26T21:57:52.688000+09:00",
     "start_time": "2023-01-26T12:57:41.161Z"
    }
   },
   "outputs": [
    {
     "data": {
      "text/plain": [
       "3×2 Matrix{Int64}:\n",
       " 1  2\n",
       " 3  4\n",
       " 5  6"
      ]
     },
     "execution_count": 92,
     "metadata": {},
     "output_type": "execute_result"
    }
   ],
   "source": [
    "[[1 2; 3 4]; [5 6]]"
   ]
  },
  {
   "cell_type": "code",
   "execution_count": 93,
   "id": "c991bb07",
   "metadata": {
    "ExecuteTime": {
     "end_time": "2023-01-26T21:57:53.135000+09:00",
     "start_time": "2023-01-26T12:57:41.163Z"
    }
   },
   "outputs": [
    {
     "data": {
      "text/plain": [
       "3×3 Matrix{Int64}:\n",
       " 1  2  5\n",
       " 3  4  6\n",
       " 7  8  9"
      ]
     },
     "execution_count": 93,
     "metadata": {},
     "output_type": "execute_result"
    }
   ],
   "source": [
    "[[1 2; 3 4] 5:6\n",
    " [7 8]      9]"
   ]
  },
  {
   "cell_type": "markdown",
   "id": "9f10e15f",
   "metadata": {},
   "source": [
    "##### コード2-19. 配列リテラルの例(5)：ベクトル・行列の結合(2)"
   ]
  },
  {
   "cell_type": "code",
   "execution_count": 94,
   "id": "2fc72794",
   "metadata": {
    "ExecuteTime": {
     "end_time": "2023-01-26T21:57:53.910000+09:00",
     "start_time": "2023-01-26T12:57:41.166Z"
    },
    "scrolled": true
   },
   "outputs": [
    {
     "ename": "LoadError",
     "evalue": "DimensionMismatch: mismatch in dimension 1 (expected 2 got 1)",
     "output_type": "error",
     "traceback": [
      "DimensionMismatch: mismatch in dimension 1 (expected 2 got 1)",
      "",
      "Stacktrace:",
      " [1] _cs",
      "   @ ./abstractarray.jl:1717 [inlined]",
      " [2] _cshp",
      "   @ ./abstractarray.jl:1713 [inlined]",
      " [3] _cat_size_shape",
      "   @ ./abstractarray.jl:1693 [inlined]",
      " [4] cat_size_shape",
      "   @ ./abstractarray.jl:1691 [inlined]",
      " [5] _cat_t",
      "   @ ./abstractarray.jl:1732 [inlined]",
      " [6] typed_hcat(::Type{Int64}, ::Vector{Int64}, ::Int64)",
      "   @ Base ./abstractarray.jl:1881",
      " [7] hcat(::Vector{Int64}, ::Int64)",
      "   @ LinearAlgebra ~/julia-1.8.5/share/julia/stdlib/v1.8/LinearAlgebra/src/special.jl:421",
      " [8] top-level scope",
      "   @ In[94]:1"
     ]
    }
   ],
   "source": [
    "[[1, 2] 3]"
   ]
  },
  {
   "cell_type": "code",
   "execution_count": 95,
   "id": "5022b351",
   "metadata": {
    "ExecuteTime": {
     "end_time": "2023-01-26T21:57:54.001000+09:00",
     "start_time": "2023-01-26T12:57:41.168Z"
    },
    "scrolled": true
   },
   "outputs": [
    {
     "ename": "LoadError",
     "evalue": "DimensionMismatch: mismatch in dimension 2 (expected 2 got 1)",
     "output_type": "error",
     "traceback": [
      "DimensionMismatch: mismatch in dimension 2 (expected 2 got 1)",
      "",
      "Stacktrace:",
      " [1] _cs",
      "   @ ./abstractarray.jl:1717 [inlined]",
      " [2] _cshp",
      "   @ ./abstractarray.jl:1703 [inlined]",
      " [3] _cshp",
      "   @ ./abstractarray.jl:1714 [inlined]",
      " [4] _cat_size_shape",
      "   @ ./abstractarray.jl:1693 [inlined]",
      " [5] cat_size_shape",
      "   @ ./abstractarray.jl:1691 [inlined]",
      " [6] _cat_t",
      "   @ ./abstractarray.jl:1732 [inlined]",
      " [7] typed_vcat(::Type{Int64}, ::Matrix{Int64}, ::Int64)",
      "   @ Base ./abstractarray.jl:1880",
      " [8] vcat(::Matrix{Int64}, ::Int64)",
      "   @ LinearAlgebra ~/julia-1.8.5/share/julia/stdlib/v1.8/LinearAlgebra/src/special.jl:419",
      " [9] top-level scope",
      "   @ In[95]:1"
     ]
    }
   ],
   "source": [
    "[[1 2]; 3]"
   ]
  },
  {
   "cell_type": "markdown",
   "id": "65b059fd",
   "metadata": {},
   "source": [
    "多次元配列の結合（Julia v1.7 以降）"
   ]
  },
  {
   "cell_type": "markdown",
   "id": "4fc48028",
   "metadata": {},
   "source": [
    "##### コード2-20. 配列リテラルの例(6)：多次元配列の結合"
   ]
  },
  {
   "cell_type": "code",
   "execution_count": 96,
   "id": "6ae535d1",
   "metadata": {
    "ExecuteTime": {
     "end_time": "2023-01-26T21:57:54.076000+09:00",
     "start_time": "2023-01-26T12:57:41.172Z"
    }
   },
   "outputs": [
    {
     "data": {
      "text/plain": [
       "3×2 Matrix{Int64}:\n",
       " 1  2\n",
       " 2  4\n",
       " 3  6"
      ]
     },
     "execution_count": 96,
     "metadata": {},
     "output_type": "execute_result"
    }
   ],
   "source": [
    "[1:3;; [2, 4, 6]]  # `[1:3 [2, 4, 6]]` と同等"
   ]
  },
  {
   "cell_type": "code",
   "execution_count": 97,
   "id": "a39d5141",
   "metadata": {
    "ExecuteTime": {
     "end_time": "2023-01-26T21:57:54.159000+09:00",
     "start_time": "2023-01-26T12:57:41.174Z"
    }
   },
   "outputs": [
    {
     "data": {
      "text/plain": [
       "2×4 Matrix{Int64}:\n",
       " 1  3  2  6\n",
       " 2  4  4  8"
      ]
     },
     "execution_count": 97,
     "metadata": {},
     "output_type": "execute_result"
    }
   ],
   "source": [
    "[[1;2;;3;4];;[2;4;;6;8]]  # `[[1 3; 2 4] [2 6; 4 8]]` と同等"
   ]
  },
  {
   "cell_type": "code",
   "execution_count": 98,
   "id": "0129d290",
   "metadata": {
    "ExecuteTime": {
     "end_time": "2023-01-26T21:57:54.607000+09:00",
     "start_time": "2023-01-26T12:57:41.176Z"
    }
   },
   "outputs": [
    {
     "data": {
      "text/plain": [
       "1×3×3 Array{Int64, 3}:\n",
       "[:, :, 1] =\n",
       " 1  2  5\n",
       "\n",
       "[:, :, 2] =\n",
       " 3  4  6\n",
       "\n",
       "[:, :, 3] =\n",
       " 7  8  9"
      ]
     },
     "execution_count": 98,
     "metadata": {},
     "output_type": "execute_result"
    }
   ],
   "source": [
    "[[1 2;;;3 4];;[5;;;6]\n",
    " ;;;\n",
    " [7 8]      ;;9]"
   ]
  },
  {
   "cell_type": "code",
   "execution_count": 99,
   "id": "cdc12923",
   "metadata": {
    "ExecuteTime": {
     "end_time": "2023-01-26T21:57:54.966000+09:00",
     "start_time": "2023-01-26T12:57:41.178Z"
    }
   },
   "outputs": [
    {
     "data": {
      "text/plain": [
       "1×1×1×3 Array{Int64, 4}:\n",
       "[:, :, 1, 1] =\n",
       " 1\n",
       "\n",
       "[:, :, 1, 2] =\n",
       " 2\n",
       "\n",
       "[:, :, 1, 3] =\n",
       " 3"
      ]
     },
     "execution_count": 99,
     "metadata": {},
     "output_type": "execute_result"
    }
   ],
   "source": [
    "[1:3...;;;;]"
   ]
  },
  {
   "cell_type": "markdown",
   "id": "29c67d37",
   "metadata": {},
   "source": [
    "### 2-1-7. タプルリテラル/名前付きタプルリテラル"
   ]
  },
  {
   "cell_type": "markdown",
   "id": "160e3315",
   "metadata": {},
   "source": [
    "#### コード2-21. タプルリテラルの例"
   ]
  },
  {
   "cell_type": "code",
   "execution_count": 100,
   "id": "0765ce02",
   "metadata": {
    "ExecuteTime": {
     "end_time": "2023-01-26T21:57:55.191000+09:00",
     "start_time": "2023-01-26T12:57:41.181Z"
    }
   },
   "outputs": [
    {
     "data": {
      "text/plain": [
       "(1, 2)"
      ]
     },
     "execution_count": 100,
     "metadata": {},
     "output_type": "execute_result"
    }
   ],
   "source": [
    "(1, 2)"
   ]
  },
  {
   "cell_type": "code",
   "execution_count": 101,
   "id": "5d10332b",
   "metadata": {
    "ExecuteTime": {
     "end_time": "2023-01-26T21:57:55.441000+09:00",
     "start_time": "2023-01-26T12:57:41.183Z"
    }
   },
   "outputs": [
    {
     "data": {
      "text/plain": [
       "('a', 2, 99.9, π)"
      ]
     },
     "execution_count": 101,
     "metadata": {},
     "output_type": "execute_result"
    }
   ],
   "source": [
    "('a', 2, 99.9, π)"
   ]
  },
  {
   "cell_type": "code",
   "execution_count": 102,
   "id": "53adc04d",
   "metadata": {
    "ExecuteTime": {
     "end_time": "2023-01-26T21:57:55.641000+09:00",
     "start_time": "2023-01-26T12:57:41.186Z"
    }
   },
   "outputs": [
    {
     "data": {
      "text/plain": [
       "(1,)"
      ]
     },
     "execution_count": 102,
     "metadata": {},
     "output_type": "execute_result"
    }
   ],
   "source": [
    "(1,)"
   ]
  },
  {
   "cell_type": "code",
   "execution_count": 103,
   "id": "8db5a494",
   "metadata": {
    "ExecuteTime": {
     "end_time": "2023-01-26T21:57:55.816000+09:00",
     "start_time": "2023-01-26T12:57:41.188Z"
    }
   },
   "outputs": [
    {
     "data": {
      "text/plain": [
       "()"
      ]
     },
     "execution_count": 103,
     "metadata": {},
     "output_type": "execute_result"
    }
   ],
   "source": [
    "()"
   ]
  },
  {
   "cell_type": "markdown",
   "id": "ecc1bb8f",
   "metadata": {},
   "source": [
    "#### コード2-22. 名前付きタプルリテラルの例(1)"
   ]
  },
  {
   "cell_type": "code",
   "execution_count": 104,
   "id": "3233357f",
   "metadata": {
    "ExecuteTime": {
     "end_time": "2023-01-26T21:57:56.023000+09:00",
     "start_time": "2023-01-26T12:57:41.192Z"
    }
   },
   "outputs": [
    {
     "data": {
      "text/plain": [
       "(a = 1, b = 2)"
      ]
     },
     "execution_count": 104,
     "metadata": {},
     "output_type": "execute_result"
    }
   ],
   "source": [
    "(a=1, b=2)"
   ]
  },
  {
   "cell_type": "code",
   "execution_count": 105,
   "id": "bc382561",
   "metadata": {
    "ExecuteTime": {
     "end_time": "2023-01-26T21:57:56.260000+09:00",
     "start_time": "2023-01-26T12:57:41.195Z"
    }
   },
   "outputs": [
    {
     "data": {
      "text/plain": [
       "(c = 'a', i = 2, fp = 99.9, pi = π)"
      ]
     },
     "execution_count": 105,
     "metadata": {},
     "output_type": "execute_result"
    }
   ],
   "source": [
    "(c='a', i=2, fp=99.9, pi=π)"
   ]
  },
  {
   "cell_type": "code",
   "execution_count": 106,
   "id": "c956379c",
   "metadata": {
    "ExecuteTime": {
     "end_time": "2023-01-26T21:57:56.450000+09:00",
     "start_time": "2023-01-26T12:57:41.197Z"
    }
   },
   "outputs": [
    {
     "data": {
      "text/plain": [
       "(a = 1,)"
      ]
     },
     "execution_count": 106,
     "metadata": {},
     "output_type": "execute_result"
    }
   ],
   "source": [
    "(;a=1)  # `(a=1,)` と書いても同じ"
   ]
  },
  {
   "cell_type": "code",
   "execution_count": 107,
   "id": "067fb456",
   "metadata": {
    "ExecuteTime": {
     "end_time": "2023-01-26T21:57:56.606000+09:00",
     "start_time": "2023-01-26T12:57:41.200Z"
    }
   },
   "outputs": [
    {
     "data": {
      "text/plain": [
       "NamedTuple()"
      ]
     },
     "execution_count": 107,
     "metadata": {},
     "output_type": "execute_result"
    }
   ],
   "source": [
    "(;)  # 値が0個の名前付きタプル"
   ]
  },
  {
   "cell_type": "markdown",
   "id": "47efcca9",
   "metadata": {},
   "source": [
    "#### コード2-23. 名前付きタプルリテラルの例(2)"
   ]
  },
  {
   "cell_type": "code",
   "execution_count": 108,
   "id": "1057487e",
   "metadata": {
    "ExecuteTime": {
     "end_time": "2023-01-26T21:57:56.607000+09:00",
     "start_time": "2023-01-26T12:57:41.203Z"
    }
   },
   "outputs": [],
   "source": [
    "i = 2; fp = 99.9;"
   ]
  },
  {
   "cell_type": "code",
   "execution_count": 109,
   "id": "b7711505",
   "metadata": {
    "ExecuteTime": {
     "end_time": "2023-01-26T21:57:56.880000+09:00",
     "start_time": "2023-01-26T12:57:41.205Z"
    }
   },
   "outputs": [
    {
     "data": {
      "text/plain": [
       "(i = 2, pi = π)"
      ]
     },
     "execution_count": 109,
     "metadata": {},
     "output_type": "execute_result"
    }
   ],
   "source": [
    "(;i, pi)  # `pi` は定数 `π`"
   ]
  },
  {
   "cell_type": "code",
   "execution_count": 110,
   "id": "25c642d5",
   "metadata": {
    "ExecuteTime": {
     "end_time": "2023-01-26T21:57:56.881000+09:00",
     "start_time": "2023-01-26T12:57:41.207Z"
    }
   },
   "outputs": [
    {
     "data": {
      "text/plain": [
       "(c = 'a', i = 2, fp = 99.9, pi = π)"
      ]
     },
     "execution_count": 110,
     "metadata": {},
     "output_type": "execute_result"
    }
   ],
   "source": [
    "(c='a', i, fp, pi)"
   ]
  },
  {
   "cell_type": "markdown",
   "id": "f874858e",
   "metadata": {},
   "source": [
    "### 2-1-8. その他のリテラル"
   ]
  },
  {
   "cell_type": "markdown",
   "id": "d16cb0b8",
   "metadata": {},
   "source": [
    "#### 表2-2. その他のリテラル"
   ]
  },
  {
   "cell_type": "markdown",
   "id": "6b418c72",
   "metadata": {},
   "source": [
    "| リテラル表記 | 種類 | 説明 |\n",
    "| :-- | :-- | :-- |\n",
    "| `true`/`false` | 真偽値リテラル | `Bool` 型の値（2種類のみ） |\n",
    "| `nothing` | `nothing` リテラル | `Nothing` 型の値（1種類のみ） |\n",
    "| `missing` | 欠損値リテラル | `Missing` 型の値（1種類のみ） |\n",
    "| `:ok` 等 | シンボルリテラル | `Symbol` 型（`:` に続く文字列表記） |\n",
    "| `` `ls` `` 等 | コマンドリテラル | `Cmd` 型（シェルコマンドを表す） |"
   ]
  },
  {
   "cell_type": "code",
   "execution_count": null,
   "id": "772d9f2e",
   "metadata": {},
   "outputs": [],
   "source": []
  }
 ],
 "metadata": {
  "jupytext": {
   "encoding": "# -*- coding: utf-8 -*-",
   "formats": "ipynb,jl:light"
  },
  "kernelspec": {
   "display_name": "Julia 1.8.5",
   "language": "julia",
   "name": "julia-1.8"
  },
  "language_info": {
   "file_extension": ".jl",
   "mimetype": "application/julia",
   "name": "julia",
   "version": "1.8.5"
  }
 },
 "nbformat": 4,
 "nbformat_minor": 5
}
