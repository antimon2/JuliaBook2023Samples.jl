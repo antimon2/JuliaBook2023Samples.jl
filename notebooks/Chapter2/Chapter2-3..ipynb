{
 "cells": [
  {
   "cell_type": "code",
   "execution_count": 1,
   "id": "9e3947d8",
   "metadata": {
    "ExecuteTime": {
     "end_time": "2023-01-26T22:13:14.918000+09:00",
     "start_time": "2023-01-26T13:13:13.640Z"
    }
   },
   "outputs": [
    {
     "name": "stdout",
     "output_type": "stream",
     "text": [
      "Julia Version 1.8.5\n",
      "Commit 17cfb8e65ea (2023-01-08 06:45 UTC)\n",
      "Platform Info:\n",
      "  OS: Linux (x86_64-linux-gnu)\n",
      "  CPU: 12 × Intel(R) Core(TM) i7-9750H CPU @ 2.60GHz\n",
      "  WORD_SIZE: 64\n",
      "  LIBM: libopenlibm\n",
      "  LLVM: libLLVM-13.0.1 (ORCJIT, skylake)\n",
      "  Threads: 1 on 12 virtual cores\n"
     ]
    }
   ],
   "source": [
    "versioninfo()"
   ]
  },
  {
   "cell_type": "markdown",
   "id": "165ed996",
   "metadata": {},
   "source": [
    "## 2-3. 演算子"
   ]
  },
  {
   "cell_type": "markdown",
   "id": "8bc4888e",
   "metadata": {},
   "source": [
    "### 2-3-1. 算術演算子"
   ]
  },
  {
   "cell_type": "markdown",
   "id": "a0db24c0",
   "metadata": {},
   "source": [
    "#### 除算演算子"
   ]
  },
  {
   "cell_type": "markdown",
   "id": "2d00d82a",
   "metadata": {},
   "source": [
    "##### コード2-25. 各種除算演算子の例(1)"
   ]
  },
  {
   "cell_type": "code",
   "execution_count": 2,
   "id": "2b218f93",
   "metadata": {
    "ExecuteTime": {
     "end_time": "2023-01-26T22:13:15.334000+09:00",
     "start_time": "2023-01-26T13:13:13.646Z"
    }
   },
   "outputs": [
    {
     "data": {
      "text/plain": [
       "2.0"
      ]
     },
     "execution_count": 2,
     "metadata": {},
     "output_type": "execute_result"
    }
   ],
   "source": [
    "4 / 2"
   ]
  },
  {
   "cell_type": "code",
   "execution_count": 3,
   "id": "b136cd32",
   "metadata": {
    "ExecuteTime": {
     "end_time": "2023-01-26T22:13:15.334000+09:00",
     "start_time": "2023-01-26T13:13:13.649Z"
    }
   },
   "outputs": [
    {
     "data": {
      "text/plain": [
       "1.4"
      ]
     },
     "execution_count": 3,
     "metadata": {},
     "output_type": "execute_result"
    }
   ],
   "source": [
    "7 / 5"
   ]
  },
  {
   "cell_type": "code",
   "execution_count": 4,
   "id": "0ab1e457",
   "metadata": {
    "ExecuteTime": {
     "end_time": "2023-01-26T22:13:15.538000+09:00",
     "start_time": "2023-01-26T13:13:13.652Z"
    }
   },
   "outputs": [
    {
     "data": {
      "text/plain": [
       "2"
      ]
     },
     "execution_count": 4,
     "metadata": {},
     "output_type": "execute_result"
    }
   ],
   "source": [
    "4 ÷ 2"
   ]
  },
  {
   "cell_type": "code",
   "execution_count": 5,
   "id": "fd534cca",
   "metadata": {
    "ExecuteTime": {
     "end_time": "2023-01-26T22:13:15.539000+09:00",
     "start_time": "2023-01-26T13:13:13.655Z"
    }
   },
   "outputs": [
    {
     "data": {
      "text/plain": [
       "1"
      ]
     },
     "execution_count": 5,
     "metadata": {},
     "output_type": "execute_result"
    }
   ],
   "source": [
    "7 ÷ 5"
   ]
  },
  {
   "cell_type": "code",
   "execution_count": 6,
   "id": "8aa308e2",
   "metadata": {
    "ExecuteTime": {
     "end_time": "2023-01-26T22:13:15.752000+09:00",
     "start_time": "2023-01-26T13:13:13.657Z"
    }
   },
   "outputs": [
    {
     "data": {
      "text/plain": [
       "2//1"
      ]
     },
     "execution_count": 6,
     "metadata": {},
     "output_type": "execute_result"
    }
   ],
   "source": [
    "4 // 2"
   ]
  },
  {
   "cell_type": "code",
   "execution_count": 7,
   "id": "7ab7cdc0",
   "metadata": {
    "ExecuteTime": {
     "end_time": "2023-01-26T22:13:15.753000+09:00",
     "start_time": "2023-01-26T13:13:13.660Z"
    }
   },
   "outputs": [
    {
     "data": {
      "text/plain": [
       "7//5"
      ]
     },
     "execution_count": 7,
     "metadata": {},
     "output_type": "execute_result"
    }
   ],
   "source": [
    "7 // 5"
   ]
  },
  {
   "cell_type": "markdown",
   "id": "e740f115",
   "metadata": {},
   "source": [
    "##### コード2-26. 各種除算演算子の例(2)"
   ]
  },
  {
   "cell_type": "code",
   "execution_count": 8,
   "id": "9986389f",
   "metadata": {
    "ExecuteTime": {
     "end_time": "2023-01-26T22:13:15.754000+09:00",
     "start_time": "2023-01-26T13:13:13.663Z"
    }
   },
   "outputs": [
    {
     "data": {
      "text/plain": [
       "1.4"
      ]
     },
     "execution_count": 8,
     "metadata": {},
     "output_type": "execute_result"
    }
   ],
   "source": [
    "7.0 / 5.0"
   ]
  },
  {
   "cell_type": "code",
   "execution_count": 9,
   "id": "7fb38fd1",
   "metadata": {
    "ExecuteTime": {
     "end_time": "2023-01-26T22:13:15.757000+09:00",
     "start_time": "2023-01-26T13:13:13.665Z"
    }
   },
   "outputs": [
    {
     "data": {
      "text/plain": [
       "1.0"
      ]
     },
     "execution_count": 9,
     "metadata": {},
     "output_type": "execute_result"
    }
   ],
   "source": [
    "7.0 ÷ 5.0"
   ]
  },
  {
   "cell_type": "code",
   "execution_count": 10,
   "id": "2f16562a",
   "metadata": {
    "ExecuteTime": {
     "end_time": "2023-01-26T22:13:16.749000+09:00",
     "start_time": "2023-01-26T13:13:13.667Z"
    }
   },
   "outputs": [
    {
     "ename": "LoadError",
     "evalue": "MethodError: no method matching //(::Float64, ::Float64)\n\u001b[0mClosest candidates are:\n\u001b[0m  //(\u001b[91m::Complex\u001b[39m, ::Real) at rational.jl:78\n\u001b[0m  //(::Number, \u001b[91m::Complex\u001b[39m) at rational.jl:79\n\u001b[0m  //(\u001b[91m::AbstractArray\u001b[39m, ::Number) at rational.jl:82",
     "output_type": "error",
     "traceback": [
      "MethodError: no method matching //(::Float64, ::Float64)\n\u001b[0mClosest candidates are:\n\u001b[0m  //(\u001b[91m::Complex\u001b[39m, ::Real) at rational.jl:78\n\u001b[0m  //(::Number, \u001b[91m::Complex\u001b[39m) at rational.jl:79\n\u001b[0m  //(\u001b[91m::AbstractArray\u001b[39m, ::Number) at rational.jl:82",
      "",
      "Stacktrace:",
      " [1] top-level scope",
      "   @ In[10]:1"
     ]
    }
   ],
   "source": [
    "7.0 // 5.0"
   ]
  },
  {
   "cell_type": "code",
   "execution_count": 11,
   "id": "f260da1b",
   "metadata": {
    "ExecuteTime": {
     "end_time": "2023-01-26T22:13:16.756000+09:00",
     "start_time": "2023-01-26T13:13:13.669Z"
    }
   },
   "outputs": [
    {
     "data": {
      "text/plain": [
       "10//3"
      ]
     },
     "execution_count": 11,
     "metadata": {},
     "output_type": "execute_result"
    }
   ],
   "source": [
    "(5//3) / (1//2)"
   ]
  },
  {
   "cell_type": "code",
   "execution_count": 12,
   "id": "92d8fd2f",
   "metadata": {
    "ExecuteTime": {
     "end_time": "2023-01-26T22:13:16.763000+09:00",
     "start_time": "2023-01-26T13:13:13.672Z"
    }
   },
   "outputs": [
    {
     "data": {
      "text/plain": [
       "3"
      ]
     },
     "execution_count": 12,
     "metadata": {},
     "output_type": "execute_result"
    }
   ],
   "source": [
    "(5//3) ÷ (1//2)"
   ]
  },
  {
   "cell_type": "code",
   "execution_count": 13,
   "id": "f55a8aea",
   "metadata": {
    "ExecuteTime": {
     "end_time": "2023-01-26T22:13:16.769000+09:00",
     "start_time": "2023-01-26T13:13:13.674Z"
    }
   },
   "outputs": [
    {
     "data": {
      "text/plain": [
       "10//3"
      ]
     },
     "execution_count": 13,
     "metadata": {},
     "output_type": "execute_result"
    }
   ],
   "source": [
    "(5//3) // (1//2)"
   ]
  },
  {
   "cell_type": "code",
   "execution_count": 14,
   "id": "27e93771",
   "metadata": {
    "ExecuteTime": {
     "end_time": "2023-01-26T22:13:16.968000+09:00",
     "start_time": "2023-01-26T13:13:13.676Z"
    }
   },
   "outputs": [
    {
     "data": {
      "text/plain": [
       "-0.0 + 1.0im"
      ]
     },
     "execution_count": 14,
     "metadata": {},
     "output_type": "execute_result"
    }
   ],
   "source": [
    "(1 + im) / (1 - im)"
   ]
  },
  {
   "cell_type": "code",
   "execution_count": 15,
   "id": "189213bd",
   "metadata": {
    "ExecuteTime": {
     "end_time": "2023-01-26T22:13:17.038000+09:00",
     "start_time": "2023-01-26T13:13:13.678Z"
    }
   },
   "outputs": [
    {
     "ename": "LoadError",
     "evalue": "MethodError: no method matching div(::Complex{Int64}, ::Complex{Int64}, ::RoundingMode{:ToZero})\n\u001b[0mClosest candidates are:\n\u001b[0m  div(::Number, \u001b[91m::Missing\u001b[39m, ::RoundingMode) at missing.jl:130\n\u001b[0m  div(\u001b[91m::Missing\u001b[39m, ::Number, ::RoundingMode) at missing.jl:129\n\u001b[0m  div(::Any, ::Any) at div.jl:40\n\u001b[0m  ...",
     "output_type": "error",
     "traceback": [
      "MethodError: no method matching div(::Complex{Int64}, ::Complex{Int64}, ::RoundingMode{:ToZero})\n\u001b[0mClosest candidates are:\n\u001b[0m  div(::Number, \u001b[91m::Missing\u001b[39m, ::RoundingMode) at missing.jl:130\n\u001b[0m  div(\u001b[91m::Missing\u001b[39m, ::Number, ::RoundingMode) at missing.jl:129\n\u001b[0m  div(::Any, ::Any) at div.jl:40\n\u001b[0m  ...",
      "",
      "Stacktrace:",
      " [1] div(a::Complex{Int64}, b::Complex{Int64})",
      "   @ Base ./div.jl:40",
      " [2] top-level scope",
      "   @ In[15]:1"
     ]
    }
   ],
   "source": [
    "(1 + im) ÷ (1 - im)"
   ]
  },
  {
   "cell_type": "code",
   "execution_count": 16,
   "id": "4f187c33",
   "metadata": {
    "ExecuteTime": {
     "end_time": "2023-01-26T22:13:17.248000+09:00",
     "start_time": "2023-01-26T13:13:13.681Z"
    }
   },
   "outputs": [
    {
     "data": {
      "text/plain": [
       "0//1 + 1//1*im"
      ]
     },
     "execution_count": 16,
     "metadata": {},
     "output_type": "execute_result"
    }
   ],
   "source": [
    "(1 + im) // (1 - im)"
   ]
  },
  {
   "cell_type": "code",
   "execution_count": 17,
   "id": "2b75f47e",
   "metadata": {
    "ExecuteTime": {
     "end_time": "2023-01-26T22:13:17.272000+09:00",
     "start_time": "2023-01-26T13:13:13.683Z"
    }
   },
   "outputs": [
    {
     "ename": "LoadError",
     "evalue": "MethodError: no method matching //(::Float64, ::Float64)\n\u001b[0mClosest candidates are:\n\u001b[0m  //(\u001b[91m::Complex\u001b[39m, ::Real) at rational.jl:78\n\u001b[0m  //(::Number, \u001b[91m::Complex\u001b[39m) at rational.jl:79\n\u001b[0m  //(\u001b[91m::AbstractArray\u001b[39m, ::Number) at rational.jl:82",
     "output_type": "error",
     "traceback": [
      "MethodError: no method matching //(::Float64, ::Float64)\n\u001b[0mClosest candidates are:\n\u001b[0m  //(\u001b[91m::Complex\u001b[39m, ::Real) at rational.jl:78\n\u001b[0m  //(::Number, \u001b[91m::Complex\u001b[39m) at rational.jl:79\n\u001b[0m  //(\u001b[91m::AbstractArray\u001b[39m, ::Number) at rational.jl:82",
      "",
      "Stacktrace:",
      " [1] //(x::ComplexF64, y::Float64)",
      "   @ Base ./rational.jl:78",
      " [2] //(x::ComplexF64, y::ComplexF64)",
      "   @ Base ./rational.jl:79",
      " [3] top-level scope",
      "   @ In[17]:1"
     ]
    }
   ],
   "source": [
    "(1.0 + im) // (1.0 - im)"
   ]
  },
  {
   "cell_type": "markdown",
   "id": "32a7ceb1",
   "metadata": {},
   "source": [
    "#### 冪乗演算子"
   ]
  },
  {
   "cell_type": "markdown",
   "id": "9ea39029",
   "metadata": {},
   "source": [
    "##### コード2-27. 冪乗演算子の例"
   ]
  },
  {
   "cell_type": "code",
   "execution_count": 18,
   "id": "e382721f",
   "metadata": {
    "ExecuteTime": {
     "end_time": "2023-01-26T22:13:17.276000+09:00",
     "start_time": "2023-01-26T13:13:13.687Z"
    }
   },
   "outputs": [
    {
     "data": {
      "text/plain": [
       "1.4142135623730951"
      ]
     },
     "execution_count": 18,
     "metadata": {},
     "output_type": "execute_result"
    }
   ],
   "source": [
    "2^(1//2)"
   ]
  },
  {
   "cell_type": "code",
   "execution_count": 19,
   "id": "27b48fc3",
   "metadata": {
    "ExecuteTime": {
     "end_time": "2023-01-26T22:13:17.279000+09:00",
     "start_time": "2023-01-26T13:13:13.690Z"
    }
   },
   "outputs": [
    {
     "data": {
      "text/plain": [
       "1.2311444133449163"
      ]
     },
     "execution_count": 19,
     "metadata": {},
     "output_type": "execute_result"
    }
   ],
   "source": [
    "2^0.3"
   ]
  },
  {
   "cell_type": "code",
   "execution_count": 20,
   "id": "86e994a1",
   "metadata": {
    "ExecuteTime": {
     "end_time": "2023-01-26T22:13:17.280000+09:00",
     "start_time": "2023-01-26T13:13:13.692Z"
    }
   },
   "outputs": [
    {
     "data": {
      "text/plain": [
       "1.4175715661678827"
      ]
     },
     "execution_count": 20,
     "metadata": {},
     "output_type": "execute_result"
    }
   ],
   "source": [
    "3.2^0.3"
   ]
  },
  {
   "cell_type": "code",
   "execution_count": 21,
   "id": "90af04f5",
   "metadata": {
    "ExecuteTime": {
     "end_time": "2023-01-26T22:13:17.362000+09:00",
     "start_time": "2023-01-26T13:13:13.694Z"
    }
   },
   "outputs": [
    {
     "data": {
      "text/plain": [
       "0.7071067811865476 + 0.7071067811865475im"
      ]
     },
     "execution_count": 21,
     "metadata": {},
     "output_type": "execute_result"
    }
   ],
   "source": [
    "ℯ^(π/4*im)"
   ]
  },
  {
   "cell_type": "markdown",
   "id": "c0ed8c40",
   "metadata": {},
   "source": [
    "### 2-3-2. ビット演算子"
   ]
  },
  {
   "cell_type": "markdown",
   "id": "486e6555",
   "metadata": {},
   "source": [
    "#### コード2-28. ビット演算子の例(1)"
   ]
  },
  {
   "cell_type": "code",
   "execution_count": 22,
   "id": "39f83edb",
   "metadata": {
    "ExecuteTime": {
     "end_time": "2023-01-26T22:13:17.783000+09:00",
     "start_time": "2023-01-26T13:13:13.699Z"
    }
   },
   "outputs": [
    {
     "data": {
      "text/plain": [
       "\"0001001000111010\""
      ]
     },
     "execution_count": 22,
     "metadata": {},
     "output_type": "execute_result"
    }
   ],
   "source": [
    "bitstring(0x123a)"
   ]
  },
  {
   "cell_type": "code",
   "execution_count": 23,
   "id": "52f6a20f",
   "metadata": {
    "ExecuteTime": {
     "end_time": "2023-01-26T22:13:17.785000+09:00",
     "start_time": "2023-01-26T13:13:13.701Z"
    }
   },
   "outputs": [
    {
     "data": {
      "text/plain": [
       "\"1110110111000101\""
      ]
     },
     "execution_count": 23,
     "metadata": {},
     "output_type": "execute_result"
    }
   ],
   "source": [
    "bitstring(~0x123a)"
   ]
  },
  {
   "cell_type": "code",
   "execution_count": 24,
   "id": "0969af7c",
   "metadata": {
    "ExecuteTime": {
     "end_time": "2023-01-26T22:13:17.793000+09:00",
     "start_time": "2023-01-26T13:13:13.703Z"
    }
   },
   "outputs": [
    {
     "data": {
      "text/plain": [
       "\"0000000001111011\""
      ]
     },
     "execution_count": 24,
     "metadata": {},
     "output_type": "execute_result"
    }
   ],
   "source": [
    "x = Int16(123);\n",
    "bitstring(x)"
   ]
  },
  {
   "cell_type": "code",
   "execution_count": 25,
   "id": "404e43c3",
   "metadata": {
    "ExecuteTime": {
     "end_time": "2023-01-26T22:13:17.794000+09:00",
     "start_time": "2023-01-26T13:13:13.705Z"
    }
   },
   "outputs": [
    {
     "data": {
      "text/plain": [
       "\"0000000011101010\""
      ]
     },
     "execution_count": 25,
     "metadata": {},
     "output_type": "execute_result"
    }
   ],
   "source": [
    "y = Int16(234);\n",
    "bitstring(y)"
   ]
  },
  {
   "cell_type": "code",
   "execution_count": 26,
   "id": "9405da2c",
   "metadata": {
    "ExecuteTime": {
     "end_time": "2023-01-26T22:13:17.796000+09:00",
     "start_time": "2023-01-26T13:13:13.707Z"
    }
   },
   "outputs": [
    {
     "data": {
      "text/plain": [
       "\"0000000001101010\""
      ]
     },
     "execution_count": 26,
     "metadata": {},
     "output_type": "execute_result"
    }
   ],
   "source": [
    "bitstring(x & y)"
   ]
  },
  {
   "cell_type": "code",
   "execution_count": 27,
   "id": "95d5335f",
   "metadata": {
    "ExecuteTime": {
     "end_time": "2023-01-26T22:13:17.799000+09:00",
     "start_time": "2023-01-26T13:13:13.709Z"
    }
   },
   "outputs": [
    {
     "data": {
      "text/plain": [
       "\"0000000011111011\""
      ]
     },
     "execution_count": 27,
     "metadata": {},
     "output_type": "execute_result"
    }
   ],
   "source": [
    "bitstring(x | y)"
   ]
  },
  {
   "cell_type": "code",
   "execution_count": 28,
   "id": "81212158",
   "metadata": {
    "ExecuteTime": {
     "end_time": "2023-01-26T22:13:17.801000+09:00",
     "start_time": "2023-01-26T13:13:13.711Z"
    }
   },
   "outputs": [
    {
     "data": {
      "text/plain": [
       "\"0000000010010001\""
      ]
     },
     "execution_count": 28,
     "metadata": {},
     "output_type": "execute_result"
    }
   ],
   "source": [
    "bitstring(x ⊻ y)"
   ]
  },
  {
   "cell_type": "markdown",
   "id": "15a783dd",
   "metadata": {},
   "source": [
    "#### コード2-29. ビット演算子の例(2)"
   ]
  },
  {
   "cell_type": "code",
   "execution_count": 29,
   "id": "226344f0",
   "metadata": {
    "ExecuteTime": {
     "end_time": "2023-01-26T22:13:17.808000+09:00",
     "start_time": "2023-01-26T13:13:13.713Z"
    }
   },
   "outputs": [
    {
     "data": {
      "text/plain": [
       "\"11100010\""
      ]
     },
     "execution_count": 29,
     "metadata": {},
     "output_type": "execute_result"
    }
   ],
   "source": [
    "bitstring(Int8(-30))"
   ]
  },
  {
   "cell_type": "code",
   "execution_count": 30,
   "id": "0165096f",
   "metadata": {
    "ExecuteTime": {
     "end_time": "2023-01-26T22:13:17.811000+09:00",
     "start_time": "2023-01-26T13:13:13.716Z"
    }
   },
   "outputs": [
    {
     "data": {
      "text/plain": [
       "\"00111000\""
      ]
     },
     "execution_count": 30,
     "metadata": {},
     "output_type": "execute_result"
    }
   ],
   "source": [
    "bitstring(Int8(-30) >>> 2)"
   ]
  },
  {
   "cell_type": "code",
   "execution_count": 31,
   "id": "04022415",
   "metadata": {
    "ExecuteTime": {
     "end_time": "2023-01-26T22:13:17.815000+09:00",
     "start_time": "2023-01-26T13:13:13.720Z"
    }
   },
   "outputs": [
    {
     "data": {
      "text/plain": [
       "\"11111000\""
      ]
     },
     "execution_count": 31,
     "metadata": {},
     "output_type": "execute_result"
    }
   ],
   "source": [
    "bitstring(Int8(-30) >> 2)"
   ]
  },
  {
   "cell_type": "code",
   "execution_count": 32,
   "id": "1e891870",
   "metadata": {
    "ExecuteTime": {
     "end_time": "2023-01-26T22:13:17.818000+09:00",
     "start_time": "2023-01-26T13:13:13.722Z"
    }
   },
   "outputs": [
    {
     "data": {
      "text/plain": [
       "\"10001000\""
      ]
     },
     "execution_count": 32,
     "metadata": {},
     "output_type": "execute_result"
    }
   ],
   "source": [
    "bitstring(Int8(-30) << 2)"
   ]
  },
  {
   "cell_type": "code",
   "execution_count": 33,
   "id": "e1f10479",
   "metadata": {
    "ExecuteTime": {
     "end_time": "2023-01-26T22:13:17.824000+09:00",
     "start_time": "2023-01-26T13:13:13.724Z"
    }
   },
   "outputs": [
    {
     "data": {
      "text/plain": [
       "\"11100010\""
      ]
     },
     "execution_count": 33,
     "metadata": {},
     "output_type": "execute_result"
    }
   ],
   "source": [
    "bitstring(0xe2)"
   ]
  },
  {
   "cell_type": "code",
   "execution_count": 34,
   "id": "c866208f",
   "metadata": {
    "ExecuteTime": {
     "end_time": "2023-01-26T22:13:17.828000+09:00",
     "start_time": "2023-01-26T13:13:13.727Z"
    }
   },
   "outputs": [
    {
     "data": {
      "text/plain": [
       "\"00111000\""
      ]
     },
     "execution_count": 34,
     "metadata": {},
     "output_type": "execute_result"
    }
   ],
   "source": [
    "bitstring(0xe2 >>> 2)"
   ]
  },
  {
   "cell_type": "code",
   "execution_count": 35,
   "id": "4ce97e05",
   "metadata": {
    "ExecuteTime": {
     "end_time": "2023-01-26T22:13:17.831000+09:00",
     "start_time": "2023-01-26T13:13:13.729Z"
    }
   },
   "outputs": [
    {
     "data": {
      "text/plain": [
       "\"00111000\""
      ]
     },
     "execution_count": 35,
     "metadata": {},
     "output_type": "execute_result"
    }
   ],
   "source": [
    "bitstring(0xe2 >> 2)"
   ]
  },
  {
   "cell_type": "code",
   "execution_count": 36,
   "id": "e6b76af8",
   "metadata": {
    "ExecuteTime": {
     "end_time": "2023-01-26T22:13:17.831000+09:00",
     "start_time": "2023-01-26T13:13:13.731Z"
    }
   },
   "outputs": [
    {
     "data": {
      "text/plain": [
       "\"10001000\""
      ]
     },
     "execution_count": 36,
     "metadata": {},
     "output_type": "execute_result"
    }
   ],
   "source": [
    "bitstring(0xe2 << 2)"
   ]
  },
  {
   "cell_type": "markdown",
   "id": "a12ed44e",
   "metadata": {},
   "source": [
    "### 2-3-3. 論理演算子"
   ]
  },
  {
   "cell_type": "markdown",
   "id": "ce42ba5f",
   "metadata": {},
   "source": [
    "### 2-3-4. 文字列操作演算子"
   ]
  },
  {
   "cell_type": "markdown",
   "id": "30f5e9c3",
   "metadata": {},
   "source": [
    "### 2-3-5. 代入演算子"
   ]
  },
  {
   "cell_type": "markdown",
   "id": "bf05c6ef",
   "metadata": {},
   "source": [
    "#### コード2-30. 代入演算子の例(1)：変数・定数への代入（束縛）"
   ]
  },
  {
   "cell_type": "code",
   "execution_count": 37,
   "id": "569796b4",
   "metadata": {
    "ExecuteTime": {
     "end_time": "2023-01-26T22:13:17.832000+09:00",
     "start_time": "2023-01-26T13:13:13.738Z"
    }
   },
   "outputs": [
    {
     "data": {
      "text/plain": [
       "123"
      ]
     },
     "execution_count": 37,
     "metadata": {},
     "output_type": "execute_result"
    }
   ],
   "source": [
    "x = 123"
   ]
  },
  {
   "cell_type": "code",
   "execution_count": 38,
   "id": "3d9ea170",
   "metadata": {
    "ExecuteTime": {
     "end_time": "2023-01-26T22:13:17.832000+09:00",
     "start_time": "2023-01-26T13:13:13.740Z"
    }
   },
   "outputs": [
    {
     "data": {
      "text/plain": [
       "123"
      ]
     },
     "execution_count": 38,
     "metadata": {},
     "output_type": "execute_result"
    }
   ],
   "source": [
    "x"
   ]
  },
  {
   "cell_type": "code",
   "execution_count": 39,
   "id": "03a0f5d1",
   "metadata": {
    "ExecuteTime": {
     "end_time": "2023-01-26T22:13:17.833000+09:00",
     "start_time": "2023-01-26T13:13:13.742Z"
    }
   },
   "outputs": [
    {
     "data": {
      "text/plain": [
       "1.5"
      ]
     },
     "execution_count": 39,
     "metadata": {},
     "output_type": "execute_result"
    }
   ],
   "source": [
    "const xx = 1.5"
   ]
  },
  {
   "cell_type": "code",
   "execution_count": 40,
   "id": "c4852c1c",
   "metadata": {
    "ExecuteTime": {
     "end_time": "2023-01-26T22:13:17.833000+09:00",
     "start_time": "2023-01-26T13:13:13.744Z"
    }
   },
   "outputs": [
    {
     "data": {
      "text/plain": [
       "1.5"
      ]
     },
     "execution_count": 40,
     "metadata": {},
     "output_type": "execute_result"
    }
   ],
   "source": [
    "xx"
   ]
  },
  {
   "cell_type": "markdown",
   "id": "f0e90f15",
   "metadata": {},
   "source": [
    "#### コード2-31. 代入演算子の例(2)：一括代入・分割代入"
   ]
  },
  {
   "cell_type": "code",
   "execution_count": 41,
   "id": "98839fa2",
   "metadata": {
    "ExecuteTime": {
     "end_time": "2023-01-26T22:13:18.054000+09:00",
     "start_time": "2023-01-26T13:13:13.747Z"
    }
   },
   "outputs": [
    {
     "data": {
      "text/plain": [
       "(1, 2, 3)"
      ]
     },
     "execution_count": 41,
     "metadata": {},
     "output_type": "execute_result"
    }
   ],
   "source": [
    "x₁, x₂, x₃ = 1, 2, 3  # 一括代入"
   ]
  },
  {
   "cell_type": "code",
   "execution_count": 42,
   "id": "396ac4c1",
   "metadata": {
    "ExecuteTime": {
     "end_time": "2023-01-26T22:13:18.055000+09:00",
     "start_time": "2023-01-26T13:13:13.749Z"
    }
   },
   "outputs": [
    {
     "data": {
      "text/plain": [
       "1"
      ]
     },
     "execution_count": 42,
     "metadata": {},
     "output_type": "execute_result"
    }
   ],
   "source": [
    "x₁"
   ]
  },
  {
   "cell_type": "code",
   "execution_count": 43,
   "id": "85508128",
   "metadata": {
    "ExecuteTime": {
     "end_time": "2023-01-26T22:13:18.055000+09:00",
     "start_time": "2023-01-26T13:13:13.751Z"
    }
   },
   "outputs": [
    {
     "data": {
      "text/plain": [
       "2"
      ]
     },
     "execution_count": 43,
     "metadata": {},
     "output_type": "execute_result"
    }
   ],
   "source": [
    "x₂"
   ]
  },
  {
   "cell_type": "code",
   "execution_count": 44,
   "id": "b9010cf0",
   "metadata": {
    "ExecuteTime": {
     "end_time": "2023-01-26T22:13:18.056000+09:00",
     "start_time": "2023-01-26T13:13:13.753Z"
    }
   },
   "outputs": [
    {
     "data": {
      "text/plain": [
       "3"
      ]
     },
     "execution_count": 44,
     "metadata": {},
     "output_type": "execute_result"
    }
   ],
   "source": [
    "x₃"
   ]
  },
  {
   "cell_type": "code",
   "execution_count": 45,
   "id": "e10380e4",
   "metadata": {
    "ExecuteTime": {
     "end_time": "2023-01-26T22:13:18.056000+09:00",
     "start_time": "2023-01-26T13:13:13.755Z"
    }
   },
   "outputs": [
    {
     "data": {
      "text/plain": [
       "(4, 5, 6)"
      ]
     },
     "execution_count": 45,
     "metadata": {},
     "output_type": "execute_result"
    }
   ],
   "source": [
    "(x₁, x₂, x₃) = 4, 5, 6  # 一括代入（左辺タプル書式）"
   ]
  },
  {
   "cell_type": "code",
   "execution_count": 46,
   "id": "e832fef2",
   "metadata": {
    "ExecuteTime": {
     "end_time": "2023-01-26T22:13:18.057000+09:00",
     "start_time": "2023-01-26T13:13:13.757Z"
    }
   },
   "outputs": [
    {
     "data": {
      "text/plain": [
       "4"
      ]
     },
     "execution_count": 46,
     "metadata": {},
     "output_type": "execute_result"
    }
   ],
   "source": [
    "x₁"
   ]
  },
  {
   "cell_type": "code",
   "execution_count": 47,
   "id": "56d534c4",
   "metadata": {
    "ExecuteTime": {
     "end_time": "2023-01-26T22:13:18.057000+09:00",
     "start_time": "2023-01-26T13:13:13.759Z"
    }
   },
   "outputs": [
    {
     "data": {
      "text/plain": [
       "5"
      ]
     },
     "execution_count": 47,
     "metadata": {},
     "output_type": "execute_result"
    }
   ],
   "source": [
    "x₂"
   ]
  },
  {
   "cell_type": "code",
   "execution_count": 48,
   "id": "8dbed53f",
   "metadata": {
    "ExecuteTime": {
     "end_time": "2023-01-26T22:13:18.057000+09:00",
     "start_time": "2023-01-26T13:13:13.761Z"
    }
   },
   "outputs": [
    {
     "data": {
      "text/plain": [
       "6"
      ]
     },
     "execution_count": 48,
     "metadata": {},
     "output_type": "execute_result"
    }
   ],
   "source": [
    "x₃"
   ]
  },
  {
   "cell_type": "code",
   "execution_count": 49,
   "id": "8eb36d20",
   "metadata": {
    "ExecuteTime": {
     "end_time": "2023-01-26T22:13:18.062000+09:00",
     "start_time": "2023-01-26T13:13:13.763Z"
    }
   },
   "outputs": [],
   "source": [
    "v = Float64[1, 2, 3];"
   ]
  },
  {
   "cell_type": "code",
   "execution_count": 50,
   "id": "dd48a321",
   "metadata": {
    "ExecuteTime": {
     "end_time": "2023-01-26T22:13:18.070000+09:00",
     "start_time": "2023-01-26T13:13:13.765Z"
    }
   },
   "outputs": [],
   "source": [
    "x₁, x₂, x₃ = v;  # 分割代入"
   ]
  },
  {
   "cell_type": "code",
   "execution_count": 51,
   "id": "e8339205",
   "metadata": {
    "ExecuteTime": {
     "end_time": "2023-01-26T22:13:18.285000+09:00",
     "start_time": "2023-01-26T13:13:13.767Z"
    }
   },
   "outputs": [
    {
     "data": {
      "text/plain": [
       "(1.0, 2.0, 3.0)"
      ]
     },
     "execution_count": 51,
     "metadata": {},
     "output_type": "execute_result"
    }
   ],
   "source": [
    "(x₁, x₂, x₃)"
   ]
  },
  {
   "cell_type": "code",
   "execution_count": 52,
   "id": "07d8c533",
   "metadata": {
    "ExecuteTime": {
     "end_time": "2023-01-26T22:13:18.293000+09:00",
     "start_time": "2023-01-26T13:13:13.769Z"
    }
   },
   "outputs": [],
   "source": [
    "(x₁, x₂, (x₃, x₄, x₅)) = (11, 21, [31, 32, 33]);  # 一括代入・分割代入の入れ子"
   ]
  },
  {
   "cell_type": "code",
   "execution_count": 53,
   "id": "8d1c62c6",
   "metadata": {
    "ExecuteTime": {
     "end_time": "2023-01-26T22:13:18.504000+09:00",
     "start_time": "2023-01-26T13:13:13.771Z"
    }
   },
   "outputs": [
    {
     "data": {
      "text/plain": [
       "(11, 21, 31, 32, 33)"
      ]
     },
     "execution_count": 53,
     "metadata": {},
     "output_type": "execute_result"
    }
   ],
   "source": [
    "(x₁, x₂, x₃, x₄, x₅)"
   ]
  },
  {
   "cell_type": "code",
   "execution_count": 54,
   "id": "7c28868b",
   "metadata": {
    "ExecuteTime": {
     "end_time": "2023-01-26T22:13:18.505000+09:00",
     "start_time": "2023-01-26T13:13:13.773Z"
    }
   },
   "outputs": [],
   "source": [
    "x₁, x₂ = v;  # 左辺の変数が少ない分割代入（エラーにならない）"
   ]
  },
  {
   "cell_type": "code",
   "execution_count": 55,
   "id": "a0b91ec5",
   "metadata": {
    "ExecuteTime": {
     "end_time": "2023-01-26T22:13:18.716000+09:00",
     "start_time": "2023-01-26T13:13:13.775Z"
    }
   },
   "outputs": [
    {
     "data": {
      "text/plain": [
       "(1.0, 2.0)"
      ]
     },
     "execution_count": 55,
     "metadata": {},
     "output_type": "execute_result"
    }
   ],
   "source": [
    "(x₁, x₂)"
   ]
  },
  {
   "cell_type": "code",
   "execution_count": 56,
   "id": "b5e26917",
   "metadata": {
    "ExecuteTime": {
     "end_time": "2023-01-26T22:13:18.796000+09:00",
     "start_time": "2023-01-26T13:13:13.777Z"
    }
   },
   "outputs": [
    {
     "ename": "LoadError",
     "evalue": "BoundsError: attempt to access 3-element Vector{Float64} at index [4]",
     "output_type": "error",
     "traceback": [
      "BoundsError: attempt to access 3-element Vector{Float64} at index [4]",
      "",
      "Stacktrace:",
      " [1] getindex",
      "   @ ./array.jl:924 [inlined]",
      " [2] indexed_iterate(a::Vector{Float64}, i::Int64, state::Int64)",
      "   @ Base ./tuple.jl:89",
      " [3] top-level scope",
      "   @ In[56]:1"
     ]
    }
   ],
   "source": [
    "x₁, x₂, x₃, x₄ = v;  # 左辺の変数が多い分割代入（エラー）"
   ]
  },
  {
   "cell_type": "markdown",
   "id": "0727432d",
   "metadata": {},
   "source": [
    "#### コード2-32. 代入演算子の例(3)：プロパティ分割代入"
   ]
  },
  {
   "cell_type": "code",
   "execution_count": 57,
   "id": "9e09e4a4",
   "metadata": {
    "ExecuteTime": {
     "end_time": "2023-01-26T22:13:18.967000+09:00",
     "start_time": "2023-01-26T13:13:13.780Z"
    }
   },
   "outputs": [
    {
     "data": {
      "text/plain": [
       "v\"1.8.5\""
      ]
     },
     "execution_count": 57,
     "metadata": {},
     "output_type": "execute_result"
    }
   ],
   "source": [
    "VERSION"
   ]
  },
  {
   "cell_type": "code",
   "execution_count": 58,
   "id": "b1828079",
   "metadata": {
    "ExecuteTime": {
     "end_time": "2023-01-26T22:13:19.179000+09:00",
     "start_time": "2023-01-26T13:13:13.782Z"
    }
   },
   "outputs": [
    {
     "data": {
      "text/plain": [
       "(a = 1, b = 2)"
      ]
     },
     "execution_count": 58,
     "metadata": {},
     "output_type": "execute_result"
    }
   ],
   "source": [
    "nt = (a=1, b=2)"
   ]
  },
  {
   "cell_type": "code",
   "execution_count": 59,
   "id": "3a392f07",
   "metadata": {
    "ExecuteTime": {
     "end_time": "2023-01-26T22:13:19.183000+09:00",
     "start_time": "2023-01-26T13:13:13.784Z"
    }
   },
   "outputs": [
    {
     "data": {
      "text/plain": [
       "(a = 1, b = 2)"
      ]
     },
     "execution_count": 59,
     "metadata": {},
     "output_type": "execute_result"
    }
   ],
   "source": [
    "(; a, b) = nt  # （結果的には）`a = nt.a; b = nt.b` というコードと同等"
   ]
  },
  {
   "cell_type": "code",
   "execution_count": 60,
   "id": "4fa07156",
   "metadata": {
    "ExecuteTime": {
     "end_time": "2023-01-26T22:13:19.184000+09:00",
     "start_time": "2023-01-26T13:13:13.786Z"
    }
   },
   "outputs": [
    {
     "data": {
      "text/plain": [
       "1"
      ]
     },
     "execution_count": 60,
     "metadata": {},
     "output_type": "execute_result"
    }
   ],
   "source": [
    "a"
   ]
  },
  {
   "cell_type": "code",
   "execution_count": 61,
   "id": "8ee305be",
   "metadata": {
    "ExecuteTime": {
     "end_time": "2023-01-26T22:13:19.184000+09:00",
     "start_time": "2023-01-26T13:13:13.788Z"
    }
   },
   "outputs": [
    {
     "data": {
      "text/plain": [
       "2"
      ]
     },
     "execution_count": 61,
     "metadata": {},
     "output_type": "execute_result"
    }
   ],
   "source": [
    "b"
   ]
  },
  {
   "cell_type": "code",
   "execution_count": 62,
   "id": "710f094c",
   "metadata": {
    "ExecuteTime": {
     "end_time": "2023-01-26T22:13:19.185000+09:00",
     "start_time": "2023-01-26T13:13:13.790Z"
    }
   },
   "outputs": [],
   "source": [
    "(; a) = nt;  # OK"
   ]
  },
  {
   "cell_type": "code",
   "execution_count": 63,
   "id": "d8d9754b",
   "metadata": {
    "ExecuteTime": {
     "end_time": "2023-01-26T22:13:19.185000+09:00",
     "start_time": "2023-01-26T13:13:13.793Z"
    }
   },
   "outputs": [],
   "source": [
    "(; b, a) = nt;  # OK"
   ]
  },
  {
   "cell_type": "code",
   "execution_count": 64,
   "id": "1fd2008a",
   "metadata": {
    "ExecuteTime": {
     "end_time": "2023-01-26T22:13:19.240000+09:00",
     "start_time": "2023-01-26T13:13:13.795Z"
    }
   },
   "outputs": [
    {
     "ename": "LoadError",
     "evalue": "type NamedTuple has no field c",
     "output_type": "error",
     "traceback": [
      "type NamedTuple has no field c",
      "",
      "Stacktrace:",
      " [1] getproperty(x::NamedTuple{(:a, :b), Tuple{Int64, Int64}}, f::Symbol)",
      "   @ Base ./Base.jl:38",
      " [2] top-level scope",
      "   @ In[64]:1"
     ]
    }
   ],
   "source": [
    "(; a, b, c) = nt;  # NG"
   ]
  },
  {
   "cell_type": "markdown",
   "id": "af5b74f3",
   "metadata": {},
   "source": [
    "### 2-3-6. 比較演算子"
   ]
  },
  {
   "cell_type": "markdown",
   "id": "bed2b5ec",
   "metadata": {},
   "source": [
    "#### 同値演算子"
   ]
  },
  {
   "cell_type": "markdown",
   "id": "300c775d",
   "metadata": {},
   "source": [
    "##### コード2-33. 同値演算子の例（等価演算子との比較）"
   ]
  },
  {
   "cell_type": "code",
   "execution_count": 65,
   "id": "8a4109b4",
   "metadata": {
    "ExecuteTime": {
     "end_time": "2023-01-26T22:13:19.409000+09:00",
     "start_time": "2023-01-26T13:13:13.800Z"
    }
   },
   "outputs": [
    {
     "data": {
      "text/plain": [
       "true"
      ]
     },
     "execution_count": 65,
     "metadata": {},
     "output_type": "execute_result"
    }
   ],
   "source": [
    "pi === π  # 同じ値を指し示す定数"
   ]
  },
  {
   "cell_type": "code",
   "execution_count": 66,
   "id": "cdb000ac",
   "metadata": {
    "ExecuteTime": {
     "end_time": "2023-01-26T22:13:19.410000+09:00",
     "start_time": "2023-01-26T13:13:13.802Z"
    }
   },
   "outputs": [
    {
     "data": {
      "text/plain": [
       "true"
      ]
     },
     "execution_count": 66,
     "metadata": {},
     "output_type": "execute_result"
    }
   ],
   "source": [
    "pi == π"
   ]
  },
  {
   "cell_type": "code",
   "execution_count": 67,
   "id": "602b52a4",
   "metadata": {
    "ExecuteTime": {
     "end_time": "2023-01-26T22:13:19.422000+09:00",
     "start_time": "2023-01-26T13:13:13.804Z"
    }
   },
   "outputs": [
    {
     "data": {
      "text/plain": [
       "true"
      ]
     },
     "execution_count": 67,
     "metadata": {},
     "output_type": "execute_result"
    }
   ],
   "source": [
    "1:10 == [1, 2, 3, 4, 5, 6, 7, 8, 9, 10]"
   ]
  },
  {
   "cell_type": "code",
   "execution_count": 68,
   "id": "26aa8d40",
   "metadata": {
    "ExecuteTime": {
     "end_time": "2023-01-26T22:13:19.423000+09:00",
     "start_time": "2023-01-26T13:13:13.807Z"
    }
   },
   "outputs": [
    {
     "data": {
      "text/plain": [
       "false"
      ]
     },
     "execution_count": 68,
     "metadata": {},
     "output_type": "execute_result"
    }
   ],
   "source": [
    "1:10 === [1, 2, 3, 4, 5, 6, 7, 8, 9, 10]  # 値としては同じだがオブジェクトとしては別物"
   ]
  },
  {
   "cell_type": "markdown",
   "id": "37dac136",
   "metadata": {},
   "source": [
    "#### 等価演算子"
   ]
  },
  {
   "cell_type": "markdown",
   "id": "79661270",
   "metadata": {},
   "source": [
    "##### コード2-34. 近似値演算子の例（等価演算子との比較）"
   ]
  },
  {
   "cell_type": "code",
   "execution_count": 69,
   "id": "c4eb476a",
   "metadata": {
    "ExecuteTime": {
     "end_time": "2023-01-26T22:13:19.424000+09:00",
     "start_time": "2023-01-26T13:13:13.812Z"
    }
   },
   "outputs": [
    {
     "data": {
      "text/plain": [
       "0.30000000000000004"
      ]
     },
     "execution_count": 69,
     "metadata": {},
     "output_type": "execute_result"
    }
   ],
   "source": [
    "about03 = 0.1 + 0.1 + 0.1"
   ]
  },
  {
   "cell_type": "code",
   "execution_count": 70,
   "id": "4e008679",
   "metadata": {
    "ExecuteTime": {
     "end_time": "2023-01-26T22:13:19.424000+09:00",
     "start_time": "2023-01-26T13:13:13.814Z"
    }
   },
   "outputs": [
    {
     "data": {
      "text/plain": [
       "false"
      ]
     },
     "execution_count": 70,
     "metadata": {},
     "output_type": "execute_result"
    }
   ],
   "source": [
    "about03 == 0.3"
   ]
  },
  {
   "cell_type": "code",
   "execution_count": 71,
   "id": "8d9a22d0",
   "metadata": {
    "ExecuteTime": {
     "end_time": "2023-01-26T22:13:19.434000+09:00",
     "start_time": "2023-01-26T13:13:13.816Z"
    }
   },
   "outputs": [
    {
     "data": {
      "text/plain": [
       "true"
      ]
     },
     "execution_count": 71,
     "metadata": {},
     "output_type": "execute_result"
    }
   ],
   "source": [
    "about03 ≈ 0.3"
   ]
  },
  {
   "cell_type": "code",
   "execution_count": 72,
   "id": "dd351746",
   "metadata": {
    "ExecuteTime": {
     "end_time": "2023-01-26T22:13:19.441000+09:00",
     "start_time": "2023-01-26T13:13:13.818Z"
    }
   },
   "outputs": [
    {
     "data": {
      "text/plain": [
       "true"
      ]
     },
     "execution_count": 72,
     "metadata": {},
     "output_type": "execute_result"
    }
   ],
   "source": [
    "about03 ≉ 0.300001"
   ]
  },
  {
   "cell_type": "markdown",
   "id": "bb0ca040",
   "metadata": {},
   "source": [
    "#### 包含演算子"
   ]
  },
  {
   "cell_type": "markdown",
   "id": "f2bff8ad",
   "metadata": {},
   "source": [
    "##### コード2-35. 包含演算子の例(1)：「属する」/「含む」"
   ]
  },
  {
   "cell_type": "code",
   "execution_count": 73,
   "id": "396e0c4a",
   "metadata": {
    "ExecuteTime": {
     "end_time": "2023-01-26T22:13:19.441000+09:00",
     "start_time": "2023-01-26T13:13:13.821Z"
    }
   },
   "outputs": [],
   "source": [
    "x = 1;\n",
    "y = 2;\n",
    "A = [1, 3, 5];"
   ]
  },
  {
   "cell_type": "code",
   "execution_count": 74,
   "id": "99ceae7b",
   "metadata": {
    "ExecuteTime": {
     "end_time": "2023-01-26T22:13:19.447000+09:00",
     "start_time": "2023-01-26T13:13:13.823Z"
    }
   },
   "outputs": [
    {
     "data": {
      "text/plain": [
       "true"
      ]
     },
     "execution_count": 74,
     "metadata": {},
     "output_type": "execute_result"
    }
   ],
   "source": [
    "x in A"
   ]
  },
  {
   "cell_type": "code",
   "execution_count": 75,
   "id": "f9cf9d1f",
   "metadata": {
    "ExecuteTime": {
     "end_time": "2023-01-26T22:13:19.447000+09:00",
     "start_time": "2023-01-26T13:13:13.825Z"
    }
   },
   "outputs": [
    {
     "data": {
      "text/plain": [
       "true"
      ]
     },
     "execution_count": 75,
     "metadata": {},
     "output_type": "execute_result"
    }
   ],
   "source": [
    "x ∈ A"
   ]
  },
  {
   "cell_type": "code",
   "execution_count": 76,
   "id": "a83e50ac",
   "metadata": {
    "ExecuteTime": {
     "end_time": "2023-01-26T22:13:19.453000+09:00",
     "start_time": "2023-01-26T13:13:13.827Z"
    }
   },
   "outputs": [
    {
     "data": {
      "text/plain": [
       "true"
      ]
     },
     "execution_count": 76,
     "metadata": {},
     "output_type": "execute_result"
    }
   ],
   "source": [
    "y ∉ A"
   ]
  },
  {
   "cell_type": "code",
   "execution_count": 77,
   "id": "56d9075b",
   "metadata": {
    "ExecuteTime": {
     "end_time": "2023-01-26T22:13:19.459000+09:00",
     "start_time": "2023-01-26T13:13:13.829Z"
    }
   },
   "outputs": [
    {
     "data": {
      "text/plain": [
       "true"
      ]
     },
     "execution_count": 77,
     "metadata": {},
     "output_type": "execute_result"
    }
   ],
   "source": [
    "A ∋ x"
   ]
  },
  {
   "cell_type": "code",
   "execution_count": 78,
   "id": "468f194c",
   "metadata": {
    "ExecuteTime": {
     "end_time": "2023-01-26T22:13:19.464000+09:00",
     "start_time": "2023-01-26T13:13:13.831Z"
    }
   },
   "outputs": [
    {
     "data": {
      "text/plain": [
       "true"
      ]
     },
     "execution_count": 78,
     "metadata": {},
     "output_type": "execute_result"
    }
   ],
   "source": [
    "A ∌ y"
   ]
  },
  {
   "cell_type": "markdown",
   "id": "22bef8ec",
   "metadata": {},
   "source": [
    "##### コード2-36. 包含演算子の例(2)：「部分集合」"
   ]
  },
  {
   "cell_type": "code",
   "execution_count": 79,
   "id": "9e068944",
   "metadata": {
    "ExecuteTime": {
     "end_time": "2023-01-26T22:13:19.465000+09:00",
     "start_time": "2023-01-26T13:13:13.834Z"
    }
   },
   "outputs": [],
   "source": [
    "A1 = [1, 2, 3];\n",
    "B1 = 1:5;\n",
    "B2 = [2, 3, 4];"
   ]
  },
  {
   "cell_type": "code",
   "execution_count": 80,
   "id": "d02cc79b",
   "metadata": {
    "ExecuteTime": {
     "end_time": "2023-01-26T22:13:19.472000+09:00",
     "start_time": "2023-01-26T13:13:13.836Z"
    }
   },
   "outputs": [
    {
     "data": {
      "text/plain": [
       "true"
      ]
     },
     "execution_count": 80,
     "metadata": {},
     "output_type": "execute_result"
    }
   ],
   "source": [
    "A1 ⊆ B1"
   ]
  },
  {
   "cell_type": "code",
   "execution_count": 81,
   "id": "9e28a922",
   "metadata": {
    "ExecuteTime": {
     "end_time": "2023-01-26T22:13:19.478000+09:00",
     "start_time": "2023-01-26T13:13:13.838Z"
    }
   },
   "outputs": [
    {
     "data": {
      "text/plain": [
       "true"
      ]
     },
     "execution_count": 81,
     "metadata": {},
     "output_type": "execute_result"
    }
   ],
   "source": [
    "B1 ⊇ A1"
   ]
  },
  {
   "cell_type": "code",
   "execution_count": 82,
   "id": "9508ec60",
   "metadata": {
    "ExecuteTime": {
     "end_time": "2023-01-26T22:13:19.493000+09:00",
     "start_time": "2023-01-26T13:13:13.840Z"
    }
   },
   "outputs": [
    {
     "data": {
      "text/plain": [
       "true"
      ]
     },
     "execution_count": 82,
     "metadata": {},
     "output_type": "execute_result"
    }
   ],
   "source": [
    "A1 ⊈ B2"
   ]
  },
  {
   "cell_type": "code",
   "execution_count": 83,
   "id": "b93bd7a8",
   "metadata": {
    "ExecuteTime": {
     "end_time": "2023-01-26T22:13:19.496000+09:00",
     "start_time": "2023-01-26T13:13:13.842Z"
    }
   },
   "outputs": [
    {
     "data": {
      "text/plain": [
       "true"
      ]
     },
     "execution_count": 83,
     "metadata": {},
     "output_type": "execute_result"
    }
   ],
   "source": [
    "A1 ⊉ B2"
   ]
  },
  {
   "cell_type": "code",
   "execution_count": 84,
   "id": "03b6db8a",
   "metadata": {
    "ExecuteTime": {
     "end_time": "2023-01-26T22:13:19.520000+09:00",
     "start_time": "2023-01-26T13:13:13.844Z"
    }
   },
   "outputs": [
    {
     "data": {
      "text/plain": [
       "true"
      ]
     },
     "execution_count": 84,
     "metadata": {},
     "output_type": "execute_result"
    }
   ],
   "source": [
    "A1 ⊊ B1"
   ]
  },
  {
   "cell_type": "code",
   "execution_count": 85,
   "id": "94305658",
   "metadata": {
    "ExecuteTime": {
     "end_time": "2023-01-26T22:13:19.524000+09:00",
     "start_time": "2023-01-26T13:13:13.846Z"
    }
   },
   "outputs": [
    {
     "data": {
      "text/plain": [
       "true"
      ]
     },
     "execution_count": 85,
     "metadata": {},
     "output_type": "execute_result"
    }
   ],
   "source": [
    "B1 ⊋ A1"
   ]
  },
  {
   "cell_type": "markdown",
   "id": "c04d559a",
   "metadata": {},
   "source": [
    "#### 比較演算子の連鎖"
   ]
  },
  {
   "cell_type": "markdown",
   "id": "a677e2a2",
   "metadata": {},
   "source": [
    "##### コード2-37. 比較演算子の連鎖の例"
   ]
  },
  {
   "cell_type": "code",
   "execution_count": 86,
   "id": "c27595b8",
   "metadata": {
    "ExecuteTime": {
     "end_time": "2023-01-26T22:13:19.524000+09:00",
     "start_time": "2023-01-26T13:13:13.849Z"
    }
   },
   "outputs": [],
   "source": [
    "x = 1;"
   ]
  },
  {
   "cell_type": "code",
   "execution_count": 87,
   "id": "c060878c",
   "metadata": {
    "ExecuteTime": {
     "end_time": "2023-01-26T22:13:19.525000+09:00",
     "start_time": "2023-01-26T13:13:13.850Z"
    }
   },
   "outputs": [
    {
     "data": {
      "text/plain": [
       "true"
      ]
     },
     "execution_count": 87,
     "metadata": {},
     "output_type": "execute_result"
    }
   ],
   "source": [
    "0 ≤ x < 10"
   ]
  },
  {
   "cell_type": "code",
   "execution_count": 88,
   "id": "e2e7cce3",
   "metadata": {
    "ExecuteTime": {
     "end_time": "2023-01-26T22:13:19.549000+09:00",
     "start_time": "2023-01-26T13:13:13.852Z"
    }
   },
   "outputs": [
    {
     "data": {
      "text/plain": [
       "true"
      ]
     },
     "execution_count": 88,
     "metadata": {},
     "output_type": "execute_result"
    }
   ],
   "source": [
    "0 ≤ x < 2x ∈ 1:3 ⊊ 1:5 ⊇ 1:2:5 ∌ 2 == 2x"
   ]
  },
  {
   "cell_type": "markdown",
   "id": "76a3609c",
   "metadata": {},
   "source": [
    "### 2-3-7. その他の演算子"
   ]
  },
  {
   "cell_type": "markdown",
   "id": "db04b5b8",
   "metadata": {},
   "source": [
    "### 2-3-8. 演算子の優先順位"
   ]
  },
  {
   "cell_type": "markdown",
   "id": "d7718aec",
   "metadata": {},
   "source": [
    "#### コラム. 演算子に使用できる Unicode 文字"
   ]
  }
 ],
 "metadata": {
  "jupytext": {
   "formats": "ipynb,auto:light"
  },
  "kernelspec": {
   "display_name": "Julia 1.8.5",
   "language": "julia",
   "name": "julia-1.8"
  },
  "language_info": {
   "file_extension": ".jl",
   "mimetype": "application/julia",
   "name": "julia",
   "version": "1.8.5"
  }
 },
 "nbformat": 4,
 "nbformat_minor": 5
}
