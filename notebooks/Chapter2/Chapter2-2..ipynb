{
 "cells": [
  {
   "cell_type": "code",
   "execution_count": 1,
   "id": "06db56e3",
   "metadata": {
    "ExecuteTime": {
     "end_time": "2023-01-26T22:10:48.273000+09:00",
     "start_time": "2023-01-26T13:10:46.954Z"
    }
   },
   "outputs": [
    {
     "name": "stdout",
     "output_type": "stream",
     "text": [
      "Julia Version 1.8.5\n",
      "Commit 17cfb8e65ea (2023-01-08 06:45 UTC)\n",
      "Platform Info:\n",
      "  OS: Linux (x86_64-linux-gnu)\n",
      "  CPU: 12 × Intel(R) Core(TM) i7-9750H CPU @ 2.60GHz\n",
      "  WORD_SIZE: 64\n",
      "  LIBM: libopenlibm\n",
      "  LLVM: libLLVM-13.0.1 (ORCJIT, skylake)\n",
      "  Threads: 1 on 12 virtual cores\n"
     ]
    }
   ],
   "source": [
    "versioninfo()"
   ]
  },
  {
   "cell_type": "markdown",
   "id": "8fcce92c",
   "metadata": {},
   "source": [
    "## 2-2. 変数/定数"
   ]
  },
  {
   "cell_type": "markdown",
   "id": "f87cf2f3",
   "metadata": {},
   "source": [
    "### コード2-24. 変数・定数の例"
   ]
  },
  {
   "cell_type": "code",
   "execution_count": 2,
   "id": "46e2e857",
   "metadata": {
    "ExecuteTime": {
     "end_time": "2023-01-26T22:10:48.685000+09:00",
     "start_time": "2023-01-26T13:10:46.956Z"
    }
   },
   "outputs": [
    {
     "data": {
      "text/plain": [
       "1.0"
      ]
     },
     "execution_count": 2,
     "metadata": {},
     "output_type": "execute_result"
    }
   ],
   "source": [
    "x = 1.0"
   ]
  },
  {
   "cell_type": "code",
   "execution_count": 3,
   "id": "3df1cf7d",
   "metadata": {
    "ExecuteTime": {
     "end_time": "2023-01-26T22:10:48.886000+09:00",
     "start_time": "2023-01-26T13:10:46.957Z"
    }
   },
   "outputs": [
    {
     "data": {
      "text/plain": [
       "1"
      ]
     },
     "execution_count": 3,
     "metadata": {},
     "output_type": "execute_result"
    }
   ],
   "source": [
    "x = 1"
   ]
  },
  {
   "cell_type": "code",
   "execution_count": 4,
   "id": "2d992030",
   "metadata": {
    "ExecuteTime": {
     "end_time": "2023-01-26T22:10:48.886000+09:00",
     "start_time": "2023-01-26T13:10:46.958Z"
    }
   },
   "outputs": [
    {
     "data": {
      "text/plain": [
       "1.0"
      ]
     },
     "execution_count": 4,
     "metadata": {},
     "output_type": "execute_result"
    }
   ],
   "source": [
    "const xx = 1.0"
   ]
  },
  {
   "cell_type": "code",
   "execution_count": 5,
   "id": "85aba6af",
   "metadata": {
    "ExecuteTime": {
     "end_time": "2023-01-26T22:10:49.524000+09:00",
     "start_time": "2023-01-26T13:10:46.959Z"
    }
   },
   "outputs": [
    {
     "ename": "LoadError",
     "evalue": "invalid redefinition of constant xx",
     "output_type": "error",
     "traceback": [
      "invalid redefinition of constant xx",
      "",
      "Stacktrace:",
      " [1] top-level scope",
      "   @ In[5]:1"
     ]
    }
   ],
   "source": [
    "xx = 1"
   ]
  },
  {
   "cell_type": "markdown",
   "id": "593bd871",
   "metadata": {},
   "source": [
    "### 仮想コード2-1. 変数（識別子）として有効な Unicode 文字の例（「仮想コード1-5.」再掲）"
   ]
  },
  {
   "cell_type": "markdown",
   "id": "87f32cee",
   "metadata": {},
   "source": [
    "```julia\n",
    "θ\n",
    "Fₙ\n",
    "σ²\n",
    "μ\n",
    "x̄\n",
    "```"
   ]
  },
  {
   "cell_type": "markdown",
   "id": "2a005fa5",
   "metadata": {},
   "source": [
    "+ `\\theta` + <kbd>TAB</kbd> （⇒ `θ`）\n",
    "+ `F\\_n` + <kbd>TAB</kbd> （⇒ `Fₙ`）\n",
    "+ `\\sigma` + <kbd>TAB</kbd> + `\\^2` + <kbd>TAB</kbd> （⇒ `σ²`）\n",
    "+ `\\mu` + <kbd>TAB</kbd> （⇒ `μ`）\n",
    "+ `x\\bar` + <kbd>TAB</kbd> （⇒ `x̄`）"
   ]
  },
  {
   "cell_type": "markdown",
   "id": "397c7a5d",
   "metadata": {},
   "source": [
    "### 表2-3. 代表的な定義済定数"
   ]
  },
  {
   "cell_type": "markdown",
   "id": "8ccda0ac",
   "metadata": {},
   "source": [
    "| 定数名 | 値 | 説明 |\n",
    "| :-- | :-- | :-- |\n",
    "| `Inf`, `Inf16`, `Inf32`, `Inf64` | （正の無限大） | 浮動小数点数の無限大 |\n",
    "| `NaN`, `NaN16`, `NaN32`, `NaN64` | （NaN） | 浮動小数点数の NaN |\n",
    "| `π`, `pi` | （3.1415926535897...） | 円周率 |\n",
    "| `ℯ` | （2.7182818284590...） | 自然対数の底（ネイピア数） |\n",
    "| `im` | （虚数単位） | 虚数単位 |\n",
    "| `nothing` | `Nothing()` | Nothing |\n",
    "| `missing` | `Missing()` | 欠損値 |"
   ]
  },
  {
   "cell_type": "code",
   "execution_count": 6,
   "id": "728062c5",
   "metadata": {
    "ExecuteTime": {
     "end_time": "2023-01-26T22:10:49.794000+09:00",
     "start_time": "2023-01-26T13:10:46.960Z"
    }
   },
   "outputs": [
    {
     "data": {
      "text/plain": [
       "(Inf, Inf16, Inf32, Inf)"
      ]
     },
     "execution_count": 6,
     "metadata": {},
     "output_type": "execute_result"
    }
   ],
   "source": [
    "Inf, Inf16, Inf32, Inf64"
   ]
  },
  {
   "cell_type": "code",
   "execution_count": 7,
   "id": "fa225b4b",
   "metadata": {
    "ExecuteTime": {
     "end_time": "2023-01-26T22:10:49.795000+09:00",
     "start_time": "2023-01-26T13:10:46.961Z"
    }
   },
   "outputs": [
    {
     "data": {
      "text/plain": [
       "(NaN, NaN16, NaN32, NaN)"
      ]
     },
     "execution_count": 7,
     "metadata": {},
     "output_type": "execute_result"
    }
   ],
   "source": [
    "NaN, NaN16, NaN32, NaN64"
   ]
  },
  {
   "cell_type": "code",
   "execution_count": 8,
   "id": "52bab753",
   "metadata": {
    "ExecuteTime": {
     "end_time": "2023-01-26T22:10:49.996000+09:00",
     "start_time": "2023-01-26T13:10:46.962Z"
    }
   },
   "outputs": [
    {
     "data": {
      "text/plain": [
       "π = 3.1415926535897..."
      ]
     },
     "execution_count": 8,
     "metadata": {},
     "output_type": "execute_result"
    }
   ],
   "source": [
    "π  # === pi"
   ]
  },
  {
   "cell_type": "code",
   "execution_count": 9,
   "id": "7be19a80",
   "metadata": {
    "ExecuteTime": {
     "end_time": "2023-01-26T22:10:50.183000+09:00",
     "start_time": "2023-01-26T13:10:46.964Z"
    }
   },
   "outputs": [
    {
     "data": {
      "text/plain": [
       "ℯ = 2.7182818284590..."
      ]
     },
     "execution_count": 9,
     "metadata": {},
     "output_type": "execute_result"
    }
   ],
   "source": [
    "ℯ"
   ]
  },
  {
   "cell_type": "code",
   "execution_count": 10,
   "id": "e593ba8f",
   "metadata": {
    "ExecuteTime": {
     "end_time": "2023-01-26T22:10:50.354000+09:00",
     "start_time": "2023-01-26T13:10:46.965Z"
    }
   },
   "outputs": [
    {
     "data": {
      "text/plain": [
       "im"
      ]
     },
     "execution_count": 10,
     "metadata": {},
     "output_type": "execute_result"
    }
   ],
   "source": [
    "im"
   ]
  },
  {
   "cell_type": "code",
   "execution_count": 11,
   "id": "9616553c",
   "metadata": {
    "ExecuteTime": {
     "end_time": "2023-01-26T22:10:50.354000+09:00",
     "start_time": "2023-01-26T13:10:46.966Z"
    }
   },
   "outputs": [],
   "source": [
    "nothing"
   ]
  },
  {
   "cell_type": "code",
   "execution_count": 12,
   "id": "78a881ca",
   "metadata": {
    "ExecuteTime": {
     "end_time": "2023-01-26T22:10:50.500000+09:00",
     "start_time": "2023-01-26T13:10:46.968Z"
    }
   },
   "outputs": [
    {
     "data": {
      "text/plain": [
       "missing"
      ]
     },
     "execution_count": 12,
     "metadata": {},
     "output_type": "execute_result"
    }
   ],
   "source": [
    "missing"
   ]
  }
 ],
 "metadata": {
  "jupytext": {
   "formats": "ipynb,auto:light"
  },
  "kernelspec": {
   "display_name": "Julia 1.8.5",
   "language": "julia",
   "name": "julia-1.8"
  },
  "language_info": {
   "file_extension": ".jl",
   "mimetype": "application/julia",
   "name": "julia",
   "version": "1.8.5"
  }
 },
 "nbformat": 4,
 "nbformat_minor": 5
}
