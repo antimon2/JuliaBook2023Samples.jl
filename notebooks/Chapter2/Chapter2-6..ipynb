{
 "cells": [
  {
   "cell_type": "code",
   "execution_count": 1,
   "id": "377f51b3",
   "metadata": {},
   "outputs": [
    {
     "name": "stdout",
     "output_type": "stream",
     "text": [
      "Julia Version 1.7.2\n",
      "Commit bf53498635 (2022-02-06 15:21 UTC)\n",
      "Platform Info:\n",
      "  OS: macOS (arm64-apple-darwin21.2.0)\n",
      "  CPU: Apple M1\n",
      "  WORD_SIZE: 64\n",
      "  LIBM: libopenlibm\n",
      "  LLVM: libLLVM-12.0.1 (ORCJIT, cyclone)\n"
     ]
    }
   ],
   "source": [
    "versioninfo()"
   ]
  },
  {
   "cell_type": "markdown",
   "id": "e875d48f",
   "metadata": {},
   "source": [
    "## 2-6. その他の構文"
   ]
  },
  {
   "cell_type": "markdown",
   "id": "cc2e1ef9",
   "metadata": {},
   "source": [
    "### 2-6-1. 内包表記"
   ]
  },
  {
   "cell_type": "markdown",
   "id": "7ad0f1e9",
   "metadata": {},
   "source": [
    "#### コード2-78. 内包表記の例(1)：ベクトルの生成(1)"
   ]
  },
  {
   "cell_type": "code",
   "execution_count": 2,
   "id": "eb10c81d",
   "metadata": {},
   "outputs": [
    {
     "data": {
      "text/plain": [
       "11-element Vector{Int64}:\n",
       "   0\n",
       "   1\n",
       "   4\n",
       "   9\n",
       "  16\n",
       "  25\n",
       "  36\n",
       "  49\n",
       "  64\n",
       "  81\n",
       " 100"
      ]
     },
     "execution_count": 2,
     "metadata": {},
     "output_type": "execute_result"
    }
   ],
   "source": [
    "[n^2 for n = 0:10]"
   ]
  },
  {
   "cell_type": "code",
   "execution_count": 3,
   "id": "7f82bb1f",
   "metadata": {},
   "outputs": [
    {
     "data": {
      "text/plain": [
       "7-element Vector{Int64}:\n",
       " 0\n",
       " 1\n",
       " 3\n",
       " 4\n",
       " 6\n",
       " 7\n",
       " 9"
      ]
     },
     "execution_count": 3,
     "metadata": {},
     "output_type": "execute_result"
    }
   ],
   "source": [
    "[n-1 for n = 0:10 if n % 3 != 0]"
   ]
  },
  {
   "cell_type": "markdown",
   "id": "202843ff",
   "metadata": {},
   "source": [
    "#### コード2-79. 内包表記の例(2)：ベクトルの生成(2)"
   ]
  },
  {
   "cell_type": "code",
   "execution_count": 4,
   "id": "75b661a5",
   "metadata": {},
   "outputs": [
    {
     "data": {
      "text/plain": [
       "11-element Vector{Float32}:\n",
       " 0.0\n",
       " 1.0\n",
       " 1.4142135\n",
       " 1.7320508\n",
       " 2.0\n",
       " 2.236068\n",
       " 2.4494898\n",
       " 2.6457512\n",
       " 2.828427\n",
       " 3.0\n",
       " 3.1622777"
      ]
     },
     "execution_count": 4,
     "metadata": {},
     "output_type": "execute_result"
    }
   ],
   "source": [
    "Float32[√x for x=0:10]"
   ]
  },
  {
   "cell_type": "markdown",
   "id": "af9508e3",
   "metadata": {},
   "source": [
    "#### コード2-80. 内包表記の例(3)：行列・多次元配列の生成"
   ]
  },
  {
   "cell_type": "code",
   "execution_count": 5,
   "id": "f35d1f48",
   "metadata": {},
   "outputs": [
    {
     "data": {
      "text/plain": [
       "3×3 Matrix{Int64}:\n",
       " 11  12  13\n",
       " 21  22  23\n",
       " 31  32  33"
      ]
     },
     "execution_count": 5,
     "metadata": {},
     "output_type": "execute_result"
    }
   ],
   "source": [
    "[10x + y for x=1:3, y=1:3]"
   ]
  },
  {
   "cell_type": "code",
   "execution_count": 6,
   "id": "98f05a7f",
   "metadata": {},
   "outputs": [
    {
     "data": {
      "text/plain": [
       "4×5×3 Array{Int64, 3}:\n",
       "[:, :, 1] =\n",
       " 111  121  131  141  151\n",
       " 211  221  231  241  251\n",
       " 311  321  331  341  351\n",
       " 411  421  431  441  451\n",
       "\n",
       "[:, :, 2] =\n",
       " 112  122  132  142  152\n",
       " 212  222  232  242  252\n",
       " 312  322  332  342  352\n",
       " 412  422  432  442  452\n",
       "\n",
       "[:, :, 3] =\n",
       " 113  123  133  143  153\n",
       " 213  223  233  243  253\n",
       " 313  323  333  343  353\n",
       " 413  423  433  443  453"
      ]
     },
     "execution_count": 6,
     "metadata": {},
     "output_type": "execute_result"
    }
   ],
   "source": [
    "[100x + 10y + z for x=1:4, y=1:5, z=1:3]"
   ]
  },
  {
   "cell_type": "markdown",
   "id": "e841e28b",
   "metadata": {},
   "source": [
    "#### コード2-81. 内包表記の例(4)：条件節の指定"
   ]
  },
  {
   "cell_type": "code",
   "execution_count": 7,
   "id": "c347e661",
   "metadata": {
    "scrolled": true
   },
   "outputs": [
    {
     "data": {
      "text/plain": [
       "30-element Vector{Int64}:\n",
       " 111\n",
       " 311\n",
       " 121\n",
       " 321\n",
       " 131\n",
       " 331\n",
       " 141\n",
       " 341\n",
       " 151\n",
       " 351\n",
       " 112\n",
       " 312\n",
       " 122\n",
       "   ⋮\n",
       " 152\n",
       " 352\n",
       " 113\n",
       " 313\n",
       " 123\n",
       " 323\n",
       " 133\n",
       " 333\n",
       " 143\n",
       " 343\n",
       " 153\n",
       " 353"
      ]
     },
     "execution_count": 7,
     "metadata": {},
     "output_type": "execute_result"
    }
   ],
   "source": [
    "[100x + 10y + z for x=1:4, y=1:5, z=1:3 if isodd(x)]"
   ]
  },
  {
   "cell_type": "markdown",
   "id": "0b939369",
   "metadata": {},
   "source": [
    "#### コード2-82. 内包表記の例(5)：ベクトルの生成(3)"
   ]
  },
  {
   "cell_type": "code",
   "execution_count": 8,
   "id": "0d6acb18",
   "metadata": {
    "scrolled": true
   },
   "outputs": [
    {
     "data": {
      "text/plain": [
       "60-element Vector{Int64}:\n",
       " 111\n",
       " 211\n",
       " 311\n",
       " 411\n",
       " 121\n",
       " 221\n",
       " 321\n",
       " 421\n",
       " 131\n",
       " 231\n",
       " 331\n",
       " 431\n",
       " 141\n",
       "   ⋮\n",
       " 133\n",
       " 233\n",
       " 333\n",
       " 433\n",
       " 143\n",
       " 243\n",
       " 343\n",
       " 443\n",
       " 153\n",
       " 253\n",
       " 353\n",
       " 453"
      ]
     },
     "execution_count": 8,
     "metadata": {},
     "output_type": "execute_result"
    }
   ],
   "source": [
    "[100x + 10y + z for z=1:3 for y=1:5 for x=1:4]"
   ]
  },
  {
   "cell_type": "markdown",
   "id": "652cda1e",
   "metadata": {},
   "source": [
    "#### コード2-83. 内包表記の例(6)：ジェネレータ式"
   ]
  },
  {
   "cell_type": "code",
   "execution_count": 9,
   "id": "ed550dbc",
   "metadata": {},
   "outputs": [
    {
     "data": {
      "text/plain": [
       "Base.Generator{UnitRange{Int64}, var\"#21#22\"}(var\"#21#22\"(), 0:10)"
      ]
     },
     "execution_count": 9,
     "metadata": {},
     "output_type": "execute_result"
    }
   ],
   "source": [
    "(n^2 for n = 0:10)"
   ]
  },
  {
   "cell_type": "markdown",
   "id": "a79ec700",
   "metadata": {},
   "source": [
    "### 2-6-2. ドット構文"
   ]
  },
  {
   "cell_type": "markdown",
   "id": "07485782",
   "metadata": {},
   "source": [
    "#### コード2-84. ドット構文の例(1)：関数への適用"
   ]
  },
  {
   "cell_type": "code",
   "execution_count": 10,
   "id": "3b6303a9",
   "metadata": {},
   "outputs": [
    {
     "data": {
      "text/plain": [
       "0.8414709848078965"
      ]
     },
     "execution_count": 10,
     "metadata": {},
     "output_type": "execute_result"
    }
   ],
   "source": [
    "sin(1.0)"
   ]
  },
  {
   "cell_type": "code",
   "execution_count": 11,
   "id": "ad0807c9",
   "metadata": {},
   "outputs": [
    {
     "data": {
      "text/plain": [
       "3-element Vector{Float64}:\n",
       " 0.8414709848078965\n",
       " 0.9092974268256817\n",
       " 0.1411200080598672"
      ]
     },
     "execution_count": 11,
     "metadata": {},
     "output_type": "execute_result"
    }
   ],
   "source": [
    "sin.([1.0, 2.0, 3.0])"
   ]
  },
  {
   "cell_type": "code",
   "execution_count": 12,
   "id": "bee404e4",
   "metadata": {},
   "outputs": [
    {
     "data": {
      "text/plain": [
       "f (generic function with 1 method)"
      ]
     },
     "execution_count": 12,
     "metadata": {},
     "output_type": "execute_result"
    }
   ],
   "source": [
    "f(x) = x^2 - 2x + 1"
   ]
  },
  {
   "cell_type": "code",
   "execution_count": 13,
   "id": "1a33192b",
   "metadata": {},
   "outputs": [
    {
     "data": {
      "text/plain": [
       "5-element Vector{Float64}:\n",
       " 9.0\n",
       " 4.0\n",
       " 1.0\n",
       " 0.0\n",
       " 1.0"
      ]
     },
     "execution_count": 13,
     "metadata": {},
     "output_type": "execute_result"
    }
   ],
   "source": [
    "f.([-2.0, -1.0, 0.0, 1.0, 2.0])"
   ]
  },
  {
   "cell_type": "markdown",
   "id": "d812696b",
   "metadata": {},
   "source": [
    "#### コード2-85. ドット構文の例(2)：演算子への適用"
   ]
  },
  {
   "cell_type": "code",
   "execution_count": 14,
   "id": "0dcaddfc",
   "metadata": {},
   "outputs": [],
   "source": [
    "x = [1.0, 2.0, 3.0];"
   ]
  },
  {
   "cell_type": "code",
   "execution_count": 15,
   "id": "22bb7480",
   "metadata": {},
   "outputs": [],
   "source": [
    "y = [2.0, 3.0, 1.0];"
   ]
  },
  {
   "cell_type": "code",
   "execution_count": 16,
   "id": "a8850319",
   "metadata": {},
   "outputs": [
    {
     "data": {
      "text/plain": [
       "3-element Vector{Float64}:\n",
       " 3.0\n",
       " 5.0\n",
       " 4.0"
      ]
     },
     "execution_count": 16,
     "metadata": {},
     "output_type": "execute_result"
    }
   ],
   "source": [
    "x + y"
   ]
  },
  {
   "cell_type": "code",
   "execution_count": 17,
   "id": "b8bc469e",
   "metadata": {},
   "outputs": [
    {
     "data": {
      "text/plain": [
       "3-element Vector{Float64}:\n",
       " 3.0\n",
       " 5.0\n",
       " 4.0"
      ]
     },
     "execution_count": 17,
     "metadata": {},
     "output_type": "execute_result"
    }
   ],
   "source": [
    "x .+ y"
   ]
  },
  {
   "cell_type": "code",
   "execution_count": 18,
   "id": "c6c027ac",
   "metadata": {},
   "outputs": [
    {
     "ename": "LoadError",
     "evalue": "MethodError: no method matching *(::Vector{Float64}, ::Vector{Float64})\n\u001b[0mClosest candidates are:\n\u001b[0m  *(::Any, ::Any, \u001b[91m::Any\u001b[39m, \u001b[91m::Any...\u001b[39m) at ~/.julia/juliaup/julia-1.7.2+0~aarch64/share/julia/base/operators.jl:655\n\u001b[0m  *(\u001b[91m::StridedMatrix{T}\u001b[39m, ::StridedVector{S}) where {T<:Union{Float32, Float64, ComplexF32, ComplexF64}, S<:Real} at ~/.julia/juliaup/julia-1.7.2+0~aarch64/share/julia/stdlib/v1.7/LinearAlgebra/src/matmul.jl:44\n\u001b[0m  *(::StridedVecOrMat, \u001b[91m::LinearAlgebra.Adjoint{<:Any, <:LinearAlgebra.LQPackedQ}\u001b[39m) at ~/.julia/juliaup/julia-1.7.2+0~aarch64/share/julia/stdlib/v1.7/LinearAlgebra/src/lq.jl:266\n\u001b[0m  ...",
     "output_type": "error",
     "traceback": [
      "MethodError: no method matching *(::Vector{Float64}, ::Vector{Float64})\n\u001b[0mClosest candidates are:\n\u001b[0m  *(::Any, ::Any, \u001b[91m::Any\u001b[39m, \u001b[91m::Any...\u001b[39m) at ~/.julia/juliaup/julia-1.7.2+0~aarch64/share/julia/base/operators.jl:655\n\u001b[0m  *(\u001b[91m::StridedMatrix{T}\u001b[39m, ::StridedVector{S}) where {T<:Union{Float32, Float64, ComplexF32, ComplexF64}, S<:Real} at ~/.julia/juliaup/julia-1.7.2+0~aarch64/share/julia/stdlib/v1.7/LinearAlgebra/src/matmul.jl:44\n\u001b[0m  *(::StridedVecOrMat, \u001b[91m::LinearAlgebra.Adjoint{<:Any, <:LinearAlgebra.LQPackedQ}\u001b[39m) at ~/.julia/juliaup/julia-1.7.2+0~aarch64/share/julia/stdlib/v1.7/LinearAlgebra/src/lq.jl:266\n\u001b[0m  ...",
      "",
      "Stacktrace:",
      " [1] top-level scope",
      "   @ In[18]:1",
      " [2] eval",
      "   @ ./boot.jl:373 [inlined]",
      " [3] include_string(mapexpr::typeof(REPL.softscope), mod::Module, code::String, filename::String)",
      "   @ Base ./loading.jl:1196"
     ]
    }
   ],
   "source": [
    "x * y"
   ]
  },
  {
   "cell_type": "code",
   "execution_count": 19,
   "id": "38ac8f59",
   "metadata": {},
   "outputs": [
    {
     "data": {
      "text/plain": [
       "3-element Vector{Float64}:\n",
       " 2.0\n",
       " 6.0\n",
       " 3.0"
      ]
     },
     "execution_count": 19,
     "metadata": {},
     "output_type": "execute_result"
    }
   ],
   "source": [
    "x .* y"
   ]
  },
  {
   "cell_type": "markdown",
   "id": "540da759",
   "metadata": {},
   "source": [
    "### 2-6-3. Doブロック構文"
   ]
  },
  {
   "cell_type": "markdown",
   "id": "1b12bf92",
   "metadata": {},
   "source": [
    "#### コード2-86. Doブロック構文の例(1)：無名関数との比較"
   ]
  },
  {
   "cell_type": "code",
   "execution_count": 20,
   "id": "848b54be",
   "metadata": {},
   "outputs": [
    {
     "data": {
      "text/plain": [
       "10-element Vector{Int64}:\n",
       "   2\n",
       "   7\n",
       "  14\n",
       "  23\n",
       "  34\n",
       "  47\n",
       "  62\n",
       "  79\n",
       "  98\n",
       " 119"
      ]
     },
     "execution_count": 20,
     "metadata": {},
     "output_type": "execute_result"
    }
   ],
   "source": [
    "map(x -> x^2 + 2x - 1, 1:10)"
   ]
  },
  {
   "cell_type": "code",
   "execution_count": 21,
   "id": "98c8c53f",
   "metadata": {},
   "outputs": [
    {
     "data": {
      "text/plain": [
       "10-element Vector{Int64}:\n",
       "   2\n",
       "   7\n",
       "  14\n",
       "  23\n",
       "  34\n",
       "  47\n",
       "  62\n",
       "  79\n",
       "  98\n",
       " 119"
      ]
     },
     "execution_count": 21,
     "metadata": {},
     "output_type": "execute_result"
    }
   ],
   "source": [
    "map(1:10) do x\n",
    "    x^2 + 2x - 1\n",
    "end"
   ]
  },
  {
   "cell_type": "markdown",
   "id": "f98e6b33",
   "metadata": {},
   "source": [
    "#### 仮想コード2-3. テキストファイル sample.txt の内容確認"
   ]
  },
  {
   "cell_type": "code",
   "execution_count": 22,
   "id": "e85a9d16",
   "metadata": {},
   "outputs": [
    {
     "name": "stdout",
     "output_type": "stream",
     "text": [
      "それはCのように高速だけど、Ruby のようなダイナミズムを併せ持っていてほしい。\n",
      "同図像性のある言語で、Lisp のような真のマクロを持ちながら、\n",
      "MATLAB のような直感的な数式表現もできるものが欲しい。\n",
      "Python のように総合的なプログラミングができて、R のように統計処理も得意で、\n",
      "Perl のように文字列処理もできて、MATLAB のように線形代数もできて、\n",
      "shell のように複数のプログラムを組み合わせることもできるものが欲しい。\n",
      "超初心者にも習得は容易でありながら、ハッカーの満足にも応えられるものであってほしい。\n",
      "インタラクティブな動作環境もあって、コンパイルもできるものであってほしい。\n",
      "（Cと同じくらい高速に、はもう言ったっけ？）"
     ]
    }
   ],
   "source": [
    ";cat sample.txt"
   ]
  },
  {
   "cell_type": "markdown",
   "id": "e73316ad",
   "metadata": {},
   "source": [
    "#### コード2-87. Doブロック構文の例(2)：`open()` との組合せ"
   ]
  },
  {
   "cell_type": "code",
   "execution_count": 23,
   "id": "3dd3d862",
   "metadata": {},
   "outputs": [
    {
     "name": "stdout",
     "output_type": "stream",
     "text": [
      "それはCのように高速だけど、Ruby のようなダイナミズムを併せ持っていてほしい。\n",
      "同図像性のある言語で、Lisp のような真のマクロを持ちながら、\n",
      "MATLAB のような直感的な数式表現もできるものが欲しい。\n",
      "Python のように総合的なプログラミングができて、R のように統計処理も得意で、\n",
      "Perl のように文字列処理もできて、MATLAB のように線形代数もできて、\n",
      "shell のように複数のプログラムを組み合わせることもできるものが欲しい。\n",
      "超初心者にも習得は容易でありながら、ハッカーの満足にも応えられるものであってほしい。\n",
      "インタラクティブな動作環境もあって、コンパイルもできるものであってほしい。\n",
      "（Cと同じくらい高速に、はもう言ったっけ？）\n"
     ]
    }
   ],
   "source": [
    "open(\"sample.txt\") do f\n",
    "    for line in eachline(f)\n",
    "        println(line)\n",
    "    end\n",
    "end"
   ]
  },
  {
   "cell_type": "markdown",
   "id": "15a30d27",
   "metadata": {},
   "source": [
    "#### 仮想コード2-4. Doブロック構文と等価なコード（`open()` の例）"
   ]
  },
  {
   "cell_type": "markdown",
   "id": "b150ae90",
   "metadata": {},
   "source": [
    "```julia\n",
    "f = open(\"sample.txt\");\n",
    "try\n",
    "    for line in eachline(f)\n",
    "        println(line)\n",
    "    end\n",
    "finally\n",
    "    close(f)\n",
    "end\n",
    "```"
   ]
  },
  {
   "cell_type": "markdown",
   "id": "5d32f91c",
   "metadata": {},
   "source": [
    "### 2-6-4. `begin` ブロックと `let` ブロック"
   ]
  },
  {
   "cell_type": "markdown",
   "id": "0beb9cb7",
   "metadata": {},
   "source": [
    "#### コード2-88. `begin` ブロックの例"
   ]
  },
  {
   "cell_type": "code",
   "execution_count": 24,
   "id": "54a51afc",
   "metadata": {},
   "outputs": [],
   "source": [
    "a = b = 0.0;"
   ]
  },
  {
   "cell_type": "code",
   "execution_count": 25,
   "id": "d8eb168d",
   "metadata": {},
   "outputs": [
    {
     "data": {
      "text/plain": [
       "1.0"
      ]
     },
     "execution_count": 25,
     "metadata": {},
     "output_type": "execute_result"
    }
   ],
   "source": [
    "begin\n",
    "    x = rand() * 10\n",
    "    a = cos(x)\n",
    "    b = sin(x)\n",
    "    a * a + b * b\n",
    "end"
   ]
  },
  {
   "cell_type": "code",
   "execution_count": 26,
   "id": "90e2dc3d",
   "metadata": {},
   "outputs": [
    {
     "data": {
      "text/plain": [
       "0.27803878427798856"
      ]
     },
     "execution_count": 26,
     "metadata": {},
     "output_type": "execute_result"
    }
   ],
   "source": [
    "x"
   ]
  },
  {
   "cell_type": "code",
   "execution_count": 27,
   "id": "928344c1",
   "metadata": {},
   "outputs": [
    {
     "data": {
      "text/plain": [
       "0.9615955827207298"
      ]
     },
     "execution_count": 27,
     "metadata": {},
     "output_type": "execute_result"
    }
   ],
   "source": [
    "a"
   ]
  },
  {
   "cell_type": "code",
   "execution_count": 28,
   "id": "67880329",
   "metadata": {},
   "outputs": [
    {
     "data": {
      "text/plain": [
       "0.27447028125460166"
      ]
     },
     "execution_count": 28,
     "metadata": {},
     "output_type": "execute_result"
    }
   ],
   "source": [
    "b"
   ]
  },
  {
   "cell_type": "markdown",
   "id": "cfabdc4d",
   "metadata": {},
   "source": [
    "#### コード2-89. `let` ブロックの例(1)"
   ]
  },
  {
   "cell_type": "code",
   "execution_count": 29,
   "id": "cf3199e2",
   "metadata": {},
   "outputs": [
    {
     "data": {
      "text/plain": [
       "0.0"
      ]
     },
     "execution_count": 29,
     "metadata": {},
     "output_type": "execute_result"
    }
   ],
   "source": [
    "c = d = 0.0"
   ]
  },
  {
   "cell_type": "code",
   "execution_count": 30,
   "id": "97afe72f",
   "metadata": {},
   "outputs": [
    {
     "data": {
      "text/plain": [
       "1.0"
      ]
     },
     "execution_count": 30,
     "metadata": {},
     "output_type": "execute_result"
    }
   ],
   "source": [
    "let \n",
    "    y = rand() * 10\n",
    "    c = cos(y)\n",
    "    d = sin(y)\n",
    "    c * c + d * d\n",
    "end"
   ]
  },
  {
   "cell_type": "code",
   "execution_count": 31,
   "id": "9ba37309",
   "metadata": {},
   "outputs": [
    {
     "data": {
      "text/plain": [
       "0.0"
      ]
     },
     "execution_count": 31,
     "metadata": {},
     "output_type": "execute_result"
    }
   ],
   "source": [
    "c"
   ]
  },
  {
   "cell_type": "code",
   "execution_count": 32,
   "id": "25be8cad",
   "metadata": {},
   "outputs": [
    {
     "data": {
      "text/plain": [
       "0.0"
      ]
     },
     "execution_count": 32,
     "metadata": {},
     "output_type": "execute_result"
    }
   ],
   "source": [
    "d"
   ]
  },
  {
   "cell_type": "code",
   "execution_count": 33,
   "id": "3aba7ea8",
   "metadata": {},
   "outputs": [
    {
     "data": {
      "text/plain": [
       "3-element Vector{Float64}:\n",
       " 2.0\n",
       " 3.0\n",
       " 1.0"
      ]
     },
     "execution_count": 33,
     "metadata": {},
     "output_type": "execute_result"
    }
   ],
   "source": [
    "y"
   ]
  },
  {
   "cell_type": "markdown",
   "id": "1be167f4",
   "metadata": {},
   "source": [
    "#### コード2-90. `let` ブロックの例(2)"
   ]
  },
  {
   "cell_type": "code",
   "execution_count": 34,
   "id": "0c9f14fb",
   "metadata": {},
   "outputs": [
    {
     "data": {
      "text/plain": [
       "3.141592653589793"
      ]
     },
     "execution_count": 34,
     "metadata": {},
     "output_type": "execute_result"
    }
   ],
   "source": [
    "x = Float64(π)"
   ]
  },
  {
   "cell_type": "code",
   "execution_count": 35,
   "id": "46b27b8b",
   "metadata": {},
   "outputs": [
    {
     "data": {
      "text/plain": [
       "1.0"
      ]
     },
     "execution_count": 35,
     "metadata": {},
     "output_type": "execute_result"
    }
   ],
   "source": [
    "y = 1.0"
   ]
  },
  {
   "cell_type": "code",
   "execution_count": 36,
   "id": "63667647",
   "metadata": {},
   "outputs": [
    {
     "data": {
      "text/plain": [
       "0.0"
      ]
     },
     "execution_count": 36,
     "metadata": {},
     "output_type": "execute_result"
    }
   ],
   "source": [
    "a = b = 0.0"
   ]
  },
  {
   "cell_type": "code",
   "execution_count": 37,
   "id": "ed4665d8",
   "metadata": {},
   "outputs": [
    {
     "data": {
      "text/plain": [
       "1.0"
      ]
     },
     "execution_count": 37,
     "metadata": {},
     "output_type": "execute_result"
    }
   ],
   "source": [
    "let x = x, y = y\n",
    "    x, y = y, x\n",
    "    a = cos(x)\n",
    "    b = sin(x) * cos(y)\n",
    "    c = sin(x) * sin(y)\n",
    "    a * a + b * b + c * c\n",
    "end"
   ]
  },
  {
   "cell_type": "code",
   "execution_count": 38,
   "id": "b3978a21",
   "metadata": {},
   "outputs": [
    {
     "data": {
      "text/plain": [
       "(3.141592653589793, 1.0, 0.0, 0.0)"
      ]
     },
     "execution_count": 38,
     "metadata": {},
     "output_type": "execute_result"
    }
   ],
   "source": [
    "x, y, a, b"
   ]
  }
 ],
 "metadata": {
  "jupytext": {
   "formats": "ipynb,auto:light"
  },
  "kernelspec": {
   "display_name": "Julia 1.8.5",
   "language": "julia",
   "name": "julia-1.8"
  },
  "language_info": {
   "file_extension": ".jl",
   "mimetype": "application/julia",
   "name": "julia",
   "version": "1.8.5"
  }
 },
 "nbformat": 4,
 "nbformat_minor": 5
}
