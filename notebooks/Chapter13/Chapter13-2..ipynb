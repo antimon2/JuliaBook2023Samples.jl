{
 "cells": [
  {
   "cell_type": "code",
   "execution_count": 1,
   "id": "738e575e",
   "metadata": {
    "ExecuteTime": {
     "end_time": "2023-01-28T21:47:58.582000+09:00",
     "start_time": "2023-01-28T12:47:54.119Z"
    }
   },
   "outputs": [
    {
     "name": "stdout",
     "output_type": "stream",
     "text": [
      "Julia Version 1.8.5\n",
      "Commit 17cfb8e65ea (2023-01-08 06:45 UTC)\n",
      "Platform Info:\n",
      "  OS: Linux (x86_64-linux-gnu)\n",
      "  CPU: 12 × Intel(R) Core(TM) i7-9750H CPU @ 2.60GHz\n",
      "  WORD_SIZE: 64\n",
      "  LIBM: libopenlibm\n",
      "  LLVM: libLLVM-13.0.1 (ORCJIT, skylake)\n",
      "  Threads: 1 on 12 virtual cores\n"
     ]
    }
   ],
   "source": [
    "versioninfo()"
   ]
  },
  {
   "cell_type": "markdown",
   "id": "a862da75",
   "metadata": {},
   "source": [
    "## 13-2. MLJ.jl"
   ]
  },
  {
   "cell_type": "markdown",
   "id": "152c3093",
   "metadata": {},
   "source": [
    "※ 本文とは環境等を少し変えています（コードはほぼ同一です）"
   ]
  },
  {
   "cell_type": "markdown",
   "id": "c82c5666",
   "metadata": {},
   "source": [
    "### コード13-2. `MLJ.jl` 実験用の仮想環境（プロジェクト環境）構築"
   ]
  },
  {
   "cell_type": "markdown",
   "id": "288c075a",
   "metadata": {},
   "source": [
    "```julia\n",
    "julia> mkdir(\"mlj_wk\") |> cd\n",
    "\n",
    "julia> # `]` をタイプしてパッケージモードに移行\n",
    "\n",
    "(@v1.7) pkg> activate .\n",
    "  Activating new project at `/path/to/mlj_wk`\n",
    "\n",
    "(mlj_wk) pkg> add MLJ DataFrames\n",
    "    Updating registry at `~/.julia/registries/General`\n",
    "    Updating git-repo `https://github.com/JuliaRegistries/General`\n",
    "   Resolving package versions...\n",
    "   # ：《以下略》、環境によっては時間がかかる場合があります\n",
    "\n",
    "(mlj_wk) pkg> st\n",
    "      Status `/path/to/mlj_wk/Project.toml`\n",
    "  [a93c6f00] DataFrames v1.3.4\n",
    "  [add582a8] MLJ v0.18.2\n",
    "```"
   ]
  },
  {
   "cell_type": "code",
   "execution_count": 2,
   "id": "950453e1",
   "metadata": {
    "ExecuteTime": {
     "end_time": "2023-01-28T21:48:04.990000+09:00",
     "start_time": "2023-01-28T12:48:05.140Z"
    }
   },
   "outputs": [],
   "source": [
    "# mkdir(\"mlj_wk\") |> cd\n",
    "mkpath(\"mlj_wk\") |> cd"
   ]
  },
  {
   "cell_type": "code",
   "execution_count": 3,
   "id": "0199aa1b",
   "metadata": {
    "ExecuteTime": {
     "end_time": "2023-01-28T21:48:09.173000+09:00",
     "start_time": "2023-01-28T12:48:08.718Z"
    }
   },
   "outputs": [
    {
     "name": "stderr",
     "output_type": "stream",
     "text": [
      "\u001b[32m\u001b[1m  Activating\u001b[22m\u001b[39m new project at `/path/to/JuliaBook2023Samples/notebooks/Chapter13/mlj_wk`\n"
     ]
    }
   ],
   "source": [
    "]activate ."
   ]
  },
  {
   "cell_type": "code",
   "execution_count": 4,
   "id": "0f76bdf9",
   "metadata": {
    "ExecuteTime": {
     "end_time": "2023-01-28T21:50:04.176000+09:00",
     "start_time": "2023-01-28T12:48:16.247Z"
    }
   },
   "outputs": [
    {
     "name": "stderr",
     "output_type": "stream",
     "text": [
      "\u001b[32m\u001b[1m    Updating\u001b[22m\u001b[39m registry at `~/.julia/registries/General`\n",
      "\u001b[32m\u001b[1m    Updating\u001b[22m\u001b[39m git-repo `git@github.com:JuliaRegistries/General.git`\n",
      "\u001b[32m\u001b[1m   Resolving\u001b[22m\u001b[39m package versions...\n",
      "\u001b[32m\u001b[1m   Installed\u001b[22m\u001b[39m MLJEnsembles ───────────── v0.3.2\n",
      "\u001b[32m\u001b[1m   Installed\u001b[22m\u001b[39m MLJTuning ──────────────── v0.7.4\n",
      "\u001b[32m\u001b[1m   Installed\u001b[22m\u001b[39m MLJModelInterface ──────── v1.8.0\n",
      "\u001b[32m\u001b[1m   Installed\u001b[22m\u001b[39m StatisticalTraits ──────── v3.2.0\n",
      "\u001b[32m\u001b[1m   Installed\u001b[22m\u001b[39m RelocatableFolders ─────── v1.0.0\n",
      "\u001b[32m\u001b[1m   Installed\u001b[22m\u001b[39m MLJIteration ───────────── v0.5.1\n",
      "\u001b[32m\u001b[1m   Installed\u001b[22m\u001b[39m Unitful ────────────────── v1.12.2\n",
      "\u001b[32m\u001b[1m   Installed\u001b[22m\u001b[39m CategoricalDistributions ─ v0.1.9\n",
      "\u001b[32m\u001b[1m   Installed\u001b[22m\u001b[39m MarchingCubes ──────────── v0.1.6\n",
      "\u001b[32m\u001b[1m   Installed\u001b[22m\u001b[39m OpenML ─────────────────── v0.3.1\n",
      "\u001b[32m\u001b[1m   Installed\u001b[22m\u001b[39m ScientificTypes ────────── v3.0.2\n",
      "\u001b[32m\u001b[1m   Installed\u001b[22m\u001b[39m Contour ────────────────── v0.6.2\n",
      "\u001b[32m\u001b[1m   Installed\u001b[22m\u001b[39m MLJBase ────────────────── v0.21.5\n",
      "\u001b[32m\u001b[1m   Installed\u001b[22m\u001b[39m PrettyTables ───────────── v2.2.2\n",
      "\u001b[32m\u001b[1m   Installed\u001b[22m\u001b[39m HTTP ───────────────────── v1.7.4\n",
      "\u001b[32m\u001b[1m   Installed\u001b[22m\u001b[39m MLJ ────────────────────── v0.19.1\n",
      "\u001b[32m\u001b[1m   Installed\u001b[22m\u001b[39m LossFunctions ──────────── v0.8.0\n",
      "\u001b[32m\u001b[1m   Installed\u001b[22m\u001b[39m DataFrames ─────────────── v1.4.4\n",
      "\u001b[32m\u001b[1m   Installed\u001b[22m\u001b[39m StringManipulation ─────── v0.3.0\n",
      "\u001b[32m\u001b[1m   Installed\u001b[22m\u001b[39m MLJModels ──────────────── v0.16.2\n",
      "\u001b[32m\u001b[1m   Installed\u001b[22m\u001b[39m UnicodePlots ───────────── v3.3.4\n",
      "\u001b[32m\u001b[1m    Updating\u001b[22m\u001b[39m `/path/to/JuliaBook2023Samples/notebooks/Chapter13/mlj_wk/Project.toml`\n",
      " \u001b[90m [a93c6f00] \u001b[39m\u001b[92m+ DataFrames v1.4.4\u001b[39m\n",
      " \u001b[90m [add582a8] \u001b[39m\u001b[92m+ MLJ v0.19.1\u001b[39m\n",
      "\u001b[32m\u001b[1m    Updating\u001b[22m\u001b[39m `/path/to/JuliaBook2023Samples/notebooks/Chapter13/mlj_wk/Manifest.toml`\n",
      " \u001b[90m [da404889] \u001b[39m\u001b[92m+ ARFFFiles v1.4.1\u001b[39m\n",
      " \u001b[90m [d1d4a3ce] \u001b[39m\u001b[92m+ BitFlags v0.1.7\u001b[39m\n",
      " \u001b[90m [fa961155] \u001b[39m\u001b[92m+ CEnum v0.4.2\u001b[39m\n",
      " \u001b[90m [49dc2e85] \u001b[39m\u001b[92m+ Calculus v0.5.1\u001b[39m\n",
      " \u001b[90m [324d7699] \u001b[39m\u001b[92m+ CategoricalArrays v0.10.7\u001b[39m\n",
      " \u001b[90m [af321ab8] \u001b[39m\u001b[92m+ CategoricalDistributions v0.1.9\u001b[39m\n",
      " \u001b[90m [d360d2e6] \u001b[39m\u001b[92m+ ChainRulesCore v1.15.7\u001b[39m\n",
      " \u001b[90m [9e997f8a] \u001b[39m\u001b[92m+ ChangesOfVariables v0.1.5\u001b[39m\n",
      " \u001b[90m [944b1d66] \u001b[39m\u001b[92m+ CodecZlib v0.7.1\u001b[39m\n",
      " \u001b[90m [35d6a980] \u001b[39m\u001b[92m+ ColorSchemes v3.20.0\u001b[39m\n",
      " \u001b[90m [3da002f7] \u001b[39m\u001b[92m+ ColorTypes v0.11.4\u001b[39m\n",
      " \u001b[90m [c3611d14] \u001b[39m\u001b[92m+ ColorVectorSpace v0.9.10\u001b[39m\n",
      " \u001b[90m [5ae59095] \u001b[39m\u001b[92m+ Colors v0.12.10\u001b[39m\n",
      " \u001b[90m [861a8166] \u001b[39m\u001b[92m+ Combinatorics v1.0.2\u001b[39m\n",
      " \u001b[90m [34da2185] \u001b[39m\u001b[92m+ Compat v4.5.0\u001b[39m\n",
      " \u001b[90m [ed09eef8] \u001b[39m\u001b[92m+ ComputationalResources v0.3.2\u001b[39m\n",
      " \u001b[90m [187b0558] \u001b[39m\u001b[92m+ ConstructionBase v1.4.1\u001b[39m\n",
      " \u001b[90m [d38c429a] \u001b[39m\u001b[92m+ Contour v0.6.2\u001b[39m\n",
      " \u001b[90m [a8cc5b0e] \u001b[39m\u001b[92m+ Crayons v4.1.1\u001b[39m\n",
      " \u001b[90m [9a962f9c] \u001b[39m\u001b[92m+ DataAPI v1.14.0\u001b[39m\n",
      " \u001b[90m [a93c6f00] \u001b[39m\u001b[92m+ DataFrames v1.4.4\u001b[39m\n",
      " \u001b[90m [864edb3b] \u001b[39m\u001b[92m+ DataStructures v0.18.13\u001b[39m\n",
      " \u001b[90m [e2d170a0] \u001b[39m\u001b[92m+ DataValueInterfaces v1.0.0\u001b[39m\n",
      " \u001b[90m [b429d917] \u001b[39m\u001b[92m+ DensityInterface v0.4.0\u001b[39m\n",
      " \u001b[90m [b4f34e82] \u001b[39m\u001b[92m+ Distances v0.10.7\u001b[39m\n",
      " \u001b[90m [31c24e10] \u001b[39m\u001b[92m+ Distributions v0.25.80\u001b[39m\n",
      " \u001b[90m [ffbed154] \u001b[39m\u001b[92m+ DocStringExtensions v0.9.3\u001b[39m\n",
      " \u001b[90m [fa6b7ba4] \u001b[39m\u001b[92m+ DualNumbers v0.6.8\u001b[39m\n",
      " \u001b[90m [792122b4] \u001b[39m\u001b[92m+ EarlyStopping v0.3.0\u001b[39m\n",
      " \u001b[90m [5789e2e9] \u001b[39m\u001b[92m+ FileIO v1.16.0\u001b[39m\n",
      " \u001b[90m [1a297f60] \u001b[39m\u001b[92m+ FillArrays v0.13.7\u001b[39m\n",
      " \u001b[90m [53c48c17] \u001b[39m\u001b[92m+ FixedPointNumbers v0.8.4\u001b[39m\n",
      " \u001b[90m [59287772] \u001b[39m\u001b[92m+ Formatting v0.4.2\u001b[39m\n",
      " \u001b[90m [b38be410] \u001b[39m\u001b[92m+ FreeType v4.0.0\u001b[39m\n",
      " \u001b[90m [cd3eb016] \u001b[39m\u001b[92m+ HTTP v1.7.4\u001b[39m\n",
      " \u001b[90m [34004b35] \u001b[39m\u001b[92m+ HypergeometricFunctions v0.3.11\u001b[39m\n",
      " \u001b[90m [83e8ac13] \u001b[39m\u001b[92m+ IniFile v0.5.1\u001b[39m\n",
      " \u001b[90m [3587e190] \u001b[39m\u001b[92m+ InverseFunctions v0.1.8\u001b[39m\n",
      " \u001b[90m [41ab1584] \u001b[39m\u001b[92m+ InvertedIndices v1.2.0\u001b[39m\n",
      " \u001b[90m [92d709cd] \u001b[39m\u001b[92m+ IrrationalConstants v0.1.1\u001b[39m\n",
      " \u001b[90m [b3c1a2ee] \u001b[39m\u001b[92m+ IterationControl v0.5.3\u001b[39m\n",
      " \u001b[90m [82899510] \u001b[39m\u001b[92m+ IteratorInterfaceExtensions v1.0.0\u001b[39m\n",
      " \u001b[90m [692b3bcd] \u001b[39m\u001b[92m+ JLLWrappers v1.4.1\u001b[39m\n",
      " \u001b[90m [682c06a0] \u001b[39m\u001b[92m+ JSON v0.21.3\u001b[39m\n",
      " \u001b[90m [b964fa9f] \u001b[39m\u001b[92m+ LaTeXStrings v1.3.0\u001b[39m\n",
      " \u001b[90m [a5e1c1ea] \u001b[39m\u001b[92m+ LatinHypercubeSampling v1.8.0\u001b[39m\n",
      " \u001b[90m [2ab3a3ac] \u001b[39m\u001b[92m+ LogExpFunctions v0.3.20\u001b[39m\n",
      " \u001b[90m [e6f89c97] \u001b[39m\u001b[92m+ LoggingExtras v1.0.0\u001b[39m\n",
      " \u001b[90m [30fc2ffe] \u001b[39m\u001b[92m+ LossFunctions v0.8.0\u001b[39m\n",
      " \u001b[90m [add582a8] \u001b[39m\u001b[92m+ MLJ v0.19.1\u001b[39m\n",
      " \u001b[90m [a7f614a8] \u001b[39m\u001b[92m+ MLJBase v0.21.5\u001b[39m\n",
      " \u001b[90m [50ed68f4] \u001b[39m\u001b[92m+ MLJEnsembles v0.3.2\u001b[39m\n",
      " \u001b[90m [614be32b] \u001b[39m\u001b[92m+ MLJIteration v0.5.1\u001b[39m\n",
      " \u001b[90m [e80e1ace] \u001b[39m\u001b[92m+ MLJModelInterface v1.8.0\u001b[39m\n",
      " \u001b[90m [d491faf4] \u001b[39m\u001b[92m+ MLJModels v0.16.2\u001b[39m\n",
      " \u001b[90m [03970b2e] \u001b[39m\u001b[92m+ MLJTuning v0.7.4\u001b[39m\n",
      " \u001b[90m [299715c1] \u001b[39m\u001b[92m+ MarchingCubes v0.1.6\u001b[39m\n",
      " \u001b[90m [739be429] \u001b[39m\u001b[92m+ MbedTLS v1.1.7\u001b[39m\n",
      " \u001b[90m [e1d29d7a] \u001b[39m\u001b[92m+ Missings v1.1.0\u001b[39m\n",
      " \u001b[90m [77ba4419] \u001b[39m\u001b[92m+ NaNMath v1.0.1\u001b[39m\n",
      " \u001b[90m [8b6db2d4] \u001b[39m\u001b[92m+ OpenML v0.3.1\u001b[39m\n",
      " \u001b[90m [4d8831e6] \u001b[39m\u001b[92m+ OpenSSL v1.3.3\u001b[39m\n",
      " \u001b[90m [bac558e1] \u001b[39m\u001b[92m+ OrderedCollections v1.4.1\u001b[39m\n",
      " \u001b[90m [90014a1f] \u001b[39m\u001b[92m+ PDMats v0.11.16\u001b[39m\n",
      " \u001b[90m [d96e819e] \u001b[39m\u001b[92m+ Parameters v0.12.3\u001b[39m\n",
      " \u001b[90m [69de0a69] \u001b[39m\u001b[92m+ Parsers v2.5.3\u001b[39m\n",
      " \u001b[90m [2dfb63ee] \u001b[39m\u001b[92m+ PooledArrays v1.4.2\u001b[39m\n",
      " \u001b[90m [21216c6a] \u001b[39m\u001b[92m+ Preferences v1.3.0\u001b[39m\n",
      " \u001b[90m [54e16d92] \u001b[39m\u001b[92m+ PrettyPrinting v0.4.0\u001b[39m\n",
      " \u001b[90m [08abe8d2] \u001b[39m\u001b[92m+ PrettyTables v2.2.2\u001b[39m\n",
      " \u001b[90m [92933f4c] \u001b[39m\u001b[92m+ ProgressMeter v1.7.2\u001b[39m\n",
      " \u001b[90m [1fd47b50] \u001b[39m\u001b[92m+ QuadGK v2.7.0\u001b[39m\n",
      " \u001b[90m [3cdcf5f2] \u001b[39m\u001b[92m+ RecipesBase v1.3.3\u001b[39m\n",
      " \u001b[90m [189a3867] \u001b[39m\u001b[92m+ Reexport v1.2.2\u001b[39m\n",
      " \u001b[90m [05181044] \u001b[39m\u001b[92m+ RelocatableFolders v1.0.0\u001b[39m\n",
      " \u001b[90m [ae029012] \u001b[39m\u001b[92m+ Requires v1.3.0\u001b[39m\n",
      " \u001b[90m [79098fc4] \u001b[39m\u001b[92m+ Rmath v0.7.1\u001b[39m\n",
      " \u001b[90m [321657f4] \u001b[39m\u001b[92m+ ScientificTypes v3.0.2\u001b[39m\n",
      " \u001b[90m [30f210dd] \u001b[39m\u001b[92m+ ScientificTypesBase v3.0.0\u001b[39m\n",
      " \u001b[90m [6c6a2e73] \u001b[39m\u001b[92m+ Scratch v1.1.1\u001b[39m\n",
      " \u001b[90m [777ac1f9] \u001b[39m\u001b[92m+ SimpleBufferStream v1.1.0\u001b[39m\n",
      " \u001b[90m [66db9d55] \u001b[39m\u001b[92m+ SnoopPrecompile v1.0.3\u001b[39m\n",
      " \u001b[90m [a2af1166] \u001b[39m\u001b[92m+ SortingAlgorithms v1.1.0\u001b[39m\n",
      " \u001b[90m [276daf66] \u001b[39m\u001b[92m+ SpecialFunctions v2.1.7\u001b[39m\n",
      " \u001b[90m [860ef19b] \u001b[39m\u001b[92m+ StableRNGs v1.0.0\u001b[39m\n",
      " \u001b[90m [90137ffa] \u001b[39m\u001b[92m+ StaticArrays v1.5.12\u001b[39m\n",
      " \u001b[90m [1e83bf80] \u001b[39m\u001b[92m+ StaticArraysCore v1.4.0\u001b[39m\n",
      " \u001b[90m [64bff920] \u001b[39m\u001b[92m+ StatisticalTraits v3.2.0\u001b[39m\n",
      " \u001b[90m [82ae8749] \u001b[39m\u001b[92m+ StatsAPI v1.5.0\u001b[39m\n",
      " \u001b[90m [2913bbd2] \u001b[39m\u001b[92m+ StatsBase v0.33.21\u001b[39m\n",
      " \u001b[90m [4c63d2b9] \u001b[39m\u001b[92m+ StatsFuns v1.1.1\u001b[39m\n",
      " \u001b[90m [892a3eda] \u001b[39m\u001b[92m+ StringManipulation v0.3.0\u001b[39m\n",
      " \u001b[90m [3783bdb8] \u001b[39m\u001b[92m+ TableTraits v1.0.1\u001b[39m\n",
      " \u001b[90m [bd369af6] \u001b[39m\u001b[92m+ Tables v1.10.0\u001b[39m\n",
      " \u001b[90m [62fd8b95] \u001b[39m\u001b[92m+ TensorCore v0.1.1\u001b[39m\n",
      " \u001b[90m [3bb67fe8] \u001b[39m\u001b[92m+ TranscodingStreams v0.9.11\u001b[39m\n",
      " \u001b[90m [5c2747f8] \u001b[39m\u001b[92m+ URIs v1.4.1\u001b[39m\n",
      " \u001b[90m [3a884ed6] \u001b[39m\u001b[92m+ UnPack v1.0.2\u001b[39m\n",
      " \u001b[90m [b8865327] \u001b[39m\u001b[92m+ UnicodePlots v3.3.4\u001b[39m\n",
      " \u001b[90m [1986cc42] \u001b[39m\u001b[92m+ Unitful v1.12.2\u001b[39m\n",
      " \u001b[90m [6e34b625] \u001b[39m\u001b[92m+ Bzip2_jll v1.0.8+0\u001b[39m\n",
      " \u001b[90m [d7e528f0] \u001b[39m\u001b[92m+ FreeType2_jll v2.10.4+0\u001b[39m\n",
      " \u001b[90m [458c3c95] \u001b[39m\u001b[92m+ OpenSSL_jll v1.1.19+0\u001b[39m\n",
      " \u001b[90m [efe28fd5] \u001b[39m\u001b[92m+ OpenSpecFun_jll v0.5.5+0\u001b[39m\n",
      " \u001b[90m [f50d1b31] \u001b[39m\u001b[92m+ Rmath_jll v0.4.0+0\u001b[39m\n",
      " \u001b[90m [0dad84c5] \u001b[39m\u001b[92m+ ArgTools v1.1.1\u001b[39m\n",
      " \u001b[90m [56f22d72] \u001b[39m\u001b[92m+ Artifacts\u001b[39m\n",
      " \u001b[90m [2a0f44e3] \u001b[39m\u001b[92m+ Base64\u001b[39m\n",
      " \u001b[90m [ade2ca70] \u001b[39m\u001b[92m+ Dates\u001b[39m\n",
      " \u001b[90m [8bb1440f] \u001b[39m\u001b[92m+ DelimitedFiles\u001b[39m\n",
      " \u001b[90m [8ba89e20] \u001b[39m\u001b[92m+ Distributed\u001b[39m\n",
      " \u001b[90m [f43a241f] \u001b[39m\u001b[92m+ Downloads v1.6.0\u001b[39m\n",
      " \u001b[90m [7b1f6079] \u001b[39m\u001b[92m+ FileWatching\u001b[39m\n",
      " \u001b[90m [9fa8497b] \u001b[39m\u001b[92m+ Future\u001b[39m\n",
      " \u001b[90m [b77e0a4c] \u001b[39m\u001b[92m+ InteractiveUtils\u001b[39m\n",
      " \u001b[90m [b27032c2] \u001b[39m\u001b[92m+ LibCURL v0.6.3\u001b[39m\n",
      " \u001b[90m [76f85450] \u001b[39m\u001b[92m+ LibGit2\u001b[39m\n",
      " \u001b[90m [8f399da3] \u001b[39m\u001b[92m+ Libdl\u001b[39m\n",
      " \u001b[90m [37e2e46d] \u001b[39m\u001b[92m+ LinearAlgebra\u001b[39m\n",
      " \u001b[90m [56ddb016] \u001b[39m\u001b[92m+ Logging\u001b[39m\n",
      " \u001b[90m [d6f4376e] \u001b[39m\u001b[92m+ Markdown\u001b[39m\n",
      " \u001b[90m [a63ad114] \u001b[39m\u001b[92m+ Mmap\u001b[39m\n",
      " \u001b[90m [ca575930] \u001b[39m\u001b[92m+ NetworkOptions v1.2.0\u001b[39m\n",
      " \u001b[90m [44cfe95a] \u001b[39m\u001b[92m+ Pkg v1.8.0\u001b[39m\n",
      " \u001b[90m [de0858da] \u001b[39m\u001b[92m+ Printf\u001b[39m\n",
      " \u001b[90m [3fa0cd96] \u001b[39m\u001b[92m+ REPL\u001b[39m\n",
      " \u001b[90m [9a3f8284] \u001b[39m\u001b[92m+ Random\u001b[39m\n",
      " \u001b[90m [ea8e919c] \u001b[39m\u001b[92m+ SHA v0.7.0\u001b[39m\n",
      " \u001b[90m [9e88b42a] \u001b[39m\u001b[92m+ Serialization\u001b[39m\n",
      " \u001b[90m [6462fe0b] \u001b[39m\u001b[92m+ Sockets\u001b[39m\n",
      " \u001b[90m [2f01184e] \u001b[39m\u001b[92m+ SparseArrays\u001b[39m\n",
      " \u001b[90m [10745b16] \u001b[39m\u001b[92m+ Statistics\u001b[39m\n",
      " \u001b[90m [4607b0f0] \u001b[39m\u001b[92m+ SuiteSparse\u001b[39m\n",
      " \u001b[90m [fa267f1f] \u001b[39m\u001b[92m+ TOML v1.0.0\u001b[39m\n",
      " \u001b[90m [a4e569a6] \u001b[39m\u001b[92m+ Tar v1.10.1\u001b[39m\n",
      " \u001b[90m [8dfed614] \u001b[39m\u001b[92m+ Test\u001b[39m\n",
      " \u001b[90m [cf7118a7] \u001b[39m\u001b[92m+ UUIDs\u001b[39m\n",
      " \u001b[90m [4ec0a83e] \u001b[39m\u001b[92m+ Unicode\u001b[39m\n",
      " \u001b[90m [e66e0078] \u001b[39m\u001b[92m+ CompilerSupportLibraries_jll v1.0.1+0\u001b[39m\n",
      " \u001b[90m [deac9b47] \u001b[39m\u001b[92m+ LibCURL_jll v7.84.0+0\u001b[39m\n",
      " \u001b[90m [29816b5a] \u001b[39m\u001b[92m+ LibSSH2_jll v1.10.2+0\u001b[39m\n",
      " \u001b[90m [c8ffd9c3] \u001b[39m\u001b[92m+ MbedTLS_jll v2.28.0+0\u001b[39m\n",
      " \u001b[90m [14a3606d] \u001b[39m\u001b[92m+ MozillaCACerts_jll v2022.2.1\u001b[39m\n",
      " \u001b[90m [4536629a] \u001b[39m\u001b[92m+ OpenBLAS_jll v0.3.20+0\u001b[39m\n",
      " \u001b[90m [05823500] \u001b[39m\u001b[92m+ OpenLibm_jll v0.8.1+0\u001b[39m\n",
      " \u001b[90m [83775a58] \u001b[39m\u001b[92m+ Zlib_jll v1.2.12+3\u001b[39m\n",
      " \u001b[90m [8e850b90] \u001b[39m\u001b[92m+ libblastrampoline_jll v5.1.1+0\u001b[39m\n",
      " \u001b[90m [8e850ede] \u001b[39m\u001b[92m+ nghttp2_jll v1.48.0+0\u001b[39m\n",
      " \u001b[90m [3f19e933] \u001b[39m\u001b[92m+ p7zip_jll v17.4.0+0\u001b[39m\n"
     ]
    },
    {
     "name": "stderr",
     "output_type": "stream",
     "text": [
      "\u001b[32m\u001b[1mPrecompiling\u001b[22m\u001b[39m project...\n",
      "\u001b[32m  ✓ \u001b[39m\u001b[90mRelocatableFolders\u001b[39m\n",
      "\u001b[32m  ✓ \u001b[39m\u001b[90mStableRNGs\u001b[39m\n",
      "\u001b[32m  ✓ \u001b[39m\u001b[90mContour\u001b[39m\n",
      "\u001b[32m  ✓ \u001b[39m\u001b[90mComputationalResources\u001b[39m\n",
      "\u001b[32m  ✓ \u001b[39m\u001b[90mScientificTypesBase\u001b[39m\n",
      "\u001b[32m  ✓ \u001b[39m\u001b[90mEarlyStopping\u001b[39m\n",
      "\u001b[32m  ✓ \u001b[39m\u001b[90mPrettyPrinting\u001b[39m\n",
      "\u001b[32m  ✓ \u001b[39m\u001b[90mStatisticalTraits\u001b[39m\n",
      "\u001b[32m  ✓ \u001b[39m\u001b[90mARFFFiles\u001b[39m\n",
      "\u001b[32m  ✓ \u001b[39m\u001b[90mFreeType\u001b[39m\n",
      "\u001b[32m  ✓ \u001b[39m\u001b[90mLatinHypercubeSampling\u001b[39m\n",
      "\u001b[32m  ✓ \u001b[39m\u001b[90mLossFunctions\u001b[39m\n",
      "\u001b[32m  ✓ \u001b[39m\u001b[90mMLJModelInterface\u001b[39m\n",
      "\u001b[32m  ✓ \u001b[39m\u001b[90mStringManipulation\u001b[39m\n",
      "\u001b[32m  ✓ \u001b[39m\u001b[90mIterationControl\u001b[39m\n",
      "\u001b[32m  ✓ \u001b[39m\u001b[90mHTTP\u001b[39m\n",
      "\u001b[32m  ✓ \u001b[39m\u001b[90mOpenML\u001b[39m\n",
      "\u001b[32m  ✓ \u001b[39m\u001b[90mMarchingCubes\u001b[39m\n",
      "\u001b[32m  ✓ \u001b[39m\u001b[90mPrettyTables\u001b[39m\n",
      "\u001b[32m  ✓ \u001b[39m\u001b[90mScientificTypes\u001b[39m\n",
      "\u001b[32m  ✓ \u001b[39m\u001b[90mUnitful\u001b[39m\n",
      "\u001b[32m  ✓ \u001b[39mDataFrames\n",
      "\u001b[32m  ✓ \u001b[39m\u001b[90mUnicodePlots\u001b[39m\n",
      "\u001b[32m  ✓ \u001b[39m\u001b[90mCategoricalDistributions\u001b[39m\n",
      "\u001b[32m  ✓ \u001b[39m\u001b[90mMLJModels\u001b[39m\n",
      "\u001b[32m  ✓ \u001b[39m\u001b[90mMLJBase\u001b[39m\n",
      "\u001b[32m  ✓ \u001b[39m\u001b[90mMLJEnsembles\u001b[39m\n",
      "\u001b[32m  ✓ \u001b[39m\u001b[90mMLJTuning\u001b[39m\n",
      "\u001b[32m  ✓ \u001b[39m\u001b[90mMLJIteration\u001b[39m\n",
      "\u001b[32m  ✓ \u001b[39mMLJ\n",
      "  30 dependencies successfully precompiled in 92 seconds. 82 already precompiled.\n"
     ]
    }
   ],
   "source": [
    "]add MLJ DataFrames"
   ]
  },
  {
   "cell_type": "code",
   "execution_count": 5,
   "id": "8ebc9eee",
   "metadata": {
    "ExecuteTime": {
     "end_time": "2023-01-28T21:50:18.010000+09:00",
     "start_time": "2023-01-28T12:50:17.939Z"
    }
   },
   "outputs": [
    {
     "name": "stdout",
     "output_type": "stream",
     "text": [
      "\u001b[32m\u001b[1mStatus\u001b[22m\u001b[39m `/path/to/JuliaBook2023Samples/notebooks/Chapter13/mlj_wk/Project.toml`\n",
      " \u001b[90m [a93c6f00] \u001b[39mDataFrames v1.4.4\n",
      " \u001b[90m [add582a8] \u001b[39mMLJ v0.19.1\n"
     ]
    }
   ],
   "source": [
    "]st"
   ]
  },
  {
   "cell_type": "markdown",
   "id": "55099e97",
   "metadata": {},
   "source": [
    "### コード13-3. `MLJ.jl` の使用例(1)：\"iris\" データセットのロードと確認"
   ]
  },
  {
   "cell_type": "code",
   "execution_count": 6,
   "id": "f04c804d",
   "metadata": {
    "ExecuteTime": {
     "end_time": "2023-01-28T21:50:37.709000+09:00",
     "start_time": "2023-01-28T12:50:26.977Z"
    }
   },
   "outputs": [],
   "source": [
    "using MLJ"
   ]
  },
  {
   "cell_type": "code",
   "execution_count": 7,
   "id": "a1e9c5f6",
   "metadata": {
    "ExecuteTime": {
     "end_time": "2023-01-28T21:50:43.577000+09:00",
     "start_time": "2023-01-28T12:50:38.764Z"
    }
   },
   "outputs": [
    {
     "data": {
      "text/plain": [
       "(sepal_length = [5.1, 4.9, 4.7, 4.6, 5.0, 5.4, 4.6, 5.0, 4.4, 4.9  …  6.7, 6.9, 5.8, 6.8, 6.7, 6.7, 6.3, 6.5, 6.2, 5.9],\n",
       " sepal_width = [3.5, 3.0, 3.2, 3.1, 3.6, 3.9, 3.4, 3.4, 2.9, 3.1  …  3.1, 3.1, 2.7, 3.2, 3.3, 3.0, 2.5, 3.0, 3.4, 3.0],\n",
       " petal_length = [1.4, 1.4, 1.3, 1.5, 1.4, 1.7, 1.4, 1.5, 1.4, 1.5  …  5.6, 5.1, 5.1, 5.9, 5.7, 5.2, 5.0, 5.2, 5.4, 5.1],\n",
       " petal_width = [0.2, 0.2, 0.2, 0.2, 0.2, 0.4, 0.3, 0.2, 0.2, 0.1  …  2.4, 2.3, 1.9, 2.3, 2.5, 2.3, 1.9, 2.0, 2.3, 1.8],\n",
       " target = CategoricalArrays.CategoricalValue{String, UInt32}[\"setosa\", \"setosa\", \"setosa\", \"setosa\", \"setosa\", \"setosa\", \"setosa\", \"setosa\", \"setosa\", \"setosa\"  …  \"virginica\", \"virginica\", \"virginica\", \"virginica\", \"virginica\", \"virginica\", \"virginica\", \"virginica\", \"virginica\", \"virginica\"],)"
      ]
     },
     "execution_count": 7,
     "metadata": {},
     "output_type": "execute_result"
    }
   ],
   "source": [
    "iris = load_iris()"
   ]
  },
  {
   "cell_type": "code",
   "execution_count": 8,
   "id": "4e7ac835",
   "metadata": {
    "ExecuteTime": {
     "end_time": "2023-01-28T21:50:56.304000+09:00",
     "start_time": "2023-01-28T12:50:56.133Z"
    }
   },
   "outputs": [
    {
     "data": {
      "text/plain": [
       "NamedTuple{(:sepal_length, :sepal_width, :petal_length, :petal_width, :target), Tuple{Vector{Float64}, Vector{Float64}, Vector{Float64}, Vector{Float64}, CategoricalArrays.CategoricalVector{String, UInt32, String, CategoricalArrays.CategoricalValue{String, UInt32}, Union{}}}}"
      ]
     },
     "execution_count": 8,
     "metadata": {},
     "output_type": "execute_result"
    }
   ],
   "source": [
    "typeof(iris)"
   ]
  },
  {
   "cell_type": "code",
   "execution_count": 9,
   "id": "2c725b3d",
   "metadata": {
    "ExecuteTime": {
     "end_time": "2023-01-28T21:51:01.354000+09:00",
     "start_time": "2023-01-28T12:50:57.883Z"
    }
   },
   "outputs": [
    {
     "name": "stdout",
     "output_type": "stream",
     "text": [
      "┌──────────────┬─────────────┬──────────────┬─────────────┬──────────────────────────────────┐\n",
      "│\u001b[1m sepal_length \u001b[0m│\u001b[1m sepal_width \u001b[0m│\u001b[1m petal_length \u001b[0m│\u001b[1m petal_width \u001b[0m│\u001b[1m target                           \u001b[0m│\n",
      "│\u001b[90m Float64      \u001b[0m│\u001b[90m Float64     \u001b[0m│\u001b[90m Float64      \u001b[0m│\u001b[90m Float64     \u001b[0m│\u001b[90m CategoricalValue{String, UInt32} \u001b[0m│\n",
      "│\u001b[90m Continuous   \u001b[0m│\u001b[90m Continuous  \u001b[0m│\u001b[90m Continuous   \u001b[0m│\u001b[90m Continuous  \u001b[0m│\u001b[90m Multiclass{3}                    \u001b[0m│\n",
      "├──────────────┼─────────────┼──────────────┼─────────────┼──────────────────────────────────┤\n",
      "│ 5.1          │ 3.5         │ 1.4          │ 0.2         │ setosa                           │\n",
      "│ 4.9          │ 3.0         │ 1.4          │ 0.2         │ setosa                           │\n",
      "│ 4.7          │ 3.2         │ 1.3          │ 0.2         │ setosa                           │\n",
      "└──────────────┴─────────────┴──────────────┴─────────────┴──────────────────────────────────┘\n"
     ]
    }
   ],
   "source": [
    "selectrows(iris, 1:3) |> pretty"
   ]
  },
  {
   "cell_type": "code",
   "execution_count": 10,
   "id": "8f2e875e",
   "metadata": {
    "ExecuteTime": {
     "end_time": "2023-01-28T21:51:11.472000+09:00",
     "start_time": "2023-01-28T12:51:09.993Z"
    }
   },
   "outputs": [],
   "source": [
    "using DataFrames"
   ]
  },
  {
   "cell_type": "code",
   "execution_count": 11,
   "id": "65db39ac",
   "metadata": {
    "ExecuteTime": {
     "end_time": "2023-01-28T21:51:17.639000+09:00",
     "start_time": "2023-01-28T12:51:14.487Z"
    }
   },
   "outputs": [
    {
     "data": {
      "text/html": [
       "<div><div style = \"float: left;\"><span>3×5 DataFrame</span></div><div style = \"clear: both;\"></div></div><div class = \"data-frame\" style = \"overflow-x: scroll;\"><table class = \"data-frame\" style = \"margin-bottom: 6px;\"><thead><tr class = \"header\"><th class = \"rowNumber\" style = \"font-weight: bold; text-align: right;\">Row</th><th style = \"text-align: left;\">sepal_length</th><th style = \"text-align: left;\">sepal_width</th><th style = \"text-align: left;\">petal_length</th><th style = \"text-align: left;\">petal_width</th><th style = \"text-align: left;\">target</th></tr><tr class = \"subheader headerLastRow\"><th class = \"rowNumber\" style = \"font-weight: bold; text-align: right;\"></th><th title = \"Float64\" style = \"text-align: left;\">Float64</th><th title = \"Float64\" style = \"text-align: left;\">Float64</th><th title = \"Float64\" style = \"text-align: left;\">Float64</th><th title = \"Float64\" style = \"text-align: left;\">Float64</th><th title = \"CategoricalArrays.CategoricalValue{String, UInt32}\" style = \"text-align: left;\">Cat…</th></tr></thead><tbody><tr><td class = \"rowNumber\" style = \"font-weight: bold; text-align: right;\">1</td><td style = \"text-align: right;\">5.1</td><td style = \"text-align: right;\">3.5</td><td style = \"text-align: right;\">1.4</td><td style = \"text-align: right;\">0.2</td><td style = \"text-align: left;\">setosa</td></tr><tr><td class = \"rowNumber\" style = \"font-weight: bold; text-align: right;\">2</td><td style = \"text-align: right;\">4.9</td><td style = \"text-align: right;\">3.0</td><td style = \"text-align: right;\">1.4</td><td style = \"text-align: right;\">0.2</td><td style = \"text-align: left;\">setosa</td></tr><tr><td class = \"rowNumber\" style = \"font-weight: bold; text-align: right;\">3</td><td style = \"text-align: right;\">4.7</td><td style = \"text-align: right;\">3.2</td><td style = \"text-align: right;\">1.3</td><td style = \"text-align: right;\">0.2</td><td style = \"text-align: left;\">setosa</td></tr></tbody></table></div>"
      ],
      "text/latex": [
       "\\begin{tabular}{r|ccccc}\n",
       "\t& sepal\\_length & sepal\\_width & petal\\_length & petal\\_width & target\\\\\n",
       "\t\\hline\n",
       "\t& Float64 & Float64 & Float64 & Float64 & Cat…\\\\\n",
       "\t\\hline\n",
       "\t1 & 5.1 & 3.5 & 1.4 & 0.2 & setosa \\\\\n",
       "\t2 & 4.9 & 3.0 & 1.4 & 0.2 & setosa \\\\\n",
       "\t3 & 4.7 & 3.2 & 1.3 & 0.2 & setosa \\\\\n",
       "\\end{tabular}\n"
      ],
      "text/plain": [
       "\u001b[1m3×5 DataFrame\u001b[0m\n",
       "\u001b[1m Row \u001b[0m│\u001b[1m sepal_length \u001b[0m\u001b[1m sepal_width \u001b[0m\u001b[1m petal_length \u001b[0m\u001b[1m petal_width \u001b[0m\u001b[1m target \u001b[0m\n",
       "     │\u001b[90m Float64      \u001b[0m\u001b[90m Float64     \u001b[0m\u001b[90m Float64      \u001b[0m\u001b[90m Float64     \u001b[0m\u001b[90m Cat…   \u001b[0m\n",
       "─────┼──────────────────────────────────────────────────────────────\n",
       "   1 │          5.1          3.5           1.4          0.2  setosa\n",
       "   2 │          4.9          3.0           1.4          0.2  setosa\n",
       "   3 │          4.7          3.2           1.3          0.2  setosa"
      ]
     },
     "execution_count": 11,
     "metadata": {},
     "output_type": "execute_result"
    }
   ],
   "source": [
    "selectrows(DataFrame(iris), 1:3)"
   ]
  },
  {
   "cell_type": "markdown",
   "id": "75fa40f7",
   "metadata": {},
   "source": [
    "### コード13-4. `MLJ.jl` の使用例(2)：目的変数と説明変数の展開"
   ]
  },
  {
   "cell_type": "code",
   "execution_count": 12,
   "id": "2467d893",
   "metadata": {
    "ExecuteTime": {
     "end_time": "2023-01-28T21:51:55.727000+09:00",
     "start_time": "2023-01-28T12:51:55.139Z"
    }
   },
   "outputs": [
    {
     "data": {
      "text/plain": [
       "(CategoricalArrays.CategoricalValue{String, UInt32}[\"setosa\", \"versicolor\", \"virginica\", \"virginica\", \"virginica\", \"versicolor\", \"virginica\", \"virginica\", \"virginica\", \"virginica\"  …  \"virginica\", \"setosa\", \"setosa\", \"virginica\", \"virginica\", \"versicolor\", \"virginica\", \"virginica\", \"versicolor\", \"setosa\"], (sepal_length = [5.1, 6.0, 6.3, 5.9, 6.7, 6.6, 4.9, 7.7, 5.6, 5.8  …  6.3, 5.0, 4.8, 7.7, 6.4, 6.3, 6.4, 6.7, 5.5, 4.8], sepal_width = [3.5, 3.4, 2.9, 3.0, 3.3, 2.9, 2.5, 2.8, 2.8, 2.8  …  3.3, 3.5, 3.0, 3.0, 3.1, 2.3, 2.8, 3.1, 2.4, 3.4], petal_length = [1.4, 4.5, 5.6, 5.1, 5.7, 4.6, 4.5, 6.7, 4.9, 5.1  …  6.0, 1.3, 1.4, 6.1, 5.5, 4.4, 5.6, 5.6, 3.8, 1.6], petal_width = [0.2, 1.6, 1.8, 1.8, 2.1, 1.3, 1.7, 2.0, 2.0, 2.4  …  2.5, 0.3, 0.3, 2.3, 1.8, 1.3, 2.2, 2.4, 1.1, 0.2]))"
      ]
     },
     "execution_count": 12,
     "metadata": {},
     "output_type": "execute_result"
    }
   ],
   "source": [
    "y, X = unpack(iris, ==(:target); shuffle=true)"
   ]
  },
  {
   "cell_type": "code",
   "execution_count": 13,
   "id": "e8eaab3b",
   "metadata": {
    "ExecuteTime": {
     "end_time": "2023-01-28T21:52:02.166000+09:00",
     "start_time": "2023-01-28T12:52:01.526Z"
    }
   },
   "outputs": [
    {
     "name": "stdout",
     "output_type": "stream",
     "text": [
      "┌──────────────┬─────────────┬──────────────┬─────────────┐\n",
      "│\u001b[1m sepal_length \u001b[0m│\u001b[1m sepal_width \u001b[0m│\u001b[1m petal_length \u001b[0m│\u001b[1m petal_width \u001b[0m│\n",
      "│\u001b[90m Float64      \u001b[0m│\u001b[90m Float64     \u001b[0m│\u001b[90m Float64      \u001b[0m│\u001b[90m Float64     \u001b[0m│\n",
      "│\u001b[90m Continuous   \u001b[0m│\u001b[90m Continuous  \u001b[0m│\u001b[90m Continuous   \u001b[0m│\u001b[90m Continuous  \u001b[0m│\n",
      "├──────────────┼─────────────┼──────────────┼─────────────┤\n",
      "│ 5.1          │ 3.5         │ 1.4          │ 0.2         │\n",
      "│ 6.0          │ 3.4         │ 4.5          │ 1.6         │\n",
      "│ 6.3          │ 2.9         │ 5.6          │ 1.8         │\n",
      "└──────────────┴─────────────┴──────────────┴─────────────┘\n"
     ]
    }
   ],
   "source": [
    "selectrows(X, 1:3) |> pretty"
   ]
  },
  {
   "cell_type": "markdown",
   "id": "ac90bce1",
   "metadata": {},
   "source": [
    "### コード13-5. `MLJ.jl` の使用例(3)：説明変数と目的変数の組にマッチするモデルの検索"
   ]
  },
  {
   "cell_type": "code",
   "execution_count": 14,
   "id": "cfae0fde",
   "metadata": {
    "ExecuteTime": {
     "end_time": "2023-01-28T21:52:44.712000+09:00",
     "start_time": "2023-01-28T12:52:33.945Z"
    }
   },
   "outputs": [
    {
     "data": {
      "text/plain": [
       "48-element Vector{NamedTuple{(:name, :package_name, :is_supervised, :abstract_type, :deep_properties, :docstring, :fit_data_scitype, :human_name, :hyperparameter_ranges, :hyperparameter_types, :hyperparameters, :implemented_methods, :inverse_transform_scitype, :is_pure_julia, :is_wrapper, :iteration_parameter, :load_path, :package_license, :package_url, :package_uuid, :predict_scitype, :prediction_type, :reporting_operations, :reports_feature_importances, :supports_class_weights, :supports_online, :supports_training_losses, :supports_weights, :transform_scitype, :input_scitype, :target_scitype, :output_scitype)}}:\n",
       " (name = AdaBoostClassifier, package_name = ScikitLearn, ... )\n",
       " (name = AdaBoostStumpClassifier, package_name = DecisionTree, ... )\n",
       " (name = BaggingClassifier, package_name = ScikitLearn, ... )\n",
       " (name = BayesianLDA, package_name = MultivariateStats, ... )\n",
       " (name = BayesianLDA, package_name = ScikitLearn, ... )\n",
       " (name = BayesianQDA, package_name = ScikitLearn, ... )\n",
       " (name = BayesianSubspaceLDA, package_name = MultivariateStats, ... )\n",
       " (name = ConstantClassifier, package_name = MLJModels, ... )\n",
       " (name = DecisionTreeClassifier, package_name = BetaML, ... )\n",
       " (name = DecisionTreeClassifier, package_name = DecisionTree, ... )\n",
       " (name = DeterministicConstantClassifier, package_name = MLJModels, ... )\n",
       " (name = DummyClassifier, package_name = ScikitLearn, ... )\n",
       " (name = EvoTreeClassifier, package_name = EvoTrees, ... )\n",
       " ⋮\n",
       " (name = RandomForestClassifier, package_name = BetaML, ... )\n",
       " (name = RandomForestClassifier, package_name = DecisionTree, ... )\n",
       " (name = RandomForestClassifier, package_name = ScikitLearn, ... )\n",
       " (name = RidgeCVClassifier, package_name = ScikitLearn, ... )\n",
       " (name = RidgeClassifier, package_name = ScikitLearn, ... )\n",
       " (name = SGDClassifier, package_name = ScikitLearn, ... )\n",
       " (name = SVC, package_name = LIBSVM, ... )\n",
       " (name = SVMClassifier, package_name = ScikitLearn, ... )\n",
       " (name = SVMLinearClassifier, package_name = ScikitLearn, ... )\n",
       " (name = SVMNuClassifier, package_name = ScikitLearn, ... )\n",
       " (name = SubspaceLDA, package_name = MultivariateStats, ... )\n",
       " (name = XGBoostClassifier, package_name = XGBoost, ... )"
      ]
     },
     "execution_count": 14,
     "metadata": {},
     "output_type": "execute_result"
    }
   ],
   "source": [
    "models(matching(X, y))"
   ]
  },
  {
   "cell_type": "code",
   "execution_count": 15,
   "id": "c4d26740",
   "metadata": {
    "ExecuteTime": {
     "end_time": "2023-01-28T21:52:55.224000+09:00",
     "start_time": "2023-01-28T12:52:54.758Z"
    }
   },
   "outputs": [
    {
     "data": {
      "text/plain": [
       "(name = \"XGBoostClassifier\",\n",
       " package_name = \"XGBoost\",\n",
       " is_supervised = true,\n",
       " abstract_type = Probabilistic,\n",
       " deep_properties = (),\n",
       " docstring = \"```\\nXGBoostClassifier\\n```\\n\\nA model type for constr...\",\n",
       " fit_data_scitype =\n",
       "     Tuple{Table{<:AbstractVector{<:Continuous}}, AbstractVector{<:Finite}},\n",
       " human_name = \"eXtreme Gradient Boosting Classifier\",\n",
       " hyperparameter_ranges = (nothing,\n",
       "                          nothing,\n",
       "                          nothing,\n",
       "                          nothing,\n",
       "                          nothing,\n",
       "                          nothing,\n",
       "                          nothing,\n",
       "                          nothing,\n",
       "                          nothing,\n",
       "                          nothing,\n",
       "                          nothing,\n",
       "                          nothing,\n",
       "                          nothing,\n",
       "                          nothing,\n",
       "                          nothing,\n",
       "                          nothing,\n",
       "                          nothing,\n",
       "                          nothing,\n",
       "                          nothing,\n",
       "                          nothing,\n",
       "                          nothing,\n",
       "                          nothing,\n",
       "                          nothing,\n",
       "                          nothing,\n",
       "                          nothing,\n",
       "                          nothing,\n",
       "                          nothing,\n",
       "                          nothing,\n",
       "                          nothing,\n",
       "                          nothing,\n",
       "                          nothing,\n",
       "                          nothing,\n",
       "                          nothing,\n",
       "                          nothing,\n",
       "                          nothing,\n",
       "                          nothing,\n",
       "                          nothing,\n",
       "                          nothing,\n",
       "                          nothing,\n",
       "                          nothing),\n",
       " hyperparameter_types = (\"Int64\",\n",
       "                         \"Int64\",\n",
       "                         \"String\",\n",
       "                         \"Union{Bool, Int64}\",\n",
       "                         \"Float64\",\n",
       "                         \"Int64\",\n",
       "                         \"Float64\",\n",
       "                         \"Int64\",\n",
       "                         \"Float64\",\n",
       "                         \"Float64\",\n",
       "                         \"Float64\",\n",
       "                         \"Float64\",\n",
       "                         \"Float64\",\n",
       "                         \"Float64\",\n",
       "                         \"Float64\",\n",
       "                         \"Float64\",\n",
       "                         \"String\",\n",
       "                         \"Float64\",\n",
       "                         \"Float64\",\n",
       "                         \"Union{Nothing, String}\",\n",
       "                         \"Union{Bool, Int64}\",\n",
       "                         \"String\",\n",
       "                         \"String\",\n",
       "                         \"Int64\",\n",
       "                         \"Int64\",\n",
       "                         \"String\",\n",
       "                         \"String\",\n",
       "                         \"String\",\n",
       "                         \"Float64\",\n",
       "                         \"Union{Bool, Int64}\",\n",
       "                         \"Float64\",\n",
       "                         \"String\",\n",
       "                         \"Int64\",\n",
       "                         \"Float64\",\n",
       "                         \"Any\",\n",
       "                         \"Float64\",\n",
       "                         \"Any\",\n",
       "                         \"Int64\",\n",
       "                         \"String\",\n",
       "                         \"Union{Nothing, Int64}\"),\n",
       " hyperparameters = (:test,\n",
       "                    :num_round,\n",
       "                    :booster,\n",
       "                    :disable_default_eval_metric,\n",
       "                    :eta,\n",
       "                    :num_parallel_tree,\n",
       "                    :gamma,\n",
       "                    :max_depth,\n",
       "                    :min_child_weight,\n",
       "                    :max_delta_step,\n",
       "                    :subsample,\n",
       "                    :colsample_bytree,\n",
       "                    :colsample_bylevel,\n",
       "                    :colsample_bynode,\n",
       "                    :lambda,\n",
       "                    :alpha,\n",
       "                    :tree_method,\n",
       "                    :sketch_eps,\n",
       "                    :scale_pos_weight,\n",
       "                    :updater,\n",
       "                    :refresh_leaf,\n",
       "                    :process_type,\n",
       "                    :grow_policy,\n",
       "                    :max_leaves,\n",
       "                    :max_bin,\n",
       "                    :predictor,\n",
       "                    :sample_type,\n",
       "                    :normalize_type,\n",
       "                    :rate_drop,\n",
       "                    :one_drop,\n",
       "                    :skip_drop,\n",
       "                    :feature_selector,\n",
       "                    :top_k,\n",
       "                    :tweedie_variance_power,\n",
       "                    :objective,\n",
       "                    :base_score,\n",
       "                    :watchlist,\n",
       "                    :nthread,\n",
       "                    :importance_type,\n",
       "                    :seed),\n",
       " implemented_methods = [:clean!, :fit, :predict],\n",
       " inverse_transform_scitype = Unknown,\n",
       " is_pure_julia = false,\n",
       " is_wrapper = false,\n",
       " iteration_parameter = nothing,\n",
       " load_path = \"MLJXGBoostInterface.XGBoostClassifier\",\n",
       " package_license = \"unknown\",\n",
       " package_url = \"https://github.com/dmlc/XGBoost.jl\",\n",
       " package_uuid = \"009559a3-9522-5dbb-924b-0b6ed2b22bb9\",\n",
       " predict_scitype =\n",
       "     AbstractVector{ScientificTypesBase.Density{_s25} where _s25<:Finite},\n",
       " prediction_type = :probabilistic,\n",
       " reporting_operations = (),\n",
       " reports_feature_importances = true,\n",
       " supports_class_weights = false,\n",
       " supports_online = false,\n",
       " supports_training_losses = false,\n",
       " supports_weights = false,\n",
       " transform_scitype = Unknown,\n",
       " input_scitype = Table{<:AbstractVector{<:Continuous}},\n",
       " target_scitype = AbstractVector{<:Finite},\n",
       " output_scitype = Unknown)"
      ]
     },
     "execution_count": 15,
     "metadata": {},
     "output_type": "execute_result"
    }
   ],
   "source": [
    "models(matching(X, y)) |> last"
   ]
  },
  {
   "cell_type": "markdown",
   "id": "4c02fa20",
   "metadata": {},
   "source": [
    "### コード13-6. `MLJ.jl` の使用例(4)：モデル（分類器）のロード、構築"
   ]
  },
  {
   "cell_type": "code",
   "execution_count": 16,
   "id": "287614a8",
   "metadata": {
    "ExecuteTime": {
     "end_time": "2023-01-28T21:54:36.595000+09:00",
     "start_time": "2023-01-28T12:53:27.348Z"
    },
    "scrolled": true
   },
   "outputs": [
    {
     "name": "stderr",
     "output_type": "stream",
     "text": [
      "\u001b[36m\u001b[1m[ \u001b[22m\u001b[39m\u001b[36m\u001b[1mInfo: \u001b[22m\u001b[39mFor silent loading, specify `verbosity=0`. \n",
      "\u001b[32m\u001b[1m   Resolving\u001b[22m\u001b[39m package versions...\n",
      "\u001b[32m\u001b[1m   Installed\u001b[22m\u001b[39m HTML_Entities ─────── v1.0.1\n",
      "\u001b[32m\u001b[1m   Installed\u001b[22m\u001b[39m TimerOutputs ──────── v0.5.22\n",
      "\u001b[32m\u001b[1m   Installed\u001b[22m\u001b[39m CUDA_Runtime_jll ──── v0.3.0+1\n",
      "\u001b[32m\u001b[1m   Installed\u001b[22m\u001b[39m CodeTracking ──────── v1.2.0\n",
      "\u001b[32m\u001b[1m   Installed\u001b[22m\u001b[39m XGBoost_jll ───────── v1.7.3+0\n",
      "\u001b[32m\u001b[1m   Installed\u001b[22m\u001b[39m Highlights ────────── v0.5.2\n",
      "\u001b[32m\u001b[1m   Installed\u001b[22m\u001b[39m GPUArrays ─────────── v8.6.1\n",
      "\u001b[32m\u001b[1m   Installed\u001b[22m\u001b[39m LLVM ──────────────── v4.15.0\n",
      "\u001b[32m\u001b[1m   Installed\u001b[22m\u001b[39m CUDA_Driver_jll ───── v0.3.0+0\n",
      "\u001b[32m\u001b[1m   Installed\u001b[22m\u001b[39m MyterialColors ────── v0.3.0\n",
      "\u001b[32m\u001b[1m   Installed\u001b[22m\u001b[39m JSON3 ─────────────── v1.12.0\n",
      "\u001b[32m\u001b[1m   Installed\u001b[22m\u001b[39m DataDeps ──────────── v0.7.10\n",
      "\u001b[32m\u001b[1m   Installed\u001b[22m\u001b[39m StrTables ─────────── v1.0.1\n",
      "\u001b[32m\u001b[1m   Installed\u001b[22m\u001b[39m StructTypes ───────── v1.10.0\n",
      "\u001b[32m\u001b[1m   Installed\u001b[22m\u001b[39m AbstractTrees ─────── v0.4.4\n",
      "\u001b[32m\u001b[1m   Installed\u001b[22m\u001b[39m Term ──────────────── v1.2.0\n",
      "\u001b[32m\u001b[1m   Installed\u001b[22m\u001b[39m SparseMatricesCSR ─── v0.6.7\n",
      "\u001b[32m\u001b[1m   Installed\u001b[22m\u001b[39m GPUCompiler ───────── v0.17.1\n",
      "\u001b[32m\u001b[1m   Installed\u001b[22m\u001b[39m LLVMOpenMP_jll ────── v15.0.4+0\n",
      "\u001b[32m\u001b[1m   Installed\u001b[22m\u001b[39m MLJXGBoostInterface ─ v0.3.7\n",
      "\u001b[32m\u001b[1m   Installed\u001b[22m\u001b[39m WordTokenizers ────── v0.5.6\n",
      "\u001b[32m\u001b[1m   Installed\u001b[22m\u001b[39m XGBoost ───────────── v2.2.1\n",
      "\u001b[32m\u001b[1m   Installed\u001b[22m\u001b[39m CUDA ──────────────── v3.13.1\n",
      "\u001b[32m\u001b[1m    Updating\u001b[22m\u001b[39m `/path/to/JuliaBook2023Samples/notebooks/Chapter13/mlj_wk/Project.toml`\n",
      " \u001b[90m [54119dfa] \u001b[39m\u001b[92m+ MLJXGBoostInterface v0.3.7\u001b[39m\n",
      "\u001b[32m\u001b[1m    Updating\u001b[22m\u001b[39m `/path/to/JuliaBook2023Samples/notebooks/Chapter13/mlj_wk/Manifest.toml`\n",
      " Downloading artifact: CUDA_Driver\n",
      " \u001b[90m [621f4979] \u001b[39m\u001b[92m+ AbstractFFTs v1.2.1\u001b[39m\n",
      " \u001b[90m [1520ce14] \u001b[39m\u001b[92m+ AbstractTrees v0.4.4\u001b[39m\n",
      " \u001b[90m [79e6a3ab] \u001b[39m\u001b[92m+ Adapt v3.5.0\u001b[39m\n",
      "\u001b[33m⌅\u001b[39m\u001b[90m [ab4f0b2a] \u001b[39m\u001b[92m+ BFloat16s v0.2.0\u001b[39m\n",
      " \u001b[90m [052768ef] \u001b[39m\u001b[92m+ CUDA v3.13.1\u001b[39m\n",
      " \u001b[90m [da1fd8a2] \u001b[39m\u001b[92m+ CodeTracking v1.2.0\u001b[39m\n",
      " \u001b[90m [124859b0] \u001b[39m\u001b[92m+ DataDeps v0.7.10\u001b[39m\n",
      " \u001b[90m [e2ba6199] \u001b[39m\u001b[92m+ ExprTools v0.1.8\u001b[39m\n",
      " \u001b[90m [0c68f7d7] \u001b[39m\u001b[92m+ GPUArrays v8.6.1\u001b[39m\n",
      " \u001b[90m [46192b85] \u001b[39m\u001b[92m+ GPUArraysCore v0.1.3\u001b[39m\n",
      " \u001b[90m [61eb1bfa] \u001b[39m\u001b[92m+ GPUCompiler v0.17.1\u001b[39m\n",
      " \u001b[90m [7693890a] \u001b[39m\u001b[92m+ HTML_Entities v1.0.1\u001b[39m\n",
      " \u001b[90m [eafb193a] \u001b[39m\u001b[92m+ Highlights v0.5.2\u001b[39m\n",
      " \u001b[90m [0f8b85d8] \u001b[39m\u001b[92m+ JSON3 v1.12.0\u001b[39m\n",
      " \u001b[90m [929cbde3] \u001b[39m\u001b[92m+ LLVM v4.15.0\u001b[39m\n",
      " \u001b[90m [54119dfa] \u001b[39m\u001b[92m+ MLJXGBoostInterface v0.3.7\u001b[39m\n",
      " \u001b[90m [1c23619d] \u001b[39m\u001b[92m+ MyterialColors v0.3.0\u001b[39m\n",
      " \u001b[90m [33c8b6b6] \u001b[39m\u001b[92m+ ProgressLogging v0.1.4\u001b[39m\n",
      " \u001b[90m [74087812] \u001b[39m\u001b[92m+ Random123 v1.6.0\u001b[39m\n",
      " \u001b[90m [e6cf234a] \u001b[39m\u001b[92m+ RandomNumbers v1.5.3\u001b[39m\n",
      " \u001b[90m [a0a7dd2c] \u001b[39m\u001b[92m+ SparseMatricesCSR v0.6.7\u001b[39m\n",
      " \u001b[90m [9700d1a9] \u001b[39m\u001b[92m+ StrTables v1.0.1\u001b[39m\n",
      " \u001b[90m [856f2bd8] \u001b[39m\u001b[92m+ StructTypes v1.10.0\u001b[39m\n",
      " \u001b[90m [22787eb5] \u001b[39m\u001b[92m+ Term v1.2.0\u001b[39m\n",
      " \u001b[90m [a759f4b9] \u001b[39m\u001b[92m+ TimerOutputs v0.5.22\u001b[39m\n",
      " \u001b[90m [1cfade01] \u001b[39m\u001b[92m+ UnicodeFun v0.4.1\u001b[39m\n",
      " \u001b[90m [796a5d58] \u001b[39m\u001b[92m+ WordTokenizers v0.5.6\u001b[39m\n",
      " \u001b[90m [009559a3] \u001b[39m\u001b[92m+ XGBoost v2.2.1\u001b[39m\n",
      " \u001b[90m [4ee394cb] \u001b[39m\u001b[92m+ CUDA_Driver_jll v0.3.0+0\u001b[39m\n",
      " \u001b[90m [76a88914] \u001b[39m\u001b[92m+ CUDA_Runtime_jll v0.3.0+1\u001b[39m\n",
      " \u001b[90m [dad2f222] \u001b[39m\u001b[92m+ LLVMExtra_jll v0.0.16+0\u001b[39m\n",
      " \u001b[90m [1d63c593] \u001b[39m\u001b[92m+ LLVMOpenMP_jll v15.0.4+0\u001b[39m\n",
      " \u001b[90m [a5c6f535] \u001b[39m\u001b[92m+ XGBoost_jll v1.7.3+0\u001b[39m\n",
      " \u001b[90m [4af54fe1] \u001b[39m\u001b[92m+ LazyArtifacts\u001b[39m\n",
      "\u001b[36m\u001b[1m        Info\u001b[22m\u001b[39m Packages marked with \u001b[33m⌅\u001b[39m have new versions available but compatibility constraints restrict them from upgrading. To see why use `status --outdated -m`\n",
      "\u001b[32m\u001b[1m    Building\u001b[22m\u001b[39m HTML_Entities → `~/.julia/scratchspaces/44cfe95a-1eb2-52ea-b672-e2afdf69b78f/c4144ed3bc5f67f595622ad03c0e39fa6c70ccc7/build.log`\n",
      "\u001b[32m\u001b[1mPrecompiling\u001b[22m\u001b[39m project...\n",
      "\u001b[32m  ✓ \u001b[39m\u001b[90mMyterialColors\u001b[39m\n",
      "\u001b[32m  ✓ \u001b[39m\u001b[90mHTML_Entities\u001b[39m\n",
      "\u001b[32m  ✓ \u001b[39m\u001b[90mLLVMOpenMP_jll\u001b[39m\n",
      "\u001b[32m  ✓ \u001b[39m\u001b[90mProgressLogging\u001b[39m\n",
      "\u001b[32m  ✓ \u001b[39m\u001b[90mBFloat16s\u001b[39m\n",
      "\u001b[32m  ✓ \u001b[39m\u001b[90mSparseMatricesCSR\u001b[39m\n",
      "\u001b[32m  ✓ \u001b[39m\u001b[90mAbstractTrees\u001b[39m\n",
      "\u001b[32m  ✓ \u001b[39m\u001b[90mLLVMExtra_jll\u001b[39m\n",
      "\u001b[32m  ✓ \u001b[39m\u001b[90mCodeTracking\u001b[39m\n",
      "\u001b[32m  ✓ \u001b[39m\u001b[90mStructTypes\u001b[39m\n",
      "\u001b[32m  ✓ \u001b[39m\u001b[90mXGBoost_jll\u001b[39m\n",
      "\u001b[32m  ✓ \u001b[39m\u001b[90mTimerOutputs\u001b[39m\n",
      "\u001b[32m  ✓ \u001b[39m\u001b[90mDataDeps\u001b[39m\n",
      "\u001b[32m  ✓ \u001b[39m\u001b[90mWordTokenizers\u001b[39m\n",
      "\u001b[32m  ✓ \u001b[39m\u001b[90mHighlights\u001b[39m\n",
      "\u001b[32m  ✓ \u001b[39m\u001b[90mJSON3\u001b[39m\n",
      "\u001b[32m  ✓ \u001b[39m\u001b[90mLLVM\u001b[39m\n",
      "\u001b[32m  ✓ \u001b[39m\u001b[90mGPUArrays\u001b[39m\n",
      "\u001b[32m  ✓ \u001b[39m\u001b[90mTerm\u001b[39m\n",
      "\u001b[32m  ✓ \u001b[39m\u001b[90mGPUCompiler\u001b[39m\n",
      "\u001b[32m  ✓ \u001b[39m\u001b[90mCUDA\u001b[39m\n",
      "\u001b[32m  ✓ \u001b[39m\u001b[90mXGBoost\u001b[39m\n"
     ]
    },
    {
     "name": "stdout",
     "output_type": "stream",
     "text": [
      "import MLJXGBoostInterface ✔"
     ]
    },
    {
     "name": "stderr",
     "output_type": "stream",
     "text": [
      "\u001b[32m  ✓ \u001b[39mMLJXGBoostInterface\n",
      "  23 dependencies successfully precompiled in 43 seconds. 122 already precompiled.\n"
     ]
    },
    {
     "name": "stdout",
     "output_type": "stream",
     "text": [
      "\n"
     ]
    },
    {
     "data": {
      "text/plain": [
       "MLJXGBoostInterface.XGBoostClassifier"
      ]
     },
     "execution_count": 16,
     "metadata": {},
     "output_type": "execute_result"
    }
   ],
   "source": [
    "XGBoost = @load XGBoostClassifier add=true"
   ]
  },
  {
   "cell_type": "code",
   "execution_count": 17,
   "id": "cfbcaa10",
   "metadata": {
    "ExecuteTime": {
     "end_time": "2023-01-28T21:54:48.963000+09:00",
     "start_time": "2023-01-28T12:54:48.865Z"
    }
   },
   "outputs": [],
   "source": [
    "model = XGBoost();"
   ]
  },
  {
   "cell_type": "code",
   "execution_count": 18,
   "id": "63e8c335",
   "metadata": {
    "ExecuteTime": {
     "end_time": "2023-01-28T21:54:50.782000+09:00",
     "start_time": "2023-01-28T12:54:49.853Z"
    }
   },
   "outputs": [
    {
     "data": {
      "text/plain": [
       "untrained Machine; caches model-specific representations of data\n",
       "  model: XGBoostClassifier(test = 1, …)\n",
       "  args: \n",
       "    1:\tSource @166 ⏎ Table{AbstractVector{Continuous}}\n",
       "    2:\tSource @236 ⏎ AbstractVector{Multiclass{3}}\n"
      ]
     },
     "execution_count": 18,
     "metadata": {},
     "output_type": "execute_result"
    }
   ],
   "source": [
    "mach = machine(model, X, y)"
   ]
  },
  {
   "cell_type": "markdown",
   "id": "110ad662",
   "metadata": {},
   "source": [
    "### コード13-7. `MLJ.jl` の使用例(5)：学習"
   ]
  },
  {
   "cell_type": "code",
   "execution_count": 19,
   "id": "dd87d70e",
   "metadata": {
    "ExecuteTime": {
     "end_time": "2023-01-28T21:54:57.966000+09:00",
     "start_time": "2023-01-28T12:54:57.939Z"
    }
   },
   "outputs": [],
   "source": [
    "train_rows, test_rows = partition(eachindex(y), 0.7);"
   ]
  },
  {
   "cell_type": "code",
   "execution_count": 20,
   "id": "4b61fe9d",
   "metadata": {
    "ExecuteTime": {
     "end_time": "2023-01-28T21:55:11.808000+09:00",
     "start_time": "2023-01-28T12:55:06.009Z"
    }
   },
   "outputs": [
    {
     "name": "stderr",
     "output_type": "stream",
     "text": [
      "\u001b[36m\u001b[1m[ \u001b[22m\u001b[39m\u001b[36m\u001b[1mInfo: \u001b[22m\u001b[39mTraining machine(XGBoostClassifier(test = 1, …), …).\n",
      "\u001b[36m\u001b[1m[ \u001b[22m\u001b[39m\u001b[36m\u001b[1mInfo: \u001b[22m\u001b[39mXGBoost: starting training.\n",
      "\u001b[36m\u001b[1m[ \u001b[22m\u001b[39m\u001b[36m\u001b[1mInfo: \u001b[22m\u001b[39m[1]\ttrain-mlogloss:0.74236643030529925\n",
      "\u001b[36m\u001b[1m[ \u001b[22m\u001b[39m\u001b[36m\u001b[1mInfo: \u001b[22m\u001b[39m[2]\ttrain-mlogloss:0.53404584782464160\n",
      "\u001b[36m\u001b[1m[ \u001b[22m\u001b[39m\u001b[36m\u001b[1mInfo: \u001b[22m\u001b[39m[3]\ttrain-mlogloss:0.39815135541416352\n",
      "\u001b[36m\u001b[1m[ \u001b[22m\u001b[39m\u001b[36m\u001b[1mInfo: \u001b[22m\u001b[39m[4]\ttrain-mlogloss:0.30412145115080336\n",
      "\u001b[36m\u001b[1m[ \u001b[22m\u001b[39m\u001b[36m\u001b[1mInfo: \u001b[22m\u001b[39m[5]\ttrain-mlogloss:0.23772683753853752\n",
      "\u001b[36m\u001b[1m[ \u001b[22m\u001b[39m\u001b[36m\u001b[1mInfo: \u001b[22m\u001b[39m[6]\ttrain-mlogloss:0.18781254617940812\n",
      "\u001b[36m\u001b[1m[ \u001b[22m\u001b[39m\u001b[36m\u001b[1mInfo: \u001b[22m\u001b[39m[7]\ttrain-mlogloss:0.15119850004003160\n",
      "\u001b[36m\u001b[1m[ \u001b[22m\u001b[39m\u001b[36m\u001b[1mInfo: \u001b[22m\u001b[39m[8]\ttrain-mlogloss:0.12275557759262266\n",
      "\u001b[36m\u001b[1m[ \u001b[22m\u001b[39m\u001b[36m\u001b[1mInfo: \u001b[22m\u001b[39m[9]\ttrain-mlogloss:0.10155639421372187\n",
      "\u001b[36m\u001b[1m[ \u001b[22m\u001b[39m\u001b[36m\u001b[1mInfo: \u001b[22m\u001b[39m[10]\ttrain-mlogloss:0.08566640257125809\n",
      "\u001b[36m\u001b[1m[ \u001b[22m\u001b[39m\u001b[36m\u001b[1mInfo: \u001b[22m\u001b[39m[11]\ttrain-mlogloss:0.07383709560547556\n",
      "\u001b[36m\u001b[1m[ \u001b[22m\u001b[39m\u001b[36m\u001b[1mInfo: \u001b[22m\u001b[39m[12]\ttrain-mlogloss:0.06473605664713042\n",
      "\u001b[36m\u001b[1m[ \u001b[22m\u001b[39m\u001b[36m\u001b[1mInfo: \u001b[22m\u001b[39m[13]\ttrain-mlogloss:0.05747934084917818\n",
      "\u001b[36m\u001b[1m[ \u001b[22m\u001b[39m\u001b[36m\u001b[1mInfo: \u001b[22m\u001b[39m[14]\ttrain-mlogloss:0.05144632662690821\n",
      "\u001b[36m\u001b[1m[ \u001b[22m\u001b[39m\u001b[36m\u001b[1mInfo: \u001b[22m\u001b[39m[15]\ttrain-mlogloss:0.04667138153953212\n",
      "\u001b[36m\u001b[1m[ \u001b[22m\u001b[39m\u001b[36m\u001b[1mInfo: \u001b[22m\u001b[39m[16]\ttrain-mlogloss:0.04258206866326786\n",
      "\u001b[36m\u001b[1m[ \u001b[22m\u001b[39m\u001b[36m\u001b[1mInfo: \u001b[22m\u001b[39m[17]\ttrain-mlogloss:0.03968481321242594\n",
      "\u001b[36m\u001b[1m[ \u001b[22m\u001b[39m\u001b[36m\u001b[1mInfo: \u001b[22m\u001b[39m[18]\ttrain-mlogloss:0.03671442241895766\n",
      "\u001b[36m\u001b[1m[ \u001b[22m\u001b[39m\u001b[36m\u001b[1mInfo: \u001b[22m\u001b[39m[19]\ttrain-mlogloss:0.03454239003892456\n",
      "\u001b[36m\u001b[1m[ \u001b[22m\u001b[39m\u001b[36m\u001b[1mInfo: \u001b[22m\u001b[39m[20]\ttrain-mlogloss:0.03341080024838448\n",
      "\u001b[36m\u001b[1m[ \u001b[22m\u001b[39m\u001b[36m\u001b[1mInfo: \u001b[22m\u001b[39m[21]\ttrain-mlogloss:0.03242094481275195\n",
      "\u001b[36m\u001b[1m[ \u001b[22m\u001b[39m\u001b[36m\u001b[1mInfo: \u001b[22m\u001b[39m[22]\ttrain-mlogloss:0.03153616189069691\n",
      "\u001b[36m\u001b[1m[ \u001b[22m\u001b[39m\u001b[36m\u001b[1mInfo: \u001b[22m\u001b[39m[23]\ttrain-mlogloss:0.03079337481231917\n",
      "\u001b[36m\u001b[1m[ \u001b[22m\u001b[39m\u001b[36m\u001b[1mInfo: \u001b[22m\u001b[39m[24]\ttrain-mlogloss:0.03001637875678993\n",
      "\u001b[36m\u001b[1m[ \u001b[22m\u001b[39m\u001b[36m\u001b[1mInfo: \u001b[22m\u001b[39m[25]\ttrain-mlogloss:0.02925413012327183\n",
      "\u001b[36m\u001b[1m[ \u001b[22m\u001b[39m\u001b[36m\u001b[1mInfo: \u001b[22m\u001b[39m[26]\ttrain-mlogloss:0.02868140807730101\n",
      "\u001b[36m\u001b[1m[ \u001b[22m\u001b[39m\u001b[36m\u001b[1mInfo: \u001b[22m\u001b[39m[27]\ttrain-mlogloss:0.02805117549197305\n",
      "\u001b[36m\u001b[1m[ \u001b[22m\u001b[39m\u001b[36m\u001b[1mInfo: \u001b[22m\u001b[39m[28]\ttrain-mlogloss:0.02756103642196173\n",
      "\u001b[36m\u001b[1m[ \u001b[22m\u001b[39m\u001b[36m\u001b[1mInfo: \u001b[22m\u001b[39m[29]\ttrain-mlogloss:0.02709409026429057\n",
      "\u001b[36m\u001b[1m[ \u001b[22m\u001b[39m\u001b[36m\u001b[1mInfo: \u001b[22m\u001b[39m[30]\ttrain-mlogloss:0.02679430823773146\n",
      "\u001b[36m\u001b[1m[ \u001b[22m\u001b[39m\u001b[36m\u001b[1mInfo: \u001b[22m\u001b[39m[31]\ttrain-mlogloss:0.02623389981953161\n",
      "\u001b[36m\u001b[1m[ \u001b[22m\u001b[39m\u001b[36m\u001b[1mInfo: \u001b[22m\u001b[39m[32]\ttrain-mlogloss:0.02605568255253491\n",
      "\u001b[36m\u001b[1m[ \u001b[22m\u001b[39m\u001b[36m\u001b[1mInfo: \u001b[22m\u001b[39m[33]\ttrain-mlogloss:0.02564509623639641\n",
      "\u001b[36m\u001b[1m[ \u001b[22m\u001b[39m\u001b[36m\u001b[1mInfo: \u001b[22m\u001b[39m[34]\ttrain-mlogloss:0.02533629703823300\n",
      "\u001b[36m\u001b[1m[ \u001b[22m\u001b[39m\u001b[36m\u001b[1mInfo: \u001b[22m\u001b[39m[35]\ttrain-mlogloss:0.02508336334888424\n",
      "\u001b[36m\u001b[1m[ \u001b[22m\u001b[39m\u001b[36m\u001b[1mInfo: \u001b[22m\u001b[39m[36]\ttrain-mlogloss:0.02476664317683095\n",
      "\u001b[36m\u001b[1m[ \u001b[22m\u001b[39m\u001b[36m\u001b[1mInfo: \u001b[22m\u001b[39m[37]\ttrain-mlogloss:0.02460928964206860\n",
      "\u001b[36m\u001b[1m[ \u001b[22m\u001b[39m\u001b[36m\u001b[1mInfo: \u001b[22m\u001b[39m[38]\ttrain-mlogloss:0.02439942949761947\n",
      "\u001b[36m\u001b[1m[ \u001b[22m\u001b[39m\u001b[36m\u001b[1mInfo: \u001b[22m\u001b[39m[39]\ttrain-mlogloss:0.02404472840772498\n",
      "\u001b[36m\u001b[1m[ \u001b[22m\u001b[39m\u001b[36m\u001b[1mInfo: \u001b[22m\u001b[39m[40]\ttrain-mlogloss:0.02391445808822201\n",
      "\u001b[36m\u001b[1m[ \u001b[22m\u001b[39m\u001b[36m\u001b[1mInfo: \u001b[22m\u001b[39m[41]\ttrain-mlogloss:0.02365484762315949\n",
      "\u001b[36m\u001b[1m[ \u001b[22m\u001b[39m\u001b[36m\u001b[1mInfo: \u001b[22m\u001b[39m[42]\ttrain-mlogloss:0.02347592122498013\n",
      "\u001b[36m\u001b[1m[ \u001b[22m\u001b[39m\u001b[36m\u001b[1mInfo: \u001b[22m\u001b[39m[43]\ttrain-mlogloss:0.02334179625447307\n",
      "\u001b[36m\u001b[1m[ \u001b[22m\u001b[39m\u001b[36m\u001b[1mInfo: \u001b[22m\u001b[39m[44]\ttrain-mlogloss:0.02317584120624122\n",
      "\u001b[36m\u001b[1m[ \u001b[22m\u001b[39m\u001b[36m\u001b[1mInfo: \u001b[22m\u001b[39m[45]\ttrain-mlogloss:0.02304518142981189\n",
      "\u001b[36m\u001b[1m[ \u001b[22m\u001b[39m\u001b[36m\u001b[1mInfo: \u001b[22m\u001b[39m[46]\ttrain-mlogloss:0.02288702763617039\n",
      "\u001b[36m\u001b[1m[ \u001b[22m\u001b[39m\u001b[36m\u001b[1mInfo: \u001b[22m\u001b[39m[47]\ttrain-mlogloss:0.02276917189537060\n",
      "\u001b[36m\u001b[1m[ \u001b[22m\u001b[39m\u001b[36m\u001b[1mInfo: \u001b[22m\u001b[39m[48]\ttrain-mlogloss:0.02261495011902991\n",
      "\u001b[36m\u001b[1m[ \u001b[22m\u001b[39m\u001b[36m\u001b[1mInfo: \u001b[22m\u001b[39m[49]\ttrain-mlogloss:0.02249724249399844\n",
      "\u001b[36m\u001b[1m[ \u001b[22m\u001b[39m\u001b[36m\u001b[1mInfo: \u001b[22m\u001b[39m[50]\ttrain-mlogloss:0.02238616413835968\n",
      "\u001b[36m\u001b[1m[ \u001b[22m\u001b[39m\u001b[36m\u001b[1mInfo: \u001b[22m\u001b[39m[51]\ttrain-mlogloss:0.02227529391557688\n",
      "\u001b[36m\u001b[1m[ \u001b[22m\u001b[39m\u001b[36m\u001b[1mInfo: \u001b[22m\u001b[39m[52]\ttrain-mlogloss:0.02216464466459694\n",
      "\u001b[36m\u001b[1m[ \u001b[22m\u001b[39m\u001b[36m\u001b[1mInfo: \u001b[22m\u001b[39m[53]\ttrain-mlogloss:0.02205868046287270\n",
      "\u001b[36m\u001b[1m[ \u001b[22m\u001b[39m\u001b[36m\u001b[1mInfo: \u001b[22m\u001b[39m[54]\ttrain-mlogloss:0.02195762557731498\n",
      "\u001b[36m\u001b[1m[ \u001b[22m\u001b[39m\u001b[36m\u001b[1mInfo: \u001b[22m\u001b[39m[55]\ttrain-mlogloss:0.02184596445766233\n",
      "\u001b[36m\u001b[1m[ \u001b[22m\u001b[39m\u001b[36m\u001b[1mInfo: \u001b[22m\u001b[39m[56]\ttrain-mlogloss:0.02174558401152137\n",
      "\u001b[36m\u001b[1m[ \u001b[22m\u001b[39m\u001b[36m\u001b[1mInfo: \u001b[22m\u001b[39m[57]\ttrain-mlogloss:0.02164023516123139\n",
      "\u001b[36m\u001b[1m[ \u001b[22m\u001b[39m\u001b[36m\u001b[1mInfo: \u001b[22m\u001b[39m[58]\ttrain-mlogloss:0.02154313948315879\n",
      "\u001b[36m\u001b[1m[ \u001b[22m\u001b[39m\u001b[36m\u001b[1mInfo: \u001b[22m\u001b[39m[59]\ttrain-mlogloss:0.02144368422616805\n",
      "\u001b[36m\u001b[1m[ \u001b[22m\u001b[39m\u001b[36m\u001b[1mInfo: \u001b[22m\u001b[39m[60]\ttrain-mlogloss:0.02134634052580666\n",
      "\u001b[36m\u001b[1m[ \u001b[22m\u001b[39m\u001b[36m\u001b[1mInfo: \u001b[22m\u001b[39m[61]\ttrain-mlogloss:0.02125036347258304\n",
      "\u001b[36m\u001b[1m[ \u001b[22m\u001b[39m\u001b[36m\u001b[1mInfo: \u001b[22m\u001b[39m[62]\ttrain-mlogloss:0.02116312636949477\n",
      "\u001b[36m\u001b[1m[ \u001b[22m\u001b[39m\u001b[36m\u001b[1mInfo: \u001b[22m\u001b[39m[63]\ttrain-mlogloss:0.02106508595780248\n",
      "\u001b[36m\u001b[1m[ \u001b[22m\u001b[39m\u001b[36m\u001b[1mInfo: \u001b[22m\u001b[39m[64]\ttrain-mlogloss:0.02097380423164439\n",
      "\u001b[36m\u001b[1m[ \u001b[22m\u001b[39m\u001b[36m\u001b[1mInfo: \u001b[22m\u001b[39m[65]\ttrain-mlogloss:0.02088050386602325\n",
      "\u001b[36m\u001b[1m[ \u001b[22m\u001b[39m\u001b[36m\u001b[1mInfo: \u001b[22m\u001b[39m[66]\ttrain-mlogloss:0.02079015869115080\n",
      "\u001b[36m\u001b[1m[ \u001b[22m\u001b[39m\u001b[36m\u001b[1mInfo: \u001b[22m\u001b[39m[67]\ttrain-mlogloss:0.02070458710548424\n",
      "\u001b[36m\u001b[1m[ \u001b[22m\u001b[39m\u001b[36m\u001b[1mInfo: \u001b[22m\u001b[39m[68]\ttrain-mlogloss:0.02062484595392431\n",
      "\u001b[36m\u001b[1m[ \u001b[22m\u001b[39m\u001b[36m\u001b[1mInfo: \u001b[22m\u001b[39m[69]\ttrain-mlogloss:0.02055370340434214\n",
      "\u001b[36m\u001b[1m[ \u001b[22m\u001b[39m\u001b[36m\u001b[1mInfo: \u001b[22m\u001b[39m[70]\ttrain-mlogloss:0.02047574154234358\n",
      "\u001b[36m\u001b[1m[ \u001b[22m\u001b[39m\u001b[36m\u001b[1mInfo: \u001b[22m\u001b[39m[71]\ttrain-mlogloss:0.02040159371681511\n",
      "\u001b[36m\u001b[1m[ \u001b[22m\u001b[39m\u001b[36m\u001b[1mInfo: \u001b[22m\u001b[39m[72]\ttrain-mlogloss:0.02033407035106350\n",
      "\u001b[36m\u001b[1m[ \u001b[22m\u001b[39m\u001b[36m\u001b[1mInfo: \u001b[22m\u001b[39m[73]\ttrain-mlogloss:0.02026235820681211\n",
      "\u001b[36m\u001b[1m[ \u001b[22m\u001b[39m\u001b[36m\u001b[1mInfo: \u001b[22m\u001b[39m[74]\ttrain-mlogloss:0.02019767279603651\n",
      "\u001b[36m\u001b[1m[ \u001b[22m\u001b[39m\u001b[36m\u001b[1mInfo: \u001b[22m\u001b[39m[75]\ttrain-mlogloss:0.02012984831817448\n",
      "\u001b[36m\u001b[1m[ \u001b[22m\u001b[39m\u001b[36m\u001b[1mInfo: \u001b[22m\u001b[39m[76]\ttrain-mlogloss:0.02006460208490136\n",
      "\u001b[36m\u001b[1m[ \u001b[22m\u001b[39m\u001b[36m\u001b[1mInfo: \u001b[22m\u001b[39m[77]\ttrain-mlogloss:0.02000204347118380\n",
      "\u001b[36m\u001b[1m[ \u001b[22m\u001b[39m\u001b[36m\u001b[1mInfo: \u001b[22m\u001b[39m[78]\ttrain-mlogloss:0.01993965800585491\n",
      "\u001b[36m\u001b[1m[ \u001b[22m\u001b[39m\u001b[36m\u001b[1mInfo: \u001b[22m\u001b[39m[79]\ttrain-mlogloss:0.01987542166773762\n",
      "\u001b[36m\u001b[1m[ \u001b[22m\u001b[39m\u001b[36m\u001b[1mInfo: \u001b[22m\u001b[39m[80]\ttrain-mlogloss:0.01981434522950578\n",
      "\u001b[36m\u001b[1m[ \u001b[22m\u001b[39m\u001b[36m\u001b[1mInfo: \u001b[22m\u001b[39m[81]\ttrain-mlogloss:0.01975710889590638\n",
      "\u001b[36m\u001b[1m[ \u001b[22m\u001b[39m\u001b[36m\u001b[1mInfo: \u001b[22m\u001b[39m[82]\ttrain-mlogloss:0.01969675864536493\n",
      "\u001b[36m\u001b[1m[ \u001b[22m\u001b[39m\u001b[36m\u001b[1mInfo: \u001b[22m\u001b[39m[83]\ttrain-mlogloss:0.01963739634624549\n",
      "\u001b[36m\u001b[1m[ \u001b[22m\u001b[39m\u001b[36m\u001b[1mInfo: \u001b[22m\u001b[39m[84]\ttrain-mlogloss:0.01958134740679747\n",
      "\u001b[36m\u001b[1m[ \u001b[22m\u001b[39m\u001b[36m\u001b[1mInfo: \u001b[22m\u001b[39m[85]\ttrain-mlogloss:0.01952557186596095\n",
      "\u001b[36m\u001b[1m[ \u001b[22m\u001b[39m\u001b[36m\u001b[1mInfo: \u001b[22m\u001b[39m[86]\ttrain-mlogloss:0.01947369253307226\n",
      "\u001b[36m\u001b[1m[ \u001b[22m\u001b[39m\u001b[36m\u001b[1mInfo: \u001b[22m\u001b[39m[87]\ttrain-mlogloss:0.01941681581638044\n",
      "\u001b[36m\u001b[1m[ \u001b[22m\u001b[39m\u001b[36m\u001b[1mInfo: \u001b[22m\u001b[39m[88]\ttrain-mlogloss:0.01936869196859854\n",
      "\u001b[36m\u001b[1m[ \u001b[22m\u001b[39m\u001b[36m\u001b[1mInfo: \u001b[22m\u001b[39m[89]\ttrain-mlogloss:0.01931315039594968\n",
      "\u001b[36m\u001b[1m[ \u001b[22m\u001b[39m\u001b[36m\u001b[1mInfo: \u001b[22m\u001b[39m[90]\ttrain-mlogloss:0.01926480354519472\n",
      "\u001b[36m\u001b[1m[ \u001b[22m\u001b[39m\u001b[36m\u001b[1mInfo: \u001b[22m\u001b[39m[91]\ttrain-mlogloss:0.01921639526262879\n",
      "\u001b[36m\u001b[1m[ \u001b[22m\u001b[39m\u001b[36m\u001b[1mInfo: \u001b[22m\u001b[39m[92]\ttrain-mlogloss:0.01917189729754769\n",
      "\u001b[36m\u001b[1m[ \u001b[22m\u001b[39m\u001b[36m\u001b[1mInfo: \u001b[22m\u001b[39m[93]\ttrain-mlogloss:0.01912088579764324\n",
      "\u001b[36m\u001b[1m[ \u001b[22m\u001b[39m\u001b[36m\u001b[1mInfo: \u001b[22m\u001b[39m[94]\ttrain-mlogloss:0.01907592549742687\n",
      "\u001b[36m\u001b[1m[ \u001b[22m\u001b[39m\u001b[36m\u001b[1mInfo: \u001b[22m\u001b[39m[95]\ttrain-mlogloss:0.01903315965707103\n",
      "\u001b[36m\u001b[1m[ \u001b[22m\u001b[39m\u001b[36m\u001b[1mInfo: \u001b[22m\u001b[39m[96]\ttrain-mlogloss:0.01899271897439446\n",
      "\u001b[36m\u001b[1m[ \u001b[22m\u001b[39m\u001b[36m\u001b[1mInfo: \u001b[22m\u001b[39m[97]\ttrain-mlogloss:0.01895192984846376\n",
      "\u001b[36m\u001b[1m[ \u001b[22m\u001b[39m\u001b[36m\u001b[1mInfo: \u001b[22m\u001b[39m[98]\ttrain-mlogloss:0.01891328799981801\n",
      "\u001b[36m\u001b[1m[ \u001b[22m\u001b[39m\u001b[36m\u001b[1mInfo: \u001b[22m\u001b[39m[99]\ttrain-mlogloss:0.01887650749912219\n",
      "\u001b[36m\u001b[1m[ \u001b[22m\u001b[39m\u001b[36m\u001b[1mInfo: \u001b[22m\u001b[39m[100]\ttrain-mlogloss:0.01884149584608773\n",
      "\u001b[36m\u001b[1m[ \u001b[22m\u001b[39m\u001b[36m\u001b[1mInfo: \u001b[22m\u001b[39mTraining rounds complete.\n"
     ]
    },
    {
     "data": {
      "text/plain": [
       "trained Machine; caches model-specific representations of data\n",
       "  model: XGBoostClassifier(test = 1, …)\n",
       "  args: \n",
       "    1:\tSource @166 ⏎ Table{AbstractVector{Continuous}}\n",
       "    2:\tSource @236 ⏎ AbstractVector{Multiclass{3}}\n"
      ]
     },
     "execution_count": 20,
     "metadata": {},
     "output_type": "execute_result"
    }
   ],
   "source": [
    "fit!(mach, rows=train_rows)"
   ]
  },
  {
   "cell_type": "markdown",
   "id": "c7b58cf0",
   "metadata": {},
   "source": [
    "### コード13-8. `MLJ.jl` の使用例(6)：推測、評価（エントロピー、正解率）"
   ]
  },
  {
   "cell_type": "code",
   "execution_count": 21,
   "id": "9192a672",
   "metadata": {
    "ExecuteTime": {
     "end_time": "2023-01-28T21:55:39.572000+09:00",
     "start_time": "2023-01-28T12:55:33.089Z"
    }
   },
   "outputs": [
    {
     "data": {
      "text/plain": [
       "45-element CategoricalDistributions.UnivariateFiniteVector{Multiclass{3}, String, UInt32, Float32}:\n",
       " UnivariateFinite{Multiclass{3}}(setosa=>0.00219, versicolor=>0.997, virginica=>0.000805)\n",
       " UnivariateFinite{Multiclass{3}}(setosa=>0.00755, versicolor=>0.989, virginica=>0.00295)\n",
       " UnivariateFinite{Multiclass{3}}(setosa=>0.014, versicolor=>0.973, virginica=>0.0131)\n",
       " UnivariateFinite{Multiclass{3}}(setosa=>0.00379, versicolor=>0.985, virginica=>0.0107)\n",
       " UnivariateFinite{Multiclass{3}}(setosa=>0.995, versicolor=>0.00368, virginica=>0.00114)\n",
       " UnivariateFinite{Multiclass{3}}(setosa=>0.995, versicolor=>0.00368, virginica=>0.00114)\n",
       " UnivariateFinite{Multiclass{3}}(setosa=>0.995, versicolor=>0.00368, virginica=>0.00114)\n",
       " UnivariateFinite{Multiclass{3}}(setosa=>0.991, versicolor=>0.00771, virginica=>0.00114)\n",
       " UnivariateFinite{Multiclass{3}}(setosa=>0.00329, versicolor=>0.994, virginica=>0.00232)\n",
       " UnivariateFinite{Multiclass{3}}(setosa=>0.00251, versicolor=>0.0685, virginica=>0.929)\n",
       " UnivariateFinite{Multiclass{3}}(setosa=>0.00071, versicolor=>0.00473, virginica=>0.995)\n",
       " UnivariateFinite{Multiclass{3}}(setosa=>0.000971, versicolor=>0.0023, virginica=>0.997)\n",
       " UnivariateFinite{Multiclass{3}}(setosa=>0.000971, versicolor=>0.0023, virginica=>0.997)\n",
       " ⋮\n",
       " UnivariateFinite{Multiclass{3}}(setosa=>0.00624, versicolor=>0.99, virginica=>0.00354)\n",
       " UnivariateFinite{Multiclass{3}}(setosa=>0.00589, versicolor=>0.99, virginica=>0.00368)\n",
       " UnivariateFinite{Multiclass{3}}(setosa=>0.000972, versicolor=>0.00171, virginica=>0.997)\n",
       " UnivariateFinite{Multiclass{3}}(setosa=>0.995, versicolor=>0.00368, virginica=>0.00114)\n",
       " UnivariateFinite{Multiclass{3}}(setosa=>0.995, versicolor=>0.00368, virginica=>0.00114)\n",
       " UnivariateFinite{Multiclass{3}}(setosa=>0.000971, versicolor=>0.0023, virginica=>0.997)\n",
       " UnivariateFinite{Multiclass{3}}(setosa=>0.000971, versicolor=>0.0023, virginica=>0.997)\n",
       " UnivariateFinite{Multiclass{3}}(setosa=>0.00193, versicolor=>0.993, virginica=>0.0046)\n",
       " UnivariateFinite{Multiclass{3}}(setosa=>0.000672, versicolor=>0.00159, virginica=>0.998)\n",
       " UnivariateFinite{Multiclass{3}}(setosa=>0.000971, versicolor=>0.0023, virginica=>0.997)\n",
       " UnivariateFinite{Multiclass{3}}(setosa=>0.00364, versicolor=>0.99, virginica=>0.0065)\n",
       " UnivariateFinite{Multiclass{3}}(setosa=>0.995, versicolor=>0.00368, virginica=>0.00114)"
      ]
     },
     "execution_count": 21,
     "metadata": {},
     "output_type": "execute_result"
    }
   ],
   "source": [
    "ŷ = predict(mach, selectrows(X, test_rows))"
   ]
  },
  {
   "cell_type": "code",
   "execution_count": 22,
   "id": "9c453c1a",
   "metadata": {
    "ExecuteTime": {
     "end_time": "2023-01-28T21:55:45.002000+09:00",
     "start_time": "2023-01-28T12:55:44.746Z"
    }
   },
   "outputs": [
    {
     "data": {
      "text/plain": [
       "0.10893472f0"
      ]
     },
     "execution_count": 22,
     "metadata": {},
     "output_type": "execute_result"
    }
   ],
   "source": [
    "log_loss(ŷ, y[test_rows]) |> mean"
   ]
  },
  {
   "cell_type": "code",
   "execution_count": 23,
   "id": "89afe25e",
   "metadata": {
    "ExecuteTime": {
     "end_time": "2023-01-28T21:55:52.920000+09:00",
     "start_time": "2023-01-28T12:55:52.673Z"
    }
   },
   "outputs": [
    {
     "data": {
      "text/plain": [
       "45-element CategoricalArrays.CategoricalArray{String,1,UInt32}:\n",
       " \"versicolor\"\n",
       " \"versicolor\"\n",
       " \"versicolor\"\n",
       " \"versicolor\"\n",
       " \"setosa\"\n",
       " \"setosa\"\n",
       " \"setosa\"\n",
       " \"setosa\"\n",
       " \"versicolor\"\n",
       " \"virginica\"\n",
       " \"virginica\"\n",
       " \"virginica\"\n",
       " \"virginica\"\n",
       " ⋮\n",
       " \"versicolor\"\n",
       " \"versicolor\"\n",
       " \"virginica\"\n",
       " \"setosa\"\n",
       " \"setosa\"\n",
       " \"virginica\"\n",
       " \"virginica\"\n",
       " \"versicolor\"\n",
       " \"virginica\"\n",
       " \"virginica\"\n",
       " \"versicolor\"\n",
       " \"setosa\""
      ]
     },
     "execution_count": 23,
     "metadata": {},
     "output_type": "execute_result"
    }
   ],
   "source": [
    "mode.(ŷ)"
   ]
  },
  {
   "cell_type": "code",
   "execution_count": 24,
   "id": "bec858c0",
   "metadata": {
    "ExecuteTime": {
     "end_time": "2023-01-28T21:56:07.461000+09:00",
     "start_time": "2023-01-28T12:56:07.236Z"
    }
   },
   "outputs": [
    {
     "data": {
      "text/plain": [
       "0.9555555555555556"
      ]
     },
     "execution_count": 24,
     "metadata": {},
     "output_type": "execute_result"
    }
   ],
   "source": [
    "# accuracy(ŷ, y[test_rows])  # ←NG\n",
    "accuracy(mode.(ŷ), y[test_rows])"
   ]
  },
  {
   "cell_type": "markdown",
   "id": "32fcb20f",
   "metadata": {},
   "source": [
    "### コード13-9. `MLJ.jl` の使用例(7)：評価（混同行列、マクロ平均F値）"
   ]
  },
  {
   "cell_type": "code",
   "execution_count": 25,
   "id": "7e387e59",
   "metadata": {
    "ExecuteTime": {
     "end_time": "2023-01-28T21:56:41.966000+09:00",
     "start_time": "2023-01-28T12:56:41.295Z"
    }
   },
   "outputs": [
    {
     "data": {
      "text/plain": [
       "              ┌─────────────────────────────────────────┐\n",
       "              │              Ground Truth               │\n",
       "┌─────────────┼─────────────┬─────────────┬─────────────┤\n",
       "│  Predicted  │   setosa    │  versicol…  │  virginica  │\n",
       "├─────────────┼─────────────┼─────────────┼─────────────┤\n",
       "│   setosa    │     12      │      0      │      0      │\n",
       "├─────────────┼─────────────┼─────────────┼─────────────┤\n",
       "│  versicol…  │      0      │     15      │      1      │\n",
       "├─────────────┼─────────────┼─────────────┼─────────────┤\n",
       "│  virginica  │      0      │      1      │     16      │\n",
       "└─────────────┴─────────────┴─────────────┴─────────────┘\n"
      ]
     },
     "execution_count": 25,
     "metadata": {},
     "output_type": "execute_result"
    }
   ],
   "source": [
    "# cfm = confusion_matrix(mode.(ŷ), y[test_rows])  # ←警告が出る\n",
    "cfm = confusion_matrix(mode.(ŷ), coerce(y[test_rows], OrderedFactor))"
   ]
  },
  {
   "cell_type": "code",
   "execution_count": 26,
   "id": "7c1dd849",
   "metadata": {
    "ExecuteTime": {
     "end_time": "2023-01-28T21:56:49.196000+09:00",
     "start_time": "2023-01-28T12:56:48.689Z"
    }
   },
   "outputs": [
    {
     "data": {
      "text/plain": [
       "3×3 Matrix{Int64}:\n",
       " 12   0   0\n",
       "  0  15   1\n",
       "  0   1  16"
      ]
     },
     "execution_count": 26,
     "metadata": {},
     "output_type": "execute_result"
    }
   ],
   "source": [
    "cfm.mat"
   ]
  },
  {
   "cell_type": "code",
   "execution_count": 27,
   "id": "17f74453",
   "metadata": {
    "ExecuteTime": {
     "end_time": "2023-01-28T21:57:04.069000+09:00",
     "start_time": "2023-01-28T12:57:04.024Z"
    }
   },
   "outputs": [
    {
     "data": {
      "text/plain": [
       "fscoreM (generic function with 1 method)"
      ]
     },
     "execution_count": 27,
     "metadata": {},
     "output_type": "execute_result"
    }
   ],
   "source": [
    "fscoreM(ŷ::AbstractVector{<:UnivariateFinite}, y) = fscoreM(mode.(ŷ), y)"
   ]
  },
  {
   "cell_type": "code",
   "execution_count": 28,
   "id": "75a84fe9",
   "metadata": {
    "ExecuteTime": {
     "end_time": "2023-01-28T21:57:47.653000+09:00",
     "start_time": "2023-01-28T12:57:47.815Z"
    }
   },
   "outputs": [
    {
     "data": {
      "text/plain": [
       "fscoreM (generic function with 2 methods)"
      ]
     },
     "execution_count": 28,
     "metadata": {},
     "output_type": "execute_result"
    }
   ],
   "source": [
    "function fscoreM(ŷ, y)\n",
    "    cfm = confusion_matrix(ŷ, coerce(y, OrderedFactor))\n",
    "    axis = axes(cfm.mat, 1)\n",
    "    tmp = [\n",
    "        (;\n",
    "            tp=cfm.mat[i, i],\n",
    "            fp=sum(cfm.mat[i, axis.!=i]),\n",
    "            fn=sum(cfm.mat[axis.!=i, i]),\n",
    "            # tn=sum(cfm.mat[axis.!=i, axis.!=i])\n",
    "        )\n",
    "        for i in axis\n",
    "    ]\n",
    "    preM = mean(tp==fp==0 ? 0.0 : tp/float(tp+fp) for (;tp, fp) in tmp)\n",
    "    recM = mean(tp==fn==0 ? 0.0 : tp/float(tp+fn) for (;tp, fn) in tmp)\n",
    "    preM == recM == 0.0 ? 0.0 : 2 * preM * recM / (preM + recM)\n",
    "end"
   ]
  },
  {
   "cell_type": "code",
   "execution_count": 29,
   "id": "de3be315",
   "metadata": {
    "ExecuteTime": {
     "end_time": "2023-01-28T21:57:59.850000+09:00",
     "start_time": "2023-01-28T12:57:59.574Z"
    }
   },
   "outputs": [
    {
     "data": {
      "text/plain": [
       "0.9595588235294118"
      ]
     },
     "execution_count": 29,
     "metadata": {},
     "output_type": "execute_result"
    }
   ],
   "source": [
    "fscoreM(mode.(ŷ), y[test_rows])  # `fscoreM(ŷ, y[test_rows])` でもOK"
   ]
  },
  {
   "cell_type": "markdown",
   "id": "68d6508c",
   "metadata": {},
   "source": [
    "### コード13-10. `MLJ.jl` の使用例(8)：外部データの推測例"
   ]
  },
  {
   "cell_type": "code",
   "execution_count": 30,
   "id": "8e9d871c",
   "metadata": {
    "ExecuteTime": {
     "end_time": "2023-01-28T21:58:39.407000+09:00",
     "start_time": "2023-01-28T12:58:39.347Z"
    }
   },
   "outputs": [
    {
     "data": {
      "text/plain": [
       "(sepal_length = 5.0,\n",
       " sepal_width = 3.0,\n",
       " petal_length = 5.0,\n",
       " petal_width = 2.0,)"
      ]
     },
     "execution_count": 30,
     "metadata": {},
     "output_type": "execute_result"
    }
   ],
   "source": [
    "new_data = (sepal_length=5.0, sepal_width=3.0, petal_length=5.0, petal_width=2.0)"
   ]
  },
  {
   "cell_type": "code",
   "execution_count": 31,
   "id": "9c2732e6",
   "metadata": {
    "ExecuteTime": {
     "end_time": "2023-01-28T21:58:47.515000+09:00",
     "start_time": "2023-01-28T12:58:47.361Z"
    }
   },
   "outputs": [
    {
     "data": {
      "text/plain": [
       "1-element CategoricalDistributions.UnivariateFiniteVector{Multiclass{3}, String, UInt32, Float32}:\n",
       " UnivariateFinite{Multiclass{3}}(setosa=>0.0054, versicolor=>0.0069, virginica=>0.988)"
      ]
     },
     "execution_count": 31,
     "metadata": {},
     "output_type": "execute_result"
    }
   ],
   "source": [
    "predict(mach, DataFrame(;new_data...))"
   ]
  },
  {
   "cell_type": "code",
   "execution_count": 32,
   "id": "57cc2848",
   "metadata": {
    "ExecuteTime": {
     "end_time": "2023-01-28T21:58:54.844000+09:00",
     "start_time": "2023-01-28T12:58:54.925Z"
    }
   },
   "outputs": [
    {
     "data": {
      "text/plain": [
       "1-element CategoricalArrays.CategoricalArray{String,1,UInt32}:\n",
       " \"virginica\""
      ]
     },
     "execution_count": 32,
     "metadata": {},
     "output_type": "execute_result"
    }
   ],
   "source": [
    "predict_mode(mach, DataFrame(;new_data...))"
   ]
  },
  {
   "cell_type": "markdown",
   "id": "b3976e8e",
   "metadata": {},
   "source": [
    "### コード13-11. `MLJ.jl` の使用例(9)：`evaluate()` 関数"
   ]
  },
  {
   "cell_type": "code",
   "execution_count": 33,
   "id": "6b0dd94e",
   "metadata": {
    "ExecuteTime": {
     "end_time": "2023-01-28T21:59:27.996000+09:00",
     "start_time": "2023-01-28T12:59:19.290Z"
    }
   },
   "outputs": [
    {
     "name": "stderr",
     "output_type": "stream",
     "text": [
      "\u001b[33mEvaluating over 6 folds: 100%[=========================] Time: 0:00:02\u001b[39m\n"
     ]
    },
    {
     "data": {
      "text/plain": [
       "PerformanceEvaluation object with these fields:\n",
       "  measure, operation, measurement, per_fold,\n",
       "  per_observation, fitted_params_per_fold,\n",
       "  report_per_fold, train_test_rows\n",
       "Extract:\n",
       "┌───────────────────────────────────────────┬──────────────┬─────────────┬──────\n",
       "│\u001b[22m measure                                   \u001b[0m│\u001b[22m operation    \u001b[0m│\u001b[22m measurement \u001b[0m│\u001b[22m 1.9\u001b[0m ⋯\n",
       "├───────────────────────────────────────────┼──────────────┼─────────────┼──────\n",
       "│ LogLoss(                                  │ predict      │ 0.201       │ 0.1 ⋯\n",
       "│   tol = 2.220446049250313e-16)            │              │             │     ⋯\n",
       "│ Accuracy()                                │ predict_mode │ 0.94        │ N/A ⋯\n",
       "│ fscoreM (generic function with 2 methods) │ predict      │ 0.941       │ N/A ⋯\n",
       "└───────────────────────────────────────────┴──────────────┴─────────────┴──────\n",
       "\u001b[36m                                                               2 columns omitted\u001b[0m\n"
      ]
     },
     "execution_count": 33,
     "metadata": {},
     "output_type": "execute_result"
    }
   ],
   "source": [
    "evaluate(model, X, y; measure=[log_loss, accuracy, fscoreM])"
   ]
  }
 ],
 "metadata": {
  "jupytext": {
   "encoding": "# -*- coding: utf-8 -*-",
   "formats": "ipynb,jl:light"
  },
  "kernelspec": {
   "display_name": "Julia 1.8.5",
   "language": "julia",
   "name": "julia-1.8"
  },
  "language_info": {
   "file_extension": ".jl",
   "mimetype": "application/julia",
   "name": "julia",
   "version": "1.8.5"
  }
 },
 "nbformat": 4,
 "nbformat_minor": 5
}
