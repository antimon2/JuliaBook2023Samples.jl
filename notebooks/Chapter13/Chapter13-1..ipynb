{
 "cells": [
  {
   "cell_type": "code",
   "execution_count": 1,
   "id": "738e575e",
   "metadata": {
    "ExecuteTime": {
     "end_time": "2023-01-28T21:43:23.928000+09:00",
     "start_time": "2023-01-28T12:43:22.657Z"
    }
   },
   "outputs": [
    {
     "name": "stdout",
     "output_type": "stream",
     "text": [
      "Julia Version 1.8.5\n",
      "Commit 17cfb8e65ea (2023-01-08 06:45 UTC)\n",
      "Platform Info:\n",
      "  OS: Linux (x86_64-linux-gnu)\n",
      "  CPU: 12 × Intel(R) Core(TM) i7-9750H CPU @ 2.60GHz\n",
      "  WORD_SIZE: 64\n",
      "  LIBM: libopenlibm\n",
      "  LLVM: libLLVM-13.0.1 (ORCJIT, skylake)\n",
      "  Threads: 1 on 12 virtual cores\n"
     ]
    }
   ],
   "source": [
    "versioninfo()"
   ]
  },
  {
   "cell_type": "markdown",
   "id": "a862da75",
   "metadata": {},
   "source": [
    "## 13-1. Juliaで機械学習"
   ]
  },
  {
   "cell_type": "markdown",
   "id": "152c3093",
   "metadata": {},
   "source": [
    "※ 本文とは環境等を少し変えています（コードはほぼ同一です）"
   ]
  },
  {
   "cell_type": "markdown",
   "id": "55099e97",
   "metadata": {},
   "source": [
    "### コード13-1. 単純な線形回帰の例"
   ]
  },
  {
   "cell_type": "markdown",
   "id": "110ad662",
   "metadata": {},
   "source": [
    "※ 参考: https://github.com/mossr/BeautifulAlgorithms.jl/blob/master/src/linear_regression.jl  \n",
    "　 ↓は↑を少し改変したもの"
   ]
  },
  {
   "cell_type": "code",
   "execution_count": 2,
   "id": "dd87d70e",
   "metadata": {
    "ExecuteTime": {
     "end_time": "2023-01-28T21:45:07.243000+09:00",
     "start_time": "2023-01-28T12:45:06.964Z"
    }
   },
   "outputs": [
    {
     "data": {
      "text/plain": [
       "linear_regression (generic function with 1 method)"
      ]
     },
     "execution_count": 2,
     "metadata": {},
     "output_type": "execute_result"
    }
   ],
   "source": [
    "function linear_regression(X, y)\n",
    "    𝐗 = [ones(eltype(X), size(y)) X]\n",
    "    θ = 𝐗'𝐗\\𝐗'y\n",
    "    return x -> [1;x]'θ\n",
    "end"
   ]
  },
  {
   "cell_type": "code",
   "execution_count": 3,
   "id": "9192a672",
   "metadata": {
    "ExecuteTime": {
     "end_time": "2023-01-28T21:45:45.962000+09:00",
     "start_time": "2023-01-28T12:45:45.706Z"
    }
   },
   "outputs": [],
   "source": [
    "y = Float32.(1:10);\n",
    "x1 = rand(Float32, 10) .* (1:10); X = [x1 ((1:10) .- x1)];"
   ]
  },
  {
   "cell_type": "code",
   "execution_count": 4,
   "id": "9c453c1a",
   "metadata": {
    "ExecuteTime": {
     "end_time": "2023-01-28T21:45:47.552000+09:00",
     "start_time": "2023-01-28T12:45:46.046Z"
    }
   },
   "outputs": [
    {
     "data": {
      "text/plain": [
       "#3 (generic function with 1 method)"
      ]
     },
     "execution_count": 4,
     "metadata": {},
     "output_type": "execute_result"
    }
   ],
   "source": [
    "f = linear_regression(X, y)"
   ]
  },
  {
   "cell_type": "code",
   "execution_count": 5,
   "id": "89afe25e",
   "metadata": {
    "ExecuteTime": {
     "end_time": "2023-01-28T21:45:55.362000+09:00",
     "start_time": "2023-01-28T12:45:54.387Z"
    }
   },
   "outputs": [
    {
     "data": {
      "text/plain": [
       "10-element Vector{Float32}:\n",
       "  2.0000005\n",
       "  4.0\n",
       "  6.0\n",
       "  7.9999995\n",
       " 10.0\n",
       " 11.999998\n",
       " 13.999998\n",
       " 15.999998\n",
       " 17.999998\n",
       " 19.999998"
      ]
     },
     "execution_count": 5,
     "metadata": {},
     "output_type": "execute_result"
    }
   ],
   "source": [
    "[f([v, v]) for v in 1:10]"
   ]
  },
  {
   "cell_type": "code",
   "execution_count": 6,
   "id": "bec858c0",
   "metadata": {
    "ExecuteTime": {
     "end_time": "2023-01-28T21:46:02.437000+09:00",
     "start_time": "2023-01-28T12:46:01.925Z"
    }
   },
   "outputs": [
    {
     "data": {
      "text/plain": [
       "true"
      ]
     },
     "execution_count": 6,
     "metadata": {},
     "output_type": "execute_result"
    }
   ],
   "source": [
    "[f([v, v]) for v in 1:10] ≈ 2:2:20"
   ]
  }
 ],
 "metadata": {
  "jupytext": {
   "formats": "ipynb,auto:light"
  },
  "kernelspec": {
   "display_name": "Julia 1.8.5",
   "language": "julia",
   "name": "julia-1.8"
  },
  "language_info": {
   "file_extension": ".jl",
   "mimetype": "application/julia",
   "name": "julia",
   "version": "1.8.5"
  }
 },
 "nbformat": 4,
 "nbformat_minor": 5
}
