{
 "cells": [
  {
   "cell_type": "code",
   "execution_count": 1,
   "id": "170a385b",
   "metadata": {
    "ExecuteTime": {
     "end_time": "2023-01-27T15:06:35.824000+09:00",
     "start_time": "2023-01-27T06:06:35.290Z"
    }
   },
   "outputs": [
    {
     "name": "stdout",
     "output_type": "stream",
     "text": [
      "Julia Version 1.8.5\n",
      "Commit 17cfb8e65ea (2023-01-08 06:45 UTC)\n",
      "Platform Info:\n",
      "  OS: Linux (x86_64-linux-gnu)\n",
      "  CPU: 12 × Intel(R) Core(TM) i7-9750H CPU @ 2.60GHz\n",
      "  WORD_SIZE: 64\n",
      "  LIBM: libopenlibm\n",
      "  LLVM: libLLVM-13.0.1 (ORCJIT, skylake)\n",
      "  Threads: 1 on 12 virtual cores\n"
     ]
    }
   ],
   "source": [
    "versioninfo()"
   ]
  },
  {
   "cell_type": "markdown",
   "id": "040a5f78",
   "metadata": {},
   "source": [
    "## 8-5. マクロ"
   ]
  },
  {
   "cell_type": "markdown",
   "id": "231091ba",
   "metadata": {},
   "source": [
    "### 8-5-1. Juliaのマクロ呼び出し"
   ]
  },
  {
   "cell_type": "markdown",
   "id": "8670cb3d",
   "metadata": {},
   "source": [
    "#### 仮想コード8-2. マクロ呼び出しの書式"
   ]
  },
  {
   "cell_type": "markdown",
   "id": "f4e7f868",
   "metadata": {},
   "source": [
    "```julia\n",
    "@somemacro0\n",
    "@somemacro0()\n",
    "\n",
    "@somemacro1 《式1》\n",
    "@somemacro1(《式1》)\n",
    "\n",
    "@somemacro2 《式1》 《式2》\n",
    "@somemacro2(《式1》, 《式2》)\n",
    "\n",
    "# :《以下同様》\n",
    "```"
   ]
  },
  {
   "cell_type": "markdown",
   "id": "ba00b256",
   "metadata": {},
   "source": [
    "#### コード8-23. `@__MODULE__` マクロの例"
   ]
  },
  {
   "cell_type": "code",
   "execution_count": 2,
   "id": "7205b90e",
   "metadata": {
    "ExecuteTime": {
     "end_time": "2023-01-27T15:06:36.253000+09:00",
     "start_time": "2023-01-27T06:06:35.296Z"
    }
   },
   "outputs": [
    {
     "data": {
      "text/plain": [
       "Main"
      ]
     },
     "execution_count": 2,
     "metadata": {},
     "output_type": "execute_result"
    }
   ],
   "source": [
    "@__MODULE__"
   ]
  },
  {
   "cell_type": "code",
   "execution_count": 3,
   "id": "252471c6",
   "metadata": {
    "ExecuteTime": {
     "end_time": "2023-01-27T15:06:36.253000+09:00",
     "start_time": "2023-01-27T06:06:35.299Z"
    }
   },
   "outputs": [
    {
     "data": {
      "text/plain": [
       "Main"
      ]
     },
     "execution_count": 3,
     "metadata": {},
     "output_type": "execute_result"
    }
   ],
   "source": [
    "@__MODULE__()"
   ]
  },
  {
   "cell_type": "code",
   "execution_count": 4,
   "id": "7485c000",
   "metadata": {
    "ExecuteTime": {
     "end_time": "2023-01-27T15:06:36.624000+09:00",
     "start_time": "2023-01-27T06:06:35.301Z"
    }
   },
   "outputs": [
    {
     "data": {
      "text/plain": [
       "Int64"
      ]
     },
     "execution_count": 4,
     "metadata": {},
     "output_type": "execute_result"
    }
   ],
   "source": [
    "getproperty(@__MODULE__, :Int)  # OK"
   ]
  },
  {
   "cell_type": "code",
   "execution_count": 5,
   "id": "21a4ba1d",
   "metadata": {
    "ExecuteTime": {
     "end_time": "2023-01-27T15:06:36.625000+09:00",
     "start_time": "2023-01-27T06:06:35.303Z"
    }
   },
   "outputs": [
    {
     "data": {
      "text/plain": [
       "Int64"
      ]
     },
     "execution_count": 5,
     "metadata": {},
     "output_type": "execute_result"
    }
   ],
   "source": [
    "getproperty(@__MODULE__(), :Int)  # これもOK"
   ]
  },
  {
   "cell_type": "code",
   "execution_count": 6,
   "id": "a878c33a",
   "metadata": {
    "ExecuteTime": {
     "end_time": "2023-01-27T15:06:37.272000+09:00",
     "start_time": "2023-01-27T06:06:35.306Z"
    }
   },
   "outputs": [
    {
     "ename": "LoadError",
     "evalue": "syntax: \"===\" is not a unary operator",
     "output_type": "error",
     "traceback": [
      "syntax: \"===\" is not a unary operator",
      "",
      "Stacktrace:",
      " [1] top-level scope",
      "   @ In[6]:1"
     ]
    }
   ],
   "source": [
    "@__MODULE__ === Main  # これはNG"
   ]
  },
  {
   "cell_type": "code",
   "execution_count": 7,
   "id": "874c2f24",
   "metadata": {
    "ExecuteTime": {
     "end_time": "2023-01-27T15:06:37.435000+09:00",
     "start_time": "2023-01-27T06:06:35.308Z"
    }
   },
   "outputs": [
    {
     "data": {
      "text/plain": [
       "true"
      ]
     },
     "execution_count": 7,
     "metadata": {},
     "output_type": "execute_result"
    }
   ],
   "source": [
    "@__MODULE__() === Main  # これならOK"
   ]
  },
  {
   "cell_type": "code",
   "execution_count": 8,
   "id": "32aa03ca",
   "metadata": {
    "ExecuteTime": {
     "end_time": "2023-01-27T15:06:37.435000+09:00",
     "start_time": "2023-01-27T06:06:35.310Z"
    }
   },
   "outputs": [
    {
     "data": {
      "text/plain": [
       "true"
      ]
     },
     "execution_count": 8,
     "metadata": {},
     "output_type": "execute_result"
    }
   ],
   "source": [
    "(@__MODULE__) === Main  # これもOK"
   ]
  },
  {
   "cell_type": "code",
   "execution_count": 9,
   "id": "23634338",
   "metadata": {
    "ExecuteTime": {
     "end_time": "2023-01-27T15:06:37.436000+09:00",
     "start_time": "2023-01-27T06:06:35.312Z"
    }
   },
   "outputs": [
    {
     "data": {
      "text/plain": [
       "true"
      ]
     },
     "execution_count": 9,
     "metadata": {},
     "output_type": "execute_result"
    }
   ],
   "source": [
    "Main === @__MODULE__  # これもOK"
   ]
  },
  {
   "cell_type": "markdown",
   "id": "af1e96a8",
   "metadata": {},
   "source": [
    "#### コード8-24. `@time`/`@timed` マクロの例"
   ]
  },
  {
   "cell_type": "code",
   "execution_count": 10,
   "id": "e44a8889",
   "metadata": {
    "ExecuteTime": {
     "end_time": "2023-01-27T15:06:37.600000+09:00",
     "start_time": "2023-01-27T06:06:35.315Z"
    }
   },
   "outputs": [
    {
     "data": {
      "text/plain": [
       "fib (generic function with 1 method)"
      ]
     },
     "execution_count": 10,
     "metadata": {},
     "output_type": "execute_result"
    }
   ],
   "source": [
    "function fib(n)\n",
    "    if n ≤ 1\n",
    "        n\n",
    "    else\n",
    "        fib(n - 2) + fib(n - 1)\n",
    "    end\n",
    "end"
   ]
  },
  {
   "cell_type": "code",
   "execution_count": 11,
   "id": "b19956c4",
   "metadata": {
    "ExecuteTime": {
     "end_time": "2023-01-27T15:06:38.179000+09:00",
     "start_time": "2023-01-27T06:06:35.317Z"
    }
   },
   "outputs": [
    {
     "name": "stdout",
     "output_type": "stream",
     "text": [
      "  0.388956 seconds\n"
     ]
    },
    {
     "data": {
      "text/plain": [
       "102334155"
      ]
     },
     "execution_count": 11,
     "metadata": {},
     "output_type": "execute_result"
    }
   ],
   "source": [
    "@time fib(40)  # `@time(fib(40))` でも同様"
   ]
  },
  {
   "cell_type": "code",
   "execution_count": 12,
   "id": "e2f36359",
   "metadata": {
    "ExecuteTime": {
     "end_time": "2023-01-27T15:06:39.163000+09:00",
     "start_time": "2023-01-27T06:06:35.319Z"
    }
   },
   "outputs": [
    {
     "data": {
      "text/plain": [
       "(value = 102334155, time = 0.392079089, bytes = 0, gctime = 0.0, gcstats = Base.GC_Diff(0, 0, 0, 0, 0, 0, 0, 0, 0))"
      ]
     },
     "execution_count": 12,
     "metadata": {},
     "output_type": "execute_result"
    }
   ],
   "source": [
    "stats = @timed fib(40)"
   ]
  },
  {
   "cell_type": "code",
   "execution_count": 13,
   "id": "17058099",
   "metadata": {
    "ExecuteTime": {
     "end_time": "2023-01-27T15:06:39.169000+09:00",
     "start_time": "2023-01-27T06:06:35.322Z"
    }
   },
   "outputs": [
    {
     "data": {
      "text/plain": [
       "102334155"
      ]
     },
     "execution_count": 13,
     "metadata": {},
     "output_type": "execute_result"
    }
   ],
   "source": [
    "stats.value"
   ]
  },
  {
   "cell_type": "code",
   "execution_count": 14,
   "id": "b99a0176",
   "metadata": {
    "ExecuteTime": {
     "end_time": "2023-01-27T15:06:39.720000+09:00",
     "start_time": "2023-01-27T06:06:35.324Z"
    }
   },
   "outputs": [
    {
     "data": {
      "text/plain": [
       "0.389732584"
      ]
     },
     "execution_count": 14,
     "metadata": {},
     "output_type": "execute_result"
    }
   ],
   "source": [
    "@timed(fib(40)).time  # `(@timed fib(40)).time`  でも同様"
   ]
  },
  {
   "cell_type": "markdown",
   "id": "86b08ea6",
   "metadata": {},
   "source": [
    "#### コード8-25. `@show` マクロの例"
   ]
  },
  {
   "cell_type": "code",
   "execution_count": 15,
   "id": "ba0d4104",
   "metadata": {
    "ExecuteTime": {
     "end_time": "2023-01-27T15:06:39.721000+09:00",
     "start_time": "2023-01-27T06:06:35.326Z"
    }
   },
   "outputs": [],
   "source": [
    "a, b = 1, 2;"
   ]
  },
  {
   "cell_type": "code",
   "execution_count": 16,
   "id": "b9f01c95",
   "metadata": {
    "ExecuteTime": {
     "end_time": "2023-01-27T15:06:39.745000+09:00",
     "start_time": "2023-01-27T06:06:35.330Z"
    }
   },
   "outputs": [
    {
     "name": "stdout",
     "output_type": "stream",
     "text": [
      "a = 1\n"
     ]
    },
    {
     "data": {
      "text/plain": [
       "1"
      ]
     },
     "execution_count": 16,
     "metadata": {},
     "output_type": "execute_result"
    }
   ],
   "source": [
    "@show a"
   ]
  },
  {
   "cell_type": "code",
   "execution_count": 17,
   "id": "f9828a90",
   "metadata": {
    "ExecuteTime": {
     "end_time": "2023-01-27T15:06:39.746000+09:00",
     "start_time": "2023-01-27T06:06:35.332Z"
    }
   },
   "outputs": [
    {
     "name": "stdout",
     "output_type": "stream",
     "text": [
      "a + b = 3\n"
     ]
    },
    {
     "data": {
      "text/plain": [
       "3"
      ]
     },
     "execution_count": 17,
     "metadata": {},
     "output_type": "execute_result"
    }
   ],
   "source": [
    "@show a + b  # == `@show(a + b)`"
   ]
  },
  {
   "cell_type": "code",
   "execution_count": 18,
   "id": "11393416",
   "metadata": {
    "ExecuteTime": {
     "end_time": "2023-01-27T15:06:39.747000+09:00",
     "start_time": "2023-01-27T06:06:35.334Z"
    }
   },
   "outputs": [
    {
     "name": "stdout",
     "output_type": "stream",
     "text": [
      "a = 1\n",
      "b = 2\n"
     ]
    },
    {
     "data": {
      "text/plain": [
       "2"
      ]
     },
     "execution_count": 18,
     "metadata": {},
     "output_type": "execute_result"
    }
   ],
   "source": [
    "@show a b  # == `@show(a, b)`"
   ]
  },
  {
   "cell_type": "code",
   "execution_count": 19,
   "id": "f25b5fe9",
   "metadata": {
    "ExecuteTime": {
     "end_time": "2023-01-27T15:06:39.960000+09:00",
     "start_time": "2023-01-27T06:06:35.336Z"
    }
   },
   "outputs": [
    {
     "name": "stdout",
     "output_type": "stream",
     "text": [
      "(a, b) = (1, 2)\n"
     ]
    },
    {
     "data": {
      "text/plain": [
       "(1, 2)"
      ]
     },
     "execution_count": 19,
     "metadata": {},
     "output_type": "execute_result"
    }
   ],
   "source": [
    "@show a, b  # == `@show((a, b))`"
   ]
  },
  {
   "cell_type": "markdown",
   "id": "fe1a4fe5",
   "metadata": {},
   "source": [
    "### 8-5-2. マクロの定義"
   ]
  },
  {
   "cell_type": "markdown",
   "id": "0641e1e1",
   "metadata": {},
   "source": [
    "#### コード8-26. `@time_ns` マクロの定義例（コード1-6.再掲）"
   ]
  },
  {
   "cell_type": "code",
   "execution_count": 20,
   "id": "d1780ac3",
   "metadata": {
    "ExecuteTime": {
     "end_time": "2023-01-27T15:06:40.032000+09:00",
     "start_time": "2023-01-27T06:06:35.339Z"
    }
   },
   "outputs": [
    {
     "data": {
      "text/plain": [
       "@time_ns (macro with 1 method)"
      ]
     },
     "execution_count": 20,
     "metadata": {},
     "output_type": "execute_result"
    }
   ],
   "source": [
    "macro time_ns(ex)\n",
    "    ex = esc(ex)\n",
    "    quote\n",
    "        t0 = time_ns()\n",
    "        val = $ex\n",
    "        t1 = time_ns()\n",
    "        println(\"elapsed time: \", Int(t1-t0), \" nanoseconds\")\n",
    "        val\n",
    "    end\n",
    "end"
   ]
  },
  {
   "cell_type": "markdown",
   "id": "5febe5eb",
   "metadata": {},
   "source": [
    "#### コード8-27. マクロ `@qte` の定義"
   ]
  },
  {
   "cell_type": "code",
   "execution_count": 21,
   "id": "03491a5e",
   "metadata": {
    "ExecuteTime": {
     "end_time": "2023-01-27T15:06:40.098000+09:00",
     "start_time": "2023-01-27T06:06:35.342Z"
    }
   },
   "outputs": [
    {
     "data": {
      "text/plain": [
       "@qte (macro with 1 method)"
      ]
     },
     "execution_count": 21,
     "metadata": {},
     "output_type": "execute_result"
    }
   ],
   "source": [
    "macro qte(ex)\n",
    "    QuoteNode(ex)\n",
    "end"
   ]
  },
  {
   "cell_type": "markdown",
   "id": "260ad1be",
   "metadata": {},
   "source": [
    "#### コード8-28. マクロ `@qte` の使用例(1)"
   ]
  },
  {
   "cell_type": "code",
   "execution_count": 22,
   "id": "3e392e92",
   "metadata": {
    "ExecuteTime": {
     "end_time": "2023-01-27T15:06:41.153000+09:00",
     "start_time": "2023-01-27T06:06:35.345Z"
    }
   },
   "outputs": [
    {
     "data": {
      "text/plain": [
       ":(fib(40))"
      ]
     },
     "execution_count": 22,
     "metadata": {},
     "output_type": "execute_result"
    }
   ],
   "source": [
    "@qte fib(40)"
   ]
  },
  {
   "cell_type": "code",
   "execution_count": 23,
   "id": "bf5bd445",
   "metadata": {
    "ExecuteTime": {
     "end_time": "2023-01-27T15:06:41.160000+09:00",
     "start_time": "2023-01-27T06:06:35.347Z"
    }
   },
   "outputs": [
    {
     "data": {
      "text/plain": [
       ":(a + b)"
      ]
     },
     "execution_count": 23,
     "metadata": {},
     "output_type": "execute_result"
    }
   ],
   "source": [
    "@qte a + b"
   ]
  },
  {
   "cell_type": "code",
   "execution_count": 24,
   "id": "9cc1e0b8",
   "metadata": {
    "ExecuteTime": {
     "end_time": "2023-01-27T15:06:41.334000+09:00",
     "start_time": "2023-01-27T06:06:35.348Z"
    }
   },
   "outputs": [
    {
     "data": {
      "text/plain": [
       ":(:a)"
      ]
     },
     "execution_count": 24,
     "metadata": {},
     "output_type": "execute_result"
    }
   ],
   "source": [
    "@qte(:a)"
   ]
  },
  {
   "cell_type": "code",
   "execution_count": 25,
   "id": "31d53d4d",
   "metadata": {
    "ExecuteTime": {
     "end_time": "2023-01-27T15:06:41.341000+09:00",
     "start_time": "2023-01-27T06:06:35.351Z"
    }
   },
   "outputs": [
    {
     "data": {
      "text/plain": [
       "quote\n",
       "    \u001b[90m#= In[25]:2 =#\u001b[39m\n",
       "    x = 1\n",
       "    \u001b[90m#= In[25]:3 =#\u001b[39m\n",
       "    y = 2\n",
       "    \u001b[90m#= In[25]:4 =#\u001b[39m\n",
       "    x + y\n",
       "end"
      ]
     },
     "execution_count": 25,
     "metadata": {},
     "output_type": "execute_result"
    }
   ],
   "source": [
    "@qte begin\n",
    "    x = 1\n",
    "    y = 2\n",
    "    x + y\n",
    "end"
   ]
  },
  {
   "cell_type": "markdown",
   "id": "32128a67",
   "metadata": {},
   "source": [
    "#### コード8-29. マクロ `@qte` の使用例(2)"
   ]
  },
  {
   "cell_type": "code",
   "execution_count": 26,
   "id": "8440a0e8",
   "metadata": {
    "ExecuteTime": {
     "end_time": "2023-01-27T15:06:41.345000+09:00",
     "start_time": "2023-01-27T06:06:35.353Z"
    }
   },
   "outputs": [
    {
     "data": {
      "text/plain": [
       ":($(Expr(:$, :(1 + 2))))"
      ]
     },
     "execution_count": 26,
     "metadata": {},
     "output_type": "execute_result"
    }
   ],
   "source": [
    "@qte $(1 + 2)"
   ]
  },
  {
   "cell_type": "code",
   "execution_count": 27,
   "id": "4822e88d",
   "metadata": {
    "ExecuteTime": {
     "end_time": "2023-01-27T15:06:41.346000+09:00",
     "start_time": "2023-01-27T06:06:35.354Z"
    }
   },
   "outputs": [
    {
     "data": {
      "text/plain": [
       ":($(Expr(:$, :qx)) + $(Expr(:$, :qy)))"
      ]
     },
     "execution_count": 27,
     "metadata": {},
     "output_type": "execute_result"
    }
   ],
   "source": [
    "qx = :x; qy = :y;\n",
    "ex5_add_q = @qte $qx + $qy"
   ]
  },
  {
   "cell_type": "code",
   "execution_count": 28,
   "id": "c83feadf",
   "metadata": {
    "ExecuteTime": {
     "end_time": "2023-01-27T15:06:41.347000+09:00",
     "start_time": "2023-01-27T06:06:35.356Z"
    }
   },
   "outputs": [
    {
     "data": {
      "text/plain": [
       ":(muladd($(Expr(:$, :(args...)))))"
      ]
     },
     "execution_count": 28,
     "metadata": {},
     "output_type": "execute_result"
    }
   ],
   "source": [
    "args = (:x, :y, 5);\n",
    "ex5_muladd_q = @qte(muladd($(args...)))"
   ]
  },
  {
   "cell_type": "markdown",
   "id": "81ea894d",
   "metadata": {},
   "source": [
    "#### コード8-30. マクロ `@qte` の定義その2（多重定義）"
   ]
  },
  {
   "cell_type": "code",
   "execution_count": 29,
   "id": "bf4daf9a",
   "metadata": {
    "ExecuteTime": {
     "end_time": "2023-01-27T15:06:41.348000+09:00",
     "start_time": "2023-01-27T06:06:35.358Z"
    }
   },
   "outputs": [
    {
     "data": {
      "text/plain": [
       "@qte (macro with 2 methods)"
      ]
     },
     "execution_count": 29,
     "metadata": {},
     "output_type": "execute_result"
    }
   ],
   "source": [
    "macro qte(ex1, ex2...)\n",
    "    QuoteNode((ex1, ex2...))\n",
    "end"
   ]
  },
  {
   "cell_type": "markdown",
   "id": "2fbc3525",
   "metadata": {},
   "source": [
    "#### コード8-31. マクロ `@qte` の使用例(3)"
   ]
  },
  {
   "cell_type": "code",
   "execution_count": 30,
   "id": "dd5abdcd",
   "metadata": {
    "ExecuteTime": {
     "end_time": "2023-01-27T15:06:41.829000+09:00",
     "start_time": "2023-01-27T06:06:35.361Z"
    }
   },
   "outputs": [
    {
     "data": {
      "text/html": [
       "# 2 methods for macro <b>@qte</b>:<ul><li> var\"@qte\"(__source__::<b>LineNumberNode</b>, __module__::<b>Module</b>, ex) in Main at In[21]:1</li> <li> var\"@qte\"(__source__::<b>LineNumberNode</b>, __module__::<b>Module</b>, ex1, ex2...) in Main at In[29]:1</li> </ul>"
      ],
      "text/plain": [
       "# 2 methods for macro \"@qte\":\n",
       "[1] var\"@qte\"(__source__::LineNumberNode, __module__::Module, ex) in Main at In[21]:1\n",
       "[2] var\"@qte\"(__source__::LineNumberNode, __module__::Module, ex1, ex2...) in Main at In[29]:1"
      ]
     },
     "execution_count": 30,
     "metadata": {},
     "output_type": "execute_result"
    }
   ],
   "source": [
    "methods(var\"@qte\")"
   ]
  },
  {
   "cell_type": "code",
   "execution_count": 31,
   "id": "0b7b2f56",
   "metadata": {
    "ExecuteTime": {
     "end_time": "2023-01-27T15:06:41.830000+09:00",
     "start_time": "2023-01-27T06:06:35.363Z"
    }
   },
   "outputs": [
    {
     "data": {
      "text/plain": [
       ":(a + b)"
      ]
     },
     "execution_count": 31,
     "metadata": {},
     "output_type": "execute_result"
    }
   ],
   "source": [
    "@qte a + b  # 1つの式（演算式）⇒引数1つのメソッドが呼ばれる"
   ]
  },
  {
   "cell_type": "code",
   "execution_count": 32,
   "id": "4885f1b7",
   "metadata": {
    "ExecuteTime": {
     "end_time": "2023-01-27T15:06:42.053000+09:00",
     "start_time": "2023-01-27T06:06:35.366Z"
    }
   },
   "outputs": [
    {
     "data": {
      "text/plain": [
       "(:(a + b), :(c - d))"
      ]
     },
     "execution_count": 32,
     "metadata": {},
     "output_type": "execute_result"
    }
   ],
   "source": [
    "@qte a + b c - d  # 2つの式⇒引数2つ以上のメソッドが呼ばれる"
   ]
  },
  {
   "cell_type": "code",
   "execution_count": 33,
   "id": "0df6c290",
   "metadata": {
    "ExecuteTime": {
     "end_time": "2023-01-27T15:06:42.290000+09:00",
     "start_time": "2023-01-27T06:06:35.368Z"
    }
   },
   "outputs": [
    {
     "data": {
      "text/plain": [
       "(1, :(:a), :(sin(π)))"
      ]
     },
     "execution_count": 33,
     "metadata": {},
     "output_type": "execute_result"
    }
   ],
   "source": [
    "@qte(1, :a, sin(π))  # 3つの引数が指定されたものと見なされ、引数2つ以上のメソッドが呼ばれる"
   ]
  },
  {
   "cell_type": "code",
   "execution_count": 34,
   "id": "bedd80a4",
   "metadata": {
    "ExecuteTime": {
     "end_time": "2023-01-27T15:06:42.291000+09:00",
     "start_time": "2023-01-27T06:06:35.370Z"
    }
   },
   "outputs": [
    {
     "data": {
      "text/plain": [
       ":((1, :a, sin(π)))"
      ]
     },
     "execution_count": 34,
     "metadata": {},
     "output_type": "execute_result"
    }
   ],
   "source": [
    "@qte 1, :a, sin(π)  # 「カンマ区切りで式を並べた式（つまりタプル）」と見なされ、引数1つのメソッドが呼ばれる"
   ]
  },
  {
   "cell_type": "markdown",
   "id": "bddd1577",
   "metadata": {},
   "source": [
    "### 8-5-3. マクロの動作原理"
   ]
  },
  {
   "cell_type": "markdown",
   "id": "8dc9ff6d",
   "metadata": {},
   "source": [
    "#### コード8-32. `@macroexpand` マクロの紹介"
   ]
  },
  {
   "cell_type": "code",
   "execution_count": 35,
   "id": "c78c2fd9",
   "metadata": {
    "ExecuteTime": {
     "end_time": "2023-01-27T15:06:42.298000+09:00",
     "start_time": "2023-01-27T06:06:35.373Z"
    }
   },
   "outputs": [
    {
     "data": {
      "text/plain": [
       "Main"
      ]
     },
     "execution_count": 35,
     "metadata": {},
     "output_type": "execute_result"
    }
   ],
   "source": [
    "@macroexpand @__MODULE__"
   ]
  },
  {
   "cell_type": "code",
   "execution_count": 36,
   "id": "8a25d677",
   "metadata": {
    "ExecuteTime": {
     "end_time": "2023-01-27T15:06:42.299000+09:00",
     "start_time": "2023-01-27T06:06:35.375Z"
    }
   },
   "outputs": [
    {
     "data": {
      "text/plain": [
       ":($(QuoteNode(:(fib(40)))))"
      ]
     },
     "execution_count": 36,
     "metadata": {},
     "output_type": "execute_result"
    }
   ],
   "source": [
    "@macroexpand @qte fib(40)"
   ]
  },
  {
   "cell_type": "code",
   "execution_count": 37,
   "id": "329318f0",
   "metadata": {
    "ExecuteTime": {
     "end_time": "2023-01-27T15:06:42.302000+09:00",
     "start_time": "2023-01-27T06:06:35.377Z"
    }
   },
   "outputs": [
    {
     "data": {
      "text/plain": [
       ":((+).((*).(A, sin.(x)), b))"
      ]
     },
     "execution_count": 37,
     "metadata": {},
     "output_type": "execute_result"
    }
   ],
   "source": [
    "@macroexpand @. A * sin(x) + b"
   ]
  },
  {
   "cell_type": "code",
   "execution_count": 38,
   "id": "b01af0e9",
   "metadata": {
    "ExecuteTime": {
     "end_time": "2023-01-27T15:06:42.321000+09:00",
     "start_time": "2023-01-27T06:06:35.379Z"
    }
   },
   "outputs": [
    {
     "data": {
      "text/plain": [
       ":(Core.eval(Main, Core._expr(:call, :+, qx, qy)))"
      ]
     },
     "execution_count": 38,
     "metadata": {},
     "output_type": "execute_result"
    }
   ],
   "source": [
    "@macroexpand @eval $qx + $qy"
   ]
  },
  {
   "cell_type": "markdown",
   "id": "0ea4679c",
   "metadata": {},
   "source": [
    "#### コード8-33. `@rand1to10` マクロの定義"
   ]
  },
  {
   "cell_type": "code",
   "execution_count": 39,
   "id": "b46446ad",
   "metadata": {
    "ExecuteTime": {
     "end_time": "2023-01-27T15:06:42.395000+09:00",
     "start_time": "2023-01-27T06:06:35.383Z"
    }
   },
   "outputs": [
    {
     "data": {
      "text/plain": [
       "@rand1to10 (macro with 1 method)"
      ]
     },
     "execution_count": 39,
     "metadata": {},
     "output_type": "execute_result"
    }
   ],
   "source": [
    "macro rand1to10()\n",
    "    rand(1:10)\n",
    "end"
   ]
  },
  {
   "cell_type": "markdown",
   "id": "ccaa90f4",
   "metadata": {},
   "source": [
    "#### コード8-34. `@rand1to10` マクロの動作確認"
   ]
  },
  {
   "cell_type": "code",
   "execution_count": 40,
   "id": "4627797e",
   "metadata": {
    "ExecuteTime": {
     "end_time": "2023-01-27T15:06:42.403000+09:00",
     "start_time": "2023-01-27T06:06:35.385Z"
    }
   },
   "outputs": [
    {
     "data": {
      "text/plain": [
       "8"
      ]
     },
     "execution_count": 40,
     "metadata": {},
     "output_type": "execute_result"
    }
   ],
   "source": [
    "@macroexpand @rand1to10"
   ]
  },
  {
   "cell_type": "code",
   "execution_count": 41,
   "id": "15dee726",
   "metadata": {
    "ExecuteTime": {
     "end_time": "2023-01-27T15:06:42.404000+09:00",
     "start_time": "2023-01-27T06:06:35.387Z"
    }
   },
   "outputs": [
    {
     "data": {
      "text/plain": [
       "2"
      ]
     },
     "execution_count": 41,
     "metadata": {},
     "output_type": "execute_result"
    }
   ],
   "source": [
    "@macroexpand @rand1to10"
   ]
  },
  {
   "cell_type": "code",
   "execution_count": 42,
   "id": "bb894ed1",
   "metadata": {
    "ExecuteTime": {
     "end_time": "2023-01-27T15:06:42.405000+09:00",
     "start_time": "2023-01-27T06:06:35.389Z"
    }
   },
   "outputs": [
    {
     "data": {
      "text/plain": [
       "8"
      ]
     },
     "execution_count": 42,
     "metadata": {},
     "output_type": "execute_result"
    }
   ],
   "source": [
    "@macroexpand @rand1to10"
   ]
  },
  {
   "cell_type": "code",
   "execution_count": 43,
   "id": "07ce3d15",
   "metadata": {
    "ExecuteTime": {
     "end_time": "2023-01-27T15:06:42.405000+09:00",
     "start_time": "2023-01-27T06:06:35.391Z"
    }
   },
   "outputs": [
    {
     "data": {
      "text/plain": [
       "4"
      ]
     },
     "execution_count": 43,
     "metadata": {},
     "output_type": "execute_result"
    }
   ],
   "source": [
    "@rand1to10"
   ]
  },
  {
   "cell_type": "code",
   "execution_count": 44,
   "id": "770b5e97",
   "metadata": {
    "ExecuteTime": {
     "end_time": "2023-01-27T15:06:42.406000+09:00",
     "start_time": "2023-01-27T06:06:35.392Z"
    }
   },
   "outputs": [
    {
     "data": {
      "text/plain": [
       "10"
      ]
     },
     "execution_count": 44,
     "metadata": {},
     "output_type": "execute_result"
    }
   ],
   "source": [
    "@rand1to10"
   ]
  },
  {
   "cell_type": "code",
   "execution_count": 45,
   "id": "fbf5b0ed",
   "metadata": {
    "ExecuteTime": {
     "end_time": "2023-01-27T15:06:42.406000+09:00",
     "start_time": "2023-01-27T06:06:35.394Z"
    }
   },
   "outputs": [
    {
     "data": {
      "text/plain": [
       "6"
      ]
     },
     "execution_count": 45,
     "metadata": {},
     "output_type": "execute_result"
    }
   ],
   "source": [
    "@rand1to10"
   ]
  },
  {
   "cell_type": "code",
   "execution_count": 46,
   "id": "4aa9f4d1",
   "metadata": {
    "ExecuteTime": {
     "end_time": "2023-01-27T15:06:42.474000+09:00",
     "start_time": "2023-01-27T06:06:35.396Z"
    }
   },
   "outputs": [
    {
     "data": {
      "text/plain": [
       "sample_rand1to10 (generic function with 1 method)"
      ]
     },
     "execution_count": 46,
     "metadata": {},
     "output_type": "execute_result"
    }
   ],
   "source": [
    "sample_rand1to10(DUMMY...) = @rand1to10"
   ]
  },
  {
   "cell_type": "code",
   "execution_count": 47,
   "id": "ff5acf34",
   "metadata": {
    "ExecuteTime": {
     "end_time": "2023-01-27T15:06:42.475000+09:00",
     "start_time": "2023-01-27T06:06:35.398Z"
    }
   },
   "outputs": [
    {
     "data": {
      "text/plain": [
       "7"
      ]
     },
     "execution_count": 47,
     "metadata": {},
     "output_type": "execute_result"
    }
   ],
   "source": [
    "sample_rand1to10()"
   ]
  },
  {
   "cell_type": "code",
   "execution_count": 48,
   "id": "2ec581e8",
   "metadata": {
    "ExecuteTime": {
     "end_time": "2023-01-27T15:06:42.475000+09:00",
     "start_time": "2023-01-27T06:06:35.400Z"
    }
   },
   "outputs": [
    {
     "data": {
      "text/plain": [
       "7"
      ]
     },
     "execution_count": 48,
     "metadata": {},
     "output_type": "execute_result"
    }
   ],
   "source": [
    "sample_rand1to10()"
   ]
  },
  {
   "cell_type": "code",
   "execution_count": 49,
   "id": "b23a79d2",
   "metadata": {
    "ExecuteTime": {
     "end_time": "2023-01-27T15:06:42.476000+09:00",
     "start_time": "2023-01-27T06:06:35.402Z"
    }
   },
   "outputs": [
    {
     "data": {
      "text/plain": [
       "7"
      ]
     },
     "execution_count": 49,
     "metadata": {},
     "output_type": "execute_result"
    }
   ],
   "source": [
    "sample_rand1to10()"
   ]
  },
  {
   "cell_type": "code",
   "execution_count": 50,
   "id": "633aec23",
   "metadata": {
    "ExecuteTime": {
     "end_time": "2023-01-27T15:06:42.476000+09:00",
     "start_time": "2023-01-27T06:06:35.405Z"
    }
   },
   "outputs": [
    {
     "data": {
      "text/plain": [
       "7"
      ]
     },
     "execution_count": 50,
     "metadata": {},
     "output_type": "execute_result"
    }
   ],
   "source": [
    "sample_rand1to10(1)"
   ]
  },
  {
   "cell_type": "code",
   "execution_count": 51,
   "id": "58933851",
   "metadata": {
    "ExecuteTime": {
     "end_time": "2023-01-27T15:06:42.477000+09:00",
     "start_time": "2023-01-27T06:06:35.407Z"
    }
   },
   "outputs": [
    {
     "data": {
      "text/plain": [
       "7"
      ]
     },
     "execution_count": 51,
     "metadata": {},
     "output_type": "execute_result"
    }
   ],
   "source": [
    "sample_rand1to10(1, 2, 3)"
   ]
  },
  {
   "cell_type": "code",
   "execution_count": 52,
   "id": "03d43cca",
   "metadata": {
    "ExecuteTime": {
     "end_time": "2023-01-27T15:06:42.477000+09:00",
     "start_time": "2023-01-27T06:06:35.409Z"
    }
   },
   "outputs": [
    {
     "data": {
      "text/plain": [
       "7"
      ]
     },
     "execution_count": 52,
     "metadata": {},
     "output_type": "execute_result"
    }
   ],
   "source": [
    "sample_rand1to10(Symbol)"
   ]
  },
  {
   "cell_type": "markdown",
   "id": "75e0bc14",
   "metadata": {},
   "source": [
    "#### コード8-35. `@assert` マクロの例"
   ]
  },
  {
   "cell_type": "code",
   "execution_count": 53,
   "id": "688801bc",
   "metadata": {
    "ExecuteTime": {
     "end_time": "2023-01-27T15:06:42.508000+09:00",
     "start_time": "2023-01-27T06:06:35.412Z"
    }
   },
   "outputs": [
    {
     "data": {
      "text/plain": [
       ":(if iseven(a)\n",
       "      nothing\n",
       "  else\n",
       "      Base.throw(Base.AssertionError(\"iseven(a)\"))\n",
       "  end)"
      ]
     },
     "execution_count": 53,
     "metadata": {},
     "output_type": "execute_result"
    }
   ],
   "source": [
    "@macroexpand @assert iseven(a)"
   ]
  },
  {
   "cell_type": "code",
   "execution_count": 54,
   "id": "f95f737c",
   "metadata": {
    "ExecuteTime": {
     "end_time": "2023-01-27T15:06:42.575000+09:00",
     "start_time": "2023-01-27T06:06:35.414Z"
    }
   },
   "outputs": [
    {
     "data": {
      "text/plain": [
       "a_div_2 (generic function with 1 method)"
      ]
     },
     "execution_count": 54,
     "metadata": {},
     "output_type": "execute_result"
    }
   ],
   "source": [
    "function a_div_2(a)\n",
    "    @assert iseven(a)\n",
    "    a ÷ 2\n",
    "end"
   ]
  },
  {
   "cell_type": "code",
   "execution_count": 55,
   "id": "07392084",
   "metadata": {
    "ExecuteTime": {
     "end_time": "2023-01-27T15:06:42.579000+09:00",
     "start_time": "2023-01-27T06:06:35.416Z"
    }
   },
   "outputs": [
    {
     "data": {
      "text/plain": [
       "50"
      ]
     },
     "execution_count": 55,
     "metadata": {},
     "output_type": "execute_result"
    }
   ],
   "source": [
    "a_div_2(100)"
   ]
  },
  {
   "cell_type": "code",
   "execution_count": 56,
   "id": "e7ece99f",
   "metadata": {
    "ExecuteTime": {
     "end_time": "2023-01-27T15:06:42.646000+09:00",
     "start_time": "2023-01-27T06:06:35.418Z"
    }
   },
   "outputs": [
    {
     "ename": "LoadError",
     "evalue": "AssertionError: iseven(a)",
     "output_type": "error",
     "traceback": [
      "AssertionError: iseven(a)",
      "",
      "Stacktrace:",
      " [1] a_div_2(a::Int64)",
      "   @ Main ./In[54]:2",
      " [2] top-level scope",
      "   @ In[56]:1"
     ]
    }
   ],
   "source": [
    "a_div_2(101)"
   ]
  },
  {
   "cell_type": "markdown",
   "id": "1e29d049",
   "metadata": {},
   "source": [
    "#### 仮想コード8-3. `@assert` マクロを含む関数と同等の関数定義"
   ]
  },
  {
   "cell_type": "markdown",
   "id": "8cc6e6a7",
   "metadata": {},
   "source": [
    "```julia\n",
    "function a_div_2(a)\n",
    "    if iseven(a)\n",
    "        nothing\n",
    "    else\n",
    "        throw(AssertionError(\"iseven(a)\"))\n",
    "    end\n",
    "    a ÷ 2\n",
    "end\n",
    "```"
   ]
  },
  {
   "cell_type": "markdown",
   "id": "619ee4e9",
   "metadata": {},
   "source": [
    "#### コード8-36. マクロを含む関数定義への `@macroexpand` の適用"
   ]
  },
  {
   "cell_type": "code",
   "execution_count": 57,
   "id": "55934342",
   "metadata": {
    "ExecuteTime": {
     "end_time": "2023-01-27T15:06:42.655000+09:00",
     "start_time": "2023-01-27T06:06:35.421Z"
    }
   },
   "outputs": [
    {
     "data": {
      "text/plain": [
       ":(function a_div_2(a)\n",
       "      if iseven(a)\n",
       "          nothing\n",
       "      else\n",
       "          Base.throw(Base.AssertionError(\"iseven(a)\"))\n",
       "      end\n",
       "      a ÷ 2\n",
       "  end)"
      ]
     },
     "execution_count": 57,
     "metadata": {},
     "output_type": "execute_result"
    }
   ],
   "source": [
    "@macroexpand(function a_div_2(a)\n",
    "    @assert iseven(a)\n",
    "    a ÷ 2\n",
    "end) |> Base.remove_linenums!"
   ]
  },
  {
   "cell_type": "markdown",
   "id": "0f6c322f",
   "metadata": {},
   "source": [
    "### 8-5-4. 衛生的なマクロ"
   ]
  },
  {
   "cell_type": "markdown",
   "id": "ef222230",
   "metadata": {},
   "source": [
    "#### コード8-26. `@time_ns` マクロの定義例（再掲）"
   ]
  },
  {
   "cell_type": "code",
   "execution_count": 58,
   "id": "2ceccee3",
   "metadata": {
    "ExecuteTime": {
     "end_time": "2023-01-27T15:06:42.656000+09:00",
     "start_time": "2023-01-27T06:06:35.424Z"
    }
   },
   "outputs": [
    {
     "data": {
      "text/plain": [
       "@time_ns (macro with 1 method)"
      ]
     },
     "execution_count": 58,
     "metadata": {},
     "output_type": "execute_result"
    }
   ],
   "source": [
    "macro time_ns(ex)\n",
    "    ex = esc(ex)\n",
    "    quote\n",
    "        t0 = time_ns()\n",
    "        val = $ex\n",
    "        t1 = time_ns()\n",
    "        println(\"elapsed time: \", Int(t1-t0), \" nanoseconds\")\n",
    "        val\n",
    "    end\n",
    "end"
   ]
  },
  {
   "cell_type": "markdown",
   "id": "7da1693e",
   "metadata": {},
   "source": [
    "#### コード8-37. `@time_ns` マクロの実行例(1)"
   ]
  },
  {
   "cell_type": "code",
   "execution_count": 59,
   "id": "b2945654",
   "metadata": {
    "ExecuteTime": {
     "end_time": "2023-01-27T15:06:42.663000+09:00",
     "start_time": "2023-01-27T06:06:35.427Z"
    }
   },
   "outputs": [
    {
     "name": "stdout",
     "output_type": "stream",
     "text": [
      "elapsed time: 7729 nanoseconds\n"
     ]
    },
    {
     "data": {
      "text/plain": [
       "2"
      ]
     },
     "execution_count": 59,
     "metadata": {},
     "output_type": "execute_result"
    }
   ],
   "source": [
    "@time_ns 1 + 1"
   ]
  },
  {
   "cell_type": "code",
   "execution_count": 60,
   "id": "96d6539d",
   "metadata": {
    "ExecuteTime": {
     "end_time": "2023-01-27T15:06:42.814000+09:00",
     "start_time": "2023-01-27T06:06:35.429Z"
    }
   },
   "outputs": [
    {
     "name": "stdout",
     "output_type": "stream",
     "text": [
      "elapsed time: 5300 nanoseconds\n"
     ]
    },
    {
     "data": {
      "text/plain": [
       "0x00273451868930ad"
      ]
     },
     "execution_count": 60,
     "metadata": {},
     "output_type": "execute_result"
    }
   ],
   "source": [
    "@time_ns time_ns()"
   ]
  },
  {
   "cell_type": "markdown",
   "id": "1c18ed90",
   "metadata": {},
   "source": [
    "#### コード8-38. `@time_ns` マクロの実行例(2)"
   ]
  },
  {
   "cell_type": "code",
   "execution_count": 61,
   "id": "703b7099",
   "metadata": {
    "ExecuteTime": {
     "end_time": "2023-01-27T15:06:42.889000+09:00",
     "start_time": "2023-01-27T06:06:35.431Z"
    }
   },
   "outputs": [
    {
     "data": {
      "text/plain": [
       "chk_t0 (generic function with 1 method)"
      ]
     },
     "execution_count": 61,
     "metadata": {},
     "output_type": "execute_result"
    }
   ],
   "source": [
    "function chk_t0()\n",
    "    @time_ns t0 += 1000000\n",
    "end"
   ]
  },
  {
   "cell_type": "code",
   "execution_count": 62,
   "id": "81aae0b1",
   "metadata": {
    "ExecuteTime": {
     "end_time": "2023-01-27T15:06:42.948000+09:00",
     "start_time": "2023-01-27T06:06:35.433Z"
    }
   },
   "outputs": [
    {
     "ename": "LoadError",
     "evalue": "UndefVarError: t0 not defined",
     "output_type": "error",
     "traceback": [
      "UndefVarError: t0 not defined",
      "",
      "Stacktrace:",
      " [1] macro expansion",
      "   @ ./In[58]:5 [inlined]",
      " [2] chk_t0()",
      "   @ Main ./In[61]:2",
      " [3] top-level scope",
      "   @ In[62]:1"
     ]
    }
   ],
   "source": [
    "chk_t0()"
   ]
  },
  {
   "cell_type": "code",
   "execution_count": 63,
   "id": "203f1d39",
   "metadata": {
    "ExecuteTime": {
     "end_time": "2023-01-27T15:06:42.949000+09:00",
     "start_time": "2023-01-27T06:06:35.435Z"
    }
   },
   "outputs": [
    {
     "data": {
      "text/plain": [
       ":(function chk_t0()\n",
       "      begin\n",
       "          var\"#59#t0\" = Main.time_ns()\n",
       "          var\"#60#val\" = (t0 += 1000000)\n",
       "          var\"#61#t1\" = Main.time_ns()\n",
       "          Main.println(\"elapsed time: \", Main.Int(var\"#61#t1\" - var\"#59#t0\"), \" nanoseconds\")\n",
       "          var\"#60#val\"\n",
       "      end\n",
       "  end)"
      ]
     },
     "execution_count": 63,
     "metadata": {},
     "output_type": "execute_result"
    }
   ],
   "source": [
    "@macroexpand(function chk_t0()\n",
    "    @time_ns t0 += 1000000\n",
    "end) |> Base.remove_linenums!"
   ]
  },
  {
   "cell_type": "markdown",
   "id": "a1eb0b45",
   "metadata": {},
   "source": [
    "#### コード8-39. `gensym()`/`@gensym` の実行例"
   ]
  },
  {
   "cell_type": "code",
   "execution_count": 64,
   "id": "b34c2ba7",
   "metadata": {
    "ExecuteTime": {
     "end_time": "2023-01-27T15:06:43.109000+09:00",
     "start_time": "2023-01-27T06:06:35.438Z"
    }
   },
   "outputs": [
    {
     "data": {
      "text/plain": [
       "Symbol(\"##312\")"
      ]
     },
     "execution_count": 64,
     "metadata": {},
     "output_type": "execute_result"
    }
   ],
   "source": [
    "gensym()"
   ]
  },
  {
   "cell_type": "code",
   "execution_count": 65,
   "id": "0c6d4473",
   "metadata": {
    "ExecuteTime": {
     "end_time": "2023-01-27T15:06:43.109000+09:00",
     "start_time": "2023-01-27T06:06:35.440Z"
    }
   },
   "outputs": [
    {
     "data": {
      "text/plain": [
       "Symbol(\"##ABC#313\")"
      ]
     },
     "execution_count": 65,
     "metadata": {},
     "output_type": "execute_result"
    }
   ],
   "source": [
    "gensym(\"ABC\")  # `gensym(:ABC)` でもOK"
   ]
  },
  {
   "cell_type": "code",
   "execution_count": 66,
   "id": "94e46c16",
   "metadata": {
    "ExecuteTime": {
     "end_time": "2023-01-27T15:06:43.332000+09:00",
     "start_time": "2023-01-27T06:06:35.443Z"
    }
   },
   "outputs": [
    {
     "data": {
      "text/plain": [
       "(Symbol(\"##x#314\"), Symbol(\"##y#315\"), Symbol(\"##z#316\"))"
      ]
     },
     "execution_count": 66,
     "metadata": {},
     "output_type": "execute_result"
    }
   ],
   "source": [
    "gensym(\"x\", \"y\", \"z\")  # こちらは各引数シンボルは受け付けないので注意！"
   ]
  },
  {
   "cell_type": "code",
   "execution_count": 67,
   "id": "b5324def",
   "metadata": {
    "ExecuteTime": {
     "end_time": "2023-01-27T15:06:43.338000+09:00",
     "start_time": "2023-01-27T06:06:35.446Z"
    }
   },
   "outputs": [],
   "source": [
    "@gensym x y z  # この呼び出し自体は値がない（`nothing` が返る）"
   ]
  },
  {
   "cell_type": "code",
   "execution_count": 68,
   "id": "a3a2fe4a",
   "metadata": {
    "ExecuteTime": {
     "end_time": "2023-01-27T15:06:43.339000+09:00",
     "start_time": "2023-01-27T06:06:35.448Z"
    }
   },
   "outputs": [
    {
     "data": {
      "text/plain": [
       "(Symbol(\"##x#317\"), Symbol(\"##y#318\"), Symbol(\"##z#319\"))"
      ]
     },
     "execution_count": 68,
     "metadata": {},
     "output_type": "execute_result"
    }
   ],
   "source": [
    "(x, y, z)"
   ]
  },
  {
   "cell_type": "markdown",
   "id": "d3dc86c1",
   "metadata": {},
   "source": [
    "#### コード8-40. `gensym()`（`@gensym`）利用例"
   ]
  },
  {
   "cell_type": "code",
   "execution_count": 69,
   "id": "ce7bd363",
   "metadata": {
    "ExecuteTime": {
     "end_time": "2023-01-27T15:06:43.407000+09:00",
     "start_time": "2023-01-27T06:06:35.450Z"
    }
   },
   "outputs": [
    {
     "data": {
      "text/plain": [
       "@use_gensym (macro with 1 method)"
      ]
     },
     "execution_count": 69,
     "metadata": {},
     "output_type": "execute_result"
    }
   ],
   "source": [
    "macro use_gensym()\n",
    "    @gensym result\n",
    "    quote\n",
    "        $result = rand()\n",
    "    end\n",
    "end"
   ]
  },
  {
   "cell_type": "code",
   "execution_count": 70,
   "id": "9747dffa",
   "metadata": {
    "ExecuteTime": {
     "end_time": "2023-01-27T15:06:43.410000+09:00",
     "start_time": "2023-01-27T06:06:35.452Z"
    }
   },
   "outputs": [
    {
     "data": {
      "text/plain": [
       "quote\n",
       "    \u001b[90m#= In[69]:4 =#\u001b[39m\n",
       "    var\"#62###result#320\" = Main.rand()\n",
       "end"
      ]
     },
     "execution_count": 70,
     "metadata": {},
     "output_type": "execute_result"
    }
   ],
   "source": [
    "@macroexpand @use_gensym"
   ]
  },
  {
   "cell_type": "markdown",
   "id": "e219e3d6",
   "metadata": {},
   "source": [
    "### 8-5-5. 実例"
   ]
  },
  {
   "cell_type": "markdown",
   "id": "252df580",
   "metadata": {},
   "source": [
    "#### コード8-41. `OSTypes.jl`（`OSTypes` モジュールの定義）"
   ]
  },
  {
   "cell_type": "code",
   "execution_count": 71,
   "id": "0587e005",
   "metadata": {
    "ExecuteTime": {
     "end_time": "2023-01-27T15:06:43.444000+09:00",
     "start_time": "2023-01-27T06:06:35.455Z"
    }
   },
   "outputs": [
    {
     "data": {
      "text/plain": [
       "Main.OSTypes"
      ]
     },
     "execution_count": 71,
     "metadata": {},
     "output_type": "execute_result"
    }
   ],
   "source": [
    "module OSTypes\n",
    "\n",
    "export OSType, Linux, Mac, Windows, OtherOS, @genostype\n",
    "\n",
    "abstract type OSType end\n",
    "\n",
    "OSType(osname) = OSType(Val(Symbol(osname)))\n",
    "\n",
    "struct OtherOS <: OSType\n",
    "    name::Symbol\n",
    "end\n",
    "OSType(::Val{other}) where {other} = OtherOS(other)\n",
    "Base.print(io::IO, other::OtherOS) = print(io, other.name)\n",
    "\n",
    "function _genostype(typename)\n",
    "    osname = string(typename)\n",
    "    typeid = esc(typename)\n",
    "    basetype = esc(:(OSTypes.OSType))\n",
    "    quote\n",
    "        struct $typeid <: $basetype end\n",
    "        $basetype(::Val{$(QuoteNode(typename))}) = $typeid()\n",
    "        Base.print(io::IO, ::$typeid) = print(io, $osname)\n",
    "    end\n",
    "end\n",
    "\n",
    "macro genostype(typename::Symbol)\n",
    "    _genostype(typename)\n",
    "end\n",
    "\n",
    "macro genostype(typenames::Symbol...)\n",
    "    Expr(:block, (_genostype(typename) for typename in typenames)...)\n",
    "end\n",
    "\n",
    "@genostype Linux Mac Windows\n",
    "\n",
    "end"
   ]
  },
  {
   "cell_type": "markdown",
   "id": "7e96a0d2",
   "metadata": {},
   "source": [
    "#### コード8-42. `OSTypes` モジュールの使用例（`@genostype` の動作例）"
   ]
  },
  {
   "cell_type": "code",
   "execution_count": 72,
   "id": "557ab779",
   "metadata": {
    "ExecuteTime": {
     "end_time": "2023-01-27T15:06:43.445000+09:00",
     "start_time": "2023-01-27T06:06:35.458Z"
    }
   },
   "outputs": [],
   "source": [
    "using .OSTypes"
   ]
  },
  {
   "cell_type": "code",
   "execution_count": 73,
   "id": "bd5d0544",
   "metadata": {
    "ExecuteTime": {
     "end_time": "2023-01-27T15:06:43.608000+09:00",
     "start_time": "2023-01-27T06:06:35.460Z"
    }
   },
   "outputs": [
    {
     "data": {
      "text/plain": [
       "Linux()"
      ]
     },
     "execution_count": 73,
     "metadata": {},
     "output_type": "execute_result"
    }
   ],
   "source": [
    "Linux()"
   ]
  },
  {
   "cell_type": "code",
   "execution_count": 74,
   "id": "15840430",
   "metadata": {
    "ExecuteTime": {
     "end_time": "2023-01-27T15:06:44.595000+09:00",
     "start_time": "2023-01-27T06:06:35.462Z"
    }
   },
   "outputs": [
    {
     "data": {
      "text/plain": [
       "5-element Vector{OSType}:\n",
       " Linux()\n",
       " Mac()\n",
       " Windows()\n",
       " OtherOS(:FreeBSD)\n",
       " OtherOS(:Haiku)"
      ]
     },
     "execution_count": 74,
     "metadata": {},
     "output_type": "execute_result"
    }
   ],
   "source": [
    "[OSType(osname) for osname in (:Linux, :Mac, :Windows, :FreeBSD, :Haiku)]"
   ]
  },
  {
   "cell_type": "code",
   "execution_count": 75,
   "id": "3868c974",
   "metadata": {
    "ExecuteTime": {
     "end_time": "2023-01-27T15:06:44.598000+09:00",
     "start_time": "2023-01-27T06:06:35.463Z"
    }
   },
   "outputs": [],
   "source": [
    "@genostype FreeBSD  # 現在のモジュールに新しい型 `FreeBSD` が追加される"
   ]
  },
  {
   "cell_type": "code",
   "execution_count": 76,
   "id": "ffbeb1c1",
   "metadata": {
    "ExecuteTime": {
     "end_time": "2023-01-27T15:06:44.674000+09:00",
     "start_time": "2023-01-27T06:06:35.465Z"
    }
   },
   "outputs": [
    {
     "data": {
      "text/plain": [
       "5-element Vector{OSType}:\n",
       " Linux()\n",
       " Mac()\n",
       " Windows()\n",
       " FreeBSD()\n",
       " OtherOS(:Haiku)"
      ]
     },
     "execution_count": 76,
     "metadata": {},
     "output_type": "execute_result"
    }
   ],
   "source": [
    "[OSType(osname) for osname in (:Linux, :Mac, :Windows, :FreeBSD, :Haiku)]"
   ]
  },
  {
   "cell_type": "code",
   "execution_count": 77,
   "id": "0323d182",
   "metadata": {
    "ExecuteTime": {
     "end_time": "2023-01-27T15:06:45.071000+09:00",
     "start_time": "2023-01-27T06:06:35.466Z"
    }
   },
   "outputs": [
    {
     "data": {
      "text/plain": [
       "(\"Linux\", \"Mac\", \"Windows\", \"FreeBSD\", \"Haiku\")"
      ]
     },
     "execution_count": 77,
     "metadata": {},
     "output_type": "execute_result"
    }
   ],
   "source": [
    "OSType.((:Linux, :Mac, :Windows, :FreeBSD, :Haiku)) .|> string"
   ]
  },
  {
   "cell_type": "markdown",
   "id": "95b58f68",
   "metadata": {},
   "source": [
    "### 8-5-6. 非標準文字列リテラルとコマンドリテラル"
   ]
  },
  {
   "cell_type": "markdown",
   "id": "f9fee775",
   "metadata": {},
   "source": [
    "#### 仮想コード8-4. `r\"～\"`/`raw\"～\"` の定義例"
   ]
  },
  {
   "cell_type": "markdown",
   "id": "002d02b1",
   "metadata": {},
   "source": [
    "```julia\n",
    "# `r\"～\"` の定義（例）\n",
    "macro r_str(pattern, flags...)\n",
    "    Regex(pattern, flags...)\n",
    "end\n",
    "\n",
    "# `raw\"～\"` の定義（例）\n",
    "macro raw_str(str)\n",
    "    str\n",
    "end\n",
    "```"
   ]
  },
  {
   "cell_type": "markdown",
   "id": "ba44d6b2",
   "metadata": {},
   "source": [
    "#### コード8-43. `XX\"～\"` の確認（`@XX \"～\"` との比較）"
   ]
  },
  {
   "cell_type": "code",
   "execution_count": 78,
   "id": "e68e8569",
   "metadata": {
    "ExecuteTime": {
     "end_time": "2023-01-27T15:06:45.664000+09:00",
     "start_time": "2023-01-27T06:06:35.470Z"
    }
   },
   "outputs": [
    {
     "name": "stdout",
     "output_type": "stream",
     "text": [
      "Expr\n",
      "  head: Symbol macrocall\n",
      "  args: Array{Any}((3,))\n",
      "    1: Symbol @XX_str\n",
      "    2: LineNumberNode\n",
      "      line: Int64 1\n",
      "      file: Symbol In[78]\n",
      "    3: String \"abc\"\n"
     ]
    }
   ],
   "source": [
    "dump(:(XX\"abc\"))"
   ]
  },
  {
   "cell_type": "code",
   "execution_count": 79,
   "id": "37f5ddfc",
   "metadata": {
    "ExecuteTime": {
     "end_time": "2023-01-27T15:06:45.665000+09:00",
     "start_time": "2023-01-27T06:06:35.471Z"
    }
   },
   "outputs": [
    {
     "name": "stdout",
     "output_type": "stream",
     "text": [
      "Expr\n",
      "  head: Symbol macrocall\n",
      "  args: Array{Any}((3,))\n",
      "    1: Symbol @XX_str\n",
      "    2: LineNumberNode\n",
      "      line: Int64 1\n",
      "      file: Symbol In[79]\n",
      "    3: String \"abc\"\n"
     ]
    }
   ],
   "source": [
    "dump(:(@XX_str \"abc\"))"
   ]
  },
  {
   "cell_type": "markdown",
   "id": "b04dd8f2",
   "metadata": {},
   "source": [
    "#### コード8-44. オリジナル非標準文字列リテラル `basedint\"～\"xx` の例"
   ]
  },
  {
   "cell_type": "code",
   "execution_count": 80,
   "id": "06374e3f",
   "metadata": {
    "ExecuteTime": {
     "end_time": "2023-01-27T15:06:45.735000+09:00",
     "start_time": "2023-01-27T06:06:35.473Z"
    }
   },
   "outputs": [
    {
     "data": {
      "text/plain": [
       "@basedint_str (macro with 2 methods)"
      ]
     },
     "execution_count": 80,
     "metadata": {},
     "output_type": "execute_result"
    }
   ],
   "source": [
    "macro basedint_str(str, base=10)\n",
    "    parse(Int, str, base=base)\n",
    "end"
   ]
  },
  {
   "cell_type": "code",
   "execution_count": 81,
   "id": "cc1e3dd1",
   "metadata": {
    "ExecuteTime": {
     "end_time": "2023-01-27T15:06:45.747000+09:00",
     "start_time": "2023-01-27T06:06:35.475Z"
    }
   },
   "outputs": [
    {
     "data": {
      "text/plain": [
       "12"
      ]
     },
     "execution_count": 81,
     "metadata": {},
     "output_type": "execute_result"
    }
   ],
   "source": [
    "basedint\"12\"  # 10進表記の `12`"
   ]
  },
  {
   "cell_type": "code",
   "execution_count": 82,
   "id": "93c8e55c",
   "metadata": {
    "ExecuteTime": {
     "end_time": "2023-01-27T15:06:45.748000+09:00",
     "start_time": "2023-01-27T06:06:35.478Z"
    }
   },
   "outputs": [
    {
     "data": {
      "text/plain": [
       "5"
      ]
     },
     "execution_count": 82,
     "metadata": {},
     "output_type": "execute_result"
    }
   ],
   "source": [
    "basedint\"12\"3  # 3進表記の `12`"
   ]
  },
  {
   "cell_type": "code",
   "execution_count": 83,
   "id": "869e1a55",
   "metadata": {
    "ExecuteTime": {
     "end_time": "2023-01-27T15:06:45.748000+09:00",
     "start_time": "2023-01-27T06:06:35.480Z"
    }
   },
   "outputs": [
    {
     "data": {
      "text/plain": [
       "18"
      ]
     },
     "execution_count": 83,
     "metadata": {},
     "output_type": "execute_result"
    }
   ],
   "source": [
    "basedint\"12\"16  # 16進表記の `12`"
   ]
  },
  {
   "cell_type": "code",
   "execution_count": 84,
   "id": "81ec4711",
   "metadata": {
    "ExecuteTime": {
     "end_time": "2023-01-27T15:06:45.749000+09:00",
     "start_time": "2023-01-27T06:06:35.481Z"
    }
   },
   "outputs": [
    {
     "data": {
      "text/plain": [
       "27"
      ]
     },
     "execution_count": 84,
     "metadata": {},
     "output_type": "execute_result"
    }
   ],
   "source": [
    "basedint\"12\"25  # 25進表記の `12`"
   ]
  },
  {
   "cell_type": "markdown",
   "id": "945bad95",
   "metadata": {},
   "source": [
    "#### コード8-45. 正規表現オブジェクト（コンストラクタ呼び出し）と正規表現リテラルのパフォーマンス比較"
   ]
  },
  {
   "cell_type": "code",
   "execution_count": 85,
   "id": "9dd594b6",
   "metadata": {
    "ExecuteTime": {
     "end_time": "2023-01-27T15:06:45.749000+09:00",
     "start_time": "2023-01-27T06:06:35.483Z"
    }
   },
   "outputs": [],
   "source": [
    "using Random"
   ]
  },
  {
   "cell_type": "code",
   "execution_count": 86,
   "id": "80a6d19e",
   "metadata": {
    "ExecuteTime": {
     "end_time": "2023-01-27T15:06:45.822000+09:00",
     "start_time": "2023-01-27T06:06:35.485Z"
    }
   },
   "outputs": [],
   "source": [
    "lines = [randstring(['0':'9';'A':'Z'], 100) for _ in 1:10000];"
   ]
  },
  {
   "cell_type": "code",
   "execution_count": 87,
   "id": "9834a4fb",
   "metadata": {
    "ExecuteTime": {
     "end_time": "2023-01-27T15:06:45.907000+09:00",
     "start_time": "2023-01-27T06:06:35.487Z"
    }
   },
   "outputs": [
    {
     "name": "stdout",
     "output_type": "stream",
     "text": [
      "  0.059904 seconds (50.75 k allocations: 1.843 MiB, 6.15% compilation time)\n"
     ]
    }
   ],
   "source": [
    "@time for line in lines\n",
    "    m = match(Regex(\"\\\\d{4}\"), line)\n",
    "    m === nothing || print(devnull, m.match)\n",
    "end"
   ]
  },
  {
   "cell_type": "code",
   "execution_count": 88,
   "id": "73e4c68c",
   "metadata": {
    "ExecuteTime": {
     "end_time": "2023-01-27T15:06:45.932000+09:00",
     "start_time": "2023-01-27T06:06:35.489Z"
    }
   },
   "outputs": [
    {
     "name": "stdout",
     "output_type": "stream",
     "text": [
      "  0.007568 seconds (36.73 k allocations: 1.345 MiB)\n"
     ]
    }
   ],
   "source": [
    "@time for line in lines\n",
    "    m = match(r\"\\d{4}\", line)\n",
    "    m === nothing || print(devnull, m.match)\n",
    "end"
   ]
  }
 ],
 "metadata": {
  "jupytext": {
   "formats": "ipynb,auto:light"
  },
  "kernelspec": {
   "display_name": "Julia 1.8.5",
   "language": "julia",
   "name": "julia-1.8"
  },
  "language_info": {
   "file_extension": ".jl",
   "mimetype": "application/julia",
   "name": "julia",
   "version": "1.8.5"
  }
 },
 "nbformat": 4,
 "nbformat_minor": 5
}
