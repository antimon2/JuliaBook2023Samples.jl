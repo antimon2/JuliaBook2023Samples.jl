{
 "cells": [
  {
   "cell_type": "code",
   "execution_count": 1,
   "id": "dda242ed",
   "metadata": {
    "ExecuteTime": {
     "end_time": "2023-01-27T15:03:29.441000+09:00",
     "start_time": "2023-01-27T06:03:28.917Z"
    }
   },
   "outputs": [
    {
     "name": "stdout",
     "output_type": "stream",
     "text": [
      "Julia Version 1.8.5\n",
      "Commit 17cfb8e65ea (2023-01-08 06:45 UTC)\n",
      "Platform Info:\n",
      "  OS: Linux (x86_64-linux-gnu)\n",
      "  CPU: 12 × Intel(R) Core(TM) i7-9750H CPU @ 2.60GHz\n",
      "  WORD_SIZE: 64\n",
      "  LIBM: libopenlibm\n",
      "  LLVM: libLLVM-13.0.1 (ORCJIT, skylake)\n",
      "  Threads: 1 on 12 virtual cores\n"
     ]
    }
   ],
   "source": [
    "versioninfo()"
   ]
  },
  {
   "cell_type": "markdown",
   "id": "00da4a6b",
   "metadata": {},
   "source": [
    "## 8-4. 解析と評価"
   ]
  },
  {
   "cell_type": "markdown",
   "id": "dd9ddae4",
   "metadata": {},
   "source": [
    "### 8-4-1. `Meta.parse()`"
   ]
  },
  {
   "cell_type": "markdown",
   "id": "827484b6",
   "metadata": {},
   "source": [
    "#### コード8-9. `Meta.parse()` の例(1)"
   ]
  },
  {
   "cell_type": "code",
   "execution_count": 2,
   "id": "cbc4f63d",
   "metadata": {
    "ExecuteTime": {
     "end_time": "2023-01-27T15:03:30.159000+09:00",
     "start_time": "2023-01-27T06:03:28.923Z"
    }
   },
   "outputs": [
    {
     "data": {
      "text/plain": [
       "\"1 + 1\""
      ]
     },
     "execution_count": 2,
     "metadata": {},
     "output_type": "execute_result"
    }
   ],
   "source": [
    "src1 = \"1 + 1\""
   ]
  },
  {
   "cell_type": "code",
   "execution_count": 3,
   "id": "341f73fb",
   "metadata": {
    "ExecuteTime": {
     "end_time": "2023-01-27T15:03:31.254000+09:00",
     "start_time": "2023-01-27T06:03:28.926Z"
    }
   },
   "outputs": [
    {
     "data": {
      "text/plain": [
       ":(1 + 1)"
      ]
     },
     "execution_count": 3,
     "metadata": {},
     "output_type": "execute_result"
    }
   ],
   "source": [
    "ex1 = Meta.parse(src1)"
   ]
  },
  {
   "cell_type": "code",
   "execution_count": 4,
   "id": "8544d223",
   "metadata": {
    "ExecuteTime": {
     "end_time": "2023-01-27T15:03:31.779000+09:00",
     "start_time": "2023-01-27T06:03:28.928Z"
    }
   },
   "outputs": [
    {
     "name": "stdout",
     "output_type": "stream",
     "text": [
      "Expr\n",
      "  head: Symbol call\n",
      "  args: Array{Any}((3,))\n",
      "    1: Symbol +\n",
      "    2: Int64 1\n",
      "    3: Int64 1\n"
     ]
    }
   ],
   "source": [
    "dump(ex1)"
   ]
  },
  {
   "cell_type": "code",
   "execution_count": 5,
   "id": "760cd8fb",
   "metadata": {
    "ExecuteTime": {
     "end_time": "2023-01-27T15:03:31.780000+09:00",
     "start_time": "2023-01-27T06:03:28.932Z"
    }
   },
   "outputs": [
    {
     "data": {
      "text/plain": [
       ":(p1 ∧ p2)"
      ]
     },
     "execution_count": 5,
     "metadata": {},
     "output_type": "execute_result"
    }
   ],
   "source": [
    "Meta.parse(\"p1 ∧ p2\")  # `∧` は `\\wedge`+TAB で入力できます"
   ]
  },
  {
   "cell_type": "code",
   "execution_count": 6,
   "id": "b294d21a",
   "metadata": {
    "ExecuteTime": {
     "end_time": "2023-01-27T15:03:31.781000+09:00",
     "start_time": "2023-01-27T06:03:28.934Z"
    }
   },
   "outputs": [
    {
     "name": "stdout",
     "output_type": "stream",
     "text": [
      "Expr\n",
      "  head: Symbol call\n",
      "  args: Array{Any}((3,))\n",
      "    1: Symbol ∧\n",
      "    2: Symbol p1\n",
      "    3: Symbol p2\n"
     ]
    }
   ],
   "source": [
    "dump(Meta.parse(\"p1 ∧ p2\"))"
   ]
  },
  {
   "cell_type": "code",
   "execution_count": 7,
   "id": "45feca41",
   "metadata": {
    "ExecuteTime": {
     "end_time": "2023-01-27T15:03:31.928000+09:00",
     "start_time": "2023-01-27T06:03:28.936Z"
    }
   },
   "outputs": [
    {
     "data": {
      "text/plain": [
       ":a"
      ]
     },
     "execution_count": 7,
     "metadata": {},
     "output_type": "execute_result"
    }
   ],
   "source": [
    "Meta.parse(\"a\")"
   ]
  },
  {
   "cell_type": "code",
   "execution_count": 8,
   "id": "eb4c2ee0",
   "metadata": {
    "ExecuteTime": {
     "end_time": "2023-01-27T15:03:32.256000+09:00",
     "start_time": "2023-01-27T06:03:28.938Z"
    }
   },
   "outputs": [
    {
     "data": {
      "text/plain": [
       "Symbol"
      ]
     },
     "execution_count": 8,
     "metadata": {},
     "output_type": "execute_result"
    }
   ],
   "source": [
    "typeof(Meta.parse(\"a\"))"
   ]
  },
  {
   "cell_type": "code",
   "execution_count": 9,
   "id": "9401f0e0",
   "metadata": {
    "ExecuteTime": {
     "end_time": "2023-01-27T15:03:32.256000+09:00",
     "start_time": "2023-01-27T06:03:28.940Z"
    }
   },
   "outputs": [
    {
     "data": {
      "text/plain": [
       "\"文字列\""
      ]
     },
     "execution_count": 9,
     "metadata": {},
     "output_type": "execute_result"
    }
   ],
   "source": [
    "Meta.parse(\"\\\"文字列\\\"\")"
   ]
  },
  {
   "cell_type": "code",
   "execution_count": 10,
   "id": "b4e414a3",
   "metadata": {
    "ExecuteTime": {
     "end_time": "2023-01-27T15:03:32.267000+09:00",
     "start_time": "2023-01-27T06:03:28.943Z"
    }
   },
   "outputs": [
    {
     "data": {
      "text/plain": [
       "String"
      ]
     },
     "execution_count": 10,
     "metadata": {},
     "output_type": "execute_result"
    }
   ],
   "source": [
    "typeof(Meta.parse(\"\\\"文字列\\\"\"))"
   ]
  },
  {
   "cell_type": "code",
   "execution_count": 11,
   "id": "079ed5ae",
   "metadata": {
    "ExecuteTime": {
     "end_time": "2023-01-27T15:03:32.993000+09:00",
     "start_time": "2023-01-27T06:03:28.946Z"
    }
   },
   "outputs": [
    {
     "ename": "LoadError",
     "evalue": "Base.Meta.ParseError(\"extra token \\\"2\\\" after end of expression\")",
     "output_type": "error",
     "traceback": [
      "Base.Meta.ParseError(\"extra token \\\"2\\\" after end of expression\")",
      "",
      "Stacktrace:",
      " [1] #parse#3",
      "   @ ./meta.jl:237 [inlined]",
      " [2] parse(str::String; raise::Bool, depwarn::Bool)",
      "   @ Base.Meta ./meta.jl:268",
      " [3] parse(str::String)",
      "   @ Base.Meta ./meta.jl:267",
      " [4] top-level scope",
      "   @ In[11]:1"
     ]
    }
   ],
   "source": [
    "Meta.parse(\"(a + b)2\")"
   ]
  },
  {
   "cell_type": "code",
   "execution_count": 12,
   "id": "eda620b2",
   "metadata": {
    "ExecuteTime": {
     "end_time": "2023-01-27T15:03:33.022000+09:00",
     "start_time": "2023-01-27T06:03:28.948Z"
    }
   },
   "outputs": [
    {
     "ename": "LoadError",
     "evalue": "syntax: extra token \"2\" after end of expression",
     "output_type": "error",
     "traceback": [
      "syntax: extra token \"2\" after end of expression",
      "",
      "Stacktrace:",
      " [1] top-level scope",
      "   @ In[12]:1"
     ]
    }
   ],
   "source": [
    "(a + b)2"
   ]
  },
  {
   "cell_type": "markdown",
   "id": "9e90869e",
   "metadata": {},
   "source": [
    "#### コード8-10. `Meta.parse()` の例(2)"
   ]
  },
  {
   "cell_type": "code",
   "execution_count": 13,
   "id": "5fd3fa39",
   "metadata": {
    "ExecuteTime": {
     "end_time": "2023-01-27T15:03:33.041000+09:00",
     "start_time": "2023-01-27T06:03:28.951Z"
    }
   },
   "outputs": [
    {
     "data": {
      "text/plain": [
       ":(a1 + a2 + a3 + a4 + a5)"
      ]
     },
     "execution_count": 13,
     "metadata": {},
     "output_type": "execute_result"
    }
   ],
   "source": [
    "Meta.parse(join([\"a$i\" for i in 1:5], \"+\"))\n",
    "# eqivalent to `Meta.parse(\"a1+a2+a3+a4+a5\")`"
   ]
  },
  {
   "cell_type": "code",
   "execution_count": 14,
   "id": "4d2bc2f1",
   "metadata": {
    "ExecuteTime": {
     "end_time": "2023-01-27T15:03:33.084000+09:00",
     "start_time": "2023-01-27T06:03:28.953Z"
    }
   },
   "outputs": [
    {
     "data": {
      "text/plain": [
       ":(a + b)"
      ]
     },
     "execution_count": 14,
     "metadata": {},
     "output_type": "execute_result"
    }
   ],
   "source": [
    "Meta.parse(strip(\"#a + b#2\", ['#', '2']))\n",
    "# equivalent to `Meta.parse(\"a + b\")`"
   ]
  },
  {
   "cell_type": "markdown",
   "id": "01721dc4",
   "metadata": {},
   "source": [
    "### 8-4-2. `eval()`"
   ]
  },
  {
   "cell_type": "markdown",
   "id": "67579fcc",
   "metadata": {},
   "source": [
    "#### コード8-11. `eval()` の例(1)"
   ]
  },
  {
   "cell_type": "code",
   "execution_count": 15,
   "id": "b5bb01eb",
   "metadata": {
    "ExecuteTime": {
     "end_time": "2023-01-27T15:03:33.085000+09:00",
     "start_time": "2023-01-27T06:03:28.957Z"
    }
   },
   "outputs": [
    {
     "data": {
      "text/plain": [
       ":(1 + 1)"
      ]
     },
     "execution_count": 15,
     "metadata": {},
     "output_type": "execute_result"
    }
   ],
   "source": [
    "ex1 = Meta.parse(\"1 + 1\")  # `ex1 = :(1 + 1)` としても全く同じ"
   ]
  },
  {
   "cell_type": "code",
   "execution_count": 16,
   "id": "43c1b8ce",
   "metadata": {
    "ExecuteTime": {
     "end_time": "2023-01-27T15:03:33.238000+09:00",
     "start_time": "2023-01-27T06:03:28.959Z"
    }
   },
   "outputs": [
    {
     "data": {
      "text/plain": [
       "2"
      ]
     },
     "execution_count": 16,
     "metadata": {},
     "output_type": "execute_result"
    }
   ],
   "source": [
    "eval(ex1)  # `1 + 1` の結果を返す"
   ]
  },
  {
   "cell_type": "code",
   "execution_count": 17,
   "id": "3cca8171",
   "metadata": {
    "ExecuteTime": {
     "end_time": "2023-01-27T15:03:33.241000+09:00",
     "start_time": "2023-01-27T06:03:28.962Z"
    }
   },
   "outputs": [
    {
     "data": {
      "text/plain": [
       "97"
      ]
     },
     "execution_count": 17,
     "metadata": {},
     "output_type": "execute_result"
    }
   ],
   "source": [
    "a = 97;\n",
    "eval(:a)  # シンボルを渡すとその識別子が表す値を返す"
   ]
  },
  {
   "cell_type": "code",
   "execution_count": 18,
   "id": "20592464",
   "metadata": {
    "ExecuteTime": {
     "end_time": "2023-01-27T15:03:33.241000+09:00",
     "start_time": "2023-01-27T06:03:28.964Z"
    }
   },
   "outputs": [
    {
     "data": {
      "text/plain": [
       ":(a + b)"
      ]
     },
     "execution_count": 18,
     "metadata": {},
     "output_type": "execute_result"
    }
   ],
   "source": [
    "ex2 = :(a + b)"
   ]
  },
  {
   "cell_type": "code",
   "execution_count": 19,
   "id": "08db2179",
   "metadata": {
    "ExecuteTime": {
     "end_time": "2023-01-27T15:03:33.303000+09:00",
     "start_time": "2023-01-27T06:03:28.966Z"
    }
   },
   "outputs": [
    {
     "ename": "LoadError",
     "evalue": "UndefVarError: b not defined",
     "output_type": "error",
     "traceback": [
      "UndefVarError: b not defined",
      "",
      "Stacktrace:",
      " [1] top-level scope",
      "   @ none:1",
      " [2] eval",
      "   @ ./boot.jl:368 [inlined]",
      " [3] eval(x::Expr)",
      "   @ Base.MainInclude ./client.jl:478",
      " [4] top-level scope",
      "   @ In[19]:1"
     ]
    }
   ],
   "source": [
    "eval(ex2)  # `b` にまだ何も代入されていないのでエラーとなる"
   ]
  },
  {
   "cell_type": "code",
   "execution_count": 20,
   "id": "4a11f51a",
   "metadata": {
    "ExecuteTime": {
     "end_time": "2023-01-27T15:03:33.304000+09:00",
     "start_time": "2023-01-27T06:03:28.968Z"
    }
   },
   "outputs": [
    {
     "data": {
      "text/plain": [
       "100"
      ]
     },
     "execution_count": 20,
     "metadata": {},
     "output_type": "execute_result"
    }
   ],
   "source": [
    "b = 3;\n",
    "eval(ex2)  # エラーにならず `a + b`（＝`97 + 3`）の結果を返す"
   ]
  },
  {
   "cell_type": "markdown",
   "id": "d931d4c4",
   "metadata": {},
   "source": [
    "#### コード8-12. `:(a + b - c)`"
   ]
  },
  {
   "cell_type": "code",
   "execution_count": 21,
   "id": "58443f34",
   "metadata": {
    "ExecuteTime": {
     "end_time": "2023-01-27T15:03:33.305000+09:00",
     "start_time": "2023-01-27T06:03:28.970Z"
    }
   },
   "outputs": [
    {
     "data": {
      "text/plain": [
       ":((a + b) - c)"
      ]
     },
     "execution_count": 21,
     "metadata": {},
     "output_type": "execute_result"
    }
   ],
   "source": [
    "ex3 = :(a + b - c)"
   ]
  },
  {
   "cell_type": "code",
   "execution_count": 22,
   "id": "43c5eeb1",
   "metadata": {
    "ExecuteTime": {
     "end_time": "2023-01-27T15:03:33.306000+09:00",
     "start_time": "2023-01-27T06:03:28.972Z"
    }
   },
   "outputs": [
    {
     "name": "stdout",
     "output_type": "stream",
     "text": [
      "Expr\n",
      "  head: Symbol call\n",
      "  args: Array{Any}((3,))\n",
      "    1: Symbol -\n",
      "    2: Expr\n",
      "      head: Symbol call\n",
      "      args: Array{Any}((3,))\n",
      "        1: Symbol +\n",
      "        2: Symbol a\n",
      "        3: Symbol b\n",
      "    3: Symbol c\n"
     ]
    }
   ],
   "source": [
    "dump(ex3)"
   ]
  },
  {
   "cell_type": "markdown",
   "id": "1859fb47",
   "metadata": {},
   "source": [
    "#### コード8-13. `eval(:(a + b - c))` の評価の流れ（エミュレーション）"
   ]
  },
  {
   "cell_type": "code",
   "execution_count": 23,
   "id": "7dd6dec1",
   "metadata": {
    "ExecuteTime": {
     "end_time": "2023-01-27T15:03:33.306000+09:00",
     "start_time": "2023-01-27T06:03:28.974Z"
    }
   },
   "outputs": [],
   "source": [
    "a = 1; b = 3; c = 2;"
   ]
  },
  {
   "cell_type": "code",
   "execution_count": 24,
   "id": "9ea873c1",
   "metadata": {
    "ExecuteTime": {
     "end_time": "2023-01-27T15:03:33.307000+09:00",
     "start_time": "2023-01-27T06:03:28.977Z"
    }
   },
   "outputs": [
    {
     "data": {
      "text/plain": [
       ":-"
      ]
     },
     "execution_count": 24,
     "metadata": {},
     "output_type": "execute_result"
    }
   ],
   "source": [
    "ex3.args[1]"
   ]
  },
  {
   "cell_type": "code",
   "execution_count": 25,
   "id": "2ac5b892",
   "metadata": {
    "ExecuteTime": {
     "end_time": "2023-01-27T15:03:33.470000+09:00",
     "start_time": "2023-01-27T06:03:28.978Z"
    }
   },
   "outputs": [
    {
     "data": {
      "text/plain": [
       "- (generic function with 211 methods)"
      ]
     },
     "execution_count": 25,
     "metadata": {},
     "output_type": "execute_result"
    }
   ],
   "source": [
    "eval(ex3.args[1])"
   ]
  },
  {
   "cell_type": "code",
   "execution_count": 26,
   "id": "85f29548",
   "metadata": {
    "ExecuteTime": {
     "end_time": "2023-01-27T15:03:33.471000+09:00",
     "start_time": "2023-01-27T06:03:28.980Z"
    }
   },
   "outputs": [
    {
     "data": {
      "text/plain": [
       ":(a + b)"
      ]
     },
     "execution_count": 26,
     "metadata": {},
     "output_type": "execute_result"
    }
   ],
   "source": [
    "ex3.args[2]"
   ]
  },
  {
   "cell_type": "code",
   "execution_count": 27,
   "id": "0ec4cf52",
   "metadata": {
    "ExecuteTime": {
     "end_time": "2023-01-27T15:03:33.471000+09:00",
     "start_time": "2023-01-27T06:03:28.982Z"
    }
   },
   "outputs": [
    {
     "data": {
      "text/plain": [
       ":+"
      ]
     },
     "execution_count": 27,
     "metadata": {},
     "output_type": "execute_result"
    }
   ],
   "source": [
    "ex3.args[2].args[1]"
   ]
  },
  {
   "cell_type": "code",
   "execution_count": 28,
   "id": "719f7e5f",
   "metadata": {
    "ExecuteTime": {
     "end_time": "2023-01-27T15:03:33.541000+09:00",
     "start_time": "2023-01-27T06:03:28.984Z"
    }
   },
   "outputs": [
    {
     "data": {
      "text/plain": [
       "+ (generic function with 206 methods)"
      ]
     },
     "execution_count": 28,
     "metadata": {},
     "output_type": "execute_result"
    }
   ],
   "source": [
    "eval(ex3.args[2].args[1])"
   ]
  },
  {
   "cell_type": "code",
   "execution_count": 29,
   "id": "61fb6f87",
   "metadata": {
    "ExecuteTime": {
     "end_time": "2023-01-27T15:03:33.542000+09:00",
     "start_time": "2023-01-27T06:03:28.986Z"
    }
   },
   "outputs": [
    {
     "data": {
      "text/plain": [
       ":a"
      ]
     },
     "execution_count": 29,
     "metadata": {},
     "output_type": "execute_result"
    }
   ],
   "source": [
    "ex3.args[2].args[2]"
   ]
  },
  {
   "cell_type": "code",
   "execution_count": 30,
   "id": "3c162d27",
   "metadata": {
    "ExecuteTime": {
     "end_time": "2023-01-27T15:03:33.542000+09:00",
     "start_time": "2023-01-27T06:03:28.988Z"
    }
   },
   "outputs": [
    {
     "data": {
      "text/plain": [
       "1"
      ]
     },
     "execution_count": 30,
     "metadata": {},
     "output_type": "execute_result"
    }
   ],
   "source": [
    "eval(ex3.args[2].args[2])"
   ]
  },
  {
   "cell_type": "code",
   "execution_count": 31,
   "id": "b13efaea",
   "metadata": {
    "ExecuteTime": {
     "end_time": "2023-01-27T15:03:33.543000+09:00",
     "start_time": "2023-01-27T06:03:28.990Z"
    }
   },
   "outputs": [
    {
     "data": {
      "text/plain": [
       ":b"
      ]
     },
     "execution_count": 31,
     "metadata": {},
     "output_type": "execute_result"
    }
   ],
   "source": [
    "ex3.args[2].args[3]"
   ]
  },
  {
   "cell_type": "code",
   "execution_count": 32,
   "id": "b2b1222e",
   "metadata": {
    "ExecuteTime": {
     "end_time": "2023-01-27T15:03:33.543000+09:00",
     "start_time": "2023-01-27T06:03:28.992Z"
    }
   },
   "outputs": [
    {
     "data": {
      "text/plain": [
       "3"
      ]
     },
     "execution_count": 32,
     "metadata": {},
     "output_type": "execute_result"
    }
   ],
   "source": [
    "eval(ex3.args[2].args[3])"
   ]
  },
  {
   "cell_type": "code",
   "execution_count": 33,
   "id": "0f485991",
   "metadata": {
    "ExecuteTime": {
     "end_time": "2023-01-27T15:03:33.544000+09:00",
     "start_time": "2023-01-27T06:03:28.994Z"
    }
   },
   "outputs": [
    {
     "data": {
      "text/plain": [
       "4"
      ]
     },
     "execution_count": 33,
     "metadata": {},
     "output_type": "execute_result"
    }
   ],
   "source": [
    "eval(ex3.args[2])  # compute `1 + 3`"
   ]
  },
  {
   "cell_type": "code",
   "execution_count": 34,
   "id": "5ee1f8fd",
   "metadata": {
    "ExecuteTime": {
     "end_time": "2023-01-27T15:03:33.544000+09:00",
     "start_time": "2023-01-27T06:03:28.996Z"
    }
   },
   "outputs": [
    {
     "data": {
      "text/plain": [
       ":c"
      ]
     },
     "execution_count": 34,
     "metadata": {},
     "output_type": "execute_result"
    }
   ],
   "source": [
    "ex3.args[3]"
   ]
  },
  {
   "cell_type": "code",
   "execution_count": 35,
   "id": "e959fcc2",
   "metadata": {
    "ExecuteTime": {
     "end_time": "2023-01-27T15:03:33.545000+09:00",
     "start_time": "2023-01-27T06:03:28.998Z"
    }
   },
   "outputs": [
    {
     "data": {
      "text/plain": [
       "2"
      ]
     },
     "execution_count": 35,
     "metadata": {},
     "output_type": "execute_result"
    }
   ],
   "source": [
    "eval(ex3.args[3])"
   ]
  },
  {
   "cell_type": "code",
   "execution_count": 36,
   "id": "63daa8a1",
   "metadata": {
    "ExecuteTime": {
     "end_time": "2023-01-27T15:03:33.545000+09:00",
     "start_time": "2023-01-27T06:03:29.001Z"
    }
   },
   "outputs": [
    {
     "data": {
      "text/plain": [
       "2"
      ]
     },
     "execution_count": 36,
     "metadata": {},
     "output_type": "execute_result"
    }
   ],
   "source": [
    "eval(ex3)  # compute `4 - 2`"
   ]
  },
  {
   "cell_type": "markdown",
   "id": "fd94359e",
   "metadata": {},
   "source": [
    "#### コード8-14. `ex4 = :(iseven(a) ? :even : :odd)` とその評価"
   ]
  },
  {
   "cell_type": "code",
   "execution_count": 37,
   "id": "1a92cbc1",
   "metadata": {
    "ExecuteTime": {
     "end_time": "2023-01-27T15:03:33.578000+09:00",
     "start_time": "2023-01-27T06:03:29.003Z"
    }
   },
   "outputs": [
    {
     "data": {
      "text/plain": [
       ":(if iseven(a)\n",
       "      :even\n",
       "  else\n",
       "      :odd\n",
       "  end)"
      ]
     },
     "execution_count": 37,
     "metadata": {},
     "output_type": "execute_result"
    }
   ],
   "source": [
    "ex4 = :(iseven(a) ? :even : :odd)"
   ]
  },
  {
   "cell_type": "code",
   "execution_count": 38,
   "id": "a3963e03",
   "metadata": {
    "ExecuteTime": {
     "end_time": "2023-01-27T15:03:33.579000+09:00",
     "start_time": "2023-01-27T06:03:29.005Z"
    }
   },
   "outputs": [
    {
     "name": "stdout",
     "output_type": "stream",
     "text": [
      "Expr\n",
      "  head: Symbol if\n",
      "  args: Array{Any}((3,))\n",
      "    1: Expr\n",
      "      head: Symbol call\n",
      "      args: Array{Any}((2,))\n",
      "        1: Symbol iseven\n",
      "        2: Symbol a\n",
      "    2: QuoteNode\n",
      "      value: Symbol even\n",
      "    3: QuoteNode\n",
      "      value: Symbol odd\n"
     ]
    }
   ],
   "source": [
    "dump(ex4)"
   ]
  },
  {
   "cell_type": "code",
   "execution_count": 39,
   "id": "9afc4f43",
   "metadata": {
    "ExecuteTime": {
     "end_time": "2023-01-27T15:03:33.580000+09:00",
     "start_time": "2023-01-27T06:03:29.007Z"
    }
   },
   "outputs": [
    {
     "data": {
      "text/plain": [
       "1"
      ]
     },
     "execution_count": 39,
     "metadata": {},
     "output_type": "execute_result"
    }
   ],
   "source": [
    "a = 1"
   ]
  },
  {
   "cell_type": "code",
   "execution_count": 40,
   "id": "a091c4cf",
   "metadata": {
    "ExecuteTime": {
     "end_time": "2023-01-27T15:03:33.580000+09:00",
     "start_time": "2023-01-27T06:03:29.009Z"
    }
   },
   "outputs": [
    {
     "data": {
      "text/plain": [
       ":if"
      ]
     },
     "execution_count": 40,
     "metadata": {},
     "output_type": "execute_result"
    }
   ],
   "source": [
    "ex4.head"
   ]
  },
  {
   "cell_type": "code",
   "execution_count": 41,
   "id": "e5feb0ca",
   "metadata": {
    "ExecuteTime": {
     "end_time": "2023-01-27T15:03:33.580000+09:00",
     "start_time": "2023-01-27T06:03:29.011Z"
    }
   },
   "outputs": [
    {
     "data": {
      "text/plain": [
       ":(iseven(a))"
      ]
     },
     "execution_count": 41,
     "metadata": {},
     "output_type": "execute_result"
    }
   ],
   "source": [
    "ex4.args[1]"
   ]
  },
  {
   "cell_type": "code",
   "execution_count": 42,
   "id": "b8e6b3ba",
   "metadata": {
    "ExecuteTime": {
     "end_time": "2023-01-27T15:03:33.581000+09:00",
     "start_time": "2023-01-27T06:03:29.013Z"
    }
   },
   "outputs": [
    {
     "data": {
      "text/plain": [
       ":call"
      ]
     },
     "execution_count": 42,
     "metadata": {},
     "output_type": "execute_result"
    }
   ],
   "source": [
    "ex4.args[1].head"
   ]
  },
  {
   "cell_type": "code",
   "execution_count": 43,
   "id": "f3b706b4",
   "metadata": {
    "ExecuteTime": {
     "end_time": "2023-01-27T15:03:33.581000+09:00",
     "start_time": "2023-01-27T06:03:29.015Z"
    }
   },
   "outputs": [
    {
     "data": {
      "text/plain": [
       ":iseven"
      ]
     },
     "execution_count": 43,
     "metadata": {},
     "output_type": "execute_result"
    }
   ],
   "source": [
    "ex4.args[1].args[1]"
   ]
  },
  {
   "cell_type": "code",
   "execution_count": 44,
   "id": "10215a51",
   "metadata": {
    "ExecuteTime": {
     "end_time": "2023-01-27T15:03:33.652000+09:00",
     "start_time": "2023-01-27T06:03:29.016Z"
    }
   },
   "outputs": [
    {
     "data": {
      "text/plain": [
       "iseven (generic function with 5 methods)"
      ]
     },
     "execution_count": 44,
     "metadata": {},
     "output_type": "execute_result"
    }
   ],
   "source": [
    "eval(ex4.args[1].args[1])"
   ]
  },
  {
   "cell_type": "code",
   "execution_count": 45,
   "id": "435139e0",
   "metadata": {
    "ExecuteTime": {
     "end_time": "2023-01-27T15:03:33.653000+09:00",
     "start_time": "2023-01-27T06:03:29.018Z"
    }
   },
   "outputs": [
    {
     "data": {
      "text/plain": [
       ":a"
      ]
     },
     "execution_count": 45,
     "metadata": {},
     "output_type": "execute_result"
    }
   ],
   "source": [
    "ex4.args[1].args[2]"
   ]
  },
  {
   "cell_type": "code",
   "execution_count": 46,
   "id": "395c8101",
   "metadata": {
    "ExecuteTime": {
     "end_time": "2023-01-27T15:03:33.653000+09:00",
     "start_time": "2023-01-27T06:03:29.020Z"
    }
   },
   "outputs": [
    {
     "data": {
      "text/plain": [
       "1"
      ]
     },
     "execution_count": 46,
     "metadata": {},
     "output_type": "execute_result"
    }
   ],
   "source": [
    "eval(ex4.args[1].args[2])"
   ]
  },
  {
   "cell_type": "code",
   "execution_count": 47,
   "id": "39cefbf5",
   "metadata": {
    "ExecuteTime": {
     "end_time": "2023-01-27T15:03:33.831000+09:00",
     "start_time": "2023-01-27T06:03:29.022Z"
    }
   },
   "outputs": [
    {
     "data": {
      "text/plain": [
       "false"
      ]
     },
     "execution_count": 47,
     "metadata": {},
     "output_type": "execute_result"
    }
   ],
   "source": [
    "eval(ex4.args[1])"
   ]
  },
  {
   "cell_type": "code",
   "execution_count": 48,
   "id": "7001bda7",
   "metadata": {
    "ExecuteTime": {
     "end_time": "2023-01-27T15:03:34.006000+09:00",
     "start_time": "2023-01-27T06:03:29.024Z"
    }
   },
   "outputs": [
    {
     "data": {
      "text/plain": [
       ":(:odd)"
      ]
     },
     "execution_count": 48,
     "metadata": {},
     "output_type": "execute_result"
    }
   ],
   "source": [
    "ex4.args[3]"
   ]
  },
  {
   "cell_type": "code",
   "execution_count": 49,
   "id": "91158797",
   "metadata": {
    "ExecuteTime": {
     "end_time": "2023-01-27T15:03:34.010000+09:00",
     "start_time": "2023-01-27T06:03:29.025Z"
    }
   },
   "outputs": [
    {
     "data": {
      "text/plain": [
       ":odd"
      ]
     },
     "execution_count": 49,
     "metadata": {},
     "output_type": "execute_result"
    }
   ],
   "source": [
    "eval(ex4.args[3])"
   ]
  },
  {
   "cell_type": "code",
   "execution_count": 50,
   "id": "1eb1eec4",
   "metadata": {
    "ExecuteTime": {
     "end_time": "2023-01-27T15:03:34.011000+09:00",
     "start_time": "2023-01-27T06:03:29.027Z"
    }
   },
   "outputs": [
    {
     "data": {
      "text/plain": [
       ":odd"
      ]
     },
     "execution_count": 50,
     "metadata": {},
     "output_type": "execute_result"
    }
   ],
   "source": [
    "eval(ex4)"
   ]
  },
  {
   "cell_type": "markdown",
   "id": "96b5f182",
   "metadata": {},
   "source": [
    "### 8-4-3. 式展開"
   ]
  },
  {
   "cell_type": "markdown",
   "id": "a3bcc936",
   "metadata": {},
   "source": [
    "#### コード8-15. `Expr` の式展開の例(1)"
   ]
  },
  {
   "cell_type": "code",
   "execution_count": 51,
   "id": "0684fa5e",
   "metadata": {
    "ExecuteTime": {
     "end_time": "2023-01-27T15:03:34.012000+09:00",
     "start_time": "2023-01-27T06:03:29.029Z"
    }
   },
   "outputs": [
    {
     "data": {
      "text/plain": [
       ":(97 + b)"
      ]
     },
     "execution_count": 51,
     "metadata": {},
     "output_type": "execute_result"
    }
   ],
   "source": [
    "a = 97;\n",
    "ex3 = :($a + b)"
   ]
  },
  {
   "cell_type": "code",
   "execution_count": 52,
   "id": "3175efa1",
   "metadata": {
    "ExecuteTime": {
     "end_time": "2023-01-27T15:03:34.012000+09:00",
     "start_time": "2023-01-27T06:03:29.031Z"
    }
   },
   "outputs": [
    {
     "data": {
      "text/plain": [
       "100"
      ]
     },
     "execution_count": 52,
     "metadata": {},
     "output_type": "execute_result"
    }
   ],
   "source": [
    "b = 3;\n",
    "eval(ex3)  # `97 + b` が評価される"
   ]
  },
  {
   "cell_type": "code",
   "execution_count": 53,
   "id": "b70f5da1",
   "metadata": {
    "ExecuteTime": {
     "end_time": "2023-01-27T15:03:34.013000+09:00",
     "start_time": "2023-01-27T06:03:29.033Z"
    }
   },
   "outputs": [
    {
     "data": {
      "text/plain": [
       "98"
      ]
     },
     "execution_count": 53,
     "metadata": {},
     "output_type": "execute_result"
    }
   ],
   "source": [
    "a = 0; b = 1;  # ここで `a` に別の値を代入しても `ex3` に影響はない\n",
    "eval(ex3)  #  `97 + b` が評価される"
   ]
  },
  {
   "cell_type": "code",
   "execution_count": 54,
   "id": "3b5f9d64",
   "metadata": {
    "ExecuteTime": {
     "end_time": "2023-01-27T15:03:34.013000+09:00",
     "start_time": "2023-01-27T06:03:29.034Z"
    }
   },
   "outputs": [
    {
     "data": {
      "text/plain": [
       ":(1 + c)"
      ]
     },
     "execution_count": 54,
     "metadata": {},
     "output_type": "execute_result"
    }
   ],
   "source": [
    "ex3a = :($(a + b) + c)  # `a == 0`, `b == 1` なので `a + b == 1`"
   ]
  },
  {
   "cell_type": "code",
   "execution_count": 55,
   "id": "4ce2ae56",
   "metadata": {
    "ExecuteTime": {
     "end_time": "2023-01-27T15:03:34.014000+09:00",
     "start_time": "2023-01-27T06:03:29.036Z"
    }
   },
   "outputs": [
    {
     "data": {
      "text/plain": [
       "11"
      ]
     },
     "execution_count": 55,
     "metadata": {},
     "output_type": "execute_result"
    }
   ],
   "source": [
    "c = 10;\n",
    "eval(ex3a)"
   ]
  },
  {
   "cell_type": "markdown",
   "id": "fba20075",
   "metadata": {},
   "source": [
    "#### コード8-16. `Expr` の式展開の例(2)"
   ]
  },
  {
   "cell_type": "code",
   "execution_count": 56,
   "id": "b0e5081a",
   "metadata": {
    "ExecuteTime": {
     "end_time": "2023-01-27T15:03:34.018000+09:00",
     "start_time": "2023-01-27T06:03:29.038Z"
    }
   },
   "outputs": [],
   "source": [
    "args = (n^2 for n=1:5);"
   ]
  },
  {
   "cell_type": "code",
   "execution_count": 57,
   "id": "e44ad60f",
   "metadata": {
    "ExecuteTime": {
     "end_time": "2023-01-27T15:03:34.028000+09:00",
     "start_time": "2023-01-27T06:03:29.040Z"
    }
   },
   "outputs": [
    {
     "data": {
      "text/plain": [
       ":(fn(1, 4, 9, 16, 25))"
      ]
     },
     "execution_count": 57,
     "metadata": {},
     "output_type": "execute_result"
    }
   ],
   "source": [
    "ex4_fn = :(fn($(args...)))"
   ]
  },
  {
   "cell_type": "code",
   "execution_count": 58,
   "id": "6a3cd662",
   "metadata": {
    "ExecuteTime": {
     "end_time": "2023-01-27T15:03:34.029000+09:00",
     "start_time": "2023-01-27T06:03:29.043Z"
    }
   },
   "outputs": [
    {
     "data": {
      "text/plain": [
       ":(fn(0, 1, 4, 9, 16, 25))"
      ]
     },
     "execution_count": 58,
     "metadata": {},
     "output_type": "execute_result"
    }
   ],
   "source": [
    "ex4_fn2 = :(fn(0, $(args...)))"
   ]
  },
  {
   "cell_type": "code",
   "execution_count": 59,
   "id": "09025a6b",
   "metadata": {
    "ExecuteTime": {
     "end_time": "2023-01-27T15:03:34.030000+09:00",
     "start_time": "2023-01-27T06:03:29.044Z"
    }
   },
   "outputs": [
    {
     "data": {
      "text/plain": [
       ":([1, 4, 9, 16, 25])"
      ]
     },
     "execution_count": 59,
     "metadata": {},
     "output_type": "execute_result"
    }
   ],
   "source": [
    "ex4_vector = :([$(args...)])"
   ]
  },
  {
   "cell_type": "code",
   "execution_count": 60,
   "id": "b89867cd",
   "metadata": {
    "ExecuteTime": {
     "end_time": "2023-01-27T15:03:34.030000+09:00",
     "start_time": "2023-01-27T06:03:29.047Z"
    }
   },
   "outputs": [
    {
     "data": {
      "text/plain": [
       ":([0, 1, 4, 9, 16, 25])"
      ]
     },
     "execution_count": 60,
     "metadata": {},
     "output_type": "execute_result"
    }
   ],
   "source": [
    "ex4_vector = :([0, $(args...)])"
   ]
  },
  {
   "cell_type": "code",
   "execution_count": 61,
   "id": "7dc8f3ff",
   "metadata": {
    "ExecuteTime": {
     "end_time": "2023-01-27T15:03:34.031000+09:00",
     "start_time": "2023-01-27T06:03:29.049Z"
    }
   },
   "outputs": [
    {
     "data": {
      "text/plain": [
       ":((1, 4, 9, 16, 25))"
      ]
     },
     "execution_count": 61,
     "metadata": {},
     "output_type": "execute_result"
    }
   ],
   "source": [
    "ex4_tuple = :(($(args...),))"
   ]
  },
  {
   "cell_type": "code",
   "execution_count": 62,
   "id": "69f08266",
   "metadata": {
    "ExecuteTime": {
     "end_time": "2023-01-27T15:03:34.031000+09:00",
     "start_time": "2023-01-27T06:03:29.051Z"
    }
   },
   "outputs": [
    {
     "data": {
      "text/plain": [
       ":((0, 1, 4, 9, 16, 25))"
      ]
     },
     "execution_count": 62,
     "metadata": {},
     "output_type": "execute_result"
    }
   ],
   "source": [
    "ex4_tuple = :((0, $(args...)))"
   ]
  },
  {
   "cell_type": "code",
   "execution_count": 63,
   "id": "403ac78d",
   "metadata": {
    "ExecuteTime": {
     "end_time": "2023-01-27T15:03:34.037000+09:00",
     "start_time": "2023-01-27T06:03:29.053Z"
    }
   },
   "outputs": [
    {
     "data": {
      "text/plain": [
       "\"1491625\""
      ]
     },
     "execution_count": 63,
     "metadata": {},
     "output_type": "execute_result"
    }
   ],
   "source": [
    "\"$(args...)\"  # 参考（比較）"
   ]
  },
  {
   "cell_type": "markdown",
   "id": "dc4eb9d1",
   "metadata": {},
   "source": [
    "#### コード8−17. `Expr` の式展開の例(3)"
   ]
  },
  {
   "cell_type": "code",
   "execution_count": 64,
   "id": "b348cd52",
   "metadata": {
    "ExecuteTime": {
     "end_time": "2023-01-27T15:03:34.038000+09:00",
     "start_time": "2023-01-27T06:03:29.056Z"
    }
   },
   "outputs": [
    {
     "data": {
      "text/plain": [
       ":(x + y)"
      ]
     },
     "execution_count": 64,
     "metadata": {},
     "output_type": "execute_result"
    }
   ],
   "source": [
    "qx = :x;\n",
    "qy = :y;\n",
    "ex5_add = :($qx + $qy)"
   ]
  },
  {
   "cell_type": "code",
   "execution_count": 65,
   "id": "7bdcdef1",
   "metadata": {
    "ExecuteTime": {
     "end_time": "2023-01-27T15:03:34.039000+09:00",
     "start_time": "2023-01-27T06:03:29.062Z"
    }
   },
   "outputs": [
    {
     "data": {
      "text/plain": [
       "7"
      ]
     },
     "execution_count": 65,
     "metadata": {},
     "output_type": "execute_result"
    }
   ],
   "source": [
    "x = 3;\n",
    "y = 4;\n",
    "eval(ex5_add)"
   ]
  },
  {
   "cell_type": "code",
   "execution_count": 66,
   "id": "5d1d9deb",
   "metadata": {
    "ExecuteTime": {
     "end_time": "2023-01-27T15:03:34.039000+09:00",
     "start_time": "2023-01-27T06:03:29.066Z"
    }
   },
   "outputs": [
    {
     "data": {
      "text/plain": [
       ":(muladd(x, y, 5))"
      ]
     },
     "execution_count": 66,
     "metadata": {},
     "output_type": "execute_result"
    }
   ],
   "source": [
    "args = (:x, :y, 5);\n",
    "ex5_muladd = :(muladd($(args...)))"
   ]
  },
  {
   "cell_type": "code",
   "execution_count": 67,
   "id": "f545ecb8",
   "metadata": {
    "ExecuteTime": {
     "end_time": "2023-01-27T15:03:34.042000+09:00",
     "start_time": "2023-01-27T06:03:29.070Z"
    }
   },
   "outputs": [
    {
     "data": {
      "text/plain": [
       "17"
      ]
     },
     "execution_count": 67,
     "metadata": {},
     "output_type": "execute_result"
    }
   ],
   "source": [
    "eval(ex5_muladd)"
   ]
  },
  {
   "cell_type": "code",
   "execution_count": 68,
   "id": "c79c2c62",
   "metadata": {
    "ExecuteTime": {
     "end_time": "2023-01-27T15:03:34.051000+09:00",
     "start_time": "2023-01-27T06:03:29.073Z"
    }
   },
   "outputs": [
    {
     "data": {
      "text/plain": [
       "quote\n",
       "    if iseven(a)\n",
       "        :even\n",
       "    else\n",
       "        :odd\n",
       "    end\n",
       "end"
      ]
     },
     "execution_count": 68,
     "metadata": {},
     "output_type": "execute_result"
    }
   ],
   "source": [
    "qs_even = QuoteNode(:even);\n",
    "qs_odd = QuoteNode(:odd);\n",
    "quote\n",
    "    if iseven(a)\n",
    "        $qs_even\n",
    "    else\n",
    "        $qs_odd\n",
    "    end\n",
    "end |> Base.remove_linenums!"
   ]
  },
  {
   "cell_type": "markdown",
   "id": "9c174548",
   "metadata": {},
   "source": [
    "#### コード8-18. `Expr` の式展開の例(4)"
   ]
  },
  {
   "cell_type": "code",
   "execution_count": 69,
   "id": "e322fbd7",
   "metadata": {
    "ExecuteTime": {
     "end_time": "2023-01-27T15:03:34.052000+09:00",
     "start_time": "2023-01-27T06:03:29.077Z"
    }
   },
   "outputs": [
    {
     "name": "stdout",
     "output_type": "stream",
     "text": [
      "Expr\n",
      "  head: Symbol call\n",
      "  args: Array{Any}((3,))\n",
      "    1: Symbol +\n",
      "    2: Expr\n",
      "      head: Symbol call\n",
      "      args: Array{Any}((3,))\n",
      "        1: Symbol //\n",
      "        2: Int64 1\n",
      "        3: Int64 2\n",
      "    3: Int64 1\n"
     ]
    }
   ],
   "source": [
    "dump(:(1//2 + 1))"
   ]
  },
  {
   "cell_type": "code",
   "execution_count": 70,
   "id": "552088a4",
   "metadata": {
    "ExecuteTime": {
     "end_time": "2023-01-27T15:03:34.073000+09:00",
     "start_time": "2023-01-27T06:03:29.079Z"
    }
   },
   "outputs": [
    {
     "name": "stdout",
     "output_type": "stream",
     "text": [
      "Expr\n",
      "  head: Symbol call\n",
      "  args: Array{Any}((3,))\n",
      "    1: Symbol +\n",
      "    2: Rational{Int64}\n",
      "      num: Int64 1\n",
      "      den: Int64 2\n",
      "    3: Int64 1\n"
     ]
    }
   ],
   "source": [
    "dump(:($(1//2) + 1))  # `1//2` という「値」をアンクォート"
   ]
  },
  {
   "cell_type": "code",
   "execution_count": 71,
   "id": "1ef71d36",
   "metadata": {
    "ExecuteTime": {
     "end_time": "2023-01-27T15:03:34.074000+09:00",
     "start_time": "2023-01-27T06:03:29.081Z"
    }
   },
   "outputs": [
    {
     "name": "stdout",
     "output_type": "stream",
     "text": [
      "Expr\n",
      "  head: Symbol call\n",
      "  args: Array{Any}((3,))\n",
      "    1: Symbol +\n",
      "    2: Expr\n",
      "      head: Symbol call\n",
      "      args: Array{Any}((3,))\n",
      "        1: Symbol //\n",
      "        2: Int64 1\n",
      "        3: Int64 2\n",
      "    3: Int64 1\n"
     ]
    }
   ],
   "source": [
    "dump(:($(:(1//2)) + 1))  # `:(1//2)` という `Expr` をアンクォート"
   ]
  },
  {
   "cell_type": "code",
   "execution_count": 72,
   "id": "985aac1b",
   "metadata": {
    "ExecuteTime": {
     "end_time": "2023-01-27T15:03:34.095000+09:00",
     "start_time": "2023-01-27T06:03:29.084Z"
    }
   },
   "outputs": [
    {
     "data": {
      "text/plain": [
       "true"
      ]
     },
     "execution_count": 72,
     "metadata": {},
     "output_type": "execute_result"
    }
   ],
   "source": [
    ":($(:(1//2)) + 1) == :(1//2 + 1)"
   ]
  },
  {
   "cell_type": "markdown",
   "id": "2816e38e",
   "metadata": {},
   "source": [
    "### 8-4-4. コードの動的生成"
   ]
  },
  {
   "cell_type": "markdown",
   "id": "722886a3",
   "metadata": {},
   "source": [
    "#### コード8-19. `OSType` の定義(1): 基本実装"
   ]
  },
  {
   "cell_type": "code",
   "execution_count": 73,
   "id": "1317037a",
   "metadata": {
    "ExecuteTime": {
     "end_time": "2023-01-27T15:03:34.095000+09:00",
     "start_time": "2023-01-27T06:03:29.086Z"
    }
   },
   "outputs": [],
   "source": [
    "abstract type OSType end"
   ]
  },
  {
   "cell_type": "code",
   "execution_count": 74,
   "id": "e50b2bd7",
   "metadata": {
    "ExecuteTime": {
     "end_time": "2023-01-27T15:03:34.105000+09:00",
     "start_time": "2023-01-27T06:03:29.094Z"
    }
   },
   "outputs": [
    {
     "data": {
      "text/plain": [
       "OSType"
      ]
     },
     "execution_count": 74,
     "metadata": {},
     "output_type": "execute_result"
    }
   ],
   "source": [
    "OSType(osname) = OSType(Val(Symbol(osname)))"
   ]
  },
  {
   "cell_type": "code",
   "execution_count": 75,
   "id": "c925da9b",
   "metadata": {
    "ExecuteTime": {
     "end_time": "2023-01-27T15:03:34.107000+09:00",
     "start_time": "2023-01-27T06:03:29.096Z"
    }
   },
   "outputs": [],
   "source": [
    "struct OtherOS <: OSType\n",
    "    name::Symbol\n",
    "end"
   ]
  },
  {
   "cell_type": "code",
   "execution_count": 76,
   "id": "a8c89475",
   "metadata": {
    "ExecuteTime": {
     "end_time": "2023-01-27T15:03:34.108000+09:00",
     "start_time": "2023-01-27T06:03:29.099Z"
    }
   },
   "outputs": [
    {
     "data": {
      "text/plain": [
       "OSType"
      ]
     },
     "execution_count": 76,
     "metadata": {},
     "output_type": "execute_result"
    }
   ],
   "source": [
    "OSType(::Val{other}) where {other} = OtherOS(other)"
   ]
  },
  {
   "cell_type": "code",
   "execution_count": 77,
   "id": "ef457f2d",
   "metadata": {
    "ExecuteTime": {
     "end_time": "2023-01-27T15:03:34.108000+09:00",
     "start_time": "2023-01-27T06:03:29.100Z"
    }
   },
   "outputs": [],
   "source": [
    "Base.print(io::IO, other::OtherOS) = print(io, other.name)"
   ]
  },
  {
   "cell_type": "markdown",
   "id": "fc28b358",
   "metadata": {},
   "source": [
    "#### 仮想コード8-1. `OSType` の定義(2): `Linux` 型の追加"
   ]
  },
  {
   "cell_type": "markdown",
   "id": "2fb95a2d",
   "metadata": {},
   "source": [
    "```julia\n",
    "struct Linux <: OSType end\n",
    "\n",
    "OSType(::Val{:Linux}) = Linux()\n",
    "\n",
    "Base.print(io::IO, ::Linux) = print(io, \"Linux\")\n",
    "```"
   ]
  },
  {
   "cell_type": "markdown",
   "id": "1604bbb5",
   "metadata": {},
   "source": [
    "#### コード8-20. `OSType` の定義(3): 複数の型の一括定義"
   ]
  },
  {
   "cell_type": "markdown",
   "id": "50fc85c2",
   "metadata": {},
   "source": [
    "```julia\n",
    "for osname in [\"Linux\", \"Mac\", \"Windows\"]\n",
    "    typename = Symbol(osname)\n",
    "    eval(:(struct $typename <: OSType end))\n",
    "    eval(:(OSType(::Val{$(QuoteNode(typename))}) = $typename()))\n",
    "    eval(:(Base.print(io::IO, ::$typename) = print(io, $osname)))\n",
    "end\n",
    "```"
   ]
  },
  {
   "cell_type": "markdown",
   "id": "f62fa8d1",
   "metadata": {},
   "source": [
    "#### コード8-21. `OSType` の定義(4): 複数の型の一括定義(改)"
   ]
  },
  {
   "cell_type": "code",
   "execution_count": 78,
   "id": "871bc2f4",
   "metadata": {
    "ExecuteTime": {
     "end_time": "2023-01-27T15:03:34.116000+09:00",
     "start_time": "2023-01-27T06:03:29.104Z"
    }
   },
   "outputs": [],
   "source": [
    "for osname in [\"Linux\", \"Mac\", \"Windows\"]\n",
    "    typename = Symbol(osname)\n",
    "    @eval struct $typename <: OSType end\n",
    "    @eval OSType(::Val{$(QuoteNode(typename))}) = $typename()\n",
    "    @eval Base.print(io::IO, ::$typename) = print(io, $osname)\n",
    "end"
   ]
  },
  {
   "cell_type": "markdown",
   "id": "b03b6570",
   "metadata": {},
   "source": [
    "#### コード8-22. `OSType` の動作確認"
   ]
  },
  {
   "cell_type": "code",
   "execution_count": 79,
   "id": "b4c92059",
   "metadata": {
    "ExecuteTime": {
     "end_time": "2023-01-27T15:03:35.018000+09:00",
     "start_time": "2023-01-27T06:03:29.106Z"
    }
   },
   "outputs": [
    {
     "data": {
      "text/plain": [
       "4-element Vector{Any}:\n",
       " Linux\n",
       " Mac\n",
       " OtherOS\n",
       " Windows"
      ]
     },
     "execution_count": 79,
     "metadata": {},
     "output_type": "execute_result"
    }
   ],
   "source": [
    "subtypes(OSType)"
   ]
  },
  {
   "cell_type": "code",
   "execution_count": 80,
   "id": "3d341dbb",
   "metadata": {
    "ExecuteTime": {
     "end_time": "2023-01-27T15:03:35.892000+09:00",
     "start_time": "2023-01-27T06:03:29.107Z"
    }
   },
   "outputs": [
    {
     "data": {
      "text/plain": [
       "4-element Vector{OSType}:\n",
       " Linux()\n",
       " Mac()\n",
       " Windows()\n",
       " OtherOS(:FreeBSD)"
      ]
     },
     "execution_count": 80,
     "metadata": {},
     "output_type": "execute_result"
    }
   ],
   "source": [
    "OSType.([:Linux, :Mac, :Windows, :FreeBSD])"
   ]
  },
  {
   "cell_type": "code",
   "execution_count": 81,
   "id": "002e3503",
   "metadata": {
    "ExecuteTime": {
     "end_time": "2023-01-27T15:03:36.331000+09:00",
     "start_time": "2023-01-27T06:03:29.109Z"
    }
   },
   "outputs": [
    {
     "data": {
      "text/plain": [
       "4-element Vector{String}:\n",
       " \"Linux\"\n",
       " \"Mac\"\n",
       " \"Windows\"\n",
       " \"FreeBSD\""
      ]
     },
     "execution_count": 81,
     "metadata": {},
     "output_type": "execute_result"
    }
   ],
   "source": [
    "OSType.([:Linux, :Mac, :Windows, :FreeBSD]) .|> string"
   ]
  }
 ],
 "metadata": {
  "jupytext": {
   "formats": "ipynb,auto:light"
  },
  "kernelspec": {
   "display_name": "Julia 1.8.5",
   "language": "julia",
   "name": "julia-1.8"
  },
  "language_info": {
   "file_extension": ".jl",
   "mimetype": "application/julia",
   "name": "julia",
   "version": "1.8.5"
  }
 },
 "nbformat": 4,
 "nbformat_minor": 5
}
