{
 "cells": [
  {
   "cell_type": "code",
   "execution_count": 1,
   "id": "5dbf7208",
   "metadata": {
    "ExecuteTime": {
     "end_time": "2023-01-27T15:01:22.162000+09:00",
     "start_time": "2023-01-27T06:01:21.649Z"
    }
   },
   "outputs": [
    {
     "name": "stdout",
     "output_type": "stream",
     "text": [
      "Julia Version 1.8.5\n",
      "Commit 17cfb8e65ea (2023-01-08 06:45 UTC)\n",
      "Platform Info:\n",
      "  OS: Linux (x86_64-linux-gnu)\n",
      "  CPU: 12 × Intel(R) Core(TM) i7-9750H CPU @ 2.60GHz\n",
      "  WORD_SIZE: 64\n",
      "  LIBM: libopenlibm\n",
      "  LLVM: libLLVM-13.0.1 (ORCJIT, skylake)\n",
      "  Threads: 1 on 12 virtual cores\n"
     ]
    }
   ],
   "source": [
    "versioninfo()"
   ]
  },
  {
   "cell_type": "markdown",
   "id": "11561c57",
   "metadata": {},
   "source": [
    "## 8-3. Expr型とシンボル"
   ]
  },
  {
   "cell_type": "markdown",
   "id": "42d3b37e",
   "metadata": {},
   "source": [
    "### 8-3-1. AST"
   ]
  },
  {
   "cell_type": "markdown",
   "id": "854e5acb",
   "metadata": {},
   "source": [
    "### 8-3-2. Expr型"
   ]
  },
  {
   "cell_type": "markdown",
   "id": "903a7433",
   "metadata": {},
   "source": [
    "#### コード8-1. `:(～)` の例(1)"
   ]
  },
  {
   "cell_type": "code",
   "execution_count": 2,
   "id": "737b079e",
   "metadata": {
    "ExecuteTime": {
     "end_time": "2023-01-27T15:01:22.562000+09:00",
     "start_time": "2023-01-27T06:01:21.652Z"
    }
   },
   "outputs": [
    {
     "data": {
      "text/plain": [
       "3"
      ]
     },
     "execution_count": 2,
     "metadata": {},
     "output_type": "execute_result"
    }
   ],
   "source": [
    "1 + 2"
   ]
  },
  {
   "cell_type": "code",
   "execution_count": 3,
   "id": "f26a81b3",
   "metadata": {
    "ExecuteTime": {
     "end_time": "2023-01-27T15:01:23.290000+09:00",
     "start_time": "2023-01-27T06:01:21.654Z"
    }
   },
   "outputs": [
    {
     "ename": "LoadError",
     "evalue": "UndefVarError: a not defined",
     "output_type": "error",
     "traceback": [
      "UndefVarError: a not defined",
      "",
      "Stacktrace:",
      " [1] top-level scope",
      "   @ In[3]:1"
     ]
    }
   ],
   "source": [
    "a + b"
   ]
  },
  {
   "cell_type": "code",
   "execution_count": 4,
   "id": "45aa027c",
   "metadata": {
    "ExecuteTime": {
     "end_time": "2023-01-27T15:01:24.383000+09:00",
     "start_time": "2023-01-27T06:01:21.655Z"
    }
   },
   "outputs": [
    {
     "data": {
      "text/plain": [
       ":(1 + 2)"
      ]
     },
     "execution_count": 4,
     "metadata": {},
     "output_type": "execute_result"
    }
   ],
   "source": [
    ":(1 + 2)"
   ]
  },
  {
   "cell_type": "code",
   "execution_count": 5,
   "id": "8fe29e93",
   "metadata": {
    "ExecuteTime": {
     "end_time": "2023-01-27T15:01:24.383000+09:00",
     "start_time": "2023-01-27T06:01:21.656Z"
    }
   },
   "outputs": [
    {
     "data": {
      "text/plain": [
       ":(a + b)"
      ]
     },
     "execution_count": 5,
     "metadata": {},
     "output_type": "execute_result"
    }
   ],
   "source": [
    ":(a + b)"
   ]
  },
  {
   "cell_type": "code",
   "execution_count": 6,
   "id": "a06656f1",
   "metadata": {
    "ExecuteTime": {
     "end_time": "2023-01-27T15:01:24.384000+09:00",
     "start_time": "2023-01-27T06:01:21.657Z"
    }
   },
   "outputs": [
    {
     "data": {
      "text/plain": [
       ":((x ^ 2 + 2x) - 1)"
      ]
     },
     "execution_count": 6,
     "metadata": {},
     "output_type": "execute_result"
    }
   ],
   "source": [
    ":(x^2+2x-1)"
   ]
  },
  {
   "cell_type": "markdown",
   "id": "d8795c72",
   "metadata": {},
   "source": [
    "#### コード8-2. `:(～)` の例(2)：`:(a + b)` の調査"
   ]
  },
  {
   "cell_type": "code",
   "execution_count": 7,
   "id": "124497bc",
   "metadata": {
    "ExecuteTime": {
     "end_time": "2023-01-27T15:01:24.385000+09:00",
     "start_time": "2023-01-27T06:01:21.658Z"
    }
   },
   "outputs": [
    {
     "data": {
      "text/plain": [
       ":(a + b)"
      ]
     },
     "execution_count": 7,
     "metadata": {},
     "output_type": "execute_result"
    }
   ],
   "source": [
    "ex1 = :(a + b)"
   ]
  },
  {
   "cell_type": "code",
   "execution_count": 8,
   "id": "a6fbcac1",
   "metadata": {
    "ExecuteTime": {
     "end_time": "2023-01-27T15:01:24.712000+09:00",
     "start_time": "2023-01-27T06:01:21.659Z"
    }
   },
   "outputs": [
    {
     "data": {
      "text/plain": [
       "Expr"
      ]
     },
     "execution_count": 8,
     "metadata": {},
     "output_type": "execute_result"
    }
   ],
   "source": [
    "typeof(ex1)"
   ]
  },
  {
   "cell_type": "code",
   "execution_count": 9,
   "id": "d24e3c83",
   "metadata": {
    "ExecuteTime": {
     "end_time": "2023-01-27T15:01:25.232000+09:00",
     "start_time": "2023-01-27T06:01:21.660Z"
    }
   },
   "outputs": [
    {
     "name": "stdout",
     "output_type": "stream",
     "text": [
      "Expr\n",
      "  head: Symbol call\n",
      "  args: Array{Any}((3,))\n",
      "    1: Symbol +\n",
      "    2: Symbol a\n",
      "    3: Symbol b\n"
     ]
    }
   ],
   "source": [
    "dump(ex1)"
   ]
  },
  {
   "cell_type": "code",
   "execution_count": 10,
   "id": "bd5642af",
   "metadata": {
    "ExecuteTime": {
     "end_time": "2023-01-27T15:01:25.381000+09:00",
     "start_time": "2023-01-27T06:01:21.661Z"
    }
   },
   "outputs": [
    {
     "data": {
      "text/plain": [
       ":call"
      ]
     },
     "execution_count": 10,
     "metadata": {},
     "output_type": "execute_result"
    }
   ],
   "source": [
    "ex1.head"
   ]
  },
  {
   "cell_type": "code",
   "execution_count": 11,
   "id": "fe3bd081",
   "metadata": {
    "ExecuteTime": {
     "end_time": "2023-01-27T15:01:26.187000+09:00",
     "start_time": "2023-01-27T06:01:21.663Z"
    }
   },
   "outputs": [
    {
     "data": {
      "text/plain": [
       "3-element Vector{Any}:\n",
       " :+\n",
       " :a\n",
       " :b"
      ]
     },
     "execution_count": 11,
     "metadata": {},
     "output_type": "execute_result"
    }
   ],
   "source": [
    "ex1.args"
   ]
  },
  {
   "cell_type": "markdown",
   "id": "5f995582",
   "metadata": {},
   "source": [
    "#### コード8-3. `:(～)` の例(3)：`:(a * b + c / d)` の調査"
   ]
  },
  {
   "cell_type": "code",
   "execution_count": 12,
   "id": "a3becec5",
   "metadata": {
    "ExecuteTime": {
     "end_time": "2023-01-27T15:01:26.187000+09:00",
     "start_time": "2023-01-27T06:01:21.664Z"
    }
   },
   "outputs": [
    {
     "data": {
      "text/plain": [
       ":(a * b + c / d)"
      ]
     },
     "execution_count": 12,
     "metadata": {},
     "output_type": "execute_result"
    }
   ],
   "source": [
    "ex2 = :(a * b + c / d)"
   ]
  },
  {
   "cell_type": "code",
   "execution_count": 13,
   "id": "1e73ba11",
   "metadata": {
    "ExecuteTime": {
     "end_time": "2023-01-27T15:01:26.189000+09:00",
     "start_time": "2023-01-27T06:01:21.665Z"
    }
   },
   "outputs": [
    {
     "name": "stdout",
     "output_type": "stream",
     "text": [
      "Expr\n",
      "  head: Symbol call\n",
      "  args: Array{Any}((3,))\n",
      "    1: Symbol +\n",
      "    2: Expr\n",
      "      head: Symbol call\n",
      "      args: Array{Any}((3,))\n",
      "        1: Symbol *\n",
      "        2: Symbol a\n",
      "        3: Symbol b\n",
      "    3: Expr\n",
      "      head: Symbol call\n",
      "      args: Array{Any}((3,))\n",
      "        1: Symbol /\n",
      "        2: Symbol c\n",
      "        3: Symbol d\n"
     ]
    }
   ],
   "source": [
    "dump(ex2)"
   ]
  },
  {
   "cell_type": "markdown",
   "id": "3452382e",
   "metadata": {},
   "source": [
    "#### コード8-4. 複数行の式からなる `Expr`（`quote ～ end`）の例"
   ]
  },
  {
   "cell_type": "code",
   "execution_count": 14,
   "id": "aa8a56c0",
   "metadata": {
    "ExecuteTime": {
     "end_time": "2023-01-27T15:01:26.226000+09:00",
     "start_time": "2023-01-27T06:01:21.667Z"
    }
   },
   "outputs": [
    {
     "ename": "LoadError",
     "evalue": "syntax: missing comma or ) in argument list",
     "output_type": "error",
     "traceback": [
      "syntax: missing comma or ) in argument list",
      "",
      "Stacktrace:",
      " [1] top-level scope",
      "   @ In[14]:3"
     ]
    }
   ],
   "source": [
    ":(\n",
    "    a = 1\n",
    "    b = 2\n",
    "    println(a + b)\n",
    ")"
   ]
  },
  {
   "cell_type": "code",
   "execution_count": 15,
   "id": "b8eda433",
   "metadata": {
    "ExecuteTime": {
     "end_time": "2023-01-27T15:01:26.235000+09:00",
     "start_time": "2023-01-27T06:01:21.669Z"
    }
   },
   "outputs": [
    {
     "data": {
      "text/plain": [
       "quote\n",
       "    \u001b[90m#= In[15]:2 =#\u001b[39m\n",
       "    a = 1\n",
       "    \u001b[90m#= In[15]:3 =#\u001b[39m\n",
       "    b = 2\n",
       "    \u001b[90m#= In[15]:4 =#\u001b[39m\n",
       "    println(a + b)\n",
       "end"
      ]
     },
     "execution_count": 15,
     "metadata": {},
     "output_type": "execute_result"
    }
   ],
   "source": [
    "quote\n",
    "    a = 1\n",
    "    b = 2\n",
    "    println(a + b)\n",
    "end"
   ]
  },
  {
   "cell_type": "code",
   "execution_count": 16,
   "id": "3935215c",
   "metadata": {
    "ExecuteTime": {
     "end_time": "2023-01-27T15:01:26.236000+09:00",
     "start_time": "2023-01-27T06:01:21.670Z"
    }
   },
   "outputs": [
    {
     "data": {
      "text/plain": [
       "quote\n",
       "    \u001b[90m#= In[16]:2 =#\u001b[39m\n",
       "    a = 1\n",
       "    \u001b[90m#= In[16]:3 =#\u001b[39m\n",
       "    b = 2\n",
       "    \u001b[90m#= In[16]:4 =#\u001b[39m\n",
       "    println(a + b)\n",
       "end"
      ]
     },
     "execution_count": 16,
     "metadata": {},
     "output_type": "execute_result"
    }
   ],
   "source": [
    ":(begin\n",
    "    a = 1\n",
    "    b = 2\n",
    "    println(a + b)\n",
    "end)  # 上記と全く同等"
   ]
  },
  {
   "cell_type": "code",
   "execution_count": 17,
   "id": "9fb8cebc",
   "metadata": {
    "ExecuteTime": {
     "end_time": "2023-01-27T15:01:26.237000+09:00",
     "start_time": "2023-01-27T06:01:21.671Z"
    }
   },
   "outputs": [
    {
     "data": {
      "text/plain": [
       "quote\n",
       "    a = 1\n",
       "    b = 2\n",
       "    println(a + b)\n",
       "end"
      ]
     },
     "execution_count": 17,
     "metadata": {},
     "output_type": "execute_result"
    }
   ],
   "source": [
    "ex4 = quote\n",
    "    a = 1\n",
    "    b = 2\n",
    "    println(a + b)\n",
    "end;\n",
    "\n",
    "Base.remove_linenums!(ex4)  # LinenumberNode を除去"
   ]
  },
  {
   "cell_type": "code",
   "execution_count": 18,
   "id": "7824b822",
   "metadata": {
    "ExecuteTime": {
     "end_time": "2023-01-27T15:01:26.238000+09:00",
     "start_time": "2023-01-27T06:01:21.673Z"
    }
   },
   "outputs": [
    {
     "data": {
      "text/plain": [
       "Expr"
      ]
     },
     "execution_count": 18,
     "metadata": {},
     "output_type": "execute_result"
    }
   ],
   "source": [
    "typeof(ex4)"
   ]
  },
  {
   "cell_type": "code",
   "execution_count": 19,
   "id": "c2999aba",
   "metadata": {
    "ExecuteTime": {
     "end_time": "2023-01-27T15:01:26.239000+09:00",
     "start_time": "2023-01-27T06:01:21.674Z"
    }
   },
   "outputs": [
    {
     "data": {
      "text/plain": [
       ":block"
      ]
     },
     "execution_count": 19,
     "metadata": {},
     "output_type": "execute_result"
    }
   ],
   "source": [
    "ex4.head"
   ]
  },
  {
   "cell_type": "code",
   "execution_count": 20,
   "id": "dd758f36",
   "metadata": {
    "ExecuteTime": {
     "end_time": "2023-01-27T15:01:26.279000+09:00",
     "start_time": "2023-01-27T06:01:21.675Z"
    }
   },
   "outputs": [
    {
     "data": {
      "text/plain": [
       "3-element Vector{Any}:\n",
       " :(a = 1)\n",
       " :(b = 2)\n",
       " :(println(a + b))"
      ]
     },
     "execution_count": 20,
     "metadata": {},
     "output_type": "execute_result"
    }
   ],
   "source": [
    "ex4.args"
   ]
  },
  {
   "cell_type": "markdown",
   "id": "dfb79237",
   "metadata": {},
   "source": [
    "#### コード8-5. `Expr` コンストラクタ例"
   ]
  },
  {
   "cell_type": "code",
   "execution_count": 21,
   "id": "c89a853d",
   "metadata": {
    "ExecuteTime": {
     "end_time": "2023-01-27T15:01:26.286000+09:00",
     "start_time": "2023-01-27T06:01:21.676Z"
    }
   },
   "outputs": [
    {
     "data": {
      "text/plain": [
       ":(if a > b\n",
       "      println(a)\n",
       "  else\n",
       "      println(b)\n",
       "  end)"
      ]
     },
     "execution_count": 21,
     "metadata": {},
     "output_type": "execute_result"
    }
   ],
   "source": [
    "Expr(:if, :(a > b), :(println(a)), :(println(b)))"
   ]
  },
  {
   "cell_type": "code",
   "execution_count": 22,
   "id": "921d4b91",
   "metadata": {
    "ExecuteTime": {
     "end_time": "2023-01-27T15:01:26.287000+09:00",
     "start_time": "2023-01-27T06:01:21.677Z"
    }
   },
   "outputs": [
    {
     "data": {
      "text/plain": [
       ":(if a > b\n",
       "      println(a)\n",
       "  else\n",
       "      println(b)\n",
       "  end)"
      ]
     },
     "execution_count": 22,
     "metadata": {},
     "output_type": "execute_result"
    }
   ],
   "source": [
    "Base.remove_linenums!(:(if a > b println(a) else println(b) end))  # 参考"
   ]
  },
  {
   "cell_type": "markdown",
   "id": "aecaefc2",
   "metadata": {},
   "source": [
    "### 8-3-3. シンボル"
   ]
  },
  {
   "cell_type": "markdown",
   "id": "05b983f0",
   "metadata": {},
   "source": [
    "#### コード8-6. `:(～)` の例(4)：単一の値や識別子を渡した場合の挙動"
   ]
  },
  {
   "cell_type": "code",
   "execution_count": 23,
   "id": "01391914",
   "metadata": {
    "ExecuteTime": {
     "end_time": "2023-01-27T15:01:26.287000+09:00",
     "start_time": "2023-01-27T06:01:21.679Z"
    }
   },
   "outputs": [
    {
     "data": {
      "text/plain": [
       "1"
      ]
     },
     "execution_count": 23,
     "metadata": {},
     "output_type": "execute_result"
    }
   ],
   "source": [
    ":(1)"
   ]
  },
  {
   "cell_type": "code",
   "execution_count": 24,
   "id": "60cd645b",
   "metadata": {
    "ExecuteTime": {
     "end_time": "2023-01-27T15:01:26.297000+09:00",
     "start_time": "2023-01-27T06:01:21.680Z"
    }
   },
   "outputs": [
    {
     "data": {
      "text/plain": [
       "Int64"
      ]
     },
     "execution_count": 24,
     "metadata": {},
     "output_type": "execute_result"
    }
   ],
   "source": [
    "typeof(:(1))"
   ]
  },
  {
   "cell_type": "code",
   "execution_count": 25,
   "id": "cb3c5b09",
   "metadata": {
    "ExecuteTime": {
     "end_time": "2023-01-27T15:01:26.691000+09:00",
     "start_time": "2023-01-27T06:01:21.682Z"
    }
   },
   "outputs": [
    {
     "data": {
      "text/plain": [
       "\"123ABCあいう漢字😁\""
      ]
     },
     "execution_count": 25,
     "metadata": {},
     "output_type": "execute_result"
    }
   ],
   "source": [
    ":(\"123ABCあいう漢字😁\")"
   ]
  },
  {
   "cell_type": "code",
   "execution_count": 26,
   "id": "2a3005ee",
   "metadata": {
    "ExecuteTime": {
     "end_time": "2023-01-27T15:01:26.701000+09:00",
     "start_time": "2023-01-27T06:01:21.683Z"
    }
   },
   "outputs": [
    {
     "data": {
      "text/plain": [
       "String"
      ]
     },
     "execution_count": 26,
     "metadata": {},
     "output_type": "execute_result"
    }
   ],
   "source": [
    "typeof(:(\"123ABCあいう漢字😁\"))"
   ]
  },
  {
   "cell_type": "code",
   "execution_count": 27,
   "id": "62be9de7",
   "metadata": {
    "ExecuteTime": {
     "end_time": "2023-01-27T15:01:26.702000+09:00",
     "start_time": "2023-01-27T06:01:21.685Z"
    }
   },
   "outputs": [
    {
     "data": {
      "text/plain": [
       ":a"
      ]
     },
     "execution_count": 27,
     "metadata": {},
     "output_type": "execute_result"
    }
   ],
   "source": [
    ":(a)"
   ]
  },
  {
   "cell_type": "code",
   "execution_count": 28,
   "id": "cf0ead15",
   "metadata": {
    "ExecuteTime": {
     "end_time": "2023-01-27T15:01:26.711000+09:00",
     "start_time": "2023-01-27T06:01:21.686Z"
    }
   },
   "outputs": [
    {
     "data": {
      "text/plain": [
       "Symbol"
      ]
     },
     "execution_count": 28,
     "metadata": {},
     "output_type": "execute_result"
    }
   ],
   "source": [
    "typeof(:(a))"
   ]
  },
  {
   "cell_type": "markdown",
   "id": "458bcac4",
   "metadata": {},
   "source": [
    "### 8-3-4. `QuoteNode`"
   ]
  },
  {
   "cell_type": "markdown",
   "id": "87e27418",
   "metadata": {},
   "source": [
    "#### コード8-7. QuoteNode の例(1)"
   ]
  },
  {
   "cell_type": "code",
   "execution_count": 29,
   "id": "ca9af710",
   "metadata": {
    "ExecuteTime": {
     "end_time": "2023-01-27T15:01:26.888000+09:00",
     "start_time": "2023-01-27T06:01:21.687Z"
    }
   },
   "outputs": [
    {
     "data": {
      "text/plain": [
       ":(:a)"
      ]
     },
     "execution_count": 29,
     "metadata": {},
     "output_type": "execute_result"
    }
   ],
   "source": [
    ":(:a)"
   ]
  },
  {
   "cell_type": "code",
   "execution_count": 30,
   "id": "df5155e8",
   "metadata": {
    "ExecuteTime": {
     "end_time": "2023-01-27T15:01:26.898000+09:00",
     "start_time": "2023-01-27T06:01:21.688Z"
    }
   },
   "outputs": [
    {
     "data": {
      "text/plain": [
       "QuoteNode"
      ]
     },
     "execution_count": 30,
     "metadata": {},
     "output_type": "execute_result"
    }
   ],
   "source": [
    "typeof(:(:a))"
   ]
  },
  {
   "cell_type": "code",
   "execution_count": 31,
   "id": "42266bb2",
   "metadata": {
    "ExecuteTime": {
     "end_time": "2023-01-27T15:01:26.913000+09:00",
     "start_time": "2023-01-27T06:01:21.689Z"
    }
   },
   "outputs": [
    {
     "name": "stdout",
     "output_type": "stream",
     "text": [
      "QuoteNode\n",
      "  value: Symbol a\n"
     ]
    }
   ],
   "source": [
    "dump(:(:a))"
   ]
  },
  {
   "cell_type": "markdown",
   "id": "bbcbedef",
   "metadata": {},
   "source": [
    "#### コード8-8. QuoteNode の例(2)"
   ]
  },
  {
   "cell_type": "code",
   "execution_count": 32,
   "id": "fef18f81",
   "metadata": {
    "ExecuteTime": {
     "end_time": "2023-01-27T15:01:26.914000+09:00",
     "start_time": "2023-01-27T06:01:21.691Z"
    }
   },
   "outputs": [
    {
     "name": "stdout",
     "output_type": "stream",
     "text": [
      "Expr\n",
      "  head: Symbol ref\n",
      "  args: Array{Any}((2,))\n",
      "    1: Symbol d\n",
      "    2: QuoteNode\n",
      "      value: Symbol key\n"
     ]
    }
   ],
   "source": [
    "dump(:(d[:key]))  # 辞書（`Dict`）のキーとしてシンボルを指定した例"
   ]
  },
  {
   "cell_type": "code",
   "execution_count": 33,
   "id": "23b3289c",
   "metadata": {
    "ExecuteTime": {
     "end_time": "2023-01-27T15:01:26.915000+09:00",
     "start_time": "2023-01-27T06:01:21.692Z"
    }
   },
   "outputs": [
    {
     "name": "stdout",
     "output_type": "stream",
     "text": [
      "Expr\n",
      "  head: Symbol .\n",
      "  args: Array{Any}((2,))\n",
      "    1: Symbol a\n",
      "    2: QuoteNode\n",
      "      value: Symbol b\n"
     ]
    }
   ],
   "source": [
    "dump(:(a.b))  # プロパティ参照（`b`は識別子ではなくシンボルとして扱われる）"
   ]
  }
 ],
 "metadata": {
  "jupytext": {
   "formats": "ipynb,auto:light"
  },
  "kernelspec": {
   "display_name": "Julia 1.8.5",
   "language": "julia",
   "name": "julia-1.8"
  },
  "language_info": {
   "file_extension": ".jl",
   "mimetype": "application/julia",
   "name": "julia",
   "version": "1.8.5"
  }
 },
 "nbformat": 4,
 "nbformat_minor": 5
}
