{
 "cells": [
  {
   "cell_type": "code",
   "execution_count": 1,
   "id": "b90c286d",
   "metadata": {
    "ExecuteTime": {
     "end_time": "2023-01-27T15:08:39.271000+09:00",
     "start_time": "2023-01-27T06:08:38.638Z"
    }
   },
   "outputs": [
    {
     "name": "stdout",
     "output_type": "stream",
     "text": [
      "Julia Version 1.8.5\n",
      "Commit 17cfb8e65ea (2023-01-08 06:45 UTC)\n",
      "Platform Info:\n",
      "  OS: Linux (x86_64-linux-gnu)\n",
      "  CPU: 12 × Intel(R) Core(TM) i7-9750H CPU @ 2.60GHz\n",
      "  WORD_SIZE: 64\n",
      "  LIBM: libopenlibm\n",
      "  LLVM: libLLVM-13.0.1 (ORCJIT, skylake)\n",
      "  Threads: 1 on 12 virtual cores\n"
     ]
    }
   ],
   "source": [
    "versioninfo()"
   ]
  },
  {
   "cell_type": "markdown",
   "id": "d5a7154c",
   "metadata": {},
   "source": [
    "## 8-6. 生成関数"
   ]
  },
  {
   "cell_type": "markdown",
   "id": "696755ce",
   "metadata": {},
   "source": [
    "### 8-6-1. 生成関数 (Generated Function) とは"
   ]
  },
  {
   "cell_type": "markdown",
   "id": "9dd892a6",
   "metadata": {},
   "source": [
    "#### コード8-46. 簡単な生成関数の例（`printwithtype()`）"
   ]
  },
  {
   "cell_type": "code",
   "execution_count": 2,
   "id": "11bddcbf",
   "metadata": {
    "ExecuteTime": {
     "end_time": "2023-01-27T15:08:39.699000+09:00",
     "start_time": "2023-01-27T06:08:38.642Z"
    }
   },
   "outputs": [
    {
     "data": {
      "text/plain": [
       "printwithtype (generic function with 1 method)"
      ]
     },
     "execution_count": 2,
     "metadata": {},
     "output_type": "execute_result"
    }
   ],
   "source": [
    "@generated function printwithtype(x)\n",
    "    :(print(x, \" is a type of \", $x))\n",
    "end"
   ]
  },
  {
   "cell_type": "markdown",
   "id": "052944a9",
   "metadata": {},
   "source": [
    "#### コード8-47. `printwithtype()` 関数の動作確認"
   ]
  },
  {
   "cell_type": "code",
   "execution_count": 3,
   "id": "4b3fc986",
   "metadata": {
    "ExecuteTime": {
     "end_time": "2023-01-27T15:08:40.177000+09:00",
     "start_time": "2023-01-27T06:08:38.644Z"
    }
   },
   "outputs": [
    {
     "name": "stdout",
     "output_type": "stream",
     "text": [
      "1 is a type of Int64"
     ]
    }
   ],
   "source": [
    "printwithtype(1)"
   ]
  },
  {
   "cell_type": "code",
   "execution_count": 4,
   "id": "b979fd9b",
   "metadata": {
    "ExecuteTime": {
     "end_time": "2023-01-27T15:08:40.244000+09:00",
     "start_time": "2023-01-27T06:08:38.646Z"
    }
   },
   "outputs": [
    {
     "name": "stdout",
     "output_type": "stream",
     "text": [
      "文字列 is a type of String"
     ]
    }
   ],
   "source": [
    "printwithtype(\"文字列\")"
   ]
  },
  {
   "cell_type": "code",
   "execution_count": 5,
   "id": "71f4af19",
   "metadata": {
    "ExecuteTime": {
     "end_time": "2023-01-27T15:08:40.293000+09:00",
     "start_time": "2023-01-27T06:08:38.648Z"
    }
   },
   "outputs": [
    {
     "name": "stdout",
     "output_type": "stream",
     "text": [
      "0.4429312826527251 is a type of Float64"
     ]
    }
   ],
   "source": [
    "printwithtype(rand())"
   ]
  },
  {
   "cell_type": "code",
   "execution_count": 6,
   "id": "97c2a1ee",
   "metadata": {
    "ExecuteTime": {
     "end_time": "2023-01-27T15:08:40.314000+09:00",
     "start_time": "2023-01-27T06:08:38.650Z"
    }
   },
   "outputs": [
    {
     "name": "stdout",
     "output_type": "stream",
     "text": [
      "Int64 is a type of Type{Int64}"
     ]
    }
   ],
   "source": [
    "printwithtype(Int)"
   ]
  },
  {
   "cell_type": "code",
   "execution_count": 7,
   "id": "a1c766db",
   "metadata": {
    "ExecuteTime": {
     "end_time": "2023-01-27T15:08:42.360000+09:00",
     "start_time": "2023-01-27T06:08:38.652Z"
    }
   },
   "outputs": [
    {
     "data": {
      "text/plain": [
       "CodeInfo(\n",
       "   \u001b[33m @ In[2]:1 within `printwithtype`\u001b[39m\n",
       "   \u001b[33m┌ @ In[2]:1 within `macro expansion`\u001b[39m\n",
       "\u001b[90m1 ─\u001b[39m\u001b[33m│\u001b[39m %1 = Main.print(x, \" is a type of \", Int64)\n",
       "\u001b[90m└──\u001b[39m\u001b[33m│\u001b[39m      return %1\n",
       "   \u001b[33m└\u001b[39m\n",
       ")"
      ]
     },
     "execution_count": 7,
     "metadata": {},
     "output_type": "execute_result"
    }
   ],
   "source": [
    "@code_lowered printwithtype(1)"
   ]
  },
  {
   "cell_type": "markdown",
   "id": "85523630",
   "metadata": {},
   "source": [
    "#### コード8-48. 生成関数の例(2)（`grand1to10()`）"
   ]
  },
  {
   "cell_type": "code",
   "execution_count": 8,
   "id": "0ffa1acf",
   "metadata": {
    "ExecuteTime": {
     "end_time": "2023-01-27T15:08:42.428000+09:00",
     "start_time": "2023-01-27T06:08:38.654Z"
    }
   },
   "outputs": [
    {
     "data": {
      "text/plain": [
       "grand1to10 (generic function with 1 method)"
      ]
     },
     "execution_count": 8,
     "metadata": {},
     "output_type": "execute_result"
    }
   ],
   "source": [
    "@generated function grand1to10(_DUMMY...)\n",
    "    rand(1:10)\n",
    "end"
   ]
  },
  {
   "cell_type": "code",
   "execution_count": 9,
   "id": "00def181",
   "metadata": {
    "ExecuteTime": {
     "end_time": "2023-01-27T15:08:42.600000+09:00",
     "start_time": "2023-01-27T06:08:38.656Z"
    }
   },
   "outputs": [
    {
     "data": {
      "text/plain": [
       "3"
      ]
     },
     "execution_count": 9,
     "metadata": {},
     "output_type": "execute_result"
    }
   ],
   "source": [
    "grand1to10()"
   ]
  },
  {
   "cell_type": "code",
   "execution_count": 10,
   "id": "05439a9c",
   "metadata": {
    "ExecuteTime": {
     "end_time": "2023-01-27T15:08:42.601000+09:00",
     "start_time": "2023-01-27T06:08:38.658Z"
    }
   },
   "outputs": [
    {
     "data": {
      "text/plain": [
       "3"
      ]
     },
     "execution_count": 10,
     "metadata": {},
     "output_type": "execute_result"
    }
   ],
   "source": [
    "grand1to10()"
   ]
  },
  {
   "cell_type": "code",
   "execution_count": 11,
   "id": "746f27db",
   "metadata": {
    "ExecuteTime": {
     "end_time": "2023-01-27T15:08:42.601000+09:00",
     "start_time": "2023-01-27T06:08:38.660Z"
    }
   },
   "outputs": [
    {
     "data": {
      "text/plain": [
       "3"
      ]
     },
     "execution_count": 11,
     "metadata": {},
     "output_type": "execute_result"
    }
   ],
   "source": [
    "grand1to10()"
   ]
  },
  {
   "cell_type": "code",
   "execution_count": 12,
   "id": "cb3fdb47",
   "metadata": {
    "ExecuteTime": {
     "end_time": "2023-01-27T15:08:42.602000+09:00",
     "start_time": "2023-01-27T06:08:38.662Z"
    }
   },
   "outputs": [
    {
     "data": {
      "text/plain": [
       "9"
      ]
     },
     "execution_count": 12,
     "metadata": {},
     "output_type": "execute_result"
    }
   ],
   "source": [
    "grand1to10(3)"
   ]
  },
  {
   "cell_type": "code",
   "execution_count": 13,
   "id": "b2b404ad",
   "metadata": {
    "ExecuteTime": {
     "end_time": "2023-01-27T15:08:42.602000+09:00",
     "start_time": "2023-01-27T06:08:38.664Z"
    }
   },
   "outputs": [
    {
     "data": {
      "text/plain": [
       "9"
      ]
     },
     "execution_count": 13,
     "metadata": {},
     "output_type": "execute_result"
    }
   ],
   "source": [
    "grand1to10(5)"
   ]
  },
  {
   "cell_type": "code",
   "execution_count": 14,
   "id": "12d35fbb",
   "metadata": {
    "ExecuteTime": {
     "end_time": "2023-01-27T15:08:42.603000+09:00",
     "start_time": "2023-01-27T06:08:38.666Z"
    }
   },
   "outputs": [
    {
     "data": {
      "text/plain": [
       "9"
      ]
     },
     "execution_count": 14,
     "metadata": {},
     "output_type": "execute_result"
    }
   ],
   "source": [
    "grand1to10(123)"
   ]
  },
  {
   "cell_type": "code",
   "execution_count": 15,
   "id": "190d0b59",
   "metadata": {
    "ExecuteTime": {
     "end_time": "2023-01-27T15:08:42.603000+09:00",
     "start_time": "2023-01-27T06:08:38.669Z"
    }
   },
   "outputs": [
    {
     "data": {
      "text/plain": [
       "10"
      ]
     },
     "execution_count": 15,
     "metadata": {},
     "output_type": "execute_result"
    }
   ],
   "source": [
    "grand1to10(Int, \"123\")"
   ]
  },
  {
   "cell_type": "code",
   "execution_count": 16,
   "id": "a63b9ded",
   "metadata": {
    "ExecuteTime": {
     "end_time": "2023-01-27T15:08:42.604000+09:00",
     "start_time": "2023-01-27T06:08:38.672Z"
    }
   },
   "outputs": [
    {
     "data": {
      "text/plain": [
       "10"
      ]
     },
     "execution_count": 16,
     "metadata": {},
     "output_type": "execute_result"
    }
   ],
   "source": [
    "grand1to10(Int, \"他の文字列\")"
   ]
  },
  {
   "cell_type": "markdown",
   "id": "faf4d27b",
   "metadata": {},
   "source": [
    "#### コード8-49. 生成関数の例(3)（`gpredtypes()`）"
   ]
  },
  {
   "cell_type": "code",
   "execution_count": 17,
   "id": "2b0bfa91",
   "metadata": {
    "ExecuteTime": {
     "end_time": "2023-01-27T15:08:42.673000+09:00",
     "start_time": "2023-01-27T06:08:38.675Z"
    }
   },
   "outputs": [
    {
     "data": {
      "text/plain": [
       "gpredtypes (generic function with 1 method)"
      ]
     },
     "execution_count": 17,
     "metadata": {},
     "output_type": "execute_result"
    }
   ],
   "source": [
    "@generated function gpredtypes(x, y)\n",
    "    if x !== y\n",
    "        :(\"$x(::$($x)) and $y(::$($y)) are diffrent types.\")\n",
    "    elseif x === Int\n",
    "        :(\"Both $x and $y are `Int`.\")\n",
    "    elseif x <: Number\n",
    "        :(\"Both $x and $y are the same Number types ($($x)).\")\n",
    "    else\n",
    "        :(\"Both $x and $y are the same types ($($x)).\")\n",
    "    end\n",
    "end"
   ]
  },
  {
   "cell_type": "code",
   "execution_count": 18,
   "id": "e925e3a3",
   "metadata": {
    "ExecuteTime": {
     "end_time": "2023-01-27T15:08:43.083000+09:00",
     "start_time": "2023-01-27T06:08:38.677Z"
    }
   },
   "outputs": [
    {
     "data": {
      "text/plain": [
       "\"Both 1 and 2 are `Int`.\""
      ]
     },
     "execution_count": 18,
     "metadata": {},
     "output_type": "execute_result"
    }
   ],
   "source": [
    "gpredtypes(1, 2)"
   ]
  },
  {
   "cell_type": "code",
   "execution_count": 19,
   "id": "0b3170ac",
   "metadata": {
    "ExecuteTime": {
     "end_time": "2023-01-27T15:08:43.089000+09:00",
     "start_time": "2023-01-27T06:08:38.680Z"
    }
   },
   "outputs": [
    {
     "data": {
      "text/plain": [
       "\"Both abc and 漢字 are the same types (String).\""
      ]
     },
     "execution_count": 19,
     "metadata": {},
     "output_type": "execute_result"
    }
   ],
   "source": [
    "gpredtypes(\"abc\", \"漢字\")"
   ]
  },
  {
   "cell_type": "code",
   "execution_count": 20,
   "id": "47986694",
   "metadata": {
    "ExecuteTime": {
     "end_time": "2023-01-27T15:08:43.095000+09:00",
     "start_time": "2023-01-27T06:08:38.682Z"
    }
   },
   "outputs": [
    {
     "data": {
      "text/plain": [
       "\"Both ok and NG are the same types (Symbol).\""
      ]
     },
     "execution_count": 20,
     "metadata": {},
     "output_type": "execute_result"
    }
   ],
   "source": [
    "gpredtypes(:ok, :NG)"
   ]
  },
  {
   "cell_type": "code",
   "execution_count": 21,
   "id": "0783c2d9",
   "metadata": {
    "ExecuteTime": {
     "end_time": "2023-01-27T15:08:43.102000+09:00",
     "start_time": "2023-01-27T06:08:38.684Z"
    }
   },
   "outputs": [
    {
     "data": {
      "text/plain": [
       "\"Both 1.0 and 2.2 are the same Number types (Float64).\""
      ]
     },
     "execution_count": 21,
     "metadata": {},
     "output_type": "execute_result"
    }
   ],
   "source": [
    "gpredtypes(1.0, 2.2)"
   ]
  },
  {
   "cell_type": "code",
   "execution_count": 22,
   "id": "73538894",
   "metadata": {
    "ExecuteTime": {
     "end_time": "2023-01-27T15:08:43.137000+09:00",
     "start_time": "2023-01-27T06:08:38.687Z"
    }
   },
   "outputs": [
    {
     "data": {
      "text/plain": [
       "\"Both 1//2 and 3//4 are the same Number types (Rational{Int64}).\""
      ]
     },
     "execution_count": 22,
     "metadata": {},
     "output_type": "execute_result"
    }
   ],
   "source": [
    "gpredtypes(1//2, 3//4)"
   ]
  },
  {
   "cell_type": "code",
   "execution_count": 23,
   "id": "6a27ac3a",
   "metadata": {
    "ExecuteTime": {
     "end_time": "2023-01-27T15:08:43.149000+09:00",
     "start_time": "2023-01-27T06:08:38.689Z"
    }
   },
   "outputs": [
    {
     "data": {
      "text/plain": [
       "\"1.0(::Float64) and π(::Irrational{:π}) are diffrent types.\""
      ]
     },
     "execution_count": 23,
     "metadata": {},
     "output_type": "execute_result"
    }
   ],
   "source": [
    "gpredtypes(1.0, π)"
   ]
  },
  {
   "cell_type": "markdown",
   "id": "6852915c",
   "metadata": {},
   "source": [
    "### 8-6-2. 生成関数の特徴と注意点"
   ]
  },
  {
   "cell_type": "markdown",
   "id": "91fa3ede",
   "metadata": {},
   "source": [
    "#### コード8-50. 生成関数のNG例(1)"
   ]
  },
  {
   "cell_type": "code",
   "execution_count": 24,
   "id": "bef8584e",
   "metadata": {
    "ExecuteTime": {
     "end_time": "2023-01-27T15:08:43.217000+09:00",
     "start_time": "2023-01-27T06:08:38.692Z"
    }
   },
   "outputs": [
    {
     "data": {
      "text/plain": [
       "_double_impl (generic function with 1 method)"
      ]
     },
     "execution_count": 24,
     "metadata": {},
     "output_type": "execute_result"
    }
   ],
   "source": [
    "_double_impl(::Type{<:AbstractString}) = :(a^2)"
   ]
  },
  {
   "cell_type": "code",
   "execution_count": 25,
   "id": "77804795",
   "metadata": {
    "ExecuteTime": {
     "end_time": "2023-01-27T15:08:43.292000+09:00",
     "start_time": "2023-01-27T06:08:38.694Z"
    }
   },
   "outputs": [
    {
     "data": {
      "text/plain": [
       "gdouble (generic function with 1 method)"
      ]
     },
     "execution_count": 25,
     "metadata": {},
     "output_type": "execute_result"
    }
   ],
   "source": [
    "@generated gdouble(a) = _double_impl(a)"
   ]
  },
  {
   "cell_type": "code",
   "execution_count": 26,
   "id": "0f9ff55b",
   "metadata": {
    "ExecuteTime": {
     "end_time": "2023-01-27T15:08:43.293000+09:00",
     "start_time": "2023-01-27T06:08:38.697Z"
    }
   },
   "outputs": [
    {
     "data": {
      "text/plain": [
       "_double_impl (generic function with 2 methods)"
      ]
     },
     "execution_count": 26,
     "metadata": {},
     "output_type": "execute_result"
    }
   ],
   "source": [
    "_double_impl(::Type{<:Number}) = :(2a)"
   ]
  },
  {
   "cell_type": "code",
   "execution_count": 27,
   "id": "88565776",
   "metadata": {
    "ExecuteTime": {
     "end_time": "2023-01-27T15:08:43.300000+09:00",
     "start_time": "2023-01-27T06:08:38.699Z"
    }
   },
   "outputs": [
    {
     "data": {
      "text/plain": [
       "\"aa\""
      ]
     },
     "execution_count": 27,
     "metadata": {},
     "output_type": "execute_result"
    }
   ],
   "source": [
    "gdouble(\"a\")"
   ]
  },
  {
   "cell_type": "code",
   "execution_count": 28,
   "id": "407ae67e",
   "metadata": {
    "ExecuteTime": {
     "end_time": "2023-01-27T15:08:44.377000+09:00",
     "start_time": "2023-01-27T06:08:38.701Z"
    }
   },
   "outputs": [
    {
     "ename": "LoadError",
     "evalue": "MethodError: no method matching _double_impl(::Type{Int64})\nThe applicable method may be too new: running in world age 32459, while current world is 32460.\n\u001b[0mClosest candidates are:\n\u001b[0m  _double_impl(::Type{<:Number}) at In[26]:1 (method too new to be called from this world context.)\n\u001b[0m  _double_impl(\u001b[91m::Type{<:AbstractString}\u001b[39m) at In[24]:1",
     "output_type": "error",
     "traceback": [
      "MethodError: no method matching _double_impl(::Type{Int64})\nThe applicable method may be too new: running in world age 32459, while current world is 32460.\n\u001b[0mClosest candidates are:\n\u001b[0m  _double_impl(::Type{<:Number}) at In[26]:1 (method too new to be called from this world context.)\n\u001b[0m  _double_impl(\u001b[91m::Type{<:AbstractString}\u001b[39m) at In[24]:1",
      "",
      "Stacktrace:",
      " [1] #s32#6",
      "   @ ./In[25]:1 [inlined]",
      " [2] var\"#s32#6\"(::Any, a::Any)",
      "   @ Main ./none:0",
      " [3] (::Core.GeneratedFunctionStub)(::Any, ::Vararg{Any})",
      "   @ Core ./boot.jl:582",
      " [4] top-level scope",
      "   @ In[28]:1"
     ]
    }
   ],
   "source": [
    "gdouble(2)"
   ]
  },
  {
   "cell_type": "markdown",
   "id": "aa8e4e7b",
   "metadata": {},
   "source": [
    "#### コード8-51. 生成関数のNG例(2)"
   ]
  },
  {
   "cell_type": "code",
   "execution_count": 29,
   "id": "46fd6492",
   "metadata": {
    "ExecuteTime": {
     "end_time": "2023-01-27T15:08:44.454000+09:00",
     "start_time": "2023-01-27T06:08:38.705Z"
    }
   },
   "outputs": [
    {
     "data": {
      "text/plain": [
       "isiterable (generic function with 1 method)"
      ]
     },
     "execution_count": 29,
     "metadata": {},
     "output_type": "execute_result"
    }
   ],
   "source": [
    "isiterable(::Type{T}) where {T} = hasmethod(iterate, Tuple{T})"
   ]
  },
  {
   "cell_type": "code",
   "execution_count": 30,
   "id": "b3189b67",
   "metadata": {
    "ExecuteTime": {
     "end_time": "2023-01-27T15:08:44.521000+09:00",
     "start_time": "2023-01-27T06:08:38.707Z"
    }
   },
   "outputs": [
    {
     "data": {
      "text/plain": [
       "checkanditerate (generic function with 1 method)"
      ]
     },
     "execution_count": 30,
     "metadata": {},
     "output_type": "execute_result"
    }
   ],
   "source": [
    "@generated function checkanditerate(itr)\n",
    "    if isiterable(itr)\n",
    "        quote\n",
    "            for v in itr\n",
    "                println(v)\n",
    "            end\n",
    "        end\n",
    "    end\n",
    "end"
   ]
  },
  {
   "cell_type": "code",
   "execution_count": 31,
   "id": "9efb9f0a",
   "metadata": {
    "ExecuteTime": {
     "end_time": "2023-01-27T15:08:44.560000+09:00",
     "start_time": "2023-01-27T06:08:38.709Z"
    }
   },
   "outputs": [
    {
     "name": "stdout",
     "output_type": "stream",
     "text": [
      "1\n",
      "2\n",
      "3\n"
     ]
    }
   ],
   "source": [
    "checkanditerate([1, 2, 3])"
   ]
  },
  {
   "cell_type": "code",
   "execution_count": 32,
   "id": "d8b95338",
   "metadata": {
    "ExecuteTime": {
     "end_time": "2023-01-27T15:08:44.562000+09:00",
     "start_time": "2023-01-27T06:08:38.711Z"
    }
   },
   "outputs": [],
   "source": [
    "struct WrapArray{T <: AbstractArray}\n",
    "    arr::T\n",
    "end"
   ]
  },
  {
   "cell_type": "code",
   "execution_count": 33,
   "id": "e5577b17",
   "metadata": {
    "ExecuteTime": {
     "end_time": "2023-01-27T15:08:45.048000+09:00",
     "start_time": "2023-01-27T06:08:38.714Z"
    }
   },
   "outputs": [
    {
     "data": {
      "text/plain": [
       "WrapArray{Vector{Int64}}([1, 2, 3])"
      ]
     },
     "execution_count": 33,
     "metadata": {},
     "output_type": "execute_result"
    }
   ],
   "source": [
    "a = WrapArray([1, 2, 3])"
   ]
  },
  {
   "cell_type": "code",
   "execution_count": 34,
   "id": "39348fb7",
   "metadata": {
    "ExecuteTime": {
     "end_time": "2023-01-27T15:08:45.053000+09:00",
     "start_time": "2023-01-27T06:08:38.716Z"
    }
   },
   "outputs": [],
   "source": [
    "checkanditerate(a)  # 何も実行されない（正確には `nohitng` が評価されるのみ）"
   ]
  },
  {
   "cell_type": "code",
   "execution_count": 35,
   "id": "31bc7049",
   "metadata": {
    "ExecuteTime": {
     "end_time": "2023-01-27T15:08:45.054000+09:00",
     "start_time": "2023-01-27T06:08:38.718Z"
    }
   },
   "outputs": [],
   "source": [
    "Base.iterate(a::WrapArray, st...) = iterate(a.arr, st...)  # 後で `iterate()` を実装"
   ]
  },
  {
   "cell_type": "code",
   "execution_count": 36,
   "id": "11d379d0",
   "metadata": {
    "ExecuteTime": {
     "end_time": "2023-01-27T15:08:45.068000+09:00",
     "start_time": "2023-01-27T06:08:38.720Z"
    }
   },
   "outputs": [
    {
     "name": "stdout",
     "output_type": "stream",
     "text": [
      "1\n",
      "2\n",
      "3\n"
     ]
    }
   ],
   "source": [
    "for v in a\n",
    "    println(v)\n",
    "end"
   ]
  },
  {
   "cell_type": "code",
   "execution_count": 37,
   "id": "7d0236f1",
   "metadata": {
    "ExecuteTime": {
     "end_time": "2023-01-27T15:08:45.068000+09:00",
     "start_time": "2023-01-27T06:08:38.721Z"
    }
   },
   "outputs": [],
   "source": [
    "checkanditerate(a)  # やっぱり何も実行されない"
   ]
  },
  {
   "cell_type": "markdown",
   "id": "5001c794",
   "metadata": {},
   "source": [
    "### 8-6-3. 実例"
   ]
  },
  {
   "cell_type": "markdown",
   "id": "c4ef05cd",
   "metadata": {},
   "source": [
    "#### 仮想コード8-5. `bdot()` 関数（仕様）"
   ]
  },
  {
   "cell_type": "markdown",
   "id": "9f9e7e96",
   "metadata": {},
   "source": [
    "```julia\n",
    "julia> x = Float32[1, 2, 3];\n",
    "\n",
    "julia> v = [2, 3, 1];\n",
    "\n",
    "julia> bdot(v, x)  # == `dot(v, x)` と同等（`dot()` は要 `using LinearAlgebra`）\n",
    "11.0f0\n",
    "\n",
    "julia> A = [1 4 7; 2 5 8; 3 6 9]\n",
    "3×3 Matrix{Int64}:\n",
    " 1  4  7\n",
    " 2  5  8\n",
    " 3  6  9\n",
    "\n",
    "julia> bdot(A, x)  # [col' * x for col in eachcol(A)]  相当\n",
    "3-element Vector{Float32}:\n",
    " 14.0\n",
    " 32.0\n",
    " 50.0\n",
    "\n",
    "julia> A3 = reshape(1:24, (3, 4, 2))\n",
    "3×4×2 reshape(::UnitRange{Int64}, 3, 4, 2) with eltype Int64:\n",
    "[:, :, 1] =\n",
    " 1  4  7  10\n",
    " 2  5  8  11\n",
    " 3  6  9  12\n",
    "\n",
    "[:, :, 2] =\n",
    " 13  16  19  22\n",
    " 14  17  20  23\n",
    " 15  18  21  24\n",
    "\n",
    "julia> bdot(A3, x)\n",
    "4×2 Matrix{Float32}:\n",
    " 14.0   86.0\n",
    " 32.0  104.0\n",
    " 50.0  122.0\n",
    " 68.0  140.0\n",
    "\n",
    "julia> # 以下、4次元以上の多次元配列でも同様\n",
    "```"
   ]
  },
  {
   "cell_type": "markdown",
   "id": "0b3e7aff",
   "metadata": {},
   "source": [
    "#### コード8-52. `bdot()` 関数相当のコード（挙動の確認）"
   ]
  },
  {
   "cell_type": "code",
   "execution_count": 38,
   "id": "e5eec94e",
   "metadata": {
    "ExecuteTime": {
     "end_time": "2023-01-27T15:08:45.849000+09:00",
     "start_time": "2023-01-27T06:08:38.724Z"
    }
   },
   "outputs": [
    {
     "data": {
      "text/plain": [
       "3-element Vector{Float32}:\n",
       " 1.0\n",
       " 2.0\n",
       " 3.0"
      ]
     },
     "execution_count": 38,
     "metadata": {},
     "output_type": "execute_result"
    }
   ],
   "source": [
    "x = Float32[1, 2, 3]"
   ]
  },
  {
   "cell_type": "code",
   "execution_count": 39,
   "id": "9aee7fe0",
   "metadata": {
    "ExecuteTime": {
     "end_time": "2023-01-27T15:08:46.057000+09:00",
     "start_time": "2023-01-27T06:08:38.726Z"
    }
   },
   "outputs": [
    {
     "data": {
      "text/plain": [
       "1:3"
      ]
     },
     "execution_count": 39,
     "metadata": {},
     "output_type": "execute_result"
    }
   ],
   "source": [
    "v = 1:3"
   ]
  },
  {
   "cell_type": "code",
   "execution_count": 40,
   "id": "e809c3ff",
   "metadata": {
    "ExecuteTime": {
     "end_time": "2023-01-27T15:08:46.226000+09:00",
     "start_time": "2023-01-27T06:08:38.733Z"
    }
   },
   "outputs": [
    {
     "data": {
      "text/plain": [
       "14.0f0"
      ]
     },
     "execution_count": 40,
     "metadata": {},
     "output_type": "execute_result"
    }
   ],
   "source": [
    "v' * x  # == `dot(v, x)`（ただし要 `using LinearAlgebra`）"
   ]
  },
  {
   "cell_type": "code",
   "execution_count": 41,
   "id": "5bcfed1c",
   "metadata": {
    "ExecuteTime": {
     "end_time": "2023-01-27T15:08:46.662000+09:00",
     "start_time": "2023-01-27T06:08:38.738Z"
    }
   },
   "outputs": [
    {
     "data": {
      "text/plain": [
       "3×2 reshape(::UnitRange{Int64}, 3, 2) with eltype Int64:\n",
       " 1  4\n",
       " 2  5\n",
       " 3  6"
      ]
     },
     "execution_count": 41,
     "metadata": {},
     "output_type": "execute_result"
    }
   ],
   "source": [
    "A = reshape(1:6, (3, 2))"
   ]
  },
  {
   "cell_type": "code",
   "execution_count": 42,
   "id": "fd3ae3f6",
   "metadata": {
    "ExecuteTime": {
     "end_time": "2023-01-27T15:08:46.722000+09:00",
     "start_time": "2023-01-27T06:08:38.743Z"
    }
   },
   "outputs": [
    {
     "data": {
      "text/plain": [
       "2-element Vector{Float32}:\n",
       " 14.0\n",
       " 32.0"
      ]
     },
     "execution_count": 42,
     "metadata": {},
     "output_type": "execute_result"
    }
   ],
   "source": [
    "A' * x"
   ]
  },
  {
   "cell_type": "code",
   "execution_count": 43,
   "id": "82fc6e8e",
   "metadata": {
    "ExecuteTime": {
     "end_time": "2023-01-27T15:08:46.729000+09:00",
     "start_time": "2023-01-27T06:08:38.746Z"
    }
   },
   "outputs": [],
   "source": [
    "y = zeros(Float32, 2);"
   ]
  },
  {
   "cell_type": "code",
   "execution_count": 44,
   "id": "23d7d0f7",
   "metadata": {
    "ExecuteTime": {
     "end_time": "2023-01-27T15:08:46.747000+09:00",
     "start_time": "2023-01-27T06:08:38.750Z"
    }
   },
   "outputs": [],
   "source": [
    "for j = 1:2\n",
    "    for i = 1:3\n",
    "        y[j] += A[i, j] * x[i]\n",
    "    end\n",
    "end"
   ]
  },
  {
   "cell_type": "code",
   "execution_count": 45,
   "id": "929a0bd4",
   "metadata": {
    "ExecuteTime": {
     "end_time": "2023-01-27T15:08:46.749000+09:00",
     "start_time": "2023-01-27T06:08:38.752Z"
    }
   },
   "outputs": [
    {
     "data": {
      "text/plain": [
       "2-element Vector{Float32}:\n",
       " 14.0\n",
       " 32.0"
      ]
     },
     "execution_count": 45,
     "metadata": {},
     "output_type": "execute_result"
    }
   ],
   "source": [
    "y  # == A' * x"
   ]
  },
  {
   "cell_type": "code",
   "execution_count": 46,
   "id": "736fc2f4",
   "metadata": {
    "ExecuteTime": {
     "end_time": "2023-01-27T15:08:46.770000+09:00",
     "start_time": "2023-01-27T06:08:38.754Z"
    }
   },
   "outputs": [],
   "source": [
    "A3 = reshape(1:12, (3, 2, 2));\n",
    "B = zeros(Float32, (2, 2));"
   ]
  },
  {
   "cell_type": "code",
   "execution_count": 47,
   "id": "5898fc7a",
   "metadata": {
    "ExecuteTime": {
     "end_time": "2023-01-27T15:08:46.806000+09:00",
     "start_time": "2023-01-27T06:08:38.756Z"
    }
   },
   "outputs": [],
   "source": [
    "for i_3 in axes(A3, 3)\n",
    "    for i_2 in axes(A3, 2)\n",
    "        for i_1 in axes(A3, 1)\n",
    "            B[i_2, i_3] += A3[i_1, i_2, i_3] * x[i_1]\n",
    "        end\n",
    "    end\n",
    "end"
   ]
  },
  {
   "cell_type": "code",
   "execution_count": 48,
   "id": "18088a22",
   "metadata": {
    "ExecuteTime": {
     "end_time": "2023-01-27T15:08:47.072000+09:00",
     "start_time": "2023-01-27T06:08:38.759Z"
    }
   },
   "outputs": [
    {
     "data": {
      "text/plain": [
       "2×2 Matrix{Float32}:\n",
       " 14.0  50.0\n",
       " 32.0  68.0"
      ]
     },
     "execution_count": 48,
     "metadata": {},
     "output_type": "execute_result"
    }
   ],
   "source": [
    "B"
   ]
  },
  {
   "cell_type": "markdown",
   "id": "3eab131a",
   "metadata": {},
   "source": [
    "#### コード8-53. `bdot()` 関数の実装"
   ]
  },
  {
   "cell_type": "code",
   "execution_count": 49,
   "id": "9fbaae3a",
   "metadata": {
    "ExecuteTime": {
     "end_time": "2023-01-27T15:08:47.148000+09:00",
     "start_time": "2023-01-27T06:08:38.761Z"
    }
   },
   "outputs": [
    {
     "data": {
      "text/plain": [
       "bdot (generic function with 1 method)"
      ]
     },
     "execution_count": 49,
     "metadata": {},
     "output_type": "execute_result"
    }
   ],
   "source": [
    "bdot(A::AbstractVecOrMat, x::AbstractVector) = A' * x"
   ]
  },
  {
   "cell_type": "code",
   "execution_count": 50,
   "id": "7dff29a7",
   "metadata": {
    "ExecuteTime": {
     "end_time": "2023-01-27T15:08:47.152000+09:00",
     "start_time": "2023-01-27T06:08:38.770Z"
    }
   },
   "outputs": [
    {
     "data": {
      "text/plain": [
       "bdot (generic function with 2 methods)"
      ]
     },
     "execution_count": 50,
     "metadata": {},
     "output_type": "execute_result"
    }
   ],
   "source": [
    "@generated function bdot(A::AbstractArray{T1, N}, x::AbstractVector{T2}) where {T1, T2, N}\n",
    "    T = promote_type(T1, T2)\n",
    "    idxs = ntuple(d->Symbol(\"i_\", d), Val(N))\n",
    "    ex = :(y[$(idxs[2:end]...)] += A[$(idxs...)] * x[$(idxs[1])])\n",
    "    for d = 1:N\n",
    "        ex = :(for $(idxs[d]) in axes(A, $d)\n",
    "            $ex\n",
    "        end)\n",
    "    end\n",
    "    quote\n",
    "        y = zeros($T, size(A)[2:$N])\n",
    "        $ex\n",
    "        y\n",
    "    end\n",
    "end"
   ]
  },
  {
   "cell_type": "markdown",
   "id": "5a28787f",
   "metadata": {},
   "source": [
    "#### コード8-54. `bdot()` 関数の動作確認"
   ]
  },
  {
   "cell_type": "code",
   "execution_count": 51,
   "id": "e2a14145",
   "metadata": {
    "ExecuteTime": {
     "end_time": "2023-01-27T15:08:47.152000+09:00",
     "start_time": "2023-01-27T06:08:38.774Z"
    }
   },
   "outputs": [],
   "source": [
    "x = Float32[1, 2, 3];"
   ]
  },
  {
   "cell_type": "code",
   "execution_count": 52,
   "id": "6f7cec8b",
   "metadata": {
    "ExecuteTime": {
     "end_time": "2023-01-27T15:08:47.156000+09:00",
     "start_time": "2023-01-27T06:08:38.778Z"
    }
   },
   "outputs": [
    {
     "data": {
      "text/plain": [
       "14.0f0"
      ]
     },
     "execution_count": 52,
     "metadata": {},
     "output_type": "execute_result"
    }
   ],
   "source": [
    "v = 1:3;\n",
    "bdot(v, x)  # == v' * x"
   ]
  },
  {
   "cell_type": "code",
   "execution_count": 53,
   "id": "37497216",
   "metadata": {
    "ExecuteTime": {
     "end_time": "2023-01-27T15:08:47.161000+09:00",
     "start_time": "2023-01-27T06:08:38.781Z"
    }
   },
   "outputs": [
    {
     "data": {
      "text/plain": [
       "2-element Vector{Float32}:\n",
       " 14.0\n",
       " 32.0"
      ]
     },
     "execution_count": 53,
     "metadata": {},
     "output_type": "execute_result"
    }
   ],
   "source": [
    "A = reshape(1:6, (3, 2));\n",
    "bdot(A, x)  # == A' * x"
   ]
  },
  {
   "cell_type": "code",
   "execution_count": 54,
   "id": "e1451007",
   "metadata": {
    "ExecuteTime": {
     "end_time": "2023-01-27T15:08:47.227000+09:00",
     "start_time": "2023-01-27T06:08:38.783Z"
    }
   },
   "outputs": [
    {
     "data": {
      "text/plain": [
       "2×2 Matrix{Float32}:\n",
       " 14.0  50.0\n",
       " 32.0  68.0"
      ]
     },
     "execution_count": 54,
     "metadata": {},
     "output_type": "execute_result"
    }
   ],
   "source": [
    "A3 = reshape(1:12, (3, 2, 2));\n",
    "bdot(A3, x)"
   ]
  },
  {
   "cell_type": "code",
   "execution_count": 55,
   "id": "42f29d55",
   "metadata": {
    "ExecuteTime": {
     "end_time": "2023-01-27T15:08:47.966000+09:00",
     "start_time": "2023-01-27T06:08:38.785Z"
    }
   },
   "outputs": [
    {
     "data": {
      "text/plain": [
       "2×2×2 Array{Float32, 3}:\n",
       "[:, :, 1] =\n",
       " 14.0  50.0\n",
       " 32.0  68.0\n",
       "\n",
       "[:, :, 2] =\n",
       "  86.0  122.0\n",
       " 104.0  140.0"
      ]
     },
     "execution_count": 55,
     "metadata": {},
     "output_type": "execute_result"
    }
   ],
   "source": [
    "A4 = reshape(1:24, (3, 2, 2, 2));\n",
    "bdot(A4, x)"
   ]
  },
  {
   "cell_type": "markdown",
   "id": "6a5379fe",
   "metadata": {},
   "source": [
    "#### コード8-55. `bdot()` の生成する引用表現の確認"
   ]
  },
  {
   "cell_type": "code",
   "execution_count": 56,
   "id": "3f32f84b",
   "metadata": {
    "ExecuteTime": {
     "end_time": "2023-01-27T15:08:48.036000+09:00",
     "start_time": "2023-01-27T06:08:38.787Z"
    }
   },
   "outputs": [
    {
     "data": {
      "text/plain": [
       "bdot_impl (generic function with 1 method)"
      ]
     },
     "execution_count": 56,
     "metadata": {},
     "output_type": "execute_result"
    }
   ],
   "source": [
    "function bdot_impl(::AbstractArray{T1, N}, ::AbstractVector{T2}) where {T1, T2, N}\n",
    "    T = promote_type(T1, T2)\n",
    "    idxs = ntuple(d->Symbol(\"i_\", d), Val(N))\n",
    "    ex = :(y[$(idxs[2:end]...)] += A[$(idxs...)] * x[$(idxs[1])])\n",
    "    for d = 1:N\n",
    "        ex = :(for $(idxs[d]) in axes(A, $d)\n",
    "            $ex\n",
    "        end)\n",
    "    end\n",
    "    quote\n",
    "        y = zeros($T, size(A)[2:$N])\n",
    "        $ex\n",
    "        y\n",
    "    end\n",
    "end"
   ]
  },
  {
   "cell_type": "code",
   "execution_count": 57,
   "id": "64d5cf8d",
   "metadata": {
    "ExecuteTime": {
     "end_time": "2023-01-27T15:08:48.217000+09:00",
     "start_time": "2023-01-27T06:08:38.789Z"
    }
   },
   "outputs": [
    {
     "data": {
      "text/plain": [
       "quote\n",
       "    y = zeros(Float32, (size(A))[2:2])\n",
       "    for i_2 = axes(A, 2)\n",
       "        for i_1 = axes(A, 1)\n",
       "            y[i_2] += A[i_1, i_2] * x[i_1]\n",
       "        end\n",
       "    end\n",
       "    y\n",
       "end"
      ]
     },
     "execution_count": 57,
     "metadata": {},
     "output_type": "execute_result"
    }
   ],
   "source": [
    "bdot_impl(A, x) |> Base.remove_linenums!  # `A isa AbstractArray{Int, 2}`"
   ]
  },
  {
   "cell_type": "code",
   "execution_count": 58,
   "id": "60e46b2a",
   "metadata": {
    "ExecuteTime": {
     "end_time": "2023-01-27T15:08:48.235000+09:00",
     "start_time": "2023-01-27T06:08:38.791Z"
    }
   },
   "outputs": [
    {
     "data": {
      "text/plain": [
       "quote\n",
       "    y = zeros(Float32, (size(A))[2:3])\n",
       "    for i_3 = axes(A, 3)\n",
       "        for i_2 = axes(A, 2)\n",
       "            for i_1 = axes(A, 1)\n",
       "                y[i_2, i_3] += A[i_1, i_2, i_3] * x[i_1]\n",
       "            end\n",
       "        end\n",
       "    end\n",
       "    y\n",
       "end"
      ]
     },
     "execution_count": 58,
     "metadata": {},
     "output_type": "execute_result"
    }
   ],
   "source": [
    "bdot_impl(A3, x) |> Base.remove_linenums!  # `A3 isa AbstractArray{Int, 3}"
   ]
  },
  {
   "cell_type": "code",
   "execution_count": 59,
   "id": "3a75e497",
   "metadata": {
    "ExecuteTime": {
     "end_time": "2023-01-27T15:08:48.257000+09:00",
     "start_time": "2023-01-27T06:08:38.793Z"
    }
   },
   "outputs": [
    {
     "data": {
      "text/plain": [
       "quote\n",
       "    y = zeros(Float32, (size(A))[2:4])\n",
       "    for i_4 = axes(A, 4)\n",
       "        for i_3 = axes(A, 3)\n",
       "            for i_2 = axes(A, 2)\n",
       "                for i_1 = axes(A, 1)\n",
       "                    y[i_2, i_3, i_4] += A[i_1, i_2, i_3, i_4] * x[i_1]\n",
       "                end\n",
       "            end\n",
       "        end\n",
       "    end\n",
       "    y\n",
       "end"
      ]
     },
     "execution_count": 59,
     "metadata": {},
     "output_type": "execute_result"
    }
   ],
   "source": [
    "bdot_impl(A4, x) |> Base.remove_linenums!  # `A4 isa AbstractArray{Int, 4}"
   ]
  },
  {
   "cell_type": "code",
   "execution_count": 60,
   "id": "e9cde3d4",
   "metadata": {
    "ExecuteTime": {
     "end_time": "2023-01-27T15:08:48.257000+09:00",
     "start_time": "2023-01-27T06:08:38.796Z"
    }
   },
   "outputs": [],
   "source": [
    "# 以下略"
   ]
  },
  {
   "cell_type": "markdown",
   "id": "1e80f802",
   "metadata": {},
   "source": [
    "#### コード8-56. `bdot()` の他の実装方法とパフォーマンス比較"
   ]
  },
  {
   "cell_type": "code",
   "execution_count": 61,
   "id": "f43c627d",
   "metadata": {
    "ExecuteTime": {
     "end_time": "2023-01-27T15:08:48.326000+09:00",
     "start_time": "2023-01-27T06:08:38.798Z"
    }
   },
   "outputs": [
    {
     "data": {
      "text/plain": [
       "bdot2 (generic function with 1 method)"
      ]
     },
     "execution_count": 61,
     "metadata": {},
     "output_type": "execute_result"
    }
   ],
   "source": [
    "bdot2(A::AbstractVecOrMat, x::AbstractVector) = A' * x"
   ]
  },
  {
   "cell_type": "code",
   "execution_count": 62,
   "id": "418ef4bc",
   "metadata": {
    "ExecuteTime": {
     "end_time": "2023-01-27T15:08:48.327000+09:00",
     "start_time": "2023-01-27T06:08:38.803Z"
    }
   },
   "outputs": [
    {
     "data": {
      "text/plain": [
       "bdot2 (generic function with 2 methods)"
      ]
     },
     "execution_count": 62,
     "metadata": {},
     "output_type": "execute_result"
    }
   ],
   "source": [
    "bdot2(A::AbstractArray, x::AbstractVector) =\n",
    "    [sum(A[i, j] * x[i] for i in axes(A, 1))\n",
    "     for j in CartesianIndices(axes(A)[2:end])]"
   ]
  },
  {
   "cell_type": "code",
   "execution_count": 63,
   "id": "52236589",
   "metadata": {
    "ExecuteTime": {
     "end_time": "2023-01-27T15:08:48.404000+09:00",
     "start_time": "2023-01-27T06:08:38.805Z"
    }
   },
   "outputs": [
    {
     "data": {
      "text/plain": [
       "bdot3 (generic function with 1 method)"
      ]
     },
     "execution_count": 63,
     "metadata": {},
     "output_type": "execute_result"
    }
   ],
   "source": [
    "bdot3(A::AbstractVecOrMat, x::AbstractVector) = A' * x"
   ]
  },
  {
   "cell_type": "code",
   "execution_count": 64,
   "id": "fae096ce",
   "metadata": {
    "ExecuteTime": {
     "end_time": "2023-01-27T15:08:48.405000+09:00",
     "start_time": "2023-01-27T06:08:38.806Z"
    }
   },
   "outputs": [
    {
     "data": {
      "text/plain": [
       "bdot3 (generic function with 2 methods)"
      ]
     },
     "execution_count": 64,
     "metadata": {},
     "output_type": "execute_result"
    }
   ],
   "source": [
    "bdot3(A::AbstractArray, x::AbstractVector) = \n",
    "    reshape(sum(A .* x, dims=1), size(A)[2:end])"
   ]
  },
  {
   "cell_type": "code",
   "execution_count": 65,
   "id": "17400a4c",
   "metadata": {
    "ExecuteTime": {
     "end_time": "2023-01-27T15:08:48.585000+09:00",
     "start_time": "2023-01-27T06:08:38.808Z"
    }
   },
   "outputs": [
    {
     "data": {
      "text/plain": [
       "true"
      ]
     },
     "execution_count": 65,
     "metadata": {},
     "output_type": "execute_result"
    }
   ],
   "source": [
    "bdot(v, x) == bdot2(v, x) == bdot3(v, x)"
   ]
  },
  {
   "cell_type": "code",
   "execution_count": 66,
   "id": "2162ac88",
   "metadata": {
    "ExecuteTime": {
     "end_time": "2023-01-27T15:08:48.606000+09:00",
     "start_time": "2023-01-27T06:08:38.809Z"
    }
   },
   "outputs": [
    {
     "data": {
      "text/plain": [
       "true"
      ]
     },
     "execution_count": 66,
     "metadata": {},
     "output_type": "execute_result"
    }
   ],
   "source": [
    "bdot(A, x) == bdot2(A, x) == bdot3(A, x)"
   ]
  },
  {
   "cell_type": "code",
   "execution_count": 67,
   "id": "9b73ac0a",
   "metadata": {
    "ExecuteTime": {
     "end_time": "2023-01-27T15:08:48.919000+09:00",
     "start_time": "2023-01-27T06:08:38.811Z"
    }
   },
   "outputs": [
    {
     "data": {
      "text/plain": [
       "true"
      ]
     },
     "execution_count": 67,
     "metadata": {},
     "output_type": "execute_result"
    }
   ],
   "source": [
    "bdot(A3, x) == bdot2(A3, x) == bdot3(A3, x)"
   ]
  },
  {
   "cell_type": "code",
   "execution_count": 68,
   "id": "f65d0719",
   "metadata": {
    "ExecuteTime": {
     "end_time": "2023-01-27T15:08:49.264000+09:00",
     "start_time": "2023-01-27T06:08:38.812Z"
    }
   },
   "outputs": [
    {
     "data": {
      "text/plain": [
       "true"
      ]
     },
     "execution_count": 68,
     "metadata": {},
     "output_type": "execute_result"
    }
   ],
   "source": [
    "bdot(A4, x) == bdot2(A4, x) == bdot3(A4, x)"
   ]
  },
  {
   "cell_type": "code",
   "execution_count": 69,
   "id": "3392290f",
   "metadata": {
    "ExecuteTime": {
     "end_time": "2023-01-27T15:08:49.281000+09:00",
     "start_time": "2023-01-27T06:08:38.814Z"
    }
   },
   "outputs": [],
   "source": [
    "A5 = reshape(1:48, (3, 2, 2, 2, 2));"
   ]
  },
  {
   "cell_type": "code",
   "execution_count": 70,
   "id": "b3bb3f0e",
   "metadata": {
    "ExecuteTime": {
     "end_time": "2023-01-27T15:08:49.759000+09:00",
     "start_time": "2023-01-27T06:08:38.815Z"
    }
   },
   "outputs": [
    {
     "data": {
      "text/plain": [
       "true"
      ]
     },
     "execution_count": 70,
     "metadata": {},
     "output_type": "execute_result"
    }
   ],
   "source": [
    "bdot(A5, x) == bdot2(A5, x) == bdot3(A5, x)"
   ]
  },
  {
   "cell_type": "code",
   "execution_count": 71,
   "id": "0166fd8f",
   "metadata": {
    "ExecuteTime": {
     "end_time": "2023-01-27T15:08:49.815000+09:00",
     "start_time": "2023-01-27T06:08:38.817Z"
    }
   },
   "outputs": [
    {
     "name": "stdout",
     "output_type": "stream",
     "text": [
      "  0.000005 seconds (2 allocations: 192 bytes)\n"
     ]
    }
   ],
   "source": [
    "@time bdot(A5, x);"
   ]
  },
  {
   "cell_type": "code",
   "execution_count": 72,
   "id": "eb3dee49",
   "metadata": {
    "ExecuteTime": {
     "end_time": "2023-01-27T15:08:49.827000+09:00",
     "start_time": "2023-01-27T06:08:38.818Z"
    }
   },
   "outputs": [
    {
     "name": "stdout",
     "output_type": "stream",
     "text": [
      "  0.000007 seconds (2 allocations: 192 bytes)\n"
     ]
    }
   ],
   "source": [
    "@time bdot2(A5, x);"
   ]
  },
  {
   "cell_type": "code",
   "execution_count": 73,
   "id": "3ba93668",
   "metadata": {
    "ExecuteTime": {
     "end_time": "2023-01-27T15:08:49.840000+09:00",
     "start_time": "2023-01-27T06:08:38.821Z"
    }
   },
   "outputs": [
    {
     "name": "stdout",
     "output_type": "stream",
     "text": [
      "  0.000007 seconds (6 allocations: 640 bytes)\n"
     ]
    }
   ],
   "source": [
    "@time bdot3(A5, x);"
   ]
  },
  {
   "cell_type": "code",
   "execution_count": 74,
   "id": "a50d1249",
   "metadata": {
    "ExecuteTime": {
     "end_time": "2023-01-27T15:08:49.843000+09:00",
     "start_time": "2023-01-27T06:08:38.823Z"
    }
   },
   "outputs": [],
   "source": [
    "using BenchmarkTools"
   ]
  },
  {
   "cell_type": "code",
   "execution_count": 75,
   "id": "2ad94b4b",
   "metadata": {
    "ExecuteTime": {
     "end_time": "2023-01-27T15:08:52.474000+09:00",
     "start_time": "2023-01-27T06:08:38.824Z"
    }
   },
   "outputs": [
    {
     "name": "stdout",
     "output_type": "stream",
     "text": [
      "  210.359 ns (2 allocations: 192 bytes)\n"
     ]
    }
   ],
   "source": [
    "@btime bdot($A5, $x);"
   ]
  },
  {
   "cell_type": "code",
   "execution_count": 76,
   "id": "a90d14b8",
   "metadata": {
    "ExecuteTime": {
     "end_time": "2023-01-27T15:08:54.105000+09:00",
     "start_time": "2023-01-27T06:08:38.826Z"
    }
   },
   "outputs": [
    {
     "name": "stdout",
     "output_type": "stream",
     "text": [
      "  824.557 ns (2 allocations: 192 bytes)\n"
     ]
    }
   ],
   "source": [
    "@btime bdot2($A5, $x);"
   ]
  },
  {
   "cell_type": "code",
   "execution_count": 77,
   "id": "23d7b63f",
   "metadata": {
    "ExecuteTime": {
     "end_time": "2023-01-27T15:08:55.809000+09:00",
     "start_time": "2023-01-27T06:08:38.827Z"
    }
   },
   "outputs": [
    {
     "name": "stdout",
     "output_type": "stream",
     "text": [
      "  296.067 ns (6 allocations: 640 bytes)\n"
     ]
    }
   ],
   "source": [
    "@btime bdot3($A5, $x);"
   ]
  }
 ],
 "metadata": {
  "jupytext": {
   "formats": "ipynb,auto:light"
  },
  "kernelspec": {
   "display_name": "Julia 1.8.5",
   "language": "julia",
   "name": "julia-1.8"
  },
  "language_info": {
   "file_extension": ".jl",
   "mimetype": "application/julia",
   "name": "julia",
   "version": "1.8.5"
  }
 },
 "nbformat": 4,
 "nbformat_minor": 5
}
