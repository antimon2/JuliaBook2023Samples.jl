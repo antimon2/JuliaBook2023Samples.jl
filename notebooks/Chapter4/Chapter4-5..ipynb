{
 "cells": [
  {
   "cell_type": "code",
   "execution_count": 1,
   "id": "93a54fd1-f76d-4afc-b507-22c560c4a630",
   "metadata": {
    "ExecuteTime": {
     "end_time": "2023-01-27T14:14:21.459000+09:00",
     "start_time": "2023-01-27T05:14:20.876Z"
    }
   },
   "outputs": [
    {
     "name": "stdout",
     "output_type": "stream",
     "text": [
      "Julia Version 1.8.5\n",
      "Commit 17cfb8e65ea (2023-01-08 06:45 UTC)\n",
      "Platform Info:\n",
      "  OS: Linux (x86_64-linux-gnu)\n",
      "  CPU: 12 × Intel(R) Core(TM) i7-9750H CPU @ 2.60GHz\n",
      "  WORD_SIZE: 64\n",
      "  LIBM: libopenlibm\n",
      "  LLVM: libLLVM-13.0.1 (ORCJIT, skylake)\n",
      "  Threads: 1 on 12 virtual cores\n"
     ]
    }
   ],
   "source": [
    "versioninfo()"
   ]
  },
  {
   "cell_type": "markdown",
   "id": "b4ef53e7-e2f8-49ab-9e9e-03693d983eb6",
   "metadata": {},
   "source": [
    "## 4-5. ユーザ定義型"
   ]
  },
  {
   "cell_type": "markdown",
   "id": "4ae5b37b-f5db-490c-a555-effbdd375cea",
   "metadata": {},
   "source": [
    "### 4-5-1. ユーザによる型の定義"
   ]
  },
  {
   "cell_type": "markdown",
   "id": "8e2d9baf-d022-4786-b66d-c8aeaf8e6568",
   "metadata": {},
   "source": [
    "#### コード4-12. 型定義の例 (1)（再掲）"
   ]
  },
  {
   "cell_type": "code",
   "execution_count": 2,
   "id": "218c9d46-c4f0-43a4-8013-8739bf182b3e",
   "metadata": {
    "ExecuteTime": {
     "end_time": "2023-01-27T14:14:21.505000+09:00",
     "start_time": "2023-01-27T05:14:20.880Z"
    }
   },
   "outputs": [],
   "source": [
    "struct Decimal <: Real\n",
    "    value::BigInt\n",
    "    point::Int\n",
    "end"
   ]
  },
  {
   "cell_type": "markdown",
   "id": "ae7585c9-a382-45cc-b549-ff95ba388c12",
   "metadata": {},
   "source": [
    "#### コード4-46. 型定義の例 (3)：抽象型の定義例"
   ]
  },
  {
   "cell_type": "code",
   "execution_count": 3,
   "id": "f580c514-f33d-4ebb-b38e-e1154dfc12e9",
   "metadata": {
    "ExecuteTime": {
     "end_time": "2023-01-27T14:14:21.505000+09:00",
     "start_time": "2023-01-27T05:14:20.882Z"
    }
   },
   "outputs": [],
   "source": [
    "abstract type AbstractQDInfo end"
   ]
  },
  {
   "cell_type": "code",
   "execution_count": 4,
   "id": "aa9911d4-c8d3-4b97-bad4-5ef0702e7de2",
   "metadata": {
    "ExecuteTime": {
     "end_time": "2023-01-27T14:14:21.506000+09:00",
     "start_time": "2023-01-27T05:14:20.884Z"
    }
   },
   "outputs": [],
   "source": [
    "abstract type AbstractQDError <: AbstractQDInfo end"
   ]
  },
  {
   "cell_type": "code",
   "execution_count": 5,
   "id": "d4b4bd95-183f-4694-89df-4cb1284c5f85",
   "metadata": {
    "ExecuteTime": {
     "end_time": "2023-01-27T14:14:21.506000+09:00",
     "start_time": "2023-01-27T05:14:20.885Z"
    }
   },
   "outputs": [],
   "source": [
    "abstract type AbstractData{T} end"
   ]
  },
  {
   "cell_type": "code",
   "execution_count": 6,
   "id": "89c612a6-80cf-4f05-8aad-e54ba857d379",
   "metadata": {
    "ExecuteTime": {
     "end_time": "2023-01-27T14:14:21.507000+09:00",
     "start_time": "2023-01-27T05:14:20.887Z"
    }
   },
   "outputs": [],
   "source": [
    "abstract type AbstractPoint{T<:Real} end"
   ]
  },
  {
   "cell_type": "markdown",
   "id": "66575292-42a4-46c7-8ec6-13faba010b0c",
   "metadata": {},
   "source": [
    "#### コード4-47. 型定義の例 (4)：構造体の定義例"
   ]
  },
  {
   "cell_type": "code",
   "execution_count": 7,
   "id": "b9c2fbfb-17ad-4a41-b174-aca18ebcd819",
   "metadata": {
    "ExecuteTime": {
     "end_time": "2023-01-27T14:14:21.508000+09:00",
     "start_time": "2023-01-27T05:14:20.888Z"
    }
   },
   "outputs": [],
   "source": [
    "struct Decimal <: Real\n",
    "    value::BigInt\n",
    "    point::Int\n",
    "end"
   ]
  },
  {
   "cell_type": "code",
   "execution_count": 8,
   "id": "614cb4fa-f227-4d5d-9adb-0d7664adca23",
   "metadata": {
    "ExecuteTime": {
     "end_time": "2023-01-27T14:14:21.511000+09:00",
     "start_time": "2023-01-27T05:14:20.889Z"
    }
   },
   "outputs": [],
   "source": [
    "struct Point2D{T} <: AbstractPoint{T}\n",
    "    x::T\n",
    "    y::T\n",
    "end"
   ]
  },
  {
   "cell_type": "code",
   "execution_count": 9,
   "id": "e0201d4b-1e38-401e-be5d-d211e15e603f",
   "metadata": {
    "ExecuteTime": {
     "end_time": "2023-01-27T14:14:21.513000+09:00",
     "start_time": "2023-01-27T05:14:20.891Z"
    }
   },
   "outputs": [],
   "source": [
    "struct MyIntegerArray{T<:Integer, N} <: AbstractArray{T, N}\n",
    "    inner::Array{T, N}\n",
    "end"
   ]
  },
  {
   "cell_type": "code",
   "execution_count": 10,
   "id": "fec2d13d-24fa-4ce2-8b4a-eb80d4dea624",
   "metadata": {
    "ExecuteTime": {
     "end_time": "2023-01-27T14:14:21.513000+09:00",
     "start_time": "2023-01-27T05:14:20.892Z"
    }
   },
   "outputs": [],
   "source": [
    "struct MySingleton end"
   ]
  },
  {
   "cell_type": "markdown",
   "id": "2cb55126-50c0-4258-a35b-8d1fc3ef1336",
   "metadata": {},
   "source": [
    "#### コード4-48. 型定義の例 (5)：可変構造体の定義例"
   ]
  },
  {
   "cell_type": "code",
   "execution_count": 11,
   "id": "6d4c069f-483c-4a6f-98ec-e35f70fb7f17",
   "metadata": {
    "ExecuteTime": {
     "end_time": "2023-01-27T14:14:21.515000+09:00",
     "start_time": "2023-01-27T05:14:20.894Z"
    }
   },
   "outputs": [],
   "source": [
    "mutable struct Future\n",
    "    value\n",
    "    done::Bool\n",
    "end"
   ]
  },
  {
   "cell_type": "code",
   "execution_count": 12,
   "id": "706ca1c9-3977-41b1-8dd5-bfcae2fb98bd",
   "metadata": {
    "ExecuteTime": {
     "end_time": "2023-01-27T14:14:21.516000+09:00",
     "start_time": "2023-01-27T05:14:20.895Z"
    }
   },
   "outputs": [],
   "source": [
    "mutable struct MPoint2D{T} <: AbstractPoint{T}\n",
    "    x::T\n",
    "    y::T\n",
    "end"
   ]
  },
  {
   "cell_type": "markdown",
   "id": "6cfe8830-6827-45bc-b6eb-c2fc745bf76e",
   "metadata": {},
   "source": [
    "#### コード4-49. 構造体と可変構造体の違い確認例"
   ]
  },
  {
   "cell_type": "code",
   "execution_count": 13,
   "id": "689af1f4-938b-40ec-b92f-a9d40722c5bb",
   "metadata": {
    "ExecuteTime": {
     "end_time": "2023-01-27T14:14:22.248000+09:00",
     "start_time": "2023-01-27T05:14:20.897Z"
    }
   },
   "outputs": [
    {
     "data": {
      "text/plain": [
       "MPoint2D{Int64}(0, 0)"
      ]
     },
     "execution_count": 13,
     "metadata": {},
     "output_type": "execute_result"
    }
   ],
   "source": [
    "mpt = MPoint2D(0, 0)"
   ]
  },
  {
   "cell_type": "code",
   "execution_count": 14,
   "id": "4b9984cb-9eca-4465-ae54-32083aaa69c1",
   "metadata": {
    "ExecuteTime": {
     "end_time": "2023-01-27T14:14:22.252000+09:00",
     "start_time": "2023-01-27T05:14:20.898Z"
    }
   },
   "outputs": [
    {
     "data": {
      "text/plain": [
       "MPoint2D{Int64}(1, 2)"
      ]
     },
     "execution_count": 14,
     "metadata": {},
     "output_type": "execute_result"
    }
   ],
   "source": [
    "mpt.x = 1;\n",
    "mpt.y = 2;\n",
    "mpt"
   ]
  },
  {
   "cell_type": "code",
   "execution_count": 15,
   "id": "a4bff7d2-06b8-487c-bda0-de6c733f7050",
   "metadata": {
    "ExecuteTime": {
     "end_time": "2023-01-27T14:14:22.431000+09:00",
     "start_time": "2023-01-27T05:14:20.899Z"
    }
   },
   "outputs": [
    {
     "data": {
      "text/plain": [
       "Point2D{Int64}(0, 0)"
      ]
     },
     "execution_count": 15,
     "metadata": {},
     "output_type": "execute_result"
    }
   ],
   "source": [
    "pt = Point2D(0, 0)"
   ]
  },
  {
   "cell_type": "code",
   "execution_count": 16,
   "id": "e5eb068f-fdae-437c-b1f9-b76739ea1aec",
   "metadata": {
    "ExecuteTime": {
     "end_time": "2023-01-27T14:14:23.102000+09:00",
     "start_time": "2023-01-27T05:14:20.901Z"
    }
   },
   "outputs": [
    {
     "ename": "LoadError",
     "evalue": "setfield!: immutable struct of type Point2D cannot be changed",
     "output_type": "error",
     "traceback": [
      "setfield!: immutable struct of type Point2D cannot be changed",
      "",
      "Stacktrace:",
      " [1] setproperty!(x::Point2D{Int64}, f::Symbol, v::Int64)",
      "   @ Base ./Base.jl:39",
      " [2] top-level scope",
      "   @ In[16]:1"
     ]
    }
   ],
   "source": [
    "pt.x = 1"
   ]
  },
  {
   "cell_type": "markdown",
   "id": "d7d23f69-1101-4fcf-afe1-1a5fbafd0ab7",
   "metadata": {},
   "source": [
    "#### コード4-50. 型定義の例 (6)：プリミティブ型の定義例"
   ]
  },
  {
   "cell_type": "code",
   "execution_count": 17,
   "id": "7681d651-0723-4253-aa0f-8d17f7cd8583",
   "metadata": {
    "ExecuteTime": {
     "end_time": "2023-01-27T14:14:23.103000+09:00",
     "start_time": "2023-01-27T05:14:20.902Z"
    }
   },
   "outputs": [],
   "source": [
    "primitive type Int24 <: Signed 24 end"
   ]
  },
  {
   "cell_type": "code",
   "execution_count": 18,
   "id": "3dab52b4-f83c-4c74-8653-2c5d074e848a",
   "metadata": {
    "ExecuteTime": {
     "end_time": "2023-01-27T14:14:23.104000+09:00",
     "start_time": "2023-01-27T05:14:20.903Z"
    }
   },
   "outputs": [],
   "source": [
    "primitive type Address{T} 64 end"
   ]
  },
  {
   "cell_type": "markdown",
   "id": "717d0b98-9020-4537-b8c3-e3eff2ec5232",
   "metadata": {},
   "source": [
    "### 4-5-2. コンストラクタ定義"
   ]
  },
  {
   "cell_type": "markdown",
   "id": "8a08be5f-fe2f-439c-bcb9-32ed4989d3c9",
   "metadata": {},
   "source": [
    "#### コード4-51. `Point2D{T}` 型の定義例"
   ]
  },
  {
   "cell_type": "code",
   "execution_count": 19,
   "id": "9e72399a-a5b4-4163-b065-210f963fe88c",
   "metadata": {
    "ExecuteTime": {
     "end_time": "2023-01-27T14:14:23.106000+09:00",
     "start_time": "2023-01-27T05:14:20.905Z"
    }
   },
   "outputs": [],
   "source": [
    "struct Point2D{T} <: AbstractPoint{T}\n",
    "    x::T\n",
    "    y::T\n",
    "end"
   ]
  },
  {
   "cell_type": "code",
   "execution_count": 20,
   "id": "ffe9948d-49cd-4efd-a68f-70f1714f08cb",
   "metadata": {
    "ExecuteTime": {
     "end_time": "2023-01-27T14:14:23.110000+09:00",
     "start_time": "2023-01-27T05:14:20.906Z"
    }
   },
   "outputs": [
    {
     "data": {
      "text/plain": [
       "Point2D{Int64}(1, 2)"
      ]
     },
     "execution_count": 20,
     "metadata": {},
     "output_type": "execute_result"
    }
   ],
   "source": [
    "pt = Point2D(1, 2)"
   ]
  },
  {
   "cell_type": "code",
   "execution_count": 21,
   "id": "e6756b6f-ace8-447a-b34d-a4ce1d97960d",
   "metadata": {
    "ExecuteTime": {
     "end_time": "2023-01-27T14:14:23.264000+09:00",
     "start_time": "2023-01-27T05:14:20.907Z"
    }
   },
   "outputs": [
    {
     "data": {
      "text/plain": [
       "1"
      ]
     },
     "execution_count": 21,
     "metadata": {},
     "output_type": "execute_result"
    }
   ],
   "source": [
    "pt.x"
   ]
  },
  {
   "cell_type": "code",
   "execution_count": 22,
   "id": "ee17fbee-5f92-45df-bf30-5a9040ac9cf7",
   "metadata": {
    "ExecuteTime": {
     "end_time": "2023-01-27T14:14:23.264000+09:00",
     "start_time": "2023-01-27T05:14:20.908Z"
    }
   },
   "outputs": [
    {
     "data": {
      "text/plain": [
       "2"
      ]
     },
     "execution_count": 22,
     "metadata": {},
     "output_type": "execute_result"
    }
   ],
   "source": [
    "pt.y"
   ]
  },
  {
   "cell_type": "markdown",
   "id": "1cc0fb55-e6da-462e-9285-711afcc1ed4a",
   "metadata": {},
   "source": [
    "#### コード4-52. `MPoint2D{T}` 型とその外部コンストラクタの定義例"
   ]
  },
  {
   "cell_type": "code",
   "execution_count": 23,
   "id": "8b87e42b-5472-4ec1-94ab-541bdca9226d",
   "metadata": {
    "ExecuteTime": {
     "end_time": "2023-01-27T14:14:23.266000+09:00",
     "start_time": "2023-01-27T05:14:20.910Z"
    }
   },
   "outputs": [],
   "source": [
    "mutable struct MPoint2D{T} <: AbstractPoint{T}\n",
    "    x::T\n",
    "    y::T\n",
    "end"
   ]
  },
  {
   "cell_type": "code",
   "execution_count": 24,
   "id": "fcb362bb-2e89-4df8-9257-d7d774cf94ba",
   "metadata": {
    "ExecuteTime": {
     "end_time": "2023-01-27T14:14:23.556000+09:00",
     "start_time": "2023-01-27T05:14:20.911Z"
    }
   },
   "outputs": [
    {
     "data": {
      "text/plain": [
       "MPoint2D"
      ]
     },
     "execution_count": 24,
     "metadata": {},
     "output_type": "execute_result"
    }
   ],
   "source": [
    "function MPoint2D(v)\n",
    "    MPoint2D(v, v)\n",
    "end"
   ]
  },
  {
   "cell_type": "code",
   "execution_count": 25,
   "id": "d9836a15-3d11-4fa6-9b77-c6d7fcdfe028",
   "metadata": {
    "ExecuteTime": {
     "end_time": "2023-01-27T14:14:23.557000+09:00",
     "start_time": "2023-01-27T05:14:20.912Z"
    }
   },
   "outputs": [
    {
     "data": {
      "text/plain": [
       "MPoint2D"
      ]
     },
     "execution_count": 25,
     "metadata": {},
     "output_type": "execute_result"
    }
   ],
   "source": [
    "function MPoint2D()\n",
    "    MPoint2D(0.0)\n",
    "end"
   ]
  },
  {
   "cell_type": "code",
   "execution_count": 26,
   "id": "03b60de1-75ac-4cfa-afbf-903478319ef0",
   "metadata": {
    "ExecuteTime": {
     "end_time": "2023-01-27T14:14:23.558000+09:00",
     "start_time": "2023-01-27T05:14:20.913Z"
    }
   },
   "outputs": [],
   "source": [
    "function MPoint2D{T}() where T<:Real\n",
    "    MPoint2D(zero(T))\n",
    "end"
   ]
  },
  {
   "cell_type": "markdown",
   "id": "90d5b65d-c290-43c3-8fa3-e0b40554a744",
   "metadata": {},
   "source": [
    "#### コード4-53. `MPoint2D{T}` 型のインスタンス生成例"
   ]
  },
  {
   "cell_type": "code",
   "execution_count": 27,
   "id": "cc7577be-e035-4584-a2c9-5d84e5149d74",
   "metadata": {
    "ExecuteTime": {
     "end_time": "2023-01-27T14:14:23.562000+09:00",
     "start_time": "2023-01-27T05:14:20.915Z"
    }
   },
   "outputs": [
    {
     "data": {
      "text/plain": [
       "MPoint2D{Int64}(1, 2)"
      ]
     },
     "execution_count": 27,
     "metadata": {},
     "output_type": "execute_result"
    }
   ],
   "source": [
    "MPoint2D(1, 2)"
   ]
  },
  {
   "cell_type": "code",
   "execution_count": 28,
   "id": "3e5b7332-d5f4-42d9-9d01-424594edd663",
   "metadata": {
    "ExecuteTime": {
     "end_time": "2023-01-27T14:14:23.565000+09:00",
     "start_time": "2023-01-27T05:14:20.916Z"
    }
   },
   "outputs": [
    {
     "data": {
      "text/plain": [
       "MPoint2D{Int64}(1, 1)"
      ]
     },
     "execution_count": 28,
     "metadata": {},
     "output_type": "execute_result"
    }
   ],
   "source": [
    "MPoint2D(1)"
   ]
  },
  {
   "cell_type": "code",
   "execution_count": 29,
   "id": "9a315584-cf6f-4da7-8047-b3e9313f30f6",
   "metadata": {
    "ExecuteTime": {
     "end_time": "2023-01-27T14:14:23.741000+09:00",
     "start_time": "2023-01-27T05:14:20.917Z"
    }
   },
   "outputs": [
    {
     "data": {
      "text/plain": [
       "MPoint2D{Float64}(0.0, 0.0)"
      ]
     },
     "execution_count": 29,
     "metadata": {},
     "output_type": "execute_result"
    }
   ],
   "source": [
    "MPoint2D()"
   ]
  },
  {
   "cell_type": "code",
   "execution_count": 30,
   "id": "3a248b51-c59f-40ea-a91e-a6a0a48a83e5",
   "metadata": {
    "ExecuteTime": {
     "end_time": "2023-01-27T14:14:23.744000+09:00",
     "start_time": "2023-01-27T05:14:20.918Z"
    }
   },
   "outputs": [
    {
     "data": {
      "text/plain": [
       "MPoint2D{Int64}(0, 0)"
      ]
     },
     "execution_count": 30,
     "metadata": {},
     "output_type": "execute_result"
    }
   ],
   "source": [
    "MPoint2D{Int}()"
   ]
  },
  {
   "cell_type": "markdown",
   "id": "e535638a-b632-4c5d-8da3-d30a604786e9",
   "metadata": {},
   "source": [
    "#### コード4-54. `Future` 型とその内部コンストラクタの定義例"
   ]
  },
  {
   "cell_type": "code",
   "execution_count": 31,
   "id": "8db60169-5955-493b-b2d5-f08cc21f5ac2",
   "metadata": {
    "ExecuteTime": {
     "end_time": "2023-01-27T14:14:23.750000+09:00",
     "start_time": "2023-01-27T05:14:20.920Z"
    }
   },
   "outputs": [
    {
     "ename": "LoadError",
     "evalue": "invalid redefinition of constant Future",
     "output_type": "error",
     "traceback": [
      "invalid redefinition of constant Future",
      "",
      "Stacktrace:",
      " [1] top-level scope",
      "   @ In[31]:1"
     ]
    }
   ],
   "source": [
    "mutable struct Future\n",
    "    value\n",
    "    done::Bool\n",
    "\n",
    "    function Future()\n",
    "        object = new()\n",
    "        object.done = false\n",
    "        object\n",
    "    end\n",
    "    function Future(value)\n",
    "        new(value, true)\n",
    "    end\n",
    "end"
   ]
  },
  {
   "cell_type": "markdown",
   "id": "1d822b0c-cdc3-442c-8981-3fc360abd0cd",
   "metadata": {},
   "source": [
    "#### コード4-55. `Future` 型のインスタンス生成例"
   ]
  },
  {
   "cell_type": "code",
   "execution_count": 32,
   "id": "fd8a54aa-aa23-45a0-a4ca-4fdc40f1c287",
   "metadata": {
    "ExecuteTime": {
     "end_time": "2023-01-27T14:14:24.112000+09:00",
     "start_time": "2023-01-27T05:14:20.921Z"
    }
   },
   "outputs": [
    {
     "ename": "LoadError",
     "evalue": "MethodError: no method matching Future()\n\u001b[0mClosest candidates are:\n\u001b[0m  Future(\u001b[91m::Any\u001b[39m, \u001b[91m::Bool\u001b[39m) at In[11]:2\n\u001b[0m  Future(\u001b[91m::Any\u001b[39m, \u001b[91m::Any\u001b[39m) at In[11]:2",
     "output_type": "error",
     "traceback": [
      "MethodError: no method matching Future()\n\u001b[0mClosest candidates are:\n\u001b[0m  Future(\u001b[91m::Any\u001b[39m, \u001b[91m::Bool\u001b[39m) at In[11]:2\n\u001b[0m  Future(\u001b[91m::Any\u001b[39m, \u001b[91m::Any\u001b[39m) at In[11]:2",
      "",
      "Stacktrace:",
      " [1] top-level scope",
      "   @ In[32]:1"
     ]
    }
   ],
   "source": [
    "f0 = Future()"
   ]
  },
  {
   "cell_type": "code",
   "execution_count": 33,
   "id": "dd5ef5b9-e7f9-4245-9dc0-f18b62fff041",
   "metadata": {
    "ExecuteTime": {
     "end_time": "2023-01-27T14:14:24.124000+09:00",
     "start_time": "2023-01-27T05:14:20.922Z"
    }
   },
   "outputs": [
    {
     "ename": "LoadError",
     "evalue": "MethodError: no method matching Future(::String)\n\u001b[0mClosest candidates are:\n\u001b[0m  Future(::Any, \u001b[91m::Bool\u001b[39m) at In[11]:2\n\u001b[0m  Future(::Any, \u001b[91m::Any\u001b[39m) at In[11]:2",
     "output_type": "error",
     "traceback": [
      "MethodError: no method matching Future(::String)\n\u001b[0mClosest candidates are:\n\u001b[0m  Future(::Any, \u001b[91m::Bool\u001b[39m) at In[11]:2\n\u001b[0m  Future(::Any, \u001b[91m::Any\u001b[39m) at In[11]:2",
      "",
      "Stacktrace:",
      " [1] top-level scope",
      "   @ In[33]:1"
     ]
    }
   ],
   "source": [
    "f1 = Future(\"Concrete Value\")"
   ]
  },
  {
   "cell_type": "code",
   "execution_count": 34,
   "id": "674cfac7-b35f-4d88-970f-84e397abdff4",
   "metadata": {
    "ExecuteTime": {
     "end_time": "2023-01-27T14:14:24.300000+09:00",
     "start_time": "2023-01-27T05:14:20.923Z"
    }
   },
   "outputs": [
    {
     "data": {
      "text/plain": [
       "Future(\"Concrete Value\", true)"
      ]
     },
     "execution_count": 34,
     "metadata": {},
     "output_type": "execute_result"
    }
   ],
   "source": [
    "f2 = Future(\"Concrete Value\", true)"
   ]
  },
  {
   "cell_type": "markdown",
   "id": "8dfd4e34-5d19-48ac-b12e-d73782a631f1",
   "metadata": {},
   "source": [
    "#### コード4-56. 加工・変換のための外部コンストラクタの例 (1)"
   ]
  },
  {
   "cell_type": "code",
   "execution_count": 35,
   "id": "fb79a608-ee28-41f5-b5a1-2d940938f176",
   "metadata": {
    "ExecuteTime": {
     "end_time": "2023-01-27T14:14:24.312000+09:00",
     "start_time": "2023-01-27T05:14:20.925Z"
    }
   },
   "outputs": [
    {
     "data": {
      "text/plain": [
       "Point2D"
      ]
     },
     "execution_count": 35,
     "metadata": {},
     "output_type": "execute_result"
    }
   ],
   "source": [
    "function Point2D(t::NTuple{2, T}) where T<:Real\n",
    "    Point2D(t...)\n",
    "end"
   ]
  },
  {
   "cell_type": "code",
   "execution_count": 36,
   "id": "2bec6e58-6c19-4333-a982-f5131ef5ac36",
   "metadata": {
    "ExecuteTime": {
     "end_time": "2023-01-27T14:14:24.313000+09:00",
     "start_time": "2023-01-27T05:14:20.926Z"
    }
   },
   "outputs": [
    {
     "data": {
      "text/plain": [
       "MPoint2D"
      ]
     },
     "execution_count": 36,
     "metadata": {},
     "output_type": "execute_result"
    }
   ],
   "source": [
    "function MPoint2D(t::NTuple{2, T}) where T<:Real\n",
    "    MPoint2D(t...)\n",
    "end"
   ]
  },
  {
   "cell_type": "code",
   "execution_count": 37,
   "id": "c3848f89-9485-4946-9d89-1637ef57e68b",
   "metadata": {
    "ExecuteTime": {
     "end_time": "2023-01-27T14:14:24.314000+09:00",
     "start_time": "2023-01-27T05:14:20.927Z"
    }
   },
   "outputs": [
    {
     "data": {
      "text/plain": [
       "Point2D"
      ]
     },
     "execution_count": 37,
     "metadata": {},
     "output_type": "execute_result"
    }
   ],
   "source": [
    "function Point2D(mpt::MPoint2D)\n",
    "    Point2D(mpt.x, mpt.y)\n",
    "end"
   ]
  },
  {
   "cell_type": "code",
   "execution_count": 38,
   "id": "aa40138e-7b34-4d1b-b1d1-0bda31f7c5e3",
   "metadata": {
    "ExecuteTime": {
     "end_time": "2023-01-27T14:14:24.315000+09:00",
     "start_time": "2023-01-27T05:14:20.929Z"
    }
   },
   "outputs": [
    {
     "data": {
      "text/plain": [
       "MPoint2D"
      ]
     },
     "execution_count": 38,
     "metadata": {},
     "output_type": "execute_result"
    }
   ],
   "source": [
    "function MPoint2D(pt::Point2D)\n",
    "    MPoint2D(pt.x, pt.y)\n",
    "end"
   ]
  },
  {
   "cell_type": "markdown",
   "id": "e7986815-c39c-4576-895f-35c3f7c3ffc3",
   "metadata": {},
   "source": [
    "#### コード4-57. 加工・変換のための外部コンストラクタの例 (2)"
   ]
  },
  {
   "cell_type": "code",
   "execution_count": 39,
   "id": "77dc4806-593d-4f92-9554-c4186557b4f0",
   "metadata": {
    "ExecuteTime": {
     "end_time": "2023-01-27T14:14:24.518000+09:00",
     "start_time": "2023-01-27T05:14:20.930Z"
    }
   },
   "outputs": [
    {
     "data": {
      "text/plain": [
       "(1, 2)"
      ]
     },
     "execution_count": 39,
     "metadata": {},
     "output_type": "execute_result"
    }
   ],
   "source": [
    "t1 = (1, 2)"
   ]
  },
  {
   "cell_type": "code",
   "execution_count": 40,
   "id": "dc1a9d50-a046-49f0-9dd8-dd1e2e68d0a6",
   "metadata": {
    "ExecuteTime": {
     "end_time": "2023-01-27T14:14:24.522000+09:00",
     "start_time": "2023-01-27T05:14:20.931Z"
    }
   },
   "outputs": [
    {
     "data": {
      "text/plain": [
       "Point2D{Int64}(1, 2)"
      ]
     },
     "execution_count": 40,
     "metadata": {},
     "output_type": "execute_result"
    }
   ],
   "source": [
    "pt1 = Point2D(t1)"
   ]
  },
  {
   "cell_type": "code",
   "execution_count": 41,
   "id": "19ccb35a-03d5-44b8-8092-6cfa59211bc5",
   "metadata": {
    "ExecuteTime": {
     "end_time": "2023-01-27T14:14:24.526000+09:00",
     "start_time": "2023-01-27T05:14:20.932Z"
    }
   },
   "outputs": [
    {
     "data": {
      "text/plain": [
       "MPoint2D{Int64}(1, 2)"
      ]
     },
     "execution_count": 41,
     "metadata": {},
     "output_type": "execute_result"
    }
   ],
   "source": [
    "mpt1 = MPoint2D(t1)"
   ]
  },
  {
   "cell_type": "code",
   "execution_count": 42,
   "id": "584d4165-216d-4a85-8655-4dcac374c582",
   "metadata": {
    "ExecuteTime": {
     "end_time": "2023-01-27T14:14:24.530000+09:00",
     "start_time": "2023-01-27T05:14:20.933Z"
    }
   },
   "outputs": [
    {
     "data": {
      "text/plain": [
       "Point2D{Int64}(1, 2)"
      ]
     },
     "execution_count": 42,
     "metadata": {},
     "output_type": "execute_result"
    }
   ],
   "source": [
    "Point2D(mpt1)"
   ]
  },
  {
   "cell_type": "code",
   "execution_count": 43,
   "id": "c641ea99-c6bd-47f2-a1ce-a405e26a1d3a",
   "metadata": {
    "ExecuteTime": {
     "end_time": "2023-01-27T14:14:24.534000+09:00",
     "start_time": "2023-01-27T05:14:20.935Z"
    }
   },
   "outputs": [
    {
     "data": {
      "text/plain": [
       "MPoint2D{Int64}(1, 2)"
      ]
     },
     "execution_count": 43,
     "metadata": {},
     "output_type": "execute_result"
    }
   ],
   "source": [
    "MPoint2D(pt1)"
   ]
  }
 ],
 "metadata": {
  "jupytext": {
   "formats": "ipynb,auto:light"
  },
  "kernelspec": {
   "display_name": "Julia 1.8.5",
   "language": "julia",
   "name": "julia-1.8"
  },
  "language_info": {
   "file_extension": ".jl",
   "mimetype": "application/julia",
   "name": "julia",
   "version": "1.8.5"
  }
 },
 "nbformat": 4,
 "nbformat_minor": 5
}
