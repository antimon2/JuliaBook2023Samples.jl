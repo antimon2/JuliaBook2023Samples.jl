{
 "cells": [
  {
   "cell_type": "code",
   "execution_count": 1,
   "id": "8a4f4d1c-343a-47f7-b8ee-37557093965f",
   "metadata": {
    "ExecuteTime": {
     "end_time": "2023-01-27T14:05:07.901000+09:00",
     "start_time": "2023-01-27T05:05:07.280Z"
    }
   },
   "outputs": [
    {
     "name": "stdout",
     "output_type": "stream",
     "text": [
      "Julia Version 1.8.5\n",
      "Commit 17cfb8e65ea (2023-01-08 06:45 UTC)\n",
      "Platform Info:\n",
      "  OS: Linux (x86_64-linux-gnu)\n",
      "  CPU: 12 × Intel(R) Core(TM) i7-9750H CPU @ 2.60GHz\n",
      "  WORD_SIZE: 64\n",
      "  LIBM: libopenlibm\n",
      "  LLVM: libLLVM-13.0.1 (ORCJIT, skylake)\n",
      "  Threads: 1 on 12 virtual cores\n"
     ]
    }
   ],
   "source": [
    "versioninfo()"
   ]
  },
  {
   "cell_type": "markdown",
   "id": "1bd46306-0877-4caa-9830-6fcb65cb049a",
   "metadata": {},
   "source": [
    "## 4-2. 公称型システムとサブタイピング"
   ]
  },
  {
   "cell_type": "markdown",
   "id": "c3b098fc-6e0c-41fe-9714-ef8ada953b6d",
   "metadata": {},
   "source": [
    "### 4-2-1. 公称型システム"
   ]
  },
  {
   "cell_type": "markdown",
   "id": "b35fca05-b2e7-4d26-a16f-d4f810082322",
   "metadata": {},
   "source": [
    "#### コード4-1. `typeof()` 関数の例（具象型の確認）"
   ]
  },
  {
   "cell_type": "code",
   "execution_count": 2,
   "id": "3e3d6716-7c26-4eb7-8f24-a4574213f6be",
   "metadata": {
    "ExecuteTime": {
     "end_time": "2023-01-27T14:05:08.479000+09:00",
     "start_time": "2023-01-27T05:05:07.287Z"
    }
   },
   "outputs": [
    {
     "data": {
      "text/plain": [
       "String"
      ]
     },
     "execution_count": 2,
     "metadata": {},
     "output_type": "execute_result"
    }
   ],
   "source": [
    "typeof(\"文字列\")"
   ]
  },
  {
   "cell_type": "code",
   "execution_count": 3,
   "id": "3d5ee017-2bba-416a-be47-d31206296aa5",
   "metadata": {
    "ExecuteTime": {
     "end_time": "2023-01-27T14:05:08.491000+09:00",
     "start_time": "2023-01-27T05:05:07.290Z"
    }
   },
   "outputs": [
    {
     "data": {
      "text/plain": [
       "Float64"
      ]
     },
     "execution_count": 3,
     "metadata": {},
     "output_type": "execute_result"
    }
   ],
   "source": [
    "typeof(99.9)"
   ]
  },
  {
   "cell_type": "code",
   "execution_count": 4,
   "id": "c76b74cf-64e7-423a-96c7-53eb5cbd2431",
   "metadata": {
    "ExecuteTime": {
     "end_time": "2023-01-27T14:05:08.718000+09:00",
     "start_time": "2023-01-27T05:05:07.293Z"
    }
   },
   "outputs": [
    {
     "data": {
      "text/plain": [
       "true"
      ]
     },
     "execution_count": 4,
     "metadata": {},
     "output_type": "execute_result"
    }
   ],
   "source": [
    "typeof(1) === Int"
   ]
  },
  {
   "cell_type": "markdown",
   "id": "d6cf9ec4-213a-48a7-961f-bd6205259e92",
   "metadata": {},
   "source": [
    "### 4-2-2. 基本型と派生型"
   ]
  },
  {
   "cell_type": "markdown",
   "id": "90aff172-74f9-4fdd-83e7-49e5dfccd7c3",
   "metadata": {},
   "source": [
    "#### コード4-2. 派生型演算子（`<:`）と基本型演算子（`>:`）の例"
   ]
  },
  {
   "cell_type": "code",
   "execution_count": 5,
   "id": "6a0f0452-535d-402b-8ada-db07ea8526bc",
   "metadata": {
    "ExecuteTime": {
     "end_time": "2023-01-27T14:05:08.719000+09:00",
     "start_time": "2023-01-27T05:05:07.296Z"
    }
   },
   "outputs": [
    {
     "data": {
      "text/plain": [
       "true"
      ]
     },
     "execution_count": 5,
     "metadata": {},
     "output_type": "execute_result"
    }
   ],
   "source": [
    "Int <: Number"
   ]
  },
  {
   "cell_type": "code",
   "execution_count": 6,
   "id": "d18982a1-0e5c-49ae-80a1-683b594f24ca",
   "metadata": {
    "ExecuteTime": {
     "end_time": "2023-01-27T14:05:08.723000+09:00",
     "start_time": "2023-01-27T05:05:07.299Z"
    }
   },
   "outputs": [
    {
     "data": {
      "text/plain": [
       "true"
      ]
     },
     "execution_count": 6,
     "metadata": {},
     "output_type": "execute_result"
    }
   ],
   "source": [
    "Number >: Int"
   ]
  },
  {
   "cell_type": "code",
   "execution_count": 7,
   "id": "5b9e0d9d-dd74-4e01-bea8-81a9b6dfab2d",
   "metadata": {
    "ExecuteTime": {
     "end_time": "2023-01-27T14:05:08.724000+09:00",
     "start_time": "2023-01-27T05:05:07.301Z"
    }
   },
   "outputs": [
    {
     "data": {
      "text/plain": [
       "false"
      ]
     },
     "execution_count": 7,
     "metadata": {},
     "output_type": "execute_result"
    }
   ],
   "source": [
    "Number <: Int"
   ]
  },
  {
   "cell_type": "code",
   "execution_count": 8,
   "id": "b5e947c4-5180-402d-bac4-7b8461f6b431",
   "metadata": {
    "ExecuteTime": {
     "end_time": "2023-01-27T14:05:08.724000+09:00",
     "start_time": "2023-01-27T05:05:07.302Z"
    }
   },
   "outputs": [
    {
     "data": {
      "text/plain": [
       "true"
      ]
     },
     "execution_count": 8,
     "metadata": {},
     "output_type": "execute_result"
    }
   ],
   "source": [
    "Float64 <: Number"
   ]
  },
  {
   "cell_type": "code",
   "execution_count": 9,
   "id": "9a1f62f9-01b8-47f9-895d-bcd2adcc51ba",
   "metadata": {
    "ExecuteTime": {
     "end_time": "2023-01-27T14:05:08.725000+09:00",
     "start_time": "2023-01-27T05:05:07.304Z"
    }
   },
   "outputs": [
    {
     "data": {
      "text/plain": [
       "false"
      ]
     },
     "execution_count": 9,
     "metadata": {},
     "output_type": "execute_result"
    }
   ],
   "source": [
    "Int <: Float64"
   ]
  },
  {
   "cell_type": "code",
   "execution_count": 10,
   "id": "fbe4a249-460d-4850-af59-94ca55265554",
   "metadata": {
    "ExecuteTime": {
     "end_time": "2023-01-27T14:05:08.726000+09:00",
     "start_time": "2023-01-27T05:05:07.306Z"
    }
   },
   "outputs": [
    {
     "data": {
      "text/plain": [
       "false"
      ]
     },
     "execution_count": 10,
     "metadata": {},
     "output_type": "execute_result"
    }
   ],
   "source": [
    "Int >: Float64"
   ]
  },
  {
   "cell_type": "code",
   "execution_count": 11,
   "id": "1db4787a-ca8c-4f72-ab75-4451585959b1",
   "metadata": {
    "ExecuteTime": {
     "end_time": "2023-01-27T14:05:08.727000+09:00",
     "start_time": "2023-01-27T05:05:07.308Z"
    }
   },
   "outputs": [
    {
     "data": {
      "text/plain": [
       "true"
      ]
     },
     "execution_count": 11,
     "metadata": {},
     "output_type": "execute_result"
    }
   ],
   "source": [
    "Int <: Int"
   ]
  },
  {
   "cell_type": "markdown",
   "id": "09676531-c015-45ed-b90c-826d77ed693c",
   "metadata": {},
   "source": [
    "#### コード4-3. `isa()` 関数の例 (1)"
   ]
  },
  {
   "cell_type": "code",
   "execution_count": 12,
   "id": "9bad7f59-3b1e-47e0-a95d-a77a30f6d58a",
   "metadata": {
    "ExecuteTime": {
     "end_time": "2023-01-27T14:05:08.727000+09:00",
     "start_time": "2023-01-27T05:05:07.310Z"
    }
   },
   "outputs": [
    {
     "data": {
      "text/plain": [
       "true"
      ]
     },
     "execution_count": 12,
     "metadata": {},
     "output_type": "execute_result"
    }
   ],
   "source": [
    "isa(1, Int)"
   ]
  },
  {
   "cell_type": "code",
   "execution_count": 13,
   "id": "120c2aea-4b65-4388-aefb-fd60d457f57c",
   "metadata": {
    "ExecuteTime": {
     "end_time": "2023-01-27T14:05:08.728000+09:00",
     "start_time": "2023-01-27T05:05:07.313Z"
    }
   },
   "outputs": [
    {
     "data": {
      "text/plain": [
       "true"
      ]
     },
     "execution_count": 13,
     "metadata": {},
     "output_type": "execute_result"
    }
   ],
   "source": [
    "isa(1, Number)"
   ]
  },
  {
   "cell_type": "code",
   "execution_count": 14,
   "id": "d22d4961-2b6a-4c1c-9b57-4a7753c8d1bb",
   "metadata": {
    "ExecuteTime": {
     "end_time": "2023-01-27T14:05:08.729000+09:00",
     "start_time": "2023-01-27T05:05:07.315Z"
    }
   },
   "outputs": [
    {
     "data": {
      "text/plain": [
       "false"
      ]
     },
     "execution_count": 14,
     "metadata": {},
     "output_type": "execute_result"
    }
   ],
   "source": [
    "isa(1, Float64)"
   ]
  },
  {
   "cell_type": "code",
   "execution_count": 15,
   "id": "f6951ad7-4200-4810-aa78-65eef9a6585f",
   "metadata": {
    "ExecuteTime": {
     "end_time": "2023-01-27T14:05:08.729000+09:00",
     "start_time": "2023-01-27T05:05:07.318Z"
    }
   },
   "outputs": [
    {
     "data": {
      "text/plain": [
       "true"
      ]
     },
     "execution_count": 15,
     "metadata": {},
     "output_type": "execute_result"
    }
   ],
   "source": [
    "isa(99.9, Float64)"
   ]
  },
  {
   "cell_type": "code",
   "execution_count": 16,
   "id": "ed215aac-4621-40bc-9413-d0cc28574789",
   "metadata": {
    "ExecuteTime": {
     "end_time": "2023-01-27T14:05:08.730000+09:00",
     "start_time": "2023-01-27T05:05:07.321Z"
    }
   },
   "outputs": [
    {
     "data": {
      "text/plain": [
       "true"
      ]
     },
     "execution_count": 16,
     "metadata": {},
     "output_type": "execute_result"
    }
   ],
   "source": [
    "isa(99.9, Number)"
   ]
  },
  {
   "cell_type": "code",
   "execution_count": 17,
   "id": "0265c8d5-e728-4ae5-bbf8-db5b57db48c1",
   "metadata": {
    "ExecuteTime": {
     "end_time": "2023-01-27T14:05:08.731000+09:00",
     "start_time": "2023-01-27T05:05:07.323Z"
    }
   },
   "outputs": [
    {
     "data": {
      "text/plain": [
       "false"
      ]
     },
     "execution_count": 17,
     "metadata": {},
     "output_type": "execute_result"
    }
   ],
   "source": [
    "isa(99.9, Int)"
   ]
  },
  {
   "cell_type": "markdown",
   "id": "9f7818a4-fd24-4a16-8193-8a7dda7c42bc",
   "metadata": {},
   "source": [
    "#### コード4-4. `isa()` 関数の例 (2)：演算子としての使用例"
   ]
  },
  {
   "cell_type": "code",
   "execution_count": 18,
   "id": "dffa7aee-5543-4141-86ad-90297ffb3108",
   "metadata": {
    "ExecuteTime": {
     "end_time": "2023-01-27T14:05:08.732000+09:00",
     "start_time": "2023-01-27T05:05:07.326Z"
    }
   },
   "outputs": [
    {
     "data": {
      "text/plain": [
       "true"
      ]
     },
     "execution_count": 18,
     "metadata": {},
     "output_type": "execute_result"
    }
   ],
   "source": [
    "isa(1, Int)"
   ]
  },
  {
   "cell_type": "code",
   "execution_count": 19,
   "id": "950bbaa2-cb76-4726-842e-de49eddccaaf",
   "metadata": {
    "ExecuteTime": {
     "end_time": "2023-01-27T14:05:08.732000+09:00",
     "start_time": "2023-01-27T05:05:07.329Z"
    }
   },
   "outputs": [
    {
     "data": {
      "text/plain": [
       "true"
      ]
     },
     "execution_count": 19,
     "metadata": {},
     "output_type": "execute_result"
    }
   ],
   "source": [
    "1 isa Int"
   ]
  },
  {
   "cell_type": "markdown",
   "id": "62797444-02dd-4479-a811-e1ad8d3b3a74",
   "metadata": {},
   "source": [
    "### 4-2-3. 型階層"
   ]
  },
  {
   "cell_type": "markdown",
   "id": "175d1504-ddee-45e5-9422-1f945115511a",
   "metadata": {},
   "source": [
    "#### コード4-5. `supertype()` の例 (1)"
   ]
  },
  {
   "cell_type": "code",
   "execution_count": 20,
   "id": "2bd0644a-a933-41ec-b080-65d6b9ebfd52",
   "metadata": {
    "ExecuteTime": {
     "end_time": "2023-01-27T14:05:08.749000+09:00",
     "start_time": "2023-01-27T05:05:07.334Z"
    }
   },
   "outputs": [
    {
     "data": {
      "text/plain": [
       "Signed"
      ]
     },
     "execution_count": 20,
     "metadata": {},
     "output_type": "execute_result"
    }
   ],
   "source": [
    "supertype(Int)"
   ]
  },
  {
   "cell_type": "code",
   "execution_count": 21,
   "id": "c6569f9b-1ccd-43b3-9751-f1aec49bf291",
   "metadata": {
    "ExecuteTime": {
     "end_time": "2023-01-27T14:05:08.762000+09:00",
     "start_time": "2023-01-27T05:05:07.337Z"
    }
   },
   "outputs": [
    {
     "data": {
      "text/plain": [
       "AbstractFloat"
      ]
     },
     "execution_count": 21,
     "metadata": {},
     "output_type": "execute_result"
    }
   ],
   "source": [
    "supertype(Float64)"
   ]
  },
  {
   "cell_type": "markdown",
   "id": "ca7f7bea-25ae-460f-aa4c-76f468000650",
   "metadata": {},
   "source": [
    "#### コード4-6. `supertype()` の例 (2)"
   ]
  },
  {
   "cell_type": "code",
   "execution_count": 22,
   "id": "d3b1f921-1269-4692-8b4a-4cd0ca670c80",
   "metadata": {
    "ExecuteTime": {
     "end_time": "2023-01-27T14:05:08.763000+09:00",
     "start_time": "2023-01-27T05:05:07.342Z"
    }
   },
   "outputs": [
    {
     "data": {
      "text/plain": [
       "Signed"
      ]
     },
     "execution_count": 22,
     "metadata": {},
     "output_type": "execute_result"
    }
   ],
   "source": [
    "supertype(Int)"
   ]
  },
  {
   "cell_type": "code",
   "execution_count": 23,
   "id": "bc28a3ff-285c-4b15-bb4b-c7a895768043",
   "metadata": {
    "ExecuteTime": {
     "end_time": "2023-01-27T14:05:08.773000+09:00",
     "start_time": "2023-01-27T05:05:07.347Z"
    }
   },
   "outputs": [
    {
     "data": {
      "text/plain": [
       "Integer"
      ]
     },
     "execution_count": 23,
     "metadata": {},
     "output_type": "execute_result"
    }
   ],
   "source": [
    "supertype(supertype(Int))"
   ]
  },
  {
   "cell_type": "code",
   "execution_count": 24,
   "id": "50135aed-70e0-498f-8d9c-67fce9da4bd2",
   "metadata": {
    "ExecuteTime": {
     "end_time": "2023-01-27T14:05:08.783000+09:00",
     "start_time": "2023-01-27T05:05:07.352Z"
    }
   },
   "outputs": [
    {
     "data": {
      "text/plain": [
       "Real"
      ]
     },
     "execution_count": 24,
     "metadata": {},
     "output_type": "execute_result"
    }
   ],
   "source": [
    "supertype(supertype(supertype(Int)))"
   ]
  },
  {
   "cell_type": "code",
   "execution_count": 25,
   "id": "4b9f0b90-7e2b-478d-b581-97768ab84d04",
   "metadata": {
    "ExecuteTime": {
     "end_time": "2023-01-27T14:05:08.792000+09:00",
     "start_time": "2023-01-27T05:05:07.357Z"
    }
   },
   "outputs": [
    {
     "data": {
      "text/plain": [
       "Number"
      ]
     },
     "execution_count": 25,
     "metadata": {},
     "output_type": "execute_result"
    }
   ],
   "source": [
    "supertype(supertype(supertype(supertype(Int))))"
   ]
  },
  {
   "cell_type": "markdown",
   "id": "e562e5c8-849a-4eab-9adc-ae8d4c4c5c6f",
   "metadata": {},
   "source": [
    "#### コード4-7. `supertype()` の例 (3)"
   ]
  },
  {
   "cell_type": "code",
   "execution_count": 26,
   "id": "25d4d1f8-873c-4eae-9661-1ed85f54b7f5",
   "metadata": {
    "ExecuteTime": {
     "end_time": "2023-01-27T14:05:08.795000+09:00",
     "start_time": "2023-01-27T05:05:07.362Z"
    }
   },
   "outputs": [
    {
     "data": {
      "text/plain": [
       "Signed"
      ]
     },
     "execution_count": 26,
     "metadata": {},
     "output_type": "execute_result"
    }
   ],
   "source": [
    "Int |> supertype"
   ]
  },
  {
   "cell_type": "code",
   "execution_count": 27,
   "id": "0bdd7bc1-c530-4d8a-b231-6b80af901c61",
   "metadata": {
    "ExecuteTime": {
     "end_time": "2023-01-27T14:05:08.796000+09:00",
     "start_time": "2023-01-27T05:05:07.364Z"
    }
   },
   "outputs": [
    {
     "data": {
      "text/plain": [
       "Integer"
      ]
     },
     "execution_count": 27,
     "metadata": {},
     "output_type": "execute_result"
    }
   ],
   "source": [
    "Int |> supertype |> supertype"
   ]
  },
  {
   "cell_type": "code",
   "execution_count": 28,
   "id": "f9d4008a-4883-4649-a94e-a4b5b0558073",
   "metadata": {
    "ExecuteTime": {
     "end_time": "2023-01-27T14:05:08.796000+09:00",
     "start_time": "2023-01-27T05:05:07.367Z"
    }
   },
   "outputs": [
    {
     "data": {
      "text/plain": [
       "Real"
      ]
     },
     "execution_count": 28,
     "metadata": {},
     "output_type": "execute_result"
    }
   ],
   "source": [
    "Int |> supertype |> supertype |> supertype"
   ]
  },
  {
   "cell_type": "code",
   "execution_count": 29,
   "id": "365a6d2c-8e32-48b1-9c5c-4604a22fc289",
   "metadata": {
    "ExecuteTime": {
     "end_time": "2023-01-27T14:05:08.797000+09:00",
     "start_time": "2023-01-27T05:05:07.370Z"
    }
   },
   "outputs": [
    {
     "data": {
      "text/plain": [
       "Number"
      ]
     },
     "execution_count": 29,
     "metadata": {},
     "output_type": "execute_result"
    }
   ],
   "source": [
    "Int |> supertype |> supertype |> supertype |> supertype"
   ]
  },
  {
   "cell_type": "markdown",
   "id": "92b0ddda-20dc-43f4-ab5a-92156a3086ef",
   "metadata": {},
   "source": [
    "#### コード4-8. `supertype()` の例 (4)"
   ]
  },
  {
   "cell_type": "code",
   "execution_count": 30,
   "id": "92d0267c-f959-43b4-8d27-0018c6a08653",
   "metadata": {
    "ExecuteTime": {
     "end_time": "2023-01-27T14:05:08.797000+09:00",
     "start_time": "2023-01-27T05:05:07.373Z"
    }
   },
   "outputs": [
    {
     "data": {
      "text/plain": [
       "AbstractFloat"
      ]
     },
     "execution_count": 30,
     "metadata": {},
     "output_type": "execute_result"
    }
   ],
   "source": [
    "Float64 |> supertype"
   ]
  },
  {
   "cell_type": "code",
   "execution_count": 31,
   "id": "a63952f8-f55b-497e-a509-a591046aaa84",
   "metadata": {
    "ExecuteTime": {
     "end_time": "2023-01-27T14:05:08.798000+09:00",
     "start_time": "2023-01-27T05:05:07.376Z"
    }
   },
   "outputs": [
    {
     "data": {
      "text/plain": [
       "Real"
      ]
     },
     "execution_count": 31,
     "metadata": {},
     "output_type": "execute_result"
    }
   ],
   "source": [
    "Float64 |> supertype |> supertype"
   ]
  },
  {
   "cell_type": "code",
   "execution_count": 32,
   "id": "2f2e7e43-4740-4263-9fda-574884974dbd",
   "metadata": {
    "ExecuteTime": {
     "end_time": "2023-01-27T14:05:08.798000+09:00",
     "start_time": "2023-01-27T05:05:07.378Z"
    }
   },
   "outputs": [
    {
     "data": {
      "text/plain": [
       "Number"
      ]
     },
     "execution_count": 32,
     "metadata": {},
     "output_type": "execute_result"
    }
   ],
   "source": [
    "Float64 |> supertype |> supertype |> supertype"
   ]
  },
  {
   "cell_type": "markdown",
   "id": "103a2b04-6e3f-423b-83f6-5a6117536dc5",
   "metadata": {},
   "source": [
    "#### コード4-9. `<:` による基本型の確認例"
   ]
  },
  {
   "cell_type": "code",
   "execution_count": 33,
   "id": "6584b416-106b-4d9b-86d4-7683a97cc0f1",
   "metadata": {
    "ExecuteTime": {
     "end_time": "2023-01-27T14:05:08.799000+09:00",
     "start_time": "2023-01-27T05:05:07.381Z"
    }
   },
   "outputs": [
    {
     "data": {
      "text/plain": [
       "true"
      ]
     },
     "execution_count": 33,
     "metadata": {},
     "output_type": "execute_result"
    }
   ],
   "source": [
    "Int <: Signed <: Integer <: Real <: Number"
   ]
  },
  {
   "cell_type": "code",
   "execution_count": 34,
   "id": "080b7dc2-6787-4465-8663-c5ea0234b99c",
   "metadata": {
    "ExecuteTime": {
     "end_time": "2023-01-27T14:05:08.799000+09:00",
     "start_time": "2023-01-27T05:05:07.384Z"
    }
   },
   "outputs": [
    {
     "data": {
      "text/plain": [
       "true"
      ]
     },
     "execution_count": 34,
     "metadata": {},
     "output_type": "execute_result"
    }
   ],
   "source": [
    "Float64 <: AbstractFloat <: Real <: Number"
   ]
  },
  {
   "cell_type": "markdown",
   "id": "51c4b1cb-ce07-401a-86ed-ccfa8c4bfe52",
   "metadata": {},
   "source": [
    "#### コード4-10. `subtypes()` の例 (1)"
   ]
  },
  {
   "cell_type": "code",
   "execution_count": 35,
   "id": "5d9c1d83-e011-4f5d-86c3-bf5baea44b11",
   "metadata": {
    "ExecuteTime": {
     "end_time": "2023-01-27T14:05:09.737000+09:00",
     "start_time": "2023-01-27T05:05:07.387Z"
    }
   },
   "outputs": [
    {
     "data": {
      "text/plain": [
       "2-element Vector{Any}:\n",
       " Complex\n",
       " Real"
      ]
     },
     "execution_count": 35,
     "metadata": {},
     "output_type": "execute_result"
    }
   ],
   "source": [
    "subtypes(Number)"
   ]
  },
  {
   "cell_type": "markdown",
   "id": "48e2e51b-a25c-4bae-b3f0-2a59f2f234bc",
   "metadata": {},
   "source": [
    "#### コード4-11. `subtypes()` の例 (2)"
   ]
  },
  {
   "cell_type": "code",
   "execution_count": 36,
   "id": "c6777a24-339e-4665-8378-c8c4ec2deda3",
   "metadata": {
    "ExecuteTime": {
     "end_time": "2023-01-27T14:05:09.747000+09:00",
     "start_time": "2023-01-27T05:05:07.389Z"
    }
   },
   "outputs": [
    {
     "data": {
      "text/plain": [
       "4-element Vector{Any}:\n",
       " AbstractFloat\n",
       " AbstractIrrational\n",
       " Integer\n",
       " Rational"
      ]
     },
     "execution_count": 36,
     "metadata": {},
     "output_type": "execute_result"
    }
   ],
   "source": [
    "subtypes(Real)"
   ]
  },
  {
   "cell_type": "markdown",
   "id": "fbe571b5-085e-4d58-a2aa-a759df33d02c",
   "metadata": {},
   "source": [
    "#### コード4-12. 型定義の例 (1)"
   ]
  },
  {
   "cell_type": "code",
   "execution_count": 37,
   "id": "4decd638-8259-4a20-999e-998d76ce58b0",
   "metadata": {
    "ExecuteTime": {
     "end_time": "2023-01-27T14:05:09.748000+09:00",
     "start_time": "2023-01-27T05:05:07.394Z"
    }
   },
   "outputs": [],
   "source": [
    "struct Decimal <: Real\n",
    "    value::BigInt\n",
    "    point::Int\n",
    "end"
   ]
  },
  {
   "cell_type": "markdown",
   "id": "88fdd842-ca53-4683-a7a1-7fb9bc6a27e1",
   "metadata": {},
   "source": [
    "### 4-2-4. 抽象型と具象型"
   ]
  },
  {
   "cell_type": "markdown",
   "id": "368972e5-1661-4751-8c00-5d690bf074f5",
   "metadata": {},
   "source": [
    "#### コード4-13. `isabstracttype()`/`isconcretetype()` の例"
   ]
  },
  {
   "cell_type": "code",
   "execution_count": 38,
   "id": "2a4a2095-7c8f-4ac5-861f-edac47bda5c1",
   "metadata": {
    "ExecuteTime": {
     "end_time": "2023-01-27T14:05:09.748000+09:00",
     "start_time": "2023-01-27T05:05:07.400Z"
    }
   },
   "outputs": [
    {
     "data": {
      "text/plain": [
       "false"
      ]
     },
     "execution_count": 38,
     "metadata": {},
     "output_type": "execute_result"
    }
   ],
   "source": [
    "isabstracttype(Int)"
   ]
  },
  {
   "cell_type": "code",
   "execution_count": 39,
   "id": "b631f2ae-fecf-42d8-9326-d9b04a0865c7",
   "metadata": {
    "ExecuteTime": {
     "end_time": "2023-01-27T14:05:09.749000+09:00",
     "start_time": "2023-01-27T05:05:07.402Z"
    }
   },
   "outputs": [
    {
     "data": {
      "text/plain": [
       "true"
      ]
     },
     "execution_count": 39,
     "metadata": {},
     "output_type": "execute_result"
    }
   ],
   "source": [
    "isconcretetype(Int)"
   ]
  },
  {
   "cell_type": "code",
   "execution_count": 40,
   "id": "7cff60a5-23ea-4fd6-8654-10a0b35ff6e9",
   "metadata": {
    "ExecuteTime": {
     "end_time": "2023-01-27T14:05:09.749000+09:00",
     "start_time": "2023-01-27T05:05:07.405Z"
    }
   },
   "outputs": [
    {
     "data": {
      "text/plain": [
       "false"
      ]
     },
     "execution_count": 40,
     "metadata": {},
     "output_type": "execute_result"
    }
   ],
   "source": [
    "isabstracttype(Float64)"
   ]
  },
  {
   "cell_type": "code",
   "execution_count": 41,
   "id": "f4274e05-7141-4498-8f04-4edd32622b55",
   "metadata": {
    "ExecuteTime": {
     "end_time": "2023-01-27T14:05:09.750000+09:00",
     "start_time": "2023-01-27T05:05:07.408Z"
    }
   },
   "outputs": [
    {
     "data": {
      "text/plain": [
       "true"
      ]
     },
     "execution_count": 41,
     "metadata": {},
     "output_type": "execute_result"
    }
   ],
   "source": [
    "isconcretetype(Float64)"
   ]
  },
  {
   "cell_type": "code",
   "execution_count": 42,
   "id": "dd636a56-b316-41c5-93d5-bc4f65e9aae0",
   "metadata": {
    "ExecuteTime": {
     "end_time": "2023-01-27T14:05:09.750000+09:00",
     "start_time": "2023-01-27T05:05:07.412Z"
    }
   },
   "outputs": [
    {
     "data": {
      "text/plain": [
       "true"
      ]
     },
     "execution_count": 42,
     "metadata": {},
     "output_type": "execute_result"
    }
   ],
   "source": [
    "isabstracttype(Number)"
   ]
  },
  {
   "cell_type": "code",
   "execution_count": 43,
   "id": "29b33474-211c-478c-8205-3da432081abf",
   "metadata": {
    "ExecuteTime": {
     "end_time": "2023-01-27T14:05:09.750000+09:00",
     "start_time": "2023-01-27T05:05:07.418Z"
    }
   },
   "outputs": [
    {
     "data": {
      "text/plain": [
       "false"
      ]
     },
     "execution_count": 43,
     "metadata": {},
     "output_type": "execute_result"
    }
   ],
   "source": [
    "isconcretetype(Number)"
   ]
  },
  {
   "cell_type": "code",
   "execution_count": 44,
   "id": "9e989cfa-f609-4719-a1b0-0fd13fd29839",
   "metadata": {
    "ExecuteTime": {
     "end_time": "2023-01-27T14:05:09.751000+09:00",
     "start_time": "2023-01-27T05:05:07.421Z"
    }
   },
   "outputs": [
    {
     "data": {
      "text/plain": [
       "true"
      ]
     },
     "execution_count": 44,
     "metadata": {},
     "output_type": "execute_result"
    }
   ],
   "source": [
    "isconcretetype(typeof(\"文字列\"))"
   ]
  },
  {
   "cell_type": "code",
   "execution_count": 45,
   "id": "757f3202-f8c6-4a6c-9430-5616ef711f48",
   "metadata": {
    "ExecuteTime": {
     "end_time": "2023-01-27T14:05:09.751000+09:00",
     "start_time": "2023-01-27T05:05:07.423Z"
    }
   },
   "outputs": [
    {
     "data": {
      "text/plain": [
       "true"
      ]
     },
     "execution_count": 45,
     "metadata": {},
     "output_type": "execute_result"
    }
   ],
   "source": [
    "isabstracttype(supertype(typeof(\"文字列\")))"
   ]
  },
  {
   "cell_type": "markdown",
   "id": "d2d1f174-5665-4326-917f-a6094deead86",
   "metadata": {},
   "source": [
    "#### コード4-14. 基本型が抽象型であることの確認例"
   ]
  },
  {
   "cell_type": "code",
   "execution_count": 46,
   "id": "7eb09601-d938-4bc4-ab86-5d44be5cecf5",
   "metadata": {
    "ExecuteTime": {
     "end_time": "2023-01-27T14:05:09.788000+09:00",
     "start_time": "2023-01-27T05:05:07.426Z"
    }
   },
   "outputs": [
    {
     "data": {
      "text/plain": [
       "true"
      ]
     },
     "execution_count": 46,
     "metadata": {},
     "output_type": "execute_result"
    }
   ],
   "source": [
    "all(isabstracttype(supertype(T)) for T in [\n",
    "    Int, Float64, String,\n",
    "    Real, Number, supertype(Number), supertype(supertype(Number)),\n",
    "    typeof(:sym), typeof([1, 2, 3]), typeof((\"a\", 1, 3.14)),\n",
    "    typeof(Set(i^2 % 5 for i=1:8))\n",
    "])"
   ]
  },
  {
   "cell_type": "markdown",
   "id": "c7d21c87-5b90-4623-a843-6142801f230d",
   "metadata": {},
   "source": [
    "#### コード4-12. 型定義の例 (1)（再掲）"
   ]
  },
  {
   "cell_type": "code",
   "execution_count": 47,
   "id": "c4637dae-1117-453a-8f81-fac339bfc9e1",
   "metadata": {
    "ExecuteTime": {
     "end_time": "2023-01-27T14:05:09.790000+09:00",
     "start_time": "2023-01-27T05:05:07.428Z"
    }
   },
   "outputs": [],
   "source": [
    "struct Decimal <: Real\n",
    "    value::BigInt\n",
    "    point::Int\n",
    "end"
   ]
  },
  {
   "cell_type": "markdown",
   "id": "d983f34c-b7a1-4c48-9661-1b854af99251",
   "metadata": {},
   "source": [
    "#### コード4-15. 型定義の例 (2)：NG例"
   ]
  },
  {
   "cell_type": "code",
   "execution_count": 48,
   "id": "6f335c3a-5444-46c7-9771-68ec9d4f6354",
   "metadata": {
    "ExecuteTime": {
     "end_time": "2023-01-27T14:05:10.425000+09:00",
     "start_time": "2023-01-27T05:05:07.430Z"
    }
   },
   "outputs": [
    {
     "ename": "LoadError",
     "evalue": "invalid subtyping in definition of DecimalEx",
     "output_type": "error",
     "traceback": [
      "invalid subtyping in definition of DecimalEx",
      "",
      "Stacktrace:",
      " [1] top-level scope",
      "   @ In[48]:1"
     ]
    }
   ],
   "source": [
    "struct DecimalEx <: Decimal end"
   ]
  },
  {
   "cell_type": "markdown",
   "id": "c3cb362a-7842-462d-a112-7de7ddaec0ba",
   "metadata": {},
   "source": [
    "#### コード4-16. 具象型に対する `subtypes()` の適用例"
   ]
  },
  {
   "cell_type": "code",
   "execution_count": 49,
   "id": "c9f12ef1-583c-4a49-a37b-24036369ff30",
   "metadata": {
    "ExecuteTime": {
     "end_time": "2023-01-27T14:05:10.762000+09:00",
     "start_time": "2023-01-27T05:05:07.433Z"
    }
   },
   "outputs": [
    {
     "data": {
      "text/plain": [
       "Type[]"
      ]
     },
     "execution_count": 49,
     "metadata": {},
     "output_type": "execute_result"
    }
   ],
   "source": [
    "subtypes(Int)"
   ]
  },
  {
   "cell_type": "markdown",
   "id": "1a84990e-146d-4ea2-b0a6-f640d3cffbad",
   "metadata": {},
   "source": [
    "### 4-2-5. Any型"
   ]
  },
  {
   "cell_type": "markdown",
   "id": "7ad8b642-c716-4ac8-a86e-ee8bcd081bcd",
   "metadata": {},
   "source": [
    "#### コード4-17. `typejoin()` の例"
   ]
  },
  {
   "cell_type": "code",
   "execution_count": 50,
   "id": "4d99bb15-56a7-4747-acc7-64434025a5f7",
   "metadata": {
    "ExecuteTime": {
     "end_time": "2023-01-27T14:05:10.762000+09:00",
     "start_time": "2023-01-27T05:05:07.437Z"
    }
   },
   "outputs": [
    {
     "data": {
      "text/plain": [
       "Real"
      ]
     },
     "execution_count": 50,
     "metadata": {},
     "output_type": "execute_result"
    }
   ],
   "source": [
    "typejoin(Int, Float64)"
   ]
  },
  {
   "cell_type": "code",
   "execution_count": 51,
   "id": "cf7e374b-d455-43b4-be4a-6769efbfa9f7",
   "metadata": {
    "ExecuteTime": {
     "end_time": "2023-01-27T14:05:10.763000+09:00",
     "start_time": "2023-01-27T05:05:07.440Z"
    }
   },
   "outputs": [
    {
     "data": {
      "text/plain": [
       "Real"
      ]
     },
     "execution_count": 51,
     "metadata": {},
     "output_type": "execute_result"
    }
   ],
   "source": [
    "typejoin(Float64, Int)"
   ]
  },
  {
   "cell_type": "code",
   "execution_count": 52,
   "id": "d80073c4-3623-4913-b4f4-12c10d7b6975",
   "metadata": {
    "ExecuteTime": {
     "end_time": "2023-01-27T14:05:10.774000+09:00",
     "start_time": "2023-01-27T05:05:07.445Z"
    }
   },
   "outputs": [
    {
     "data": {
      "text/plain": [
       "Number"
      ]
     },
     "execution_count": 52,
     "metadata": {},
     "output_type": "execute_result"
    }
   ],
   "source": [
    "typejoin(Float64, Int, typeof(1 + 1im))"
   ]
  },
  {
   "cell_type": "code",
   "execution_count": 53,
   "id": "99ad1d08-71f9-4b61-bc23-0075daa14281",
   "metadata": {
    "ExecuteTime": {
     "end_time": "2023-01-27T14:05:10.777000+09:00",
     "start_time": "2023-01-27T05:05:07.448Z"
    }
   },
   "outputs": [
    {
     "data": {
      "text/plain": [
       "true"
      ]
     },
     "execution_count": 53,
     "metadata": {},
     "output_type": "execute_result"
    }
   ],
   "source": [
    "typejoin(Int, Int) === typejoin(Int) === Int"
   ]
  },
  {
   "cell_type": "code",
   "execution_count": 54,
   "id": "434c33b6-7a81-46bf-aadb-60155bf71b9c",
   "metadata": {
    "ExecuteTime": {
     "end_time": "2023-01-27T14:05:10.786000+09:00",
     "start_time": "2023-01-27T05:05:07.451Z"
    }
   },
   "outputs": [
    {
     "data": {
      "text/plain": [
       "Any"
      ]
     },
     "execution_count": 54,
     "metadata": {},
     "output_type": "execute_result"
    }
   ],
   "source": [
    "typejoin(Int, String)"
   ]
  },
  {
   "cell_type": "markdown",
   "id": "e54e1b11-9223-467f-972c-6a4d3615dc2e",
   "metadata": {},
   "source": [
    "#### コード4-18. `Any` 型の性質確認例 (1)"
   ]
  },
  {
   "cell_type": "code",
   "execution_count": 55,
   "id": "72ac2965-5ec0-436a-996d-36d5e6027b6c",
   "metadata": {
    "ExecuteTime": {
     "end_time": "2023-01-27T14:05:10.787000+09:00",
     "start_time": "2023-01-27T05:05:07.455Z"
    }
   },
   "outputs": [
    {
     "data": {
      "text/plain": [
       "true"
      ]
     },
     "execution_count": 55,
     "metadata": {},
     "output_type": "execute_result"
    }
   ],
   "source": [
    "isabstracttype(Any)"
   ]
  },
  {
   "cell_type": "code",
   "execution_count": 56,
   "id": "83cdeb53-d613-4db5-bd37-ea384ba3e554",
   "metadata": {
    "ExecuteTime": {
     "end_time": "2023-01-27T14:05:10.948000+09:00",
     "start_time": "2023-01-27T05:05:07.458Z"
    }
   },
   "outputs": [
    {
     "data": {
      "text/plain": [
       "594"
      ]
     },
     "execution_count": 56,
     "metadata": {},
     "output_type": "execute_result"
    }
   ],
   "source": [
    "length(subtypes(Any))"
   ]
  },
  {
   "cell_type": "code",
   "execution_count": 57,
   "id": "377f491c-ba03-4111-a2a2-ef15011be978",
   "metadata": {
    "ExecuteTime": {
     "end_time": "2023-01-27T14:05:10.949000+09:00",
     "start_time": "2023-01-27T05:05:07.461Z"
    }
   },
   "outputs": [
    {
     "data": {
      "text/plain": [
       "Any"
      ]
     },
     "execution_count": 57,
     "metadata": {},
     "output_type": "execute_result"
    }
   ],
   "source": [
    "supertype(Any)"
   ]
  },
  {
   "cell_type": "markdown",
   "id": "3b682a5d-6ecb-432d-ba5c-ade4e6e444bf",
   "metadata": {},
   "source": [
    "#### コード4-19. `Any` 型の性質確認例 (2)"
   ]
  },
  {
   "cell_type": "code",
   "execution_count": 58,
   "id": "fb63c60f-2cb5-4a6d-864e-1964ec463795",
   "metadata": {
    "ExecuteTime": {
     "end_time": "2023-01-27T14:05:10.949000+09:00",
     "start_time": "2023-01-27T05:05:07.464Z"
    }
   },
   "outputs": [
    {
     "data": {
      "text/plain": [
       "true"
      ]
     },
     "execution_count": 58,
     "metadata": {},
     "output_type": "execute_result"
    }
   ],
   "source": [
    "Int <: Any"
   ]
  },
  {
   "cell_type": "code",
   "execution_count": 59,
   "id": "f8e73755-6966-4d40-b5a9-6f2457540afa",
   "metadata": {
    "ExecuteTime": {
     "end_time": "2023-01-27T14:05:10.950000+09:00",
     "start_time": "2023-01-27T05:05:07.467Z"
    }
   },
   "outputs": [
    {
     "data": {
      "text/plain": [
       "true"
      ]
     },
     "execution_count": 59,
     "metadata": {},
     "output_type": "execute_result"
    }
   ],
   "source": [
    "Any <: Any"
   ]
  },
  {
   "cell_type": "code",
   "execution_count": 60,
   "id": "e721651e-0bf0-4663-a7ed-3cf411903232",
   "metadata": {
    "ExecuteTime": {
     "end_time": "2023-01-27T14:05:10.950000+09:00",
     "start_time": "2023-01-27T05:05:07.471Z"
    }
   },
   "outputs": [
    {
     "data": {
      "text/plain": [
       "true"
      ]
     },
     "execution_count": 60,
     "metadata": {},
     "output_type": "execute_result"
    }
   ],
   "source": [
    "99.9 isa Any"
   ]
  },
  {
   "cell_type": "code",
   "execution_count": 61,
   "id": "f6d8716a-7312-42cc-a878-8d25795dfe6b",
   "metadata": {
    "ExecuteTime": {
     "end_time": "2023-01-27T14:05:10.950000+09:00",
     "start_time": "2023-01-27T05:05:07.475Z"
    }
   },
   "outputs": [
    {
     "data": {
      "text/plain": [
       "Any"
      ]
     },
     "execution_count": 61,
     "metadata": {},
     "output_type": "execute_result"
    }
   ],
   "source": [
    "typejoin(typeof(\"文字列\"), Any)"
   ]
  },
  {
   "cell_type": "markdown",
   "id": "8621ba4a-acf8-4adc-a14d-39339993a9a2",
   "metadata": {},
   "source": [
    "#### コード4-20. 基本型が `Any` になることの確認例"
   ]
  },
  {
   "cell_type": "code",
   "execution_count": 62,
   "id": "37436783-3f75-4d65-8a66-6d6c31d6ff2a",
   "metadata": {
    "ExecuteTime": {
     "end_time": "2023-01-27T14:05:10.951000+09:00",
     "start_time": "2023-01-27T05:05:07.480Z"
    }
   },
   "outputs": [
    {
     "data": {
      "text/plain": [
       "Signed"
      ]
     },
     "execution_count": 62,
     "metadata": {},
     "output_type": "execute_result"
    }
   ],
   "source": [
    "Int |> supertype"
   ]
  },
  {
   "cell_type": "code",
   "execution_count": 63,
   "id": "35cbb713-0cfd-476c-9d5b-fd663acbf1f2",
   "metadata": {
    "ExecuteTime": {
     "end_time": "2023-01-27T14:05:10.951000+09:00",
     "start_time": "2023-01-27T05:05:07.485Z"
    }
   },
   "outputs": [
    {
     "data": {
      "text/plain": [
       "Integer"
      ]
     },
     "execution_count": 63,
     "metadata": {},
     "output_type": "execute_result"
    }
   ],
   "source": [
    "Int |> supertype |> supertype"
   ]
  },
  {
   "cell_type": "code",
   "execution_count": 64,
   "id": "fd82e850-b585-43b7-902a-a4165179210b",
   "metadata": {
    "ExecuteTime": {
     "end_time": "2023-01-27T14:05:10.952000+09:00",
     "start_time": "2023-01-27T05:05:07.489Z"
    }
   },
   "outputs": [
    {
     "data": {
      "text/plain": [
       "Real"
      ]
     },
     "execution_count": 64,
     "metadata": {},
     "output_type": "execute_result"
    }
   ],
   "source": [
    "Int |> supertype |> supertype |> supertype"
   ]
  },
  {
   "cell_type": "code",
   "execution_count": 65,
   "id": "5e5b3ce0-2733-44ed-92b6-38c5d1acb0c5",
   "metadata": {
    "ExecuteTime": {
     "end_time": "2023-01-27T14:05:10.952000+09:00",
     "start_time": "2023-01-27T05:05:07.493Z"
    }
   },
   "outputs": [
    {
     "data": {
      "text/plain": [
       "Number"
      ]
     },
     "execution_count": 65,
     "metadata": {},
     "output_type": "execute_result"
    }
   ],
   "source": [
    "Int |> supertype |> supertype |> supertype |> supertype"
   ]
  },
  {
   "cell_type": "code",
   "execution_count": 66,
   "id": "143ac431-2a88-4f50-8224-0d6ae55cb6f0",
   "metadata": {
    "ExecuteTime": {
     "end_time": "2023-01-27T14:05:10.953000+09:00",
     "start_time": "2023-01-27T05:05:07.497Z"
    }
   },
   "outputs": [
    {
     "data": {
      "text/plain": [
       "Any"
      ]
     },
     "execution_count": 66,
     "metadata": {},
     "output_type": "execute_result"
    }
   ],
   "source": [
    "Int |> supertype |> supertype |> supertype |> supertype |> supertype"
   ]
  },
  {
   "cell_type": "code",
   "execution_count": 67,
   "id": "adcf2af7-f1b6-4976-af39-de6f209f6675",
   "metadata": {
    "ExecuteTime": {
     "end_time": "2023-01-27T14:05:10.963000+09:00",
     "start_time": "2023-01-27T05:05:07.500Z"
    }
   },
   "outputs": [
    {
     "data": {
      "text/plain": [
       "AbstractString"
      ]
     },
     "execution_count": 67,
     "metadata": {},
     "output_type": "execute_result"
    }
   ],
   "source": [
    "String |> supertype"
   ]
  },
  {
   "cell_type": "code",
   "execution_count": 68,
   "id": "f1a6c33c-18c7-44c9-bf3c-0464a7e9b031",
   "metadata": {
    "ExecuteTime": {
     "end_time": "2023-01-27T14:05:10.963000+09:00",
     "start_time": "2023-01-27T05:05:07.505Z"
    }
   },
   "outputs": [
    {
     "data": {
      "text/plain": [
       "Any"
      ]
     },
     "execution_count": 68,
     "metadata": {},
     "output_type": "execute_result"
    }
   ],
   "source": [
    "String |> supertype |> supertype"
   ]
  }
 ],
 "metadata": {
  "jupytext": {
   "formats": "ipynb,auto:light"
  },
  "kernelspec": {
   "display_name": "Julia 1.8.5",
   "language": "julia",
   "name": "julia-1.8"
  },
  "language_info": {
   "file_extension": ".jl",
   "mimetype": "application/julia",
   "name": "julia",
   "version": "1.8.5"
  }
 },
 "nbformat": 4,
 "nbformat_minor": 5
}
