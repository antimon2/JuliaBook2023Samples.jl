{
 "cells": [
  {
   "cell_type": "code",
   "execution_count": 1,
   "id": "22958b52-729e-433c-99dd-80e74afcd9e2",
   "metadata": {
    "ExecuteTime": {
     "end_time": "2023-01-27T14:09:47.817000+09:00",
     "start_time": "2023-01-27T05:09:47.212Z"
    }
   },
   "outputs": [
    {
     "name": "stdout",
     "output_type": "stream",
     "text": [
      "Julia Version 1.8.5\n",
      "Commit 17cfb8e65ea (2023-01-08 06:45 UTC)\n",
      "Platform Info:\n",
      "  OS: Linux (x86_64-linux-gnu)\n",
      "  CPU: 12 × Intel(R) Core(TM) i7-9750H CPU @ 2.60GHz\n",
      "  WORD_SIZE: 64\n",
      "  LIBM: libopenlibm\n",
      "  LLVM: libLLVM-13.0.1 (ORCJIT, skylake)\n",
      "  Threads: 1 on 12 virtual cores\n"
     ]
    }
   ],
   "source": [
    "versioninfo()"
   ]
  },
  {
   "cell_type": "markdown",
   "id": "8e555255-45be-4071-8c72-15fc1dc117a4",
   "metadata": {},
   "source": [
    "## 4-3. パラメトリック型"
   ]
  },
  {
   "cell_type": "markdown",
   "id": "dc0b982b-cb26-45a6-8f02-084a0d22729a",
   "metadata": {},
   "source": [
    "### 4-3-1. パラメトリック型"
   ]
  },
  {
   "cell_type": "markdown",
   "id": "381aa838-59c1-49ce-8817-dd66ebfb96cd",
   "metadata": {},
   "source": [
    "#### コード4-21. `Complex` 型の性質確認例 (1)"
   ]
  },
  {
   "cell_type": "code",
   "execution_count": 2,
   "id": "d8432822-0699-42eb-bfdb-7d30277d3229",
   "metadata": {
    "ExecuteTime": {
     "end_time": "2023-01-27T14:09:48.238000+09:00",
     "start_time": "2023-01-27T05:09:47.217Z"
    }
   },
   "outputs": [
    {
     "data": {
      "text/plain": [
       "false"
      ]
     },
     "execution_count": 2,
     "metadata": {},
     "output_type": "execute_result"
    }
   ],
   "source": [
    "isabstracttype(Complex)"
   ]
  },
  {
   "cell_type": "code",
   "execution_count": 3,
   "id": "64078e45-f215-4e0b-80e2-c61a722284a7",
   "metadata": {
    "ExecuteTime": {
     "end_time": "2023-01-27T14:09:48.239000+09:00",
     "start_time": "2023-01-27T05:09:47.219Z"
    }
   },
   "outputs": [
    {
     "data": {
      "text/plain": [
       "false"
      ]
     },
     "execution_count": 3,
     "metadata": {},
     "output_type": "execute_result"
    }
   ],
   "source": [
    "isconcretetype(Complex)"
   ]
  },
  {
   "cell_type": "markdown",
   "id": "a22d98ec-1954-4541-a859-e5608fbe983a",
   "metadata": {},
   "source": [
    "#### コード4-22. `Complex` 型の性質確認例 (2)"
   ]
  },
  {
   "cell_type": "code",
   "execution_count": 4,
   "id": "5b87a52b-89b5-4150-a5a8-f66f9e8f06d9",
   "metadata": {
    "ExecuteTime": {
     "end_time": "2023-01-27T14:09:48.618000+09:00",
     "start_time": "2023-01-27T05:09:47.221Z"
    }
   },
   "outputs": [
    {
     "data": {
      "text/plain": [
       "Complex{Bool}"
      ]
     },
     "execution_count": 4,
     "metadata": {},
     "output_type": "execute_result"
    }
   ],
   "source": [
    "typeof(im)"
   ]
  },
  {
   "cell_type": "code",
   "execution_count": 5,
   "id": "9fd7d008-6198-4385-9ffb-43328be9dbfe",
   "metadata": {
    "ExecuteTime": {
     "end_time": "2023-01-27T14:09:48.633000+09:00",
     "start_time": "2023-01-27T05:09:47.224Z"
    }
   },
   "outputs": [
    {
     "data": {
      "text/plain": [
       "Complex{Int64}"
      ]
     },
     "execution_count": 5,
     "metadata": {},
     "output_type": "execute_result"
    }
   ],
   "source": [
    "typeof(1 + im)"
   ]
  },
  {
   "cell_type": "code",
   "execution_count": 6,
   "id": "c0e65a38-391e-4924-b520-cbdae8f06350",
   "metadata": {
    "ExecuteTime": {
     "end_time": "2023-01-27T14:09:48.651000+09:00",
     "start_time": "2023-01-27T05:09:47.225Z"
    }
   },
   "outputs": [
    {
     "data": {
      "text/plain": [
       "ComplexF64\u001b[90m (alias for \u001b[39m\u001b[90mComplex{Float64}\u001b[39m\u001b[90m)\u001b[39m"
      ]
     },
     "execution_count": 6,
     "metadata": {},
     "output_type": "execute_result"
    }
   ],
   "source": [
    "typeof(2.0 + 3.0im)"
   ]
  },
  {
   "cell_type": "markdown",
   "id": "40dc94e7-0cef-4d46-92dd-13ff5fa49b3c",
   "metadata": {},
   "source": [
    "#### コード4-23. `Complex` 型のヘルプ確認"
   ]
  },
  {
   "cell_type": "code",
   "execution_count": 7,
   "id": "2a9a97d1-c776-4669-8824-3e6495408dc0",
   "metadata": {
    "ExecuteTime": {
     "end_time": "2023-01-27T14:09:49.441000+09:00",
     "start_time": "2023-01-27T05:09:47.227Z"
    }
   },
   "outputs": [
    {
     "name": "stdout",
     "output_type": "stream",
     "text": [
      "search: \u001b[0m\u001b[1mC\u001b[22m\u001b[0m\u001b[1mo\u001b[22m\u001b[0m\u001b[1mm\u001b[22m\u001b[0m\u001b[1mp\u001b[22m\u001b[0m\u001b[1ml\u001b[22m\u001b[0m\u001b[1me\u001b[22m\u001b[0m\u001b[1mx\u001b[22m \u001b[0m\u001b[1mc\u001b[22m\u001b[0m\u001b[1mo\u001b[22m\u001b[0m\u001b[1mm\u001b[22m\u001b[0m\u001b[1mp\u001b[22m\u001b[0m\u001b[1ml\u001b[22m\u001b[0m\u001b[1me\u001b[22m\u001b[0m\u001b[1mx\u001b[22m \u001b[0m\u001b[1mC\u001b[22m\u001b[0m\u001b[1mo\u001b[22m\u001b[0m\u001b[1mm\u001b[22m\u001b[0m\u001b[1mp\u001b[22m\u001b[0m\u001b[1ml\u001b[22m\u001b[0m\u001b[1me\u001b[22m\u001b[0m\u001b[1mx\u001b[22mF64 \u001b[0m\u001b[1mC\u001b[22m\u001b[0m\u001b[1mo\u001b[22m\u001b[0m\u001b[1mm\u001b[22m\u001b[0m\u001b[1mp\u001b[22m\u001b[0m\u001b[1ml\u001b[22m\u001b[0m\u001b[1me\u001b[22m\u001b[0m\u001b[1mx\u001b[22mF32 \u001b[0m\u001b[1mC\u001b[22m\u001b[0m\u001b[1mo\u001b[22m\u001b[0m\u001b[1mm\u001b[22m\u001b[0m\u001b[1mp\u001b[22m\u001b[0m\u001b[1ml\u001b[22m\u001b[0m\u001b[1me\u001b[22m\u001b[0m\u001b[1mx\u001b[22mF16 pre\u001b[0m\u001b[1mc\u001b[22m\u001b[0m\u001b[1mo\u001b[22m\u001b[0m\u001b[1mm\u001b[22m\u001b[0m\u001b[1mp\u001b[22mi\u001b[0m\u001b[1ml\u001b[22m\u001b[0m\u001b[1me\u001b[22m\n",
      "\n"
     ]
    },
    {
     "data": {
      "text/latex": [
       "\\begin{verbatim}\n",
       "Complex{T<:Real} <: Number\n",
       "\\end{verbatim}\n",
       "Complex number type with real and imaginary part of type \\texttt{T}.\n",
       "\n",
       "\\texttt{ComplexF16}, \\texttt{ComplexF32} and \\texttt{ComplexF64} are aliases for \\texttt{Complex\\{Float16\\}}, \\texttt{Complex\\{Float32\\}} and \\texttt{Complex\\{Float64\\}} respectively.\n",
       "\n",
       "See also: \\href{@ref}{\\texttt{Real}}, \\href{@ref}{\\texttt{complex}}, \\href{@ref}{\\texttt{real}}.\n",
       "\n"
      ],
      "text/markdown": [
       "```\n",
       "Complex{T<:Real} <: Number\n",
       "```\n",
       "\n",
       "Complex number type with real and imaginary part of type `T`.\n",
       "\n",
       "`ComplexF16`, `ComplexF32` and `ComplexF64` are aliases for `Complex{Float16}`, `Complex{Float32}` and `Complex{Float64}` respectively.\n",
       "\n",
       "See also: [`Real`](@ref), [`complex`](@ref), [`real`](@ref).\n"
      ],
      "text/plain": [
       "\u001b[36m  Complex{T<:Real} <: Number\u001b[39m\n",
       "\n",
       "  Complex number type with real and imaginary part of type \u001b[36mT\u001b[39m.\n",
       "\n",
       "  \u001b[36mComplexF16\u001b[39m, \u001b[36mComplexF32\u001b[39m and \u001b[36mComplexF64\u001b[39m are aliases for \u001b[36mComplex{Float16}\u001b[39m,\n",
       "  \u001b[36mComplex{Float32}\u001b[39m and \u001b[36mComplex{Float64}\u001b[39m respectively.\n",
       "\n",
       "  See also: \u001b[36mReal\u001b[39m, \u001b[36mcomplex\u001b[39m, \u001b[36mreal\u001b[39m."
      ]
     },
     "execution_count": 7,
     "metadata": {},
     "output_type": "execute_result"
    }
   ],
   "source": [
    "?Complex"
   ]
  },
  {
   "cell_type": "markdown",
   "id": "482af3f2-fb8a-4a86-a30d-37c60c1ca16e",
   "metadata": {},
   "source": [
    "#### コード4-24. `Complex` 型の性質確認例 (3)"
   ]
  },
  {
   "cell_type": "code",
   "execution_count": 8,
   "id": "28d53aba-c9cd-4302-89b6-ff13e9d69c57",
   "metadata": {
    "ExecuteTime": {
     "end_time": "2023-01-27T14:09:49.442000+09:00",
     "start_time": "2023-01-27T05:09:47.230Z"
    }
   },
   "outputs": [
    {
     "data": {
      "text/plain": [
       "true"
      ]
     },
     "execution_count": 8,
     "metadata": {},
     "output_type": "execute_result"
    }
   ],
   "source": [
    "isconcretetype(typeof(1+im))"
   ]
  },
  {
   "cell_type": "code",
   "execution_count": 9,
   "id": "b56be950-999f-41f2-a828-bb45efa1a06b",
   "metadata": {
    "ExecuteTime": {
     "end_time": "2023-01-27T14:09:49.443000+09:00",
     "start_time": "2023-01-27T05:09:47.232Z"
    }
   },
   "outputs": [
    {
     "data": {
      "text/plain": [
       "true"
      ]
     },
     "execution_count": 9,
     "metadata": {},
     "output_type": "execute_result"
    }
   ],
   "source": [
    "isconcretetype(Complex{Int64})"
   ]
  },
  {
   "cell_type": "code",
   "execution_count": 10,
   "id": "2d3e33e6-f331-441d-a8f0-837522fbb49d",
   "metadata": {
    "ExecuteTime": {
     "end_time": "2023-01-27T14:09:49.443000+09:00",
     "start_time": "2023-01-27T05:09:47.234Z"
    }
   },
   "outputs": [
    {
     "data": {
      "text/plain": [
       "true"
      ]
     },
     "execution_count": 10,
     "metadata": {},
     "output_type": "execute_result"
    }
   ],
   "source": [
    "isconcretetype(typeof(2.0 + 3.0im))"
   ]
  },
  {
   "cell_type": "code",
   "execution_count": 11,
   "id": "01658f4b-b436-4e31-833f-55f9c20b8352",
   "metadata": {
    "ExecuteTime": {
     "end_time": "2023-01-27T14:09:49.444000+09:00",
     "start_time": "2023-01-27T05:09:47.236Z"
    }
   },
   "outputs": [
    {
     "data": {
      "text/plain": [
       "true"
      ]
     },
     "execution_count": 11,
     "metadata": {},
     "output_type": "execute_result"
    }
   ],
   "source": [
    "isconcretetype(Complex{Float64})"
   ]
  },
  {
   "cell_type": "markdown",
   "id": "d601ed7f-c20a-4e24-bdff-c1c7697b837c",
   "metadata": {},
   "source": [
    "#### コード4-25. いくつかのパラメトリック型の例"
   ]
  },
  {
   "cell_type": "code",
   "execution_count": 12,
   "id": "48c947ce-9f77-496a-9040-2f75fa07bd9a",
   "metadata": {
    "ExecuteTime": {
     "end_time": "2023-01-27T14:09:49.472000+09:00",
     "start_time": "2023-01-27T05:09:47.238Z"
    }
   },
   "outputs": [
    {
     "data": {
      "text/plain": [
       "Set{Int64}"
      ]
     },
     "execution_count": 12,
     "metadata": {},
     "output_type": "execute_result"
    }
   ],
   "source": [
    "typeof(Set(n^4%5 for n=1:5))"
   ]
  },
  {
   "cell_type": "code",
   "execution_count": 13,
   "id": "46828112-c8a6-4332-a15c-e43120f416eb",
   "metadata": {
    "ExecuteTime": {
     "end_time": "2023-01-27T14:09:49.492000+09:00",
     "start_time": "2023-01-27T05:09:47.240Z"
    }
   },
   "outputs": [
    {
     "data": {
      "text/plain": [
       "Dict{Symbol, Int64}"
      ]
     },
     "execution_count": 13,
     "metadata": {},
     "output_type": "execute_result"
    }
   ],
   "source": [
    "typeof(Dict(:a=>1, :b=>3, :d=>9))"
   ]
  },
  {
   "cell_type": "code",
   "execution_count": 14,
   "id": "1c0c33c5-56b9-415c-a49b-1d856df9361a",
   "metadata": {
    "ExecuteTime": {
     "end_time": "2023-01-27T14:09:49.528000+09:00",
     "start_time": "2023-01-27T05:09:47.241Z"
    }
   },
   "outputs": [
    {
     "data": {
      "text/plain": [
       "Rational{Int64}"
      ]
     },
     "execution_count": 14,
     "metadata": {},
     "output_type": "execute_result"
    }
   ],
   "source": [
    "typeof(2//3)"
   ]
  },
  {
   "cell_type": "markdown",
   "id": "c84546c5-e91d-4bc0-aed9-b247b86058b2",
   "metadata": {},
   "source": [
    "### 4-3-2. 型パラメータに指定出来るもの"
   ]
  },
  {
   "cell_type": "markdown",
   "id": "19a8a311-17fd-44c9-be62-0846de9a1791",
   "metadata": {},
   "source": [
    "#### コード4-26. 配列型（の型パラメータ）の確認"
   ]
  },
  {
   "cell_type": "code",
   "execution_count": 15,
   "id": "73354179-90e4-4c11-bbf6-d76ffb0de094",
   "metadata": {
    "ExecuteTime": {
     "end_time": "2023-01-27T14:09:49.539000+09:00",
     "start_time": "2023-01-27T05:09:47.244Z"
    }
   },
   "outputs": [
    {
     "data": {
      "text/plain": [
       "Vector{Float64}\u001b[90m (alias for \u001b[39m\u001b[90mArray{Float64, 1}\u001b[39m\u001b[90m)\u001b[39m"
      ]
     },
     "execution_count": 15,
     "metadata": {},
     "output_type": "execute_result"
    }
   ],
   "source": [
    "typeof([1., 2., 3.])"
   ]
  },
  {
   "cell_type": "code",
   "execution_count": 16,
   "id": "01b88f9f-0d43-420d-a9f0-94a69e4edb21",
   "metadata": {
    "ExecuteTime": {
     "end_time": "2023-01-27T14:09:49.572000+09:00",
     "start_time": "2023-01-27T05:09:47.246Z"
    }
   },
   "outputs": [
    {
     "data": {
      "text/plain": [
       "Matrix{Float64}\u001b[90m (alias for \u001b[39m\u001b[90mArray{Float64, 2}\u001b[39m\u001b[90m)\u001b[39m"
      ]
     },
     "execution_count": 16,
     "metadata": {},
     "output_type": "execute_result"
    }
   ],
   "source": [
    "typeof([1. 2.; 3. 4.])"
   ]
  },
  {
   "cell_type": "code",
   "execution_count": 17,
   "id": "63fb3281-a5c2-4121-81f5-287f5c825a75",
   "metadata": {
    "ExecuteTime": {
     "end_time": "2023-01-27T14:09:49.587000+09:00",
     "start_time": "2023-01-27T05:09:47.248Z"
    }
   },
   "outputs": [
    {
     "data": {
      "text/plain": [
       "Array{Float64, 3}"
      ]
     },
     "execution_count": 17,
     "metadata": {},
     "output_type": "execute_result"
    }
   ],
   "source": [
    "typeof(zeros((2, 2, 2)))"
   ]
  },
  {
   "cell_type": "markdown",
   "id": "6655cdff-9d23-4cae-939c-9a953f904a9d",
   "metadata": {},
   "source": [
    "#### コード4-27. 型パラメータに指定できるものの確認例"
   ]
  },
  {
   "cell_type": "code",
   "execution_count": 18,
   "id": "5bfebe25-638c-4489-96e7-080a6e11bb6d",
   "metadata": {
    "ExecuteTime": {
     "end_time": "2023-01-27T14:09:49.589000+09:00",
     "start_time": "2023-01-27T05:09:47.251Z"
    }
   },
   "outputs": [],
   "source": [
    "struct ParamTypeSample{T} end"
   ]
  },
  {
   "cell_type": "code",
   "execution_count": 19,
   "id": "9d34cc38-8559-46ba-b2b4-a532e780027b",
   "metadata": {
    "ExecuteTime": {
     "end_time": "2023-01-27T14:09:49.599000+09:00",
     "start_time": "2023-01-27T05:09:47.253Z"
    }
   },
   "outputs": [
    {
     "data": {
      "text/plain": [
       "ParamTypeSample{Int64}"
      ]
     },
     "execution_count": 19,
     "metadata": {},
     "output_type": "execute_result"
    }
   ],
   "source": [
    "ParamTypeSample{Int}"
   ]
  },
  {
   "cell_type": "code",
   "execution_count": 20,
   "id": "5432aaaa-6f01-4cd1-9d8d-1405155ea07a",
   "metadata": {
    "ExecuteTime": {
     "end_time": "2023-01-27T14:09:49.608000+09:00",
     "start_time": "2023-01-27T05:09:47.254Z"
    }
   },
   "outputs": [
    {
     "data": {
      "text/plain": [
       "ParamTypeSample{:yes}"
      ]
     },
     "execution_count": 20,
     "metadata": {},
     "output_type": "execute_result"
    }
   ],
   "source": [
    "ParamTypeSample{:yes}"
   ]
  },
  {
   "cell_type": "code",
   "execution_count": 21,
   "id": "6c238088-ac43-4e52-9ae2-755b7bd43384",
   "metadata": {
    "ExecuteTime": {
     "end_time": "2023-01-27T14:09:49.618000+09:00",
     "start_time": "2023-01-27T05:09:47.256Z"
    }
   },
   "outputs": [
    {
     "data": {
      "text/plain": [
       "ParamTypeSample{1}"
      ]
     },
     "execution_count": 21,
     "metadata": {},
     "output_type": "execute_result"
    }
   ],
   "source": [
    "ParamTypeSample{1}"
   ]
  },
  {
   "cell_type": "code",
   "execution_count": 22,
   "id": "4292869e-080a-4f29-a9e5-d96ad169136f",
   "metadata": {
    "ExecuteTime": {
     "end_time": "2023-01-27T14:09:49.646000+09:00",
     "start_time": "2023-01-27T05:09:47.261Z"
    }
   },
   "outputs": [
    {
     "data": {
      "text/plain": [
       "ParamTypeSample{+}"
      ]
     },
     "execution_count": 22,
     "metadata": {},
     "output_type": "execute_result"
    }
   ],
   "source": [
    "ParamTypeSample{+}"
   ]
  },
  {
   "cell_type": "code",
   "execution_count": 23,
   "id": "e99714d9-2e59-4de4-aad3-749df3c1cfca",
   "metadata": {
    "ExecuteTime": {
     "end_time": "2023-01-27T14:09:49.692000+09:00",
     "start_time": "2023-01-27T05:09:47.266Z"
    }
   },
   "outputs": [
    {
     "data": {
      "text/plain": [
       "ParamTypeSample{(1, :a, +)}"
      ]
     },
     "execution_count": 23,
     "metadata": {},
     "output_type": "execute_result"
    }
   ],
   "source": [
    "ParamTypeSample{(1,:a,+)}"
   ]
  },
  {
   "cell_type": "code",
   "execution_count": 24,
   "id": "d19bc501-f52a-46c0-a73f-02cab2918a48",
   "metadata": {
    "ExecuteTime": {
     "end_time": "2023-01-27T14:09:49.804000+09:00",
     "start_time": "2023-01-27T05:09:47.268Z"
    }
   },
   "outputs": [
    {
     "data": {
      "text/plain": [
       "ParamTypeSample{1 + 1im}"
      ]
     },
     "execution_count": 24,
     "metadata": {},
     "output_type": "execute_result"
    }
   ],
   "source": [
    "ParamTypeSample{1+im}"
   ]
  },
  {
   "cell_type": "code",
   "execution_count": 25,
   "id": "f12aafb5-a9df-4e7c-8e93-1dacc27e32f2",
   "metadata": {
    "ExecuteTime": {
     "end_time": "2023-01-27T14:09:50.488000+09:00",
     "start_time": "2023-01-27T05:09:47.270Z"
    }
   },
   "outputs": [
    {
     "ename": "LoadError",
     "evalue": "TypeError: in Type, in parameter, expected Type, got a value of type String",
     "output_type": "error",
     "traceback": [
      "TypeError: in Type, in parameter, expected Type, got a value of type String",
      "",
      "Stacktrace:",
      " [1] top-level scope",
      "   @ In[25]:1"
     ]
    }
   ],
   "source": [
    "ParamTypeSample{\"ABC\"}"
   ]
  },
  {
   "cell_type": "code",
   "execution_count": 26,
   "id": "03d84565-a5a2-480e-bf88-dde0474e5883",
   "metadata": {
    "ExecuteTime": {
     "end_time": "2023-01-27T14:09:50.495000+09:00",
     "start_time": "2023-01-27T05:09:47.273Z"
    }
   },
   "outputs": [
    {
     "ename": "LoadError",
     "evalue": "TypeError: in Type, in parameter, expected Type, got a value of type Vector{Int64}",
     "output_type": "error",
     "traceback": [
      "TypeError: in Type, in parameter, expected Type, got a value of type Vector{Int64}",
      "",
      "Stacktrace:",
      " [1] top-level scope",
      "   @ In[26]:1"
     ]
    }
   ],
   "source": [
    "ParamTypeSample{[1,2,3]}"
   ]
  },
  {
   "cell_type": "code",
   "execution_count": 27,
   "id": "09534cc7-374a-4101-9e53-7ccd7c6314d1",
   "metadata": {
    "ExecuteTime": {
     "end_time": "2023-01-27T14:09:50.532000+09:00",
     "start_time": "2023-01-27T05:09:47.276Z"
    }
   },
   "outputs": [
    {
     "ename": "LoadError",
     "evalue": "TypeError: in Type, in parameter, expected Int64, got a value of type BigInt",
     "output_type": "error",
     "traceback": [
      "TypeError: in Type, in parameter, expected Int64, got a value of type BigInt",
      "",
      "Stacktrace:",
      " [1] top-level scope",
      "   @ In[27]:1"
     ]
    }
   ],
   "source": [
    "ParamTypeSample{340282366920938463463374607431768211456}"
   ]
  },
  {
   "cell_type": "markdown",
   "id": "81843662-5f87-46bf-81cf-7324e187681a",
   "metadata": {},
   "source": [
    "### 4-3-3. パラメトリック型のサブタイピング"
   ]
  },
  {
   "cell_type": "markdown",
   "id": "3f07f9c0-99bc-4e89-8877-c816c0cf20f8",
   "metadata": {},
   "source": [
    "#### コード4-28. `Complex{Float64}` の基本型と `Complex` の派生型の確認例"
   ]
  },
  {
   "cell_type": "code",
   "execution_count": 28,
   "id": "a9526027-0f31-4730-855b-bfa621e5e863",
   "metadata": {
    "ExecuteTime": {
     "end_time": "2023-01-27T14:09:50.533000+09:00",
     "start_time": "2023-01-27T05:09:47.281Z"
    }
   },
   "outputs": [
    {
     "data": {
      "text/plain": [
       "true"
      ]
     },
     "execution_count": 28,
     "metadata": {},
     "output_type": "execute_result"
    }
   ],
   "source": [
    "Complex{Float64} <: Complex"
   ]
  },
  {
   "cell_type": "code",
   "execution_count": 29,
   "id": "3521dac9-e81e-492f-ab47-c47b7b9aa517",
   "metadata": {
    "ExecuteTime": {
     "end_time": "2023-01-27T14:09:50.537000+09:00",
     "start_time": "2023-01-27T05:09:47.284Z"
    }
   },
   "outputs": [
    {
     "data": {
      "text/plain": [
       "false"
      ]
     },
     "execution_count": 29,
     "metadata": {},
     "output_type": "execute_result"
    }
   ],
   "source": [
    "Complex{Float64} >: Complex"
   ]
  },
  {
   "cell_type": "code",
   "execution_count": 30,
   "id": "3d960e39-30ff-4391-9cf6-4c7038022b69",
   "metadata": {
    "ExecuteTime": {
     "end_time": "2023-01-27T14:09:50.548000+09:00",
     "start_time": "2023-01-27T05:09:47.287Z"
    }
   },
   "outputs": [
    {
     "data": {
      "text/plain": [
       "Number"
      ]
     },
     "execution_count": 30,
     "metadata": {},
     "output_type": "execute_result"
    }
   ],
   "source": [
    "supertype(Complex{Float64})"
   ]
  },
  {
   "cell_type": "code",
   "execution_count": 31,
   "id": "13327906-5bac-44a9-a521-557cc03d556b",
   "metadata": {
    "ExecuteTime": {
     "end_time": "2023-01-27T14:09:51.379000+09:00",
     "start_time": "2023-01-27T05:09:47.288Z"
    }
   },
   "outputs": [
    {
     "data": {
      "text/plain": [
       "Type[]"
      ]
     },
     "execution_count": 31,
     "metadata": {},
     "output_type": "execute_result"
    }
   ],
   "source": [
    "subtypes(Complex)"
   ]
  },
  {
   "cell_type": "markdown",
   "id": "14c4b947-ccf1-47da-8891-5f90681ff6a4",
   "metadata": {},
   "source": [
    "#### コード4-29. 型パラメータと基本型-派生型の関係性の確認例 (1)"
   ]
  },
  {
   "cell_type": "code",
   "execution_count": 32,
   "id": "3cbc66c8-e3b1-413b-8651-936f4efd8b03",
   "metadata": {
    "ExecuteTime": {
     "end_time": "2023-01-27T14:09:51.379000+09:00",
     "start_time": "2023-01-27T05:09:47.292Z"
    }
   },
   "outputs": [
    {
     "data": {
      "text/plain": [
       "true"
      ]
     },
     "execution_count": 32,
     "metadata": {},
     "output_type": "execute_result"
    }
   ],
   "source": [
    "Complex{Float64} <: Complex{Float64}"
   ]
  },
  {
   "cell_type": "code",
   "execution_count": 33,
   "id": "1a079da8-fe33-461c-a917-1601a0587394",
   "metadata": {
    "ExecuteTime": {
     "end_time": "2023-01-27T14:09:51.380000+09:00",
     "start_time": "2023-01-27T05:09:47.299Z"
    }
   },
   "outputs": [
    {
     "data": {
      "text/plain": [
       "true"
      ]
     },
     "execution_count": 33,
     "metadata": {},
     "output_type": "execute_result"
    }
   ],
   "source": [
    "Complex{Float64} >: Complex{Float64}"
   ]
  },
  {
   "cell_type": "code",
   "execution_count": 34,
   "id": "f88ec3d7-42b2-4140-a5e2-5d5c9724aac2",
   "metadata": {
    "ExecuteTime": {
     "end_time": "2023-01-27T14:09:51.381000+09:00",
     "start_time": "2023-01-27T05:09:47.302Z"
    }
   },
   "outputs": [
    {
     "data": {
      "text/plain": [
       "false"
      ]
     },
     "execution_count": 34,
     "metadata": {},
     "output_type": "execute_result"
    }
   ],
   "source": [
    "Complex{Float64} <: Complex{Int64}"
   ]
  },
  {
   "cell_type": "code",
   "execution_count": 35,
   "id": "95d63df6-47b6-44af-a507-071b5f7b90b8",
   "metadata": {
    "ExecuteTime": {
     "end_time": "2023-01-27T14:09:51.381000+09:00",
     "start_time": "2023-01-27T05:09:47.304Z"
    }
   },
   "outputs": [
    {
     "data": {
      "text/plain": [
       "false"
      ]
     },
     "execution_count": 35,
     "metadata": {},
     "output_type": "execute_result"
    }
   ],
   "source": [
    "Complex{Float64} >: Complex{Int64}"
   ]
  },
  {
   "cell_type": "markdown",
   "id": "16e33386-d234-48a6-98af-169501aee09a",
   "metadata": {},
   "source": [
    "#### コード4-30. パラメトリック型のサブタイピング確認例（配列型の例）"
   ]
  },
  {
   "cell_type": "code",
   "execution_count": 36,
   "id": "23e01123-0a7c-40ee-80d2-9ac1eafc79d2",
   "metadata": {
    "ExecuteTime": {
     "end_time": "2023-01-27T14:09:51.382000+09:00",
     "start_time": "2023-01-27T05:09:47.307Z"
    }
   },
   "outputs": [
    {
     "data": {
      "text/plain": [
       "true"
      ]
     },
     "execution_count": 36,
     "metadata": {},
     "output_type": "execute_result"
    }
   ],
   "source": [
    "Array{Float64} <: Array"
   ]
  },
  {
   "cell_type": "code",
   "execution_count": 37,
   "id": "eab9c9af-3b14-44e9-8da0-6eac5b517835",
   "metadata": {
    "ExecuteTime": {
     "end_time": "2023-01-27T14:09:51.383000+09:00",
     "start_time": "2023-01-27T05:09:47.308Z"
    }
   },
   "outputs": [
    {
     "data": {
      "text/plain": [
       "true"
      ]
     },
     "execution_count": 37,
     "metadata": {},
     "output_type": "execute_result"
    }
   ],
   "source": [
    "Array{Float64, 1} <: Array{Float64} <: Array"
   ]
  },
  {
   "cell_type": "code",
   "execution_count": 38,
   "id": "1487e686-bbad-4683-892c-e7ff2eeeade2",
   "metadata": {
    "ExecuteTime": {
     "end_time": "2023-01-27T14:09:51.383000+09:00",
     "start_time": "2023-01-27T05:09:47.310Z"
    }
   },
   "outputs": [
    {
     "data": {
      "text/plain": [
       "false"
      ]
     },
     "execution_count": 38,
     "metadata": {},
     "output_type": "execute_result"
    }
   ],
   "source": [
    "Array{Float64, 1} >: Array{Float64}"
   ]
  },
  {
   "cell_type": "code",
   "execution_count": 39,
   "id": "2f56bd70-5857-4082-bfbe-ab067fb10150",
   "metadata": {
    "ExecuteTime": {
     "end_time": "2023-01-27T14:09:51.384000+09:00",
     "start_time": "2023-01-27T05:09:47.311Z"
    }
   },
   "outputs": [
    {
     "data": {
      "text/plain": [
       "false"
      ]
     },
     "execution_count": 39,
     "metadata": {},
     "output_type": "execute_result"
    }
   ],
   "source": [
    "Array{Float64, 1} >: Array"
   ]
  },
  {
   "cell_type": "code",
   "execution_count": 40,
   "id": "8c912205-58d4-4f72-9069-f57b53ea37d4",
   "metadata": {
    "ExecuteTime": {
     "end_time": "2023-01-27T14:09:51.404000+09:00",
     "start_time": "2023-01-27T05:09:47.313Z"
    }
   },
   "outputs": [
    {
     "data": {
      "text/plain": [
       "true"
      ]
     },
     "execution_count": 40,
     "metadata": {},
     "output_type": "execute_result"
    }
   ],
   "source": [
    "all(A <: Array{Float64} for A in [\n",
    "    Array{Float64, 1},\n",
    "    Array{Float64, 2},\n",
    "    Array{Float64, 3}])"
   ]
  },
  {
   "cell_type": "code",
   "execution_count": 41,
   "id": "b781e789-1829-46b9-a282-e8842f1dc591",
   "metadata": {
    "ExecuteTime": {
     "end_time": "2023-01-27T14:09:51.404000+09:00",
     "start_time": "2023-01-27T05:09:47.314Z"
    }
   },
   "outputs": [
    {
     "data": {
      "text/plain": [
       "false"
      ]
     },
     "execution_count": 41,
     "metadata": {},
     "output_type": "execute_result"
    }
   ],
   "source": [
    "Array{Float64, 1} <: Array{Float64, 2}"
   ]
  },
  {
   "cell_type": "code",
   "execution_count": 42,
   "id": "98541666-73b7-444f-be3a-e4bf0947d088",
   "metadata": {
    "ExecuteTime": {
     "end_time": "2023-01-27T14:09:51.405000+09:00",
     "start_time": "2023-01-27T05:09:47.316Z"
    }
   },
   "outputs": [
    {
     "data": {
      "text/plain": [
       "false"
      ]
     },
     "execution_count": 42,
     "metadata": {},
     "output_type": "execute_result"
    }
   ],
   "source": [
    "Array{Float64, 1} >: Array{Float64, 2}"
   ]
  },
  {
   "cell_type": "code",
   "execution_count": 43,
   "id": "b6611bc6-e729-4487-888f-ac5701824db1",
   "metadata": {
    "ExecuteTime": {
     "end_time": "2023-01-27T14:09:51.405000+09:00",
     "start_time": "2023-01-27T05:09:47.318Z"
    }
   },
   "outputs": [
    {
     "data": {
      "text/plain": [
       "false"
      ]
     },
     "execution_count": 43,
     "metadata": {},
     "output_type": "execute_result"
    }
   ],
   "source": [
    "Array{Int64, 1} <: Array{Float64}"
   ]
  },
  {
   "cell_type": "code",
   "execution_count": 44,
   "id": "0980c0db-fa65-4204-bd7c-da7f9d581e02",
   "metadata": {
    "ExecuteTime": {
     "end_time": "2023-01-27T14:09:51.406000+09:00",
     "start_time": "2023-01-27T05:09:47.321Z"
    }
   },
   "outputs": [
    {
     "data": {
      "text/plain": [
       "false"
      ]
     },
     "execution_count": 44,
     "metadata": {},
     "output_type": "execute_result"
    }
   ],
   "source": [
    "Array{Int64, 1} <: Array{Float64, 1}"
   ]
  },
  {
   "cell_type": "markdown",
   "id": "7b67fd32-6e57-4487-8a61-5247eabc14a9",
   "metadata": {},
   "source": [
    "#### コード4-31. 型パラメータと基本型-派生型の関係性の確認例 (2)"
   ]
  },
  {
   "cell_type": "code",
   "execution_count": 45,
   "id": "affa91b3-4329-412e-b732-a4d01e0f0b8e",
   "metadata": {
    "ExecuteTime": {
     "end_time": "2023-01-27T14:09:51.407000+09:00",
     "start_time": "2023-01-27T05:09:47.328Z"
    }
   },
   "outputs": [
    {
     "data": {
      "text/plain": [
       "true"
      ]
     },
     "execution_count": 45,
     "metadata": {},
     "output_type": "execute_result"
    }
   ],
   "source": [
    "Int <: Integer"
   ]
  },
  {
   "cell_type": "code",
   "execution_count": 46,
   "id": "38813f2b-6ea1-47c3-8070-9dbfea931daa",
   "metadata": {
    "ExecuteTime": {
     "end_time": "2023-01-27T14:09:51.407000+09:00",
     "start_time": "2023-01-27T05:09:47.329Z"
    }
   },
   "outputs": [
    {
     "data": {
      "text/plain": [
       "false"
      ]
     },
     "execution_count": 46,
     "metadata": {},
     "output_type": "execute_result"
    }
   ],
   "source": [
    "Array{Int} <: Array{Integer}"
   ]
  },
  {
   "cell_type": "code",
   "execution_count": 47,
   "id": "32c31643-38e0-4b0d-a8c8-faab504c01cb",
   "metadata": {
    "ExecuteTime": {
     "end_time": "2023-01-27T14:09:51.408000+09:00",
     "start_time": "2023-01-27T05:09:47.331Z"
    }
   },
   "outputs": [
    {
     "data": {
      "text/plain": [
       "true"
      ]
     },
     "execution_count": 47,
     "metadata": {},
     "output_type": "execute_result"
    }
   ],
   "source": [
    "Int <: Any"
   ]
  },
  {
   "cell_type": "code",
   "execution_count": 48,
   "id": "5a4012e2-a790-4cdc-9803-16aef0a06a87",
   "metadata": {
    "ExecuteTime": {
     "end_time": "2023-01-27T14:09:51.408000+09:00",
     "start_time": "2023-01-27T05:09:47.332Z"
    }
   },
   "outputs": [
    {
     "data": {
      "text/plain": [
       "false"
      ]
     },
     "execution_count": 48,
     "metadata": {},
     "output_type": "execute_result"
    }
   ],
   "source": [
    "Array{Int} <: Array{Any}"
   ]
  },
  {
   "cell_type": "markdown",
   "id": "afa7afa7-cc03-49e5-867d-e64081d19ff5",
   "metadata": {},
   "source": [
    "### 4-3-4. UnionAll型"
   ]
  },
  {
   "cell_type": "markdown",
   "id": "f09d3c77-effb-45fd-b302-dfe5a6e58b3c",
   "metadata": {},
   "source": [
    "#### コード4-32. 型に対する `typeof()` 関数の適用例"
   ]
  },
  {
   "cell_type": "code",
   "execution_count": 49,
   "id": "6f26f8dd-ec41-4796-b1d6-036d39fb2168",
   "metadata": {
    "ExecuteTime": {
     "end_time": "2023-01-27T14:09:51.419000+09:00",
     "start_time": "2023-01-27T05:09:47.334Z"
    }
   },
   "outputs": [
    {
     "data": {
      "text/plain": [
       "DataType"
      ]
     },
     "execution_count": 49,
     "metadata": {},
     "output_type": "execute_result"
    }
   ],
   "source": [
    "typeof(Int)"
   ]
  },
  {
   "cell_type": "code",
   "execution_count": 50,
   "id": "131fb940-24e8-4675-9ca3-28cf35f36556",
   "metadata": {
    "ExecuteTime": {
     "end_time": "2023-01-27T14:09:51.419000+09:00",
     "start_time": "2023-01-27T05:09:47.336Z"
    }
   },
   "outputs": [
    {
     "data": {
      "text/plain": [
       "DataType"
      ]
     },
     "execution_count": 50,
     "metadata": {},
     "output_type": "execute_result"
    }
   ],
   "source": [
    "typeof(Number)"
   ]
  },
  {
   "cell_type": "code",
   "execution_count": 51,
   "id": "bd7b78a8-e629-4c91-9f09-bdaf503c98d7",
   "metadata": {
    "ExecuteTime": {
     "end_time": "2023-01-27T14:09:51.429000+09:00",
     "start_time": "2023-01-27T05:09:47.338Z"
    }
   },
   "outputs": [
    {
     "data": {
      "text/plain": [
       "UnionAll"
      ]
     },
     "execution_count": 51,
     "metadata": {},
     "output_type": "execute_result"
    }
   ],
   "source": [
    "typeof(Complex)"
   ]
  },
  {
   "cell_type": "code",
   "execution_count": 52,
   "id": "90f4961f-d665-4e19-b745-0af6328d2bd5",
   "metadata": {
    "ExecuteTime": {
     "end_time": "2023-01-27T14:09:51.430000+09:00",
     "start_time": "2023-01-27T05:09:47.340Z"
    }
   },
   "outputs": [
    {
     "data": {
      "text/plain": [
       "DataType"
      ]
     },
     "execution_count": 52,
     "metadata": {},
     "output_type": "execute_result"
    }
   ],
   "source": [
    "typeof(Complex{Float64})"
   ]
  },
  {
   "cell_type": "code",
   "execution_count": 53,
   "id": "d809b22c-c068-443c-9db6-26742e0e6314",
   "metadata": {
    "ExecuteTime": {
     "end_time": "2023-01-27T14:09:51.431000+09:00",
     "start_time": "2023-01-27T05:09:47.342Z"
    }
   },
   "outputs": [
    {
     "data": {
      "text/plain": [
       "UnionAll"
      ]
     },
     "execution_count": 53,
     "metadata": {},
     "output_type": "execute_result"
    }
   ],
   "source": [
    "typeof(Array)"
   ]
  },
  {
   "cell_type": "code",
   "execution_count": 54,
   "id": "061a4e93-e886-461e-889c-ccbb094b8cad",
   "metadata": {
    "ExecuteTime": {
     "end_time": "2023-01-27T14:09:51.431000+09:00",
     "start_time": "2023-01-27T05:09:47.344Z"
    }
   },
   "outputs": [
    {
     "data": {
      "text/plain": [
       "UnionAll"
      ]
     },
     "execution_count": 54,
     "metadata": {},
     "output_type": "execute_result"
    }
   ],
   "source": [
    "typeof(Array{Float64})"
   ]
  },
  {
   "cell_type": "code",
   "execution_count": 55,
   "id": "ea9e1d8c-845d-4686-add6-b061ba057335",
   "metadata": {
    "ExecuteTime": {
     "end_time": "2023-01-27T14:09:51.432000+09:00",
     "start_time": "2023-01-27T05:09:47.345Z"
    }
   },
   "outputs": [
    {
     "data": {
      "text/plain": [
       "DataType"
      ]
     },
     "execution_count": 55,
     "metadata": {},
     "output_type": "execute_result"
    }
   ],
   "source": [
    "typeof(Array{Float64,1})"
   ]
  },
  {
   "cell_type": "markdown",
   "id": "6f5c42d3-3c29-4540-a553-e19a38d836a3",
   "metadata": {},
   "source": [
    "### 4-3-5. パラメトリック抽象型"
   ]
  },
  {
   "cell_type": "markdown",
   "id": "c49c0efa-22f0-44ed-bc64-a5d730a62feb",
   "metadata": {},
   "source": [
    "#### コード4-33. 配列型の基本型（パラメトリック抽象型）の例 (1)"
   ]
  },
  {
   "cell_type": "code",
   "execution_count": 56,
   "id": "97e12418-c6e1-4a98-8c82-b11cad1e4b75",
   "metadata": {
    "ExecuteTime": {
     "end_time": "2023-01-27T14:09:51.432000+09:00",
     "start_time": "2023-01-27T05:09:47.350Z"
    }
   },
   "outputs": [
    {
     "data": {
      "text/plain": [
       "false"
      ]
     },
     "execution_count": 56,
     "metadata": {},
     "output_type": "execute_result"
    }
   ],
   "source": [
    "isabstracttype(Array)"
   ]
  },
  {
   "cell_type": "code",
   "execution_count": 57,
   "id": "a9d2666a-52c8-49b5-a882-df772b50be2b",
   "metadata": {
    "ExecuteTime": {
     "end_time": "2023-01-27T14:09:51.433000+09:00",
     "start_time": "2023-01-27T05:09:47.352Z"
    }
   },
   "outputs": [
    {
     "data": {
      "text/plain": [
       "UnionAll"
      ]
     },
     "execution_count": 57,
     "metadata": {},
     "output_type": "execute_result"
    }
   ],
   "source": [
    "typeof(Array)"
   ]
  },
  {
   "cell_type": "code",
   "execution_count": 58,
   "id": "ae87a5e6-4729-460b-8e88-02989f3a6cbb",
   "metadata": {
    "ExecuteTime": {
     "end_time": "2023-01-27T14:09:51.512000+09:00",
     "start_time": "2023-01-27T05:09:47.354Z"
    }
   },
   "outputs": [
    {
     "data": {
      "text/plain": [
       "DenseArray"
      ]
     },
     "execution_count": 58,
     "metadata": {},
     "output_type": "execute_result"
    }
   ],
   "source": [
    "supertype(Array)"
   ]
  },
  {
   "cell_type": "code",
   "execution_count": 59,
   "id": "2a5e682f-e72a-4c1c-8716-10aec1e0d9ef",
   "metadata": {
    "ExecuteTime": {
     "end_time": "2023-01-27T14:09:51.527000+09:00",
     "start_time": "2023-01-27T05:09:47.356Z"
    }
   },
   "outputs": [
    {
     "data": {
      "text/plain": [
       "AbstractArray"
      ]
     },
     "execution_count": 59,
     "metadata": {},
     "output_type": "execute_result"
    }
   ],
   "source": [
    "Array |> supertype |> supertype"
   ]
  },
  {
   "cell_type": "code",
   "execution_count": 60,
   "id": "ae35b20a-1206-43e8-bf15-7be6b8b8280d",
   "metadata": {
    "ExecuteTime": {
     "end_time": "2023-01-27T14:09:51.528000+09:00",
     "start_time": "2023-01-27T05:09:47.358Z"
    }
   },
   "outputs": [
    {
     "data": {
      "text/plain": [
       "true"
      ]
     },
     "execution_count": 60,
     "metadata": {},
     "output_type": "execute_result"
    }
   ],
   "source": [
    "isabstracttype(AbstractArray)"
   ]
  },
  {
   "cell_type": "code",
   "execution_count": 61,
   "id": "c5314e1c-be74-41d0-9a27-b2bb69f6438f",
   "metadata": {
    "ExecuteTime": {
     "end_time": "2023-01-27T14:09:51.528000+09:00",
     "start_time": "2023-01-27T05:09:47.360Z"
    }
   },
   "outputs": [
    {
     "data": {
      "text/plain": [
       "UnionAll"
      ]
     },
     "execution_count": 61,
     "metadata": {},
     "output_type": "execute_result"
    }
   ],
   "source": [
    "typeof(AbstractArray)"
   ]
  },
  {
   "cell_type": "markdown",
   "id": "a2b46095-38d8-433f-b3a5-1f68dd377ce9",
   "metadata": {},
   "source": [
    "#### コード4-34. 配列型の基本型（パラメトリック抽象型）の例 (2)"
   ]
  },
  {
   "cell_type": "code",
   "execution_count": 62,
   "id": "2c76ec95-280d-4e8d-8f12-a87e6442b98e",
   "metadata": {
    "ExecuteTime": {
     "end_time": "2023-01-27T14:09:51.528000+09:00",
     "start_time": "2023-01-27T05:09:47.362Z"
    }
   },
   "outputs": [
    {
     "data": {
      "text/plain": [
       "true"
      ]
     },
     "execution_count": 62,
     "metadata": {},
     "output_type": "execute_result"
    }
   ],
   "source": [
    "isabstracttype(AbstractArray)"
   ]
  },
  {
   "cell_type": "code",
   "execution_count": 63,
   "id": "3b47c30f-5b5c-49e7-8252-6f2aece3ca13",
   "metadata": {
    "ExecuteTime": {
     "end_time": "2023-01-27T14:09:51.529000+09:00",
     "start_time": "2023-01-27T05:09:47.363Z"
    }
   },
   "outputs": [
    {
     "data": {
      "text/plain": [
       "true"
      ]
     },
     "execution_count": 63,
     "metadata": {},
     "output_type": "execute_result"
    }
   ],
   "source": [
    "isabstracttype(AbstractArray{Float64})"
   ]
  },
  {
   "cell_type": "code",
   "execution_count": 64,
   "id": "66b382b3-49ae-4533-917c-e41abdf35fa3",
   "metadata": {
    "ExecuteTime": {
     "end_time": "2023-01-27T14:09:51.529000+09:00",
     "start_time": "2023-01-27T05:09:47.365Z"
    }
   },
   "outputs": [
    {
     "data": {
      "text/plain": [
       "true"
      ]
     },
     "execution_count": 64,
     "metadata": {},
     "output_type": "execute_result"
    }
   ],
   "source": [
    "isabstracttype(AbstractArray{Float64, 1})"
   ]
  },
  {
   "cell_type": "code",
   "execution_count": 65,
   "id": "2371979e-0696-4564-a8a2-c45f42cef653",
   "metadata": {
    "ExecuteTime": {
     "end_time": "2023-01-27T14:09:51.530000+09:00",
     "start_time": "2023-01-27T05:09:47.367Z"
    }
   },
   "outputs": [
    {
     "data": {
      "text/plain": [
       "DataType"
      ]
     },
     "execution_count": 65,
     "metadata": {},
     "output_type": "execute_result"
    }
   ],
   "source": [
    "typeof(AbstractArray{Float64, 1})"
   ]
  },
  {
   "cell_type": "markdown",
   "id": "359afd74-554a-4624-a5b8-4bb9f4322552",
   "metadata": {},
   "source": [
    "#### コード4-35. `LinearIndices`（`AbstractArray{Int}` の派生型）の性質確認例"
   ]
  },
  {
   "cell_type": "code",
   "execution_count": 66,
   "id": "f9574b1b-c8c3-4ae3-a04c-b1db71792983",
   "metadata": {
    "ExecuteTime": {
     "end_time": "2023-01-27T14:09:51.531000+09:00",
     "start_time": "2023-01-27T05:09:47.369Z"
    }
   },
   "outputs": [
    {
     "data": {
      "text/plain": [
       "true"
      ]
     },
     "execution_count": 66,
     "metadata": {},
     "output_type": "execute_result"
    }
   ],
   "source": [
    "LinearIndices <: AbstractArray"
   ]
  },
  {
   "cell_type": "code",
   "execution_count": 67,
   "id": "81fb41d9-de24-4e3b-b726-95acf557ab21",
   "metadata": {
    "ExecuteTime": {
     "end_time": "2023-01-27T14:09:51.531000+09:00",
     "start_time": "2023-01-27T05:09:47.370Z"
    }
   },
   "outputs": [
    {
     "data": {
      "text/plain": [
       "true"
      ]
     },
     "execution_count": 67,
     "metadata": {},
     "output_type": "execute_result"
    }
   ],
   "source": [
    "LinearIndices <: AbstractArray{Int}"
   ]
  },
  {
   "cell_type": "code",
   "execution_count": 68,
   "id": "f3a10397-4486-4733-94c1-5e17df2c0922",
   "metadata": {
    "ExecuteTime": {
     "end_time": "2023-01-27T14:09:51.546000+09:00",
     "start_time": "2023-01-27T05:09:47.372Z"
    }
   },
   "outputs": [
    {
     "data": {
      "text/plain": [
       "AbstractArray{Int64}"
      ]
     },
     "execution_count": 68,
     "metadata": {},
     "output_type": "execute_result"
    }
   ],
   "source": [
    "supertype(LinearIndices)"
   ]
  },
  {
   "cell_type": "code",
   "execution_count": 69,
   "id": "e3b0e2d1-79de-458a-beb4-43a38f5425c0",
   "metadata": {
    "ExecuteTime": {
     "end_time": "2023-01-27T14:09:51.547000+09:00",
     "start_time": "2023-01-27T05:09:47.374Z"
    }
   },
   "outputs": [
    {
     "data": {
      "text/plain": [
       "false"
      ]
     },
     "execution_count": 69,
     "metadata": {},
     "output_type": "execute_result"
    }
   ],
   "source": [
    "isabstracttype(LinearIndices)"
   ]
  },
  {
   "cell_type": "code",
   "execution_count": 70,
   "id": "6beede0c-5cc2-4de6-94bc-a51480ac4db5",
   "metadata": {
    "ExecuteTime": {
     "end_time": "2023-01-27T14:09:51.547000+09:00",
     "start_time": "2023-01-27T05:09:47.375Z"
    }
   },
   "outputs": [
    {
     "data": {
      "text/plain": [
       "false"
      ]
     },
     "execution_count": 70,
     "metadata": {},
     "output_type": "execute_result"
    }
   ],
   "source": [
    "isconcretetype(LinearIndices)"
   ]
  },
  {
   "cell_type": "code",
   "execution_count": 71,
   "id": "6d213130-c862-4faa-bfd9-832d68721ece",
   "metadata": {
    "ExecuteTime": {
     "end_time": "2023-01-27T14:09:51.548000+09:00",
     "start_time": "2023-01-27T05:09:47.376Z"
    }
   },
   "outputs": [
    {
     "data": {
      "text/plain": [
       "UnionAll"
      ]
     },
     "execution_count": 71,
     "metadata": {},
     "output_type": "execute_result"
    }
   ],
   "source": [
    "typeof(LinearIndices)"
   ]
  },
  {
   "cell_type": "code",
   "execution_count": 72,
   "id": "19c9ed5e-4997-4f93-9bbd-5b51d9de6bf0",
   "metadata": {
    "ExecuteTime": {
     "end_time": "2023-01-27T14:09:51.972000+09:00",
     "start_time": "2023-01-27T05:09:47.378Z"
    }
   },
   "outputs": [
    {
     "data": {
      "text/plain": [
       "2×2 LinearIndices{2, Tuple{Base.OneTo{Int64}, Base.OneTo{Int64}}}:\n",
       " 1  3\n",
       " 2  4"
      ]
     },
     "execution_count": 72,
     "metadata": {},
     "output_type": "execute_result"
    }
   ],
   "source": [
    "LinearIndices(ones(2,2))"
   ]
  },
  {
   "cell_type": "code",
   "execution_count": 73,
   "id": "b8a6f7c5-b06f-4d46-a8fb-d07510bf0fc3",
   "metadata": {
    "ExecuteTime": {
     "end_time": "2023-01-27T14:09:51.983000+09:00",
     "start_time": "2023-01-27T05:09:47.379Z"
    }
   },
   "outputs": [
    {
     "data": {
      "text/plain": [
       "LinearIndices{2, Tuple{Base.OneTo{Int64}, Base.OneTo{Int64}}}"
      ]
     },
     "execution_count": 73,
     "metadata": {},
     "output_type": "execute_result"
    }
   ],
   "source": [
    "typeof(LinearIndices(ones(2,2)))"
   ]
  },
  {
   "cell_type": "code",
   "execution_count": 74,
   "id": "8e3ac71f-cdb6-4554-9410-ca178b4b9f4c",
   "metadata": {
    "ExecuteTime": {
     "end_time": "2023-01-27T14:09:51.984000+09:00",
     "start_time": "2023-01-27T05:09:47.381Z"
    }
   },
   "outputs": [
    {
     "data": {
      "text/plain": [
       "true"
      ]
     },
     "execution_count": 74,
     "metadata": {},
     "output_type": "execute_result"
    }
   ],
   "source": [
    "isconcretetype(typeof(LinearIndices(ones(2,2))))"
   ]
  },
  {
   "cell_type": "code",
   "execution_count": 75,
   "id": "1e862f57-1e3b-4a15-aa1c-680665897d1c",
   "metadata": {
    "ExecuteTime": {
     "end_time": "2023-01-27T14:09:51.984000+09:00",
     "start_time": "2023-01-27T05:09:47.383Z"
    }
   },
   "outputs": [
    {
     "data": {
      "text/plain": [
       "DataType"
      ]
     },
     "execution_count": 75,
     "metadata": {},
     "output_type": "execute_result"
    }
   ],
   "source": [
    "typeof(typeof(LinearIndices(ones(2,2))))"
   ]
  },
  {
   "cell_type": "code",
   "execution_count": 76,
   "id": "262eebe1-cdf4-4ece-9d90-2794b3b95457",
   "metadata": {
    "ExecuteTime": {
     "end_time": "2023-01-27T14:09:51.995000+09:00",
     "start_time": "2023-01-27T05:09:47.385Z"
    }
   },
   "outputs": [
    {
     "data": {
      "text/plain": [
       "AbstractMatrix{Int64}\u001b[90m (alias for \u001b[39m\u001b[90mAbstractArray{Int64, 2}\u001b[39m\u001b[90m)\u001b[39m"
      ]
     },
     "execution_count": 76,
     "metadata": {},
     "output_type": "execute_result"
    }
   ],
   "source": [
    "supertype(typeof(LinearIndices(ones(2,2))))"
   ]
  },
  {
   "cell_type": "code",
   "execution_count": 77,
   "id": "b82519a4-6954-4c70-af0a-67fe2a196bad",
   "metadata": {
    "ExecuteTime": {
     "end_time": "2023-01-27T14:09:51.996000+09:00",
     "start_time": "2023-01-27T05:09:47.387Z"
    }
   },
   "outputs": [
    {
     "data": {
      "text/plain": [
       "true"
      ]
     },
     "execution_count": 77,
     "metadata": {},
     "output_type": "execute_result"
    }
   ],
   "source": [
    "LinearIndices(ones(2,2)) isa AbstractArray{Int64, 2}"
   ]
  },
  {
   "cell_type": "code",
   "execution_count": 78,
   "id": "e99c68bc-142f-4ce7-912e-a20b3e176039",
   "metadata": {
    "ExecuteTime": {
     "end_time": "2023-01-27T14:09:51.996000+09:00",
     "start_time": "2023-01-27T05:09:47.390Z"
    }
   },
   "outputs": [
    {
     "data": {
      "text/plain": [
       "true"
      ]
     },
     "execution_count": 78,
     "metadata": {},
     "output_type": "execute_result"
    }
   ],
   "source": [
    "LinearIndices{2} <: AbstractArray{Int64, 2}"
   ]
  }
 ],
 "metadata": {
  "jupytext": {
   "formats": "ipynb,auto:light"
  },
  "kernelspec": {
   "display_name": "Julia 1.8.5",
   "language": "julia",
   "name": "julia-1.8"
  },
  "language_info": {
   "file_extension": ".jl",
   "mimetype": "application/julia",
   "name": "julia",
   "version": "1.8.5"
  }
 },
 "nbformat": 4,
 "nbformat_minor": 5
}
