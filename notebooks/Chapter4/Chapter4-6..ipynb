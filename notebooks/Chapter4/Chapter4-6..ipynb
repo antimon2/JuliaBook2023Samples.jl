{
 "cells": [
  {
   "cell_type": "code",
   "execution_count": 1,
   "id": "0a64e5fe-f694-4132-81ec-c6fb60bbb314",
   "metadata": {
    "ExecuteTime": {
     "end_time": "2023-01-27T14:15:54.894000+09:00",
     "start_time": "2023-01-27T05:15:54.274Z"
    }
   },
   "outputs": [
    {
     "name": "stdout",
     "output_type": "stream",
     "text": [
      "Julia Version 1.8.5\n",
      "Commit 17cfb8e65ea (2023-01-08 06:45 UTC)\n",
      "Platform Info:\n",
      "  OS: Linux (x86_64-linux-gnu)\n",
      "  CPU: 12 × Intel(R) Core(TM) i7-9750H CPU @ 2.60GHz\n",
      "  WORD_SIZE: 64\n",
      "  LIBM: libopenlibm\n",
      "  LLVM: libLLVM-13.0.1 (ORCJIT, skylake)\n",
      "  Threads: 1 on 12 virtual cores\n"
     ]
    }
   ],
   "source": [
    "versioninfo()"
   ]
  },
  {
   "cell_type": "markdown",
   "id": "fede60cf-3dbb-4f7f-bb16-396b0ccc7ad7",
   "metadata": {},
   "source": [
    "## 4-6. 特殊な型"
   ]
  },
  {
   "cell_type": "markdown",
   "id": "fdec934c-e283-4c28-bac6-5facc16ac815",
   "metadata": {},
   "source": [
    "### 4-6-1. Tuple型・NamedTuple型"
   ]
  },
  {
   "cell_type": "markdown",
   "id": "d6a49f6e-1695-47b9-a938-82e0a9ebb4a6",
   "metadata": {},
   "source": [
    "#### コード4-58. Tuple型 の確認例"
   ]
  },
  {
   "cell_type": "code",
   "execution_count": 2,
   "id": "60fc21d0-d85e-4207-8e38-c874a435d704",
   "metadata": {
    "ExecuteTime": {
     "end_time": "2023-01-27T14:15:55.518000+09:00",
     "start_time": "2023-01-27T05:15:54.281Z"
    }
   },
   "outputs": [
    {
     "data": {
      "text/plain": [
       "Tuple{Int64, Int64}"
      ]
     },
     "execution_count": 2,
     "metadata": {},
     "output_type": "execute_result"
    }
   ],
   "source": [
    "typeof((1, 2))"
   ]
  },
  {
   "cell_type": "code",
   "execution_count": 3,
   "id": "55580bca-23e2-453a-ad20-471cf782a7d1",
   "metadata": {
    "ExecuteTime": {
     "end_time": "2023-01-27T14:15:55.528000+09:00",
     "start_time": "2023-01-27T05:15:54.285Z"
    }
   },
   "outputs": [
    {
     "data": {
      "text/plain": [
       "Tuple{Int64, Float64, Symbol}"
      ]
     },
     "execution_count": 3,
     "metadata": {},
     "output_type": "execute_result"
    }
   ],
   "source": [
    "typeof((1, 99.9, :a))"
   ]
  },
  {
   "cell_type": "code",
   "execution_count": 4,
   "id": "e02c1c5c-cedc-417e-936b-305804efad2a",
   "metadata": {
    "ExecuteTime": {
     "end_time": "2023-01-27T14:15:55.538000+09:00",
     "start_time": "2023-01-27T05:15:54.288Z"
    }
   },
   "outputs": [
    {
     "data": {
      "text/plain": [
       "Tuple{Int64}"
      ]
     },
     "execution_count": 4,
     "metadata": {},
     "output_type": "execute_result"
    }
   ],
   "source": [
    "typeof((1,))"
   ]
  },
  {
   "cell_type": "code",
   "execution_count": 5,
   "id": "71575f11-b7f7-468b-9052-13da68ccf92f",
   "metadata": {
    "ExecuteTime": {
     "end_time": "2023-01-27T14:15:55.548000+09:00",
     "start_time": "2023-01-27T05:15:54.291Z"
    }
   },
   "outputs": [
    {
     "data": {
      "text/plain": [
       "Tuple{}"
      ]
     },
     "execution_count": 5,
     "metadata": {},
     "output_type": "execute_result"
    }
   ],
   "source": [
    "typeof(())"
   ]
  },
  {
   "cell_type": "markdown",
   "id": "38158f69-0c1a-43d5-8159-c730664487a6",
   "metadata": {},
   "source": [
    "#### コード4-59. Tuple型 の性質・サブタイピングの確認例"
   ]
  },
  {
   "cell_type": "code",
   "execution_count": 6,
   "id": "e6319efe-0510-495a-a51b-24b7fa559d6b",
   "metadata": {
    "ExecuteTime": {
     "end_time": "2023-01-27T14:15:55.716000+09:00",
     "start_time": "2023-01-27T05:15:54.293Z"
    }
   },
   "outputs": [
    {
     "data": {
      "text/plain": [
       "false"
      ]
     },
     "execution_count": 6,
     "metadata": {},
     "output_type": "execute_result"
    }
   ],
   "source": [
    "isabstracttype(Tuple)"
   ]
  },
  {
   "cell_type": "code",
   "execution_count": 7,
   "id": "c5e42c8f-248a-4391-a268-c5ad2a550c97",
   "metadata": {
    "ExecuteTime": {
     "end_time": "2023-01-27T14:15:55.716000+09:00",
     "start_time": "2023-01-27T05:15:54.294Z"
    }
   },
   "outputs": [
    {
     "data": {
      "text/plain": [
       "false"
      ]
     },
     "execution_count": 7,
     "metadata": {},
     "output_type": "execute_result"
    }
   ],
   "source": [
    "isconcretetype(Tuple)"
   ]
  },
  {
   "cell_type": "code",
   "execution_count": 8,
   "id": "fe768a95-6444-4173-af68-01f656ab7688",
   "metadata": {
    "ExecuteTime": {
     "end_time": "2023-01-27T14:15:55.717000+09:00",
     "start_time": "2023-01-27T05:15:54.296Z"
    }
   },
   "outputs": [
    {
     "data": {
      "text/plain": [
       "true"
      ]
     },
     "execution_count": 8,
     "metadata": {},
     "output_type": "execute_result"
    }
   ],
   "source": [
    "isconcretetype(Tuple{})"
   ]
  },
  {
   "cell_type": "code",
   "execution_count": 9,
   "id": "0711d425-6e29-4ed7-899f-b60b418f7e1f",
   "metadata": {
    "ExecuteTime": {
     "end_time": "2023-01-27T14:15:55.718000+09:00",
     "start_time": "2023-01-27T05:15:54.298Z"
    }
   },
   "outputs": [
    {
     "data": {
      "text/plain": [
       "true"
      ]
     },
     "execution_count": 9,
     "metadata": {},
     "output_type": "execute_result"
    }
   ],
   "source": [
    "isconcretetype(Tuple{Int})"
   ]
  },
  {
   "cell_type": "code",
   "execution_count": 10,
   "id": "95725102-cfa4-413c-ac5d-ff8cb71a9a5b",
   "metadata": {
    "ExecuteTime": {
     "end_time": "2023-01-27T14:15:55.728000+09:00",
     "start_time": "2023-01-27T05:15:54.301Z"
    }
   },
   "outputs": [
    {
     "data": {
      "text/plain": [
       "DataType"
      ]
     },
     "execution_count": 10,
     "metadata": {},
     "output_type": "execute_result"
    }
   ],
   "source": [
    "typeof(Tuple)"
   ]
  },
  {
   "cell_type": "code",
   "execution_count": 11,
   "id": "0fe752f8-cba1-4b09-953f-1563bec8b3e2",
   "metadata": {
    "ExecuteTime": {
     "end_time": "2023-01-27T14:15:55.728000+09:00",
     "start_time": "2023-01-27T05:15:54.304Z"
    }
   },
   "outputs": [
    {
     "data": {
      "text/plain": [
       "DataType"
      ]
     },
     "execution_count": 11,
     "metadata": {},
     "output_type": "execute_result"
    }
   ],
   "source": [
    "typeof(Tuple{Int})"
   ]
  },
  {
   "cell_type": "code",
   "execution_count": 12,
   "id": "b58389bb-1e4e-469f-b1f0-1715c7615e17",
   "metadata": {
    "ExecuteTime": {
     "end_time": "2023-01-27T14:15:55.740000+09:00",
     "start_time": "2023-01-27T05:15:54.306Z"
    }
   },
   "outputs": [
    {
     "data": {
      "text/plain": [
       "Any"
      ]
     },
     "execution_count": 12,
     "metadata": {},
     "output_type": "execute_result"
    }
   ],
   "source": [
    "supertype(Tuple)"
   ]
  },
  {
   "cell_type": "code",
   "execution_count": 13,
   "id": "eb3259d2-ae41-4d92-b73d-e1eb471e91a9",
   "metadata": {
    "ExecuteTime": {
     "end_time": "2023-01-27T14:15:56.578000+09:00",
     "start_time": "2023-01-27T05:15:54.307Z"
    }
   },
   "outputs": [
    {
     "data": {
      "text/plain": [
       "Type[]"
      ]
     },
     "execution_count": 13,
     "metadata": {},
     "output_type": "execute_result"
    }
   ],
   "source": [
    "subtypes(Tuple)"
   ]
  },
  {
   "cell_type": "code",
   "execution_count": 14,
   "id": "a4d60ae5-0a58-459c-ae8a-608e4ef1a744",
   "metadata": {
    "ExecuteTime": {
     "end_time": "2023-01-27T14:15:56.579000+09:00",
     "start_time": "2023-01-27T05:15:54.309Z"
    }
   },
   "outputs": [
    {
     "data": {
      "text/plain": [
       "true"
      ]
     },
     "execution_count": 14,
     "metadata": {},
     "output_type": "execute_result"
    }
   ],
   "source": [
    "Tuple{Int} <: Tuple"
   ]
  },
  {
   "cell_type": "code",
   "execution_count": 15,
   "id": "f9d7a47c-a698-4306-9994-a77875d9e8f2",
   "metadata": {
    "ExecuteTime": {
     "end_time": "2023-01-27T14:15:56.579000+09:00",
     "start_time": "2023-01-27T05:15:54.310Z"
    }
   },
   "outputs": [
    {
     "data": {
      "text/plain": [
       "false"
      ]
     },
     "execution_count": 15,
     "metadata": {},
     "output_type": "execute_result"
    }
   ],
   "source": [
    "Tuple{Int, Int} <: Tuple{Int}"
   ]
  },
  {
   "cell_type": "code",
   "execution_count": 16,
   "id": "04ab9558-a96e-4b15-9e06-1e43a08c4a37",
   "metadata": {
    "ExecuteTime": {
     "end_time": "2023-01-27T14:15:56.580000+09:00",
     "start_time": "2023-01-27T05:15:54.311Z"
    }
   },
   "outputs": [
    {
     "data": {
      "text/plain": [
       "true"
      ]
     },
     "execution_count": 16,
     "metadata": {},
     "output_type": "execute_result"
    }
   ],
   "source": [
    "Tuple{Int} <: Tuple{Integer} <: Tuple{Any}"
   ]
  },
  {
   "cell_type": "code",
   "execution_count": 17,
   "id": "ea2d8aba-3ab1-45c7-9321-0a4137f18433",
   "metadata": {
    "ExecuteTime": {
     "end_time": "2023-01-27T14:15:56.581000+09:00",
     "start_time": "2023-01-27T05:15:54.314Z"
    }
   },
   "outputs": [
    {
     "data": {
      "text/plain": [
       "true"
      ]
     },
     "execution_count": 17,
     "metadata": {},
     "output_type": "execute_result"
    }
   ],
   "source": [
    "Tuple{Int64, Float64, Symbol} <: NTuple{3, Any}"
   ]
  },
  {
   "cell_type": "markdown",
   "id": "94b84d42-f5a0-4eb2-8e28-b8a84e41c570",
   "metadata": {},
   "source": [
    "#### コード4-60. NamedTuple型 の確認例"
   ]
  },
  {
   "cell_type": "code",
   "execution_count": 18,
   "id": "a6ebaa18-4cd7-41c3-9eb7-6833271fe2a4",
   "metadata": {
    "ExecuteTime": {
     "end_time": "2023-01-27T14:15:58.015000+09:00",
     "start_time": "2023-01-27T05:15:54.316Z"
    }
   },
   "outputs": [
    {
     "data": {
      "text/plain": [
       "(a = 1, b = 2.1, c = :OK)"
      ]
     },
     "execution_count": 18,
     "metadata": {},
     "output_type": "execute_result"
    }
   ],
   "source": [
    "nt = (a=1, b=2.1, c=:OK)"
   ]
  },
  {
   "cell_type": "code",
   "execution_count": 19,
   "id": "820edac0-cb4d-47c9-84c0-5ec7e9db66e1",
   "metadata": {
    "ExecuteTime": {
     "end_time": "2023-01-27T14:15:58.051000+09:00",
     "start_time": "2023-01-27T05:15:54.318Z"
    }
   },
   "outputs": [
    {
     "data": {
      "text/plain": [
       "NamedTuple{(:a, :b, :c), Tuple{Int64, Float64, Symbol}}"
      ]
     },
     "execution_count": 19,
     "metadata": {},
     "output_type": "execute_result"
    }
   ],
   "source": [
    "typeof(nt)"
   ]
  },
  {
   "cell_type": "code",
   "execution_count": 20,
   "id": "6d371059-8dc1-4118-9a18-2a78868f4e01",
   "metadata": {
    "ExecuteTime": {
     "end_time": "2023-01-27T14:15:58.240000+09:00",
     "start_time": "2023-01-27T05:15:54.321Z"
    }
   },
   "outputs": [
    {
     "data": {
      "text/plain": [
       "(a = 1,)"
      ]
     },
     "execution_count": 20,
     "metadata": {},
     "output_type": "execute_result"
    }
   ],
   "source": [
    "nt1 = (a=1,)  # `(;a=1)` と書いても同じ"
   ]
  },
  {
   "cell_type": "code",
   "execution_count": 21,
   "id": "09162b22-92ca-4ff1-9fea-ad7b7fdbf305",
   "metadata": {
    "ExecuteTime": {
     "end_time": "2023-01-27T14:15:58.272000+09:00",
     "start_time": "2023-01-27T05:15:54.322Z"
    }
   },
   "outputs": [
    {
     "data": {
      "text/plain": [
       "NamedTuple{(:a,), Tuple{Int64}}"
      ]
     },
     "execution_count": 21,
     "metadata": {},
     "output_type": "execute_result"
    }
   ],
   "source": [
    "typeof(nt1)"
   ]
  },
  {
   "cell_type": "code",
   "execution_count": 22,
   "id": "d50f0b45-088a-474d-8c7b-26758ec7d5f0",
   "metadata": {
    "ExecuteTime": {
     "end_time": "2023-01-27T14:15:58.421000+09:00",
     "start_time": "2023-01-27T05:15:54.324Z"
    }
   },
   "outputs": [
    {
     "data": {
      "text/plain": [
       "NamedTuple()"
      ]
     },
     "execution_count": 22,
     "metadata": {},
     "output_type": "execute_result"
    }
   ],
   "source": [
    "nt0 = (;)"
   ]
  },
  {
   "cell_type": "code",
   "execution_count": 23,
   "id": "f7bc9930-0d1d-42fc-95a4-9213ef6bb7c9",
   "metadata": {
    "ExecuteTime": {
     "end_time": "2023-01-27T14:15:58.439000+09:00",
     "start_time": "2023-01-27T05:15:54.326Z"
    }
   },
   "outputs": [
    {
     "data": {
      "text/plain": [
       "NamedTuple{(), Tuple{}}"
      ]
     },
     "execution_count": 23,
     "metadata": {},
     "output_type": "execute_result"
    }
   ],
   "source": [
    "typeof(nt0)"
   ]
  },
  {
   "cell_type": "markdown",
   "id": "e3f4efab-e8b0-4b31-aea5-c8f52254a8d2",
   "metadata": {},
   "source": [
    "#### コード4-61. `@NamedTuple` マクロの例"
   ]
  },
  {
   "cell_type": "code",
   "execution_count": 24,
   "id": "88d0b0aa-af51-492a-b72f-817d7a3eed5f",
   "metadata": {
    "ExecuteTime": {
     "end_time": "2023-01-27T14:15:58.520000+09:00",
     "start_time": "2023-01-27T05:15:54.328Z"
    }
   },
   "outputs": [
    {
     "data": {
      "text/plain": [
       "NamedTuple{(:a, :b, :c), Tuple{Int64, Float64, Symbol}}"
      ]
     },
     "execution_count": 24,
     "metadata": {},
     "output_type": "execute_result"
    }
   ],
   "source": [
    "@NamedTuple begin\n",
    "    a::Int\n",
    "    b::Float64\n",
    "    c::Symbol\n",
    "end"
   ]
  },
  {
   "cell_type": "code",
   "execution_count": 25,
   "id": "1c1e5536-6ce7-49b0-8bf0-930c8e055ba3",
   "metadata": {
    "ExecuteTime": {
     "end_time": "2023-01-27T14:15:58.522000+09:00",
     "start_time": "2023-01-27T05:15:54.329Z"
    }
   },
   "outputs": [
    {
     "data": {
      "text/plain": [
       "NamedTuple{(:a, :b, :c), Tuple{Int64, Float64, Symbol}}"
      ]
     },
     "execution_count": 25,
     "metadata": {},
     "output_type": "execute_result"
    }
   ],
   "source": [
    "@NamedTuple{a::Int, b::Float64, c::Symbol}"
   ]
  },
  {
   "cell_type": "code",
   "execution_count": 26,
   "id": "cd3902ca-8a41-45c5-a63b-3990c1b1f031",
   "metadata": {
    "ExecuteTime": {
     "end_time": "2023-01-27T14:15:58.562000+09:00",
     "start_time": "2023-01-27T05:15:54.331Z"
    }
   },
   "outputs": [
    {
     "data": {
      "text/plain": [
       "NamedTuple{(:a, :b), Tuple{Any, Any}}"
      ]
     },
     "execution_count": 26,
     "metadata": {},
     "output_type": "execute_result"
    }
   ],
   "source": [
    "@NamedTuple{a, b}"
   ]
  },
  {
   "cell_type": "code",
   "execution_count": 27,
   "id": "b8635f0e-b48e-4272-ba18-8772bceaad91",
   "metadata": {
    "ExecuteTime": {
     "end_time": "2023-01-27T14:15:58.564000+09:00",
     "start_time": "2023-01-27T05:15:54.333Z"
    }
   },
   "outputs": [
    {
     "data": {
      "text/plain": [
       "NamedTuple{(), Tuple{}}"
      ]
     },
     "execution_count": 27,
     "metadata": {},
     "output_type": "execute_result"
    }
   ],
   "source": [
    "@NamedTuple{}"
   ]
  },
  {
   "cell_type": "markdown",
   "id": "f5048d1e-b656-431c-81b4-0f68e6867e83",
   "metadata": {},
   "source": [
    "#### コード4-62. NamedTuple型 の性質・サブタイピングの確認例"
   ]
  },
  {
   "cell_type": "code",
   "execution_count": 28,
   "id": "d25a7365-fa89-43c6-8282-f2c341de31db",
   "metadata": {
    "ExecuteTime": {
     "end_time": "2023-01-27T14:15:58.567000+09:00",
     "start_time": "2023-01-27T05:15:54.336Z"
    }
   },
   "outputs": [
    {
     "data": {
      "text/plain": [
       "Any"
      ]
     },
     "execution_count": 28,
     "metadata": {},
     "output_type": "execute_result"
    }
   ],
   "source": [
    "supertype(NamedTuple)"
   ]
  },
  {
   "cell_type": "code",
   "execution_count": 29,
   "id": "df3bbea7-ae38-4f0b-aeef-ab728530eb5b",
   "metadata": {
    "ExecuteTime": {
     "end_time": "2023-01-27T14:15:58.568000+09:00",
     "start_time": "2023-01-27T05:15:54.338Z"
    }
   },
   "outputs": [
    {
     "data": {
      "text/plain": [
       "Type[]"
      ]
     },
     "execution_count": 29,
     "metadata": {},
     "output_type": "execute_result"
    }
   ],
   "source": [
    "subtypes(NamedTuple)"
   ]
  },
  {
   "cell_type": "code",
   "execution_count": 30,
   "id": "3934b634-2417-49c2-95d1-7a450783e2c5",
   "metadata": {
    "ExecuteTime": {
     "end_time": "2023-01-27T14:15:58.568000+09:00",
     "start_time": "2023-01-27T05:15:54.340Z"
    }
   },
   "outputs": [
    {
     "data": {
      "text/plain": [
       "false"
      ]
     },
     "execution_count": 30,
     "metadata": {},
     "output_type": "execute_result"
    }
   ],
   "source": [
    "isabstracttype(NamedTuple)"
   ]
  },
  {
   "cell_type": "code",
   "execution_count": 31,
   "id": "6d7e5424-1456-4b45-83d1-6503510991a6",
   "metadata": {
    "ExecuteTime": {
     "end_time": "2023-01-27T14:15:58.569000+09:00",
     "start_time": "2023-01-27T05:15:54.341Z"
    }
   },
   "outputs": [
    {
     "data": {
      "text/plain": [
       "false"
      ]
     },
     "execution_count": 31,
     "metadata": {},
     "output_type": "execute_result"
    }
   ],
   "source": [
    "isconcretetype(NamedTuple)"
   ]
  },
  {
   "cell_type": "code",
   "execution_count": 32,
   "id": "a197f2ee-3835-45e8-8413-75f13657e625",
   "metadata": {
    "ExecuteTime": {
     "end_time": "2023-01-27T14:15:58.578000+09:00",
     "start_time": "2023-01-27T05:15:54.343Z"
    }
   },
   "outputs": [
    {
     "data": {
      "text/plain": [
       "UnionAll"
      ]
     },
     "execution_count": 32,
     "metadata": {},
     "output_type": "execute_result"
    }
   ],
   "source": [
    "typeof(NamedTuple)"
   ]
  },
  {
   "cell_type": "code",
   "execution_count": 33,
   "id": "5ed6280d-ce8e-45f1-aa5b-a777deb1f9e5",
   "metadata": {
    "ExecuteTime": {
     "end_time": "2023-01-27T14:15:58.579000+09:00",
     "start_time": "2023-01-27T05:15:54.345Z"
    }
   },
   "outputs": [
    {
     "data": {
      "text/plain": [
       "DataType"
      ]
     },
     "execution_count": 33,
     "metadata": {},
     "output_type": "execute_result"
    }
   ],
   "source": [
    "typeof(@NamedTuple{})"
   ]
  },
  {
   "cell_type": "code",
   "execution_count": 34,
   "id": "eda1a28a-cbda-4e45-ab4e-0de56bb33ce3",
   "metadata": {
    "ExecuteTime": {
     "end_time": "2023-01-27T14:15:58.580000+09:00",
     "start_time": "2023-01-27T05:15:54.346Z"
    }
   },
   "outputs": [
    {
     "data": {
      "text/plain": [
       "false"
      ]
     },
     "execution_count": 34,
     "metadata": {},
     "output_type": "execute_result"
    }
   ],
   "source": [
    "@NamedTuple{a::Int, b::Float64, c::Symbol} <: @NamedTuple{a, b, c}"
   ]
  },
  {
   "cell_type": "markdown",
   "id": "31216694-41fa-4261-8b08-84d1fe9d1da4",
   "metadata": {},
   "source": [
    "### 4-6-2. Union型"
   ]
  },
  {
   "cell_type": "markdown",
   "id": "d706c4ba-9fe7-4e8a-9a7a-bbf984c6239e",
   "metadata": {},
   "source": [
    "#### コード4-63. Union型 の例"
   ]
  },
  {
   "cell_type": "code",
   "execution_count": 35,
   "id": "95a2adc7-b19f-40cb-bede-9ab1f0e81877",
   "metadata": {
    "ExecuteTime": {
     "end_time": "2023-01-27T14:15:58.660000+09:00",
     "start_time": "2023-01-27T05:15:54.349Z"
    }
   },
   "outputs": [
    {
     "data": {
      "text/plain": [
       "Union{Int64, String}"
      ]
     },
     "execution_count": 35,
     "metadata": {},
     "output_type": "execute_result"
    }
   ],
   "source": [
    "Union{Int, String}"
   ]
  },
  {
   "cell_type": "code",
   "execution_count": 36,
   "id": "b3eaefb8-fe19-4ac5-bae8-26d1ee61767e",
   "metadata": {
    "ExecuteTime": {
     "end_time": "2023-01-27T14:15:58.674000+09:00",
     "start_time": "2023-01-27T05:15:54.352Z"
    }
   },
   "outputs": [
    {
     "data": {
      "text/plain": [
       "Union{Float64, Int64, String}"
      ]
     },
     "execution_count": 36,
     "metadata": {},
     "output_type": "execute_result"
    }
   ],
   "source": [
    "Union{Int, Float64, String}"
   ]
  },
  {
   "cell_type": "code",
   "execution_count": 37,
   "id": "c7ed5690-a761-403d-add7-a41ebbc508ca",
   "metadata": {
    "ExecuteTime": {
     "end_time": "2023-01-27T14:15:58.684000+09:00",
     "start_time": "2023-01-27T05:15:54.354Z"
    }
   },
   "outputs": [
    {
     "data": {
      "text/plain": [
       "Integer"
      ]
     },
     "execution_count": 37,
     "metadata": {},
     "output_type": "execute_result"
    }
   ],
   "source": [
    "Union{Int, Integer}"
   ]
  },
  {
   "cell_type": "code",
   "execution_count": 38,
   "id": "46f1319c-20fb-4fd3-b8f6-968f6a885ee9",
   "metadata": {
    "ExecuteTime": {
     "end_time": "2023-01-27T14:15:58.684000+09:00",
     "start_time": "2023-01-27T05:15:54.356Z"
    }
   },
   "outputs": [
    {
     "data": {
      "text/plain": [
       "true"
      ]
     },
     "execution_count": 38,
     "metadata": {},
     "output_type": "execute_result"
    }
   ],
   "source": [
    "Union{Int, Int} === Union{Int} === Int"
   ]
  },
  {
   "cell_type": "markdown",
   "id": "9edcc79e-4437-4cf0-8b92-b33e84e80c93",
   "metadata": {},
   "source": [
    "#### コード4-64. Union型 のサブタイピング・性質等の確認例"
   ]
  },
  {
   "cell_type": "code",
   "execution_count": 39,
   "id": "cb0ad04d-be1b-4a90-becf-0e1340e6c757",
   "metadata": {
    "ExecuteTime": {
     "end_time": "2023-01-27T14:15:58.685000+09:00",
     "start_time": "2023-01-27T05:15:54.359Z"
    }
   },
   "outputs": [
    {
     "data": {
      "text/plain": [
       "false"
      ]
     },
     "execution_count": 39,
     "metadata": {},
     "output_type": "execute_result"
    }
   ],
   "source": [
    "isabstracttype(Union{Int, String})"
   ]
  },
  {
   "cell_type": "code",
   "execution_count": 40,
   "id": "d8974362-2b6a-4782-8644-704f1b6f4b9b",
   "metadata": {
    "ExecuteTime": {
     "end_time": "2023-01-27T14:15:58.685000+09:00",
     "start_time": "2023-01-27T05:15:54.361Z"
    }
   },
   "outputs": [
    {
     "data": {
      "text/plain": [
       "false"
      ]
     },
     "execution_count": 40,
     "metadata": {},
     "output_type": "execute_result"
    }
   ],
   "source": [
    "isconcretetype(Union{Int, String})"
   ]
  },
  {
   "cell_type": "code",
   "execution_count": 41,
   "id": "1a5d8311-64c4-431f-94e2-754b99d62c9c",
   "metadata": {
    "ExecuteTime": {
     "end_time": "2023-01-27T14:15:59.664000+09:00",
     "start_time": "2023-01-27T05:15:54.363Z"
    }
   },
   "outputs": [
    {
     "ename": "LoadError",
     "evalue": "MethodError: no method matching supertype(::Type{Union{Int64, String}})\n\u001b[0mClosest candidates are:\n\u001b[0m  supertype(\u001b[91m::DataType\u001b[39m) at operators.jl:43\n\u001b[0m  supertype(\u001b[91m::UnionAll\u001b[39m) at operators.jl:48",
     "output_type": "error",
     "traceback": [
      "MethodError: no method matching supertype(::Type{Union{Int64, String}})\n\u001b[0mClosest candidates are:\n\u001b[0m  supertype(\u001b[91m::DataType\u001b[39m) at operators.jl:43\n\u001b[0m  supertype(\u001b[91m::UnionAll\u001b[39m) at operators.jl:48",
      "",
      "Stacktrace:",
      " [1] top-level scope",
      "   @ In[41]:1"
     ]
    }
   ],
   "source": [
    "supertype(Union{Int, String})"
   ]
  },
  {
   "cell_type": "code",
   "execution_count": 42,
   "id": "53c1450a-dd8a-4fec-92ad-4a1c4733711b",
   "metadata": {
    "ExecuteTime": {
     "end_time": "2023-01-27T14:15:59.665000+09:00",
     "start_time": "2023-01-27T05:15:54.365Z"
    }
   },
   "outputs": [
    {
     "data": {
      "text/plain": [
       "Type[]"
      ]
     },
     "execution_count": 42,
     "metadata": {},
     "output_type": "execute_result"
    }
   ],
   "source": [
    "subtypes(Union{Int, String})"
   ]
  },
  {
   "cell_type": "code",
   "execution_count": 43,
   "id": "016f3f87-539d-4024-8e14-4d992a8e1053",
   "metadata": {
    "ExecuteTime": {
     "end_time": "2023-01-27T14:15:59.665000+09:00",
     "start_time": "2023-01-27T05:15:54.367Z"
    }
   },
   "outputs": [
    {
     "data": {
      "text/plain": [
       "true"
      ]
     },
     "execution_count": 43,
     "metadata": {},
     "output_type": "execute_result"
    }
   ],
   "source": [
    "Union{Int, String} <: Any"
   ]
  },
  {
   "cell_type": "code",
   "execution_count": 44,
   "id": "70a4fa45-73a2-49f8-88f9-118fa7ff2c87",
   "metadata": {
    "ExecuteTime": {
     "end_time": "2023-01-27T14:15:59.666000+09:00",
     "start_time": "2023-01-27T05:15:54.368Z"
    }
   },
   "outputs": [
    {
     "data": {
      "text/plain": [
       "true"
      ]
     },
     "execution_count": 44,
     "metadata": {},
     "output_type": "execute_result"
    }
   ],
   "source": [
    "Int <: Union{Int, String}"
   ]
  },
  {
   "cell_type": "code",
   "execution_count": 45,
   "id": "c2c95f00-5778-4ac1-a855-2ceff9abedf0",
   "metadata": {
    "ExecuteTime": {
     "end_time": "2023-01-27T14:15:59.666000+09:00",
     "start_time": "2023-01-27T05:15:54.370Z"
    }
   },
   "outputs": [
    {
     "data": {
      "text/plain": [
       "true"
      ]
     },
     "execution_count": 45,
     "metadata": {},
     "output_type": "execute_result"
    }
   ],
   "source": [
    "String <: Union{Int, String}"
   ]
  },
  {
   "cell_type": "code",
   "execution_count": 46,
   "id": "eda5b5ce-2a6e-4912-b88a-59e3bb65e307",
   "metadata": {
    "ExecuteTime": {
     "end_time": "2023-01-27T14:15:59.667000+09:00",
     "start_time": "2023-01-27T05:15:54.372Z"
    }
   },
   "outputs": [
    {
     "data": {
      "text/plain": [
       "false"
      ]
     },
     "execution_count": 46,
     "metadata": {},
     "output_type": "execute_result"
    }
   ],
   "source": [
    "Float64 <: Union{Int, String}"
   ]
  },
  {
   "cell_type": "code",
   "execution_count": 47,
   "id": "7a56c45b-b40f-46ae-bbad-007d6ebec110",
   "metadata": {
    "ExecuteTime": {
     "end_time": "2023-01-27T14:15:59.667000+09:00",
     "start_time": "2023-01-27T05:15:54.374Z"
    }
   },
   "outputs": [
    {
     "data": {
      "text/plain": [
       "true"
      ]
     },
     "execution_count": 47,
     "metadata": {},
     "output_type": "execute_result"
    }
   ],
   "source": [
    "Union{Int, String} <: Union{Int, String, Float64}"
   ]
  },
  {
   "cell_type": "code",
   "execution_count": 48,
   "id": "17f08732-ecb0-4afa-9e6a-5fd14f1df268",
   "metadata": {
    "ExecuteTime": {
     "end_time": "2023-01-27T14:15:59.668000+09:00",
     "start_time": "2023-01-27T05:15:54.376Z"
    }
   },
   "outputs": [
    {
     "data": {
      "text/plain": [
       "true"
      ]
     },
     "execution_count": 48,
     "metadata": {},
     "output_type": "execute_result"
    }
   ],
   "source": [
    "Union{Int, String} <: Union{Integer, String}"
   ]
  },
  {
   "cell_type": "code",
   "execution_count": 49,
   "id": "85280ab6-b61a-4f2a-afaf-e3d8363d7048",
   "metadata": {
    "ExecuteTime": {
     "end_time": "2023-01-27T14:15:59.668000+09:00",
     "start_time": "2023-01-27T05:15:54.378Z"
    }
   },
   "outputs": [
    {
     "data": {
      "text/plain": [
       "false"
      ]
     },
     "execution_count": 49,
     "metadata": {},
     "output_type": "execute_result"
    }
   ],
   "source": [
    "Union{Int, String} <: Union"
   ]
  },
  {
   "cell_type": "code",
   "execution_count": 50,
   "id": "bc2b227a-7fff-4721-8e32-96cdc33d9d11",
   "metadata": {
    "ExecuteTime": {
     "end_time": "2023-01-27T14:15:59.678000+09:00",
     "start_time": "2023-01-27T05:15:54.379Z"
    }
   },
   "outputs": [
    {
     "data": {
      "text/plain": [
       "Union"
      ]
     },
     "execution_count": 50,
     "metadata": {},
     "output_type": "execute_result"
    }
   ],
   "source": [
    "typeof(Union{Int, String})"
   ]
  },
  {
   "cell_type": "markdown",
   "id": "bfa85aab-8a58-4d4a-9221-e64369aa71b7",
   "metadata": {},
   "source": [
    "### 4-6-3. ボトム型"
   ]
  },
  {
   "cell_type": "markdown",
   "id": "26c39568-4e08-4a48-858b-fe0004ccfa67",
   "metadata": {},
   "source": [
    "#### コード4-65. `Union{}`（ボトム型）の確認例"
   ]
  },
  {
   "cell_type": "code",
   "execution_count": 51,
   "id": "92e63bec-efd3-4753-b9f0-3c6f034baa76",
   "metadata": {
    "ExecuteTime": {
     "end_time": "2023-01-27T14:15:59.762000+09:00",
     "start_time": "2023-01-27T05:15:54.381Z"
    }
   },
   "outputs": [
    {
     "data": {
      "text/plain": [
       "Union{}"
      ]
     },
     "execution_count": 51,
     "metadata": {},
     "output_type": "execute_result"
    }
   ],
   "source": [
    "Union{}"
   ]
  },
  {
   "cell_type": "code",
   "execution_count": 52,
   "id": "a41538be-917a-4503-b309-8c803498fc45",
   "metadata": {
    "ExecuteTime": {
     "end_time": "2023-01-27T14:15:59.773000+09:00",
     "start_time": "2023-01-27T05:15:54.383Z"
    }
   },
   "outputs": [
    {
     "data": {
      "text/plain": [
       "Core.TypeofBottom"
      ]
     },
     "execution_count": 52,
     "metadata": {},
     "output_type": "execute_result"
    }
   ],
   "source": [
    "typeof(Union{})"
   ]
  },
  {
   "cell_type": "code",
   "execution_count": 53,
   "id": "4f821240-f99b-44c6-bc82-7dd92c634992",
   "metadata": {
    "ExecuteTime": {
     "end_time": "2023-01-27T14:15:59.774000+09:00",
     "start_time": "2023-01-27T05:15:54.384Z"
    }
   },
   "outputs": [
    {
     "data": {
      "text/plain": [
       "true"
      ]
     },
     "execution_count": 53,
     "metadata": {},
     "output_type": "execute_result"
    }
   ],
   "source": [
    "Union{} <: Int"
   ]
  },
  {
   "cell_type": "code",
   "execution_count": 54,
   "id": "8fac80c6-28d4-418b-8ac5-ad5a56fbba78",
   "metadata": {
    "ExecuteTime": {
     "end_time": "2023-01-27T14:15:59.785000+09:00",
     "start_time": "2023-01-27T05:15:54.386Z"
    }
   },
   "outputs": [
    {
     "data": {
      "text/plain": [
       "true"
      ]
     },
     "execution_count": 54,
     "metadata": {},
     "output_type": "execute_result"
    }
   ],
   "source": [
    "all(Union{} <: T for T in (Float64, String, Number, Any))"
   ]
  },
  {
   "cell_type": "markdown",
   "id": "8a305e9a-51ba-4456-bec1-ac031423c1a1",
   "metadata": {},
   "source": [
    "### 4-6-4. シングルトン型"
   ]
  },
  {
   "cell_type": "markdown",
   "id": "a2883512-61b9-4a6f-ac6c-4ec089c9cfe9",
   "metadata": {},
   "source": [
    "#### コード4-66. シングルトン型の定義例 (1)"
   ]
  },
  {
   "cell_type": "code",
   "execution_count": 55,
   "id": "7dd9e4bd-2fc2-447f-b09f-0cd02368efd3",
   "metadata": {
    "ExecuteTime": {
     "end_time": "2023-01-27T14:15:59.786000+09:00",
     "start_time": "2023-01-27T05:15:54.388Z"
    }
   },
   "outputs": [],
   "source": [
    "struct MySingleton end"
   ]
  },
  {
   "cell_type": "markdown",
   "id": "d2ac4203-c24e-4e46-a547-90c4fc83b765",
   "metadata": {},
   "source": [
    "#### コード4-67. シングルトン型の使用例 (1)"
   ]
  },
  {
   "cell_type": "code",
   "execution_count": 56,
   "id": "dc3e0c32-aadf-4810-a88b-28a19918fdba",
   "metadata": {
    "ExecuteTime": {
     "end_time": "2023-01-27T14:15:59.985000+09:00",
     "start_time": "2023-01-27T05:15:54.389Z"
    }
   },
   "outputs": [
    {
     "data": {
      "text/plain": [
       "MySingleton()"
      ]
     },
     "execution_count": 56,
     "metadata": {},
     "output_type": "execute_result"
    }
   ],
   "source": [
    "a = MySingleton()"
   ]
  },
  {
   "cell_type": "code",
   "execution_count": 57,
   "id": "9cb7beaf-2991-4f2a-b017-89e1244a7300",
   "metadata": {
    "ExecuteTime": {
     "end_time": "2023-01-27T14:15:59.985000+09:00",
     "start_time": "2023-01-27T05:15:54.391Z"
    }
   },
   "outputs": [
    {
     "data": {
      "text/plain": [
       "MySingleton()"
      ]
     },
     "execution_count": 57,
     "metadata": {},
     "output_type": "execute_result"
    }
   ],
   "source": [
    "b = MySingleton()"
   ]
  },
  {
   "cell_type": "code",
   "execution_count": 58,
   "id": "5fc4098d-de51-4c50-b919-3e7d8317dbea",
   "metadata": {
    "ExecuteTime": {
     "end_time": "2023-01-27T14:15:59.986000+09:00",
     "start_time": "2023-01-27T05:15:54.392Z"
    }
   },
   "outputs": [
    {
     "data": {
      "text/plain": [
       "true"
      ]
     },
     "execution_count": 58,
     "metadata": {},
     "output_type": "execute_result"
    }
   ],
   "source": [
    "a === b"
   ]
  },
  {
   "cell_type": "code",
   "execution_count": 59,
   "id": "905048d8-e87e-4896-98f4-02df0ee943ef",
   "metadata": {
    "ExecuteTime": {
     "end_time": "2023-01-27T14:15:59.986000+09:00",
     "start_time": "2023-01-27T05:15:54.395Z"
    }
   },
   "outputs": [
    {
     "data": {
      "text/plain": [
       "true"
      ]
     },
     "execution_count": 59,
     "metadata": {},
     "output_type": "execute_result"
    }
   ],
   "source": [
    "Base.issingletontype(MySingleton)"
   ]
  },
  {
   "cell_type": "markdown",
   "id": "9e38f467-3113-428d-836d-7430fa6493e4",
   "metadata": {},
   "source": [
    "#### コード4-68. シングルトン型の定義例 (2)：パラメトリック型のシングルトン型"
   ]
  },
  {
   "cell_type": "code",
   "execution_count": 60,
   "id": "4291a89f-61e2-4f08-bcf2-f96fb4b1f76c",
   "metadata": {
    "ExecuteTime": {
     "end_time": "2023-01-27T14:15:59.988000+09:00",
     "start_time": "2023-01-27T05:15:54.397Z"
    }
   },
   "outputs": [],
   "source": [
    "struct ParametricSingleton{T} end"
   ]
  },
  {
   "cell_type": "markdown",
   "id": "b4468732-1b83-46f0-9175-512ebed1d960",
   "metadata": {},
   "source": [
    "#### コード4-69. パラメトリック型のシングルトン型の確認例"
   ]
  },
  {
   "cell_type": "code",
   "execution_count": 61,
   "id": "c6fbcd4a-07d3-444a-81f9-60cad3d1189f",
   "metadata": {
    "ExecuteTime": {
     "end_time": "2023-01-27T14:16:00.053000+09:00",
     "start_time": "2023-01-27T05:15:54.399Z"
    }
   },
   "outputs": [
    {
     "ename": "LoadError",
     "evalue": "UndefVarError: TParametricSingleton not defined",
     "output_type": "error",
     "traceback": [
      "UndefVarError: TParametricSingleton not defined",
      "",
      "Stacktrace:",
      " [1] top-level scope",
      "   @ In[61]:1"
     ]
    }
   ],
   "source": [
    "Base.issingletontype(TParametricSingleton)"
   ]
  },
  {
   "cell_type": "code",
   "execution_count": 62,
   "id": "1ff8b470-61a2-4463-ac7c-cfa2730c2d27",
   "metadata": {
    "ExecuteTime": {
     "end_time": "2023-01-27T14:16:00.053000+09:00",
     "start_time": "2023-01-27T05:15:54.402Z"
    }
   },
   "outputs": [
    {
     "data": {
      "text/plain": [
       "true"
      ]
     },
     "execution_count": 62,
     "metadata": {},
     "output_type": "execute_result"
    }
   ],
   "source": [
    "Base.issingletontype(ParametricSingleton{Int})"
   ]
  },
  {
   "cell_type": "code",
   "execution_count": 63,
   "id": "9e39ba07-c665-4c8d-8722-6ca95c087095",
   "metadata": {
    "ExecuteTime": {
     "end_time": "2023-01-27T14:16:00.054000+09:00",
     "start_time": "2023-01-27T05:15:54.404Z"
    }
   },
   "outputs": [
    {
     "data": {
      "text/plain": [
       "true"
      ]
     },
     "execution_count": 63,
     "metadata": {},
     "output_type": "execute_result"
    }
   ],
   "source": [
    "ParametricSingleton{Int}() === ParametricSingleton{Int}()"
   ]
  },
  {
   "cell_type": "code",
   "execution_count": 64,
   "id": "0e9b4399-df6e-4160-af55-b17dd51871b6",
   "metadata": {
    "ExecuteTime": {
     "end_time": "2023-01-27T14:16:00.055000+09:00",
     "start_time": "2023-01-27T05:15:54.406Z"
    }
   },
   "outputs": [
    {
     "data": {
      "text/plain": [
       "true"
      ]
     },
     "execution_count": 64,
     "metadata": {},
     "output_type": "execute_result"
    }
   ],
   "source": [
    "ParametricSingleton{String}() === ParametricSingleton{String}()"
   ]
  },
  {
   "cell_type": "code",
   "execution_count": 65,
   "id": "3cfa7d80-8726-4c3b-a09c-d8b7dc4abe99",
   "metadata": {
    "ExecuteTime": {
     "end_time": "2023-01-27T14:16:00.055000+09:00",
     "start_time": "2023-01-27T05:15:54.408Z"
    }
   },
   "outputs": [
    {
     "data": {
      "text/plain": [
       "false"
      ]
     },
     "execution_count": 65,
     "metadata": {},
     "output_type": "execute_result"
    }
   ],
   "source": [
    "ParametricSingleton{Int}() === ParametricSingleton{String}()"
   ]
  },
  {
   "cell_type": "code",
   "execution_count": 66,
   "id": "dcc049c9-f6b2-4ba0-9dc1-22b5b81a25d8",
   "metadata": {
    "ExecuteTime": {
     "end_time": "2023-01-27T14:16:00.056000+09:00",
     "start_time": "2023-01-27T05:15:54.409Z"
    }
   },
   "outputs": [
    {
     "data": {
      "text/plain": [
       "true"
      ]
     },
     "execution_count": 66,
     "metadata": {},
     "output_type": "execute_result"
    }
   ],
   "source": [
    "ParametricSingleton{1}() === ParametricSingleton{1}()"
   ]
  },
  {
   "cell_type": "code",
   "execution_count": 67,
   "id": "9d9516ca-607e-40ed-a72d-ba92d4b08a87",
   "metadata": {
    "ExecuteTime": {
     "end_time": "2023-01-27T14:16:00.056000+09:00",
     "start_time": "2023-01-27T05:15:54.411Z"
    }
   },
   "outputs": [
    {
     "data": {
      "text/plain": [
       "true"
      ]
     },
     "execution_count": 67,
     "metadata": {},
     "output_type": "execute_result"
    }
   ],
   "source": [
    "ParametricSingleton{:OK}() === ParametricSingleton{:OK}()"
   ]
  },
  {
   "cell_type": "markdown",
   "id": "99af1977-445f-4381-8578-2e7d90923f29",
   "metadata": {},
   "source": [
    "#### コード4-70. 標準で定義されているシングルトン（`nothing`、`missing`）の例"
   ]
  },
  {
   "cell_type": "code",
   "execution_count": 68,
   "id": "a1f47204-5edf-4e26-80ec-cb029cc27706",
   "metadata": {
    "ExecuteTime": {
     "end_time": "2023-01-27T14:16:00.057000+09:00",
     "start_time": "2023-01-27T05:15:54.414Z"
    }
   },
   "outputs": [
    {
     "data": {
      "text/plain": [
       "true"
      ]
     },
     "execution_count": 68,
     "metadata": {},
     "output_type": "execute_result"
    }
   ],
   "source": [
    "Base.issingletontype(Nothing)"
   ]
  },
  {
   "cell_type": "code",
   "execution_count": 69,
   "id": "040cbfda-411d-49d2-97a5-36cfadb9bf65",
   "metadata": {
    "ExecuteTime": {
     "end_time": "2023-01-27T14:16:00.057000+09:00",
     "start_time": "2023-01-27T05:15:54.416Z"
    }
   },
   "outputs": [
    {
     "data": {
      "text/plain": [
       "true"
      ]
     },
     "execution_count": 69,
     "metadata": {},
     "output_type": "execute_result"
    }
   ],
   "source": [
    "Nothing() === nothing"
   ]
  },
  {
   "cell_type": "code",
   "execution_count": 70,
   "id": "331b0fe9-a53b-4c07-8e3b-b622d07e45de",
   "metadata": {
    "ExecuteTime": {
     "end_time": "2023-01-27T14:16:00.058000+09:00",
     "start_time": "2023-01-27T05:15:54.418Z"
    }
   },
   "outputs": [
    {
     "data": {
      "text/plain": [
       "true"
      ]
     },
     "execution_count": 70,
     "metadata": {},
     "output_type": "execute_result"
    }
   ],
   "source": [
    "Base.issingletontype(Missing)"
   ]
  },
  {
   "cell_type": "code",
   "execution_count": 71,
   "id": "91a34f15-02eb-4eb5-9a9d-7562be49e2a7",
   "metadata": {
    "ExecuteTime": {
     "end_time": "2023-01-27T14:16:00.058000+09:00",
     "start_time": "2023-01-27T05:15:54.420Z"
    }
   },
   "outputs": [
    {
     "data": {
      "text/plain": [
       "true"
      ]
     },
     "execution_count": 71,
     "metadata": {},
     "output_type": "execute_result"
    }
   ],
   "source": [
    "Missing() === missing"
   ]
  },
  {
   "cell_type": "markdown",
   "id": "53ddefbb-40c1-4e80-9151-74f07cc0f0d5",
   "metadata": {},
   "source": [
    "### 4-6-5. `Type{T}` 型セレクタ"
   ]
  },
  {
   "cell_type": "markdown",
   "id": "49a6693b-b8cc-4e1e-ac64-88fc7312a71a",
   "metadata": {},
   "source": [
    "#### コード4-71. `Type` 型の派生型の確認"
   ]
  },
  {
   "cell_type": "code",
   "execution_count": 72,
   "id": "3edbd4fc-103c-414d-a9e9-d5d61d1c41d8",
   "metadata": {
    "ExecuteTime": {
     "end_time": "2023-01-27T14:16:00.509000+09:00",
     "start_time": "2023-01-27T05:15:54.423Z"
    }
   },
   "outputs": [
    {
     "data": {
      "text/plain": [
       "4-element Vector{Any}:\n",
       " Core.TypeofBottom\n",
       " DataType\n",
       " Union\n",
       " UnionAll"
      ]
     },
     "execution_count": 72,
     "metadata": {},
     "output_type": "execute_result"
    }
   ],
   "source": [
    "subtypes(Type)"
   ]
  },
  {
   "cell_type": "markdown",
   "id": "61540e82-5179-43e4-9058-d0257b12fc25",
   "metadata": {},
   "source": [
    "#### コード4-72. `Type{T}` の性質確認"
   ]
  },
  {
   "cell_type": "code",
   "execution_count": 73,
   "id": "f7bd2cf6-aa5a-4bd7-9271-1e7a7424fad5",
   "metadata": {
    "ExecuteTime": {
     "end_time": "2023-01-27T14:16:00.510000+09:00",
     "start_time": "2023-01-27T05:15:54.427Z"
    }
   },
   "outputs": [
    {
     "data": {
      "text/plain": [
       "UnionAll"
      ]
     },
     "execution_count": 73,
     "metadata": {},
     "output_type": "execute_result"
    }
   ],
   "source": [
    "typeof(Type)"
   ]
  },
  {
   "cell_type": "code",
   "execution_count": 74,
   "id": "8fa8271b-cbdc-4c59-aa9e-6f5465b035df",
   "metadata": {
    "ExecuteTime": {
     "end_time": "2023-01-27T14:16:00.510000+09:00",
     "start_time": "2023-01-27T05:15:54.429Z"
    }
   },
   "outputs": [
    {
     "data": {
      "text/plain": [
       "DataType"
      ]
     },
     "execution_count": 74,
     "metadata": {},
     "output_type": "execute_result"
    }
   ],
   "source": [
    "typeof(Type{Int})"
   ]
  },
  {
   "cell_type": "code",
   "execution_count": 75,
   "id": "0a60122b-8eb7-4587-a11d-b8a10a3dfbd8",
   "metadata": {
    "ExecuteTime": {
     "end_time": "2023-01-27T14:16:00.511000+09:00",
     "start_time": "2023-01-27T05:15:54.431Z"
    }
   },
   "outputs": [
    {
     "data": {
      "text/plain": [
       "true"
      ]
     },
     "execution_count": 75,
     "metadata": {},
     "output_type": "execute_result"
    }
   ],
   "source": [
    "Int isa Type{Int}"
   ]
  },
  {
   "cell_type": "code",
   "execution_count": 76,
   "id": "6e7bddbe-749a-413b-94f2-6fef7d800ce6",
   "metadata": {
    "ExecuteTime": {
     "end_time": "2023-01-27T14:16:00.511000+09:00",
     "start_time": "2023-01-27T05:15:54.433Z"
    }
   },
   "outputs": [
    {
     "data": {
      "text/plain": [
       "false"
      ]
     },
     "execution_count": 76,
     "metadata": {},
     "output_type": "execute_result"
    }
   ],
   "source": [
    "Float64 isa Type{Int}"
   ]
  },
  {
   "cell_type": "code",
   "execution_count": 77,
   "id": "6aafe441-0f27-426e-8186-9f365d167fdc",
   "metadata": {
    "ExecuteTime": {
     "end_time": "2023-01-27T14:16:00.512000+09:00",
     "start_time": "2023-01-27T05:15:54.435Z"
    }
   },
   "outputs": [
    {
     "data": {
      "text/plain": [
       "false"
      ]
     },
     "execution_count": 77,
     "metadata": {},
     "output_type": "execute_result"
    }
   ],
   "source": [
    "Int isa Type{Integer}"
   ]
  },
  {
   "cell_type": "code",
   "execution_count": 78,
   "id": "8815ea28-5b4d-441f-9f12-3e21ed5993a7",
   "metadata": {
    "ExecuteTime": {
     "end_time": "2023-01-27T14:16:00.512000+09:00",
     "start_time": "2023-01-27T05:15:54.436Z"
    }
   },
   "outputs": [
    {
     "data": {
      "text/plain": [
       "false"
      ]
     },
     "execution_count": 78,
     "metadata": {},
     "output_type": "execute_result"
    }
   ],
   "source": [
    "typeof(Int) <: Type{Int}"
   ]
  },
  {
   "cell_type": "code",
   "execution_count": 79,
   "id": "a4da00bb-fa0f-45c0-83c2-a55810726285",
   "metadata": {
    "ExecuteTime": {
     "end_time": "2023-01-27T14:16:00.529000+09:00",
     "start_time": "2023-01-27T05:15:54.438Z"
    }
   },
   "outputs": [
    {
     "data": {
      "text/plain": [
       "true"
      ]
     },
     "execution_count": 79,
     "metadata": {},
     "output_type": "execute_result"
    }
   ],
   "source": [
    "all(T isa Type{T} for T in (Float64, String, typeof(1 + im), Any))"
   ]
  },
  {
   "cell_type": "code",
   "execution_count": 80,
   "id": "dd1bf6e6-66ff-4084-a9a9-760ed6f2da24",
   "metadata": {
    "ExecuteTime": {
     "end_time": "2023-01-27T14:16:00.543000+09:00",
     "start_time": "2023-01-27T05:15:54.440Z"
    }
   },
   "outputs": [
    {
     "data": {
      "text/plain": [
       "true"
      ]
     },
     "execution_count": 80,
     "metadata": {},
     "output_type": "execute_result"
    }
   ],
   "source": [
    "all(T isa Type{<:Real} for T in (Int, Float64, Signed, AbstractFloat))"
   ]
  },
  {
   "cell_type": "markdown",
   "id": "7d4215a2-81c8-4a6c-8b44-be0b48550597",
   "metadata": {},
   "source": [
    "### 4-6-6. 型エイリアス"
   ]
  },
  {
   "cell_type": "markdown",
   "id": "f0b013fc-1344-4748-8b46-4a04480352db",
   "metadata": {},
   "source": [
    "#### コード4-73. 型エイリアスの例"
   ]
  },
  {
   "cell_type": "code",
   "execution_count": 81,
   "id": "9273112b-3389-4e70-9ff1-7a7273915f60",
   "metadata": {
    "ExecuteTime": {
     "end_time": "2023-01-27T14:16:00.561000+09:00",
     "start_time": "2023-01-27T05:15:54.442Z"
    }
   },
   "outputs": [
    {
     "data": {
      "text/plain": [
       "ComplexF64\u001b[90m (alias for \u001b[39m\u001b[90mComplex{Float64}\u001b[39m\u001b[90m)\u001b[39m"
      ]
     },
     "execution_count": 81,
     "metadata": {},
     "output_type": "execute_result"
    }
   ],
   "source": [
    "typeof(1.0 + 1.0im)"
   ]
  },
  {
   "cell_type": "code",
   "execution_count": 82,
   "id": "a09ac773-1416-4d5a-a010-04b040268bf6",
   "metadata": {
    "ExecuteTime": {
     "end_time": "2023-01-27T14:16:00.593000+09:00",
     "start_time": "2023-01-27T05:15:54.443Z"
    }
   },
   "outputs": [
    {
     "data": {
      "text/plain": [
       "Matrix{Float64}\u001b[90m (alias for \u001b[39m\u001b[90mArray{Float64, 2}\u001b[39m\u001b[90m)\u001b[39m"
      ]
     },
     "execution_count": 82,
     "metadata": {},
     "output_type": "execute_result"
    }
   ],
   "source": [
    "typeof([1. 2.; 3. 4.])"
   ]
  },
  {
   "cell_type": "code",
   "execution_count": 83,
   "id": "981a357c-0c10-4484-a2b1-12258025bd83",
   "metadata": {
    "ExecuteTime": {
     "end_time": "2023-01-27T14:16:00.673000+09:00",
     "start_time": "2023-01-27T05:15:54.445Z"
    }
   },
   "outputs": [
    {
     "data": {
      "text/plain": [
       "Vector\u001b[90m (alias for \u001b[39m\u001b[90mArray{T, 1} where T\u001b[39m\u001b[90m)\u001b[39m"
      ]
     },
     "execution_count": 83,
     "metadata": {},
     "output_type": "execute_result"
    }
   ],
   "source": [
    "Vector"
   ]
  },
  {
   "cell_type": "markdown",
   "id": "8a1904ec-6379-4db6-bbff-a4dd6eaf882f",
   "metadata": {},
   "source": [
    "#### コード4-74. 型エイリアスの定義例"
   ]
  },
  {
   "cell_type": "code",
   "execution_count": 84,
   "id": "b4f49369-e4e6-4f96-aeba-2e9876056b7f",
   "metadata": {
    "ExecuteTime": {
     "end_time": "2023-01-27T14:16:00.674000+09:00",
     "start_time": "2023-01-27T05:15:54.447Z"
    }
   },
   "outputs": [],
   "source": [
    "struct ParametricSingleton{T} end"
   ]
  },
  {
   "cell_type": "code",
   "execution_count": 85,
   "id": "9d7f6aa2-15aa-4ea0-89f1-964e0723301d",
   "metadata": {
    "ExecuteTime": {
     "end_time": "2023-01-27T14:16:00.684000+09:00",
     "start_time": "2023-01-27T05:15:54.448Z"
    }
   },
   "outputs": [
    {
     "data": {
      "text/plain": [
       "IntParamSingleton\u001b[90m (alias for \u001b[39m\u001b[90mParametricSingleton{Int64}\u001b[39m\u001b[90m)\u001b[39m"
      ]
     },
     "execution_count": 85,
     "metadata": {},
     "output_type": "execute_result"
    }
   ],
   "source": [
    "const IntParamSingleton = ParametricSingleton{Int}"
   ]
  },
  {
   "cell_type": "code",
   "execution_count": 86,
   "id": "76b7f16e-57bd-4e03-aaa9-77eb08e1d2e8",
   "metadata": {
    "ExecuteTime": {
     "end_time": "2023-01-27T14:16:00.696000+09:00",
     "start_time": "2023-01-27T05:15:54.449Z"
    }
   },
   "outputs": [
    {
     "data": {
      "text/plain": [
       "IntegerParamSingleton\u001b[90m (alias for \u001b[39m\u001b[90mParametricSingleton{T} where T<:Integer\u001b[39m\u001b[90m)\u001b[39m"
      ]
     },
     "execution_count": 86,
     "metadata": {},
     "output_type": "execute_result"
    }
   ],
   "source": [
    "const IntegerParamSingleton{T<:Integer} = ParametricSingleton{T}"
   ]
  }
 ],
 "metadata": {
  "jupytext": {
   "formats": "ipynb,auto:light"
  },
  "kernelspec": {
   "display_name": "Julia 1.8.5",
   "language": "julia",
   "name": "julia-1.8"
  },
  "language_info": {
   "file_extension": ".jl",
   "mimetype": "application/julia",
   "name": "julia",
   "version": "1.8.5"
  }
 },
 "nbformat": 4,
 "nbformat_minor": 5
}
