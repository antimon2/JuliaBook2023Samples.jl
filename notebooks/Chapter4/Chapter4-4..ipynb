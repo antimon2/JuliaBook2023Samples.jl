{
 "cells": [
  {
   "cell_type": "code",
   "execution_count": 1,
   "id": "9aadd5dd-a6dd-42e9-8239-ddd618a18491",
   "metadata": {
    "ExecuteTime": {
     "end_time": "2023-01-27T14:12:16.909000+09:00",
     "start_time": "2023-01-27T05:12:15.130Z"
    }
   },
   "outputs": [
    {
     "name": "stdout",
     "output_type": "stream",
     "text": [
      "Julia Version 1.8.5\n",
      "Commit 17cfb8e65ea (2023-01-08 06:45 UTC)\n",
      "Platform Info:\n",
      "  OS: Linux (x86_64-linux-gnu)\n",
      "  CPU: 12 × Intel(R) Core(TM) i7-9750H CPU @ 2.60GHz\n",
      "  WORD_SIZE: 64\n",
      "  LIBM: libopenlibm\n",
      "  LLVM: libLLVM-13.0.1 (ORCJIT, skylake)\n",
      "  Threads: 1 on 12 virtual cores\n"
     ]
    }
   ],
   "source": [
    "versioninfo()"
   ]
  },
  {
   "cell_type": "markdown",
   "id": "d2a65337-e8a1-4f70-a853-95d8f0457488",
   "metadata": {},
   "source": [
    "## 4-4. 型制約"
   ]
  },
  {
   "cell_type": "markdown",
   "id": "195dd584-9942-4c64-b974-732a48581aca",
   "metadata": {},
   "source": [
    "### 4-4-1. 型制約とは"
   ]
  },
  {
   "cell_type": "markdown",
   "id": "f3c16550-280e-4dd3-b603-36c28a0cf7a3",
   "metadata": {},
   "source": [
    "#### コード4-36. `where ○○` の例 (1)：`LinearIndices` の基本型"
   ]
  },
  {
   "cell_type": "code",
   "execution_count": 2,
   "id": "2c07ed88-7323-4f65-9160-ead38b364747",
   "metadata": {
    "ExecuteTime": {
     "end_time": "2023-01-27T14:12:17.537000+09:00",
     "start_time": "2023-01-27T05:12:15.132Z"
    }
   },
   "outputs": [
    {
     "data": {
      "text/plain": [
       "AbstractArray{Int64}"
      ]
     },
     "execution_count": 2,
     "metadata": {},
     "output_type": "execute_result"
    }
   ],
   "source": [
    "supertype(LinearIndices)"
   ]
  },
  {
   "cell_type": "markdown",
   "id": "c17b6217-1b10-4035-93b2-7d797458c67f",
   "metadata": {},
   "source": [
    "#### コード4-37. `where ○○` の例 (2)：`Vector` 型"
   ]
  },
  {
   "cell_type": "code",
   "execution_count": 3,
   "id": "71a7b177-7661-4f60-a52d-9e9898c2deec",
   "metadata": {
    "ExecuteTime": {
     "end_time": "2023-01-27T14:12:17.550000+09:00",
     "start_time": "2023-01-27T05:12:15.134Z"
    }
   },
   "outputs": [
    {
     "data": {
      "text/plain": [
       "Vector\u001b[90m (alias for \u001b[39m\u001b[90mArray{T, 1} where T\u001b[39m\u001b[90m)\u001b[39m"
      ]
     },
     "execution_count": 3,
     "metadata": {},
     "output_type": "execute_result"
    }
   ],
   "source": [
    "Vector"
   ]
  },
  {
   "cell_type": "markdown",
   "id": "15cb7395-a858-4044-9050-c6e02e52f96d",
   "metadata": {},
   "source": [
    "#### コード4-38. `Complex` 型のヘルプ確認（再）"
   ]
  },
  {
   "cell_type": "code",
   "execution_count": 4,
   "id": "6de9ac81-8193-4830-96ea-44cac450a40b",
   "metadata": {
    "ExecuteTime": {
     "end_time": "2023-01-27T14:12:18.337000+09:00",
     "start_time": "2023-01-27T05:12:15.135Z"
    }
   },
   "outputs": [
    {
     "name": "stdout",
     "output_type": "stream",
     "text": [
      "search: \u001b[0m\u001b[1mC\u001b[22m\u001b[0m\u001b[1mo\u001b[22m\u001b[0m\u001b[1mm\u001b[22m\u001b[0m\u001b[1mp\u001b[22m\u001b[0m\u001b[1ml\u001b[22m\u001b[0m\u001b[1me\u001b[22m\u001b[0m\u001b[1mx\u001b[22m \u001b[0m\u001b[1mc\u001b[22m\u001b[0m\u001b[1mo\u001b[22m\u001b[0m\u001b[1mm\u001b[22m\u001b[0m\u001b[1mp\u001b[22m\u001b[0m\u001b[1ml\u001b[22m\u001b[0m\u001b[1me\u001b[22m\u001b[0m\u001b[1mx\u001b[22m \u001b[0m\u001b[1mC\u001b[22m\u001b[0m\u001b[1mo\u001b[22m\u001b[0m\u001b[1mm\u001b[22m\u001b[0m\u001b[1mp\u001b[22m\u001b[0m\u001b[1ml\u001b[22m\u001b[0m\u001b[1me\u001b[22m\u001b[0m\u001b[1mx\u001b[22mF64 \u001b[0m\u001b[1mC\u001b[22m\u001b[0m\u001b[1mo\u001b[22m\u001b[0m\u001b[1mm\u001b[22m\u001b[0m\u001b[1mp\u001b[22m\u001b[0m\u001b[1ml\u001b[22m\u001b[0m\u001b[1me\u001b[22m\u001b[0m\u001b[1mx\u001b[22mF32 \u001b[0m\u001b[1mC\u001b[22m\u001b[0m\u001b[1mo\u001b[22m\u001b[0m\u001b[1mm\u001b[22m\u001b[0m\u001b[1mp\u001b[22m\u001b[0m\u001b[1ml\u001b[22m\u001b[0m\u001b[1me\u001b[22m\u001b[0m\u001b[1mx\u001b[22mF16 pre\u001b[0m\u001b[1mc\u001b[22m\u001b[0m\u001b[1mo\u001b[22m\u001b[0m\u001b[1mm\u001b[22m\u001b[0m\u001b[1mp\u001b[22mi\u001b[0m\u001b[1ml\u001b[22m\u001b[0m\u001b[1me\u001b[22m\n",
      "\n"
     ]
    },
    {
     "data": {
      "text/latex": [
       "\\begin{verbatim}\n",
       "Complex{T<:Real} <: Number\n",
       "\\end{verbatim}\n",
       "Complex number type with real and imaginary part of type \\texttt{T}.\n",
       "\n",
       "\\texttt{ComplexF16}, \\texttt{ComplexF32} and \\texttt{ComplexF64} are aliases for \\texttt{Complex\\{Float16\\}}, \\texttt{Complex\\{Float32\\}} and \\texttt{Complex\\{Float64\\}} respectively.\n",
       "\n",
       "See also: \\href{@ref}{\\texttt{Real}}, \\href{@ref}{\\texttt{complex}}, \\href{@ref}{\\texttt{real}}.\n",
       "\n"
      ],
      "text/markdown": [
       "```\n",
       "Complex{T<:Real} <: Number\n",
       "```\n",
       "\n",
       "Complex number type with real and imaginary part of type `T`.\n",
       "\n",
       "`ComplexF16`, `ComplexF32` and `ComplexF64` are aliases for `Complex{Float16}`, `Complex{Float32}` and `Complex{Float64}` respectively.\n",
       "\n",
       "See also: [`Real`](@ref), [`complex`](@ref), [`real`](@ref).\n"
      ],
      "text/plain": [
       "\u001b[36m  Complex{T<:Real} <: Number\u001b[39m\n",
       "\n",
       "  Complex number type with real and imaginary part of type \u001b[36mT\u001b[39m.\n",
       "\n",
       "  \u001b[36mComplexF16\u001b[39m, \u001b[36mComplexF32\u001b[39m and \u001b[36mComplexF64\u001b[39m are aliases for \u001b[36mComplex{Float16}\u001b[39m,\n",
       "  \u001b[36mComplex{Float32}\u001b[39m and \u001b[36mComplex{Float64}\u001b[39m respectively.\n",
       "\n",
       "  See also: \u001b[36mReal\u001b[39m, \u001b[36mcomplex\u001b[39m, \u001b[36mreal\u001b[39m."
      ]
     },
     "execution_count": 4,
     "metadata": {},
     "output_type": "execute_result"
    }
   ],
   "source": [
    "?Complex"
   ]
  },
  {
   "cell_type": "markdown",
   "id": "01703f06-e8d8-4b97-8db2-6cddfc3ad0ae",
   "metadata": {},
   "source": [
    "#### コード4-39. 型制約とパラメトリックサブタイピング"
   ]
  },
  {
   "cell_type": "code",
   "execution_count": 5,
   "id": "8a586125-3aaa-4491-8bb4-6fa6539f125d",
   "metadata": {
    "ExecuteTime": {
     "end_time": "2023-01-27T14:12:18.503000+09:00",
     "start_time": "2023-01-27T05:12:15.136Z"
    }
   },
   "outputs": [
    {
     "data": {
      "text/plain": [
       "true"
      ]
     },
     "execution_count": 5,
     "metadata": {},
     "output_type": "execute_result"
    }
   ],
   "source": [
    "(Complex{T} where T<:Integer) <: Complex"
   ]
  },
  {
   "cell_type": "code",
   "execution_count": 6,
   "id": "e38613ed-5faf-4c1e-9172-4195ec902b94",
   "metadata": {
    "ExecuteTime": {
     "end_time": "2023-01-27T14:12:18.504000+09:00",
     "start_time": "2023-01-27T05:12:15.138Z"
    }
   },
   "outputs": [
    {
     "data": {
      "text/plain": [
       "true"
      ]
     },
     "execution_count": 6,
     "metadata": {},
     "output_type": "execute_result"
    }
   ],
   "source": [
    "(Array{T, 1} where T<:Integer) <: (Array{T, 1} where T)"
   ]
  },
  {
   "cell_type": "markdown",
   "id": "2f0affbb-22ed-4858-a1f7-e460be5e2548",
   "metadata": {},
   "source": [
    "#### コード4-40. 制約無しの型制約の例"
   ]
  },
  {
   "cell_type": "code",
   "execution_count": 7,
   "id": "41921e7a-977f-4bb6-b959-0a98382436db",
   "metadata": {
    "ExecuteTime": {
     "end_time": "2023-01-27T14:12:18.514000+09:00",
     "start_time": "2023-01-27T05:12:15.139Z"
    }
   },
   "outputs": [
    {
     "data": {
      "text/plain": [
       "Array"
      ]
     },
     "execution_count": 7,
     "metadata": {},
     "output_type": "execute_result"
    }
   ],
   "source": [
    "Array{T} where T"
   ]
  },
  {
   "cell_type": "code",
   "execution_count": 8,
   "id": "26a82a06-37af-4ba3-8314-a51a5efa987c",
   "metadata": {
    "ExecuteTime": {
     "end_time": "2023-01-27T14:12:18.515000+09:00",
     "start_time": "2023-01-27T05:12:15.140Z"
    }
   },
   "outputs": [
    {
     "data": {
      "text/plain": [
       "Array"
      ]
     },
     "execution_count": 8,
     "metadata": {},
     "output_type": "execute_result"
    }
   ],
   "source": [
    "Array{T, N} where {T, N}"
   ]
  },
  {
   "cell_type": "code",
   "execution_count": 9,
   "id": "88f6c770-3bed-4342-a0dd-9cc3ca1d3d73",
   "metadata": {
    "ExecuteTime": {
     "end_time": "2023-01-27T14:12:18.515000+09:00",
     "start_time": "2023-01-27T05:12:15.141Z"
    }
   },
   "outputs": [
    {
     "data": {
      "text/plain": [
       "Array"
      ]
     },
     "execution_count": 9,
     "metadata": {},
     "output_type": "execute_result"
    }
   ],
   "source": [
    "Array{T, N} where N where T"
   ]
  },
  {
   "cell_type": "code",
   "execution_count": 10,
   "id": "52a949a7-5787-4c11-9de6-0fd2812b3ff0",
   "metadata": {
    "ExecuteTime": {
     "end_time": "2023-01-27T14:12:18.528000+09:00",
     "start_time": "2023-01-27T05:12:15.143Z"
    }
   },
   "outputs": [
    {
     "data": {
      "text/plain": [
       "Array{Float64}"
      ]
     },
     "execution_count": 10,
     "metadata": {},
     "output_type": "execute_result"
    }
   ],
   "source": [
    "Array{Float64}"
   ]
  },
  {
   "cell_type": "code",
   "execution_count": 11,
   "id": "7093d3d7-3f14-43ee-ab3f-4fc723ab8b76",
   "metadata": {
    "ExecuteTime": {
     "end_time": "2023-01-27T14:12:18.530000+09:00",
     "start_time": "2023-01-27T05:12:15.144Z"
    }
   },
   "outputs": [
    {
     "data": {
      "text/plain": [
       "Vector\u001b[90m (alias for \u001b[39m\u001b[90mArray{T, 1} where T\u001b[39m\u001b[90m)\u001b[39m"
      ]
     },
     "execution_count": 11,
     "metadata": {},
     "output_type": "execute_result"
    }
   ],
   "source": [
    "Vector"
   ]
  },
  {
   "cell_type": "markdown",
   "id": "454708a2-ffc4-437c-b641-98b3a4ad434c",
   "metadata": {},
   "source": [
    "### 4-4-3. 型制約とサブタイピング"
   ]
  },
  {
   "cell_type": "markdown",
   "id": "1e99ed78-b453-45b1-9afd-57abf427cbfb",
   "metadata": {},
   "source": [
    "#### コード4-41. 上界の型制約の例 (1)"
   ]
  },
  {
   "cell_type": "code",
   "execution_count": 12,
   "id": "fb8de38d-f5af-45f7-84de-be99b271159b",
   "metadata": {
    "ExecuteTime": {
     "end_time": "2023-01-27T14:12:18.543000+09:00",
     "start_time": "2023-01-27T05:12:15.146Z"
    }
   },
   "outputs": [
    {
     "data": {
      "text/plain": [
       "Array{T} where T<:Real"
      ]
     },
     "execution_count": 12,
     "metadata": {},
     "output_type": "execute_result"
    }
   ],
   "source": [
    "Array{T} where T<:Real"
   ]
  },
  {
   "cell_type": "markdown",
   "id": "735beccd-8080-432d-bd15-f63fa04e37c7",
   "metadata": {},
   "source": [
    "#### コード4-42. 上界の型制約の例 (2)：性質の確認"
   ]
  },
  {
   "cell_type": "code",
   "execution_count": 13,
   "id": "a27f8e0e-4830-4101-9a7d-880146e9d158",
   "metadata": {
    "ExecuteTime": {
     "end_time": "2023-01-27T14:12:18.544000+09:00",
     "start_time": "2023-01-27T05:12:15.148Z"
    }
   },
   "outputs": [
    {
     "data": {
      "text/plain": [
       "false"
      ]
     },
     "execution_count": 13,
     "metadata": {},
     "output_type": "execute_result"
    }
   ],
   "source": [
    "isabstracttype(Array{T} where T<:Real)"
   ]
  },
  {
   "cell_type": "code",
   "execution_count": 14,
   "id": "d1bbe5ec-0c26-4d80-82ac-8695480e2147",
   "metadata": {
    "ExecuteTime": {
     "end_time": "2023-01-27T14:12:18.544000+09:00",
     "start_time": "2023-01-27T05:12:15.149Z"
    }
   },
   "outputs": [
    {
     "data": {
      "text/plain": [
       "false"
      ]
     },
     "execution_count": 14,
     "metadata": {},
     "output_type": "execute_result"
    }
   ],
   "source": [
    "isconcretetype(Array{T} where T<:Real)"
   ]
  },
  {
   "cell_type": "code",
   "execution_count": 15,
   "id": "b863d3b8-0c16-41ae-a8c7-02c0ba93294b",
   "metadata": {
    "ExecuteTime": {
     "end_time": "2023-01-27T14:12:18.618000+09:00",
     "start_time": "2023-01-27T05:12:15.151Z"
    }
   },
   "outputs": [
    {
     "data": {
      "text/plain": [
       "UnionAll"
      ]
     },
     "execution_count": 15,
     "metadata": {},
     "output_type": "execute_result"
    }
   ],
   "source": [
    "typeof(Array{T} where T<:Real)"
   ]
  },
  {
   "cell_type": "markdown",
   "id": "c5a3e582-5af8-4fc2-b920-f98a7c1e81b6",
   "metadata": {},
   "source": [
    "#### コード4-43. 上界の型制約の例 (3)：サブタイピング(1)"
   ]
  },
  {
   "cell_type": "code",
   "execution_count": 16,
   "id": "dbeb4152-670d-4ce2-95e6-16aeebd55983",
   "metadata": {
    "ExecuteTime": {
     "end_time": "2023-01-27T14:12:18.619000+09:00",
     "start_time": "2023-01-27T05:12:15.152Z"
    }
   },
   "outputs": [
    {
     "data": {
      "text/plain": [
       "true"
      ]
     },
     "execution_count": 16,
     "metadata": {},
     "output_type": "execute_result"
    }
   ],
   "source": [
    "(Array{T, 1} where T<:Real) <: (Array{T} where T<:Real)"
   ]
  },
  {
   "cell_type": "code",
   "execution_count": 17,
   "id": "37b7c04a-dbc3-4be6-ae2c-1ec294e6ae33",
   "metadata": {
    "ExecuteTime": {
     "end_time": "2023-01-27T14:12:18.620000+09:00",
     "start_time": "2023-01-27T05:12:15.153Z"
    }
   },
   "outputs": [
    {
     "data": {
      "text/plain": [
       "true"
      ]
     },
     "execution_count": 17,
     "metadata": {},
     "output_type": "execute_result"
    }
   ],
   "source": [
    "Array{Int} <: (Array{T} where T<:Real)"
   ]
  },
  {
   "cell_type": "code",
   "execution_count": 18,
   "id": "ac5df0e9-8185-4337-afbc-988b1f88bcbd",
   "metadata": {
    "ExecuteTime": {
     "end_time": "2023-01-27T14:12:18.620000+09:00",
     "start_time": "2023-01-27T05:12:15.154Z"
    }
   },
   "outputs": [
    {
     "data": {
      "text/plain": [
       "true"
      ]
     },
     "execution_count": 18,
     "metadata": {},
     "output_type": "execute_result"
    }
   ],
   "source": [
    "Array{Float64} <: (Array{T} where T<:Real)"
   ]
  },
  {
   "cell_type": "code",
   "execution_count": 19,
   "id": "1098a7ac-fbc1-4859-a08c-dc6d831a6d01",
   "metadata": {
    "ExecuteTime": {
     "end_time": "2023-01-27T14:12:18.621000+09:00",
     "start_time": "2023-01-27T05:12:15.155Z"
    }
   },
   "outputs": [
    {
     "data": {
      "text/plain": [
       "true"
      ]
     },
     "execution_count": 19,
     "metadata": {},
     "output_type": "execute_result"
    }
   ],
   "source": [
    "[1, 2, 3] isa (Array{T} where T<:Real)"
   ]
  },
  {
   "cell_type": "code",
   "execution_count": 20,
   "id": "869fd980-570f-474d-8025-520d8fd143f9",
   "metadata": {
    "ExecuteTime": {
     "end_time": "2023-01-27T14:12:18.672000+09:00",
     "start_time": "2023-01-27T05:12:15.156Z"
    }
   },
   "outputs": [
    {
     "data": {
      "text/plain": [
       "true"
      ]
     },
     "execution_count": 20,
     "metadata": {},
     "output_type": "execute_result"
    }
   ],
   "source": [
    "[1, 2.3, 4//5] isa (Array{T} where T<:Real)"
   ]
  },
  {
   "cell_type": "code",
   "execution_count": 21,
   "id": "53cf1fd7-0f7d-46b5-b585-5742c4743dba",
   "metadata": {
    "ExecuteTime": {
     "end_time": "2023-01-27T14:12:18.709000+09:00",
     "start_time": "2023-01-27T05:12:15.157Z"
    }
   },
   "outputs": [
    {
     "data": {
      "text/plain": [
       "false"
      ]
     },
     "execution_count": 21,
     "metadata": {},
     "output_type": "execute_result"
    }
   ],
   "source": [
    "[1+im, 2, 3] isa (Array{T} where T<:Real)"
   ]
  },
  {
   "cell_type": "markdown",
   "id": "4bfacf27-b00b-4da6-9a55-06548d8c59d4",
   "metadata": {},
   "source": [
    "#### コード4-44. 下界・上下界の型制約の例（サブタイピング）"
   ]
  },
  {
   "cell_type": "code",
   "execution_count": 22,
   "id": "e4c461b4-f8eb-47cb-a3aa-ff73a1703db5",
   "metadata": {
    "ExecuteTime": {
     "end_time": "2023-01-27T14:12:18.710000+09:00",
     "start_time": "2023-01-27T05:12:15.159Z"
    }
   },
   "outputs": [
    {
     "data": {
      "text/plain": [
       "true"
      ]
     },
     "execution_count": 22,
     "metadata": {},
     "output_type": "execute_result"
    }
   ],
   "source": [
    "(Array{T} where T>:Int) <: Array"
   ]
  },
  {
   "cell_type": "code",
   "execution_count": 23,
   "id": "78178564-5b7a-4793-b411-770fbc155645",
   "metadata": {
    "ExecuteTime": {
     "end_time": "2023-01-27T14:12:18.710000+09:00",
     "start_time": "2023-01-27T05:12:15.160Z"
    }
   },
   "outputs": [
    {
     "data": {
      "text/plain": [
       "true"
      ]
     },
     "execution_count": 23,
     "metadata": {},
     "output_type": "execute_result"
    }
   ],
   "source": [
    "(Array{T, 1} where T>:Int) <: (Array{T} where T>:Int)"
   ]
  },
  {
   "cell_type": "code",
   "execution_count": 24,
   "id": "477af0c4-c831-46a4-a19e-146805ab6278",
   "metadata": {
    "ExecuteTime": {
     "end_time": "2023-01-27T14:12:18.711000+09:00",
     "start_time": "2023-01-27T05:12:15.162Z"
    }
   },
   "outputs": [
    {
     "data": {
      "text/plain": [
       "true"
      ]
     },
     "execution_count": 24,
     "metadata": {},
     "output_type": "execute_result"
    }
   ],
   "source": [
    "Array{Int} <: (Array{T} where T>:Int)"
   ]
  },
  {
   "cell_type": "code",
   "execution_count": 25,
   "id": "41badd41-6e34-4be9-873c-04b9ebe35111",
   "metadata": {
    "ExecuteTime": {
     "end_time": "2023-01-27T14:12:18.711000+09:00",
     "start_time": "2023-01-27T05:12:15.163Z"
    }
   },
   "outputs": [
    {
     "data": {
      "text/plain": [
       "true"
      ]
     },
     "execution_count": 25,
     "metadata": {},
     "output_type": "execute_result"
    }
   ],
   "source": [
    "Array{Real} <: (Array{T} where T>:Int)"
   ]
  },
  {
   "cell_type": "code",
   "execution_count": 26,
   "id": "cf9049e9-03ff-461d-ae24-969e59326514",
   "metadata": {
    "ExecuteTime": {
     "end_time": "2023-01-27T14:12:18.712000+09:00",
     "start_time": "2023-01-27T05:12:15.165Z"
    }
   },
   "outputs": [
    {
     "data": {
      "text/plain": [
       "true"
      ]
     },
     "execution_count": 26,
     "metadata": {},
     "output_type": "execute_result"
    }
   ],
   "source": [
    "Array{Real} <: (Array{T} where T>:Float64)"
   ]
  },
  {
   "cell_type": "code",
   "execution_count": 27,
   "id": "c993c151-6149-4024-8ef2-5f6be6e680f8",
   "metadata": {
    "ExecuteTime": {
     "end_time": "2023-01-27T14:12:18.713000+09:00",
     "start_time": "2023-01-27T05:12:15.166Z"
    }
   },
   "outputs": [
    {
     "data": {
      "text/plain": [
       "true"
      ]
     },
     "execution_count": 27,
     "metadata": {},
     "output_type": "execute_result"
    }
   ],
   "source": [
    "(Array{T} where Int<:T<:Number) <: Array"
   ]
  },
  {
   "cell_type": "code",
   "execution_count": 28,
   "id": "8772c8b6-5925-40ca-834a-87fda17b36e6",
   "metadata": {
    "ExecuteTime": {
     "end_time": "2023-01-27T14:12:18.714000+09:00",
     "start_time": "2023-01-27T05:12:15.167Z"
    }
   },
   "outputs": [
    {
     "data": {
      "text/plain": [
       "true"
      ]
     },
     "execution_count": 28,
     "metadata": {},
     "output_type": "execute_result"
    }
   ],
   "source": [
    "(Array{T, 1} where Int<:T<:Number) <: (Array{T} where Int<:T<:Number)"
   ]
  },
  {
   "cell_type": "code",
   "execution_count": 29,
   "id": "d4f03d8a-dea9-40d9-8a2a-a5617840a19b",
   "metadata": {
    "ExecuteTime": {
     "end_time": "2023-01-27T14:12:18.714000+09:00",
     "start_time": "2023-01-27T05:12:15.169Z"
    }
   },
   "outputs": [
    {
     "data": {
      "text/plain": [
       "true"
      ]
     },
     "execution_count": 29,
     "metadata": {},
     "output_type": "execute_result"
    }
   ],
   "source": [
    "Array{Int} <: (Array{T} where Int<:T<:Number)"
   ]
  },
  {
   "cell_type": "code",
   "execution_count": 30,
   "id": "85d3153a-e8b5-4e4c-b0c9-2695d9be285b",
   "metadata": {
    "ExecuteTime": {
     "end_time": "2023-01-27T14:12:18.715000+09:00",
     "start_time": "2023-01-27T05:12:15.170Z"
    }
   },
   "outputs": [
    {
     "data": {
      "text/plain": [
       "true"
      ]
     },
     "execution_count": 30,
     "metadata": {},
     "output_type": "execute_result"
    }
   ],
   "source": [
    "Array{Real} <: (Array{T} where Int<:T<:Number)"
   ]
  },
  {
   "cell_type": "code",
   "execution_count": 31,
   "id": "0ad54dd2-428a-43ab-bef4-b973a4c2a381",
   "metadata": {
    "ExecuteTime": {
     "end_time": "2023-01-27T14:12:18.716000+09:00",
     "start_time": "2023-01-27T05:12:15.171Z"
    }
   },
   "outputs": [
    {
     "data": {
      "text/plain": [
       "true"
      ]
     },
     "execution_count": 31,
     "metadata": {},
     "output_type": "execute_result"
    }
   ],
   "source": [
    "(Array{T, 1} where Int<:T<:Number) <: (Array{T} where T<:Number)"
   ]
  },
  {
   "cell_type": "markdown",
   "id": "9fc4566c-9d78-4e55-97b9-bc343288dac1",
   "metadata": {},
   "source": [
    "#### コード4-45. 上界と下界の型制約の例（型変数の省略）"
   ]
  },
  {
   "cell_type": "code",
   "execution_count": 32,
   "id": "aa853812-5908-4fdc-8320-45f0ab78b378",
   "metadata": {
    "ExecuteTime": {
     "end_time": "2023-01-27T14:12:18.716000+09:00",
     "start_time": "2023-01-27T05:12:15.172Z"
    }
   },
   "outputs": [
    {
     "data": {
      "text/plain": [
       "true"
      ]
     },
     "execution_count": 32,
     "metadata": {},
     "output_type": "execute_result"
    }
   ],
   "source": [
    "Complex{<:Integer} == (Complex{T} where T<:Integer)"
   ]
  },
  {
   "cell_type": "code",
   "execution_count": 33,
   "id": "d24b7f99-d059-49d4-8488-ea3ae0a6aa7c",
   "metadata": {
    "ExecuteTime": {
     "end_time": "2023-01-27T14:12:18.717000+09:00",
     "start_time": "2023-01-27T05:12:15.174Z"
    }
   },
   "outputs": [
    {
     "data": {
      "text/plain": [
       "true"
      ]
     },
     "execution_count": 33,
     "metadata": {},
     "output_type": "execute_result"
    }
   ],
   "source": [
    "Complex{>:Int} == (Complex{T} where T>:Int)"
   ]
  },
  {
   "cell_type": "code",
   "execution_count": 34,
   "id": "07c53b37-2fc7-44cb-81a5-b689a59ad891",
   "metadata": {
    "ExecuteTime": {
     "end_time": "2023-01-27T14:12:18.718000+09:00",
     "start_time": "2023-01-27T05:12:15.175Z"
    }
   },
   "outputs": [
    {
     "data": {
      "text/plain": [
       "true"
      ]
     },
     "execution_count": 34,
     "metadata": {},
     "output_type": "execute_result"
    }
   ],
   "source": [
    "Complex{Int} <: Complex{<:Integer}"
   ]
  },
  {
   "cell_type": "code",
   "execution_count": 35,
   "id": "1e349ef7-b5d2-4f62-a142-81b3503890a5",
   "metadata": {
    "ExecuteTime": {
     "end_time": "2023-01-27T14:12:18.718000+09:00",
     "start_time": "2023-01-27T05:12:15.176Z"
    }
   },
   "outputs": [
    {
     "data": {
      "text/plain": [
       "true"
      ]
     },
     "execution_count": 35,
     "metadata": {},
     "output_type": "execute_result"
    }
   ],
   "source": [
    "Complex{Int} <: Complex{>:Int}"
   ]
  },
  {
   "cell_type": "code",
   "execution_count": 36,
   "id": "86f983d6-f515-43d4-8496-407395d60138",
   "metadata": {
    "ExecuteTime": {
     "end_time": "2023-01-27T14:12:18.719000+09:00",
     "start_time": "2023-01-27T05:12:15.177Z"
    }
   },
   "outputs": [
    {
     "data": {
      "text/plain": [
       "true"
      ]
     },
     "execution_count": 36,
     "metadata": {},
     "output_type": "execute_result"
    }
   ],
   "source": [
    "1 + im isa Complex{<:Integer}"
   ]
  },
  {
   "cell_type": "code",
   "execution_count": 37,
   "id": "b990d241-6bcc-48b4-873a-7f52bc70bdfc",
   "metadata": {
    "ExecuteTime": {
     "end_time": "2023-01-27T14:12:18.720000+09:00",
     "start_time": "2023-01-27T05:12:15.178Z"
    }
   },
   "outputs": [
    {
     "data": {
      "text/plain": [
       "true"
      ]
     },
     "execution_count": 37,
     "metadata": {},
     "output_type": "execute_result"
    }
   ],
   "source": [
    "1 + im isa Complex{>:Int}"
   ]
  }
 ],
 "metadata": {
  "jupytext": {
   "formats": "ipynb,auto:light"
  },
  "kernelspec": {
   "display_name": "Julia 1.8.5",
   "language": "julia",
   "name": "julia-1.8"
  },
  "language_info": {
   "file_extension": ".jl",
   "mimetype": "application/julia",
   "name": "julia",
   "version": "1.8.5"
  }
 },
 "nbformat": 4,
 "nbformat_minor": 5
}
