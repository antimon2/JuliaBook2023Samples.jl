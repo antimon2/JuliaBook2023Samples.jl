{
 "cells": [
  {
   "cell_type": "code",
   "execution_count": 1,
   "id": "aeaf26fe",
   "metadata": {
    "ExecuteTime": {
     "end_time": "2023-01-27T14:34:28.985000+09:00",
     "start_time": "2023-01-27T05:34:28.421Z"
    }
   },
   "outputs": [
    {
     "name": "stdout",
     "output_type": "stream",
     "text": [
      "Julia Version 1.8.5\n",
      "Commit 17cfb8e65ea (2023-01-08 06:45 UTC)\n",
      "Platform Info:\n",
      "  OS: Linux (x86_64-linux-gnu)\n",
      "  CPU: 12 × Intel(R) Core(TM) i7-9750H CPU @ 2.60GHz\n",
      "  WORD_SIZE: 64\n",
      "  LIBM: libopenlibm\n",
      "  LLVM: libLLVM-13.0.1 (ORCJIT, skylake)\n",
      "  Threads: 1 on 12 virtual cores\n"
     ]
    }
   ],
   "source": [
    "versioninfo()"
   ]
  },
  {
   "cell_type": "markdown",
   "id": "9b967096",
   "metadata": {},
   "source": [
    "## 5-7. その他の実用例"
   ]
  },
  {
   "cell_type": "markdown",
   "id": "0fc93687",
   "metadata": {},
   "source": [
    "### 5-7-1. `sort()` のアルゴリズム指定"
   ]
  },
  {
   "cell_type": "markdown",
   "id": "ce063e36",
   "metadata": {},
   "source": [
    "#### コード5-49.\tソートアルゴリズムの実装例（バイトニックソート）"
   ]
  },
  {
   "cell_type": "code",
   "execution_count": 2,
   "id": "8bc4b23d",
   "metadata": {
    "ExecuteTime": {
     "end_time": "2023-01-27T14:34:29.419000+09:00",
     "start_time": "2023-01-27T05:34:28.423Z"
    }
   },
   "outputs": [
    {
     "data": {
      "text/plain": [
       "Main.BitonicSorterST"
      ]
     },
     "execution_count": 2,
     "metadata": {},
     "output_type": "execute_result"
    }
   ],
   "source": [
    "module BitonicSorterST\n",
    "\n",
    "# ref: https://en.wikipedia.org/wiki/Bitonic_sorter\n",
    "\n",
    "export BitonicSort\n",
    "\n",
    "using Base.Order: Ordering, lt\n",
    "\n",
    "struct BitonicSortAlg <: Base.Sort.Algorithm end\n",
    "const BitonicSort = BitonicSortAlg()\n",
    "\n",
    "function Base.sort!(x::AbstractVector, lo::Integer, hi::Integer, ::BitonicSortAlg, o::Ordering)\n",
    "    lo ≥ hi && return x\n",
    "\n",
    "    fullsize::Int = hi - lo\n",
    "    d = sizeof(Int) * 8 - leading_zeros(fullsize - 1)  # == ceil(Int, log(2, fullsize))\n",
    "\n",
    "    for p = 1:d, q = 1:p\n",
    "        _sort_kernel!(x, lo, hi, p, q, o)\n",
    "    end\n",
    "    return x\n",
    "end\n",
    "\n",
    "function _sort_kernel!(x::AbstractVector, lo, hi, p, q, o)\n",
    "    # @assert p ≥ q\n",
    "    halfsize_1 = Int(hi - lo) >> 0x01\n",
    "    d = 1 << UInt(p - q)\n",
    "    for s = 0:halfsize_1\n",
    "        ioff = s & (d - 1)\n",
    "        seg = lo + (s ⊻ ioff) << 0x01\n",
    "        joff = q == 1 ? (2d - ioff - 1) : ioff + d\n",
    "        i = seg + ioff\n",
    "        j = seg + joff\n",
    "        if !lt(o, x[i], x[j])\n",
    "            x[i], x[j] = x[j], x[i]\n",
    "        end\n",
    "    end\n",
    "end\n",
    "\n",
    "end # module"
   ]
  },
  {
   "cell_type": "markdown",
   "id": "9b66ca37",
   "metadata": {},
   "source": [
    "#### コード5-50.\t`BitonicSort` の動作例"
   ]
  },
  {
   "cell_type": "code",
   "execution_count": 3,
   "id": "89be435a",
   "metadata": {
    "ExecuteTime": {
     "end_time": "2023-01-27T14:34:29.420000+09:00",
     "start_time": "2023-01-27T05:34:28.425Z"
    }
   },
   "outputs": [],
   "source": [
    "using .BitonicSorterST"
   ]
  },
  {
   "cell_type": "code",
   "execution_count": 4,
   "id": "d79f37f6",
   "metadata": {
    "ExecuteTime": {
     "end_time": "2023-01-27T14:34:29.420000+09:00",
     "start_time": "2023-01-27T05:34:28.426Z"
    }
   },
   "outputs": [],
   "source": [
    "x_org = [10, 30, 11, 20, 4, 330, 21, 110];"
   ]
  },
  {
   "cell_type": "code",
   "execution_count": 5,
   "id": "eeb76962",
   "metadata": {
    "ExecuteTime": {
     "end_time": "2023-01-27T14:34:30.243000+09:00",
     "start_time": "2023-01-27T05:34:28.428Z"
    }
   },
   "outputs": [
    {
     "data": {
      "text/plain": [
       "8-element Vector{Int64}:\n",
       "   4\n",
       "  10\n",
       "  11\n",
       "  20\n",
       "  21\n",
       "  30\n",
       " 110\n",
       " 330"
      ]
     },
     "execution_count": 5,
     "metadata": {},
     "output_type": "execute_result"
    }
   ],
   "source": [
    "sort(x_org)  # デフォルトのソートアルゴリズムでソート"
   ]
  },
  {
   "cell_type": "code",
   "execution_count": 6,
   "id": "a40ca1a8",
   "metadata": {
    "ExecuteTime": {
     "end_time": "2023-01-27T14:34:30.302000+09:00",
     "start_time": "2023-01-27T05:34:28.429Z"
    }
   },
   "outputs": [
    {
     "data": {
      "text/plain": [
       "8-element Vector{Int64}:\n",
       "   4\n",
       "  10\n",
       "  11\n",
       "  20\n",
       "  21\n",
       "  30\n",
       " 110\n",
       " 330"
      ]
     },
     "execution_count": 6,
     "metadata": {},
     "output_type": "execute_result"
    }
   ],
   "source": [
    "sort(x_org; alg=BitonicSort)  # BitonicSortでソート"
   ]
  },
  {
   "cell_type": "code",
   "execution_count": 7,
   "id": "81839cbb",
   "metadata": {
    "ExecuteTime": {
     "end_time": "2023-01-27T14:34:30.338000+09:00",
     "start_time": "2023-01-27T05:34:28.431Z"
    }
   },
   "outputs": [
    {
     "data": {
      "text/plain": [
       "8-element Vector{Int64}:\n",
       " 330\n",
       " 110\n",
       "  30\n",
       "  21\n",
       "  20\n",
       "  11\n",
       "  10\n",
       "   4"
      ]
     },
     "execution_count": 7,
     "metadata": {},
     "output_type": "execute_result"
    }
   ],
   "source": [
    "sort(x_org; alg=BitonicSort, lt=(>))  # BitonicSortで逆順ソート"
   ]
  },
  {
   "cell_type": "code",
   "execution_count": 8,
   "id": "42d7e0f4",
   "metadata": {
    "ExecuteTime": {
     "end_time": "2023-01-27T14:34:30.339000+09:00",
     "start_time": "2023-01-27T05:34:28.432Z"
    }
   },
   "outputs": [],
   "source": [
    "strs_org = [\"Julia\", \"is\", \"fast\", \"dynamiccaly\", \"typed\", \"with\", \"multiple\", \"dispatch\"];"
   ]
  },
  {
   "cell_type": "code",
   "execution_count": 9,
   "id": "063e919a",
   "metadata": {
    "ExecuteTime": {
     "end_time": "2023-01-27T14:34:30.858000+09:00",
     "start_time": "2023-01-27T05:34:28.434Z"
    }
   },
   "outputs": [
    {
     "data": {
      "text/plain": [
       "8-element Vector{String}:\n",
       " \"Julia\"\n",
       " \"dispatch\"\n",
       " \"dynamiccaly\"\n",
       " \"fast\"\n",
       " \"is\"\n",
       " \"multiple\"\n",
       " \"typed\"\n",
       " \"with\""
      ]
     },
     "execution_count": 9,
     "metadata": {},
     "output_type": "execute_result"
    }
   ],
   "source": [
    "sort(strs_org; alg=BitonicSort)"
   ]
  },
  {
   "cell_type": "code",
   "execution_count": 10,
   "id": "a6ab9e41",
   "metadata": {
    "ExecuteTime": {
     "end_time": "2023-01-27T14:34:31.013000+09:00",
     "start_time": "2023-01-27T05:34:28.435Z"
    }
   },
   "outputs": [],
   "source": [
    "check_sorted = sort!(rand(Float64, 2^16); alg=BitonicSort);"
   ]
  },
  {
   "cell_type": "code",
   "execution_count": 11,
   "id": "4c366323",
   "metadata": {
    "ExecuteTime": {
     "end_time": "2023-01-27T14:34:31.183000+09:00",
     "start_time": "2023-01-27T05:34:28.436Z"
    }
   },
   "outputs": [
    {
     "data": {
      "text/plain": [
       "true"
      ]
     },
     "execution_count": 11,
     "metadata": {},
     "output_type": "execute_result"
    }
   ],
   "source": [
    "issorted(check_sorted)"
   ]
  },
  {
   "cell_type": "markdown",
   "id": "b498e904",
   "metadata": {},
   "source": [
    "### 5-7-2. `Val{N}` によるディスパッチ"
   ]
  },
  {
   "cell_type": "markdown",
   "id": "3d5f9142",
   "metadata": {},
   "source": [
    "#### 仮想コード5-4. `ntuple(f, Val{N})` の実装例"
   ]
  },
  {
   "cell_type": "markdown",
   "id": "a10fa912",
   "metadata": {},
   "source": [
    "```julia\n",
    "# ntuple の実装例（抜粋、一部改変）\n",
    "ntuple(f, ::Val{0}) = ()\n",
    "ntuple(f, ::Val{1}) = (f(1),)\n",
    "ntuple(f, ::Val{2}) = (f(1), f(2))\n",
    "ntuple(f, ::Val{3}) = (f(1), f(2), f(3))\n",
    "function ntuple(f::F, ::Val{N}) where {F,N}\n",
    "    N::Int\n",
    "    (N >= 0) || throw(ArgumentError(string(\"tuple length should be ≥ 0, got \", N)))\n",
    "    ((f(i) for i = 1:N)...,)\n",
    "end\n",
    "```"
   ]
  },
  {
   "cell_type": "markdown",
   "id": "695efa5b",
   "metadata": {},
   "source": [
    "#### コード5-51. 色々な国の挨拶を返す関数 `hello()` の例"
   ]
  },
  {
   "cell_type": "code",
   "execution_count": 12,
   "id": "fd838b97",
   "metadata": {
    "ExecuteTime": {
     "end_time": "2023-01-27T14:34:31.347000+09:00",
     "start_time": "2023-01-27T05:34:28.438Z"
    }
   },
   "outputs": [
    {
     "data": {
      "text/plain": [
       "hello (generic function with 2 methods)"
      ]
     },
     "execution_count": 12,
     "metadata": {},
     "output_type": "execute_result"
    }
   ],
   "source": [
    "hello(lang::Symbol = :en) = hello(Val(lang))"
   ]
  },
  {
   "cell_type": "code",
   "execution_count": 13,
   "id": "f6ad899a",
   "metadata": {
    "ExecuteTime": {
     "end_time": "2023-01-27T14:34:31.349000+09:00",
     "start_time": "2023-01-27T05:34:28.439Z"
    }
   },
   "outputs": [
    {
     "data": {
      "text/plain": [
       "hello (generic function with 3 methods)"
      ]
     },
     "execution_count": 13,
     "metadata": {},
     "output_type": "execute_result"
    }
   ],
   "source": [
    "hello(::Val{:en}) = println(\"Hello!\")"
   ]
  },
  {
   "cell_type": "code",
   "execution_count": 14,
   "id": "743ed871",
   "metadata": {
    "ExecuteTime": {
     "end_time": "2023-01-27T14:34:31.350000+09:00",
     "start_time": "2023-01-27T05:34:28.440Z"
    }
   },
   "outputs": [
    {
     "data": {
      "text/plain": [
       "hello (generic function with 4 methods)"
      ]
     },
     "execution_count": 14,
     "metadata": {},
     "output_type": "execute_result"
    }
   ],
   "source": [
    "hello(::Val{:ja}) = println(\"こんにちは！\")"
   ]
  },
  {
   "cell_type": "code",
   "execution_count": 15,
   "id": "274d2f61",
   "metadata": {
    "ExecuteTime": {
     "end_time": "2023-01-27T14:34:31.350000+09:00",
     "start_time": "2023-01-27T05:34:28.441Z"
    }
   },
   "outputs": [
    {
     "data": {
      "text/plain": [
       "hello (generic function with 5 methods)"
      ]
     },
     "execution_count": 15,
     "metadata": {},
     "output_type": "execute_result"
    }
   ],
   "source": [
    "hello(::Val{:zh}) = println(\"你好!\")"
   ]
  },
  {
   "cell_type": "code",
   "execution_count": 16,
   "id": "635a11cd",
   "metadata": {
    "ExecuteTime": {
     "end_time": "2023-01-27T14:34:31.351000+09:00",
     "start_time": "2023-01-27T05:34:28.442Z"
    }
   },
   "outputs": [
    {
     "data": {
      "text/plain": [
       "hello (generic function with 6 methods)"
      ]
     },
     "execution_count": 16,
     "metadata": {},
     "output_type": "execute_result"
    }
   ],
   "source": [
    "hello(::Val{:ko}) = println(\"안녕하세요!\")"
   ]
  },
  {
   "cell_type": "code",
   "execution_count": 17,
   "id": "dabe91f2",
   "metadata": {
    "ExecuteTime": {
     "end_time": "2023-01-27T14:34:31.352000+09:00",
     "start_time": "2023-01-27T05:34:28.444Z"
    }
   },
   "outputs": [
    {
     "data": {
      "text/plain": [
       "hello (generic function with 7 methods)"
      ]
     },
     "execution_count": 17,
     "metadata": {},
     "output_type": "execute_result"
    }
   ],
   "source": [
    "hello(::Val{:fr}) = println(\"Bonjour!\")"
   ]
  },
  {
   "cell_type": "code",
   "execution_count": 18,
   "id": "77397849",
   "metadata": {
    "ExecuteTime": {
     "end_time": "2023-01-27T14:34:31.352000+09:00",
     "start_time": "2023-01-27T05:34:28.446Z"
    }
   },
   "outputs": [
    {
     "data": {
      "text/plain": [
       "hello (generic function with 8 methods)"
      ]
     },
     "execution_count": 18,
     "metadata": {},
     "output_type": "execute_result"
    }
   ],
   "source": [
    "hello(::Val{:it}) = println(\"Ciao!\")"
   ]
  },
  {
   "cell_type": "code",
   "execution_count": 19,
   "id": "3ef0c1c2",
   "metadata": {
    "ExecuteTime": {
     "end_time": "2023-01-27T14:34:31.353000+09:00",
     "start_time": "2023-01-27T05:34:28.447Z"
    }
   },
   "outputs": [
    {
     "data": {
      "text/plain": [
       "hello (generic function with 9 methods)"
      ]
     },
     "execution_count": 19,
     "metadata": {},
     "output_type": "execute_result"
    }
   ],
   "source": [
    "hello(::Val{:po}) = println(\"Olá!\")"
   ]
  },
  {
   "cell_type": "code",
   "execution_count": 20,
   "id": "b4d5f004",
   "metadata": {
    "ExecuteTime": {
     "end_time": "2023-01-27T14:34:31.354000+09:00",
     "start_time": "2023-01-27T05:34:28.448Z"
    }
   },
   "outputs": [
    {
     "data": {
      "text/plain": [
       "hello (generic function with 10 methods)"
      ]
     },
     "execution_count": 20,
     "metadata": {},
     "output_type": "execute_result"
    }
   ],
   "source": [
    "function hello(::Val{lang}) where {lang}\n",
    "    println(\"Sorry but I'm not familiar with your language ($lang).\")\n",
    "    println(\"Tell me the greeting of your native.\")\n",
    "end"
   ]
  },
  {
   "cell_type": "code",
   "execution_count": 21,
   "id": "156138a8",
   "metadata": {
    "ExecuteTime": {
     "end_time": "2023-01-27T14:34:31.361000+09:00",
     "start_time": "2023-01-27T05:34:28.450Z"
    }
   },
   "outputs": [
    {
     "name": "stdout",
     "output_type": "stream",
     "text": [
      "Hello!\n"
     ]
    }
   ],
   "source": [
    "hello()"
   ]
  },
  {
   "cell_type": "code",
   "execution_count": 22,
   "id": "0dca5db9",
   "metadata": {
    "ExecuteTime": {
     "end_time": "2023-01-27T14:34:31.366000+09:00",
     "start_time": "2023-01-27T05:34:28.451Z"
    }
   },
   "outputs": [
    {
     "name": "stdout",
     "output_type": "stream",
     "text": [
      "こんにちは！\n"
     ]
    }
   ],
   "source": [
    "hello(:ja)"
   ]
  },
  {
   "cell_type": "code",
   "execution_count": 23,
   "id": "cd663127",
   "metadata": {
    "ExecuteTime": {
     "end_time": "2023-01-27T14:34:31.368000+09:00",
     "start_time": "2023-01-27T05:34:28.452Z"
    }
   },
   "outputs": [
    {
     "name": "stdout",
     "output_type": "stream",
     "text": [
      "Ciao!\n"
     ]
    }
   ],
   "source": [
    "hello(:it)"
   ]
  },
  {
   "cell_type": "code",
   "execution_count": 24,
   "id": "097765e0",
   "metadata": {
    "ExecuteTime": {
     "end_time": "2023-01-27T14:34:31.373000+09:00",
     "start_time": "2023-01-27T05:34:28.453Z"
    }
   },
   "outputs": [
    {
     "name": "stdout",
     "output_type": "stream",
     "text": [
      "Sorry but I'm not familiar with your language (th).\n",
      "Tell me the greeting of your native.\n"
     ]
    }
   ],
   "source": [
    "hello(:th)"
   ]
  },
  {
   "cell_type": "code",
   "execution_count": 25,
   "id": "5216d399",
   "metadata": {
    "ExecuteTime": {
     "end_time": "2023-01-27T14:34:31.374000+09:00",
     "start_time": "2023-01-27T05:34:28.454Z"
    }
   },
   "outputs": [
    {
     "data": {
      "text/plain": [
       "hello (generic function with 11 methods)"
      ]
     },
     "execution_count": 25,
     "metadata": {},
     "output_type": "execute_result"
    }
   ],
   "source": [
    "hello(::Val{:th}) = println(\"สวัสดี!\")"
   ]
  },
  {
   "cell_type": "code",
   "execution_count": 26,
   "id": "d6f4a057",
   "metadata": {
    "ExecuteTime": {
     "end_time": "2023-01-27T14:34:31.376000+09:00",
     "start_time": "2023-01-27T05:34:28.455Z"
    }
   },
   "outputs": [
    {
     "name": "stdout",
     "output_type": "stream",
     "text": [
      "สวัสดี!\n"
     ]
    }
   ],
   "source": [
    "hello(:th)"
   ]
  }
 ],
 "metadata": {
  "jupytext": {
   "formats": "ipynb,auto:light"
  },
  "kernelspec": {
   "display_name": "Julia 1.8.5",
   "language": "julia",
   "name": "julia-1.8"
  },
  "language_info": {
   "file_extension": ".jl",
   "mimetype": "application/julia",
   "name": "julia",
   "version": "1.8.5"
  }
 },
 "nbformat": 4,
 "nbformat_minor": 5
}
