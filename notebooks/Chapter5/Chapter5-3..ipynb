{
 "cells": [
  {
   "cell_type": "code",
   "execution_count": 1,
   "id": "15202efc",
   "metadata": {
    "ExecuteTime": {
     "end_time": "2023-01-27T14:26:35.230000+09:00",
     "start_time": "2023-01-27T05:26:34.626Z"
    }
   },
   "outputs": [
    {
     "name": "stdout",
     "output_type": "stream",
     "text": [
      "Julia Version 1.8.5\n",
      "Commit 17cfb8e65ea (2023-01-08 06:45 UTC)\n",
      "Platform Info:\n",
      "  OS: Linux (x86_64-linux-gnu)\n",
      "  CPU: 12 × Intel(R) Core(TM) i7-9750H CPU @ 2.60GHz\n",
      "  WORD_SIZE: 64\n",
      "  LIBM: libopenlibm\n",
      "  LLVM: libLLVM-13.0.1 (ORCJIT, skylake)\n",
      "  Threads: 1 on 12 virtual cores\n"
     ]
    }
   ],
   "source": [
    "versioninfo()"
   ]
  },
  {
   "cell_type": "markdown",
   "id": "2e5b198c",
   "metadata": {},
   "source": [
    "## 5-3. ポリモーフィズム"
   ]
  },
  {
   "cell_type": "markdown",
   "id": "9f5e533a",
   "metadata": {},
   "source": [
    "### 5-3-1. Julia のポリモーフィズム"
   ]
  },
  {
   "cell_type": "markdown",
   "id": "5a0ddb50",
   "metadata": {},
   "source": [
    "#### コード5-17.\tアドホック多相の例（「鳴く」のポリモーフィズムを Julia のコードで再現）"
   ]
  },
  {
   "cell_type": "code",
   "execution_count": 2,
   "id": "d88689a5",
   "metadata": {
    "ExecuteTime": {
     "end_time": "2023-01-27T14:26:35.276000+09:00",
     "start_time": "2023-01-27T05:26:34.629Z"
    }
   },
   "outputs": [],
   "source": [
    "struct 犬 end"
   ]
  },
  {
   "cell_type": "code",
   "execution_count": 3,
   "id": "2aec25e2",
   "metadata": {
    "ExecuteTime": {
     "end_time": "2023-01-27T14:26:35.277000+09:00",
     "start_time": "2023-01-27T05:26:34.630Z"
    }
   },
   "outputs": [],
   "source": [
    "struct ネコ end"
   ]
  },
  {
   "cell_type": "code",
   "execution_count": 4,
   "id": "be93a2e3",
   "metadata": {
    "ExecuteTime": {
     "end_time": "2023-01-27T14:26:35.277000+09:00",
     "start_time": "2023-01-27T05:26:34.633Z"
    }
   },
   "outputs": [],
   "source": [
    "struct ミンミンゼミ end"
   ]
  },
  {
   "cell_type": "code",
   "execution_count": 5,
   "id": "1f5328a3",
   "metadata": {
    "ExecuteTime": {
     "end_time": "2023-01-27T14:26:35.644000+09:00",
     "start_time": "2023-01-27T05:26:34.635Z"
    }
   },
   "outputs": [
    {
     "data": {
      "text/plain": [
       "鳴く (generic function with 1 method)"
      ]
     },
     "execution_count": 5,
     "metadata": {},
     "output_type": "execute_result"
    }
   ],
   "source": [
    "鳴く(::犬) = \"ワン\""
   ]
  },
  {
   "cell_type": "code",
   "execution_count": 6,
   "id": "1e012b13",
   "metadata": {
    "ExecuteTime": {
     "end_time": "2023-01-27T14:26:35.645000+09:00",
     "start_time": "2023-01-27T05:26:34.636Z"
    }
   },
   "outputs": [
    {
     "data": {
      "text/plain": [
       "鳴く (generic function with 2 methods)"
      ]
     },
     "execution_count": 6,
     "metadata": {},
     "output_type": "execute_result"
    }
   ],
   "source": [
    "鳴く(::ネコ) = \"ニャー\""
   ]
  },
  {
   "cell_type": "code",
   "execution_count": 7,
   "id": "6bf82afe",
   "metadata": {
    "ExecuteTime": {
     "end_time": "2023-01-27T14:26:35.645000+09:00",
     "start_time": "2023-01-27T05:26:34.638Z"
    }
   },
   "outputs": [
    {
     "data": {
      "text/plain": [
       "鳴く (generic function with 3 methods)"
      ]
     },
     "execution_count": 7,
     "metadata": {},
     "output_type": "execute_result"
    }
   ],
   "source": [
    "鳴く(::ミンミンゼミ) = \"ミーンミーン\""
   ]
  },
  {
   "cell_type": "code",
   "execution_count": 8,
   "id": "9d4d2dec",
   "metadata": {
    "ExecuteTime": {
     "end_time": "2023-01-27T14:26:36.102000+09:00",
     "start_time": "2023-01-27T05:26:34.639Z"
    }
   },
   "outputs": [
    {
     "data": {
      "text/plain": [
       "\"ワン\""
      ]
     },
     "execution_count": 8,
     "metadata": {},
     "output_type": "execute_result"
    }
   ],
   "source": [
    "鳴く(犬())"
   ]
  },
  {
   "cell_type": "code",
   "execution_count": 9,
   "id": "2cba5272",
   "metadata": {
    "ExecuteTime": {
     "end_time": "2023-01-27T14:26:36.105000+09:00",
     "start_time": "2023-01-27T05:26:34.641Z"
    }
   },
   "outputs": [
    {
     "data": {
      "text/plain": [
       "\"ニャー\""
      ]
     },
     "execution_count": 9,
     "metadata": {},
     "output_type": "execute_result"
    }
   ],
   "source": [
    "鳴く(ネコ())"
   ]
  },
  {
   "cell_type": "code",
   "execution_count": 10,
   "id": "54cf4625",
   "metadata": {
    "ExecuteTime": {
     "end_time": "2023-01-27T14:26:36.107000+09:00",
     "start_time": "2023-01-27T05:26:34.643Z"
    }
   },
   "outputs": [
    {
     "data": {
      "text/plain": [
       "\"ミーンミーン\""
      ]
     },
     "execution_count": 10,
     "metadata": {},
     "output_type": "execute_result"
    }
   ],
   "source": [
    "鳴く(ミンミンゼミ())"
   ]
  },
  {
   "cell_type": "markdown",
   "id": "6a5dc6ad",
   "metadata": {},
   "source": [
    "#### コード5-18.\tパラメータ多相の例 (1): 定義例（`predtypes()`）"
   ]
  },
  {
   "cell_type": "code",
   "execution_count": 11,
   "id": "b5a30266",
   "metadata": {
    "ExecuteTime": {
     "end_time": "2023-01-27T14:26:36.180000+09:00",
     "start_time": "2023-01-27T05:26:34.645Z"
    }
   },
   "outputs": [
    {
     "data": {
      "text/plain": [
       "predtypes (generic function with 1 method)"
      ]
     },
     "execution_count": 11,
     "metadata": {},
     "output_type": "execute_result"
    }
   ],
   "source": [
    "function predtypes(x::Int, y::Int)\n",
    "    \"Both $x and $y are `Int`.\"\n",
    "end"
   ]
  },
  {
   "cell_type": "code",
   "execution_count": 12,
   "id": "b5bce989",
   "metadata": {
    "ExecuteTime": {
     "end_time": "2023-01-27T14:26:36.181000+09:00",
     "start_time": "2023-01-27T05:26:34.647Z"
    }
   },
   "outputs": [
    {
     "data": {
      "text/plain": [
       "predtypes (generic function with 2 methods)"
      ]
     },
     "execution_count": 12,
     "metadata": {},
     "output_type": "execute_result"
    }
   ],
   "source": [
    "function predtypes(x::T, y::T) where T\n",
    "    \"Both $x and $y are the same types ($T).\"\n",
    "end"
   ]
  },
  {
   "cell_type": "code",
   "execution_count": 13,
   "id": "96b1628b",
   "metadata": {
    "ExecuteTime": {
     "end_time": "2023-01-27T14:26:36.182000+09:00",
     "start_time": "2023-01-27T05:26:34.648Z"
    }
   },
   "outputs": [
    {
     "data": {
      "text/plain": [
       "predtypes (generic function with 3 methods)"
      ]
     },
     "execution_count": 13,
     "metadata": {},
     "output_type": "execute_result"
    }
   ],
   "source": [
    "function predtypes(x::N, y::N) where {N <: Number}\n",
    "    \"Both $x and $y are the same Number types ($N).\"\n",
    "end"
   ]
  },
  {
   "cell_type": "code",
   "execution_count": 14,
   "id": "1743829a",
   "metadata": {
    "ExecuteTime": {
     "end_time": "2023-01-27T14:26:36.183000+09:00",
     "start_time": "2023-01-27T05:26:34.650Z"
    }
   },
   "outputs": [
    {
     "data": {
      "text/plain": [
       "predtypes (generic function with 4 methods)"
      ]
     },
     "execution_count": 14,
     "metadata": {},
     "output_type": "execute_result"
    }
   ],
   "source": [
    "function predtypes(x::T1, y::T2) where {T1, T2}\n",
    "    \"$x(::$T1) and $y(::$T2) are diffrent types.\"\n",
    "end"
   ]
  },
  {
   "cell_type": "markdown",
   "id": "7c5b8499",
   "metadata": {},
   "source": [
    "#### コード5-19.\tパラメータ多相の例 (2): 実行例（`predtypes()` の動作確認）"
   ]
  },
  {
   "cell_type": "code",
   "execution_count": 15,
   "id": "d05d2edb",
   "metadata": {
    "ExecuteTime": {
     "end_time": "2023-01-27T14:26:36.508000+09:00",
     "start_time": "2023-01-27T05:26:34.652Z"
    }
   },
   "outputs": [
    {
     "data": {
      "text/plain": [
       "Tuple{Int64, Int64}"
      ]
     },
     "execution_count": 15,
     "metadata": {},
     "output_type": "execute_result"
    }
   ],
   "source": [
    "Base.typesof(1, 2)"
   ]
  },
  {
   "cell_type": "code",
   "execution_count": 16,
   "id": "4ac75d53",
   "metadata": {
    "ExecuteTime": {
     "end_time": "2023-01-27T14:26:36.511000+09:00",
     "start_time": "2023-01-27T05:26:34.653Z"
    }
   },
   "outputs": [
    {
     "data": {
      "text/plain": [
       "\"Both 1 and 2 are `Int`.\""
      ]
     },
     "execution_count": 16,
     "metadata": {},
     "output_type": "execute_result"
    }
   ],
   "source": [
    "predtypes(1, 2)"
   ]
  },
  {
   "cell_type": "code",
   "execution_count": 17,
   "id": "455c180a",
   "metadata": {
    "ExecuteTime": {
     "end_time": "2023-01-27T14:26:36.521000+09:00",
     "start_time": "2023-01-27T05:26:34.655Z"
    }
   },
   "outputs": [
    {
     "data": {
      "text/plain": [
       "Tuple{String, String}"
      ]
     },
     "execution_count": 17,
     "metadata": {},
     "output_type": "execute_result"
    }
   ],
   "source": [
    "Base.typesof(\"abc\", \"漢字\")"
   ]
  },
  {
   "cell_type": "code",
   "execution_count": 18,
   "id": "a5122f8f",
   "metadata": {
    "ExecuteTime": {
     "end_time": "2023-01-27T14:26:36.527000+09:00",
     "start_time": "2023-01-27T05:26:34.658Z"
    }
   },
   "outputs": [
    {
     "data": {
      "text/plain": [
       "\"Both abc and 漢字 are the same types (String).\""
      ]
     },
     "execution_count": 18,
     "metadata": {},
     "output_type": "execute_result"
    }
   ],
   "source": [
    "predtypes(\"abc\", \"漢字\")"
   ]
  },
  {
   "cell_type": "code",
   "execution_count": 19,
   "id": "c099c4dd",
   "metadata": {
    "ExecuteTime": {
     "end_time": "2023-01-27T14:26:36.537000+09:00",
     "start_time": "2023-01-27T05:26:34.661Z"
    }
   },
   "outputs": [
    {
     "data": {
      "text/plain": [
       "Tuple{Symbol, Symbol}"
      ]
     },
     "execution_count": 19,
     "metadata": {},
     "output_type": "execute_result"
    }
   ],
   "source": [
    "Base.typesof(:ok, :NG)"
   ]
  },
  {
   "cell_type": "code",
   "execution_count": 20,
   "id": "4659a138",
   "metadata": {
    "ExecuteTime": {
     "end_time": "2023-01-27T14:26:36.543000+09:00",
     "start_time": "2023-01-27T05:26:34.662Z"
    }
   },
   "outputs": [
    {
     "data": {
      "text/plain": [
       "\"Both ok and NG are the same types (Symbol).\""
      ]
     },
     "execution_count": 20,
     "metadata": {},
     "output_type": "execute_result"
    }
   ],
   "source": [
    "predtypes(:ok, :NG)"
   ]
  },
  {
   "cell_type": "code",
   "execution_count": 21,
   "id": "0d8f72b4",
   "metadata": {
    "ExecuteTime": {
     "end_time": "2023-01-27T14:26:36.553000+09:00",
     "start_time": "2023-01-27T05:26:34.664Z"
    }
   },
   "outputs": [
    {
     "data": {
      "text/plain": [
       "Tuple{Float64, Float64}"
      ]
     },
     "execution_count": 21,
     "metadata": {},
     "output_type": "execute_result"
    }
   ],
   "source": [
    "Base.typesof(1.0, 2.2)"
   ]
  },
  {
   "cell_type": "code",
   "execution_count": 22,
   "id": "2920a754",
   "metadata": {
    "ExecuteTime": {
     "end_time": "2023-01-27T14:26:36.560000+09:00",
     "start_time": "2023-01-27T05:26:34.665Z"
    }
   },
   "outputs": [
    {
     "data": {
      "text/plain": [
       "\"Both 1.0 and 2.2 are the same Number types (Float64).\""
      ]
     },
     "execution_count": 22,
     "metadata": {},
     "output_type": "execute_result"
    }
   ],
   "source": [
    "predtypes(1.0, 2.2)"
   ]
  },
  {
   "cell_type": "code",
   "execution_count": 23,
   "id": "b501e3fc",
   "metadata": {
    "ExecuteTime": {
     "end_time": "2023-01-27T14:26:36.590000+09:00",
     "start_time": "2023-01-27T05:26:34.666Z"
    }
   },
   "outputs": [
    {
     "data": {
      "text/plain": [
       "Tuple{Rational{Int64}, Rational{Int64}}"
      ]
     },
     "execution_count": 23,
     "metadata": {},
     "output_type": "execute_result"
    }
   ],
   "source": [
    "Base.typesof(1//2, 3//4)"
   ]
  },
  {
   "cell_type": "code",
   "execution_count": 24,
   "id": "09ce1e37",
   "metadata": {
    "ExecuteTime": {
     "end_time": "2023-01-27T14:26:36.605000+09:00",
     "start_time": "2023-01-27T05:26:34.668Z"
    }
   },
   "outputs": [
    {
     "data": {
      "text/plain": [
       "\"Both 1//2 and 3//4 are the same Number types (Rational{Int64}).\""
      ]
     },
     "execution_count": 24,
     "metadata": {},
     "output_type": "execute_result"
    }
   ],
   "source": [
    "predtypes(1//2, 3//4)"
   ]
  },
  {
   "cell_type": "code",
   "execution_count": 25,
   "id": "766b0db5",
   "metadata": {
    "ExecuteTime": {
     "end_time": "2023-01-27T14:26:36.615000+09:00",
     "start_time": "2023-01-27T05:26:34.669Z"
    }
   },
   "outputs": [
    {
     "data": {
      "text/plain": [
       "Tuple{Float64, Irrational{:π}}"
      ]
     },
     "execution_count": 25,
     "metadata": {},
     "output_type": "execute_result"
    }
   ],
   "source": [
    "Base.typesof(1.0, π)"
   ]
  },
  {
   "cell_type": "code",
   "execution_count": 26,
   "id": "4b5e51aa",
   "metadata": {
    "ExecuteTime": {
     "end_time": "2023-01-27T14:26:36.627000+09:00",
     "start_time": "2023-01-27T05:26:34.671Z"
    }
   },
   "outputs": [
    {
     "data": {
      "text/plain": [
       "\"1.0(::Float64) and π(::Irrational{:π}) are diffrent types.\""
      ]
     },
     "execution_count": 26,
     "metadata": {},
     "output_type": "execute_result"
    }
   ],
   "source": [
    "predtypes(1.0, π)"
   ]
  },
  {
   "cell_type": "markdown",
   "id": "40cb7d72",
   "metadata": {},
   "source": [
    "### 5-3-2. 実例"
   ]
  },
  {
   "cell_type": "markdown",
   "id": "30b05c9d",
   "metadata": {},
   "source": [
    "#### コード5-20.\tGeometricSequence.jl (1): `Base.show()` の多重定義まで"
   ]
  },
  {
   "cell_type": "code",
   "execution_count": 27,
   "id": "49e01956",
   "metadata": {
    "ExecuteTime": {
     "end_time": "2023-01-27T14:26:36.635000+09:00",
     "start_time": "2023-01-27T05:26:34.674Z"
    }
   },
   "outputs": [],
   "source": [
    "struct GeometricSequence{T<:Number} <: AbstractVector{T}\n",
    "    a::T\n",
    "    r::T\n",
    "    n::Int\n",
    "end\n",
    "\n",
    "function GeometricSequence(a::T1, r::T2, n::Integer) where {T1<:Number, T2<:Number}\n",
    "    GeometricSequence(promote(a, r)..., Int(n))\n",
    "end\n",
    "\n",
    "Base.length(seq::GeometricSequence) = seq.n\n",
    "Base.size(seq::GeometricSequence) = (seq.n,)\n",
    "Base.getindex(seq::GeometricSequence, index::Integer) = seq.a * seq.r ^ (index - 1)\n",
    "\n",
    "function Base.show(io::IO, seq::GeometricSequence)\n",
    "    print(io, \"GeometricSequence(\", seq.a, \", \", seq.r, \", \", seq.n, \")\")\n",
    "end\n",
    "Base.show(io::IO, ::MIME\"text/plain\", seq::GeometricSequence) = show(io, seq)"
   ]
  },
  {
   "cell_type": "markdown",
   "id": "4696db44",
   "metadata": {},
   "source": [
    "#### コード5-21.\t`GeometricSequence` の動作確認 (1): 基本的な動作"
   ]
  },
  {
   "cell_type": "code",
   "execution_count": 28,
   "id": "de2a9a37",
   "metadata": {
    "ExecuteTime": {
     "end_time": "2023-01-27T14:26:36.816000+09:00",
     "start_time": "2023-01-27T05:26:34.677Z"
    }
   },
   "outputs": [
    {
     "data": {
      "text/plain": [
       "GeometricSequence(1, 3, 5)"
      ]
     },
     "execution_count": 28,
     "metadata": {},
     "output_type": "execute_result"
    }
   ],
   "source": [
    "seq0 = GeometricSequence(1, 3, 5)"
   ]
  },
  {
   "cell_type": "code",
   "execution_count": 29,
   "id": "846f7a3f",
   "metadata": {
    "ExecuteTime": {
     "end_time": "2023-01-27T14:26:36.965000+09:00",
     "start_time": "2023-01-27T05:26:34.679Z"
    }
   },
   "outputs": [
    {
     "data": {
      "text/plain": [
       "5"
      ]
     },
     "execution_count": 29,
     "metadata": {},
     "output_type": "execute_result"
    }
   ],
   "source": [
    "length(seq0)"
   ]
  },
  {
   "cell_type": "code",
   "execution_count": 30,
   "id": "8c3b2ce2",
   "metadata": {
    "ExecuteTime": {
     "end_time": "2023-01-27T14:26:37.173000+09:00",
     "start_time": "2023-01-27T05:26:34.680Z"
    }
   },
   "outputs": [
    {
     "data": {
      "text/plain": [
       "(5,)"
      ]
     },
     "execution_count": 30,
     "metadata": {},
     "output_type": "execute_result"
    }
   ],
   "source": [
    "size(seq0)"
   ]
  },
  {
   "cell_type": "code",
   "execution_count": 31,
   "id": "796ce24c",
   "metadata": {
    "ExecuteTime": {
     "end_time": "2023-01-27T14:26:37.911000+09:00",
     "start_time": "2023-01-27T05:26:34.682Z"
    }
   },
   "outputs": [
    {
     "data": {
      "text/plain": [
       "5-element Vector{Int64}:\n",
       "  1\n",
       "  3\n",
       "  9\n",
       " 27\n",
       " 81"
      ]
     },
     "execution_count": 31,
     "metadata": {},
     "output_type": "execute_result"
    }
   ],
   "source": [
    "collect(seq0)"
   ]
  },
  {
   "cell_type": "code",
   "execution_count": 32,
   "id": "9a8262c8",
   "metadata": {
    "ExecuteTime": {
     "end_time": "2023-01-27T14:26:37.924000+09:00",
     "start_time": "2023-01-27T05:26:34.683Z"
    }
   },
   "outputs": [
    {
     "data": {
      "text/plain": [
       "121"
      ]
     },
     "execution_count": 32,
     "metadata": {},
     "output_type": "execute_result"
    }
   ],
   "source": [
    "sum(seq0)"
   ]
  },
  {
   "cell_type": "markdown",
   "id": "b72c21d0",
   "metadata": {},
   "source": [
    "#### コード5-22. GeometricSequence.jl (2): Base.sum() の多重定義（ポリモーフィズム）"
   ]
  },
  {
   "cell_type": "code",
   "execution_count": 33,
   "id": "f2ce271d",
   "metadata": {
    "ExecuteTime": {
     "end_time": "2023-01-27T14:26:37.926000+09:00",
     "start_time": "2023-01-27T05:26:34.685Z"
    }
   },
   "outputs": [],
   "source": [
    "function Base.sum(seq::GeometricSequence)\n",
    "    seq.a * (1 - seq.r^seq.n) / (1 - seq.r)\n",
    "end\n",
    "\n",
    "function Base.sum(seq::GeometricSequence{<:Rational})\n",
    "    c = numerator(seq.a)\n",
    "    b = denominator(seq.a)\n",
    "    q = numerator(seq.r)\n",
    "    p = denominator(seq.r)\n",
    "    n = seq.n\n",
    "    c * (p^n - q^n) // (b * p^(n-1) * (p - q))\n",
    "end\n",
    "\n",
    "function Base.sum(seq::GeometricSequence{<:Integer})\n",
    "    seq.a * ((seq.r^seq.n - 1) ÷ (seq.r - 1))\n",
    "end"
   ]
  },
  {
   "cell_type": "markdown",
   "id": "72ec8138",
   "metadata": {},
   "source": [
    "#### コード5-23.\t`GeometricSequence` の動作確認 (2): `sum()` の動作"
   ]
  },
  {
   "cell_type": "code",
   "execution_count": 34,
   "id": "08842305",
   "metadata": {
    "ExecuteTime": {
     "end_time": "2023-01-27T14:26:37.997000+09:00",
     "start_time": "2023-01-27T05:26:34.688Z"
    }
   },
   "outputs": [
    {
     "data": {
      "text/plain": [
       "sum_naive (generic function with 1 method)"
      ]
     },
     "execution_count": 34,
     "metadata": {},
     "output_type": "execute_result"
    }
   ],
   "source": [
    "sum_naive(seq) = reduce(+, seq)"
   ]
  },
  {
   "cell_type": "code",
   "execution_count": 35,
   "id": "3fadfcc2",
   "metadata": {
    "ExecuteTime": {
     "end_time": "2023-01-27T14:26:38.072000+09:00",
     "start_time": "2023-01-27T05:26:34.690Z"
    }
   },
   "outputs": [
    {
     "data": {
      "text/plain": [
       "sum_with_formula (generic function with 1 method)"
      ]
     },
     "execution_count": 35,
     "metadata": {},
     "output_type": "execute_result"
    }
   ],
   "source": [
    "sum_with_formula(seq) = seq.a * (1 - seq.r^seq.n) / (1 - seq.r)"
   ]
  },
  {
   "cell_type": "code",
   "execution_count": 36,
   "id": "1a9a5840",
   "metadata": {
    "ExecuteTime": {
     "end_time": "2023-01-27T14:26:38.264000+09:00",
     "start_time": "2023-01-27T05:26:34.692Z"
    }
   },
   "outputs": [
    {
     "data": {
      "text/plain": [
       "GeometricSequence(1.0, 0.5, 20)"
      ]
     },
     "execution_count": 36,
     "metadata": {},
     "output_type": "execute_result"
    }
   ],
   "source": [
    "seq1 = GeometricSequence(1, 0.5, 20)"
   ]
  },
  {
   "cell_type": "code",
   "execution_count": 37,
   "id": "30b2a064",
   "metadata": {
    "ExecuteTime": {
     "end_time": "2023-01-27T14:26:38.515000+09:00",
     "start_time": "2023-01-27T05:26:34.693Z"
    }
   },
   "outputs": [
    {
     "data": {
      "text/plain": [
       "(1.9999980926513672, 1.9999980926513672)"
      ]
     },
     "execution_count": 37,
     "metadata": {},
     "output_type": "execute_result"
    }
   ],
   "source": [
    "(sum_naive(seq1), sum(seq1))"
   ]
  },
  {
   "cell_type": "code",
   "execution_count": 38,
   "id": "5e782f54",
   "metadata": {
    "ExecuteTime": {
     "end_time": "2023-01-27T14:26:38.518000+09:00",
     "start_time": "2023-01-27T05:26:34.695Z"
    }
   },
   "outputs": [],
   "source": [
    "using BenchmarkTools"
   ]
  },
  {
   "cell_type": "code",
   "execution_count": 39,
   "id": "f5608cd7",
   "metadata": {
    "ExecuteTime": {
     "end_time": "2023-01-27T14:26:41.093000+09:00",
     "start_time": "2023-01-27T05:26:34.696Z"
    }
   },
   "outputs": [
    {
     "name": "stdout",
     "output_type": "stream",
     "text": [
      "  109.150 ns (0 allocations: 0 bytes)\n"
     ]
    },
    {
     "data": {
      "text/plain": [
       "1.9999980926513672"
      ]
     },
     "execution_count": 39,
     "metadata": {},
     "output_type": "execute_result"
    }
   ],
   "source": [
    "@btime sum_naive($seq1)"
   ]
  },
  {
   "cell_type": "code",
   "execution_count": 40,
   "id": "7821e799",
   "metadata": {
    "ExecuteTime": {
     "end_time": "2023-01-27T14:26:41.701000+09:00",
     "start_time": "2023-01-27T05:26:34.698Z"
    }
   },
   "outputs": [
    {
     "name": "stdout",
     "output_type": "stream",
     "text": [
      "  8.636 ns (0 allocations: 0 bytes)\n"
     ]
    },
    {
     "data": {
      "text/plain": [
       "1.9999980926513672"
      ]
     },
     "execution_count": 40,
     "metadata": {},
     "output_type": "execute_result"
    }
   ],
   "source": [
    "@btime sum($seq1)"
   ]
  },
  {
   "cell_type": "code",
   "execution_count": 41,
   "id": "cef42190",
   "metadata": {
    "ExecuteTime": {
     "end_time": "2023-01-27T14:26:41.903000+09:00",
     "start_time": "2023-01-27T05:26:34.700Z"
    }
   },
   "outputs": [
    {
     "data": {
      "text/plain": [
       "GeometricSequence(1//1, 1//2, 20)"
      ]
     },
     "execution_count": 41,
     "metadata": {},
     "output_type": "execute_result"
    }
   ],
   "source": [
    "seq2 = GeometricSequence(1, 1//2, 20)"
   ]
  },
  {
   "cell_type": "code",
   "execution_count": 42,
   "id": "21fa2ad4",
   "metadata": {
    "ExecuteTime": {
     "end_time": "2023-01-27T14:26:42.221000+09:00",
     "start_time": "2023-01-27T05:26:34.702Z"
    }
   },
   "outputs": [
    {
     "data": {
      "text/plain": [
       "(1048575//524288, 1048575//524288, 1048575//524288)"
      ]
     },
     "execution_count": 42,
     "metadata": {},
     "output_type": "execute_result"
    }
   ],
   "source": [
    "(sum_naive(seq2), sum_with_formula(seq2), sum(seq2))"
   ]
  },
  {
   "cell_type": "code",
   "execution_count": 43,
   "id": "a1ef2c48",
   "metadata": {
    "ExecuteTime": {
     "end_time": "2023-01-27T14:26:44.273000+09:00",
     "start_time": "2023-01-27T05:26:34.704Z"
    }
   },
   "outputs": [
    {
     "name": "stdout",
     "output_type": "stream",
     "text": [
      "  2.144 μs (0 allocations: 0 bytes)\n"
     ]
    },
    {
     "data": {
      "text/plain": [
       "1048575//524288"
      ]
     },
     "execution_count": 43,
     "metadata": {},
     "output_type": "execute_result"
    }
   ],
   "source": [
    "@btime sum_naive($seq2)"
   ]
  },
  {
   "cell_type": "code",
   "execution_count": 44,
   "id": "af92aa13",
   "metadata": {
    "ExecuteTime": {
     "end_time": "2023-01-27T14:26:46.148000+09:00",
     "start_time": "2023-01-27T05:26:34.706Z"
    }
   },
   "outputs": [
    {
     "name": "stdout",
     "output_type": "stream",
     "text": [
      "  176.253 ns (0 allocations: 0 bytes)\n"
     ]
    },
    {
     "data": {
      "text/plain": [
       "1048575//524288"
      ]
     },
     "execution_count": 44,
     "metadata": {},
     "output_type": "execute_result"
    }
   ],
   "source": [
    "@btime sum_with_formula($seq2)"
   ]
  },
  {
   "cell_type": "code",
   "execution_count": 45,
   "id": "eef5558b",
   "metadata": {
    "ExecuteTime": {
     "end_time": "2023-01-27T14:26:47.345000+09:00",
     "start_time": "2023-01-27T05:26:34.708Z"
    }
   },
   "outputs": [
    {
     "name": "stdout",
     "output_type": "stream",
     "text": [
      "  64.896 ns (0 allocations: 0 bytes)\n"
     ]
    },
    {
     "data": {
      "text/plain": [
       "1048575//524288"
      ]
     },
     "execution_count": 45,
     "metadata": {},
     "output_type": "execute_result"
    }
   ],
   "source": [
    "@btime sum($seq2)"
   ]
  },
  {
   "cell_type": "code",
   "execution_count": 46,
   "id": "fd998e7f",
   "metadata": {
    "ExecuteTime": {
     "end_time": "2023-01-27T14:26:47.345000+09:00",
     "start_time": "2023-01-27T05:26:34.710Z"
    }
   },
   "outputs": [
    {
     "data": {
      "text/plain": [
       "GeometricSequence(1, 3, 20)"
      ]
     },
     "execution_count": 46,
     "metadata": {},
     "output_type": "execute_result"
    }
   ],
   "source": [
    "seq3 = GeometricSequence(1, 3, 20)"
   ]
  },
  {
   "cell_type": "code",
   "execution_count": 47,
   "id": "c16e1db7",
   "metadata": {
    "ExecuteTime": {
     "end_time": "2023-01-27T14:26:47.631000+09:00",
     "start_time": "2023-01-27T05:26:34.712Z"
    }
   },
   "outputs": [
    {
     "data": {
      "text/plain": [
       "(1743392200, 1.7433922e9, 1743392200, true)"
      ]
     },
     "execution_count": 47,
     "metadata": {},
     "output_type": "execute_result"
    }
   ],
   "source": [
    "(sum_naive(seq3), sum_with_formula(seq3), sum(seq3), sum_naive(seq3) == sum_with_formula(seq3) == sum(seq3))"
   ]
  },
  {
   "cell_type": "code",
   "execution_count": 48,
   "id": "f7981dae",
   "metadata": {
    "ExecuteTime": {
     "end_time": "2023-01-27T14:26:48.085000+09:00",
     "start_time": "2023-01-27T05:26:34.713Z"
    }
   },
   "outputs": [
    {
     "data": {
      "text/plain": [
       "(Int64, Float64, Int64)"
      ]
     },
     "execution_count": 48,
     "metadata": {},
     "output_type": "execute_result"
    }
   ],
   "source": [
    "typeof.((sum_naive(seq3), sum_with_formula(seq3), sum(seq3)))"
   ]
  },
  {
   "cell_type": "code",
   "execution_count": 49,
   "id": "72b0413d",
   "metadata": {
    "ExecuteTime": {
     "end_time": "2023-01-27T14:26:49.611000+09:00",
     "start_time": "2023-01-27T05:26:34.715Z"
    }
   },
   "outputs": [
    {
     "name": "stdout",
     "output_type": "stream",
     "text": [
      "  79.760 ns (0 allocations: 0 bytes)\n"
     ]
    },
    {
     "data": {
      "text/plain": [
       "1743392200"
      ]
     },
     "execution_count": 49,
     "metadata": {},
     "output_type": "execute_result"
    }
   ],
   "source": [
    "@btime sum_naive($seq3)"
   ]
  },
  {
   "cell_type": "code",
   "execution_count": 50,
   "id": "11cf4fbc",
   "metadata": {
    "ExecuteTime": {
     "end_time": "2023-01-27T14:26:50.198000+09:00",
     "start_time": "2023-01-27T05:26:34.716Z"
    }
   },
   "outputs": [
    {
     "name": "stdout",
     "output_type": "stream",
     "text": [
      "  5.613 ns (0 allocations: 0 bytes)\n"
     ]
    },
    {
     "data": {
      "text/plain": [
       "1.7433922e9"
      ]
     },
     "execution_count": 50,
     "metadata": {},
     "output_type": "execute_result"
    }
   ],
   "source": [
    "@btime sum_with_formula($seq3)"
   ]
  },
  {
   "cell_type": "code",
   "execution_count": 51,
   "id": "ebc76429",
   "metadata": {
    "ExecuteTime": {
     "end_time": "2023-01-27T14:26:50.804000+09:00",
     "start_time": "2023-01-27T05:26:34.718Z"
    }
   },
   "outputs": [
    {
     "name": "stdout",
     "output_type": "stream",
     "text": [
      "  7.652 ns (0 allocations: 0 bytes)\n"
     ]
    },
    {
     "data": {
      "text/plain": [
       "1743392200"
      ]
     },
     "execution_count": 51,
     "metadata": {},
     "output_type": "execute_result"
    }
   ],
   "source": [
    "@btime sum($seq3)"
   ]
  }
 ],
 "metadata": {
  "jupytext": {
   "formats": "ipynb,auto:light"
  },
  "kernelspec": {
   "display_name": "Julia 1.8.5",
   "language": "julia",
   "name": "julia-1.8"
  },
  "language_info": {
   "file_extension": ".jl",
   "mimetype": "application/julia",
   "name": "julia",
   "version": "1.8.5"
  }
 },
 "nbformat": 4,
 "nbformat_minor": 5
}
