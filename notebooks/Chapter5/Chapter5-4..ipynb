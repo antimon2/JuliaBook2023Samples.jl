{
 "cells": [
  {
   "cell_type": "code",
   "execution_count": 1,
   "id": "50727e9e",
   "metadata": {
    "ExecuteTime": {
     "end_time": "2023-01-27T14:28:39.741000+09:00",
     "start_time": "2023-01-27T05:28:39.155Z"
    }
   },
   "outputs": [
    {
     "name": "stdout",
     "output_type": "stream",
     "text": [
      "Julia Version 1.8.5\n",
      "Commit 17cfb8e65ea (2023-01-08 06:45 UTC)\n",
      "Platform Info:\n",
      "  OS: Linux (x86_64-linux-gnu)\n",
      "  CPU: 12 × Intel(R) Core(TM) i7-9750H CPU @ 2.60GHz\n",
      "  WORD_SIZE: 64\n",
      "  LIBM: libopenlibm\n",
      "  LLVM: libLLVM-13.0.1 (ORCJIT, skylake)\n",
      "  Threads: 1 on 12 virtual cores\n"
     ]
    }
   ],
   "source": [
    "versioninfo()"
   ]
  },
  {
   "cell_type": "markdown",
   "id": "79131e36",
   "metadata": {},
   "source": [
    "## 5-4. 演算子オーバーロード"
   ]
  },
  {
   "cell_type": "markdown",
   "id": "0c380bc3",
   "metadata": {},
   "source": [
    "### 5-4-2. 実例"
   ]
  },
  {
   "cell_type": "markdown",
   "id": "3a36f25a",
   "metadata": {},
   "source": [
    "#### コード5-24.\tPoint2D.jl（加算・減算の定義を含む）"
   ]
  },
  {
   "cell_type": "code",
   "execution_count": 2,
   "id": "39fb4766",
   "metadata": {
    "ExecuteTime": {
     "end_time": "2023-01-27T14:28:39.789000+09:00",
     "start_time": "2023-01-27T05:28:39.157Z"
    }
   },
   "outputs": [],
   "source": [
    "abstract type AbstractPoint{T<:Real} end\n",
    "\n",
    "struct Point2D{T} <: AbstractPoint{T}\n",
    "    x::T\n",
    "    y::T\n",
    "end\n",
    "\n",
    "function Base.:+(p1::Point2D, p2::Point2D)\n",
    "    Point2D(p1.x + p2.x, p1.y + p2.y)\n",
    "end\n",
    "\n",
    "Base.:-(p1::Point2D, p2::Point2D) = Point2D(p1.x - p2.x, p1.y - p2.y)"
   ]
  },
  {
   "cell_type": "markdown",
   "id": "1dd7ac9c",
   "metadata": {},
   "source": [
    "#### コード5-25. `Point2D` の動作例（`+`/`-` 演算子による加減算）"
   ]
  },
  {
   "cell_type": "code",
   "execution_count": 3,
   "id": "15b602c3",
   "metadata": {
    "ExecuteTime": {
     "end_time": "2023-01-27T14:28:40.535000+09:00",
     "start_time": "2023-01-27T05:28:39.158Z"
    }
   },
   "outputs": [
    {
     "data": {
      "text/plain": [
       "Point2D{Float64}(1.0, 2.0)"
      ]
     },
     "execution_count": 3,
     "metadata": {},
     "output_type": "execute_result"
    }
   ],
   "source": [
    "p1 = Point2D(1.0, 2.0)"
   ]
  },
  {
   "cell_type": "code",
   "execution_count": 4,
   "id": "a375ab57",
   "metadata": {
    "ExecuteTime": {
     "end_time": "2023-01-27T14:28:40.536000+09:00",
     "start_time": "2023-01-27T05:28:39.159Z"
    }
   },
   "outputs": [
    {
     "data": {
      "text/plain": [
       "Point2D{Float64}(3.0, 4.0)"
      ]
     },
     "execution_count": 4,
     "metadata": {},
     "output_type": "execute_result"
    }
   ],
   "source": [
    "p2 = Point2D(3.0, 4.0)"
   ]
  },
  {
   "cell_type": "code",
   "execution_count": 5,
   "id": "d3d86d66",
   "metadata": {
    "ExecuteTime": {
     "end_time": "2023-01-27T14:28:40.541000+09:00",
     "start_time": "2023-01-27T05:28:39.160Z"
    }
   },
   "outputs": [
    {
     "data": {
      "text/plain": [
       "Point2D{Float64}(4.0, 6.0)"
      ]
     },
     "execution_count": 5,
     "metadata": {},
     "output_type": "execute_result"
    }
   ],
   "source": [
    "p1 + p2"
   ]
  },
  {
   "cell_type": "code",
   "execution_count": 6,
   "id": "6808eabf",
   "metadata": {
    "ExecuteTime": {
     "end_time": "2023-01-27T14:28:40.545000+09:00",
     "start_time": "2023-01-27T05:28:39.161Z"
    }
   },
   "outputs": [
    {
     "data": {
      "text/plain": [
       "Point2D{Float64}(-2.0, -2.0)"
      ]
     },
     "execution_count": 6,
     "metadata": {},
     "output_type": "execute_result"
    }
   ],
   "source": [
    "p1 - p2"
   ]
  },
  {
   "cell_type": "markdown",
   "id": "61368c5e",
   "metadata": {},
   "source": [
    "#### 仮想コード5-1.\t`+` 演算子を誤って多重定義してしまった際のエラー例"
   ]
  },
  {
   "cell_type": "markdown",
   "id": "5e1657fa",
   "metadata": {},
   "source": [
    "```julia\n",
    "julia> p1 + p2\n",
    "ERROR: MethodError: no method matching +(::Float64, ::Float64)\n",
    "You may have intended to import Base.:+\n",
    "Stacktrace:\n",
    " [1] +(p1::Point2D{Float64}, p2::Point2D{Float64})\n",
    "   @ Main ./REPL[XX]:2\n",
    " [2] top-level scope\n",
    "   @ REPL[YY]:1\n",
    "```"
   ]
  },
  {
   "cell_type": "markdown",
   "id": "59ffd90c",
   "metadata": {},
   "source": [
    "#### 仮想コード5-2.\t`+` 演算子を誤って多重定義しようとしてしまった際のエラー例（REPL）"
   ]
  },
  {
   "cell_type": "markdown",
   "id": "963ce409",
   "metadata": {},
   "source": [
    "```julia\n",
    "julia> function (+)(p1::Point2D, p2::Point2D)\n",
    "           Point2D(p1.x + p2.x, p1.y + p2.y)\n",
    "       end\n",
    "ERROR: error in method definition: function Base.+ must be explicitly imported to be extended\n",
    "Stacktrace:\n",
    " [1] top-level scope\n",
    "   @ none:0\n",
    " [2] top-level scope\n",
    "   @ REPL[XX]:1\n",
    "````"
   ]
  },
  {
   "cell_type": "markdown",
   "id": "66f22d4f",
   "metadata": {},
   "source": [
    "### 5-4-3. 型昇格ルール"
   ]
  },
  {
   "cell_type": "markdown",
   "id": "3b64a3bc",
   "metadata": {},
   "source": [
    "#### コード5-26.\t型昇格（`promote()`）の例"
   ]
  },
  {
   "cell_type": "code",
   "execution_count": 7,
   "id": "e5b75ffd",
   "metadata": {
    "ExecuteTime": {
     "end_time": "2023-01-27T14:28:40.751000+09:00",
     "start_time": "2023-01-27T05:28:39.162Z"
    }
   },
   "outputs": [
    {
     "data": {
      "text/plain": [
       "(1, 2)"
      ]
     },
     "execution_count": 7,
     "metadata": {},
     "output_type": "execute_result"
    }
   ],
   "source": [
    "promote(1, 2)"
   ]
  },
  {
   "cell_type": "code",
   "execution_count": 8,
   "id": "042f9033",
   "metadata": {
    "ExecuteTime": {
     "end_time": "2023-01-27T14:28:41.053000+09:00",
     "start_time": "2023-01-27T05:28:39.164Z"
    }
   },
   "outputs": [
    {
     "data": {
      "text/plain": [
       "Tuple{Int64, Int64}"
      ]
     },
     "execution_count": 8,
     "metadata": {},
     "output_type": "execute_result"
    }
   ],
   "source": [
    "typeof((1, 2))"
   ]
  },
  {
   "cell_type": "code",
   "execution_count": 9,
   "id": "99f8df5a",
   "metadata": {
    "ExecuteTime": {
     "end_time": "2023-01-27T14:28:41.054000+09:00",
     "start_time": "2023-01-27T05:28:39.165Z"
    }
   },
   "outputs": [
    {
     "data": {
      "text/plain": [
       "Tuple{Int64, Int64}"
      ]
     },
     "execution_count": 9,
     "metadata": {},
     "output_type": "execute_result"
    }
   ],
   "source": [
    "typeof(promote(1, 2))"
   ]
  },
  {
   "cell_type": "code",
   "execution_count": 10,
   "id": "2c75f4d6",
   "metadata": {
    "ExecuteTime": {
     "end_time": "2023-01-27T14:28:41.281000+09:00",
     "start_time": "2023-01-27T05:28:39.166Z"
    }
   },
   "outputs": [
    {
     "data": {
      "text/plain": [
       "(1.0, 3.4)"
      ]
     },
     "execution_count": 10,
     "metadata": {},
     "output_type": "execute_result"
    }
   ],
   "source": [
    "promote(1, 3.4)"
   ]
  },
  {
   "cell_type": "code",
   "execution_count": 11,
   "id": "7f42035b",
   "metadata": {
    "ExecuteTime": {
     "end_time": "2023-01-27T14:28:41.291000+09:00",
     "start_time": "2023-01-27T05:28:39.168Z"
    }
   },
   "outputs": [
    {
     "data": {
      "text/plain": [
       "Tuple{Int64, Float64}"
      ]
     },
     "execution_count": 11,
     "metadata": {},
     "output_type": "execute_result"
    }
   ],
   "source": [
    "typeof((1, 3.4))"
   ]
  },
  {
   "cell_type": "code",
   "execution_count": 12,
   "id": "660ac338",
   "metadata": {
    "ExecuteTime": {
     "end_time": "2023-01-27T14:28:41.300000+09:00",
     "start_time": "2023-01-27T05:28:39.169Z"
    }
   },
   "outputs": [
    {
     "data": {
      "text/plain": [
       "Tuple{Float64, Float64}"
      ]
     },
     "execution_count": 12,
     "metadata": {},
     "output_type": "execute_result"
    }
   ],
   "source": [
    "typeof(promote(1, 3.4))"
   ]
  },
  {
   "cell_type": "markdown",
   "id": "37817089",
   "metadata": {},
   "source": [
    "#### コード5-27.\t`promote()` の利用を伴う関数（演算子）の多重定義例"
   ]
  },
  {
   "cell_type": "code",
   "execution_count": 13,
   "id": "bea19372",
   "metadata": {
    "ExecuteTime": {
     "end_time": "2023-01-27T14:28:41.465000+09:00",
     "start_time": "2023-01-27T05:28:39.171Z"
    }
   },
   "outputs": [
    {
     "data": {
      "text/plain": [
       "⊓ (generic function with 1 method)"
      ]
     },
     "execution_count": 13,
     "metadata": {},
     "output_type": "execute_result"
    }
   ],
   "source": [
    "⊓(x::Real, y::Real) = ⊓(promote(x, y)...)"
   ]
  },
  {
   "cell_type": "code",
   "execution_count": 14,
   "id": "2dc5d584",
   "metadata": {
    "ExecuteTime": {
     "end_time": "2023-01-27T14:28:41.466000+09:00",
     "start_time": "2023-01-27T05:28:39.172Z"
    }
   },
   "outputs": [
    {
     "data": {
      "text/plain": [
       "⊓ (generic function with 2 methods)"
      ]
     },
     "execution_count": 14,
     "metadata": {},
     "output_type": "execute_result"
    }
   ],
   "source": [
    "⊓(x::T, y::T) where {T <: Real} = max(x, y)"
   ]
  },
  {
   "cell_type": "code",
   "execution_count": 15,
   "id": "84842fe6",
   "metadata": {
    "ExecuteTime": {
     "end_time": "2023-01-27T14:28:41.615000+09:00",
     "start_time": "2023-01-27T05:28:39.173Z"
    }
   },
   "outputs": [
    {
     "data": {
      "text/plain": [
       "2"
      ]
     },
     "execution_count": 15,
     "metadata": {},
     "output_type": "execute_result"
    }
   ],
   "source": [
    "1 ⊓ 2"
   ]
  },
  {
   "cell_type": "code",
   "execution_count": 16,
   "id": "97efde2d",
   "metadata": {
    "ExecuteTime": {
     "end_time": "2023-01-27T14:28:41.775000+09:00",
     "start_time": "2023-01-27T05:28:39.174Z"
    }
   },
   "outputs": [
    {
     "data": {
      "text/plain": [
       "3.4"
      ]
     },
     "execution_count": 16,
     "metadata": {},
     "output_type": "execute_result"
    }
   ],
   "source": [
    "3.4 ⊓ 1.2"
   ]
  },
  {
   "cell_type": "code",
   "execution_count": 17,
   "id": "f016be08",
   "metadata": {
    "ExecuteTime": {
     "end_time": "2023-01-27T14:28:41.780000+09:00",
     "start_time": "2023-01-27T05:28:39.175Z"
    }
   },
   "outputs": [
    {
     "data": {
      "text/plain": [
       "4.0"
      ]
     },
     "execution_count": 17,
     "metadata": {},
     "output_type": "execute_result"
    }
   ],
   "source": [
    "4 ⊓ π"
   ]
  },
  {
   "cell_type": "code",
   "execution_count": 18,
   "id": "e3d39ba6",
   "metadata": {
    "ExecuteTime": {
     "end_time": "2023-01-27T14:28:41.950000+09:00",
     "start_time": "2023-01-27T05:28:39.176Z"
    }
   },
   "outputs": [
    {
     "data": {
      "text/plain": [
       "4.0f0"
      ]
     },
     "execution_count": 18,
     "metadata": {},
     "output_type": "execute_result"
    }
   ],
   "source": [
    "3f0 ⊓ 4"
   ]
  },
  {
   "cell_type": "code",
   "execution_count": 19,
   "id": "67326030",
   "metadata": {
    "ExecuteTime": {
     "end_time": "2023-01-27T14:28:41.954000+09:00",
     "start_time": "2023-01-27T05:28:39.177Z"
    }
   },
   "outputs": [
    {
     "data": {
      "text/plain": [
       "4.0"
      ]
     },
     "execution_count": 19,
     "metadata": {},
     "output_type": "execute_result"
    }
   ],
   "source": [
    "3f0 ⊓ 4 ⊓ 2.0"
   ]
  },
  {
   "cell_type": "markdown",
   "id": "1ecbd6d8",
   "metadata": {},
   "source": [
    "#### 仮想コード5-3. `GeometricSequence` の定義例中における `promote()` の利用例（前節のコード5-20.より抜粋再掲）"
   ]
  },
  {
   "cell_type": "markdown",
   "id": "4c749adf",
   "metadata": {},
   "source": [
    "```julia\n",
    "function GeometricSequence(a::T1, r::T2, n::Integer) where {T1<:Number, T2<:Number}\n",
    "    GeometricSequence(promote(a, r)..., Int(n))\n",
    "end\n",
    "```"
   ]
  }
 ],
 "metadata": {
  "jupytext": {
   "formats": "ipynb,auto:light"
  },
  "kernelspec": {
   "display_name": "Julia 1.8.5",
   "language": "julia",
   "name": "julia-1.8"
  },
  "language_info": {
   "file_extension": ".jl",
   "mimetype": "application/julia",
   "name": "julia",
   "version": "1.8.5"
  }
 },
 "nbformat": 4,
 "nbformat_minor": 5
}
