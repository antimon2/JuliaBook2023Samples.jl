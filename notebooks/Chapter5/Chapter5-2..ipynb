{
 "cells": [
  {
   "cell_type": "code",
   "execution_count": 1,
   "id": "03a06c9c",
   "metadata": {
    "ExecuteTime": {
     "end_time": "2023-01-27T14:24:08.983000+09:00",
     "start_time": "2023-01-27T05:24:08.390Z"
    }
   },
   "outputs": [
    {
     "name": "stdout",
     "output_type": "stream",
     "text": [
      "Julia Version 1.8.5\n",
      "Commit 17cfb8e65ea (2023-01-08 06:45 UTC)\n",
      "Platform Info:\n",
      "  OS: Linux (x86_64-linux-gnu)\n",
      "  CPU: 12 × Intel(R) Core(TM) i7-9750H CPU @ 2.60GHz\n",
      "  WORD_SIZE: 64\n",
      "  LIBM: libopenlibm\n",
      "  LLVM: libLLVM-13.0.1 (ORCJIT, skylake)\n",
      "  Threads: 1 on 12 virtual cores\n"
     ]
    }
   ],
   "source": [
    "versioninfo()"
   ]
  },
  {
   "cell_type": "markdown",
   "id": "cff9a069",
   "metadata": {},
   "source": [
    "## 5-2. 多重定義"
   ]
  },
  {
   "cell_type": "markdown",
   "id": "4101080e",
   "metadata": {},
   "source": [
    "### 5-2-1. 関数の定義（おさらい）"
   ]
  },
  {
   "cell_type": "markdown",
   "id": "783cc646",
   "metadata": {},
   "source": [
    "#### コード5-1.\t関数定義の例(1)"
   ]
  },
  {
   "cell_type": "code",
   "execution_count": 2,
   "id": "b65d593e",
   "metadata": {
    "ExecuteTime": {
     "end_time": "2023-01-27T14:24:09.384000+09:00",
     "start_time": "2023-01-27T05:24:08.393Z"
    }
   },
   "outputs": [
    {
     "data": {
      "text/plain": [
       "add (generic function with 1 method)"
      ]
     },
     "execution_count": 2,
     "metadata": {},
     "output_type": "execute_result"
    }
   ],
   "source": [
    "function add(x, y)\n",
    "    x + y\n",
    "end"
   ]
  },
  {
   "cell_type": "code",
   "execution_count": 3,
   "id": "588d5ebf",
   "metadata": {
    "ExecuteTime": {
     "end_time": "2023-01-27T14:24:09.384000+09:00",
     "start_time": "2023-01-27T05:24:08.395Z"
    }
   },
   "outputs": [
    {
     "data": {
      "text/plain": [
       "add (generic function with 1 method)"
      ]
     },
     "execution_count": 3,
     "metadata": {},
     "output_type": "execute_result"
    }
   ],
   "source": [
    "add(x, y) = x + y"
   ]
  },
  {
   "cell_type": "markdown",
   "id": "9ae0c22d",
   "metadata": {},
   "source": [
    "#### コード5-2.\t関数定義の例(2)"
   ]
  },
  {
   "cell_type": "code",
   "execution_count": 4,
   "id": "4648dbe9",
   "metadata": {
    "ExecuteTime": {
     "end_time": "2023-01-27T14:24:09.385000+09:00",
     "start_time": "2023-01-27T05:24:08.397Z"
    }
   },
   "outputs": [
    {
     "data": {
      "text/plain": [
       "add (generic function with 2 methods)"
      ]
     },
     "execution_count": 4,
     "metadata": {},
     "output_type": "execute_result"
    }
   ],
   "source": [
    "add(x, y, z) = x + y + z"
   ]
  },
  {
   "cell_type": "code",
   "execution_count": 5,
   "id": "09d1a989",
   "metadata": {
    "ExecuteTime": {
     "end_time": "2023-01-27T14:24:09.386000+09:00",
     "start_time": "2023-01-27T05:24:08.399Z"
    }
   },
   "outputs": [
    {
     "data": {
      "text/plain": [
       "add (generic function with 3 methods)"
      ]
     },
     "execution_count": 5,
     "metadata": {},
     "output_type": "execute_result"
    }
   ],
   "source": [
    "function add(x, y, z...)\n",
    "    add(x + y, z...)\n",
    "end"
   ]
  },
  {
   "cell_type": "markdown",
   "id": "95fbb222",
   "metadata": {},
   "source": [
    "#### コード5-3.\t多重定義した関数のメソッドの確認"
   ]
  },
  {
   "cell_type": "code",
   "execution_count": 6,
   "id": "def822d9",
   "metadata": {
    "ExecuteTime": {
     "end_time": "2023-01-27T14:24:09.971000+09:00",
     "start_time": "2023-01-27T05:24:08.401Z"
    }
   },
   "outputs": [
    {
     "data": {
      "text/html": [
       "# 3 methods for generic function <b>add</b>:<ul><li> add(x, y) in Main at In[3]:1</li> <li> add(x, y, z) in Main at In[4]:1</li> <li> add(x, y, z...) in Main at In[5]:1</li> </ul>"
      ],
      "text/plain": [
       "# 3 methods for generic function \"add\":\n",
       "[1] add(x, y) in Main at In[3]:1\n",
       "[2] add(x, y, z) in Main at In[4]:1\n",
       "[3] add(x, y, z...) in Main at In[5]:1"
      ]
     },
     "execution_count": 6,
     "metadata": {},
     "output_type": "execute_result"
    }
   ],
   "source": [
    "methods(add)"
   ]
  },
  {
   "cell_type": "markdown",
   "id": "bfdef805",
   "metadata": {},
   "source": [
    "### 5-2-2. 型シグニチャ"
   ]
  },
  {
   "cell_type": "markdown",
   "id": "4e5c1516",
   "metadata": {},
   "source": [
    "#### コード5-4.\t型シグニチャによる関数の多重定義例 (1)"
   ]
  },
  {
   "cell_type": "code",
   "execution_count": 7,
   "id": "b2e01197",
   "metadata": {
    "ExecuteTime": {
     "end_time": "2023-01-27T14:24:10.034000+09:00",
     "start_time": "2023-01-27T05:24:08.404Z"
    }
   },
   "outputs": [
    {
     "data": {
      "text/plain": [
       "double (generic function with 1 method)"
      ]
     },
     "execution_count": 7,
     "metadata": {},
     "output_type": "execute_result"
    }
   ],
   "source": [
    "double(x) = 2x"
   ]
  },
  {
   "cell_type": "code",
   "execution_count": 8,
   "id": "5add7899",
   "metadata": {
    "ExecuteTime": {
     "end_time": "2023-01-27T14:24:10.035000+09:00",
     "start_time": "2023-01-27T05:24:08.406Z"
    }
   },
   "outputs": [
    {
     "data": {
      "text/plain": [
       "double (generic function with 2 methods)"
      ]
     },
     "execution_count": 8,
     "metadata": {},
     "output_type": "execute_result"
    }
   ],
   "source": [
    "double(s::AbstractString) = s ^ 2"
   ]
  },
  {
   "cell_type": "markdown",
   "id": "28412a56",
   "metadata": {},
   "source": [
    "#### コード5-5.\t`double()` 関数の実行例 (1)"
   ]
  },
  {
   "cell_type": "code",
   "execution_count": 9,
   "id": "fb8f8fe4",
   "metadata": {
    "ExecuteTime": {
     "end_time": "2023-01-27T14:24:10.187000+09:00",
     "start_time": "2023-01-27T05:24:08.408Z"
    }
   },
   "outputs": [
    {
     "data": {
      "text/plain": [
       "200"
      ]
     },
     "execution_count": 9,
     "metadata": {},
     "output_type": "execute_result"
    }
   ],
   "source": [
    "double(100)"
   ]
  },
  {
   "cell_type": "code",
   "execution_count": 10,
   "id": "3dc15e62",
   "metadata": {
    "ExecuteTime": {
     "end_time": "2023-01-27T14:24:10.347000+09:00",
     "start_time": "2023-01-27T05:24:08.410Z"
    }
   },
   "outputs": [
    {
     "data": {
      "text/plain": [
       "2.46"
      ]
     },
     "execution_count": 10,
     "metadata": {},
     "output_type": "execute_result"
    }
   ],
   "source": [
    "double(1.23)"
   ]
  },
  {
   "cell_type": "code",
   "execution_count": 11,
   "id": "1f3f957b",
   "metadata": {
    "ExecuteTime": {
     "end_time": "2023-01-27T14:24:10.351000+09:00",
     "start_time": "2023-01-27T05:24:08.411Z"
    }
   },
   "outputs": [
    {
     "data": {
      "text/plain": [
       "6.283185307179586"
      ]
     },
     "execution_count": 11,
     "metadata": {},
     "output_type": "execute_result"
    }
   ],
   "source": [
    "double(π)"
   ]
  },
  {
   "cell_type": "markdown",
   "id": "1e904f9f",
   "metadata": {},
   "source": [
    "#### コード5-6.\t`double()` 関数の実行例 (2)"
   ]
  },
  {
   "cell_type": "code",
   "execution_count": 12,
   "id": "d811b925",
   "metadata": {
    "ExecuteTime": {
     "end_time": "2023-01-27T14:24:10.738000+09:00",
     "start_time": "2023-01-27T05:24:08.413Z"
    }
   },
   "outputs": [
    {
     "data": {
      "text/plain": [
       "\"ABCABC\""
      ]
     },
     "execution_count": 12,
     "metadata": {},
     "output_type": "execute_result"
    }
   ],
   "source": [
    "double(\"ABC\")"
   ]
  },
  {
   "cell_type": "code",
   "execution_count": 13,
   "id": "c2ecab9f",
   "metadata": {
    "ExecuteTime": {
     "end_time": "2023-01-27T14:24:10.761000+09:00",
     "start_time": "2023-01-27T05:24:08.415Z"
    }
   },
   "outputs": [
    {
     "data": {
      "text/plain": [
       "\"ABCDABCD\""
      ]
     },
     "execution_count": 13,
     "metadata": {},
     "output_type": "execute_result"
    }
   ],
   "source": [
    "double(strip(\"  ABCD  \"))"
   ]
  },
  {
   "cell_type": "markdown",
   "id": "ffd20922",
   "metadata": {},
   "source": [
    "#### コード5-7.\t型シグニチャによる関数（`double()`）の多重定義例 (2)"
   ]
  },
  {
   "cell_type": "code",
   "execution_count": 14,
   "id": "eceea5ca",
   "metadata": {
    "ExecuteTime": {
     "end_time": "2023-01-27T14:24:10.761000+09:00",
     "start_time": "2023-01-27T05:24:08.417Z"
    }
   },
   "outputs": [
    {
     "data": {
      "text/plain": [
       "double (generic function with 3 methods)"
      ]
     },
     "execution_count": 14,
     "metadata": {},
     "output_type": "execute_result"
    }
   ],
   "source": [
    "double(x, y) = string(double(x), double(y))"
   ]
  },
  {
   "cell_type": "code",
   "execution_count": 15,
   "id": "002932d9",
   "metadata": {
    "ExecuteTime": {
     "end_time": "2023-01-27T14:24:10.762000+09:00",
     "start_time": "2023-01-27T05:24:08.419Z"
    }
   },
   "outputs": [
    {
     "data": {
      "text/plain": [
       "double (generic function with 4 methods)"
      ]
     },
     "execution_count": 15,
     "metadata": {},
     "output_type": "execute_result"
    }
   ],
   "source": [
    "double(x::Number, y::Number) = double(x) + double(y)"
   ]
  },
  {
   "cell_type": "code",
   "execution_count": 16,
   "id": "fef8a0ac",
   "metadata": {
    "ExecuteTime": {
     "end_time": "2023-01-27T14:24:10.766000+09:00",
     "start_time": "2023-01-27T05:24:08.421Z"
    }
   },
   "outputs": [
    {
     "data": {
      "text/plain": [
       "\"ABCABCあいうあいう\""
      ]
     },
     "execution_count": 16,
     "metadata": {},
     "output_type": "execute_result"
    }
   ],
   "source": [
    "double(\"ABC\", \"あいう\")"
   ]
  },
  {
   "cell_type": "code",
   "execution_count": 17,
   "id": "735a67b6",
   "metadata": {
    "ExecuteTime": {
     "end_time": "2023-01-27T14:24:10.769000+09:00",
     "start_time": "2023-01-27T05:24:08.423Z"
    }
   },
   "outputs": [
    {
     "data": {
      "text/plain": [
       "\"4AA\""
      ]
     },
     "execution_count": 17,
     "metadata": {},
     "output_type": "execute_result"
    }
   ],
   "source": [
    "double(2, \"A\")"
   ]
  },
  {
   "cell_type": "code",
   "execution_count": 18,
   "id": "49564800",
   "metadata": {
    "ExecuteTime": {
     "end_time": "2023-01-27T14:24:10.773000+09:00",
     "start_time": "2023-01-27T05:24:08.424Z"
    }
   },
   "outputs": [
    {
     "data": {
      "text/plain": [
       "\"😄😄0.4\""
      ]
     },
     "execution_count": 18,
     "metadata": {},
     "output_type": "execute_result"
    }
   ],
   "source": [
    "double(\"😄\", 0.2)"
   ]
  },
  {
   "cell_type": "code",
   "execution_count": 19,
   "id": "43a96066",
   "metadata": {
    "ExecuteTime": {
     "end_time": "2023-01-27T14:24:10.777000+09:00",
     "start_time": "2023-01-27T05:24:08.426Z"
    }
   },
   "outputs": [
    {
     "data": {
      "text/plain": [
       "12.283185307179586"
      ]
     },
     "execution_count": 19,
     "metadata": {},
     "output_type": "execute_result"
    }
   ],
   "source": [
    "double(3, π)"
   ]
  },
  {
   "cell_type": "markdown",
   "id": "150579a6",
   "metadata": {},
   "source": [
    "#### コード5-8.\t`Base.typesof()` 関数の例"
   ]
  },
  {
   "cell_type": "code",
   "execution_count": 20,
   "id": "e919f23c",
   "metadata": {
    "ExecuteTime": {
     "end_time": "2023-01-27T14:24:11.086000+09:00",
     "start_time": "2023-01-27T05:24:08.428Z"
    }
   },
   "outputs": [
    {
     "data": {
      "text/plain": [
       "Tuple{String, String}"
      ]
     },
     "execution_count": 20,
     "metadata": {},
     "output_type": "execute_result"
    }
   ],
   "source": [
    "Base.typesof(\"ABC\", \"あいう\")"
   ]
  },
  {
   "cell_type": "code",
   "execution_count": 21,
   "id": "b58397c0",
   "metadata": {
    "ExecuteTime": {
     "end_time": "2023-01-27T14:24:11.095000+09:00",
     "start_time": "2023-01-27T05:24:08.430Z"
    }
   },
   "outputs": [
    {
     "data": {
      "text/plain": [
       "Tuple{Int64, String}"
      ]
     },
     "execution_count": 21,
     "metadata": {},
     "output_type": "execute_result"
    }
   ],
   "source": [
    "Base.typesof(2, \"A\")"
   ]
  },
  {
   "cell_type": "code",
   "execution_count": 22,
   "id": "e462fa5d",
   "metadata": {
    "ExecuteTime": {
     "end_time": "2023-01-27T14:24:11.105000+09:00",
     "start_time": "2023-01-27T05:24:08.432Z"
    }
   },
   "outputs": [
    {
     "data": {
      "text/plain": [
       "Tuple{String, Float64}"
      ]
     },
     "execution_count": 22,
     "metadata": {},
     "output_type": "execute_result"
    }
   ],
   "source": [
    "Base.typesof(\"😄\", 0.2)"
   ]
  },
  {
   "cell_type": "code",
   "execution_count": 23,
   "id": "11e17e91",
   "metadata": {
    "ExecuteTime": {
     "end_time": "2023-01-27T14:24:11.115000+09:00",
     "start_time": "2023-01-27T05:24:08.434Z"
    }
   },
   "outputs": [
    {
     "data": {
      "text/plain": [
       "Tuple{Int64, Irrational{:π}}"
      ]
     },
     "execution_count": 23,
     "metadata": {},
     "output_type": "execute_result"
    }
   ],
   "source": [
    "Base.typesof(3, π)"
   ]
  },
  {
   "cell_type": "markdown",
   "id": "d9b62f04",
   "metadata": {},
   "source": [
    "#### コード5-9.\t`Base.typesof()` の結果と型シグニチャのサブタイピング"
   ]
  },
  {
   "cell_type": "code",
   "execution_count": 24,
   "id": "391823c6",
   "metadata": {
    "ExecuteTime": {
     "end_time": "2023-01-27T14:24:11.279000+09:00",
     "start_time": "2023-01-27T05:24:08.436Z"
    }
   },
   "outputs": [
    {
     "data": {
      "text/plain": [
       "true"
      ]
     },
     "execution_count": 24,
     "metadata": {},
     "output_type": "execute_result"
    }
   ],
   "source": [
    "Tuple{Number, Number} <: Tuple{Any, Any}"
   ]
  },
  {
   "cell_type": "code",
   "execution_count": 25,
   "id": "1e95d389",
   "metadata": {
    "ExecuteTime": {
     "end_time": "2023-01-27T14:24:11.280000+09:00",
     "start_time": "2023-01-27T05:24:08.438Z"
    }
   },
   "outputs": [
    {
     "data": {
      "text/plain": [
       "false"
      ]
     },
     "execution_count": 25,
     "metadata": {},
     "output_type": "execute_result"
    }
   ],
   "source": [
    "Tuple{Any, Any} <: Tuple{Number, Number}"
   ]
  },
  {
   "cell_type": "code",
   "execution_count": 26,
   "id": "d28f056d",
   "metadata": {
    "ExecuteTime": {
     "end_time": "2023-01-27T14:24:11.281000+09:00",
     "start_time": "2023-01-27T05:24:08.440Z"
    }
   },
   "outputs": [
    {
     "data": {
      "text/plain": [
       "true"
      ]
     },
     "execution_count": 26,
     "metadata": {},
     "output_type": "execute_result"
    }
   ],
   "source": [
    "Base.typesof(\"ABC\", \"あいう\") <: Tuple{Any, Any}"
   ]
  },
  {
   "cell_type": "code",
   "execution_count": 27,
   "id": "d909b764",
   "metadata": {
    "ExecuteTime": {
     "end_time": "2023-01-27T14:24:11.281000+09:00",
     "start_time": "2023-01-27T05:24:08.442Z"
    }
   },
   "outputs": [
    {
     "data": {
      "text/plain": [
       "false"
      ]
     },
     "execution_count": 27,
     "metadata": {},
     "output_type": "execute_result"
    }
   ],
   "source": [
    "Base.typesof(\"ABC\", \"あいう\") <: Tuple{Number, Number}"
   ]
  },
  {
   "cell_type": "code",
   "execution_count": 28,
   "id": "555bc518",
   "metadata": {
    "ExecuteTime": {
     "end_time": "2023-01-27T14:24:11.282000+09:00",
     "start_time": "2023-01-27T05:24:08.443Z"
    }
   },
   "outputs": [
    {
     "data": {
      "text/plain": [
       "true"
      ]
     },
     "execution_count": 28,
     "metadata": {},
     "output_type": "execute_result"
    }
   ],
   "source": [
    "Base.typesof(2, \"A\") <: Tuple{Any, Any}"
   ]
  },
  {
   "cell_type": "code",
   "execution_count": 29,
   "id": "3363bab9",
   "metadata": {
    "ExecuteTime": {
     "end_time": "2023-01-27T14:24:11.282000+09:00",
     "start_time": "2023-01-27T05:24:08.444Z"
    }
   },
   "outputs": [
    {
     "data": {
      "text/plain": [
       "false"
      ]
     },
     "execution_count": 29,
     "metadata": {},
     "output_type": "execute_result"
    }
   ],
   "source": [
    "Base.typesof(2, \"A\") <: Tuple{Number, Number}"
   ]
  },
  {
   "cell_type": "code",
   "execution_count": 30,
   "id": "cb4f0592",
   "metadata": {
    "ExecuteTime": {
     "end_time": "2023-01-27T14:24:11.283000+09:00",
     "start_time": "2023-01-27T05:24:08.446Z"
    }
   },
   "outputs": [
    {
     "data": {
      "text/plain": [
       "true"
      ]
     },
     "execution_count": 30,
     "metadata": {},
     "output_type": "execute_result"
    }
   ],
   "source": [
    "Base.typesof(\"😄\", 0.2) <: Tuple{Any, Any}"
   ]
  },
  {
   "cell_type": "code",
   "execution_count": 31,
   "id": "df16d75f",
   "metadata": {
    "ExecuteTime": {
     "end_time": "2023-01-27T14:24:11.284000+09:00",
     "start_time": "2023-01-27T05:24:08.448Z"
    }
   },
   "outputs": [
    {
     "data": {
      "text/plain": [
       "false"
      ]
     },
     "execution_count": 31,
     "metadata": {},
     "output_type": "execute_result"
    }
   ],
   "source": [
    "Base.typesof(\"😄\", 0.2) <: Tuple{Number, Number}"
   ]
  },
  {
   "cell_type": "code",
   "execution_count": 32,
   "id": "25f0bc20",
   "metadata": {
    "ExecuteTime": {
     "end_time": "2023-01-27T14:24:11.284000+09:00",
     "start_time": "2023-01-27T05:24:08.450Z"
    }
   },
   "outputs": [
    {
     "data": {
      "text/plain": [
       "true"
      ]
     },
     "execution_count": 32,
     "metadata": {},
     "output_type": "execute_result"
    }
   ],
   "source": [
    "Base.typesof(3, π) <: Tuple{Any, Any}"
   ]
  },
  {
   "cell_type": "code",
   "execution_count": 33,
   "id": "5631e088",
   "metadata": {
    "ExecuteTime": {
     "end_time": "2023-01-27T14:24:11.285000+09:00",
     "start_time": "2023-01-27T05:24:08.453Z"
    }
   },
   "outputs": [
    {
     "data": {
      "text/plain": [
       "true"
      ]
     },
     "execution_count": 33,
     "metadata": {},
     "output_type": "execute_result"
    }
   ],
   "source": [
    "Base.typesof(3, π) <: Tuple{Number, Number}"
   ]
  },
  {
   "cell_type": "markdown",
   "id": "131ac53b",
   "metadata": {},
   "source": [
    "### 5-2-3. 実例"
   ]
  },
  {
   "cell_type": "markdown",
   "id": "5a6cb06d",
   "metadata": {},
   "source": [
    "#### コード5-10.\tMyTime1.jl"
   ]
  },
  {
   "cell_type": "code",
   "execution_count": 34,
   "id": "aa4221ae",
   "metadata": {
    "ExecuteTime": {
     "end_time": "2023-01-27T14:24:11.363000+09:00",
     "start_time": "2023-01-27T05:24:08.456Z"
    }
   },
   "outputs": [
    {
     "data": {
      "text/plain": [
       "getsecond (generic function with 2 methods)"
      ]
     },
     "execution_count": 34,
     "metadata": {},
     "output_type": "execute_result"
    }
   ],
   "source": [
    "abstract type AbstractTime end\n",
    "\n",
    "function gethour end\n",
    "function getminute end\n",
    "function getsecond end\n",
    "\n",
    "function Base.show(io::IO, time::AbstractTime)\n",
    "    print(io,\n",
    "          string(gethour(time), pad=2),\n",
    "          ':',\n",
    "          string(getminute(time), pad=2),\n",
    "          ':',\n",
    "          string(getsecond(time), pad=2))\n",
    "end\n",
    "\n",
    "struct MyTime <: AbstractTime\n",
    "    hour::Int\n",
    "    minute::Int\n",
    "    second::Int\n",
    "end\n",
    "\n",
    "gethour(time::MyTime) = time.hour\n",
    "getminute(time::MyTime) = time.minute\n",
    "getsecond(time::MyTime) = time.second\n",
    "\n",
    "struct MyTime2 <: AbstractTime\n",
    "    seconds::Int\n",
    "end\n",
    "\n",
    "gethour(time::MyTime2) = time.seconds ÷ 3600\n",
    "getminute(time::MyTime2) = time.seconds ÷ 60 % 60\n",
    "getsecond(time::MyTime2) = time.seconds % 60"
   ]
  },
  {
   "cell_type": "markdown",
   "id": "978e6e98",
   "metadata": {},
   "source": [
    "#### コード5-11.\t`MyTime` 型の利用例"
   ]
  },
  {
   "cell_type": "code",
   "execution_count": 35,
   "id": "6c541847",
   "metadata": {
    "ExecuteTime": {
     "end_time": "2023-01-27T14:24:11.530000+09:00",
     "start_time": "2023-01-27T05:24:08.459Z"
    }
   },
   "outputs": [
    {
     "data": {
      "text/plain": [
       "12:34:56"
      ]
     },
     "execution_count": 35,
     "metadata": {},
     "output_type": "execute_result"
    }
   ],
   "source": [
    "mytime = MyTime(12, 34, 56)"
   ]
  },
  {
   "cell_type": "code",
   "execution_count": 36,
   "id": "9ed7a5ce",
   "metadata": {
    "ExecuteTime": {
     "end_time": "2023-01-27T14:24:11.554000+09:00",
     "start_time": "2023-01-27T05:24:08.460Z"
    }
   },
   "outputs": [
    {
     "data": {
      "text/plain": [
       "\"12:34:56\""
      ]
     },
     "execution_count": 36,
     "metadata": {},
     "output_type": "execute_result"
    }
   ],
   "source": [
    "string(mytime)"
   ]
  },
  {
   "cell_type": "markdown",
   "id": "380126ab",
   "metadata": {},
   "source": [
    "#### コード5-12.\t`MyTime2` 型の利用例"
   ]
  },
  {
   "cell_type": "code",
   "execution_count": 37,
   "id": "6c73d710",
   "metadata": {
    "ExecuteTime": {
     "end_time": "2023-01-27T14:24:11.732000+09:00",
     "start_time": "2023-01-27T05:24:08.462Z"
    }
   },
   "outputs": [
    {
     "data": {
      "text/plain": [
       "02:46:40"
      ]
     },
     "execution_count": 37,
     "metadata": {},
     "output_type": "execute_result"
    }
   ],
   "source": [
    "mytime2 = MyTime2(10000)  # 午前0時の10000秒後は 2時46分40秒"
   ]
  },
  {
   "cell_type": "code",
   "execution_count": 38,
   "id": "9b598890",
   "metadata": {
    "ExecuteTime": {
     "end_time": "2023-01-27T14:24:11.752000+09:00",
     "start_time": "2023-01-27T05:24:08.464Z"
    }
   },
   "outputs": [
    {
     "data": {
      "text/plain": [
       "\"02:46:40\""
      ]
     },
     "execution_count": 38,
     "metadata": {},
     "output_type": "execute_result"
    }
   ],
   "source": [
    "string(mytime2)"
   ]
  },
  {
   "cell_type": "markdown",
   "id": "8f7bd6cc",
   "metadata": {},
   "source": [
    "### 5-2-4. メソッドの曖昧さの解決"
   ]
  },
  {
   "cell_type": "markdown",
   "id": "14fcf541",
   "metadata": {},
   "source": [
    "#### コード5-13.\t型シグニチャによる関数（`double()`）の多重定義例 (3)"
   ]
  },
  {
   "cell_type": "code",
   "execution_count": 39,
   "id": "a75bbb12",
   "metadata": {
    "ExecuteTime": {
     "end_time": "2023-01-27T14:24:11.753000+09:00",
     "start_time": "2023-01-27T05:24:08.466Z"
    }
   },
   "outputs": [
    {
     "data": {
      "text/plain": [
       "double (generic function with 5 methods)"
      ]
     },
     "execution_count": 39,
     "metadata": {},
     "output_type": "execute_result"
    }
   ],
   "source": [
    "double(x::Number, y::Float64) = double(x) + 2double(y)"
   ]
  },
  {
   "cell_type": "code",
   "execution_count": 40,
   "id": "3785e922",
   "metadata": {
    "ExecuteTime": {
     "end_time": "2023-01-27T14:24:11.754000+09:00",
     "start_time": "2023-01-27T05:24:08.467Z"
    }
   },
   "outputs": [
    {
     "data": {
      "text/plain": [
       "double (generic function with 6 methods)"
      ]
     },
     "execution_count": 40,
     "metadata": {},
     "output_type": "execute_result"
    }
   ],
   "source": [
    "double(x::Float64, y::Number) = 2double(x) + double(y)"
   ]
  },
  {
   "cell_type": "markdown",
   "id": "f8138a7d",
   "metadata": {},
   "source": [
    "#### コード5-14.\t`double()` 関数の実行例 (3): メソッドの曖昧さによるエラー例"
   ]
  },
  {
   "cell_type": "code",
   "execution_count": 41,
   "id": "21af5d05",
   "metadata": {
    "ExecuteTime": {
     "end_time": "2023-01-27T14:24:11.758000+09:00",
     "start_time": "2023-01-27T05:24:08.469Z"
    }
   },
   "outputs": [
    {
     "data": {
      "text/plain": [
       "10.0"
      ]
     },
     "execution_count": 41,
     "metadata": {},
     "output_type": "execute_result"
    }
   ],
   "source": [
    "double(1, 2.0)"
   ]
  },
  {
   "cell_type": "code",
   "execution_count": 42,
   "id": "722b22cd",
   "metadata": {
    "ExecuteTime": {
     "end_time": "2023-01-27T14:24:11.762000+09:00",
     "start_time": "2023-01-27T05:24:08.471Z"
    }
   },
   "outputs": [
    {
     "data": {
      "text/plain": [
       "8.0"
      ]
     },
     "execution_count": 42,
     "metadata": {},
     "output_type": "execute_result"
    }
   ],
   "source": [
    "double(1.0, 2)"
   ]
  },
  {
   "cell_type": "code",
   "execution_count": 43,
   "id": "5c3a0593",
   "metadata": {
    "ExecuteTime": {
     "end_time": "2023-01-27T14:24:12.773000+09:00",
     "start_time": "2023-01-27T05:24:08.472Z"
    }
   },
   "outputs": [
    {
     "ename": "LoadError",
     "evalue": "MethodError: double(::Float64, ::Float64) is ambiguous. Candidates:\n  double(x::Number, y::Float64) in Main at In[39]:1\n  double(x::Float64, y::Number) in Main at In[40]:1\nPossible fix, define\n  double(::Float64, ::Float64)",
     "output_type": "error",
     "traceback": [
      "MethodError: double(::Float64, ::Float64) is ambiguous. Candidates:\n  double(x::Number, y::Float64) in Main at In[39]:1\n  double(x::Float64, y::Number) in Main at In[40]:1\nPossible fix, define\n  double(::Float64, ::Float64)",
      "",
      "Stacktrace:",
      " [1] top-level scope",
      "   @ In[43]:1"
     ]
    }
   ],
   "source": [
    "double(1.0, 2.0)"
   ]
  },
  {
   "cell_type": "markdown",
   "id": "2eafbe46",
   "metadata": {},
   "source": [
    "#### コード5-15.\t型シグニチャによる関数（`double()`）の多重定義例 (4)"
   ]
  },
  {
   "cell_type": "code",
   "execution_count": 44,
   "id": "ff49703f",
   "metadata": {
    "ExecuteTime": {
     "end_time": "2023-01-27T14:24:12.774000+09:00",
     "start_time": "2023-01-27T05:24:08.474Z"
    }
   },
   "outputs": [
    {
     "data": {
      "text/plain": [
       "double (generic function with 7 methods)"
      ]
     },
     "execution_count": 44,
     "metadata": {},
     "output_type": "execute_result"
    }
   ],
   "source": [
    "double(x::Float64, y::Float64) = 2double(x) + 2double(y)"
   ]
  },
  {
   "cell_type": "code",
   "execution_count": 45,
   "id": "1b8ddb4b",
   "metadata": {
    "ExecuteTime": {
     "end_time": "2023-01-27T14:24:12.778000+09:00",
     "start_time": "2023-01-27T05:24:08.476Z"
    }
   },
   "outputs": [
    {
     "data": {
      "text/plain": [
       "12.0"
      ]
     },
     "execution_count": 45,
     "metadata": {},
     "output_type": "execute_result"
    }
   ],
   "source": [
    "double(1.0, 2.0)"
   ]
  },
  {
   "cell_type": "markdown",
   "id": "1a6a76d1",
   "metadata": {},
   "source": [
    "#### コード5-16.\t型シグニチャの不整合による「メソッドが見つからない」エラー例"
   ]
  },
  {
   "cell_type": "code",
   "execution_count": 46,
   "id": "60fb9ab8",
   "metadata": {
    "ExecuteTime": {
     "end_time": "2023-01-27T14:24:12.849000+09:00",
     "start_time": "2023-01-27T05:24:08.478Z"
    }
   },
   "outputs": [
    {
     "data": {
      "text/plain": [
       "_double (generic function with 1 method)"
      ]
     },
     "execution_count": 46,
     "metadata": {},
     "output_type": "execute_result"
    }
   ],
   "source": [
    "_double(s::String) = s^2"
   ]
  },
  {
   "cell_type": "code",
   "execution_count": 47,
   "id": "459cc238",
   "metadata": {
    "ExecuteTime": {
     "end_time": "2023-01-27T14:24:12.893000+09:00",
     "start_time": "2023-01-27T05:24:08.480Z"
    }
   },
   "outputs": [
    {
     "ename": "LoadError",
     "evalue": "MethodError: no method matching _double(::SubString{String})\n\u001b[0mClosest candidates are:\n\u001b[0m  _double(\u001b[91m::String\u001b[39m) at In[46]:1",
     "output_type": "error",
     "traceback": [
      "MethodError: no method matching _double(::SubString{String})\n\u001b[0mClosest candidates are:\n\u001b[0m  _double(\u001b[91m::String\u001b[39m) at In[46]:1",
      "",
      "Stacktrace:",
      " [1] top-level scope",
      "   @ In[47]:1"
     ]
    }
   ],
   "source": [
    "_double(strip(\"   ABCD   \"))"
   ]
  },
  {
   "cell_type": "markdown",
   "id": "e7782e11",
   "metadata": {},
   "source": [
    "### コラム. キーワード引数と多重ディスパッチ"
   ]
  },
  {
   "cell_type": "markdown",
   "id": "bbb53c4d",
   "metadata": {},
   "source": [
    "#### コード5-a. キーワード引数と多重ディスパッチ"
   ]
  },
  {
   "cell_type": "code",
   "execution_count": 48,
   "id": "b6b1b5aa",
   "metadata": {
    "ExecuteTime": {
     "end_time": "2023-01-27T14:24:12.960000+09:00",
     "start_time": "2023-01-27T05:24:08.482Z"
    }
   },
   "outputs": [
    {
     "data": {
      "text/plain": [
       "fn (generic function with 1 method)"
      ]
     },
     "execution_count": 48,
     "metadata": {},
     "output_type": "execute_result"
    }
   ],
   "source": [
    "fn(x, y; z=0.0) = x + y + z"
   ]
  },
  {
   "cell_type": "code",
   "execution_count": 49,
   "id": "315206df",
   "metadata": {
    "ExecuteTime": {
     "end_time": "2023-01-27T14:24:12.961000+09:00",
     "start_time": "2023-01-27T05:24:08.484Z"
    }
   },
   "outputs": [
    {
     "data": {
      "text/plain": [
       "fn (generic function with 1 method)"
      ]
     },
     "execution_count": 49,
     "metadata": {},
     "output_type": "execute_result"
    }
   ],
   "source": [
    "fn(x, y; u=\"\") = \"$(x + y)\" * u"
   ]
  },
  {
   "cell_type": "code",
   "execution_count": 50,
   "id": "56fc91c8",
   "metadata": {
    "ExecuteTime": {
     "end_time": "2023-01-27T14:24:12.970000+09:00",
     "start_time": "2023-01-27T05:24:08.485Z"
    }
   },
   "outputs": [
    {
     "data": {
      "text/plain": [
       "\"3kg\""
      ]
     },
     "execution_count": 50,
     "metadata": {},
     "output_type": "execute_result"
    }
   ],
   "source": [
    "fn(1, 2, u=\"kg\")"
   ]
  },
  {
   "cell_type": "code",
   "execution_count": 51,
   "id": "10ff064e",
   "metadata": {
    "ExecuteTime": {
     "end_time": "2023-01-27T14:24:13.137000+09:00",
     "start_time": "2023-01-27T05:24:08.487Z"
    }
   },
   "outputs": [
    {
     "ename": "LoadError",
     "evalue": "MethodError: no method matching fn(::Int64, ::Int64; z=3.0)\n\u001b[0mClosest candidates are:\n\u001b[0m  fn(::Any, ::Any; u) at In[49]:1\u001b[91m got unsupported keyword argument \"z\"\u001b[39m",
     "output_type": "error",
     "traceback": [
      "MethodError: no method matching fn(::Int64, ::Int64; z=3.0)\n\u001b[0mClosest candidates are:\n\u001b[0m  fn(::Any, ::Any; u) at In[49]:1\u001b[91m got unsupported keyword argument \"z\"\u001b[39m",
      "",
      "Stacktrace:",
      " [1] kwerr(::NamedTuple{(:z,), Tuple{Float64}}, ::Function, ::Int64, ::Int64)",
      "   @ Base ./error.jl:165",
      " [2] top-level scope",
      "   @ In[51]:1"
     ]
    }
   ],
   "source": [
    "fn(1, 2, z=3.0)"
   ]
  }
 ],
 "metadata": {
  "jupytext": {
   "formats": "ipynb,auto:light"
  },
  "kernelspec": {
   "display_name": "Julia 1.8.5",
   "language": "julia",
   "name": "julia-1.8"
  },
  "language_info": {
   "file_extension": ".jl",
   "mimetype": "application/julia",
   "name": "julia",
   "version": "1.8.5"
  }
 },
 "nbformat": 4,
 "nbformat_minor": 5
}
