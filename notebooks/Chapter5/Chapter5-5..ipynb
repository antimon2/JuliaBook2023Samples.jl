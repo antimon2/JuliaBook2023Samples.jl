{
 "cells": [
  {
   "cell_type": "code",
   "execution_count": 1,
   "id": "d9a50679",
   "metadata": {
    "ExecuteTime": {
     "end_time": "2023-01-27T14:31:11.872000+09:00",
     "start_time": "2023-01-27T05:31:11.246Z"
    }
   },
   "outputs": [
    {
     "name": "stdout",
     "output_type": "stream",
     "text": [
      "Julia Version 1.8.5\n",
      "Commit 17cfb8e65ea (2023-01-08 06:45 UTC)\n",
      "Platform Info:\n",
      "  OS: Linux (x86_64-linux-gnu)\n",
      "  CPU: 12 × Intel(R) Core(TM) i7-9750H CPU @ 2.60GHz\n",
      "  WORD_SIZE: 64\n",
      "  LIBM: libopenlibm\n",
      "  LLVM: libLLVM-13.0.1 (ORCJIT, skylake)\n",
      "  Threads: 1 on 12 virtual cores\n"
     ]
    }
   ],
   "source": [
    "versioninfo()"
   ]
  },
  {
   "cell_type": "markdown",
   "id": "9be5cd6c",
   "metadata": {},
   "source": [
    "## 5-5. 糖衣構文"
   ]
  },
  {
   "cell_type": "markdown",
   "id": "1de69741",
   "metadata": {},
   "source": [
    "### 5-5-1. 糖衣構文（の多く）も多重ディスパッチ"
   ]
  },
  {
   "cell_type": "markdown",
   "id": "2d233137",
   "metadata": {},
   "source": [
    "### 5-5-2. 例"
   ]
  },
  {
   "cell_type": "markdown",
   "id": "c379d640",
   "metadata": {},
   "source": [
    "#### 例1. インデクシング関連"
   ]
  },
  {
   "cell_type": "markdown",
   "id": "4f890db3",
   "metadata": {},
   "source": [
    "##### コード5-28.\tGeometricSequence.jl（コード5-20.、コード5-24. 再掲）"
   ]
  },
  {
   "cell_type": "code",
   "execution_count": 2,
   "id": "63da193c",
   "metadata": {
    "ExecuteTime": {
     "end_time": "2023-01-27T14:31:11.931000+09:00",
     "start_time": "2023-01-27T05:31:11.249Z"
    }
   },
   "outputs": [],
   "source": [
    "struct GeometricSequence{T<:Number} <: AbstractVector{T}\n",
    "    a::T\n",
    "    r::T\n",
    "    n::Int\n",
    "end\n",
    "\n",
    "function GeometricSequence(a::T1, r::T2, n::Integer) where {T1<:Number, T2<:Number}\n",
    "    GeometricSequence(promote(a, r)..., Int(n))\n",
    "end\n",
    "\n",
    "Base.length(seq::GeometricSequence) = seq.n\n",
    "Base.size(seq::GeometricSequence) = (seq.n,)\n",
    "Base.getindex(seq::GeometricSequence, index::Integer) = seq.a * seq.r ^ (index - 1)\n",
    "\n",
    "function Base.show(io::IO, seq::GeometricSequence)\n",
    "    print(io, \"GeometricSequence(\", seq.a, \", \", seq.r, \", \", seq.n, \")\")\n",
    "end\n",
    "Base.show(io::IO, ::MIME\"text/plain\", seq::GeometricSequence) = show(io, seq)\n",
    "\n",
    "function Base.sum(seq::GeometricSequence)\n",
    "    seq.a * (1 - seq.r^seq.n) / (1 - seq.r)\n",
    "end\n",
    "\n",
    "function Base.sum(seq::GeometricSequence{<:Rational})\n",
    "    c = numerator(seq.a)\n",
    "    b = denominator(seq.a)\n",
    "    q = numerator(seq.r)\n",
    "    p = denominator(seq.r)\n",
    "    n = seq.n\n",
    "    c * (p^n - q^n) // (b * p^(n-1) * (p - q))\n",
    "end\n",
    "\n",
    "function Base.sum(seq::GeometricSequence{<:Integer})\n",
    "    seq.a * ((seq.r^seq.n - 1) ÷ (seq.r - 1))\n",
    "end"
   ]
  },
  {
   "cell_type": "markdown",
   "id": "cb619ecd",
   "metadata": {},
   "source": [
    "##### コード5-29.\t`GeometricSequence` におけるインデクシングの動作例"
   ]
  },
  {
   "cell_type": "code",
   "execution_count": 3,
   "id": "243bf55a",
   "metadata": {
    "ExecuteTime": {
     "end_time": "2023-01-27T14:31:11.936000+09:00",
     "start_time": "2023-01-27T05:31:11.252Z"
    }
   },
   "outputs": [],
   "source": [
    "seq1 = GeometricSequence(1, 0.5, 20);"
   ]
  },
  {
   "cell_type": "code",
   "execution_count": 4,
   "id": "f3c221d8",
   "metadata": {
    "ExecuteTime": {
     "end_time": "2023-01-27T14:31:12.341000+09:00",
     "start_time": "2023-01-27T05:31:11.254Z"
    }
   },
   "outputs": [
    {
     "data": {
      "text/plain": [
       "true"
      ]
     },
     "execution_count": 4,
     "metadata": {},
     "output_type": "execute_result"
    }
   ],
   "source": [
    "seq1[1] == getindex(seq1, 1) == 1.0"
   ]
  },
  {
   "cell_type": "code",
   "execution_count": 5,
   "id": "dc5e9880",
   "metadata": {
    "ExecuteTime": {
     "end_time": "2023-01-27T14:31:12.342000+09:00",
     "start_time": "2023-01-27T05:31:11.256Z"
    }
   },
   "outputs": [
    {
     "data": {
      "text/plain": [
       "true"
      ]
     },
     "execution_count": 5,
     "metadata": {},
     "output_type": "execute_result"
    }
   ],
   "source": [
    "seq1[2] == getindex(seq1, 2) == 0.5"
   ]
  },
  {
   "cell_type": "code",
   "execution_count": 6,
   "id": "d80b32ce",
   "metadata": {
    "ExecuteTime": {
     "end_time": "2023-01-27T14:31:12.568000+09:00",
     "start_time": "2023-01-27T05:31:11.258Z"
    }
   },
   "outputs": [
    {
     "data": {
      "text/plain": [
       "0.001953125"
      ]
     },
     "execution_count": 6,
     "metadata": {},
     "output_type": "execute_result"
    }
   ],
   "source": [
    "seq1[10]"
   ]
  },
  {
   "cell_type": "code",
   "execution_count": 7,
   "id": "e88d495c",
   "metadata": {
    "ExecuteTime": {
     "end_time": "2023-01-27T14:31:12.569000+09:00",
     "start_time": "2023-01-27T05:31:11.259Z"
    }
   },
   "outputs": [
    {
     "data": {
      "text/plain": [
       "1.9073486328125e-6"
      ]
     },
     "execution_count": 7,
     "metadata": {},
     "output_type": "execute_result"
    }
   ],
   "source": [
    "seq1[20]"
   ]
  },
  {
   "cell_type": "code",
   "execution_count": 8,
   "id": "2e29bd96",
   "metadata": {
    "ExecuteTime": {
     "end_time": "2023-01-27T14:31:13.455000+09:00",
     "start_time": "2023-01-27T05:31:11.260Z"
    }
   },
   "outputs": [
    {
     "data": {
      "text/plain": [
       "3-element Vector{Float64}:\n",
       " 0.5\n",
       " 0.25\n",
       " 0.125"
      ]
     },
     "execution_count": 8,
     "metadata": {},
     "output_type": "execute_result"
    }
   ],
   "source": [
    "seq1[2:4]"
   ]
  },
  {
   "cell_type": "code",
   "execution_count": 9,
   "id": "457cce1c",
   "metadata": {
    "ExecuteTime": {
     "end_time": "2023-01-27T14:31:13.456000+09:00",
     "start_time": "2023-01-27T05:31:11.262Z"
    }
   },
   "outputs": [
    {
     "data": {
      "text/plain": [
       "1.0"
      ]
     },
     "execution_count": 9,
     "metadata": {},
     "output_type": "execute_result"
    }
   ],
   "source": [
    "seq1[begin]"
   ]
  },
  {
   "cell_type": "code",
   "execution_count": 10,
   "id": "9a989038",
   "metadata": {
    "ExecuteTime": {
     "end_time": "2023-01-27T14:31:13.459000+09:00",
     "start_time": "2023-01-27T05:31:11.265Z"
    }
   },
   "outputs": [
    {
     "data": {
      "text/plain": [
       "1.9073486328125e-6"
      ]
     },
     "execution_count": 10,
     "metadata": {},
     "output_type": "execute_result"
    }
   ],
   "source": [
    "seq1[end]"
   ]
  },
  {
   "cell_type": "markdown",
   "id": "f6f025e9",
   "metadata": {},
   "source": [
    "##### コード5-30.\tFreeIndexList.jl"
   ]
  },
  {
   "cell_type": "code",
   "execution_count": 11,
   "id": "b03efecd",
   "metadata": {
    "ExecuteTime": {
     "end_time": "2023-01-27T14:31:13.466000+09:00",
     "start_time": "2023-01-27T05:31:11.267Z"
    }
   },
   "outputs": [],
   "source": [
    "mutable struct FreeIndexList{N<:Number}\n",
    "    _begin::Int\n",
    "    _end::Int\n",
    "    data::Dict{Int, N}\n",
    "\n",
    "    FreeIndexList{N}() where {N} = new{N}(1, 0, Dict{Int, N}())\n",
    "    function FreeIndexList(src::AbstractVector{N}) where {N}\n",
    "        _begin = firstindex(src)\n",
    "        _end = lastindex(src)\n",
    "        d = Dict(i=>src[i] for i in _begin:_end)\n",
    "        new{N}(_begin, _end, d)\n",
    "    end\n",
    "end\n",
    "\n",
    "# getindex()\n",
    "Base.getindex(fil::FreeIndexList{N}, i) where N = get(fil.data, i, zero(N))\n",
    "Base.getindex(fil::FreeIndexList, idxs::AbstractVector) = [fil[i] for i in idxs]\n",
    "\n",
    "# setindex!()\n",
    "function Base.setindex!(fil::FreeIndexList, v, i)\n",
    "    if fil._begin > fil._end\n",
    "        fil._begin = fil._end = i\n",
    "    else\n",
    "        fil._begin > i && (fil._begin = i)\n",
    "        fil._end < i && (fil._end = i)\n",
    "    end\n",
    "    fil.data[i] = v\n",
    "end\n",
    "\n",
    "# `begin`\n",
    "Base.firstindex(fil::FreeIndexList) = fil._begin\n",
    "\n",
    "# `end`\n",
    "Base.lastindex(fil::FreeIndexList) = fil._end"
   ]
  },
  {
   "cell_type": "markdown",
   "id": "60f2c961",
   "metadata": {},
   "source": [
    "##### コード5-31.\t`FreeIndexList` のインデクシング動作例"
   ]
  },
  {
   "cell_type": "code",
   "execution_count": 12,
   "id": "f6f029b4",
   "metadata": {
    "ExecuteTime": {
     "end_time": "2023-01-27T14:31:14.031000+09:00",
     "start_time": "2023-01-27T05:31:11.269Z"
    }
   },
   "outputs": [
    {
     "data": {
      "text/plain": [
       "FreeIndexList{Int64}(1, 5, Dict(5 => 5, 4 => 3, 2 => 1, 3 => 2, 1 => 1))"
      ]
     },
     "execution_count": 12,
     "metadata": {},
     "output_type": "execute_result"
    }
   ],
   "source": [
    "fil = FreeIndexList([1, 1, 2, 3, 5])"
   ]
  },
  {
   "cell_type": "code",
   "execution_count": 13,
   "id": "308ea65b",
   "metadata": {
    "ExecuteTime": {
     "end_time": "2023-01-27T14:31:14.189000+09:00",
     "start_time": "2023-01-27T05:31:11.270Z"
    }
   },
   "outputs": [
    {
     "data": {
      "text/plain": [
       "1"
      ]
     },
     "execution_count": 13,
     "metadata": {},
     "output_type": "execute_result"
    }
   ],
   "source": [
    "fil[1]  # == getindex(fil, 1)"
   ]
  },
  {
   "cell_type": "code",
   "execution_count": 14,
   "id": "93ef1563",
   "metadata": {
    "ExecuteTime": {
     "end_time": "2023-01-27T14:31:14.517000+09:00",
     "start_time": "2023-01-27T05:31:11.272Z"
    }
   },
   "outputs": [
    {
     "data": {
      "text/plain": [
       "5-element Vector{Int64}:\n",
       " 1\n",
       " 2\n",
       " 3\n",
       " 5\n",
       " 0"
      ]
     },
     "execution_count": 14,
     "metadata": {},
     "output_type": "execute_result"
    }
   ],
   "source": [
    "fil[2:6]  # == getindex(fil, 2:6)"
   ]
  },
  {
   "cell_type": "code",
   "execution_count": 15,
   "id": "6268a26e",
   "metadata": {
    "ExecuteTime": {
     "end_time": "2023-01-27T14:31:14.528000+09:00",
     "start_time": "2023-01-27T05:31:11.273Z"
    }
   },
   "outputs": [],
   "source": [
    "for i = 6:10\n",
    "    fil[i] = fil[i-1] + fil[i-2]\n",
    "end"
   ]
  },
  {
   "cell_type": "code",
   "execution_count": 16,
   "id": "54c287d6",
   "metadata": {
    "ExecuteTime": {
     "end_time": "2023-01-27T14:31:14.529000+09:00",
     "start_time": "2023-01-27T05:31:11.275Z"
    }
   },
   "outputs": [
    {
     "data": {
      "text/plain": [
       "FreeIndexList{Int64}(1, 10, Dict(5 => 5, 4 => 3, 6 => 8, 7 => 13, 2 => 1, 10 => 55, 9 => 34, 8 => 21, 3 => 2, 1 => 1…))"
      ]
     },
     "execution_count": 16,
     "metadata": {},
     "output_type": "execute_result"
    }
   ],
   "source": [
    "fil"
   ]
  },
  {
   "cell_type": "code",
   "execution_count": 17,
   "id": "fa32b56d",
   "metadata": {
    "ExecuteTime": {
     "end_time": "2023-01-27T14:31:14.532000+09:00",
     "start_time": "2023-01-27T05:31:11.276Z"
    }
   },
   "outputs": [
    {
     "data": {
      "text/plain": [
       "55"
      ]
     },
     "execution_count": 17,
     "metadata": {},
     "output_type": "execute_result"
    }
   ],
   "source": [
    "fil[end]"
   ]
  },
  {
   "cell_type": "code",
   "execution_count": 18,
   "id": "b4e774df",
   "metadata": {
    "ExecuteTime": {
     "end_time": "2023-01-27T14:31:14.541000+09:00",
     "start_time": "2023-01-27T05:31:11.277Z"
    }
   },
   "outputs": [],
   "source": [
    "for i = -1:-1:-10\n",
    "    fil[i] = fil[i+2] - fil[i+1]\n",
    "end"
   ]
  },
  {
   "cell_type": "code",
   "execution_count": 19,
   "id": "7cb44d40",
   "metadata": {
    "ExecuteTime": {
     "end_time": "2023-01-27T14:31:14.544000+09:00",
     "start_time": "2023-01-27T05:31:11.279Z"
    }
   },
   "outputs": [
    {
     "data": {
      "text/plain": [
       "true"
      ]
     },
     "execution_count": 19,
     "metadata": {},
     "output_type": "execute_result"
    }
   ],
   "source": [
    "fil[-10] == fil[begin] == -55"
   ]
  },
  {
   "cell_type": "code",
   "execution_count": 20,
   "id": "d0849b9c",
   "metadata": {
    "ExecuteTime": {
     "end_time": "2023-01-27T14:31:14.546000+09:00",
     "start_time": "2023-01-27T05:31:11.280Z"
    }
   },
   "outputs": [
    {
     "data": {
      "text/plain": [
       "21-element Vector{Int64}:\n",
       " -55\n",
       "  34\n",
       " -21\n",
       "  13\n",
       "  -8\n",
       "   5\n",
       "  -3\n",
       "   2\n",
       "  -1\n",
       "   1\n",
       "   0\n",
       "   1\n",
       "   1\n",
       "   2\n",
       "   3\n",
       "   5\n",
       "   8\n",
       "  13\n",
       "  21\n",
       "  34\n",
       "  55"
      ]
     },
     "execution_count": 20,
     "metadata": {},
     "output_type": "execute_result"
    }
   ],
   "source": [
    "fil[begin:end]  # == fil[-10:10]"
   ]
  },
  {
   "cell_type": "markdown",
   "id": "fa66c9d3",
   "metadata": {},
   "source": [
    "#### 例2. プロパティ"
   ]
  },
  {
   "cell_type": "markdown",
   "id": "b13833d6",
   "metadata": {},
   "source": [
    "##### コード5-32.\tプロパティ参照の定義・実行例 (1)"
   ]
  },
  {
   "cell_type": "code",
   "execution_count": 21,
   "id": "fe4885ff",
   "metadata": {
    "ExecuteTime": {
     "end_time": "2023-01-27T14:31:14.547000+09:00",
     "start_time": "2023-01-27T05:31:11.282Z"
    }
   },
   "outputs": [],
   "source": [
    "struct PropParrot end"
   ]
  },
  {
   "cell_type": "code",
   "execution_count": 22,
   "id": "43581d13",
   "metadata": {
    "ExecuteTime": {
     "end_time": "2023-01-27T14:31:14.548000+09:00",
     "start_time": "2023-01-27T05:31:11.284Z"
    }
   },
   "outputs": [],
   "source": [
    "Base.getproperty(::PropParrot, name::Symbol) = name"
   ]
  },
  {
   "cell_type": "code",
   "execution_count": 23,
   "id": "1ef06d1c",
   "metadata": {
    "ExecuteTime": {
     "end_time": "2023-01-27T14:31:14.725000+09:00",
     "start_time": "2023-01-27T05:31:11.286Z"
    }
   },
   "outputs": [
    {
     "data": {
      "text/plain": [
       "PropParrot()"
      ]
     },
     "execution_count": 23,
     "metadata": {},
     "output_type": "execute_result"
    }
   ],
   "source": [
    "parrot = PropParrot()"
   ]
  },
  {
   "cell_type": "code",
   "execution_count": 24,
   "id": "0b7fdbdb",
   "metadata": {
    "ExecuteTime": {
     "end_time": "2023-01-27T14:31:15.846000+09:00",
     "start_time": "2023-01-27T05:31:11.287Z"
    }
   },
   "outputs": [
    {
     "data": {
      "text/plain": [
       ":a"
      ]
     },
     "execution_count": 24,
     "metadata": {},
     "output_type": "execute_result"
    }
   ],
   "source": [
    "parrot.a"
   ]
  },
  {
   "cell_type": "code",
   "execution_count": 25,
   "id": "c2b7b9d5",
   "metadata": {
    "ExecuteTime": {
     "end_time": "2023-01-27T14:31:15.846000+09:00",
     "start_time": "2023-01-27T05:31:11.289Z"
    }
   },
   "outputs": [
    {
     "data": {
      "text/plain": [
       ":do"
      ]
     },
     "execution_count": 25,
     "metadata": {},
     "output_type": "execute_result"
    }
   ],
   "source": [
    "parrot.do"
   ]
  },
  {
   "cell_type": "code",
   "execution_count": 26,
   "id": "ae2cbaf5",
   "metadata": {
    "ExecuteTime": {
     "end_time": "2023-01-27T14:31:15.847000+09:00",
     "start_time": "2023-01-27T05:31:11.291Z"
    }
   },
   "outputs": [
    {
     "data": {
      "text/plain": [
       ":some_long_name"
      ]
     },
     "execution_count": 26,
     "metadata": {},
     "output_type": "execute_result"
    }
   ],
   "source": [
    "parrot.some_long_name"
   ]
  },
  {
   "cell_type": "code",
   "execution_count": 27,
   "id": "d683580c",
   "metadata": {
    "ExecuteTime": {
     "end_time": "2023-01-27T14:31:15.847000+09:00",
     "start_time": "2023-01-27T05:31:11.292Z"
    }
   },
   "outputs": [
    {
     "data": {
      "text/plain": [
       ":日本語もOK"
      ]
     },
     "execution_count": 27,
     "metadata": {},
     "output_type": "execute_result"
    }
   ],
   "source": [
    "parrot.日本語もOK"
   ]
  },
  {
   "cell_type": "code",
   "execution_count": 28,
   "id": "c2efe7f0",
   "metadata": {
    "ExecuteTime": {
     "end_time": "2023-01-27T14:31:15.848000+09:00",
     "start_time": "2023-01-27T05:31:11.294Z"
    }
   },
   "outputs": [
    {
     "data": {
      "text/plain": [
       "Symbol(\"こうすれば スペース区切でも OK!\")"
      ]
     },
     "execution_count": 28,
     "metadata": {},
     "output_type": "execute_result"
    }
   ],
   "source": [
    "parrot.var\"こうすれば スペース区切でも OK!\""
   ]
  },
  {
   "cell_type": "markdown",
   "id": "5bd0a8d8",
   "metadata": {},
   "source": [
    "##### コード5-33.\tプロパティ参照の定義・実行例 (2)"
   ]
  },
  {
   "cell_type": "code",
   "execution_count": 29,
   "id": "8193b67f",
   "metadata": {
    "ExecuteTime": {
     "end_time": "2023-01-27T14:31:15.851000+09:00",
     "start_time": "2023-01-27T05:31:11.296Z"
    }
   },
   "outputs": [],
   "source": [
    "struct PropParrot2{X, Y}\n",
    "    x::X\n",
    "    y::Y\n",
    "end"
   ]
  },
  {
   "cell_type": "code",
   "execution_count": 30,
   "id": "8067b365",
   "metadata": {
    "ExecuteTime": {
     "end_time": "2023-01-27T14:31:15.852000+09:00",
     "start_time": "2023-01-27T05:31:11.297Z"
    }
   },
   "outputs": [],
   "source": [
    "function Base.getproperty(parrot2::PropParrot2, name::Symbol)\n",
    "    hasfield(PropParrot2, name) && return getfield(parrot2, name)\n",
    "    name\n",
    "end"
   ]
  },
  {
   "cell_type": "code",
   "execution_count": 31,
   "id": "a9a6d3d0",
   "metadata": {
    "ExecuteTime": {
     "end_time": "2023-01-27T14:31:16.057000+09:00",
     "start_time": "2023-01-27T05:31:11.299Z"
    }
   },
   "outputs": [
    {
     "data": {
      "text/plain": [
       "PropParrot2{Int64, String}(123, \"漢字\")"
      ]
     },
     "execution_count": 31,
     "metadata": {},
     "output_type": "execute_result"
    }
   ],
   "source": [
    "parrot2 = PropParrot2(123, \"漢字\")"
   ]
  },
  {
   "cell_type": "code",
   "execution_count": 32,
   "id": "ebb4d410",
   "metadata": {
    "ExecuteTime": {
     "end_time": "2023-01-27T14:31:16.066000+09:00",
     "start_time": "2023-01-27T05:31:11.301Z"
    }
   },
   "outputs": [
    {
     "data": {
      "text/plain": [
       "123"
      ]
     },
     "execution_count": 32,
     "metadata": {},
     "output_type": "execute_result"
    }
   ],
   "source": [
    "parrot2.x"
   ]
  },
  {
   "cell_type": "code",
   "execution_count": 33,
   "id": "727ed266",
   "metadata": {
    "ExecuteTime": {
     "end_time": "2023-01-27T14:31:16.470000+09:00",
     "start_time": "2023-01-27T05:31:11.302Z"
    }
   },
   "outputs": [
    {
     "data": {
      "text/plain": [
       "\"漢字\""
      ]
     },
     "execution_count": 33,
     "metadata": {},
     "output_type": "execute_result"
    }
   ],
   "source": [
    "parrot2.y"
   ]
  },
  {
   "cell_type": "code",
   "execution_count": 34,
   "id": "134856ab",
   "metadata": {
    "ExecuteTime": {
     "end_time": "2023-01-27T14:31:16.471000+09:00",
     "start_time": "2023-01-27T05:31:11.304Z"
    }
   },
   "outputs": [
    {
     "data": {
      "text/plain": [
       ":z"
      ]
     },
     "execution_count": 34,
     "metadata": {},
     "output_type": "execute_result"
    }
   ],
   "source": [
    "parrot2.z"
   ]
  },
  {
   "cell_type": "code",
   "execution_count": 35,
   "id": "63963ab2",
   "metadata": {
    "ExecuteTime": {
     "end_time": "2023-01-27T14:31:16.471000+09:00",
     "start_time": "2023-01-27T05:31:11.306Z"
    }
   },
   "outputs": [
    {
     "data": {
      "text/plain": [
       "Symbol(\"x,y,z\")"
      ]
     },
     "execution_count": 35,
     "metadata": {},
     "output_type": "execute_result"
    }
   ],
   "source": [
    "parrot2.var\"x,y,z\""
   ]
  },
  {
   "cell_type": "markdown",
   "id": "05d03bbc",
   "metadata": {},
   "source": [
    "##### コード5-34.\tFuture.jl"
   ]
  },
  {
   "cell_type": "code",
   "execution_count": 36,
   "id": "c57603fe",
   "metadata": {
    "ExecuteTime": {
     "end_time": "2023-01-27T14:31:16.475000+09:00",
     "start_time": "2023-01-27T05:31:11.307Z"
    }
   },
   "outputs": [],
   "source": [
    "mutable struct Future\n",
    "    value\n",
    "    done::Bool\n",
    "\n",
    "    function Future()\n",
    "        object = new()\n",
    "        # object.done = false\n",
    "        setfield!(object, :done, false)\n",
    "        object\n",
    "    end\n",
    "    function Future(value)\n",
    "        new(value, true)\n",
    "    end\n",
    "end\n",
    "\n",
    "function Base.getproperty(f::Future, name::Symbol)\n",
    "    name === :value || return getfield(f, name)\n",
    "    f.done || error(\"the field `value` has not been setteled yet\")\n",
    "    getfield(f, :value)  # `f.value` と書いては絶対ダメ\n",
    "end\n",
    "\n",
    "function Base.setproperty!(f::Future, name::Symbol, value)\n",
    "    name === :done && error(\"the field `done` cannot be changed manually\")\n",
    "    name === :value || return setfield!(f, name, value)  # この場合はなくても良い\n",
    "    f.done && error(\"`value` has already been set.\")\n",
    "    setfield!(f, :done, true)  # `f.done = true` と書いてはいけない\n",
    "    setfield!(f, :value, value)  # `f.value = value` と書いては絶対ダメ\n",
    "end"
   ]
  },
  {
   "cell_type": "markdown",
   "id": "245e974d",
   "metadata": {},
   "source": [
    "##### コード5-35.\t`Future` の動作例"
   ]
  },
  {
   "cell_type": "code",
   "execution_count": 37,
   "id": "68842cd6",
   "metadata": {
    "ExecuteTime": {
     "end_time": "2023-01-27T14:31:16.663000+09:00",
     "start_time": "2023-01-27T05:31:11.309Z"
    }
   },
   "outputs": [
    {
     "data": {
      "text/plain": [
       "Future(#undef, false)"
      ]
     },
     "execution_count": 37,
     "metadata": {},
     "output_type": "execute_result"
    }
   ],
   "source": [
    "f1 = Future()"
   ]
  },
  {
   "cell_type": "code",
   "execution_count": 38,
   "id": "02bd7ad8",
   "metadata": {
    "ExecuteTime": {
     "end_time": "2023-01-27T14:31:16.668000+09:00",
     "start_time": "2023-01-27T05:31:11.311Z"
    }
   },
   "outputs": [
    {
     "data": {
      "text/plain": [
       "false"
      ]
     },
     "execution_count": 38,
     "metadata": {},
     "output_type": "execute_result"
    }
   ],
   "source": [
    "f1.done"
   ]
  },
  {
   "cell_type": "code",
   "execution_count": 39,
   "id": "0f82f78a",
   "metadata": {
    "ExecuteTime": {
     "end_time": "2023-01-27T14:31:17.402000+09:00",
     "start_time": "2023-01-27T05:31:11.313Z"
    }
   },
   "outputs": [
    {
     "ename": "LoadError",
     "evalue": "the field `value` has not been setteled yet",
     "output_type": "error",
     "traceback": [
      "the field `value` has not been setteled yet",
      "",
      "Stacktrace:",
      " [1] error(s::String)",
      "   @ Base ./error.jl:35",
      " [2] getproperty(f::Future, name::Symbol)",
      "   @ Main ./In[36]:18",
      " [3] top-level scope",
      "   @ In[39]:1"
     ]
    }
   ],
   "source": [
    "f1.value"
   ]
  },
  {
   "cell_type": "code",
   "execution_count": 40,
   "id": "9026322d",
   "metadata": {
    "ExecuteTime": {
     "end_time": "2023-01-27T14:31:17.408000+09:00",
     "start_time": "2023-01-27T05:31:11.316Z"
    }
   },
   "outputs": [
    {
     "data": {
      "text/plain": [
       "\"A String\""
      ]
     },
     "execution_count": 40,
     "metadata": {},
     "output_type": "execute_result"
    }
   ],
   "source": [
    "f1.value = \"A String\""
   ]
  },
  {
   "cell_type": "code",
   "execution_count": 41,
   "id": "92f8703d",
   "metadata": {
    "ExecuteTime": {
     "end_time": "2023-01-27T14:31:17.408000+09:00",
     "start_time": "2023-01-27T05:31:11.318Z"
    }
   },
   "outputs": [
    {
     "data": {
      "text/plain": [
       "true"
      ]
     },
     "execution_count": 41,
     "metadata": {},
     "output_type": "execute_result"
    }
   ],
   "source": [
    "f1.done"
   ]
  },
  {
   "cell_type": "code",
   "execution_count": 42,
   "id": "44a414a2",
   "metadata": {
    "ExecuteTime": {
     "end_time": "2023-01-27T14:31:17.409000+09:00",
     "start_time": "2023-01-27T05:31:11.319Z"
    }
   },
   "outputs": [
    {
     "data": {
      "text/plain": [
       "\"A String\""
      ]
     },
     "execution_count": 42,
     "metadata": {},
     "output_type": "execute_result"
    }
   ],
   "source": [
    "f1.value"
   ]
  },
  {
   "cell_type": "code",
   "execution_count": 43,
   "id": "72f1468d",
   "metadata": {
    "ExecuteTime": {
     "end_time": "2023-01-27T14:31:17.415000+09:00",
     "start_time": "2023-01-27T05:31:11.320Z"
    }
   },
   "outputs": [
    {
     "data": {
      "text/plain": [
       "Future(π, true)"
      ]
     },
     "execution_count": 43,
     "metadata": {},
     "output_type": "execute_result"
    }
   ],
   "source": [
    "f2 = Future(π)"
   ]
  },
  {
   "cell_type": "code",
   "execution_count": 44,
   "id": "5c5da73d",
   "metadata": {
    "ExecuteTime": {
     "end_time": "2023-01-27T14:31:17.415000+09:00",
     "start_time": "2023-01-27T05:31:11.322Z"
    }
   },
   "outputs": [
    {
     "data": {
      "text/plain": [
       "true"
      ]
     },
     "execution_count": 44,
     "metadata": {},
     "output_type": "execute_result"
    }
   ],
   "source": [
    "f2.done"
   ]
  },
  {
   "cell_type": "code",
   "execution_count": 45,
   "id": "3359c2ac",
   "metadata": {
    "ExecuteTime": {
     "end_time": "2023-01-27T14:31:17.630000+09:00",
     "start_time": "2023-01-27T05:31:11.323Z"
    }
   },
   "outputs": [
    {
     "data": {
      "text/plain": [
       "π = 3.1415926535897..."
      ]
     },
     "execution_count": 45,
     "metadata": {},
     "output_type": "execute_result"
    }
   ],
   "source": [
    "f2.value"
   ]
  },
  {
   "cell_type": "code",
   "execution_count": 46,
   "id": "8ae3ba0d",
   "metadata": {
    "ExecuteTime": {
     "end_time": "2023-01-27T14:31:17.643000+09:00",
     "start_time": "2023-01-27T05:31:11.324Z"
    }
   },
   "outputs": [
    {
     "ename": "LoadError",
     "evalue": "`value` has already been set.",
     "output_type": "error",
     "traceback": [
      "`value` has already been set.",
      "",
      "Stacktrace:",
      " [1] error(s::String)",
      "   @ Base ./error.jl:35",
      " [2] setproperty!(f::Future, name::Symbol, value::String)",
      "   @ Main ./In[36]:25",
      " [3] top-level scope",
      "   @ In[46]:1"
     ]
    }
   ],
   "source": [
    "f2.value = \"Other Value\""
   ]
  },
  {
   "cell_type": "code",
   "execution_count": 47,
   "id": "ffade6bc",
   "metadata": {
    "ExecuteTime": {
     "end_time": "2023-01-27T14:31:17.662000+09:00",
     "start_time": "2023-01-27T05:31:11.326Z"
    }
   },
   "outputs": [
    {
     "ename": "LoadError",
     "evalue": "the field `done` cannot be changed manually",
     "output_type": "error",
     "traceback": [
      "the field `done` cannot be changed manually",
      "",
      "Stacktrace:",
      " [1] error(s::String)",
      "   @ Base ./error.jl:35",
      " [2] setproperty!(f::Future, name::Symbol, value::Bool)",
      "   @ Main ./In[36]:23",
      " [3] top-level scope",
      "   @ In[47]:1"
     ]
    }
   ],
   "source": [
    "f2.done = false"
   ]
  },
  {
   "cell_type": "markdown",
   "id": "7667c854",
   "metadata": {},
   "source": [
    "#### 例3. 後置演算子 `'～`"
   ]
  },
  {
   "cell_type": "markdown",
   "id": "2ec4b74a",
   "metadata": {},
   "source": [
    "##### コード5-36.\t後置演算子 `'` の多重定義例"
   ]
  },
  {
   "cell_type": "code",
   "execution_count": 48,
   "id": "00b47b25",
   "metadata": {
    "ExecuteTime": {
     "end_time": "2023-01-27T14:31:17.676000+09:00",
     "start_time": "2023-01-27T05:31:11.328Z"
    }
   },
   "outputs": [],
   "source": [
    "let _trtable = Dict(\n",
    "    'い'=>'こ','こ'=>'い','く'=>'へ','へ'=>'く','し'=>'つ','つ'=>'し','も'=>'や','や'=>'も',\n",
    "    'キ'=>'サ','サ'=>'キ','シ'=>'ツ','ツ'=>'シ','セ'=>'ヤ','ヤ'=>'セ','ソ'=>'ン','ン'=>'ソ',\n",
    "    'フ'=>'レ','レ'=>'フ','マ'=>'ム','ム'=>'マ','ラ'=>'ル','ル'=>'ラ'\n",
    ")\n",
    "    Base.var\"'\"(c::AbstractChar) = get(_trtable, c, c)\n",
    "    # ↓のように書いても同じ\n",
    "    # Base.adjoint(c::AbstractChar) = get(_trtable, c, c)\n",
    "end"
   ]
  },
  {
   "cell_type": "code",
   "execution_count": 49,
   "id": "f83ce1d4",
   "metadata": {
    "ExecuteTime": {
     "end_time": "2023-01-27T14:31:17.938000+09:00",
     "start_time": "2023-01-27T05:31:11.330Z"
    }
   },
   "outputs": [
    {
     "data": {
      "text/plain": [
       "'A': ASCII/Unicode U+0041 (category Lu: Letter, uppercase)"
      ]
     },
     "execution_count": 49,
     "metadata": {},
     "output_type": "execute_result"
    }
   ],
   "source": [
    "'A''"
   ]
  },
  {
   "cell_type": "code",
   "execution_count": 50,
   "id": "0451f351",
   "metadata": {
    "ExecuteTime": {
     "end_time": "2023-01-27T14:31:17.939000+09:00",
     "start_time": "2023-01-27T05:31:11.331Z"
    }
   },
   "outputs": [
    {
     "data": {
      "text/plain": [
       "'こ': Unicode U+3053 (category Lo: Letter, other)"
      ]
     },
     "execution_count": 50,
     "metadata": {},
     "output_type": "execute_result"
    }
   ],
   "source": [
    "'い''"
   ]
  },
  {
   "cell_type": "code",
   "execution_count": 51,
   "id": "bfddeb3c",
   "metadata": {
    "ExecuteTime": {
     "end_time": "2023-01-27T14:31:18.381000+09:00",
     "start_time": "2023-01-27T05:31:11.332Z"
    }
   },
   "outputs": [
    {
     "data": {
      "text/plain": [
       "1×7 adjoint(::Vector{Char}) with eltype Char:\n",
       " 'も'  'や'  'し'  'ラ'  'ー'  'メ'  'ン'"
      ]
     },
     "execution_count": 51,
     "metadata": {},
     "output_type": "execute_result"
    }
   ],
   "source": [
    "['や', 'も', 'つ', 'ル', 'ー', 'メ', 'ソ']'"
   ]
  },
  {
   "cell_type": "markdown",
   "id": "8972aa13",
   "metadata": {},
   "source": [
    "##### コード5-37.\t後置演算子 `'～` の定義例"
   ]
  },
  {
   "cell_type": "code",
   "execution_count": 52,
   "id": "6f0f5819",
   "metadata": {
    "ExecuteTime": {
     "end_time": "2023-01-27T14:31:18.558000+09:00",
     "start_time": "2023-01-27T05:31:11.334Z"
    }
   },
   "outputs": [
    {
     "data": {
      "text/plain": [
       "transpose (generic function with 28 methods)"
      ]
     },
     "execution_count": 52,
     "metadata": {},
     "output_type": "execute_result"
    }
   ],
   "source": [
    "const var\"'⁺\" = transpose  # `'⁺` は `'\\^+` + TAB で変換可能"
   ]
  },
  {
   "cell_type": "code",
   "execution_count": 53,
   "id": "913d1cf5",
   "metadata": {
    "ExecuteTime": {
     "end_time": "2023-01-27T14:31:18.830000+09:00",
     "start_time": "2023-01-27T05:31:11.335Z"
    }
   },
   "outputs": [
    {
     "data": {
      "text/plain": [
       "2×2 Matrix{Int64}:\n",
       " 1  2\n",
       " 3  4"
      ]
     },
     "execution_count": 53,
     "metadata": {},
     "output_type": "execute_result"
    }
   ],
   "source": [
    "A = [1 2; 3 4]"
   ]
  },
  {
   "cell_type": "code",
   "execution_count": 54,
   "id": "3fecac8d",
   "metadata": {
    "ExecuteTime": {
     "end_time": "2023-01-27T14:31:19.127000+09:00",
     "start_time": "2023-01-27T05:31:11.336Z"
    }
   },
   "outputs": [
    {
     "data": {
      "text/plain": [
       "2×2 adjoint(::Matrix{Int64}) with eltype Int64:\n",
       " 1  3\n",
       " 2  4"
      ]
     },
     "execution_count": 54,
     "metadata": {},
     "output_type": "execute_result"
    }
   ],
   "source": [
    "A'"
   ]
  },
  {
   "cell_type": "code",
   "execution_count": 55,
   "id": "d3b5d29c",
   "metadata": {
    "ExecuteTime": {
     "end_time": "2023-01-27T14:31:19.422000+09:00",
     "start_time": "2023-01-27T05:31:11.338Z"
    }
   },
   "outputs": [
    {
     "data": {
      "text/plain": [
       "2×2 transpose(::Matrix{Int64}) with eltype Int64:\n",
       " 1  3\n",
       " 2  4"
      ]
     },
     "execution_count": 55,
     "metadata": {},
     "output_type": "execute_result"
    }
   ],
   "source": [
    "A'⁺"
   ]
  },
  {
   "cell_type": "code",
   "execution_count": 56,
   "id": "99f40a70",
   "metadata": {
    "ExecuteTime": {
     "end_time": "2023-01-27T14:31:19.494000+09:00",
     "start_time": "2023-01-27T05:31:11.339Z"
    }
   },
   "outputs": [
    {
     "data": {
      "text/plain": [
       "'² (generic function with 1 method)"
      ]
     },
     "execution_count": 56,
     "metadata": {},
     "output_type": "execute_result"
    }
   ],
   "source": [
    "var\"'²\"(x) = x^2  # `'²` は `'\\^2` + TAB で変換可能"
   ]
  },
  {
   "cell_type": "code",
   "execution_count": 57,
   "id": "0edcb994",
   "metadata": {
    "ExecuteTime": {
     "end_time": "2023-01-27T14:31:20.083000+09:00",
     "start_time": "2023-01-27T05:31:11.340Z"
    }
   },
   "outputs": [
    {
     "data": {
      "text/plain": [
       "2×2 Matrix{Int64}:\n",
       "  7  10\n",
       " 15  22"
      ]
     },
     "execution_count": 57,
     "metadata": {},
     "output_type": "execute_result"
    }
   ],
   "source": [
    "A'²"
   ]
  },
  {
   "cell_type": "code",
   "execution_count": 58,
   "id": "21856c11",
   "metadata": {
    "ExecuteTime": {
     "end_time": "2023-01-27T14:31:20.085000+09:00",
     "start_time": "2023-01-27T05:31:11.342Z"
    }
   },
   "outputs": [
    {
     "data": {
      "text/plain": [
       "2×2 Matrix{Int64}:\n",
       " 165751  241570\n",
       " 362355  528106"
      ]
     },
     "execution_count": 58,
     "metadata": {},
     "output_type": "execute_result"
    }
   ],
   "source": [
    "A'²'²'²  # == ((A^2)^2)^2"
   ]
  },
  {
   "cell_type": "code",
   "execution_count": 59,
   "id": "c5f84671",
   "metadata": {
    "ExecuteTime": {
     "end_time": "2023-01-27T14:31:20.170000+09:00",
     "start_time": "2023-01-27T05:31:11.343Z"
    }
   },
   "outputs": [
    {
     "data": {
      "text/plain": [
       "'₂ (generic function with 1 method)"
      ]
     },
     "execution_count": 59,
     "metadata": {},
     "output_type": "execute_result"
    }
   ],
   "source": [
    "var\"'₂\"(x) = string(x, base=2)  # `'₂` は `'\\_2` + TAB で変換可能"
   ]
  },
  {
   "cell_type": "code",
   "execution_count": 60,
   "id": "ea92df79",
   "metadata": {
    "ExecuteTime": {
     "end_time": "2023-01-27T14:31:20.173000+09:00",
     "start_time": "2023-01-27T05:31:11.345Z"
    }
   },
   "outputs": [
    {
     "data": {
      "text/plain": [
       "\"1010\""
      ]
     },
     "execution_count": 60,
     "metadata": {},
     "output_type": "execute_result"
    }
   ],
   "source": [
    "10'₂"
   ]
  },
  {
   "cell_type": "code",
   "execution_count": 61,
   "id": "1be19b8a",
   "metadata": {
    "ExecuteTime": {
     "end_time": "2023-01-27T14:31:20.174000+09:00",
     "start_time": "2023-01-27T05:31:11.347Z"
    }
   },
   "outputs": [
    {
     "data": {
      "text/plain": [
       "\"1111011\""
      ]
     },
     "execution_count": 61,
     "metadata": {},
     "output_type": "execute_result"
    }
   ],
   "source": [
    "123'₂"
   ]
  }
 ],
 "metadata": {
  "jupytext": {
   "formats": "ipynb,auto:light"
  },
  "kernelspec": {
   "display_name": "Julia 1.8.5",
   "language": "julia",
   "name": "julia-1.8"
  },
  "language_info": {
   "file_extension": ".jl",
   "mimetype": "application/julia",
   "name": "julia",
   "version": "1.8.5"
  }
 },
 "nbformat": 4,
 "nbformat_minor": 5
}
