{
 "cells": [
  {
   "cell_type": "code",
   "execution_count": 1,
   "id": "76144b8d",
   "metadata": {
    "ExecuteTime": {
     "end_time": "2023-01-27T14:33:19.592000+09:00",
     "start_time": "2023-01-27T05:33:19.011Z"
    }
   },
   "outputs": [
    {
     "name": "stdout",
     "output_type": "stream",
     "text": [
      "Julia Version 1.8.5\n",
      "Commit 17cfb8e65ea (2023-01-08 06:45 UTC)\n",
      "Platform Info:\n",
      "  OS: Linux (x86_64-linux-gnu)\n",
      "  CPU: 12 × Intel(R) Core(TM) i7-9750H CPU @ 2.60GHz\n",
      "  WORD_SIZE: 64\n",
      "  LIBM: libopenlibm\n",
      "  LLVM: libLLVM-13.0.1 (ORCJIT, skylake)\n",
      "  Threads: 1 on 12 virtual cores\n"
     ]
    }
   ],
   "source": [
    "versioninfo()"
   ]
  },
  {
   "cell_type": "markdown",
   "id": "2e9b75e0",
   "metadata": {},
   "source": [
    "## 5-6. Holy トレイト"
   ]
  },
  {
   "cell_type": "markdown",
   "id": "5d471f4d",
   "metadata": {},
   "source": [
    "### 5-6-1. Holy トレイトとは？"
   ]
  },
  {
   "cell_type": "markdown",
   "id": "254e3e15",
   "metadata": {},
   "source": [
    "#### コード5-38. トレイト型の定義例（`ToTupleStyle`）"
   ]
  },
  {
   "cell_type": "code",
   "execution_count": 2,
   "id": "f3985e1d",
   "metadata": {
    "ExecuteTime": {
     "end_time": "2023-01-27T14:33:19.638000+09:00",
     "start_time": "2023-01-27T05:33:19.014Z"
    }
   },
   "outputs": [],
   "source": [
    "abstract type ToTupleStyle end"
   ]
  },
  {
   "cell_type": "code",
   "execution_count": 3,
   "id": "17f9552e",
   "metadata": {
    "ExecuteTime": {
     "end_time": "2023-01-27T14:33:19.639000+09:00",
     "start_time": "2023-01-27T05:33:19.016Z"
    }
   },
   "outputs": [],
   "source": [
    "struct IsAlreadyTuple <: ToTupleStyle end"
   ]
  },
  {
   "cell_type": "code",
   "execution_count": 4,
   "id": "33ea24de",
   "metadata": {
    "ExecuteTime": {
     "end_time": "2023-01-27T14:33:19.640000+09:00",
     "start_time": "2023-01-27T05:33:19.018Z"
    }
   },
   "outputs": [],
   "source": [
    "struct IsScalar <: ToTupleStyle end"
   ]
  },
  {
   "cell_type": "code",
   "execution_count": 5,
   "id": "43c908a9",
   "metadata": {
    "ExecuteTime": {
     "end_time": "2023-01-27T14:33:19.641000+09:00",
     "start_time": "2023-01-27T05:33:19.021Z"
    }
   },
   "outputs": [],
   "source": [
    "struct Splattable <: ToTupleStyle end"
   ]
  },
  {
   "cell_type": "markdown",
   "id": "7b7c61c3",
   "metadata": {},
   "source": [
    "#### コード5-39. Holy トレイトによる関数の多重定義例（`tupleit()`）"
   ]
  },
  {
   "cell_type": "code",
   "execution_count": 6,
   "id": "19b672b1",
   "metadata": {
    "ExecuteTime": {
     "end_time": "2023-01-27T14:33:19.989000+09:00",
     "start_time": "2023-01-27T05:33:19.024Z"
    }
   },
   "outputs": [
    {
     "data": {
      "text/plain": [
       "tupleit (generic function with 1 method)"
      ]
     },
     "execution_count": 6,
     "metadata": {},
     "output_type": "execute_result"
    }
   ],
   "source": [
    "tupleit(v) = tupleit(ToTupleStyle(v), v)"
   ]
  },
  {
   "cell_type": "code",
   "execution_count": 7,
   "id": "ec166109",
   "metadata": {
    "ExecuteTime": {
     "end_time": "2023-01-27T14:33:19.990000+09:00",
     "start_time": "2023-01-27T05:33:19.025Z"
    }
   },
   "outputs": [
    {
     "data": {
      "text/plain": [
       "tupleit (generic function with 2 methods)"
      ]
     },
     "execution_count": 7,
     "metadata": {},
     "output_type": "execute_result"
    }
   ],
   "source": [
    "tupleit(::IsAlreadyTuple, t) = t"
   ]
  },
  {
   "cell_type": "code",
   "execution_count": 8,
   "id": "5feec21c",
   "metadata": {
    "ExecuteTime": {
     "end_time": "2023-01-27T14:33:19.991000+09:00",
     "start_time": "2023-01-27T05:33:19.027Z"
    }
   },
   "outputs": [
    {
     "data": {
      "text/plain": [
       "tupleit (generic function with 3 methods)"
      ]
     },
     "execution_count": 8,
     "metadata": {},
     "output_type": "execute_result"
    }
   ],
   "source": [
    "tupleit(::IsScalar, v) = (v,)"
   ]
  },
  {
   "cell_type": "code",
   "execution_count": 9,
   "id": "8ff9c84f",
   "metadata": {
    "ExecuteTime": {
     "end_time": "2023-01-27T14:33:19.992000+09:00",
     "start_time": "2023-01-27T05:33:19.028Z"
    }
   },
   "outputs": [
    {
     "data": {
      "text/plain": [
       "tupleit (generic function with 4 methods)"
      ]
     },
     "execution_count": 9,
     "metadata": {},
     "output_type": "execute_result"
    }
   ],
   "source": [
    "tupleit(::Splattable, xs) = (xs...,)"
   ]
  },
  {
   "cell_type": "markdown",
   "id": "2fca384a",
   "metadata": {},
   "source": [
    "#### コード5-40. `ToTupleStyle()` の定義と `tupleit()` の動作例 (1)"
   ]
  },
  {
   "cell_type": "code",
   "execution_count": 10,
   "id": "e1fa7058",
   "metadata": {
    "ExecuteTime": {
     "end_time": "2023-01-27T14:33:20.350000+09:00",
     "start_time": "2023-01-27T05:33:19.030Z"
    }
   },
   "outputs": [
    {
     "data": {
      "text/plain": [
       "ToTupleStyle"
      ]
     },
     "execution_count": 10,
     "metadata": {},
     "output_type": "execute_result"
    }
   ],
   "source": [
    "ToTupleStyle(::Tuple) = IsAlreadyTuple()"
   ]
  },
  {
   "cell_type": "code",
   "execution_count": 11,
   "id": "0c2473ff",
   "metadata": {
    "ExecuteTime": {
     "end_time": "2023-01-27T14:33:20.350000+09:00",
     "start_time": "2023-01-27T05:33:19.031Z"
    }
   },
   "outputs": [
    {
     "data": {
      "text/plain": [
       "ToTupleStyle"
      ]
     },
     "execution_count": 11,
     "metadata": {},
     "output_type": "execute_result"
    }
   ],
   "source": [
    "ToTupleStyle(::Number) = IsScalar()"
   ]
  },
  {
   "cell_type": "code",
   "execution_count": 12,
   "id": "159a2b32",
   "metadata": {
    "ExecuteTime": {
     "end_time": "2023-01-27T14:33:20.351000+09:00",
     "start_time": "2023-01-27T05:33:19.033Z"
    }
   },
   "outputs": [
    {
     "data": {
      "text/plain": [
       "ToTupleStyle"
      ]
     },
     "execution_count": 12,
     "metadata": {},
     "output_type": "execute_result"
    }
   ],
   "source": [
    "ToTupleStyle(::AbstractArray) = Splattable()"
   ]
  },
  {
   "cell_type": "code",
   "execution_count": 13,
   "id": "01242f42",
   "metadata": {
    "ExecuteTime": {
     "end_time": "2023-01-27T14:33:20.352000+09:00",
     "start_time": "2023-01-27T05:33:19.035Z"
    }
   },
   "outputs": [
    {
     "data": {
      "text/plain": [
       "ToTupleStyle"
      ]
     },
     "execution_count": 13,
     "metadata": {},
     "output_type": "execute_result"
    }
   ],
   "source": [
    "ToTupleStyle(::AbstractString) = IsScalar()\n",
    "# 文字列は展開可能だが「単一の値」として扱った方が妥当"
   ]
  },
  {
   "cell_type": "code",
   "execution_count": 14,
   "id": "c5bffa2b",
   "metadata": {
    "ExecuteTime": {
     "end_time": "2023-01-27T14:33:21.614000+09:00",
     "start_time": "2023-01-27T05:33:19.036Z"
    }
   },
   "outputs": [
    {
     "data": {
      "text/plain": [
       "(1, :a, '😁')"
      ]
     },
     "execution_count": 14,
     "metadata": {},
     "output_type": "execute_result"
    }
   ],
   "source": [
    "tupleit((1, :a, '😁'))  # タプルを渡したらそのままタプルを返す"
   ]
  },
  {
   "cell_type": "code",
   "execution_count": 15,
   "id": "3a6cb0e8",
   "metadata": {
    "ExecuteTime": {
     "end_time": "2023-01-27T14:33:21.831000+09:00",
     "start_time": "2023-01-27T05:33:19.038Z"
    }
   },
   "outputs": [
    {
     "data": {
      "text/plain": [
       "(99.9,)"
      ]
     },
     "execution_count": 15,
     "metadata": {},
     "output_type": "execute_result"
    }
   ],
   "source": [
    "tupleit(99.9)  # 数値（スカラー値）を渡したらその値だけからなる要素数1のタプルを返す"
   ]
  },
  {
   "cell_type": "code",
   "execution_count": 16,
   "id": "670f786e",
   "metadata": {
    "ExecuteTime": {
     "end_time": "2023-01-27T14:33:22.045000+09:00",
     "start_time": "2023-01-27T05:33:19.039Z"
    }
   },
   "outputs": [
    {
     "data": {
      "text/plain": [
       "(3, 1, 4, 1, 6)"
      ]
     },
     "execution_count": 16,
     "metadata": {},
     "output_type": "execute_result"
    }
   ],
   "source": [
    "tupleit([3, 1, 4, 1, 6])  # 配列を渡したらその各値からなるタプルを返す"
   ]
  },
  {
   "cell_type": "code",
   "execution_count": 17,
   "id": "f91af639",
   "metadata": {
    "ExecuteTime": {
     "end_time": "2023-01-27T14:33:22.049000+09:00",
     "start_time": "2023-01-27T05:33:19.041Z"
    }
   },
   "outputs": [
    {
     "data": {
      "text/plain": [
       "(1, 2, 3, 4, 5)"
      ]
     },
     "execution_count": 17,
     "metadata": {},
     "output_type": "execute_result"
    }
   ],
   "source": [
    "tupleit(1:5)  # 範囲オブジェクトは AbstractVector の派生型なので"
   ]
  },
  {
   "cell_type": "code",
   "execution_count": 18,
   "id": "b281fd2c",
   "metadata": {
    "ExecuteTime": {
     "end_time": "2023-01-27T14:33:22.203000+09:00",
     "start_time": "2023-01-27T05:33:19.042Z"
    }
   },
   "outputs": [
    {
     "data": {
      "text/plain": [
       "()"
      ]
     },
     "execution_count": 18,
     "metadata": {},
     "output_type": "execute_result"
    }
   ],
   "source": [
    "tupleit([])  # 空の配列なら空のタプルに"
   ]
  },
  {
   "cell_type": "code",
   "execution_count": 19,
   "id": "afe9c5bf",
   "metadata": {
    "ExecuteTime": {
     "end_time": "2023-01-27T14:33:22.463000+09:00",
     "start_time": "2023-01-27T05:33:19.044Z"
    }
   },
   "outputs": [
    {
     "data": {
      "text/plain": [
       "(\"123ABCあいう漢字😁\",)"
      ]
     },
     "execution_count": 19,
     "metadata": {},
     "output_type": "execute_result"
    }
   ],
   "source": [
    "tupleit(\"123ABCあいう漢字😁\")  # 文字列ならそれだけを単一の値として持つタプルに"
   ]
  },
  {
   "cell_type": "markdown",
   "id": "9173b71c",
   "metadata": {},
   "source": [
    "#### コード5-41. `ToTupleStyle()` の定義と `tupleit()` の動作例 (2)"
   ]
  },
  {
   "cell_type": "code",
   "execution_count": 20,
   "id": "7c15d00d",
   "metadata": {
    "ExecuteTime": {
     "end_time": "2023-01-27T14:33:22.464000+09:00",
     "start_time": "2023-01-27T05:33:19.045Z"
    }
   },
   "outputs": [
    {
     "data": {
      "text/plain": [
       "ToTupleStyle"
      ]
     },
     "execution_count": 20,
     "metadata": {},
     "output_type": "execute_result"
    }
   ],
   "source": [
    "ToTupleStyle(::Any) = IsScalar()  # デフォルトは IsScalar（単一の値）の扱いとする"
   ]
  },
  {
   "cell_type": "code",
   "execution_count": 21,
   "id": "c4830e05",
   "metadata": {
    "ExecuteTime": {
     "end_time": "2023-01-27T14:33:22.465000+09:00",
     "start_time": "2023-01-27T05:33:19.047Z"
    }
   },
   "outputs": [
    {
     "data": {
      "text/plain": [
       "ToTupleStyle"
      ]
     },
     "execution_count": 21,
     "metadata": {},
     "output_type": "execute_result"
    }
   ],
   "source": [
    "ToTupleStyle(::NamedTuple) = Splattable()  # NamedTuple は展開可能"
   ]
  },
  {
   "cell_type": "code",
   "execution_count": 22,
   "id": "3eb2794f",
   "metadata": {
    "ExecuteTime": {
     "end_time": "2023-01-27T14:33:22.466000+09:00",
     "start_time": "2023-01-27T05:33:19.049Z"
    }
   },
   "outputs": [
    {
     "data": {
      "text/plain": [
       "ToTupleStyle"
      ]
     },
     "execution_count": 22,
     "metadata": {},
     "output_type": "execute_result"
    }
   ],
   "source": [
    "ToTupleStyle(::AbstractSet) = Splattable()  # 集合も展開可能"
   ]
  },
  {
   "cell_type": "code",
   "execution_count": 23,
   "id": "157b715d",
   "metadata": {
    "ExecuteTime": {
     "end_time": "2023-01-27T14:33:22.467000+09:00",
     "start_time": "2023-01-27T05:33:19.050Z"
    }
   },
   "outputs": [
    {
     "data": {
      "text/plain": [
       "ToTupleStyle"
      ]
     },
     "execution_count": 23,
     "metadata": {},
     "output_type": "execute_result"
    }
   ],
   "source": [
    "ToTupleStyle(::Ref) = Splattable()  # Ref は展開可能（参照している単一の値が列挙される）"
   ]
  },
  {
   "cell_type": "code",
   "execution_count": 24,
   "id": "aef2aac9",
   "metadata": {
    "ExecuteTime": {
     "end_time": "2023-01-27T14:33:22.467000+09:00",
     "start_time": "2023-01-27T05:33:19.052Z"
    }
   },
   "outputs": [
    {
     "data": {
      "text/plain": [
       "tupleit (generic function with 5 methods)"
      ]
     },
     "execution_count": 24,
     "metadata": {},
     "output_type": "execute_result"
    }
   ],
   "source": [
    "tupleit() = ()  # 引数が空 ⇒ 空のタプル"
   ]
  },
  {
   "cell_type": "code",
   "execution_count": 25,
   "id": "7607d37a",
   "metadata": {
    "ExecuteTime": {
     "end_time": "2023-01-27T14:33:22.468000+09:00",
     "start_time": "2023-01-27T05:33:19.053Z"
    }
   },
   "outputs": [
    {
     "data": {
      "text/plain": [
       "tupleit (generic function with 6 methods)"
      ]
     },
     "execution_count": 25,
     "metadata": {},
     "output_type": "execute_result"
    }
   ],
   "source": [
    "tupleit(x, xs...) = (tupleit(x)..., tupleit(xs...)...)\n",
    "# 引数が2つ以上 ⇒ 再帰呼び出しでそれぞれの要素を `tupleit()`"
   ]
  },
  {
   "cell_type": "code",
   "execution_count": 26,
   "id": "b840adee",
   "metadata": {
    "ExecuteTime": {
     "end_time": "2023-01-27T14:33:22.476000+09:00",
     "start_time": "2023-01-27T05:33:19.054Z"
    }
   },
   "outputs": [
    {
     "data": {
      "text/plain": [
       "(1, :b, '😁')"
      ]
     },
     "execution_count": 26,
     "metadata": {},
     "output_type": "execute_result"
    }
   ],
   "source": [
    "tupleit((a=1, b=:b, c='😁'))  # `NamedTuple`"
   ]
  },
  {
   "cell_type": "code",
   "execution_count": 27,
   "id": "5d77884c",
   "metadata": {
    "ExecuteTime": {
     "end_time": "2023-01-27T14:33:22.716000+09:00",
     "start_time": "2023-01-27T05:33:19.055Z"
    }
   },
   "outputs": [
    {
     "data": {
      "text/plain": [
       "(5, 4, 6, 2, 9, 3, 1)"
      ]
     },
     "execution_count": 27,
     "metadata": {},
     "output_type": "execute_result"
    }
   ],
   "source": [
    "tupleit(Set([3, 1, 4, 1, 5, 9, 2, 6, 5, 3]))  # `Set`"
   ]
  },
  {
   "cell_type": "code",
   "execution_count": 28,
   "id": "9287c50f",
   "metadata": {
    "ExecuteTime": {
     "end_time": "2023-01-27T14:33:23.060000+09:00",
     "start_time": "2023-01-27T05:33:19.057Z"
    }
   },
   "outputs": [
    {
     "data": {
      "text/plain": [
       "(Dict(:a => 1, :b => 2),)"
      ]
     },
     "execution_count": 28,
     "metadata": {},
     "output_type": "execute_result"
    }
   ],
   "source": [
    "tupleit(Dict(:a => 1, :b => 2))\n",
    "# 辞書（`Dict`）は展開可能だが、各要素が `:key => ○` のようなペアになるので\n",
    "# 単一の値として扱うようにする"
   ]
  },
  {
   "cell_type": "code",
   "execution_count": 29,
   "id": "2ae1848e",
   "metadata": {
    "ExecuteTime": {
     "end_time": "2023-01-27T14:33:23.350000+09:00",
     "start_time": "2023-01-27T05:33:19.058Z"
    }
   },
   "outputs": [
    {
     "data": {
      "text/plain": [
       "([1, 5, 3],)"
      ]
     },
     "execution_count": 29,
     "metadata": {},
     "output_type": "execute_result"
    }
   ],
   "source": [
    "tupleit(Ref([1, 5, 3]))\n",
    "# `Ref` で括ることによって `Splattable` な値もそのまま \n",
    "# Scalar のように扱われるようにした"
   ]
  },
  {
   "cell_type": "code",
   "execution_count": 30,
   "id": "1c9aa3b4",
   "metadata": {
    "ExecuteTime": {
     "end_time": "2023-01-27T14:33:23.612000+09:00",
     "start_time": "2023-01-27T05:33:19.059Z"
    }
   },
   "outputs": [
    {
     "data": {
      "text/plain": [
       "(1, 1, :a, '😁', 1, 2, 3, 4, 5, [3, 1, 4, 1, 6])"
      ]
     },
     "execution_count": 30,
     "metadata": {},
     "output_type": "execute_result"
    }
   ],
   "source": [
    "tupleit(1, (1, :a, '😁'), 1:5, Ref([3, 1, 4, 1, 6]))  # 複数引数"
   ]
  },
  {
   "cell_type": "markdown",
   "id": "b3834bdc",
   "metadata": {},
   "source": [
    "### 5-6-2. 実例：`IndexStyle`"
   ]
  },
  {
   "cell_type": "markdown",
   "id": "ce06b234",
   "metadata": {},
   "source": [
    "#### コード5-42. `IndexStyle()` の例 (1)（`IndexCartesian` トレイト）"
   ]
  },
  {
   "cell_type": "code",
   "execution_count": 31,
   "id": "6af470c7",
   "metadata": {
    "ExecuteTime": {
     "end_time": "2023-01-27T14:33:23.614000+09:00",
     "start_time": "2023-01-27T05:33:19.061Z"
    }
   },
   "outputs": [],
   "source": [
    "struct SampleSimpleArray{N} <: AbstractArray{NTuple{N, Int}, N}\n",
    "    size::NTuple{N, Int}\n",
    "end"
   ]
  },
  {
   "cell_type": "code",
   "execution_count": 32,
   "id": "392ff3fb",
   "metadata": {
    "ExecuteTime": {
     "end_time": "2023-01-27T14:33:24.021000+09:00",
     "start_time": "2023-01-27T05:33:19.062Z"
    }
   },
   "outputs": [
    {
     "data": {
      "text/plain": [
       "IndexCartesian()"
      ]
     },
     "execution_count": 32,
     "metadata": {},
     "output_type": "execute_result"
    }
   ],
   "source": [
    "IndexStyle(SampleSimpleArray)"
   ]
  },
  {
   "cell_type": "markdown",
   "id": "c90d4ad6",
   "metadata": {},
   "source": [
    "#### コード5-43. `IndexCartesian` トレイトの場合のインデクシングの例"
   ]
  },
  {
   "cell_type": "code",
   "execution_count": 33,
   "id": "2273abc4",
   "metadata": {
    "ExecuteTime": {
     "end_time": "2023-01-27T14:33:24.022000+09:00",
     "start_time": "2023-01-27T05:33:19.064Z"
    }
   },
   "outputs": [],
   "source": [
    "Base.size(a::SampleSimpleArray) = a.size"
   ]
  },
  {
   "cell_type": "code",
   "execution_count": 34,
   "id": "bdaaee04",
   "metadata": {
    "ExecuteTime": {
     "end_time": "2023-01-27T14:33:24.023000+09:00",
     "start_time": "2023-01-27T05:33:19.066Z"
    }
   },
   "outputs": [],
   "source": [
    "function Base.getindex(a::SampleSimpleArray{N}, idxs::Vararg{Int, N}) where N\n",
    "    idxs\n",
    "end"
   ]
  },
  {
   "cell_type": "code",
   "execution_count": 35,
   "id": "0121c03b",
   "metadata": {
    "ExecuteTime": {
     "end_time": "2023-01-27T14:33:24.026000+09:00",
     "start_time": "2023-01-27T05:33:19.067Z"
    }
   },
   "outputs": [],
   "source": [
    "ssa = SampleSimpleArray((3, 4));"
   ]
  },
  {
   "cell_type": "code",
   "execution_count": 36,
   "id": "300131d0",
   "metadata": {
    "ExecuteTime": {
     "end_time": "2023-01-27T14:33:24.237000+09:00",
     "start_time": "2023-01-27T05:33:19.068Z"
    }
   },
   "outputs": [
    {
     "data": {
      "text/plain": [
       "(1, 1)"
      ]
     },
     "execution_count": 36,
     "metadata": {},
     "output_type": "execute_result"
    }
   ],
   "source": [
    "ssa[1, 1]"
   ]
  },
  {
   "cell_type": "code",
   "execution_count": 37,
   "id": "e0e14fc3",
   "metadata": {
    "ExecuteTime": {
     "end_time": "2023-01-27T14:33:24.238000+09:00",
     "start_time": "2023-01-27T05:33:19.070Z"
    }
   },
   "outputs": [
    {
     "data": {
      "text/plain": [
       "(2, 3)"
      ]
     },
     "execution_count": 37,
     "metadata": {},
     "output_type": "execute_result"
    }
   ],
   "source": [
    "ssa[2, 3]"
   ]
  },
  {
   "cell_type": "code",
   "execution_count": 38,
   "id": "f8dd931e",
   "metadata": {
    "ExecuteTime": {
     "end_time": "2023-01-27T14:33:25.094000+09:00",
     "start_time": "2023-01-27T05:33:19.071Z"
    }
   },
   "outputs": [
    {
     "data": {
      "text/plain": [
       "3×4 Matrix{Tuple{Int64, Int64}}:\n",
       " (1, 1)  (1, 2)  (1, 3)  (1, 4)\n",
       " (2, 1)  (2, 2)  (2, 3)  (2, 4)\n",
       " (3, 1)  (3, 2)  (3, 3)  (3, 4)"
      ]
     },
     "execution_count": 38,
     "metadata": {},
     "output_type": "execute_result"
    }
   ],
   "source": [
    "collect(ssa)"
   ]
  },
  {
   "cell_type": "code",
   "execution_count": 39,
   "id": "6c7a4609",
   "metadata": {
    "ExecuteTime": {
     "end_time": "2023-01-27T14:33:25.273000+09:00",
     "start_time": "2023-01-27T05:33:19.072Z"
    }
   },
   "outputs": [
    {
     "data": {
      "text/plain": [
       "CartesianIndices((3, 4))"
      ]
     },
     "execution_count": 39,
     "metadata": {},
     "output_type": "execute_result"
    }
   ],
   "source": [
    "eachindex(ssa)"
   ]
  },
  {
   "cell_type": "markdown",
   "id": "0c8c6341",
   "metadata": {},
   "source": [
    "#### コード5-44. `IndexCartesian` トレイトの場合の線形インデックスの例"
   ]
  },
  {
   "cell_type": "code",
   "execution_count": 40,
   "id": "98f38ba5",
   "metadata": {
    "ExecuteTime": {
     "end_time": "2023-01-27T14:33:25.284000+09:00",
     "start_time": "2023-01-27T05:33:19.074Z"
    }
   },
   "outputs": [
    {
     "data": {
      "text/plain": [
       "(1, 1)"
      ]
     },
     "execution_count": 40,
     "metadata": {},
     "output_type": "execute_result"
    }
   ],
   "source": [
    "ssa[1]  # 参考：`fldmod1(1, 3) == (1, 1)`"
   ]
  },
  {
   "cell_type": "code",
   "execution_count": 41,
   "id": "e91457c3",
   "metadata": {
    "ExecuteTime": {
     "end_time": "2023-01-27T14:33:25.285000+09:00",
     "start_time": "2023-01-27T05:33:19.075Z"
    }
   },
   "outputs": [
    {
     "data": {
      "text/plain": [
       "(2, 3)"
      ]
     },
     "execution_count": 41,
     "metadata": {},
     "output_type": "execute_result"
    }
   ],
   "source": [
    "ssa[8]  # 参考：`fldmod1(8, 3) == (3, 2)`"
   ]
  },
  {
   "cell_type": "code",
   "execution_count": 42,
   "id": "ecea1d1e",
   "metadata": {
    "ExecuteTime": {
     "end_time": "2023-01-27T14:33:25.677000+09:00",
     "start_time": "2023-01-27T05:33:19.077Z"
    }
   },
   "outputs": [
    {
     "data": {
      "text/plain": [
       "12-element Vector{Tuple{Int64, Int64}}:\n",
       " (1, 1)\n",
       " (2, 1)\n",
       " (3, 1)\n",
       " (1, 2)\n",
       " (2, 2)\n",
       " (3, 2)\n",
       " (1, 3)\n",
       " (2, 3)\n",
       " (3, 3)\n",
       " (1, 4)\n",
       " (2, 4)\n",
       " (3, 4)"
      ]
     },
     "execution_count": 42,
     "metadata": {},
     "output_type": "execute_result"
    }
   ],
   "source": [
    "ssa[1:12]"
   ]
  },
  {
   "cell_type": "markdown",
   "id": "3149b2ee",
   "metadata": {},
   "source": [
    "#### コード5-45. `IndexStyle` を指定した `eachindex()` の実行例"
   ]
  },
  {
   "cell_type": "code",
   "execution_count": 43,
   "id": "a8a2cc0d",
   "metadata": {
    "ExecuteTime": {
     "end_time": "2023-01-27T14:33:25.681000+09:00",
     "start_time": "2023-01-27T05:33:19.079Z"
    }
   },
   "outputs": [
    {
     "data": {
      "text/plain": [
       "CartesianIndices((3, 4))"
      ]
     },
     "execution_count": 43,
     "metadata": {},
     "output_type": "execute_result"
    }
   ],
   "source": [
    "eachindex(IndexCartesian(), ssa)  # ＝ `eachindex(ssa)`"
   ]
  },
  {
   "cell_type": "code",
   "execution_count": 44,
   "id": "354db862",
   "metadata": {
    "ExecuteTime": {
     "end_time": "2023-01-27T14:33:25.859000+09:00",
     "start_time": "2023-01-27T05:33:19.080Z"
    }
   },
   "outputs": [
    {
     "data": {
      "text/plain": [
       "Base.OneTo(12)"
      ]
     },
     "execution_count": 44,
     "metadata": {},
     "output_type": "execute_result"
    }
   ],
   "source": [
    "eachindex(IndexLinear(), ssa)"
   ]
  },
  {
   "cell_type": "code",
   "execution_count": 45,
   "id": "cffdfb1b",
   "metadata": {
    "ExecuteTime": {
     "end_time": "2023-01-27T14:33:25.895000+09:00",
     "start_time": "2023-01-27T05:33:19.082Z"
    }
   },
   "outputs": [
    {
     "data": {
      "text/plain": [
       "12-element Vector{Tuple{Int64, Int64}}:\n",
       " (1, 1)\n",
       " (2, 1)\n",
       " (3, 1)\n",
       " (1, 2)\n",
       " (2, 2)\n",
       " (3, 2)\n",
       " (1, 3)\n",
       " (2, 3)\n",
       " (3, 3)\n",
       " (1, 4)\n",
       " (2, 4)\n",
       " (3, 4)"
      ]
     },
     "execution_count": 45,
     "metadata": {},
     "output_type": "execute_result"
    }
   ],
   "source": [
    "[ssa[i] for i in eachindex(IndexLinear(), ssa)]  # 実質 `ssa[1:12]` と同じ"
   ]
  },
  {
   "cell_type": "markdown",
   "id": "eaddc0e3",
   "metadata": {},
   "source": [
    "#### コード5-46. `IndexStyle()` の例 (2)（`IndexLinear` トレイト）"
   ]
  },
  {
   "cell_type": "code",
   "execution_count": 46,
   "id": "d549c06e",
   "metadata": {
    "ExecuteTime": {
     "end_time": "2023-01-27T14:33:25.897000+09:00",
     "start_time": "2023-01-27T05:33:19.084Z"
    }
   },
   "outputs": [],
   "source": [
    "struct SampleLinearArray{N} <: AbstractArray{Int, N}\n",
    "    size::NTuple{N, Int}\n",
    "end"
   ]
  },
  {
   "cell_type": "code",
   "execution_count": 47,
   "id": "ddd97f9c",
   "metadata": {
    "ExecuteTime": {
     "end_time": "2023-01-27T14:33:25.898000+09:00",
     "start_time": "2023-01-27T05:33:19.085Z"
    }
   },
   "outputs": [],
   "source": [
    "Base.IndexStyle(::Type{<:SampleLinearArray}) = IndexLinear()"
   ]
  },
  {
   "cell_type": "code",
   "execution_count": 48,
   "id": "a1f4dc85",
   "metadata": {
    "ExecuteTime": {
     "end_time": "2023-01-27T14:33:26.069000+09:00",
     "start_time": "2023-01-27T05:33:19.086Z"
    }
   },
   "outputs": [
    {
     "data": {
      "text/plain": [
       "IndexLinear()"
      ]
     },
     "execution_count": 48,
     "metadata": {},
     "output_type": "execute_result"
    }
   ],
   "source": [
    "IndexStyle(SampleLinearArray)"
   ]
  },
  {
   "cell_type": "code",
   "execution_count": 49,
   "id": "cf1173ed",
   "metadata": {
    "ExecuteTime": {
     "end_time": "2023-01-27T14:33:26.069000+09:00",
     "start_time": "2023-01-27T05:33:19.087Z"
    }
   },
   "outputs": [],
   "source": [
    "Base.size(a::SampleLinearArray) = a.size"
   ]
  },
  {
   "cell_type": "code",
   "execution_count": 50,
   "id": "ab84be14",
   "metadata": {
    "ExecuteTime": {
     "end_time": "2023-01-27T14:33:26.070000+09:00",
     "start_time": "2023-01-27T05:33:19.088Z"
    }
   },
   "outputs": [],
   "source": [
    "function Base.getindex(a::SampleLinearArray, idx::Int)\n",
    "    idx\n",
    "end"
   ]
  },
  {
   "cell_type": "markdown",
   "id": "f92c0924",
   "metadata": {},
   "source": [
    "#### コード5-47. `IndexLinear` トレイトの場合のインデクシングの例"
   ]
  },
  {
   "cell_type": "code",
   "execution_count": 51,
   "id": "8cb2658a",
   "metadata": {
    "ExecuteTime": {
     "end_time": "2023-01-27T14:33:26.074000+09:00",
     "start_time": "2023-01-27T05:33:19.089Z"
    }
   },
   "outputs": [],
   "source": [
    "sla = SampleLinearArray((3, 4));"
   ]
  },
  {
   "cell_type": "code",
   "execution_count": 52,
   "id": "4cfdb002",
   "metadata": {
    "ExecuteTime": {
     "end_time": "2023-01-27T14:33:26.239000+09:00",
     "start_time": "2023-01-27T05:33:19.090Z"
    }
   },
   "outputs": [
    {
     "data": {
      "text/plain": [
       "1"
      ]
     },
     "execution_count": 52,
     "metadata": {},
     "output_type": "execute_result"
    }
   ],
   "source": [
    "sla[1]"
   ]
  },
  {
   "cell_type": "code",
   "execution_count": 53,
   "id": "88b9ac8d",
   "metadata": {
    "ExecuteTime": {
     "end_time": "2023-01-27T14:33:26.240000+09:00",
     "start_time": "2023-01-27T05:33:19.091Z"
    }
   },
   "outputs": [
    {
     "data": {
      "text/plain": [
       "8"
      ]
     },
     "execution_count": 53,
     "metadata": {},
     "output_type": "execute_result"
    }
   ],
   "source": [
    "sla[8]"
   ]
  },
  {
   "cell_type": "code",
   "execution_count": 54,
   "id": "929c1b30",
   "metadata": {
    "ExecuteTime": {
     "end_time": "2023-01-27T14:33:26.543000+09:00",
     "start_time": "2023-01-27T05:33:19.093Z"
    }
   },
   "outputs": [
    {
     "data": {
      "text/plain": [
       "3×4 Matrix{Int64}:\n",
       " 1  4  7  10\n",
       " 2  5  8  11\n",
       " 3  6  9  12"
      ]
     },
     "execution_count": 54,
     "metadata": {},
     "output_type": "execute_result"
    }
   ],
   "source": [
    "collect(sla)"
   ]
  },
  {
   "cell_type": "code",
   "execution_count": 55,
   "id": "84b4f884",
   "metadata": {
    "ExecuteTime": {
     "end_time": "2023-01-27T14:33:26.547000+09:00",
     "start_time": "2023-01-27T05:33:19.095Z"
    }
   },
   "outputs": [
    {
     "data": {
      "text/plain": [
       "Base.OneTo(12)"
      ]
     },
     "execution_count": 55,
     "metadata": {},
     "output_type": "execute_result"
    }
   ],
   "source": [
    "eachindex(sla)"
   ]
  },
  {
   "cell_type": "markdown",
   "id": "4bf9e278",
   "metadata": {},
   "source": [
    "#### コード5-48. `IndexLinear` トレイトの場合の直積インデックスの例"
   ]
  },
  {
   "cell_type": "code",
   "execution_count": 56,
   "id": "b6911346",
   "metadata": {
    "ExecuteTime": {
     "end_time": "2023-01-27T14:33:26.557000+09:00",
     "start_time": "2023-01-27T05:33:19.097Z"
    }
   },
   "outputs": [
    {
     "data": {
      "text/plain": [
       "1"
      ]
     },
     "execution_count": 56,
     "metadata": {},
     "output_type": "execute_result"
    }
   ],
   "source": [
    "sla[1, 1]  # 参考：`(1 - 1) * 3 + 1 == 1`"
   ]
  },
  {
   "cell_type": "code",
   "execution_count": 57,
   "id": "7846aaae",
   "metadata": {
    "ExecuteTime": {
     "end_time": "2023-01-27T14:33:26.557000+09:00",
     "start_time": "2023-01-27T05:33:19.099Z"
    }
   },
   "outputs": [
    {
     "data": {
      "text/plain": [
       "8"
      ]
     },
     "execution_count": 57,
     "metadata": {},
     "output_type": "execute_result"
    }
   ],
   "source": [
    "sla[2, 3]  # 参考：`(3 - 1) * 3 + 2 == 8`"
   ]
  },
  {
   "cell_type": "code",
   "execution_count": 58,
   "id": "b97dd246",
   "metadata": {
    "ExecuteTime": {
     "end_time": "2023-01-27T14:33:26.561000+09:00",
     "start_time": "2023-01-27T05:33:19.100Z"
    }
   },
   "outputs": [
    {
     "data": {
      "text/plain": [
       "Base.OneTo(12)"
      ]
     },
     "execution_count": 58,
     "metadata": {},
     "output_type": "execute_result"
    }
   ],
   "source": [
    "eachindex(IndexLinear(), sla)  # ＝ `eachindex(sla)`"
   ]
  },
  {
   "cell_type": "code",
   "execution_count": 59,
   "id": "59a2350c",
   "metadata": {
    "ExecuteTime": {
     "end_time": "2023-01-27T14:33:26.565000+09:00",
     "start_time": "2023-01-27T05:33:19.101Z"
    }
   },
   "outputs": [
    {
     "data": {
      "text/plain": [
       "CartesianIndices((3, 4))"
      ]
     },
     "execution_count": 59,
     "metadata": {},
     "output_type": "execute_result"
    }
   ],
   "source": [
    "eachindex(IndexCartesian(), sla)"
   ]
  },
  {
   "cell_type": "code",
   "execution_count": 60,
   "id": "5dc0e166",
   "metadata": {
    "ExecuteTime": {
     "end_time": "2023-01-27T14:33:26.608000+09:00",
     "start_time": "2023-01-27T05:33:19.103Z"
    }
   },
   "outputs": [
    {
     "data": {
      "text/plain": [
       "3×4 Matrix{Int64}:\n",
       " 1  4  7  10\n",
       " 2  5  8  11\n",
       " 3  6  9  12"
      ]
     },
     "execution_count": 60,
     "metadata": {},
     "output_type": "execute_result"
    }
   ],
   "source": [
    "[sla[i] for i in eachindex(IndexCartesian(), sla)]  # 実質 `collect(sla)` と同じ"
   ]
  }
 ],
 "metadata": {
  "jupytext": {
   "formats": "ipynb,auto:light"
  },
  "kernelspec": {
   "display_name": "Julia 1.8.5",
   "language": "julia",
   "name": "julia-1.8"
  },
  "language_info": {
   "file_extension": ".jl",
   "mimetype": "application/julia",
   "name": "julia",
   "version": "1.8.5"
  }
 },
 "nbformat": 4,
 "nbformat_minor": 5
}
