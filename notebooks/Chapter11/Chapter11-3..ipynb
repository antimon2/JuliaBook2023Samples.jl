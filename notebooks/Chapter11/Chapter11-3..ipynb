{
 "cells": [
  {
   "cell_type": "code",
   "execution_count": 1,
   "id": "ee326a1f",
   "metadata": {
    "ExecuteTime": {
     "end_time": "2023-01-28T14:26:50.391000+09:00",
     "start_time": "2023-01-28T05:26:48.528Z"
    }
   },
   "outputs": [
    {
     "name": "stdout",
     "output_type": "stream",
     "text": [
      "Julia Version 1.8.5\n",
      "Commit 17cfb8e65ea (2023-01-08 06:45 UTC)\n",
      "Platform Info:\n",
      "  OS: Linux (x86_64-linux-gnu)\n",
      "  CPU: 12 × Intel(R) Core(TM) i7-9750H CPU @ 2.60GHz\n",
      "  WORD_SIZE: 64\n",
      "  LIBM: libopenlibm\n",
      "  LLVM: libLLVM-13.0.1 (ORCJIT, skylake)\n",
      "  Threads: 1 on 12 virtual cores\n"
     ]
    }
   ],
   "source": [
    "versioninfo()"
   ]
  },
  {
   "cell_type": "markdown",
   "id": "c5e77f46",
   "metadata": {},
   "source": [
    "## 11-3. DifferentialEquations.jl による常微分方程式の数値的解法"
   ]
  },
  {
   "cell_type": "markdown",
   "id": "df466b96",
   "metadata": {},
   "source": [
    "※ 本文とは環境等を少し変えています（コードはほぼ同一です）"
   ]
  },
  {
   "cell_type": "code",
   "execution_count": 2,
   "id": "439e99e0",
   "metadata": {
    "ExecuteTime": {
     "end_time": "2023-01-28T14:26:52.785000+09:00",
     "start_time": "2023-01-28T05:26:51.648Z"
    }
   },
   "outputs": [
    {
     "name": "stderr",
     "output_type": "stream",
     "text": [
      "\u001b[32m\u001b[1m  Activating\u001b[22m\u001b[39m new project at `/path/to/JuliaBook2023Samples/notebooks/Chapter11/DifferentialEquationsSample`\n"
     ]
    }
   ],
   "source": [
    "]activate DifferentialEquationsSample"
   ]
  },
  {
   "cell_type": "markdown",
   "id": "62c1c997",
   "metadata": {},
   "source": [
    "### コード11-9. `DifferentialEquations.jl` パッケージの追加"
   ]
  },
  {
   "cell_type": "markdown",
   "id": "9d9c6447",
   "metadata": {},
   "source": [
    "```julia\n",
    "(@v1.7) pkg> add DifferentialEquations\n",
    "    Updating registry at `~/.julia/registries/General`\n",
    "    Updating git-repo `https://github.com/JuliaRegistries/General`\n",
    "   Resolving package versions...\n",
    "   Installed Hwloc_jll ─────────── v2.7.1+0\n",
    "   Installed StrideArraysCore ──── v0.2.15\n",
    "   Installed DiffEqBase ────────── v6.82.2\n",
    "   Installed DualNumbers ───────── v0.6.8\n",
    "   ：《中略》\n",
    "    Updating `~/.julia/environments/v1.7/Project.toml`\n",
    "  [0c46a032] + DifferentialEquations v7.1.0\n",
    "    Updating `~/.julia/environments/v1.7/Manifest.toml`\n",
    "   ：《中略》\n",
    "  [2b5f629d] + DiffEqBase v6.82.2\n",
    "  [459566f4] + DiffEqCallbacks v2.22.0\n",
    "  [c894b116] + DiffEqJump v8.3.0\n",
    "  [77a26b50] + DiffEqNoiseProcess v5.9.0\n",
    "  [163ba53b] + DiffResults v1.0.3\n",
    "  [b552c78f] + DiffRules v1.10.0\n",
    "  [0c46a032] + DifferentialEquations v7.1.0\n",
    "   ：《以下略》\n",
    "\n",
    "(@v1.7) pkg> st DifferentialEquations\n",
    "      Status `~/.julia/environments/v1.7/Project.toml`\n",
    "  [0c46a032] DifferentialEquations v7.1.0\n",
    "```"
   ]
  },
  {
   "cell_type": "code",
   "execution_count": 3,
   "id": "ae201f27",
   "metadata": {
    "ExecuteTime": {
     "end_time": "2023-01-28T14:29:40.460000+09:00",
     "start_time": "2023-01-28T05:27:36.843Z"
    },
    "scrolled": true
   },
   "outputs": [
    {
     "name": "stderr",
     "output_type": "stream",
     "text": [
      "\u001b[32m\u001b[1m    Updating\u001b[22m\u001b[39m registry at `~/.julia/registries/General`\n",
      "\u001b[32m\u001b[1m    Updating\u001b[22m\u001b[39m git-repo `git@github.com:JuliaRegistries/General.git`\n",
      "\u001b[32m\u001b[1m   Resolving\u001b[22m\u001b[39m package versions...\n",
      "\u001b[32m\u001b[1m   Installed\u001b[22m\u001b[39m StatsFuns ──────────────────────── v1.1.1\n",
      "\u001b[32m\u001b[1m   Installed\u001b[22m\u001b[39m OffsetArrays ───────────────────── v1.12.8\n",
      "\u001b[32m\u001b[1m   Installed\u001b[22m\u001b[39m HypergeometricFunctions ────────── v0.3.11\n",
      "\u001b[32m\u001b[1m   Installed\u001b[22m\u001b[39m PDMats ─────────────────────────── v0.11.16\n",
      "\u001b[32m\u001b[1m   Installed\u001b[22m\u001b[39m NonlinearSolve ─────────────────── v1.3.0\n",
      "\u001b[32m\u001b[1m   Installed\u001b[22m\u001b[39m Polyester ──────────────────────── v0.7.2\n",
      "\u001b[32m\u001b[1m   Installed\u001b[22m\u001b[39m EnumX ──────────────────────────── v1.0.4\n",
      "\u001b[32m\u001b[1m   Installed\u001b[22m\u001b[39m RecursiveArrayTools ────────────── v2.36.0\n",
      "\u001b[32m\u001b[1m   Installed\u001b[22m\u001b[39m FunctionWrappers ───────────────── v1.1.3\n",
      "\u001b[32m\u001b[1m   Installed\u001b[22m\u001b[39m TriangularSolve ────────────────── v0.1.19\n",
      "\u001b[32m\u001b[1m   Installed\u001b[22m\u001b[39m BoundaryValueDiffEq ────────────── v2.11.0\n",
      "\u001b[32m\u001b[1m   Installed\u001b[22m\u001b[39m Static ─────────────────────────── v0.8.3\n",
      "\u001b[32m\u001b[1m   Installed\u001b[22m\u001b[39m ArrayInterfaceOffsetArrays ─────── v0.1.7\n",
      "\u001b[32m\u001b[1m   Installed\u001b[22m\u001b[39m Missings ───────────────────────── v1.1.0\n",
      "\u001b[32m\u001b[1m   Installed\u001b[22m\u001b[39m SLEEFPirates ───────────────────── v0.6.38\n",
      "\u001b[32m\u001b[1m   Installed\u001b[22m\u001b[39m SteadyStateDiffEq ──────────────── v1.11.0\n",
      "\u001b[32m\u001b[1m   Installed\u001b[22m\u001b[39m Tricks ─────────────────────────── v0.1.6\n",
      "\u001b[32m\u001b[1m   Installed\u001b[22m\u001b[39m KrylovKit ──────────────────────── v0.6.0\n",
      "\u001b[32m\u001b[1m   Installed\u001b[22m\u001b[39m MuladdMacro ────────────────────── v0.2.4\n",
      "\u001b[32m\u001b[1m   Installed\u001b[22m\u001b[39m SciMLBase ──────────────────────── v1.81.1\n",
      "\u001b[32m\u001b[1m   Installed\u001b[22m\u001b[39m BandedMatrices ─────────────────── v0.17.10\n",
      "\u001b[32m\u001b[1m   Installed\u001b[22m\u001b[39m SciMLNLSolve ───────────────────── v0.1.3\n",
      "\u001b[32m\u001b[1m   Installed\u001b[22m\u001b[39m SimpleNonlinearSolve ───────────── v0.1.8\n",
      "\u001b[32m\u001b[1m   Installed\u001b[22m\u001b[39m DiffEqBase ─────────────────────── v6.114.2\n",
      "\u001b[32m\u001b[1m   Installed\u001b[22m\u001b[39m LinearSolve ────────────────────── v1.34.1\n",
      "\u001b[32m\u001b[1m   Installed\u001b[22m\u001b[39m ArrayInterfaceGPUArrays ────────── v0.2.2\n",
      "\u001b[32m\u001b[1m   Installed\u001b[22m\u001b[39m Rmath_jll ──────────────────────── v0.4.0+0\n",
      "\u001b[32m\u001b[1m   Installed\u001b[22m\u001b[39m Random123 ──────────────────────── v1.6.0\n",
      "\u001b[32m\u001b[1m   Installed\u001b[22m\u001b[39m ThreadingUtilities ─────────────── v0.5.1\n",
      "\u001b[32m\u001b[1m   Installed\u001b[22m\u001b[39m DiffEqNoiseProcess ─────────────── v5.15.2\n",
      "\u001b[32m\u001b[1m   Installed\u001b[22m\u001b[39m JumpProcesses ──────────────────── v9.3.1\n",
      "\u001b[32m\u001b[1m   Installed\u001b[22m\u001b[39m Graphs ─────────────────────────── v1.7.4\n",
      "\u001b[32m\u001b[1m   Installed\u001b[22m\u001b[39m OrdinaryDiffEq ─────────────────── v6.40.1\n",
      "\u001b[32m\u001b[1m   Installed\u001b[22m\u001b[39m StatsBase ──────────────────────── v0.33.21\n",
      "\u001b[32m\u001b[1m   Installed\u001b[22m\u001b[39m BitTwiddlingConvenienceFunctions ─ v0.1.5\n",
      "\u001b[32m\u001b[1m   Installed\u001b[22m\u001b[39m ArrayLayouts ───────────────────── v0.8.18\n",
      "\u001b[32m\u001b[1m   Installed\u001b[22m\u001b[39m FunctionWrappersWrappers ───────── v0.1.1\n",
      "\u001b[32m\u001b[1m   Installed\u001b[22m\u001b[39m LayoutPointers ─────────────────── v0.1.13\n",
      "\u001b[32m\u001b[1m   Installed\u001b[22m\u001b[39m StochasticDiffEq ───────────────── v6.57.4\n",
      "\u001b[32m\u001b[1m   Installed\u001b[22m\u001b[39m Sundials ───────────────────────── v4.12.0\n",
      "\u001b[32m\u001b[1m   Installed\u001b[22m\u001b[39m Inflate ────────────────────────── v0.1.3\n",
      "\u001b[32m\u001b[1m   Installed\u001b[22m\u001b[39m DiffEqCallbacks ────────────────── v2.24.3\n",
      "\u001b[32m\u001b[1m   Installed\u001b[22m\u001b[39m ArrayInterfaceStaticArraysCore ─── v0.1.3\n",
      "\u001b[32m\u001b[1m   Installed\u001b[22m\u001b[39m PolyesterWeave ─────────────────── v0.2.1\n",
      "\u001b[32m\u001b[1m   Installed\u001b[22m\u001b[39m DelayDiffEq ────────────────────── v5.40.5\n",
      "\u001b[32m\u001b[1m   Installed\u001b[22m\u001b[39m DiffEqJump ─────────────────────── v8.6.3\n",
      "\u001b[32m\u001b[1m   Installed\u001b[22m\u001b[39m LoopVectorization ──────────────── v0.12.148\n",
      "\u001b[32m\u001b[1m   Installed\u001b[22m\u001b[39m ArrayInterface ─────────────────── v6.0.25\n",
      "\u001b[32m\u001b[1m   Installed\u001b[22m\u001b[39m FastLapackInterface ────────────── v1.2.8\n",
      "\u001b[32m\u001b[1m   Installed\u001b[22m\u001b[39m GPUArraysCore ──────────────────── v0.1.3\n",
      "\u001b[32m\u001b[1m   Installed\u001b[22m\u001b[39m PreallocationTools ─────────────── v0.4.8\n",
      "\u001b[32m\u001b[1m   Installed\u001b[22m\u001b[39m ArrayInterfaceStaticArrays ─────── v0.1.5\n",
      "\u001b[32m\u001b[1m   Installed\u001b[22m\u001b[39m CloseOpenIntervals ─────────────── v0.1.11\n",
      "\u001b[32m\u001b[1m   Installed\u001b[22m\u001b[39m KLU ────────────────────────────── v0.4.0\n",
      "\u001b[32m\u001b[1m   Installed\u001b[22m\u001b[39m CommonSolve ────────────────────── v0.2.3\n",
      "\u001b[32m\u001b[1m   Installed\u001b[22m\u001b[39m ExponentialUtilities ───────────── v1.22.0\n",
      "\u001b[32m\u001b[1m   Installed\u001b[22m\u001b[39m Krylov ─────────────────────────── v0.9.0\n",
      "\u001b[32m\u001b[1m   Installed\u001b[22m\u001b[39m RecipesBase ────────────────────── v1.3.3\n",
      "\u001b[32m\u001b[1m   Installed\u001b[22m\u001b[39m Adapt ──────────────────────────── v3.5.0\n",
      "\u001b[32m\u001b[1m   Installed\u001b[22m\u001b[39m StrideArraysCore ───────────────── v0.4.6\n",
      "\u001b[32m\u001b[1m   Installed\u001b[22m\u001b[39m CPUSummary ─────────────────────── v0.2.2\n",
      "\u001b[32m\u001b[1m   Installed\u001b[22m\u001b[39m Rmath ──────────────────────────── v0.7.1\n",
      "\u001b[32m\u001b[1m   Installed\u001b[22m\u001b[39m RuntimeGeneratedFunctions ──────── v0.5.5\n",
      "\u001b[32m\u001b[1m   Installed\u001b[22m\u001b[39m VectorizationBase ──────────────── v0.21.58\n",
      "\u001b[32m\u001b[1m   Installed\u001b[22m\u001b[39m Optim ──────────────────────────── v1.7.4\n",
      "\u001b[32m\u001b[1m   Installed\u001b[22m\u001b[39m PoissonRandom ──────────────────── v0.4.3\n",
      "\u001b[32m\u001b[1m   Installed\u001b[22m\u001b[39m HostCPUFeatures ────────────────── v0.1.14\n",
      "\u001b[32m\u001b[1m   Installed\u001b[22m\u001b[39m FillArrays ─────────────────────── v0.13.7\n",
      "\u001b[32m\u001b[1m   Installed\u001b[22m\u001b[39m FastBroadcast ──────────────────── v0.2.4\n",
      "\u001b[32m\u001b[1m   Installed\u001b[22m\u001b[39m RecursiveFactorization ─────────── v0.2.17\n",
      "\u001b[32m\u001b[1m   Installed\u001b[22m\u001b[39m QuadGK ─────────────────────────── v2.7.0\n",
      "\u001b[32m\u001b[1m   Installed\u001b[22m\u001b[39m SymbolicIndexingInterface ──────── v0.2.1\n",
      "\u001b[32m\u001b[1m   Installed\u001b[22m\u001b[39m Distributions ──────────────────── v0.25.80\n",
      "\u001b[32m\u001b[1m   Installed\u001b[22m\u001b[39m SortingAlgorithms ──────────────── v1.1.0\n",
      "\u001b[32m\u001b[1m   Installed\u001b[22m\u001b[39m SparseDiffTools ────────────────── v1.30.0\n",
      "\u001b[32m\u001b[1m   Installed\u001b[22m\u001b[39m Sparspak ───────────────────────── v0.3.7\n",
      "\u001b[32m\u001b[1m    Updating\u001b[22m\u001b[39m `/path/to/JuliaBook2023Samples/notebooks/Chapter11/DifferentialEquationsSample/Project.toml`\n",
      "\u001b[32m⌃\u001b[39m\u001b[90m [0c46a032] \u001b[39m\u001b[92m+ DifferentialEquations v7.1.0\u001b[39m\n",
      "\u001b[32m\u001b[1m    Updating\u001b[22m\u001b[39m `/path/to/JuliaBook2023Samples/notebooks/Chapter11/DifferentialEquationsSample/Manifest.toml`\n",
      " \u001b[90m [79e6a3ab] \u001b[39m\u001b[92m+ Adapt v3.5.0\u001b[39m\n",
      " \u001b[90m [ec485272] \u001b[39m\u001b[92m+ ArnoldiMethod v0.2.0\u001b[39m\n",
      " \u001b[90m [4fba245c] \u001b[39m\u001b[92m+ ArrayInterface v6.0.25\u001b[39m\n",
      " \u001b[90m [30b0a656] \u001b[39m\u001b[92m+ ArrayInterfaceCore v0.1.29\u001b[39m\n",
      " \u001b[90m [6ba088a2] \u001b[39m\u001b[92m+ ArrayInterfaceGPUArrays v0.2.2\u001b[39m\n",
      " \u001b[90m [015c0d05] \u001b[39m\u001b[92m+ ArrayInterfaceOffsetArrays v0.1.7\u001b[39m\n",
      " \u001b[90m [b0d46f97] \u001b[39m\u001b[92m+ ArrayInterfaceStaticArrays v0.1.5\u001b[39m\n",
      " \u001b[90m [dd5226c6] \u001b[39m\u001b[92m+ ArrayInterfaceStaticArraysCore v0.1.3\u001b[39m\n",
      " \u001b[90m [4c555306] \u001b[39m\u001b[92m+ ArrayLayouts v0.8.18\u001b[39m\n",
      " \u001b[90m [aae01518] \u001b[39m\u001b[92m+ BandedMatrices v0.17.10\u001b[39m\n",
      " \u001b[90m [62783981] \u001b[39m\u001b[92m+ BitTwiddlingConvenienceFunctions v0.1.5\u001b[39m\n",
      " \u001b[90m [764a87c0] \u001b[39m\u001b[92m+ BoundaryValueDiffEq v2.11.0\u001b[39m\n",
      " \u001b[90m [fa961155] \u001b[39m\u001b[92m+ CEnum v0.4.2\u001b[39m\n",
      " \u001b[90m [2a0fbf3d] \u001b[39m\u001b[92m+ CPUSummary v0.2.2\u001b[39m\n",
      " \u001b[90m [49dc2e85] \u001b[39m\u001b[92m+ Calculus v0.5.1\u001b[39m\n",
      " \u001b[90m [d360d2e6] \u001b[39m\u001b[92m+ ChainRulesCore v1.15.7\u001b[39m\n",
      " \u001b[90m [9e997f8a] \u001b[39m\u001b[92m+ ChangesOfVariables v0.1.5\u001b[39m\n",
      " \u001b[90m [fb6a15b2] \u001b[39m\u001b[92m+ CloseOpenIntervals v0.1.11\u001b[39m\n",
      " \u001b[90m [38540f10] \u001b[39m\u001b[92m+ CommonSolve v0.2.3\u001b[39m\n",
      " \u001b[90m [bbf7d656] \u001b[39m\u001b[92m+ CommonSubexpressions v0.3.0\u001b[39m\n",
      " \u001b[90m [34da2185] \u001b[39m\u001b[92m+ Compat v4.5.0\u001b[39m\n",
      " \u001b[90m [187b0558] \u001b[39m\u001b[92m+ ConstructionBase v1.4.1\u001b[39m\n",
      " \u001b[90m [adafc99b] \u001b[39m\u001b[92m+ CpuId v0.3.1\u001b[39m\n",
      " \u001b[90m [9a962f9c] \u001b[39m\u001b[92m+ DataAPI v1.14.0\u001b[39m\n",
      " \u001b[90m [864edb3b] \u001b[39m\u001b[92m+ DataStructures v0.18.13\u001b[39m\n",
      " \u001b[90m [e2d170a0] \u001b[39m\u001b[92m+ DataValueInterfaces v1.0.0\u001b[39m\n",
      " \u001b[90m [bcd4f6db] \u001b[39m\u001b[92m+ DelayDiffEq v5.40.5\u001b[39m\n",
      " \u001b[90m [b429d917] \u001b[39m\u001b[92m+ DensityInterface v0.4.0\u001b[39m\n",
      " \u001b[90m [2b5f629d] \u001b[39m\u001b[92m+ DiffEqBase v6.114.2\u001b[39m\n",
      " \u001b[90m [459566f4] \u001b[39m\u001b[92m+ DiffEqCallbacks v2.24.3\u001b[39m\n",
      " \u001b[90m [c894b116] \u001b[39m\u001b[92m+ DiffEqJump v8.6.3\u001b[39m\n",
      " \u001b[90m [77a26b50] \u001b[39m\u001b[92m+ DiffEqNoiseProcess v5.15.2\u001b[39m\n",
      " \u001b[90m [163ba53b] \u001b[39m\u001b[92m+ DiffResults v1.1.0\u001b[39m\n",
      " \u001b[90m [b552c78f] \u001b[39m\u001b[92m+ DiffRules v1.12.2\u001b[39m\n",
      "\u001b[32m⌃\u001b[39m\u001b[90m [0c46a032] \u001b[39m\u001b[92m+ DifferentialEquations v7.1.0\u001b[39m\n",
      " \u001b[90m [b4f34e82] \u001b[39m\u001b[92m+ Distances v0.10.7\u001b[39m\n",
      " \u001b[90m [31c24e10] \u001b[39m\u001b[92m+ Distributions v0.25.80\u001b[39m\n",
      " \u001b[90m [ffbed154] \u001b[39m\u001b[92m+ DocStringExtensions v0.9.3\u001b[39m\n",
      " \u001b[90m [fa6b7ba4] \u001b[39m\u001b[92m+ DualNumbers v0.6.8\u001b[39m\n",
      " \u001b[90m [4e289a0a] \u001b[39m\u001b[92m+ EnumX v1.0.4\u001b[39m\n",
      " \u001b[90m [d4d017d3] \u001b[39m\u001b[92m+ ExponentialUtilities v1.22.0\u001b[39m\n",
      " \u001b[90m [e2ba6199] \u001b[39m\u001b[92m+ ExprTools v0.1.8\u001b[39m\n",
      " \u001b[90m [7034ab61] \u001b[39m\u001b[92m+ FastBroadcast v0.2.4\u001b[39m\n",
      " \u001b[90m [9aa1b823] \u001b[39m\u001b[92m+ FastClosures v0.3.2\u001b[39m\n",
      " \u001b[90m [29a986be] \u001b[39m\u001b[92m+ FastLapackInterface v1.2.8\u001b[39m\n",
      " \u001b[90m [1a297f60] \u001b[39m\u001b[92m+ FillArrays v0.13.7\u001b[39m\n",
      " \u001b[90m [6a86dc24] \u001b[39m\u001b[92m+ FiniteDiff v2.17.0\u001b[39m\n",
      " \u001b[90m [f6369f11] \u001b[39m\u001b[92m+ ForwardDiff v0.10.34\u001b[39m\n",
      " \u001b[90m [069b7b12] \u001b[39m\u001b[92m+ FunctionWrappers v1.1.3\u001b[39m\n",
      " \u001b[90m [77dc65aa] \u001b[39m\u001b[92m+ FunctionWrappersWrappers v0.1.1\u001b[39m\n",
      " \u001b[90m [46192b85] \u001b[39m\u001b[92m+ GPUArraysCore v0.1.3\u001b[39m\n",
      " \u001b[90m [c145ed77] \u001b[39m\u001b[92m+ GenericSchur v0.5.3\u001b[39m\n",
      " \u001b[90m [86223c79] \u001b[39m\u001b[92m+ Graphs v1.7.4\u001b[39m\n",
      " \u001b[90m [3e5b6fbb] \u001b[39m\u001b[92m+ HostCPUFeatures v0.1.14\u001b[39m\n",
      " \u001b[90m [34004b35] \u001b[39m\u001b[92m+ HypergeometricFunctions v0.3.11\u001b[39m\n",
      " \u001b[90m [615f187c] \u001b[39m\u001b[92m+ IfElse v0.1.1\u001b[39m\n",
      " \u001b[90m [d25df0c9] \u001b[39m\u001b[92m+ Inflate v0.1.3\u001b[39m\n",
      " \u001b[90m [3587e190] \u001b[39m\u001b[92m+ InverseFunctions v0.1.8\u001b[39m\n",
      " \u001b[90m [92d709cd] \u001b[39m\u001b[92m+ IrrationalConstants v0.1.1\u001b[39m\n",
      " \u001b[90m [42fd0dbc] \u001b[39m\u001b[92m+ IterativeSolvers v0.9.2\u001b[39m\n",
      " \u001b[90m [82899510] \u001b[39m\u001b[92m+ IteratorInterfaceExtensions v1.0.0\u001b[39m\n",
      " \u001b[90m [692b3bcd] \u001b[39m\u001b[92m+ JLLWrappers v1.4.1\u001b[39m\n",
      " \u001b[90m [ccbc3e58] \u001b[39m\u001b[92m+ JumpProcesses v9.3.1\u001b[39m\n",
      " \u001b[90m [ef3ab10e] \u001b[39m\u001b[92m+ KLU v0.4.0\u001b[39m\n",
      " \u001b[90m [ba0b0d4f] \u001b[39m\u001b[92m+ Krylov v0.9.0\u001b[39m\n",
      " \u001b[90m [0b1a1467] \u001b[39m\u001b[92m+ KrylovKit v0.6.0\u001b[39m\n",
      " \u001b[90m [10f19ff3] \u001b[39m\u001b[92m+ LayoutPointers v0.1.13\u001b[39m\n",
      " \u001b[90m [2d8b4e74] \u001b[39m\u001b[92m+ LevyArea v1.0.0\u001b[39m\n",
      " \u001b[90m [d3d80556] \u001b[39m\u001b[92m+ LineSearches v7.2.0\u001b[39m\n",
      " \u001b[90m [7ed4a6bd] \u001b[39m\u001b[92m+ LinearSolve v1.34.1\u001b[39m\n",
      " \u001b[90m [2ab3a3ac] \u001b[39m\u001b[92m+ LogExpFunctions v0.3.20\u001b[39m\n",
      " \u001b[90m [bdcacae8] \u001b[39m\u001b[92m+ LoopVectorization v0.12.148\u001b[39m\n",
      " \u001b[90m [1914dd2f] \u001b[39m\u001b[92m+ MacroTools v0.5.10\u001b[39m\n",
      " \u001b[90m [d125e4d3] \u001b[39m\u001b[92m+ ManualMemory v0.1.8\u001b[39m\n",
      " \u001b[90m [e1d29d7a] \u001b[39m\u001b[92m+ Missings v1.1.0\u001b[39m\n",
      " \u001b[90m [46d2c3a1] \u001b[39m\u001b[92m+ MuladdMacro v0.2.4\u001b[39m\n",
      " \u001b[90m [d41bc354] \u001b[39m\u001b[92m+ NLSolversBase v7.8.3\u001b[39m\n",
      " \u001b[90m [2774e3e8] \u001b[39m\u001b[92m+ NLsolve v4.5.1\u001b[39m\n",
      " \u001b[90m [77ba4419] \u001b[39m\u001b[92m+ NaNMath v1.0.1\u001b[39m\n",
      " \u001b[90m [8913a72c] \u001b[39m\u001b[92m+ NonlinearSolve v1.3.0\u001b[39m\n",
      " \u001b[90m [6fe1bfb0] \u001b[39m\u001b[92m+ OffsetArrays v1.12.8\u001b[39m\n",
      " \u001b[90m [429524aa] \u001b[39m\u001b[92m+ Optim v1.7.4\u001b[39m\n",
      " \u001b[90m [bac558e1] \u001b[39m\u001b[92m+ OrderedCollections v1.4.1\u001b[39m\n",
      " \u001b[90m [1dea7af3] \u001b[39m\u001b[92m+ OrdinaryDiffEq v6.40.1\u001b[39m\n",
      " \u001b[90m [90014a1f] \u001b[39m\u001b[92m+ PDMats v0.11.16\u001b[39m\n",
      " \u001b[90m [d96e819e] \u001b[39m\u001b[92m+ Parameters v0.12.3\u001b[39m\n",
      " \u001b[90m [e409e4f3] \u001b[39m\u001b[92m+ PoissonRandom v0.4.3\u001b[39m\n",
      " \u001b[90m [f517fe37] \u001b[39m\u001b[92m+ Polyester v0.7.2\u001b[39m\n",
      " \u001b[90m [1d0040c9] \u001b[39m\u001b[92m+ PolyesterWeave v0.2.1\u001b[39m\n",
      " \u001b[90m [85a6dd25] \u001b[39m\u001b[92m+ PositiveFactorizations v0.2.4\u001b[39m\n",
      " \u001b[90m [d236fae5] \u001b[39m\u001b[92m+ PreallocationTools v0.4.8\u001b[39m\n",
      " \u001b[90m [21216c6a] \u001b[39m\u001b[92m+ Preferences v1.3.0\u001b[39m\n",
      " \u001b[90m [1fd47b50] \u001b[39m\u001b[92m+ QuadGK v2.7.0\u001b[39m\n",
      " \u001b[90m [74087812] \u001b[39m\u001b[92m+ Random123 v1.6.0\u001b[39m\n",
      " \u001b[90m [e6cf234a] \u001b[39m\u001b[92m+ RandomNumbers v1.5.3\u001b[39m\n",
      " \u001b[90m [3cdcf5f2] \u001b[39m\u001b[92m+ RecipesBase v1.3.3\u001b[39m\n",
      " \u001b[90m [731186ca] \u001b[39m\u001b[92m+ RecursiveArrayTools v2.36.0\u001b[39m\n",
      " \u001b[90m [f2c3362d] \u001b[39m\u001b[92m+ RecursiveFactorization v0.2.17\u001b[39m\n",
      " \u001b[90m [189a3867] \u001b[39m\u001b[92m+ Reexport v1.2.2\u001b[39m\n",
      " \u001b[90m [ae029012] \u001b[39m\u001b[92m+ Requires v1.3.0\u001b[39m\n",
      " \u001b[90m [ae5879a3] \u001b[39m\u001b[92m+ ResettableStacks v1.1.1\u001b[39m\n",
      " \u001b[90m [79098fc4] \u001b[39m\u001b[92m+ Rmath v0.7.1\u001b[39m\n",
      " \u001b[90m [7e49a35a] \u001b[39m\u001b[92m+ RuntimeGeneratedFunctions v0.5.5\u001b[39m\n",
      " \u001b[90m [3cdde19b] \u001b[39m\u001b[92m+ SIMDDualNumbers v0.1.1\u001b[39m\n",
      " \u001b[90m [94e857df] \u001b[39m\u001b[92m+ SIMDTypes v0.1.0\u001b[39m\n",
      " \u001b[90m [476501e8] \u001b[39m\u001b[92m+ SLEEFPirates v0.6.38\u001b[39m\n",
      " \u001b[90m [0bca4576] \u001b[39m\u001b[92m+ SciMLBase v1.81.1\u001b[39m\n",
      " \u001b[90m [e9a6253c] \u001b[39m\u001b[92m+ SciMLNLSolve v0.1.3\u001b[39m\n",
      " \u001b[90m [efcf1570] \u001b[39m\u001b[92m+ Setfield v1.1.1\u001b[39m\n",
      " \u001b[90m [727e6d20] \u001b[39m\u001b[92m+ SimpleNonlinearSolve v0.1.8\u001b[39m\n",
      " \u001b[90m [699a6c99] \u001b[39m\u001b[92m+ SimpleTraits v0.9.4\u001b[39m\n",
      " \u001b[90m [66db9d55] \u001b[39m\u001b[92m+ SnoopPrecompile v1.0.3\u001b[39m\n",
      " \u001b[90m [a2af1166] \u001b[39m\u001b[92m+ SortingAlgorithms v1.1.0\u001b[39m\n",
      " \u001b[90m [47a9eef4] \u001b[39m\u001b[92m+ SparseDiffTools v1.30.0\u001b[39m\n",
      " \u001b[90m [e56a9233] \u001b[39m\u001b[92m+ Sparspak v0.3.7\u001b[39m\n",
      " \u001b[90m [276daf66] \u001b[39m\u001b[92m+ SpecialFunctions v2.1.7\u001b[39m\n",
      " \u001b[90m [aedffcd0] \u001b[39m\u001b[92m+ Static v0.8.3\u001b[39m\n",
      " \u001b[90m [90137ffa] \u001b[39m\u001b[92m+ StaticArrays v1.5.12\u001b[39m\n",
      " \u001b[90m [1e83bf80] \u001b[39m\u001b[92m+ StaticArraysCore v1.4.0\u001b[39m\n",
      " \u001b[90m [82ae8749] \u001b[39m\u001b[92m+ StatsAPI v1.5.0\u001b[39m\n",
      " \u001b[90m [2913bbd2] \u001b[39m\u001b[92m+ StatsBase v0.33.21\u001b[39m\n",
      " \u001b[90m [4c63d2b9] \u001b[39m\u001b[92m+ StatsFuns v1.1.1\u001b[39m\n",
      " \u001b[90m [9672c7b4] \u001b[39m\u001b[92m+ SteadyStateDiffEq v1.11.0\u001b[39m\n",
      " \u001b[90m [789caeaf] \u001b[39m\u001b[92m+ StochasticDiffEq v6.57.4\u001b[39m\n",
      " \u001b[90m [7792a7ef] \u001b[39m\u001b[92m+ StrideArraysCore v0.4.6\u001b[39m\n",
      " \u001b[90m [c3572dad] \u001b[39m\u001b[92m+ Sundials v4.12.0\u001b[39m\n",
      " \u001b[90m [2efcf032] \u001b[39m\u001b[92m+ SymbolicIndexingInterface v0.2.1\u001b[39m\n",
      " \u001b[90m [3783bdb8] \u001b[39m\u001b[92m+ TableTraits v1.0.1\u001b[39m\n",
      " \u001b[90m [bd369af6] \u001b[39m\u001b[92m+ Tables v1.10.0\u001b[39m\n",
      " \u001b[90m [8290d209] \u001b[39m\u001b[92m+ ThreadingUtilities v0.5.1\u001b[39m\n",
      " \u001b[90m [a2a6695c] \u001b[39m\u001b[92m+ TreeViews v0.3.0\u001b[39m\n",
      " \u001b[90m [d5829a12] \u001b[39m\u001b[92m+ TriangularSolve v0.1.19\u001b[39m\n",
      " \u001b[90m [410a4b4d] \u001b[39m\u001b[92m+ Tricks v0.1.6\u001b[39m\n",
      " \u001b[90m [3a884ed6] \u001b[39m\u001b[92m+ UnPack v1.0.2\u001b[39m\n",
      " \u001b[90m [3d5dd08c] \u001b[39m\u001b[92m+ VectorizationBase v0.21.58\u001b[39m\n",
      " \u001b[90m [19fa3120] \u001b[39m\u001b[92m+ VertexSafeGraphs v0.2.0\u001b[39m\n",
      " \u001b[90m [700de1a5] \u001b[39m\u001b[92m+ ZygoteRules v0.2.2\u001b[39m\n",
      " \u001b[90m [efe28fd5] \u001b[39m\u001b[92m+ OpenSpecFun_jll v0.5.5+0\u001b[39m\n",
      " \u001b[90m [f50d1b31] \u001b[39m\u001b[92m+ Rmath_jll v0.4.0+0\u001b[39m\n",
      " \u001b[90m [fb77eaff] \u001b[39m\u001b[92m+ Sundials_jll v5.2.1+0\u001b[39m\n",
      " \u001b[90m [0dad84c5] \u001b[39m\u001b[92m+ ArgTools v1.1.1\u001b[39m\n",
      " \u001b[90m [56f22d72] \u001b[39m\u001b[92m+ Artifacts\u001b[39m\n",
      " \u001b[90m [2a0f44e3] \u001b[39m\u001b[92m+ Base64\u001b[39m\n",
      " \u001b[90m [ade2ca70] \u001b[39m\u001b[92m+ Dates\u001b[39m\n",
      " \u001b[90m [8ba89e20] \u001b[39m\u001b[92m+ Distributed\u001b[39m\n",
      " \u001b[90m [f43a241f] \u001b[39m\u001b[92m+ Downloads v1.6.0\u001b[39m\n",
      " \u001b[90m [7b1f6079] \u001b[39m\u001b[92m+ FileWatching\u001b[39m\n",
      " \u001b[90m [9fa8497b] \u001b[39m\u001b[92m+ Future\u001b[39m\n",
      " \u001b[90m [b77e0a4c] \u001b[39m\u001b[92m+ InteractiveUtils\u001b[39m\n",
      " \u001b[90m [b27032c2] \u001b[39m\u001b[92m+ LibCURL v0.6.3\u001b[39m\n",
      " \u001b[90m [76f85450] \u001b[39m\u001b[92m+ LibGit2\u001b[39m\n",
      " \u001b[90m [8f399da3] \u001b[39m\u001b[92m+ Libdl\u001b[39m\n",
      " \u001b[90m [37e2e46d] \u001b[39m\u001b[92m+ LinearAlgebra\u001b[39m\n",
      " \u001b[90m [56ddb016] \u001b[39m\u001b[92m+ Logging\u001b[39m\n",
      " \u001b[90m [d6f4376e] \u001b[39m\u001b[92m+ Markdown\u001b[39m\n",
      " \u001b[90m [a63ad114] \u001b[39m\u001b[92m+ Mmap\u001b[39m\n",
      " \u001b[90m [ca575930] \u001b[39m\u001b[92m+ NetworkOptions v1.2.0\u001b[39m\n",
      " \u001b[90m [44cfe95a] \u001b[39m\u001b[92m+ Pkg v1.8.0\u001b[39m\n",
      " \u001b[90m [de0858da] \u001b[39m\u001b[92m+ Printf\u001b[39m\n",
      " \u001b[90m [3fa0cd96] \u001b[39m\u001b[92m+ REPL\u001b[39m\n",
      " \u001b[90m [9a3f8284] \u001b[39m\u001b[92m+ Random\u001b[39m\n",
      " \u001b[90m [ea8e919c] \u001b[39m\u001b[92m+ SHA v0.7.0\u001b[39m\n",
      " \u001b[90m [9e88b42a] \u001b[39m\u001b[92m+ Serialization\u001b[39m\n",
      " \u001b[90m [1a1011a3] \u001b[39m\u001b[92m+ SharedArrays\u001b[39m\n",
      " \u001b[90m [6462fe0b] \u001b[39m\u001b[92m+ Sockets\u001b[39m\n",
      " \u001b[90m [2f01184e] \u001b[39m\u001b[92m+ SparseArrays\u001b[39m\n",
      " \u001b[90m [10745b16] \u001b[39m\u001b[92m+ Statistics\u001b[39m\n",
      " \u001b[90m [4607b0f0] \u001b[39m\u001b[92m+ SuiteSparse\u001b[39m\n",
      " \u001b[90m [fa267f1f] \u001b[39m\u001b[92m+ TOML v1.0.0\u001b[39m\n",
      " \u001b[90m [a4e569a6] \u001b[39m\u001b[92m+ Tar v1.10.1\u001b[39m\n",
      " \u001b[90m [8dfed614] \u001b[39m\u001b[92m+ Test\u001b[39m\n",
      " \u001b[90m [cf7118a7] \u001b[39m\u001b[92m+ UUIDs\u001b[39m\n",
      " \u001b[90m [4ec0a83e] \u001b[39m\u001b[92m+ Unicode\u001b[39m\n",
      " \u001b[90m [e66e0078] \u001b[39m\u001b[92m+ CompilerSupportLibraries_jll v1.0.1+0\u001b[39m\n",
      " \u001b[90m [deac9b47] \u001b[39m\u001b[92m+ LibCURL_jll v7.84.0+0\u001b[39m\n",
      " \u001b[90m [29816b5a] \u001b[39m\u001b[92m+ LibSSH2_jll v1.10.2+0\u001b[39m\n",
      " \u001b[90m [c8ffd9c3] \u001b[39m\u001b[92m+ MbedTLS_jll v2.28.0+0\u001b[39m\n",
      " \u001b[90m [14a3606d] \u001b[39m\u001b[92m+ MozillaCACerts_jll v2022.2.1\u001b[39m\n",
      " \u001b[90m [4536629a] \u001b[39m\u001b[92m+ OpenBLAS_jll v0.3.20+0\u001b[39m\n",
      " \u001b[90m [05823500] \u001b[39m\u001b[92m+ OpenLibm_jll v0.8.1+0\u001b[39m\n"
     ]
    },
    {
     "name": "stderr",
     "output_type": "stream",
     "text": [
      " \u001b[90m [bea87d4a] \u001b[39m\u001b[92m+ SuiteSparse_jll v5.10.1+0\u001b[39m\n",
      " \u001b[90m [83775a58] \u001b[39m\u001b[92m+ Zlib_jll v1.2.12+3\u001b[39m\n",
      " \u001b[90m [8e850b90] \u001b[39m\u001b[92m+ libblastrampoline_jll v5.1.1+0\u001b[39m\n",
      " \u001b[90m [8e850ede] \u001b[39m\u001b[92m+ nghttp2_jll v1.48.0+0\u001b[39m\n",
      " \u001b[90m [3f19e933] \u001b[39m\u001b[92m+ p7zip_jll v17.4.0+0\u001b[39m\n",
      "\u001b[36m\u001b[1m        Info\u001b[22m\u001b[39m Packages marked with \u001b[32m⌃\u001b[39m have new versions available and may be upgradable.\n",
      "\u001b[32m\u001b[1mPrecompiling\u001b[22m\u001b[39m project...\n",
      "\u001b[32m  ✓ \u001b[39m\u001b[90mPoissonRandom\u001b[39m\n",
      "\u001b[32m  ✓ \u001b[39m\u001b[90mEnumX\u001b[39m\n",
      "\u001b[32m  ✓ \u001b[39m\u001b[90mMuladdMacro\u001b[39m\n",
      "\u001b[32m  ✓ \u001b[39m\u001b[90mSIMDTypes\u001b[39m\n",
      "\u001b[32m  ✓ \u001b[39m\u001b[90mPositiveFactorizations\u001b[39m\n",
      "\u001b[32m  ✓ \u001b[39m\u001b[90mInflate\u001b[39m\n",
      "\u001b[32m  ✓ \u001b[39m\u001b[90mIfElse\u001b[39m\n",
      "\u001b[32m  ✓ \u001b[39m\u001b[90mCommonSolve\u001b[39m\n",
      "\u001b[32m  ✓ \u001b[39m\u001b[90mPDMats\u001b[39m\n",
      "\u001b[32m  ✓ \u001b[39m\u001b[90mFunctionWrappers\u001b[39m\n",
      "\u001b[32m  ✓ \u001b[39m\u001b[90mCalculus\u001b[39m\n",
      "\u001b[32m  ✓ \u001b[39m\u001b[90mCpuId\u001b[39m\n",
      "\u001b[32m  ✓ \u001b[39m\u001b[90mSymbolicIndexingInterface\u001b[39m\n",
      "\u001b[32m  ✓ \u001b[39m\u001b[90mAdapt\u001b[39m\n",
      "\u001b[32m  ✓ \u001b[39m\u001b[90mTricks\u001b[39m\n",
      "\u001b[32m  ✓ \u001b[39m\u001b[90mFastClosures\u001b[39m\n",
      "\u001b[32m  ✓ \u001b[39m\u001b[90mCEnum\u001b[39m\n",
      "\u001b[32m  ✓ \u001b[39m\u001b[90mTreeViews\u001b[39m\n",
      "\u001b[32m  ✓ \u001b[39m\u001b[90mFillArrays\u001b[39m\n",
      "\u001b[32m  ✓ \u001b[39m\u001b[90mManualMemory\u001b[39m\n",
      "\u001b[32m  ✓ \u001b[39m\u001b[90mRuntimeGeneratedFunctions\u001b[39m\n",
      "\u001b[32m  ✓ \u001b[39m\u001b[90mDensityInterface\u001b[39m\n",
      "\u001b[32m  ✓ \u001b[39m\u001b[90mMissings\u001b[39m\n",
      "\u001b[32m  ✓ \u001b[39m\u001b[90mGenericSchur\u001b[39m\n",
      "\u001b[32m  ✓ \u001b[39m\u001b[90mSortingAlgorithms\u001b[39m\n",
      "\u001b[32m  ✓ \u001b[39m\u001b[90mSuiteSparse_jll\u001b[39m\n",
      "\u001b[32m  ✓ \u001b[39m\u001b[90mRmath_jll\u001b[39m\n",
      "base64 binary data: RXJyb3IgaW4gVGltZXI6ClpNURtbMzJtICDinJMgG1szOW0bWzkwbVJhbmRvbU51bWJlcnMbWzM5bS4KU3RhdGVFcnJvcigbWzMybSAg4pyTIBtbMzltG1s5MG1Lcnlsb3YbWzM5bSIK44IbWzMybSAg4pyTIBtbMzltG1s5MG1GYXN0TGFwYWNrSW50ZXJmYWNlG1szOW23CuOCG1szMm0gIOKckyAbWzM5bRtbOTBtWnlnb3RlUnVsZXMbWzM5bbkK44MbWzMybSAg4pyTIBtbMzltG1s5MG1RdWFkR0sbWzM5bYYK44MbWzMybSAg4pyTIBtbMzltG1s5MG1SZXNldHRhYmxlU3RhY2tzG1szOW2gCuOCG1szMm0gIOKckyAbWzM5bRtbOTBtQXJub2xkaU1ldGhvZBtbMzltswrjgxtbMzJtICDinJMgG1szOW0bWzkwbVJlY2lwZXNCYXNlG1szOW28CuODG1szMm0gIOKckyAbWzM5bRtbOTBtTGV2eUFyZWEbWzM5basK5YkbWzMybSAg4pyTIBtbMzltG1s5MG1TdGF0aWMbWzM5bbIK44IbWzMybSAg4pyTIBtbMzltG1s5MG1GdW5jdGlvbldyYXBwZXJzV3JhcHBlcnMbWzM5bYoK6L4bWzMybSAg4pyTIBtbMzltG1s5MG1EdWFsTnVtYmVycxtbMzltvArjgRtbMzJtICDinJMgG1szOW0bWzkwbU9mZnNldEFycmF5cxtbMzltvwoiKQpTdGFja3RyYWNlOgogWzFdIBtbMG0bWzFtX3NlbmQbWzIybRtbMG0bWzFtKBtbMjJtG1s5MG1zb2NrZXQbWzM5bTo6G1swbVpNUS5Tb2NrZXQsIBtbOTBtem1zZxtbMzltOjobWzBtQmFzZS5SZWZWYWx1ZRtbOTBte1pNUS5fTWVzc2FnZX0bWzM5bSwgG1s5MG1tb3JlG1szOW06OhtbMG1Cb29sG1swbRtbMW0pG1syMm0KG1s5MG0gICBAIBtbMzltG1szNW1aTVEbWzM5bSAbWzkwbX4vLmp1bGlhL3BhY2thZ2VzL1pNUS9sckFCRS9zcmMvG1szOW0bWzkwbRtbNG1jb21tLmpsOjE0G1syNG0bWzM5bQogWzJdIBtbMG0bWzFtc2VuZBtbMjJtG1swbRtbMW0oG1syMm0bWzkwbXNvY2tldBtbMzltOjobWzBtWk1RLlNvY2tldCwgG1s5MG1kYXRhG1szOW06OhtbMG1TdHJpbmc7IBtbOTBtbW9yZRtbMzltOjobWzBtQm9vbBtbMG0bWzFtKRtbMjJtChtbOTBtICAgQCAbWzM5bRtbMzVtWk1RG1szOW0gG1s5MG1+Ly5qdWxpYS9wYWNrYWdlcy9aTVEvbHJBQkUvc3JjLxtbMzltG1s5MG0bWzRtY29tbS5qbDo0NRtbMjRtG1szOW0KIFszXSAbWzBtG1sxbXNlbmRfaXB5dGhvbhtbMjJtG1swbRtbMW0oG1syMm0bWzkwbXNvY2tldBtbMzltOjobWzBtWk1RLlNvY2tldCwgG1s5MG1tG1szOW06OhtbMG1JSnVsaWEuTXNnG1swbRtbMW0pG1syMm0KG1s5MG0gICBAIBtbMzltG1szNm1JSnVsaWEbWzM5bSAbWzkwbX4vLmp1bGlhL3BhY2thZ2VzL0lKdWxpYS82VElxMS9zcmMvG1szOW0bWzkwbRtbNG1tc2cuamw6NDgbWzI0bRtbMzltCiBbNF0gG1swbRtbMW1zZW5kX3N0cmVhbRtbMjJtG1swbRtbMW0oG1syMm0bWzkwbW5hbWUbWzM5bTo6G1swbVN0cmluZxtbMG0bWzFtKRtbMjJtChtbOTBtICAgQCAbWzM5bRtbMzZtSUp1bGlhG1szOW0gG1s5MG1+Ly5qdWxpYS9wYWNrYWdlcy9JSnVsaWEvNlRJcTEvc3JjLxtbMzltG1s5MG0bWzRtc3RkaW8uamw6MTYzG1syNG0bWzM5bQogWzVdIBtbMG0bWzFtc2VuZF9zdGRpbxtbMjJtG1swbRtbMW0oG1syMm0bWzkwbW5hbWUbWzM5bTo6G1swbVN0cmluZxtbMG0bWzFtKRtbMjJtChtbOTBtICAgQCAbWzM5bRtbMzZtSUp1bGlhG1szOW0gG1s5MG1+Ly5qdWxpYS9wYWNrYWdlcy9JSnVsaWEvNlRJcTEvc3JjLxtbMzltG1s5MG0bWzRtc3RkaW8uamw6MTIxG1syNG0bWzM5bQogWzZdIBtbMG0bWzFtc2VuZF9zdGRlcnIbWzIybQobWzkwbSAgIEAgG1szOW0bWzkwbX4vLmp1bGlhL3BhY2thZ2VzL0lKdWxpYS82VElxMS9zcmMvG1szOW0bWzkwbRtbNG1zdGRpby5qbDoxMjUbWzI0bRtbMzltG1s5MG0gW2lubGluZWRdG1szOW0KIFs3XSAbWzBtG1sxbW1hY3JvIGV4cGFuc2lvbhtbMjJtChtbOTBtICAgQCAbWzM5bRtbOTBtLi8bWzM5bRtbOTBtG1s0bWFzeW5jZXZlbnQuamw6MjgxG1syNG0bWzM5bRtbOTBtIFtpbmxpbmVkXRtbMzltCiBbOF0gG1swbRtbMW0oOjpCYXNlLnZhciIjNjY2IzY2NyJ7dHlwZW9mKElKdWxpYS5zZW5kX3N0ZGVyciksIFRpbWVyfSkbWzIybRtbMG0bWzFtKBtbMjJtG1swbRtbMW0pG1syMm0KG1s5MG0gICBAIBtbMzltG1s5MG1CYXNlG1szOW0gG1s5MG0uLxtbMzltG1s5MG0bWzRtdGFzay5qbDoxMzQbWzI0bRtbMzltG1szMm0gIOKckyAbWzM5bRtbOTBtR1BVQXJyYXlzQ29yZRtbMzltChtbMzJtICDinJMgG1szOW0bWzkwbUFycmF5SW50ZXJmYWNlU3RhdGljQXJyYXlzQ29yZRtbMzltChtbMzJtICDinJMgG1szOW0bWzkwbUJpdFR3aWRkbGluZ0NvbnZlbmllbmNlRnVuY3Rpb25zG1szOW0KG1szMm0gIOKckyAbWzM5bRtbOTBtU3VuZGlhbHNfamxsG1szOW0KG1szMm0gIOKckyAbWzM5bRtbOTBtS0xVG1szOW0KG1szMm0gIOKckyAbWzM5bRtbOTBtUm1hdGgbWzM5bQobWzMybSAg4pyTIBtbMzltG1s5MG1UaHJlYWRpbmdVdGlsaXRpZXMbWzM5bQobWzMybSAg4pyTIBtbMzltG1s5MG1BcnJheUludGVyZmFjZUdQVUFycmF5cxtbMzltChtbMzJtICDinJMgG1szOW0bWzkwbUNQVVN1bW1hcnkbWzM5bQobWzMybSAg4pyTIBtbMzltG1s5MG1SYW5kb20xMjMbWzM5bQobWzMybSAg4pyTIBtbMzltG1s5MG1TcGFyc3BhaxtbMzltChtbMzJtICDinJMgG1szOW0bWzkwbUh5cGVyZ2VvbWV0cmljRnVuY3Rpb25zG1szOW0KG1szMm0gIOKckyAbWzM5bRtbOTBtSG9zdENQVUZlYXR1cmVzG1szOW0KG1szMm0gIOKckyAbWzM5bRtbOTBtQXJyYXlJbnRlcmZhY2UbWzM5bQobWzMybSAg4pyTIBtbMzltG1s5MG1Qb2x5ZXN0ZXJXZWF2ZRtbMzltChtbMzJtICDinJMgG1szOW0bWzkwbVByZWFsbG9jYXRpb25Ub29scxtbMzltChtbMzJtICDinJMgG1szOW0bWzkwbUl0ZXJhdGl2ZVNvbHZlcnMbWzM5bQobWzMybSAg4pyTIBtbMzltG1s5MG1TdGF0c0Jhc2UbWzM5bQobWzMybSAg4pyTIBtbMzltG1s5MG1FeHBvbmVudGlhbFV0aWxpdGllcxtbMzltChtbMzJtICDinJMgG1szOW0bWzkwbUFycmF5SW50ZXJmYWNlT2Zmc2V0QXJyYXlzG1szOW0KG1szMm0gIOKckyAbWzM5bRtbOTBtQ2xvc2VPcGVuSW50ZXJ2YWxzG1szOW0KG1szMm0gIOKckyAbWzM5bRtbOTBtS3J5bG92S2l0G1szOW0KG1szMm0gIOKckyAbWzM5bRtbOTBtQXJyYXlJbnRlcmZhY2VTdGF0aWNBcnJheXMbWzM5bQobWzMybSAg4pyTIBtbMzltG1s5MG1SZWN1cnNpdmVBcnJheVRvb2xzG1szOW0KG1szMm0gIOKckyAbWzM5bRtbOTBtU3RhdHNGdW5zG1szOW0KG1szMm0gIOKckyAbWzM5bRtbOTBtTGF5b3V0UG9pbnRlcnMbWzM5bQobWzMybSAg4pyTIBtbMzltG1s5MG1HcmFwaHMbWzM5bQobWzMybSAg4pyTIBtbMzltG1s5MG1BcnJheUxheW91dHMbWzM5bQobWzMybSAg4pyTIBtbMzltG1s5MG1TdHJpZGVBcnJheXNDb3JlG1szOW0KG1szMm0gIOKckyAbWzM5bRtbOTBtT3B0aW0bWzM5bQobWzMybSAg4pyTIBtbMzltG1s5MG1WZXJ0ZXhTYWZlR3JhcGhzG1szOW0KG1szMm0gIOKckyAbWzM5bRtbOTBtU2NpTUxCYXNlG1szOW0KG1szMm0gIOKckyAbWzM5bRtbOTBtUG9seWVzdGVyG1szOW0KG1szMm0gIOKckyAbWzM5bRtbOTBtU3BhcnNlRGlmZlRvb2xzG1szOW0KG1szMm0gIOKckyAbWzM5bRtbOTBtQmFuZGVkTWF0cmljZXMbWzM5bQobWzMybSAg4pyTIBtbMzltG1s5MG1EaXN0cmlidXRpb25zG1szOW0KG1szMm0gIOKckyAbWzM5bRtbOTBtRmFzdEJyb2FkY2FzdBtbMzltChtbMzJtICDinJMgG1szOW0bWzkwbURpZmZFcUJhc2UbWzM5bQobWzMybSAg4pyTIBtbMzltG1s5MG1WZWN0b3JpemF0aW9uQmFzZRtbMzltChtbMzJtICDinJMgG1szOW0bWzkwbVNMRUVGUGlyYXRlcxtbMzltChtbMzJtICDinJMgG1szOW0bWzkwbVNpbXBsZU5vbmxpbmVhclNvbHZlG1szOW0KG1szMm0gIOKckyAbWzM5bRtbOTBtU2NpTUxOTFNvbHZlG1szOW0KG1szMm0gIOKckyAbWzM5bRtbOTBtRGlmZkVxQ2FsbGJhY2tzG1szOW0KG1szMm0gIOKckyAbWzM5bRtbOTBtRGlmZkVxTm9pc2VQcm9jZXNzG1szOW0KG1szMm0gIOKckyAbWzM5bRtbOTBtU0lNRER1YWxOdW1iZXJzG1szOW0KG1szMm0gIOKckyAbWzM5bRtbOTBtRGlmZkVxSnVtcBtbMzltChtbMzJtICDinJMgG1szOW0bWzkwbUp1bXBQcm9jZXNzZXMbWzM5bQobWzMybSAg4pyTIBtbMzltG1s5MG1Cb3VuZGFyeVZhbHVlRGlmZkVxG1szOW0KG1szMm0gIOKckyAbWzM5bRtbOTBtU3RlYWR5U3RhdGVEaWZmRXEbWzM5bQobWzMybSAg4pyTIBtbMzltG1s5MG1TdW5kaWFscxtbMzltChtbMzJtICDinJMgG1szOW0bWzkwbUxvb3BWZWN0b3JpemF0aW9uG1szOW0KG1szMm0gIOKckyAbWzM5bRtbOTBtVHJpYW5ndWxhclNvbHZlG1szOW0KG1szMm0gIOKckyAbWzM5bRtbOTBtUmVjdXJzaXZlRmFjdG9yaXphdGlvbhtbMzltChtbMzJtICDinJMgG1szOW0bWzkwbUxpbmVhclNvbHZlG1szOW0KG1szMm0gIOKckyAbWzM5bRtbOTBtTm9ubGluZWFyU29sdmUbWzM5bQobWzkxbSAg4pyXIBtbMzltG1s5MG1PcmRpbmFyeURpZmZFcRtbMzltCg==\n"
     ]
    }
   ],
   "source": [
    "]add DifferentialEquations@7.1.0"
   ]
  },
  {
   "cell_type": "code",
   "execution_count": 14,
   "id": "8dbae91e",
   "metadata": {
    "ExecuteTime": {
     "end_time": "2023-01-28T14:41:13.234000+09:00",
     "start_time": "2023-01-28T05:40:18.436Z"
    }
   },
   "outputs": [
    {
     "name": "stderr",
     "output_type": "stream",
     "text": [
      "\u001b[32m\u001b[1m   Resolving\u001b[22m\u001b[39m package versions...\n",
      "\u001b[32m\u001b[1m   Installed\u001b[22m\u001b[39m GR_jll ─────────── v0.69.1+0\n",
      "\u001b[32m\u001b[1m   Installed\u001b[22m\u001b[39m Measures ───────── v0.3.2\n",
      "\u001b[32m\u001b[1m   Installed\u001b[22m\u001b[39m Qt5Base_jll ────── v5.15.3+2\n",
      "\u001b[32m\u001b[1m   Installed\u001b[22m\u001b[39m PlotUtils ──────── v1.3.4\n",
      "\u001b[32m\u001b[1m   Installed\u001b[22m\u001b[39m xkbcommon_jll ──── v1.4.1+0\n",
      "\u001b[32m\u001b[1m   Installed\u001b[22m\u001b[39m EarCut_jll ─────── v2.2.4+0\n",
      "\u001b[32m\u001b[1m   Installed\u001b[22m\u001b[39m GLFW_jll ───────── v3.3.8+0\n",
      "\u001b[32m\u001b[1m   Installed\u001b[22m\u001b[39m PlotThemes ─────── v3.1.0\n",
      "\u001b[32m\u001b[1m   Installed\u001b[22m\u001b[39m libaom_jll ─────── v3.4.0+0\n",
      "\u001b[32m\u001b[1m   Installed\u001b[22m\u001b[39m Scratch ────────── v1.1.1\n",
      "\u001b[32m\u001b[1m   Installed\u001b[22m\u001b[39m Colors ─────────── v0.12.10\n",
      "\u001b[32m\u001b[1m   Installed\u001b[22m\u001b[39m ColorTypes ─────── v0.11.4\n",
      "\u001b[32m\u001b[1m   Installed\u001b[22m\u001b[39m Libtiff_jll ────── v4.4.0+0\n",
      "\u001b[32m\u001b[1m   Installed\u001b[22m\u001b[39m ColorVectorSpace ─ v0.9.10\n",
      "\u001b[32m\u001b[1m   Installed\u001b[22m\u001b[39m Extents ────────── v0.1.1\n",
      "\u001b[32m\u001b[1m   Installed\u001b[22m\u001b[39m XML2_jll ───────── v2.10.3+0\n",
      "\u001b[32m\u001b[1m   Installed\u001b[22m\u001b[39m FFMPEG_jll ─────── v4.4.2+2\n",
      "\u001b[32m\u001b[1m   Installed\u001b[22m\u001b[39m Wayland_jll ────── v1.21.0+0\n",
      "\u001b[32m\u001b[1m   Installed\u001b[22m\u001b[39m Libiconv_jll ───── v1.16.1+2\n",
      "\u001b[32m\u001b[1m   Installed\u001b[22m\u001b[39m Latexify ───────── v0.15.18\n",
      "\u001b[32m\u001b[1m   Installed\u001b[22m\u001b[39m GeometryBasics ─── v0.4.5\n",
      "\u001b[32m\u001b[1m   Installed\u001b[22m\u001b[39m StructArrays ───── v0.6.14\n",
      "\u001b[32m\u001b[1m   Installed\u001b[22m\u001b[39m ColorSchemes ───── v3.20.0\n",
      "\u001b[32m\u001b[1m   Installed\u001b[22m\u001b[39m Glib_jll ───────── v2.74.0+2\n",
      "\u001b[32m\u001b[1m   Installed\u001b[22m\u001b[39m Libglvnd_jll ───── v1.6.0+0\n",
      "\u001b[32m\u001b[1m   Installed\u001b[22m\u001b[39m GeoInterface ───── v1.2.1\n",
      "\u001b[32m\u001b[1m   Installed\u001b[22m\u001b[39m GR ─────────────── v0.64.4\n",
      "\u001b[32m\u001b[1m    Updating\u001b[22m\u001b[39m `/path/to/JuliaBook2023Samples/notebooks/Chapter11/DifferentialEquationsSample/Project.toml`\n",
      "\u001b[32m⌃\u001b[39m\u001b[90m [91a5bcdd] \u001b[39m\u001b[92m+ Plots v1.29.0\u001b[39m\n",
      "\u001b[32m\u001b[1m    Updating\u001b[22m\u001b[39m `/path/to/JuliaBook2023Samples/notebooks/Chapter11/DifferentialEquationsSample/Manifest.toml`\n",
      " \u001b[90m [35d6a980] \u001b[39m\u001b[92m+ ColorSchemes v3.20.0\u001b[39m\n",
      " \u001b[90m [3da002f7] \u001b[39m\u001b[92m+ ColorTypes v0.11.4\u001b[39m\n",
      " \u001b[90m [c3611d14] \u001b[39m\u001b[92m+ ColorVectorSpace v0.9.10\u001b[39m\n",
      " \u001b[90m [5ae59095] \u001b[39m\u001b[92m+ Colors v0.12.10\u001b[39m\n",
      "\u001b[33m⌅\u001b[39m\u001b[90m [d38c429a] \u001b[39m\u001b[92m+ Contour v0.5.7\u001b[39m\n",
      " \u001b[90m [411431e0] \u001b[39m\u001b[92m+ Extents v0.1.1\u001b[39m\n",
      " \u001b[90m [c87230d0] \u001b[39m\u001b[92m+ FFMPEG v0.4.1\u001b[39m\n",
      " \u001b[90m [53c48c17] \u001b[39m\u001b[92m+ FixedPointNumbers v0.8.4\u001b[39m\n",
      " \u001b[90m [59287772] \u001b[39m\u001b[92m+ Formatting v0.4.2\u001b[39m\n",
      "\u001b[33m⌅\u001b[39m\u001b[90m [28b8d3ca] \u001b[39m\u001b[92m+ GR v0.64.4\u001b[39m\n",
      " \u001b[90m [cf35fbd7] \u001b[39m\u001b[92m+ GeoInterface v1.2.1\u001b[39m\n",
      " \u001b[90m [5c1252a2] \u001b[39m\u001b[92m+ GeometryBasics v0.4.5\u001b[39m\n",
      " \u001b[90m [42e2da0e] \u001b[39m\u001b[92m+ Grisu v1.0.2\u001b[39m\n",
      "\u001b[33m⌅\u001b[39m\u001b[90m [cd3eb016] \u001b[39m\u001b[92m+ HTTP v0.9.17\u001b[39m\n",
      " \u001b[90m [83e8ac13] \u001b[39m\u001b[92m+ IniFile v0.5.1\u001b[39m\n",
      " \u001b[90m [c8e1da08] \u001b[39m\u001b[92m+ IterTools v1.4.0\u001b[39m\n",
      " \u001b[90m [682c06a0] \u001b[39m\u001b[92m+ JSON v0.21.3\u001b[39m\n",
      " \u001b[90m [b964fa9f] \u001b[39m\u001b[92m+ LaTeXStrings v1.3.0\u001b[39m\n",
      " \u001b[90m [23fbe1c1] \u001b[39m\u001b[92m+ Latexify v0.15.18\u001b[39m\n",
      " \u001b[90m [739be429] \u001b[39m\u001b[92m+ MbedTLS v1.1.7\u001b[39m\n",
      " \u001b[90m [442fdcdd] \u001b[39m\u001b[92m+ Measures v0.3.2\u001b[39m\n",
      " \u001b[90m [69de0a69] \u001b[39m\u001b[92m+ Parsers v2.5.3\u001b[39m\n",
      " \u001b[90m [ccf2f8ad] \u001b[39m\u001b[92m+ PlotThemes v3.1.0\u001b[39m\n",
      " \u001b[90m [995b91a9] \u001b[39m\u001b[92m+ PlotUtils v1.3.4\u001b[39m\n",
      "\u001b[32m⌃\u001b[39m\u001b[90m [91a5bcdd] \u001b[39m\u001b[92m+ Plots v1.29.0\u001b[39m\n",
      "\u001b[33m⌅\u001b[39m\u001b[90m [01d81517] \u001b[39m\u001b[92m+ RecipesPipeline v0.5.2\u001b[39m\n",
      "\u001b[33m⌅\u001b[39m\u001b[90m [05181044] \u001b[39m\u001b[92m+ RelocatableFolders v0.1.3\u001b[39m\n",
      " \u001b[90m [6c6a2e73] \u001b[39m\u001b[92m+ Scratch v1.1.1\u001b[39m\n",
      " \u001b[90m [992d4aef] \u001b[39m\u001b[92m+ Showoff v1.0.3\u001b[39m\n",
      " \u001b[90m [09ab397b] \u001b[39m\u001b[92m+ StructArrays v0.6.14\u001b[39m\n",
      " \u001b[90m [62fd8b95] \u001b[39m\u001b[92m+ TensorCore v0.1.1\u001b[39m\n",
      " \u001b[90m [5c2747f8] \u001b[39m\u001b[92m+ URIs v1.4.1\u001b[39m\n",
      " \u001b[90m [1cfade01] \u001b[39m\u001b[92m+ UnicodeFun v0.4.1\u001b[39m\n",
      "\u001b[33m⌅\u001b[39m\u001b[90m [41fe7b60] \u001b[39m\u001b[92m+ Unzip v0.1.2\u001b[39m\n",
      " \u001b[90m [6e34b625] \u001b[39m\u001b[92m+ Bzip2_jll v1.0.8+0\u001b[39m\n",
      " \u001b[90m [83423d85] \u001b[39m\u001b[92m+ Cairo_jll v1.16.1+1\u001b[39m\n",
      " \u001b[90m [5ae413db] \u001b[39m\u001b[92m+ EarCut_jll v2.2.4+0\u001b[39m\n",
      " \u001b[90m [2e619515] \u001b[39m\u001b[92m+ Expat_jll v2.4.8+0\u001b[39m\n",
      " \u001b[90m [b22a6f82] \u001b[39m\u001b[92m+ FFMPEG_jll v4.4.2+2\u001b[39m\n",
      " \u001b[90m [a3f928ae] \u001b[39m\u001b[92m+ Fontconfig_jll v2.13.93+0\u001b[39m\n",
      " \u001b[90m [d7e528f0] \u001b[39m\u001b[92m+ FreeType2_jll v2.10.4+0\u001b[39m\n",
      " \u001b[90m [559328eb] \u001b[39m\u001b[92m+ FriBidi_jll v1.0.10+0\u001b[39m\n",
      " \u001b[90m [0656b61e] \u001b[39m\u001b[92m+ GLFW_jll v3.3.8+0\u001b[39m\n",
      "\u001b[33m⌅\u001b[39m\u001b[90m [d2c73de3] \u001b[39m\u001b[92m+ GR_jll v0.69.1+0\u001b[39m\n",
      " \u001b[90m [78b55507] \u001b[39m\u001b[92m+ Gettext_jll v0.21.0+0\u001b[39m\n",
      " \u001b[90m [7746bdde] \u001b[39m\u001b[92m+ Glib_jll v2.74.0+2\u001b[39m\n",
      " \u001b[90m [3b182d85] \u001b[39m\u001b[92m+ Graphite2_jll v1.3.14+0\u001b[39m\n",
      " \u001b[90m [2e76f6c2] \u001b[39m\u001b[92m+ HarfBuzz_jll v2.8.1+1\u001b[39m\n",
      " \u001b[90m [aacddb02] \u001b[39m\u001b[92m+ JpegTurbo_jll v2.1.2+0\u001b[39m\n",
      " \u001b[90m [c1c5ebd0] \u001b[39m\u001b[92m+ LAME_jll v3.100.1+0\u001b[39m\n",
      " \u001b[90m [88015f11] \u001b[39m\u001b[92m+ LERC_jll v3.0.0+1\u001b[39m\n",
      " \u001b[90m [dd4b983a] \u001b[39m\u001b[92m+ LZO_jll v2.10.1+0\u001b[39m\n",
      "\u001b[33m⌅\u001b[39m\u001b[90m [e9f186c6] \u001b[39m\u001b[92m+ Libffi_jll v3.2.2+1\u001b[39m\n",
      " \u001b[90m [d4300ac3] \u001b[39m\u001b[92m+ Libgcrypt_jll v1.8.7+0\u001b[39m\n",
      " \u001b[90m [7e76a0d4] \u001b[39m\u001b[92m+ Libglvnd_jll v1.6.0+0\u001b[39m\n",
      " \u001b[90m [7add5ba3] \u001b[39m\u001b[92m+ Libgpg_error_jll v1.42.0+0\u001b[39m\n",
      " \u001b[90m [94ce4f54] \u001b[39m\u001b[92m+ Libiconv_jll v1.16.1+2\u001b[39m\n",
      " \u001b[90m [4b2f31a3] \u001b[39m\u001b[92m+ Libmount_jll v2.35.0+0\u001b[39m\n",
      " \u001b[90m [89763e89] \u001b[39m\u001b[92m+ Libtiff_jll v4.4.0+0\u001b[39m\n",
      " \u001b[90m [38a345b3] \u001b[39m\u001b[92m+ Libuuid_jll v2.36.0+0\u001b[39m\n",
      " \u001b[90m [e7412a2a] \u001b[39m\u001b[92m+ Ogg_jll v1.3.5+1\u001b[39m\n",
      " \u001b[90m [458c3c95] \u001b[39m\u001b[92m+ OpenSSL_jll v1.1.19+0\u001b[39m\n",
      " \u001b[90m [91d4177d] \u001b[39m\u001b[92m+ Opus_jll v1.3.2+0\u001b[39m\n",
      " \u001b[90m [30392449] \u001b[39m\u001b[92m+ Pixman_jll v0.40.1+0\u001b[39m\n",
      " \u001b[90m [ea2cea3b] \u001b[39m\u001b[92m+ Qt5Base_jll v5.15.3+2\u001b[39m\n",
      " \u001b[90m [a2964d1f] \u001b[39m\u001b[92m+ Wayland_jll v1.21.0+0\u001b[39m\n",
      " \u001b[90m [2381bf8a] \u001b[39m\u001b[92m+ Wayland_protocols_jll v1.25.0+0\u001b[39m\n",
      " \u001b[90m [02c8fc9c] \u001b[39m\u001b[92m+ XML2_jll v2.10.3+0\u001b[39m\n",
      " \u001b[90m [aed1982a] \u001b[39m\u001b[92m+ XSLT_jll v1.1.34+0\u001b[39m\n",
      " \u001b[90m [4f6342f7] \u001b[39m\u001b[92m+ Xorg_libX11_jll v1.6.9+4\u001b[39m\n",
      " \u001b[90m [0c0b7dd1] \u001b[39m\u001b[92m+ Xorg_libXau_jll v1.0.9+4\u001b[39m\n",
      " \u001b[90m [935fb764] \u001b[39m\u001b[92m+ Xorg_libXcursor_jll v1.2.0+4\u001b[39m\n",
      " \u001b[90m [a3789734] \u001b[39m\u001b[92m+ Xorg_libXdmcp_jll v1.1.3+4\u001b[39m\n",
      " \u001b[90m [1082639a] \u001b[39m\u001b[92m+ Xorg_libXext_jll v1.3.4+4\u001b[39m\n",
      " \u001b[90m [d091e8ba] \u001b[39m\u001b[92m+ Xorg_libXfixes_jll v5.0.3+4\u001b[39m\n",
      " \u001b[90m [a51aa0fd] \u001b[39m\u001b[92m+ Xorg_libXi_jll v1.7.10+4\u001b[39m\n",
      " \u001b[90m [d1454406] \u001b[39m\u001b[92m+ Xorg_libXinerama_jll v1.1.4+4\u001b[39m\n",
      " \u001b[90m [ec84b674] \u001b[39m\u001b[92m+ Xorg_libXrandr_jll v1.5.2+4\u001b[39m\n",
      " \u001b[90m [ea2f1a96] \u001b[39m\u001b[92m+ Xorg_libXrender_jll v0.9.10+4\u001b[39m\n",
      " \u001b[90m [14d82f49] \u001b[39m\u001b[92m+ Xorg_libpthread_stubs_jll v0.1.0+3\u001b[39m\n",
      " \u001b[90m [c7cfdc94] \u001b[39m\u001b[92m+ Xorg_libxcb_jll v1.13.0+3\u001b[39m\n",
      " \u001b[90m [cc61e674] \u001b[39m\u001b[92m+ Xorg_libxkbfile_jll v1.1.0+4\u001b[39m\n",
      " \u001b[90m [12413925] \u001b[39m\u001b[92m+ Xorg_xcb_util_image_jll v0.4.0+1\u001b[39m\n",
      " \u001b[90m [2def613f] \u001b[39m\u001b[92m+ Xorg_xcb_util_jll v0.4.0+1\u001b[39m\n",
      " \u001b[90m [975044d2] \u001b[39m\u001b[92m+ Xorg_xcb_util_keysyms_jll v0.4.0+1\u001b[39m\n",
      " \u001b[90m [0d47668e] \u001b[39m\u001b[92m+ Xorg_xcb_util_renderutil_jll v0.3.9+1\u001b[39m\n",
      " \u001b[90m [c22f9ab0] \u001b[39m\u001b[92m+ Xorg_xcb_util_wm_jll v0.4.1+1\u001b[39m\n",
      " \u001b[90m [35661453] \u001b[39m\u001b[92m+ Xorg_xkbcomp_jll v1.4.2+4\u001b[39m\n",
      " \u001b[90m [33bec58e] \u001b[39m\u001b[92m+ Xorg_xkeyboard_config_jll v2.27.0+4\u001b[39m\n",
      " \u001b[90m [c5fb5394] \u001b[39m\u001b[92m+ Xorg_xtrans_jll v1.4.0+3\u001b[39m\n",
      " \u001b[90m [3161d3a3] \u001b[39m\u001b[92m+ Zstd_jll v1.5.2+0\u001b[39m\n",
      " \u001b[90m [a4ae2306] \u001b[39m\u001b[92m+ libaom_jll v3.4.0+0\u001b[39m\n",
      " \u001b[90m [0ac62f75] \u001b[39m\u001b[92m+ libass_jll v0.15.1+0\u001b[39m\n",
      " \u001b[90m [f638f0a6] \u001b[39m\u001b[92m+ libfdk_aac_jll v2.0.2+0\u001b[39m\n",
      " \u001b[90m [b53b4c65] \u001b[39m\u001b[92m+ libpng_jll v1.6.38+0\u001b[39m\n",
      " \u001b[90m [f27f6e37] \u001b[39m\u001b[92m+ libvorbis_jll v1.3.7+1\u001b[39m\n",
      " \u001b[90m [1270edf5] \u001b[39m\u001b[92m+ x264_jll v2021.5.5+0\u001b[39m\n",
      " \u001b[90m [dfaa095f] \u001b[39m\u001b[92m+ x265_jll v3.5.0+0\u001b[39m\n",
      " \u001b[90m [d8fb68d0] \u001b[39m\u001b[92m+ xkbcommon_jll v1.4.1+0\u001b[39m\n",
      " \u001b[90m [8bb1440f] \u001b[39m\u001b[92m+ DelimitedFiles\u001b[39m\n",
      " \u001b[90m [efcefdf7] \u001b[39m\u001b[92m+ PCRE2_jll v10.40.0+0\u001b[39m\n",
      "\u001b[36m\u001b[1m        Info\u001b[22m\u001b[39m Packages marked with \u001b[32m⌃\u001b[39m and \u001b[33m⌅\u001b[39m have new versions available, but those with \u001b[33m⌅\u001b[39m are restricted by compatibility constraints from upgrading. To see why use `status --outdated -m`\n",
      "\u001b[32m\u001b[1m    Building\u001b[22m\u001b[39m GR → `~/.julia/scratchspaces/44cfe95a-1eb2-52ea-b672-e2afdf69b78f/c98aea696662d09e215ef7cda5296024a9646c75/build.log`\n"
     ]
    },
    {
     "name": "stderr",
     "output_type": "stream",
     "text": [
      "\u001b[32m\u001b[1mPrecompiling\u001b[22m\u001b[39m project...\n",
      "\u001b[32m  ✓ \u001b[39m\u001b[90mIniFile\u001b[39m\n",
      "\u001b[32m  ✓ \u001b[39m\u001b[90mLaTeXStrings\u001b[39m\n",
      "\u001b[32m  ✓ \u001b[39m\u001b[90mUnzip\u001b[39m\n",
      "\u001b[32m  ✓ \u001b[39m\u001b[90mExtents\u001b[39m\n",
      "\u001b[32m  ✓ \u001b[39m\u001b[90mTensorCore\u001b[39m\n",
      "\u001b[32m  ✓ \u001b[39m\u001b[90mMeasures\u001b[39m\n",
      "\u001b[32m  ✓ \u001b[39m\u001b[90mPCRE2_jll\u001b[39m\n",
      "\u001b[32m  ✓ \u001b[39m\u001b[90mScratch\u001b[39m\n",
      "\u001b[32m  ✓ \u001b[39m\u001b[90mFormatting\u001b[39m\n",
      "\u001b[32m  ✓ \u001b[39m\u001b[90mIterTools\u001b[39m\n",
      "\u001b[32m  ✓ \u001b[39m\u001b[90mUnicodeFun\u001b[39m\n",
      "\u001b[32m  ✓ \u001b[39m\u001b[90mGrisu\u001b[39m\n",
      "\u001b[32m  ✓ \u001b[39m\u001b[90mBzip2_jll\u001b[39m\n",
      "\u001b[32m  ✓ \u001b[39m\u001b[90mGraphite2_jll\u001b[39m\n",
      "\u001b[32m  ✓ \u001b[39m\u001b[90mLibmount_jll\u001b[39m\n",
      "\u001b[32m  ✓ \u001b[39m\u001b[90mXorg_libXau_jll\u001b[39m\n",
      "\u001b[32m  ✓ \u001b[39m\u001b[90mlibpng_jll\u001b[39m\n",
      "\u001b[32m  ✓ \u001b[39m\u001b[90mlibfdk_aac_jll\u001b[39m\n",
      "\u001b[32m  ✓ \u001b[39m\u001b[90mLAME_jll\u001b[39m\n",
      "\u001b[32m  ✓ \u001b[39m\u001b[90mPixman_jll\u001b[39m\n",
      "\u001b[32m  ✓ \u001b[39m\u001b[90mEarCut_jll\u001b[39m\n",
      "\u001b[32m  ✓ \u001b[39m\u001b[90mLERC_jll\u001b[39m\n",
      "\u001b[32m  ✓ \u001b[39m\u001b[90mJpegTurbo_jll\u001b[39m\n",
      "\u001b[32m  ✓ \u001b[39m\u001b[90mStructArrays\u001b[39m\n",
      "\u001b[32m  ✓ \u001b[39m\u001b[90mXorg_libXdmcp_jll\u001b[39m\n",
      "\u001b[32m  ✓ \u001b[39m\u001b[90mOgg_jll\u001b[39m\n",
      "\u001b[32m  ✓ \u001b[39m\u001b[90mx264_jll\u001b[39m\n",
      "\u001b[32m  ✓ \u001b[39m\u001b[90mx265_jll\u001b[39m\n",
      "\u001b[32m  ✓ \u001b[39m\u001b[90mlibaom_jll\u001b[39m\n",
      "\u001b[32m  ✓ \u001b[39m\u001b[90mZstd_jll\u001b[39m\n",
      "\u001b[32m  ✓ \u001b[39m\u001b[90mExpat_jll\u001b[39m\n",
      "\u001b[32m  ✓ \u001b[39m\u001b[90mLZO_jll\u001b[39m\n",
      "\u001b[32m  ✓ \u001b[39m\u001b[90mOpus_jll\u001b[39m\n",
      "\u001b[32m  ✓ \u001b[39m\u001b[90mXorg_xtrans_jll\u001b[39m\n",
      "\u001b[32m  ✓ \u001b[39m\u001b[90mLibiconv_jll\u001b[39m\n",
      "\u001b[32m  ✓ \u001b[39m\u001b[90mLibffi_jll\u001b[39m\n",
      "\u001b[32m  ✓ \u001b[39m\u001b[90mXorg_libpthread_stubs_jll\u001b[39m\n",
      "\u001b[32m  ✓ \u001b[39m\u001b[90mWayland_protocols_jll\u001b[39m\n",
      "\u001b[32m  ✓ \u001b[39m\u001b[90mFriBidi_jll\u001b[39m\n",
      "\u001b[32m  ✓ \u001b[39m\u001b[90mLibgpg_error_jll\u001b[39m\n",
      "\u001b[32m  ✓ \u001b[39m\u001b[90mRelocatableFolders\u001b[39m\n",
      "\u001b[32m  ✓ \u001b[39m\u001b[90mLibuuid_jll\u001b[39m\n",
      "\u001b[32m  ✓ \u001b[39m\u001b[90mFixedPointNumbers\u001b[39m\n",
      "\u001b[32m  ✓ \u001b[39m\u001b[90mShowoff\u001b[39m\n",
      "\u001b[32m  ✓ \u001b[39m\u001b[90mFreeType2_jll\u001b[39m\n",
      "\u001b[32m  ✓ \u001b[39m\u001b[90mGeoInterface\u001b[39m\n",
      "\u001b[32m  ✓ \u001b[39m\u001b[90mlibvorbis_jll\u001b[39m\n",
      "\u001b[32m  ✓ \u001b[39m\u001b[90mLibgcrypt_jll\u001b[39m\n",
      "\u001b[32m  ✓ \u001b[39m\u001b[90mLibtiff_jll\u001b[39m\n",
      "\u001b[32m  ✓ \u001b[39m\u001b[90mXML2_jll\u001b[39m\n",
      "\u001b[32m  ✓ \u001b[39m\u001b[90mFontconfig_jll\u001b[39m\n",
      "\u001b[32m  ✓ \u001b[39m\u001b[90mXSLT_jll\u001b[39m\n",
      "\u001b[32m  ✓ \u001b[39m\u001b[90mGettext_jll\u001b[39m\n",
      "\u001b[32m  ✓ \u001b[39m\u001b[90mWayland_jll\u001b[39m\n",
      "\u001b[32m  ✓ \u001b[39m\u001b[90mContour\u001b[39m\n",
      "\u001b[32m  ✓ \u001b[39m\u001b[90mGlib_jll\u001b[39m\n",
      "\u001b[32m  ✓ \u001b[39m\u001b[90mXorg_libxcb_jll\u001b[39m\n",
      "\u001b[32m  ✓ \u001b[39m\u001b[90mLatexify\u001b[39m\n",
      "\u001b[32m  ✓ \u001b[39m\u001b[90mXorg_libX11_jll\u001b[39m\n",
      "\u001b[32m  ✓ \u001b[39m\u001b[90mXorg_xcb_util_jll\u001b[39m\n",
      "\u001b[32m  ✓ \u001b[39m\u001b[90mHTTP\u001b[39m\n",
      "\u001b[32m  ✓ \u001b[39m\u001b[90mXorg_libXrender_jll\u001b[39m\n",
      "\u001b[32m  ✓ \u001b[39m\u001b[90mXorg_libXext_jll\u001b[39m\n",
      "\u001b[32m  ✓ \u001b[39m\u001b[90mXorg_xcb_util_image_jll\u001b[39m\n",
      "\u001b[32m  ✓ \u001b[39m\u001b[90mXorg_xcb_util_keysyms_jll\u001b[39m\n",
      "\u001b[32m  ✓ \u001b[39m\u001b[90mXorg_libXfixes_jll\u001b[39m\n",
      "\u001b[32m  ✓ \u001b[39m\u001b[90mXorg_libxkbfile_jll\u001b[39m\n",
      "\u001b[32m  ✓ \u001b[39m\u001b[90mXorg_xcb_util_renderutil_jll\u001b[39m\n",
      "\u001b[32m  ✓ \u001b[39m\u001b[90mXorg_xcb_util_wm_jll\u001b[39m\n",
      "\u001b[32m  ✓ \u001b[39m\u001b[90mColorTypes\u001b[39m\n",
      "\u001b[32m  ✓ \u001b[39m\u001b[90mXorg_libXinerama_jll\u001b[39m\n",
      "\u001b[32m  ✓ \u001b[39m\u001b[90mCairo_jll\u001b[39m\n",
      "\u001b[32m  ✓ \u001b[39m\u001b[90mXorg_libXrandr_jll\u001b[39m\n",
      "\u001b[32m  ✓ \u001b[39m\u001b[90mLibglvnd_jll\u001b[39m\n",
      "\u001b[32m  ✓ \u001b[39m\u001b[90mXorg_libXi_jll\u001b[39m\n",
      "\u001b[32m  ✓ \u001b[39m\u001b[90mXorg_xkbcomp_jll\u001b[39m\n",
      "\u001b[32m  ✓ \u001b[39m\u001b[90mXorg_libXcursor_jll\u001b[39m\n",
      "\u001b[32m  ✓ \u001b[39m\u001b[90mXorg_xkeyboard_config_jll\u001b[39m\n",
      "\u001b[32m  ✓ \u001b[39m\u001b[90mHarfBuzz_jll\u001b[39m\n",
      "\u001b[32m  ✓ \u001b[39m\u001b[90mGLFW_jll\u001b[39m\n",
      "\u001b[32m  ✓ \u001b[39m\u001b[90mxkbcommon_jll\u001b[39m\n",
      "\u001b[32m  ✓ \u001b[39m\u001b[90mlibass_jll\u001b[39m\n",
      "\u001b[32m  ✓ \u001b[39m\u001b[90mQt5Base_jll\u001b[39m\n",
      "\u001b[32m  ✓ \u001b[39m\u001b[90mFFMPEG_jll\u001b[39m\n",
      "\u001b[32m  ✓ \u001b[39m\u001b[90mFFMPEG\u001b[39m\n",
      "\u001b[32m  ✓ \u001b[39m\u001b[90mGR_jll\u001b[39m\n",
      "\u001b[32m  ✓ \u001b[39m\u001b[90mColorVectorSpace\u001b[39m\n",
      "\u001b[32m  ✓ \u001b[39m\u001b[90mColors\u001b[39m\n",
      "\u001b[32m  ✓ \u001b[39m\u001b[90mGR\u001b[39m\n",
      "\u001b[32m  ✓ \u001b[39m\u001b[90mGeometryBasics\u001b[39m\n",
      "\u001b[32m  ✓ \u001b[39m\u001b[90mColorSchemes\u001b[39m\n",
      "\u001b[32m  ✓ \u001b[39m\u001b[90mPlotUtils\u001b[39m\n",
      "\u001b[32m  ✓ \u001b[39m\u001b[90mRecipesPipeline\u001b[39m\n",
      "\u001b[32m  ✓ \u001b[39m\u001b[90mPlotThemes\u001b[39m\n",
      "\u001b[32m  ✓ \u001b[39mPlots\n",
      "  95 dependencies successfully precompiled in 38 seconds. 152 already precompiled. 1 skipped during auto due to previous errors.\n"
     ]
    }
   ],
   "source": [
    "]add Plots@1.29.0"
   ]
  },
  {
   "cell_type": "code",
   "execution_count": 15,
   "id": "46e6cf51",
   "metadata": {
    "ExecuteTime": {
     "end_time": "2023-01-28T14:41:17.442000+09:00",
     "start_time": "2023-01-28T05:41:16.887Z"
    },
    "scrolled": true
   },
   "outputs": [
    {
     "name": "stdout",
     "output_type": "stream",
     "text": [
      "\u001b[32m\u001b[1mStatus\u001b[22m\u001b[39m `/path/to/JuliaBook2023Samples/notebooks/Chapter11/DifferentialEquationsSample/Project.toml`\n",
      "\u001b[32m⌃\u001b[39m\u001b[90m [0c46a032] \u001b[39mDifferentialEquations v7.1.0\n",
      "\u001b[36m\u001b[1mInfo\u001b[22m\u001b[39m Packages marked with \u001b[32m⌃\u001b[39m have new versions available and may be upgradable.\n"
     ]
    }
   ],
   "source": [
    "]st DifferentialEquations"
   ]
  },
  {
   "cell_type": "markdown",
   "id": "15da1ee4",
   "metadata": {},
   "source": [
    "$$\n",
    "\\begin{cases}\n",
    "\\begin{aligned}\n",
    "\\frac{dx}{dt} &= ax - bxy & \\mathrm{-\\!\\!-}\\ (1) \\\\\n",
    "\\frac{dy}{dt} &= cxy - dy & \\mathrm{-\\!\\!-}\\ (2)\n",
    "\\end{aligned}\n",
    "\\end{cases} \\qquad (a,b,c,d>0)\n",
    "$$"
   ]
  },
  {
   "cell_type": "markdown",
   "id": "1fc927f8",
   "metadata": {},
   "source": [
    "### コード11-10. 微分方程式を表す関数の例（ロトカ・ヴォルテラの方程式）"
   ]
  },
  {
   "cell_type": "code",
   "execution_count": 6,
   "id": "d15ab3a4",
   "metadata": {
    "ExecuteTime": {
     "end_time": "2023-01-28T14:35:03.154000+09:00",
     "start_time": "2023-01-28T05:35:02.247Z"
    }
   },
   "outputs": [
    {
     "data": {
      "text/plain": [
       "f! (generic function with 1 method)"
      ]
     },
     "execution_count": 6,
     "metadata": {},
     "output_type": "execute_result"
    }
   ],
   "source": [
    "function f!(du, u, params, t)\n",
    "    x, y = u\n",
    "    a, b, c, d = params\n",
    "    du[1] = a*x - b*x*y  # -- (1)\n",
    "    du[2] = c*x*y - d*y  # -- (2)\n",
    "end"
   ]
  },
  {
   "cell_type": "markdown",
   "id": "c76a4d56",
   "metadata": {},
   "source": [
    "### コード11-11. 微分方程式の「初期値問題」の定義例"
   ]
  },
  {
   "cell_type": "code",
   "execution_count": 7,
   "id": "8f8c6e3f",
   "metadata": {
    "ExecuteTime": {
     "end_time": "2023-01-28T14:35:39.646000+09:00",
     "start_time": "2023-01-28T05:35:28.963Z"
    }
   },
   "outputs": [],
   "source": [
    "using DifferentialEquations"
   ]
  },
  {
   "cell_type": "code",
   "execution_count": 8,
   "id": "e6d0b7bc",
   "metadata": {
    "ExecuteTime": {
     "end_time": "2023-01-28T14:35:41.365000+09:00",
     "start_time": "2023-01-28T05:35:40.656Z"
    }
   },
   "outputs": [],
   "source": [
    "u0 = [3.0, 1.0];  # 初期値（$u(t_0)$ の値）"
   ]
  },
  {
   "cell_type": "code",
   "execution_count": 9,
   "id": "00f83b9c",
   "metadata": {
    "ExecuteTime": {
     "end_time": "2023-01-28T14:35:50.067000+09:00",
     "start_time": "2023-01-28T05:35:49.536Z"
    }
   },
   "outputs": [],
   "source": [
    "tspan = [0, 20];  # 時刻0（$t_0$）から20まで計算する"
   ]
  },
  {
   "cell_type": "code",
   "execution_count": 10,
   "id": "4919d3ad",
   "metadata": {
    "ExecuteTime": {
     "end_time": "2023-01-28T14:36:05.298000+09:00",
     "start_time": "2023-01-28T05:36:04.767Z"
    }
   },
   "outputs": [],
   "source": [
    "params = [1, 2, 3, 4];  # パラメータ（`a, b, c, d`）の値"
   ]
  },
  {
   "cell_type": "code",
   "execution_count": 11,
   "id": "29bd9dad",
   "metadata": {
    "ExecuteTime": {
     "end_time": "2023-01-28T14:36:17.810000+09:00",
     "start_time": "2023-01-28T05:36:15.570Z"
    }
   },
   "outputs": [
    {
     "data": {
      "text/plain": [
       "\u001b[38;2;86;182;194mODEProblem\u001b[0m with uType \u001b[38;2;86;182;194mVector{Float64}\u001b[0m and tType \u001b[38;2;86;182;194mInt64\u001b[0m. In-place: \u001b[38;2;86;182;194mtrue\u001b[0m\n",
       "timespan: (0, 20)\n",
       "u0: 2-element Vector{Float64}:\n",
       " 3.0\n",
       " 1.0"
      ]
     },
     "execution_count": 11,
     "metadata": {},
     "output_type": "execute_result"
    }
   ],
   "source": [
    "prob = ODEProblem(f!, u0, tspan, params)  # 「常微分方程式の初期値問題」オブジェクトの生成"
   ]
  },
  {
   "cell_type": "markdown",
   "id": "c1165bcb",
   "metadata": {},
   "source": [
    "### コード11-12. 初期値問題の求解"
   ]
  },
  {
   "cell_type": "code",
   "execution_count": 12,
   "id": "04c84312",
   "metadata": {
    "ExecuteTime": {
     "end_time": "2023-01-28T14:36:50.536000+09:00",
     "start_time": "2023-01-28T05:36:45.903Z"
    }
   },
   "outputs": [
    {
     "data": {
      "text/plain": [
       "retcode: Success\n",
       "Interpolation: specialized 4th order \"free\" interpolation, specialized 2nd order \"free\" stiffness-aware interpolation\n",
       "t: 74-element Vector{Float64}:\n",
       "  0.0\n",
       "  0.05997824764291295\n",
       "  0.14693279871399884\n",
       "  0.2341164217432749\n",
       "  0.3384046905982152\n",
       "  0.46315566649988615\n",
       "  0.6194223053054304\n",
       "  0.7742841707324177\n",
       "  0.9634132432003731\n",
       "  1.182344721665697\n",
       "  1.4141787874815046\n",
       "  1.6681960929688044\n",
       "  1.9585238362857467\n",
       "  ⋮\n",
       " 16.828626230614898\n",
       " 17.123499577123834\n",
       " 17.467513930066264\n",
       " 17.823263180397454\n",
       " 18.183806102507088\n",
       " 18.69653377976178\n",
       " 19.03107519632016\n",
       " 19.23974850547197\n",
       " 19.438128034408933\n",
       " 19.65727690108259\n",
       " 19.859828055088187\n",
       " 20.0\n",
       "u: 74-element Vector{Vector{Float64}}:\n",
       " [3.0, 1.0]\n",
       " [2.7721495697098018, 1.32420218141652]\n",
       " [2.2998670807897685, 1.8173733258243445]\n",
       " [1.7652019540025823, 2.181514574757863]\n",
       " [1.2217811937514071, 2.283597707873739]\n",
       " [0.8049929952653918, 2.010675431818713]\n",
       " [0.5461832437530237, 1.4649466993397715]\n",
       " [0.4376136384744508, 0.9872670170607167]\n",
       " [0.39510832199556933, 0.5849234260998905]\n",
       " [0.4062384824278577, 0.3161849247174434]\n",
       " [0.4595578997733767, 0.1686768490853432]\n",
       " [0.5562032552735605, 0.08970149684934269]\n",
       " [0.715469056504705, 0.04866539912428555]\n",
       " ⋮\n",
       " [0.4795905958763973, 0.1463570858380588]\n",
       " [0.6057051812191491, 0.07243382425321093]\n",
       " [0.8241544497296949, 0.03798537882051927]\n",
       " [1.1508470249426717, 0.025990483426313465]\n",
       " [1.6204226684390513, 0.027111064895007746]\n",
       " [2.5840204122654655, 0.08489536254343212]\n",
       " [3.1620518386158425, 0.41468208858810823]\n",
       " [2.8293153867614036, 1.2382590548386814]\n",
       " [1.7090987938803122, 2.1971462554198604]\n",
       " [0.80959700824924, 2.0044303866157174]\n",
       " [0.5064486651518576, 1.3085622881885048]\n",
       " [0.42821027886244667, 0.9070763795334779]"
      ]
     },
     "execution_count": 12,
     "metadata": {},
     "output_type": "execute_result"
    }
   ],
   "source": [
    "solution = solve(prob)"
   ]
  },
  {
   "cell_type": "markdown",
   "id": "0fa26c02",
   "metadata": {},
   "source": [
    "### コード11-13. 結果の確認（グラフ描画による可視化）"
   ]
  },
  {
   "cell_type": "code",
   "execution_count": 16,
   "id": "3c9771da",
   "metadata": {
    "ExecuteTime": {
     "end_time": "2023-01-28T14:41:35.964000+09:00",
     "start_time": "2023-01-28T05:41:35.421Z"
    },
    "scrolled": true
   },
   "outputs": [
    {
     "name": "stdout",
     "output_type": "stream",
     "text": [
      "\u001b[32m\u001b[1mStatus\u001b[22m\u001b[39m `/path/to/JuliaBook2023Samples/notebooks/Chapter11/DifferentialEquationsSample/Project.toml`\n",
      "\u001b[32m⌃\u001b[39m\u001b[90m [91a5bcdd] \u001b[39mPlots v1.29.0\n",
      "\u001b[36m\u001b[1mInfo\u001b[22m\u001b[39m Packages marked with \u001b[32m⌃\u001b[39m have new versions available and may be upgradable.\n"
     ]
    }
   ],
   "source": [
    "]st Plots"
   ]
  },
  {
   "cell_type": "code",
   "execution_count": 17,
   "id": "a0519058",
   "metadata": {
    "ExecuteTime": {
     "end_time": "2023-01-28T14:41:48.613000+09:00",
     "start_time": "2023-01-28T05:41:38.375Z"
    }
   },
   "outputs": [],
   "source": [
    "using Plots  # 事前に `] add Plots` が必要"
   ]
  },
  {
   "cell_type": "code",
   "execution_count": 18,
   "id": "fdd559e9",
   "metadata": {
    "ExecuteTime": {
     "end_time": "2023-01-28T14:42:01.589000+09:00",
     "start_time": "2023-01-28T05:41:58.133Z"
    }
   },
   "outputs": [
    {
     "data": {
      "text/plain": [
       "Plots.GRBackend()"
      ]
     },
     "execution_count": 18,
     "metadata": {},
     "output_type": "execute_result"
    }
   ],
   "source": [
    "gr()  # GRバックエンドを利用"
   ]
  },
  {
   "cell_type": "code",
   "execution_count": 19,
   "id": "9f23064a",
   "metadata": {
    "ExecuteTime": {
     "end_time": "2023-01-28T14:42:54.505000+09:00",
     "start_time": "2023-01-28T05:42:45.034Z"
    }
   },
   "outputs": [
    {
     "data": {
      "image/svg+xml": [
       "<?xml version=\"1.0\" encoding=\"utf-8\"?>\n",
       "<svg xmlns=\"http://www.w3.org/2000/svg\" xmlns:xlink=\"http://www.w3.org/1999/xlink\" width=\"600\" height=\"400\" viewBox=\"0 0 2400 1600\">\n",
       "<defs>\n",
       "  <clipPath id=\"clip230\">\n",
       "    <rect x=\"0\" y=\"0\" width=\"2400\" height=\"1600\"/>\n",
       "  </clipPath>\n",
       "</defs>\n",
       "<path clip-path=\"url(#clip230)\" d=\"\n",
       "M0 1600 L2400 1600 L2400 0 L0 0  Z\n",
       "  \" fill=\"#ffffff\" fill-rule=\"evenodd\" fill-opacity=\"1\"/>\n",
       "<defs>\n",
       "  <clipPath id=\"clip231\">\n",
       "    <rect x=\"480\" y=\"0\" width=\"1681\" height=\"1600\"/>\n",
       "  </clipPath>\n",
       "</defs>\n",
       "<path clip-path=\"url(#clip230)\" d=\"\n",
       "M110.881 1423.18 L2352.76 1423.18 L2352.76 123.472 L110.881 123.472  Z\n",
       "  \" fill=\"#ffffff\" fill-rule=\"evenodd\" fill-opacity=\"1\"/>\n",
       "<defs>\n",
       "  <clipPath id=\"clip232\">\n",
       "    <rect x=\"110\" y=\"123\" width=\"2243\" height=\"1301\"/>\n",
       "  </clipPath>\n",
       "</defs>\n",
       "<polyline clip-path=\"url(#clip232)\" style=\"stroke:#000000; stroke-linecap:round; stroke-linejoin:round; stroke-width:2; stroke-opacity:0.1; fill:none\" points=\"\n",
       "  174.33,1423.18 174.33,123.472 \n",
       "  \"/>\n",
       "<polyline clip-path=\"url(#clip232)\" style=\"stroke:#000000; stroke-linecap:round; stroke-linejoin:round; stroke-width:2; stroke-opacity:0.1; fill:none\" points=\"\n",
       "  703.074,1423.18 703.074,123.472 \n",
       "  \"/>\n",
       "<polyline clip-path=\"url(#clip232)\" style=\"stroke:#000000; stroke-linecap:round; stroke-linejoin:round; stroke-width:2; stroke-opacity:0.1; fill:none\" points=\"\n",
       "  1231.82,1423.18 1231.82,123.472 \n",
       "  \"/>\n",
       "<polyline clip-path=\"url(#clip232)\" style=\"stroke:#000000; stroke-linecap:round; stroke-linejoin:round; stroke-width:2; stroke-opacity:0.1; fill:none\" points=\"\n",
       "  1760.56,1423.18 1760.56,123.472 \n",
       "  \"/>\n",
       "<polyline clip-path=\"url(#clip232)\" style=\"stroke:#000000; stroke-linecap:round; stroke-linejoin:round; stroke-width:2; stroke-opacity:0.1; fill:none\" points=\"\n",
       "  2289.31,1423.18 2289.31,123.472 \n",
       "  \"/>\n",
       "<polyline clip-path=\"url(#clip230)\" style=\"stroke:#000000; stroke-linecap:round; stroke-linejoin:round; stroke-width:4; stroke-opacity:1; fill:none\" points=\"\n",
       "  110.881,1423.18 2352.76,1423.18 \n",
       "  \"/>\n",
       "<polyline clip-path=\"url(#clip230)\" style=\"stroke:#000000; stroke-linecap:round; stroke-linejoin:round; stroke-width:4; stroke-opacity:1; fill:none\" points=\"\n",
       "  174.33,1423.18 174.33,1404.28 \n",
       "  \"/>\n",
       "<polyline clip-path=\"url(#clip230)\" style=\"stroke:#000000; stroke-linecap:round; stroke-linejoin:round; stroke-width:4; stroke-opacity:1; fill:none\" points=\"\n",
       "  703.074,1423.18 703.074,1404.28 \n",
       "  \"/>\n",
       "<polyline clip-path=\"url(#clip230)\" style=\"stroke:#000000; stroke-linecap:round; stroke-linejoin:round; stroke-width:4; stroke-opacity:1; fill:none\" points=\"\n",
       "  1231.82,1423.18 1231.82,1404.28 \n",
       "  \"/>\n",
       "<polyline clip-path=\"url(#clip230)\" style=\"stroke:#000000; stroke-linecap:round; stroke-linejoin:round; stroke-width:4; stroke-opacity:1; fill:none\" points=\"\n",
       "  1760.56,1423.18 1760.56,1404.28 \n",
       "  \"/>\n",
       "<polyline clip-path=\"url(#clip230)\" style=\"stroke:#000000; stroke-linecap:round; stroke-linejoin:round; stroke-width:4; stroke-opacity:1; fill:none\" points=\"\n",
       "  2289.31,1423.18 2289.31,1404.28 \n",
       "  \"/>\n",
       "<path clip-path=\"url(#clip230)\" d=\"M174.33 1454.1 Q170.719 1454.1 168.89 1457.66 Q167.085 1461.2 167.085 1468.33 Q167.085 1475.44 168.89 1479.01 Q170.719 1482.55 174.33 1482.55 Q177.964 1482.55 179.77 1479.01 Q181.599 1475.44 181.599 1468.33 Q181.599 1461.2 179.77 1457.66 Q177.964 1454.1 174.33 1454.1 M174.33 1450.39 Q180.14 1450.39 183.196 1455 Q186.275 1459.58 186.275 1468.33 Q186.275 1477.06 183.196 1481.67 Q180.14 1486.25 174.33 1486.25 Q168.52 1486.25 165.441 1481.67 Q162.386 1477.06 162.386 1468.33 Q162.386 1459.58 165.441 1455 Q168.52 1450.39 174.33 1450.39 Z\" fill=\"#000000\" fill-rule=\"evenodd\" fill-opacity=\"1\" /><path clip-path=\"url(#clip230)\" d=\"M693.352 1451.02 L711.709 1451.02 L711.709 1454.96 L697.635 1454.96 L697.635 1463.43 Q698.653 1463.08 699.672 1462.92 Q700.69 1462.73 701.709 1462.73 Q707.496 1462.73 710.875 1465.9 Q714.255 1469.08 714.255 1474.49 Q714.255 1480.07 710.783 1483.17 Q707.31 1486.25 700.991 1486.25 Q698.815 1486.25 696.547 1485.88 Q694.301 1485.51 691.894 1484.77 L691.894 1480.07 Q693.977 1481.2 696.199 1481.76 Q698.422 1482.32 700.898 1482.32 Q704.903 1482.32 707.241 1480.21 Q709.579 1478.1 709.579 1474.49 Q709.579 1470.88 707.241 1468.77 Q704.903 1466.67 700.898 1466.67 Q699.023 1466.67 697.148 1467.08 Q695.297 1467.5 693.352 1468.38 L693.352 1451.02 Z\" fill=\"#000000\" fill-rule=\"evenodd\" fill-opacity=\"1\" /><path clip-path=\"url(#clip230)\" d=\"M1206.51 1481.64 L1214.14 1481.64 L1214.14 1455.28 L1205.83 1456.95 L1205.83 1452.69 L1214.1 1451.02 L1218.77 1451.02 L1218.77 1481.64 L1226.41 1481.64 L1226.41 1485.58 L1206.51 1485.58 L1206.51 1481.64 Z\" fill=\"#000000\" fill-rule=\"evenodd\" fill-opacity=\"1\" /><path clip-path=\"url(#clip230)\" d=\"M1245.86 1454.1 Q1242.25 1454.1 1240.42 1457.66 Q1238.61 1461.2 1238.61 1468.33 Q1238.61 1475.44 1240.42 1479.01 Q1242.25 1482.55 1245.86 1482.55 Q1249.49 1482.55 1251.3 1479.01 Q1253.13 1475.44 1253.13 1468.33 Q1253.13 1461.2 1251.3 1457.66 Q1249.49 1454.1 1245.86 1454.1 M1245.86 1450.39 Q1251.67 1450.39 1254.72 1455 Q1257.8 1459.58 1257.8 1468.33 Q1257.8 1477.06 1254.72 1481.67 Q1251.67 1486.25 1245.86 1486.25 Q1240.05 1486.25 1236.97 1481.67 Q1233.91 1477.06 1233.91 1468.33 Q1233.91 1459.58 1236.97 1455 Q1240.05 1450.39 1245.86 1450.39 Z\" fill=\"#000000\" fill-rule=\"evenodd\" fill-opacity=\"1\" /><path clip-path=\"url(#clip230)\" d=\"M1735.75 1481.64 L1743.39 1481.64 L1743.39 1455.28 L1735.08 1456.95 L1735.08 1452.69 L1743.34 1451.02 L1748.02 1451.02 L1748.02 1481.64 L1755.66 1481.64 L1755.66 1485.58 L1735.75 1485.58 L1735.75 1481.64 Z\" fill=\"#000000\" fill-rule=\"evenodd\" fill-opacity=\"1\" /><path clip-path=\"url(#clip230)\" d=\"M1765.15 1451.02 L1783.5 1451.02 L1783.5 1454.96 L1769.43 1454.96 L1769.43 1463.43 Q1770.45 1463.08 1771.47 1462.92 Q1772.48 1462.73 1773.5 1462.73 Q1779.29 1462.73 1782.67 1465.9 Q1786.05 1469.08 1786.05 1474.49 Q1786.05 1480.07 1782.58 1483.17 Q1779.1 1486.25 1772.78 1486.25 Q1770.61 1486.25 1768.34 1485.88 Q1766.09 1485.51 1763.69 1484.77 L1763.69 1480.07 Q1765.77 1481.2 1767.99 1481.76 Q1770.22 1482.32 1772.69 1482.32 Q1776.7 1482.32 1779.03 1480.21 Q1781.37 1478.1 1781.37 1474.49 Q1781.37 1470.88 1779.03 1468.77 Q1776.7 1466.67 1772.69 1466.67 Q1770.82 1466.67 1768.94 1467.08 Q1767.09 1467.5 1765.15 1468.38 L1765.15 1451.02 Z\" fill=\"#000000\" fill-rule=\"evenodd\" fill-opacity=\"1\" /><path clip-path=\"url(#clip230)\" d=\"M2268.08 1481.64 L2284.4 1481.64 L2284.4 1485.58 L2262.45 1485.58 L2262.45 1481.64 Q2265.12 1478.89 2269.7 1474.26 Q2274.31 1469.61 2275.49 1468.27 Q2277.73 1465.74 2278.61 1464.01 Q2279.51 1462.25 2279.51 1460.56 Q2279.51 1457.8 2277.57 1456.07 Q2275.65 1454.33 2272.55 1454.33 Q2270.35 1454.33 2267.89 1455.09 Q2265.46 1455.86 2262.69 1457.41 L2262.69 1452.69 Q2265.51 1451.55 2267.96 1450.97 Q2270.42 1450.39 2272.45 1450.39 Q2277.83 1450.39 2281.02 1453.08 Q2284.21 1455.77 2284.21 1460.26 Q2284.21 1462.39 2283.4 1464.31 Q2282.62 1466.2 2280.51 1468.8 Q2279.93 1469.47 2276.83 1472.69 Q2273.73 1475.88 2268.08 1481.64 Z\" fill=\"#000000\" fill-rule=\"evenodd\" fill-opacity=\"1\" /><path clip-path=\"url(#clip230)\" d=\"M2304.21 1454.1 Q2300.6 1454.1 2298.77 1457.66 Q2296.97 1461.2 2296.97 1468.33 Q2296.97 1475.44 2298.77 1479.01 Q2300.6 1482.55 2304.21 1482.55 Q2307.85 1482.55 2309.65 1479.01 Q2311.48 1475.44 2311.48 1468.33 Q2311.48 1461.2 2309.65 1457.66 Q2307.85 1454.1 2304.21 1454.1 M2304.21 1450.39 Q2310.02 1450.39 2313.08 1455 Q2316.16 1459.58 2316.16 1468.33 Q2316.16 1477.06 2313.08 1481.67 Q2310.02 1486.25 2304.21 1486.25 Q2298.4 1486.25 2295.33 1481.67 Q2292.27 1477.06 2292.27 1468.33 Q2292.27 1459.58 2295.33 1455 Q2298.4 1450.39 2304.21 1450.39 Z\" fill=\"#000000\" fill-rule=\"evenodd\" fill-opacity=\"1\" /><path clip-path=\"url(#clip230)\" d=\"M1240.29 1531.91 Q1240.29 1532.81 1239.87 1533.04 Q1239.45 1533.23 1238.29 1533.23 L1232.11 1533.23 L1227.21 1552.69 Q1226.83 1554.39 1226.83 1555.84 Q1226.83 1557.45 1227.31 1558.16 Q1227.83 1558.87 1228.89 1558.87 Q1230.98 1558.87 1233.24 1556.97 Q1235.52 1555.07 1237.46 1550.43 Q1237.71 1549.82 1237.84 1549.69 Q1238 1549.53 1238.42 1549.53 Q1239.23 1549.53 1239.23 1550.17 Q1239.23 1550.4 1238.78 1551.43 Q1238.36 1552.46 1237.42 1553.97 Q1236.52 1555.49 1235.33 1556.9 Q1234.17 1558.32 1232.4 1559.35 Q1230.63 1560.35 1228.73 1560.35 Q1226.05 1560.35 1224.35 1558.64 Q1222.67 1556.94 1222.67 1554.26 Q1222.67 1553.39 1223.35 1550.62 Q1224.03 1547.82 1227.7 1533.23 L1221.87 1533.23 Q1221.06 1533.23 1220.74 1533.2 Q1220.45 1533.17 1220.23 1533.01 Q1220.03 1532.81 1220.03 1532.43 Q1220.03 1531.82 1220.29 1531.56 Q1220.55 1531.27 1220.87 1531.24 Q1221.22 1531.17 1222.03 1531.17 L1228.21 1531.17 L1230.79 1520.71 Q1231.05 1519.67 1231.69 1519.09 Q1232.37 1518.48 1232.75 1518.42 Q1233.14 1518.32 1233.43 1518.32 Q1234.3 1518.32 1234.81 1518.81 Q1235.33 1519.26 1235.33 1520.09 Q1235.33 1520.54 1232.62 1531.17 L1238.42 1531.17 Q1239.16 1531.17 1239.45 1531.2 Q1239.77 1531.24 1240.03 1531.4 Q1240.29 1531.56 1240.29 1531.91 Z\" fill=\"#000000\" fill-rule=\"evenodd\" fill-opacity=\"1\" /><polyline clip-path=\"url(#clip232)\" style=\"stroke:#000000; stroke-linecap:round; stroke-linejoin:round; stroke-width:2; stroke-opacity:0.1; fill:none\" points=\"\n",
       "  110.881,1396 2352.76,1396 \n",
       "  \"/>\n",
       "<polyline clip-path=\"url(#clip232)\" style=\"stroke:#000000; stroke-linecap:round; stroke-linejoin:round; stroke-width:2; stroke-opacity:0.1; fill:none\" points=\"\n",
       "  110.881,1005.26 2352.76,1005.26 \n",
       "  \"/>\n",
       "<polyline clip-path=\"url(#clip232)\" style=\"stroke:#000000; stroke-linecap:round; stroke-linejoin:round; stroke-width:2; stroke-opacity:0.1; fill:none\" points=\"\n",
       "  110.881,614.517 2352.76,614.517 \n",
       "  \"/>\n",
       "<polyline clip-path=\"url(#clip232)\" style=\"stroke:#000000; stroke-linecap:round; stroke-linejoin:round; stroke-width:2; stroke-opacity:0.1; fill:none\" points=\"\n",
       "  110.881,223.775 2352.76,223.775 \n",
       "  \"/>\n",
       "<polyline clip-path=\"url(#clip230)\" style=\"stroke:#000000; stroke-linecap:round; stroke-linejoin:round; stroke-width:4; stroke-opacity:1; fill:none\" points=\"\n",
       "  110.881,1423.18 110.881,123.472 \n",
       "  \"/>\n",
       "<polyline clip-path=\"url(#clip230)\" style=\"stroke:#000000; stroke-linecap:round; stroke-linejoin:round; stroke-width:4; stroke-opacity:1; fill:none\" points=\"\n",
       "  110.881,1396 129.779,1396 \n",
       "  \"/>\n",
       "<polyline clip-path=\"url(#clip230)\" style=\"stroke:#000000; stroke-linecap:round; stroke-linejoin:round; stroke-width:4; stroke-opacity:1; fill:none\" points=\"\n",
       "  110.881,1005.26 129.779,1005.26 \n",
       "  \"/>\n",
       "<polyline clip-path=\"url(#clip230)\" style=\"stroke:#000000; stroke-linecap:round; stroke-linejoin:round; stroke-width:4; stroke-opacity:1; fill:none\" points=\"\n",
       "  110.881,614.517 129.779,614.517 \n",
       "  \"/>\n",
       "<polyline clip-path=\"url(#clip230)\" style=\"stroke:#000000; stroke-linecap:round; stroke-linejoin:round; stroke-width:4; stroke-opacity:1; fill:none\" points=\"\n",
       "  110.881,223.775 129.779,223.775 \n",
       "  \"/>\n",
       "<path clip-path=\"url(#clip230)\" d=\"M62.9365 1381.8 Q59.3254 1381.8 57.4967 1385.37 Q55.6912 1388.91 55.6912 1396.04 Q55.6912 1403.14 57.4967 1406.71 Q59.3254 1410.25 62.9365 1410.25 Q66.5707 1410.25 68.3763 1406.71 Q70.205 1403.14 70.205 1396.04 Q70.205 1388.91 68.3763 1385.37 Q66.5707 1381.8 62.9365 1381.8 M62.9365 1378.1 Q68.7467 1378.1 71.8022 1382.7 Q74.8809 1387.29 74.8809 1396.04 Q74.8809 1404.76 71.8022 1409.37 Q68.7467 1413.95 62.9365 1413.95 Q57.1264 1413.95 54.0477 1409.37 Q50.9921 1404.76 50.9921 1396.04 Q50.9921 1387.29 54.0477 1382.7 Q57.1264 1378.1 62.9365 1378.1 Z\" fill=\"#000000\" fill-rule=\"evenodd\" fill-opacity=\"1\" /><path clip-path=\"url(#clip230)\" d=\"M54.9736 1018.6 L62.6124 1018.6 L62.6124 992.239 L54.3023 993.905 L54.3023 989.646 L62.5661 987.979 L67.242 987.979 L67.242 1018.6 L74.8809 1018.6 L74.8809 1022.54 L54.9736 1022.54 L54.9736 1018.6 Z\" fill=\"#000000\" fill-rule=\"evenodd\" fill-opacity=\"1\" /><path clip-path=\"url(#clip230)\" d=\"M58.5615 627.862 L74.8809 627.862 L74.8809 631.797 L52.9366 631.797 L52.9366 627.862 Q55.5986 625.108 60.1819 620.478 Q64.7883 615.825 65.9689 614.483 Q68.2143 611.959 69.0939 610.223 Q69.9967 608.464 69.9967 606.774 Q69.9967 604.02 68.0522 602.284 Q66.1309 600.547 63.0291 600.547 Q60.83 600.547 58.3763 601.311 Q55.9458 602.075 53.168 603.626 L53.168 598.904 Q55.9921 597.77 58.4458 597.191 Q60.8995 596.612 62.9365 596.612 Q68.3068 596.612 71.5013 599.297 Q74.6957 601.983 74.6957 606.473 Q74.6957 608.603 73.8855 610.524 Q73.0985 612.422 70.992 615.015 Q70.4133 615.686 67.3115 618.904 Q64.2096 622.098 58.5615 627.862 Z\" fill=\"#000000\" fill-rule=\"evenodd\" fill-opacity=\"1\" /><path clip-path=\"url(#clip230)\" d=\"M67.7513 222.421 Q71.1078 223.139 72.9827 225.407 Q74.8809 227.676 74.8809 231.009 Q74.8809 236.125 71.3624 238.926 Q67.8439 241.726 61.3624 241.726 Q59.1865 241.726 56.8717 241.287 Q54.5801 240.87 52.1264 240.013 L52.1264 235.5 Q54.0708 236.634 56.3856 237.213 Q58.7004 237.791 61.2236 237.791 Q65.6217 237.791 67.9133 236.055 Q70.2281 234.319 70.2281 231.009 Q70.2281 227.953 68.0754 226.24 Q65.9457 224.504 62.1263 224.504 L58.0986 224.504 L58.0986 220.662 L62.3115 220.662 Q65.7606 220.662 67.5893 219.296 Q69.418 217.907 69.418 215.315 Q69.418 212.653 67.5198 211.24 Q65.6448 209.805 62.1263 209.805 Q60.205 209.805 58.006 210.222 Q55.8069 210.639 53.168 211.518 L53.168 207.352 Q55.8301 206.611 58.1449 206.241 Q60.4828 205.87 62.543 205.87 Q67.867 205.87 70.9689 208.301 Q74.0707 210.708 74.0707 214.828 Q74.0707 217.699 72.4272 219.69 Q70.7837 221.657 67.7513 222.421 Z\" fill=\"#000000\" fill-rule=\"evenodd\" fill-opacity=\"1\" /><path clip-path=\"url(#clip230)\" d=\"M469.89 14.7801 L478.073 14.7801 L478.073 68.3736 L507.523 68.3736 L507.523 75.2601 L469.89 75.2601 L469.89 14.7801 Z\" fill=\"#000000\" fill-rule=\"evenodd\" fill-opacity=\"1\" /><path clip-path=\"url(#clip230)\" d=\"M531.909 35.1157 Q525.914 35.1157 522.43 39.8147 Q518.946 44.4733 518.946 52.6156 Q518.946 60.7579 522.389 65.4569 Q525.873 70.1155 531.909 70.1155 Q537.864 70.1155 541.348 65.4164 Q544.831 60.7174 544.831 52.6156 Q544.831 44.5543 541.348 39.8552 Q537.864 35.1157 531.909 35.1157 M531.909 28.7963 Q541.631 28.7963 547.181 35.1157 Q552.731 41.4351 552.731 52.6156 Q552.731 63.7556 547.181 70.1155 Q541.631 76.4349 531.909 76.4349 Q522.146 76.4349 516.597 70.1155 Q511.087 63.7556 511.087 52.6156 Q511.087 41.4351 516.597 35.1157 Q522.146 28.7963 531.909 28.7963 Z\" fill=\"#000000\" fill-rule=\"evenodd\" fill-opacity=\"1\" /><path clip-path=\"url(#clip230)\" d=\"M572.459 17.0081 L572.459 29.89 L587.812 29.89 L587.812 35.6828 L572.459 35.6828 L572.459 60.3123 Q572.459 65.862 573.957 67.4419 Q575.497 69.0217 580.155 69.0217 L587.812 69.0217 L587.812 75.2601 L580.155 75.2601 Q571.527 75.2601 568.246 72.0599 Q564.964 68.8192 564.964 60.3123 L564.964 35.6828 L559.496 35.6828 L559.496 29.89 L564.964 29.89 L564.964 17.0081 L572.459 17.0081 Z\" fill=\"#000000\" fill-rule=\"evenodd\" fill-opacity=\"1\" /><path clip-path=\"url(#clip230)\" d=\"M615.196 35.1157 Q609.2 35.1157 605.717 39.8147 Q602.233 44.4733 602.233 52.6156 Q602.233 60.7579 605.676 65.4569 Q609.16 70.1155 615.196 70.1155 Q621.15 70.1155 624.634 65.4164 Q628.118 60.7174 628.118 52.6156 Q628.118 44.5543 624.634 39.8552 Q621.15 35.1157 615.196 35.1157 M615.196 28.7963 Q624.918 28.7963 630.468 35.1157 Q636.017 41.4351 636.017 52.6156 Q636.017 63.7556 630.468 70.1155 Q624.918 76.4349 615.196 76.4349 Q605.433 76.4349 599.883 70.1155 Q594.374 63.7556 594.374 52.6156 Q594.374 41.4351 599.883 35.1157 Q605.433 28.7963 615.196 28.7963 Z\" fill=\"#000000\" fill-rule=\"evenodd\" fill-opacity=\"1\" /><path clip-path=\"url(#clip230)\" d=\"M648.089 12.2281 L655.583 12.2281 L655.583 49.4559 L677.823 29.89 L687.342 29.89 L663.28 51.1167 L688.355 75.2601 L678.633 75.2601 L655.583 53.1017 L655.583 75.2601 L648.089 75.2601 L648.089 12.2281 Z\" fill=\"#000000\" fill-rule=\"evenodd\" fill-opacity=\"1\" /><path clip-path=\"url(#clip230)\" d=\"M715.577 52.4535 Q706.544 52.4535 703.06 54.5195 Q699.576 56.5855 699.576 61.5681 Q699.576 65.538 702.169 67.8875 Q704.802 70.1965 709.298 70.1965 Q715.496 70.1965 719.223 65.8215 Q722.99 61.406 722.99 54.1144 L722.99 52.4535 L715.577 52.4535 M730.444 49.3748 L730.444 75.2601 L722.99 75.2601 L722.99 68.3736 Q720.438 72.5055 716.63 74.4905 Q712.822 76.4349 707.313 76.4349 Q700.346 76.4349 696.214 72.546 Q692.122 68.6166 692.122 62.0542 Q692.122 54.398 697.226 50.5091 Q702.371 46.6202 712.539 46.6202 L722.99 46.6202 L722.99 45.8911 Q722.99 40.7464 719.587 37.9513 Q716.225 35.1157 710.108 35.1157 Q706.219 35.1157 702.533 36.0474 Q698.847 36.9791 695.444 38.8425 L695.444 31.956 Q699.535 30.3761 703.384 29.6064 Q707.232 28.7963 710.878 28.7963 Q720.722 28.7963 725.583 33.9004 Q730.444 39.0045 730.444 49.3748 Z\" fill=\"#000000\" fill-rule=\"evenodd\" fill-opacity=\"1\" /><path clip-path=\"url(#clip230)\" d=\"M742.029 49.2128 L763.864 49.2128 L763.864 55.8563 L742.029 55.8563 L742.029 49.2128 Z\" fill=\"#000000\" fill-rule=\"evenodd\" fill-opacity=\"1\" /><path clip-path=\"url(#clip230)\" d=\"M786.792 75.2601 L763.702 14.7801 L772.249 14.7801 L791.41 65.7 L810.611 14.7801 L819.118 14.7801 L796.069 75.2601 L786.792 75.2601 Z\" fill=\"#000000\" fill-rule=\"evenodd\" fill-opacity=\"1\" /><path clip-path=\"url(#clip230)\" d=\"M838.765 35.1157 Q832.77 35.1157 829.286 39.8147 Q825.802 44.4733 825.802 52.6156 Q825.802 60.7579 829.245 65.4569 Q832.729 70.1155 838.765 70.1155 Q844.72 70.1155 848.204 65.4164 Q851.687 60.7174 851.687 52.6156 Q851.687 44.5543 848.204 39.8552 Q844.72 35.1157 838.765 35.1157 M838.765 28.7963 Q848.487 28.7963 854.037 35.1157 Q859.587 41.4351 859.587 52.6156 Q859.587 63.7556 854.037 70.1155 Q848.487 76.4349 838.765 76.4349 Q829.002 76.4349 823.453 70.1155 Q817.943 63.7556 817.943 52.6156 Q817.943 41.4351 823.453 35.1157 Q829.002 28.7963 838.765 28.7963 Z\" fill=\"#000000\" fill-rule=\"evenodd\" fill-opacity=\"1\" /><path clip-path=\"url(#clip230)\" d=\"M871.942 12.2281 L879.396 12.2281 L879.396 75.2601 L871.942 75.2601 L871.942 12.2281 Z\" fill=\"#000000\" fill-rule=\"evenodd\" fill-opacity=\"1\" /><path clip-path=\"url(#clip230)\" d=\"M902.364 17.0081 L902.364 29.89 L917.717 29.89 L917.717 35.6828 L902.364 35.6828 L902.364 60.3123 Q902.364 65.862 903.863 67.4419 Q905.402 69.0217 910.061 69.0217 L917.717 69.0217 L917.717 75.2601 L910.061 75.2601 Q901.433 75.2601 898.151 72.0599 Q894.87 68.8192 894.87 60.3123 L894.87 35.6828 L889.401 35.6828 L889.401 29.89 L894.87 29.89 L894.87 17.0081 L902.364 17.0081 Z\" fill=\"#000000\" fill-rule=\"evenodd\" fill-opacity=\"1\" /><path clip-path=\"url(#clip230)\" d=\"M966.328 50.7116 L966.328 54.3575 L932.057 54.3575 Q932.543 62.0542 936.675 66.1051 Q940.848 70.1155 948.261 70.1155 Q952.555 70.1155 956.565 69.0622 Q960.616 68.009 964.586 65.9025 L964.586 72.9511 Q960.576 74.6525 956.363 75.5437 Q952.15 76.4349 947.815 76.4349 Q936.959 76.4349 930.599 70.1155 Q924.28 63.7961 924.28 53.0207 Q924.28 41.8807 930.275 35.3587 Q936.311 28.7963 946.519 28.7963 Q955.674 28.7963 960.981 34.7106 Q966.328 40.5844 966.328 50.7116 M958.874 48.5242 Q958.793 42.4073 955.431 38.7615 Q952.109 35.1157 946.6 35.1157 Q940.362 35.1157 936.594 38.64 Q932.868 42.1642 932.3 48.5647 L958.874 48.5242 Z\" fill=\"#000000\" fill-rule=\"evenodd\" fill-opacity=\"1\" /><path clip-path=\"url(#clip230)\" d=\"M1004.85 36.8576 Q1003.6 36.1284 1002.1 35.8043 Q1000.64 35.4397 998.857 35.4397 Q992.537 35.4397 989.135 39.5717 Q985.772 43.6631 985.772 51.3598 L985.772 75.2601 L978.278 75.2601 L978.278 29.89 L985.772 29.89 L985.772 36.9386 Q988.122 32.8066 991.889 30.8217 Q995.657 28.7963 1001.04 28.7963 Q1001.81 28.7963 1002.75 28.9178 Q1003.68 28.9988 1004.81 29.2013 L1004.85 36.8576 Z\" fill=\"#000000\" fill-rule=\"evenodd\" fill-opacity=\"1\" /><path clip-path=\"url(#clip230)\" d=\"M1037.5 36.8576 Q1036.25 36.1284 1034.75 35.8043 Q1033.29 35.4397 1031.51 35.4397 Q1025.19 35.4397 1021.78 39.5717 Q1018.42 43.6631 1018.42 51.3598 L1018.42 75.2601 L1010.93 75.2601 L1010.93 29.89 L1018.42 29.89 L1018.42 36.9386 Q1020.77 32.8066 1024.54 30.8217 Q1028.31 28.7963 1033.69 28.7963 Q1034.46 28.7963 1035.4 28.9178 Q1036.33 28.9988 1037.46 29.2013 L1037.5 36.8576 Z\" fill=\"#000000\" fill-rule=\"evenodd\" fill-opacity=\"1\" /><path clip-path=\"url(#clip230)\" d=\"M1065.94 52.4535 Q1056.91 52.4535 1053.42 54.5195 Q1049.94 56.5855 1049.94 61.5681 Q1049.94 65.538 1052.53 67.8875 Q1055.16 70.1965 1059.66 70.1965 Q1065.86 70.1965 1069.59 65.8215 Q1073.35 61.406 1073.35 54.1144 L1073.35 52.4535 L1065.94 52.4535 M1080.81 49.3748 L1080.81 75.2601 L1073.35 75.2601 L1073.35 68.3736 Q1070.8 72.5055 1066.99 74.4905 Q1063.19 76.4349 1057.68 76.4349 Q1050.71 76.4349 1046.58 72.546 Q1042.49 68.6166 1042.49 62.0542 Q1042.49 54.398 1047.59 50.5091 Q1052.73 46.6202 1062.9 46.6202 L1073.35 46.6202 L1073.35 45.8911 Q1073.35 40.7464 1069.95 37.9513 Q1066.59 35.1157 1060.47 35.1157 Q1056.58 35.1157 1052.9 36.0474 Q1049.21 36.9791 1045.81 38.8425 L1045.81 31.956 Q1049.9 30.3761 1053.75 29.6064 Q1057.59 28.7963 1061.24 28.7963 Q1071.08 28.7963 1075.95 33.9004 Q1080.81 39.0045 1080.81 49.3748 Z\" fill=\"#000000\" fill-rule=\"evenodd\" fill-opacity=\"1\" /><path clip-path=\"url(#clip230)\" d=\"M1153.16 63.2503 Q1152.05 68.5379 1150.62 71.5711 Q1148.32 76.2029 1144.43 76.2029 Q1141.48 76.2029 1139.39 74.3994 Q1137.3 72.5958 1136.81 69.8905 Q1131.44 76.2029 1125.86 76.2029 Q1120.94 76.2029 1117.83 72.4729 Q1114.71 68.7018 1114.71 62.7584 Q1114.71 56.774 1117.66 51.0355 Q1120.66 45.297 1125.37 41.7309 Q1130.08 38.1648 1134.92 38.1648 Q1140.04 38.1648 1142.67 43.5344 Q1142.87 42.0588 1143.82 40.9521 Q1144.76 39.8454 1146.19 39.8454 Q1147.3 39.8454 1147.95 40.4602 Q1148.61 41.0341 1148.61 42.0998 Q1148.61 42.6327 1148.04 44.969 L1145 56.692 L1143.16 64.275 Q1142.46 67.0623 1142.26 68.087 Q1142.09 69.1117 1142.09 70.4644 Q1142.09 74.3174 1144.59 74.3174 Q1145.82 74.3174 1146.81 73.5386 Q1147.79 72.7598 1148.57 71.1202 Q1149.35 69.4806 1149.84 67.964 Q1150.33 66.4064 1150.99 63.9471 Q1151.19 62.9633 1151.36 62.7174 Q1151.56 62.4305 1152.14 62.4305 Q1153.16 62.4305 1153.16 63.2503 M1141.64 47.3874 Q1141.64 47.0185 1141.36 45.9938 Q1141.07 44.969 1140.41 43.5344 Q1139.76 42.0998 1138.32 41.0751 Q1136.93 40.0093 1135.04 40.0093 Q1132.5 40.0093 1129.84 42.1818 Q1127.21 44.3542 1125.29 48.0432 Q1123.81 50.9945 1122.21 57.1839 Q1120.66 63.3732 1120.66 66.4474 Q1120.66 68.3329 1121.07 70.0135 Q1121.52 71.6531 1122.79 73.0057 Q1124.06 74.3174 1126.03 74.3174 Q1130.82 74.3174 1135.54 68.3739 Q1136.44 67.3492 1136.64 66.9393 Q1136.89 66.4884 1137.22 65.2587 L1141.4 48.822 Q1141.64 47.5924 1141.64 47.3874 Z\" fill=\"#000000\" fill-rule=\"evenodd\" fill-opacity=\"1\" /><path clip-path=\"url(#clip230)\" d=\"M1181.97 62.5125 Q1182.05 61.4877 1183.65 61.4877 L1235.09 61.4877 Q1237.51 61.4877 1237.55 62.4305 Q1237.55 63.4552 1235.25 63.4142 L1184.22 63.4142 Q1181.97 63.4552 1181.97 62.5125 M1181.97 46.1167 Q1181.97 45.092 1183.73 45.133 L1235.01 45.133 Q1237.51 45.133 1237.55 46.1167 Q1237.55 47.0595 1235.42 47.0595 L1183.65 47.0595 Q1181.97 47.0595 1181.97 46.1167 Z\" fill=\"#000000\" fill-rule=\"evenodd\" fill-opacity=\"1\" /><path clip-path=\"url(#clip230)\" d=\"M1269.93 27.3437 L1269.93 24.7203 Q1280.01 24.7203 1285.22 19.3507 Q1286.65 19.3507 1286.9 19.6787 Q1287.14 20.0066 1287.14 21.5232 L1287.14 68.6199 Q1287.14 71.1202 1288.37 71.899 Q1289.6 72.6778 1294.97 72.6778 L1297.64 72.6778 L1297.64 75.2601 Q1294.69 75.0142 1284.03 75.0142 Q1273.37 75.0142 1270.46 75.2601 L1270.46 72.6778 L1273.13 72.6778 Q1278.41 72.6778 1279.68 71.94 Q1280.95 71.1612 1280.95 68.6199 L1280.95 25.1302 Q1276.57 27.3437 1269.93 27.3437 Z\" fill=\"#000000\" fill-rule=\"evenodd\" fill-opacity=\"1\" /><path clip-path=\"url(#clip230)\" d=\"M1312.69 73.9075 Q1311.5 72.5548 1311.5 70.7923 Q1311.5 69.0298 1312.65 67.7181 Q1313.84 66.3655 1315.97 66.3655 Q1318.47 66.3655 1319.9 68.7838 Q1321.34 71.1612 1321.34 75.1781 Q1321.34 79.523 1319.57 83.54 Q1317.81 87.5979 1316.09 89.5244 Q1314.37 91.4509 1313.67 91.4509 Q1312.85 91.4509 1312.85 90.5491 Q1312.85 90.2212 1313.43 89.6064 Q1319.45 83.1301 1319.49 75.1781 Q1319.49 73.9075 1319.33 73.9075 L1319.12 74.0714 Q1317.69 75.2601 1315.97 75.2601 Q1313.88 75.2601 1312.69 73.9075 Z\" fill=\"#000000\" fill-rule=\"evenodd\" fill-opacity=\"1\" /><path clip-path=\"url(#clip230)\" d=\"M1378.73 51.5683 Q1378.73 57.4708 1375.74 63.2503 Q1372.79 68.9888 1368.03 72.5958 Q1363.32 76.2029 1358.48 76.2029 Q1353.77 76.2029 1350.78 72.5958 Q1347.83 68.9478 1347.83 63.0043 Q1347.83 60.9139 1348.07 59.4383 Q1348.32 57.9626 1349.18 54.5196 L1356.06 27.1387 Q1357.25 22.0151 1357.25 21.9741 Q1357.25 21.4822 1357.05 21.2363 Q1356.88 20.9493 1355.9 20.7444 Q1354.92 20.5394 1353.03 20.5394 Q1352.25 20.5394 1351.88 20.4984 Q1351.56 20.4575 1351.27 20.2525 Q1351.02 20.0066 1351.02 19.5147 Q1351.02 18.8179 1351.31 18.449 Q1351.64 18.0391 1351.88 17.9571 Q1352.13 17.8751 1352.62 17.8341 Q1353.32 17.7932 1355.65 17.5882 Q1357.99 17.3423 1360 17.1783 Q1362.01 17.0144 1362.87 17.0144 Q1363.36 17.0144 1363.61 17.2603 Q1363.89 17.4652 1363.89 17.7112 L1363.93 17.9161 L1357.75 43.2065 Q1362.62 38.1648 1367.58 38.1648 Q1372.54 38.1648 1375.62 41.9768 Q1378.73 45.7888 1378.73 51.5683 M1372.67 47.8793 Q1372.67 43.9853 1371.19 42.0178 Q1369.75 40.0093 1367.38 40.0093 Q1365.37 40.0093 1362.75 41.5259 Q1360.12 43.0426 1357.34 46.7316 Q1356.8 47.4284 1356.6 47.8383 Q1356.43 48.2482 1356.06 49.6418 L1354.22 57.3888 Q1352.87 62.6764 1352.87 65.8736 Q1352.87 70.2184 1354.47 72.2679 Q1356.06 74.3174 1358.48 74.3174 Q1361.02 74.3174 1363.69 72.063 Q1366.35 69.8086 1368.4 65.7096 Q1369.67 63.0043 1371.15 57.1839 Q1372.67 51.3224 1372.67 47.8793 Z\" fill=\"#000000\" fill-rule=\"evenodd\" fill-opacity=\"1\" /><path clip-path=\"url(#clip230)\" d=\"M1406.76 62.5125 Q1406.84 61.4877 1408.44 61.4877 L1459.88 61.4877 Q1462.3 61.4877 1462.34 62.4305 Q1462.34 63.4552 1460.05 63.4142 L1409.01 63.4142 Q1406.76 63.4552 1406.76 62.5125 M1406.76 46.1167 Q1406.76 45.092 1408.52 45.133 L1459.8 45.133 Q1462.3 45.133 1462.34 46.1167 Q1462.34 47.0595 1460.21 47.0595 L1408.44 47.0595 Q1406.76 47.0595 1406.76 46.1167 Z\" fill=\"#000000\" fill-rule=\"evenodd\" fill-opacity=\"1\" /><path clip-path=\"url(#clip230)\" d=\"M1494.72 75.2601 Q1494.72 73.7435 1494.84 73.2926 Q1495.01 72.8418 1495.66 72.1449 L1511.77 54.1916 Q1520.58 44.2722 1520.58 35.6235 Q1520.58 30.008 1517.63 25.991 Q1514.72 21.9741 1509.35 21.9741 Q1505.66 21.9741 1502.55 24.2285 Q1499.43 26.4829 1498 30.4998 Q1498.24 30.4179 1499.11 30.4179 Q1501.2 30.4179 1502.34 31.7295 Q1503.53 33.0412 1503.53 34.8037 Q1503.53 37.0581 1502.06 38.1648 Q1500.62 39.2305 1499.19 39.2305 Q1498.61 39.2305 1497.83 39.1076 Q1497.1 38.9846 1495.91 37.8369 Q1494.72 36.6482 1494.72 34.5578 Q1494.72 28.6963 1499.15 24.0235 Q1503.61 19.3507 1510.42 19.3507 Q1518.12 19.3507 1523.17 23.9415 Q1528.25 28.4914 1528.25 35.6235 Q1528.25 38.1238 1527.47 40.4192 Q1526.73 42.6736 1525.71 44.4362 Q1524.72 46.1987 1522.02 49.027 Q1519.31 51.8552 1517.14 53.8637 Q1514.97 55.8722 1510.09 60.1351 L1501.2 68.7838 L1516.32 68.7838 Q1523.7 68.7838 1524.27 68.128 Q1525.09 66.9393 1526.12 60.6679 L1528.25 60.6679 L1525.87 75.2601 L1494.72 75.2601 Z\" fill=\"#000000\" fill-rule=\"evenodd\" fill-opacity=\"1\" /><path clip-path=\"url(#clip230)\" d=\"M1537.48 73.9075 Q1536.29 72.5548 1536.29 70.7923 Q1536.29 69.0298 1537.44 67.7181 Q1538.63 66.3655 1540.76 66.3655 Q1543.26 66.3655 1544.69 68.7838 Q1546.13 71.1612 1546.13 75.1781 Q1546.13 79.523 1544.36 83.54 Q1542.6 87.5979 1540.88 89.5244 Q1539.16 91.4509 1538.46 91.4509 Q1537.64 91.4509 1537.64 90.5491 Q1537.64 90.2212 1538.22 89.6064 Q1544.24 83.1301 1544.28 75.1781 Q1544.28 73.9075 1544.12 73.9075 L1543.91 74.0714 Q1542.48 75.2601 1540.76 75.2601 Q1538.67 75.2601 1537.48 73.9075 Z\" fill=\"#000000\" fill-rule=\"evenodd\" fill-opacity=\"1\" /><path clip-path=\"url(#clip230)\" d=\"M1604.96 65.5457 Q1605.28 65.9146 1605.28 66.2835 Q1605.28 66.6524 1604.47 67.7181 Q1603.69 68.7838 1602.01 70.2184 Q1600.33 71.6531 1598.15 73.0057 Q1595.98 74.3584 1592.78 75.2601 Q1589.59 76.2029 1586.22 76.2029 Q1579.95 76.2029 1576.26 72.063 Q1572.62 67.923 1572.62 61.9796 Q1572.62 56.2001 1575.85 50.6666 Q1579.09 45.092 1584.34 41.6489 Q1589.59 38.1648 1595.12 38.1648 Q1599.51 38.1648 1602.25 40.2143 Q1605 42.2638 1605 45.3789 Q1605 47.7973 1603.6 49.2729 Q1602.21 50.7485 1600.33 50.7485 Q1599.01 50.7485 1598.11 50.0107 Q1597.21 49.2319 1597.21 47.7973 Q1597.21 45.9528 1598.73 44.5182 Q1599.3 43.9443 1599.96 43.6984 Q1600.65 43.4115 1601.06 43.4115 Q1601.47 43.3705 1602.42 43.3705 Q1601.55 41.7719 1599.51 40.9111 Q1597.5 40.0093 1595.2 40.0093 Q1591.8 40.0093 1588.56 42.3867 Q1585.32 44.7231 1583.36 48.4121 Q1581.39 52.0192 1580.12 57.1429 Q1578.85 62.2255 1578.85 65.1768 Q1578.85 69.2347 1580.73 71.776 Q1582.62 74.3174 1586.39 74.3174 Q1587.13 74.3174 1587.91 74.2764 Q1588.73 74.2354 1590.77 73.7845 Q1592.87 73.3336 1594.71 72.5548 Q1596.55 71.776 1598.89 70.0955 Q1601.27 68.3739 1603.15 66.0375 Q1603.81 65.1768 1604.26 65.1768 Q1604.63 65.1768 1604.96 65.5457 Z\" fill=\"#000000\" fill-rule=\"evenodd\" fill-opacity=\"1\" /><path clip-path=\"url(#clip230)\" d=\"M1631.88 62.5125 Q1631.96 61.4877 1633.56 61.4877 L1685 61.4877 Q1687.42 61.4877 1687.46 62.4305 Q1687.46 63.4552 1685.16 63.4142 L1634.13 63.4142 Q1631.88 63.4552 1631.88 62.5125 M1631.88 46.1167 Q1631.88 45.092 1633.64 45.133 L1684.92 45.133 Q1687.42 45.133 1687.46 46.1167 Q1687.46 47.0595 1685.33 47.0595 L1633.56 47.0595 Q1631.88 47.0595 1631.88 46.1167 Z\" fill=\"#000000\" fill-rule=\"evenodd\" fill-opacity=\"1\" /><path clip-path=\"url(#clip230)\" d=\"M1719.84 63.9471 Q1719.84 61.4467 1721.27 60.258 Q1722.7 59.0694 1724.55 59.0694 Q1726.48 59.0694 1727.83 60.34 Q1729.22 61.5697 1729.22 63.7421 Q1729.22 66.0785 1727.58 67.3902 Q1725.98 68.7018 1723.69 68.3739 Q1725.7 71.735 1729.39 73.2517 Q1733.12 74.7683 1736.56 74.7683 Q1740.17 74.7683 1743.08 71.6531 Q1746.03 68.5379 1746.03 60.9139 Q1746.03 54.4376 1743.49 50.7075 Q1740.99 46.9775 1736.03 46.9775 L1732.34 46.9775 Q1731.07 46.9775 1730.7 46.8546 Q1730.33 46.7316 1730.33 46.0348 Q1730.33 45.215 1731.6 45.051 Q1732.87 45.051 1734.88 44.8051 Q1739.76 44.6411 1742.34 40.4192 Q1744.67 36.4843 1744.67 30.8687 Q1744.67 25.7451 1742.22 23.6136 Q1739.8 21.4412 1736.64 21.4412 Q1733.69 21.4412 1730.45 22.6709 Q1727.21 23.9006 1725.45 26.6468 Q1730.66 26.6468 1730.66 30.8687 Q1730.66 32.7133 1729.47 33.9429 Q1728.32 35.1316 1726.39 35.1316 Q1724.55 35.1316 1723.32 33.9839 Q1722.09 32.7952 1722.09 30.7868 Q1722.09 25.991 1726.35 22.6709 Q1730.66 19.3507 1736.97 19.3507 Q1743.2 19.3507 1747.79 22.6299 Q1752.42 25.909 1752.42 30.9507 Q1752.42 35.9104 1749.14 39.9684 Q1745.86 44.0263 1740.66 45.7069 Q1747.05 46.9775 1750.86 51.3224 Q1754.68 55.6263 1754.68 60.9139 Q1754.68 67.4722 1749.51 72.3089 Q1744.35 77.1046 1736.8 77.1046 Q1729.84 77.1046 1724.84 73.3336 Q1719.84 69.5626 1719.84 63.9471 Z\" fill=\"#000000\" fill-rule=\"evenodd\" fill-opacity=\"1\" /><path clip-path=\"url(#clip230)\" d=\"M1762.59 73.9075 Q1761.41 72.5548 1761.41 70.7923 Q1761.41 69.0298 1762.55 67.7181 Q1763.74 66.3655 1765.87 66.3655 Q1768.37 66.3655 1769.81 68.7838 Q1771.24 71.1612 1771.24 75.1781 Q1771.24 79.523 1769.48 83.54 Q1767.72 87.5979 1766 89.5244 Q1764.27 91.4509 1763.58 91.4509 Q1762.76 91.4509 1762.76 90.5491 Q1762.76 90.2212 1763.33 89.6064 Q1769.36 83.1301 1769.4 75.1781 Q1769.4 73.9075 1769.23 73.9075 L1769.03 74.0714 Q1767.59 75.2601 1765.87 75.2601 Q1763.78 75.2601 1762.59 73.9075 Z\" fill=\"#000000\" fill-rule=\"evenodd\" fill-opacity=\"1\" /><path clip-path=\"url(#clip230)\" d=\"M1837.7 17.9161 L1825.6 66.4474 Q1825.11 68.6199 1825.11 70.4644 Q1825.11 74.3174 1827.61 74.3174 Q1828.84 74.3174 1829.83 73.5386 Q1830.81 72.7598 1831.59 71.1202 Q1832.37 69.4806 1832.86 67.964 Q1833.35 66.4064 1834.01 63.9471 Q1834.21 62.9633 1834.38 62.7174 Q1834.58 62.4305 1835.16 62.4305 Q1836.18 62.4305 1836.18 63.2503 Q1835.07 68.5379 1833.64 71.5711 Q1831.34 76.2029 1827.45 76.2029 Q1824.5 76.2029 1822.41 74.3994 Q1820.32 72.5958 1819.83 69.8905 Q1814.46 76.2029 1808.88 76.2029 Q1803.96 76.2029 1800.85 72.4729 Q1797.73 68.7018 1797.73 62.7584 Q1797.73 56.774 1800.68 51.0355 Q1803.68 45.297 1808.39 41.7309 Q1813.1 38.1648 1817.94 38.1648 Q1823.06 38.1648 1825.69 43.5344 L1830.73 23.6136 L1830.97 21.9741 Q1830.97 21.4822 1830.77 21.2363 Q1830.61 20.9493 1829.62 20.7444 Q1828.68 20.5394 1826.79 20.5394 Q1826.01 20.5394 1825.65 20.4984 Q1825.32 20.4575 1825.03 20.2525 Q1824.74 20.0066 1824.74 19.5147 Q1824.74 18.0801 1825.93 17.9161 Q1833.8 17.0144 1836.59 17.0144 Q1837.08 17.0144 1837.37 17.2603 Q1837.66 17.4652 1837.66 17.7112 L1837.7 17.9161 M1824.66 47.3874 Q1824.66 47.0185 1824.38 45.9938 Q1824.09 44.969 1823.43 43.5344 Q1822.78 42.0998 1821.34 41.0751 Q1819.95 40.0093 1818.06 40.0093 Q1815.52 40.0093 1812.86 42.1818 Q1810.23 44.3542 1808.31 48.0432 Q1806.83 50.9945 1805.23 57.1839 Q1803.68 63.3732 1803.68 66.4474 Q1803.68 68.3329 1804.09 70.0135 Q1804.54 71.6531 1805.81 73.0057 Q1807.08 74.3174 1809.05 74.3174 Q1813.84 74.3174 1818.55 68.3739 Q1819.46 67.3492 1819.66 66.9393 Q1819.91 66.4884 1820.24 65.2587 L1824.42 48.822 Q1824.66 47.5924 1824.66 47.3874 Z\" fill=\"#000000\" fill-rule=\"evenodd\" fill-opacity=\"1\" /><path clip-path=\"url(#clip230)\" d=\"M1864.22 62.5125 Q1864.3 61.4877 1865.9 61.4877 L1917.34 61.4877 Q1919.76 61.4877 1919.8 62.4305 Q1919.8 63.4552 1917.5 63.4142 L1866.47 63.4142 Q1864.22 63.4552 1864.22 62.5125 M1864.22 46.1167 Q1864.22 45.092 1865.98 45.133 L1917.26 45.133 Q1919.76 45.133 1919.8 46.1167 Q1919.8 47.0595 1917.67 47.0595 L1865.9 47.0595 Q1864.22 47.0595 1864.22 46.1167 Z\" fill=\"#000000\" fill-rule=\"evenodd\" fill-opacity=\"1\" /><path clip-path=\"url(#clip230)\" d=\"M1952.18 61.4057 L1952.18 58.8234 L1977.96 19.4327 Q1978.61 18.408 1979.64 18.449 Q1980.58 18.449 1980.79 18.8179 Q1980.99 19.1868 1980.99 20.6214 L1980.99 58.8234 L1989.4 58.8234 L1989.4 61.4057 L1980.99 61.4057 L1980.99 68.7018 Q1980.99 71.1202 1981.98 71.899 Q1983 72.6778 1987.35 72.6778 L1989.11 72.6778 L1989.11 75.2601 Q1985.66 75.0142 1977.71 75.0142 Q1969.8 75.0142 1966.36 75.2601 L1966.36 72.6778 L1968.12 72.6778 Q1972.47 72.6778 1973.49 71.94 Q1974.52 71.1612 1974.52 68.7018 L1974.52 61.4057 L1952.18 61.4057 M1954.55 58.8234 L1975.01 58.8234 L1975.01 27.5076 L1954.55 58.8234 Z\" fill=\"#000000\" fill-rule=\"evenodd\" fill-opacity=\"1\" /><polyline clip-path=\"url(#clip232)\" style=\"stroke:#009af9; stroke-linecap:round; stroke-linejoin:round; stroke-width:4; stroke-opacity:1; fill:none\" points=\"\n",
       "  174.33,223.775 180.673,312.806 189.868,497.347 199.088,706.263 210.116,918.6 223.308,1081.46 239.833,1182.58 256.21,1225.01 276.21,1241.62 299.362,1237.27 \n",
       "  323.878,1216.43 350.74,1178.67 381.442,1116.44 422.789,994.239 454.977,859.708 500.386,592.397 544.27,256.944 577.948,198.685 602.436,643.547 625.431,1041.71 \n",
       "  646.641,1185.21 671.573,1236.01 698.367,1240.53 727.729,1218.97 757.183,1178.17 791.249,1107.53 833.284,978.302 868.111,824.918 916.936,516.922 956.907,212.656 \n",
       "  985.371,210.556 1011.31,704.375 1035.89,1083.58 1058.67,1203.88 1083.92,1239.76 1112.95,1236.31 1141.97,1209.31 1173.19,1160.15 1209.43,1075.43 1247.19,947.771 \n",
       "  1285.18,765.513 1338.99,392.904 1374.52,160.256 1396.88,280.587 1418.05,720.843 1441.59,1080.59 1462.67,1197.78 1486.64,1237.67 1513.55,1238.86 1542,1216.15 \n",
       "  1571.53,1173.84 1605.51,1101.55 1645.96,975.4 1681.19,818.942 1729.7,510.829 1769.27,211.018 1797.43,214.702 1823.07,702.727 1848.03,1085.52 1870.41,1202.98 \n",
       "  1895.95,1239.33 1924.81,1235.8 1953.94,1208.61 1985.12,1159.33 2021.5,1073.97 2059.12,946.317 2097.25,762.834 2151.47,386.316 2186.84,160.455 2208.91,290.469 \n",
       "  2229.89,728.185 2253.06,1079.66 2274.48,1198.11 2289.31,1228.68 \n",
       "  \"/>\n",
       "<polyline clip-path=\"url(#clip232)\" style=\"stroke:#e26f46; stroke-linecap:round; stroke-linejoin:round; stroke-width:6; stroke-opacity:1; fill:none\" stroke-dasharray=\"24, 15\" points=\"\n",
       "  174.33,1005.26 180.673,878.58 189.868,685.877 199.088,543.592 210.116,503.704 223.308,610.346 239.833,823.585 256.21,1010.23 276.21,1167.45 299.362,1272.45 \n",
       "  323.878,1330.09 350.74,1360.95 381.442,1376.99 422.789,1385.07 454.977,1386.4 500.386,1380.73 544.27,1332.22 577.948,1050.38 602.436,578.057 625.431,566.637 \n",
       "  646.641,832.256 671.573,1092.16 698.367,1246.89 727.729,1326.27 757.183,1361.21 791.249,1378.16 833.284,1385.46 868.111,1386.24 916.936,1376.56 956.907,1309.78 \n",
       "  985.371,1028.15 1011.31,545.007 1035.89,614.779 1058.67,904.196 1083.92,1137.79 1112.95,1276.53 1141.97,1338.78 1173.19,1367.75 1209.43,1381.19 1247.19,1385.92 \n",
       "  1285.18,1385.55 1338.99,1364.14 1374.52,1241.02 1396.88,922.393 1418.05,538.349 1441.59,611.678 1462.67,880.623 1486.64,1114.46 1513.55,1258.21 1542,1329.69 \n",
       "  1571.53,1362.72 1605.51,1378.69 1645.96,1385.42 1681.19,1386.11 1729.7,1375.95 1769.27,1307.26 1797.43,1024.43 1823.07,547.983 1848.03,619.702 1870.41,903.376 \n",
       "  1895.95,1139.02 1924.81,1276.43 1953.94,1338.81 1985.12,1367.7 2021.5,1381.16 2059.12,1385.85 2097.25,1385.41 2151.47,1362.83 2186.84,1233.97 2208.91,912.162 \n",
       "  2229.89,537.484 2253.06,612.786 2274.48,884.691 2289.31,1041.57 \n",
       "  \"/>\n",
       "<path clip-path=\"url(#clip230)\" d=\"\n",
       "M1790.97 322.316 L2278.03 322.316 L2278.03 166.796 L1790.97 166.796  Z\n",
       "  \" fill=\"#ffffff\" fill-rule=\"evenodd\" fill-opacity=\"1\"/>\n",
       "<polyline clip-path=\"url(#clip230)\" style=\"stroke:#000000; stroke-linecap:round; stroke-linejoin:round; stroke-width:4; stroke-opacity:1; fill:none\" points=\"\n",
       "  1790.97,322.316 2278.03,322.316 2278.03,166.796 1790.97,166.796 1790.97,322.316 \n",
       "  \"/>\n",
       "<polyline clip-path=\"url(#clip230)\" style=\"stroke:#009af9; stroke-linecap:round; stroke-linejoin:round; stroke-width:4; stroke-opacity:1; fill:none\" points=\"\n",
       "  1815.88,218.636 1965.34,218.636 \n",
       "  \"/>\n",
       "<path clip-path=\"url(#clip230)\" d=\"M1994.53 224.973 L1994.53 238.723 L1990.25 238.723 L1990.25 202.936 L1994.53 202.936 L1994.53 206.872 Q1995.87 204.557 1997.91 203.446 Q1999.97 202.311 2002.82 202.311 Q2007.54 202.311 2010.48 206.061 Q2013.44 209.811 2013.44 215.923 Q2013.44 222.034 2010.48 225.784 Q2007.54 229.534 2002.82 229.534 Q1999.97 229.534 1997.91 228.422 Q1995.87 227.288 1994.53 224.973 M2009.02 215.923 Q2009.02 211.223 2007.08 208.561 Q2005.15 205.876 2001.77 205.876 Q1998.39 205.876 1996.45 208.561 Q1994.53 211.223 1994.53 215.923 Q1994.53 220.622 1996.45 223.307 Q1998.39 225.969 2001.77 225.969 Q2005.15 225.969 2007.08 223.307 Q2009.02 220.622 2009.02 215.923 Z\" fill=\"#000000\" fill-rule=\"evenodd\" fill-opacity=\"1\" /><path clip-path=\"url(#clip230)\" d=\"M2035.52 206.918 Q2034.81 206.501 2033.95 206.316 Q2033.12 206.108 2032.1 206.108 Q2028.49 206.108 2026.54 208.469 Q2024.62 210.807 2024.62 215.205 L2024.62 228.862 L2020.34 228.862 L2020.34 202.936 L2024.62 202.936 L2024.62 206.964 Q2025.96 204.603 2028.12 203.469 Q2030.27 202.311 2033.35 202.311 Q2033.79 202.311 2034.32 202.381 Q2034.85 202.427 2035.5 202.543 L2035.52 206.918 Z\" fill=\"#000000\" fill-rule=\"evenodd\" fill-opacity=\"1\" /><path clip-path=\"url(#clip230)\" d=\"M2061.13 214.835 L2061.13 216.918 L2041.54 216.918 Q2041.82 221.316 2044.18 223.631 Q2046.57 225.922 2050.8 225.922 Q2053.26 225.922 2055.55 225.321 Q2057.86 224.719 2060.13 223.515 L2060.13 227.543 Q2057.84 228.515 2055.43 229.024 Q2053.02 229.534 2050.55 229.534 Q2044.34 229.534 2040.71 225.922 Q2037.1 222.311 2037.1 216.154 Q2037.1 209.788 2040.52 206.061 Q2043.97 202.311 2049.81 202.311 Q2055.04 202.311 2058.07 205.691 Q2061.13 209.048 2061.13 214.835 M2056.87 213.585 Q2056.82 210.089 2054.9 208.006 Q2053 205.923 2049.85 205.923 Q2046.29 205.923 2044.14 207.936 Q2042.01 209.95 2041.68 213.608 L2056.87 213.585 Z\" fill=\"#000000\" fill-rule=\"evenodd\" fill-opacity=\"1\" /><path clip-path=\"url(#clip230)\" d=\"M2078.9 231.27 Q2077.1 235.899 2075.38 237.311 Q2073.67 238.723 2070.8 238.723 L2067.4 238.723 L2067.4 235.159 L2069.9 235.159 Q2071.66 235.159 2072.63 234.325 Q2073.6 233.492 2074.78 230.39 L2075.55 228.446 L2065.06 202.936 L2069.57 202.936 L2077.68 223.214 L2085.78 202.936 L2090.29 202.936 L2078.9 231.27 Z\" fill=\"#000000\" fill-rule=\"evenodd\" fill-opacity=\"1\" /><path clip-path=\"url(#clip230)\" d=\"M2130.66 210.827 Q2130.66 212.139 2129.84 212.888 Q2129.02 213.614 2128.09 213.614 Q2127.2 213.614 2126.73 213.099 Q2126.26 212.584 2126.26 211.928 Q2126.26 211.038 2126.92 210.265 Q2127.57 209.492 2128.56 209.328 Q2127.6 208.719 2126.17 208.719 Q2125.23 208.719 2124.41 209.211 Q2123.61 209.703 2123.12 210.335 Q2122.65 210.968 2122.23 211.881 Q2121.83 212.771 2121.67 213.31 Q2121.53 213.825 2121.41 214.387 L2119.77 220.945 Q2118.98 224.061 2118.98 225.162 Q2118.98 226.52 2119.63 227.434 Q2120.29 228.324 2121.6 228.324 Q2122.12 228.324 2122.7 228.183 Q2123.29 228.019 2124.04 227.597 Q2124.81 227.152 2125.49 226.497 Q2126.19 225.817 2126.87 224.67 Q2127.55 223.522 2127.99 222.046 Q2128.13 221.531 2128.6 221.531 Q2129.19 221.531 2129.19 222 Q2129.19 222.398 2128.86 223.241 Q2128.56 224.061 2127.88 225.138 Q2127.22 226.192 2126.35 227.152 Q2125.49 228.089 2124.2 228.745 Q2122.91 229.401 2121.51 229.401 Q2119.49 229.401 2118.16 228.324 Q2116.82 227.246 2116.33 225.747 Q2116.21 225.958 2116.05 226.239 Q2115.88 226.52 2115.39 227.152 Q2114.92 227.761 2114.39 228.23 Q2113.85 228.675 2113 229.026 Q2112.18 229.401 2111.29 229.401 Q2110.17 229.401 2109.16 229.073 Q2108.18 228.745 2107.48 227.996 Q2106.77 227.246 2106.77 226.216 Q2106.77 225.068 2107.55 224.271 Q2108.34 223.452 2109.42 223.452 Q2110.1 223.452 2110.64 223.85 Q2111.2 224.248 2111.2 225.115 Q2111.2 226.075 2110.54 226.801 Q2109.89 227.527 2108.95 227.715 Q2109.91 228.324 2111.34 228.324 Q2112.89 228.324 2114.1 226.965 Q2115.32 225.607 2115.91 223.335 Q2117.36 217.877 2117.92 215.441 Q2118.48 212.982 2118.48 211.928 Q2118.48 210.944 2118.23 210.265 Q2117.97 209.586 2117.52 209.281 Q2117.1 208.953 2116.7 208.836 Q2116.33 208.719 2115.91 208.719 Q2115.21 208.719 2114.41 209 Q2113.64 209.281 2112.7 209.937 Q2111.79 210.569 2110.92 211.881 Q2110.05 213.193 2109.47 214.996 Q2109.35 215.535 2108.83 215.535 Q2108.27 215.511 2108.27 215.043 Q2108.27 214.645 2108.58 213.825 Q2108.91 212.982 2109.56 211.928 Q2110.24 210.874 2111.11 209.937 Q2112 208.977 2113.29 208.321 Q2114.6 207.665 2116 207.665 Q2116.63 207.665 2117.24 207.806 Q2117.88 207.923 2118.63 208.274 Q2119.4 208.625 2120.08 209.398 Q2120.76 210.171 2121.18 211.295 Q2121.46 210.757 2121.83 210.241 Q2122.23 209.726 2122.84 209.094 Q2123.47 208.438 2124.34 208.063 Q2125.23 207.665 2126.21 207.665 Q2127.17 207.665 2128.11 207.923 Q2129.05 208.157 2129.84 208.93 Q2130.66 209.679 2130.66 210.827 Z\" fill=\"#000000\" fill-rule=\"evenodd\" fill-opacity=\"1\" /><polyline clip-path=\"url(#clip230)\" style=\"stroke:#e26f46; stroke-linecap:round; stroke-linejoin:round; stroke-width:4; stroke-opacity:1; fill:none\" stroke-dasharray=\"16, 10\" points=\"\n",
       "  1815.88,270.476 1965.34,270.476 \n",
       "  \"/>\n",
       "<path clip-path=\"url(#clip230)\" d=\"M1994.53 272.212 L1994.53 285.962 L1990.25 285.962 L1990.25 250.175 L1994.53 250.175 L1994.53 254.11 Q1995.87 251.795 1997.91 250.684 Q1999.97 249.55 2002.82 249.55 Q2007.54 249.55 2010.48 253.3 Q2013.44 257.05 2013.44 263.161 Q2013.44 269.272 2010.48 273.022 Q2007.54 276.772 2002.82 276.772 Q1999.97 276.772 1997.91 275.661 Q1995.87 274.527 1994.53 272.212 M2009.02 263.161 Q2009.02 258.462 2007.08 255.8 Q2005.15 253.115 2001.77 253.115 Q1998.39 253.115 1996.45 255.8 Q1994.53 258.462 1994.53 263.161 Q1994.53 267.86 1996.45 270.545 Q1998.39 273.207 2001.77 273.207 Q2005.15 273.207 2007.08 270.545 Q2009.02 267.86 2009.02 263.161 Z\" fill=\"#000000\" fill-rule=\"evenodd\" fill-opacity=\"1\" /><path clip-path=\"url(#clip230)\" d=\"M2035.52 254.156 Q2034.81 253.74 2033.95 253.555 Q2033.12 253.346 2032.1 253.346 Q2028.49 253.346 2026.54 255.707 Q2024.62 258.045 2024.62 262.443 L2024.62 276.101 L2020.34 276.101 L2020.34 250.175 L2024.62 250.175 L2024.62 254.203 Q2025.96 251.842 2028.12 250.707 Q2030.27 249.55 2033.35 249.55 Q2033.79 249.55 2034.32 249.619 Q2034.85 249.666 2035.5 249.781 L2035.52 254.156 Z\" fill=\"#000000\" fill-rule=\"evenodd\" fill-opacity=\"1\" /><path clip-path=\"url(#clip230)\" d=\"M2061.13 262.073 L2061.13 264.156 L2041.54 264.156 Q2041.82 268.554 2044.18 270.869 Q2046.57 273.161 2050.8 273.161 Q2053.26 273.161 2055.55 272.559 Q2057.86 271.957 2060.13 270.754 L2060.13 274.781 Q2057.84 275.753 2055.43 276.263 Q2053.02 276.772 2050.55 276.772 Q2044.34 276.772 2040.71 273.161 Q2037.1 269.55 2037.1 263.392 Q2037.1 257.027 2040.52 253.3 Q2043.97 249.55 2049.81 249.55 Q2055.04 249.55 2058.07 252.93 Q2061.13 256.286 2061.13 262.073 M2056.87 260.823 Q2056.82 257.328 2054.9 255.244 Q2053 253.161 2049.85 253.161 Q2046.29 253.161 2044.14 255.175 Q2042.01 257.189 2041.68 260.846 L2056.87 260.823 Z\" fill=\"#000000\" fill-rule=\"evenodd\" fill-opacity=\"1\" /><path clip-path=\"url(#clip230)\" d=\"M2085.18 254.11 L2085.18 240.082 L2089.44 240.082 L2089.44 276.101 L2085.18 276.101 L2085.18 272.212 Q2083.83 274.527 2081.77 275.661 Q2079.74 276.772 2076.87 276.772 Q2072.17 276.772 2069.2 273.022 Q2066.26 269.272 2066.26 263.161 Q2066.26 257.05 2069.2 253.3 Q2072.17 249.55 2076.87 249.55 Q2079.74 249.55 2081.77 250.684 Q2083.83 251.795 2085.18 254.11 M2070.66 263.161 Q2070.66 267.86 2072.58 270.545 Q2074.53 273.207 2077.91 273.207 Q2081.29 273.207 2083.23 270.545 Q2085.18 267.86 2085.18 263.161 Q2085.18 258.462 2083.23 255.8 Q2081.29 253.115 2077.91 253.115 Q2074.53 253.115 2072.58 255.8 Q2070.66 258.462 2070.66 263.161 Z\" fill=\"#000000\" fill-rule=\"evenodd\" fill-opacity=\"1\" /><path clip-path=\"url(#clip230)\" d=\"M2109.99 263.068 Q2104.83 263.068 2102.84 264.249 Q2100.85 265.429 2100.85 268.277 Q2100.85 270.545 2102.33 271.888 Q2103.83 273.207 2106.4 273.207 Q2109.94 273.207 2112.07 270.707 Q2114.23 268.184 2114.23 264.017 L2114.23 263.068 L2109.99 263.068 M2118.49 261.309 L2118.49 276.101 L2114.23 276.101 L2114.23 272.166 Q2112.77 274.527 2110.59 275.661 Q2108.42 276.772 2105.27 276.772 Q2101.29 276.772 2098.93 274.55 Q2096.59 272.304 2096.59 268.554 Q2096.59 264.179 2099.51 261.957 Q2102.44 259.735 2108.26 259.735 L2114.23 259.735 L2114.23 259.318 Q2114.23 256.379 2112.28 254.781 Q2110.36 253.161 2106.87 253.161 Q2104.64 253.161 2102.54 253.693 Q2100.43 254.226 2098.49 255.291 L2098.49 251.355 Q2100.82 250.453 2103.02 250.013 Q2105.22 249.55 2107.31 249.55 Q2112.93 249.55 2115.71 252.467 Q2118.49 255.383 2118.49 261.309 Z\" fill=\"#000000\" fill-rule=\"evenodd\" fill-opacity=\"1\" /><path clip-path=\"url(#clip230)\" d=\"M2131.47 242.814 L2131.47 250.175 L2140.25 250.175 L2140.25 253.485 L2131.47 253.485 L2131.47 267.559 Q2131.47 270.73 2132.33 271.633 Q2133.21 272.536 2135.87 272.536 L2140.25 272.536 L2140.25 276.101 L2135.87 276.101 Q2130.94 276.101 2129.07 274.272 Q2127.19 272.42 2127.19 267.559 L2127.19 253.485 L2124.07 253.485 L2124.07 250.175 L2127.19 250.175 L2127.19 242.814 L2131.47 242.814 Z\" fill=\"#000000\" fill-rule=\"evenodd\" fill-opacity=\"1\" /><path clip-path=\"url(#clip230)\" d=\"M2155.89 253.161 Q2152.47 253.161 2150.48 255.846 Q2148.49 258.508 2148.49 263.161 Q2148.49 267.814 2150.45 270.499 Q2152.44 273.161 2155.89 273.161 Q2159.3 273.161 2161.29 270.476 Q2163.28 267.791 2163.28 263.161 Q2163.28 258.555 2161.29 255.869 Q2159.3 253.161 2155.89 253.161 M2155.89 249.55 Q2161.45 249.55 2164.62 253.161 Q2167.79 256.772 2167.79 263.161 Q2167.79 269.527 2164.62 273.161 Q2161.45 276.772 2155.89 276.772 Q2150.32 276.772 2147.14 273.161 Q2144 269.527 2144 263.161 Q2144 256.772 2147.14 253.161 Q2150.32 249.55 2155.89 249.55 Z\" fill=\"#000000\" fill-rule=\"evenodd\" fill-opacity=\"1\" /><path clip-path=\"url(#clip230)\" d=\"M2189.87 254.156 Q2189.16 253.74 2188.3 253.555 Q2187.47 253.346 2186.45 253.346 Q2182.84 253.346 2180.89 255.707 Q2178.97 258.045 2178.97 262.443 L2178.97 276.101 L2174.69 276.101 L2174.69 250.175 L2178.97 250.175 L2178.97 254.203 Q2180.31 251.842 2182.47 250.707 Q2184.62 249.55 2187.7 249.55 Q2188.14 249.55 2188.67 249.619 Q2189.2 249.666 2189.85 249.781 L2189.87 254.156 Z\" fill=\"#000000\" fill-rule=\"evenodd\" fill-opacity=\"1\" /><path clip-path=\"url(#clip230)\" d=\"M2227.08 256.73 Q2227.08 257.058 2226.87 257.831 L2222.28 276.148 Q2221.27 280.223 2217.99 283.081 Q2214.73 285.938 2211.03 285.938 Q2208.81 285.938 2207.38 284.744 Q2205.95 283.572 2205.95 281.769 Q2205.95 280.176 2206.79 279.403 Q2207.64 278.654 2208.65 278.654 Q2208.97 278.654 2209.32 278.747 Q2209.68 278.841 2210.05 279.239 Q2210.43 279.638 2210.43 280.317 Q2210.43 281.418 2209.46 282.284 Q2209 282.682 2208.55 282.776 Q2208.13 282.87 2207.4 282.87 Q2207.68 283.526 2208.2 283.971 Q2208.72 284.416 2209.3 284.58 Q2209.89 284.767 2210.26 284.814 Q2210.66 284.884 2211.03 284.884 Q2214.03 284.884 2216.33 281.863 Q2217.01 280.949 2217.5 280.036 Q2218.01 279.146 2218.39 278.045 Q2218.76 276.967 2218.93 276.382 Q2219.11 275.796 2219.44 274.461 Q2217.26 276.639 2214.59 276.639 Q2213.47 276.639 2212.46 276.335 Q2211.48 276.03 2210.61 275.398 Q2209.75 274.742 2209.23 273.595 Q2208.74 272.447 2208.74 270.924 Q2208.74 269.308 2209.37 267.106 Q2210 264.905 2211.53 260.853 Q2212.35 258.581 2212.35 257.48 Q2212.35 256.941 2212.23 256.613 Q2212.11 256.262 2211.88 256.145 Q2211.64 256.004 2211.5 255.981 Q2211.39 255.957 2211.15 255.957 Q2209.77 255.957 2208.48 257.363 Q2207.19 258.768 2206.3 261.907 Q2206.12 262.492 2206 262.633 Q2205.88 262.773 2205.53 262.773 Q2204.94 262.75 2204.94 262.281 Q2204.94 262.094 2205.16 261.368 Q2205.37 260.618 2205.86 259.518 Q2206.37 258.393 2207.08 257.386 Q2207.78 256.356 2208.88 255.629 Q2210 254.903 2211.29 254.903 Q2213.05 254.903 2214.13 256.051 Q2215.23 257.175 2215.23 258.838 Q2215.23 259.518 2215.04 260.127 Q2214.88 260.712 2214.27 262.281 Q2211.81 268.606 2211.81 271.697 Q2211.81 272.447 2211.92 273.079 Q2212.06 273.688 2212.37 274.297 Q2212.67 274.883 2213.28 275.234 Q2213.92 275.562 2214.78 275.562 Q2215.88 275.562 2216.91 275.047 Q2217.97 274.508 2218.62 273.782 Q2219.3 273.056 2219.7 272.447 Q2220.12 271.814 2220.22 271.486 L2222.37 262.867 L2223.33 259.026 Q2223.78 256.941 2223.99 256.426 Q2224.27 255.934 2224.76 255.676 Q2225.25 255.419 2225.67 255.419 Q2226.26 255.419 2226.66 255.77 Q2227.08 256.121 2227.08 256.73 Z\" fill=\"#000000\" fill-rule=\"evenodd\" fill-opacity=\"1\" /></svg>\n"
      ]
     },
     "execution_count": 19,
     "metadata": {},
     "output_type": "execute_result"
    }
   ],
   "source": [
    "ts = solution.t;\n",
    "xs = solution[1, :];  # Same as `xs = [u[1] for u in solution.u];`\n",
    "ys = solution[2, :];  # Same as `ys = [u[2] for u in solution.u];`\n",
    "a, b, c, d = params;\n",
    "plt = plot(ts, [xs ys];\n",
    "    line=([1 1.5], [:solid  :dash]),\n",
    "    label=[\"prey \\$x\\$\" \"predator \\$y\\$\"],\n",
    "    title=\"Lotoka-Volterra \\$a=$(a), b=$(b), c=$(c), d=$(d)\\$\",\n",
    "    xlabel=\"\\$t\\$\",\n",
    ")"
   ]
  },
  {
   "cell_type": "code",
   "execution_count": 20,
   "id": "5b2b4762",
   "metadata": {
    "ExecuteTime": {
     "end_time": "2023-01-28T14:43:07.322000+09:00",
     "start_time": "2023-01-28T05:43:06.747Z"
    }
   },
   "outputs": [],
   "source": [
    "savefig(plt, \"lotka_volterra_plot1.svg\")  # 表示できなくても←これでファイルに保存できる"
   ]
  },
  {
   "cell_type": "markdown",
   "id": "a3b2c9b6",
   "metadata": {},
   "source": [
    "### コード11-14. 計算手法（アルゴリズム）・追加パラメータ指定の例"
   ]
  },
  {
   "cell_type": "code",
   "execution_count": 21,
   "id": "1d5093b4",
   "metadata": {
    "ExecuteTime": {
     "end_time": "2023-01-28T14:43:53.096000+09:00",
     "start_time": "2023-01-28T05:43:51.093Z"
    }
   },
   "outputs": [],
   "source": [
    "result = solve(prob, RK4(), dt=0.05, adaptive=false);"
   ]
  },
  {
   "cell_type": "code",
   "execution_count": 23,
   "id": "51de0ef5",
   "metadata": {
    "ExecuteTime": {
     "end_time": "2023-01-28T14:45:00.007000+09:00",
     "start_time": "2023-01-28T05:44:59.448Z"
    }
   },
   "outputs": [
    {
     "data": {
      "image/svg+xml": [
       "<?xml version=\"1.0\" encoding=\"utf-8\"?>\n",
       "<svg xmlns=\"http://www.w3.org/2000/svg\" xmlns:xlink=\"http://www.w3.org/1999/xlink\" width=\"600\" height=\"400\" viewBox=\"0 0 2400 1600\">\n",
       "<defs>\n",
       "  <clipPath id=\"clip310\">\n",
       "    <rect x=\"0\" y=\"0\" width=\"2400\" height=\"1600\"/>\n",
       "  </clipPath>\n",
       "</defs>\n",
       "<path clip-path=\"url(#clip310)\" d=\"\n",
       "M0 1600 L2400 1600 L2400 0 L0 0  Z\n",
       "  \" fill=\"#ffffff\" fill-rule=\"evenodd\" fill-opacity=\"1\"/>\n",
       "<defs>\n",
       "  <clipPath id=\"clip311\">\n",
       "    <rect x=\"480\" y=\"0\" width=\"1681\" height=\"1600\"/>\n",
       "  </clipPath>\n",
       "</defs>\n",
       "<defs>\n",
       "  <clipPath id=\"clip312\">\n",
       "    <rect x=\"110\" y=\"123\" width=\"2243\" height=\"1301\"/>\n",
       "  </clipPath>\n",
       "</defs>\n",
       "<path clip-path=\"url(#clip310)\" d=\"\n",
       "M110.881 1423.18 L2352.76 1423.18 L2352.76 123.472 L110.881 123.472  Z\n",
       "  \" fill=\"#ffffff\" fill-rule=\"evenodd\" fill-opacity=\"1\"/>\n",
       "<polyline clip-path=\"url(#clip312)\" style=\"stroke:#000000; stroke-linecap:round; stroke-linejoin:round; stroke-width:2; stroke-opacity:0.1; fill:none\" points=\"\n",
       "  174.33,1423.18 174.33,123.472 \n",
       "  \"/>\n",
       "<polyline clip-path=\"url(#clip312)\" style=\"stroke:#000000; stroke-linecap:round; stroke-linejoin:round; stroke-width:2; stroke-opacity:0.1; fill:none\" points=\"\n",
       "  703.074,1423.18 703.074,123.472 \n",
       "  \"/>\n",
       "<polyline clip-path=\"url(#clip312)\" style=\"stroke:#000000; stroke-linecap:round; stroke-linejoin:round; stroke-width:2; stroke-opacity:0.1; fill:none\" points=\"\n",
       "  1231.82,1423.18 1231.82,123.472 \n",
       "  \"/>\n",
       "<polyline clip-path=\"url(#clip312)\" style=\"stroke:#000000; stroke-linecap:round; stroke-linejoin:round; stroke-width:2; stroke-opacity:0.1; fill:none\" points=\"\n",
       "  1760.56,1423.18 1760.56,123.472 \n",
       "  \"/>\n",
       "<polyline clip-path=\"url(#clip312)\" style=\"stroke:#000000; stroke-linecap:round; stroke-linejoin:round; stroke-width:2; stroke-opacity:0.1; fill:none\" points=\"\n",
       "  2289.31,1423.18 2289.31,123.472 \n",
       "  \"/>\n",
       "<polyline clip-path=\"url(#clip310)\" style=\"stroke:#000000; stroke-linecap:round; stroke-linejoin:round; stroke-width:4; stroke-opacity:1; fill:none\" points=\"\n",
       "  110.881,1423.18 2352.76,1423.18 \n",
       "  \"/>\n",
       "<polyline clip-path=\"url(#clip310)\" style=\"stroke:#000000; stroke-linecap:round; stroke-linejoin:round; stroke-width:4; stroke-opacity:1; fill:none\" points=\"\n",
       "  174.33,1423.18 174.33,1404.28 \n",
       "  \"/>\n",
       "<polyline clip-path=\"url(#clip310)\" style=\"stroke:#000000; stroke-linecap:round; stroke-linejoin:round; stroke-width:4; stroke-opacity:1; fill:none\" points=\"\n",
       "  703.074,1423.18 703.074,1404.28 \n",
       "  \"/>\n",
       "<polyline clip-path=\"url(#clip310)\" style=\"stroke:#000000; stroke-linecap:round; stroke-linejoin:round; stroke-width:4; stroke-opacity:1; fill:none\" points=\"\n",
       "  1231.82,1423.18 1231.82,1404.28 \n",
       "  \"/>\n",
       "<polyline clip-path=\"url(#clip310)\" style=\"stroke:#000000; stroke-linecap:round; stroke-linejoin:round; stroke-width:4; stroke-opacity:1; fill:none\" points=\"\n",
       "  1760.56,1423.18 1760.56,1404.28 \n",
       "  \"/>\n",
       "<polyline clip-path=\"url(#clip310)\" style=\"stroke:#000000; stroke-linecap:round; stroke-linejoin:round; stroke-width:4; stroke-opacity:1; fill:none\" points=\"\n",
       "  2289.31,1423.18 2289.31,1404.28 \n",
       "  \"/>\n",
       "<path clip-path=\"url(#clip310)\" d=\"M174.33 1454.1 Q170.719 1454.1 168.89 1457.66 Q167.085 1461.2 167.085 1468.33 Q167.085 1475.44 168.89 1479.01 Q170.719 1482.55 174.33 1482.55 Q177.964 1482.55 179.77 1479.01 Q181.599 1475.44 181.599 1468.33 Q181.599 1461.2 179.77 1457.66 Q177.964 1454.1 174.33 1454.1 M174.33 1450.39 Q180.14 1450.39 183.196 1455 Q186.275 1459.58 186.275 1468.33 Q186.275 1477.06 183.196 1481.67 Q180.14 1486.25 174.33 1486.25 Q168.52 1486.25 165.441 1481.67 Q162.386 1477.06 162.386 1468.33 Q162.386 1459.58 165.441 1455 Q168.52 1450.39 174.33 1450.39 Z\" fill=\"#000000\" fill-rule=\"evenodd\" fill-opacity=\"1\" /><path clip-path=\"url(#clip310)\" d=\"M693.352 1451.02 L711.709 1451.02 L711.709 1454.96 L697.635 1454.96 L697.635 1463.43 Q698.653 1463.08 699.672 1462.92 Q700.69 1462.73 701.709 1462.73 Q707.496 1462.73 710.875 1465.9 Q714.255 1469.08 714.255 1474.49 Q714.255 1480.07 710.783 1483.17 Q707.31 1486.25 700.991 1486.25 Q698.815 1486.25 696.547 1485.88 Q694.301 1485.51 691.894 1484.77 L691.894 1480.07 Q693.977 1481.2 696.199 1481.76 Q698.422 1482.32 700.898 1482.32 Q704.903 1482.32 707.241 1480.21 Q709.579 1478.1 709.579 1474.49 Q709.579 1470.88 707.241 1468.77 Q704.903 1466.67 700.898 1466.67 Q699.023 1466.67 697.148 1467.08 Q695.297 1467.5 693.352 1468.38 L693.352 1451.02 Z\" fill=\"#000000\" fill-rule=\"evenodd\" fill-opacity=\"1\" /><path clip-path=\"url(#clip310)\" d=\"M1206.51 1481.64 L1214.14 1481.64 L1214.14 1455.28 L1205.83 1456.95 L1205.83 1452.69 L1214.1 1451.02 L1218.77 1451.02 L1218.77 1481.64 L1226.41 1481.64 L1226.41 1485.58 L1206.51 1485.58 L1206.51 1481.64 Z\" fill=\"#000000\" fill-rule=\"evenodd\" fill-opacity=\"1\" /><path clip-path=\"url(#clip310)\" d=\"M1245.86 1454.1 Q1242.25 1454.1 1240.42 1457.66 Q1238.61 1461.2 1238.61 1468.33 Q1238.61 1475.44 1240.42 1479.01 Q1242.25 1482.55 1245.86 1482.55 Q1249.49 1482.55 1251.3 1479.01 Q1253.13 1475.44 1253.13 1468.33 Q1253.13 1461.2 1251.3 1457.66 Q1249.49 1454.1 1245.86 1454.1 M1245.86 1450.39 Q1251.67 1450.39 1254.72 1455 Q1257.8 1459.58 1257.8 1468.33 Q1257.8 1477.06 1254.72 1481.67 Q1251.67 1486.25 1245.86 1486.25 Q1240.05 1486.25 1236.97 1481.67 Q1233.91 1477.06 1233.91 1468.33 Q1233.91 1459.58 1236.97 1455 Q1240.05 1450.39 1245.86 1450.39 Z\" fill=\"#000000\" fill-rule=\"evenodd\" fill-opacity=\"1\" /><path clip-path=\"url(#clip310)\" d=\"M1735.75 1481.64 L1743.39 1481.64 L1743.39 1455.28 L1735.08 1456.95 L1735.08 1452.69 L1743.34 1451.02 L1748.02 1451.02 L1748.02 1481.64 L1755.66 1481.64 L1755.66 1485.58 L1735.75 1485.58 L1735.75 1481.64 Z\" fill=\"#000000\" fill-rule=\"evenodd\" fill-opacity=\"1\" /><path clip-path=\"url(#clip310)\" d=\"M1765.15 1451.02 L1783.5 1451.02 L1783.5 1454.96 L1769.43 1454.96 L1769.43 1463.43 Q1770.45 1463.08 1771.47 1462.92 Q1772.48 1462.73 1773.5 1462.73 Q1779.29 1462.73 1782.67 1465.9 Q1786.05 1469.08 1786.05 1474.49 Q1786.05 1480.07 1782.58 1483.17 Q1779.1 1486.25 1772.78 1486.25 Q1770.61 1486.25 1768.34 1485.88 Q1766.09 1485.51 1763.69 1484.77 L1763.69 1480.07 Q1765.77 1481.2 1767.99 1481.76 Q1770.22 1482.32 1772.69 1482.32 Q1776.7 1482.32 1779.03 1480.21 Q1781.37 1478.1 1781.37 1474.49 Q1781.37 1470.88 1779.03 1468.77 Q1776.7 1466.67 1772.69 1466.67 Q1770.82 1466.67 1768.94 1467.08 Q1767.09 1467.5 1765.15 1468.38 L1765.15 1451.02 Z\" fill=\"#000000\" fill-rule=\"evenodd\" fill-opacity=\"1\" /><path clip-path=\"url(#clip310)\" d=\"M2268.08 1481.64 L2284.4 1481.64 L2284.4 1485.58 L2262.45 1485.58 L2262.45 1481.64 Q2265.12 1478.89 2269.7 1474.26 Q2274.31 1469.61 2275.49 1468.27 Q2277.73 1465.74 2278.61 1464.01 Q2279.51 1462.25 2279.51 1460.56 Q2279.51 1457.8 2277.57 1456.07 Q2275.65 1454.33 2272.55 1454.33 Q2270.35 1454.33 2267.89 1455.09 Q2265.46 1455.86 2262.69 1457.41 L2262.69 1452.69 Q2265.51 1451.55 2267.96 1450.97 Q2270.42 1450.39 2272.45 1450.39 Q2277.83 1450.39 2281.02 1453.08 Q2284.21 1455.77 2284.21 1460.26 Q2284.21 1462.39 2283.4 1464.31 Q2282.62 1466.2 2280.51 1468.8 Q2279.93 1469.47 2276.83 1472.69 Q2273.73 1475.88 2268.08 1481.64 Z\" fill=\"#000000\" fill-rule=\"evenodd\" fill-opacity=\"1\" /><path clip-path=\"url(#clip310)\" d=\"M2304.21 1454.1 Q2300.6 1454.1 2298.77 1457.66 Q2296.97 1461.2 2296.97 1468.33 Q2296.97 1475.44 2298.77 1479.01 Q2300.6 1482.55 2304.21 1482.55 Q2307.85 1482.55 2309.65 1479.01 Q2311.48 1475.44 2311.48 1468.33 Q2311.48 1461.2 2309.65 1457.66 Q2307.85 1454.1 2304.21 1454.1 M2304.21 1450.39 Q2310.02 1450.39 2313.08 1455 Q2316.16 1459.58 2316.16 1468.33 Q2316.16 1477.06 2313.08 1481.67 Q2310.02 1486.25 2304.21 1486.25 Q2298.4 1486.25 2295.33 1481.67 Q2292.27 1477.06 2292.27 1468.33 Q2292.27 1459.58 2295.33 1455 Q2298.4 1450.39 2304.21 1450.39 Z\" fill=\"#000000\" fill-rule=\"evenodd\" fill-opacity=\"1\" /><path clip-path=\"url(#clip310)\" d=\"M1240.29 1531.91 Q1240.29 1532.81 1239.87 1533.04 Q1239.45 1533.23 1238.29 1533.23 L1232.11 1533.23 L1227.21 1552.69 Q1226.83 1554.39 1226.83 1555.84 Q1226.83 1557.45 1227.31 1558.16 Q1227.83 1558.87 1228.89 1558.87 Q1230.98 1558.87 1233.24 1556.97 Q1235.52 1555.07 1237.46 1550.43 Q1237.71 1549.82 1237.84 1549.69 Q1238 1549.53 1238.42 1549.53 Q1239.23 1549.53 1239.23 1550.17 Q1239.23 1550.4 1238.78 1551.43 Q1238.36 1552.46 1237.42 1553.97 Q1236.52 1555.49 1235.33 1556.9 Q1234.17 1558.32 1232.4 1559.35 Q1230.63 1560.35 1228.73 1560.35 Q1226.05 1560.35 1224.35 1558.64 Q1222.67 1556.94 1222.67 1554.26 Q1222.67 1553.39 1223.35 1550.62 Q1224.03 1547.82 1227.7 1533.23 L1221.87 1533.23 Q1221.06 1533.23 1220.74 1533.2 Q1220.45 1533.17 1220.23 1533.01 Q1220.03 1532.81 1220.03 1532.43 Q1220.03 1531.82 1220.29 1531.56 Q1220.55 1531.27 1220.87 1531.24 Q1221.22 1531.17 1222.03 1531.17 L1228.21 1531.17 L1230.79 1520.71 Q1231.05 1519.67 1231.69 1519.09 Q1232.37 1518.48 1232.75 1518.42 Q1233.14 1518.32 1233.43 1518.32 Q1234.3 1518.32 1234.81 1518.81 Q1235.33 1519.26 1235.33 1520.09 Q1235.33 1520.54 1232.62 1531.17 L1238.42 1531.17 Q1239.16 1531.17 1239.45 1531.2 Q1239.77 1531.24 1240.03 1531.4 Q1240.29 1531.56 1240.29 1531.91 Z\" fill=\"#000000\" fill-rule=\"evenodd\" fill-opacity=\"1\" /><polyline clip-path=\"url(#clip312)\" style=\"stroke:#000000; stroke-linecap:round; stroke-linejoin:round; stroke-width:2; stroke-opacity:0.1; fill:none\" points=\"\n",
       "  110.881,1395.93 2352.76,1395.93 \n",
       "  \"/>\n",
       "<polyline clip-path=\"url(#clip312)\" style=\"stroke:#000000; stroke-linecap:round; stroke-linejoin:round; stroke-width:2; stroke-opacity:0.1; fill:none\" points=\"\n",
       "  110.881,1007.35 2352.76,1007.35 \n",
       "  \"/>\n",
       "<polyline clip-path=\"url(#clip312)\" style=\"stroke:#000000; stroke-linecap:round; stroke-linejoin:round; stroke-width:2; stroke-opacity:0.1; fill:none\" points=\"\n",
       "  110.881,618.763 2352.76,618.763 \n",
       "  \"/>\n",
       "<polyline clip-path=\"url(#clip312)\" style=\"stroke:#000000; stroke-linecap:round; stroke-linejoin:round; stroke-width:2; stroke-opacity:0.1; fill:none\" points=\"\n",
       "  110.881,230.178 2352.76,230.178 \n",
       "  \"/>\n",
       "<polyline clip-path=\"url(#clip310)\" style=\"stroke:#000000; stroke-linecap:round; stroke-linejoin:round; stroke-width:4; stroke-opacity:1; fill:none\" points=\"\n",
       "  110.881,1423.18 110.881,123.472 \n",
       "  \"/>\n",
       "<polyline clip-path=\"url(#clip310)\" style=\"stroke:#000000; stroke-linecap:round; stroke-linejoin:round; stroke-width:4; stroke-opacity:1; fill:none\" points=\"\n",
       "  110.881,1395.93 129.779,1395.93 \n",
       "  \"/>\n",
       "<polyline clip-path=\"url(#clip310)\" style=\"stroke:#000000; stroke-linecap:round; stroke-linejoin:round; stroke-width:4; stroke-opacity:1; fill:none\" points=\"\n",
       "  110.881,1007.35 129.779,1007.35 \n",
       "  \"/>\n",
       "<polyline clip-path=\"url(#clip310)\" style=\"stroke:#000000; stroke-linecap:round; stroke-linejoin:round; stroke-width:4; stroke-opacity:1; fill:none\" points=\"\n",
       "  110.881,618.763 129.779,618.763 \n",
       "  \"/>\n",
       "<polyline clip-path=\"url(#clip310)\" style=\"stroke:#000000; stroke-linecap:round; stroke-linejoin:round; stroke-width:4; stroke-opacity:1; fill:none\" points=\"\n",
       "  110.881,230.178 129.779,230.178 \n",
       "  \"/>\n",
       "<path clip-path=\"url(#clip310)\" d=\"M62.9365 1381.73 Q59.3254 1381.73 57.4967 1385.3 Q55.6912 1388.84 55.6912 1395.97 Q55.6912 1403.07 57.4967 1406.64 Q59.3254 1410.18 62.9365 1410.18 Q66.5707 1410.18 68.3763 1406.64 Q70.205 1403.07 70.205 1395.97 Q70.205 1388.84 68.3763 1385.3 Q66.5707 1381.73 62.9365 1381.73 M62.9365 1378.03 Q68.7467 1378.03 71.8022 1382.63 Q74.8809 1387.22 74.8809 1395.97 Q74.8809 1404.69 71.8022 1409.3 Q68.7467 1413.88 62.9365 1413.88 Q57.1264 1413.88 54.0477 1409.3 Q50.9921 1404.69 50.9921 1395.97 Q50.9921 1387.22 54.0477 1382.63 Q57.1264 1378.03 62.9365 1378.03 Z\" fill=\"#000000\" fill-rule=\"evenodd\" fill-opacity=\"1\" /><path clip-path=\"url(#clip310)\" d=\"M54.9736 1020.69 L62.6124 1020.69 L62.6124 994.327 L54.3023 995.994 L54.3023 991.734 L62.5661 990.068 L67.242 990.068 L67.242 1020.69 L74.8809 1020.69 L74.8809 1024.63 L54.9736 1024.63 L54.9736 1020.69 Z\" fill=\"#000000\" fill-rule=\"evenodd\" fill-opacity=\"1\" /><path clip-path=\"url(#clip310)\" d=\"M58.5615 632.108 L74.8809 632.108 L74.8809 636.043 L52.9366 636.043 L52.9366 632.108 Q55.5986 629.353 60.1819 624.723 Q64.7883 620.071 65.9689 618.728 Q68.2143 616.205 69.0939 614.469 Q69.9967 612.709 69.9967 611.02 Q69.9967 608.265 68.0522 606.529 Q66.1309 604.793 63.0291 604.793 Q60.83 604.793 58.3763 605.557 Q55.9458 606.321 53.168 607.872 L53.168 603.149 Q55.9921 602.015 58.4458 601.436 Q60.8995 600.858 62.9365 600.858 Q68.3068 600.858 71.5013 603.543 Q74.6957 606.228 74.6957 610.719 Q74.6957 612.848 73.8855 614.77 Q73.0985 616.668 70.992 619.26 Q70.4133 619.932 67.3115 623.149 Q64.2096 626.344 58.5615 632.108 Z\" fill=\"#000000\" fill-rule=\"evenodd\" fill-opacity=\"1\" /><path clip-path=\"url(#clip310)\" d=\"M67.7513 228.823 Q71.1078 229.541 72.9827 231.81 Q74.8809 234.078 74.8809 237.411 Q74.8809 242.527 71.3624 245.328 Q67.8439 248.129 61.3624 248.129 Q59.1865 248.129 56.8717 247.689 Q54.5801 247.272 52.1264 246.416 L52.1264 241.902 Q54.0708 243.036 56.3856 243.615 Q58.7004 244.194 61.2236 244.194 Q65.6217 244.194 67.9133 242.458 Q70.2281 240.722 70.2281 237.411 Q70.2281 234.356 68.0754 232.643 Q65.9457 230.907 62.1263 230.907 L58.0986 230.907 L58.0986 227.064 L62.3115 227.064 Q65.7606 227.064 67.5893 225.698 Q69.418 224.31 69.418 221.717 Q69.418 219.055 67.5198 217.643 Q65.6448 216.208 62.1263 216.208 Q60.205 216.208 58.006 216.624 Q55.8069 217.041 53.168 217.921 L53.168 213.754 Q55.8301 213.013 58.1449 212.643 Q60.4828 212.273 62.543 212.273 Q67.867 212.273 70.9689 214.703 Q74.0707 217.111 74.0707 221.231 Q74.0707 224.101 72.4272 226.092 Q70.7837 228.06 67.7513 228.823 Z\" fill=\"#000000\" fill-rule=\"evenodd\" fill-opacity=\"1\" /><path clip-path=\"url(#clip310)\" d=\"M469.89 14.7801 L478.073 14.7801 L478.073 68.3736 L507.523 68.3736 L507.523 75.2601 L469.89 75.2601 L469.89 14.7801 Z\" fill=\"#000000\" fill-rule=\"evenodd\" fill-opacity=\"1\" /><path clip-path=\"url(#clip310)\" d=\"M531.909 35.1157 Q525.914 35.1157 522.43 39.8147 Q518.946 44.4733 518.946 52.6156 Q518.946 60.7579 522.389 65.4569 Q525.873 70.1155 531.909 70.1155 Q537.864 70.1155 541.348 65.4164 Q544.831 60.7174 544.831 52.6156 Q544.831 44.5543 541.348 39.8552 Q537.864 35.1157 531.909 35.1157 M531.909 28.7963 Q541.631 28.7963 547.181 35.1157 Q552.731 41.4351 552.731 52.6156 Q552.731 63.7556 547.181 70.1155 Q541.631 76.4349 531.909 76.4349 Q522.146 76.4349 516.597 70.1155 Q511.087 63.7556 511.087 52.6156 Q511.087 41.4351 516.597 35.1157 Q522.146 28.7963 531.909 28.7963 Z\" fill=\"#000000\" fill-rule=\"evenodd\" fill-opacity=\"1\" /><path clip-path=\"url(#clip310)\" d=\"M572.459 17.0081 L572.459 29.89 L587.812 29.89 L587.812 35.6828 L572.459 35.6828 L572.459 60.3123 Q572.459 65.862 573.957 67.4419 Q575.497 69.0217 580.155 69.0217 L587.812 69.0217 L587.812 75.2601 L580.155 75.2601 Q571.527 75.2601 568.246 72.0599 Q564.964 68.8192 564.964 60.3123 L564.964 35.6828 L559.496 35.6828 L559.496 29.89 L564.964 29.89 L564.964 17.0081 L572.459 17.0081 Z\" fill=\"#000000\" fill-rule=\"evenodd\" fill-opacity=\"1\" /><path clip-path=\"url(#clip310)\" d=\"M615.196 35.1157 Q609.2 35.1157 605.717 39.8147 Q602.233 44.4733 602.233 52.6156 Q602.233 60.7579 605.676 65.4569 Q609.16 70.1155 615.196 70.1155 Q621.15 70.1155 624.634 65.4164 Q628.118 60.7174 628.118 52.6156 Q628.118 44.5543 624.634 39.8552 Q621.15 35.1157 615.196 35.1157 M615.196 28.7963 Q624.918 28.7963 630.468 35.1157 Q636.017 41.4351 636.017 52.6156 Q636.017 63.7556 630.468 70.1155 Q624.918 76.4349 615.196 76.4349 Q605.433 76.4349 599.883 70.1155 Q594.374 63.7556 594.374 52.6156 Q594.374 41.4351 599.883 35.1157 Q605.433 28.7963 615.196 28.7963 Z\" fill=\"#000000\" fill-rule=\"evenodd\" fill-opacity=\"1\" /><path clip-path=\"url(#clip310)\" d=\"M648.089 12.2281 L655.583 12.2281 L655.583 49.4559 L677.823 29.89 L687.342 29.89 L663.28 51.1167 L688.355 75.2601 L678.633 75.2601 L655.583 53.1017 L655.583 75.2601 L648.089 75.2601 L648.089 12.2281 Z\" fill=\"#000000\" fill-rule=\"evenodd\" fill-opacity=\"1\" /><path clip-path=\"url(#clip310)\" d=\"M715.577 52.4535 Q706.544 52.4535 703.06 54.5195 Q699.576 56.5855 699.576 61.5681 Q699.576 65.538 702.169 67.8875 Q704.802 70.1965 709.298 70.1965 Q715.496 70.1965 719.223 65.8215 Q722.99 61.406 722.99 54.1144 L722.99 52.4535 L715.577 52.4535 M730.444 49.3748 L730.444 75.2601 L722.99 75.2601 L722.99 68.3736 Q720.438 72.5055 716.63 74.4905 Q712.822 76.4349 707.313 76.4349 Q700.346 76.4349 696.214 72.546 Q692.122 68.6166 692.122 62.0542 Q692.122 54.398 697.226 50.5091 Q702.371 46.6202 712.539 46.6202 L722.99 46.6202 L722.99 45.8911 Q722.99 40.7464 719.587 37.9513 Q716.225 35.1157 710.108 35.1157 Q706.219 35.1157 702.533 36.0474 Q698.847 36.9791 695.444 38.8425 L695.444 31.956 Q699.535 30.3761 703.384 29.6064 Q707.232 28.7963 710.878 28.7963 Q720.722 28.7963 725.583 33.9004 Q730.444 39.0045 730.444 49.3748 Z\" fill=\"#000000\" fill-rule=\"evenodd\" fill-opacity=\"1\" /><path clip-path=\"url(#clip310)\" d=\"M742.029 49.2128 L763.864 49.2128 L763.864 55.8563 L742.029 55.8563 L742.029 49.2128 Z\" fill=\"#000000\" fill-rule=\"evenodd\" fill-opacity=\"1\" /><path clip-path=\"url(#clip310)\" d=\"M786.792 75.2601 L763.702 14.7801 L772.249 14.7801 L791.41 65.7 L810.611 14.7801 L819.118 14.7801 L796.069 75.2601 L786.792 75.2601 Z\" fill=\"#000000\" fill-rule=\"evenodd\" fill-opacity=\"1\" /><path clip-path=\"url(#clip310)\" d=\"M838.765 35.1157 Q832.77 35.1157 829.286 39.8147 Q825.802 44.4733 825.802 52.6156 Q825.802 60.7579 829.245 65.4569 Q832.729 70.1155 838.765 70.1155 Q844.72 70.1155 848.204 65.4164 Q851.687 60.7174 851.687 52.6156 Q851.687 44.5543 848.204 39.8552 Q844.72 35.1157 838.765 35.1157 M838.765 28.7963 Q848.487 28.7963 854.037 35.1157 Q859.587 41.4351 859.587 52.6156 Q859.587 63.7556 854.037 70.1155 Q848.487 76.4349 838.765 76.4349 Q829.002 76.4349 823.453 70.1155 Q817.943 63.7556 817.943 52.6156 Q817.943 41.4351 823.453 35.1157 Q829.002 28.7963 838.765 28.7963 Z\" fill=\"#000000\" fill-rule=\"evenodd\" fill-opacity=\"1\" /><path clip-path=\"url(#clip310)\" d=\"M871.942 12.2281 L879.396 12.2281 L879.396 75.2601 L871.942 75.2601 L871.942 12.2281 Z\" fill=\"#000000\" fill-rule=\"evenodd\" fill-opacity=\"1\" /><path clip-path=\"url(#clip310)\" d=\"M902.364 17.0081 L902.364 29.89 L917.717 29.89 L917.717 35.6828 L902.364 35.6828 L902.364 60.3123 Q902.364 65.862 903.863 67.4419 Q905.402 69.0217 910.061 69.0217 L917.717 69.0217 L917.717 75.2601 L910.061 75.2601 Q901.433 75.2601 898.151 72.0599 Q894.87 68.8192 894.87 60.3123 L894.87 35.6828 L889.401 35.6828 L889.401 29.89 L894.87 29.89 L894.87 17.0081 L902.364 17.0081 Z\" fill=\"#000000\" fill-rule=\"evenodd\" fill-opacity=\"1\" /><path clip-path=\"url(#clip310)\" d=\"M966.328 50.7116 L966.328 54.3575 L932.057 54.3575 Q932.543 62.0542 936.675 66.1051 Q940.848 70.1155 948.261 70.1155 Q952.555 70.1155 956.565 69.0622 Q960.616 68.009 964.586 65.9025 L964.586 72.9511 Q960.576 74.6525 956.363 75.5437 Q952.15 76.4349 947.815 76.4349 Q936.959 76.4349 930.599 70.1155 Q924.28 63.7961 924.28 53.0207 Q924.28 41.8807 930.275 35.3587 Q936.311 28.7963 946.519 28.7963 Q955.674 28.7963 960.981 34.7106 Q966.328 40.5844 966.328 50.7116 M958.874 48.5242 Q958.793 42.4073 955.431 38.7615 Q952.109 35.1157 946.6 35.1157 Q940.362 35.1157 936.594 38.64 Q932.868 42.1642 932.3 48.5647 L958.874 48.5242 Z\" fill=\"#000000\" fill-rule=\"evenodd\" fill-opacity=\"1\" /><path clip-path=\"url(#clip310)\" d=\"M1004.85 36.8576 Q1003.6 36.1284 1002.1 35.8043 Q1000.64 35.4397 998.857 35.4397 Q992.537 35.4397 989.135 39.5717 Q985.772 43.6631 985.772 51.3598 L985.772 75.2601 L978.278 75.2601 L978.278 29.89 L985.772 29.89 L985.772 36.9386 Q988.122 32.8066 991.889 30.8217 Q995.657 28.7963 1001.04 28.7963 Q1001.81 28.7963 1002.75 28.9178 Q1003.68 28.9988 1004.81 29.2013 L1004.85 36.8576 Z\" fill=\"#000000\" fill-rule=\"evenodd\" fill-opacity=\"1\" /><path clip-path=\"url(#clip310)\" d=\"M1037.5 36.8576 Q1036.25 36.1284 1034.75 35.8043 Q1033.29 35.4397 1031.51 35.4397 Q1025.19 35.4397 1021.78 39.5717 Q1018.42 43.6631 1018.42 51.3598 L1018.42 75.2601 L1010.93 75.2601 L1010.93 29.89 L1018.42 29.89 L1018.42 36.9386 Q1020.77 32.8066 1024.54 30.8217 Q1028.31 28.7963 1033.69 28.7963 Q1034.46 28.7963 1035.4 28.9178 Q1036.33 28.9988 1037.46 29.2013 L1037.5 36.8576 Z\" fill=\"#000000\" fill-rule=\"evenodd\" fill-opacity=\"1\" /><path clip-path=\"url(#clip310)\" d=\"M1065.94 52.4535 Q1056.91 52.4535 1053.42 54.5195 Q1049.94 56.5855 1049.94 61.5681 Q1049.94 65.538 1052.53 67.8875 Q1055.16 70.1965 1059.66 70.1965 Q1065.86 70.1965 1069.59 65.8215 Q1073.35 61.406 1073.35 54.1144 L1073.35 52.4535 L1065.94 52.4535 M1080.81 49.3748 L1080.81 75.2601 L1073.35 75.2601 L1073.35 68.3736 Q1070.8 72.5055 1066.99 74.4905 Q1063.19 76.4349 1057.68 76.4349 Q1050.71 76.4349 1046.58 72.546 Q1042.49 68.6166 1042.49 62.0542 Q1042.49 54.398 1047.59 50.5091 Q1052.73 46.6202 1062.9 46.6202 L1073.35 46.6202 L1073.35 45.8911 Q1073.35 40.7464 1069.95 37.9513 Q1066.59 35.1157 1060.47 35.1157 Q1056.58 35.1157 1052.9 36.0474 Q1049.21 36.9791 1045.81 38.8425 L1045.81 31.956 Q1049.9 30.3761 1053.75 29.6064 Q1057.59 28.7963 1061.24 28.7963 Q1071.08 28.7963 1075.95 33.9004 Q1080.81 39.0045 1080.81 49.3748 Z\" fill=\"#000000\" fill-rule=\"evenodd\" fill-opacity=\"1\" /><path clip-path=\"url(#clip310)\" d=\"M1153.16 63.2503 Q1152.05 68.5379 1150.62 71.5711 Q1148.32 76.2029 1144.43 76.2029 Q1141.48 76.2029 1139.39 74.3994 Q1137.3 72.5958 1136.81 69.8905 Q1131.44 76.2029 1125.86 76.2029 Q1120.94 76.2029 1117.83 72.4729 Q1114.71 68.7018 1114.71 62.7584 Q1114.71 56.774 1117.66 51.0355 Q1120.66 45.297 1125.37 41.7309 Q1130.08 38.1648 1134.92 38.1648 Q1140.04 38.1648 1142.67 43.5344 Q1142.87 42.0588 1143.82 40.9521 Q1144.76 39.8454 1146.19 39.8454 Q1147.3 39.8454 1147.95 40.4602 Q1148.61 41.0341 1148.61 42.0998 Q1148.61 42.6327 1148.04 44.969 L1145 56.692 L1143.16 64.275 Q1142.46 67.0623 1142.26 68.087 Q1142.09 69.1117 1142.09 70.4644 Q1142.09 74.3174 1144.59 74.3174 Q1145.82 74.3174 1146.81 73.5386 Q1147.79 72.7598 1148.57 71.1202 Q1149.35 69.4806 1149.84 67.964 Q1150.33 66.4064 1150.99 63.9471 Q1151.19 62.9633 1151.36 62.7174 Q1151.56 62.4305 1152.14 62.4305 Q1153.16 62.4305 1153.16 63.2503 M1141.64 47.3874 Q1141.64 47.0185 1141.36 45.9938 Q1141.07 44.969 1140.41 43.5344 Q1139.76 42.0998 1138.32 41.0751 Q1136.93 40.0093 1135.04 40.0093 Q1132.5 40.0093 1129.84 42.1818 Q1127.21 44.3542 1125.29 48.0432 Q1123.81 50.9945 1122.21 57.1839 Q1120.66 63.3732 1120.66 66.4474 Q1120.66 68.3329 1121.07 70.0135 Q1121.52 71.6531 1122.79 73.0057 Q1124.06 74.3174 1126.03 74.3174 Q1130.82 74.3174 1135.54 68.3739 Q1136.44 67.3492 1136.64 66.9393 Q1136.89 66.4884 1137.22 65.2587 L1141.4 48.822 Q1141.64 47.5924 1141.64 47.3874 Z\" fill=\"#000000\" fill-rule=\"evenodd\" fill-opacity=\"1\" /><path clip-path=\"url(#clip310)\" d=\"M1181.97 62.5125 Q1182.05 61.4877 1183.65 61.4877 L1235.09 61.4877 Q1237.51 61.4877 1237.55 62.4305 Q1237.55 63.4552 1235.25 63.4142 L1184.22 63.4142 Q1181.97 63.4552 1181.97 62.5125 M1181.97 46.1167 Q1181.97 45.092 1183.73 45.133 L1235.01 45.133 Q1237.51 45.133 1237.55 46.1167 Q1237.55 47.0595 1235.42 47.0595 L1183.65 47.0595 Q1181.97 47.0595 1181.97 46.1167 Z\" fill=\"#000000\" fill-rule=\"evenodd\" fill-opacity=\"1\" /><path clip-path=\"url(#clip310)\" d=\"M1269.93 27.3437 L1269.93 24.7203 Q1280.01 24.7203 1285.22 19.3507 Q1286.65 19.3507 1286.9 19.6787 Q1287.14 20.0066 1287.14 21.5232 L1287.14 68.6199 Q1287.14 71.1202 1288.37 71.899 Q1289.6 72.6778 1294.97 72.6778 L1297.64 72.6778 L1297.64 75.2601 Q1294.69 75.0142 1284.03 75.0142 Q1273.37 75.0142 1270.46 75.2601 L1270.46 72.6778 L1273.13 72.6778 Q1278.41 72.6778 1279.68 71.94 Q1280.95 71.1612 1280.95 68.6199 L1280.95 25.1302 Q1276.57 27.3437 1269.93 27.3437 Z\" fill=\"#000000\" fill-rule=\"evenodd\" fill-opacity=\"1\" /><path clip-path=\"url(#clip310)\" d=\"M1312.69 73.9075 Q1311.5 72.5548 1311.5 70.7923 Q1311.5 69.0298 1312.65 67.7181 Q1313.84 66.3655 1315.97 66.3655 Q1318.47 66.3655 1319.9 68.7838 Q1321.34 71.1612 1321.34 75.1781 Q1321.34 79.523 1319.57 83.54 Q1317.81 87.5979 1316.09 89.5244 Q1314.37 91.4509 1313.67 91.4509 Q1312.85 91.4509 1312.85 90.5491 Q1312.85 90.2212 1313.43 89.6064 Q1319.45 83.1301 1319.49 75.1781 Q1319.49 73.9075 1319.33 73.9075 L1319.12 74.0714 Q1317.69 75.2601 1315.97 75.2601 Q1313.88 75.2601 1312.69 73.9075 Z\" fill=\"#000000\" fill-rule=\"evenodd\" fill-opacity=\"1\" /><path clip-path=\"url(#clip310)\" d=\"M1378.73 51.5683 Q1378.73 57.4708 1375.74 63.2503 Q1372.79 68.9888 1368.03 72.5958 Q1363.32 76.2029 1358.48 76.2029 Q1353.77 76.2029 1350.78 72.5958 Q1347.83 68.9478 1347.83 63.0043 Q1347.83 60.9139 1348.07 59.4383 Q1348.32 57.9626 1349.18 54.5196 L1356.06 27.1387 Q1357.25 22.0151 1357.25 21.9741 Q1357.25 21.4822 1357.05 21.2363 Q1356.88 20.9493 1355.9 20.7444 Q1354.92 20.5394 1353.03 20.5394 Q1352.25 20.5394 1351.88 20.4984 Q1351.56 20.4575 1351.27 20.2525 Q1351.02 20.0066 1351.02 19.5147 Q1351.02 18.8179 1351.31 18.449 Q1351.64 18.0391 1351.88 17.9571 Q1352.13 17.8751 1352.62 17.8341 Q1353.32 17.7932 1355.65 17.5882 Q1357.99 17.3423 1360 17.1783 Q1362.01 17.0144 1362.87 17.0144 Q1363.36 17.0144 1363.61 17.2603 Q1363.89 17.4652 1363.89 17.7112 L1363.93 17.9161 L1357.75 43.2065 Q1362.62 38.1648 1367.58 38.1648 Q1372.54 38.1648 1375.62 41.9768 Q1378.73 45.7888 1378.73 51.5683 M1372.67 47.8793 Q1372.67 43.9853 1371.19 42.0178 Q1369.75 40.0093 1367.38 40.0093 Q1365.37 40.0093 1362.75 41.5259 Q1360.12 43.0426 1357.34 46.7316 Q1356.8 47.4284 1356.6 47.8383 Q1356.43 48.2482 1356.06 49.6418 L1354.22 57.3888 Q1352.87 62.6764 1352.87 65.8736 Q1352.87 70.2184 1354.47 72.2679 Q1356.06 74.3174 1358.48 74.3174 Q1361.02 74.3174 1363.69 72.063 Q1366.35 69.8086 1368.4 65.7096 Q1369.67 63.0043 1371.15 57.1839 Q1372.67 51.3224 1372.67 47.8793 Z\" fill=\"#000000\" fill-rule=\"evenodd\" fill-opacity=\"1\" /><path clip-path=\"url(#clip310)\" d=\"M1406.76 62.5125 Q1406.84 61.4877 1408.44 61.4877 L1459.88 61.4877 Q1462.3 61.4877 1462.34 62.4305 Q1462.34 63.4552 1460.05 63.4142 L1409.01 63.4142 Q1406.76 63.4552 1406.76 62.5125 M1406.76 46.1167 Q1406.76 45.092 1408.52 45.133 L1459.8 45.133 Q1462.3 45.133 1462.34 46.1167 Q1462.34 47.0595 1460.21 47.0595 L1408.44 47.0595 Q1406.76 47.0595 1406.76 46.1167 Z\" fill=\"#000000\" fill-rule=\"evenodd\" fill-opacity=\"1\" /><path clip-path=\"url(#clip310)\" d=\"M1494.72 75.2601 Q1494.72 73.7435 1494.84 73.2926 Q1495.01 72.8418 1495.66 72.1449 L1511.77 54.1916 Q1520.58 44.2722 1520.58 35.6235 Q1520.58 30.008 1517.63 25.991 Q1514.72 21.9741 1509.35 21.9741 Q1505.66 21.9741 1502.55 24.2285 Q1499.43 26.4829 1498 30.4998 Q1498.24 30.4179 1499.11 30.4179 Q1501.2 30.4179 1502.34 31.7295 Q1503.53 33.0412 1503.53 34.8037 Q1503.53 37.0581 1502.06 38.1648 Q1500.62 39.2305 1499.19 39.2305 Q1498.61 39.2305 1497.83 39.1076 Q1497.1 38.9846 1495.91 37.8369 Q1494.72 36.6482 1494.72 34.5578 Q1494.72 28.6963 1499.15 24.0235 Q1503.61 19.3507 1510.42 19.3507 Q1518.12 19.3507 1523.17 23.9415 Q1528.25 28.4914 1528.25 35.6235 Q1528.25 38.1238 1527.47 40.4192 Q1526.73 42.6736 1525.71 44.4362 Q1524.72 46.1987 1522.02 49.027 Q1519.31 51.8552 1517.14 53.8637 Q1514.97 55.8722 1510.09 60.1351 L1501.2 68.7838 L1516.32 68.7838 Q1523.7 68.7838 1524.27 68.128 Q1525.09 66.9393 1526.12 60.6679 L1528.25 60.6679 L1525.87 75.2601 L1494.72 75.2601 Z\" fill=\"#000000\" fill-rule=\"evenodd\" fill-opacity=\"1\" /><path clip-path=\"url(#clip310)\" d=\"M1537.48 73.9075 Q1536.29 72.5548 1536.29 70.7923 Q1536.29 69.0298 1537.44 67.7181 Q1538.63 66.3655 1540.76 66.3655 Q1543.26 66.3655 1544.69 68.7838 Q1546.13 71.1612 1546.13 75.1781 Q1546.13 79.523 1544.36 83.54 Q1542.6 87.5979 1540.88 89.5244 Q1539.16 91.4509 1538.46 91.4509 Q1537.64 91.4509 1537.64 90.5491 Q1537.64 90.2212 1538.22 89.6064 Q1544.24 83.1301 1544.28 75.1781 Q1544.28 73.9075 1544.12 73.9075 L1543.91 74.0714 Q1542.48 75.2601 1540.76 75.2601 Q1538.67 75.2601 1537.48 73.9075 Z\" fill=\"#000000\" fill-rule=\"evenodd\" fill-opacity=\"1\" /><path clip-path=\"url(#clip310)\" d=\"M1604.96 65.5457 Q1605.28 65.9146 1605.28 66.2835 Q1605.28 66.6524 1604.47 67.7181 Q1603.69 68.7838 1602.01 70.2184 Q1600.33 71.6531 1598.15 73.0057 Q1595.98 74.3584 1592.78 75.2601 Q1589.59 76.2029 1586.22 76.2029 Q1579.95 76.2029 1576.26 72.063 Q1572.62 67.923 1572.62 61.9796 Q1572.62 56.2001 1575.85 50.6666 Q1579.09 45.092 1584.34 41.6489 Q1589.59 38.1648 1595.12 38.1648 Q1599.51 38.1648 1602.25 40.2143 Q1605 42.2638 1605 45.3789 Q1605 47.7973 1603.6 49.2729 Q1602.21 50.7485 1600.33 50.7485 Q1599.01 50.7485 1598.11 50.0107 Q1597.21 49.2319 1597.21 47.7973 Q1597.21 45.9528 1598.73 44.5182 Q1599.3 43.9443 1599.96 43.6984 Q1600.65 43.4115 1601.06 43.4115 Q1601.47 43.3705 1602.42 43.3705 Q1601.55 41.7719 1599.51 40.9111 Q1597.5 40.0093 1595.2 40.0093 Q1591.8 40.0093 1588.56 42.3867 Q1585.32 44.7231 1583.36 48.4121 Q1581.39 52.0192 1580.12 57.1429 Q1578.85 62.2255 1578.85 65.1768 Q1578.85 69.2347 1580.73 71.776 Q1582.62 74.3174 1586.39 74.3174 Q1587.13 74.3174 1587.91 74.2764 Q1588.73 74.2354 1590.77 73.7845 Q1592.87 73.3336 1594.71 72.5548 Q1596.55 71.776 1598.89 70.0955 Q1601.27 68.3739 1603.15 66.0375 Q1603.81 65.1768 1604.26 65.1768 Q1604.63 65.1768 1604.96 65.5457 Z\" fill=\"#000000\" fill-rule=\"evenodd\" fill-opacity=\"1\" /><path clip-path=\"url(#clip310)\" d=\"M1631.88 62.5125 Q1631.96 61.4877 1633.56 61.4877 L1685 61.4877 Q1687.42 61.4877 1687.46 62.4305 Q1687.46 63.4552 1685.16 63.4142 L1634.13 63.4142 Q1631.88 63.4552 1631.88 62.5125 M1631.88 46.1167 Q1631.88 45.092 1633.64 45.133 L1684.92 45.133 Q1687.42 45.133 1687.46 46.1167 Q1687.46 47.0595 1685.33 47.0595 L1633.56 47.0595 Q1631.88 47.0595 1631.88 46.1167 Z\" fill=\"#000000\" fill-rule=\"evenodd\" fill-opacity=\"1\" /><path clip-path=\"url(#clip310)\" d=\"M1719.84 63.9471 Q1719.84 61.4467 1721.27 60.258 Q1722.7 59.0694 1724.55 59.0694 Q1726.48 59.0694 1727.83 60.34 Q1729.22 61.5697 1729.22 63.7421 Q1729.22 66.0785 1727.58 67.3902 Q1725.98 68.7018 1723.69 68.3739 Q1725.7 71.735 1729.39 73.2517 Q1733.12 74.7683 1736.56 74.7683 Q1740.17 74.7683 1743.08 71.6531 Q1746.03 68.5379 1746.03 60.9139 Q1746.03 54.4376 1743.49 50.7075 Q1740.99 46.9775 1736.03 46.9775 L1732.34 46.9775 Q1731.07 46.9775 1730.7 46.8546 Q1730.33 46.7316 1730.33 46.0348 Q1730.33 45.215 1731.6 45.051 Q1732.87 45.051 1734.88 44.8051 Q1739.76 44.6411 1742.34 40.4192 Q1744.67 36.4843 1744.67 30.8687 Q1744.67 25.7451 1742.22 23.6136 Q1739.8 21.4412 1736.64 21.4412 Q1733.69 21.4412 1730.45 22.6709 Q1727.21 23.9006 1725.45 26.6468 Q1730.66 26.6468 1730.66 30.8687 Q1730.66 32.7133 1729.47 33.9429 Q1728.32 35.1316 1726.39 35.1316 Q1724.55 35.1316 1723.32 33.9839 Q1722.09 32.7952 1722.09 30.7868 Q1722.09 25.991 1726.35 22.6709 Q1730.66 19.3507 1736.97 19.3507 Q1743.2 19.3507 1747.79 22.6299 Q1752.42 25.909 1752.42 30.9507 Q1752.42 35.9104 1749.14 39.9684 Q1745.86 44.0263 1740.66 45.7069 Q1747.05 46.9775 1750.86 51.3224 Q1754.68 55.6263 1754.68 60.9139 Q1754.68 67.4722 1749.51 72.3089 Q1744.35 77.1046 1736.8 77.1046 Q1729.84 77.1046 1724.84 73.3336 Q1719.84 69.5626 1719.84 63.9471 Z\" fill=\"#000000\" fill-rule=\"evenodd\" fill-opacity=\"1\" /><path clip-path=\"url(#clip310)\" d=\"M1762.59 73.9075 Q1761.41 72.5548 1761.41 70.7923 Q1761.41 69.0298 1762.55 67.7181 Q1763.74 66.3655 1765.87 66.3655 Q1768.37 66.3655 1769.81 68.7838 Q1771.24 71.1612 1771.24 75.1781 Q1771.24 79.523 1769.48 83.54 Q1767.72 87.5979 1766 89.5244 Q1764.27 91.4509 1763.58 91.4509 Q1762.76 91.4509 1762.76 90.5491 Q1762.76 90.2212 1763.33 89.6064 Q1769.36 83.1301 1769.4 75.1781 Q1769.4 73.9075 1769.23 73.9075 L1769.03 74.0714 Q1767.59 75.2601 1765.87 75.2601 Q1763.78 75.2601 1762.59 73.9075 Z\" fill=\"#000000\" fill-rule=\"evenodd\" fill-opacity=\"1\" /><path clip-path=\"url(#clip310)\" d=\"M1837.7 17.9161 L1825.6 66.4474 Q1825.11 68.6199 1825.11 70.4644 Q1825.11 74.3174 1827.61 74.3174 Q1828.84 74.3174 1829.83 73.5386 Q1830.81 72.7598 1831.59 71.1202 Q1832.37 69.4806 1832.86 67.964 Q1833.35 66.4064 1834.01 63.9471 Q1834.21 62.9633 1834.38 62.7174 Q1834.58 62.4305 1835.16 62.4305 Q1836.18 62.4305 1836.18 63.2503 Q1835.07 68.5379 1833.64 71.5711 Q1831.34 76.2029 1827.45 76.2029 Q1824.5 76.2029 1822.41 74.3994 Q1820.32 72.5958 1819.83 69.8905 Q1814.46 76.2029 1808.88 76.2029 Q1803.96 76.2029 1800.85 72.4729 Q1797.73 68.7018 1797.73 62.7584 Q1797.73 56.774 1800.68 51.0355 Q1803.68 45.297 1808.39 41.7309 Q1813.1 38.1648 1817.94 38.1648 Q1823.06 38.1648 1825.69 43.5344 L1830.73 23.6136 L1830.97 21.9741 Q1830.97 21.4822 1830.77 21.2363 Q1830.61 20.9493 1829.62 20.7444 Q1828.68 20.5394 1826.79 20.5394 Q1826.01 20.5394 1825.65 20.4984 Q1825.32 20.4575 1825.03 20.2525 Q1824.74 20.0066 1824.74 19.5147 Q1824.74 18.0801 1825.93 17.9161 Q1833.8 17.0144 1836.59 17.0144 Q1837.08 17.0144 1837.37 17.2603 Q1837.66 17.4652 1837.66 17.7112 L1837.7 17.9161 M1824.66 47.3874 Q1824.66 47.0185 1824.38 45.9938 Q1824.09 44.969 1823.43 43.5344 Q1822.78 42.0998 1821.34 41.0751 Q1819.95 40.0093 1818.06 40.0093 Q1815.52 40.0093 1812.86 42.1818 Q1810.23 44.3542 1808.31 48.0432 Q1806.83 50.9945 1805.23 57.1839 Q1803.68 63.3732 1803.68 66.4474 Q1803.68 68.3329 1804.09 70.0135 Q1804.54 71.6531 1805.81 73.0057 Q1807.08 74.3174 1809.05 74.3174 Q1813.84 74.3174 1818.55 68.3739 Q1819.46 67.3492 1819.66 66.9393 Q1819.91 66.4884 1820.24 65.2587 L1824.42 48.822 Q1824.66 47.5924 1824.66 47.3874 Z\" fill=\"#000000\" fill-rule=\"evenodd\" fill-opacity=\"1\" /><path clip-path=\"url(#clip310)\" d=\"M1864.22 62.5125 Q1864.3 61.4877 1865.9 61.4877 L1917.34 61.4877 Q1919.76 61.4877 1919.8 62.4305 Q1919.8 63.4552 1917.5 63.4142 L1866.47 63.4142 Q1864.22 63.4552 1864.22 62.5125 M1864.22 46.1167 Q1864.22 45.092 1865.98 45.133 L1917.26 45.133 Q1919.76 45.133 1919.8 46.1167 Q1919.8 47.0595 1917.67 47.0595 L1865.9 47.0595 Q1864.22 47.0595 1864.22 46.1167 Z\" fill=\"#000000\" fill-rule=\"evenodd\" fill-opacity=\"1\" /><path clip-path=\"url(#clip310)\" d=\"M1952.18 61.4057 L1952.18 58.8234 L1977.96 19.4327 Q1978.61 18.408 1979.64 18.449 Q1980.58 18.449 1980.79 18.8179 Q1980.99 19.1868 1980.99 20.6214 L1980.99 58.8234 L1989.4 58.8234 L1989.4 61.4057 L1980.99 61.4057 L1980.99 68.7018 Q1980.99 71.1202 1981.98 71.899 Q1983 72.6778 1987.35 72.6778 L1989.11 72.6778 L1989.11 75.2601 Q1985.66 75.0142 1977.71 75.0142 Q1969.8 75.0142 1966.36 75.2601 L1966.36 72.6778 L1968.12 72.6778 Q1972.47 72.6778 1973.49 71.94 Q1974.52 71.1612 1974.52 68.7018 L1974.52 61.4057 L1952.18 61.4057 M1954.55 58.8234 L1975.01 58.8234 L1975.01 27.5076 L1954.55 58.8234 Z\" fill=\"#000000\" fill-rule=\"evenodd\" fill-opacity=\"1\" /><polyline clip-path=\"url(#clip312)\" style=\"stroke:#009af9; stroke-linecap:round; stroke-linejoin:round; stroke-width:4; stroke-opacity:1; fill:none\" points=\"\n",
       "  174.33,230.178 179.618,301.473 184.905,396.769 190.193,509.476 195.48,629.482 200.767,746.11 206.055,851.16 211.342,940.345 216.63,1012.9 221.917,1070.26 \n",
       "  227.205,1114.82 232.492,1149.09 237.779,1175.28 243.067,1195.2 248.354,1210.25 253.642,1221.51 258.929,1229.79 264.217,1235.67 269.504,1239.63 274.792,1241.99 \n",
       "  280.079,1243.01 285.366,1242.89 290.654,1241.78 295.941,1239.78 301.229,1236.99 306.516,1233.48 311.804,1229.28 317.091,1224.45 322.379,1219 327.666,1212.96 \n",
       "  332.953,1206.33 338.241,1199.12 343.528,1191.34 348.816,1182.98 354.103,1174.03 359.391,1164.48 364.678,1154.33 369.965,1143.55 375.253,1132.12 380.54,1120.03 \n",
       "  385.828,1107.25 391.115,1093.76 396.403,1079.53 401.69,1064.53 406.978,1048.73 412.265,1032.1 417.552,1014.59 422.84,996.189 428.127,976.843 433.415,956.515 \n",
       "  438.702,935.165 443.99,912.75 449.277,889.228 454.565,864.555 459.852,838.688 465.139,811.583 470.427,783.201 475.714,753.501 481.002,722.45 486.289,690.02 \n",
       "  491.577,656.195 496.864,620.971 502.152,584.364 507.439,546.42 512.726,507.226 518.014,466.924 523.301,425.739 528.589,384.008 533.876,342.232 539.164,301.136 \n",
       "  544.451,261.767 549.738,225.604 555.026,194.709 560.313,171.873 565.601,160.709 570.888,165.573 576.176,191.093 581.463,241.108 586.751,317.009 592.038,416.066 \n",
       "  597.325,530.901 602.613,651.052 607.9,766.092 613.188,868.483 618.475,954.643 623.763,1024.31 629.05,1079.17 634.338,1121.7 639.625,1154.36 644.912,1179.29 \n",
       "  650.2,1198.24 655.487,1212.54 660.775,1223.21 666.062,1231.01 671.35,1236.52 676.637,1240.17 681.925,1242.27 687.212,1243.07 692.499,1242.76 697.787,1241.48 \n",
       "  703.074,1239.34 708.362,1236.41 713.649,1232.77 718.937,1228.46 724.224,1223.51 729.511,1217.96 734.799,1211.81 740.086,1205.07 745.374,1197.77 750.661,1189.88 \n",
       "  755.949,1181.41 761.236,1172.36 766.524,1162.7 771.811,1152.43 777.098,1141.54 782.386,1129.99 787.673,1117.78 792.961,1104.88 798.248,1091.25 803.536,1076.89 \n",
       "  808.823,1061.74 814.111,1045.8 819.398,1029.01 824.685,1011.35 829.973,992.776 835.26,973.255 840.548,952.746 845.835,931.207 851.123,908.596 856.41,884.87 \n",
       "  861.698,859.985 866.985,833.898 872.272,806.566 877.56,777.949 882.847,748.008 888.135,716.71 893.422,684.03 898.71,649.953 903.997,614.477 909.284,577.625 \n",
       "  914.572,539.448 919.859,500.041 925.147,459.561 930.434,418.248 935.722,376.466 941.009,334.75 946.297,293.877 951.584,254.96 956.871,219.574 962.159,189.9 \n",
       "  967.446,168.873 972.734,160.256 978.021,168.503 983.309,198.196 988.596,252.871 993.884,333.282 999.171,435.85 1004.46,552.462 1009.75,672.41 1015.03,785.619 \n",
       "  1020.32,885.241 1025.61,968.376 1030.9,1035.21 1036.18,1087.67 1041.47,1128.24 1046.76,1159.36 1052.05,1183.1 1057.33,1201.13 1062.62,1214.71 1067.91,1224.81 \n",
       "  1073.2,1232.16 1078.48,1237.31 1083.77,1240.65 1089.06,1242.5 1094.34,1243.09 1099.63,1242.6 1104.92,1241.16 1110.21,1238.87 1115.49,1235.81 1120.78,1232.05 \n",
       "  1126.07,1227.62 1131.36,1222.56 1136.64,1216.89 1141.93,1210.64 1147.22,1203.8 1152.51,1196.39 1157.79,1188.4 1163.08,1179.83 1168.37,1170.67 1173.66,1160.9 \n",
       "  1178.94,1150.52 1184.23,1139.51 1189.52,1127.85 1194.81,1115.51 1200.09,1102.48 1205.38,1088.73 1210.67,1074.22 1215.96,1058.94 1221.24,1042.84 1226.53,1025.9 \n",
       "  1231.82,1008.08 1237.11,989.337 1242.39,969.642 1247.68,948.951 1252.97,927.222 1258.26,904.413 1263.54,880.482 1268.83,855.384 1274.12,829.077 1279.41,801.517 \n",
       "  1284.69,772.664 1289.98,742.481 1295.27,710.936 1300.56,678.006 1305.84,643.676 1311.13,607.95 1316.42,570.855 1321.7,532.448 1326.99,492.835 1332.28,452.183 \n",
       "  1337.57,410.755 1342.85,368.939 1348.14,327.308 1353.43,286.692 1358.72,248.278 1364,213.736 1369.29,185.376 1374.58,166.278 1379.87,160.349 1385.15,172.123 \n",
       "  1390.44,206.102 1395.73,265.457 1401.02,350.257 1406.3,456.061 1411.59,574.091 1416.88,693.504 1422.17,804.661 1427.45,901.428 1432.74,981.553 1438.03,1045.64 \n",
       "  1443.32,1095.77 1448.6,1134.47 1453.89,1164.12 1459.18,1186.73 1464.47,1203.87 1469.75,1216.76 1475.04,1226.32 1480.33,1233.24 1485.62,1238.03 1490.9,1241.09 \n",
       "  1496.19,1242.7 1501.48,1243.08 1506.77,1242.41 1512.05,1240.81 1517.34,1238.38 1522.63,1235.19 1527.92,1231.3 1533.2,1226.76 1538.49,1221.59 1543.78,1215.82 \n",
       "  1549.06,1209.46 1554.35,1202.52 1559.64,1195 1564.93,1186.91 1570.21,1178.23 1575.5,1168.96 1580.79,1159.09 1586.08,1148.59 1591.36,1137.47 1596.65,1125.69 \n",
       "  1601.94,1113.23 1607.23,1100.07 1612.51,1086.18 1617.8,1071.54 1623.09,1056.11 1628.38,1039.86 1633.66,1022.77 1638.95,1004.78 1644.24,985.874 1649.53,966.003 \n",
       "  1654.81,945.128 1660.1,923.209 1665.39,900.202 1670.68,876.065 1675.96,850.753 1681.25,824.223 1686.54,796.434 1691.83,767.345 1697.11,736.92 1702.4,705.128 \n",
       "  1707.69,671.947 1712.98,637.365 1718.26,601.391 1723.55,564.054 1728.84,525.422 1734.13,485.607 1739.41,444.793 1744.7,403.262 1749.99,361.43 1755.28,319.911 \n",
       "  1760.56,279.59 1765.85,241.73 1771.14,208.106 1776.42,181.156 1781.71,164.11 1787,161.011 1792.29,176.455 1797.57,214.819 1802.86,278.853 1808.15,367.89 \n",
       "  1813.44,476.637 1818.72,595.723 1824.01,714.285 1829.3,823.196 1834.59,917.044 1839.87,994.186 1845.16,1055.59 1850.45,1103.48 1855.74,1140.4 1861.02,1168.65 \n",
       "  1866.31,1190.17 1871.6,1206.46 1876.89,1218.7 1882.17,1227.74 1887.46,1234.25 1892.75,1238.7 1898.04,1241.48 1903.32,1242.86 1908.61,1243.04 1913.9,1242.19 \n",
       "  1919.19,1240.43 1924.47,1237.86 1929.76,1234.54 1935.05,1230.54 1940.34,1225.88 1945.62,1220.6 1950.91,1214.72 1956.2,1208.26 1961.49,1201.21 1966.77,1193.59 \n",
       "  1972.06,1185.39 1977.35,1176.61 1982.64,1167.24 1987.92,1157.25 1993.21,1146.65 1998.5,1135.41 2003.78,1123.5 2009.07,1110.92 2014.36,1097.63 2019.65,1083.61 \n",
       "  2024.93,1068.83 2030.22,1053.26 2035.51,1036.86 2040.8,1019.61 2046.08,1001.46 2051.37,982.386 2056.66,962.338 2061.95,941.279 2067.23,919.168 2072.52,895.962 \n",
       "  2077.81,871.617 2083.1,846.09 2088.38,819.338 2093.67,791.319 2098.96,761.993 2104.25,731.325 2109.53,699.285 2114.82,665.853 2120.11,631.021 2125.4,594.799 \n",
       "  2130.68,557.224 2135.97,518.369 2141.26,478.36 2146.55,437.393 2151.83,395.772 2157.12,353.944 2162.41,312.564 2167.7,272.578 2172.98,235.328 2178.27,202.698 \n",
       "  2183.56,177.259 2188.85,162.391 2194.13,162.268 2199.42,181.52 2204.71,224.354 2209.99,293.041 2215.28,386.137 2220.57,497.513 2225.86,617.296 2231.14,734.71 \n",
       "  2236.43,841.205 2241.72,932.088 2247.01,1006.29 2252.29,1065.09 2257.58,1110.83 2262.87,1146.04 2268.16,1172.95 2273.44,1193.44 2278.73,1208.93 2284.02,1220.53 \n",
       "  2289.31,1229.08 \n",
       "  \"/>\n",
       "<polyline clip-path=\"url(#clip312)\" style=\"stroke:#e26f46; stroke-linecap:round; stroke-linejoin:round; stroke-width:6; stroke-opacity:1; fill:none\" stroke-dasharray=\"24, 15\" points=\"\n",
       "  174.33,1007.35 179.618,903.392 184.905,791.46 190.193,683.484 195.48,593.385 200.767,532.527 206.055,506.142 211.342,512.757 216.63,546.25 221.917,598.662 \n",
       "  227.205,662.353 232.492,731.096 237.779,800.348 243.067,867.086 248.354,929.487 253.642,986.597 258.929,1038.06 264.217,1083.9 269.504,1124.38 274.792,1159.9 \n",
       "  280.079,1190.9 285.366,1217.86 290.654,1241.24 295.941,1261.46 301.229,1278.94 306.516,1294.02 311.804,1307.02 317.091,1318.23 322.379,1327.89 327.666,1336.22 \n",
       "  332.953,1343.4 338.241,1349.59 343.528,1354.94 348.816,1359.55 354.103,1363.54 359.391,1366.99 364.678,1369.97 369.965,1372.55 375.253,1374.78 380.54,1376.72 \n",
       "  385.828,1378.39 391.115,1379.83 396.403,1381.08 401.69,1382.15 406.978,1383.07 412.265,1383.86 417.552,1384.52 422.84,1385.07 428.127,1385.51 433.415,1385.86 \n",
       "  438.702,1386.13 443.99,1386.3 449.277,1386.38 454.565,1386.38 459.852,1386.28 465.139,1386.09 470.427,1385.78 475.714,1385.34 481.002,1384.75 486.289,1383.99 \n",
       "  491.577,1383.01 496.864,1381.76 502.152,1380.17 507.439,1378.15 512.726,1375.57 518.014,1372.25 523.301,1367.96 528.589,1362.36 533.876,1354.98 539.164,1345.17 \n",
       "  544.451,1332.03 549.738,1314.29 555.026,1290.27 560.313,1257.74 565.601,1213.98 570.888,1156.03 576.176,1081.44 581.463,989.576 586.751,883.496 592.038,771.283 \n",
       "  597.325,665.511 602.613,579.99 607.9,525.169 613.188,505.017 618.475,517.024 623.763,554.532 629.05,609.512 634.338,674.527 639.625,743.652 644.912,812.635 \n",
       "  650.2,878.698 655.487,940.194 660.775,996.299 666.062,1046.74 671.35,1091.59 676.637,1131.14 681.925,1165.81 687.212,1196.05 692.499,1222.33 697.787,1245.11 \n",
       "  703.074,1264.81 708.362,1281.83 713.649,1296.51 718.937,1309.17 724.224,1320.08 729.511,1329.49 734.799,1337.6 740.086,1344.59 745.374,1350.62 750.661,1355.82 \n",
       "  755.949,1360.32 761.236,1364.2 766.524,1367.56 771.811,1370.46 777.098,1372.98 782.386,1375.15 787.673,1377.04 792.961,1378.67 798.248,1380.07 803.536,1381.29 \n",
       "  808.823,1382.33 814.111,1383.22 819.398,1383.98 824.685,1384.62 829.973,1385.15 835.26,1385.58 840.548,1385.92 845.835,1386.16 851.123,1386.32 856.41,1386.39 \n",
       "  861.698,1386.37 866.985,1386.26 872.272,1386.04 877.56,1385.71 882.847,1385.25 888.135,1384.63 893.422,1383.83 898.71,1382.8 903.997,1381.5 909.284,1379.84 \n",
       "  914.572,1377.73 919.859,1375.03 925.147,1371.56 930.434,1367.06 935.722,1361.18 941.009,1353.42 946.297,1343.08 951.584,1329.22 956.871,1310.49 962.159,1285.11 \n",
       "  967.446,1250.77 972.734,1204.67 978.021,1143.88 983.309,1066.14 988.596,971.36 993.884,863.423 999.171,751.345 1004.46,648.235 1009.75,567.632 1015.03,518.966 \n",
       "  1020.32,504.949 1025.61,522.114 1030.9,563.364 1036.18,620.665 1041.47,686.809 1046.76,756.177 1052.05,824.804 1057.33,890.138 1062.62,950.707 1067.91,1005.8 \n",
       "  1073.2,1055.22 1078.48,1099.09 1083.77,1137.73 1089.06,1171.57 1094.34,1201.06 1099.63,1226.68 1104.92,1248.87 1110.21,1268.06 1115.49,1284.63 1120.78,1298.93 \n",
       "  1126.07,1311.26 1131.36,1321.88 1136.64,1331.04 1141.93,1338.93 1147.22,1345.74 1152.51,1351.61 1157.79,1356.68 1163.08,1361.06 1168.37,1364.84 1173.66,1368.11 \n",
       "  1178.94,1370.94 1184.23,1373.39 1189.52,1375.51 1194.81,1377.35 1200.09,1378.94 1205.38,1380.31 1210.67,1381.49 1215.96,1382.5 1221.24,1383.37 1226.53,1384.11 \n",
       "  1231.82,1384.73 1237.11,1385.24 1242.39,1385.65 1247.68,1385.97 1252.97,1386.2 1258.26,1386.34 1263.54,1386.39 1268.83,1386.36 1274.12,1386.23 1279.41,1385.99 \n",
       "  1284.69,1385.64 1289.98,1385.15 1295.27,1384.5 1300.56,1383.66 1305.84,1382.59 1311.13,1381.23 1316.42,1379.5 1321.7,1377.29 1326.99,1374.47 1332.28,1370.84 \n",
       "  1337.57,1366.12 1342.85,1359.94 1348.14,1351.77 1353.43,1340.89 1358.72,1326.25 1364,1306.48 1369.29,1279.68 1374.58,1243.44 1379.87,1194.91 1385.15,1131.2 \n",
       "  1390.44,1050.31 1395.73,952.735 1401.02,843.239 1406.3,731.731 1411.59,631.728 1416.88,556.348 1422.17,513.912 1427.45,505.899 1432.74,527.976 1438.03,572.698 \n",
       "  1443.32,632.08 1448.6,699.17 1453.89,768.653 1459.18,836.841 1464.47,901.403 1469.75,961.023 1475.04,1015.1 1480.33,1063.5 1485.62,1106.41 1490.9,1144.15 \n",
       "  1496.19,1177.17 1501.48,1205.94 1506.77,1230.91 1512.05,1252.53 1517.34,1271.22 1522.63,1287.36 1527.92,1301.28 1533.2,1313.29 1538.49,1323.63 1543.78,1332.55 \n",
       "  1549.06,1340.23 1554.35,1346.86 1559.64,1352.58 1564.93,1357.52 1570.21,1361.78 1575.5,1365.47 1580.79,1368.65 1586.08,1371.41 1591.36,1373.8 1596.65,1375.86 \n",
       "  1601.94,1377.65 1607.23,1379.2 1612.51,1380.53 1617.8,1381.68 1623.09,1382.67 1628.38,1383.51 1633.66,1384.23 1638.95,1384.83 1644.24,1385.32 1649.53,1385.71 \n",
       "  1654.81,1386.02 1660.1,1386.23 1665.39,1386.36 1670.68,1386.4 1675.96,1386.34 1681.25,1386.19 1686.54,1385.94 1691.83,1385.56 1697.11,1385.04 1702.4,1384.37 \n",
       "  1707.69,1383.49 1712.98,1382.37 1718.26,1380.95 1723.55,1379.14 1728.84,1376.84 1734.13,1373.89 1739.41,1370.08 1744.7,1365.13 1749.99,1358.64 1755.28,1350.05 \n",
       "  1760.56,1338.57 1765.85,1323.13 1771.14,1302.25 1776.42,1273.95 1781.71,1235.73 1787,1184.68 1792.29,1117.98 1797.57,1033.96 1802.86,933.745 1808.15,823.015 \n",
       "  1813.44,712.521 1818.72,616.057 1824.01,546.163 1829.3,509.991 1834.59,507.825 1839.87,534.559 1845.16,582.485 1850.45,643.719 1855.74,711.582 1861.02,781.062 \n",
       "  1866.31,848.738 1871.6,912.487 1876.89,971.14 1882.17,1024.2 1887.46,1071.6 1892.75,1113.55 1898.04,1150.41 1903.32,1182.63 1908.61,1210.68 1913.9,1235.02 \n",
       "  1919.19,1256.09 1924.47,1274.3 1929.76,1290.02 1935.05,1303.57 1940.34,1315.26 1945.62,1325.33 1950.91,1334.01 1956.2,1341.5 1961.49,1347.95 1966.77,1353.52 \n",
       "  1972.06,1358.33 1977.35,1362.48 1982.64,1366.07 1987.92,1369.18 1993.21,1371.87 1998.5,1374.19 2003.78,1376.2 2009.07,1377.95 2014.36,1379.45 2019.65,1380.75 \n",
       "  2024.93,1381.87 2030.22,1382.83 2035.51,1383.65 2040.8,1384.34 2046.08,1384.92 2051.37,1385.4 2056.66,1385.78 2061.95,1386.06 2067.23,1386.26 2072.52,1386.37 \n",
       "  2077.81,1386.39 2083.1,1386.32 2088.38,1386.16 2093.67,1385.88 2098.96,1385.48 2104.25,1384.94 2109.53,1384.22 2114.82,1383.31 2120.11,1382.14 2125.4,1380.66 \n",
       "  2130.68,1378.77 2135.97,1376.36 2141.26,1373.28 2146.55,1369.29 2151.83,1364.1 2157.12,1357.28 2162.41,1348.23 2167.7,1336.14 2172.98,1319.85 2178.27,1297.8 \n",
       "  2183.56,1267.92 2188.85,1227.62 2194.13,1173.96 2199.42,1104.22 2204.71,1017.11 2209.99,914.437 2215.28,802.824 2220.57,693.799 2225.86,601.281 2231.14,537.098 \n",
       "  2236.43,507.183 2241.72,510.683 2247.01,541.811 2252.29,592.679 2257.58,655.547 2262.87,724.02 2268.16,793.388 2273.44,860.486 2278.73,923.386 2284.02,981.06 \n",
       "  2289.31,1033.1 \n",
       "  \"/>\n",
       "<path clip-path=\"url(#clip310)\" d=\"\n",
       "M1790.97 322.316 L2278.03 322.316 L2278.03 166.796 L1790.97 166.796  Z\n",
       "  \" fill=\"#ffffff\" fill-rule=\"evenodd\" fill-opacity=\"1\"/>\n",
       "<polyline clip-path=\"url(#clip310)\" style=\"stroke:#000000; stroke-linecap:round; stroke-linejoin:round; stroke-width:4; stroke-opacity:1; fill:none\" points=\"\n",
       "  1790.97,322.316 2278.03,322.316 2278.03,166.796 1790.97,166.796 1790.97,322.316 \n",
       "  \"/>\n",
       "<polyline clip-path=\"url(#clip310)\" style=\"stroke:#009af9; stroke-linecap:round; stroke-linejoin:round; stroke-width:4; stroke-opacity:1; fill:none\" points=\"\n",
       "  1815.88,218.636 1965.34,218.636 \n",
       "  \"/>\n",
       "<path clip-path=\"url(#clip310)\" d=\"M1994.53 224.973 L1994.53 238.723 L1990.25 238.723 L1990.25 202.936 L1994.53 202.936 L1994.53 206.872 Q1995.87 204.557 1997.91 203.446 Q1999.97 202.311 2002.82 202.311 Q2007.54 202.311 2010.48 206.061 Q2013.44 209.811 2013.44 215.923 Q2013.44 222.034 2010.48 225.784 Q2007.54 229.534 2002.82 229.534 Q1999.97 229.534 1997.91 228.422 Q1995.87 227.288 1994.53 224.973 M2009.02 215.923 Q2009.02 211.223 2007.08 208.561 Q2005.15 205.876 2001.77 205.876 Q1998.39 205.876 1996.45 208.561 Q1994.53 211.223 1994.53 215.923 Q1994.53 220.622 1996.45 223.307 Q1998.39 225.969 2001.77 225.969 Q2005.15 225.969 2007.08 223.307 Q2009.02 220.622 2009.02 215.923 Z\" fill=\"#000000\" fill-rule=\"evenodd\" fill-opacity=\"1\" /><path clip-path=\"url(#clip310)\" d=\"M2035.52 206.918 Q2034.81 206.501 2033.95 206.316 Q2033.12 206.108 2032.1 206.108 Q2028.49 206.108 2026.54 208.469 Q2024.62 210.807 2024.62 215.205 L2024.62 228.862 L2020.34 228.862 L2020.34 202.936 L2024.62 202.936 L2024.62 206.964 Q2025.96 204.603 2028.12 203.469 Q2030.27 202.311 2033.35 202.311 Q2033.79 202.311 2034.32 202.381 Q2034.85 202.427 2035.5 202.543 L2035.52 206.918 Z\" fill=\"#000000\" fill-rule=\"evenodd\" fill-opacity=\"1\" /><path clip-path=\"url(#clip310)\" d=\"M2061.13 214.835 L2061.13 216.918 L2041.54 216.918 Q2041.82 221.316 2044.18 223.631 Q2046.57 225.922 2050.8 225.922 Q2053.26 225.922 2055.55 225.321 Q2057.86 224.719 2060.13 223.515 L2060.13 227.543 Q2057.84 228.515 2055.43 229.024 Q2053.02 229.534 2050.55 229.534 Q2044.34 229.534 2040.71 225.922 Q2037.1 222.311 2037.1 216.154 Q2037.1 209.788 2040.52 206.061 Q2043.97 202.311 2049.81 202.311 Q2055.04 202.311 2058.07 205.691 Q2061.13 209.048 2061.13 214.835 M2056.87 213.585 Q2056.82 210.089 2054.9 208.006 Q2053 205.923 2049.85 205.923 Q2046.29 205.923 2044.14 207.936 Q2042.01 209.95 2041.68 213.608 L2056.87 213.585 Z\" fill=\"#000000\" fill-rule=\"evenodd\" fill-opacity=\"1\" /><path clip-path=\"url(#clip310)\" d=\"M2078.9 231.27 Q2077.1 235.899 2075.38 237.311 Q2073.67 238.723 2070.8 238.723 L2067.4 238.723 L2067.4 235.159 L2069.9 235.159 Q2071.66 235.159 2072.63 234.325 Q2073.6 233.492 2074.78 230.39 L2075.55 228.446 L2065.06 202.936 L2069.57 202.936 L2077.68 223.214 L2085.78 202.936 L2090.29 202.936 L2078.9 231.27 Z\" fill=\"#000000\" fill-rule=\"evenodd\" fill-opacity=\"1\" /><path clip-path=\"url(#clip310)\" d=\"M2130.66 210.827 Q2130.66 212.139 2129.84 212.888 Q2129.02 213.614 2128.09 213.614 Q2127.2 213.614 2126.73 213.099 Q2126.26 212.584 2126.26 211.928 Q2126.26 211.038 2126.92 210.265 Q2127.57 209.492 2128.56 209.328 Q2127.6 208.719 2126.17 208.719 Q2125.23 208.719 2124.41 209.211 Q2123.61 209.703 2123.12 210.335 Q2122.65 210.968 2122.23 211.881 Q2121.83 212.771 2121.67 213.31 Q2121.53 213.825 2121.41 214.387 L2119.77 220.945 Q2118.98 224.061 2118.98 225.162 Q2118.98 226.52 2119.63 227.434 Q2120.29 228.324 2121.6 228.324 Q2122.12 228.324 2122.7 228.183 Q2123.29 228.019 2124.04 227.597 Q2124.81 227.152 2125.49 226.497 Q2126.19 225.817 2126.87 224.67 Q2127.55 223.522 2127.99 222.046 Q2128.13 221.531 2128.6 221.531 Q2129.19 221.531 2129.19 222 Q2129.19 222.398 2128.86 223.241 Q2128.56 224.061 2127.88 225.138 Q2127.22 226.192 2126.35 227.152 Q2125.49 228.089 2124.2 228.745 Q2122.91 229.401 2121.51 229.401 Q2119.49 229.401 2118.16 228.324 Q2116.82 227.246 2116.33 225.747 Q2116.21 225.958 2116.05 226.239 Q2115.88 226.52 2115.39 227.152 Q2114.92 227.761 2114.39 228.23 Q2113.85 228.675 2113 229.026 Q2112.18 229.401 2111.29 229.401 Q2110.17 229.401 2109.16 229.073 Q2108.18 228.745 2107.48 227.996 Q2106.77 227.246 2106.77 226.216 Q2106.77 225.068 2107.55 224.271 Q2108.34 223.452 2109.42 223.452 Q2110.1 223.452 2110.64 223.85 Q2111.2 224.248 2111.2 225.115 Q2111.2 226.075 2110.54 226.801 Q2109.89 227.527 2108.95 227.715 Q2109.91 228.324 2111.34 228.324 Q2112.89 228.324 2114.1 226.965 Q2115.32 225.607 2115.91 223.335 Q2117.36 217.877 2117.92 215.441 Q2118.48 212.982 2118.48 211.928 Q2118.48 210.944 2118.23 210.265 Q2117.97 209.586 2117.52 209.281 Q2117.1 208.953 2116.7 208.836 Q2116.33 208.719 2115.91 208.719 Q2115.21 208.719 2114.41 209 Q2113.64 209.281 2112.7 209.937 Q2111.79 210.569 2110.92 211.881 Q2110.05 213.193 2109.47 214.996 Q2109.35 215.535 2108.83 215.535 Q2108.27 215.511 2108.27 215.043 Q2108.27 214.645 2108.58 213.825 Q2108.91 212.982 2109.56 211.928 Q2110.24 210.874 2111.11 209.937 Q2112 208.977 2113.29 208.321 Q2114.6 207.665 2116 207.665 Q2116.63 207.665 2117.24 207.806 Q2117.88 207.923 2118.63 208.274 Q2119.4 208.625 2120.08 209.398 Q2120.76 210.171 2121.18 211.295 Q2121.46 210.757 2121.83 210.241 Q2122.23 209.726 2122.84 209.094 Q2123.47 208.438 2124.34 208.063 Q2125.23 207.665 2126.21 207.665 Q2127.17 207.665 2128.11 207.923 Q2129.05 208.157 2129.84 208.93 Q2130.66 209.679 2130.66 210.827 Z\" fill=\"#000000\" fill-rule=\"evenodd\" fill-opacity=\"1\" /><polyline clip-path=\"url(#clip310)\" style=\"stroke:#e26f46; stroke-linecap:round; stroke-linejoin:round; stroke-width:4; stroke-opacity:1; fill:none\" stroke-dasharray=\"16, 10\" points=\"\n",
       "  1815.88,270.476 1965.34,270.476 \n",
       "  \"/>\n",
       "<path clip-path=\"url(#clip310)\" d=\"M1994.53 272.212 L1994.53 285.962 L1990.25 285.962 L1990.25 250.175 L1994.53 250.175 L1994.53 254.11 Q1995.87 251.795 1997.91 250.684 Q1999.97 249.55 2002.82 249.55 Q2007.54 249.55 2010.48 253.3 Q2013.44 257.05 2013.44 263.161 Q2013.44 269.272 2010.48 273.022 Q2007.54 276.772 2002.82 276.772 Q1999.97 276.772 1997.91 275.661 Q1995.87 274.527 1994.53 272.212 M2009.02 263.161 Q2009.02 258.462 2007.08 255.8 Q2005.15 253.115 2001.77 253.115 Q1998.39 253.115 1996.45 255.8 Q1994.53 258.462 1994.53 263.161 Q1994.53 267.86 1996.45 270.545 Q1998.39 273.207 2001.77 273.207 Q2005.15 273.207 2007.08 270.545 Q2009.02 267.86 2009.02 263.161 Z\" fill=\"#000000\" fill-rule=\"evenodd\" fill-opacity=\"1\" /><path clip-path=\"url(#clip310)\" d=\"M2035.52 254.156 Q2034.81 253.74 2033.95 253.555 Q2033.12 253.346 2032.1 253.346 Q2028.49 253.346 2026.54 255.707 Q2024.62 258.045 2024.62 262.443 L2024.62 276.101 L2020.34 276.101 L2020.34 250.175 L2024.62 250.175 L2024.62 254.203 Q2025.96 251.842 2028.12 250.707 Q2030.27 249.55 2033.35 249.55 Q2033.79 249.55 2034.32 249.619 Q2034.85 249.666 2035.5 249.781 L2035.52 254.156 Z\" fill=\"#000000\" fill-rule=\"evenodd\" fill-opacity=\"1\" /><path clip-path=\"url(#clip310)\" d=\"M2061.13 262.073 L2061.13 264.156 L2041.54 264.156 Q2041.82 268.554 2044.18 270.869 Q2046.57 273.161 2050.8 273.161 Q2053.26 273.161 2055.55 272.559 Q2057.86 271.957 2060.13 270.754 L2060.13 274.781 Q2057.84 275.753 2055.43 276.263 Q2053.02 276.772 2050.55 276.772 Q2044.34 276.772 2040.71 273.161 Q2037.1 269.55 2037.1 263.392 Q2037.1 257.027 2040.52 253.3 Q2043.97 249.55 2049.81 249.55 Q2055.04 249.55 2058.07 252.93 Q2061.13 256.286 2061.13 262.073 M2056.87 260.823 Q2056.82 257.328 2054.9 255.244 Q2053 253.161 2049.85 253.161 Q2046.29 253.161 2044.14 255.175 Q2042.01 257.189 2041.68 260.846 L2056.87 260.823 Z\" fill=\"#000000\" fill-rule=\"evenodd\" fill-opacity=\"1\" /><path clip-path=\"url(#clip310)\" d=\"M2085.18 254.11 L2085.18 240.082 L2089.44 240.082 L2089.44 276.101 L2085.18 276.101 L2085.18 272.212 Q2083.83 274.527 2081.77 275.661 Q2079.74 276.772 2076.87 276.772 Q2072.17 276.772 2069.2 273.022 Q2066.26 269.272 2066.26 263.161 Q2066.26 257.05 2069.2 253.3 Q2072.17 249.55 2076.87 249.55 Q2079.74 249.55 2081.77 250.684 Q2083.83 251.795 2085.18 254.11 M2070.66 263.161 Q2070.66 267.86 2072.58 270.545 Q2074.53 273.207 2077.91 273.207 Q2081.29 273.207 2083.23 270.545 Q2085.18 267.86 2085.18 263.161 Q2085.18 258.462 2083.23 255.8 Q2081.29 253.115 2077.91 253.115 Q2074.53 253.115 2072.58 255.8 Q2070.66 258.462 2070.66 263.161 Z\" fill=\"#000000\" fill-rule=\"evenodd\" fill-opacity=\"1\" /><path clip-path=\"url(#clip310)\" d=\"M2109.99 263.068 Q2104.83 263.068 2102.84 264.249 Q2100.85 265.429 2100.85 268.277 Q2100.85 270.545 2102.33 271.888 Q2103.83 273.207 2106.4 273.207 Q2109.94 273.207 2112.07 270.707 Q2114.23 268.184 2114.23 264.017 L2114.23 263.068 L2109.99 263.068 M2118.49 261.309 L2118.49 276.101 L2114.23 276.101 L2114.23 272.166 Q2112.77 274.527 2110.59 275.661 Q2108.42 276.772 2105.27 276.772 Q2101.29 276.772 2098.93 274.55 Q2096.59 272.304 2096.59 268.554 Q2096.59 264.179 2099.51 261.957 Q2102.44 259.735 2108.26 259.735 L2114.23 259.735 L2114.23 259.318 Q2114.23 256.379 2112.28 254.781 Q2110.36 253.161 2106.87 253.161 Q2104.64 253.161 2102.54 253.693 Q2100.43 254.226 2098.49 255.291 L2098.49 251.355 Q2100.82 250.453 2103.02 250.013 Q2105.22 249.55 2107.31 249.55 Q2112.93 249.55 2115.71 252.467 Q2118.49 255.383 2118.49 261.309 Z\" fill=\"#000000\" fill-rule=\"evenodd\" fill-opacity=\"1\" /><path clip-path=\"url(#clip310)\" d=\"M2131.47 242.814 L2131.47 250.175 L2140.25 250.175 L2140.25 253.485 L2131.47 253.485 L2131.47 267.559 Q2131.47 270.73 2132.33 271.633 Q2133.21 272.536 2135.87 272.536 L2140.25 272.536 L2140.25 276.101 L2135.87 276.101 Q2130.94 276.101 2129.07 274.272 Q2127.19 272.42 2127.19 267.559 L2127.19 253.485 L2124.07 253.485 L2124.07 250.175 L2127.19 250.175 L2127.19 242.814 L2131.47 242.814 Z\" fill=\"#000000\" fill-rule=\"evenodd\" fill-opacity=\"1\" /><path clip-path=\"url(#clip310)\" d=\"M2155.89 253.161 Q2152.47 253.161 2150.48 255.846 Q2148.49 258.508 2148.49 263.161 Q2148.49 267.814 2150.45 270.499 Q2152.44 273.161 2155.89 273.161 Q2159.3 273.161 2161.29 270.476 Q2163.28 267.791 2163.28 263.161 Q2163.28 258.555 2161.29 255.869 Q2159.3 253.161 2155.89 253.161 M2155.89 249.55 Q2161.45 249.55 2164.62 253.161 Q2167.79 256.772 2167.79 263.161 Q2167.79 269.527 2164.62 273.161 Q2161.45 276.772 2155.89 276.772 Q2150.32 276.772 2147.14 273.161 Q2144 269.527 2144 263.161 Q2144 256.772 2147.14 253.161 Q2150.32 249.55 2155.89 249.55 Z\" fill=\"#000000\" fill-rule=\"evenodd\" fill-opacity=\"1\" /><path clip-path=\"url(#clip310)\" d=\"M2189.87 254.156 Q2189.16 253.74 2188.3 253.555 Q2187.47 253.346 2186.45 253.346 Q2182.84 253.346 2180.89 255.707 Q2178.97 258.045 2178.97 262.443 L2178.97 276.101 L2174.69 276.101 L2174.69 250.175 L2178.97 250.175 L2178.97 254.203 Q2180.31 251.842 2182.47 250.707 Q2184.62 249.55 2187.7 249.55 Q2188.14 249.55 2188.67 249.619 Q2189.2 249.666 2189.85 249.781 L2189.87 254.156 Z\" fill=\"#000000\" fill-rule=\"evenodd\" fill-opacity=\"1\" /><path clip-path=\"url(#clip310)\" d=\"M2227.08 256.73 Q2227.08 257.058 2226.87 257.831 L2222.28 276.148 Q2221.27 280.223 2217.99 283.081 Q2214.73 285.938 2211.03 285.938 Q2208.81 285.938 2207.38 284.744 Q2205.95 283.572 2205.95 281.769 Q2205.95 280.176 2206.79 279.403 Q2207.64 278.654 2208.65 278.654 Q2208.97 278.654 2209.32 278.747 Q2209.68 278.841 2210.05 279.239 Q2210.43 279.638 2210.43 280.317 Q2210.43 281.418 2209.46 282.284 Q2209 282.682 2208.55 282.776 Q2208.13 282.87 2207.4 282.87 Q2207.68 283.526 2208.2 283.971 Q2208.72 284.416 2209.3 284.58 Q2209.89 284.767 2210.26 284.814 Q2210.66 284.884 2211.03 284.884 Q2214.03 284.884 2216.33 281.863 Q2217.01 280.949 2217.5 280.036 Q2218.01 279.146 2218.39 278.045 Q2218.76 276.967 2218.93 276.382 Q2219.11 275.796 2219.44 274.461 Q2217.26 276.639 2214.59 276.639 Q2213.47 276.639 2212.46 276.335 Q2211.48 276.03 2210.61 275.398 Q2209.75 274.742 2209.23 273.595 Q2208.74 272.447 2208.74 270.924 Q2208.74 269.308 2209.37 267.106 Q2210 264.905 2211.53 260.853 Q2212.35 258.581 2212.35 257.48 Q2212.35 256.941 2212.23 256.613 Q2212.11 256.262 2211.88 256.145 Q2211.64 256.004 2211.5 255.981 Q2211.39 255.957 2211.15 255.957 Q2209.77 255.957 2208.48 257.363 Q2207.19 258.768 2206.3 261.907 Q2206.12 262.492 2206 262.633 Q2205.88 262.773 2205.53 262.773 Q2204.94 262.75 2204.94 262.281 Q2204.94 262.094 2205.16 261.368 Q2205.37 260.618 2205.86 259.518 Q2206.37 258.393 2207.08 257.386 Q2207.78 256.356 2208.88 255.629 Q2210 254.903 2211.29 254.903 Q2213.05 254.903 2214.13 256.051 Q2215.23 257.175 2215.23 258.838 Q2215.23 259.518 2215.04 260.127 Q2214.88 260.712 2214.27 262.281 Q2211.81 268.606 2211.81 271.697 Q2211.81 272.447 2211.92 273.079 Q2212.06 273.688 2212.37 274.297 Q2212.67 274.883 2213.28 275.234 Q2213.92 275.562 2214.78 275.562 Q2215.88 275.562 2216.91 275.047 Q2217.97 274.508 2218.62 273.782 Q2219.3 273.056 2219.7 272.447 Q2220.12 271.814 2220.22 271.486 L2222.37 262.867 L2223.33 259.026 Q2223.78 256.941 2223.99 256.426 Q2224.27 255.934 2224.76 255.676 Q2225.25 255.419 2225.67 255.419 Q2226.26 255.419 2226.66 255.77 Q2227.08 256.121 2227.08 256.73 Z\" fill=\"#000000\" fill-rule=\"evenodd\" fill-opacity=\"1\" /></svg>\n"
      ]
     },
     "execution_count": 23,
     "metadata": {},
     "output_type": "execute_result"
    }
   ],
   "source": [
    "ts = result.t;\n",
    "xs = result[1, :];\n",
    "ys = result[2, :];\n",
    "a, b, c, d = params;\n",
    "plt = plot(ts, [xs ys];\n",
    "    line=([1 1.5], [:solid  :dash]),\n",
    "    label=[\"prey \\$x\\$\" \"predator \\$y\\$\"],\n",
    "    title=\"Lotoka-Volterra \\$a=$(a), b=$(b), c=$(c), d=$(d)\\$\",\n",
    "    xlabel=\"\\$t\\$\",\n",
    ")"
   ]
  },
  {
   "cell_type": "code",
   "execution_count": 24,
   "id": "2c5ff1e3",
   "metadata": {
    "ExecuteTime": {
     "end_time": "2023-01-28T14:45:17.847000+09:00",
     "start_time": "2023-01-28T05:45:17.321Z"
    }
   },
   "outputs": [],
   "source": [
    "savefig(plt, \"lotka_volterra_plot2.svg\")"
   ]
  }
 ],
 "metadata": {
  "jupytext": {
   "encoding": "# -*- coding: utf-8 -*-",
   "formats": "ipynb,jl:light"
  },
  "kernelspec": {
   "display_name": "Julia 1.8.5",
   "language": "julia",
   "name": "julia-1.8"
  },
  "language_info": {
   "file_extension": ".jl",
   "mimetype": "application/julia",
   "name": "julia",
   "version": "1.8.5"
  }
 },
 "nbformat": 4,
 "nbformat_minor": 5
}
