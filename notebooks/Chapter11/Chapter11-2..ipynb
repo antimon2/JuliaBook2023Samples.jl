{
 "cells": [
  {
   "cell_type": "code",
   "execution_count": 1,
   "id": "ee326a1f",
   "metadata": {
    "ExecuteTime": {
     "end_time": "2023-01-28T14:24:26.209000+09:00",
     "start_time": "2023-01-28T05:24:24.382Z"
    }
   },
   "outputs": [
    {
     "name": "stdout",
     "output_type": "stream",
     "text": [
      "Julia Version 1.8.5\n",
      "Commit 17cfb8e65ea (2023-01-08 06:45 UTC)\n",
      "Platform Info:\n",
      "  OS: Linux (x86_64-linux-gnu)\n",
      "  CPU: 12 × Intel(R) Core(TM) i7-9750H CPU @ 2.60GHz\n",
      "  WORD_SIZE: 64\n",
      "  LIBM: libopenlibm\n",
      "  LLVM: libLLVM-13.0.1 (ORCJIT, skylake)\n",
      "  Threads: 1 on 12 virtual cores\n"
     ]
    }
   ],
   "source": [
    "versioninfo()"
   ]
  },
  {
   "cell_type": "markdown",
   "id": "c5e77f46",
   "metadata": {},
   "source": [
    "## 11-2. NLsolve.jl による非線形方程式の求解"
   ]
  },
  {
   "cell_type": "markdown",
   "id": "df466b96",
   "metadata": {},
   "source": [
    "※ 本文とは環境等を少し変えています（コードはほぼ同一です）"
   ]
  },
  {
   "cell_type": "code",
   "execution_count": 2,
   "id": "439e99e0",
   "metadata": {
    "ExecuteTime": {
     "end_time": "2023-01-28T14:24:27.836000+09:00",
     "start_time": "2023-01-28T05:24:26.671Z"
    }
   },
   "outputs": [
    {
     "name": "stderr",
     "output_type": "stream",
     "text": [
      "\u001b[32m\u001b[1m  Activating\u001b[22m\u001b[39m new project at `/path/to/JuliaBook2023Samples/notebooks/Chapter11/NLSolveSample`\n"
     ]
    }
   ],
   "source": [
    "]activate NLSolveSample"
   ]
  },
  {
   "cell_type": "markdown",
   "id": "62c1c997",
   "metadata": {},
   "source": [
    "### コード11-4. `NLsolve.jl` パッケージの追加"
   ]
  },
  {
   "cell_type": "markdown",
   "id": "9d9c6447",
   "metadata": {},
   "source": [
    "```julia\n",
    "julia> # `]` をタイプしてパッケージモードに移行\n",
    "\n",
    "(@v1.7) pkg> add NLsolve\n",
    "    Updating registry at `~/.julia/registries/General`\n",
    "    Updating git-repo `https://github.com/JuliaRegistries/General`\n",
    "   Resolving package versions...\n",
    "    Updating `~/.julia/environments/v1.7/Project.toml`\n",
    "  [2774e3e8] + NLsolve v4.5.1\n",
    "    Updating `~/.julia/environments/v1.7/Manifest.toml`\n",
    "  [4fba245c] + ArrayInterface v5.0.5\n",
    "  [d360d2e6] + ChainRulesCore v1.14.0\n",
    "   ：《以下略》\n",
    "\n",
    "(@v1.7) pkg> st NLsolve\n",
    "      Status `~/.julia/environments/v1.7/Project.toml`\n",
    "  [2774e3e8] NLsolve v4.5.1\n",
    "\n",
    "(@v1.7) pkg> st -m\n",
    "      Status `~/.julia/environments/v1.7/Manifest.toml`\n",
    "   ：《中略》\n",
    "  [6a86dc24] FiniteDiff v2.11.0\n",
    "  [f6369f11] ForwardDiff v0.10.25\n",
    "   ：《中略》\n",
    "  [d41bc354] NLSolversBase v7.8.2\n",
    "  [2774e3e8] NLsolve v4.5.1\n",
    "   ：《以下略》\n",
    "```"
   ]
  },
  {
   "cell_type": "code",
   "execution_count": 3,
   "id": "ae201f27",
   "metadata": {
    "ExecuteTime": {
     "end_time": "2023-01-28T14:24:46.008000+09:00",
     "start_time": "2023-01-28T05:24:32.708Z"
    },
    "scrolled": true
   },
   "outputs": [
    {
     "name": "stderr",
     "output_type": "stream",
     "text": [
      "\u001b[32m\u001b[1m    Updating\u001b[22m\u001b[39m registry at `~/.julia/registries/General`\n",
      "\u001b[32m\u001b[1m    Updating\u001b[22m\u001b[39m git-repo `git@github.com:JuliaRegistries/General.git`\n",
      "\u001b[32m\u001b[1m   Resolving\u001b[22m\u001b[39m package versions...\n",
      "\u001b[32m\u001b[1m    Updating\u001b[22m\u001b[39m `/path/to/JuliaBook2023Samples/notebooks/Chapter11/NLSolveSample/Project.toml`\n",
      " \u001b[90m [2774e3e8] \u001b[39m\u001b[92m+ NLsolve v4.5.1\u001b[39m\n",
      "\u001b[32m\u001b[1m    Updating\u001b[22m\u001b[39m `/path/to/JuliaBook2023Samples/notebooks/Chapter11/NLSolveSample/Manifest.toml`\n",
      " \u001b[90m [30b0a656] \u001b[39m\u001b[92m+ ArrayInterfaceCore v0.1.29\u001b[39m\n",
      " \u001b[90m [d360d2e6] \u001b[39m\u001b[92m+ ChainRulesCore v1.15.7\u001b[39m\n",
      " \u001b[90m [9e997f8a] \u001b[39m\u001b[92m+ ChangesOfVariables v0.1.5\u001b[39m\n",
      " \u001b[90m [bbf7d656] \u001b[39m\u001b[92m+ CommonSubexpressions v0.3.0\u001b[39m\n",
      " \u001b[90m [34da2185] \u001b[39m\u001b[92m+ Compat v4.5.0\u001b[39m\n",
      " \u001b[90m [187b0558] \u001b[39m\u001b[92m+ ConstructionBase v1.4.1\u001b[39m\n",
      " \u001b[90m [163ba53b] \u001b[39m\u001b[92m+ DiffResults v1.1.0\u001b[39m\n",
      " \u001b[90m [b552c78f] \u001b[39m\u001b[92m+ DiffRules v1.12.2\u001b[39m\n",
      " \u001b[90m [b4f34e82] \u001b[39m\u001b[92m+ Distances v0.10.7\u001b[39m\n",
      " \u001b[90m [ffbed154] \u001b[39m\u001b[92m+ DocStringExtensions v0.9.3\u001b[39m\n",
      " \u001b[90m [6a86dc24] \u001b[39m\u001b[92m+ FiniteDiff v2.17.0\u001b[39m\n",
      " \u001b[90m [f6369f11] \u001b[39m\u001b[92m+ ForwardDiff v0.10.34\u001b[39m\n",
      " \u001b[90m [3587e190] \u001b[39m\u001b[92m+ InverseFunctions v0.1.8\u001b[39m\n",
      " \u001b[90m [92d709cd] \u001b[39m\u001b[92m+ IrrationalConstants v0.1.1\u001b[39m\n",
      " \u001b[90m [692b3bcd] \u001b[39m\u001b[92m+ JLLWrappers v1.4.1\u001b[39m\n",
      " \u001b[90m [d3d80556] \u001b[39m\u001b[92m+ LineSearches v7.2.0\u001b[39m\n",
      " \u001b[90m [2ab3a3ac] \u001b[39m\u001b[92m+ LogExpFunctions v0.3.20\u001b[39m\n",
      " \u001b[90m [1914dd2f] \u001b[39m\u001b[92m+ MacroTools v0.5.10\u001b[39m\n",
      " \u001b[90m [d41bc354] \u001b[39m\u001b[92m+ NLSolversBase v7.8.3\u001b[39m\n",
      " \u001b[90m [2774e3e8] \u001b[39m\u001b[92m+ NLsolve v4.5.1\u001b[39m\n",
      " \u001b[90m [77ba4419] \u001b[39m\u001b[92m+ NaNMath v1.0.1\u001b[39m\n",
      " \u001b[90m [bac558e1] \u001b[39m\u001b[92m+ OrderedCollections v1.4.1\u001b[39m\n",
      " \u001b[90m [d96e819e] \u001b[39m\u001b[92m+ Parameters v0.12.3\u001b[39m\n",
      " \u001b[90m [21216c6a] \u001b[39m\u001b[92m+ Preferences v1.3.0\u001b[39m\n",
      " \u001b[90m [189a3867] \u001b[39m\u001b[92m+ Reexport v1.2.2\u001b[39m\n",
      " \u001b[90m [ae029012] \u001b[39m\u001b[92m+ Requires v1.3.0\u001b[39m\n",
      " \u001b[90m [efcf1570] \u001b[39m\u001b[92m+ Setfield v1.1.1\u001b[39m\n",
      " \u001b[90m [66db9d55] \u001b[39m\u001b[92m+ SnoopPrecompile v1.0.3\u001b[39m\n",
      " \u001b[90m [276daf66] \u001b[39m\u001b[92m+ SpecialFunctions v2.1.7\u001b[39m\n",
      " \u001b[90m [90137ffa] \u001b[39m\u001b[92m+ StaticArrays v1.5.12\u001b[39m\n",
      " \u001b[90m [1e83bf80] \u001b[39m\u001b[92m+ StaticArraysCore v1.4.0\u001b[39m\n",
      " \u001b[90m [82ae8749] \u001b[39m\u001b[92m+ StatsAPI v1.5.0\u001b[39m\n",
      " \u001b[90m [3a884ed6] \u001b[39m\u001b[92m+ UnPack v1.0.2\u001b[39m\n",
      " \u001b[90m [efe28fd5] \u001b[39m\u001b[92m+ OpenSpecFun_jll v0.5.5+0\u001b[39m\n",
      " \u001b[90m [0dad84c5] \u001b[39m\u001b[92m+ ArgTools v1.1.1\u001b[39m\n",
      " \u001b[90m [56f22d72] \u001b[39m\u001b[92m+ Artifacts\u001b[39m\n",
      " \u001b[90m [2a0f44e3] \u001b[39m\u001b[92m+ Base64\u001b[39m\n",
      " \u001b[90m [ade2ca70] \u001b[39m\u001b[92m+ Dates\u001b[39m\n",
      " \u001b[90m [8ba89e20] \u001b[39m\u001b[92m+ Distributed\u001b[39m\n",
      " \u001b[90m [f43a241f] \u001b[39m\u001b[92m+ Downloads v1.6.0\u001b[39m\n",
      " \u001b[90m [7b1f6079] \u001b[39m\u001b[92m+ FileWatching\u001b[39m\n",
      " \u001b[90m [9fa8497b] \u001b[39m\u001b[92m+ Future\u001b[39m\n",
      " \u001b[90m [b77e0a4c] \u001b[39m\u001b[92m+ InteractiveUtils\u001b[39m\n",
      " \u001b[90m [b27032c2] \u001b[39m\u001b[92m+ LibCURL v0.6.3\u001b[39m\n",
      " \u001b[90m [76f85450] \u001b[39m\u001b[92m+ LibGit2\u001b[39m\n",
      " \u001b[90m [8f399da3] \u001b[39m\u001b[92m+ Libdl\u001b[39m\n",
      " \u001b[90m [37e2e46d] \u001b[39m\u001b[92m+ LinearAlgebra\u001b[39m\n",
      " \u001b[90m [56ddb016] \u001b[39m\u001b[92m+ Logging\u001b[39m\n",
      " \u001b[90m [d6f4376e] \u001b[39m\u001b[92m+ Markdown\u001b[39m\n",
      " \u001b[90m [ca575930] \u001b[39m\u001b[92m+ NetworkOptions v1.2.0\u001b[39m\n",
      " \u001b[90m [44cfe95a] \u001b[39m\u001b[92m+ Pkg v1.8.0\u001b[39m\n",
      " \u001b[90m [de0858da] \u001b[39m\u001b[92m+ Printf\u001b[39m\n",
      " \u001b[90m [3fa0cd96] \u001b[39m\u001b[92m+ REPL\u001b[39m\n",
      " \u001b[90m [9a3f8284] \u001b[39m\u001b[92m+ Random\u001b[39m\n",
      " \u001b[90m [ea8e919c] \u001b[39m\u001b[92m+ SHA v0.7.0\u001b[39m\n",
      " \u001b[90m [9e88b42a] \u001b[39m\u001b[92m+ Serialization\u001b[39m\n",
      " \u001b[90m [6462fe0b] \u001b[39m\u001b[92m+ Sockets\u001b[39m\n",
      " \u001b[90m [2f01184e] \u001b[39m\u001b[92m+ SparseArrays\u001b[39m\n",
      " \u001b[90m [10745b16] \u001b[39m\u001b[92m+ Statistics\u001b[39m\n",
      " \u001b[90m [4607b0f0] \u001b[39m\u001b[92m+ SuiteSparse\u001b[39m\n",
      " \u001b[90m [fa267f1f] \u001b[39m\u001b[92m+ TOML v1.0.0\u001b[39m\n",
      " \u001b[90m [a4e569a6] \u001b[39m\u001b[92m+ Tar v1.10.1\u001b[39m\n",
      " \u001b[90m [8dfed614] \u001b[39m\u001b[92m+ Test\u001b[39m\n",
      " \u001b[90m [cf7118a7] \u001b[39m\u001b[92m+ UUIDs\u001b[39m\n",
      " \u001b[90m [4ec0a83e] \u001b[39m\u001b[92m+ Unicode\u001b[39m\n",
      " \u001b[90m [e66e0078] \u001b[39m\u001b[92m+ CompilerSupportLibraries_jll v1.0.1+0\u001b[39m\n",
      " \u001b[90m [deac9b47] \u001b[39m\u001b[92m+ LibCURL_jll v7.84.0+0\u001b[39m\n",
      " \u001b[90m [29816b5a] \u001b[39m\u001b[92m+ LibSSH2_jll v1.10.2+0\u001b[39m\n",
      " \u001b[90m [c8ffd9c3] \u001b[39m\u001b[92m+ MbedTLS_jll v2.28.0+0\u001b[39m\n",
      " \u001b[90m [14a3606d] \u001b[39m\u001b[92m+ MozillaCACerts_jll v2022.2.1\u001b[39m\n",
      " \u001b[90m [4536629a] \u001b[39m\u001b[92m+ OpenBLAS_jll v0.3.20+0\u001b[39m\n",
      " \u001b[90m [05823500] \u001b[39m\u001b[92m+ OpenLibm_jll v0.8.1+0\u001b[39m\n",
      " \u001b[90m [83775a58] \u001b[39m\u001b[92m+ Zlib_jll v1.2.12+3\u001b[39m\n",
      " \u001b[90m [8e850b90] \u001b[39m\u001b[92m+ libblastrampoline_jll v5.1.1+0\u001b[39m\n",
      " \u001b[90m [8e850ede] \u001b[39m\u001b[92m+ nghttp2_jll v1.48.0+0\u001b[39m\n",
      " \u001b[90m [3f19e933] \u001b[39m\u001b[92m+ p7zip_jll v17.4.0+0\u001b[39m\n"
     ]
    }
   ],
   "source": [
    "]add NLsolve@4.5.1"
   ]
  },
  {
   "cell_type": "code",
   "execution_count": 4,
   "id": "46e6cf51",
   "metadata": {
    "ExecuteTime": {
     "end_time": "2023-01-28T14:24:53.180000+09:00",
     "start_time": "2023-01-28T05:24:52.392Z"
    }
   },
   "outputs": [
    {
     "name": "stdout",
     "output_type": "stream",
     "text": [
      "\u001b[32m\u001b[1mStatus\u001b[22m\u001b[39m `/path/to/JuliaBook2023Samples/notebooks/Chapter11/NLSolveSample/Project.toml`\n",
      " \u001b[90m [2774e3e8] \u001b[39mNLsolve v4.5.1\n"
     ]
    }
   ],
   "source": [
    "]st NLsolve"
   ]
  },
  {
   "cell_type": "code",
   "execution_count": 5,
   "id": "b888bef5",
   "metadata": {
    "ExecuteTime": {
     "end_time": "2023-01-28T14:24:55.157000+09:00",
     "start_time": "2023-01-28T05:24:54.527Z"
    },
    "scrolled": true
   },
   "outputs": [
    {
     "name": "stdout",
     "output_type": "stream",
     "text": [
      "\u001b[32m\u001b[1mStatus\u001b[22m\u001b[39m `/path/to/JuliaBook2023Samples/notebooks/Chapter11/NLSolveSample/Manifest.toml`\n",
      " \u001b[90m [30b0a656] \u001b[39mArrayInterfaceCore v0.1.29\n",
      " \u001b[90m [d360d2e6] \u001b[39mChainRulesCore v1.15.7\n",
      " \u001b[90m [9e997f8a] \u001b[39mChangesOfVariables v0.1.5\n",
      " \u001b[90m [bbf7d656] \u001b[39mCommonSubexpressions v0.3.0\n",
      " \u001b[90m [34da2185] \u001b[39mCompat v4.5.0\n",
      " \u001b[90m [187b0558] \u001b[39mConstructionBase v1.4.1\n",
      " \u001b[90m [163ba53b] \u001b[39mDiffResults v1.1.0\n",
      " \u001b[90m [b552c78f] \u001b[39mDiffRules v1.12.2\n",
      " \u001b[90m [b4f34e82] \u001b[39mDistances v0.10.7\n",
      " \u001b[90m [ffbed154] \u001b[39mDocStringExtensions v0.9.3\n",
      " \u001b[90m [6a86dc24] \u001b[39mFiniteDiff v2.17.0\n",
      " \u001b[90m [f6369f11] \u001b[39mForwardDiff v0.10.34\n",
      " \u001b[90m [3587e190] \u001b[39mInverseFunctions v0.1.8\n",
      " \u001b[90m [92d709cd] \u001b[39mIrrationalConstants v0.1.1\n",
      " \u001b[90m [692b3bcd] \u001b[39mJLLWrappers v1.4.1\n",
      " \u001b[90m [d3d80556] \u001b[39mLineSearches v7.2.0\n",
      " \u001b[90m [2ab3a3ac] \u001b[39mLogExpFunctions v0.3.20\n",
      " \u001b[90m [1914dd2f] \u001b[39mMacroTools v0.5.10\n",
      " \u001b[90m [d41bc354] \u001b[39mNLSolversBase v7.8.3\n",
      " \u001b[90m [2774e3e8] \u001b[39mNLsolve v4.5.1\n",
      " \u001b[90m [77ba4419] \u001b[39mNaNMath v1.0.1\n",
      " \u001b[90m [bac558e1] \u001b[39mOrderedCollections v1.4.1\n",
      " \u001b[90m [d96e819e] \u001b[39mParameters v0.12.3\n",
      " \u001b[90m [21216c6a] \u001b[39mPreferences v1.3.0\n",
      " \u001b[90m [189a3867] \u001b[39mReexport v1.2.2\n",
      " \u001b[90m [ae029012] \u001b[39mRequires v1.3.0\n",
      " \u001b[90m [efcf1570] \u001b[39mSetfield v1.1.1\n",
      " \u001b[90m [66db9d55] \u001b[39mSnoopPrecompile v1.0.3\n",
      " \u001b[90m [276daf66] \u001b[39mSpecialFunctions v2.1.7\n",
      " \u001b[90m [90137ffa] \u001b[39mStaticArrays v1.5.12\n",
      " \u001b[90m [1e83bf80] \u001b[39mStaticArraysCore v1.4.0\n",
      " \u001b[90m [82ae8749] \u001b[39mStatsAPI v1.5.0\n",
      " \u001b[90m [3a884ed6] \u001b[39mUnPack v1.0.2\n",
      " \u001b[90m [efe28fd5] \u001b[39mOpenSpecFun_jll v0.5.5+0\n",
      " \u001b[90m [0dad84c5] \u001b[39mArgTools v1.1.1\n",
      " \u001b[90m [56f22d72] \u001b[39mArtifacts\n",
      " \u001b[90m [2a0f44e3] \u001b[39mBase64\n",
      " \u001b[90m [ade2ca70] \u001b[39mDates\n",
      " \u001b[90m [8ba89e20] \u001b[39mDistributed\n",
      " \u001b[90m [f43a241f] \u001b[39mDownloads v1.6.0\n",
      " \u001b[90m [7b1f6079] \u001b[39mFileWatching\n",
      " \u001b[90m [9fa8497b] \u001b[39mFuture\n",
      " \u001b[90m [b77e0a4c] \u001b[39mInteractiveUtils\n",
      " \u001b[90m [b27032c2] \u001b[39mLibCURL v0.6.3\n",
      " \u001b[90m [76f85450] \u001b[39mLibGit2\n",
      " \u001b[90m [8f399da3] \u001b[39mLibdl\n",
      " \u001b[90m [37e2e46d] \u001b[39mLinearAlgebra\n",
      " \u001b[90m [56ddb016] \u001b[39mLogging\n",
      " \u001b[90m [d6f4376e] \u001b[39mMarkdown\n",
      " \u001b[90m [ca575930] \u001b[39mNetworkOptions v1.2.0\n",
      " \u001b[90m [44cfe95a] \u001b[39mPkg v1.8.0\n",
      " \u001b[90m [de0858da] \u001b[39mPrintf\n",
      " \u001b[90m [3fa0cd96] \u001b[39mREPL\n",
      " \u001b[90m [9a3f8284] \u001b[39mRandom\n",
      " \u001b[90m [ea8e919c] \u001b[39mSHA v0.7.0\n",
      " \u001b[90m [9e88b42a] \u001b[39mSerialization\n",
      " \u001b[90m [6462fe0b] \u001b[39mSockets\n",
      " \u001b[90m [2f01184e] \u001b[39mSparseArrays\n",
      " \u001b[90m [10745b16] \u001b[39mStatistics\n",
      " \u001b[90m [4607b0f0] \u001b[39mSuiteSparse\n",
      " \u001b[90m [fa267f1f] \u001b[39mTOML v1.0.0\n",
      " \u001b[90m [a4e569a6] \u001b[39mTar v1.10.1\n",
      " \u001b[90m [8dfed614] \u001b[39mTest\n",
      " \u001b[90m [cf7118a7] \u001b[39mUUIDs\n",
      " \u001b[90m [4ec0a83e] \u001b[39mUnicode\n",
      " \u001b[90m [e66e0078] \u001b[39mCompilerSupportLibraries_jll v1.0.1+0\n",
      " \u001b[90m [deac9b47] \u001b[39mLibCURL_jll v7.84.0+0\n",
      " \u001b[90m [29816b5a] \u001b[39mLibSSH2_jll v1.10.2+0\n",
      " \u001b[90m [c8ffd9c3] \u001b[39mMbedTLS_jll v2.28.0+0\n",
      " \u001b[90m [14a3606d] \u001b[39mMozillaCACerts_jll v2022.2.1\n",
      " \u001b[90m [4536629a] \u001b[39mOpenBLAS_jll v0.3.20+0\n",
      " \u001b[90m [05823500] \u001b[39mOpenLibm_jll v0.8.1+0\n",
      " \u001b[90m [83775a58] \u001b[39mZlib_jll v1.2.12+3\n",
      " \u001b[90m [8e850b90] \u001b[39mlibblastrampoline_jll v5.1.1+0\n",
      " \u001b[90m [8e850ede] \u001b[39mnghttp2_jll v1.48.0+0\n",
      " \u001b[90m [3f19e933] \u001b[39mp7zip_jll v17.4.0+0\n"
     ]
    }
   ],
   "source": [
    "]st -m"
   ]
  },
  {
   "cell_type": "markdown",
   "id": "15da1ee4",
   "metadata": {},
   "source": [
    "$$\n",
    "\\begin{cases}\n",
    "\\begin{aligned}\n",
    "u(x, y) &= (x + 3)(y^3-7)+18 \\\\\n",
    "v(x, y) &= \\sin(y \\cdot \\mathrm{e}^x-1)\n",
    "\\end{aligned}\n",
    "\\end{cases}\n",
    "$$"
   ]
  },
  {
   "cell_type": "markdown",
   "id": "1fc927f8",
   "metadata": {},
   "source": [
    "### コード11-5. `NLsolve.jl` の使用例(1) （README に記載のサンプル）"
   ]
  },
  {
   "cell_type": "code",
   "execution_count": 6,
   "id": "8f8c6e3f",
   "metadata": {
    "ExecuteTime": {
     "end_time": "2023-01-28T14:24:59.132000+09:00",
     "start_time": "2023-01-28T05:24:57.692Z"
    }
   },
   "outputs": [],
   "source": [
    "using NLsolve"
   ]
  },
  {
   "cell_type": "code",
   "execution_count": 7,
   "id": "e6d0b7bc",
   "metadata": {
    "ExecuteTime": {
     "end_time": "2023-01-28T14:25:00.278000+09:00",
     "start_time": "2023-01-28T05:24:59.166Z"
    }
   },
   "outputs": [
    {
     "data": {
      "text/plain": [
       "f! (generic function with 1 method)"
      ]
     },
     "execution_count": 7,
     "metadata": {},
     "output_type": "execute_result"
    }
   ],
   "source": [
    "function f!(F, xy)\n",
    "    x, y = xy\n",
    "    F[1] = (x+3)*(y^3-7)+18  # u\n",
    "    F[2] = sin(y*exp(x)-1)  # v\n",
    "end"
   ]
  },
  {
   "cell_type": "code",
   "execution_count": 8,
   "id": "00f83b9c",
   "metadata": {
    "ExecuteTime": {
     "end_time": "2023-01-28T14:25:00.842000+09:00",
     "start_time": "2023-01-28T05:25:00.176Z"
    }
   },
   "outputs": [
    {
     "data": {
      "text/plain": [
       "j! (generic function with 1 method)"
      ]
     },
     "execution_count": 8,
     "metadata": {},
     "output_type": "execute_result"
    }
   ],
   "source": [
    "function j!(J, xy)\n",
    "    x, y = xy\n",
    "    J[1, 1] = y^3-7  # ∂u/∂x\n",
    "    J[1, 2] = 3y^2*(x+3)  # ∂u/∂y\n",
    "    ∂v_∂y = exp(x)*cos(y*exp(x)-1)  # ∂v/∂y\n",
    "    J[2, 1] = y*∂v_∂y  # ∂v/∂x\n",
    "    J[2, 2] = ∂v_∂y\n",
    "end"
   ]
  },
  {
   "cell_type": "code",
   "execution_count": 9,
   "id": "4919d3ad",
   "metadata": {
    "ExecuteTime": {
     "end_time": "2023-01-28T14:25:06.632000+09:00",
     "start_time": "2023-01-28T05:25:01.155Z"
    }
   },
   "outputs": [
    {
     "data": {
      "text/plain": [
       "Results of Nonlinear Solver Algorithm\n",
       " * Algorithm: Trust-region with dogleg and autoscaling\n",
       " * Starting Point: [0.1, 1.2]\n",
       " * Zero: [-3.7818049096324184e-16, 1.0000000000000002]\n",
       " * Inf-norm of residuals: 0.000000\n",
       " * Iterations: 4\n",
       " * Convergence: true\n",
       "   * |x - x'| < 0.0e+00: false\n",
       "   * |f(x)| < 1.0e-08: true\n",
       " * Function Calls (f): 5\n",
       " * Jacobian Calls (df/dx): 5"
      ]
     },
     "execution_count": 9,
     "metadata": {},
     "output_type": "execute_result"
    }
   ],
   "source": [
    "sol_uv = nlsolve(f!, j!, [0.1, 1.2])"
   ]
  },
  {
   "cell_type": "markdown",
   "id": "b13ddcad",
   "metadata": {},
   "source": [
    "$$\n",
    "J = \\begin{bmatrix}\n",
    "\\begin{aligned}\\frac{\\partial u}{\\partial x}\\end{aligned} & \\begin{aligned}\\frac{\\partial u}{\\partial y}\\end{aligned} \\\\\n",
    "\\begin{aligned}\\frac{\\partial u}{\\partial x}\\end{aligned} & \\begin{aligned}\\frac{\\partial u}{\\partial y}\\end{aligned} \\\\\n",
    "\\end{bmatrix} = \\left [\\ \\begin{array}{ll}\n",
    "y^3-7 & 3y^2 \\ (x+3) \\\\\n",
    "y \\ \\mathrm{e}^x \\cos(y \\ \\mathrm{e}^x-1) & \\mathrm{e}^x \\cos(y \\ \\mathrm{e}^x-1)\n",
    "\\end{array} \\right ]\n",
    "$$"
   ]
  },
  {
   "cell_type": "markdown",
   "id": "c1165bcb",
   "metadata": {},
   "source": [
    "### コード11-6. 求解結果の確認"
   ]
  },
  {
   "cell_type": "code",
   "execution_count": 10,
   "id": "04c84312",
   "metadata": {
    "ExecuteTime": {
     "end_time": "2023-01-28T14:25:08.428000+09:00",
     "start_time": "2023-01-28T05:25:07.714Z"
    }
   },
   "outputs": [
    {
     "data": {
      "text/plain": [
       "true"
      ]
     },
     "execution_count": 10,
     "metadata": {},
     "output_type": "execute_result"
    }
   ],
   "source": [
    "sol_uv.f_converged"
   ]
  },
  {
   "cell_type": "code",
   "execution_count": 11,
   "id": "30ae380d",
   "metadata": {
    "ExecuteTime": {
     "end_time": "2023-01-28T14:25:09.375000+09:00",
     "start_time": "2023-01-28T05:25:08.758Z"
    }
   },
   "outputs": [
    {
     "data": {
      "text/plain": [
       "true"
      ]
     },
     "execution_count": 11,
     "metadata": {},
     "output_type": "execute_result"
    }
   ],
   "source": [
    "sol_uv.zero ≈ [0.0, 1.0]"
   ]
  },
  {
   "cell_type": "code",
   "execution_count": 12,
   "id": "9b7cf5ce",
   "metadata": {
    "ExecuteTime": {
     "end_time": "2023-01-28T14:25:10.636000+09:00",
     "start_time": "2023-01-28T05:25:10.082Z"
    }
   },
   "outputs": [],
   "source": [
    "res = similar(sol_uv.zero, 2); f!(res, sol_uv.zero);"
   ]
  },
  {
   "cell_type": "code",
   "execution_count": 13,
   "id": "0150757c",
   "metadata": {
    "ExecuteTime": {
     "end_time": "2023-01-28T14:25:11.059000+09:00",
     "start_time": "2023-01-28T05:25:10.480Z"
    }
   },
   "outputs": [
    {
     "data": {
      "text/plain": [
       "true"
      ]
     },
     "execution_count": 13,
     "metadata": {},
     "output_type": "execute_result"
    }
   ],
   "source": [
    "# res ≈ [0.0, 0.0]  # ←NG!\n",
    "≈(res, [0.0, 0.0]; atol=1e-8)"
   ]
  },
  {
   "cell_type": "markdown",
   "id": "0fa26c02",
   "metadata": {},
   "source": [
    "### コード11-7. `NLsolve.jl` の使用例(2) （自動微分を利用する場合）"
   ]
  },
  {
   "cell_type": "code",
   "execution_count": 14,
   "id": "fdd559e9",
   "metadata": {
    "ExecuteTime": {
     "end_time": "2023-01-28T14:25:13.533000+09:00",
     "start_time": "2023-01-28T05:25:12.160Z"
    }
   },
   "outputs": [
    {
     "data": {
      "text/plain": [
       "Results of Nonlinear Solver Algorithm\n",
       " * Algorithm: Trust-region with dogleg and autoscaling\n",
       " * Starting Point: [0.1, 1.2]\n",
       " * Zero: [-7.775548712324193e-17, 0.9999999999999999]\n",
       " * Inf-norm of residuals: 0.000000\n",
       " * Iterations: 4\n",
       " * Convergence: true\n",
       "   * |x - x'| < 0.0e+00: false\n",
       "   * |f(x)| < 1.0e-08: true\n",
       " * Function Calls (f): 5\n",
       " * Jacobian Calls (df/dx): 5"
      ]
     },
     "execution_count": 14,
     "metadata": {},
     "output_type": "execute_result"
    }
   ],
   "source": [
    "# `j!` 指定しなくても求解可能（内部で自動微分が実施される）\n",
    "nlsolve(f!, [0.1, 1.2])"
   ]
  },
  {
   "cell_type": "code",
   "execution_count": 15,
   "id": "9f23064a",
   "metadata": {
    "ExecuteTime": {
     "end_time": "2023-01-28T14:25:14.839000+09:00",
     "start_time": "2023-01-28T05:25:13.610Z"
    }
   },
   "outputs": [
    {
     "data": {
      "text/plain": [
       "Results of Nonlinear Solver Algorithm\n",
       " * Algorithm: Trust-region with dogleg and autoscaling\n",
       " * Starting Point: [0.1, 1.2]\n",
       " * Zero: [-3.7818049096324184e-16, 1.0000000000000002]\n",
       " * Inf-norm of residuals: 0.000000\n",
       " * Iterations: 4\n",
       " * Convergence: true\n",
       "   * |x - x'| < 0.0e+00: false\n",
       "   * |f(x)| < 1.0e-08: true\n",
       " * Function Calls (f): 5\n",
       " * Jacobian Calls (df/dx): 5"
      ]
     },
     "execution_count": 15,
     "metadata": {},
     "output_type": "execute_result"
    }
   ],
   "source": [
    "# `ForwardDiff` 利用を指定\n",
    "nlsolve(f!, [0.1, 1.2]; autodiff=:forward)"
   ]
  },
  {
   "cell_type": "markdown",
   "id": "a3b2c9b6",
   "metadata": {},
   "source": [
    "### コード11-8. `NLsolve.jl` の使用例(3) （解法を指定）"
   ]
  },
  {
   "cell_type": "code",
   "execution_count": 16,
   "id": "1d5093b4",
   "metadata": {
    "ExecuteTime": {
     "end_time": "2023-01-28T14:25:16.394000+09:00",
     "start_time": "2023-01-28T05:25:15.834Z"
    }
   },
   "outputs": [
    {
     "data": {
      "text/plain": [
       "Results of Nonlinear Solver Algorithm\n",
       " * Algorithm: Newton with line-search\n",
       " * Starting Point: [0.1, 1.2]\n",
       " * Zero: [-3.7818049096324184e-16, 1.0000000000000002]\n",
       " * Inf-norm of residuals: 0.000000\n",
       " * Iterations: 4\n",
       " * Convergence: true\n",
       "   * |x - x'| < 0.0e+00: false\n",
       "   * |f(x)| < 1.0e-08: true\n",
       " * Function Calls (f): 5\n",
       " * Jacobian Calls (df/dx): 5"
      ]
     },
     "execution_count": 16,
     "metadata": {},
     "output_type": "execute_result"
    }
   ],
   "source": [
    "# 自動微分に `ForwardDiff` 利用を指定、解法に :newton を指定\n",
    "nlsolve(f!, [0.1, 1.2]; autodiff=:forward, method=:newton)"
   ]
  },
  {
   "cell_type": "code",
   "execution_count": 17,
   "id": "51de0ef5",
   "metadata": {
    "ExecuteTime": {
     "end_time": "2023-01-28T14:25:17.636000+09:00",
     "start_time": "2023-01-28T05:25:17.078Z"
    }
   },
   "outputs": [
    {
     "data": {
      "text/plain": [
       "Results of Nonlinear Solver Algorithm\n",
       " * Algorithm: broyden without line-search\n",
       " * Starting Point: [0.1, 1.2]\n",
       " * Zero: [7.681043703429256e-12, 1.0000000000322504]\n",
       " * Inf-norm of residuals: 0.000000\n",
       " * Iterations: 8\n",
       " * Convergence: true\n",
       "   * |x - x'| < 0.0e+00: false\n",
       "   * |f(x)| < 1.0e-08: true\n",
       " * Function Calls (f): 41\n",
       " * Jacobian Calls (df/dx): 0"
      ]
     },
     "execution_count": 17,
     "metadata": {},
     "output_type": "execute_result"
    }
   ],
   "source": [
    "# 解法に :broyden を指定（!j 不要）\n",
    "nlsolve(f!, [0.1, 1.2]; method=:broyden)"
   ]
  },
  {
   "cell_type": "code",
   "execution_count": 18,
   "id": "2c5ff1e3",
   "metadata": {
    "ExecuteTime": {
     "end_time": "2023-01-28T14:25:18.861000+09:00",
     "start_time": "2023-01-28T05:25:17.589Z"
    }
   },
   "outputs": [
    {
     "data": {
      "text/plain": [
       "Results of Nonlinear Solver Algorithm\n",
       " * Algorithm: Anderson m=2 beta=1 aa_start=1 droptol=1.0e10\n",
       " * Starting Point: [0.1, 1.2]\n",
       " * Zero: [6.546901238425849e-13, 0.9999999999970071]\n",
       " * Inf-norm of residuals: 0.000000\n",
       " * Iterations: 29\n",
       " * Convergence: true\n",
       "   * |x - x'| < 0.0e+00: false\n",
       "   * |f(x)| < 1.0e-08: true\n",
       " * Function Calls (f): 29\n",
       " * Jacobian Calls (df/dx): 0"
      ]
     },
     "execution_count": 18,
     "metadata": {},
     "output_type": "execute_result"
    }
   ],
   "source": [
    "# 解法に :anderson を指定（!j 不要）\n",
    "nlsolve(f!, [0.1, 1.2]; method=:anderson)"
   ]
  }
 ],
 "metadata": {
  "jupytext": {
   "formats": "ipynb,auto:light"
  },
  "kernelspec": {
   "display_name": "Julia 1.8.5",
   "language": "julia",
   "name": "julia-1.8"
  },
  "language_info": {
   "file_extension": ".jl",
   "mimetype": "application/julia",
   "name": "julia",
   "version": "1.8.5"
  }
 },
 "nbformat": 4,
 "nbformat_minor": 5
}
