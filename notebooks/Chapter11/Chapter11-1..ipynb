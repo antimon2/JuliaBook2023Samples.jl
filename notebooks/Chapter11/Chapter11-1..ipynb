{
 "cells": [
  {
   "cell_type": "code",
   "execution_count": 1,
   "id": "ba988583",
   "metadata": {
    "ExecuteTime": {
     "end_time": "2023-01-28T14:10:04.177000+09:00",
     "start_time": "2023-01-28T05:10:02.319Z"
    }
   },
   "outputs": [
    {
     "name": "stdout",
     "output_type": "stream",
     "text": [
      "Julia Version 1.8.5\n",
      "Commit 17cfb8e65ea (2023-01-08 06:45 UTC)\n",
      "Platform Info:\n",
      "  OS: Linux (x86_64-linux-gnu)\n",
      "  CPU: 12 × Intel(R) Core(TM) i7-9750H CPU @ 2.60GHz\n",
      "  WORD_SIZE: 64\n",
      "  LIBM: libopenlibm\n",
      "  LLVM: libLLVM-13.0.1 (ORCJIT, skylake)\n",
      "  Threads: 1 on 12 virtual cores\n"
     ]
    }
   ],
   "source": [
    "versioninfo()"
   ]
  },
  {
   "cell_type": "markdown",
   "id": "643cf663",
   "metadata": {},
   "source": [
    "## 11-1. Juliaで数値計算"
   ]
  },
  {
   "cell_type": "markdown",
   "id": "1829c8e9",
   "metadata": {},
   "source": [
    "$$\n",
    "\\begin{cases}\n",
    "\\begin{aligned}\n",
    "x + 2y &= 1 \\\\\n",
    "3x + 5y &= 2\n",
    "\\end{aligned}\n",
    "\\end{cases}\n",
    "$$\n"
   ]
  },
  {
   "cell_type": "markdown",
   "id": "04b47ba0",
   "metadata": {},
   "source": [
    "$$\n",
    "\\begin{eqnarray}\n",
    "\\begin{pmatrix}\n",
    "1 & 2 \\\\ 3 & 5\n",
    "\\end{pmatrix} \\begin{pmatrix}\n",
    "x \\\\ y\n",
    "\\end{pmatrix} &=& \\begin{pmatrix}\n",
    "1 \\\\ 2\n",
    "\\end{pmatrix} \\\\\n",
    "\\begin{pmatrix}\n",
    "x \\\\ y\n",
    "\\end{pmatrix} &=& \\begin{pmatrix}\n",
    "1 & 2 \\\\ 3 & 5\n",
    "\\end{pmatrix}^{-1}\\begin{pmatrix}\n",
    "1 \\\\ 2\n",
    "\\end{pmatrix}\n",
    "\\end{eqnarray}\n",
    "$$\n"
   ]
  },
  {
   "cell_type": "markdown",
   "id": "e8103859",
   "metadata": {},
   "source": [
    "### コード11-1. 数値線型代数の例（連立1次方程式の求解）"
   ]
  },
  {
   "cell_type": "code",
   "execution_count": 2,
   "id": "45650a7d",
   "metadata": {
    "ExecuteTime": {
     "end_time": "2023-01-28T14:12:43.323000+09:00",
     "start_time": "2023-01-28T05:12:42.731Z"
    }
   },
   "outputs": [],
   "source": [
    "A = [1. 2.\n",
    "     3. 5.];\n",
    "\n",
    "b = [1., 2.];"
   ]
  },
  {
   "cell_type": "code",
   "execution_count": 3,
   "id": "7cf599c6",
   "metadata": {
    "ExecuteTime": {
     "end_time": "2023-01-28T14:12:46.001000+09:00",
     "start_time": "2023-01-28T05:12:43.598Z"
    }
   },
   "outputs": [
    {
     "data": {
      "text/plain": [
       "2-element Vector{Float64}:\n",
       " -0.9999999999999994\n",
       "  0.9999999999999997"
      ]
     },
     "execution_count": 3,
     "metadata": {},
     "output_type": "execute_result"
    }
   ],
   "source": [
    "# x, y = A^(-1) * b\n",
    "# x, y = inv(A) * b\n",
    "# ↑これらでも良いが↓こちらの方がさらに良い\n",
    "x, y = A \\ b"
   ]
  },
  {
   "cell_type": "code",
   "execution_count": 4,
   "id": "b4980e0e",
   "metadata": {
    "ExecuteTime": {
     "end_time": "2023-01-28T14:12:48.391000+09:00",
     "start_time": "2023-01-28T05:12:47.438Z"
    }
   },
   "outputs": [
    {
     "data": {
      "text/plain": [
       "true"
      ]
     },
     "execution_count": 4,
     "metadata": {},
     "output_type": "execute_result"
    }
   ],
   "source": [
    "[x, y] ≈ [-1., 1.]  # 期待した結果とほぼ等しいかどうかを確認"
   ]
  },
  {
   "cell_type": "code",
   "execution_count": 5,
   "id": "346a2339",
   "metadata": {
    "ExecuteTime": {
     "end_time": "2023-01-28T14:12:49.859000+09:00",
     "start_time": "2023-01-28T05:12:49.205Z"
    }
   },
   "outputs": [
    {
     "data": {
      "text/plain": [
       "true"
      ]
     },
     "execution_count": 5,
     "metadata": {},
     "output_type": "execute_result"
    }
   ],
   "source": [
    "A * [x, y] ≈ b  # 確認"
   ]
  },
  {
   "cell_type": "markdown",
   "id": "2892c947",
   "metadata": {},
   "source": [
    "### コード11-2. ニュートン法の実装例"
   ]
  },
  {
   "cell_type": "code",
   "execution_count": 6,
   "id": "f564f561",
   "metadata": {
    "ExecuteTime": {
     "end_time": "2023-01-28T14:13:20.491000+09:00",
     "start_time": "2023-01-28T05:13:19.755Z"
    }
   },
   "outputs": [
    {
     "data": {
      "text/plain": [
       "newtonmethod (generic function with 4 methods)"
      ]
     },
     "execution_count": 6,
     "metadata": {},
     "output_type": "execute_result"
    }
   ],
   "source": [
    "function newtonmethod(f, f′, init=1.0;\n",
    "    tol=1e-16,\n",
    "    ε=1e-14,\n",
    "    maxiteration=1000,\n",
    "    withconverged=false\n",
    ")\n",
    "    solution_found = false\n",
    "    x1 = x0 = init\n",
    "    for i in 1:maxiteration\n",
    "        y = f(x0)\n",
    "        y′ = f′(x0)\n",
    "        abs(y′) < ε && break\n",
    "        x1 = x0 - y / y′\n",
    "        if abs(x1 - x0) ≤ tol\n",
    "            solution_found = true\n",
    "            break\n",
    "        end\n",
    "        x0 = x1\n",
    "    end\n",
    "    withconverged && return (x1, solution_found)\n",
    "    x1\n",
    "end\n",
    "\n",
    "newtonmethod(f, init::Number=1.0; h=1e-6, kwargs...) = newtonmethod(\n",
    "    f,\n",
    "    x -> (f(x+h) - f(x-h)) / 2h,  # 数値微分\n",
    "    init;\n",
    "    kwargs...)"
   ]
  },
  {
   "cell_type": "markdown",
   "id": "81f7cf77",
   "metadata": {},
   "source": [
    "### コード11-3. ニュートン法による `f(x) = x^2 - 2` の求解（＝$\\sqrt{2}$ の数値計算）例"
   ]
  },
  {
   "cell_type": "code",
   "execution_count": 7,
   "id": "f1fcfbd2",
   "metadata": {
    "ExecuteTime": {
     "end_time": "2023-01-28T14:14:04.248000+09:00",
     "start_time": "2023-01-28T05:14:03.605Z"
    }
   },
   "outputs": [
    {
     "data": {
      "text/plain": [
       "f (generic function with 1 method)"
      ]
     },
     "execution_count": 7,
     "metadata": {},
     "output_type": "execute_result"
    }
   ],
   "source": [
    "f(x) = x^2 - 2"
   ]
  },
  {
   "cell_type": "code",
   "execution_count": 8,
   "id": "6dbd54c4",
   "metadata": {
    "ExecuteTime": {
     "end_time": "2023-01-28T14:14:05.285000+09:00",
     "start_time": "2023-01-28T05:14:04.546Z"
    }
   },
   "outputs": [
    {
     "data": {
      "text/plain": [
       "1.414213562373095"
      ]
     },
     "execution_count": 8,
     "metadata": {},
     "output_type": "execute_result"
    }
   ],
   "source": [
    "newtonmethod(f)"
   ]
  },
  {
   "cell_type": "code",
   "execution_count": 9,
   "id": "861f3b4c",
   "metadata": {
    "ExecuteTime": {
     "end_time": "2023-01-28T14:14:06.088000+09:00",
     "start_time": "2023-01-28T05:14:05.485Z"
    }
   },
   "outputs": [
    {
     "data": {
      "text/plain": [
       "true"
      ]
     },
     "execution_count": 9,
     "metadata": {},
     "output_type": "execute_result"
    }
   ],
   "source": [
    "newtonmethod(f) ≈ √2"
   ]
  }
 ],
 "metadata": {
  "jupytext": {
   "formats": "ipynb,auto:light"
  },
  "kernelspec": {
   "display_name": "Julia 1.8.5",
   "language": "julia",
   "name": "julia-1.8"
  },
  "language_info": {
   "file_extension": ".jl",
   "mimetype": "application/julia",
   "name": "julia",
   "version": "1.8.5"
  }
 },
 "nbformat": 4,
 "nbformat_minor": 5
}
