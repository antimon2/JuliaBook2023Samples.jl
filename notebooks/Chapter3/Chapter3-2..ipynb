{
 "cells": [
  {
   "cell_type": "code",
   "execution_count": 1,
   "id": "45fcbf55-9848-41ae-90d7-ba91848d1e11",
   "metadata": {
    "ExecuteTime": {
     "end_time": "2023-01-27T13:55:21.098000+09:00",
     "start_time": "2023-01-27T04:55:20.451Z"
    }
   },
   "outputs": [
    {
     "name": "stdout",
     "output_type": "stream",
     "text": [
      "Julia Version 1.8.5\n",
      "Commit 17cfb8e65ea (2023-01-08 06:45 UTC)\n",
      "Platform Info:\n",
      "  OS: Linux (x86_64-linux-gnu)\n",
      "  CPU: 12 × Intel(R) Core(TM) i7-9750H CPU @ 2.60GHz\n",
      "  WORD_SIZE: 64\n",
      "  LIBM: libopenlibm\n",
      "  LLVM: libLLVM-13.0.1 (ORCJIT, skylake)\n",
      "  Threads: 1 on 12 virtual cores\n"
     ]
    }
   ],
   "source": [
    "versioninfo()"
   ]
  },
  {
   "cell_type": "markdown",
   "id": "04a18650-a3e2-4544-a540-fe2cba6b0dc6",
   "metadata": {},
   "source": [
    "## 3-2. 標準ライブラリ"
   ]
  },
  {
   "cell_type": "markdown",
   "id": "a5ea69c4-d66d-4169-aa80-b48ae5a1a4d0",
   "metadata": {},
   "source": [
    "### 3-2-1. Printf"
   ]
  },
  {
   "cell_type": "markdown",
   "id": "9f17c28d-75c5-4d34-80ff-92c485ae11be",
   "metadata": {},
   "source": [
    "#### コード3-48. `Printf`(1)：`@printf` マクロ"
   ]
  },
  {
   "cell_type": "code",
   "execution_count": 2,
   "id": "3e9bb1f0-1966-44d3-abae-2b53687d45ed",
   "metadata": {
    "ExecuteTime": {
     "end_time": "2023-01-27T13:55:21.143000+09:00",
     "start_time": "2023-01-27T04:55:20.458Z"
    }
   },
   "outputs": [],
   "source": [
    "using Printf"
   ]
  },
  {
   "cell_type": "code",
   "execution_count": 3,
   "id": "06bf7174-5d7f-4df2-ace3-af79a38534af",
   "metadata": {
    "ExecuteTime": {
     "end_time": "2023-01-27T13:55:21.144000+09:00",
     "start_time": "2023-01-27T04:55:20.462Z"
    }
   },
   "outputs": [],
   "source": [
    "x = 24.927;"
   ]
  },
  {
   "cell_type": "code",
   "execution_count": 4,
   "id": "630473d5-c29a-4e9d-9466-0be53e69d3f3",
   "metadata": {
    "ExecuteTime": {
     "end_time": "2023-01-27T13:55:21.203000+09:00",
     "start_time": "2023-01-27T04:55:20.465Z"
    }
   },
   "outputs": [
    {
     "name": "stdout",
     "output_type": "stream",
     "text": [
      "25"
     ]
    }
   ],
   "source": [
    "@printf(\"%d\", x)  # 整数に丸めて表示"
   ]
  },
  {
   "cell_type": "code",
   "execution_count": 5,
   "id": "c3e97a3c-f3d0-4af1-a384-23e5a6b0e888",
   "metadata": {
    "ExecuteTime": {
     "end_time": "2023-01-27T13:55:21.236000+09:00",
     "start_time": "2023-01-27T04:55:20.468Z"
    }
   },
   "outputs": [
    {
     "name": "stdout",
     "output_type": "stream",
     "text": [
      "24.93"
     ]
    }
   ],
   "source": [
    "@printf(\"%.2f\", x)  # 小数点以下2桁に丸めて表示"
   ]
  },
  {
   "cell_type": "code",
   "execution_count": 6,
   "id": "09f2d24c-5593-43e7-bc8a-ac988156ae6a",
   "metadata": {
    "ExecuteTime": {
     "end_time": "2023-01-27T13:55:21.237000+09:00",
     "start_time": "2023-01-27T04:55:20.470Z"
    }
   },
   "outputs": [
    {
     "name": "stdout",
     "output_type": "stream",
     "text": [
      "24.92700"
     ]
    }
   ],
   "source": [
    "@printf(\"%.5f\", x)  # 小数点以下5桁まで表示（0埋め）"
   ]
  },
  {
   "cell_type": "code",
   "execution_count": 7,
   "id": "8ddc9047-98c4-43bc-b95c-e091e38edc11",
   "metadata": {
    "ExecuteTime": {
     "end_time": "2023-01-27T13:55:21.711000+09:00",
     "start_time": "2023-01-27T04:55:20.473Z"
    }
   },
   "outputs": [
    {
     "name": "stdout",
     "output_type": "stream",
     "text": [
      "24.927"
     ]
    }
   ],
   "source": [
    "@printf(\"%.10g\", x)  # 小数点以外で合計10桁まで表示、ただし後ろに続く0は出力しない"
   ]
  },
  {
   "cell_type": "code",
   "execution_count": 8,
   "id": "882cd42d-eb1d-456d-be21-55c1c0c67c5c",
   "metadata": {
    "ExecuteTime": {
     "end_time": "2023-01-27T13:55:21.715000+09:00",
     "start_time": "2023-01-27T04:55:20.475Z"
    }
   },
   "outputs": [
    {
     "name": "stderr",
     "output_type": "stream",
     "text": [
      "25"
     ]
    }
   ],
   "source": [
    "@printf(stderr, \"%d\", x)  # 整数に丸めて標準エラー出力に出力"
   ]
  },
  {
   "cell_type": "code",
   "execution_count": 9,
   "id": "9b73a8d2-945a-448f-bfb0-e5f74b0028a8",
   "metadata": {
    "ExecuteTime": {
     "end_time": "2023-01-27T13:55:21.715000+09:00",
     "start_time": "2023-01-27T04:55:20.478Z"
    }
   },
   "outputs": [],
   "source": [
    "# open(\"sampleout.txt\", \"w\") do f\n",
    "#     @printf(f, \"%d\", x)\n",
    "# end  \n",
    "# ↑ファイルに出力（動作例割愛）"
   ]
  },
  {
   "cell_type": "markdown",
   "id": "658daf79-a402-4b43-a91a-07954f891a9c",
   "metadata": {},
   "source": [
    "#### コード3-49. `Printf`(2)：`@sprintf` マクロ"
   ]
  },
  {
   "cell_type": "code",
   "execution_count": 10,
   "id": "a7caa186-ba3f-4ed2-a4e8-608ba58445df",
   "metadata": {
    "ExecuteTime": {
     "end_time": "2023-01-27T13:55:21.716000+09:00",
     "start_time": "2023-01-27T04:55:20.482Z"
    }
   },
   "outputs": [],
   "source": [
    "using Printf"
   ]
  },
  {
   "cell_type": "code",
   "execution_count": 11,
   "id": "bfb4eabb-c4a2-4b71-adef-cb6f0bfa1c39",
   "metadata": {
    "ExecuteTime": {
     "end_time": "2023-01-27T13:55:21.716000+09:00",
     "start_time": "2023-01-27T04:55:20.484Z"
    }
   },
   "outputs": [],
   "source": [
    "x = 24.927;"
   ]
  },
  {
   "cell_type": "code",
   "execution_count": 12,
   "id": "c93b177c-ed67-4647-b9e0-9849a7b60f4f",
   "metadata": {
    "ExecuteTime": {
     "end_time": "2023-01-27T13:55:22.393000+09:00",
     "start_time": "2023-01-27T04:55:20.487Z"
    }
   },
   "outputs": [
    {
     "data": {
      "text/plain": [
       "\"25\""
      ]
     },
     "execution_count": 12,
     "metadata": {},
     "output_type": "execute_result"
    }
   ],
   "source": [
    "@sprintf(\"%d\", x)  # 整数に丸めて文字列化"
   ]
  },
  {
   "cell_type": "code",
   "execution_count": 13,
   "id": "539857eb-3ee1-48ba-aae1-7c17950dce4d",
   "metadata": {
    "ExecuteTime": {
     "end_time": "2023-01-27T13:55:22.394000+09:00",
     "start_time": "2023-01-27T04:55:20.490Z"
    }
   },
   "outputs": [
    {
     "data": {
      "text/plain": [
       "\"24.93\""
      ]
     },
     "execution_count": 13,
     "metadata": {},
     "output_type": "execute_result"
    }
   ],
   "source": [
    "@sprintf(\"%.2f\", x)  # 小数点以下2桁に丸めて文字列化"
   ]
  },
  {
   "cell_type": "code",
   "execution_count": 14,
   "id": "6733da60-6adb-4699-95c7-c01a91859832",
   "metadata": {
    "ExecuteTime": {
     "end_time": "2023-01-27T13:55:22.395000+09:00",
     "start_time": "2023-01-27T04:55:20.493Z"
    }
   },
   "outputs": [
    {
     "data": {
      "text/plain": [
       "\"24.92700\""
      ]
     },
     "execution_count": 14,
     "metadata": {},
     "output_type": "execute_result"
    }
   ],
   "source": [
    "@sprintf(\"%.5f\", x)  # 小数点以下5桁まで文字列化（0埋め）"
   ]
  },
  {
   "cell_type": "code",
   "execution_count": 15,
   "id": "c6c99752-a3df-4cf8-baf9-78630fab0032",
   "metadata": {
    "ExecuteTime": {
     "end_time": "2023-01-27T13:55:22.436000+09:00",
     "start_time": "2023-01-27T04:55:20.495Z"
    }
   },
   "outputs": [
    {
     "data": {
      "text/plain": [
       "\"24.927\""
      ]
     },
     "execution_count": 15,
     "metadata": {},
     "output_type": "execute_result"
    }
   ],
   "source": [
    "@sprintf(\"%.10g\", x)  # 小数点以外で合計10桁まで文字列化、ただし後ろに続く0は出力しない"
   ]
  },
  {
   "cell_type": "markdown",
   "id": "b74be722-8f9a-492d-a5d3-1ffa42ed0e1f",
   "metadata": {},
   "source": [
    "#### コード3-50. `Printf`(3)：`Printf.format()` 関数(1)、`Printf.format\"～\"` 書式文字列リテラル"
   ]
  },
  {
   "cell_type": "code",
   "execution_count": 16,
   "id": "2c2a8eab-9878-48e3-9d51-c05ff023446d",
   "metadata": {
    "ExecuteTime": {
     "end_time": "2023-01-27T13:55:22.436000+09:00",
     "start_time": "2023-01-27T04:55:20.498Z"
    }
   },
   "outputs": [],
   "source": [
    "using Printf"
   ]
  },
  {
   "cell_type": "code",
   "execution_count": 17,
   "id": "622d61f7-f1d2-407f-bb1b-18d5d0c0639e",
   "metadata": {
    "ExecuteTime": {
     "end_time": "2023-01-27T13:55:22.437000+09:00",
     "start_time": "2023-01-27T04:55:20.501Z"
    }
   },
   "outputs": [],
   "source": [
    "x = 24.927;"
   ]
  },
  {
   "cell_type": "code",
   "execution_count": 18,
   "id": "7b5235c9-5c8c-4fbf-9ff9-06984dbca297",
   "metadata": {
    "ExecuteTime": {
     "end_time": "2023-01-27T13:55:22.439000+09:00",
     "start_time": "2023-01-27T04:55:20.503Z"
    }
   },
   "outputs": [
    {
     "data": {
      "text/plain": [
       "\"25\""
      ]
     },
     "execution_count": 18,
     "metadata": {},
     "output_type": "execute_result"
    }
   ],
   "source": [
    "Printf.format(Printf.format\"%d\", x)  # 整数に丸めて文字列化"
   ]
  },
  {
   "cell_type": "code",
   "execution_count": 19,
   "id": "9afdcdac-55d9-4575-8c9d-19d125bf114a",
   "metadata": {
    "ExecuteTime": {
     "end_time": "2023-01-27T13:55:22.440000+09:00",
     "start_time": "2023-01-27T04:55:20.506Z"
    }
   },
   "outputs": [
    {
     "data": {
      "text/plain": [
       "\"24.93\""
      ]
     },
     "execution_count": 19,
     "metadata": {},
     "output_type": "execute_result"
    }
   ],
   "source": [
    "Printf.format(Printf.format\"%.2f\", x)  # 小数点以下2桁に丸めて文字列化"
   ]
  },
  {
   "cell_type": "code",
   "execution_count": 20,
   "id": "477660b1-8a69-4c70-9420-57230522f2ca",
   "metadata": {
    "ExecuteTime": {
     "end_time": "2023-01-27T13:55:22.440000+09:00",
     "start_time": "2023-01-27T04:55:20.510Z"
    }
   },
   "outputs": [
    {
     "data": {
      "text/plain": [
       "\"24.92700\""
      ]
     },
     "execution_count": 20,
     "metadata": {},
     "output_type": "execute_result"
    }
   ],
   "source": [
    "Printf.format(Printf.format\"%.5f\", x)  # 小数点以下5桁まで文字列化（0埋め）"
   ]
  },
  {
   "cell_type": "code",
   "execution_count": 21,
   "id": "dfb1e723-8eee-40fe-8a98-87c4deca2ff8",
   "metadata": {
    "ExecuteTime": {
     "end_time": "2023-01-27T13:55:22.441000+09:00",
     "start_time": "2023-01-27T04:55:20.512Z"
    }
   },
   "outputs": [
    {
     "data": {
      "text/plain": [
       "\"24.927\""
      ]
     },
     "execution_count": 21,
     "metadata": {},
     "output_type": "execute_result"
    }
   ],
   "source": [
    "Printf.format(Printf.format\"%.10g\", x)  # 小数点以外で合計10桁まで文字列化"
   ]
  },
  {
   "cell_type": "markdown",
   "id": "6f3e3c93-194a-4f49-9a91-b9bc7dad65c1",
   "metadata": {},
   "source": [
    "#### コード3-51. `Printf`(4)：`Printf.format()` 関数(1)、`Printf.Format` オブジェクト"
   ]
  },
  {
   "cell_type": "code",
   "execution_count": 22,
   "id": "464ccc8d-6a53-4e01-907d-acdd9ce876bf",
   "metadata": {
    "ExecuteTime": {
     "end_time": "2023-01-27T13:55:22.441000+09:00",
     "start_time": "2023-01-27T04:55:20.515Z"
    }
   },
   "outputs": [],
   "source": [
    "using Printf"
   ]
  },
  {
   "cell_type": "code",
   "execution_count": 23,
   "id": "44700020-8d90-4be4-8f7b-5d84a62c6b9c",
   "metadata": {
    "ExecuteTime": {
     "end_time": "2023-01-27T13:55:22.441000+09:00",
     "start_time": "2023-01-27T04:55:20.517Z"
    }
   },
   "outputs": [],
   "source": [
    "x = 24.927;"
   ]
  },
  {
   "cell_type": "code",
   "execution_count": 24,
   "id": "41263e48-be36-4eff-9c52-5c4b32affa74",
   "metadata": {
    "ExecuteTime": {
     "end_time": "2023-01-27T13:55:22.606000+09:00",
     "start_time": "2023-01-27T04:55:20.520Z"
    }
   },
   "outputs": [
    {
     "data": {
      "text/plain": [
       "createformat (generic function with 1 method)"
      ]
     },
     "execution_count": 24,
     "metadata": {},
     "output_type": "execute_result"
    }
   ],
   "source": [
    "function createformat(v)\n",
    "    Printf.Format(\"%.$(ceil(Int, log10(v)) + 5)g\")\n",
    "end"
   ]
  },
  {
   "cell_type": "code",
   "execution_count": 25,
   "id": "4de76f74-573c-4688-8fbf-07d8f77a16fd",
   "metadata": {
    "ExecuteTime": {
     "end_time": "2023-01-27T13:55:22.628000+09:00",
     "start_time": "2023-01-27T04:55:20.525Z"
    }
   },
   "outputs": [
    {
     "data": {
      "text/plain": [
       "\"24.927\""
      ]
     },
     "execution_count": 25,
     "metadata": {},
     "output_type": "execute_result"
    }
   ],
   "source": [
    "Printf.format(createformat(x), x)"
   ]
  },
  {
   "cell_type": "code",
   "execution_count": 26,
   "id": "b4a7a2f6-77a4-4a3a-9524-e813f531c793",
   "metadata": {
    "ExecuteTime": {
     "end_time": "2023-01-27T13:55:22.690000+09:00",
     "start_time": "2023-01-27T04:55:20.528Z"
    }
   },
   "outputs": [
    {
     "data": {
      "text/plain": [
       "\"3.14159\""
      ]
     },
     "execution_count": 26,
     "metadata": {},
     "output_type": "execute_result"
    }
   ],
   "source": [
    "Printf.format(createformat(π), π)"
   ]
  },
  {
   "cell_type": "code",
   "execution_count": 27,
   "id": "13ad3d78-419e-4b48-8b3f-14cc2feeedd2",
   "metadata": {
    "ExecuteTime": {
     "end_time": "2023-01-27T13:55:22.744000+09:00",
     "start_time": "2023-01-27T04:55:20.531Z"
    }
   },
   "outputs": [
    {
     "data": {
      "text/plain": [
       "\"10000000\""
      ]
     },
     "execution_count": 27,
     "metadata": {},
     "output_type": "execute_result"
    }
   ],
   "source": [
    "Printf.format(createformat(10000000), 10000000)"
   ]
  },
  {
   "cell_type": "markdown",
   "id": "9bbf4257-52df-4816-bffb-b410df78229e",
   "metadata": {},
   "source": [
    "#### コード3-53. `Printf`(5)：`Printf.format()` 関数(3)"
   ]
  },
  {
   "cell_type": "code",
   "execution_count": 28,
   "id": "9907f2a3-c822-4d6c-8ab5-b0bf3c6d3955",
   "metadata": {
    "ExecuteTime": {
     "end_time": "2023-01-27T13:55:22.744000+09:00",
     "start_time": "2023-01-27T04:55:20.534Z"
    }
   },
   "outputs": [],
   "source": [
    "using Printf"
   ]
  },
  {
   "cell_type": "code",
   "execution_count": 29,
   "id": "e800a549-a55c-42b4-a55b-69473cf34ba1",
   "metadata": {
    "ExecuteTime": {
     "end_time": "2023-01-27T13:55:22.744000+09:00",
     "start_time": "2023-01-27T04:55:20.537Z"
    }
   },
   "outputs": [],
   "source": [
    "x = 24.927;"
   ]
  },
  {
   "cell_type": "code",
   "execution_count": 30,
   "id": "bf2f317c-08de-4c40-bb7b-b749ed58365e",
   "metadata": {
    "ExecuteTime": {
     "end_time": "2023-01-27T13:55:22.745000+09:00",
     "start_time": "2023-01-27T04:55:20.539Z"
    }
   },
   "outputs": [
    {
     "name": "stdout",
     "output_type": "stream",
     "text": [
      "25"
     ]
    }
   ],
   "source": [
    "Printf.format(stdout, Printf.format\"%d\", x)  # 整数に丸めて表示"
   ]
  },
  {
   "cell_type": "code",
   "execution_count": 31,
   "id": "2f63c8ed-83a7-4f91-830f-fbd41d4f3666",
   "metadata": {
    "ExecuteTime": {
     "end_time": "2023-01-27T13:55:22.745000+09:00",
     "start_time": "2023-01-27T04:55:20.542Z"
    }
   },
   "outputs": [
    {
     "name": "stdout",
     "output_type": "stream",
     "text": [
      "24.93"
     ]
    }
   ],
   "source": [
    "Printf.format(stdout, Printf.format\"%.2f\", x)  # 小数点以下2桁に丸めて表示"
   ]
  },
  {
   "cell_type": "code",
   "execution_count": 32,
   "id": "7e7c790e-0b2a-4814-921e-223c582639b8",
   "metadata": {
    "ExecuteTime": {
     "end_time": "2023-01-27T13:55:22.746000+09:00",
     "start_time": "2023-01-27T04:55:20.544Z"
    }
   },
   "outputs": [
    {
     "name": "stdout",
     "output_type": "stream",
     "text": [
      "24.92700"
     ]
    }
   ],
   "source": [
    "Printf.format(stdout, Printf.format\"%.5f\", x)  # 小数点以下5桁まで表示（0埋め）"
   ]
  },
  {
   "cell_type": "code",
   "execution_count": 33,
   "id": "2cf70294-90c8-44ed-8114-178cfe065b89",
   "metadata": {
    "ExecuteTime": {
     "end_time": "2023-01-27T13:55:22.746000+09:00",
     "start_time": "2023-01-27T04:55:20.547Z"
    }
   },
   "outputs": [
    {
     "name": "stdout",
     "output_type": "stream",
     "text": [
      "24.927"
     ]
    }
   ],
   "source": [
    "Printf.format(stdout, Printf.format\"%.10g\", x)  # 小数点以外で合計10桁まで表示、ただし後ろに続く0は出力しない"
   ]
  },
  {
   "cell_type": "markdown",
   "id": "126177f6-68c8-40a8-bcd0-a08f29a128e7",
   "metadata": {},
   "source": [
    "### 3-2-2. Dates"
   ]
  },
  {
   "cell_type": "markdown",
   "id": "c0419a50-39a5-4c3d-ab5b-dd55976949b7",
   "metadata": {},
   "source": [
    "#### コード3-53. `Dates` パッケージの使用例 (1)：範囲オブジェクトの生成"
   ]
  },
  {
   "cell_type": "code",
   "execution_count": 34,
   "id": "36f94a2d-1757-4ddb-911e-3f1b5294e0f4",
   "metadata": {
    "ExecuteTime": {
     "end_time": "2023-01-27T13:55:22.747000+09:00",
     "start_time": "2023-01-27T04:55:20.550Z"
    }
   },
   "outputs": [],
   "source": [
    "using Dates"
   ]
  },
  {
   "cell_type": "code",
   "execution_count": 35,
   "id": "18c925b1-d50c-4187-8448-c9b2e498bb0f",
   "metadata": {
    "ExecuteTime": {
     "end_time": "2023-01-27T13:55:23.867000+09:00",
     "start_time": "2023-01-27T04:55:20.554Z"
    },
    "scrolled": true,
    "tags": []
   },
   "outputs": [
    {
     "ename": "LoadError",
     "evalue": "MethodError: \u001b[0mCannot `convert` an object of type \u001b[92mInt64\u001b[39m\u001b[0m to an object of type \u001b[91mDay\u001b[39m\n\u001b[0mClosest candidates are:\n\u001b[0m  convert(::Type{T}, \u001b[91m::Dates.CompoundPeriod\u001b[39m) where T<:Period at ~/julia-1.8.5/share/julia/stdlib/v1.8/Dates/src/periods.jl:363\n\u001b[0m  convert(::Type{Day}, \u001b[91m::Week\u001b[39m) at ~/julia-1.8.5/share/julia/stdlib/v1.8/Dates/src/periods.jl:433\n\u001b[0m  convert(::Type{Day}, \u001b[91m::Hour\u001b[39m) at ~/julia-1.8.5/share/julia/stdlib/v1.8/Dates/src/periods.jl:441\n\u001b[0m  ...",
     "output_type": "error",
     "traceback": [
      "MethodError: \u001b[0mCannot `convert` an object of type \u001b[92mInt64\u001b[39m\u001b[0m to an object of type \u001b[91mDay\u001b[39m\n\u001b[0mClosest candidates are:\n\u001b[0m  convert(::Type{T}, \u001b[91m::Dates.CompoundPeriod\u001b[39m) where T<:Period at ~/julia-1.8.5/share/julia/stdlib/v1.8/Dates/src/periods.jl:363\n\u001b[0m  convert(::Type{Day}, \u001b[91m::Week\u001b[39m) at ~/julia-1.8.5/share/julia/stdlib/v1.8/Dates/src/periods.jl:433\n\u001b[0m  convert(::Type{Day}, \u001b[91m::Hour\u001b[39m) at ~/julia-1.8.5/share/julia/stdlib/v1.8/Dates/src/periods.jl:441\n\u001b[0m  ...",
      "",
      "Stacktrace:",
      " [1] oftype(x::Day, y::Int64)",
      "   @ Base ./essentials.jl:391",
      " [2] (::Colon)(start::Date, stop::Date)",
      "   @ Base ./range.jl:7",
      " [3] top-level scope",
      "   @ In[35]:1"
     ]
    }
   ],
   "source": [
    "Date(2021,1,1):Date(2021,12,31)"
   ]
  },
  {
   "cell_type": "code",
   "execution_count": 36,
   "id": "ffcef84c-7efe-4434-8fae-804b238c851e",
   "metadata": {
    "ExecuteTime": {
     "end_time": "2023-01-27T13:55:24.159000+09:00",
     "start_time": "2023-01-27T04:55:20.557Z"
    }
   },
   "outputs": [
    {
     "data": {
      "text/plain": [
       "Date(\"2021-01-01\"):Day(1):Date(\"2021-12-31\")"
      ]
     },
     "execution_count": 36,
     "metadata": {},
     "output_type": "execute_result"
    }
   ],
   "source": [
    "Date(2021,1,1):Day(1):Date(2021,12,31)"
   ]
  },
  {
   "cell_type": "code",
   "execution_count": 37,
   "id": "ad1b637d-57a1-40e5-8cd1-e88de72deaca",
   "metadata": {
    "ExecuteTime": {
     "end_time": "2023-01-27T13:55:24.325000+09:00",
     "start_time": "2023-01-27T04:55:20.560Z"
    }
   },
   "outputs": [
    {
     "data": {
      "text/plain": [
       "365"
      ]
     },
     "execution_count": 37,
     "metadata": {},
     "output_type": "execute_result"
    }
   ],
   "source": [
    "length(Date(2021,1,1):Day(1):Date(2021,12,31))"
   ]
  },
  {
   "cell_type": "code",
   "execution_count": 38,
   "id": "007f3e2a-0183-443e-bcdf-3358dee5017d",
   "metadata": {
    "ExecuteTime": {
     "end_time": "2023-01-27T13:55:25.221000+09:00",
     "start_time": "2023-01-27T04:55:20.562Z"
    }
   },
   "outputs": [
    {
     "data": {
      "text/plain": [
       "12-element Vector{Date}:\n",
       " 2021-01-31\n",
       " 2021-02-28\n",
       " 2021-03-31\n",
       " 2021-04-30\n",
       " 2021-05-31\n",
       " 2021-06-30\n",
       " 2021-07-31\n",
       " 2021-08-31\n",
       " 2021-09-30\n",
       " 2021-10-31\n",
       " 2021-11-30\n",
       " 2021-12-31"
      ]
     },
     "execution_count": 38,
     "metadata": {},
     "output_type": "execute_result"
    }
   ],
   "source": [
    "collect(Date(2021,1,31):Month(1):Date(2021,12,31))"
   ]
  },
  {
   "cell_type": "code",
   "execution_count": 39,
   "id": "3d9dadbe-2204-421d-a197-52861d301c8e",
   "metadata": {
    "ExecuteTime": {
     "end_time": "2023-01-27T13:55:25.271000+09:00",
     "start_time": "2023-01-27T04:55:20.565Z"
    },
    "scrolled": true,
    "tags": []
   },
   "outputs": [
    {
     "data": {
      "text/plain": [
       "101-element Vector{Date}:\n",
       " 2000-02-29\n",
       " 2001-02-28\n",
       " 2002-02-28\n",
       " 2003-02-28\n",
       " 2004-02-29\n",
       " 2005-02-28\n",
       " 2006-02-28\n",
       " 2007-02-28\n",
       " 2008-02-29\n",
       " 2009-02-28\n",
       " 2010-02-28\n",
       " 2011-02-28\n",
       " 2012-02-29\n",
       " ⋮\n",
       " 2089-02-28\n",
       " 2090-02-28\n",
       " 2091-02-28\n",
       " 2092-02-29\n",
       " 2093-02-28\n",
       " 2094-02-28\n",
       " 2095-02-28\n",
       " 2096-02-29\n",
       " 2097-02-28\n",
       " 2098-02-28\n",
       " 2099-02-28\n",
       " 2100-02-28"
      ]
     },
     "execution_count": 39,
     "metadata": {},
     "output_type": "execute_result"
    }
   ],
   "source": [
    "collect(Date(2000,2,29):Year(1):Date(2100,2,28))"
   ]
  },
  {
   "cell_type": "markdown",
   "id": "a601726f-c727-45e4-ad5e-0c8f348862bc",
   "metadata": {},
   "source": [
    "#### コード3-54. `Dates` パッケージの使用例 (2)：日時書式文字列リテラル"
   ]
  },
  {
   "cell_type": "code",
   "execution_count": 40,
   "id": "a6259784-0ec3-4cb7-b711-687eec0868b4",
   "metadata": {
    "ExecuteTime": {
     "end_time": "2023-01-27T13:55:25.271000+09:00",
     "start_time": "2023-01-27T04:55:20.568Z"
    }
   },
   "outputs": [],
   "source": [
    "using Dates"
   ]
  },
  {
   "cell_type": "code",
   "execution_count": 41,
   "id": "849d1301-219f-40e4-9c6a-787783b27ae0",
   "metadata": {
    "ExecuteTime": {
     "end_time": "2023-01-27T13:55:25.444000+09:00",
     "start_time": "2023-01-27T04:55:20.570Z"
    }
   },
   "outputs": [
    {
     "data": {
      "text/plain": [
       "2023-01-27"
      ]
     },
     "execution_count": 41,
     "metadata": {},
     "output_type": "execute_result"
    }
   ],
   "source": [
    "dt1 = today()"
   ]
  },
  {
   "cell_type": "code",
   "execution_count": 42,
   "id": "ead5809a-0d7e-4803-b174-47467e5df3a9",
   "metadata": {
    "ExecuteTime": {
     "end_time": "2023-01-27T13:55:25.617000+09:00",
     "start_time": "2023-01-27T04:55:20.573Z"
    }
   },
   "outputs": [
    {
     "data": {
      "text/plain": [
       "2023-01-27T13:55:25.444"
      ]
     },
     "execution_count": 42,
     "metadata": {},
     "output_type": "execute_result"
    }
   ],
   "source": [
    "dtm1 = now()"
   ]
  },
  {
   "cell_type": "code",
   "execution_count": 43,
   "id": "7d023b89-1ae0-4a12-8b82-99f3adb12b6c",
   "metadata": {
    "ExecuteTime": {
     "end_time": "2023-01-27T13:55:25.646000+09:00",
     "start_time": "2023-01-27T04:55:20.576Z"
    }
   },
   "outputs": [
    {
     "data": {
      "text/plain": [
       "\"2023/01/27\""
      ]
     },
     "execution_count": 43,
     "metadata": {},
     "output_type": "execute_result"
    }
   ],
   "source": [
    "Dates.format(dt1, dateformat\"yyyy/mm/dd\")"
   ]
  },
  {
   "cell_type": "code",
   "execution_count": 44,
   "id": "ec391c85-5094-43af-b3d4-17493e97fa90",
   "metadata": {
    "ExecuteTime": {
     "end_time": "2023-01-27T13:55:25.676000+09:00",
     "start_time": "2023-01-27T04:55:20.578Z"
    }
   },
   "outputs": [
    {
     "data": {
      "text/plain": [
       "\"2023年1月27日 13時55分25秒\""
      ]
     },
     "execution_count": 44,
     "metadata": {},
     "output_type": "execute_result"
    }
   ],
   "source": [
    "Dates.format(dtm1, dateformat\"yyyy年m月d日 H時M分S秒\")"
   ]
  },
  {
   "cell_type": "code",
   "execution_count": 45,
   "id": "9eadadf4-4322-489c-b978-d890c026b05d",
   "metadata": {
    "ExecuteTime": {
     "end_time": "2023-01-27T13:55:25.989000+09:00",
     "start_time": "2023-01-27T04:55:20.580Z"
    }
   },
   "outputs": [
    {
     "data": {
      "text/plain": [
       "2010-01-02"
      ]
     },
     "execution_count": 45,
     "metadata": {},
     "output_type": "execute_result"
    }
   ],
   "source": [
    "Date(\"2010/1/2\", dateformat\"y/m/d\")  # `parse(Date, \"2010/1/2\", dateformat\"y/m/d\")` でもOK"
   ]
  },
  {
   "cell_type": "markdown",
   "id": "575a4754-6d52-47fc-8e72-aa1c2b1f66d5",
   "metadata": {},
   "source": [
    "#### コード3-55. `Dates` パッケージの使用例 (3)"
   ]
  },
  {
   "cell_type": "code",
   "execution_count": 46,
   "id": "11ca94de-39da-48d1-8d04-03893d143434",
   "metadata": {
    "ExecuteTime": {
     "end_time": "2023-01-27T13:55:25.990000+09:00",
     "start_time": "2023-01-27T04:55:20.584Z"
    }
   },
   "outputs": [],
   "source": [
    "using Dates"
   ]
  },
  {
   "cell_type": "code",
   "execution_count": 47,
   "id": "81aad753-65bc-432a-9dc1-c21dabe687a7",
   "metadata": {
    "ExecuteTime": {
     "end_time": "2023-01-27T13:55:25.990000+09:00",
     "start_time": "2023-01-27T04:55:20.587Z"
    }
   },
   "outputs": [
    {
     "data": {
      "text/plain": [
       "2023-01-27"
      ]
     },
     "execution_count": 47,
     "metadata": {},
     "output_type": "execute_result"
    }
   ],
   "source": [
    "dt1 = today()"
   ]
  },
  {
   "cell_type": "code",
   "execution_count": 48,
   "id": "756dfb1b-7544-4bfc-8c01-0a82e30c80be",
   "metadata": {
    "ExecuteTime": {
     "end_time": "2023-01-27T13:55:25.991000+09:00",
     "start_time": "2023-01-27T04:55:20.589Z"
    }
   },
   "outputs": [
    {
     "data": {
      "text/plain": [
       "2023-01-27T13:55:25.991"
      ]
     },
     "execution_count": 48,
     "metadata": {},
     "output_type": "execute_result"
    }
   ],
   "source": [
    "dtm1 = now()"
   ]
  },
  {
   "cell_type": "code",
   "execution_count": 49,
   "id": "383f97ad-103c-4b0a-97bf-5ce9e1e93117",
   "metadata": {
    "ExecuteTime": {
     "end_time": "2023-01-27T13:55:26.170000+09:00",
     "start_time": "2023-01-27T04:55:20.592Z"
    }
   },
   "outputs": [
    {
     "data": {
      "text/plain": [
       "true"
      ]
     },
     "execution_count": 49,
     "metadata": {},
     "output_type": "execute_result"
    }
   ],
   "source": [
    "Date(dtm1) == dt1"
   ]
  },
  {
   "cell_type": "code",
   "execution_count": 50,
   "id": "9eaca611-0f7f-4031-aba6-83776203bcd6",
   "metadata": {
    "ExecuteTime": {
     "end_time": "2023-01-27T13:55:26.174000+09:00",
     "start_time": "2023-01-27T04:55:20.594Z"
    }
   },
   "outputs": [
    {
     "data": {
      "text/plain": [
       "2023-01-28"
      ]
     },
     "execution_count": 50,
     "metadata": {},
     "output_type": "execute_result"
    }
   ],
   "source": [
    "dt1 + Day(1)  # 明日"
   ]
  },
  {
   "cell_type": "code",
   "execution_count": 51,
   "id": "5b2e896e-57f2-4a18-9a31-41d96e61db51",
   "metadata": {
    "ExecuteTime": {
     "end_time": "2023-01-27T13:55:26.178000+09:00",
     "start_time": "2023-01-27T04:55:20.597Z"
    }
   },
   "outputs": [
    {
     "data": {
      "text/plain": [
       "2023-01-26"
      ]
     },
     "execution_count": 51,
     "metadata": {},
     "output_type": "execute_result"
    }
   ],
   "source": [
    "dt1 - Day(1)  # 昨日、`dt1 + Day(-1)` でも同じ"
   ]
  },
  {
   "cell_type": "code",
   "execution_count": 52,
   "id": "4f638ce7-69b7-4b88-82f2-e791c9650205",
   "metadata": {
    "ExecuteTime": {
     "end_time": "2023-01-27T13:55:26.182000+09:00",
     "start_time": "2023-01-27T04:55:20.601Z"
    }
   },
   "outputs": [
    {
     "data": {
      "text/plain": [
       "2023-01-27T15:55:25.991"
      ]
     },
     "execution_count": 52,
     "metadata": {},
     "output_type": "execute_result"
    }
   ],
   "source": [
    "dtm1 + Hour(2)  # 2時間後"
   ]
  },
  {
   "cell_type": "code",
   "execution_count": 53,
   "id": "01c3621f-d5c1-43f1-b873-d449c01727e1",
   "metadata": {
    "ExecuteTime": {
     "end_time": "2023-01-27T13:55:26.185000+09:00",
     "start_time": "2023-01-27T04:55:20.605Z"
    }
   },
   "outputs": [
    {
     "data": {
      "text/plain": [
       "2023-01-27T11:55:25.991"
      ]
     },
     "execution_count": 53,
     "metadata": {},
     "output_type": "execute_result"
    }
   ],
   "source": [
    "dtm1 - Hour(2)  # 2時間前"
   ]
  },
  {
   "cell_type": "code",
   "execution_count": 54,
   "id": "14bc744e-32ef-417a-993b-9eec842b1c22",
   "metadata": {
    "ExecuteTime": {
     "end_time": "2023-01-27T13:55:26.407000+09:00",
     "start_time": "2023-01-27T04:55:20.608Z"
    }
   },
   "outputs": [
    {
     "data": {
      "text/plain": [
       "17194 days"
      ]
     },
     "execution_count": 54,
     "metadata": {},
     "output_type": "execute_result"
    }
   ],
   "source": [
    "dt1 - Date(1976, 1, 1) + Day(1)  # 1976年1月1日 からの日数"
   ]
  },
  {
   "cell_type": "code",
   "execution_count": 55,
   "id": "2460f7e0-8197-4ce6-b7ec-92c37a72b26c",
   "metadata": {
    "ExecuteTime": {
     "end_time": "2023-01-27T13:55:26.412000+09:00",
     "start_time": "2023-01-27T04:55:20.610Z"
    }
   },
   "outputs": [
    {
     "data": {
      "text/plain": [
       "27"
      ]
     },
     "execution_count": 55,
     "metadata": {},
     "output_type": "execute_result"
    }
   ],
   "source": [
    "dayofyear(dt1)  # == Dates.value(dt1 - Date(2021) + Day(1))"
   ]
  },
  {
   "cell_type": "code",
   "execution_count": 56,
   "id": "a6eec21f-5965-493e-aaf9-21364f44f5c6",
   "metadata": {
    "ExecuteTime": {
     "end_time": "2023-01-27T13:55:26.579000+09:00",
     "start_time": "2023-01-27T04:55:20.613Z"
    }
   },
   "outputs": [
    {
     "data": {
      "text/plain": [
       "65368525991 milliseconds"
      ]
     },
     "execution_count": 56,
     "metadata": {},
     "output_type": "execute_result"
    }
   ],
   "source": [
    "dtm1 - DateTime(2021, 1, 1)  # 2021年1月1日 0時0分0秒 からのミリ秒数"
   ]
  },
  {
   "cell_type": "code",
   "execution_count": 57,
   "id": "0ac0b9e1-d0a0-47fe-ab5b-40acf361931f",
   "metadata": {
    "ExecuteTime": {
     "end_time": "2023-01-27T13:55:26.762000+09:00",
     "start_time": "2023-01-27T04:55:20.616Z"
    }
   },
   "outputs": [
    {
     "data": {
      "text/plain": [
       "65368525 seconds"
      ]
     },
     "execution_count": 57,
     "metadata": {},
     "output_type": "execute_result"
    }
   ],
   "source": [
    "floor(dtm1 - DateTime(2021, 1, 1), Second)  # ミリ秒を秒に変換"
   ]
  },
  {
   "cell_type": "code",
   "execution_count": 58,
   "id": "9a8db2ea-b25f-48d9-a34c-71c6209c259d",
   "metadata": {
    "ExecuteTime": {
     "end_time": "2023-01-27T13:55:26.783000+09:00",
     "start_time": "2023-01-27T04:55:20.618Z"
    }
   },
   "outputs": [
    {
     "data": {
      "text/plain": [
       "\"Friday\""
      ]
     },
     "execution_count": 58,
     "metadata": {},
     "output_type": "execute_result"
    }
   ],
   "source": [
    "dayname(dt1)"
   ]
  },
  {
   "cell_type": "markdown",
   "id": "10ad954a-452d-42b5-af62-37696e78408e",
   "metadata": {},
   "source": [
    "### 3-2-3. Statistics"
   ]
  },
  {
   "cell_type": "markdown",
   "id": "8bac3c84-840b-469c-88c6-4e981d34b769",
   "metadata": {},
   "source": [
    "#### コード3-56. `Statistics` パッケージ使用例 (1): `mean()`、`median()`、`middle()`、`quantile()`"
   ]
  },
  {
   "cell_type": "code",
   "execution_count": 59,
   "id": "3b38be1a-5a21-423d-b5b8-61f04a11e6d7",
   "metadata": {
    "ExecuteTime": {
     "end_time": "2023-01-27T13:55:26.783000+09:00",
     "start_time": "2023-01-27T04:55:20.622Z"
    }
   },
   "outputs": [],
   "source": [
    "using Statistics"
   ]
  },
  {
   "cell_type": "code",
   "execution_count": 60,
   "id": "404b543e-87d1-4511-ae15-3c65313d0343",
   "metadata": {
    "ExecuteTime": {
     "end_time": "2023-01-27T13:55:27.160000+09:00",
     "start_time": "2023-01-27T04:55:20.624Z"
    }
   },
   "outputs": [
    {
     "data": {
      "text/plain": [
       "6-element Vector{Float64}:\n",
       "  2.0\n",
       "  1.0\n",
       "  3.0\n",
       "  5.0\n",
       " 10.2\n",
       " 16.8"
      ]
     },
     "execution_count": 60,
     "metadata": {},
     "output_type": "execute_result"
    }
   ],
   "source": [
    "x = [2.0, 1.0, 3.0, 5.0, 10.2, 16.8]"
   ]
  },
  {
   "cell_type": "code",
   "execution_count": 61,
   "id": "b691271f-a6ac-4912-8620-d161469e748c",
   "metadata": {
    "ExecuteTime": {
     "end_time": "2023-01-27T13:55:27.359000+09:00",
     "start_time": "2023-01-27T04:55:20.627Z"
    }
   },
   "outputs": [
    {
     "data": {
      "text/plain": [
       "6.333333333333333"
      ]
     },
     "execution_count": 61,
     "metadata": {},
     "output_type": "execute_result"
    }
   ],
   "source": [
    "mean(x)  # 平均値"
   ]
  },
  {
   "cell_type": "code",
   "execution_count": 62,
   "id": "5a3b4ac5-d412-4ed8-9cd3-23e05c6e1a4a",
   "metadata": {
    "ExecuteTime": {
     "end_time": "2023-01-27T13:55:27.417000+09:00",
     "start_time": "2023-01-27T04:55:20.629Z"
    }
   },
   "outputs": [
    {
     "data": {
      "text/plain": [
       "4.0"
      ]
     },
     "execution_count": 62,
     "metadata": {},
     "output_type": "execute_result"
    }
   ],
   "source": [
    "median(x)  # 中央値"
   ]
  },
  {
   "cell_type": "code",
   "execution_count": 63,
   "id": "a70a771d-9eed-4577-aa61-85c38e99d166",
   "metadata": {
    "ExecuteTime": {
     "end_time": "2023-01-27T13:55:27.447000+09:00",
     "start_time": "2023-01-27T04:55:20.633Z"
    }
   },
   "outputs": [
    {
     "data": {
      "text/plain": [
       "8.9"
      ]
     },
     "execution_count": 63,
     "metadata": {},
     "output_type": "execute_result"
    }
   ],
   "source": [
    "middle(x)  # 中点値"
   ]
  },
  {
   "cell_type": "code",
   "execution_count": 64,
   "id": "8ffb6f14-a459-45d9-888a-96e0112f5d08",
   "metadata": {
    "ExecuteTime": {
     "end_time": "2023-01-27T13:55:27.602000+09:00",
     "start_time": "2023-01-27T04:55:20.636Z"
    }
   },
   "outputs": [
    {
     "data": {
      "text/plain": [
       "3-element Vector{Float64}:\n",
       " 2.25\n",
       " 4.0\n",
       " 8.899999999999999"
      ]
     },
     "execution_count": 64,
     "metadata": {},
     "output_type": "execute_result"
    }
   ],
   "source": [
    "quantile(x, 0.25:0.25:0.75)  # 四分位数"
   ]
  },
  {
   "cell_type": "markdown",
   "id": "950760a1-c5db-49fa-84c8-79c48050e5a6",
   "metadata": {},
   "source": [
    "#### コード3-57. `Statistics` パッケージ使用例 (2): `std()`、`var()`"
   ]
  },
  {
   "cell_type": "code",
   "execution_count": 65,
   "id": "a4a438a4-0acc-45af-b5a9-4d6142b3df0a",
   "metadata": {
    "ExecuteTime": {
     "end_time": "2023-01-27T13:55:27.603000+09:00",
     "start_time": "2023-01-27T04:55:20.640Z"
    }
   },
   "outputs": [],
   "source": [
    "using Statistics"
   ]
  },
  {
   "cell_type": "code",
   "execution_count": 66,
   "id": "525cebcf-67ff-48c8-9121-c7eab5f99e6e",
   "metadata": {
    "ExecuteTime": {
     "end_time": "2023-01-27T13:55:27.604000+09:00",
     "start_time": "2023-01-27T04:55:20.643Z"
    }
   },
   "outputs": [],
   "source": [
    "x = [2.0, 1.0, 3.0, 5.0, 10.2, 16.8];"
   ]
  },
  {
   "cell_type": "code",
   "execution_count": 67,
   "id": "d845f8bb-52ba-4aa0-add9-66c28a3bfd42",
   "metadata": {
    "ExecuteTime": {
     "end_time": "2023-01-27T13:55:27.660000+09:00",
     "start_time": "2023-01-27T04:55:20.646Z"
    }
   },
   "outputs": [
    {
     "data": {
      "text/plain": [
       "6.076402444429324"
      ]
     },
     "execution_count": 67,
     "metadata": {},
     "output_type": "execute_result"
    }
   ],
   "source": [
    "std(x)  # 不偏標準偏差（補正標本標準偏差）"
   ]
  },
  {
   "cell_type": "code",
   "execution_count": 68,
   "id": "51b96d03-8de6-4b55-9d44-7d94129c966b",
   "metadata": {
    "ExecuteTime": {
     "end_time": "2023-01-27T13:55:27.666000+09:00",
     "start_time": "2023-01-27T04:55:20.649Z"
    }
   },
   "outputs": [
    {
     "data": {
      "text/plain": [
       "5.546971145489121"
      ]
     },
     "execution_count": 68,
     "metadata": {},
     "output_type": "execute_result"
    }
   ],
   "source": [
    "std(x, corrected=false)  # 標本標準偏差（非補正標本標準偏差）または母標準偏差"
   ]
  },
  {
   "cell_type": "code",
   "execution_count": 69,
   "id": "0ef92d80-fcc2-482f-b3e7-f5dc5646c778",
   "metadata": {
    "ExecuteTime": {
     "end_time": "2023-01-27T13:55:27.672000+09:00",
     "start_time": "2023-01-27T04:55:20.651Z"
    }
   },
   "outputs": [
    {
     "data": {
      "text/plain": [
       "36.92266666666667"
      ]
     },
     "execution_count": 69,
     "metadata": {},
     "output_type": "execute_result"
    }
   ],
   "source": [
    "var(x)  # 不偏分散（補正標本分散）"
   ]
  },
  {
   "cell_type": "code",
   "execution_count": 70,
   "id": "ecbc2287-9b6a-44a6-b111-8cffbbcdd537",
   "metadata": {
    "ExecuteTime": {
     "end_time": "2023-01-27T13:55:27.677000+09:00",
     "start_time": "2023-01-27T04:55:20.654Z"
    }
   },
   "outputs": [
    {
     "data": {
      "text/plain": [
       "30.768888888888892"
      ]
     },
     "execution_count": 70,
     "metadata": {},
     "output_type": "execute_result"
    }
   ],
   "source": [
    "var(x, corrected=false)  # 標本分散（非補正標本分散）または母分散"
   ]
  },
  {
   "cell_type": "markdown",
   "id": "51008489-b83f-44a5-8852-b69fe37a1ba6",
   "metadata": {},
   "source": [
    "#### コード3-58. `Statistics` パッケージ使用例 (3): 多次元配列への適用（`dims=～` キーワード引数指定）"
   ]
  },
  {
   "cell_type": "code",
   "execution_count": 71,
   "id": "c5c5ed13-91ee-4df7-9f82-f1aa3334cbe0",
   "metadata": {
    "ExecuteTime": {
     "end_time": "2023-01-27T13:55:27.678000+09:00",
     "start_time": "2023-01-27T04:55:20.657Z"
    }
   },
   "outputs": [],
   "source": [
    "using Statistics"
   ]
  },
  {
   "cell_type": "code",
   "execution_count": 72,
   "id": "82ca32a2-4431-49bb-96a1-aa503c3b8ad0",
   "metadata": {
    "ExecuteTime": {
     "end_time": "2023-01-27T13:55:28.302000+09:00",
     "start_time": "2023-01-27T04:55:20.659Z"
    }
   },
   "outputs": [
    {
     "data": {
      "text/plain": [
       "2×3 Matrix{Float64}:\n",
       " 2.0   3.0   5.0\n",
       " 1.0  10.2  16.8"
      ]
     },
     "execution_count": 72,
     "metadata": {},
     "output_type": "execute_result"
    }
   ],
   "source": [
    "M = [2.0 3.0 5.0; 1.0 10.2 16.8]"
   ]
  },
  {
   "cell_type": "code",
   "execution_count": 73,
   "id": "deca5e7a-4920-4b43-977c-e73da56d3b89",
   "metadata": {
    "ExecuteTime": {
     "end_time": "2023-01-27T13:55:28.553000+09:00",
     "start_time": "2023-01-27T04:55:20.662Z"
    }
   },
   "outputs": [
    {
     "data": {
      "text/plain": [
       "1×3 Matrix{Float64}:\n",
       " 1.5  6.6  10.9"
      ]
     },
     "execution_count": 73,
     "metadata": {},
     "output_type": "execute_result"
    }
   ],
   "source": [
    "mean(M, dims=1)"
   ]
  },
  {
   "cell_type": "code",
   "execution_count": 74,
   "id": "37a7add0-1fd2-4ee9-b99a-1dc6435f605e",
   "metadata": {
    "ExecuteTime": {
     "end_time": "2023-01-27T13:55:28.554000+09:00",
     "start_time": "2023-01-27T04:55:20.665Z"
    }
   },
   "outputs": [
    {
     "data": {
      "text/plain": [
       "2×1 Matrix{Float64}:\n",
       " 3.3333333333333335\n",
       " 9.333333333333334"
      ]
     },
     "execution_count": 74,
     "metadata": {},
     "output_type": "execute_result"
    }
   ],
   "source": [
    "mean(M, dims=2)"
   ]
  },
  {
   "cell_type": "code",
   "execution_count": 75,
   "id": "583ed042-74db-4875-a444-f570957c43e8",
   "metadata": {
    "ExecuteTime": {
     "end_time": "2023-01-27T13:55:29.077000+09:00",
     "start_time": "2023-01-27T04:55:20.667Z"
    }
   },
   "outputs": [
    {
     "data": {
      "text/plain": [
       "2×1 Matrix{Float64}:\n",
       "  3.0\n",
       " 10.2"
      ]
     },
     "execution_count": 75,
     "metadata": {},
     "output_type": "execute_result"
    }
   ],
   "source": [
    "median(M, dims=2)"
   ]
  },
  {
   "cell_type": "code",
   "execution_count": 76,
   "id": "5d6d529e-ecb7-420f-abcf-5ca78a9ff210",
   "metadata": {
    "ExecuteTime": {
     "end_time": "2023-01-27T13:55:29.217000+09:00",
     "start_time": "2023-01-27T04:55:20.671Z"
    }
   },
   "outputs": [
    {
     "data": {
      "text/plain": [
       "2×1 Matrix{Float64}:\n",
       " 1.5275252316519465\n",
       " 7.935573913292809"
      ]
     },
     "execution_count": 76,
     "metadata": {},
     "output_type": "execute_result"
    }
   ],
   "source": [
    "std(M, dims=2)"
   ]
  },
  {
   "cell_type": "code",
   "execution_count": 77,
   "id": "476536a1-8a3f-479d-9a4c-434771a60b1e",
   "metadata": {
    "ExecuteTime": {
     "end_time": "2023-01-27T13:55:29.225000+09:00",
     "start_time": "2023-01-27T04:55:20.673Z"
    }
   },
   "outputs": [
    {
     "data": {
      "text/plain": [
       "2×1 Matrix{Float64}:\n",
       " 1.247219128924647\n",
       " 6.4793689679028335"
      ]
     },
     "execution_count": 77,
     "metadata": {},
     "output_type": "execute_result"
    }
   ],
   "source": [
    "std(M, corrected=false, dims=2)"
   ]
  },
  {
   "cell_type": "code",
   "execution_count": 78,
   "id": "9b7be450-230b-4463-941e-5eb93153ef7d",
   "metadata": {
    "ExecuteTime": {
     "end_time": "2023-01-27T13:55:29.233000+09:00",
     "start_time": "2023-01-27T04:55:20.675Z"
    }
   },
   "outputs": [
    {
     "data": {
      "text/plain": [
       "2×1 Matrix{Float64}:\n",
       "  2.333333333333333\n",
       " 62.97333333333334"
      ]
     },
     "execution_count": 78,
     "metadata": {},
     "output_type": "execute_result"
    }
   ],
   "source": [
    "var(M, dims=2)"
   ]
  },
  {
   "cell_type": "code",
   "execution_count": 79,
   "id": "98107c2b-18e8-4e35-a6c2-3670381136d2",
   "metadata": {
    "ExecuteTime": {
     "end_time": "2023-01-27T13:55:29.239000+09:00",
     "start_time": "2023-01-27T04:55:20.679Z"
    }
   },
   "outputs": [
    {
     "data": {
      "text/plain": [
       "2×1 Matrix{Float64}:\n",
       "  1.5555555555555554\n",
       " 41.98222222222223"
      ]
     },
     "execution_count": 79,
     "metadata": {},
     "output_type": "execute_result"
    }
   ],
   "source": [
    "var(M, corrected=false, dims=2)"
   ]
  },
  {
   "cell_type": "markdown",
   "id": "1ebafe11-2599-4f84-ad12-07b2b7702c99",
   "metadata": {},
   "source": [
    "#### コード3-59. `Statistics` パッケージ使用例 (4): 多次元配列への適用（`mapslices()` 関数利用）"
   ]
  },
  {
   "cell_type": "code",
   "execution_count": 80,
   "id": "bfdcb64e-2e32-43f5-8679-9f52f3f41cba",
   "metadata": {
    "ExecuteTime": {
     "end_time": "2023-01-27T13:55:29.239000+09:00",
     "start_time": "2023-01-27T04:55:20.682Z"
    }
   },
   "outputs": [],
   "source": [
    "using Statistics"
   ]
  },
  {
   "cell_type": "code",
   "execution_count": 81,
   "id": "ed4cf250-6a65-4f4f-96a9-939d84c0401e",
   "metadata": {
    "ExecuteTime": {
     "end_time": "2023-01-27T13:55:29.240000+09:00",
     "start_time": "2023-01-27T04:55:20.685Z"
    }
   },
   "outputs": [],
   "source": [
    "M = [2.0 3.0 5.0; 1.0 10.2 16.8];"
   ]
  },
  {
   "cell_type": "code",
   "execution_count": 82,
   "id": "bb04286f-c0c3-4543-acae-b5fcbeeb520b",
   "metadata": {
    "ExecuteTime": {
     "end_time": "2023-01-27T13:55:29.269000+09:00",
     "start_time": "2023-01-27T04:55:20.688Z"
    }
   },
   "outputs": [
    {
     "data": {
      "text/plain": [
       "8.9"
      ]
     },
     "execution_count": 82,
     "metadata": {},
     "output_type": "execute_result"
    }
   ],
   "source": [
    "middle(M)"
   ]
  },
  {
   "cell_type": "code",
   "execution_count": 83,
   "id": "4f29daea-a3b0-4fcf-a1c9-5e6aa685fdc1",
   "metadata": {
    "ExecuteTime": {
     "end_time": "2023-01-27T13:55:29.496000+09:00",
     "start_time": "2023-01-27T04:55:20.691Z"
    }
   },
   "outputs": [
    {
     "data": {
      "text/plain": [
       "1×3 Matrix{Float64}:\n",
       " 1.5  6.6  10.9"
      ]
     },
     "execution_count": 83,
     "metadata": {},
     "output_type": "execute_result"
    }
   ],
   "source": [
    "mapslices(middle, M, dims=1)  # 列ごとの中点値"
   ]
  },
  {
   "cell_type": "code",
   "execution_count": 84,
   "id": "c45d32a7-5350-4d8d-8158-b76dbaf418d4",
   "metadata": {
    "ExecuteTime": {
     "end_time": "2023-01-27T13:55:29.497000+09:00",
     "start_time": "2023-01-27T04:55:20.694Z"
    }
   },
   "outputs": [
    {
     "data": {
      "text/plain": [
       "2×1 Matrix{Float64}:\n",
       " 3.5\n",
       " 8.9"
      ]
     },
     "execution_count": 84,
     "metadata": {},
     "output_type": "execute_result"
    }
   ],
   "source": [
    "mapslices(middle, M, dims=2)  # 行ごとの中点値"
   ]
  },
  {
   "cell_type": "code",
   "execution_count": 85,
   "id": "c11b1372-b2ce-4006-b116-9961a357911e",
   "metadata": {
    "ExecuteTime": {
     "end_time": "2023-01-27T13:55:29.565000+09:00",
     "start_time": "2023-01-27T04:55:20.697Z"
    }
   },
   "outputs": [
    {
     "data": {
      "text/plain": [
       "quartile (generic function with 1 method)"
      ]
     },
     "execution_count": 85,
     "metadata": {},
     "output_type": "execute_result"
    }
   ],
   "source": [
    "quartile(x) = quantile(x, 0.25:0.25:0.75)  # 簡単のため四分位数を算出する関数を定義"
   ]
  },
  {
   "cell_type": "code",
   "execution_count": 86,
   "id": "80dc1f11-9332-471b-904f-2be41d188698",
   "metadata": {
    "ExecuteTime": {
     "end_time": "2023-01-27T13:55:29.750000+09:00",
     "start_time": "2023-01-27T04:55:20.699Z"
    }
   },
   "outputs": [
    {
     "data": {
      "text/plain": [
       "3×3 Matrix{Float64}:\n",
       " 1.25  4.8   7.95\n",
       " 1.5   6.6  10.9\n",
       " 1.75  8.4  13.85"
      ]
     },
     "execution_count": 86,
     "metadata": {},
     "output_type": "execute_result"
    }
   ],
   "source": [
    "mapslices(quartile, M, dims=1)  # 結果の各列が元の行列の各列の四分位数"
   ]
  },
  {
   "cell_type": "code",
   "execution_count": 87,
   "id": "1b4244e8-8ea8-4f81-a914-21375ea6743e",
   "metadata": {
    "ExecuteTime": {
     "end_time": "2023-01-27T13:55:29.751000+09:00",
     "start_time": "2023-01-27T04:55:20.702Z"
    }
   },
   "outputs": [
    {
     "data": {
      "text/plain": [
       "2×3 Matrix{Float64}:\n",
       " 2.5   3.0   4.0\n",
       " 5.6  10.2  13.5"
      ]
     },
     "execution_count": 87,
     "metadata": {},
     "output_type": "execute_result"
    }
   ],
   "source": [
    "mapslices(quartile, M, dims=2)  # 結果の各行が元の行列の各行の四分位数"
   ]
  },
  {
   "cell_type": "markdown",
   "id": "4f56871c-cf90-4cc2-b13f-308bd7e64b28",
   "metadata": {},
   "source": [
    "### 3-2-4. LinearAlgebra"
   ]
  },
  {
   "cell_type": "markdown",
   "id": "25d4cb63-a865-45c2-b294-5ce77a46bc9e",
   "metadata": {},
   "source": [
    "#### コード3-60. `LinearAlgebra` パッケージ使用例 (1): `⋅` 演算子（`dot()` 関数）、`×` 演算子（`cross()` 関数）"
   ]
  },
  {
   "cell_type": "code",
   "execution_count": 88,
   "id": "871157ea-96ae-454d-9646-01082d798e04",
   "metadata": {
    "ExecuteTime": {
     "end_time": "2023-01-27T13:55:29.752000+09:00",
     "start_time": "2023-01-27T04:55:20.705Z"
    }
   },
   "outputs": [],
   "source": [
    "using LinearAlgebra"
   ]
  },
  {
   "cell_type": "code",
   "execution_count": 89,
   "id": "08b5edbe-faf9-48a3-b99e-5d745cdfb143",
   "metadata": {
    "ExecuteTime": {
     "end_time": "2023-01-27T13:55:29.752000+09:00",
     "start_time": "2023-01-27T04:55:20.707Z"
    }
   },
   "outputs": [],
   "source": [
    "x = [2.0, 1.0, 3.0];"
   ]
  },
  {
   "cell_type": "code",
   "execution_count": 90,
   "id": "a950e75f-9f05-4bfe-a289-e258ae44e1bb",
   "metadata": {
    "ExecuteTime": {
     "end_time": "2023-01-27T13:55:29.753000+09:00",
     "start_time": "2023-01-27T04:55:20.710Z"
    }
   },
   "outputs": [],
   "source": [
    "y = [2., 3., 1.];"
   ]
  },
  {
   "cell_type": "code",
   "execution_count": 91,
   "id": "8a29ac9e-9778-4d3c-8850-48aa0d971e80",
   "metadata": {
    "ExecuteTime": {
     "end_time": "2023-01-27T13:55:29.764000+09:00",
     "start_time": "2023-01-27T04:55:20.712Z"
    }
   },
   "outputs": [
    {
     "data": {
      "text/plain": [
       "10.0"
      ]
     },
     "execution_count": 91,
     "metadata": {},
     "output_type": "execute_result"
    }
   ],
   "source": [
    "x ⋅ y  # `dot(x, y)`, `x'y` でも同じ"
   ]
  },
  {
   "cell_type": "code",
   "execution_count": 92,
   "id": "7f47bff6",
   "metadata": {
    "ExecuteTime": {
     "end_time": "2023-01-27T13:55:29.773000+09:00",
     "start_time": "2023-01-27T04:55:20.715Z"
    }
   },
   "outputs": [
    {
     "data": {
      "text/plain": [
       "3-element Vector{Float64}:\n",
       " -8.0\n",
       "  4.0\n",
       "  4.0"
      ]
     },
     "execution_count": 92,
     "metadata": {},
     "output_type": "execute_result"
    }
   ],
   "source": [
    "x × y  # `cross(x, y)` でも同じ"
   ]
  },
  {
   "cell_type": "code",
   "execution_count": 93,
   "id": "43f7bba1",
   "metadata": {
    "ExecuteTime": {
     "end_time": "2023-01-27T13:55:29.798000+09:00",
     "start_time": "2023-01-27T04:55:20.717Z"
    }
   },
   "outputs": [],
   "source": [
    "A = [4. 12. -16.; 12. 37. -43.; -16. -43. 98.];"
   ]
  },
  {
   "cell_type": "code",
   "execution_count": 94,
   "id": "156a3ee8",
   "metadata": {
    "ExecuteTime": {
     "end_time": "2023-01-27T13:55:29.816000+09:00",
     "start_time": "2023-01-27T04:55:20.720Z"
    }
   },
   "outputs": [
    {
     "data": {
      "text/plain": [
       "-41.0"
      ]
     },
     "execution_count": 94,
     "metadata": {},
     "output_type": "execute_result"
    }
   ],
   "source": [
    "dot(x, A, y)  # `x' * A * y` としても計算結果は同じ"
   ]
  },
  {
   "cell_type": "markdown",
   "id": "f57bb02c-d105-46bc-8fec-8e163bbc6930",
   "metadata": {},
   "source": [
    "#### コード3-61. `LinearAlgebra` パッケージ使用例 (2): `norm()`、`opnorm()`"
   ]
  },
  {
   "cell_type": "code",
   "execution_count": 95,
   "id": "70d53b4e-b7de-4219-8eeb-2657c37d9878",
   "metadata": {
    "ExecuteTime": {
     "end_time": "2023-01-27T13:55:29.816000+09:00",
     "start_time": "2023-01-27T04:55:20.723Z"
    }
   },
   "outputs": [],
   "source": [
    "using LinearAlgebra"
   ]
  },
  {
   "cell_type": "code",
   "execution_count": 96,
   "id": "e40ccbce-5e28-4d3c-a0f0-95ec34d9c64c",
   "metadata": {
    "ExecuteTime": {
     "end_time": "2023-01-27T13:55:29.817000+09:00",
     "start_time": "2023-01-27T04:55:20.726Z"
    }
   },
   "outputs": [],
   "source": [
    "x = [2.0, 1.0, 3.0];"
   ]
  },
  {
   "cell_type": "code",
   "execution_count": 97,
   "id": "b225359a-818d-41bc-919d-380251bad40e",
   "metadata": {
    "ExecuteTime": {
     "end_time": "2023-01-27T13:55:29.955000+09:00",
     "start_time": "2023-01-27T04:55:20.729Z"
    }
   },
   "outputs": [
    {
     "data": {
      "text/plain": [
       "3.7416573867739413"
      ]
     },
     "execution_count": 97,
     "metadata": {},
     "output_type": "execute_result"
    }
   ],
   "source": [
    "norm(x)  # == `√(x'x)`"
   ]
  },
  {
   "cell_type": "code",
   "execution_count": 98,
   "id": "8b94207e-7a3c-49d6-b0cc-c4083df95607",
   "metadata": {
    "ExecuteTime": {
     "end_time": "2023-01-27T13:55:29.956000+09:00",
     "start_time": "2023-01-27T04:55:20.731Z"
    }
   },
   "outputs": [
    {
     "data": {
      "text/plain": [
       "6.0"
      ]
     },
     "execution_count": 98,
     "metadata": {},
     "output_type": "execute_result"
    }
   ],
   "source": [
    "norm(x, 1)  # == `sum(abs, x)`"
   ]
  },
  {
   "cell_type": "code",
   "execution_count": 99,
   "id": "bfc012b4-304f-4c1d-9b21-ac286168c20e",
   "metadata": {
    "ExecuteTime": {
     "end_time": "2023-01-27T13:55:29.979000+09:00",
     "start_time": "2023-01-27T04:55:20.733Z"
    }
   },
   "outputs": [
    {
     "data": {
      "text/plain": [
       "3.0"
      ]
     },
     "execution_count": 99,
     "metadata": {},
     "output_type": "execute_result"
    }
   ],
   "source": [
    "norm(x, Inf)  # == `max(abs, x)`"
   ]
  },
  {
   "cell_type": "code",
   "execution_count": 100,
   "id": "7a6aebfe-7f89-4158-b3fb-2fb1aa9fa538",
   "metadata": {
    "ExecuteTime": {
     "end_time": "2023-01-27T13:55:29.980000+09:00",
     "start_time": "2023-01-27T04:55:20.736Z"
    }
   },
   "outputs": [],
   "source": [
    "A = [4. 12. -16.; 12. 37. -43.; -16. -43. 98.];"
   ]
  },
  {
   "cell_type": "code",
   "execution_count": 101,
   "id": "bcbb49aa-5996-4007-8f88-6e719bb11573",
   "metadata": {
    "ExecuteTime": {
     "end_time": "2023-01-27T13:55:30.098000+09:00",
     "start_time": "2023-01-27T04:55:20.739Z"
    }
   },
   "outputs": [
    {
     "data": {
      "text/plain": [
       "124.44677577181339"
      ]
     },
     "execution_count": 101,
     "metadata": {},
     "output_type": "execute_result"
    }
   ],
   "source": [
    "norm(A)  # フロベニウスノルム、== `sqrt(sum(x->abs(x)^2, A))`"
   ]
  },
  {
   "cell_type": "code",
   "execution_count": 102,
   "id": "b765e610-9f20-41f9-b271-c8e273171538",
   "metadata": {
    "ExecuteTime": {
     "end_time": "2023-01-27T13:55:30.159000+09:00",
     "start_time": "2023-01-27T04:55:20.742Z"
    }
   },
   "outputs": [
    {
     "data": {
      "text/plain": [
       "123.47723179013158"
      ]
     },
     "execution_count": 102,
     "metadata": {},
     "output_type": "execute_result"
    }
   ],
   "source": [
    "opnorm(A)  # 作用素ノルム"
   ]
  },
  {
   "cell_type": "markdown",
   "id": "0abd074e-bb64-48f5-bfa5-9b74e97e579d",
   "metadata": {},
   "source": [
    "#### コード3-62. `LinearAlgebra` パッケージ使用例 (3): `rank()`、`tr()`、`det()`、`pinv()`"
   ]
  },
  {
   "cell_type": "code",
   "execution_count": 103,
   "id": "1b064d94-d98a-4c2c-b221-3416110361d6",
   "metadata": {
    "ExecuteTime": {
     "end_time": "2023-01-27T13:55:30.159000+09:00",
     "start_time": "2023-01-27T04:55:20.745Z"
    }
   },
   "outputs": [],
   "source": [
    "using LinearAlgebra"
   ]
  },
  {
   "cell_type": "code",
   "execution_count": 104,
   "id": "435374ca-b746-44eb-84a9-9e472143051d",
   "metadata": {
    "ExecuteTime": {
     "end_time": "2023-01-27T13:55:30.161000+09:00",
     "start_time": "2023-01-27T04:55:20.747Z"
    }
   },
   "outputs": [
    {
     "data": {
      "text/plain": [
       "3×3 Matrix{Float64}:\n",
       " 1.0  2.0  3.0\n",
       " 4.0  5.0  6.0\n",
       " 7.0  8.0  9.0"
      ]
     },
     "execution_count": 104,
     "metadata": {},
     "output_type": "execute_result"
    }
   ],
   "source": [
    "A = [1. 2. 3.; 4. 5. 6.; 7. 8. 9.]"
   ]
  },
  {
   "cell_type": "code",
   "execution_count": 105,
   "id": "43c866e9-fc33-4ca6-9613-1bc45aa834aa",
   "metadata": {
    "ExecuteTime": {
     "end_time": "2023-01-27T13:55:30.183000+09:00",
     "start_time": "2023-01-27T04:55:20.750Z"
    }
   },
   "outputs": [
    {
     "data": {
      "text/plain": [
       "2"
      ]
     },
     "execution_count": 105,
     "metadata": {},
     "output_type": "execute_result"
    }
   ],
   "source": [
    "rank(A)  # `rank(A) < minimum(size(A))` となる行列をランク落ちと言う\n",
    "         # （特に正方行列なら正則行列ではない）"
   ]
  },
  {
   "cell_type": "code",
   "execution_count": 106,
   "id": "6fed734f-08e5-4a34-b632-26972be45136",
   "metadata": {
    "ExecuteTime": {
     "end_time": "2023-01-27T13:55:30.195000+09:00",
     "start_time": "2023-01-27T04:55:20.752Z"
    }
   },
   "outputs": [
    {
     "data": {
      "text/plain": [
       "15.0"
      ]
     },
     "execution_count": 106,
     "metadata": {},
     "output_type": "execute_result"
    }
   ],
   "source": [
    "tr(A)"
   ]
  },
  {
   "cell_type": "code",
   "execution_count": 107,
   "id": "0e2f0c37-c061-4740-98d2-80e0a8ff4ba3",
   "metadata": {
    "ExecuteTime": {
     "end_time": "2023-01-27T13:55:30.364000+09:00",
     "start_time": "2023-01-27T04:55:20.755Z"
    }
   },
   "outputs": [
    {
     "data": {
      "text/plain": [
       "0.0"
      ]
     },
     "execution_count": 107,
     "metadata": {},
     "output_type": "execute_result"
    }
   ],
   "source": [
    "det(A)"
   ]
  },
  {
   "cell_type": "code",
   "execution_count": 108,
   "id": "3e5ddb4f-84db-476c-8601-648c87101ce6",
   "metadata": {
    "ExecuteTime": {
     "end_time": "2023-01-27T13:55:31.472000+09:00",
     "start_time": "2023-01-27T04:55:20.758Z"
    }
   },
   "outputs": [
    {
     "data": {
      "text/plain": [
       "3×3 Matrix{Float64}:\n",
       " -0.638889   -0.166667      0.305556\n",
       " -0.0555556   4.16334e-17   0.0555556\n",
       "  0.527778    0.166667     -0.194444"
      ]
     },
     "execution_count": 108,
     "metadata": {},
     "output_type": "execute_result"
    }
   ],
   "source": [
    "pinv(A)  # 正則行列でない行列でも `pinv(A)` は計算できる"
   ]
  },
  {
   "cell_type": "code",
   "execution_count": 109,
   "id": "b96975fe-d225-4eb2-9913-f70f36b240e5",
   "metadata": {
    "ExecuteTime": {
     "end_time": "2023-01-27T13:55:31.473000+09:00",
     "start_time": "2023-01-27T04:55:20.761Z"
    }
   },
   "outputs": [],
   "source": [
    "x = [1.0, 2.0, 4.0];"
   ]
  },
  {
   "cell_type": "code",
   "execution_count": 110,
   "id": "a0c7bb42-ec80-4148-a901-af8fc95b093d",
   "metadata": {
    "ExecuteTime": {
     "end_time": "2023-01-27T13:55:31.518000+09:00",
     "start_time": "2023-01-27T04:55:20.763Z"
    }
   },
   "outputs": [
    {
     "data": {
      "text/plain": [
       "3-element Vector{Float64}:\n",
       " 0.2500000000000002\n",
       " 0.1666666666666668\n",
       " 0.08333333333333348"
      ]
     },
     "execution_count": 110,
     "metadata": {},
     "output_type": "execute_result"
    }
   ],
   "source": [
    "# `A \\ x` は `SingularException(3)` 発生\n",
    "pinv(A) * x  # `A * ○ == [1, 2, 4]` となる `○` の誤差(最)小解"
   ]
  },
  {
   "cell_type": "code",
   "execution_count": 111,
   "id": "77b14b77-f342-4e61-83b6-f025ffb41a31",
   "metadata": {
    "ExecuteTime": {
     "end_time": "2023-01-27T13:55:31.638000+09:00",
     "start_time": "2023-01-27T04:55:20.766Z"
    }
   },
   "outputs": [
    {
     "data": {
      "text/plain": [
       "true"
      ]
     },
     "execution_count": 111,
     "metadata": {},
     "output_type": "execute_result"
    }
   ],
   "source": [
    "pinv(x) * x ≈ 1.0"
   ]
  },
  {
   "cell_type": "markdown",
   "id": "6e183c3b-a959-433b-8093-f38539388009",
   "metadata": {},
   "source": [
    "#### コード3-63. `LinearAlgebra` パッケージ使用例 (4): 各種行列（抜粋）"
   ]
  },
  {
   "cell_type": "code",
   "execution_count": 112,
   "id": "2aea364f-6688-47ae-8418-17c9b81da059",
   "metadata": {
    "ExecuteTime": {
     "end_time": "2023-01-27T13:55:31.639000+09:00",
     "start_time": "2023-01-27T04:55:20.769Z"
    }
   },
   "outputs": [],
   "source": [
    "A = [1. 2. 3.; 4. 5. 6.; 7. 8. 9.];"
   ]
  },
  {
   "cell_type": "code",
   "execution_count": 113,
   "id": "71127c96-2f73-4a5c-93a0-27130e54d928",
   "metadata": {
    "ExecuteTime": {
     "end_time": "2023-01-27T13:55:31.943000+09:00",
     "start_time": "2023-01-27T04:55:20.772Z"
    }
   },
   "outputs": [
    {
     "data": {
      "text/plain": [
       "3×3 Symmetric{Float64, Matrix{Float64}}:\n",
       " 1.0  2.0  3.0\n",
       " 2.0  5.0  6.0\n",
       " 3.0  6.0  9.0"
      ]
     },
     "execution_count": 113,
     "metadata": {},
     "output_type": "execute_result"
    }
   ],
   "source": [
    "Symmetric(A)  # 対称行列"
   ]
  },
  {
   "cell_type": "code",
   "execution_count": 114,
   "id": "ec23d756-0790-4299-9cba-5bb6c57907dc",
   "metadata": {
    "ExecuteTime": {
     "end_time": "2023-01-27T13:55:32.408000+09:00",
     "start_time": "2023-01-27T04:55:20.775Z"
    }
   },
   "outputs": [
    {
     "data": {
      "text/plain": [
       "3×3 Hermitian{ComplexF64, Matrix{ComplexF64}}:\n",
       " 1.0+0.0im  2.0+1.0im  3.0+1.0im\n",
       " 2.0-1.0im  5.0+0.0im  6.0+1.0im\n",
       " 3.0-1.0im  6.0-1.0im  9.0+0.0im"
      ]
     },
     "execution_count": 114,
     "metadata": {},
     "output_type": "execute_result"
    }
   ],
   "source": [
    "Hermitian(A+fill(im,3,3))  # エルミート行列"
   ]
  },
  {
   "cell_type": "code",
   "execution_count": 115,
   "id": "c64d1720-9780-448e-8e74-7046ca376dae",
   "metadata": {
    "ExecuteTime": {
     "end_time": "2023-01-27T13:55:32.708000+09:00",
     "start_time": "2023-01-27T04:55:20.778Z"
    }
   },
   "outputs": [
    {
     "data": {
      "text/plain": [
       "3×3 Diagonal{Float64, Vector{Float64}}:\n",
       " 1.0   ⋅    ⋅ \n",
       "  ⋅   5.0   ⋅ \n",
       "  ⋅    ⋅   9.0"
      ]
     },
     "execution_count": 115,
     "metadata": {},
     "output_type": "execute_result"
    }
   ],
   "source": [
    "Diagonal(A)  # 対角行列"
   ]
  },
  {
   "cell_type": "code",
   "execution_count": 116,
   "id": "0b1540e0-dc68-44d6-86a8-5a66d1d487ca",
   "metadata": {
    "ExecuteTime": {
     "end_time": "2023-01-27T13:55:32.995000+09:00",
     "start_time": "2023-01-27T04:55:20.781Z"
    }
   },
   "outputs": [
    {
     "data": {
      "text/plain": [
       "3×3 UpperTriangular{Float64, Matrix{Float64}}:\n",
       " 1.0  2.0  3.0\n",
       "  ⋅   5.0  6.0\n",
       "  ⋅    ⋅   9.0"
      ]
     },
     "execution_count": 116,
     "metadata": {},
     "output_type": "execute_result"
    }
   ],
   "source": [
    "UpperTriangular(A)  # 上三角行列"
   ]
  },
  {
   "cell_type": "code",
   "execution_count": 117,
   "id": "7b4bb350-69b4-46dd-b8ed-3b76405d7a2f",
   "metadata": {
    "ExecuteTime": {
     "end_time": "2023-01-27T13:55:33.277000+09:00",
     "start_time": "2023-01-27T04:55:20.783Z"
    }
   },
   "outputs": [
    {
     "data": {
      "text/plain": [
       "3×3 LowerTriangular{Float64, Matrix{Float64}}:\n",
       " 1.0   ⋅    ⋅ \n",
       " 4.0  5.0   ⋅ \n",
       " 7.0  8.0  9.0"
      ]
     },
     "execution_count": 117,
     "metadata": {},
     "output_type": "execute_result"
    }
   ],
   "source": [
    "LowerTriangular(A)  # 下三角行列"
   ]
  },
  {
   "cell_type": "markdown",
   "id": "98ffbb6a-6d0a-48db-81e0-64681c24a2ae",
   "metadata": {},
   "source": [
    "#### コード3-64. `LinearAlgebra` パッケージ使用例 (5): 行列の分解"
   ]
  },
  {
   "cell_type": "code",
   "execution_count": 118,
   "id": "b14b1e87-1275-44cb-b79d-3b26045d1364",
   "metadata": {
    "ExecuteTime": {
     "end_time": "2023-01-27T13:55:33.279000+09:00",
     "start_time": "2023-01-27T04:55:20.786Z"
    }
   },
   "outputs": [
    {
     "data": {
      "text/plain": [
       "3×3 Matrix{Float64}:\n",
       " 3.0  5.0  2.0\n",
       " 5.0  7.0  3.0\n",
       " 2.0  3.0  1.0"
      ]
     },
     "execution_count": 118,
     "metadata": {},
     "output_type": "execute_result"
    }
   ],
   "source": [
    "A = [3. 5. 2.; 5. 7. 3.; 2. 3. 1.]"
   ]
  },
  {
   "cell_type": "code",
   "execution_count": 119,
   "id": "744f0ac0-a426-4078-ba81-2cd1a959b849",
   "metadata": {
    "ExecuteTime": {
     "end_time": "2023-01-27T13:55:34.316000+09:00",
     "start_time": "2023-01-27T04:55:20.790Z"
    }
   },
   "outputs": [
    {
     "data": {
      "text/plain": [
       "BunchKaufman{Float64, Matrix{Float64}, Vector{Int64}}\n",
       "D factor:\n",
       "3×3 Tridiagonal{Float64, Vector{Float64}}:\n",
       " -0.5   0.0        ⋅ \n",
       "  0.0  -0.285714  0.0\n",
       "   ⋅    0.0       7.0\n",
       "U factor:\n",
       "3×3 UnitUpperTriangular{Float64, Matrix{Float64}}:\n",
       " 1.0  0.5  0.714286\n",
       "  ⋅   1.0  0.428571\n",
       "  ⋅    ⋅   1.0\n",
       "permutation:\n",
       "3-element Vector{Int64}:\n",
       " 1\n",
       " 3\n",
       " 2"
      ]
     },
     "execution_count": 119,
     "metadata": {},
     "output_type": "execute_result"
    }
   ],
   "source": [
    "factorize(A)  # == bunchkaufman(A)"
   ]
  },
  {
   "cell_type": "code",
   "execution_count": 120,
   "id": "7810d01a-215d-4c5b-8b46-80f763640d12",
   "metadata": {
    "ExecuteTime": {
     "end_time": "2023-01-27T13:55:34.544000+09:00",
     "start_time": "2023-01-27T04:55:20.793Z"
    }
   },
   "outputs": [
    {
     "data": {
      "text/plain": [
       "Cholesky{Float64, Matrix{Float64}}\n",
       "U factor:\n",
       "3×3 UpperTriangular{Float64, Matrix{Float64}}:\n",
       " 2.0  2.5      1.0\n",
       "  ⋅   1.32288  0.377964\n",
       "  ⋅    ⋅       0.92582"
      ]
     },
     "execution_count": 120,
     "metadata": {},
     "output_type": "execute_result"
    }
   ],
   "source": [
    "cholesky(A+I)"
   ]
  },
  {
   "cell_type": "code",
   "execution_count": 121,
   "id": "b36baceb-a440-4194-96ea-ea9a12a7b03e",
   "metadata": {
    "ExecuteTime": {
     "end_time": "2023-01-27T13:55:34.561000+09:00",
     "start_time": "2023-01-27T04:55:20.795Z"
    }
   },
   "outputs": [
    {
     "data": {
      "text/plain": [
       "false"
      ]
     },
     "execution_count": 121,
     "metadata": {},
     "output_type": "execute_result"
    }
   ],
   "source": [
    "isposdef(A)"
   ]
  },
  {
   "cell_type": "code",
   "execution_count": 122,
   "id": "f858df91-0db3-4651-a739-6cada47e0a3b",
   "metadata": {
    "ExecuteTime": {
     "end_time": "2023-01-27T13:55:34.834000+09:00",
     "start_time": "2023-01-27T04:55:20.798Z"
    }
   },
   "outputs": [
    {
     "data": {
      "text/plain": [
       "LU{Float64, Matrix{Float64}, Vector{Int64}}\n",
       "L factor:\n",
       "3×3 Matrix{Float64}:\n",
       " 1.0  0.0   0.0\n",
       " 0.6  1.0   0.0\n",
       " 0.4  0.25  1.0\n",
       "U factor:\n",
       "3×3 Matrix{Float64}:\n",
       " 5.0  7.0   3.0\n",
       " 0.0  0.8   0.2\n",
       " 0.0  0.0  -0.25"
      ]
     },
     "execution_count": 122,
     "metadata": {},
     "output_type": "execute_result"
    }
   ],
   "source": [
    "lu(A)"
   ]
  },
  {
   "cell_type": "code",
   "execution_count": 123,
   "id": "c0fbd856-c046-439f-8f96-29bc5a8e249e",
   "metadata": {
    "ExecuteTime": {
     "end_time": "2023-01-27T13:55:35.223000+09:00",
     "start_time": "2023-01-27T04:55:20.800Z"
    }
   },
   "outputs": [
    {
     "data": {
      "text/plain": [
       "LinearAlgebra.QRCompactWY{Float64, Matrix{Float64}, Matrix{Float64}}\n",
       "Q factor:\n",
       "3×3 LinearAlgebra.QRCompactWYQ{Float64, Matrix{Float64}, Matrix{Float64}}:\n",
       " -0.486664   0.841191   -0.235702\n",
       " -0.811107  -0.535303   -0.235702\n",
       " -0.324443   0.0764719   0.942809\n",
       "R factor:\n",
       "3×3 Matrix{Float64}:\n",
       " -6.16441  -9.0844    -3.73109\n",
       "  0.0       0.688247   0.152944\n",
       "  0.0       0.0       -0.235702"
      ]
     },
     "execution_count": 123,
     "metadata": {},
     "output_type": "execute_result"
    }
   ],
   "source": [
    "qr(A)"
   ]
  },
  {
   "cell_type": "code",
   "execution_count": 124,
   "id": "4a8df5c9-dc69-4855-8710-9c45dadc4200",
   "metadata": {
    "ExecuteTime": {
     "end_time": "2023-01-27T13:55:35.224000+09:00",
     "start_time": "2023-01-27T04:55:20.803Z"
    }
   },
   "outputs": [
    {
     "data": {
      "text/plain": [
       "3-element Vector{Float64}:\n",
       " 19.0\n",
       " 28.0\n",
       " 11.0"
      ]
     },
     "execution_count": 124,
     "metadata": {},
     "output_type": "execute_result"
    }
   ],
   "source": [
    "y1 = A * [1., 2., 3.]"
   ]
  },
  {
   "cell_type": "code",
   "execution_count": 125,
   "id": "7283426f-6caf-4228-a67e-a83242d7e9f3",
   "metadata": {
    "ExecuteTime": {
     "end_time": "2023-01-27T13:55:35.226000+09:00",
     "start_time": "2023-01-27T04:55:20.805Z"
    }
   },
   "outputs": [
    {
     "data": {
      "text/plain": [
       "3-element Vector{Float64}:\n",
       " 20.0\n",
       " 30.0\n",
       " 14.0"
      ]
     },
     "execution_count": 125,
     "metadata": {},
     "output_type": "execute_result"
    }
   ],
   "source": [
    "y2 = (A + I) * [1., 2., 3.]"
   ]
  },
  {
   "cell_type": "code",
   "execution_count": 126,
   "id": "62cda5bc-c5ea-4aa0-86bb-06fd80319a36",
   "metadata": {
    "ExecuteTime": {
     "end_time": "2023-01-27T13:55:35.529000+09:00",
     "start_time": "2023-01-27T04:55:20.808Z"
    }
   },
   "outputs": [
    {
     "data": {
      "text/plain": [
       "true"
      ]
     },
     "execution_count": 126,
     "metadata": {},
     "output_type": "execute_result"
    }
   ],
   "source": [
    "factorize(A) \\ y1 ≈ [1, 2, 3]"
   ]
  },
  {
   "cell_type": "code",
   "execution_count": 127,
   "id": "7e5a0b4f-0013-4104-bf61-cde336c1caa2",
   "metadata": {
    "ExecuteTime": {
     "end_time": "2023-01-27T13:55:35.568000+09:00",
     "start_time": "2023-01-27T04:55:20.810Z"
    }
   },
   "outputs": [
    {
     "data": {
      "text/plain": [
       "true"
      ]
     },
     "execution_count": 127,
     "metadata": {},
     "output_type": "execute_result"
    }
   ],
   "source": [
    "bunchkaufman(A) \\ y1 ≈ [1, 2, 3]"
   ]
  },
  {
   "cell_type": "code",
   "execution_count": 128,
   "id": "468b2c58-2544-46ea-a3ec-798a149b112c",
   "metadata": {
    "ExecuteTime": {
     "end_time": "2023-01-27T13:55:35.597000+09:00",
     "start_time": "2023-01-27T04:55:20.812Z"
    }
   },
   "outputs": [
    {
     "data": {
      "text/plain": [
       "true"
      ]
     },
     "execution_count": 128,
     "metadata": {},
     "output_type": "execute_result"
    }
   ],
   "source": [
    "cholesky(A+I) \\ y2 ≈ [1, 2, 3]"
   ]
  },
  {
   "cell_type": "code",
   "execution_count": 129,
   "id": "a5e41a9c-3566-4a29-9552-9b17a2024e29",
   "metadata": {
    "ExecuteTime": {
     "end_time": "2023-01-27T13:55:35.625000+09:00",
     "start_time": "2023-01-27T04:55:20.815Z"
    }
   },
   "outputs": [
    {
     "data": {
      "text/plain": [
       "true"
      ]
     },
     "execution_count": 129,
     "metadata": {},
     "output_type": "execute_result"
    }
   ],
   "source": [
    "lu(A) \\ y1 ≈ [1, 2, 3]"
   ]
  },
  {
   "cell_type": "code",
   "execution_count": 130,
   "id": "b02f3b00-c801-4bdb-8240-825da73cd2a7",
   "metadata": {
    "ExecuteTime": {
     "end_time": "2023-01-27T13:55:35.684000+09:00",
     "start_time": "2023-01-27T04:55:20.818Z"
    }
   },
   "outputs": [
    {
     "data": {
      "text/plain": [
       "true"
      ]
     },
     "execution_count": 130,
     "metadata": {},
     "output_type": "execute_result"
    }
   ],
   "source": [
    "qr(A) \\ y1 ≈ [1, 2, 3]"
   ]
  }
 ],
 "metadata": {
  "jupytext": {
   "formats": "ipynb,auto:light"
  },
  "kernelspec": {
   "display_name": "Julia 1.8.5",
   "language": "julia",
   "name": "julia-1.8"
  },
  "language_info": {
   "file_extension": ".jl",
   "mimetype": "application/julia",
   "name": "julia",
   "version": "1.8.5"
  }
 },
 "nbformat": 4,
 "nbformat_minor": 5
}
