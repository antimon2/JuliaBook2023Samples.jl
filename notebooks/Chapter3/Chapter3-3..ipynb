{
 "cells": [
  {
   "cell_type": "code",
   "execution_count": 1,
   "id": "081ef2fc-fa25-4445-be20-b38f8ff3ea6e",
   "metadata": {
    "ExecuteTime": {
     "end_time": "2023-01-27T13:58:48+09:00",
     "start_time": "2023-01-27T04:58:47.349Z"
    }
   },
   "outputs": [
    {
     "name": "stdout",
     "output_type": "stream",
     "text": [
      "Julia Version 1.8.5\n",
      "Commit 17cfb8e65ea (2023-01-08 06:45 UTC)\n",
      "Platform Info:\n",
      "  OS: Linux (x86_64-linux-gnu)\n",
      "  CPU: 12 × Intel(R) Core(TM) i7-9750H CPU @ 2.60GHz\n",
      "  WORD_SIZE: 64\n",
      "  LIBM: libopenlibm\n",
      "  LLVM: libLLVM-13.0.1 (ORCJIT, skylake)\n",
      "  Threads: 1 on 12 virtual cores\n"
     ]
    }
   ],
   "source": [
    "versioninfo()"
   ]
  },
  {
   "cell_type": "markdown",
   "id": "44709049-b457-49fd-9133-e4979cab3947",
   "metadata": {},
   "source": [
    "## 3-3. 関数・引数の組合せ"
   ]
  },
  {
   "cell_type": "markdown",
   "id": "06c2b89c-e056-427f-9973-f02bf54a285a",
   "metadata": {},
   "source": [
    "### 3-3-1. 文字列→数値変換"
   ]
  },
  {
   "cell_type": "markdown",
   "id": "c894efe9-ae4f-4ac5-a412-4e99ed0f1435",
   "metadata": {},
   "source": [
    "#### コード3-65. 文字列→数値変換(1)"
   ]
  },
  {
   "cell_type": "code",
   "execution_count": 2,
   "id": "9974ee3b-f382-4cca-92a6-0b3d628b7f58",
   "metadata": {
    "ExecuteTime": {
     "end_time": "2023-01-27T13:58:48.399000+09:00",
     "start_time": "2023-01-27T04:58:47.353Z"
    }
   },
   "outputs": [
    {
     "data": {
      "text/plain": [
       "123"
      ]
     },
     "execution_count": 2,
     "metadata": {},
     "output_type": "execute_result"
    }
   ],
   "source": [
    "parse(Int, \"123\")"
   ]
  },
  {
   "cell_type": "code",
   "execution_count": 3,
   "id": "ef781288-f19c-4517-8aca-07ff028fe581",
   "metadata": {
    "ExecuteTime": {
     "end_time": "2023-01-27T13:58:48.614000+09:00",
     "start_time": "2023-01-27T04:58:47.355Z"
    }
   },
   "outputs": [
    {
     "data": {
      "text/plain": [
       "0x000000000000007b"
      ]
     },
     "execution_count": 3,
     "metadata": {},
     "output_type": "execute_result"
    }
   ],
   "source": [
    "parse(UInt, \"123\")"
   ]
  },
  {
   "cell_type": "code",
   "execution_count": 4,
   "id": "1c9725a2-c0ed-4a03-9e32-b024ef028d13",
   "metadata": {
    "ExecuteTime": {
     "end_time": "2023-01-27T13:58:48.784000+09:00",
     "start_time": "2023-01-27T04:58:47.357Z"
    }
   },
   "outputs": [
    {
     "data": {
      "text/plain": [
       "0x7b"
      ]
     },
     "execution_count": 4,
     "metadata": {},
     "output_type": "execute_result"
    }
   ],
   "source": [
    "parse(UInt8, \"123\")"
   ]
  },
  {
   "cell_type": "code",
   "execution_count": 5,
   "id": "047bfce8-f4a3-4ea1-ae67-0475993953f6",
   "metadata": {
    "ExecuteTime": {
     "end_time": "2023-01-27T13:58:49.163000+09:00",
     "start_time": "2023-01-27T04:58:47.358Z"
    }
   },
   "outputs": [
    {
     "data": {
      "text/plain": [
       "Int32"
      ]
     },
     "execution_count": 5,
     "metadata": {},
     "output_type": "execute_result"
    }
   ],
   "source": [
    "typeof(parse(Int32, \"123\"))"
   ]
  },
  {
   "cell_type": "code",
   "execution_count": 6,
   "id": "54a7d402-d0d3-41cc-bca1-1a4ac1ca5653",
   "metadata": {
    "ExecuteTime": {
     "end_time": "2023-01-27T13:58:49.327000+09:00",
     "start_time": "2023-01-27T04:58:47.360Z"
    }
   },
   "outputs": [
    {
     "data": {
      "text/plain": [
       "123.0"
      ]
     },
     "execution_count": 6,
     "metadata": {},
     "output_type": "execute_result"
    }
   ],
   "source": [
    "parse(Float64, \"123\")"
   ]
  },
  {
   "cell_type": "code",
   "execution_count": 7,
   "id": "82b3bbee-6093-46e3-9416-830b2bb97b8f",
   "metadata": {
    "ExecuteTime": {
     "end_time": "2023-01-27T13:58:49.328000+09:00",
     "start_time": "2023-01-27T04:58:47.362Z"
    }
   },
   "outputs": [
    {
     "data": {
      "text/plain": [
       "123.45"
      ]
     },
     "execution_count": 7,
     "metadata": {},
     "output_type": "execute_result"
    }
   ],
   "source": [
    "parse(Float64, \"123.45\")"
   ]
  },
  {
   "cell_type": "code",
   "execution_count": 8,
   "id": "146b45d0-2e6b-4cee-8472-e2d6f33c37a4",
   "metadata": {
    "ExecuteTime": {
     "end_time": "2023-01-27T13:58:50.054000+09:00",
     "start_time": "2023-01-27T04:58:47.364Z"
    },
    "scrolled": true,
    "tags": []
   },
   "outputs": [
    {
     "ename": "LoadError",
     "evalue": "ArgumentError: invalid base 10 digit '.' in \"123.45\"",
     "output_type": "error",
     "traceback": [
      "ArgumentError: invalid base 10 digit '.' in \"123.45\"",
      "",
      "Stacktrace:",
      " [1] tryparse_internal(#unused#::Type{Int64}, s::String, startpos::Int64, endpos::Int64, base_::Int64, raise::Bool)",
      "   @ Base ./parse.jl:137",
      " [2] parse(::Type{Int64}, s::String; base::Nothing)",
      "   @ Base ./parse.jl:241",
      " [3] parse(::Type{Int64}, s::String)",
      "   @ Base ./parse.jl:240",
      " [4] top-level scope",
      "   @ In[8]:1"
     ]
    }
   ],
   "source": [
    "parse(Int, \"123.45\")"
   ]
  },
  {
   "cell_type": "code",
   "execution_count": 9,
   "id": "5bae18ea-262c-48b8-b24b-df7bd994e72e",
   "metadata": {
    "ExecuteTime": {
     "end_time": "2023-01-27T13:58:50.154000+09:00",
     "start_time": "2023-01-27T04:58:47.366Z"
    },
    "scrolled": true,
    "tags": []
   },
   "outputs": [
    {
     "ename": "LoadError",
     "evalue": "OverflowError: overflow parsing \"200\"",
     "output_type": "error",
     "traceback": [
      "OverflowError: overflow parsing \"200\"",
      "",
      "Stacktrace:",
      " [1] tryparse_internal(#unused#::Type{Int8}, s::String, startpos::Int64, endpos::Int64, base_::Int64, raise::Bool)",
      "   @ Base ./parse.jl:163",
      " [2] parse(::Type{Int8}, s::String; base::Nothing)",
      "   @ Base ./parse.jl:241",
      " [3] parse(::Type{Int8}, s::String)",
      "   @ Base ./parse.jl:240",
      " [4] top-level scope",
      "   @ In[9]:1"
     ]
    }
   ],
   "source": [
    "parse(Int8, \"200\")"
   ]
  },
  {
   "cell_type": "code",
   "execution_count": 10,
   "id": "e348b4d1-2958-449d-8190-906381229c93",
   "metadata": {
    "ExecuteTime": {
     "end_time": "2023-01-27T13:58:50.167000+09:00",
     "start_time": "2023-01-27T04:58:47.368Z"
    }
   },
   "outputs": [
    {
     "data": {
      "text/plain": [
       "Nothing"
      ]
     },
     "execution_count": 10,
     "metadata": {},
     "output_type": "execute_result"
    }
   ],
   "source": [
    "typeof(tryparse(Int, \"123.45\"))"
   ]
  },
  {
   "cell_type": "code",
   "execution_count": 11,
   "id": "6a1aff38-174b-4012-8add-c5d59bffb043",
   "metadata": {
    "ExecuteTime": {
     "end_time": "2023-01-27T13:58:50.171000+09:00",
     "start_time": "2023-01-27T04:58:47.369Z"
    }
   },
   "outputs": [
    {
     "data": {
      "text/plain": [
       "Nothing"
      ]
     },
     "execution_count": 11,
     "metadata": {},
     "output_type": "execute_result"
    }
   ],
   "source": [
    "typeof(tryparse(Int8, \"200\"))"
   ]
  },
  {
   "cell_type": "markdown",
   "id": "039e9b95-9601-43ce-a9fd-a1ca5ca2148c",
   "metadata": {},
   "source": [
    "#### コード3-66. 文字列→数値変換(2)"
   ]
  },
  {
   "cell_type": "code",
   "execution_count": 12,
   "id": "7d9970e3-a603-41a5-8b19-efeed8b82b09",
   "metadata": {
    "ExecuteTime": {
     "end_time": "2023-01-27T13:58:50.505000+09:00",
     "start_time": "2023-01-27T04:58:47.371Z"
    }
   },
   "outputs": [
    {
     "data": {
      "text/plain": [
       "1 + 2im"
      ]
     },
     "execution_count": 12,
     "metadata": {},
     "output_type": "execute_result"
    }
   ],
   "source": [
    "parse(Complex{Int}, \"1+2im\")"
   ]
  },
  {
   "cell_type": "code",
   "execution_count": 13,
   "id": "a8984554-9020-4703-b673-79681370fc05",
   "metadata": {
    "ExecuteTime": {
     "end_time": "2023-01-27T13:58:50.750000+09:00",
     "start_time": "2023-01-27T04:58:47.373Z"
    }
   },
   "outputs": [
    {
     "data": {
      "text/plain": [
       "1.0 + 2.3im"
      ]
     },
     "execution_count": 13,
     "metadata": {},
     "output_type": "execute_result"
    }
   ],
   "source": [
    "parse(ComplexF64, \"1.0 + 2.3im\")"
   ]
  },
  {
   "cell_type": "markdown",
   "id": "52ab4ec1-a25c-4920-9540-a65de1c4f857",
   "metadata": {},
   "source": [
    "#### コード3-67. 文字列→日付/UUID変換"
   ]
  },
  {
   "cell_type": "code",
   "execution_count": 14,
   "id": "282d17fe-3f47-468a-a5a7-1441fdbb5fe5",
   "metadata": {
    "ExecuteTime": {
     "end_time": "2023-01-27T13:58:50.750000+09:00",
     "start_time": "2023-01-27T04:58:47.375Z"
    }
   },
   "outputs": [],
   "source": [
    "using Dates"
   ]
  },
  {
   "cell_type": "code",
   "execution_count": 15,
   "id": "5789f34a-ec87-45c0-aaef-d68f1fb4b050",
   "metadata": {
    "ExecuteTime": {
     "end_time": "2023-01-27T13:58:51.288000+09:00",
     "start_time": "2023-01-27T04:58:47.377Z"
    }
   },
   "outputs": [
    {
     "data": {
      "text/plain": [
       "2021-03-31"
      ]
     },
     "execution_count": 15,
     "metadata": {},
     "output_type": "execute_result"
    }
   ],
   "source": [
    "parse(Date, \"2021-03-31\")  # `Date(\"2021-03-31\")` と同等"
   ]
  },
  {
   "cell_type": "code",
   "execution_count": 16,
   "id": "0ecc0b93-c1c9-4a97-94ec-b9e859272988",
   "metadata": {
    "ExecuteTime": {
     "end_time": "2023-01-27T13:58:51.710000+09:00",
     "start_time": "2023-01-27T04:58:47.379Z"
    }
   },
   "outputs": [
    {
     "data": {
      "text/plain": [
       "2021-03-14T15:09:26.535"
      ]
     },
     "execution_count": 16,
     "metadata": {},
     "output_type": "execute_result"
    }
   ],
   "source": [
    "parse(DateTime, \"2021/3/14 15:9:26.535\", dateformat\"yyyy/mm/dd HH:MM:SS.sss\")"
   ]
  },
  {
   "cell_type": "code",
   "execution_count": 17,
   "id": "72c15e8f-73f2-44b3-8513-0075d8c40b54",
   "metadata": {
    "ExecuteTime": {
     "end_time": "2023-01-27T13:58:51.711000+09:00",
     "start_time": "2023-01-27T04:58:47.381Z"
    }
   },
   "outputs": [],
   "source": [
    "using UUIDs"
   ]
  },
  {
   "cell_type": "code",
   "execution_count": 18,
   "id": "64b95969-03ec-44b4-9454-f64c64121219",
   "metadata": {
    "ExecuteTime": {
     "end_time": "2023-01-27T13:58:51.888000+09:00",
     "start_time": "2023-01-27T04:58:47.383Z"
    }
   },
   "outputs": [
    {
     "data": {
      "text/plain": [
       "UUID(\"c9d0f6c5-a316-4218-9137-307c04cbbadd\")"
      ]
     },
     "execution_count": 18,
     "metadata": {},
     "output_type": "execute_result"
    }
   ],
   "source": [
    "parse(UUID, \"c9d0f6c5-a316-4218-9137-307c04cbbadd\")"
   ]
  },
  {
   "cell_type": "markdown",
   "id": "c20c6a9a-22eb-4ae4-83d0-b7419e504636",
   "metadata": {},
   "source": [
    "### 3-3-2. 数値の丸め処理"
   ]
  },
  {
   "cell_type": "markdown",
   "id": "ce1f12b1-aab0-4fa6-91e3-8815bad1f2b1",
   "metadata": {},
   "source": [
    "#### コード3-68. 数値の丸め(1)：`round()` 関数"
   ]
  },
  {
   "cell_type": "code",
   "execution_count": 19,
   "id": "e341e003-a400-41a5-b9dc-812a9c8469fd",
   "metadata": {
    "ExecuteTime": {
     "end_time": "2023-01-27T13:58:51.889000+09:00",
     "start_time": "2023-01-27T04:58:47.385Z"
    }
   },
   "outputs": [
    {
     "data": {
      "text/plain": [
       "123.375"
      ]
     },
     "execution_count": 19,
     "metadata": {},
     "output_type": "execute_result"
    }
   ],
   "source": [
    "x = 123.375"
   ]
  },
  {
   "cell_type": "code",
   "execution_count": 20,
   "id": "7d60330d-8a34-458e-aa6e-fd6ae7ed600c",
   "metadata": {
    "ExecuteTime": {
     "end_time": "2023-01-27T13:58:51.892000+09:00",
     "start_time": "2023-01-27T04:58:47.386Z"
    }
   },
   "outputs": [
    {
     "data": {
      "text/plain": [
       "123.0"
      ]
     },
     "execution_count": 20,
     "metadata": {},
     "output_type": "execute_result"
    }
   ],
   "source": [
    "round(x)"
   ]
  },
  {
   "cell_type": "code",
   "execution_count": 21,
   "id": "ab1f3ce0-cee2-4b1b-9fa7-e989ee387eec",
   "metadata": {
    "ExecuteTime": {
     "end_time": "2023-01-27T13:58:51.896000+09:00",
     "start_time": "2023-01-27T04:58:47.388Z"
    }
   },
   "outputs": [
    {
     "data": {
      "text/plain": [
       "123.38"
      ]
     },
     "execution_count": 21,
     "metadata": {},
     "output_type": "execute_result"
    }
   ],
   "source": [
    "round(x, digits=2)"
   ]
  },
  {
   "cell_type": "code",
   "execution_count": 22,
   "id": "03e5c1e8-5233-4379-ac1a-6da85ee1c5f0",
   "metadata": {
    "ExecuteTime": {
     "end_time": "2023-01-27T13:58:51.897000+09:00",
     "start_time": "2023-01-27T04:58:47.389Z"
    }
   },
   "outputs": [
    {
     "data": {
      "text/plain": [
       "120.0"
      ]
     },
     "execution_count": 22,
     "metadata": {},
     "output_type": "execute_result"
    }
   ],
   "source": [
    "round(x, digits=-1)"
   ]
  },
  {
   "cell_type": "code",
   "execution_count": 23,
   "id": "e2cadd27-8412-4e67-bc21-ea9007deed44",
   "metadata": {
    "ExecuteTime": {
     "end_time": "2023-01-27T13:58:51.925000+09:00",
     "start_time": "2023-01-27T04:58:47.390Z"
    }
   },
   "outputs": [
    {
     "data": {
      "text/plain": [
       "120.0"
      ]
     },
     "execution_count": 23,
     "metadata": {},
     "output_type": "execute_result"
    }
   ],
   "source": [
    "round(x, sigdigits=2)"
   ]
  },
  {
   "cell_type": "code",
   "execution_count": 24,
   "id": "acb47a24-df2c-4de2-90e5-a766327913ee",
   "metadata": {
    "ExecuteTime": {
     "end_time": "2023-01-27T13:58:51.929000+09:00",
     "start_time": "2023-01-27T04:58:47.391Z"
    }
   },
   "outputs": [
    {
     "data": {
      "text/plain": [
       "123.0"
      ]
     },
     "execution_count": 24,
     "metadata": {},
     "output_type": "execute_result"
    }
   ],
   "source": [
    "round(x, base=2)"
   ]
  },
  {
   "cell_type": "code",
   "execution_count": 25,
   "id": "493683fb-2ac4-41f7-89ba-9df67d46b6b6",
   "metadata": {
    "ExecuteTime": {
     "end_time": "2023-01-27T13:58:51.945000+09:00",
     "start_time": "2023-01-27T04:58:47.394Z"
    }
   },
   "outputs": [
    {
     "data": {
      "text/plain": [
       "123.5"
      ]
     },
     "execution_count": 25,
     "metadata": {},
     "output_type": "execute_result"
    }
   ],
   "source": [
    "round(x, digits=2, base=2)"
   ]
  },
  {
   "cell_type": "code",
   "execution_count": 26,
   "id": "c2e6e53c-b5db-4b29-b184-a352924e9d42",
   "metadata": {
    "ExecuteTime": {
     "end_time": "2023-01-27T13:58:51.946000+09:00",
     "start_time": "2023-01-27T04:58:47.395Z"
    }
   },
   "outputs": [
    {
     "data": {
      "text/plain": [
       "124.0"
      ]
     },
     "execution_count": 26,
     "metadata": {},
     "output_type": "execute_result"
    }
   ],
   "source": [
    "round(x, digits=-1, base=2)"
   ]
  },
  {
   "cell_type": "code",
   "execution_count": 27,
   "id": "b6569399-8094-40d6-85be-9ee502e9a864",
   "metadata": {
    "ExecuteTime": {
     "end_time": "2023-01-27T13:58:51.955000+09:00",
     "start_time": "2023-01-27T04:58:47.397Z"
    }
   },
   "outputs": [
    {
     "data": {
      "text/plain": [
       "128.0"
      ]
     },
     "execution_count": 27,
     "metadata": {},
     "output_type": "execute_result"
    }
   ],
   "source": [
    "round(x, sigdigits=2, base=2)"
   ]
  },
  {
   "cell_type": "markdown",
   "id": "06dd68fb-84f3-40d8-bb89-1c5d377c6432",
   "metadata": {},
   "source": [
    "#### コード3-69. 数値の丸め(2)：整数値への丸め"
   ]
  },
  {
   "cell_type": "code",
   "execution_count": 28,
   "id": "07307dfa-525a-4d0c-adfc-79970fe175f4",
   "metadata": {
    "ExecuteTime": {
     "end_time": "2023-01-27T13:58:51.956000+09:00",
     "start_time": "2023-01-27T04:58:47.399Z"
    }
   },
   "outputs": [],
   "source": [
    "x = 123.5;"
   ]
  },
  {
   "cell_type": "code",
   "execution_count": 29,
   "id": "448f5bff-8782-4044-b1b6-c92ad0576bec",
   "metadata": {
    "ExecuteTime": {
     "end_time": "2023-01-27T13:58:51.960000+09:00",
     "start_time": "2023-01-27T04:58:47.400Z"
    }
   },
   "outputs": [
    {
     "data": {
      "text/plain": [
       "124"
      ]
     },
     "execution_count": 29,
     "metadata": {},
     "output_type": "execute_result"
    }
   ],
   "source": [
    "round(Int, x)"
   ]
  },
  {
   "cell_type": "code",
   "execution_count": 30,
   "id": "07f22445-b50c-4a41-ba20-5437518b97d9",
   "metadata": {
    "ExecuteTime": {
     "end_time": "2023-01-27T13:58:51.965000+09:00",
     "start_time": "2023-01-27T04:58:47.401Z"
    }
   },
   "outputs": [
    {
     "data": {
      "text/plain": [
       "0x7c"
      ]
     },
     "execution_count": 30,
     "metadata": {},
     "output_type": "execute_result"
    }
   ],
   "source": [
    "round(UInt8, x)"
   ]
  },
  {
   "cell_type": "code",
   "execution_count": 31,
   "id": "711b366a-daa5-4533-8900-d9acc5c38d74",
   "metadata": {
    "ExecuteTime": {
     "end_time": "2023-01-27T13:58:51.970000+09:00",
     "start_time": "2023-01-27T04:58:47.403Z"
    }
   },
   "outputs": [
    {
     "data": {
      "text/plain": [
       "123"
      ]
     },
     "execution_count": 31,
     "metadata": {},
     "output_type": "execute_result"
    }
   ],
   "source": [
    "trunc(Int, x)"
   ]
  },
  {
   "cell_type": "code",
   "execution_count": 32,
   "id": "ae1eebf4-5586-479e-b24e-d55c98b0502e",
   "metadata": {
    "ExecuteTime": {
     "end_time": "2023-01-27T13:58:51.970000+09:00",
     "start_time": "2023-01-27T04:58:47.405Z"
    }
   },
   "outputs": [
    {
     "data": {
      "text/plain": [
       "123"
      ]
     },
     "execution_count": 32,
     "metadata": {},
     "output_type": "execute_result"
    }
   ],
   "source": [
    "floor(Int, x)"
   ]
  },
  {
   "cell_type": "code",
   "execution_count": 33,
   "id": "3e8ccb1a-5e2d-4593-b030-db53fd93418e",
   "metadata": {
    "ExecuteTime": {
     "end_time": "2023-01-27T13:58:51.975000+09:00",
     "start_time": "2023-01-27T04:58:47.406Z"
    }
   },
   "outputs": [
    {
     "data": {
      "text/plain": [
       "124"
      ]
     },
     "execution_count": 33,
     "metadata": {},
     "output_type": "execute_result"
    }
   ],
   "source": [
    "ceil(Int, x)"
   ]
  },
  {
   "cell_type": "markdown",
   "id": "9b1b7c65-9463-4ab2-9248-15cf02a4e61c",
   "metadata": {},
   "source": [
    "### 3-3-3. `all()`/`any()`"
   ]
  },
  {
   "cell_type": "markdown",
   "id": "0cfe24db-302a-4d03-9db2-a1616dae7e75",
   "metadata": {},
   "source": [
    "#### コード3-70. `all()`/`any()` の使用例（性能比較）"
   ]
  },
  {
   "cell_type": "code",
   "execution_count": 34,
   "id": "1e17b924-84a9-4271-8bb2-364af25ebad0",
   "metadata": {
    "ExecuteTime": {
     "end_time": "2023-01-27T13:58:51.978000+09:00",
     "start_time": "2023-01-27T04:58:47.408Z"
    }
   },
   "outputs": [],
   "source": [
    "using BenchmarkTools"
   ]
  },
  {
   "cell_type": "code",
   "execution_count": 35,
   "id": "ec75a791-1e9a-4c3e-8ab2-7f23914c9712",
   "metadata": {
    "ExecuteTime": {
     "end_time": "2023-01-27T13:58:52.177000+09:00",
     "start_time": "2023-01-27T04:58:47.410Z"
    }
   },
   "outputs": [],
   "source": [
    "X = [2:2:100000; -1];  # 50000個の偶数と「-1」からなる配列（ベクトル）"
   ]
  },
  {
   "cell_type": "code",
   "execution_count": 36,
   "id": "157a6a96-1e3c-47e0-b47e-06f2958fcc23",
   "metadata": {
    "ExecuteTime": {
     "end_time": "2023-01-27T13:58:58.815000+09:00",
     "start_time": "2023-01-27T04:58:47.412Z"
    }
   },
   "outputs": [
    {
     "name": "stdout",
     "output_type": "stream",
     "text": [
      "  17.548 μs (0 allocations: 0 bytes)\n"
     ]
    },
    {
     "data": {
      "text/plain": [
       "false"
      ]
     },
     "execution_count": 36,
     "metadata": {},
     "output_type": "execute_result"
    }
   ],
   "source": [
    "@btime all(iseven, $X)"
   ]
  },
  {
   "cell_type": "code",
   "execution_count": 37,
   "id": "826f7fff-0090-469e-a558-4248d088437c",
   "metadata": {
    "ExecuteTime": {
     "end_time": "2023-01-27T13:59:04.538000+09:00",
     "start_time": "2023-01-27T04:58:47.414Z"
    }
   },
   "outputs": [
    {
     "name": "stdout",
     "output_type": "stream",
     "text": [
      "  17.532 μs (0 allocations: 0 bytes)\n"
     ]
    },
    {
     "data": {
      "text/plain": [
       "false"
      ]
     },
     "execution_count": 37,
     "metadata": {},
     "output_type": "execute_result"
    }
   ],
   "source": [
    "@btime all(iseven(x) for x in $X)"
   ]
  },
  {
   "cell_type": "code",
   "execution_count": 38,
   "id": "139fe676-96fe-4bef-a062-0a5f053f31b0",
   "metadata": {
    "ExecuteTime": {
     "end_time": "2023-01-27T13:59:10.350000+09:00",
     "start_time": "2023-01-27T04:58:47.415Z"
    }
   },
   "outputs": [
    {
     "name": "stdout",
     "output_type": "stream",
     "text": [
      "  17.931 μs (3 allocations: 10.47 KiB)\n"
     ]
    },
    {
     "data": {
      "text/plain": [
       "false"
      ]
     },
     "execution_count": 38,
     "metadata": {},
     "output_type": "execute_result"
    }
   ],
   "source": [
    "@btime all(iseven.($X))"
   ]
  },
  {
   "cell_type": "code",
   "execution_count": 39,
   "id": "27c12862-7362-49dd-859f-9ef62be55b2f",
   "metadata": {
    "ExecuteTime": {
     "end_time": "2023-01-27T13:59:16.072000+09:00",
     "start_time": "2023-01-27T04:58:47.417Z"
    }
   },
   "outputs": [
    {
     "name": "stdout",
     "output_type": "stream",
     "text": [
      "  17.531 μs (0 allocations: 0 bytes)\n"
     ]
    },
    {
     "data": {
      "text/plain": [
       "true"
      ]
     },
     "execution_count": 39,
     "metadata": {},
     "output_type": "execute_result"
    }
   ],
   "source": [
    "@btime any(<(0), $X)"
   ]
  },
  {
   "cell_type": "code",
   "execution_count": 40,
   "id": "2a4355d0-d4b1-414d-a61e-b4d2b1ed9449",
   "metadata": {
    "ExecuteTime": {
     "end_time": "2023-01-27T13:59:21.793000+09:00",
     "start_time": "2023-01-27T04:58:47.418Z"
    }
   },
   "outputs": [
    {
     "name": "stdout",
     "output_type": "stream",
     "text": [
      "  17.534 μs (0 allocations: 0 bytes)\n"
     ]
    },
    {
     "data": {
      "text/plain": [
       "true"
      ]
     },
     "execution_count": 40,
     "metadata": {},
     "output_type": "execute_result"
    }
   ],
   "source": [
    "@btime any(x < 0 for x in $X)"
   ]
  },
  {
   "cell_type": "code",
   "execution_count": 41,
   "id": "1f45b0ff-8da2-461e-9863-09cf1a46e0bc",
   "metadata": {
    "ExecuteTime": {
     "end_time": "2023-01-27T13:59:27.599000+09:00",
     "start_time": "2023-01-27T04:58:47.420Z"
    }
   },
   "outputs": [
    {
     "name": "stdout",
     "output_type": "stream",
     "text": [
      "  17.571 μs (3 allocations: 10.47 KiB)\n"
     ]
    },
    {
     "data": {
      "text/plain": [
       "true"
      ]
     },
     "execution_count": 41,
     "metadata": {},
     "output_type": "execute_result"
    }
   ],
   "source": [
    "@btime any($X .< 0)"
   ]
  },
  {
   "cell_type": "markdown",
   "id": "db7df8ca-f85e-4100-9ff9-085fd91b4c95",
   "metadata": {},
   "source": [
    "### 3-3-4. 引数にジェネレータ式を指定出来るその他の例"
   ]
  },
  {
   "cell_type": "markdown",
   "id": "6e8e55d7-7ddd-42f1-acc7-d0a89b4690d4",
   "metadata": {},
   "source": [
    "#### コード3-71. 引数にジェネレータ式を指定出来るその他の例"
   ]
  },
  {
   "cell_type": "code",
   "execution_count": 42,
   "id": "5f5200d2-a10b-4261-9033-980c341ab7f4",
   "metadata": {
    "ExecuteTime": {
     "end_time": "2023-01-27T13:59:27.600000+09:00",
     "start_time": "2023-01-27T04:58:47.421Z"
    }
   },
   "outputs": [],
   "source": [
    "using BenchmarkTools"
   ]
  },
  {
   "cell_type": "code",
   "execution_count": 43,
   "id": "c674886e-3aee-4200-8a15-d2d0f975ddaf",
   "metadata": {
    "ExecuteTime": {
     "end_time": "2023-01-27T13:59:27.600000+09:00",
     "start_time": "2023-01-27T04:58:47.423Z"
    }
   },
   "outputs": [],
   "source": [
    "X = [2:2:100000; -1];"
   ]
  },
  {
   "cell_type": "code",
   "execution_count": 44,
   "id": "dbcb7bee-d0f7-4cc6-b578-6067d89eee70",
   "metadata": {
    "ExecuteTime": {
     "end_time": "2023-01-27T13:59:32.581000+09:00",
     "start_time": "2023-01-27T04:58:47.425Z"
    }
   },
   "outputs": [
    {
     "name": "stdout",
     "output_type": "stream",
     "text": [
      "  7.657 μs (0 allocations: 0 bytes)\n"
     ]
    },
    {
     "data": {
      "text/plain": [
       "5000049997"
      ]
     },
     "execution_count": 44,
     "metadata": {},
     "output_type": "execute_result"
    }
   ],
   "source": [
    "@btime sum(x->2x-1, $X)"
   ]
  },
  {
   "cell_type": "code",
   "execution_count": 45,
   "id": "9f25c5c5-9ead-4f2c-84f6-4f70e0ae583e",
   "metadata": {
    "ExecuteTime": {
     "end_time": "2023-01-27T13:59:37.190000+09:00",
     "start_time": "2023-01-27T04:58:47.427Z"
    }
   },
   "outputs": [
    {
     "name": "stdout",
     "output_type": "stream",
     "text": [
      "  7.409 μs (0 allocations: 0 bytes)\n"
     ]
    },
    {
     "data": {
      "text/plain": [
       "5000049997"
      ]
     },
     "execution_count": 45,
     "metadata": {},
     "output_type": "execute_result"
    }
   ],
   "source": [
    "@btime sum(2x-1 for x in $X)"
   ]
  },
  {
   "cell_type": "code",
   "execution_count": 46,
   "id": "1ca8e8b3-04b5-4b0b-bdfb-44296c247fc5",
   "metadata": {
    "ExecuteTime": {
     "end_time": "2023-01-27T13:59:43.201000+09:00",
     "start_time": "2023-01-27T04:58:47.428Z"
    }
   },
   "outputs": [
    {
     "name": "stdout",
     "output_type": "stream",
     "text": [
      "  32.303 μs (2 allocations: 390.73 KiB)\n"
     ]
    },
    {
     "data": {
      "text/plain": [
       "5000049997"
      ]
     },
     "execution_count": 46,
     "metadata": {},
     "output_type": "execute_result"
    }
   ],
   "source": [
    "@btime sum($X .|> x->2x-1)"
   ]
  }
 ],
 "metadata": {
  "jupytext": {
   "formats": "ipynb,auto:light"
  },
  "kernelspec": {
   "display_name": "Julia 1.8.5",
   "language": "julia",
   "name": "julia-1.8"
  },
  "language_info": {
   "file_extension": ".jl",
   "mimetype": "application/julia",
   "name": "julia",
   "version": "1.8.5"
  }
 },
 "nbformat": 4,
 "nbformat_minor": 5
}
