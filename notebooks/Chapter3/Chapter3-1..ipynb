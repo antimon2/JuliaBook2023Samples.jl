{
 "cells": [
  {
   "cell_type": "code",
   "execution_count": 1,
   "id": "964a8cbb-2b98-46bc-90f9-785db1b80c54",
   "metadata": {
    "ExecuteTime": {
     "end_time": "2023-01-27T12:27:53.345000+09:00",
     "start_time": "2023-01-27T03:27:52.534Z"
    }
   },
   "outputs": [
    {
     "name": "stdout",
     "output_type": "stream",
     "text": [
      "Julia Version 1.8.5\n",
      "Commit 17cfb8e65ea (2023-01-08 06:45 UTC)\n",
      "Platform Info:\n",
      "  OS: Linux (x86_64-linux-gnu)\n",
      "  CPU: 12 × Intel(R) Core(TM) i7-9750H CPU @ 2.60GHz\n",
      "  WORD_SIZE: 64\n",
      "  LIBM: libopenlibm\n",
      "  LLVM: libLLVM-13.0.1 (ORCJIT, skylake)\n",
      "  Threads: 1 on 12 virtual cores\n"
     ]
    }
   ],
   "source": [
    "versioninfo()"
   ]
  },
  {
   "cell_type": "markdown",
   "id": "4e4b2566",
   "metadata": {},
   "source": [
    "## 3-1. 便利な標準関数たち"
   ]
  },
  {
   "cell_type": "markdown",
   "id": "e07c81b6",
   "metadata": {},
   "source": [
    "### 3-1-1. 演算系(1) 除算・剰余算系"
   ]
  },
  {
   "cell_type": "markdown",
   "id": "3eaad613",
   "metadata": {},
   "source": [
    "#### 整数除算関数"
   ]
  },
  {
   "cell_type": "code",
   "execution_count": 2,
   "id": "7e7a1ae9-f9ba-47ef-991b-b2cbdcbc4054",
   "metadata": {
    "ExecuteTime": {
     "end_time": "2023-01-27T12:27:53.749000+09:00",
     "start_time": "2023-01-27T03:27:52.546Z"
    }
   },
   "outputs": [
    {
     "data": {
      "text/plain": [
       "2"
      ]
     },
     "execution_count": 2,
     "metadata": {},
     "output_type": "execute_result"
    }
   ],
   "source": [
    "div(5, 2)"
   ]
  },
  {
   "cell_type": "code",
   "execution_count": 3,
   "id": "9959e0ca-22fb-4b4a-9197-ef12bbfe3312",
   "metadata": {
    "ExecuteTime": {
     "end_time": "2023-01-27T12:27:53.750000+09:00",
     "start_time": "2023-01-27T03:27:52.553Z"
    }
   },
   "outputs": [
    {
     "data": {
      "text/plain": [
       "-2"
      ]
     },
     "execution_count": 3,
     "metadata": {},
     "output_type": "execute_result"
    }
   ],
   "source": [
    "div(-5, 2)"
   ]
  },
  {
   "cell_type": "code",
   "execution_count": 4,
   "id": "55b36918-11a7-4670-8764-6ac54629702b",
   "metadata": {
    "ExecuteTime": {
     "end_time": "2023-01-27T12:27:53.750000+09:00",
     "start_time": "2023-01-27T03:27:52.558Z"
    }
   },
   "outputs": [
    {
     "data": {
      "text/plain": [
       "2"
      ]
     },
     "execution_count": 4,
     "metadata": {},
     "output_type": "execute_result"
    }
   ],
   "source": [
    "fld(5, 2)"
   ]
  },
  {
   "cell_type": "code",
   "execution_count": 5,
   "id": "fc200e14-834a-40fc-ac26-ab0743eca14d",
   "metadata": {
    "ExecuteTime": {
     "end_time": "2023-01-27T12:27:53.751000+09:00",
     "start_time": "2023-01-27T03:27:52.563Z"
    }
   },
   "outputs": [
    {
     "data": {
      "text/plain": [
       "-3"
      ]
     },
     "execution_count": 5,
     "metadata": {},
     "output_type": "execute_result"
    }
   ],
   "source": [
    "fld(-5, 2)"
   ]
  },
  {
   "cell_type": "code",
   "execution_count": 6,
   "id": "02d88199-1fa9-4cb5-84a4-07cca83b47a3",
   "metadata": {
    "ExecuteTime": {
     "end_time": "2023-01-27T12:27:53.751000+09:00",
     "start_time": "2023-01-27T03:27:52.569Z"
    }
   },
   "outputs": [
    {
     "data": {
      "text/plain": [
       "3"
      ]
     },
     "execution_count": 6,
     "metadata": {},
     "output_type": "execute_result"
    }
   ],
   "source": [
    "cld(5, 2)"
   ]
  },
  {
   "cell_type": "code",
   "execution_count": 7,
   "id": "77b92eed-a1c8-4845-a2c9-c548360abfc6",
   "metadata": {
    "ExecuteTime": {
     "end_time": "2023-01-27T12:27:53.752000+09:00",
     "start_time": "2023-01-27T03:27:52.574Z"
    }
   },
   "outputs": [
    {
     "data": {
      "text/plain": [
       "-2"
      ]
     },
     "execution_count": 7,
     "metadata": {},
     "output_type": "execute_result"
    }
   ],
   "source": [
    "cld(-5, 2)"
   ]
  },
  {
   "cell_type": "markdown",
   "id": "33861897",
   "metadata": {},
   "source": [
    "##### コード3-1. `÷`演算子の関数としての利用例"
   ]
  },
  {
   "cell_type": "code",
   "execution_count": 8,
   "id": "ad0e6e52",
   "metadata": {
    "ExecuteTime": {
     "end_time": "2023-01-27T12:27:53.752000+09:00",
     "start_time": "2023-01-27T03:27:52.582Z"
    }
   },
   "outputs": [
    {
     "data": {
      "text/plain": [
       "-2"
      ]
     },
     "execution_count": 8,
     "metadata": {},
     "output_type": "execute_result"
    }
   ],
   "source": [
    "÷(-5, 2)"
   ]
  },
  {
   "cell_type": "code",
   "execution_count": 9,
   "id": "d7f8c0a5",
   "metadata": {
    "ExecuteTime": {
     "end_time": "2023-01-27T12:27:53.756000+09:00",
     "start_time": "2023-01-27T03:27:52.589Z"
    }
   },
   "outputs": [
    {
     "data": {
      "text/plain": [
       "-3"
      ]
     },
     "execution_count": 9,
     "metadata": {},
     "output_type": "execute_result"
    }
   ],
   "source": [
    "÷(-5, 2, RoundDown)"
   ]
  },
  {
   "cell_type": "code",
   "execution_count": 10,
   "id": "ba4c5130",
   "metadata": {
    "ExecuteTime": {
     "end_time": "2023-01-27T12:27:53.768000+09:00",
     "start_time": "2023-01-27T03:27:52.594Z"
    }
   },
   "outputs": [
    {
     "data": {
      "text/plain": [
       "-2"
      ]
     },
     "execution_count": 10,
     "metadata": {},
     "output_type": "execute_result"
    }
   ],
   "source": [
    "÷(-5, 2, RoundNearest)"
   ]
  },
  {
   "cell_type": "code",
   "execution_count": 11,
   "id": "2e7bfe3e-1cd4-4697-9d72-856bbdb50a00",
   "metadata": {
    "ExecuteTime": {
     "end_time": "2023-01-27T12:27:53.779000+09:00",
     "start_time": "2023-01-27T03:27:52.601Z"
    }
   },
   "outputs": [
    {
     "data": {
      "text/plain": [
       "-3"
      ]
     },
     "execution_count": 11,
     "metadata": {},
     "output_type": "execute_result"
    }
   ],
   "source": [
    "÷(-5, 2, RoundNearestTiesAway)"
   ]
  },
  {
   "cell_type": "markdown",
   "id": "4ed1c1ad",
   "metadata": {},
   "source": [
    "#### 整数剰余算関数"
   ]
  },
  {
   "cell_type": "markdown",
   "id": "0a37161d",
   "metadata": {},
   "source": [
    "#### 整数除算・剰余算複合関数"
   ]
  },
  {
   "cell_type": "markdown",
   "id": "7738ae2d",
   "metadata": {},
   "source": [
    "#### 値域を指定した整数剰余算関数と整数除算関数"
   ]
  },
  {
   "cell_type": "markdown",
   "id": "47846eb8",
   "metadata": {},
   "source": [
    "#### コラム. `mod1()` 関数の使い途"
   ]
  },
  {
   "cell_type": "markdown",
   "id": "fffb4762",
   "metadata": {},
   "source": [
    "##### 仮想コード3-a. `mod1()` 関数の使用例（`Dates` モジュール内の実装イメージ）"
   ]
  },
  {
   "cell_type": "markdown",
   "id": "cd8c657b",
   "metadata": {},
   "source": [
    "```julia\n",
    "# Monday = 1....Sunday = 7\n",
    "dayofweek(date) = mod1(days(date), 7)\n",
    "\n",
    "days_of_week = [\"Monday\", \"Tuesday\", \"Wednesday\", \"Thursday\",\n",
    "                \"Friday\", \"Saturday\", \"Sunday\"]\n",
    "\n",
    "dayname(date) = days_of_week[dayofweek(date)]\n",
    "```"
   ]
  },
  {
   "cell_type": "markdown",
   "id": "4eb2c049-6247-4054-a8b1-2e12d07ecfb6",
   "metadata": {},
   "source": [
    "#### その他の除算・剰余算関連関数"
   ]
  },
  {
   "cell_type": "markdown",
   "id": "41a29b49-38c4-4648-a25b-47d8e2a28f0e",
   "metadata": {},
   "source": [
    "##### コード3-2. `\\`演算子の例"
   ]
  },
  {
   "cell_type": "code",
   "execution_count": 12,
   "id": "0e4d1a0b",
   "metadata": {
    "ExecuteTime": {
     "end_time": "2023-01-27T12:27:54.007000+09:00",
     "start_time": "2023-01-27T03:27:52.615Z"
    }
   },
   "outputs": [
    {
     "data": {
      "text/plain": [
       "1.5"
      ]
     },
     "execution_count": 12,
     "metadata": {},
     "output_type": "execute_result"
    }
   ],
   "source": [
    "2 \\ 3  # == `3 / 2`"
   ]
  },
  {
   "cell_type": "code",
   "execution_count": 13,
   "id": "f9890d07-b061-43eb-8ed5-5acc4d08ef1c",
   "metadata": {
    "ExecuteTime": {
     "end_time": "2023-01-27T12:27:54.225000+09:00",
     "start_time": "2023-01-27T03:27:52.620Z"
    }
   },
   "outputs": [
    {
     "data": {
      "text/plain": [
       "3//2"
      ]
     },
     "execution_count": 13,
     "metadata": {},
     "output_type": "execute_result"
    }
   ],
   "source": [
    "1//2 \\ 3//4  # == `2 * 3//4`"
   ]
  },
  {
   "cell_type": "code",
   "execution_count": 14,
   "id": "c3da0535-e44e-4c9d-96c8-5f334275a0fc",
   "metadata": {
    "ExecuteTime": {
     "end_time": "2023-01-27T12:27:55.782000+09:00",
     "start_time": "2023-01-27T03:27:52.625Z"
    }
   },
   "outputs": [
    {
     "data": {
      "text/plain": [
       "2-element Vector{Float64}:\n",
       " -1.0\n",
       "  1.0"
      ]
     },
     "execution_count": 14,
     "metadata": {},
     "output_type": "execute_result"
    }
   ],
   "source": [
    "A = Float64[1 2; 3 4]; x = [1, 1];\n",
    "A \\ x  # == `A^(-1) * x`"
   ]
  },
  {
   "cell_type": "markdown",
   "id": "5ef2748e-6518-4ccf-9d5a-2a6b0049e792",
   "metadata": {},
   "source": [
    "### 3-1-2. 演算系(2) 結合演算"
   ]
  },
  {
   "cell_type": "markdown",
   "id": "e9d651a6-c028-4b27-9897-d8cd90dac636",
   "metadata": {},
   "source": [
    "#### 積和演算"
   ]
  },
  {
   "cell_type": "markdown",
   "id": "0df3cde6-4e28-4b1d-bd4f-94d0025d9a46",
   "metadata": {},
   "source": [
    "##### コード3-3. `fma()` 関数、`muladd()` 関数の例"
   ]
  },
  {
   "cell_type": "code",
   "execution_count": 15,
   "id": "1f55bccc-9863-4eca-9acb-d46eef59cd64",
   "metadata": {
    "ExecuteTime": {
     "end_time": "2023-01-27T12:27:55.785000+09:00",
     "start_time": "2023-01-27T03:27:52.634Z"
    }
   },
   "outputs": [
    {
     "data": {
      "text/plain": [
       "0.32"
      ]
     },
     "execution_count": 15,
     "metadata": {},
     "output_type": "execute_result"
    }
   ],
   "source": [
    "fma(0.1, 0.2, 0.3)"
   ]
  },
  {
   "cell_type": "code",
   "execution_count": 16,
   "id": "0dc5cc29-c46f-40cf-ac5e-069773d47bca",
   "metadata": {
    "ExecuteTime": {
     "end_time": "2023-01-27T12:27:55.788000+09:00",
     "start_time": "2023-01-27T03:27:52.639Z"
    }
   },
   "outputs": [
    {
     "data": {
      "text/plain": [
       "0.32"
      ]
     },
     "execution_count": 16,
     "metadata": {},
     "output_type": "execute_result"
    }
   ],
   "source": [
    "muladd(0.1, 0.2, 0.3)"
   ]
  },
  {
   "cell_type": "code",
   "execution_count": 17,
   "id": "0fdd0383-1d2d-4b8c-9d48-676391bbb697",
   "metadata": {
    "ExecuteTime": {
     "end_time": "2023-01-27T12:27:56.152000+09:00",
     "start_time": "2023-01-27T03:27:52.645Z"
    }
   },
   "outputs": [
    {
     "data": {
      "text/plain": [
       "2-element Vector{Int64}:\n",
       " 101\n",
       " 101"
      ]
     },
     "execution_count": 17,
     "metadata": {},
     "output_type": "execute_result"
    }
   ],
   "source": [
    "A = [1 2; 3 4]; x = [-1, 1]; y = 100;\n",
    "muladd(A, x, y)"
   ]
  },
  {
   "cell_type": "code",
   "execution_count": 18,
   "id": "6f9167e0-6d83-4994-8c85-ac787fdf2b44",
   "metadata": {
    "ExecuteTime": {
     "end_time": "2023-01-27T12:27:57.141000+09:00",
     "start_time": "2023-01-27T03:27:52.651Z"
    },
    "scrolled": true,
    "tags": []
   },
   "outputs": [
    {
     "ename": "LoadError",
     "evalue": "MethodError: no method matching fma(::Matrix{Int64}, ::Vector{Int64}, ::Int64)\n\u001b[0mClosest candidates are:\n\u001b[0m  fma(\u001b[91m::Integer\u001b[39m, \u001b[91m::Integer\u001b[39m, ::Integer) at promotion.jl:470\n\u001b[0m  fma(\u001b[91m::T\u001b[39m, \u001b[91m::T\u001b[39m, ::T) where T<:Number at promotion.jl:469\n\u001b[0m  fma(\u001b[91m::Number\u001b[39m, \u001b[91m::Number\u001b[39m, ::Number) at promotion.jl:424",
     "output_type": "error",
     "traceback": [
      "MethodError: no method matching fma(::Matrix{Int64}, ::Vector{Int64}, ::Int64)\n\u001b[0mClosest candidates are:\n\u001b[0m  fma(\u001b[91m::Integer\u001b[39m, \u001b[91m::Integer\u001b[39m, ::Integer) at promotion.jl:470\n\u001b[0m  fma(\u001b[91m::T\u001b[39m, \u001b[91m::T\u001b[39m, ::T) where T<:Number at promotion.jl:469\n\u001b[0m  fma(\u001b[91m::Number\u001b[39m, \u001b[91m::Number\u001b[39m, ::Number) at promotion.jl:424",
      "",
      "Stacktrace:",
      " [1] top-level scope",
      "   @ In[18]:1"
     ]
    }
   ],
   "source": [
    "fma(A, x, y)"
   ]
  },
  {
   "cell_type": "markdown",
   "id": "0f70959e-38ad-4fa0-8e68-deed94c0aec5",
   "metadata": {},
   "source": [
    "#### 冪剰余演算"
   ]
  },
  {
   "cell_type": "markdown",
   "id": "6b623df5-710f-4c0a-bdbc-e00ad3efcde9",
   "metadata": {},
   "source": [
    "##### コード3-4. `powermod()` 関数の例"
   ]
  },
  {
   "cell_type": "code",
   "execution_count": 19,
   "id": "ea3aaaa5-6f90-486e-bd11-efd4afc29ebd",
   "metadata": {
    "ExecuteTime": {
     "end_time": "2023-01-27T12:27:57.181000+09:00",
     "start_time": "2023-01-27T03:27:52.659Z"
    }
   },
   "outputs": [
    {
     "data": {
      "text/plain": [
       "5"
      ]
     },
     "execution_count": 19,
     "metadata": {},
     "output_type": "execute_result"
    }
   ],
   "source": [
    "powermod(5, 2, 20)  # == mod(5^2, 20)"
   ]
  },
  {
   "cell_type": "code",
   "execution_count": 20,
   "id": "c480ecba-56db-4aeb-a463-81923320614e",
   "metadata": {
    "ExecuteTime": {
     "end_time": "2023-01-27T12:27:57.182000+09:00",
     "start_time": "2023-01-27T03:27:52.664Z"
    }
   },
   "outputs": [
    {
     "data": {
      "text/plain": [
       "49"
      ]
     },
     "execution_count": 20,
     "metadata": {},
     "output_type": "execute_result"
    }
   ],
   "source": [
    "powermod(1518500249, 3, 100)"
   ]
  },
  {
   "cell_type": "code",
   "execution_count": 21,
   "id": "37a6a711-d013-4ccd-8be0-1437b873b1e7",
   "metadata": {
    "ExecuteTime": {
     "end_time": "2023-01-27T12:27:57.188000+09:00",
     "start_time": "2023-01-27T03:27:52.669Z"
    }
   },
   "outputs": [
    {
     "data": {
      "text/plain": [
       "53"
      ]
     },
     "execution_count": 21,
     "metadata": {},
     "output_type": "execute_result"
    }
   ],
   "source": [
    "mod(1518500249^3, 100)  # オーバーフローが発生するため結果が期待通りにならない例"
   ]
  },
  {
   "cell_type": "markdown",
   "id": "28028215-472d-4a14-b98a-d3431848fbc1",
   "metadata": {},
   "source": [
    "### 3-1-3. 演算系(3) その他の演算系関数"
   ]
  },
  {
   "cell_type": "markdown",
   "id": "9310dd36-072c-4cda-a1f1-09c699e97fa5",
   "metadata": {},
   "source": [
    "### 3-1-4. 数学系(1) 三角関数、指数関数、対数関数"
   ]
  },
  {
   "cell_type": "code",
   "execution_count": 22,
   "id": "c19d6623-3ab2-46dc-a3f1-ce408b5ddbc0",
   "metadata": {
    "ExecuteTime": {
     "end_time": "2023-01-27T12:27:57.251000+09:00",
     "start_time": "2023-01-27T03:27:52.678Z"
    }
   },
   "outputs": [
    {
     "data": {
      "text/plain": [
       "-2.4492935982947064e-16"
      ]
     },
     "execution_count": 22,
     "metadata": {},
     "output_type": "execute_result"
    }
   ],
   "source": [
    "sin(2π)"
   ]
  },
  {
   "cell_type": "code",
   "execution_count": 23,
   "id": "1e5df919-6b44-4556-9c6a-63c3c8b90e16",
   "metadata": {
    "ExecuteTime": {
     "end_time": "2023-01-27T12:27:57.263000+09:00",
     "start_time": "2023-01-27T03:27:52.684Z"
    }
   },
   "outputs": [
    {
     "data": {
      "text/plain": [
       "0.0"
      ]
     },
     "execution_count": 23,
     "metadata": {},
     "output_type": "execute_result"
    }
   ],
   "source": [
    "sind(360)"
   ]
  },
  {
   "cell_type": "code",
   "execution_count": 24,
   "id": "f9e4b24b-4851-4d28-b86e-05030017d909",
   "metadata": {
    "ExecuteTime": {
     "end_time": "2023-01-27T12:27:57.267000+09:00",
     "start_time": "2023-01-27T03:27:52.690Z"
    }
   },
   "outputs": [
    {
     "data": {
      "text/plain": [
       "0.0"
      ]
     },
     "execution_count": 24,
     "metadata": {},
     "output_type": "execute_result"
    }
   ],
   "source": [
    "sinpi(2)"
   ]
  },
  {
   "cell_type": "code",
   "execution_count": 25,
   "id": "3b209779-c5ee-4e39-a6e4-47d10023ff95",
   "metadata": {
    "ExecuteTime": {
     "end_time": "2023-01-27T12:27:57.433000+09:00",
     "start_time": "2023-01-27T03:27:52.696Z"
    }
   },
   "outputs": [
    {
     "data": {
      "text/plain": [
       "true"
      ]
     },
     "execution_count": 25,
     "metadata": {},
     "output_type": "execute_result"
    }
   ],
   "source": [
    "sind(360) == sinpi(2) == 0.0"
   ]
  },
  {
   "cell_type": "markdown",
   "id": "e39bd84e-1c3d-44c8-9adb-06e64aca6cb9",
   "metadata": {},
   "source": [
    "### 3-1-5. 数学系(2) その他の数学関数"
   ]
  },
  {
   "cell_type": "markdown",
   "id": "b3c0e65d-14e9-4920-965a-4420515e2c85",
   "metadata": {},
   "source": [
    "### 3-1-6. 文字列関連関数"
   ]
  },
  {
   "cell_type": "markdown",
   "id": "a827ecfd-d164-43dc-ab61-d8f21895810f",
   "metadata": {},
   "source": [
    "#### 文字・文字列情報取得関数・演算子"
   ]
  },
  {
   "cell_type": "markdown",
   "id": "301b391a-4b6e-4c6e-a713-eb96b0698848",
   "metadata": {},
   "source": [
    "##### コード3-5. `nextind()` 関数、`eachindex()` 関数の使用例"
   ]
  },
  {
   "cell_type": "code",
   "execution_count": 26,
   "id": "8f45fd63-6b62-4ced-a21e-765bdea40616",
   "metadata": {
    "ExecuteTime": {
     "end_time": "2023-01-27T12:27:57.434000+09:00",
     "start_time": "2023-01-27T03:27:52.706Z"
    }
   },
   "outputs": [],
   "source": [
    "str = \"abcあいう😄漢字\";"
   ]
  },
  {
   "cell_type": "code",
   "execution_count": 27,
   "id": "8234c050-f04e-48c2-8a36-4cb23824c205",
   "metadata": {
    "ExecuteTime": {
     "end_time": "2023-01-27T12:27:57.464000+09:00",
     "start_time": "2023-01-27T03:27:52.712Z"
    }
   },
   "outputs": [
    {
     "data": {
      "text/plain": [
       "9-element Vector{Int64}:\n",
       "  1\n",
       "  2\n",
       "  3\n",
       "  4\n",
       "  7\n",
       " 10\n",
       " 13\n",
       " 17\n",
       " 20"
      ]
     },
     "execution_count": 27,
     "metadata": {},
     "output_type": "execute_result"
    }
   ],
   "source": [
    "[nextind(str, 0, v) for v=1:length(str)]"
   ]
  },
  {
   "cell_type": "code",
   "execution_count": 28,
   "id": "b54d39d8-2b7e-4b26-9b25-976d3d4ef79c",
   "metadata": {
    "ExecuteTime": {
     "end_time": "2023-01-27T12:27:57.466000+09:00",
     "start_time": "2023-01-27T03:27:52.716Z"
    }
   },
   "outputs": [
    {
     "data": {
      "text/plain": [
       "9-element Vector{Int64}:\n",
       "  1\n",
       "  2\n",
       "  3\n",
       "  4\n",
       "  7\n",
       " 10\n",
       " 13\n",
       " 17\n",
       " 20"
      ]
     },
     "execution_count": 28,
     "metadata": {},
     "output_type": "execute_result"
    }
   ],
   "source": [
    "# 参考：上記と同じ結果になるコード\n",
    "collect(eachindex(str))  # `collect(keys(str))` でもOK"
   ]
  },
  {
   "cell_type": "markdown",
   "id": "a0b90f54-60e7-4a91-9ab5-d7b88f932cd7",
   "metadata": {},
   "source": [
    "#### 文字・文字列比較関数・演算子"
   ]
  },
  {
   "cell_type": "markdown",
   "id": "affbc9c7-2827-4e5e-9c7c-def4d9235062",
   "metadata": {},
   "source": [
    "#### 文字列操作関数・演算子"
   ]
  },
  {
   "cell_type": "markdown",
   "id": "27587e8d-794c-40f9-ac47-0b5af573f9a7",
   "metadata": {},
   "source": [
    "##### コード3-6. `chop()` 関数の例"
   ]
  },
  {
   "cell_type": "code",
   "execution_count": 29,
   "id": "1bec5cdf-e865-4bfc-b889-dc6bd40c7f43",
   "metadata": {
    "ExecuteTime": {
     "end_time": "2023-01-27T12:27:57.466000+09:00",
     "start_time": "2023-01-27T03:27:52.726Z"
    }
   },
   "outputs": [],
   "source": [
    "str = \"abcあいう😄漢字\";"
   ]
  },
  {
   "cell_type": "code",
   "execution_count": 30,
   "id": "834c0309-29b8-496f-af18-ec48055c13b8",
   "metadata": {
    "ExecuteTime": {
     "end_time": "2023-01-27T12:27:57.809000+09:00",
     "start_time": "2023-01-27T03:27:52.731Z"
    }
   },
   "outputs": [
    {
     "data": {
      "text/plain": [
       "\"abcあいう😄漢\""
      ]
     },
     "execution_count": 30,
     "metadata": {},
     "output_type": "execute_result"
    }
   ],
   "source": [
    "chop(str)"
   ]
  },
  {
   "cell_type": "code",
   "execution_count": 31,
   "id": "e4a2b2b6-0a70-492f-9e65-5cd5b0db6603",
   "metadata": {
    "ExecuteTime": {
     "end_time": "2023-01-27T12:27:57.818000+09:00",
     "start_time": "2023-01-27T03:27:52.736Z"
    }
   },
   "outputs": [
    {
     "data": {
      "text/plain": [
       "\"bcあいう😄漢\""
      ]
     },
     "execution_count": 31,
     "metadata": {},
     "output_type": "execute_result"
    }
   ],
   "source": [
    "chop(str, head=1)"
   ]
  },
  {
   "cell_type": "code",
   "execution_count": 32,
   "id": "53d0e918-6de5-4e62-b9f5-3096296d0b79",
   "metadata": {
    "ExecuteTime": {
     "end_time": "2023-01-27T12:27:57.823000+09:00",
     "start_time": "2023-01-27T03:27:52.741Z"
    }
   },
   "outputs": [
    {
     "data": {
      "text/plain": [
       "\"abcあいう\""
      ]
     },
     "execution_count": 32,
     "metadata": {},
     "output_type": "execute_result"
    }
   ],
   "source": [
    "chop(str, tail=3)"
   ]
  },
  {
   "cell_type": "code",
   "execution_count": 33,
   "id": "63509127-dbc3-40a3-9726-9e4ed1a13f47",
   "metadata": {
    "ExecuteTime": {
     "end_time": "2023-01-27T12:27:57.831000+09:00",
     "start_time": "2023-01-27T03:27:52.746Z"
    }
   },
   "outputs": [
    {
     "data": {
      "text/plain": [
       "\"あいう😄漢字\""
      ]
     },
     "execution_count": 33,
     "metadata": {},
     "output_type": "execute_result"
    }
   ],
   "source": [
    "chop(str, head=3, tail=0)"
   ]
  },
  {
   "cell_type": "markdown",
   "id": "f79d110d-3b9e-40bb-9551-0e15ffdc4136",
   "metadata": {},
   "source": [
    "##### コード3-7. `split()` 関数、`rsplit()` 関数の例"
   ]
  },
  {
   "cell_type": "code",
   "execution_count": 34,
   "id": "f8e08f80-f998-46ec-a0a8-8e61eec6f3ff",
   "metadata": {
    "ExecuteTime": {
     "end_time": "2023-01-27T12:27:57.855000+09:00",
     "start_time": "2023-01-27T03:27:52.753Z"
    }
   },
   "outputs": [
    {
     "data": {
      "text/plain": [
       "true"
      ]
     },
     "execution_count": 34,
     "metadata": {},
     "output_type": "execute_result"
    }
   ],
   "source": [
    "split(\"A B  C\") == [\"A\", \"B\", \"C\"]"
   ]
  },
  {
   "cell_type": "code",
   "execution_count": 35,
   "id": "b7feadc1-6985-470c-911e-8203fcedbd97",
   "metadata": {
    "ExecuteTime": {
     "end_time": "2023-01-27T12:27:57.866000+09:00",
     "start_time": "2023-01-27T03:27:52.759Z"
    }
   },
   "outputs": [
    {
     "data": {
      "text/plain": [
       "true"
      ]
     },
     "execution_count": 35,
     "metadata": {},
     "output_type": "execute_result"
    }
   ],
   "source": [
    "split(\"A B  C\", keepempty=true) == [\"A\", \"B\", \"\", \"C\"]"
   ]
  },
  {
   "cell_type": "code",
   "execution_count": 36,
   "id": "bb9842c7-e3c0-4c6f-b045-27d03a1bbd84",
   "metadata": {
    "ExecuteTime": {
     "end_time": "2023-01-27T12:27:57.878000+09:00",
     "start_time": "2023-01-27T03:27:52.776Z"
    }
   },
   "outputs": [
    {
     "data": {
      "text/plain": [
       "true"
      ]
     },
     "execution_count": 36,
     "metadata": {},
     "output_type": "execute_result"
    }
   ],
   "source": [
    "split(\"A B C\", limit=2) == [\"A\", \"B C\"]"
   ]
  },
  {
   "cell_type": "code",
   "execution_count": 37,
   "id": "71c55130-44ad-4ebc-839e-9a7fbd413b1b",
   "metadata": {
    "ExecuteTime": {
     "end_time": "2023-01-27T12:27:57.918000+09:00",
     "start_time": "2023-01-27T03:27:52.798Z"
    }
   },
   "outputs": [
    {
     "data": {
      "text/plain": [
       "true"
      ]
     },
     "execution_count": 37,
     "metadata": {},
     "output_type": "execute_result"
    }
   ],
   "source": [
    "rsplit(\"A B C\", limit=2) == [\"A B\", \"C\"]"
   ]
  },
  {
   "cell_type": "code",
   "execution_count": 38,
   "id": "04cae9b9-9445-45e1-9547-1bd4b2c20ebb",
   "metadata": {
    "ExecuteTime": {
     "end_time": "2023-01-27T12:27:57.922000+09:00",
     "start_time": "2023-01-27T03:27:52.805Z"
    }
   },
   "outputs": [
    {
     "data": {
      "text/plain": [
       "true"
      ]
     },
     "execution_count": 38,
     "metadata": {},
     "output_type": "execute_result"
    }
   ],
   "source": [
    "split(\"A2B34C\", 'B') == [\"A2\", \"34C\"]"
   ]
  },
  {
   "cell_type": "code",
   "execution_count": 39,
   "id": "5e7c112c-f315-44f0-bc3e-c147fd3a5d3f",
   "metadata": {
    "ExecuteTime": {
     "end_time": "2023-01-27T12:27:57.950000+09:00",
     "start_time": "2023-01-27T03:27:52.814Z"
    }
   },
   "outputs": [
    {
     "data": {
      "text/plain": [
       "true"
      ]
     },
     "execution_count": 39,
     "metadata": {},
     "output_type": "execute_result"
    }
   ],
   "source": [
    "rsplit(\"A2B34C\", '0':'9') == [\"A\", \"B\", \"\", \"C\"]"
   ]
  },
  {
   "cell_type": "code",
   "execution_count": 40,
   "id": "5e3cbbe7-d813-4543-8d7b-7c1e8d630014",
   "metadata": {
    "ExecuteTime": {
     "end_time": "2023-01-27T12:27:57.956000+09:00",
     "start_time": "2023-01-27T03:27:52.820Z"
    }
   },
   "outputs": [
    {
     "data": {
      "text/plain": [
       "true"
      ]
     },
     "execution_count": 40,
     "metadata": {},
     "output_type": "execute_result"
    }
   ],
   "source": [
    "rsplit(\"A2B34C\", '0':'9', keepempty=false) == [\"A\", \"B\", \"C\"]"
   ]
  },
  {
   "cell_type": "markdown",
   "id": "870d9bc8-7316-4466-b63d-df4ae88fc3b1",
   "metadata": {},
   "source": [
    "##### コード3-8. `strip()` 関数、`lstrip()` 関数、`rstrip()` 関数の例"
   ]
  },
  {
   "cell_type": "code",
   "execution_count": 41,
   "id": "41ca5732-f215-454e-8923-a4a486a19aa3",
   "metadata": {
    "ExecuteTime": {
     "end_time": "2023-01-27T12:27:57.963000+09:00",
     "start_time": "2023-01-27T03:27:52.828Z"
    }
   },
   "outputs": [
    {
     "data": {
      "text/plain": [
       "true"
      ]
     },
     "execution_count": 41,
     "metadata": {},
     "output_type": "execute_result"
    }
   ],
   "source": [
    "strip(\"   ABC  \") == \"ABC\""
   ]
  },
  {
   "cell_type": "code",
   "execution_count": 42,
   "id": "3bf36d90-44a8-491f-995c-2e5d5e809984",
   "metadata": {
    "ExecuteTime": {
     "end_time": "2023-01-27T12:27:57.967000+09:00",
     "start_time": "2023-01-27T03:27:52.836Z"
    }
   },
   "outputs": [
    {
     "data": {
      "text/plain": [
       "true"
      ]
     },
     "execution_count": 42,
     "metadata": {},
     "output_type": "execute_result"
    }
   ],
   "source": [
    "lstrip(\"   ABC  \") == \"ABC  \""
   ]
  },
  {
   "cell_type": "code",
   "execution_count": 43,
   "id": "eb79dd6e-9fd5-4c21-97d9-a52f7cd31c30",
   "metadata": {
    "ExecuteTime": {
     "end_time": "2023-01-27T12:27:57.971000+09:00",
     "start_time": "2023-01-27T03:27:52.842Z"
    }
   },
   "outputs": [
    {
     "data": {
      "text/plain": [
       "true"
      ]
     },
     "execution_count": 43,
     "metadata": {},
     "output_type": "execute_result"
    }
   ],
   "source": [
    "rstrip(\"   ABC  \") == \"   ABC\""
   ]
  },
  {
   "cell_type": "code",
   "execution_count": 44,
   "id": "5f0f92be-bde5-4209-a246-9d2ff40bfb1f",
   "metadata": {
    "ExecuteTime": {
     "end_time": "2023-01-27T12:27:58.020000+09:00",
     "start_time": "2023-01-27T03:27:52.851Z"
    }
   },
   "outputs": [
    {
     "data": {
      "text/plain": [
       "\"3, 5\""
      ]
     },
     "execution_count": 44,
     "metadata": {},
     "output_type": "execute_result"
    }
   ],
   "source": [
    "strip(\"{3, 5}\\n\", ['{', '}', '\\n'])"
   ]
  },
  {
   "cell_type": "code",
   "execution_count": 45,
   "id": "e0b6d547-c844-4b40-8211-37be69fc041e",
   "metadata": {
    "ExecuteTime": {
     "end_time": "2023-01-27T12:27:58.065000+09:00",
     "start_time": "2023-01-27T03:27:52.857Z"
    }
   },
   "outputs": [
    {
     "data": {
      "text/plain": [
       "\"3, 5\""
      ]
     },
     "execution_count": 45,
     "metadata": {},
     "output_type": "execute_result"
    }
   ],
   "source": [
    "strip(\"{3, 5}\\n\") do c\n",
    "    isspace(c) || ispunct(c)\n",
    "end"
   ]
  },
  {
   "cell_type": "markdown",
   "id": "24577aea-18f0-4493-98da-fba01ed60396",
   "metadata": {},
   "source": [
    "#### 文字列検索・置換関数"
   ]
  },
  {
   "cell_type": "markdown",
   "id": "f0392dcd-2ebf-4df8-83c1-f2c5163e51cb",
   "metadata": {},
   "source": [
    "##### コード3-9. `findxxxx()` 系の関数の例(1)"
   ]
  },
  {
   "cell_type": "code",
   "execution_count": 46,
   "id": "669173df-5194-432d-8aba-0f1bdb779861",
   "metadata": {
    "ExecuteTime": {
     "end_time": "2023-01-27T12:27:58.066000+09:00",
     "start_time": "2023-01-27T03:27:52.866Z"
    }
   },
   "outputs": [],
   "source": [
    "str = \"rem2pi(42.195)\";"
   ]
  },
  {
   "cell_type": "code",
   "execution_count": 47,
   "id": "2d880712-67bb-46ba-9404-878e1c5ed23c",
   "metadata": {
    "ExecuteTime": {
     "end_time": "2023-01-27T12:27:58.078000+09:00",
     "start_time": "2023-01-27T03:27:52.873Z"
    }
   },
   "outputs": [
    {
     "data": {
      "text/plain": [
       "4"
      ]
     },
     "execution_count": 47,
     "metadata": {},
     "output_type": "execute_result"
    }
   ],
   "source": [
    "findfirst(isdigit, str)"
   ]
  },
  {
   "cell_type": "code",
   "execution_count": 48,
   "id": "6bacd301-fe3a-42fd-9828-6a9136c0dc87",
   "metadata": {
    "ExecuteTime": {
     "end_time": "2023-01-27T12:27:58.325000+09:00",
     "start_time": "2023-01-27T03:27:52.880Z"
    }
   },
   "outputs": [
    {
     "data": {
      "text/plain": [
       "'2': ASCII/Unicode U+0032 (category Nd: Number, decimal digit)"
      ]
     },
     "execution_count": 48,
     "metadata": {},
     "output_type": "execute_result"
    }
   ],
   "source": [
    "str[findfirst(isdigit, str)]"
   ]
  },
  {
   "cell_type": "code",
   "execution_count": 49,
   "id": "513505df-e9b6-4719-82f9-ce6ea2ff17ca",
   "metadata": {
    "ExecuteTime": {
     "end_time": "2023-01-27T12:27:58.325000+09:00",
     "start_time": "2023-01-27T03:27:52.886Z"
    }
   },
   "outputs": [
    {
     "data": {
      "text/plain": [
       "8"
      ]
     },
     "execution_count": 49,
     "metadata": {},
     "output_type": "execute_result"
    }
   ],
   "source": [
    "findnext(isdigit, str, 5)"
   ]
  },
  {
   "cell_type": "code",
   "execution_count": 50,
   "id": "414f6065-77cc-4cd8-9db0-7a8a2acf1b23",
   "metadata": {
    "ExecuteTime": {
     "end_time": "2023-01-27T12:27:58.326000+09:00",
     "start_time": "2023-01-27T03:27:52.893Z"
    }
   },
   "outputs": [
    {
     "data": {
      "text/plain": [
       "'4': ASCII/Unicode U+0034 (category Nd: Number, decimal digit)"
      ]
     },
     "execution_count": 50,
     "metadata": {},
     "output_type": "execute_result"
    }
   ],
   "source": [
    "str[findnext(isdigit, str, 5)]"
   ]
  },
  {
   "cell_type": "code",
   "execution_count": 51,
   "id": "2aa0b91c-1619-4b5d-8769-6fcb402a33a9",
   "metadata": {
    "ExecuteTime": {
     "end_time": "2023-01-27T12:27:58.334000+09:00",
     "start_time": "2023-01-27T03:27:52.900Z"
    }
   },
   "outputs": [
    {
     "data": {
      "text/plain": [
       "13"
      ]
     },
     "execution_count": 51,
     "metadata": {},
     "output_type": "execute_result"
    }
   ],
   "source": [
    "findlast(isdigit, str)"
   ]
  },
  {
   "cell_type": "code",
   "execution_count": 52,
   "id": "36bf8f38-fa1e-4437-a95f-4ecfb8bb797c",
   "metadata": {
    "ExecuteTime": {
     "end_time": "2023-01-27T12:27:58.334000+09:00",
     "start_time": "2023-01-27T03:27:52.908Z"
    }
   },
   "outputs": [
    {
     "data": {
      "text/plain": [
       "'5': ASCII/Unicode U+0035 (category Nd: Number, decimal digit)"
      ]
     },
     "execution_count": 52,
     "metadata": {},
     "output_type": "execute_result"
    }
   ],
   "source": [
    "str[findlast(isdigit, str)]"
   ]
  },
  {
   "cell_type": "code",
   "execution_count": 53,
   "id": "e122205e-3a37-44e3-abd0-e5b0d8daf0fe",
   "metadata": {
    "ExecuteTime": {
     "end_time": "2023-01-27T12:27:58.335000+09:00",
     "start_time": "2023-01-27T03:27:52.931Z"
    }
   },
   "outputs": [
    {
     "data": {
      "text/plain": [
       "12"
      ]
     },
     "execution_count": 53,
     "metadata": {},
     "output_type": "execute_result"
    }
   ],
   "source": [
    "findprev(isdigit, str, 12)"
   ]
  },
  {
   "cell_type": "code",
   "execution_count": 54,
   "id": "f1322449-693e-4eed-bb19-3e368763a733",
   "metadata": {
    "ExecuteTime": {
     "end_time": "2023-01-27T12:27:58.335000+09:00",
     "start_time": "2023-01-27T03:27:52.939Z"
    }
   },
   "outputs": [
    {
     "data": {
      "text/plain": [
       "'9': ASCII/Unicode U+0039 (category Nd: Number, decimal digit)"
      ]
     },
     "execution_count": 54,
     "metadata": {},
     "output_type": "execute_result"
    }
   ],
   "source": [
    "str[findprev(isdigit, str, 12)]"
   ]
  },
  {
   "cell_type": "code",
   "execution_count": 55,
   "id": "d9373746-953a-48c4-9b54-142304135cbd",
   "metadata": {
    "ExecuteTime": {
     "end_time": "2023-01-27T12:27:58.516000+09:00",
     "start_time": "2023-01-27T03:27:52.946Z"
    }
   },
   "outputs": [
    {
     "data": {
      "text/plain": [
       "5:6"
      ]
     },
     "execution_count": 55,
     "metadata": {},
     "output_type": "execute_result"
    }
   ],
   "source": [
    "findfirst(\"pi\", str)"
   ]
  },
  {
   "cell_type": "code",
   "execution_count": 56,
   "id": "aed03d2d-bcc7-4eba-ae26-d828d8460713",
   "metadata": {
    "ExecuteTime": {
     "end_time": "2023-01-27T12:27:58.785000+09:00",
     "start_time": "2023-01-27T03:27:52.952Z"
    }
   },
   "outputs": [
    {
     "data": {
      "text/plain": [
       "\"pi\""
      ]
     },
     "execution_count": 56,
     "metadata": {},
     "output_type": "execute_result"
    }
   ],
   "source": [
    "str[findfirst(\"pi\", str)]"
   ]
  },
  {
   "cell_type": "markdown",
   "id": "421d6e6b-1acf-4c77-916d-d2ee9289c362",
   "metadata": {},
   "source": [
    "##### コード3-10. `occursin()` 関数、`contains()` 関数の例"
   ]
  },
  {
   "cell_type": "code",
   "execution_count": 57,
   "id": "53c93b0f-3069-41ae-bdd3-18d23d64403b",
   "metadata": {
    "ExecuteTime": {
     "end_time": "2023-01-27T12:27:58.786000+09:00",
     "start_time": "2023-01-27T03:27:52.961Z"
    }
   },
   "outputs": [
    {
     "data": {
      "text/plain": [
       "true"
      ]
     },
     "execution_count": 57,
     "metadata": {},
     "output_type": "execute_result"
    }
   ],
   "source": [
    "occursin(\"pi\", \"rem2pi(42.195)\")"
   ]
  },
  {
   "cell_type": "code",
   "execution_count": 58,
   "id": "6d2c84bf-cc7f-4088-9c65-b647ec832b49",
   "metadata": {
    "ExecuteTime": {
     "end_time": "2023-01-27T12:27:58.789000+09:00",
     "start_time": "2023-01-27T03:27:52.965Z"
    }
   },
   "outputs": [
    {
     "data": {
      "text/plain": [
       "true"
      ]
     },
     "execution_count": 58,
     "metadata": {},
     "output_type": "execute_result"
    }
   ],
   "source": [
    "contains(\"rem2pi(42.195)\", \"pi\")"
   ]
  },
  {
   "cell_type": "code",
   "execution_count": 59,
   "id": "9afa7bea-c18f-464f-92ef-8228beffeb05",
   "metadata": {
    "ExecuteTime": {
     "end_time": "2023-01-27T12:27:58.792000+09:00",
     "start_time": "2023-01-27T03:27:52.976Z"
    }
   },
   "outputs": [],
   "source": [
    "pred1 = occursin(\"rem2pi(42.195)\");"
   ]
  },
  {
   "cell_type": "code",
   "execution_count": 60,
   "id": "341be915-7842-4277-a3ae-55d7b7a3da27",
   "metadata": {
    "ExecuteTime": {
     "end_time": "2023-01-27T12:27:58.901000+09:00",
     "start_time": "2023-01-27T03:27:52.981Z"
    }
   },
   "outputs": [
    {
     "data": {
      "text/plain": [
       "true"
      ]
     },
     "execution_count": 60,
     "metadata": {},
     "output_type": "execute_result"
    }
   ],
   "source": [
    "map(pred1, ['.', \"NOT_EXISTS\", r\"\\d+\"]) == [true, false, true]"
   ]
  },
  {
   "cell_type": "code",
   "execution_count": 61,
   "id": "1f5ae641-9a6c-40a8-988f-baff1c6072d7",
   "metadata": {
    "ExecuteTime": {
     "end_time": "2023-01-27T12:27:58.901000+09:00",
     "start_time": "2023-01-27T03:27:52.986Z"
    }
   },
   "outputs": [],
   "source": [
    "pred2 = contains(r\"\\d{2,}\");  # 数字2文字以上、という正規表現"
   ]
  },
  {
   "cell_type": "code",
   "execution_count": 62,
   "id": "a79ceaf0-a748-4977-bd8a-cbd310ad2112",
   "metadata": {
    "ExecuteTime": {
     "end_time": "2023-01-27T12:27:59.241000+09:00",
     "start_time": "2023-01-27T03:27:52.991Z"
    }
   },
   "outputs": [
    {
     "data": {
      "text/plain": [
       "1-element Vector{String}:\n",
       " \"42.195\""
      ]
     },
     "execution_count": 62,
     "metadata": {},
     "output_type": "execute_result"
    }
   ],
   "source": [
    "filter(pred2, [\"42.195\", \"Julia v1.6\", \"ALLALPHABETS\"])"
   ]
  },
  {
   "cell_type": "markdown",
   "id": "dad9bb31-c37a-4ba9-ac82-53fb94cd6863",
   "metadata": {},
   "source": [
    "##### コード3-11. `replace()` 関数の例(1)"
   ]
  },
  {
   "cell_type": "code",
   "execution_count": 63,
   "id": "9e79f0d3-c12b-4552-863a-c58b26eabd7f",
   "metadata": {
    "ExecuteTime": {
     "end_time": "2023-01-27T12:27:59.245000+09:00",
     "start_time": "2023-01-27T03:27:52.997Z"
    }
   },
   "outputs": [
    {
     "data": {
      "text/plain": [
       "\"123αBCあいう漢字\""
      ]
     },
     "execution_count": 63,
     "metadata": {},
     "output_type": "execute_result"
    }
   ],
   "source": [
    "replace(\"123ABCあいう漢字\", 'A'=>'α')"
   ]
  },
  {
   "cell_type": "code",
   "execution_count": 64,
   "id": "c2d483a4-a2a9-45b1-89d3-e2487c81ea8a",
   "metadata": {
    "ExecuteTime": {
     "end_time": "2023-01-27T12:27:59.318000+09:00",
     "start_time": "2023-01-27T03:27:53.008Z"
    }
   },
   "outputs": [
    {
     "data": {
      "text/plain": [
       "\"123XYZ漢字\""
      ]
     },
     "execution_count": 64,
     "metadata": {},
     "output_type": "execute_result"
    }
   ],
   "source": [
    "replace(\"123ABCあいう漢字\", \"ABC\"=>\"XYZ\", 'あ':'ん'=>\"\")  # Julia v1.7 以降で有効"
   ]
  },
  {
   "cell_type": "code",
   "execution_count": 65,
   "id": "76292abe-6c23-4e92-a61f-04600c87f77c",
   "metadata": {
    "ExecuteTime": {
     "end_time": "2023-01-27T12:27:59.365000+09:00",
     "start_time": "2023-01-27T03:27:53.013Z"
    }
   },
   "outputs": [
    {
     "data": {
      "text/plain": [
       "\"123XYZ漢字\""
      ]
     },
     "execution_count": 65,
     "metadata": {},
     "output_type": "execute_result"
    }
   ],
   "source": [
    "replace(replace(\"123ABCあいう漢字\", \"ABC\"=>\"XYZ\"), 'あ':'ん'=>\"\")  # Julia v1.6 ならこちら"
   ]
  },
  {
   "cell_type": "code",
   "execution_count": 66,
   "id": "e29ed8f3-ff89-4432-97c6-1e02422bb469",
   "metadata": {
    "ExecuteTime": {
     "end_time": "2023-01-27T12:27:59.428000+09:00",
     "start_time": "2023-01-27T03:27:53.019Z"
    }
   },
   "outputs": [
    {
     "data": {
      "text/plain": [
       "\"123abcあいう漢字\""
      ]
     },
     "execution_count": 66,
     "metadata": {},
     "output_type": "execute_result"
    }
   ],
   "source": [
    "replace(\"123ABCあいう漢字\", isuppercase=>lowercase)"
   ]
  },
  {
   "cell_type": "markdown",
   "id": "7cd56e56-4632-4edf-9372-75c26726e9aa",
   "metadata": {},
   "source": [
    "#### Julia の正規表現"
   ]
  },
  {
   "cell_type": "markdown",
   "id": "79948b66-f37b-4c6b-b7e6-0b90b1b5d1cf",
   "metadata": {},
   "source": [
    "##### コード3-12. 正規表現の使用例（`occursin()`/`contains()`）"
   ]
  },
  {
   "cell_type": "code",
   "execution_count": 67,
   "id": "d45b3740-b686-43cd-a086-28263d02c603",
   "metadata": {
    "ExecuteTime": {
     "end_time": "2023-01-27T12:27:59.429000+09:00",
     "start_time": "2023-01-27T03:27:53.027Z"
    }
   },
   "outputs": [
    {
     "data": {
      "text/plain": [
       "true"
      ]
     },
     "execution_count": 67,
     "metadata": {},
     "output_type": "execute_result"
    }
   ],
   "source": [
    "occursin(r\"^#[0-9a-f]{6}$\"i, \"#FFA800\")"
   ]
  },
  {
   "cell_type": "code",
   "execution_count": 68,
   "id": "ba4ceea3-59d5-41bb-900c-fa30e8766288",
   "metadata": {
    "ExecuteTime": {
     "end_time": "2023-01-27T12:27:59.433000+09:00",
     "start_time": "2023-01-27T03:27:53.033Z"
    }
   },
   "outputs": [
    {
     "data": {
      "text/plain": [
       "false"
      ]
     },
     "execution_count": 68,
     "metadata": {},
     "output_type": "execute_result"
    }
   ],
   "source": [
    "contains(\"ThereIsNoSpace!\", r\"\\s+\")"
   ]
  },
  {
   "cell_type": "code",
   "execution_count": 69,
   "id": "396298a7-1f5c-4896-95c5-ef309f87f4f3",
   "metadata": {
    "ExecuteTime": {
     "end_time": "2023-01-27T12:27:59.433000+09:00",
     "start_time": "2023-01-27T03:27:53.038Z"
    }
   },
   "outputs": [],
   "source": [
    "pred2 = contains(r\"\\d{2,}\");  # 数字2文字以上、という正規表現"
   ]
  },
  {
   "cell_type": "code",
   "execution_count": 70,
   "id": "896a8c06-3252-4715-ac8e-e5cd2185c09d",
   "metadata": {
    "ExecuteTime": {
     "end_time": "2023-01-27T12:27:59.434000+09:00",
     "start_time": "2023-01-27T03:27:53.044Z"
    }
   },
   "outputs": [
    {
     "data": {
      "text/plain": [
       "1-element Vector{String}:\n",
       " \"42.195\""
      ]
     },
     "execution_count": 70,
     "metadata": {},
     "output_type": "execute_result"
    }
   ],
   "source": [
    "filter(pred2, [\"42.195\", \"Julia v1.6\", \"ALLALPHABETS\"])"
   ]
  },
  {
   "cell_type": "markdown",
   "id": "10f3f031-00ce-4b2b-8b9c-099a08408b17",
   "metadata": {},
   "source": [
    "##### コード3-13. `match()` 関数の例"
   ]
  },
  {
   "cell_type": "code",
   "execution_count": 71,
   "id": "26e1f2f6-3a52-48a3-9635-5d94d2cd0e77",
   "metadata": {
    "ExecuteTime": {
     "end_time": "2023-01-27T12:27:59.761000+09:00",
     "start_time": "2023-01-27T03:27:53.051Z"
    }
   },
   "outputs": [
    {
     "data": {
      "text/plain": [
       "RegexMatch(\"123\")"
      ]
     },
     "execution_count": 71,
     "metadata": {},
     "output_type": "execute_result"
    }
   ],
   "source": [
    "m = match(r\"\\d+\", \"123ABCあいう漢字\")"
   ]
  },
  {
   "cell_type": "code",
   "execution_count": 72,
   "id": "ed9adc87-d0cc-4802-8768-f1f2614fc373",
   "metadata": {
    "ExecuteTime": {
     "end_time": "2023-01-27T12:27:59.762000+09:00",
     "start_time": "2023-01-27T03:27:53.056Z"
    }
   },
   "outputs": [
    {
     "data": {
      "text/plain": [
       "\"123\""
      ]
     },
     "execution_count": 72,
     "metadata": {},
     "output_type": "execute_result"
    }
   ],
   "source": [
    "m.match  # マッチした部分文字列"
   ]
  },
  {
   "cell_type": "code",
   "execution_count": 73,
   "id": "eeddf236-605b-43f9-9d29-80cec2d1dc7b",
   "metadata": {
    "ExecuteTime": {
     "end_time": "2023-01-27T12:27:59.762000+09:00",
     "start_time": "2023-01-27T03:27:53.061Z"
    }
   },
   "outputs": [
    {
     "data": {
      "text/plain": [
       "RegexMatch(\"123ABC\", 1=\"123\", ABC=\"ABC\")"
      ]
     },
     "execution_count": 73,
     "metadata": {},
     "output_type": "execute_result"
    }
   ],
   "source": [
    "m = match(r\"(\\d+)(?<ABC>[ABC]+)\", \"123ABCあいう漢字\")"
   ]
  },
  {
   "cell_type": "code",
   "execution_count": 74,
   "id": "65f4ce2a-4f20-452f-b33e-b090a424fb53",
   "metadata": {
    "ExecuteTime": {
     "end_time": "2023-01-27T12:27:59.763000+09:00",
     "start_time": "2023-01-27T03:27:53.068Z"
    }
   },
   "outputs": [
    {
     "data": {
      "text/plain": [
       "\"123ABC\""
      ]
     },
     "execution_count": 74,
     "metadata": {},
     "output_type": "execute_result"
    }
   ],
   "source": [
    "m.match  # マッチした部分文字列"
   ]
  },
  {
   "cell_type": "code",
   "execution_count": 75,
   "id": "f829ddd3-1024-4309-a3eb-30290cea1080",
   "metadata": {
    "ExecuteTime": {
     "end_time": "2023-01-27T12:27:59.767000+09:00",
     "start_time": "2023-01-27T03:27:53.073Z"
    }
   },
   "outputs": [
    {
     "data": {
      "text/plain": [
       "\"123\""
      ]
     },
     "execution_count": 75,
     "metadata": {},
     "output_type": "execute_result"
    }
   ],
   "source": [
    "m[1]  # キャプチャグループ（1番目）"
   ]
  },
  {
   "cell_type": "code",
   "execution_count": 76,
   "id": "2ffdf172-e7c7-490f-92dd-95e9c9c7f054",
   "metadata": {
    "ExecuteTime": {
     "end_time": "2023-01-27T12:27:59.768000+09:00",
     "start_time": "2023-01-27T03:27:53.078Z"
    }
   },
   "outputs": [
    {
     "data": {
      "text/plain": [
       "\"ABC\""
      ]
     },
     "execution_count": 76,
     "metadata": {},
     "output_type": "execute_result"
    }
   ],
   "source": [
    "m[2]  # キャプチャグループ（2番目）"
   ]
  },
  {
   "cell_type": "code",
   "execution_count": 77,
   "id": "16e7f4ed-8e44-4463-9c60-217eb0df6ee6",
   "metadata": {
    "ExecuteTime": {
     "end_time": "2023-01-27T12:27:59.768000+09:00",
     "start_time": "2023-01-27T03:27:53.083Z"
    }
   },
   "outputs": [
    {
     "data": {
      "text/plain": [
       "\"ABC\""
      ]
     },
     "execution_count": 77,
     "metadata": {},
     "output_type": "execute_result"
    }
   ],
   "source": [
    "m[\"ABC\"]  # 名前付きキャプチャグループ（\"ABC\"）"
   ]
  },
  {
   "cell_type": "code",
   "execution_count": 78,
   "id": "c32c35bb-81b8-40c2-bbe7-799dca438422",
   "metadata": {
    "ExecuteTime": {
     "end_time": "2023-01-27T12:27:59.769000+09:00",
     "start_time": "2023-01-27T03:27:53.088Z"
    }
   },
   "outputs": [
    {
     "data": {
      "text/plain": [
       "true"
      ]
     },
     "execution_count": 78,
     "metadata": {},
     "output_type": "execute_result"
    }
   ],
   "source": [
    "match(r\"\\s\", \"ThereIsNoSpace!\") === nothing"
   ]
  },
  {
   "cell_type": "markdown",
   "id": "43bdadb4-cb5b-46f4-92c5-2ad6e97ffdb7",
   "metadata": {},
   "source": [
    "##### コード3-14. `eachmatch()` 関数の例"
   ]
  },
  {
   "cell_type": "code",
   "execution_count": 79,
   "id": "e3299c36-b440-4125-aa5a-93230b36c08b",
   "metadata": {
    "ExecuteTime": {
     "end_time": "2023-01-27T12:27:59.802000+09:00",
     "start_time": "2023-01-27T03:27:53.095Z"
    }
   },
   "outputs": [
    {
     "name": "stdout",
     "output_type": "stream",
     "text": [
      "Yes\n",
      "I\n",
      "have\n",
      "a\n",
      "number\n"
     ]
    }
   ],
   "source": [
    "for m in eachmatch(r\"\\w+\", \"Yes, I have a number.\")\n",
    "    println(m.match)\n",
    "end"
   ]
  },
  {
   "cell_type": "code",
   "execution_count": 80,
   "id": "49b8d7de-3941-43e7-9f54-4d1d0a338f51",
   "metadata": {
    "ExecuteTime": {
     "end_time": "2023-01-27T12:28:00.332000+09:00",
     "start_time": "2023-01-27T03:27:53.100Z"
    }
   },
   "outputs": [
    {
     "data": {
      "text/plain": [
       "3-element Vector{SubString{String}}:\n",
       " \"23\"\n",
       " \"456\"\n",
       " \"78\""
      ]
     },
     "execution_count": 80,
     "metadata": {},
     "output_type": "execute_result"
    }
   ],
   "source": [
    "[m[1] for m in eachmatch(r\"_(\\d+)_\", \"1_23_456_78_9\", overlap=true)]"
   ]
  },
  {
   "cell_type": "markdown",
   "id": "baabdada-4012-42ca-8d89-94ee3ff7ea9c",
   "metadata": {},
   "source": [
    "##### コード3-15. `replace()` 関数の例(2)：正規表現、置換文字列リテラルの例"
   ]
  },
  {
   "cell_type": "code",
   "execution_count": 81,
   "id": "5a403d9b-669c-48d9-8a1e-3ccca4b402a8",
   "metadata": {
    "ExecuteTime": {
     "end_time": "2023-01-27T12:28:00.338000+09:00",
     "start_time": "2023-01-27T03:27:53.106Z"
    }
   },
   "outputs": [
    {
     "data": {
      "text/plain": [
       "\"112233ABCあいう漢字\""
      ]
     },
     "execution_count": 81,
     "metadata": {},
     "output_type": "execute_result"
    }
   ],
   "source": [
    "replace(\"123ABCあいう漢字\", r\"\\d\"=>s\"\\0\\0\")"
   ]
  },
  {
   "cell_type": "code",
   "execution_count": 82,
   "id": "e46502c0-1e7c-4869-9c50-dccdd27a6f84",
   "metadata": {
    "ExecuteTime": {
     "end_time": "2023-01-27T12:28:00.338000+09:00",
     "start_time": "2023-01-27T03:27:53.112Z"
    }
   },
   "outputs": [
    {
     "data": {
      "text/plain": [
       "\"112131ABCあいう漢字\""
      ]
     },
     "execution_count": 82,
     "metadata": {},
     "output_type": "execute_result"
    }
   ],
   "source": [
    "replace(\"123ABCあいう漢字\", r\"\\d\"=>s\"\\g<0>1\")  # `s\"\\01\"` だと \"PCRE error: unknown substring\" となる"
   ]
  },
  {
   "cell_type": "code",
   "execution_count": 83,
   "id": "6591e9ac-704b-41d5-8351-22fff4af4d85",
   "metadata": {
    "ExecuteTime": {
     "end_time": "2023-01-27T12:28:00.339000+09:00",
     "start_time": "2023-01-27T03:27:53.118Z"
    }
   },
   "outputs": [
    {
     "data": {
      "text/plain": [
       "\"ABC123あいう漢字\""
      ]
     },
     "execution_count": 83,
     "metadata": {},
     "output_type": "execute_result"
    }
   ],
   "source": [
    "replace(\"123ABCあいう漢字\", r\"(\\d+)(?<abc>[a-z]+)\"ia=>s\"\\g<abc>\\1\")  # `s\"\\2\\1\"` でも同じ"
   ]
  },
  {
   "cell_type": "markdown",
   "id": "efcd7614-8925-49f1-9661-a9f7333de5eb",
   "metadata": {},
   "source": [
    "#### パターンに指定出来るもの"
   ]
  },
  {
   "cell_type": "markdown",
   "id": "46d33131-b3ca-4fb2-849f-e64c42e3f57d",
   "metadata": {},
   "source": [
    "##### コード3-16. `findxxxx()` 系の関数の例(2)：対応していないパターンの述語関数による代替"
   ]
  },
  {
   "cell_type": "code",
   "execution_count": 84,
   "id": "edc5d4a8-71df-40ba-aa23-ea3a502275d0",
   "metadata": {
    "ExecuteTime": {
     "end_time": "2023-01-27T12:28:00.398000+09:00",
     "start_time": "2023-01-27T03:27:53.125Z"
    },
    "scrolled": true,
    "tags": []
   },
   "outputs": [
    {
     "ename": "LoadError",
     "evalue": "MethodError: no method matching findfirst(::StepRange{Char, Int64}, ::String)\n\u001b[0mClosest candidates are:\n\u001b[0m  findfirst(::AbstractArray) at array.jl:1992\n\u001b[0m  findfirst(\u001b[91m::AbstractChar\u001b[39m, ::AbstractString) at strings/search.jl:130\n\u001b[0m  findfirst(\u001b[91m::AbstractString\u001b[39m, ::AbstractString) at strings/search.jl:110\n\u001b[0m  ...",
     "output_type": "error",
     "traceback": [
      "MethodError: no method matching findfirst(::StepRange{Char, Int64}, ::String)\n\u001b[0mClosest candidates are:\n\u001b[0m  findfirst(::AbstractArray) at array.jl:1992\n\u001b[0m  findfirst(\u001b[91m::AbstractChar\u001b[39m, ::AbstractString) at strings/search.jl:130\n\u001b[0m  findfirst(\u001b[91m::AbstractString\u001b[39m, ::AbstractString) at strings/search.jl:110\n\u001b[0m  ...",
      "",
      "Stacktrace:",
      " [1] top-level scope",
      "   @ In[84]:1"
     ]
    }
   ],
   "source": [
    "findfirst('A':'Z', \"123ABCあいう漢字\")  # MethodError 発生"
   ]
  },
  {
   "cell_type": "code",
   "execution_count": 85,
   "id": "a759f4c3-6d4e-476a-988a-aa26a4476d9a",
   "metadata": {
    "ExecuteTime": {
     "end_time": "2023-01-27T12:28:00.402000+09:00",
     "start_time": "2023-01-27T03:27:53.131Z"
    }
   },
   "outputs": [
    {
     "data": {
      "text/plain": [
       "4"
      ]
     },
     "execution_count": 85,
     "metadata": {},
     "output_type": "execute_result"
    }
   ],
   "source": [
    "findfirst(∈('A':'Z'), \"123ABCあいう漢字\")"
   ]
  },
  {
   "cell_type": "code",
   "execution_count": 86,
   "id": "da476dd2-6b15-4e28-a168-add636064e24",
   "metadata": {
    "ExecuteTime": {
     "end_time": "2023-01-27T12:28:00.451000+09:00",
     "start_time": "2023-01-27T03:27:53.136Z"
    }
   },
   "outputs": [
    {
     "data": {
      "text/plain": [
       "4-element Vector{Int64}:\n",
       "  1\n",
       "  4\n",
       "  7\n",
       " 10"
      ]
     },
     "execution_count": 86,
     "metadata": {},
     "output_type": "execute_result"
    }
   ],
   "source": [
    "findall('A', \"ABCABCABCA\")  # Julia v1.7 ならOK、v1.6だと MethodError 発生"
   ]
  },
  {
   "cell_type": "code",
   "execution_count": 87,
   "id": "32f2b332-060e-4eec-aa08-d41b30255d64",
   "metadata": {
    "ExecuteTime": {
     "end_time": "2023-01-27T12:28:00.501000+09:00",
     "start_time": "2023-01-27T03:27:53.141Z"
    }
   },
   "outputs": [
    {
     "data": {
      "text/plain": [
       "true"
      ]
     },
     "execution_count": 87,
     "metadata": {},
     "output_type": "execute_result"
    }
   ],
   "source": [
    "findall(==('A'), \"ABCABCABCA\") == [1, 4, 7, 10]  # Julia v1.6 でも v1.7 でもOK"
   ]
  },
  {
   "cell_type": "markdown",
   "id": "21688476-6663-4638-a3a5-0caade980027",
   "metadata": {},
   "source": [
    "### 3-1-7. 配列・集合演算"
   ]
  },
  {
   "cell_type": "markdown",
   "id": "98c8135c-73f4-4036-ab04-a2191aafa525",
   "metadata": {},
   "source": [
    "#### コレクション情報取得関数・演算子"
   ]
  },
  {
   "cell_type": "markdown",
   "id": "1c560960-3f04-4681-b9c2-2c0cd76d1671",
   "metadata": {},
   "source": [
    "##### コード3-17. コレクション情報取得関数の例"
   ]
  },
  {
   "cell_type": "code",
   "execution_count": 88,
   "id": "4c09b159-74a7-4038-9db9-2af1caa8f5c9",
   "metadata": {
    "ExecuteTime": {
     "end_time": "2023-01-27T12:28:00.555000+09:00",
     "start_time": "2023-01-27T03:27:53.150Z"
    }
   },
   "outputs": [],
   "source": [
    "A = [100z + 10y + x for x=1:3, y=1:4, z=1:2];"
   ]
  },
  {
   "cell_type": "code",
   "execution_count": 89,
   "id": "1f462be5-7161-415e-890d-37a8b406a572",
   "metadata": {
    "ExecuteTime": {
     "end_time": "2023-01-27T12:28:00.556000+09:00",
     "start_time": "2023-01-27T03:27:53.155Z"
    }
   },
   "outputs": [
    {
     "data": {
      "text/plain": [
       "3"
      ]
     },
     "execution_count": 89,
     "metadata": {},
     "output_type": "execute_result"
    }
   ],
   "source": [
    "ndims(A)"
   ]
  },
  {
   "cell_type": "code",
   "execution_count": 90,
   "id": "5717900f-97f3-4fa3-9e39-9ca00f4e674d",
   "metadata": {
    "ExecuteTime": {
     "end_time": "2023-01-27T12:28:00.767000+09:00",
     "start_time": "2023-01-27T03:27:53.162Z"
    }
   },
   "outputs": [
    {
     "data": {
      "text/plain": [
       "(3, 4, 2)"
      ]
     },
     "execution_count": 90,
     "metadata": {},
     "output_type": "execute_result"
    }
   ],
   "source": [
    "size(A)"
   ]
  },
  {
   "cell_type": "code",
   "execution_count": 91,
   "id": "30a989f8-9255-4316-b8c2-6b518ef5e0b1",
   "metadata": {
    "ExecuteTime": {
     "end_time": "2023-01-27T12:28:00.770000+09:00",
     "start_time": "2023-01-27T03:27:53.167Z"
    }
   },
   "outputs": [
    {
     "data": {
      "text/plain": [
       "3"
      ]
     },
     "execution_count": 91,
     "metadata": {},
     "output_type": "execute_result"
    }
   ],
   "source": [
    "size(A, 1)  # == size(A)[1]"
   ]
  },
  {
   "cell_type": "code",
   "execution_count": 92,
   "id": "e78f37b6-ad90-4368-817b-49f608b7a9ba",
   "metadata": {
    "ExecuteTime": {
     "end_time": "2023-01-27T12:28:01.001000+09:00",
     "start_time": "2023-01-27T03:27:53.173Z"
    }
   },
   "outputs": [
    {
     "data": {
      "text/plain": [
       "(Base.OneTo(3), Base.OneTo(4), Base.OneTo(2))"
      ]
     },
     "execution_count": 92,
     "metadata": {},
     "output_type": "execute_result"
    }
   ],
   "source": [
    "axes(A)"
   ]
  },
  {
   "cell_type": "code",
   "execution_count": 93,
   "id": "9f528257-f7b0-42b4-bf47-e5793be6a197",
   "metadata": {
    "ExecuteTime": {
     "end_time": "2023-01-27T12:28:01.167000+09:00",
     "start_time": "2023-01-27T03:27:53.178Z"
    }
   },
   "outputs": [
    {
     "data": {
      "text/plain": [
       "Base.OneTo(4)"
      ]
     },
     "execution_count": 93,
     "metadata": {},
     "output_type": "execute_result"
    }
   ],
   "source": [
    "axes(A, 2)  # == axes(A)[2]"
   ]
  },
  {
   "cell_type": "code",
   "execution_count": 94,
   "id": "f1e2adbe-fa4b-4316-a19a-39ffa6428a63",
   "metadata": {
    "ExecuteTime": {
     "end_time": "2023-01-27T12:28:01.207000+09:00",
     "start_time": "2023-01-27T03:27:53.183Z"
    },
    "scrolled": true,
    "tags": []
   },
   "outputs": [
    {
     "name": "stdout",
     "output_type": "stream",
     "text": [
      "111\n",
      "211\n",
      "121\n",
      "221\n",
      "131\n",
      "231\n",
      "141\n",
      "241\n",
      "112\n",
      "212\n",
      "122\n",
      "222\n",
      "132\n",
      "232\n",
      "142\n",
      "242\n",
      "113\n",
      "213\n",
      "123\n",
      "223\n",
      "133\n",
      "233\n",
      "143\n",
      "243\n"
     ]
    }
   ],
   "source": [
    "for x in axes(A, 1), y in axes(A, 2), z in axes(A, 3)\n",
    "    println(A[x, y, z])\n",
    "end"
   ]
  },
  {
   "cell_type": "code",
   "execution_count": 95,
   "id": "50713c6d-f35a-4c82-9d08-551fddc84e5c",
   "metadata": {
    "ExecuteTime": {
     "end_time": "2023-01-27T12:28:01.410000+09:00",
     "start_time": "2023-01-27T03:27:53.189Z"
    }
   },
   "outputs": [
    {
     "data": {
      "text/plain": [
       "(Base.OneTo(3),)"
      ]
     },
     "execution_count": 95,
     "metadata": {},
     "output_type": "execute_result"
    }
   ],
   "source": [
    "axes((:a, :b, :c))"
   ]
  },
  {
   "cell_type": "markdown",
   "id": "1e5bcc00-6615-47d8-a341-9b272e0b0afe",
   "metadata": {},
   "source": [
    "#### 配列関連関数・演算子(1) 配列生成関連"
   ]
  },
  {
   "cell_type": "markdown",
   "id": "707e256b-1f81-4d56-8afa-24e607968fe6",
   "metadata": {},
   "source": [
    "##### コード3-18. 配列生成の例(1)：コンストラクタ利用"
   ]
  },
  {
   "cell_type": "code",
   "execution_count": 96,
   "id": "4cc2e1ad-f8c0-40ba-a251-29a7bd41fd9c",
   "metadata": {
    "ExecuteTime": {
     "end_time": "2023-01-27T12:28:01.412000+09:00",
     "start_time": "2023-01-27T03:27:53.197Z"
    }
   },
   "outputs": [
    {
     "data": {
      "text/plain": [
       "5-element Vector{Int64}:\n",
       " 25769803780\n",
       " 34359738376\n",
       "  4294967304\n",
       "           0\n",
       "           0"
      ]
     },
     "execution_count": 96,
     "metadata": {},
     "output_type": "execute_result"
    }
   ],
   "source": [
    "Vector{Int}(undef, 5)  # 結果は実行する度に変化する"
   ]
  },
  {
   "cell_type": "code",
   "execution_count": 97,
   "id": "5317ce1f-ea35-4d77-a5c7-1d6df94a51be",
   "metadata": {
    "ExecuteTime": {
     "end_time": "2023-01-27T12:28:01.998000+09:00",
     "start_time": "2023-01-27T03:27:53.202Z"
    }
   },
   "outputs": [
    {
     "data": {
      "text/plain": [
       "2×2 Matrix{Float64}:\n",
       " 6.89892e-310  6.89892e-310\n",
       " 6.89892e-310  6.89892e-310"
      ]
     },
     "execution_count": 97,
     "metadata": {},
     "output_type": "execute_result"
    }
   ],
   "source": [
    "Matrix{Float64}(undef, 2, 2)  # 結果は実行する度に変化する"
   ]
  },
  {
   "cell_type": "code",
   "execution_count": 98,
   "id": "64c80cda-06dd-4d08-8ee2-ad29f95052c7",
   "metadata": {
    "ExecuteTime": {
     "end_time": "2023-01-27T12:28:02.638000+09:00",
     "start_time": "2023-01-27T03:27:53.208Z"
    }
   },
   "outputs": [
    {
     "data": {
      "text/plain": [
       "2×3×2 Array{UInt8, 3}:\n",
       "[:, :, 1] =\n",
       " 0x90  0x68  0xff\n",
       " 0x93  0x70  0x7e\n",
       "\n",
       "[:, :, 2] =\n",
       " 0x00  0xd0  0x17\n",
       " 0x00  0x97  0x7d"
      ]
     },
     "execution_count": 98,
     "metadata": {},
     "output_type": "execute_result"
    }
   ],
   "source": [
    "Array{UInt8}(undef, 2, 3, 2)  # 結果は実行する度に変化する"
   ]
  },
  {
   "cell_type": "markdown",
   "id": "8bfc6ffa-e29a-4243-a286-ab9649dff809",
   "metadata": {},
   "source": [
    "##### コード3-19. 配列生成の例(2)：`zeros()`、`ones()`、`fill()`"
   ]
  },
  {
   "cell_type": "code",
   "execution_count": 99,
   "id": "db0969b5-0476-4175-849b-cf497074ecb7",
   "metadata": {
    "ExecuteTime": {
     "end_time": "2023-01-27T12:28:02.643000+09:00",
     "start_time": "2023-01-27T03:27:53.214Z"
    }
   },
   "outputs": [
    {
     "data": {
      "text/plain": [
       "5-element Vector{Int64}:\n",
       " 0\n",
       " 0\n",
       " 0\n",
       " 0\n",
       " 0"
      ]
     },
     "execution_count": 99,
     "metadata": {},
     "output_type": "execute_result"
    }
   ],
   "source": [
    "zeros(Int, 5)"
   ]
  },
  {
   "cell_type": "code",
   "execution_count": 100,
   "id": "519f13e3-aa13-4700-b84a-97dcf7b2b794",
   "metadata": {
    "ExecuteTime": {
     "end_time": "2023-01-27T12:28:02.651000+09:00",
     "start_time": "2023-01-27T03:27:53.219Z"
    }
   },
   "outputs": [
    {
     "data": {
      "text/plain": [
       "2×2 Matrix{Float64}:\n",
       " 1.0  1.0\n",
       " 1.0  1.0"
      ]
     },
     "execution_count": 100,
     "metadata": {},
     "output_type": "execute_result"
    }
   ],
   "source": [
    "ones(2, 2)"
   ]
  },
  {
   "cell_type": "code",
   "execution_count": 101,
   "id": "2f96e882-031c-4894-b81b-3c0dc7baa2d9",
   "metadata": {
    "ExecuteTime": {
     "end_time": "2023-01-27T12:28:02.916000+09:00",
     "start_time": "2023-01-27T03:27:53.227Z"
    }
   },
   "outputs": [
    {
     "data": {
      "text/plain": [
       "2×2 Matrix{UInt8}:\n",
       " 0x7f  0x7f\n",
       " 0x7f  0x7f"
      ]
     },
     "execution_count": 101,
     "metadata": {},
     "output_type": "execute_result"
    }
   ],
   "source": [
    "fill(0x7f, 2, 2)"
   ]
  },
  {
   "cell_type": "markdown",
   "id": "89fcbd33-2cea-4643-a98c-27f3a4edef57",
   "metadata": {},
   "source": [
    "##### コード3-20. 配列生成の例(3)：`BitArray`（`BitVector`、`BitMatrix`）の生成"
   ]
  },
  {
   "cell_type": "code",
   "execution_count": 102,
   "id": "089848e0-076e-444b-8467-a730bd02749c",
   "metadata": {
    "ExecuteTime": {
     "end_time": "2023-01-27T12:28:03.204000+09:00",
     "start_time": "2023-01-27T03:27:53.235Z"
    }
   },
   "outputs": [
    {
     "data": {
      "text/plain": [
       "2×3 BitMatrix:\n",
       " 0  0  0\n",
       " 0  0  0"
      ]
     },
     "execution_count": 102,
     "metadata": {},
     "output_type": "execute_result"
    }
   ],
   "source": [
    "BitArray(undef, 2, 3)  # 結果は実行する度に変化する"
   ]
  },
  {
   "cell_type": "code",
   "execution_count": 103,
   "id": "aa69f531-d4dc-45e9-a0c9-87770b325257",
   "metadata": {
    "ExecuteTime": {
     "end_time": "2023-01-27T12:28:03.522000+09:00",
     "start_time": "2023-01-27T03:27:53.241Z"
    }
   },
   "outputs": [
    {
     "data": {
      "text/plain": [
       "3×4×2 BitArray{3}:\n",
       "[:, :, 1] =\n",
       " 1  1  1  1\n",
       " 1  1  1  1\n",
       " 1  1  1  1\n",
       "\n",
       "[:, :, 2] =\n",
       " 1  1  1  1\n",
       " 1  1  1  1\n",
       " 1  1  1  1"
      ]
     },
     "execution_count": 103,
     "metadata": {},
     "output_type": "execute_result"
    }
   ],
   "source": [
    "trues(3, 4, 2)"
   ]
  },
  {
   "cell_type": "code",
   "execution_count": 104,
   "id": "2046e8c8-625a-46fa-a82b-c4e08608da34",
   "metadata": {
    "ExecuteTime": {
     "end_time": "2023-01-27T12:28:03.918000+09:00",
     "start_time": "2023-01-27T03:27:53.246Z"
    }
   },
   "outputs": [
    {
     "data": {
      "text/plain": [
       "BitVector\u001b[90m (alias for \u001b[39m\u001b[90mBitArray{1}\u001b[39m\u001b[90m)\u001b[39m"
      ]
     },
     "execution_count": 104,
     "metadata": {},
     "output_type": "execute_result"
    }
   ],
   "source": [
    "typeof(1:2:10 .== [1, 3, 5, 7, 9])"
   ]
  },
  {
   "cell_type": "markdown",
   "id": "cdaef265-f4eb-4c60-beb4-c83ba2db4540",
   "metadata": {},
   "source": [
    "##### コード3-21. 配列生成の例(4)：`similar()`"
   ]
  },
  {
   "cell_type": "code",
   "execution_count": 105,
   "id": "11728a9d-4815-44fc-a8b5-a7524bb6a53e",
   "metadata": {
    "ExecuteTime": {
     "end_time": "2023-01-27T12:28:03.935000+09:00",
     "start_time": "2023-01-27T03:27:53.254Z"
    }
   },
   "outputs": [],
   "source": [
    "A = UInt8[1 2; 3 4];"
   ]
  },
  {
   "cell_type": "code",
   "execution_count": 106,
   "id": "a7587c3f-0a19-4da1-9650-cfa088b51e45",
   "metadata": {
    "ExecuteTime": {
     "end_time": "2023-01-27T12:28:03.939000+09:00",
     "start_time": "2023-01-27T03:27:53.262Z"
    }
   },
   "outputs": [
    {
     "data": {
      "text/plain": [
       "2×2 Matrix{UInt8}:\n",
       " 0x50  0xa7\n",
       " 0x6c  0xf8"
      ]
     },
     "execution_count": 106,
     "metadata": {},
     "output_type": "execute_result"
    }
   ],
   "source": [
    "similar(A)  # `Array{UInt8}(undef, 2, 2)` と同じ"
   ]
  },
  {
   "cell_type": "code",
   "execution_count": 107,
   "id": "ae017a87-14fc-45a1-b840-945b9c2fd8c0",
   "metadata": {
    "ExecuteTime": {
     "end_time": "2023-01-27T12:28:03.943000+09:00",
     "start_time": "2023-01-27T03:27:53.268Z"
    }
   },
   "outputs": [
    {
     "data": {
      "text/plain": [
       "3×4×2 Array{UInt8, 3}:\n",
       "[:, :, 1] =\n",
       " 0xc6  0x00  0x00  0x02\n",
       " 0x7e  0x00  0x00  0x02\n",
       " 0x00  0x00  0x02  0x02\n",
       "\n",
       "[:, :, 2] =\n",
       " 0x01  0x02  0x00  0x7e\n",
       " 0x00  0x02  0x00  0x00\n",
       " 0x02  0x02  0xfe  0x00"
      ]
     },
     "execution_count": 107,
     "metadata": {},
     "output_type": "execute_result"
    }
   ],
   "source": [
    "similar(A, 3, 4, 2)  # `Array{UInt8}(undef, 3, 4, 2)` と同じ"
   ]
  },
  {
   "cell_type": "code",
   "execution_count": 108,
   "id": "2d485c0b-a99c-435e-bec9-28e2eefc0708",
   "metadata": {
    "ExecuteTime": {
     "end_time": "2023-01-27T12:28:03.948000+09:00",
     "start_time": "2023-01-27T03:27:53.274Z"
    }
   },
   "outputs": [
    {
     "data": {
      "text/plain": [
       "2×2 Matrix{Float64}:\n",
       " 6.89892e-310  6.89892e-310\n",
       " 6.89892e-310  6.89892e-310"
      ]
     },
     "execution_count": 108,
     "metadata": {},
     "output_type": "execute_result"
    }
   ],
   "source": [
    "similar(A, Float64)  # `Array{Float64}(undef, 2, 2)` と同じ"
   ]
  },
  {
   "cell_type": "code",
   "execution_count": 109,
   "id": "2faf0d74-7dd8-4f1c-8551-354ebcb8371e",
   "metadata": {
    "ExecuteTime": {
     "end_time": "2023-01-27T12:28:03.949000+09:00",
     "start_time": "2023-01-27T03:27:53.279Z"
    }
   },
   "outputs": [],
   "source": [
    "B = BitArray(undef, 2, 2);"
   ]
  },
  {
   "cell_type": "code",
   "execution_count": 110,
   "id": "41d9f4ac-ecc5-44da-9c7b-492484d2361c",
   "metadata": {
    "ExecuteTime": {
     "end_time": "2023-01-27T12:28:04.307000+09:00",
     "start_time": "2023-01-27T03:27:53.284Z"
    }
   },
   "outputs": [
    {
     "data": {
      "text/plain": [
       "10-element BitVector:\n",
       " 0\n",
       " 0\n",
       " 0\n",
       " 0\n",
       " 0\n",
       " 0\n",
       " 0\n",
       " 0\n",
       " 0\n",
       " 0"
      ]
     },
     "execution_count": 110,
     "metadata": {},
     "output_type": "execute_result"
    }
   ],
   "source": [
    "similar(B, 10)  # `BitArray(undef, 10)` と同じ"
   ]
  },
  {
   "cell_type": "markdown",
   "id": "792bab06-2c3c-48eb-bbd4-324527d105de",
   "metadata": {},
   "source": [
    "#### 配列関連関数・演算子(2) 配列加工・更新"
   ]
  },
  {
   "cell_type": "markdown",
   "id": "855e191c-6295-4220-b0bb-1119ccf13c23",
   "metadata": {},
   "source": [
    "#### 配列関連関数・演算子(3) ベクトル・行列関連"
   ]
  },
  {
   "cell_type": "markdown",
   "id": "844b7c21-5669-4ab7-bd60-a14e1d45ab0b",
   "metadata": {},
   "source": [
    "##### コード3-22. 行列・ベクトル演算の例"
   ]
  },
  {
   "cell_type": "code",
   "execution_count": 111,
   "id": "e9995f21-6b73-46ae-85c6-1c7726f199f2",
   "metadata": {
    "ExecuteTime": {
     "end_time": "2023-01-27T12:28:04.307000+09:00",
     "start_time": "2023-01-27T03:27:53.293Z"
    }
   },
   "outputs": [],
   "source": [
    "A = [1 2; 3 4];"
   ]
  },
  {
   "cell_type": "code",
   "execution_count": 112,
   "id": "1c6c253b-f424-4340-86cb-89430fef668e",
   "metadata": {
    "ExecuteTime": {
     "end_time": "2023-01-27T12:28:04.308000+09:00",
     "start_time": "2023-01-27T03:27:53.298Z"
    }
   },
   "outputs": [],
   "source": [
    "x = [-1, 1];"
   ]
  },
  {
   "cell_type": "code",
   "execution_count": 113,
   "id": "e1d5c133-5f75-4664-a46f-f2055e6ebd4b",
   "metadata": {
    "ExecuteTime": {
     "end_time": "2023-01-27T12:28:04.354000+09:00",
     "start_time": "2023-01-27T03:27:53.304Z"
    }
   },
   "outputs": [
    {
     "data": {
      "text/plain": [
       "2-element Vector{Int64}:\n",
       " 1\n",
       " 1"
      ]
     },
     "execution_count": 113,
     "metadata": {},
     "output_type": "execute_result"
    }
   ],
   "source": [
    "y = A * x"
   ]
  },
  {
   "cell_type": "code",
   "execution_count": 114,
   "id": "ee70bbc5-a11f-4477-ab3f-079700f56207",
   "metadata": {
    "ExecuteTime": {
     "end_time": "2023-01-27T12:28:04.534000+09:00",
     "start_time": "2023-01-27T03:27:53.309Z"
    }
   },
   "outputs": [
    {
     "data": {
      "text/plain": [
       "2-element Vector{Float64}:\n",
       " -1.0\n",
       "  1.0"
      ]
     },
     "execution_count": 114,
     "metadata": {},
     "output_type": "execute_result"
    }
   ],
   "source": [
    "A \\ y  # `== x`、ただし要素の型は `Float64`"
   ]
  },
  {
   "cell_type": "markdown",
   "id": "2ed8661b-64c6-4df6-a057-e6f8702a7db4",
   "metadata": {},
   "source": [
    "##### コード3-23. `transpose()`、`adjoint()`（`○'`）の例"
   ]
  },
  {
   "cell_type": "code",
   "execution_count": 115,
   "id": "fbf55891-0373-4b34-8049-525841180a97",
   "metadata": {
    "ExecuteTime": {
     "end_time": "2023-01-27T12:28:04.535000+09:00",
     "start_time": "2023-01-27T03:27:53.315Z"
    }
   },
   "outputs": [],
   "source": [
    "A = [1 2; 3 4]; x = [-1, 1];"
   ]
  },
  {
   "cell_type": "code",
   "execution_count": 116,
   "id": "57005a70-c483-49b1-a3f2-73c7dfa0a9a1",
   "metadata": {
    "ExecuteTime": {
     "end_time": "2023-01-27T12:28:04.828000+09:00",
     "start_time": "2023-01-27T03:27:53.321Z"
    }
   },
   "outputs": [
    {
     "data": {
      "text/plain": [
       "2×2 transpose(::Matrix{Int64}) with eltype Int64:\n",
       " 1  3\n",
       " 2  4"
      ]
     },
     "execution_count": 116,
     "metadata": {},
     "output_type": "execute_result"
    }
   ],
   "source": [
    "transpose(A)"
   ]
  },
  {
   "cell_type": "code",
   "execution_count": 117,
   "id": "d4c0740d-884a-4cad-b335-c2a1a653fabf",
   "metadata": {
    "ExecuteTime": {
     "end_time": "2023-01-27T12:28:05.108000+09:00",
     "start_time": "2023-01-27T03:27:53.326Z"
    }
   },
   "outputs": [
    {
     "data": {
      "text/plain": [
       "2×2 adjoint(::Matrix{Int64}) with eltype Int64:\n",
       " 1  3\n",
       " 2  4"
      ]
     },
     "execution_count": 117,
     "metadata": {},
     "output_type": "execute_result"
    }
   ],
   "source": [
    "A'  # `adjoint(A)` としても同じ"
   ]
  },
  {
   "cell_type": "code",
   "execution_count": 118,
   "id": "c98298a2-2b0f-45a8-b5fa-d283b1cd780c",
   "metadata": {
    "ExecuteTime": {
     "end_time": "2023-01-27T12:28:05.818000+09:00",
     "start_time": "2023-01-27T03:27:53.331Z"
    }
   },
   "outputs": [
    {
     "data": {
      "text/plain": [
       "2×2 Matrix{Int64}:\n",
       " 10  14\n",
       " 14  20"
      ]
     },
     "execution_count": 118,
     "metadata": {},
     "output_type": "execute_result"
    }
   ],
   "source": [
    "A'A  # A' * A と同じ"
   ]
  },
  {
   "cell_type": "code",
   "execution_count": 119,
   "id": "e91690eb-d8eb-4e28-9e37-f92bdb055a41",
   "metadata": {
    "ExecuteTime": {
     "end_time": "2023-01-27T12:28:05.846000+09:00",
     "start_time": "2023-01-27T03:27:53.336Z"
    }
   },
   "outputs": [],
   "source": [
    "C = [1+1im -1+1im; 1-1im -1-1im];"
   ]
  },
  {
   "cell_type": "code",
   "execution_count": 120,
   "id": "3369ebe3-28a1-487f-852d-e11e704010e8",
   "metadata": {
    "ExecuteTime": {
     "end_time": "2023-01-27T12:28:06.282000+09:00",
     "start_time": "2023-01-27T03:27:53.342Z"
    }
   },
   "outputs": [
    {
     "data": {
      "text/plain": [
       "2×2 transpose(::Matrix{Complex{Int64}}) with eltype Complex{Int64}:\n",
       "  1+1im   1-1im\n",
       " -1+1im  -1-1im"
      ]
     },
     "execution_count": 120,
     "metadata": {},
     "output_type": "execute_result"
    }
   ],
   "source": [
    "transpose(C)"
   ]
  },
  {
   "cell_type": "code",
   "execution_count": 121,
   "id": "135c0f73-6ed9-44cf-8985-2f0850e853b0",
   "metadata": {
    "ExecuteTime": {
     "end_time": "2023-01-27T12:28:06.560000+09:00",
     "start_time": "2023-01-27T03:27:53.349Z"
    }
   },
   "outputs": [
    {
     "data": {
      "text/plain": [
       "2×2 adjoint(::Matrix{Complex{Int64}}) with eltype Complex{Int64}:\n",
       "  1-1im   1+1im\n",
       " -1-1im  -1+1im"
      ]
     },
     "execution_count": 121,
     "metadata": {},
     "output_type": "execute_result"
    }
   ],
   "source": [
    "C'  # `adjoint(C)` としても同じ"
   ]
  },
  {
   "cell_type": "code",
   "execution_count": 122,
   "id": "deeb5336-2d01-4ddf-9e86-dc942b8e5974",
   "metadata": {
    "ExecuteTime": {
     "end_time": "2023-01-27T12:28:06.847000+09:00",
     "start_time": "2023-01-27T03:27:53.354Z"
    }
   },
   "outputs": [
    {
     "data": {
      "text/plain": [
       "1×2 transpose(::Vector{Int64}) with eltype Int64:\n",
       " -1  1"
      ]
     },
     "execution_count": 122,
     "metadata": {},
     "output_type": "execute_result"
    }
   ],
   "source": [
    "transpose(x)"
   ]
  },
  {
   "cell_type": "code",
   "execution_count": 123,
   "id": "d9345861-2a4b-476e-9e76-71d3f4ee2dc1",
   "metadata": {
    "ExecuteTime": {
     "end_time": "2023-01-27T12:28:07.133000+09:00",
     "start_time": "2023-01-27T03:27:53.360Z"
    }
   },
   "outputs": [
    {
     "data": {
      "text/plain": [
       "1×2 adjoint(::Vector{Int64}) with eltype Int64:\n",
       " -1  1"
      ]
     },
     "execution_count": 123,
     "metadata": {},
     "output_type": "execute_result"
    }
   ],
   "source": [
    "x'  # `adjoint(x)` としても同じ"
   ]
  },
  {
   "cell_type": "code",
   "execution_count": 124,
   "id": "d03b9898-949a-45f5-a263-52de99bbf839",
   "metadata": {
    "ExecuteTime": {
     "end_time": "2023-01-27T12:28:07.141000+09:00",
     "start_time": "2023-01-27T03:27:53.365Z"
    }
   },
   "outputs": [
    {
     "data": {
      "text/plain": [
       "1×2 adjoint(::Vector{Int64}) with eltype Int64:\n",
       " 2  2"
      ]
     },
     "execution_count": 124,
     "metadata": {},
     "output_type": "execute_result"
    }
   ],
   "source": [
    "x'A  # x' * A と同じ"
   ]
  },
  {
   "cell_type": "code",
   "execution_count": 125,
   "id": "0bf80da8-51a7-4530-b1db-3f1385aac79d",
   "metadata": {
    "ExecuteTime": {
     "end_time": "2023-01-27T12:28:07.157000+09:00",
     "start_time": "2023-01-27T03:27:53.371Z"
    }
   },
   "outputs": [
    {
     "data": {
      "text/plain": [
       "2"
      ]
     },
     "execution_count": 125,
     "metadata": {},
     "output_type": "execute_result"
    }
   ],
   "source": [
    "x'x  # x' * x と同じ"
   ]
  },
  {
   "cell_type": "markdown",
   "id": "48145c60-0682-4c36-aa95-93cccfeb3f64",
   "metadata": {},
   "source": [
    "#### 配列関連関数・演算子(4) デック（両端キュー）"
   ]
  },
  {
   "cell_type": "markdown",
   "id": "55d7374f-487e-40ae-ad6b-fc595ccb6d6a",
   "metadata": {},
   "source": [
    "##### コード3-24. デック(1)：先頭/末尾への追加/取り出しの例"
   ]
  },
  {
   "cell_type": "code",
   "execution_count": 126,
   "id": "89b4527a-3efc-4d89-9881-d1ca92e6cd52",
   "metadata": {
    "ExecuteTime": {
     "end_time": "2023-01-27T12:28:07.158000+09:00",
     "start_time": "2023-01-27T03:27:53.378Z"
    }
   },
   "outputs": [],
   "source": [
    "q = [1, 2, 3, 4, 5];"
   ]
  },
  {
   "cell_type": "code",
   "execution_count": 127,
   "id": "8b1631fe-a4c3-40d7-ae83-075480b6d116",
   "metadata": {
    "ExecuteTime": {
     "end_time": "2023-01-27T12:28:07.174000+09:00",
     "start_time": "2023-01-27T03:27:53.385Z"
    }
   },
   "outputs": [
    {
     "data": {
      "text/plain": [
       "8-element Vector{Int64}:\n",
       "  1\n",
       "  2\n",
       "  3\n",
       "  4\n",
       "  5\n",
       " 11\n",
       " 12\n",
       " 13"
      ]
     },
     "execution_count": 127,
     "metadata": {},
     "output_type": "execute_result"
    }
   ],
   "source": [
    "push!(q, 11, 12, 13)"
   ]
  },
  {
   "cell_type": "code",
   "execution_count": 128,
   "id": "5e7db85c-8c85-4e55-b1ae-44278345138c",
   "metadata": {
    "ExecuteTime": {
     "end_time": "2023-01-27T12:28:07.178000+09:00",
     "start_time": "2023-01-27T03:27:53.391Z"
    }
   },
   "outputs": [
    {
     "data": {
      "text/plain": [
       "13"
      ]
     },
     "execution_count": 128,
     "metadata": {},
     "output_type": "execute_result"
    }
   ],
   "source": [
    "pop!(q)"
   ]
  },
  {
   "cell_type": "code",
   "execution_count": 129,
   "id": "a9b6a1df-7ba2-480b-96e3-69171f051772",
   "metadata": {
    "ExecuteTime": {
     "end_time": "2023-01-27T12:28:07.178000+09:00",
     "start_time": "2023-01-27T03:27:53.398Z"
    }
   },
   "outputs": [
    {
     "data": {
      "text/plain": [
       "12"
      ]
     },
     "execution_count": 129,
     "metadata": {},
     "output_type": "execute_result"
    }
   ],
   "source": [
    "pop!(q)"
   ]
  },
  {
   "cell_type": "code",
   "execution_count": 130,
   "id": "0b9d03dd-ed63-4692-b2a3-9b6adab3dca5",
   "metadata": {
    "ExecuteTime": {
     "end_time": "2023-01-27T12:28:07.179000+09:00",
     "start_time": "2023-01-27T03:27:53.404Z"
    }
   },
   "outputs": [
    {
     "data": {
      "text/plain": [
       "11"
      ]
     },
     "execution_count": 130,
     "metadata": {},
     "output_type": "execute_result"
    }
   ],
   "source": [
    "pop!(q)"
   ]
  },
  {
   "cell_type": "code",
   "execution_count": 131,
   "id": "81656479-945b-432f-b650-eed61249e8a4",
   "metadata": {
    "ExecuteTime": {
     "end_time": "2023-01-27T12:28:07.180000+09:00",
     "start_time": "2023-01-27T03:27:53.411Z"
    }
   },
   "outputs": [
    {
     "data": {
      "text/plain": [
       "5-element Vector{Int64}:\n",
       " 1\n",
       " 2\n",
       " 3\n",
       " 4\n",
       " 5"
      ]
     },
     "execution_count": 131,
     "metadata": {},
     "output_type": "execute_result"
    }
   ],
   "source": [
    "q"
   ]
  },
  {
   "cell_type": "code",
   "execution_count": 132,
   "id": "f2dd530c-3c0b-4011-ad5a-0064cfd1a7fa",
   "metadata": {
    "ExecuteTime": {
     "end_time": "2023-01-27T12:28:07.186000+09:00",
     "start_time": "2023-01-27T03:27:53.418Z"
    }
   },
   "outputs": [
    {
     "data": {
      "text/plain": [
       "7-element Vector{Int64}:\n",
       " -2\n",
       " -1\n",
       "  1\n",
       "  2\n",
       "  3\n",
       "  4\n",
       "  5"
      ]
     },
     "execution_count": 132,
     "metadata": {},
     "output_type": "execute_result"
    }
   ],
   "source": [
    "pushfirst!(q, -2, -1)"
   ]
  },
  {
   "cell_type": "code",
   "execution_count": 133,
   "id": "6d7bc631-6ab8-4cd8-a1de-1a2257388cec",
   "metadata": {
    "ExecuteTime": {
     "end_time": "2023-01-27T12:28:07.190000+09:00",
     "start_time": "2023-01-27T03:27:53.424Z"
    }
   },
   "outputs": [
    {
     "data": {
      "text/plain": [
       "-2"
      ]
     },
     "execution_count": 133,
     "metadata": {},
     "output_type": "execute_result"
    }
   ],
   "source": [
    "popfirst!(q)"
   ]
  },
  {
   "cell_type": "code",
   "execution_count": 134,
   "id": "f5fecf47-6547-4de3-af26-83ac95a98ac0",
   "metadata": {
    "ExecuteTime": {
     "end_time": "2023-01-27T12:28:07.191000+09:00",
     "start_time": "2023-01-27T03:27:53.430Z"
    }
   },
   "outputs": [
    {
     "data": {
      "text/plain": [
       "-1"
      ]
     },
     "execution_count": 134,
     "metadata": {},
     "output_type": "execute_result"
    }
   ],
   "source": [
    "popfirst!(q)"
   ]
  },
  {
   "cell_type": "code",
   "execution_count": 135,
   "id": "b12c629a-ea7c-4fbb-97c7-c2816e2b909e",
   "metadata": {
    "ExecuteTime": {
     "end_time": "2023-01-27T12:28:07.215000+09:00",
     "start_time": "2023-01-27T03:27:53.436Z"
    }
   },
   "outputs": [
    {
     "data": {
      "text/plain": [
       "12-element Vector{Int64}:\n",
       " -2\n",
       " -1\n",
       "  0\n",
       "  1\n",
       "  2\n",
       "  3\n",
       "  4\n",
       "  5\n",
       "  6\n",
       "  7\n",
       "  8\n",
       "  9"
      ]
     },
     "execution_count": 135,
     "metadata": {},
     "output_type": "execute_result"
    }
   ],
   "source": [
    "prepend!(append!(q, 6:9), -2:0)"
   ]
  },
  {
   "cell_type": "markdown",
   "id": "cd1ae266-911b-45a4-b131-731ffc5e6aa5",
   "metadata": {},
   "source": [
    "##### コード3-25. デック(2)：任意の位置への追加/取り出し/削除の例"
   ]
  },
  {
   "cell_type": "code",
   "execution_count": 136,
   "id": "7f0c4696-09a7-4cc2-a735-9efea34e9e02",
   "metadata": {
    "ExecuteTime": {
     "end_time": "2023-01-27T12:28:07.215000+09:00",
     "start_time": "2023-01-27T03:27:53.444Z"
    }
   },
   "outputs": [],
   "source": [
    "q = [10, 20, 30, 40, 50];"
   ]
  },
  {
   "cell_type": "code",
   "execution_count": 137,
   "id": "910e4ec2-d9f2-45f9-a5fe-45b5494a9491",
   "metadata": {
    "ExecuteTime": {
     "end_time": "2023-01-27T12:28:07.219000+09:00",
     "start_time": "2023-01-27T03:27:53.449Z"
    }
   },
   "outputs": [
    {
     "data": {
      "text/plain": [
       "6-element Vector{Int64}:\n",
       " 10\n",
       " 20\n",
       " 30\n",
       " 35\n",
       " 40\n",
       " 50"
      ]
     },
     "execution_count": 137,
     "metadata": {},
     "output_type": "execute_result"
    }
   ],
   "source": [
    "insert!(q, 4, 35)"
   ]
  },
  {
   "cell_type": "code",
   "execution_count": 138,
   "id": "f51c347a-5340-4632-bba7-dd9bfcfe7c6b",
   "metadata": {
    "ExecuteTime": {
     "end_time": "2023-01-27T12:28:07.223000+09:00",
     "start_time": "2023-01-27T03:27:53.454Z"
    }
   },
   "outputs": [
    {
     "data": {
      "text/plain": [
       "35"
      ]
     },
     "execution_count": 138,
     "metadata": {},
     "output_type": "execute_result"
    }
   ],
   "source": [
    "popat!(q, 4)"
   ]
  },
  {
   "cell_type": "code",
   "execution_count": 139,
   "id": "04363d15-6317-4fca-9c91-0ddfe0786c3e",
   "metadata": {
    "ExecuteTime": {
     "end_time": "2023-01-27T12:28:07.229000+09:00",
     "start_time": "2023-01-27T03:27:53.460Z"
    }
   },
   "outputs": [
    {
     "data": {
      "text/plain": [
       "3-element Vector{Int64}:\n",
       " 10\n",
       " 20\n",
       " 50"
      ]
     },
     "execution_count": 139,
     "metadata": {},
     "output_type": "execute_result"
    }
   ],
   "source": [
    "deleteat!(q, 3:4)"
   ]
  },
  {
   "cell_type": "code",
   "execution_count": 140,
   "id": "4fc56db2-3db9-4556-8970-27e7350a01f1",
   "metadata": {
    "ExecuteTime": {
     "end_time": "2023-01-27T12:28:07.331000+09:00",
     "start_time": "2023-01-27T03:27:53.465Z"
    },
    "scrolled": true,
    "tags": []
   },
   "outputs": [
    {
     "ename": "LoadError",
     "evalue": "BoundsError: attempt to access 3-element Vector{Int64} at index [4]",
     "output_type": "error",
     "traceback": [
      "BoundsError: attempt to access 3-element Vector{Int64} at index [4]",
      "",
      "Stacktrace:",
      " [1] getindex",
      "   @ ./array.jl:924 [inlined]",
      " [2] popat!(a::Vector{Int64}, i::Int64)",
      "   @ Base ./array.jl:1354",
      " [3] top-level scope",
      "   @ In[140]:1"
     ]
    }
   ],
   "source": [
    "popat!(q, 4)  # エラー"
   ]
  },
  {
   "cell_type": "code",
   "execution_count": 141,
   "id": "394e0cef-d4ef-4856-aa50-a47400140435",
   "metadata": {
    "ExecuteTime": {
     "end_time": "2023-01-27T12:28:07.335000+09:00",
     "start_time": "2023-01-27T03:27:53.472Z"
    }
   },
   "outputs": [
    {
     "data": {
      "text/plain": [
       "999"
      ]
     },
     "execution_count": 141,
     "metadata": {},
     "output_type": "execute_result"
    }
   ],
   "source": [
    "popat!(q, 4, 999)"
   ]
  },
  {
   "cell_type": "markdown",
   "id": "6722965d-d3df-40b5-9867-c84853a67d4c",
   "metadata": {},
   "source": [
    "#### 配列関連関数・演算子(5) 集計・畳み込み関連関数"
   ]
  },
  {
   "cell_type": "markdown",
   "id": "986c16ae-b5d0-46db-86fd-97f26b241014",
   "metadata": {},
   "source": [
    "##### コード3-26. 集計・畳み込み関連関数(1)：`sum()`、`prod()`、`maximum()`、`minimum()` の例"
   ]
  },
  {
   "cell_type": "code",
   "execution_count": 142,
   "id": "1bf3468f-2d37-42fa-8068-47738fe61647",
   "metadata": {
    "ExecuteTime": {
     "end_time": "2023-01-27T12:28:07.336000+09:00",
     "start_time": "2023-01-27T03:27:53.480Z"
    }
   },
   "outputs": [],
   "source": [
    "A = [1 2; 3 4];"
   ]
  },
  {
   "cell_type": "code",
   "execution_count": 143,
   "id": "c9650e03-edf0-49cb-b6ed-d4eb5d2d78f7",
   "metadata": {
    "ExecuteTime": {
     "end_time": "2023-01-27T12:28:07.357000+09:00",
     "start_time": "2023-01-27T03:27:53.485Z"
    }
   },
   "outputs": [
    {
     "data": {
      "text/plain": [
       "10"
      ]
     },
     "execution_count": 143,
     "metadata": {},
     "output_type": "execute_result"
    }
   ],
   "source": [
    "sum(A)"
   ]
  },
  {
   "cell_type": "code",
   "execution_count": 144,
   "id": "73f28e32-0e73-4b8e-9e80-4210b7635883",
   "metadata": {
    "ExecuteTime": {
     "end_time": "2023-01-27T12:28:07.453000+09:00",
     "start_time": "2023-01-27T03:27:53.490Z"
    }
   },
   "outputs": [
    {
     "data": {
      "text/plain": [
       "1×2 Matrix{Int64}:\n",
       " 4  6"
      ]
     },
     "execution_count": 144,
     "metadata": {},
     "output_type": "execute_result"
    }
   ],
   "source": [
    "sum(A, dims=1)"
   ]
  },
  {
   "cell_type": "code",
   "execution_count": 145,
   "id": "4023729b-9dd3-48a7-a1d7-97f75fd0baa1",
   "metadata": {
    "ExecuteTime": {
     "end_time": "2023-01-27T12:28:07.454000+09:00",
     "start_time": "2023-01-27T03:27:53.496Z"
    }
   },
   "outputs": [
    {
     "data": {
      "text/plain": [
       "2×1 Matrix{Int64}:\n",
       " 3\n",
       " 7"
      ]
     },
     "execution_count": 145,
     "metadata": {},
     "output_type": "execute_result"
    }
   ],
   "source": [
    "sum(A, dims=2)"
   ]
  },
  {
   "cell_type": "code",
   "execution_count": 146,
   "id": "8e68710b-89db-4609-b204-7d5e7dc921e0",
   "metadata": {
    "ExecuteTime": {
     "end_time": "2023-01-27T12:28:07.478000+09:00",
     "start_time": "2023-01-27T03:27:53.501Z"
    }
   },
   "outputs": [
    {
     "data": {
      "text/plain": [
       "24"
      ]
     },
     "execution_count": 146,
     "metadata": {},
     "output_type": "execute_result"
    }
   ],
   "source": [
    "prod(A)"
   ]
  },
  {
   "cell_type": "code",
   "execution_count": 147,
   "id": "12d81020-0e2c-4338-a733-ddda2926a092",
   "metadata": {
    "ExecuteTime": {
     "end_time": "2023-01-27T12:28:07.531000+09:00",
     "start_time": "2023-01-27T03:27:53.506Z"
    }
   },
   "outputs": [
    {
     "data": {
      "text/plain": [
       "1×2 Matrix{Int64}:\n",
       " 3  8"
      ]
     },
     "execution_count": 147,
     "metadata": {},
     "output_type": "execute_result"
    }
   ],
   "source": [
    "prod(A, dims=1)"
   ]
  },
  {
   "cell_type": "code",
   "execution_count": 148,
   "id": "d5d42638-6dbb-405a-95d7-75184bc0254d",
   "metadata": {
    "ExecuteTime": {
     "end_time": "2023-01-27T12:28:07.532000+09:00",
     "start_time": "2023-01-27T03:27:53.513Z"
    }
   },
   "outputs": [
    {
     "data": {
      "text/plain": [
       "2×1 Matrix{Int64}:\n",
       "  2\n",
       " 12"
      ]
     },
     "execution_count": 148,
     "metadata": {},
     "output_type": "execute_result"
    }
   ],
   "source": [
    "prod(A, dims=2)"
   ]
  },
  {
   "cell_type": "code",
   "execution_count": 149,
   "id": "3929f70e-e68b-4fb5-8759-0dc973f9eb18",
   "metadata": {
    "ExecuteTime": {
     "end_time": "2023-01-27T12:28:07.561000+09:00",
     "start_time": "2023-01-27T03:27:53.524Z"
    }
   },
   "outputs": [
    {
     "data": {
      "text/plain": [
       "4"
      ]
     },
     "execution_count": 149,
     "metadata": {},
     "output_type": "execute_result"
    }
   ],
   "source": [
    "maximum(A)"
   ]
  },
  {
   "cell_type": "code",
   "execution_count": 150,
   "id": "ddc09af7-16fc-4815-9b4e-7cc74ef63ce9",
   "metadata": {
    "ExecuteTime": {
     "end_time": "2023-01-27T12:28:07.706000+09:00",
     "start_time": "2023-01-27T03:27:53.529Z"
    }
   },
   "outputs": [
    {
     "data": {
      "text/plain": [
       "1×2 Matrix{Int64}:\n",
       " 3  4"
      ]
     },
     "execution_count": 150,
     "metadata": {},
     "output_type": "execute_result"
    }
   ],
   "source": [
    "maximum(A, dims=1)"
   ]
  },
  {
   "cell_type": "code",
   "execution_count": 151,
   "id": "ded8310d-b6f1-4562-9348-3758a0bc6e36",
   "metadata": {
    "ExecuteTime": {
     "end_time": "2023-01-27T12:28:07.707000+09:00",
     "start_time": "2023-01-27T03:27:53.536Z"
    }
   },
   "outputs": [
    {
     "data": {
      "text/plain": [
       "2×1 Matrix{Int64}:\n",
       " 2\n",
       " 4"
      ]
     },
     "execution_count": 151,
     "metadata": {},
     "output_type": "execute_result"
    }
   ],
   "source": [
    "maximum(A, dims=2)"
   ]
  },
  {
   "cell_type": "code",
   "execution_count": 152,
   "id": "04b8743e-9cd2-44ef-91d8-ac9602c31e13",
   "metadata": {
    "ExecuteTime": {
     "end_time": "2023-01-27T12:28:07.737000+09:00",
     "start_time": "2023-01-27T03:27:53.545Z"
    }
   },
   "outputs": [
    {
     "data": {
      "text/plain": [
       "1"
      ]
     },
     "execution_count": 152,
     "metadata": {},
     "output_type": "execute_result"
    }
   ],
   "source": [
    "minimum(A)"
   ]
  },
  {
   "cell_type": "code",
   "execution_count": 153,
   "id": "7dfe79b9-a915-4b3c-9a45-f15a609540b3",
   "metadata": {
    "ExecuteTime": {
     "end_time": "2023-01-27T12:28:07.816000+09:00",
     "start_time": "2023-01-27T03:27:53.551Z"
    }
   },
   "outputs": [
    {
     "data": {
      "text/plain": [
       "1×2 Matrix{Int64}:\n",
       " 1  2"
      ]
     },
     "execution_count": 153,
     "metadata": {},
     "output_type": "execute_result"
    }
   ],
   "source": [
    "minimum(A, dims=1)"
   ]
  },
  {
   "cell_type": "code",
   "execution_count": 154,
   "id": "7e0a5ed8-c975-44ed-afda-6871b4422f5f",
   "metadata": {
    "ExecuteTime": {
     "end_time": "2023-01-27T12:28:07.817000+09:00",
     "start_time": "2023-01-27T03:27:53.557Z"
    }
   },
   "outputs": [
    {
     "data": {
      "text/plain": [
       "2×1 Matrix{Int64}:\n",
       " 1\n",
       " 3"
      ]
     },
     "execution_count": 154,
     "metadata": {},
     "output_type": "execute_result"
    }
   ],
   "source": [
    "minimum(A, dims=2)"
   ]
  },
  {
   "cell_type": "code",
   "execution_count": 155,
   "id": "45d9fe8f-7563-4361-9776-c20222ab8337",
   "metadata": {
    "ExecuteTime": {
     "end_time": "2023-01-27T12:28:07.841000+09:00",
     "start_time": "2023-01-27T03:27:53.562Z"
    }
   },
   "outputs": [],
   "source": [
    "M = [100z + 10y + x for x=1:2, y=1:2, z=1:2];"
   ]
  },
  {
   "cell_type": "code",
   "execution_count": 156,
   "id": "cff7248c-e5c0-4af8-a8dc-1263e7f78e89",
   "metadata": {
    "ExecuteTime": {
     "end_time": "2023-01-27T12:28:08.238000+09:00",
     "start_time": "2023-01-27T03:27:53.568Z"
    }
   },
   "outputs": [
    {
     "data": {
      "text/plain": [
       "1×2×1 Array{Int64, 3}:\n",
       "[:, :, 1] =\n",
       " 646  686"
      ]
     },
     "execution_count": 156,
     "metadata": {},
     "output_type": "execute_result"
    }
   ],
   "source": [
    "sum(M, dims=(1, 3))"
   ]
  },
  {
   "cell_type": "markdown",
   "id": "09093eaf-31a5-4519-92b7-2905ecbfc225",
   "metadata": {},
   "source": [
    "##### コード3-27. 集計・畳み込み関連関数の例(2)"
   ]
  },
  {
   "cell_type": "code",
   "execution_count": 157,
   "id": "d8a9b25e-a92c-4716-be41-813eccd88ae9",
   "metadata": {
    "ExecuteTime": {
     "end_time": "2023-01-27T12:28:08.238000+09:00",
     "start_time": "2023-01-27T03:27:53.576Z"
    }
   },
   "outputs": [],
   "source": [
    "A = [1 2; 3 4];"
   ]
  },
  {
   "cell_type": "code",
   "execution_count": 158,
   "id": "9c72ad9d-d270-423d-a1e9-c80841629f15",
   "metadata": {
    "ExecuteTime": {
     "end_time": "2023-01-27T12:28:08.331000+09:00",
     "start_time": "2023-01-27T03:27:53.582Z"
    }
   },
   "outputs": [
    {
     "data": {
      "text/plain": [
       "1×2 Matrix{Int64}:\n",
       " 4  6"
      ]
     },
     "execution_count": 158,
     "metadata": {},
     "output_type": "execute_result"
    }
   ],
   "source": [
    "reduce(+, A, dims=1)  # `== sum(A, dims=1)`"
   ]
  },
  {
   "cell_type": "code",
   "execution_count": 159,
   "id": "6ad895bf-941b-4a79-8198-66bad5f7a37e",
   "metadata": {
    "ExecuteTime": {
     "end_time": "2023-01-27T12:28:08.387000+09:00",
     "start_time": "2023-01-27T03:27:53.587Z"
    }
   },
   "outputs": [
    {
     "data": {
      "text/plain": [
       "2×1 Matrix{Int64}:\n",
       " -3\n",
       " -7"
      ]
     },
     "execution_count": 159,
     "metadata": {},
     "output_type": "execute_result"
    }
   ],
   "source": [
    "reduce(-, A, dims=2, init=0)  # `reduce(-, A, dims=2)` だとエラーになる"
   ]
  },
  {
   "cell_type": "code",
   "execution_count": 160,
   "id": "73b37ddd-32ef-4e83-9d1a-58f82a591327",
   "metadata": {
    "ExecuteTime": {
     "end_time": "2023-01-27T12:28:08.388000+09:00",
     "start_time": "2023-01-27T03:27:53.600Z"
    }
   },
   "outputs": [],
   "source": [
    "x = [1, 2, 3, 4];"
   ]
  },
  {
   "cell_type": "code",
   "execution_count": 161,
   "id": "431ea9a8-d49a-430b-875c-d198eff3e416",
   "metadata": {
    "ExecuteTime": {
     "end_time": "2023-01-27T12:28:08.424000+09:00",
     "start_time": "2023-01-27T03:27:53.627Z"
    }
   },
   "outputs": [
    {
     "data": {
      "text/plain": [
       "-8"
      ]
     },
     "execution_count": 161,
     "metadata": {},
     "output_type": "execute_result"
    }
   ],
   "source": [
    "reduce(-, x)  # エラーにはならないが結果が保証されているわけでもない"
   ]
  },
  {
   "cell_type": "code",
   "execution_count": 162,
   "id": "b377d771-d93e-45be-9bf9-6451db801a48",
   "metadata": {
    "ExecuteTime": {
     "end_time": "2023-01-27T12:28:08.443000+09:00",
     "start_time": "2023-01-27T03:27:53.638Z"
    }
   },
   "outputs": [
    {
     "data": {
      "text/plain": [
       "-8"
      ]
     },
     "execution_count": 162,
     "metadata": {},
     "output_type": "execute_result"
    }
   ],
   "source": [
    "foldl(-, x)  # `== (((1 - 2) - 3) - 4)`"
   ]
  },
  {
   "cell_type": "code",
   "execution_count": 163,
   "id": "dee1792e-0020-476a-aba7-5f26af34668f",
   "metadata": {
    "ExecuteTime": {
     "end_time": "2023-01-27T12:28:08.483000+09:00",
     "start_time": "2023-01-27T03:27:53.646Z"
    }
   },
   "outputs": [
    {
     "data": {
      "text/plain": [
       "-2"
      ]
     },
     "execution_count": 163,
     "metadata": {},
     "output_type": "execute_result"
    }
   ],
   "source": [
    "foldr(-, x)  # `== (1 - (2 - (3 - 4)))`"
   ]
  },
  {
   "cell_type": "code",
   "execution_count": 164,
   "id": "c5f62c95-a4fa-4174-846a-1bc2537a961b",
   "metadata": {
    "ExecuteTime": {
     "end_time": "2023-01-27T12:28:08.583000+09:00",
     "start_time": "2023-01-27T03:27:53.657Z"
    }
   },
   "outputs": [
    {
     "data": {
      "text/plain": [
       "1.4142135623730951"
      ]
     },
     "execution_count": 164,
     "metadata": {},
     "output_type": "execute_result"
    }
   ],
   "source": [
    "foldr((n, x) -> n + inv(x), [1;fill(2,100)])  # √2 の近似値"
   ]
  },
  {
   "cell_type": "markdown",
   "id": "b5a8e3c2-3f0d-4094-9e05-83076723ffd1",
   "metadata": {},
   "source": [
    "##### コード3-28. 集計・畳み込み関連関数(3)：`mapslices()` の例"
   ]
  },
  {
   "cell_type": "code",
   "execution_count": 165,
   "id": "1599b552-6fe6-4393-95c4-09c97297e16b",
   "metadata": {
    "ExecuteTime": {
     "end_time": "2023-01-27T12:28:08.583000+09:00",
     "start_time": "2023-01-27T03:27:53.667Z"
    }
   },
   "outputs": [],
   "source": [
    "A = [1 2; 3 4];"
   ]
  },
  {
   "cell_type": "code",
   "execution_count": 166,
   "id": "43a4d04a-3b7e-44b5-81dd-c4d79f7ad785",
   "metadata": {
    "ExecuteTime": {
     "end_time": "2023-01-27T12:28:08.754000+09:00",
     "start_time": "2023-01-27T03:27:53.678Z"
    }
   },
   "outputs": [
    {
     "data": {
      "text/plain": [
       "norm2 (generic function with 1 method)"
      ]
     },
     "execution_count": 166,
     "metadata": {},
     "output_type": "execute_result"
    }
   ],
   "source": [
    "norm2(v) = √(v'v)"
   ]
  },
  {
   "cell_type": "code",
   "execution_count": 167,
   "id": "750e1986-f567-457e-b876-32a0a20e8837",
   "metadata": {
    "ExecuteTime": {
     "end_time": "2023-01-27T12:28:09.271000+09:00",
     "start_time": "2023-01-27T03:27:53.691Z"
    }
   },
   "outputs": [
    {
     "data": {
      "text/plain": [
       "1×2 Matrix{Float64}:\n",
       " 3.16228  4.47214"
      ]
     },
     "execution_count": 167,
     "metadata": {},
     "output_type": "execute_result"
    }
   ],
   "source": [
    "mapslices(norm2, A, dims=1)"
   ]
  },
  {
   "cell_type": "code",
   "execution_count": 168,
   "id": "8fe2c23b-7f81-479b-8f4a-d16f9bd2c641",
   "metadata": {
    "ExecuteTime": {
     "end_time": "2023-01-27T12:28:09.342000+09:00",
     "start_time": "2023-01-27T03:27:53.700Z"
    }
   },
   "outputs": [
    {
     "data": {
      "text/plain": [
       "2×1 Matrix{Float64}:\n",
       " 2.23606797749979\n",
       " 5.0"
      ]
     },
     "execution_count": 168,
     "metadata": {},
     "output_type": "execute_result"
    }
   ],
   "source": [
    "mapslices(norm2, A, dims=2)"
   ]
  },
  {
   "cell_type": "code",
   "execution_count": 169,
   "id": "0e37300a-2388-459e-86ff-e842965473ea",
   "metadata": {
    "ExecuteTime": {
     "end_time": "2023-01-27T12:28:09.367000+09:00",
     "start_time": "2023-01-27T03:27:53.709Z"
    }
   },
   "outputs": [
    {
     "data": {
      "text/plain": [
       "1×3 Matrix{Float64}:\n",
       " 8.12404  9.64365  11.225"
      ]
     },
     "execution_count": 169,
     "metadata": {},
     "output_type": "execute_result"
    }
   ],
   "source": [
    "mapslices(norm2, [1 2 3; 4 5 6; 7 8 9], dims=1)"
   ]
  },
  {
   "cell_type": "markdown",
   "id": "72d16ec2-75c2-4da2-bb65-fcb89582d8f7",
   "metadata": {},
   "source": [
    "#### 配列関連関数・演算子(6) 検索・置換関連関数"
   ]
  },
  {
   "cell_type": "markdown",
   "id": "d0b0082d-042a-41f7-82d4-2c2a30d7f484",
   "metadata": {},
   "source": [
    "##### コード3-29. `findxxxx()` 系の関数の例(3)：配列への適用"
   ]
  },
  {
   "cell_type": "code",
   "execution_count": 170,
   "id": "e7513b4c-2cf0-43a8-bdd0-4683c5582ea1",
   "metadata": {
    "ExecuteTime": {
     "end_time": "2023-01-27T12:28:09.466000+09:00",
     "start_time": "2023-01-27T03:27:53.720Z"
    }
   },
   "outputs": [
    {
     "data": {
      "text/plain": [
       "10-element Vector{Float64}:\n",
       " 0.46977390476737824\n",
       " 0.5823284907214202\n",
       " 0.1680122529642395\n",
       " 0.8763819348041276\n",
       " 0.20764740625792855\n",
       " 0.8865713995475546\n",
       " 0.6212554970628538\n",
       " 0.36252932924184234\n",
       " 0.5982545958109509\n",
       " 0.44096147164120747"
      ]
     },
     "execution_count": 170,
     "metadata": {},
     "output_type": "execute_result"
    }
   ],
   "source": [
    "x = rand(10)  # 実行する度に結果は変わる"
   ]
  },
  {
   "cell_type": "code",
   "execution_count": 171,
   "id": "17f55b96-d4e0-4976-b192-db8bc20de8c3",
   "metadata": {
    "ExecuteTime": {
     "end_time": "2023-01-27T12:28:09.528000+09:00",
     "start_time": "2023-01-27T03:27:53.728Z"
    }
   },
   "outputs": [
    {
     "data": {
      "text/plain": [
       "8-element Vector{Int64}:\n",
       "  1\n",
       "  2\n",
       "  4\n",
       "  6\n",
       "  7\n",
       "  8\n",
       "  9\n",
       " 10"
      ]
     },
     "execution_count": 171,
     "metadata": {},
     "output_type": "execute_result"
    }
   ],
   "source": [
    "findall(>(0.3), x)"
   ]
  },
  {
   "cell_type": "code",
   "execution_count": 172,
   "id": "f17aafcb-ccc5-4de7-81e4-9a117193ad32",
   "metadata": {
    "ExecuteTime": {
     "end_time": "2023-01-27T12:28:09.542000+09:00",
     "start_time": "2023-01-27T03:27:53.736Z"
    }
   },
   "outputs": [
    {
     "data": {
      "text/plain": [
       "1"
      ]
     },
     "execution_count": 172,
     "metadata": {},
     "output_type": "execute_result"
    }
   ],
   "source": [
    "findfirst(<(0.7), x)"
   ]
  },
  {
   "cell_type": "code",
   "execution_count": 173,
   "id": "de387f87-902c-45fb-8870-1ab0bfa896b7",
   "metadata": {
    "ExecuteTime": {
     "end_time": "2023-01-27T12:28:09.551000+09:00",
     "start_time": "2023-01-27T03:27:53.746Z"
    }
   },
   "outputs": [
    {
     "data": {
      "text/plain": [
       "6"
      ]
     },
     "execution_count": 173,
     "metadata": {},
     "output_type": "execute_result"
    }
   ],
   "source": [
    "findnext(x, 5) do v\n",
    "    v ≤ 0.2 || v ≥ 0.8\n",
    "end"
   ]
  },
  {
   "cell_type": "code",
   "execution_count": 174,
   "id": "9697ab6f-258e-4186-ab9c-d9d0829e7286",
   "metadata": {
    "ExecuteTime": {
     "end_time": "2023-01-27T12:28:09.572000+09:00",
     "start_time": "2023-01-27T03:27:53.753Z"
    }
   },
   "outputs": [],
   "source": [
    "b = BitVector([0, 0, 1, 0, 1]);"
   ]
  },
  {
   "cell_type": "code",
   "execution_count": 175,
   "id": "a4fdca99-b491-4b17-acf9-1e3b3d5c164b",
   "metadata": {
    "ExecuteTime": {
     "end_time": "2023-01-27T12:28:09.573000+09:00",
     "start_time": "2023-01-27T03:27:53.762Z"
    }
   },
   "outputs": [
    {
     "data": {
      "text/plain": [
       "2-element Vector{Int64}:\n",
       " 3\n",
       " 5"
      ]
     },
     "execution_count": 175,
     "metadata": {},
     "output_type": "execute_result"
    }
   ],
   "source": [
    "findall(b)"
   ]
  },
  {
   "cell_type": "code",
   "execution_count": 176,
   "id": "f0b40ead-a6e5-4fb3-a130-e825e6ec6b3e",
   "metadata": {
    "ExecuteTime": {
     "end_time": "2023-01-27T12:28:09.579000+09:00",
     "start_time": "2023-01-27T03:27:53.769Z"
    }
   },
   "outputs": [
    {
     "data": {
      "text/plain": [
       "5"
      ]
     },
     "execution_count": 176,
     "metadata": {},
     "output_type": "execute_result"
    }
   ],
   "source": [
    "findlast(b)"
   ]
  },
  {
   "cell_type": "code",
   "execution_count": 177,
   "id": "d42b9457-6cfe-42e6-acdc-e6a2d687544a",
   "metadata": {
    "ExecuteTime": {
     "end_time": "2023-01-27T12:28:09.584000+09:00",
     "start_time": "2023-01-27T03:27:53.781Z"
    }
   },
   "outputs": [
    {
     "data": {
      "text/plain": [
       "3"
      ]
     },
     "execution_count": 177,
     "metadata": {},
     "output_type": "execute_result"
    }
   ],
   "source": [
    "findprev(b, 4)"
   ]
  },
  {
   "cell_type": "code",
   "execution_count": 178,
   "id": "c2edab1d-7fa4-436d-8f86-65c077972f5f",
   "metadata": {
    "ExecuteTime": {
     "end_time": "2023-01-27T12:28:09.584000+09:00",
     "start_time": "2023-01-27T03:27:53.791Z"
    }
   },
   "outputs": [],
   "source": [
    "M = [3 1 4; 5 9 2];"
   ]
  },
  {
   "cell_type": "code",
   "execution_count": 179,
   "id": "cd391b74-335a-4ff7-a8b5-1a466f422384",
   "metadata": {
    "ExecuteTime": {
     "end_time": "2023-01-27T12:28:10.179000+09:00",
     "start_time": "2023-01-27T03:27:53.799Z"
    }
   },
   "outputs": [
    {
     "data": {
      "text/plain": [
       "4-element Vector{CartesianIndex{2}}:\n",
       " CartesianIndex(1, 1)\n",
       " CartesianIndex(2, 1)\n",
       " CartesianIndex(1, 2)\n",
       " CartesianIndex(2, 2)"
      ]
     },
     "execution_count": 179,
     "metadata": {},
     "output_type": "execute_result"
    }
   ],
   "source": [
    "findall(isodd, M)"
   ]
  },
  {
   "cell_type": "markdown",
   "id": "1bf0f985-f0b4-4254-89db-85e5fc0fc7de",
   "metadata": {
    "tags": []
   },
   "source": [
    "##### コード3-30. `argmax()`、`argmin()`、`findmax`、`findmin` の例(1)"
   ]
  },
  {
   "cell_type": "code",
   "execution_count": 180,
   "id": "6befaaf0-2e1a-43e0-9fa2-984a6ef243cc",
   "metadata": {
    "ExecuteTime": {
     "end_time": "2023-01-27T12:28:10.179000+09:00",
     "start_time": "2023-01-27T03:27:53.808Z"
    }
   },
   "outputs": [],
   "source": [
    "M = [3 1 4; 5 9 2];"
   ]
  },
  {
   "cell_type": "code",
   "execution_count": 181,
   "id": "3c183ea9-aebb-4d85-a3bb-ed2dad0f7b9e",
   "metadata": {
    "ExecuteTime": {
     "end_time": "2023-01-27T12:28:10.386000+09:00",
     "start_time": "2023-01-27T03:27:53.815Z"
    }
   },
   "outputs": [
    {
     "data": {
      "text/plain": [
       "CartesianIndex(2, 2)"
      ]
     },
     "execution_count": 181,
     "metadata": {},
     "output_type": "execute_result"
    }
   ],
   "source": [
    "argmax(M)"
   ]
  },
  {
   "cell_type": "code",
   "execution_count": 182,
   "id": "a1221752-0943-48ed-acf2-1999ab38542a",
   "metadata": {
    "ExecuteTime": {
     "end_time": "2023-01-27T12:28:10.407000+09:00",
     "start_time": "2023-01-27T03:27:53.822Z"
    }
   },
   "outputs": [
    {
     "data": {
      "text/plain": [
       "CartesianIndex(1, 2)"
      ]
     },
     "execution_count": 182,
     "metadata": {},
     "output_type": "execute_result"
    }
   ],
   "source": [
    "argmin(M)"
   ]
  },
  {
   "cell_type": "code",
   "execution_count": 183,
   "id": "f38ec057-c6bf-4344-a5b7-5f78066bc091",
   "metadata": {
    "ExecuteTime": {
     "end_time": "2023-01-27T12:28:10.657000+09:00",
     "start_time": "2023-01-27T03:27:53.845Z"
    }
   },
   "outputs": [
    {
     "data": {
      "text/plain": [
       "(9, CartesianIndex(2, 2))"
      ]
     },
     "execution_count": 183,
     "metadata": {},
     "output_type": "execute_result"
    }
   ],
   "source": [
    "findmax(M)"
   ]
  },
  {
   "cell_type": "code",
   "execution_count": 184,
   "id": "d0b7e7cd-dc04-4b21-8b93-ceb13d4d2dc7",
   "metadata": {
    "ExecuteTime": {
     "end_time": "2023-01-27T12:28:10.668000+09:00",
     "start_time": "2023-01-27T03:27:53.853Z"
    }
   },
   "outputs": [
    {
     "data": {
      "text/plain": [
       "(1, CartesianIndex(1, 2))"
      ]
     },
     "execution_count": 184,
     "metadata": {},
     "output_type": "execute_result"
    }
   ],
   "source": [
    "findmin(M)"
   ]
  },
  {
   "cell_type": "code",
   "execution_count": 185,
   "id": "c16fe827-fede-434c-983c-b67866b3ce87",
   "metadata": {
    "ExecuteTime": {
     "end_time": "2023-01-27T12:28:11.027000+09:00",
     "start_time": "2023-01-27T03:27:53.860Z"
    }
   },
   "outputs": [
    {
     "data": {
      "text/plain": [
       "1×3 Matrix{CartesianIndex{2}}:\n",
       " CartesianIndex(2, 1)  CartesianIndex(2, 2)  CartesianIndex(1, 3)"
      ]
     },
     "execution_count": 185,
     "metadata": {},
     "output_type": "execute_result"
    }
   ],
   "source": [
    "argmax(M, dims=1)"
   ]
  },
  {
   "cell_type": "code",
   "execution_count": 186,
   "id": "a5155a79-c2c5-4fa5-bb86-2648b2c0d051",
   "metadata": {
    "ExecuteTime": {
     "end_time": "2023-01-27T12:28:11.102000+09:00",
     "start_time": "2023-01-27T03:27:53.869Z"
    }
   },
   "outputs": [
    {
     "data": {
      "text/plain": [
       "2×1 Matrix{CartesianIndex{2}}:\n",
       " CartesianIndex(1, 2)\n",
       " CartesianIndex(2, 3)"
      ]
     },
     "execution_count": 186,
     "metadata": {},
     "output_type": "execute_result"
    }
   ],
   "source": [
    "argmin(M, dims=2)"
   ]
  },
  {
   "cell_type": "code",
   "execution_count": 187,
   "id": "5e805ceb-1c9d-4f30-8ec5-b30d1522bb15",
   "metadata": {
    "ExecuteTime": {
     "end_time": "2023-01-27T12:28:11.330000+09:00",
     "start_time": "2023-01-27T03:27:53.875Z"
    }
   },
   "outputs": [
    {
     "data": {
      "text/plain": [
       "([5 9 4], CartesianIndex{2}[CartesianIndex(2, 1) CartesianIndex(2, 2) CartesianIndex(1, 3)])"
      ]
     },
     "execution_count": 187,
     "metadata": {},
     "output_type": "execute_result"
    }
   ],
   "source": [
    "findmax(M, dims=1)"
   ]
  },
  {
   "cell_type": "code",
   "execution_count": 188,
   "id": "3fffcf93-d034-4e59-8e9e-825e6d7a5e7f",
   "metadata": {
    "ExecuteTime": {
     "end_time": "2023-01-27T12:28:11.334000+09:00",
     "start_time": "2023-01-27T03:27:53.880Z"
    }
   },
   "outputs": [
    {
     "data": {
      "text/plain": [
       "([1; 2;;], CartesianIndex{2}[CartesianIndex(1, 2); CartesianIndex(2, 3);;])"
      ]
     },
     "execution_count": 188,
     "metadata": {},
     "output_type": "execute_result"
    }
   ],
   "source": [
    "findmin(M, dims=2)"
   ]
  },
  {
   "cell_type": "markdown",
   "id": "de041a2a-5096-4b95-8d6d-897287da8662",
   "metadata": {},
   "source": [
    "#### 辞書関連関数"
   ]
  },
  {
   "cell_type": "markdown",
   "id": "d1de52a8-a0bb-4c10-a405-5e388400d902",
   "metadata": {},
   "source": [
    "##### コード3-31. 辞書関連関数(1)"
   ]
  },
  {
   "cell_type": "code",
   "execution_count": 189,
   "id": "53af2167-3921-41b7-b346-2a9f82e6950f",
   "metadata": {
    "ExecuteTime": {
     "end_time": "2023-01-27T12:28:12.699000+09:00",
     "start_time": "2023-01-27T03:27:53.888Z"
    }
   },
   "outputs": [
    {
     "data": {
      "text/plain": [
       "Dict{Symbol, Int64} with 3 entries:\n",
       "  :a => 1\n",
       "  :b => 2\n",
       "  :c => 3"
      ]
     },
     "execution_count": 189,
     "metadata": {},
     "output_type": "execute_result"
    }
   ],
   "source": [
    "D = Dict(:a=>1, :b=>2, :c=>3)"
   ]
  },
  {
   "cell_type": "code",
   "execution_count": 190,
   "id": "250ce5ff-292b-4504-9ed8-b5a23d40bf49",
   "metadata": {
    "ExecuteTime": {
     "end_time": "2023-01-27T12:28:12.708000+09:00",
     "start_time": "2023-01-27T03:27:53.892Z"
    }
   },
   "outputs": [
    {
     "data": {
      "text/plain": [
       "Symbol"
      ]
     },
     "execution_count": 190,
     "metadata": {},
     "output_type": "execute_result"
    }
   ],
   "source": [
    "keytype(D)"
   ]
  },
  {
   "cell_type": "code",
   "execution_count": 191,
   "id": "129d26a0-e32e-4c9e-a8e7-9de51110cd68",
   "metadata": {
    "ExecuteTime": {
     "end_time": "2023-01-27T12:28:12.719000+09:00",
     "start_time": "2023-01-27T03:27:53.898Z"
    }
   },
   "outputs": [
    {
     "data": {
      "text/plain": [
       "Int64"
      ]
     },
     "execution_count": 191,
     "metadata": {},
     "output_type": "execute_result"
    }
   ],
   "source": [
    "valtype(D)"
   ]
  },
  {
   "cell_type": "code",
   "execution_count": 192,
   "id": "fb26c1be-86bb-4040-8474-ddc418f7ea5f",
   "metadata": {
    "ExecuteTime": {
     "end_time": "2023-01-27T12:28:13.190000+09:00",
     "start_time": "2023-01-27T03:27:53.904Z"
    }
   },
   "outputs": [
    {
     "data": {
      "text/plain": [
       "KeySet for a Dict{Symbol, Int64} with 3 entries. Keys:\n",
       "  :a\n",
       "  :b\n",
       "  :c"
      ]
     },
     "execution_count": 192,
     "metadata": {},
     "output_type": "execute_result"
    }
   ],
   "source": [
    "keys(D)"
   ]
  },
  {
   "cell_type": "code",
   "execution_count": 193,
   "id": "fcf43408-6eef-4397-8551-bf5d47ea0a4c",
   "metadata": {
    "ExecuteTime": {
     "end_time": "2023-01-27T12:28:13.214000+09:00",
     "start_time": "2023-01-27T03:27:53.910Z"
    }
   },
   "outputs": [
    {
     "data": {
      "text/plain": [
       "3-element Vector{Int64}:\n",
       " 1\n",
       " 2\n",
       " 3"
      ]
     },
     "execution_count": 193,
     "metadata": {},
     "output_type": "execute_result"
    }
   ],
   "source": [
    "collect(values(D))"
   ]
  },
  {
   "cell_type": "code",
   "execution_count": 194,
   "id": "6d66d1ad-59eb-41a0-81c9-b44d182904b2",
   "metadata": {
    "ExecuteTime": {
     "end_time": "2023-01-27T12:28:13.214000+09:00",
     "start_time": "2023-01-27T03:27:53.918Z"
    }
   },
   "outputs": [
    {
     "data": {
      "text/plain": [
       "true"
      ]
     },
     "execution_count": 194,
     "metadata": {},
     "output_type": "execute_result"
    }
   ],
   "source": [
    "keytype(D) === eltype(keys(D))"
   ]
  },
  {
   "cell_type": "code",
   "execution_count": 195,
   "id": "c3c5013d-4731-4624-b547-13bbbe53a3be",
   "metadata": {
    "ExecuteTime": {
     "end_time": "2023-01-27T12:28:13.215000+09:00",
     "start_time": "2023-01-27T03:27:53.924Z"
    }
   },
   "outputs": [
    {
     "data": {
      "text/plain": [
       "true"
      ]
     },
     "execution_count": 195,
     "metadata": {},
     "output_type": "execute_result"
    }
   ],
   "source": [
    "valtype(D) === eltype(values(D))"
   ]
  },
  {
   "cell_type": "markdown",
   "id": "87d22ab1-0e70-4308-8007-a280f953545d",
   "metadata": {},
   "source": [
    "##### コード3-32. 辞書関連関数(2)：`haskey(D, k)`（`k ∈ keys(D)`）"
   ]
  },
  {
   "cell_type": "code",
   "execution_count": 196,
   "id": "e01ba348-6413-4091-827a-b939565ebcac",
   "metadata": {
    "ExecuteTime": {
     "end_time": "2023-01-27T12:28:13.216000+09:00",
     "start_time": "2023-01-27T03:27:53.930Z"
    }
   },
   "outputs": [],
   "source": [
    "D = Dict(:a=>1, :b=>2, :c=>3);"
   ]
  },
  {
   "cell_type": "code",
   "execution_count": 197,
   "id": "9cc22fda-b0ad-4653-b544-38770ee0db3a",
   "metadata": {
    "ExecuteTime": {
     "end_time": "2023-01-27T12:28:13.223000+09:00",
     "start_time": "2023-01-27T03:27:53.935Z"
    }
   },
   "outputs": [
    {
     "data": {
      "text/plain": [
       "true"
      ]
     },
     "execution_count": 197,
     "metadata": {},
     "output_type": "execute_result"
    }
   ],
   "source": [
    "haskey(D, :a)  # `:a ∈ keys(D)` と書いても同じ"
   ]
  },
  {
   "cell_type": "code",
   "execution_count": 198,
   "id": "ddcc81a9-20ca-4cdb-ba75-dfc499326107",
   "metadata": {
    "ExecuteTime": {
     "end_time": "2023-01-27T12:28:13.224000+09:00",
     "start_time": "2023-01-27T03:27:53.940Z"
    }
   },
   "outputs": [
    {
     "data": {
      "text/plain": [
       "false"
      ]
     },
     "execution_count": 198,
     "metadata": {},
     "output_type": "execute_result"
    }
   ],
   "source": [
    "haskey(D, :no)  # `:no ∈ keys(D)` と書いても同じ"
   ]
  },
  {
   "cell_type": "markdown",
   "id": "cce6f531-b282-4d6f-98d2-e58464266f84",
   "metadata": {},
   "source": [
    "##### コード3-33. 辞書関連関数(3)：キー参照関連"
   ]
  },
  {
   "cell_type": "code",
   "execution_count": 199,
   "id": "2a908903-7ea9-45ad-9f4e-9f97e0396921",
   "metadata": {
    "ExecuteTime": {
     "end_time": "2023-01-27T12:28:13.224000+09:00",
     "start_time": "2023-01-27T03:27:53.946Z"
    }
   },
   "outputs": [],
   "source": [
    "D = Dict(:a=>1, :b=>2, :c=>3);"
   ]
  },
  {
   "cell_type": "code",
   "execution_count": 200,
   "id": "2d0594c7-49f2-473e-a369-bdc79d534a14",
   "metadata": {
    "ExecuteTime": {
     "end_time": "2023-01-27T12:28:13.232000+09:00",
     "start_time": "2023-01-27T03:27:53.951Z"
    }
   },
   "outputs": [
    {
     "data": {
      "text/plain": [
       "1"
      ]
     },
     "execution_count": 200,
     "metadata": {},
     "output_type": "execute_result"
    }
   ],
   "source": [
    "D[:a]"
   ]
  },
  {
   "cell_type": "code",
   "execution_count": 201,
   "id": "d12c8779-6c4c-4c48-bb99-01b0fa175d1d",
   "metadata": {
    "ExecuteTime": {
     "end_time": "2023-01-27T12:28:13.279000+09:00",
     "start_time": "2023-01-27T03:27:53.958Z"
    },
    "scrolled": true,
    "tags": []
   },
   "outputs": [
    {
     "ename": "LoadError",
     "evalue": "KeyError: key :d not found",
     "output_type": "error",
     "traceback": [
      "KeyError: key :d not found",
      "",
      "Stacktrace:",
      " [1] getindex(h::Dict{Symbol, Int64}, key::Symbol)",
      "   @ Base ./dict.jl:498",
      " [2] top-level scope",
      "   @ In[201]:1"
     ]
    }
   ],
   "source": [
    "D[:d]"
   ]
  },
  {
   "cell_type": "code",
   "execution_count": 202,
   "id": "6945b866-dbdb-4611-bcde-f5b59b9b7f55",
   "metadata": {
    "ExecuteTime": {
     "end_time": "2023-01-27T12:28:13.286000+09:00",
     "start_time": "2023-01-27T03:27:53.963Z"
    }
   },
   "outputs": [
    {
     "data": {
      "text/plain": [
       "1"
      ]
     },
     "execution_count": 202,
     "metadata": {},
     "output_type": "execute_result"
    }
   ],
   "source": [
    "get(D, :a, -99)"
   ]
  },
  {
   "cell_type": "code",
   "execution_count": 203,
   "id": "2f316cbc-53a0-4968-ac93-09ec8447ad14",
   "metadata": {
    "ExecuteTime": {
     "end_time": "2023-01-27T12:28:13.287000+09:00",
     "start_time": "2023-01-27T03:27:53.968Z"
    }
   },
   "outputs": [
    {
     "data": {
      "text/plain": [
       "-99"
      ]
     },
     "execution_count": 203,
     "metadata": {},
     "output_type": "execute_result"
    }
   ],
   "source": [
    "get(D, :d, -99)"
   ]
  },
  {
   "cell_type": "code",
   "execution_count": 204,
   "id": "e50d37d3-3b9a-4ab4-9dde-205332fd9414",
   "metadata": {
    "ExecuteTime": {
     "end_time": "2023-01-27T12:28:13.295000+09:00",
     "start_time": "2023-01-27T03:27:53.974Z"
    }
   },
   "outputs": [
    {
     "data": {
      "text/plain": [
       "1"
      ]
     },
     "execution_count": 204,
     "metadata": {},
     "output_type": "execute_result"
    }
   ],
   "source": [
    "get(D, :a) do\n",
    "    println(\"ここには来ない！\")\n",
    "end"
   ]
  },
  {
   "cell_type": "code",
   "execution_count": 205,
   "id": "cca63f70-9c65-4492-af55-8d5ac9d0d925",
   "metadata": {
    "ExecuteTime": {
     "end_time": "2023-01-27T12:28:13.312000+09:00",
     "start_time": "2023-01-27T03:27:53.980Z"
    }
   },
   "outputs": [
    {
     "data": {
      "text/plain": [
       "-99"
      ]
     },
     "execution_count": 205,
     "metadata": {},
     "output_type": "execute_result"
    }
   ],
   "source": [
    "get(D, :d) do\n",
    "    rand(-99:-90)  # 実行する度に結果が変わる\n",
    "end"
   ]
  },
  {
   "cell_type": "code",
   "execution_count": 206,
   "id": "69c517ed-7dcc-4d83-a8ed-cac6e827c676",
   "metadata": {
    "ExecuteTime": {
     "end_time": "2023-01-27T12:28:13.324000+09:00",
     "start_time": "2023-01-27T03:27:53.985Z"
    }
   },
   "outputs": [
    {
     "data": {
      "text/plain": [
       "4"
      ]
     },
     "execution_count": 206,
     "metadata": {},
     "output_type": "execute_result"
    }
   ],
   "source": [
    "get!(D, :d, 4)  # `D[:d] = 4` も実行される"
   ]
  },
  {
   "cell_type": "code",
   "execution_count": 207,
   "id": "63fe10e7-ab72-4cba-9a08-8ca8e5eb4bbe",
   "metadata": {
    "ExecuteTime": {
     "end_time": "2023-01-27T12:28:13.324000+09:00",
     "start_time": "2023-01-27T03:27:53.991Z"
    }
   },
   "outputs": [
    {
     "data": {
      "text/plain": [
       "4"
      ]
     },
     "execution_count": 207,
     "metadata": {},
     "output_type": "execute_result"
    }
   ],
   "source": [
    "D[:d]"
   ]
  },
  {
   "cell_type": "code",
   "execution_count": 208,
   "id": "436d7351-c7d5-4c09-9128-38addd89e19b",
   "metadata": {
    "ExecuteTime": {
     "end_time": "2023-01-27T12:28:13.335000+09:00",
     "start_time": "2023-01-27T03:27:53.996Z"
    }
   },
   "outputs": [
    {
     "data": {
      "text/plain": [
       "-94"
      ]
     },
     "execution_count": 208,
     "metadata": {},
     "output_type": "execute_result"
    }
   ],
   "source": [
    "get!(D, :e) do\n",
    "    rand(-99:-90)  # 実行する度に結果が変わる\n",
    "end"
   ]
  },
  {
   "cell_type": "code",
   "execution_count": 209,
   "id": "caf47777-2901-4d49-ac83-ec6891dbf496",
   "metadata": {
    "ExecuteTime": {
     "end_time": "2023-01-27T12:28:13.336000+09:00",
     "start_time": "2023-01-27T03:27:54.001Z"
    }
   },
   "outputs": [
    {
     "data": {
      "text/plain": [
       "-94"
      ]
     },
     "execution_count": 209,
     "metadata": {},
     "output_type": "execute_result"
    }
   ],
   "source": [
    "D[:e]"
   ]
  },
  {
   "cell_type": "code",
   "execution_count": 210,
   "id": "521641df-6724-4dc7-8533-19e40d757d29",
   "metadata": {
    "ExecuteTime": {
     "end_time": "2023-01-27T12:28:13.495000+09:00",
     "start_time": "2023-01-27T03:27:54.006Z"
    }
   },
   "outputs": [
    {
     "data": {
      "text/plain": [
       ":e"
      ]
     },
     "execution_count": 210,
     "metadata": {},
     "output_type": "execute_result"
    }
   ],
   "source": [
    "getkey(D, :e, :exists)  # ↑で登録されたので存在する"
   ]
  },
  {
   "cell_type": "code",
   "execution_count": 211,
   "id": "9c594e41-361c-43a3-90a4-da8cf0d45bba",
   "metadata": {
    "ExecuteTime": {
     "end_time": "2023-01-27T12:28:13.496000+09:00",
     "start_time": "2023-01-27T03:27:54.012Z"
    }
   },
   "outputs": [
    {
     "data": {
      "text/plain": [
       ":notexists"
      ]
     },
     "execution_count": 211,
     "metadata": {},
     "output_type": "execute_result"
    }
   ],
   "source": [
    "getkey(D, :f, :notexists)"
   ]
  },
  {
   "cell_type": "markdown",
   "id": "457d3124-8de4-4072-b782-40cb92226f32",
   "metadata": {},
   "source": [
    "##### コード3-34. 辞書関連関数(4)：登録・更新関連"
   ]
  },
  {
   "cell_type": "code",
   "execution_count": 212,
   "id": "da5c5ada-4679-4ea6-94dd-0f099e495b90",
   "metadata": {
    "ExecuteTime": {
     "end_time": "2023-01-27T12:28:13.497000+09:00",
     "start_time": "2023-01-27T03:27:54.018Z"
    }
   },
   "outputs": [
    {
     "data": {
      "text/plain": [
       "Dict{Symbol, Int64} with 3 entries:\n",
       "  :a => 1\n",
       "  :b => 2\n",
       "  :c => 3"
      ]
     },
     "execution_count": 212,
     "metadata": {},
     "output_type": "execute_result"
    }
   ],
   "source": [
    "D = Dict(:a=>1, :b=>2, :c=>3)"
   ]
  },
  {
   "cell_type": "code",
   "execution_count": 213,
   "id": "eef73dd1-cd98-4569-aa9a-edede43b45cf",
   "metadata": {
    "ExecuteTime": {
     "end_time": "2023-01-27T12:28:13.498000+09:00",
     "start_time": "2023-01-27T03:27:54.023Z"
    }
   },
   "outputs": [
    {
     "data": {
      "text/plain": [
       "10"
      ]
     },
     "execution_count": 213,
     "metadata": {},
     "output_type": "execute_result"
    }
   ],
   "source": [
    "D[:a] = 10  # 更新"
   ]
  },
  {
   "cell_type": "code",
   "execution_count": 214,
   "id": "47bbf526-a28c-4aeb-9544-fc7bec3c460a",
   "metadata": {
    "ExecuteTime": {
     "end_time": "2023-01-27T12:28:13.499000+09:00",
     "start_time": "2023-01-27T03:27:54.028Z"
    }
   },
   "outputs": [
    {
     "data": {
      "text/plain": [
       "Dict{Symbol, Int64} with 3 entries:\n",
       "  :a => 10\n",
       "  :b => 2\n",
       "  :c => 3"
      ]
     },
     "execution_count": 214,
     "metadata": {},
     "output_type": "execute_result"
    }
   ],
   "source": [
    "D"
   ]
  },
  {
   "cell_type": "code",
   "execution_count": 215,
   "id": "279a976f-bf0c-4e3c-82c1-91ca637bee06",
   "metadata": {
    "ExecuteTime": {
     "end_time": "2023-01-27T12:28:13.504000+09:00",
     "start_time": "2023-01-27T03:27:54.035Z"
    }
   },
   "outputs": [
    {
     "data": {
      "text/plain": [
       "Dict{Symbol, Int64} with 5 entries:\n",
       "  :a => 10\n",
       "  :b => 4\n",
       "  :d => 5\n",
       "  :e => 6\n",
       "  :c => 3"
      ]
     },
     "execution_count": 215,
     "metadata": {},
     "output_type": "execute_result"
    }
   ],
   "source": [
    "push!(D, :b=>4, :d=>5, :e=>6)  # `:b` は更新、`:d`, `:e` は新規登録"
   ]
  },
  {
   "cell_type": "code",
   "execution_count": 216,
   "id": "98e5ffab-49e2-407d-b041-28fb258d22c6",
   "metadata": {
    "ExecuteTime": {
     "end_time": "2023-01-27T12:28:13.505000+09:00",
     "start_time": "2023-01-27T03:27:54.040Z"
    },
    "scrolled": false
   },
   "outputs": [
    {
     "data": {
      "text/plain": [
       "Dict{Symbol, Int64} with 5 entries:\n",
       "  :a => 10\n",
       "  :b => 4\n",
       "  :d => 5\n",
       "  :e => 6\n",
       "  :c => 3"
      ]
     },
     "execution_count": 216,
     "metadata": {},
     "output_type": "execute_result"
    }
   ],
   "source": [
    "D"
   ]
  },
  {
   "cell_type": "markdown",
   "id": "bf5a9355-a281-4f9e-b5a8-f7b2ee9bc1e9",
   "metadata": {},
   "source": [
    "##### コード3-35. 辞書関連関数(5)：削除（取り出し）関連"
   ]
  },
  {
   "cell_type": "code",
   "execution_count": 217,
   "id": "35e74366-3cba-423e-88f0-dcfc409da5fa",
   "metadata": {
    "ExecuteTime": {
     "end_time": "2023-01-27T12:28:13.513000+09:00",
     "start_time": "2023-01-27T03:27:54.046Z"
    }
   },
   "outputs": [],
   "source": [
    "D = Dict(:a=>1, :b=>2, :c=>3, :d=>4, :e=>-95);"
   ]
  },
  {
   "cell_type": "code",
   "execution_count": 218,
   "id": "11069618-7d13-484f-932b-4824ef420c74",
   "metadata": {
    "ExecuteTime": {
     "end_time": "2023-01-27T12:28:13.522000+09:00",
     "start_time": "2023-01-27T03:27:54.052Z"
    }
   },
   "outputs": [
    {
     "data": {
      "text/plain": [
       "Dict{Symbol, Int64} with 4 entries:\n",
       "  :a => 1\n",
       "  :b => 2\n",
       "  :d => 4\n",
       "  :c => 3"
      ]
     },
     "execution_count": 218,
     "metadata": {},
     "output_type": "execute_result"
    }
   ],
   "source": [
    "delete!(D, :e)"
   ]
  },
  {
   "cell_type": "code",
   "execution_count": 219,
   "id": "82abad6f-0a79-4486-95bf-fcbe0997d502",
   "metadata": {
    "ExecuteTime": {
     "end_time": "2023-01-27T12:28:13.523000+09:00",
     "start_time": "2023-01-27T03:27:54.057Z"
    }
   },
   "outputs": [
    {
     "data": {
      "text/plain": [
       "false"
      ]
     },
     "execution_count": 219,
     "metadata": {},
     "output_type": "execute_result"
    }
   ],
   "source": [
    "haskey(D, :e)"
   ]
  },
  {
   "cell_type": "code",
   "execution_count": 220,
   "id": "f786b35b-a0cb-4566-a408-0859cb2115f9",
   "metadata": {
    "ExecuteTime": {
     "end_time": "2023-01-27T12:28:13.524000+09:00",
     "start_time": "2023-01-27T03:27:54.062Z"
    }
   },
   "outputs": [
    {
     "data": {
      "text/plain": [
       "Dict{Symbol, Int64} with 4 entries:\n",
       "  :a => 1\n",
       "  :b => 2\n",
       "  :d => 4\n",
       "  :c => 3"
      ]
     },
     "execution_count": 220,
     "metadata": {},
     "output_type": "execute_result"
    }
   ],
   "source": [
    "delete!(D, :e)  # エラーにならない"
   ]
  },
  {
   "cell_type": "code",
   "execution_count": 221,
   "id": "91ab5a77-9b0f-4316-b7cd-b886e74b8cca",
   "metadata": {
    "ExecuteTime": {
     "end_time": "2023-01-27T12:28:13.533000+09:00",
     "start_time": "2023-01-27T03:27:54.067Z"
    }
   },
   "outputs": [
    {
     "data": {
      "text/plain": [
       "4"
      ]
     },
     "execution_count": 221,
     "metadata": {},
     "output_type": "execute_result"
    }
   ],
   "source": [
    "pop!(D, :d)"
   ]
  },
  {
   "cell_type": "code",
   "execution_count": 222,
   "id": "6c5df7f8-7b17-41ed-9b7a-c2d096a6ef8e",
   "metadata": {
    "ExecuteTime": {
     "end_time": "2023-01-27T12:28:13.534000+09:00",
     "start_time": "2023-01-27T03:27:54.072Z"
    }
   },
   "outputs": [
    {
     "data": {
      "text/plain": [
       "false"
      ]
     },
     "execution_count": 222,
     "metadata": {},
     "output_type": "execute_result"
    }
   ],
   "source": [
    "haskey(D, :d)"
   ]
  },
  {
   "cell_type": "code",
   "execution_count": 223,
   "id": "76379ba9-a225-4b59-a589-bf4cff3e3db9",
   "metadata": {
    "ExecuteTime": {
     "end_time": "2023-01-27T12:28:13.540000+09:00",
     "start_time": "2023-01-27T03:27:54.077Z"
    },
    "scrolled": true,
    "tags": []
   },
   "outputs": [
    {
     "ename": "LoadError",
     "evalue": "KeyError: key :d not found",
     "output_type": "error",
     "traceback": [
      "KeyError: key :d not found",
      "",
      "Stacktrace:",
      " [1] pop!(h::Dict{Symbol, Int64}, key::Symbol)",
      "   @ Base ./dict.jl:604",
      " [2] top-level scope",
      "   @ In[223]:1"
     ]
    }
   ],
   "source": [
    "pop!(D, :d)  # エラーになる"
   ]
  },
  {
   "cell_type": "code",
   "execution_count": 224,
   "id": "7351fa05-8e9e-41ec-ad15-c5b2c65fee0e",
   "metadata": {
    "ExecuteTime": {
     "end_time": "2023-01-27T12:28:13.549000+09:00",
     "start_time": "2023-01-27T03:27:54.082Z"
    }
   },
   "outputs": [
    {
     "data": {
      "text/plain": [
       "-99"
      ]
     },
     "execution_count": 224,
     "metadata": {},
     "output_type": "execute_result"
    }
   ],
   "source": [
    "pop!(D, :d, -99)  # エラーにならない"
   ]
  },
  {
   "cell_type": "markdown",
   "id": "43cef261-8a83-467e-84b2-7b20c4a696a5",
   "metadata": {},
   "source": [
    "##### コード3-36. 辞書関連関数(6)：辞書のマージ"
   ]
  },
  {
   "cell_type": "code",
   "execution_count": 225,
   "id": "a264e8e1-e517-43ce-91ba-29ecbcd68381",
   "metadata": {
    "ExecuteTime": {
     "end_time": "2023-01-27T12:28:13.549000+09:00",
     "start_time": "2023-01-27T03:27:54.089Z"
    }
   },
   "outputs": [],
   "source": [
    "D1 = Dict(:a=>1, :b=>2, :c=>3);"
   ]
  },
  {
   "cell_type": "code",
   "execution_count": 226,
   "id": "063a97d8-daaf-45b6-8ba0-05d8573826c1",
   "metadata": {
    "ExecuteTime": {
     "end_time": "2023-01-27T12:28:13.550000+09:00",
     "start_time": "2023-01-27T03:27:54.094Z"
    }
   },
   "outputs": [],
   "source": [
    "D2 = Dict(:b=>4, :d=>5, :f=>6);"
   ]
  },
  {
   "cell_type": "code",
   "execution_count": 227,
   "id": "8af7a889-497c-4af2-8e59-c2281b407bd1",
   "metadata": {
    "ExecuteTime": {
     "end_time": "2023-01-27T12:28:13.571000+09:00",
     "start_time": "2023-01-27T03:27:54.099Z"
    }
   },
   "outputs": [
    {
     "data": {
      "text/plain": [
       "Dict{Symbol, Int64} with 5 entries:\n",
       "  :a => 1\n",
       "  :b => 4\n",
       "  :f => 6\n",
       "  :d => 5\n",
       "  :c => 3"
      ]
     },
     "execution_count": 227,
     "metadata": {},
     "output_type": "execute_result"
    }
   ],
   "source": [
    "merge(D1, D2)"
   ]
  },
  {
   "cell_type": "code",
   "execution_count": 228,
   "id": "850f172d-a918-4f1f-921b-a38eb496aca6",
   "metadata": {
    "ExecuteTime": {
     "end_time": "2023-01-27T12:28:13.572000+09:00",
     "start_time": "2023-01-27T03:27:54.104Z"
    }
   },
   "outputs": [
    {
     "data": {
      "text/plain": [
       "Dict{Symbol, Int64} with 5 entries:\n",
       "  :f => 6\n",
       "  :b => 2\n",
       "  :a => 1\n",
       "  :d => 5\n",
       "  :c => 3"
      ]
     },
     "execution_count": 228,
     "metadata": {},
     "output_type": "execute_result"
    }
   ],
   "source": [
    "merge(D2, D1)"
   ]
  },
  {
   "cell_type": "code",
   "execution_count": 229,
   "id": "8252507c-6d75-4f6b-bf8d-3ecb88bdb363",
   "metadata": {
    "ExecuteTime": {
     "end_time": "2023-01-27T12:28:13.597000+09:00",
     "start_time": "2023-01-27T03:27:54.109Z"
    }
   },
   "outputs": [
    {
     "data": {
      "text/plain": [
       "Dict{Symbol, Int64} with 5 entries:\n",
       "  :a => 1\n",
       "  :b => 6\n",
       "  :f => 6\n",
       "  :d => 5\n",
       "  :c => 3"
      ]
     },
     "execution_count": 229,
     "metadata": {},
     "output_type": "execute_result"
    }
   ],
   "source": [
    "mergewith(+, D1, D2)"
   ]
  },
  {
   "cell_type": "code",
   "execution_count": 230,
   "id": "6694f410-5694-4e44-99e6-3e024816a25b",
   "metadata": {
    "ExecuteTime": {
     "end_time": "2023-01-27T12:28:13.617000+09:00",
     "start_time": "2023-01-27T03:27:54.114Z"
    }
   },
   "outputs": [
    {
     "data": {
      "text/plain": [
       "Dict{Symbol, Int64} with 5 entries:\n",
       "  :a => 1\n",
       "  :b => 24\n",
       "  :f => 6\n",
       "  :d => 5\n",
       "  :c => 3"
      ]
     },
     "execution_count": 230,
     "metadata": {},
     "output_type": "execute_result"
    }
   ],
   "source": [
    "mergewith(D1, D2) do a, b\n",
    "    10a + b\n",
    "end"
   ]
  },
  {
   "cell_type": "code",
   "execution_count": 231,
   "id": "9b7d277a-3a64-4b1d-897a-719e16c959f7",
   "metadata": {
    "ExecuteTime": {
     "end_time": "2023-01-27T12:28:13.618000+09:00",
     "start_time": "2023-01-27T03:27:54.119Z"
    }
   },
   "outputs": [
    {
     "data": {
      "text/plain": [
       "Dict{Symbol, Int64} with 5 entries:\n",
       "  :a => 1\n",
       "  :b => 4\n",
       "  :f => 6\n",
       "  :d => 5\n",
       "  :c => 3"
      ]
     },
     "execution_count": 231,
     "metadata": {},
     "output_type": "execute_result"
    }
   ],
   "source": [
    "merge!(D1, D2)  # D1 が更新される"
   ]
  },
  {
   "cell_type": "code",
   "execution_count": 232,
   "id": "0e09ec4b-64c9-41a2-8e46-c0edc772d5ea",
   "metadata": {
    "ExecuteTime": {
     "end_time": "2023-01-27T12:28:13.637000+09:00",
     "start_time": "2023-01-27T03:27:54.125Z"
    }
   },
   "outputs": [
    {
     "data": {
      "text/plain": [
       "Dict{Symbol, Int64} with 5 entries:\n",
       "  :a => 1\n",
       "  :b => 0\n",
       "  :f => 0\n",
       "  :d => 0\n",
       "  :c => 3"
      ]
     },
     "execution_count": 232,
     "metadata": {},
     "output_type": "execute_result"
    }
   ],
   "source": [
    "mergewith!(-, D1, D2)  # D1 が更新される"
   ]
  },
  {
   "cell_type": "code",
   "execution_count": 233,
   "id": "b101d6a7-8ea4-42ae-a6ab-595cc04c77e5",
   "metadata": {
    "ExecuteTime": {
     "end_time": "2023-01-27T12:28:13.637000+09:00",
     "start_time": "2023-01-27T03:27:54.130Z"
    }
   },
   "outputs": [
    {
     "data": {
      "text/plain": [
       "Dict{Symbol, Int64} with 5 entries:\n",
       "  :a => 1\n",
       "  :b => 0\n",
       "  :f => 0\n",
       "  :d => 0\n",
       "  :c => 3"
      ]
     },
     "execution_count": 233,
     "metadata": {},
     "output_type": "execute_result"
    }
   ],
   "source": [
    "D1"
   ]
  },
  {
   "cell_type": "markdown",
   "id": "662f9a26-fe86-4d87-9342-89bb4af41951",
   "metadata": {},
   "source": [
    "#### 集合関連関数・演算子"
   ]
  },
  {
   "cell_type": "markdown",
   "id": "02aeb58b-8339-45c6-83d4-1ca6924b3b9a",
   "metadata": {},
   "source": [
    "##### コード3-37. 集合関連関数(1)：積集合・和集合"
   ]
  },
  {
   "cell_type": "code",
   "execution_count": 234,
   "id": "2f428b3e-98c7-4037-a3b6-5ef668cd5e13",
   "metadata": {
    "ExecuteTime": {
     "end_time": "2023-01-27T12:28:13.642000+09:00",
     "start_time": "2023-01-27T03:27:54.137Z"
    }
   },
   "outputs": [],
   "source": [
    "S1 = Set([1, 2, 3]); S2 = Set([2, 4, 6]);"
   ]
  },
  {
   "cell_type": "code",
   "execution_count": 235,
   "id": "744f6516-3c61-4730-8d79-60e7f4a2f8cb",
   "metadata": {
    "ExecuteTime": {
     "end_time": "2023-01-27T12:28:14.115000+09:00",
     "start_time": "2023-01-27T03:27:54.143Z"
    }
   },
   "outputs": [
    {
     "data": {
      "text/plain": [
       "Set{Int64} with 1 element:\n",
       "  2"
      ]
     },
     "execution_count": 235,
     "metadata": {},
     "output_type": "execute_result"
    }
   ],
   "source": [
    "S1 ∩ S2"
   ]
  },
  {
   "cell_type": "code",
   "execution_count": 236,
   "id": "c85bc631-83fa-4832-a806-148c43209931",
   "metadata": {
    "ExecuteTime": {
     "end_time": "2023-01-27T12:28:14.122000+09:00",
     "start_time": "2023-01-27T03:27:54.148Z"
    }
   },
   "outputs": [
    {
     "data": {
      "text/plain": [
       "Set{Int64} with 5 elements:\n",
       "  4\n",
       "  6\n",
       "  2\n",
       "  3\n",
       "  1"
      ]
     },
     "execution_count": 236,
     "metadata": {},
     "output_type": "execute_result"
    }
   ],
   "source": [
    "S1 ∪ S2"
   ]
  },
  {
   "cell_type": "code",
   "execution_count": 237,
   "id": "2b87922f-f3b5-4731-979c-f4a34a97cd12",
   "metadata": {
    "ExecuteTime": {
     "end_time": "2023-01-27T12:28:14.132000+09:00",
     "start_time": "2023-01-27T03:27:54.153Z"
    }
   },
   "outputs": [],
   "source": [
    "S0 = Set(1:10);"
   ]
  },
  {
   "cell_type": "code",
   "execution_count": 238,
   "id": "5d69fd17-0220-4d93-bfbc-7efffd7670de",
   "metadata": {
    "ExecuteTime": {
     "end_time": "2023-01-27T12:28:14.152000+09:00",
     "start_time": "2023-01-27T03:27:54.158Z"
    }
   },
   "outputs": [
    {
     "data": {
      "text/plain": [
       "Set{Int64} with 1 element:\n",
       "  2"
      ]
     },
     "execution_count": 238,
     "metadata": {},
     "output_type": "execute_result"
    }
   ],
   "source": [
    "intersect!(S0, S1, S2)  # S0 が更新される"
   ]
  },
  {
   "cell_type": "code",
   "execution_count": 239,
   "id": "ac985d6c-b55d-4088-8abb-771801e5f614",
   "metadata": {
    "ExecuteTime": {
     "end_time": "2023-01-27T12:28:14.153000+09:00",
     "start_time": "2023-01-27T03:27:54.164Z"
    }
   },
   "outputs": [
    {
     "data": {
      "text/plain": [
       "Set{Int64} with 1 element:\n",
       "  2"
      ]
     },
     "execution_count": 239,
     "metadata": {},
     "output_type": "execute_result"
    }
   ],
   "source": [
    "S0"
   ]
  },
  {
   "cell_type": "code",
   "execution_count": 240,
   "id": "a56b958e-a9d9-4c01-9848-a62e3d1a26e1",
   "metadata": {
    "ExecuteTime": {
     "end_time": "2023-01-27T12:28:14.159000+09:00",
     "start_time": "2023-01-27T03:27:54.169Z"
    }
   },
   "outputs": [
    {
     "data": {
      "text/plain": [
       "Set{Int64} with 5 elements:\n",
       "  4\n",
       "  6\n",
       "  2\n",
       "  3\n",
       "  1"
      ]
     },
     "execution_count": 240,
     "metadata": {},
     "output_type": "execute_result"
    }
   ],
   "source": [
    "union!(S0, S1, S2)  # S0 が更新される"
   ]
  },
  {
   "cell_type": "code",
   "execution_count": 241,
   "id": "2f8ca176-0063-47e0-8f67-e4fec24ebd30",
   "metadata": {
    "ExecuteTime": {
     "end_time": "2023-01-27T12:28:14.160000+09:00",
     "start_time": "2023-01-27T03:27:54.175Z"
    }
   },
   "outputs": [
    {
     "data": {
      "text/plain": [
       "Set{Int64} with 5 elements:\n",
       "  4\n",
       "  6\n",
       "  2\n",
       "  3\n",
       "  1"
      ]
     },
     "execution_count": 241,
     "metadata": {},
     "output_type": "execute_result"
    }
   ],
   "source": [
    "S0"
   ]
  },
  {
   "cell_type": "markdown",
   "id": "ee086565-cb24-4d28-b43e-259a5e1e3f13",
   "metadata": {},
   "source": [
    "##### コード3-38. 集合関連関数(2)：差集合・対称差集合"
   ]
  },
  {
   "cell_type": "code",
   "execution_count": 242,
   "id": "bea68bcf-3218-4b42-b3e6-5dc5b412c259",
   "metadata": {
    "ExecuteTime": {
     "end_time": "2023-01-27T12:28:14.161000+09:00",
     "start_time": "2023-01-27T03:27:54.181Z"
    }
   },
   "outputs": [],
   "source": [
    "S1 = Set([1, 2, 3]); S2 = Set([2, 4, 6]);"
   ]
  },
  {
   "cell_type": "code",
   "execution_count": 243,
   "id": "531b6e3b-81af-4626-971d-d73978eaba1c",
   "metadata": {
    "ExecuteTime": {
     "end_time": "2023-01-27T12:28:14.189000+09:00",
     "start_time": "2023-01-27T03:27:54.186Z"
    }
   },
   "outputs": [
    {
     "data": {
      "text/plain": [
       "Set{Int64} with 2 elements:\n",
       "  3\n",
       "  1"
      ]
     },
     "execution_count": 243,
     "metadata": {},
     "output_type": "execute_result"
    }
   ],
   "source": [
    "setdiff(S1, S2)"
   ]
  },
  {
   "cell_type": "code",
   "execution_count": 244,
   "id": "ded7f0b6-2e16-42f7-9785-9792cade6d27",
   "metadata": {
    "ExecuteTime": {
     "end_time": "2023-01-27T12:28:14.190000+09:00",
     "start_time": "2023-01-27T03:27:54.192Z"
    }
   },
   "outputs": [
    {
     "data": {
      "text/plain": [
       "Set{Int64} with 2 elements:\n",
       "  4\n",
       "  6"
      ]
     },
     "execution_count": 244,
     "metadata": {},
     "output_type": "execute_result"
    }
   ],
   "source": [
    "setdiff(S2, S1)"
   ]
  },
  {
   "cell_type": "code",
   "execution_count": 245,
   "id": "0964f542-067d-4775-b50d-42f0ea6d3909",
   "metadata": {
    "ExecuteTime": {
     "end_time": "2023-01-27T12:28:14.190000+09:00",
     "start_time": "2023-01-27T03:27:54.197Z"
    }
   },
   "outputs": [],
   "source": [
    "S0 = Set(1:10);"
   ]
  },
  {
   "cell_type": "code",
   "execution_count": 246,
   "id": "b41e93a8-8e62-4edd-8df0-b51208013ac9",
   "metadata": {
    "ExecuteTime": {
     "end_time": "2023-01-27T12:28:14.196000+09:00",
     "start_time": "2023-01-27T03:27:54.203Z"
    }
   },
   "outputs": [
    {
     "data": {
      "text/plain": [
       "Set{Int64} with 5 elements:\n",
       "  5\n",
       "  7\n",
       "  10\n",
       "  9\n",
       "  8"
      ]
     },
     "execution_count": 246,
     "metadata": {},
     "output_type": "execute_result"
    }
   ],
   "source": [
    "setdiff!(S0, S1, S2)  # S0 が更新される"
   ]
  },
  {
   "cell_type": "code",
   "execution_count": 247,
   "id": "894a726c-9752-4417-9aa1-602f022cbf15",
   "metadata": {
    "ExecuteTime": {
     "end_time": "2023-01-27T12:28:14.197000+09:00",
     "start_time": "2023-01-27T03:27:54.210Z"
    }
   },
   "outputs": [
    {
     "data": {
      "text/plain": [
       "Set{Int64} with 5 elements:\n",
       "  5\n",
       "  7\n",
       "  10\n",
       "  9\n",
       "  8"
      ]
     },
     "execution_count": 247,
     "metadata": {},
     "output_type": "execute_result"
    }
   ],
   "source": [
    "S0"
   ]
  },
  {
   "cell_type": "code",
   "execution_count": 248,
   "id": "fc82865c-8aa1-47bc-9686-37e3fe691fb3",
   "metadata": {
    "ExecuteTime": {
     "end_time": "2023-01-27T12:28:14.216000+09:00",
     "start_time": "2023-01-27T03:27:54.216Z"
    }
   },
   "outputs": [
    {
     "data": {
      "text/plain": [
       "Set{Int64} with 4 elements:\n",
       "  4\n",
       "  6\n",
       "  3\n",
       "  1"
      ]
     },
     "execution_count": 248,
     "metadata": {},
     "output_type": "execute_result"
    }
   ],
   "source": [
    "symdiff(S1, S2)"
   ]
  },
  {
   "cell_type": "code",
   "execution_count": 249,
   "id": "120ed9bc-9670-4302-af37-01236e7ec791",
   "metadata": {
    "ExecuteTime": {
     "end_time": "2023-01-27T12:28:14.217000+09:00",
     "start_time": "2023-01-27T03:27:54.221Z"
    }
   },
   "outputs": [
    {
     "data": {
      "text/plain": [
       "Set{Int64} with 4 elements:\n",
       "  4\n",
       "  6\n",
       "  3\n",
       "  1"
      ]
     },
     "execution_count": 249,
     "metadata": {},
     "output_type": "execute_result"
    }
   ],
   "source": [
    "symdiff(S2, S1)"
   ]
  },
  {
   "cell_type": "code",
   "execution_count": 250,
   "id": "b52ed320-1bfc-4766-ac21-f0a71edaf563",
   "metadata": {
    "ExecuteTime": {
     "end_time": "2023-01-27T12:28:14.218000+09:00",
     "start_time": "2023-01-27T03:27:54.226Z"
    }
   },
   "outputs": [],
   "source": [
    "S0 = Set(1:10);"
   ]
  },
  {
   "cell_type": "code",
   "execution_count": 251,
   "id": "1059ed1f-63ea-4dab-be1a-1d1690527c92",
   "metadata": {
    "ExecuteTime": {
     "end_time": "2023-01-27T12:28:14.223000+09:00",
     "start_time": "2023-01-27T03:27:54.233Z"
    }
   },
   "outputs": [
    {
     "data": {
      "text/plain": [
       "Set{Int64} with 6 elements:\n",
       "  5\n",
       "  7\n",
       "  2\n",
       "  10\n",
       "  9\n",
       "  8"
      ]
     },
     "execution_count": 251,
     "metadata": {},
     "output_type": "execute_result"
    }
   ],
   "source": [
    "symdiff!(S0, S1, S2)  # S0 が更新される"
   ]
  },
  {
   "cell_type": "code",
   "execution_count": 252,
   "id": "64064afb-41b8-4502-bca3-edb6f026a118",
   "metadata": {
    "ExecuteTime": {
     "end_time": "2023-01-27T12:28:14.224000+09:00",
     "start_time": "2023-01-27T03:27:54.239Z"
    }
   },
   "outputs": [
    {
     "data": {
      "text/plain": [
       "Set{Int64} with 6 elements:\n",
       "  5\n",
       "  7\n",
       "  2\n",
       "  10\n",
       "  9\n",
       "  8"
      ]
     },
     "execution_count": 252,
     "metadata": {},
     "output_type": "execute_result"
    }
   ],
   "source": [
    "S0"
   ]
  },
  {
   "cell_type": "markdown",
   "id": "b3b61029-0ed8-4b1a-8838-6b60f300663c",
   "metadata": {},
   "source": [
    "##### コード3-39. 集合関連関数(3)：追加・削除（取り出し）"
   ]
  },
  {
   "cell_type": "code",
   "execution_count": 253,
   "id": "8e6ffe95-938b-40fb-9014-23f95c6e701f",
   "metadata": {
    "ExecuteTime": {
     "end_time": "2023-01-27T12:28:14.225000+09:00",
     "start_time": "2023-01-27T03:27:54.245Z"
    }
   },
   "outputs": [
    {
     "data": {
      "text/plain": [
       "Set{Int64}()"
      ]
     },
     "execution_count": 253,
     "metadata": {},
     "output_type": "execute_result"
    }
   ],
   "source": [
    "S = Set(Int[])"
   ]
  },
  {
   "cell_type": "code",
   "execution_count": 254,
   "id": "f2efadea-924f-4ee7-a82c-9be8a47d5b5e",
   "metadata": {
    "ExecuteTime": {
     "end_time": "2023-01-27T12:28:14.229000+09:00",
     "start_time": "2023-01-27T03:27:54.250Z"
    }
   },
   "outputs": [
    {
     "data": {
      "text/plain": [
       "Set{Int64} with 3 elements:\n",
       "  2\n",
       "  3\n",
       "  1"
      ]
     },
     "execution_count": 254,
     "metadata": {},
     "output_type": "execute_result"
    }
   ],
   "source": [
    "push!(S, 1, 2, 3)"
   ]
  },
  {
   "cell_type": "code",
   "execution_count": 255,
   "id": "8cec82b2-c479-4f90-bb87-479fd8351667",
   "metadata": {
    "ExecuteTime": {
     "end_time": "2023-01-27T12:28:14.234000+09:00",
     "start_time": "2023-01-27T03:27:54.256Z"
    }
   },
   "outputs": [
    {
     "data": {
      "text/plain": [
       "Set{Int64} with 2 elements:\n",
       "  2\n",
       "  1"
      ]
     },
     "execution_count": 255,
     "metadata": {},
     "output_type": "execute_result"
    }
   ],
   "source": [
    "delete!(S, 3)"
   ]
  },
  {
   "cell_type": "code",
   "execution_count": 256,
   "id": "d1463119-9ad4-4273-87df-75d58f84a520",
   "metadata": {
    "ExecuteTime": {
     "end_time": "2023-01-27T12:28:14.235000+09:00",
     "start_time": "2023-01-27T03:27:54.261Z"
    }
   },
   "outputs": [
    {
     "data": {
      "text/plain": [
       "Set{Int64} with 2 elements:\n",
       "  2\n",
       "  1"
      ]
     },
     "execution_count": 256,
     "metadata": {},
     "output_type": "execute_result"
    }
   ],
   "source": [
    "delete!(S, 4)  # 存在しない要素を指定してもエラーにならない"
   ]
  },
  {
   "cell_type": "code",
   "execution_count": 257,
   "id": "185015fa-abf7-4c37-a9b0-cd84f3be290d",
   "metadata": {
    "ExecuteTime": {
     "end_time": "2023-01-27T12:28:14.238000+09:00",
     "start_time": "2023-01-27T03:27:54.267Z"
    }
   },
   "outputs": [
    {
     "data": {
      "text/plain": [
       "2"
      ]
     },
     "execution_count": 257,
     "metadata": {},
     "output_type": "execute_result"
    }
   ],
   "source": [
    "pop!(S, 2)"
   ]
  },
  {
   "cell_type": "code",
   "execution_count": 258,
   "id": "3357c6f3-fb75-495d-8c5b-155a3bae1400",
   "metadata": {
    "ExecuteTime": {
     "end_time": "2023-01-27T12:28:14.272000+09:00",
     "start_time": "2023-01-27T03:27:54.273Z"
    },
    "scrolled": true,
    "tags": []
   },
   "outputs": [
    {
     "ename": "LoadError",
     "evalue": "KeyError: key 2 not found",
     "output_type": "error",
     "traceback": [
      "KeyError: key 2 not found",
      "",
      "Stacktrace:",
      " [1] pop!(h::Dict{Int64, Nothing}, key::Int64)",
      "   @ Base ./dict.jl:604",
      " [2] pop!(s::Set{Int64}, x::Int64)",
      "   @ Base ./set.jl:68",
      " [3] top-level scope",
      "   @ In[258]:1"
     ]
    }
   ],
   "source": [
    "pop!(S, 2)  # エラーになる"
   ]
  },
  {
   "cell_type": "code",
   "execution_count": 259,
   "id": "c3e24376-5c14-459f-bd2a-8ccb38cfec56",
   "metadata": {
    "ExecuteTime": {
     "end_time": "2023-01-27T12:28:14.276000+09:00",
     "start_time": "2023-01-27T03:27:54.278Z"
    }
   },
   "outputs": [
    {
     "data": {
      "text/plain": [
       "-99"
      ]
     },
     "execution_count": 259,
     "metadata": {},
     "output_type": "execute_result"
    }
   ],
   "source": [
    "pop!(S, 2, -99)"
   ]
  },
  {
   "cell_type": "markdown",
   "id": "dd712e90-7725-4682-b682-19f79142fa6a",
   "metadata": {},
   "source": [
    "#### タプル・名前付きタプル関連関数"
   ]
  },
  {
   "cell_type": "markdown",
   "id": "eabcba43-1588-4723-8281-7a62c29ee307",
   "metadata": {},
   "source": [
    "##### コード3-40. タプル関連関数、名前付きタプル関連関数(1)"
   ]
  },
  {
   "cell_type": "code",
   "execution_count": 260,
   "id": "1dd80053-43cf-46d0-85a3-d404b688b8eb",
   "metadata": {
    "ExecuteTime": {
     "end_time": "2023-01-27T12:28:14.276000+09:00",
     "start_time": "2023-01-27T03:27:54.285Z"
    }
   },
   "outputs": [],
   "source": [
    "t = ('a', 2, 99.9, π);"
   ]
  },
  {
   "cell_type": "code",
   "execution_count": 261,
   "id": "7d0f89cd-da62-4dc3-a20d-33ffa35da7bb",
   "metadata": {
    "ExecuteTime": {
     "end_time": "2023-01-27T12:28:14.280000+09:00",
     "start_time": "2023-01-27T03:27:54.291Z"
    }
   },
   "outputs": [
    {
     "data": {
      "text/plain": [
       "'a': ASCII/Unicode U+0061 (category Ll: Letter, lowercase)"
      ]
     },
     "execution_count": 261,
     "metadata": {},
     "output_type": "execute_result"
    }
   ],
   "source": [
    "first(t)"
   ]
  },
  {
   "cell_type": "code",
   "execution_count": 262,
   "id": "d1a2ca57-4737-40f6-b53c-7524a12e5210",
   "metadata": {
    "ExecuteTime": {
     "end_time": "2023-01-27T12:28:14.492000+09:00",
     "start_time": "2023-01-27T03:27:54.296Z"
    }
   },
   "outputs": [
    {
     "data": {
      "text/plain": [
       "π = 3.1415926535897..."
      ]
     },
     "execution_count": 262,
     "metadata": {},
     "output_type": "execute_result"
    }
   ],
   "source": [
    "last(t)"
   ]
  },
  {
   "cell_type": "code",
   "execution_count": 263,
   "id": "711cf4ad-2d75-43ec-8db2-eac42d0ca15c",
   "metadata": {
    "ExecuteTime": {
     "end_time": "2023-01-27T12:28:14.739000+09:00",
     "start_time": "2023-01-27T03:27:54.301Z"
    }
   },
   "outputs": [
    {
     "data": {
      "text/plain": [
       "('a', 2, 99.9)"
      ]
     },
     "execution_count": 263,
     "metadata": {},
     "output_type": "execute_result"
    }
   ],
   "source": [
    "Base.front(t)"
   ]
  },
  {
   "cell_type": "code",
   "execution_count": 264,
   "id": "74509ba8-133d-4226-90f6-3543b6893292",
   "metadata": {
    "ExecuteTime": {
     "end_time": "2023-01-27T12:28:14.980000+09:00",
     "start_time": "2023-01-27T03:27:54.306Z"
    }
   },
   "outputs": [
    {
     "data": {
      "text/plain": [
       "(2, 99.9, π)"
      ]
     },
     "execution_count": 264,
     "metadata": {},
     "output_type": "execute_result"
    }
   ],
   "source": [
    "Base.tail(t)"
   ]
  },
  {
   "cell_type": "code",
   "execution_count": 265,
   "id": "3439d47e-d1ae-4485-93b5-c64c39281af9",
   "metadata": {
    "ExecuteTime": {
     "end_time": "2023-01-27T12:28:14.986000+09:00",
     "start_time": "2023-01-27T03:27:54.311Z"
    }
   },
   "outputs": [],
   "source": [
    "nt = (a=1, b=2, c=3);"
   ]
  },
  {
   "cell_type": "code",
   "execution_count": 266,
   "id": "b08e5960-3fc0-456a-b3c3-22e783721ada",
   "metadata": {
    "ExecuteTime": {
     "end_time": "2023-01-27T12:28:14.990000+09:00",
     "start_time": "2023-01-27T03:27:54.317Z"
    }
   },
   "outputs": [
    {
     "data": {
      "text/plain": [
       "1"
      ]
     },
     "execution_count": 266,
     "metadata": {},
     "output_type": "execute_result"
    }
   ],
   "source": [
    "first(nt)"
   ]
  },
  {
   "cell_type": "code",
   "execution_count": 267,
   "id": "3a3f2498-20c2-46e2-b53d-1cfb98778c48",
   "metadata": {
    "ExecuteTime": {
     "end_time": "2023-01-27T12:28:14.993000+09:00",
     "start_time": "2023-01-27T03:27:54.322Z"
    }
   },
   "outputs": [
    {
     "data": {
      "text/plain": [
       "3"
      ]
     },
     "execution_count": 267,
     "metadata": {},
     "output_type": "execute_result"
    }
   ],
   "source": [
    "last(nt)"
   ]
  },
  {
   "cell_type": "code",
   "execution_count": 268,
   "id": "e4c75d10-1ace-4023-a0d8-ae41f2a62c40",
   "metadata": {
    "ExecuteTime": {
     "end_time": "2023-01-27T12:28:15.256000+09:00",
     "start_time": "2023-01-27T03:27:54.328Z"
    }
   },
   "outputs": [
    {
     "data": {
      "text/plain": [
       "(a = 1, b = 2)"
      ]
     },
     "execution_count": 268,
     "metadata": {},
     "output_type": "execute_result"
    }
   ],
   "source": [
    "Base.front(nt)"
   ]
  },
  {
   "cell_type": "code",
   "execution_count": 269,
   "id": "54cea2d2-1cf5-429c-9c35-a5d448037727",
   "metadata": {
    "ExecuteTime": {
     "end_time": "2023-01-27T12:28:15.468000+09:00",
     "start_time": "2023-01-27T03:27:54.333Z"
    },
    "scrolled": false
   },
   "outputs": [
    {
     "data": {
      "text/plain": [
       "(b = 2, c = 3)"
      ]
     },
     "execution_count": 269,
     "metadata": {},
     "output_type": "execute_result"
    }
   ],
   "source": [
    "Base.tail(nt)"
   ]
  },
  {
   "cell_type": "markdown",
   "id": "42a8d1fe-0074-4009-894d-0e390994058f",
   "metadata": {},
   "source": [
    "##### コード3-41. 名前付きタプル関連関数(2)"
   ]
  },
  {
   "cell_type": "code",
   "execution_count": 270,
   "id": "52607dc4-9e96-4995-8f3a-ffea4def4a49",
   "metadata": {
    "ExecuteTime": {
     "end_time": "2023-01-27T12:28:15.473000+09:00",
     "start_time": "2023-01-27T03:27:54.339Z"
    }
   },
   "outputs": [],
   "source": [
    "nt = (c='a', i=2, f=99.9, π);"
   ]
  },
  {
   "cell_type": "code",
   "execution_count": 271,
   "id": "13132bb0-7990-42e9-8c60-55c276939724",
   "metadata": {
    "ExecuteTime": {
     "end_time": "2023-01-27T12:28:15.689000+09:00",
     "start_time": "2023-01-27T03:27:54.344Z"
    }
   },
   "outputs": [
    {
     "data": {
      "text/plain": [
       "(:c, :i, :f, :π)"
      ]
     },
     "execution_count": 271,
     "metadata": {},
     "output_type": "execute_result"
    }
   ],
   "source": [
    "keys(nt)"
   ]
  },
  {
   "cell_type": "code",
   "execution_count": 272,
   "id": "caccec0c-9f93-485b-9f08-4aee4bf34085",
   "metadata": {
    "ExecuteTime": {
     "end_time": "2023-01-27T12:28:15.950000+09:00",
     "start_time": "2023-01-27T03:27:54.350Z"
    }
   },
   "outputs": [
    {
     "data": {
      "text/plain": [
       "('a', 2, 99.9, π)"
      ]
     },
     "execution_count": 272,
     "metadata": {},
     "output_type": "execute_result"
    }
   ],
   "source": [
    "values(nt)"
   ]
  },
  {
   "cell_type": "code",
   "execution_count": 273,
   "id": "9bd82364-d6b5-4979-8ab8-31862e8da176",
   "metadata": {
    "ExecuteTime": {
     "end_time": "2023-01-27T12:28:15.954000+09:00",
     "start_time": "2023-01-27T03:27:54.355Z"
    }
   },
   "outputs": [
    {
     "data": {
      "text/plain": [
       "false"
      ]
     },
     "execution_count": 273,
     "metadata": {},
     "output_type": "execute_result"
    }
   ],
   "source": [
    "haskey(nt, :a)"
   ]
  },
  {
   "cell_type": "code",
   "execution_count": 274,
   "id": "95aecb0c-1c4b-43c4-8a97-1694c75a9e85",
   "metadata": {
    "ExecuteTime": {
     "end_time": "2023-01-27T12:28:15.959000+09:00",
     "start_time": "2023-01-27T03:27:54.360Z"
    }
   },
   "outputs": [
    {
     "data": {
      "text/plain": [
       "true"
      ]
     },
     "execution_count": 274,
     "metadata": {},
     "output_type": "execute_result"
    }
   ],
   "source": [
    "haskey(nt, 3)"
   ]
  },
  {
   "cell_type": "code",
   "execution_count": 275,
   "id": "6bbca3cb-bcad-4e29-9fdb-c509964a2cdd",
   "metadata": {
    "ExecuteTime": {
     "end_time": "2023-01-27T12:28:15.964000+09:00",
     "start_time": "2023-01-27T03:27:54.365Z"
    }
   },
   "outputs": [
    {
     "data": {
      "text/plain": [
       "'a': ASCII/Unicode U+0061 (category Ll: Letter, lowercase)"
      ]
     },
     "execution_count": 275,
     "metadata": {},
     "output_type": "execute_result"
    }
   ],
   "source": [
    "get(nt, :c, 'X')"
   ]
  },
  {
   "cell_type": "code",
   "execution_count": 276,
   "id": "88b1bf9c-595f-47e6-baa3-77cbdf7372c0",
   "metadata": {
    "ExecuteTime": {
     "end_time": "2023-01-27T12:28:15.970000+09:00",
     "start_time": "2023-01-27T03:27:54.371Z"
    }
   },
   "outputs": [
    {
     "data": {
      "text/plain": [
       "\"デフォルト値\""
      ]
     },
     "execution_count": 276,
     "metadata": {},
     "output_type": "execute_result"
    }
   ],
   "source": [
    "get(nt, 99, \"デフォルト値\")"
   ]
  },
  {
   "cell_type": "code",
   "execution_count": 277,
   "id": "c998aa2a-324b-480d-8b41-cf4e9be9f53f",
   "metadata": {
    "ExecuteTime": {
     "end_time": "2023-01-27T12:28:15.978000+09:00",
     "start_time": "2023-01-27T03:27:54.376Z"
    }
   },
   "outputs": [
    {
     "data": {
      "text/plain": [
       "0.7517496634926447"
      ]
     },
     "execution_count": 277,
     "metadata": {},
     "output_type": "execute_result"
    }
   ],
   "source": [
    "get(nt, :x) do\n",
    "    rand()\n",
    "end"
   ]
  },
  {
   "cell_type": "code",
   "execution_count": 278,
   "id": "3db6722e-c947-49b9-bb0a-f49ef70ab371",
   "metadata": {
    "ExecuteTime": {
     "end_time": "2023-01-27T12:28:15.979000+09:00",
     "start_time": "2023-01-27T03:27:54.381Z"
    }
   },
   "outputs": [
    {
     "data": {
      "text/plain": [
       "\"あいう\""
      ]
     },
     "execution_count": 278,
     "metadata": {},
     "output_type": "execute_result"
    }
   ],
   "source": [
    "s = \"あいう\""
   ]
  },
  {
   "cell_type": "code",
   "execution_count": 279,
   "id": "5cfc731f-da99-4ff7-8a02-f989e253beb3",
   "metadata": {
    "ExecuteTime": {
     "end_time": "2023-01-27T12:28:16.306000+09:00",
     "start_time": "2023-01-27T03:27:54.387Z"
    }
   },
   "outputs": [
    {
     "data": {
      "text/plain": [
       "(c = 'a', i = 2, f = 99.9, π = π, a = 1, b = 2, s = \"あいう\")"
      ]
     },
     "execution_count": 279,
     "metadata": {},
     "output_type": "execute_result"
    }
   ],
   "source": [
    "merge(nt, (a=1, b=2, s))"
   ]
  },
  {
   "cell_type": "code",
   "execution_count": 280,
   "id": "85b4863a-5007-4afb-8a0e-6c85fe655367",
   "metadata": {
    "ExecuteTime": {
     "end_time": "2023-01-27T12:28:16.626000+09:00",
     "start_time": "2023-01-27T03:27:54.392Z"
    }
   },
   "outputs": [
    {
     "data": {
      "text/plain": [
       "(c = 3, i = 2, f = 99.9, π = π, a = 1, b = 2, d = 4, e = 5)"
      ]
     },
     "execution_count": 280,
     "metadata": {},
     "output_type": "execute_result"
    }
   ],
   "source": [
    "merge(nt, [:a=>1, :b=>2, :c=>3, :d=>4, :e=>5])"
   ]
  },
  {
   "cell_type": "markdown",
   "id": "e0276bf4-a3e7-4a12-90c6-2bfc4e2507a6",
   "metadata": {},
   "source": [
    "### 3-1-9. その他「あると便利」がある関数"
   ]
  },
  {
   "cell_type": "markdown",
   "id": "d2c0f0f2-0340-40e2-9e1a-5f14400091a2",
   "metadata": {},
   "source": [
    "### 3-1-10. 演算子は関数"
   ]
  },
  {
   "cell_type": "markdown",
   "id": "02bf3e72-48f9-46fb-a824-4fdc86bf63b0",
   "metadata": {},
   "source": [
    "#### コード3-42. `+` 演算子の関数としての利用例"
   ]
  },
  {
   "cell_type": "code",
   "execution_count": 281,
   "id": "8b47797d-5fea-468b-9c3b-cf8d8b4ba1b9",
   "metadata": {
    "ExecuteTime": {
     "end_time": "2023-01-27T12:28:16.629000+09:00",
     "start_time": "2023-01-27T03:27:54.401Z"
    }
   },
   "outputs": [
    {
     "data": {
      "text/plain": [
       "1"
      ]
     },
     "execution_count": 281,
     "metadata": {},
     "output_type": "execute_result"
    }
   ],
   "source": [
    "+(1)  # == `+1`"
   ]
  },
  {
   "cell_type": "code",
   "execution_count": 282,
   "id": "bf805c3d-4dfd-45ac-9211-1c2c705ca1db",
   "metadata": {
    "ExecuteTime": {
     "end_time": "2023-01-27T12:28:16.629000+09:00",
     "start_time": "2023-01-27T03:27:54.407Z"
    }
   },
   "outputs": [
    {
     "data": {
      "text/plain": [
       "3"
      ]
     },
     "execution_count": 282,
     "metadata": {},
     "output_type": "execute_result"
    }
   ],
   "source": [
    "+(1, 2)  # == `1 + 2`"
   ]
  },
  {
   "cell_type": "code",
   "execution_count": 283,
   "id": "22ec342b-8c0e-4627-9da6-acb80b4f4b9a",
   "metadata": {
    "ExecuteTime": {
     "end_time": "2023-01-27T12:28:16.630000+09:00",
     "start_time": "2023-01-27T03:27:54.412Z"
    }
   },
   "outputs": [
    {
     "data": {
      "text/plain": [
       "6"
      ]
     },
     "execution_count": 283,
     "metadata": {},
     "output_type": "execute_result"
    }
   ],
   "source": [
    "+(1, 2, 3)  # == `1 + 2 + 3`"
   ]
  },
  {
   "cell_type": "code",
   "execution_count": 284,
   "id": "5c597b15-8510-4510-9f14-a85b17026511",
   "metadata": {
    "ExecuteTime": {
     "end_time": "2023-01-27T12:28:16.630000+09:00",
     "start_time": "2023-01-27T03:27:54.417Z"
    }
   },
   "outputs": [
    {
     "data": {
      "text/plain": [
       "10"
      ]
     },
     "execution_count": 284,
     "metadata": {},
     "output_type": "execute_result"
    }
   ],
   "source": [
    "+(1, 2, 3, 4)  # == `1 + 2 + 3 + 4`"
   ]
  },
  {
   "cell_type": "code",
   "execution_count": 285,
   "id": "ba7052ae-6870-4a0b-abea-2a6e77664522",
   "metadata": {
    "ExecuteTime": {
     "end_time": "2023-01-27T12:28:16.634000+09:00",
     "start_time": "2023-01-27T03:27:54.422Z"
    }
   },
   "outputs": [
    {
     "data": {
      "text/plain": [
       "15"
      ]
     },
     "execution_count": 285,
     "metadata": {},
     "output_type": "execute_result"
    }
   ],
   "source": [
    "+(1, 2, 3, 4 ,5)  # == `1 + 2 + 3 + 4 + 5`"
   ]
  },
  {
   "cell_type": "markdown",
   "id": "f04a558c-ccab-43f7-a17b-1e9f9e7a178e",
   "metadata": {},
   "source": [
    "#### コード3-43. `÷` 演算子の関数としての利用例（再）"
   ]
  },
  {
   "cell_type": "code",
   "execution_count": 286,
   "id": "156f92ec-ec17-4e17-b67e-d34bc8996ee5",
   "metadata": {
    "ExecuteTime": {
     "end_time": "2023-01-27T12:28:16.634000+09:00",
     "start_time": "2023-01-27T03:27:54.429Z"
    }
   },
   "outputs": [
    {
     "data": {
      "text/plain": [
       "2"
      ]
     },
     "execution_count": 286,
     "metadata": {},
     "output_type": "execute_result"
    }
   ],
   "source": [
    "÷(5, 2)"
   ]
  },
  {
   "cell_type": "code",
   "execution_count": 287,
   "id": "4491a9ff-5487-4099-bc14-29aeea0ee349",
   "metadata": {
    "ExecuteTime": {
     "end_time": "2023-01-27T12:28:16.635000+09:00",
     "start_time": "2023-01-27T03:27:54.434Z"
    }
   },
   "outputs": [
    {
     "data": {
      "text/plain": [
       "2"
      ]
     },
     "execution_count": 287,
     "metadata": {},
     "output_type": "execute_result"
    }
   ],
   "source": [
    "÷(5, 2, RoundDown)"
   ]
  },
  {
   "cell_type": "code",
   "execution_count": 288,
   "id": "ffebc197-b2c8-42a2-93c4-9134da6a884f",
   "metadata": {
    "ExecuteTime": {
     "end_time": "2023-01-27T12:28:16.639000+09:00",
     "start_time": "2023-01-27T03:27:54.440Z"
    }
   },
   "outputs": [
    {
     "data": {
      "text/plain": [
       "3"
      ]
     },
     "execution_count": 288,
     "metadata": {},
     "output_type": "execute_result"
    }
   ],
   "source": [
    "÷(5, 2, RoundUp)"
   ]
  },
  {
   "cell_type": "code",
   "execution_count": 289,
   "id": "0e79513d-e492-4451-99b0-34a43d7641da",
   "metadata": {
    "ExecuteTime": {
     "end_time": "2023-01-27T12:28:16.639000+09:00",
     "start_time": "2023-01-27T03:27:54.445Z"
    }
   },
   "outputs": [
    {
     "data": {
      "text/plain": [
       "2"
      ]
     },
     "execution_count": 289,
     "metadata": {},
     "output_type": "execute_result"
    }
   ],
   "source": [
    "÷(5, 2, RoundNearest)"
   ]
  },
  {
   "cell_type": "code",
   "execution_count": 290,
   "id": "63671fd8-53ec-426f-8f40-8a6a4d8408de",
   "metadata": {
    "ExecuteTime": {
     "end_time": "2023-01-27T12:28:16.650000+09:00",
     "start_time": "2023-01-27T03:27:54.451Z"
    }
   },
   "outputs": [
    {
     "data": {
      "text/plain": [
       "3"
      ]
     },
     "execution_count": 290,
     "metadata": {},
     "output_type": "execute_result"
    }
   ],
   "source": [
    "÷(5, 2, RoundNearestTiesUp)"
   ]
  },
  {
   "cell_type": "markdown",
   "id": "68c21338-ac2c-4bb5-905b-f281cb12ddbc",
   "metadata": {},
   "source": [
    "#### コード3-44. `≈` 演算子のヘルプ"
   ]
  },
  {
   "cell_type": "code",
   "execution_count": 291,
   "id": "6fde7fc2-1efd-4201-899c-f93196b1df09",
   "metadata": {
    "ExecuteTime": {
     "end_time": "2023-01-27T12:28:17.892000+09:00",
     "start_time": "2023-01-27T03:27:54.457Z"
    }
   },
   "outputs": [
    {
     "name": "stdout",
     "output_type": "stream",
     "text": [
      "\"\u001b[36m≈\u001b[39m\" can be typed by \u001b[36m\\approx<tab>\u001b[39m\n",
      "\n",
      "search: \u001b[0m\u001b[1m≈\u001b[22m\n",
      "\n"
     ]
    },
    {
     "data": {
      "text/latex": [
       "\\begin{verbatim}\n",
       "isapprox(x, y; atol::Real=0, rtol::Real=atol>0 ? 0 : √eps, nans::Bool=false[, norm::Function])\n",
       "\\end{verbatim}\n",
       "Inexact equality comparison. Two numbers compare equal if their relative distance \\emph{or} their absolute distance is within tolerance bounds: \\texttt{isapprox} returns \\texttt{true} if \\texttt{norm(x-y) <= max(atol, rtol*max(norm(x), norm(y)))}. The default \\texttt{atol} is zero and the default \\texttt{rtol} depends on the types of \\texttt{x} and \\texttt{y}. The keyword argument \\texttt{nans} determines whether or not NaN values are considered equal (defaults to false).\n",
       "\n",
       "For real or complex floating-point values, if an \\texttt{atol > 0} is not specified, \\texttt{rtol} defaults to the square root of \\href{@ref}{\\texttt{eps}} of the type of \\texttt{x} or \\texttt{y}, whichever is bigger (least precise). This corresponds to requiring equality of about half of the significant digits. Otherwise, e.g. for integer arguments or if an \\texttt{atol > 0} is supplied, \\texttt{rtol} defaults to zero.\n",
       "\n",
       "The \\texttt{norm} keyword defaults to \\texttt{abs} for numeric \\texttt{(x,y)} and to \\texttt{LinearAlgebra.norm} for arrays (where an alternative \\texttt{norm} choice is sometimes useful). When \\texttt{x} and \\texttt{y} are arrays, if \\texttt{norm(x-y)} is not finite (i.e. \\texttt{±Inf} or \\texttt{NaN}), the comparison falls back to checking whether all elements of \\texttt{x} and \\texttt{y} are approximately equal component-wise.\n",
       "\n",
       "The binary operator \\texttt{≈} is equivalent to \\texttt{isapprox} with the default arguments, and \\texttt{x ≉ y} is equivalent to \\texttt{!isapprox(x,y)}.\n",
       "\n",
       "Note that \\texttt{x ≈ 0} (i.e., comparing to zero with the default tolerances) is equivalent to \\texttt{x == 0} since the default \\texttt{atol} is \\texttt{0}.  In such cases, you should either supply an appropriate \\texttt{atol} (or use \\texttt{norm(x) ≤ atol}) or rearrange your code (e.g. use \\texttt{x ≈ y} rather than \\texttt{x - y ≈ 0}).   It is not possible to pick a nonzero \\texttt{atol} automatically because it depends on the overall scaling (the \"units\") of your problem: for example, in \\texttt{x - y ≈ 0}, \\texttt{atol=1e-9} is an absurdly small tolerance if \\texttt{x} is the \\href{https://en.wikipedia.org/wiki/Earth_radius}{radius of the Earth} in meters, but an absurdly large tolerance if \\texttt{x} is the \\href{https://en.wikipedia.org/wiki/Bohr_radius}{radius of a Hydrogen atom} in meters.\n",
       "\n",
       "\\begin{quote}\n",
       "\\textbf{compat}\n",
       "\n",
       "Julia 1.6\n",
       "\n",
       "Passing the \\texttt{norm} keyword argument when comparing numeric (non-array) arguments requires Julia 1.6 or later.\n",
       "\n",
       "\\end{quote}\n",
       "\\section{Examples}\n",
       "\\begin{verbatim}\n",
       "julia> isapprox(0.1, 0.15; atol=0.05)\n",
       "true\n",
       "\n",
       "julia> isapprox(0.1, 0.15; rtol=0.34)\n",
       "true\n",
       "\n",
       "julia> isapprox(0.1, 0.15; rtol=0.33)\n",
       "false\n",
       "\n",
       "julia> 0.1 + 1e-10 ≈ 0.1\n",
       "true\n",
       "\n",
       "julia> 1e-10 ≈ 0\n",
       "false\n",
       "\n",
       "julia> isapprox(1e-10, 0, atol=1e-8)\n",
       "true\n",
       "\n",
       "julia> isapprox([10.0^9, 1.0], [10.0^9, 2.0]) # using `norm`\n",
       "true\n",
       "\\end{verbatim}\n",
       "\\rule{\\textwidth}{1pt}\n",
       "\\begin{verbatim}\n",
       "isapprox(x; kwargs...) / ≈(x; kwargs...)\n",
       "\\end{verbatim}\n",
       "Create a function that compares its argument to \\texttt{x} using \\texttt{≈}, i.e. a function equivalent to \\texttt{y -> y ≈ x}.\n",
       "\n",
       "The keyword arguments supported here are the same as those in the 2-argument \\texttt{isapprox}.\n",
       "\n",
       "\\begin{quote}\n",
       "\\textbf{compat}\n",
       "\n",
       "Julia 1.5\n",
       "\n",
       "This method requires Julia 1.5 or later.\n",
       "\n",
       "\\end{quote}\n"
      ],
      "text/markdown": [
       "```\n",
       "isapprox(x, y; atol::Real=0, rtol::Real=atol>0 ? 0 : √eps, nans::Bool=false[, norm::Function])\n",
       "```\n",
       "\n",
       "Inexact equality comparison. Two numbers compare equal if their relative distance *or* their absolute distance is within tolerance bounds: `isapprox` returns `true` if `norm(x-y) <= max(atol, rtol*max(norm(x), norm(y)))`. The default `atol` is zero and the default `rtol` depends on the types of `x` and `y`. The keyword argument `nans` determines whether or not NaN values are considered equal (defaults to false).\n",
       "\n",
       "For real or complex floating-point values, if an `atol > 0` is not specified, `rtol` defaults to the square root of [`eps`](@ref) of the type of `x` or `y`, whichever is bigger (least precise). This corresponds to requiring equality of about half of the significant digits. Otherwise, e.g. for integer arguments or if an `atol > 0` is supplied, `rtol` defaults to zero.\n",
       "\n",
       "The `norm` keyword defaults to `abs` for numeric `(x,y)` and to `LinearAlgebra.norm` for arrays (where an alternative `norm` choice is sometimes useful). When `x` and `y` are arrays, if `norm(x-y)` is not finite (i.e. `±Inf` or `NaN`), the comparison falls back to checking whether all elements of `x` and `y` are approximately equal component-wise.\n",
       "\n",
       "The binary operator `≈` is equivalent to `isapprox` with the default arguments, and `x ≉ y` is equivalent to `!isapprox(x,y)`.\n",
       "\n",
       "Note that `x ≈ 0` (i.e., comparing to zero with the default tolerances) is equivalent to `x == 0` since the default `atol` is `0`.  In such cases, you should either supply an appropriate `atol` (or use `norm(x) ≤ atol`) or rearrange your code (e.g. use `x ≈ y` rather than `x - y ≈ 0`).   It is not possible to pick a nonzero `atol` automatically because it depends on the overall scaling (the \"units\") of your problem: for example, in `x - y ≈ 0`, `atol=1e-9` is an absurdly small tolerance if `x` is the [radius of the Earth](https://en.wikipedia.org/wiki/Earth_radius) in meters, but an absurdly large tolerance if `x` is the [radius of a Hydrogen atom](https://en.wikipedia.org/wiki/Bohr_radius) in meters.\n",
       "\n",
       "!!! compat \"Julia 1.6\"\n",
       "    Passing the `norm` keyword argument when comparing numeric (non-array) arguments requires Julia 1.6 or later.\n",
       "\n",
       "\n",
       "# Examples\n",
       "\n",
       "```jldoctest\n",
       "julia> isapprox(0.1, 0.15; atol=0.05)\n",
       "true\n",
       "\n",
       "julia> isapprox(0.1, 0.15; rtol=0.34)\n",
       "true\n",
       "\n",
       "julia> isapprox(0.1, 0.15; rtol=0.33)\n",
       "false\n",
       "\n",
       "julia> 0.1 + 1e-10 ≈ 0.1\n",
       "true\n",
       "\n",
       "julia> 1e-10 ≈ 0\n",
       "false\n",
       "\n",
       "julia> isapprox(1e-10, 0, atol=1e-8)\n",
       "true\n",
       "\n",
       "julia> isapprox([10.0^9, 1.0], [10.0^9, 2.0]) # using `norm`\n",
       "true\n",
       "```\n",
       "\n",
       "---\n",
       "\n",
       "```\n",
       "isapprox(x; kwargs...) / ≈(x; kwargs...)\n",
       "```\n",
       "\n",
       "Create a function that compares its argument to `x` using `≈`, i.e. a function equivalent to `y -> y ≈ x`.\n",
       "\n",
       "The keyword arguments supported here are the same as those in the 2-argument `isapprox`.\n",
       "\n",
       "!!! compat \"Julia 1.5\"\n",
       "    This method requires Julia 1.5 or later.\n",
       "\n"
      ],
      "text/plain": [
       "\u001b[36m  isapprox(x, y; atol::Real=0, rtol::Real=atol>0 ? 0 : √eps, nans::Bool=false[, norm::Function])\u001b[39m\n",
       "\n",
       "  Inexact equality comparison. Two numbers compare equal if their relative\n",
       "  distance \u001b[4mor\u001b[24m their absolute distance is within tolerance bounds: \u001b[36misapprox\u001b[39m\n",
       "  returns \u001b[36mtrue\u001b[39m if \u001b[36mnorm(x-y) <= max(atol, rtol*max(norm(x), norm(y)))\u001b[39m. The\n",
       "  default \u001b[36matol\u001b[39m is zero and the default \u001b[36mrtol\u001b[39m depends on the types of \u001b[36mx\u001b[39m and \u001b[36my\u001b[39m.\n",
       "  The keyword argument \u001b[36mnans\u001b[39m determines whether or not NaN values are\n",
       "  considered equal (defaults to false).\n",
       "\n",
       "  For real or complex floating-point values, if an \u001b[36matol > 0\u001b[39m is not specified,\n",
       "  \u001b[36mrtol\u001b[39m defaults to the square root of \u001b[36meps\u001b[39m of the type of \u001b[36mx\u001b[39m or \u001b[36my\u001b[39m, whichever is\n",
       "  bigger (least precise). This corresponds to requiring equality of about half\n",
       "  of the significant digits. Otherwise, e.g. for integer arguments or if an\n",
       "  \u001b[36matol > 0\u001b[39m is supplied, \u001b[36mrtol\u001b[39m defaults to zero.\n",
       "\n",
       "  The \u001b[36mnorm\u001b[39m keyword defaults to \u001b[36mabs\u001b[39m for numeric \u001b[36m(x,y)\u001b[39m and to \u001b[36mLinearAlgebra.norm\u001b[39m\n",
       "  for arrays (where an alternative \u001b[36mnorm\u001b[39m choice is sometimes useful). When \u001b[36mx\u001b[39m\n",
       "  and \u001b[36my\u001b[39m are arrays, if \u001b[36mnorm(x-y)\u001b[39m is not finite (i.e. \u001b[36m±Inf\u001b[39m or \u001b[36mNaN\u001b[39m), the\n",
       "  comparison falls back to checking whether all elements of \u001b[36mx\u001b[39m and \u001b[36my\u001b[39m are\n",
       "  approximately equal component-wise.\n",
       "\n",
       "  The binary operator \u001b[36m≈\u001b[39m is equivalent to \u001b[36misapprox\u001b[39m with the default arguments,\n",
       "  and \u001b[36mx ≉ y\u001b[39m is equivalent to \u001b[36m!isapprox(x,y)\u001b[39m.\n",
       "\n",
       "  Note that \u001b[36mx ≈ 0\u001b[39m (i.e., comparing to zero with the default tolerances) is\n",
       "  equivalent to \u001b[36mx == 0\u001b[39m since the default \u001b[36matol\u001b[39m is \u001b[36m0\u001b[39m. In such cases, you should\n",
       "  either supply an appropriate \u001b[36matol\u001b[39m (or use \u001b[36mnorm(x) ≤ atol\u001b[39m) or rearrange your\n",
       "  code (e.g. use \u001b[36mx ≈ y\u001b[39m rather than \u001b[36mx - y ≈ 0\u001b[39m). It is not possible to pick a\n",
       "  nonzero \u001b[36matol\u001b[39m automatically because it depends on the overall scaling (the\n",
       "  \"units\") of your problem: for example, in \u001b[36mx - y ≈ 0\u001b[39m, \u001b[36matol=1e-9\u001b[39m is an\n",
       "  absurdly small tolerance if \u001b[36mx\u001b[39m is the radius of the Earth\n",
       "  (https://en.wikipedia.org/wiki/Earth_radius) in meters, but an absurdly\n",
       "  large tolerance if \u001b[36mx\u001b[39m is the radius of a Hydrogen atom\n",
       "  (https://en.wikipedia.org/wiki/Bohr_radius) in meters.\n",
       "\n",
       "\u001b[39m\u001b[1m  │ \u001b[22m\u001b[39m\u001b[1mJulia 1.6\u001b[22m\n",
       "\u001b[39m\u001b[1m  │\u001b[22m\n",
       "\u001b[39m\u001b[1m  │\u001b[22m  Passing the \u001b[36mnorm\u001b[39m keyword argument when comparing numeric\n",
       "\u001b[39m\u001b[1m  │\u001b[22m  (non-array) arguments requires Julia 1.6 or later.\n",
       "\n",
       "\u001b[1m  Examples\u001b[22m\n",
       "\u001b[1m  ≡≡≡≡≡≡≡≡≡≡\u001b[22m\n",
       "\n",
       "\u001b[36m  julia> isapprox(0.1, 0.15; atol=0.05)\u001b[39m\n",
       "\u001b[36m  true\u001b[39m\n",
       "\u001b[36m  \u001b[39m\n",
       "\u001b[36m  julia> isapprox(0.1, 0.15; rtol=0.34)\u001b[39m\n",
       "\u001b[36m  true\u001b[39m\n",
       "\u001b[36m  \u001b[39m\n",
       "\u001b[36m  julia> isapprox(0.1, 0.15; rtol=0.33)\u001b[39m\n",
       "\u001b[36m  false\u001b[39m\n",
       "\u001b[36m  \u001b[39m\n",
       "\u001b[36m  julia> 0.1 + 1e-10 ≈ 0.1\u001b[39m\n",
       "\u001b[36m  true\u001b[39m\n",
       "\u001b[36m  \u001b[39m\n",
       "\u001b[36m  julia> 1e-10 ≈ 0\u001b[39m\n",
       "\u001b[36m  false\u001b[39m\n",
       "\u001b[36m  \u001b[39m\n",
       "\u001b[36m  julia> isapprox(1e-10, 0, atol=1e-8)\u001b[39m\n",
       "\u001b[36m  true\u001b[39m\n",
       "\u001b[36m  \u001b[39m\n",
       "\u001b[36m  julia> isapprox([10.0^9, 1.0], [10.0^9, 2.0]) # using `norm`\u001b[39m\n",
       "\u001b[36m  true\u001b[39m\n",
       "\n",
       "  ────────────────────────────────────────────────────────────────────────────\n",
       "\n",
       "\u001b[36m  isapprox(x; kwargs...) / ≈(x; kwargs...)\u001b[39m\n",
       "\n",
       "  Create a function that compares its argument to \u001b[36mx\u001b[39m using \u001b[36m≈\u001b[39m, i.e. a function\n",
       "  equivalent to \u001b[36my -> y ≈ x\u001b[39m.\n",
       "\n",
       "  The keyword arguments supported here are the same as those in the 2-argument\n",
       "  \u001b[36misapprox\u001b[39m.\n",
       "\n",
       "\u001b[39m\u001b[1m  │ \u001b[22m\u001b[39m\u001b[1mJulia 1.5\u001b[22m\n",
       "\u001b[39m\u001b[1m  │\u001b[22m\n",
       "\u001b[39m\u001b[1m  │\u001b[22m  This method requires Julia 1.5 or later."
      ]
     },
     "execution_count": 291,
     "metadata": {},
     "output_type": "execute_result"
    }
   ],
   "source": [
    "?≈"
   ]
  },
  {
   "cell_type": "markdown",
   "id": "8155907a-b570-468b-ba24-c51ab21673b4",
   "metadata": {},
   "source": [
    "#### コード3-45. `≈` 演算子の関数としての利用例"
   ]
  },
  {
   "cell_type": "code",
   "execution_count": 292,
   "id": "60b8b8a4-1910-4348-827a-7e3c8ea4bfa4",
   "metadata": {
    "ExecuteTime": {
     "end_time": "2023-01-27T12:28:17.893000+09:00",
     "start_time": "2023-01-27T03:27:54.464Z"
    }
   },
   "outputs": [
    {
     "data": {
      "text/plain": [
       "1.0e-10"
      ]
     },
     "execution_count": 292,
     "metadata": {},
     "output_type": "execute_result"
    }
   ],
   "source": [
    "v = 1.0e-10"
   ]
  },
  {
   "cell_type": "code",
   "execution_count": 293,
   "id": "2ef93c02-775d-473d-b46d-3967168fa740",
   "metadata": {
    "ExecuteTime": {
     "end_time": "2023-01-27T12:28:17.903000+09:00",
     "start_time": "2023-01-27T03:27:54.469Z"
    }
   },
   "outputs": [
    {
     "data": {
      "text/plain": [
       "false"
      ]
     },
     "execution_count": 293,
     "metadata": {},
     "output_type": "execute_result"
    }
   ],
   "source": [
    "v ≈ 0.0"
   ]
  },
  {
   "cell_type": "code",
   "execution_count": 294,
   "id": "c788bf4c-c7fc-4af1-982a-2d9db403da54",
   "metadata": {
    "ExecuteTime": {
     "end_time": "2023-01-27T12:28:17.915000+09:00",
     "start_time": "2023-01-27T03:27:54.474Z"
    }
   },
   "outputs": [
    {
     "data": {
      "text/plain": [
       "true"
      ]
     },
     "execution_count": 294,
     "metadata": {},
     "output_type": "execute_result"
    }
   ],
   "source": [
    "≈(v, 0.0, atol=1e-8)"
   ]
  },
  {
   "cell_type": "markdown",
   "id": "4d10c627-c34e-4924-8533-a40fc8e9fde0",
   "metadata": {},
   "source": [
    "#### コード3-46. 比較演算子で作る述語関数(1)：`∈` 演算子の使用例"
   ]
  },
  {
   "cell_type": "code",
   "execution_count": 295,
   "id": "5c295aa1-709f-45ad-a40f-cb6142b04892",
   "metadata": {
    "ExecuteTime": {
     "end_time": "2023-01-27T12:28:17.919000+09:00",
     "start_time": "2023-01-27T03:27:54.481Z"
    }
   },
   "outputs": [],
   "source": [
    "is1to10 = ∈(1:10);"
   ]
  },
  {
   "cell_type": "code",
   "execution_count": 296,
   "id": "3e349e85-a460-4973-b6a2-4a8af5bc8655",
   "metadata": {
    "ExecuteTime": {
     "end_time": "2023-01-27T12:28:17.922000+09:00",
     "start_time": "2023-01-27T03:27:54.486Z"
    }
   },
   "outputs": [
    {
     "data": {
      "text/plain": [
       "true"
      ]
     },
     "execution_count": 296,
     "metadata": {},
     "output_type": "execute_result"
    }
   ],
   "source": [
    "is1to10(3)"
   ]
  },
  {
   "cell_type": "code",
   "execution_count": 297,
   "id": "71ad3ab2-1882-478b-8e97-dda971013907",
   "metadata": {
    "ExecuteTime": {
     "end_time": "2023-01-27T12:28:17.922000+09:00",
     "start_time": "2023-01-27T03:27:54.492Z"
    }
   },
   "outputs": [
    {
     "data": {
      "text/plain": [
       "false"
      ]
     },
     "execution_count": 297,
     "metadata": {},
     "output_type": "execute_result"
    }
   ],
   "source": [
    "is1to10(12)"
   ]
  },
  {
   "cell_type": "markdown",
   "id": "d79e642e-d323-4792-bb9c-3242f3c21aa4",
   "metadata": {},
   "source": [
    "#### コード3-47. 比較演算子で作る述語関数(2)：`≈` 演算子の使用例"
   ]
  },
  {
   "cell_type": "code",
   "execution_count": 298,
   "id": "b0e8ba8c-8991-4177-bf76-4157d8d10802",
   "metadata": {
    "ExecuteTime": {
     "end_time": "2023-01-27T12:28:17.927000+09:00",
     "start_time": "2023-01-27T03:27:54.510Z"
    }
   },
   "outputs": [],
   "source": [
    "isalmost0 = ≈(0.0, atol=1e-8);"
   ]
  },
  {
   "cell_type": "code",
   "execution_count": 299,
   "id": "95c29550-ff71-4eb0-bc2b-4c022367e774",
   "metadata": {
    "ExecuteTime": {
     "end_time": "2023-01-27T12:28:17.933000+09:00",
     "start_time": "2023-01-27T03:27:54.515Z"
    }
   },
   "outputs": [
    {
     "data": {
      "text/plain": [
       "true"
      ]
     },
     "execution_count": 299,
     "metadata": {},
     "output_type": "execute_result"
    }
   ],
   "source": [
    "isalmost0(1.0e-10)"
   ]
  }
 ],
 "metadata": {
  "jupytext": {
   "formats": "ipynb,auto:light"
  },
  "kernelspec": {
   "display_name": "Julia 1.8.5",
   "language": "julia",
   "name": "julia-1.8"
  },
  "language_info": {
   "file_extension": ".jl",
   "mimetype": "application/julia",
   "name": "julia",
   "version": "1.8.5"
  }
 },
 "nbformat": 4,
 "nbformat_minor": 5
}
